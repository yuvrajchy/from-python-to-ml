{
  "cells": [
    {
      "cell_type": "code",
      "execution_count": null,
      "id": "7bf557a6-57f9-4e24-be43-9bc25b14f4ab",
      "metadata": {
        "id": "7bf557a6-57f9-4e24-be43-9bc25b14f4ab"
      },
      "outputs": [],
      "source": [
        "import numpy as np"
      ]
    },
    {
      "cell_type": "code",
      "execution_count": null,
      "id": "2d32fcd0-755e-4e4b-8a4c-4f63f17df955",
      "metadata": {
        "id": "2d32fcd0-755e-4e4b-8a4c-4f63f17df955"
      },
      "outputs": [],
      "source": [
        "arr1 = np.random.randint(1, 3, (3, 3))\n",
        "arr2 = np.random.randint(1, 3, (3, 3))"
      ]
    },
    {
      "cell_type": "code",
      "execution_count": null,
      "id": "8855656d-8adc-48e8-a6ca-0f58af9850ba",
      "metadata": {
        "id": "8855656d-8adc-48e8-a6ca-0f58af9850ba",
        "outputId": "e0b00db9-30ce-4ab6-9767-9927f3ec179b"
      },
      "outputs": [
        {
          "data": {
            "text/plain": [
              "array([[2, 1, 2],\n",
              "       [1, 1, 1],\n",
              "       [2, 2, 1]])"
            ]
          },
          "execution_count": 3,
          "metadata": {},
          "output_type": "execute_result"
        }
      ],
      "source": [
        "arr2"
      ]
    },
    {
      "cell_type": "code",
      "execution_count": null,
      "id": "84dcff1b-99ef-4ed0-bb40-6ff079e9d2a5",
      "metadata": {
        "id": "84dcff1b-99ef-4ed0-bb40-6ff079e9d2a5",
        "outputId": "5ab810f1-5b60-4e09-c7ee-02c73cd1c9bd"
      },
      "outputs": [
        {
          "data": {
            "text/plain": [
              "array([[2, 2, 1],\n",
              "       [2, 2, 1],\n",
              "       [2, 2, 1]])"
            ]
          },
          "execution_count": 4,
          "metadata": {},
          "output_type": "execute_result"
        }
      ],
      "source": [
        "arr1"
      ]
    },
    {
      "cell_type": "code",
      "execution_count": null,
      "id": "6049f46d-6d41-47ec-ba8c-bb5e4a882a82",
      "metadata": {
        "id": "6049f46d-6d41-47ec-ba8c-bb5e4a882a82",
        "outputId": "381134ca-ea4a-4b58-d4ef-bd9355d2bac4"
      },
      "outputs": [
        {
          "data": {
            "text/plain": [
              "array([2, 2, 1, 2, 2, 1, 2, 2, 1])"
            ]
          },
          "execution_count": 5,
          "metadata": {},
          "output_type": "execute_result"
        }
      ],
      "source": [
        "arr1.flatten() #Return a copy of the array collapsed into one dimension."
      ]
    },
    {
      "cell_type": "code",
      "execution_count": null,
      "id": "bd4dca35-af5a-4f98-bcaf-e73d0be174fd",
      "metadata": {
        "id": "bd4dca35-af5a-4f98-bcaf-e73d0be174fd"
      },
      "outputs": [],
      "source": [
        "#expand dimension\n",
        "arr = np.array([1, 2, 3, 4])"
      ]
    },
    {
      "cell_type": "code",
      "execution_count": null,
      "id": "6ab215a3-2e6e-42fc-810d-c7b81577daa2",
      "metadata": {
        "id": "6ab215a3-2e6e-42fc-810d-c7b81577daa2",
        "outputId": "df03477e-07e1-4ce2-a3af-6a88d1ccfd6e"
      },
      "outputs": [
        {
          "data": {
            "text/plain": [
              "array([1, 2, 3, 4])"
            ]
          },
          "execution_count": 7,
          "metadata": {},
          "output_type": "execute_result"
        }
      ],
      "source": [
        "arr"
      ]
    },
    {
      "cell_type": "code",
      "execution_count": null,
      "id": "cb5b9828-9b28-4ace-8dbd-7d65ce1d9c99",
      "metadata": {
        "id": "cb5b9828-9b28-4ace-8dbd-7d65ce1d9c99",
        "outputId": "fd721230-8cdb-4e47-a468-037a6dbac7f9"
      },
      "outputs": [
        {
          "data": {
            "text/plain": [
              "1"
            ]
          },
          "execution_count": 8,
          "metadata": {},
          "output_type": "execute_result"
        }
      ],
      "source": [
        "arr.ndim"
      ]
    },
    {
      "cell_type": "code",
      "execution_count": null,
      "id": "36984301-94d3-474e-a962-e92de6283705",
      "metadata": {
        "id": "36984301-94d3-474e-a962-e92de6283705",
        "outputId": "d038fe30-552e-4181-b8f4-94310bab7dec"
      },
      "outputs": [
        {
          "data": {
            "text/plain": [
              "array([[1, 2, 3, 4]])"
            ]
          },
          "execution_count": 10,
          "metadata": {},
          "output_type": "execute_result"
        }
      ],
      "source": [
        "np.expand_dims(arr, axis=0) #increase the dimension by 1 in the provided axis, 0 means rows(x axis), 1 means column wise(y axis)"
      ]
    },
    {
      "cell_type": "code",
      "execution_count": null,
      "id": "2a3951e3-04be-4d2a-ba4d-2b5a86acfd27",
      "metadata": {
        "id": "2a3951e3-04be-4d2a-ba4d-2b5a86acfd27",
        "outputId": "7828beb7-8586-425a-edd3-a23babaf6757"
      },
      "outputs": [
        {
          "data": {
            "text/plain": [
              "array([[1],\n",
              "       [2],\n",
              "       [3],\n",
              "       [4]])"
            ]
          },
          "execution_count": 11,
          "metadata": {},
          "output_type": "execute_result"
        }
      ],
      "source": [
        "np.expand_dims(arr, axis=1)"
      ]
    },
    {
      "cell_type": "code",
      "execution_count": null,
      "id": "96123692-bc99-4cf9-9e25-338d36307f89",
      "metadata": {
        "id": "96123692-bc99-4cf9-9e25-338d36307f89",
        "outputId": "48695134-c992-48bb-d7a0-4be6090a7c26"
      },
      "outputs": [
        {
          "data": {
            "text/plain": [
              "2"
            ]
          },
          "execution_count": 12,
          "metadata": {},
          "output_type": "execute_result"
        }
      ],
      "source": [
        "np.expand_dims(arr, axis=1).ndim"
      ]
    },
    {
      "cell_type": "code",
      "execution_count": null,
      "id": "211799ae-a9e0-4f36-9244-26efba0ce21a",
      "metadata": {
        "id": "211799ae-a9e0-4f36-9244-26efba0ce21a",
        "outputId": "e1d7f53f-7a51-4362-be6e-40bd832200c0"
      },
      "outputs": [
        {
          "data": {
            "text/plain": [
              "array([[0., 0., 0., 0.],\n",
              "       [0., 0., 0., 0.],\n",
              "       [0., 0., 0., 0.]])"
            ]
          },
          "execution_count": 13,
          "metadata": {},
          "output_type": "execute_result"
        }
      ],
      "source": [
        "arr = np.zeros((3, 4))\n",
        "arr"
      ]
    },
    {
      "cell_type": "code",
      "execution_count": null,
      "id": "a5628006-2e19-42b2-98bf-1b7491fc0bab",
      "metadata": {
        "id": "a5628006-2e19-42b2-98bf-1b7491fc0bab",
        "outputId": "bc027287-3e9e-4f79-b931-e3575d41af9c"
      },
      "outputs": [
        {
          "data": {
            "text/plain": [
              "array([[[0., 0., 0., 0.],\n",
              "        [0., 0., 0., 0.],\n",
              "        [0., 0., 0., 0.]]])"
            ]
          },
          "execution_count": 14,
          "metadata": {},
          "output_type": "execute_result"
        }
      ],
      "source": [
        "np.expand_dims(arr, axis = 0)"
      ]
    },
    {
      "cell_type": "code",
      "execution_count": null,
      "id": "95edd140-ea59-44c4-9337-9e8f4bfae64d",
      "metadata": {
        "id": "95edd140-ea59-44c4-9337-9e8f4bfae64d",
        "outputId": "54a85008-6b87-49bf-e89d-24c659703962"
      },
      "outputs": [
        {
          "data": {
            "text/plain": [
              "3"
            ]
          },
          "execution_count": 15,
          "metadata": {},
          "output_type": "execute_result"
        }
      ],
      "source": [
        "np.expand_dims(arr, axis = 0).ndim"
      ]
    },
    {
      "cell_type": "code",
      "execution_count": null,
      "id": "93268025-4286-4fc2-8eed-a940eff86bf8",
      "metadata": {
        "id": "93268025-4286-4fc2-8eed-a940eff86bf8",
        "outputId": "f66d5d9e-b0b3-4166-cd90-4024341fa723"
      },
      "outputs": [
        {
          "data": {
            "text/plain": [
              "array([[[0., 0., 0., 0.]],\n",
              "\n",
              "       [[0., 0., 0., 0.]],\n",
              "\n",
              "       [[0., 0., 0., 0.]]])"
            ]
          },
          "execution_count": 16,
          "metadata": {},
          "output_type": "execute_result"
        }
      ],
      "source": [
        "np.expand_dims(arr, axis = 1)"
      ]
    },
    {
      "cell_type": "code",
      "execution_count": null,
      "id": "0b5d518b-7053-4d6a-b6bf-e62b81f9f4c6",
      "metadata": {
        "id": "0b5d518b-7053-4d6a-b6bf-e62b81f9f4c6",
        "outputId": "3ca859fc-4bd5-4cad-b262-44b9e551c4d3"
      },
      "outputs": [
        {
          "data": {
            "text/plain": [
              "3"
            ]
          },
          "execution_count": 17,
          "metadata": {},
          "output_type": "execute_result"
        }
      ],
      "source": [
        "np.expand_dims(arr, axis = 0).ndim"
      ]
    },
    {
      "cell_type": "code",
      "execution_count": null,
      "id": "aa74671f-04ca-4ad7-b971-9209306f6182",
      "metadata": {
        "id": "aa74671f-04ca-4ad7-b971-9209306f6182"
      },
      "outputs": [],
      "source": [
        "a = np.array([[1], [2], [3]])"
      ]
    },
    {
      "cell_type": "code",
      "execution_count": null,
      "id": "6fdf0db6-92a9-444d-b52d-6f00fb8d512b",
      "metadata": {
        "id": "6fdf0db6-92a9-444d-b52d-6f00fb8d512b",
        "outputId": "854073af-0fe4-491f-fdf3-8cd21a288d59"
      },
      "outputs": [
        {
          "data": {
            "text/plain": [
              "array([[1],\n",
              "       [2],\n",
              "       [3]])"
            ]
          },
          "execution_count": 19,
          "metadata": {},
          "output_type": "execute_result"
        }
      ],
      "source": [
        "a"
      ]
    },
    {
      "cell_type": "code",
      "execution_count": null,
      "id": "89a47f24-ad92-4ed8-9359-b684d6ac5b51",
      "metadata": {
        "id": "89a47f24-ad92-4ed8-9359-b684d6ac5b51",
        "outputId": "50120e16-465a-4e26-9c99-1f03cb3c0aff"
      },
      "outputs": [
        {
          "data": {
            "text/plain": [
              "2"
            ]
          },
          "execution_count": 20,
          "metadata": {},
          "output_type": "execute_result"
        }
      ],
      "source": [
        "a.ndim"
      ]
    },
    {
      "cell_type": "code",
      "execution_count": null,
      "id": "9b352011-ea19-423c-b257-15183b94e5a6",
      "metadata": {
        "id": "9b352011-ea19-423c-b257-15183b94e5a6",
        "outputId": "a81ed963-8353-4331-82c3-258b2d0f1ef3"
      },
      "outputs": [
        {
          "data": {
            "text/plain": [
              "array([1, 2, 3])"
            ]
          },
          "execution_count": 21,
          "metadata": {},
          "output_type": "execute_result"
        }
      ],
      "source": [
        "#squeezing the dimension by 1 dimension\n",
        "np.squeeze(a)#Remove axes of length one from `a`"
      ]
    },
    {
      "cell_type": "code",
      "execution_count": null,
      "id": "ae88e653-f6d8-45d8-8a26-04f51e34eb59",
      "metadata": {
        "id": "ae88e653-f6d8-45d8-8a26-04f51e34eb59",
        "outputId": "8b72ca05-0aad-4f15-9654-84ac53b681ca"
      },
      "outputs": [
        {
          "data": {
            "text/plain": [
              "array([[1],\n",
              "       [2],\n",
              "       [3]])"
            ]
          },
          "execution_count": 22,
          "metadata": {},
          "output_type": "execute_result"
        }
      ],
      "source": [
        "a"
      ]
    },
    {
      "cell_type": "code",
      "execution_count": null,
      "id": "bd1e2ecf-4316-4259-9d7d-f78bafe33054",
      "metadata": {
        "id": "bd1e2ecf-4316-4259-9d7d-f78bafe33054",
        "outputId": "f8657c45-3550-497f-b8be-d5585550071e"
      },
      "outputs": [
        {
          "data": {
            "text/plain": [
              "array([1, 1, 1, 1, 2, 2, 2, 2, 3, 3, 3, 3])"
            ]
          },
          "execution_count": 23,
          "metadata": {},
          "output_type": "execute_result"
        }
      ],
      "source": [
        "np.repeat(a, 4)"
      ]
    },
    {
      "cell_type": "code",
      "execution_count": null,
      "id": "b68f74bd-6b99-4b6b-bc32-95226dd64ae3",
      "metadata": {
        "id": "b68f74bd-6b99-4b6b-bc32-95226dd64ae3",
        "outputId": "2057e0ce-1102-43cc-c2b0-738f9fa90fe1"
      },
      "outputs": [
        {
          "data": {
            "text/plain": [
              "array([[2, 2, 1],\n",
              "       [2, 2, 1],\n",
              "       [2, 2, 1]])"
            ]
          },
          "execution_count": 24,
          "metadata": {},
          "output_type": "execute_result"
        }
      ],
      "source": [
        "arr1"
      ]
    },
    {
      "cell_type": "code",
      "execution_count": null,
      "id": "ac63bdc1-09d4-4e30-8c97-d48f3a03cbae",
      "metadata": {
        "id": "ac63bdc1-09d4-4e30-8c97-d48f3a03cbae",
        "outputId": "fa396617-dfd5-4c4b-868a-e9f981b45a3f"
      },
      "outputs": [
        {
          "data": {
            "text/plain": [
              "array([2, 2, 2, 2, 1, 1, 2, 2, 2, 2, 1, 1, 2, 2, 2, 2, 1, 1])"
            ]
          },
          "execution_count": 25,
          "metadata": {},
          "output_type": "execute_result"
        }
      ],
      "source": [
        "np.repeat(arr1, 2)"
      ]
    },
    {
      "cell_type": "code",
      "execution_count": null,
      "id": "459d2da6-3813-4d7e-bcac-24efb8a7bc95",
      "metadata": {
        "id": "459d2da6-3813-4d7e-bcac-24efb8a7bc95",
        "outputId": "dce7baa2-413a-4316-f807-7318852a1757"
      },
      "outputs": [
        {
          "data": {
            "text/plain": [
              "array([[2, 2, 1],\n",
              "       [2, 2, 1],\n",
              "       [2, 2, 1],\n",
              "       [2, 2, 1],\n",
              "       [2, 2, 1],\n",
              "       [2, 2, 1]])"
            ]
          },
          "execution_count": 26,
          "metadata": {},
          "output_type": "execute_result"
        }
      ],
      "source": [
        "np.repeat(arr1, 2, axis=0)"
      ]
    },
    {
      "cell_type": "code",
      "execution_count": null,
      "id": "ad480f1b-bf04-43c3-8503-c35d2890edd5",
      "metadata": {
        "id": "ad480f1b-bf04-43c3-8503-c35d2890edd5",
        "outputId": "3d77e4e8-4391-42a6-adf7-3bfc748890e3"
      },
      "outputs": [
        {
          "data": {
            "text/plain": [
              "array([[2, 1, 2],\n",
              "       [2, 1, 2],\n",
              "       [2, 1, 2],\n",
              "       [1, 1, 1],\n",
              "       [1, 1, 1],\n",
              "       [1, 1, 1],\n",
              "       [2, 2, 1],\n",
              "       [2, 2, 1],\n",
              "       [2, 2, 1]])"
            ]
          },
          "execution_count": 28,
          "metadata": {},
          "output_type": "execute_result"
        }
      ],
      "source": [
        "np.repeat(arr2, 3, axis=0)"
      ]
    },
    {
      "cell_type": "code",
      "execution_count": null,
      "id": "256796f1-7981-4495-971c-5f05aa95948c",
      "metadata": {
        "id": "256796f1-7981-4495-971c-5f05aa95948c",
        "outputId": "10219559-344f-459e-8f25-523f81606c1b"
      },
      "outputs": [
        {
          "data": {
            "text/plain": [
              "array([[2, 2, 2, 1, 1, 1, 2, 2, 2],\n",
              "       [1, 1, 1, 1, 1, 1, 1, 1, 1],\n",
              "       [2, 2, 2, 2, 2, 2, 1, 1, 1]])"
            ]
          },
          "execution_count": 29,
          "metadata": {},
          "output_type": "execute_result"
        }
      ],
      "source": [
        "np.repeat(arr2, 3, axis=1)"
      ]
    },
    {
      "cell_type": "code",
      "execution_count": null,
      "id": "d71f6bc7-b9cf-4cf6-9e78-b8cafe3f5beb",
      "metadata": {
        "id": "d71f6bc7-b9cf-4cf6-9e78-b8cafe3f5beb",
        "outputId": "857aa4ab-cefd-4d49-fef4-f6a926e0b1a6"
      },
      "outputs": [
        {
          "data": {
            "text/plain": [
              "array([[1],\n",
              "       [2],\n",
              "       [3]])"
            ]
          },
          "execution_count": 30,
          "metadata": {},
          "output_type": "execute_result"
        }
      ],
      "source": [
        "a"
      ]
    },
    {
      "cell_type": "code",
      "execution_count": null,
      "id": "75f89e14-c2b7-4091-bc58-2cd925956c3f",
      "metadata": {
        "id": "75f89e14-c2b7-4091-bc58-2cd925956c3f",
        "outputId": "00498e8e-c175-476a-9514-218a98e7ac01"
      },
      "outputs": [
        {
          "data": {
            "text/plain": [
              "array([[2],\n",
              "       [3],\n",
              "       [1]])"
            ]
          },
          "execution_count": 31,
          "metadata": {},
          "output_type": "execute_result"
        }
      ],
      "source": [
        "np.roll(a, -1) #shift place"
      ]
    },
    {
      "cell_type": "code",
      "execution_count": null,
      "id": "a322c400-60e4-4100-b3bd-a3943ee081de",
      "metadata": {
        "id": "a322c400-60e4-4100-b3bd-a3943ee081de",
        "outputId": "03725659-6cbd-4b2a-f50c-13dc494a11e3"
      },
      "outputs": [
        {
          "data": {
            "text/plain": [
              "array([[3],\n",
              "       [1],\n",
              "       [2]])"
            ]
          },
          "execution_count": 32,
          "metadata": {},
          "output_type": "execute_result"
        }
      ],
      "source": [
        "np.roll(a, -2)"
      ]
    },
    {
      "cell_type": "code",
      "execution_count": null,
      "id": "366ed3fc-723e-41ed-85e6-9f445223ec9b",
      "metadata": {
        "id": "366ed3fc-723e-41ed-85e6-9f445223ec9b"
      },
      "outputs": [],
      "source": [
        "c = np.array([[1, 2], [3, 4], [5, 6], [7, 8]])"
      ]
    },
    {
      "cell_type": "code",
      "execution_count": null,
      "id": "2820d33a-6374-4def-a37b-f677c9ad5394",
      "metadata": {
        "id": "2820d33a-6374-4def-a37b-f677c9ad5394",
        "outputId": "74aee1e8-162d-405d-b8f9-b873ced8ef18"
      },
      "outputs": [
        {
          "data": {
            "text/plain": [
              "array([[1, 2],\n",
              "       [3, 4],\n",
              "       [5, 6],\n",
              "       [7, 8]])"
            ]
          },
          "execution_count": 36,
          "metadata": {},
          "output_type": "execute_result"
        }
      ],
      "source": [
        "c"
      ]
    },
    {
      "cell_type": "code",
      "execution_count": null,
      "id": "88d30056-565a-4e83-b5ec-ede9a9a4f4e4",
      "metadata": {
        "id": "88d30056-565a-4e83-b5ec-ede9a9a4f4e4",
        "outputId": "1864e079-6b33-46b3-feeb-643ebee8d598"
      },
      "outputs": [
        {
          "data": {
            "text/plain": [
              "array([[2, 3],\n",
              "       [4, 5],\n",
              "       [6, 7],\n",
              "       [8, 1]])"
            ]
          },
          "execution_count": 37,
          "metadata": {},
          "output_type": "execute_result"
        }
      ],
      "source": [
        "np.roll(c, -1)"
      ]
    },
    {
      "cell_type": "code",
      "execution_count": null,
      "id": "671cc6a9-e327-43fd-a1cd-7039dc486ea5",
      "metadata": {
        "id": "671cc6a9-e327-43fd-a1cd-7039dc486ea5",
        "outputId": "8f833b9d-44b3-47e9-ee96-3371f7fd114e"
      },
      "outputs": [
        {
          "data": {
            "text/plain": [
              "array([[1, 2],\n",
              "       [3, 4],\n",
              "       [5, 6],\n",
              "       [7, 8]])"
            ]
          },
          "execution_count": 39,
          "metadata": {},
          "output_type": "execute_result"
        }
      ],
      "source": [
        "c"
      ]
    },
    {
      "cell_type": "code",
      "execution_count": null,
      "id": "5a64cd26-e331-4c50-8c91-500303d752e2",
      "metadata": {
        "id": "5a64cd26-e331-4c50-8c91-500303d752e2",
        "outputId": "c99b315e-7384-4819-b31b-5c4999354c54"
      },
      "outputs": [
        {
          "data": {
            "text/plain": [
              "array([[7, 8],\n",
              "       [1, 2],\n",
              "       [3, 4],\n",
              "       [5, 6]])"
            ]
          },
          "execution_count": 38,
          "metadata": {},
          "output_type": "execute_result"
        }
      ],
      "source": [
        "np.roll(c, 2)"
      ]
    },
    {
      "cell_type": "code",
      "execution_count": null,
      "id": "01dd6c6a-976b-47b1-9f1c-68d445f6ecb6",
      "metadata": {
        "id": "01dd6c6a-976b-47b1-9f1c-68d445f6ecb6",
        "outputId": "c7befab0-cc5d-4981-8686-54eb9c7f2dda"
      },
      "outputs": [
        {
          "data": {
            "text/plain": [
              "array([[5, 6],\n",
              "       [7, 8],\n",
              "       [1, 2],\n",
              "       [3, 4]])"
            ]
          },
          "execution_count": 40,
          "metadata": {},
          "output_type": "execute_result"
        }
      ],
      "source": [
        "np.roll(c, 2, axis=0)"
      ]
    },
    {
      "cell_type": "code",
      "execution_count": null,
      "id": "e3e5dcd1-3935-4cd4-a83a-aaac808e6787",
      "metadata": {
        "id": "e3e5dcd1-3935-4cd4-a83a-aaac808e6787",
        "outputId": "b5f4f436-02ae-48b6-fd23-0122ae3832e6"
      },
      "outputs": [
        {
          "data": {
            "text/plain": [
              "array([[2, 2, 1],\n",
              "       [2, 2, 1],\n",
              "       [2, 2, 1]])"
            ]
          },
          "execution_count": 41,
          "metadata": {},
          "output_type": "execute_result"
        }
      ],
      "source": [
        "arr1"
      ]
    },
    {
      "cell_type": "code",
      "execution_count": null,
      "id": "d3398bf4-b70b-4b73-b0fa-a02547ef5976",
      "metadata": {
        "id": "d3398bf4-b70b-4b73-b0fa-a02547ef5976",
        "outputId": "41d950bb-d187-4ea5-c114-d89613aa551e"
      },
      "outputs": [
        {
          "data": {
            "text/plain": [
              "array([[2, 1, 2],\n",
              "       [1, 1, 1],\n",
              "       [2, 2, 1]])"
            ]
          },
          "execution_count": 42,
          "metadata": {},
          "output_type": "execute_result"
        }
      ],
      "source": [
        "arr2"
      ]
    },
    {
      "cell_type": "code",
      "execution_count": null,
      "id": "d122f233-dea6-4194-8c16-d6a82eb7fcd3",
      "metadata": {
        "id": "d122f233-dea6-4194-8c16-d6a82eb7fcd3",
        "outputId": "c9ba06e1-d715-4f10-85a4-1fd9ecc52a4b"
      },
      "outputs": [
        {
          "data": {
            "text/plain": [
              "array([[4, 3, 3],\n",
              "       [3, 3, 2],\n",
              "       [4, 4, 2]])"
            ]
          },
          "execution_count": 43,
          "metadata": {},
          "output_type": "execute_result"
        }
      ],
      "source": [
        "arr1+arr2"
      ]
    },
    {
      "cell_type": "code",
      "execution_count": null,
      "id": "48017e41-92f2-4947-83f5-f196fb615d2e",
      "metadata": {
        "id": "48017e41-92f2-4947-83f5-f196fb615d2e",
        "outputId": "024ca189-de59-4bc2-a4a3-6bfd69de7eb8"
      },
      "outputs": [
        {
          "data": {
            "text/plain": [
              "array([[ 0,  1, -1],\n",
              "       [ 1,  1,  0],\n",
              "       [ 0,  0,  0]])"
            ]
          },
          "execution_count": 44,
          "metadata": {},
          "output_type": "execute_result"
        }
      ],
      "source": [
        "arr1-arr2"
      ]
    },
    {
      "cell_type": "code",
      "execution_count": null,
      "id": "0fe78ace-c315-4b9a-850b-619bff480615",
      "metadata": {
        "id": "0fe78ace-c315-4b9a-850b-619bff480615",
        "outputId": "107faf15-62bc-4fc9-b6cf-3380dd3da700"
      },
      "outputs": [
        {
          "data": {
            "text/plain": [
              "array([[4, 2, 2],\n",
              "       [2, 2, 1],\n",
              "       [4, 4, 1]])"
            ]
          },
          "execution_count": 45,
          "metadata": {},
          "output_type": "execute_result"
        }
      ],
      "source": [
        "arr1 * arr2"
      ]
    },
    {
      "cell_type": "code",
      "execution_count": null,
      "id": "b0fe9974-aa89-4ba5-97f4-e645daba6fa6",
      "metadata": {
        "id": "b0fe9974-aa89-4ba5-97f4-e645daba6fa6",
        "outputId": "2a90f458-a333-41a0-b8e7-727b8cf32e3f"
      },
      "outputs": [
        {
          "data": {
            "text/plain": [
              "array([[False,  True, False],\n",
              "       [ True,  True, False],\n",
              "       [False, False, False]])"
            ]
          },
          "execution_count": 46,
          "metadata": {},
          "output_type": "execute_result"
        }
      ],
      "source": [
        "arr1 > arr2"
      ]
    },
    {
      "cell_type": "code",
      "execution_count": null,
      "id": "6cdeec37-9d99-4ee4-81b5-fa34fc605a07",
      "metadata": {
        "id": "6cdeec37-9d99-4ee4-81b5-fa34fc605a07",
        "outputId": "b47cc7fe-408b-4d50-df65-bad77f627824"
      },
      "outputs": [
        {
          "data": {
            "text/plain": [
              "array([[2, 2, 1],\n",
              "       [2, 2, 1],\n",
              "       [2, 2, 1]])"
            ]
          },
          "execution_count": 47,
          "metadata": {},
          "output_type": "execute_result"
        }
      ],
      "source": [
        "arr1"
      ]
    },
    {
      "cell_type": "code",
      "execution_count": null,
      "id": "f9ce5852-9139-46a4-bc50-04dd3e8170dc",
      "metadata": {
        "id": "f9ce5852-9139-46a4-bc50-04dd3e8170dc",
        "outputId": "ff267885-4ca6-43e7-e035-5ba7498bce60"
      },
      "outputs": [
        {
          "data": {
            "text/plain": [
              "array([[-3, -3, -2],\n",
              "       [-3, -3, -2],\n",
              "       [-3, -3, -2]])"
            ]
          },
          "execution_count": 48,
          "metadata": {},
          "output_type": "execute_result"
        }
      ],
      "source": [
        "~arr1"
      ]
    },
    {
      "cell_type": "code",
      "execution_count": null,
      "id": "613e887d-aa35-431b-8d36-54d687574a0e",
      "metadata": {
        "id": "613e887d-aa35-431b-8d36-54d687574a0e"
      },
      "outputs": [],
      "source": [
        "#operations on numpy string array\n",
        "\n",
        "d = np.array([\"pw\", \"skills\"])"
      ]
    },
    {
      "cell_type": "code",
      "execution_count": null,
      "id": "2c2774b9-e32a-4748-8fda-ce76dfaa2be5",
      "metadata": {
        "id": "2c2774b9-e32a-4748-8fda-ce76dfaa2be5",
        "outputId": "5ce3bf4e-672f-4d45-b58e-2f33625d95fb"
      },
      "outputs": [
        {
          "data": {
            "text/plain": [
              "array(['pw', 'skills'], dtype='<U6')"
            ]
          },
          "execution_count": 50,
          "metadata": {},
          "output_type": "execute_result"
        }
      ],
      "source": [
        "d"
      ]
    },
    {
      "cell_type": "code",
      "execution_count": null,
      "id": "989b2347-07a5-4f45-b9fa-47946cbe5166",
      "metadata": {
        "id": "989b2347-07a5-4f45-b9fa-47946cbe5166",
        "outputId": "5d00d9c7-84c7-49bc-e8eb-2e4f953a85bf"
      },
      "outputs": [
        {
          "data": {
            "text/plain": [
              "array(['PW', 'SKILLS'], dtype='<U6')"
            ]
          },
          "execution_count": 51,
          "metadata": {},
          "output_type": "execute_result"
        }
      ],
      "source": [
        "np.char.upper(d)"
      ]
    },
    {
      "cell_type": "code",
      "execution_count": null,
      "id": "673efb41-3be3-4206-865e-a0543874c1cb",
      "metadata": {
        "id": "673efb41-3be3-4206-865e-a0543874c1cb",
        "outputId": "8667b8ef-83ba-49b6-c62b-4e0c55724bad"
      },
      "outputs": [
        {
          "data": {
            "text/plain": [
              "array(['Pw', 'Skills'], dtype='<U6')"
            ]
          },
          "execution_count": 52,
          "metadata": {},
          "output_type": "execute_result"
        }
      ],
      "source": [
        "np.char.capitalize(d)"
      ]
    },
    {
      "cell_type": "code",
      "execution_count": null,
      "id": "362e6421-59d2-4b2a-9bfd-db32ee740614",
      "metadata": {
        "id": "362e6421-59d2-4b2a-9bfd-db32ee740614"
      },
      "outputs": [],
      "source": [
        "#mathematical function"
      ]
    },
    {
      "cell_type": "code",
      "execution_count": null,
      "id": "a5c874a5-d08d-4be4-b6f1-d30950b28b98",
      "metadata": {
        "id": "a5c874a5-d08d-4be4-b6f1-d30950b28b98",
        "outputId": "02ec18d3-fcc1-4b25-eb4d-49a52f1cbd74"
      },
      "outputs": [
        {
          "data": {
            "text/plain": [
              "array([[2, 2, 1],\n",
              "       [2, 2, 1],\n",
              "       [2, 2, 1]])"
            ]
          },
          "execution_count": 54,
          "metadata": {},
          "output_type": "execute_result"
        }
      ],
      "source": [
        "arr1"
      ]
    },
    {
      "cell_type": "code",
      "execution_count": null,
      "id": "d219cfcc-e894-4e92-b877-fb748cb04617",
      "metadata": {
        "id": "d219cfcc-e894-4e92-b877-fb748cb04617",
        "outputId": "594e9246-972e-412a-fb80-9b56846acd9a"
      },
      "outputs": [
        {
          "data": {
            "text/plain": [
              "array([[0.90929743, 0.90929743, 0.84147098],\n",
              "       [0.90929743, 0.90929743, 0.84147098],\n",
              "       [0.90929743, 0.90929743, 0.84147098]])"
            ]
          },
          "execution_count": 55,
          "metadata": {},
          "output_type": "execute_result"
        }
      ],
      "source": [
        "np.sin(arr1)"
      ]
    },
    {
      "cell_type": "code",
      "execution_count": null,
      "id": "4ae6d216-2058-40d5-b4eb-3d1738e3f8f3",
      "metadata": {
        "id": "4ae6d216-2058-40d5-b4eb-3d1738e3f8f3",
        "outputId": "aa8f6442-9c75-449c-d11f-c1ae777bf5ad"
      },
      "outputs": [
        {
          "data": {
            "text/plain": [
              "array([[-0.41614684, -0.41614684,  0.54030231],\n",
              "       [-0.41614684, -0.41614684,  0.54030231],\n",
              "       [-0.41614684, -0.41614684,  0.54030231]])"
            ]
          },
          "execution_count": 56,
          "metadata": {},
          "output_type": "execute_result"
        }
      ],
      "source": [
        "np.cos(arr1)"
      ]
    },
    {
      "cell_type": "code",
      "execution_count": null,
      "id": "7cca2c8d-23b6-41fb-9009-dbd59fa8b9cb",
      "metadata": {
        "id": "7cca2c8d-23b6-41fb-9009-dbd59fa8b9cb",
        "outputId": "f713d151-dd9d-486c-d3dc-abcc15032a06"
      },
      "outputs": [
        {
          "data": {
            "text/plain": [
              "array([[-2.18503986, -2.18503986,  1.55740772],\n",
              "       [-2.18503986, -2.18503986,  1.55740772],\n",
              "       [-2.18503986, -2.18503986,  1.55740772]])"
            ]
          },
          "execution_count": 57,
          "metadata": {},
          "output_type": "execute_result"
        }
      ],
      "source": [
        "np.tan(arr1)"
      ]
    },
    {
      "cell_type": "code",
      "execution_count": null,
      "id": "c057001d-6eb3-498b-beeb-8cac38cf7391",
      "metadata": {
        "id": "c057001d-6eb3-498b-beeb-8cac38cf7391",
        "outputId": "be96a5c9-5aa9-4693-89e7-a60695438af5"
      },
      "outputs": [
        {
          "data": {
            "text/plain": [
              "array([[0.30103, 0.30103, 0.     ],\n",
              "       [0.30103, 0.30103, 0.     ],\n",
              "       [0.30103, 0.30103, 0.     ]])"
            ]
          },
          "execution_count": 58,
          "metadata": {},
          "output_type": "execute_result"
        }
      ],
      "source": [
        "np.log10(arr1)"
      ]
    },
    {
      "cell_type": "code",
      "execution_count": null,
      "id": "443c3607-6c7e-44e1-af77-0cc2eb08f769",
      "metadata": {
        "id": "443c3607-6c7e-44e1-af77-0cc2eb08f769",
        "outputId": "e3ad2276-218c-442b-f6b6-52a386fb0fd0"
      },
      "outputs": [
        {
          "data": {
            "text/plain": [
              "array([[7.3890561 , 7.3890561 , 2.71828183],\n",
              "       [7.3890561 , 7.3890561 , 2.71828183],\n",
              "       [7.3890561 , 7.3890561 , 2.71828183]])"
            ]
          },
          "execution_count": 59,
          "metadata": {},
          "output_type": "execute_result"
        }
      ],
      "source": [
        "np.exp(arr1)"
      ]
    },
    {
      "cell_type": "code",
      "execution_count": null,
      "id": "8659949b-fb53-4bc6-8c4c-f3b43ae0efb9",
      "metadata": {
        "id": "8659949b-fb53-4bc6-8c4c-f3b43ae0efb9",
        "outputId": "5c9b46b5-00d5-45ce-fe88-a8703118b76c"
      },
      "outputs": [
        {
          "data": {
            "text/plain": [
              "array([[8, 8, 1],\n",
              "       [8, 8, 1],\n",
              "       [8, 8, 1]])"
            ]
          },
          "execution_count": 60,
          "metadata": {},
          "output_type": "execute_result"
        }
      ],
      "source": [
        "np.power(arr1, 3)"
      ]
    },
    {
      "cell_type": "code",
      "execution_count": null,
      "id": "2009a827-555f-4e3d-a582-68b2e4ef5e15",
      "metadata": {
        "id": "2009a827-555f-4e3d-a582-68b2e4ef5e15",
        "outputId": "4232eac0-1647-4f55-bcc4-577793bb3ddd"
      },
      "outputs": [
        {
          "data": {
            "text/plain": [
              "2"
            ]
          },
          "execution_count": 62,
          "metadata": {},
          "output_type": "execute_result"
        }
      ],
      "source": [
        "np.max(arr1)"
      ]
    },
    {
      "cell_type": "code",
      "execution_count": null,
      "id": "74b9aa14-d3ba-4ac0-9016-b7910b74182d",
      "metadata": {
        "id": "74b9aa14-d3ba-4ac0-9016-b7910b74182d",
        "outputId": "dc6fb092-0d82-4028-b5b9-09fae5d7df86"
      },
      "outputs": [
        {
          "data": {
            "text/plain": [
              "array([[2, 2, 1],\n",
              "       [2, 2, 1],\n",
              "       [2, 2, 1]])"
            ]
          },
          "execution_count": 63,
          "metadata": {},
          "output_type": "execute_result"
        }
      ],
      "source": [
        "arr1"
      ]
    },
    {
      "cell_type": "code",
      "execution_count": null,
      "id": "d64ba3e7-0fdd-4455-92b8-9c2da7483c6c",
      "metadata": {
        "id": "d64ba3e7-0fdd-4455-92b8-9c2da7483c6c",
        "outputId": "1c47330a-3c62-4124-a362-ddeec01fbc9b"
      },
      "outputs": [
        {
          "data": {
            "text/plain": [
              "1.6666666666666667"
            ]
          },
          "execution_count": 64,
          "metadata": {},
          "output_type": "execute_result"
        }
      ],
      "source": [
        "np.mean(arr1)"
      ]
    },
    {
      "cell_type": "code",
      "execution_count": null,
      "id": "9d51e1a2-9fca-4e2d-b322-858936482b50",
      "metadata": {
        "id": "9d51e1a2-9fca-4e2d-b322-858936482b50",
        "outputId": "7d10845d-5e83-4c9c-eb8c-c3190562a781"
      },
      "outputs": [
        {
          "data": {
            "text/plain": [
              "1"
            ]
          },
          "execution_count": 65,
          "metadata": {},
          "output_type": "execute_result"
        }
      ],
      "source": [
        "np.min(arr1)"
      ]
    },
    {
      "cell_type": "code",
      "execution_count": null,
      "id": "7fab71dc-9d78-40d7-b409-9d7634e5450c",
      "metadata": {
        "id": "7fab71dc-9d78-40d7-b409-9d7634e5450c",
        "outputId": "a60496ba-5f3a-4081-8447-2591bd71c833"
      },
      "outputs": [
        {
          "data": {
            "text/plain": [
              "0.4714045207910317"
            ]
          },
          "execution_count": 66,
          "metadata": {},
          "output_type": "execute_result"
        }
      ],
      "source": [
        "np.std(arr1)"
      ]
    },
    {
      "cell_type": "code",
      "execution_count": null,
      "id": "242dd20f-1cc0-4bcd-a0df-60fa3c828c6e",
      "metadata": {
        "id": "242dd20f-1cc0-4bcd-a0df-60fa3c828c6e",
        "outputId": "5e19d314-01a9-4b3c-956f-7f39806afa92"
      },
      "outputs": [
        {
          "data": {
            "text/plain": [
              "0.2222222222222222"
            ]
          },
          "execution_count": 67,
          "metadata": {},
          "output_type": "execute_result"
        }
      ],
      "source": [
        "np.var(arr1)"
      ]
    },
    {
      "cell_type": "code",
      "execution_count": null,
      "id": "539cc7c5-1894-4638-9db0-fc6040fd08a6",
      "metadata": {
        "id": "539cc7c5-1894-4638-9db0-fc6040fd08a6",
        "outputId": "34d6a062-23ff-4503-c0d3-2db5a691413d"
      },
      "outputs": [
        {
          "data": {
            "text/plain": [
              "array([[ 0,  1, -1],\n",
              "       [ 1,  1,  0],\n",
              "       [ 0,  0,  0]])"
            ]
          },
          "execution_count": 68,
          "metadata": {},
          "output_type": "execute_result"
        }
      ],
      "source": [
        "arr1-arr2"
      ]
    },
    {
      "cell_type": "code",
      "execution_count": null,
      "id": "1f17a9cd-c071-408f-82b6-07c4ba2eab22",
      "metadata": {
        "id": "1f17a9cd-c071-408f-82b6-07c4ba2eab22",
        "outputId": "d173f23d-e9a2-4553-c592-56320cec8937"
      },
      "outputs": [
        {
          "data": {
            "text/plain": [
              "array([[ 0,  1, -1],\n",
              "       [ 1,  1,  0],\n",
              "       [ 0,  0,  0]])"
            ]
          },
          "execution_count": 69,
          "metadata": {},
          "output_type": "execute_result"
        }
      ],
      "source": [
        "np.subtract(arr1, arr2)"
      ]
    },
    {
      "cell_type": "code",
      "execution_count": null,
      "id": "110b0f73-77fe-4c53-a507-92b77c9d9252",
      "metadata": {
        "id": "110b0f73-77fe-4c53-a507-92b77c9d9252",
        "outputId": "9c0ecd47-d710-415f-a9ca-074d1ca5dcf4"
      },
      "outputs": [
        {
          "data": {
            "text/plain": [
              "array([[4, 2, 2],\n",
              "       [2, 2, 1],\n",
              "       [4, 4, 1]])"
            ]
          },
          "execution_count": 70,
          "metadata": {},
          "output_type": "execute_result"
        }
      ],
      "source": [
        "arr1*arr2"
      ]
    },
    {
      "cell_type": "code",
      "execution_count": null,
      "id": "8f7ad2f1-5332-4ae9-b09f-1200302286c4",
      "metadata": {
        "id": "8f7ad2f1-5332-4ae9-b09f-1200302286c4",
        "outputId": "03bb54a2-a623-4f8a-9191-ee3686bb4a5e"
      },
      "outputs": [
        {
          "data": {
            "text/plain": [
              "array([[4, 2, 2],\n",
              "       [2, 2, 1],\n",
              "       [4, 4, 1]])"
            ]
          },
          "execution_count": 72,
          "metadata": {},
          "output_type": "execute_result"
        }
      ],
      "source": [
        "np.multiply(arr1, arr2)"
      ]
    },
    {
      "cell_type": "code",
      "execution_count": null,
      "id": "014fa7a5-fcdb-4812-9733-9e40154a9a8e",
      "metadata": {
        "id": "014fa7a5-fcdb-4812-9733-9e40154a9a8e",
        "outputId": "eb77c133-08dc-4f71-f33d-ca492fac4eff"
      },
      "outputs": [
        {
          "data": {
            "text/plain": [
              "array([[0, 0, 1],\n",
              "       [0, 0, 0],\n",
              "       [0, 0, 0]])"
            ]
          },
          "execution_count": 73,
          "metadata": {},
          "output_type": "execute_result"
        }
      ],
      "source": [
        "np.mod(arr1, arr2) #return element wise remainder"
      ]
    },
    {
      "cell_type": "code",
      "execution_count": null,
      "id": "7e9f828d-178b-4ae2-b723-b2e7ec82af58",
      "metadata": {
        "id": "7e9f828d-178b-4ae2-b723-b2e7ec82af58",
        "outputId": "09367162-3222-4d37-c53e-38df210ac558"
      },
      "outputs": [
        {
          "data": {
            "text/plain": [
              "array([[1.41421356, 1.41421356, 1.        ],\n",
              "       [1.41421356, 1.41421356, 1.        ],\n",
              "       [1.41421356, 1.41421356, 1.        ]])"
            ]
          },
          "execution_count": 74,
          "metadata": {},
          "output_type": "execute_result"
        }
      ],
      "source": [
        "np.sqrt(arr1)"
      ]
    },
    {
      "cell_type": "code",
      "execution_count": null,
      "id": "3c9c6e7c-ead5-4e0f-8355-f80620c44268",
      "metadata": {
        "id": "3c9c6e7c-ead5-4e0f-8355-f80620c44268"
      },
      "outputs": [],
      "source": [
        "#sorting and searching in numpy array\n",
        "e = np.array([5, 6, 1, 2])"
      ]
    },
    {
      "cell_type": "code",
      "execution_count": null,
      "id": "032c2e54-3df0-474a-8814-51c80320ba88",
      "metadata": {
        "id": "032c2e54-3df0-474a-8814-51c80320ba88",
        "outputId": "99af249e-1da9-447f-f88f-fb0a541cff52"
      },
      "outputs": [
        {
          "data": {
            "text/plain": [
              "array([5, 6, 1, 2])"
            ]
          },
          "execution_count": 76,
          "metadata": {},
          "output_type": "execute_result"
        }
      ],
      "source": [
        "e"
      ]
    },
    {
      "cell_type": "code",
      "execution_count": null,
      "id": "d512fb58-8c21-4e49-8775-688cd7a4c85d",
      "metadata": {
        "id": "d512fb58-8c21-4e49-8775-688cd7a4c85d",
        "outputId": "ee9fa710-1449-41e1-e10c-7381cc6c9466"
      },
      "outputs": [
        {
          "data": {
            "text/plain": [
              "array([1, 2, 5, 6])"
            ]
          },
          "execution_count": 77,
          "metadata": {},
          "output_type": "execute_result"
        }
      ],
      "source": [
        "np.sort(e) #Return a sorted copy of an array."
      ]
    },
    {
      "cell_type": "code",
      "execution_count": null,
      "id": "5d313f5f-8f32-4aee-8c65-429aa6b51519",
      "metadata": {
        "id": "5d313f5f-8f32-4aee-8c65-429aa6b51519",
        "outputId": "00528859-7b9a-4b79-81aa-43e39330f020"
      },
      "outputs": [
        {
          "data": {
            "text/plain": [
              "array([  5, 199, 200,   6,   7,   8])"
            ]
          },
          "execution_count": 78,
          "metadata": {},
          "output_type": "execute_result"
        }
      ],
      "source": [
        "f = np.array([5, 199, 200, 6, 7, 8])\n",
        "f"
      ]
    },
    {
      "cell_type": "code",
      "execution_count": null,
      "id": "5e3fc176-943f-42f8-b21e-4d13f0fb67e1",
      "metadata": {
        "id": "5e3fc176-943f-42f8-b21e-4d13f0fb67e1",
        "outputId": "0bf63ec1-4db0-43d2-e982-ad19f5b3cf89"
      },
      "outputs": [
        {
          "data": {
            "text/plain": [
              "array([  5,   6,   7,   8, 199, 200])"
            ]
          },
          "execution_count": 79,
          "metadata": {},
          "output_type": "execute_result"
        }
      ],
      "source": [
        "np.sort(f)"
      ]
    },
    {
      "cell_type": "code",
      "execution_count": null,
      "id": "c17e92da-cdb8-45e1-831f-0e0d5ce09bba",
      "metadata": {
        "id": "c17e92da-cdb8-45e1-831f-0e0d5ce09bba",
        "outputId": "751e4b72-9a63-44ca-9470-5d7ff1f4218b"
      },
      "outputs": [
        {
          "data": {
            "text/plain": [
              "6"
            ]
          },
          "execution_count": 80,
          "metadata": {},
          "output_type": "execute_result"
        }
      ],
      "source": [
        "np.searchsorted(f, 170) #Find indices where elements should be inserted to maintain order."
      ]
    },
    {
      "cell_type": "code",
      "execution_count": null,
      "id": "2d3daab4-931b-4990-b5b1-661d8cfd7309",
      "metadata": {
        "id": "2d3daab4-931b-4990-b5b1-661d8cfd7309",
        "outputId": "eb1c8ec2-1943-4d4a-f014-56e69279c018"
      },
      "outputs": [
        {
          "data": {
            "text/plain": [
              "array([  5, 199, 200,   0,   0,   0,   0,   6,   7,   8])"
            ]
          },
          "execution_count": 81,
          "metadata": {},
          "output_type": "execute_result"
        }
      ],
      "source": [
        "f = np.array([5, 199, 200,0, 0, 0, 0, 6, 7, 8])\n",
        "f"
      ]
    },
    {
      "cell_type": "code",
      "execution_count": null,
      "id": "01be724b-8d7b-43be-94b1-8bfcc7369e83",
      "metadata": {
        "id": "01be724b-8d7b-43be-94b1-8bfcc7369e83",
        "outputId": "035d1d99-c1cd-4b70-c3de-1172b64c443b"
      },
      "outputs": [
        {
          "data": {
            "text/plain": [
              "6"
            ]
          },
          "execution_count": 83,
          "metadata": {},
          "output_type": "execute_result"
        }
      ],
      "source": [
        "np.count_nonzero(f)"
      ]
    },
    {
      "cell_type": "code",
      "execution_count": null,
      "id": "321697f5-839e-489b-97ca-f46ad03c6435",
      "metadata": {
        "id": "321697f5-839e-489b-97ca-f46ad03c6435",
        "outputId": "5916a367-506c-4be6-fafb-eed43b33a1a7"
      },
      "outputs": [
        {
          "data": {
            "text/plain": [
              "array([  5, 199, 200,   6,   7,   8])"
            ]
          },
          "execution_count": 85,
          "metadata": {},
          "output_type": "execute_result"
        }
      ],
      "source": [
        "f[f>0]"
      ]
    },
    {
      "cell_type": "code",
      "execution_count": null,
      "id": "875a48dd-a3fd-4bf7-b7b4-9a5cdb5dadf5",
      "metadata": {
        "id": "875a48dd-a3fd-4bf7-b7b4-9a5cdb5dadf5",
        "outputId": "288e91b0-4a73-4985-f81e-0dba21bb9e67"
      },
      "outputs": [
        {
          "data": {
            "text/plain": [
              "(array([0, 1, 2, 7, 8, 9]),)"
            ]
          },
          "execution_count": 86,
          "metadata": {},
          "output_type": "execute_result"
        }
      ],
      "source": [
        "np.where(f>0) #same as above condition"
      ]
    },
    {
      "cell_type": "code",
      "execution_count": null,
      "id": "45b440ff-741f-4bb4-86c0-6aa1eb64b558",
      "metadata": {
        "id": "45b440ff-741f-4bb4-86c0-6aa1eb64b558",
        "outputId": "51750e30-dd4c-4b7c-d036-f3c2127dac2f"
      },
      "outputs": [
        {
          "data": {
            "text/plain": [
              "array([  5, 199, 200,   6,   7,   8])"
            ]
          },
          "execution_count": 87,
          "metadata": {},
          "output_type": "execute_result"
        }
      ],
      "source": [
        "np.extract(f>0, f) #same as above condition"
      ]
    },
    {
      "cell_type": "code",
      "execution_count": null,
      "id": "234aeb1e-2894-4312-9fff-58926b209e47",
      "metadata": {
        "id": "234aeb1e-2894-4312-9fff-58926b209e47",
        "outputId": "293a1c43-3d55-40b7-f9c1-d27d0b67423b"
      },
      "outputs": [
        {
          "data": {
            "text/plain": [
              "array([  5, 199, 200,   0,   0,   0,   0,   6,   7,   8])"
            ]
          },
          "execution_count": 88,
          "metadata": {},
          "output_type": "execute_result"
        }
      ],
      "source": [
        "f"
      ]
    },
    {
      "cell_type": "code",
      "execution_count": null,
      "id": "381edee1-2e3d-4c66-ac96-51c51c7e6d2a",
      "metadata": {
        "id": "381edee1-2e3d-4c66-ac96-51c51c7e6d2a",
        "outputId": "099bc5e0-2475-4f61-81f4-a41d18f25138"
      },
      "outputs": [
        {
          "data": {
            "text/plain": [
              "array([  360287970189639680, -4107282860161892352, -4035225266123964416,\n",
              "                          0,                    0,                    0,\n",
              "                          0,   432345564227567616,   504403158265495552,\n",
              "         576460752303423488])"
            ]
          },
          "execution_count": 89,
          "metadata": {},
          "output_type": "execute_result"
        }
      ],
      "source": [
        "f.byteswap() #Swap the bytes of the array elements"
      ]
    },
    {
      "cell_type": "code",
      "execution_count": null,
      "id": "337ca5ba-f8b2-45e6-bb31-ce0e5a2fdf5b",
      "metadata": {
        "id": "337ca5ba-f8b2-45e6-bb31-ce0e5a2fdf5b",
        "outputId": "eeb47358-1da4-443f-a00f-7d6611c4b5d5"
      },
      "outputs": [
        {
          "data": {
            "text/plain": [
              "matrix([[0., 0., 0., 0., 0.]])"
            ]
          },
          "execution_count": 90,
          "metadata": {},
          "output_type": "execute_result"
        }
      ],
      "source": [
        "import numpy.matlib as nm\n",
        "nm.zeros(5)"
      ]
    },
    {
      "cell_type": "code",
      "execution_count": null,
      "id": "fdbff4a4-c2b9-46e4-a04f-35c2aeaa2784",
      "metadata": {
        "id": "fdbff4a4-c2b9-46e4-a04f-35c2aeaa2784",
        "outputId": "9e0a86c8-8713-42cd-f91e-253388cfbcc5"
      },
      "outputs": [
        {
          "data": {
            "text/plain": [
              "matrix([[1., 1., 1., 1.],\n",
              "        [1., 1., 1., 1.],\n",
              "        [1., 1., 1., 1.]])"
            ]
          },
          "execution_count": 92,
          "metadata": {},
          "output_type": "execute_result"
        }
      ],
      "source": [
        "nm.ones((3, 4))"
      ]
    },
    {
      "cell_type": "code",
      "execution_count": null,
      "id": "311637cd-e7a7-4900-b14a-94085bd8c9ed",
      "metadata": {
        "id": "311637cd-e7a7-4900-b14a-94085bd8c9ed"
      },
      "outputs": [],
      "source": [
        "#numpy linear algebra(optonal)"
      ]
    },
    {
      "cell_type": "code",
      "execution_count": null,
      "id": "2b987811-28b7-4fad-813a-d194a6224f50",
      "metadata": {
        "id": "2b987811-28b7-4fad-813a-d194a6224f50",
        "outputId": "aac9daf5-48c3-45ca-ed3c-533d06156668"
      },
      "outputs": [
        {
          "data": {
            "text/plain": [
              "array([[2, 2, 1],\n",
              "       [2, 2, 1],\n",
              "       [2, 2, 1]])"
            ]
          },
          "execution_count": 94,
          "metadata": {},
          "output_type": "execute_result"
        }
      ],
      "source": [
        "arr1"
      ]
    },
    {
      "cell_type": "code",
      "execution_count": null,
      "id": "31a8ebc9-1e9b-485e-a7c9-34d7155d2605",
      "metadata": {
        "id": "31a8ebc9-1e9b-485e-a7c9-34d7155d2605",
        "outputId": "c2f7c3ba-d0e6-4a04-fea4-632a2c663115"
      },
      "outputs": [
        {
          "data": {
            "text/plain": [
              "array([[2, 1, 2],\n",
              "       [1, 1, 1],\n",
              "       [2, 2, 1]])"
            ]
          },
          "execution_count": 95,
          "metadata": {},
          "output_type": "execute_result"
        }
      ],
      "source": [
        "arr2"
      ]
    },
    {
      "cell_type": "code",
      "execution_count": null,
      "id": "3a874d84-d4fd-4911-a442-ccf4b268646c",
      "metadata": {
        "id": "3a874d84-d4fd-4911-a442-ccf4b268646c",
        "outputId": "c1e15826-f891-4488-8306-12d1408b39c4"
      },
      "outputs": [
        {
          "data": {
            "text/plain": [
              "array([[8, 6, 7],\n",
              "       [8, 6, 7],\n",
              "       [8, 6, 7]])"
            ]
          },
          "execution_count": 96,
          "metadata": {},
          "output_type": "execute_result"
        }
      ],
      "source": [
        "arr1@arr2"
      ]
    },
    {
      "cell_type": "code",
      "execution_count": null,
      "id": "4e80397f-9cd4-4bd2-bf03-fadcbe9127cc",
      "metadata": {
        "id": "4e80397f-9cd4-4bd2-bf03-fadcbe9127cc",
        "outputId": "8954fa4d-8d48-4560-f03e-0bf6b33f12bc"
      },
      "outputs": [
        {
          "data": {
            "text/plain": [
              "array([[2, 2, 1],\n",
              "       [2, 2, 1],\n",
              "       [2, 2, 1]])"
            ]
          },
          "execution_count": 97,
          "metadata": {},
          "output_type": "execute_result"
        }
      ],
      "source": [
        "arr1"
      ]
    },
    {
      "cell_type": "code",
      "execution_count": null,
      "id": "aeab5f20-59e7-4b1f-8d48-f8a5e5fb4fe5",
      "metadata": {
        "id": "aeab5f20-59e7-4b1f-8d48-f8a5e5fb4fe5",
        "outputId": "2c8f9a50-d3d1-424d-cec8-9558c5ef2f35"
      },
      "outputs": [
        {
          "data": {
            "text/plain": [
              "0.0"
            ]
          },
          "execution_count": 98,
          "metadata": {},
          "output_type": "execute_result"
        }
      ],
      "source": [
        "np.linalg.det(arr1)"
      ]
    },
    {
      "cell_type": "code",
      "execution_count": null,
      "id": "bc8130cf-ef91-4329-bc30-ff53850624e2",
      "metadata": {
        "id": "bc8130cf-ef91-4329-bc30-ff53850624e2",
        "outputId": "3ddfcf5d-a8b8-4a03-fb79-5cdaffc174da"
      },
      "outputs": [
        {
          "data": {
            "text/plain": [
              "-1.0"
            ]
          },
          "execution_count": 99,
          "metadata": {},
          "output_type": "execute_result"
        }
      ],
      "source": [
        "np.linalg.det(arr2)"
      ]
    },
    {
      "cell_type": "code",
      "execution_count": null,
      "id": "cd6ae451-6cd8-4c66-9f4f-3df46287f789",
      "metadata": {
        "id": "cd6ae451-6cd8-4c66-9f4f-3df46287f789",
        "outputId": "11fc98a0-dc8b-47a3-9bad-a04693f60fa5"
      },
      "outputs": [
        {
          "data": {
            "text/plain": [
              "array([[ 1., -3.,  1.],\n",
              "       [-1.,  2.,  0.],\n",
              "       [ 0.,  2., -1.]])"
            ]
          },
          "execution_count": 101,
          "metadata": {},
          "output_type": "execute_result"
        }
      ],
      "source": [
        "#in matrix you can not devide by another matrix, you have inverse\n",
        "np.linalg.inv(arr2)"
      ]
    },
    {
      "cell_type": "code",
      "execution_count": null,
      "id": "a9fb40e8-c449-412a-9578-229e5cdde1f7",
      "metadata": {
        "id": "a9fb40e8-c449-412a-9578-229e5cdde1f7",
        "outputId": "f83773d8-a212-4f59-d47f-4da58da289ac"
      },
      "outputs": [
        {
          "data": {
            "text/plain": [
              "array([[ 7. ,  5.3, -3. ],\n",
              "       [ 3. , -5. ,  2. ],\n",
              "       [ 5. ,  3. , -7. ]])"
            ]
          },
          "execution_count": 102,
          "metadata": {},
          "output_type": "execute_result"
        }
      ],
      "source": [
        "a = np.array([[7, 5.3, -3], [3, -5, 2], [5, 3, -7]])\n",
        "a"
      ]
    },
    {
      "cell_type": "code",
      "execution_count": null,
      "id": "fe571c51-1823-4972-8f75-b32936f592c4",
      "metadata": {
        "id": "fe571c51-1823-4972-8f75-b32936f592c4"
      },
      "outputs": [],
      "source": [
        "b = np.array([16, 8, 0])"
      ]
    },
    {
      "cell_type": "code",
      "execution_count": null,
      "id": "f5f8368b-13b9-4669-ba03-eae1bd4ac1f8",
      "metadata": {
        "id": "f5f8368b-13b9-4669-ba03-eae1bd4ac1f8",
        "outputId": "444146f3-10c2-4097-8065-c0db973798f9"
      },
      "outputs": [
        {
          "data": {
            "text/plain": [
              "array([2.59630607, 0.84432718, 2.21635884])"
            ]
          },
          "execution_count": 104,
          "metadata": {},
          "output_type": "execute_result"
        }
      ],
      "source": [
        "np.linalg.solve(a, b)"
      ]
    },
    {
      "cell_type": "code",
      "execution_count": null,
      "id": "9d33e0cf-76be-4d9b-8306-608dde0cd933",
      "metadata": {
        "id": "9d33e0cf-76be-4d9b-8306-608dde0cd933"
      },
      "outputs": [],
      "source": []
    }
  ],
  "metadata": {
    "kernelspec": {
      "display_name": "Python 3 (ipykernel)",
      "language": "python",
      "name": "python3"
    },
    "language_info": {
      "codemirror_mode": {
        "name": "ipython",
        "version": 3
      },
      "file_extension": ".py",
      "mimetype": "text/x-python",
      "name": "python",
      "nbconvert_exporter": "python",
      "pygments_lexer": "ipython3",
      "version": "3.10.8"
    },
    "colab": {
      "provenance": []
    }
  },
  "nbformat": 4,
  "nbformat_minor": 5
}
