{
  "nbformat": 4,
  "nbformat_minor": 0,
  "metadata": {
    "colab": {
      "provenance": []
    },
    "kernelspec": {
      "name": "python3",
      "display_name": "Python 3"
    },
    "language_info": {
      "name": "python"
    }
  },
  "cells": [
    {
      "cell_type": "markdown",
      "source": [
        "INHERITANCE AND ABSTRACTION"
      ],
      "metadata": {
        "id": "UXRnmVCPXmob"
      }
    },
    {
      "cell_type": "code",
      "execution_count": null,
      "metadata": {
        "id": "pfytMMGEXj7b"
      },
      "outputs": [],
      "source": [
        "# Inheritance >> refers to process of child class receiving the properties of parent class\n",
        "# class base class:\n",
        "# body of base class\n",
        "# class derived class(baseclass)\n",
        "# body of derived class\n",
        "\n",
        "# single inheritance >> when a derived class has only one parent class"
      ]
    },
    {
      "cell_type": "code",
      "source": [
        "# example\n",
        "class father:\n",
        "  def father_property(self):\n",
        "    print(\"This is the father property\")"
      ],
      "metadata": {
        "id": "AbY3a4ctYhzt"
      },
      "execution_count": 1,
      "outputs": []
    },
    {
      "cell_type": "code",
      "source": [
        "class son(father):\n",
        "  def job(self):\n",
        "    print(\"son has propert from job\")"
      ],
      "metadata": {
        "id": "dK-xVXPUYyz5"
      },
      "execution_count": 3,
      "outputs": []
    },
    {
      "cell_type": "code",
      "source": [
        "son() # object/instance of son class"
      ],
      "metadata": {
        "colab": {
          "base_uri": "https://localhost:8080/"
        },
        "id": "7Aj8FYpxZX6n",
        "outputId": "e48f5f2c-4acd-4748-b533-fec7c83eabdf"
      },
      "execution_count": 4,
      "outputs": [
        {
          "output_type": "execute_result",
          "data": {
            "text/plain": [
              "<__main__.son at 0x7df755bf5dc0>"
            ]
          },
          "metadata": {},
          "execution_count": 4
        }
      ]
    },
    {
      "cell_type": "code",
      "source": [
        "# child can have his property and also his father property\n",
        "son_obj = son() # create an object of the son class\n",
        "son_obj.father_property() # call the inherited method\n",
        "son_obj.job() # call the method from the son class"
      ],
      "metadata": {
        "colab": {
          "base_uri": "https://localhost:8080/"
        },
        "id": "Ne2yv1KQZdVr",
        "outputId": "38f667e5-12a5-4d7b-de62-509b982b20e6"
      },
      "execution_count": 8,
      "outputs": [
        {
          "output_type": "stream",
          "name": "stdout",
          "text": [
            "This is the father property\n",
            "son has propert from job\n"
          ]
        }
      ]
    },
    {
      "cell_type": "code",
      "source": [
        "son_obj.father_property()"
      ],
      "metadata": {
        "colab": {
          "base_uri": "https://localhost:8080/"
        },
        "id": "GjjMuwsUZuvM",
        "outputId": "1bde6119-446a-4112-b5e8-d11a69d33031"
      },
      "execution_count": 10,
      "outputs": [
        {
          "output_type": "stream",
          "name": "stdout",
          "text": [
            "This is the father property\n"
          ]
        }
      ]
    },
    {
      "cell_type": "code",
      "source": [
        "# A father will have only his property\n",
        "father_obj = father()\n",
        "father_obj.father_property()"
      ],
      "metadata": {
        "colab": {
          "base_uri": "https://localhost:8080/"
        },
        "id": "5dfA8rUSaG-o",
        "outputId": "2e2b4ae1-34b0-4934-8f8c-8aa8520026db"
      },
      "execution_count": 12,
      "outputs": [
        {
          "output_type": "stream",
          "name": "stdout",
          "text": [
            "This is the father property\n"
          ]
        }
      ]
    },
    {
      "cell_type": "code",
      "source": [
        "father_obj.job()"
      ],
      "metadata": {
        "colab": {
          "base_uri": "https://localhost:8080/",
          "height": 141
        },
        "id": "BbsejtSvaRRl",
        "outputId": "88905239-2282-40b8-8b37-0ab6c25c21d3"
      },
      "execution_count": 13,
      "outputs": [
        {
          "output_type": "error",
          "ename": "AttributeError",
          "evalue": "'father' object has no attribute 'job'",
          "traceback": [
            "\u001b[0;31m---------------------------------------------------------------------------\u001b[0m",
            "\u001b[0;31mAttributeError\u001b[0m                            Traceback (most recent call last)",
            "\u001b[0;32m/tmp/ipython-input-1554946550.py\u001b[0m in \u001b[0;36m<cell line: 0>\u001b[0;34m()\u001b[0m\n\u001b[0;32m----> 1\u001b[0;31m \u001b[0mfather_obj\u001b[0m\u001b[0;34m.\u001b[0m\u001b[0mjob\u001b[0m\u001b[0;34m(\u001b[0m\u001b[0;34m)\u001b[0m\u001b[0;34m\u001b[0m\u001b[0;34m\u001b[0m\u001b[0m\n\u001b[0m",
            "\u001b[0;31mAttributeError\u001b[0m: 'father' object has no attribute 'job'"
          ]
        }
      ]
    },
    {
      "cell_type": "code",
      "source": [
        "# parent class will not have access to the property(method/attribute) of child class but child class will have access to both\n",
        "class fruit:\n",
        "  def fruit_info(self):\n",
        "    print(\"Inside parent class\")\n",
        "\n",
        "class apple(fruit): # Define apple class outside the fruit_info method\n",
        "  def apple_info(self):\n",
        "    print(\"Inside the child class\")"
      ],
      "metadata": {
        "id": "m9RZnX-0aZy3"
      },
      "execution_count": 18,
      "outputs": []
    },
    {
      "cell_type": "code",
      "source": [
        "obj = apple()\n",
        "obj.apple_info()"
      ],
      "metadata": {
        "colab": {
          "base_uri": "https://localhost:8080/"
        },
        "id": "4b_1SQ-wbOot",
        "outputId": "02cf15c8-c0ed-4d10-87fe-f305788cbc43"
      },
      "execution_count": 19,
      "outputs": [
        {
          "output_type": "stream",
          "name": "stdout",
          "text": [
            "Inside the child class\n"
          ]
        }
      ]
    },
    {
      "cell_type": "code",
      "source": [
        "obj.fruit_info()"
      ],
      "metadata": {
        "colab": {
          "base_uri": "https://localhost:8080/"
        },
        "id": "tCjeRm95blia",
        "outputId": "d9898002-5436-4497-aeba-438f7a7aea47"
      },
      "execution_count": 20,
      "outputs": [
        {
          "output_type": "stream",
          "name": "stdout",
          "text": [
            "Inside parent class\n"
          ]
        }
      ]
    },
    {
      "cell_type": "code",
      "source": [
        "par = fruit()\n",
        "par.fruit_info()"
      ],
      "metadata": {
        "colab": {
          "base_uri": "https://localhost:8080/"
        },
        "id": "8e35R8oXb9y-",
        "outputId": "f6920263-dfae-4a61-9492-6f4a1788706c"
      },
      "execution_count": 22,
      "outputs": [
        {
          "output_type": "stream",
          "name": "stdout",
          "text": [
            "Inside parent class\n"
          ]
        }
      ]
    },
    {
      "cell_type": "code",
      "source": [
        "par.apple_info()"
      ],
      "metadata": {
        "colab": {
          "base_uri": "https://localhost:8080/",
          "height": 141
        },
        "id": "UIeIjvtEcEy-",
        "outputId": "cab6aae4-b5b1-4646-d659-c68c691ca61c"
      },
      "execution_count": 23,
      "outputs": [
        {
          "output_type": "error",
          "ename": "AttributeError",
          "evalue": "'fruit' object has no attribute 'apple_info'",
          "traceback": [
            "\u001b[0;31m---------------------------------------------------------------------------\u001b[0m",
            "\u001b[0;31mAttributeError\u001b[0m                            Traceback (most recent call last)",
            "\u001b[0;32m/tmp/ipython-input-2491198764.py\u001b[0m in \u001b[0;36m<cell line: 0>\u001b[0;34m()\u001b[0m\n\u001b[0;32m----> 1\u001b[0;31m \u001b[0mpar\u001b[0m\u001b[0;34m.\u001b[0m\u001b[0mapple_info\u001b[0m\u001b[0;34m(\u001b[0m\u001b[0;34m)\u001b[0m\u001b[0;34m\u001b[0m\u001b[0;34m\u001b[0m\u001b[0m\n\u001b[0m",
            "\u001b[0;31mAttributeError\u001b[0m: 'fruit' object has no attribute 'apple_info'"
          ]
        }
      ]
    },
    {
      "cell_type": "code",
      "source": [
        "# method overriding >> re-writing/re-defining methods of parent class is derived/child class\n",
        "class fruit:\n",
        "  def fruit_info(self):\n",
        "    print(\"Inside parent class\")\n",
        "    class apple(fruit):\n",
        "      def fruit_info(self):\n",
        "        print(\"Inside the child class(fruit_info)\")\n",
        "        def apple_info(self):\n",
        "          print(\"inside the child class\")"
      ],
      "metadata": {
        "id": "DypGscwWcKmQ"
      },
      "execution_count": 26,
      "outputs": []
    },
    {
      "cell_type": "code",
      "source": [
        "obj = apple()\n",
        "obj.apple_info()"
      ],
      "metadata": {
        "colab": {
          "base_uri": "https://localhost:8080/"
        },
        "id": "u9bLtGLUdDbd",
        "outputId": "1cb735c5-0c2e-46f9-aca1-bf58763bcb6c"
      },
      "execution_count": 27,
      "outputs": [
        {
          "output_type": "stream",
          "name": "stdout",
          "text": [
            "Inside the child class\n"
          ]
        }
      ]
    },
    {
      "cell_type": "code",
      "source": [
        "obj = apple()\n",
        "obj.fruit_info()"
      ],
      "metadata": {
        "colab": {
          "base_uri": "https://localhost:8080/"
        },
        "id": "OyavkTypdQd_",
        "outputId": "96e70ad9-d256-4988-fa07-35294a2036a5"
      },
      "execution_count": 28,
      "outputs": [
        {
          "output_type": "stream",
          "name": "stdout",
          "text": [
            "Inside parent class\n"
          ]
        }
      ]
    },
    {
      "cell_type": "code",
      "source": [
        "# method overriding >> child class is very powerful\n",
        "# method overriding happened between two class\n",
        "\n",
        "# multi level inheritance"
      ],
      "metadata": {
        "id": "QcoHlJZgdX7W"
      },
      "execution_count": null,
      "outputs": []
    },
    {
      "cell_type": "code",
      "source": [
        "# multi level inheritance\n",
        "class grandfather:\n",
        "  def prop_grand_father(self):\n",
        "    print(\"I am your grand father, this is my property\")\n",
        "\n",
        "class father(grandfather): # father inherits from grandfather\n",
        "  def prop_father(self): # corrected method name\n",
        "    print(\"I am your father, I am having my and your grand father's property\")\n",
        "\n",
        "class son(father): # son inherits from father\n",
        "  def prop_son(self):\n",
        "    print(\"I am the king, I am having all the properties\")"
      ],
      "metadata": {
        "id": "TaCK7zuadro1"
      },
      "execution_count": 32,
      "outputs": []
    },
    {
      "cell_type": "code",
      "source": [
        "son = son()"
      ],
      "metadata": {
        "id": "eS0hSyB4e77X"
      },
      "execution_count": 30,
      "outputs": []
    },
    {
      "cell_type": "code",
      "source": [
        "# Now you can access the methods from grandfather and father classes through the son object\n",
        "son_obj = son()\n",
        "son_obj.prop_grand_father()\n",
        "son_obj.prop_father()\n",
        "son_obj.prop_son()"
      ],
      "metadata": {
        "colab": {
          "base_uri": "https://localhost:8080/"
        },
        "id": "5OMhPDv4e_I5",
        "outputId": "b6179cd1-65ab-49cb-c0c2-9bb029a6b441"
      },
      "execution_count": 33,
      "outputs": [
        {
          "output_type": "stream",
          "name": "stdout",
          "text": [
            "I am your grand father, this is my property\n",
            "I am your father, I am having my and your grand father's property\n",
            "I am the king, I am having all the properties\n"
          ]
        }
      ]
    },
    {
      "cell_type": "code",
      "source": [
        "fath = father()\n",
        "fath.prop_father()"
      ],
      "metadata": {
        "colab": {
          "base_uri": "https://localhost:8080/"
        },
        "id": "13HsN3ygfOYi",
        "outputId": "2a718b10-ce6a-46b3-d229-dd1071abf483"
      },
      "execution_count": 35,
      "outputs": [
        {
          "output_type": "stream",
          "name": "stdout",
          "text": [
            "I am your father, I am having my and your grand father's property\n"
          ]
        }
      ]
    },
    {
      "cell_type": "code",
      "source": [
        "fath.prop_grand_father()"
      ],
      "metadata": {
        "colab": {
          "base_uri": "https://localhost:8080/"
        },
        "id": "uM3ki2AOfsWu",
        "outputId": "eaa8fd69-a624-4767-f8ff-0d1ae7b466ae"
      },
      "execution_count": 36,
      "outputs": [
        {
          "output_type": "stream",
          "name": "stdout",
          "text": [
            "I am your grand father, this is my property\n"
          ]
        }
      ]
    },
    {
      "cell_type": "code",
      "source": [
        "gf = grandfather()\n",
        "gf.prop_grand_father()"
      ],
      "metadata": {
        "colab": {
          "base_uri": "https://localhost:8080/"
        },
        "id": "sKlM4PaHf-oI",
        "outputId": "50b7b42d-74d1-41ff-c4a5-6e8bb1fed970"
      },
      "execution_count": 37,
      "outputs": [
        {
          "output_type": "stream",
          "name": "stdout",
          "text": [
            "I am your grand father, this is my property\n"
          ]
        }
      ]
    },
    {
      "cell_type": "code",
      "source": [
        "# usecase - multi level inheritance\n",
        "class vehicle:\n",
        "  def vehicle_info(self):\n",
        "    print(\"Inside vehicle class\")\n",
        "\n",
        "class car(vehicle): # car inherits from vehicle\n",
        "  def car_info(self):\n",
        "    print(\"Inside the car\")\n",
        "\n",
        "class sports_car(car): # sports_car inherits from car\n",
        "  def sports_car_info(self):\n",
        "    print(\"Inside sports car\")"
      ],
      "metadata": {
        "id": "JOPGpAENgQZz"
      },
      "execution_count": 41,
      "outputs": []
    },
    {
      "cell_type": "code",
      "source": [
        "s1 = sports_car()\n",
        "s1.sports_car_info()"
      ],
      "metadata": {
        "colab": {
          "base_uri": "https://localhost:8080/"
        },
        "id": "DHlwS9fphshJ",
        "outputId": "d3363e0e-b7c8-4669-f2cc-b22aca601b8d"
      },
      "execution_count": 42,
      "outputs": [
        {
          "output_type": "stream",
          "name": "stdout",
          "text": [
            "Inside sports car\n"
          ]
        }
      ]
    },
    {
      "cell_type": "code",
      "source": [
        "s1.vehicle_info()"
      ],
      "metadata": {
        "colab": {
          "base_uri": "https://localhost:8080/"
        },
        "id": "M0BPB5YMh0Dl",
        "outputId": "f998d65f-e998-4159-cf6c-dbf897aff36d"
      },
      "execution_count": 43,
      "outputs": [
        {
          "output_type": "stream",
          "name": "stdout",
          "text": [
            "Inside vehicle class\n"
          ]
        }
      ]
    },
    {
      "cell_type": "code",
      "source": [
        "s1.car_info()"
      ],
      "metadata": {
        "colab": {
          "base_uri": "https://localhost:8080/"
        },
        "id": "WSuMvxqUiEDc",
        "outputId": "c2428a9b-9397-4a7f-a4b1-ecfc90f262fc"
      },
      "execution_count": 44,
      "outputs": [
        {
          "output_type": "stream",
          "name": "stdout",
          "text": [
            "Inside the car\n"
          ]
        }
      ]
    },
    {
      "cell_type": "code",
      "source": [
        "# another example of method overriding\n",
        "class vehicle:\n",
        "  def vehicle_info(self):\n",
        "    print(\"Inside vehicle class\")\n",
        "\n",
        "    class car(vehicle):\n",
        "      def car_info(self):\n",
        "        print(\"Inside the car\")\n",
        "\n",
        "        class sports_car(car):\n",
        "          def vehicle_info(self):\n",
        "            print(\"Inside sports car\")"
      ],
      "metadata": {
        "id": "Ueb3Mh5MiIKV"
      },
      "execution_count": 45,
      "outputs": []
    },
    {
      "cell_type": "code",
      "source": [
        "s1 = sports_car()\n",
        "s1.vehicle_info()  # method overriding >> child class is most powerful"
      ],
      "metadata": {
        "colab": {
          "base_uri": "https://localhost:8080/"
        },
        "id": "IVlEr-sDix_6",
        "outputId": "3a1bd6e9-71d6-4cdd-de1d-aab7f16afa45"
      },
      "execution_count": 46,
      "outputs": [
        {
          "output_type": "stream",
          "name": "stdout",
          "text": [
            "Inside vehicle class\n"
          ]
        }
      ]
    },
    {
      "cell_type": "code",
      "source": [
        "# multiple inheritance >> one child class may inherit the property of multiple parent class\n",
        "\n",
        "class ParentClass1:\n",
        "  def method1(self):\n",
        "    print(\"method1 of ParentClass1\")\n",
        "\n",
        "class ParentClass2:\n",
        "  def method2(self):\n",
        "    print(\"method2 of ParentClass2\")\n",
        "\n",
        "class ChildClass(ParentClass1, ParentClass2): # Corrected class name and multiple inheritance\n",
        "  def child_method(self):\n",
        "    print(\"method of ChildClass\")\n",
        "\n",
        "# Example of using multiple inheritance\n",
        "# child_obj = ChildClass()\n",
        "# child_obj.method1()\n",
        "# child_obj.method2()\n",
        "# child_obj.child_method()"
      ],
      "metadata": {
        "id": "H_5nHRdWjGiG"
      },
      "execution_count": 51,
      "outputs": []
    },
    {
      "cell_type": "code",
      "source": [
        "c1 = ChildClass()\n",
        "c1.child_method()"
      ],
      "metadata": {
        "colab": {
          "base_uri": "https://localhost:8080/"
        },
        "id": "w0W8clNjkKKQ",
        "outputId": "29c7ae2c-d69a-4954-a716-4579ad5164e5"
      },
      "execution_count": 55,
      "outputs": [
        {
          "output_type": "stream",
          "name": "stdout",
          "text": [
            "method of ChildClass\n"
          ]
        }
      ]
    },
    {
      "cell_type": "code",
      "source": [
        "c1.method2()"
      ],
      "metadata": {
        "colab": {
          "base_uri": "https://localhost:8080/"
        },
        "id": "ZS3mrxskkaec",
        "outputId": "a320718b-97a8-4f73-ef6e-5e61edd61399"
      },
      "execution_count": 56,
      "outputs": [
        {
          "output_type": "stream",
          "name": "stdout",
          "text": [
            "method2 of ParentClass2\n"
          ]
        }
      ]
    },
    {
      "cell_type": "code",
      "source": [
        "# diamond problem >> it occurs when a class inherits from 2 or more than 2 class >> will lead to ambiguity in execution of method\n",
        "# to remove diamond problem >> python uses method  resolution order(MRO) algorithm called C3 linearization\n",
        "# meaning that the class, that method will be called >> in this case method1"
      ],
      "metadata": {
        "id": "MIV081Brk9B-"
      },
      "execution_count": null,
      "outputs": []
    },
    {
      "cell_type": "code",
      "source": [
        "class parentclass1:\n",
        "  def method_par(self):\n",
        "    print(\"method1 of parent class1\")\n",
        "\n",
        "class parentclass2:\n",
        "  def method_par(self):\n",
        "    print(\"method2 of parent class1\")\n",
        "\n",
        "class childclass(parentclass1, parentclass2):\n",
        "  def method(self):\n",
        "    print(\"method of child class\")"
      ],
      "metadata": {
        "id": "4bxG2VC3l0V6"
      },
      "execution_count": 60,
      "outputs": []
    },
    {
      "cell_type": "code",
      "source": [
        "c2 = childclass()\n",
        "c2.method_par() # Accessing the overridden method based on MRO"
      ],
      "metadata": {
        "colab": {
          "base_uri": "https://localhost:8080/"
        },
        "id": "QHXtjfXommEV",
        "outputId": "eeb29b66-12ec-4315-8bbc-7b860d83e639"
      },
      "execution_count": 61,
      "outputs": [
        {
          "output_type": "stream",
          "name": "stdout",
          "text": [
            "method1 of parent class1\n"
          ]
        }
      ]
    },
    {
      "cell_type": "code",
      "source": [
        "# Diamond problem\n",
        "class A:\n",
        "  def method(self):\n",
        "    print(\"method of A\")\n",
        "\n",
        "class B(A):\n",
        "  def method(self):\n",
        "    print(\"method of B\")\n",
        "\n",
        "class C(A):\n",
        "  def method(self):\n",
        "    print(\"method of class c\")\n",
        "\n",
        "class D(C,B):\n",
        "  pass"
      ],
      "metadata": {
        "id": "lj0qGQiAmr_b"
      },
      "execution_count": 65,
      "outputs": []
    },
    {
      "cell_type": "code",
      "source": [
        "d_obj = D() # Create an instance of D\n",
        "d_obj.method() # Call the method"
      ],
      "metadata": {
        "colab": {
          "base_uri": "https://localhost:8080/"
        },
        "id": "YPuYMdrLnmsu",
        "outputId": "2648bfc5-217d-44f8-b529-4f5d5d3c746c"
      },
      "execution_count": 66,
      "outputs": [
        {
          "output_type": "stream",
          "name": "stdout",
          "text": [
            "method of class c\n"
          ]
        }
      ]
    },
    {
      "cell_type": "code",
      "source": [
        "# hierarchical inheritance >> one parent class >> multiple(more than two child class)\n",
        "class vehicle:\n",
        "  def info(self):\n",
        "    print(\"This is vehicle\")"
      ],
      "metadata": {
        "id": "-urcu8YCnuzR"
      },
      "execution_count": 67,
      "outputs": []
    },
    {
      "cell_type": "code",
      "source": [
        "class car(vehicle):\n",
        "  def car_info(self, name):\n",
        "    print(\"This is car info\", name)"
      ],
      "metadata": {
        "id": "86BzvH59oQIY"
      },
      "execution_count": 68,
      "outputs": []
    },
    {
      "cell_type": "code",
      "source": [
        "c1 = car()\n",
        "c1.info()"
      ],
      "metadata": {
        "colab": {
          "base_uri": "https://localhost:8080/"
        },
        "id": "uVidZ9KPoh6O",
        "outputId": "20063f50-f260-4e03-8748-c7f99b184c4d"
      },
      "execution_count": 69,
      "outputs": [
        {
          "output_type": "stream",
          "name": "stdout",
          "text": [
            "This is vehicle\n"
          ]
        }
      ]
    },
    {
      "cell_type": "code",
      "source": [
        "c1.car_info(\"BMW\")"
      ],
      "metadata": {
        "colab": {
          "base_uri": "https://localhost:8080/"
        },
        "id": "RN_Gh5NvonhG",
        "outputId": "9ce3a828-b874-4387-b4e9-a37f7857e286"
      },
      "execution_count": 70,
      "outputs": [
        {
          "output_type": "stream",
          "name": "stdout",
          "text": [
            "This is car info BMW\n"
          ]
        }
      ]
    },
    {
      "cell_type": "code",
      "source": [
        "obj2 = Truck()\n",
        "obj2.info()"
      ],
      "metadata": {
        "colab": {
          "base_uri": "https://localhost:8080/"
        },
        "id": "QvX3bf-sor3S",
        "outputId": "7133bb4f-f11e-4e31-9d85-319b04ccb724"
      },
      "execution_count": 75,
      "outputs": [
        {
          "output_type": "stream",
          "name": "stdout",
          "text": [
            "This is vehicle\n"
          ]
        }
      ]
    },
    {
      "cell_type": "code",
      "metadata": {
        "id": "61d6599a"
      },
      "source": [
        "class Truck(vehicle): # Define the Truck class inheriting from vehicle\n",
        "  def truck_info(self, name):\n",
        "    print(\"This is truck info\", name)"
      ],
      "execution_count": 74,
      "outputs": []
    },
    {
      "cell_type": "code",
      "source": [
        "obj2.truck_info(\"truck1\")"
      ],
      "metadata": {
        "colab": {
          "base_uri": "https://localhost:8080/"
        },
        "id": "DdWkutjFo8V3",
        "outputId": "ea836a93-5e55-4c2f-920c-8be5ee325304"
      },
      "execution_count": 76,
      "outputs": [
        {
          "output_type": "stream",
          "name": "stdout",
          "text": [
            "This is truck info truck1\n"
          ]
        }
      ]
    },
    {
      "cell_type": "code",
      "source": [
        "# hybrid inheritance >> multiple types or combination of different inheritance\n",
        "\n",
        "class vehicle:\n",
        "  def vehicle_info(self):\n",
        "    print(\"Inside the vehicle class\")"
      ],
      "metadata": {
        "id": "B4dVCnMPpH6-"
      },
      "execution_count": 78,
      "outputs": []
    },
    {
      "cell_type": "code",
      "source": [
        "class car(vehicle):\n",
        "  def car_info(self):\n",
        "    print(\"Inside the car class\")"
      ],
      "metadata": {
        "id": "nKd4sZqPpfAe"
      },
      "execution_count": 79,
      "outputs": []
    },
    {
      "cell_type": "code",
      "source": [
        "class truck(vehicle):\n",
        "  def truck_info(self, name):\n",
        "    print(\"Inside truck info\", name)"
      ],
      "metadata": {
        "id": "VFpUGp78psrj"
      },
      "execution_count": 80,
      "outputs": []
    },
    {
      "cell_type": "code",
      "source": [
        "class sportscar(car, vehicle):\n",
        "  def sports_info(self):\n",
        "    print(\"Inside sports car\")"
      ],
      "metadata": {
        "id": "k2DdHU-tqBlk"
      },
      "execution_count": 81,
      "outputs": []
    },
    {
      "cell_type": "code",
      "source": [
        "obj1 = sportscar()\n",
        "obj1.car_info()"
      ],
      "metadata": {
        "colab": {
          "base_uri": "https://localhost:8080/"
        },
        "id": "RDrtvlVIqVeU",
        "outputId": "08c11ce3-356d-4fbe-92b4-cae3dc49881f"
      },
      "execution_count": 82,
      "outputs": [
        {
          "output_type": "stream",
          "name": "stdout",
          "text": [
            "Inside the car class\n"
          ]
        }
      ]
    },
    {
      "cell_type": "code",
      "source": [
        "obj1.vehicle_info()"
      ],
      "metadata": {
        "colab": {
          "base_uri": "https://localhost:8080/"
        },
        "id": "Z_heFTm-qbuz",
        "outputId": "239177c7-4fcf-4668-e8af-4645621cbcc7"
      },
      "execution_count": 83,
      "outputs": [
        {
          "output_type": "stream",
          "name": "stdout",
          "text": [
            "Inside the vehicle class\n"
          ]
        }
      ]
    },
    {
      "cell_type": "code",
      "source": [
        "obj1.car_info()"
      ],
      "metadata": {
        "colab": {
          "base_uri": "https://localhost:8080/"
        },
        "id": "zt7a1hzxqgEO",
        "outputId": "69ad5eb0-81ba-4625-b150-f49944576ae5"
      },
      "execution_count": 84,
      "outputs": [
        {
          "output_type": "stream",
          "name": "stdout",
          "text": [
            "Inside the car class\n"
          ]
        }
      ]
    },
    {
      "cell_type": "code",
      "source": [
        "# Abstraction >> concept of hiding complex implementation\n",
        "# hiding unneeded details and exposing the required\n",
        "# abstract class can not be instantiated (can not make object)\n",
        "# abstract class should always be subclassed\n",
        "# abstract class may contain methods that are just declared and not implemented in the abstract class itself, subclass are responsible for implementing these abstract methods\n",
        "# If in inherited class a method is not present from abstract class it will not throw error"
      ],
      "metadata": {
        "id": "_pP7YH_Kqju_"
      },
      "execution_count": null,
      "outputs": []
    },
    {
      "cell_type": "code",
      "source": [
        "# example >> if you use an pwskills to attend class do you see the backend code or just an interface to attend the class\n",
        "# >> you just see interface\n",
        "# abstraction can be achieved using abstract class >> import abc"
      ],
      "metadata": {
        "id": "FW1LyVrir8Kd"
      },
      "execution_count": null,
      "outputs": []
    },
    {
      "cell_type": "code",
      "source": [
        "# use cases\n",
        "# in any class at pwskills >> data science/frontened/backend,the following three methods will be common\n",
        "import abc # collection of multiple functions is a module\n",
        "class pwskills:\n",
        "  @abc.abstractmethod\n",
        "  def student_details(self):\n",
        "    pass\n",
        "    @abc.abstractmethod\n",
        "    def student_assignment(self):\n",
        "      pass\n",
        "      @abc.abstractmethod\n",
        "      def student_marks(self):\n",
        "        pass"
      ],
      "metadata": {
        "id": "uoxbzL2SsXCx"
      },
      "execution_count": 85,
      "outputs": []
    },
    {
      "cell_type": "code",
      "source": [
        "class datascience(pwskills):\n",
        "  def student_details(self):\n",
        "    return\"Datascience course details\"\n",
        "    def student_marks(self):\n",
        "      return\"give ds student marks\""
      ],
      "metadata": {
        "id": "pHtHDZKLs_Tz"
      },
      "execution_count": 86,
      "outputs": []
    },
    {
      "cell_type": "code",
      "source": [
        "class webdev (pwskills):\n",
        "  def student_assignment(self):\n",
        "    return\"This will give web dev student assignment\"\n",
        "    def student_marks(self):\n",
        "      return\"web dev student marks\""
      ],
      "metadata": {
        "id": "UkcXVE7bto8u"
      },
      "execution_count": null,
      "outputs": []
    },
    {
      "cell_type": "code",
      "source": [
        "ds =  datascience()\n",
        "ds.student_details() # it will not throw an error even if any method is not define"
      ],
      "metadata": {
        "colab": {
          "base_uri": "https://localhost:8080/",
          "height": 36
        },
        "id": "Q3vkhv7ouJmv",
        "outputId": "d03455fd-5966-436b-ed43-aa667cb2384b"
      },
      "execution_count": 87,
      "outputs": [
        {
          "output_type": "execute_result",
          "data": {
            "text/plain": [
              "'Datascience course details'"
            ],
            "application/vnd.google.colaboratory.intrinsic+json": {
              "type": "string"
            }
          },
          "metadata": {},
          "execution_count": 87
        }
      ]
    },
    {
      "cell_type": "code",
      "source": [
        "ds.student_details()"
      ],
      "metadata": {
        "colab": {
          "base_uri": "https://localhost:8080/",
          "height": 36
        },
        "id": "hhcHB0ZauT4U",
        "outputId": "27efda83-0e83-4c20-f930-1f7e71b634a0"
      },
      "execution_count": 88,
      "outputs": [
        {
          "output_type": "execute_result",
          "data": {
            "text/plain": [
              "'Datascience course details'"
            ],
            "application/vnd.google.colaboratory.intrinsic+json": {
              "type": "string"
            }
          },
          "metadata": {},
          "execution_count": 88
        }
      ]
    },
    {
      "cell_type": "code",
      "source": [
        "w = webdev()\n",
        "w.student_assignment()"
      ],
      "metadata": {
        "colab": {
          "base_uri": "https://localhost:8080/",
          "height": 36
        },
        "id": "vO4tPtSiueA3",
        "outputId": "60ad31b7-ff61-4774-fc0c-761095d20bf3"
      },
      "execution_count": 91,
      "outputs": [
        {
          "output_type": "execute_result",
          "data": {
            "text/plain": [
              "'This will give web dev student assignment'"
            ],
            "application/vnd.google.colaboratory.intrinsic+json": {
              "type": "string"
            }
          },
          "metadata": {},
          "execution_count": 91
        }
      ]
    },
    {
      "cell_type": "code",
      "metadata": {
        "id": "bc9508a4"
      },
      "source": [
        "class webdev (pwskills):\n",
        "  def student_assignment(self):\n",
        "    return\"This will give web dev student assignment\"\n",
        "  def student_marks(self):\n",
        "    return\"web dev student marks\""
      ],
      "execution_count": 90,
      "outputs": []
    },
    {
      "cell_type": "code",
      "source": [
        "w.student_marks()"
      ],
      "metadata": {
        "colab": {
          "base_uri": "https://localhost:8080/",
          "height": 36
        },
        "id": "h0q_daNruqAP",
        "outputId": "e4148549-711b-48d7-bb7a-c3c337669f90"
      },
      "execution_count": 92,
      "outputs": [
        {
          "output_type": "execute_result",
          "data": {
            "text/plain": [
              "'web dev student marks'"
            ],
            "application/vnd.google.colaboratory.intrinsic+json": {
              "type": "string"
            }
          },
          "metadata": {},
          "execution_count": 92
        }
      ]
    },
    {
      "cell_type": "code",
      "source": [
        "# use case\n",
        "import abc # Import abc module\n",
        "\n",
        "class shape(abc.ABC): # Added colon and inherited from abc.ABC\n",
        "  @abc.abstractmethod\n",
        "  def calculate_area(self):\n",
        "    pass\n",
        "\n",
        "class rectangle(shape): # Added colon and inherited from shape\n",
        "  def calculate_area(self):\n",
        "    return\"area of rectangle is len*breadth\"\n",
        "\n",
        "class circle(shape): # Added colon and inherited from shape\n",
        "  def calculate_area(self):\n",
        "    return\"area of circle is pi r** 2\""
      ],
      "metadata": {
        "id": "1gx2eu7SuwqY"
      },
      "execution_count": 95,
      "outputs": []
    },
    {
      "cell_type": "code",
      "source": [
        "rect = rectangle()\n",
        "rect.calculate_area()"
      ],
      "metadata": {
        "colab": {
          "base_uri": "https://localhost:8080/",
          "height": 36
        },
        "id": "3c2QHe_Gv3bf",
        "outputId": "8fd5fae8-b14c-44c1-dfd4-798f0cc59d86"
      },
      "execution_count": 96,
      "outputs": [
        {
          "output_type": "execute_result",
          "data": {
            "text/plain": [
              "'area of rectangle is len*breadth'"
            ],
            "application/vnd.google.colaboratory.intrinsic+json": {
              "type": "string"
            }
          },
          "metadata": {},
          "execution_count": 96
        }
      ]
    },
    {
      "cell_type": "code",
      "source": [
        "c = circle()\n",
        "c.calculate_area()"
      ],
      "metadata": {
        "colab": {
          "base_uri": "https://localhost:8080/",
          "height": 36
        },
        "id": "XnSFd1BmwGsf",
        "outputId": "653c1062-4b86-4ca1-a60f-10a313676b66"
      },
      "execution_count": 97,
      "outputs": [
        {
          "output_type": "execute_result",
          "data": {
            "text/plain": [
              "'area of circle is pi r** 2'"
            ],
            "application/vnd.google.colaboratory.intrinsic+json": {
              "type": "string"
            }
          },
          "metadata": {},
          "execution_count": 97
        }
      ]
    },
    {
      "cell_type": "code",
      "source": [],
      "metadata": {
        "id": "EVGrLzDWwPqb"
      },
      "execution_count": null,
      "outputs": []
    }
  ]
}