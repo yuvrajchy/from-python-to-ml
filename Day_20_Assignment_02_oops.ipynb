{
  "nbformat": 4,
  "nbformat_minor": 0,
  "metadata": {
    "colab": {
      "provenance": []
    },
    "kernelspec": {
      "name": "python3",
      "display_name": "Python 3"
    },
    "language_info": {
      "name": "python"
    }
  },
  "cells": [
    {
      "cell_type": "markdown",
      "source": [
        "PYTHON OOPS QUESTIONS"
      ],
      "metadata": {
        "id": "NJInT1VWDQ-j"
      }
    },
    {
      "cell_type": "markdown",
      "source": [
        "1. What is Object-Oriented Programming (OOP)?\n",
        "- Object-Oriented Programming (OOP) is a programming method where programs are designed using objects. Objects are created from classes, which act as blueprints. OOP focuses on combining data (variables) and behavior (methods) together.\n",
        "Main features: Encapsulation, Abstraction, Inheritance, and Polymorphism.\n",
        "Advantages: Reusability, easy maintenance, scalability, and real-world modeling."
      ],
      "metadata": {
        "id": "7zzMBjSwDqRC"
      }
    },
    {
      "cell_type": "markdown",
      "source": [
        "2. What is a class in OOP?\n",
        "- A class is a blueprint/template for creating objects.\n",
        "It defines the properties (data) and methods (functions) that its objects will have.\n",
        "Example: A Car class may have properties like color, brand and methods like drive(), brake()."
      ],
      "metadata": {
        "id": "vZKsmOG3FJTN"
      }
    },
    {
      "cell_type": "markdown",
      "source": [
        "3. What is an object in OOP?\n",
        "- An object is an instance of a class.\n",
        "It represents a real-world entity and has its own values for the class properties.\n",
        "Example: If Car is a class, then my_car = Car(\"BMW\", \"Red\") is an object."
      ],
      "metadata": {
        "id": "pAkhPmCoFLAn"
      }
    },
    {
      "cell_type": "markdown",
      "source": [
        "4. What is the difference between abstraction and encapsulation?\n",
        "- In Object-Oriented Programming (OOP), both Abstraction and Encapsulation are important concepts but they are different.\n",
        "\n",
        "🔹Abstraction\n",
        "\n",
        "1. Abstraction means hiding implementation details and showing only the essential features of an object.\n",
        "\n",
        "2. It focuses on what an object does rather than how it does it.\n",
        "\n",
        "Example: When we use a car, we only know the functions like start, stop, drive, but we don’t know the internal working of the engine.\n",
        "\n",
        "🔹Encapsulation\n",
        "\n",
        "1. Encapsulation means wrapping data (variables) and methods (functions) into a single unit called a class.\n",
        "\n",
        "2. It focuses on how the data and methods are bound together and controls access using access modifiers (public, private, protected).\n",
        "\n",
        "Example: A class Car contains both properties (color, model) and methods (drive, brake).\n"
      ],
      "metadata": {
        "id": "-_vwOFs_GOOF"
      }
    },
    {
      "cell_type": "markdown",
      "source": [
        "5. What are dunder methods in Python?\n",
        "- In Python, dunder methods (also called magic methods or special methods) are methods that start and end with double underscores (__method__).\n",
        "\n",
        "They are not called directly by the programmer; instead, Python calls them automatically in certain situations to give objects special behavior.\n",
        "\n",
        "Examples of Dunder Methods\n",
        "\n",
        "__init__ → Constructor, called when an object is created.\n",
        "\n",
        "__str__ → Defines string representation of the object.\n",
        "\n",
        "__len__ → Defines behavior of the built-in len() function.\n",
        "\n",
        "__add__ → Defines behavior of + operator.\n"
      ],
      "metadata": {
        "id": "vK7tl35lG6Rd"
      }
    },
    {
      "cell_type": "markdown",
      "source": [
        "6. Explain the concept of inheritance in OOP?\n",
        "- Inheritance in Object-Oriented Programming (OOP) is the process by which one class (called the child class or derived class) can acquire properties and methods from another class (called the parent class or base class).\n",
        "\n",
        "It allows code reusability, easier maintenance, and supports the concept of hierarchy in programming.\n",
        "\n",
        "🔹Types of Inheritance\n",
        "\n",
        "1. Single Inheritance → Child inherits from one parent.\n",
        "\n",
        "2. Multiple Inheritance → Child inherits from more than one parent.\n",
        "\n",
        "3. Multilevel Inheritance → A chain of inheritance (Grandparent → Parent → Child).\n",
        "\n",
        "4. Hierarchical Inheritance → Multiple children inherit from the same parent.\n",
        "\n",
        "5. Hybrid Inheritance → Combination of two or more types of inheritance."
      ],
      "metadata": {
        "id": "QkasCrAMHJFe"
      }
    },
    {
      "cell_type": "markdown",
      "source": [
        "7. What is polymorphism in OOP?\n",
        "- Polymorphism in Object-Oriented Programming (OOP) means one name but many forms.\n",
        "It allows the same function or operator to perform different actions depending on the object or data type it is used with."
      ],
      "metadata": {
        "id": "0Rjfh7GYHoeM"
      }
    },
    {
      "cell_type": "markdown",
      "source": [
        "8. How is encapsulation achieved in Python?\n",
        "- Encapsulation in Python is achieved by binding data (variables) and methods (functions) together inside a class and by restricting direct access to some data using access modifiers.\n",
        "\n",
        "🔹Steps to Achieve Encapsulation\n",
        "\n",
        "Define a Class → Keep data (attributes) and methods together.\n",
        "\n",
        "Use Access Modifiers:\n",
        "\n",
        "- Public (name) → Accessible everywhere.\n",
        "\n",
        "- Protected (_name) → Meant to be used within the class and its subclasses (convention).\n",
        "\n",
        "- Private (__name) → Not accessible directly outside the class."
      ],
      "metadata": {
        "id": "PF-a_HRDHzWN"
      }
    },
    {
      "cell_type": "markdown",
      "source": [
        "9. What is a constructor in Python?\n",
        "- In Python, a constructor is a special method used to initialize objects of a class.\n",
        "\n",
        "It is automatically called when an object is created.\n",
        "\n",
        "The constructor in Python is defined using the __init__ method.\n",
        "\n",
        "It assigns initial values to the data members (variables) of the class."
      ],
      "metadata": {
        "id": "-nTfGF_EINm2"
      }
    },
    {
      "cell_type": "markdown",
      "source": [
        "10. What are class and static methods in Python?\n",
        "\n",
        "- In Python, apart from normal instance methods, we also use class methods and static methods. They are defined inside a class using decorators.\n",
        "\n",
        "1. Class Method\n",
        "\n",
        "- Defined using the @classmethod decorator.\n",
        "\n",
        "- Takes cls (class reference) as the first parameter.\n",
        "\n",
        "- Can access and modify class-level variables.\n",
        "\n",
        "- Used when the behavior relates to the class as a whole.\n",
        "\n",
        "2. Static Method\n",
        "\n",
        "- Defined using the @staticmethod decorator.\n",
        "\n",
        "- Does not take self or cls as a parameter.\n",
        "\n",
        "- Cannot access class or object variables directly.\n",
        "\n",
        "- Used as a utility function inside a class."
      ],
      "metadata": {
        "id": "qIFP5EXaIjP0"
      }
    },
    {
      "cell_type": "markdown",
      "source": [
        "11. What is method overloading in Python?\n",
        "- Method Overloading means defining multiple methods with the same name but different parameters so that the correct method is chosen based on the number or type of arguments.\n",
        "\n",
        "- In many programming languages (like Java, C++), true method overloading is supported.\n",
        "\n",
        "- But in Python, real method overloading is not directly supported.\n",
        "\n",
        "- If we define multiple methods with the same name, the last definition overrides the previous ones.\n",
        "\n",
        "Instead, Python achieves similar behavior using:\n",
        "\n",
        "1. Default arguments\n",
        "\n",
        "2. Variable arguments (*args, **kwargs)\n"
      ],
      "metadata": {
        "id": "eN9NXXtYI-km"
      }
    },
    {
      "cell_type": "markdown",
      "source": [
        "12. What is method overriding in OOP?\n",
        "\n",
        "Method Overriding in Object-Oriented Programming (OOP) is a feature that allows a child class to provide a specific implementation of a method that is already defined in its parent class.\n",
        "\n",
        "- The method in the child class must have the same name and parameters as the parent class method.\n",
        "\n",
        "- When the method is called through the child class object, the child class version is executed instead of the parent class version.\n",
        "\n",
        "- It represents runtime polymorphism."
      ],
      "metadata": {
        "id": "gUfYtoTFStOZ"
      }
    },
    {
      "cell_type": "markdown",
      "source": [
        "13. What is a property decorator in Python?\n",
        "\n",
        "In Python, the property decorator (@property) is used to make a method act like an attribute.\n",
        "It allows us to access methods without using parentheses, which makes the code cleaner and supports encapsulation.\n",
        "\n",
        "- It is mainly used to create getter and setter methods for class attributes.\n",
        "\n",
        "- This ensures controlled access to private or protected variables."
      ],
      "metadata": {
        "id": "tjQrBM7pYz90"
      }
    },
    {
      "cell_type": "markdown",
      "source": [
        "14. Why is polymorphism important in OOP?\n",
        "\n",
        " Polymorphism in Object-Oriented Programming (OOP) means one name, many forms.\n",
        "It allows the same method or operator to behave differently depending on the object.\n",
        "\n",
        "Importance of Polymorphism\n",
        "\n",
        "1. Code Reusability → Same function name can work for different types of objects.\n",
        "\n",
        "2. Flexibility → Makes code more general and adaptable to new requirements.\n",
        "\n",
        "3. Readability → Reduces complexity by using a common interface.\n",
        "\n",
        "4. Extensibility → New classes can be added easily without changing existing code.\n",
        "\n",
        "5. Supports Real-world Modeling → Different objects respond in their own way (e.g., Dog → Bark, Cat → Meow)."
      ],
      "metadata": {
        "id": "7feBU0QZZFcn"
      }
    },
    {
      "cell_type": "markdown",
      "source": [
        "15. What is an abstract class in Python?\n",
        "\n",
        "An abstract class in Python is a class that cannot be instantiated directly (we cannot create objects of it).\n",
        "It is used as a blueprint for other classes and may contain one or more abstract methods (methods without implementation).\n",
        "\n",
        "- Abstract classes are defined using the abc module.\n",
        "\n",
        "- Any subclass of an abstract class must implement all its abstract methods, otherwise it will also remain abstract."
      ],
      "metadata": {
        "id": "YHFtVSeKZi2u"
      }
    },
    {
      "cell_type": "markdown",
      "source": [
        "16. What are the advantages of OOP?\n",
        "\n",
        "- Object-Oriented Programming (OOP) has many advantages over traditional programming approaches. It organizes code around objects and their interactions, making programs easier to design and maintain.\n",
        "\n",
        "🔹Advantages of OOP\n",
        "\n",
        "1. Reusability\n",
        "\n",
        "- Classes and objects can be reused in different programs, reducing code duplication.\n",
        "\n",
        "2. Modularity\n",
        "\n",
        "- Code is divided into smaller parts (classes), making it easy to understand and manage.\n",
        "\n",
        "3. Scalability and Maintainability\n",
        "\n",
        "- Large projects can be maintained and scaled easily by modifying specific classes without affecting the whole program.\n",
        "\n",
        "4. Abstraction\n",
        "\n",
        "- Hides unnecessary details and shows only essential features, simplifying complex systems.\n",
        "\n",
        "5. Encapsulation\n",
        "\n",
        "- Protects data by bundling variables and methods together, ensuring controlled access.\n",
        "\n",
        "6. Inheritance\n",
        "\n",
        "- Promotes code reusability by allowing child classes to use methods and properties of parent classes.\n",
        "\n",
        "7. Polymorphism\n",
        "\n",
        "- Allows the same method or operator to work differently for different objects, increasing flexibility.\n",
        "\n",
        "8. Real-world Modeling\n",
        "\n",
        "- OOP closely matches real-world entities (like Student, Car, Employee), making design intuitive."
      ],
      "metadata": {
        "id": "ihO7joGEdscG"
      }
    },
    {
      "cell_type": "markdown",
      "source": [
        "17. What is the difference between a class variable and an instance variable?\n",
        "\n",
        "In Python OOP, variables inside a class can be of two types: Class Variables and Instance Variables.\n",
        "They differ mainly in scope, usage, and memory storage.\n",
        "\n",
        "1. Class Variable\n",
        "\n",
        "- Shared by all objects of the class.\n",
        "\n",
        "- Defined inside the class but outside any method.\n",
        "\n",
        "- Changing a class variable affects all instances of that class.\n",
        "\n",
        "2. Instance Variable\n",
        "\n",
        "- Belongs to a specific object (instance).\n",
        "\n",
        "- Defined inside the constructor (__init__) or methods using self.\n",
        "\n",
        "- Each object has its own copy, so changes in one object do not affect others."
      ],
      "metadata": {
        "id": "4PfcpBdpeRqi"
      }
    },
    {
      "cell_type": "markdown",
      "source": [
        "18. What is multiple inheritance in Python?\n",
        "\n",
        "Multiple Inheritance is a feature in Object-Oriented Programming where a child class can inherit properties and methods from more than one parent class.\n",
        "\n",
        "- It allows a class to combine functionalities of multiple classes.\n",
        "\n",
        "- Python supports multiple inheritance directly.\n",
        "\n",
        "- The Method Resolution Order (MRO) is followed to decide which parent class’s method will be executed first."
      ],
      "metadata": {
        "id": "1IbWrgu1etE8"
      }
    },
    {
      "cell_type": "markdown",
      "source": [
        "19. Explain the purpose of ‘’__str__’ and ‘__repr__’ ‘ methods in Python?\n",
        "\n",
        "In Python, both __str__ and __repr__ are special methods used to represent objects as strings.\n",
        "\n",
        "1. __str__ Method\n",
        "\n",
        "- Used to return a user-friendly string representation of the object.\n",
        "\n",
        "- It is called when we use print(object) or str(object).\n",
        "\n",
        "- Focus: Readable output for end-users.\n",
        "\n",
        "2. __repr__ Method\n",
        "\n",
        "- Used to return a developer-friendly string representation of the object.\n",
        "\n",
        "- It is called when we use repr(object) or just type the object in Python shell.\n",
        "\n",
        "- Focus: Unambiguous output for debugging."
      ],
      "metadata": {
        "id": "Gt9N0o-Le7_h"
      }
    },
    {
      "cell_type": "markdown",
      "source": [
        "20. What is the significance of the ‘super()’ function in Python?\n",
        "\n",
        "The super() function in Python is used to call methods from a parent class inside a child class.\n",
        "It is mainly used in inheritance to avoid rewriting code and to ensure that the parent class’s functionality is reused.\n",
        "\n",
        "🔹Significance of super()\n",
        "\n",
        "1. Reusability: Allows the child class to use methods/constructors of the parent class.\n",
        "\n",
        "2. Avoids Code Duplication: No need to rewrite parent methods in the child.\n",
        "\n",
        "3. Supports Multiple Inheritance: Works with Method Resolution Order (MRO) to decide which class’s method should be called.\n",
        "\n",
        "4. Constructor Chaining: Helps call parent constructors from child constructors."
      ],
      "metadata": {
        "id": "uTFIH721fTx0"
      }
    },
    {
      "cell_type": "markdown",
      "source": [
        "21. What is the significance of the __del__ method in Python?\n",
        "\n",
        "The __del__ method in Python is a destructor method.\n",
        "It is automatically called when an object is about to be destroyed (i.e., when it goes out of scope or its reference count becomes zero).\n",
        "\n",
        "🔹Significance of __del__ Method\n",
        "\n",
        "1. Resource Cleanup: Used to release external resources like files, network connections, or database links.\n",
        "\n",
        "2. Automatic Call: Python automatically calls __del__ when an object is no longer needed.\n",
        "\n",
        "3. Helps in Memory Management: Ensures objects are cleaned up properly to free memory.\n",
        "\n",
        "4. Final Actions: Allows execution of last-minute code before object deletion."
      ],
      "metadata": {
        "id": "eKVrPCtDfxSs"
      }
    },
    {
      "cell_type": "markdown",
      "source": [
        "22. What is the difference between @staticmethod and @classmethod in Python?\n",
        "\n",
        "- @staticmethod and @classmethod are both special types of methods in Python, but they are different in how they work. A static method does not take self or cls as the first argument. It works like a normal function but is placed inside a class for convenience. It cannot access or change class variables or instance variables. It is usually used for utility functions that are related to the class but do not need any data from the class.\n",
        "\n",
        "On the other hand, a class method always takes cls as the first argument. It works with the class itself and can access or modify class-level variables. Class methods are often used when we want to create alternative constructors or when we need to perform operations that involve the class as a whole rather than individual objects.\n"
      ],
      "metadata": {
        "id": "hM0KiWKlgGF_"
      }
    },
    {
      "cell_type": "markdown",
      "source": [
        "23. How does polymorphism work in Python with inheritance?\n",
        "\n",
        "- Polymorphism in Python allows the same method name to behave differently depending on the object that calls it. When used with inheritance, polymorphism lets a child class provide its own implementation of a method that already exists in the parent class. This means that even though the method name is the same, the actual behavior will change based on the type of object.\n",
        "\n",
        "For example, if a parent class has a method called speak() and two child classes override it with their own versions, then calling speak() on different objects will give different results. This shows how polymorphism and inheritance work together to make the code more flexible and reusable.\n",
        "\n",
        "- In simple words, polymorphism with inheritance allows one interface (same method name) to be used for different forms (different implementations in subclasses)."
      ],
      "metadata": {
        "id": "NH4d2ztEgZe0"
      }
    },
    {
      "cell_type": "markdown",
      "source": [
        "24. What is method chaining in Python OOP?\n",
        "- Method chaining in Python OOP is a technique where multiple methods are called on the same object in a single line, one after another. This works because each method returns the object itself (self), which allows the next method to be called directly. It makes the code more compact and readable. Method chaining is commonly used in object-oriented programming when we want to perform a sequence of operations on the same object without writing multiple separate statements.\n"
      ],
      "metadata": {
        "id": "Lbr5oyrHgvog"
      }
    },
    {
      "cell_type": "markdown",
      "source": [
        "25. What is the purpose of the __call__ method in Python?\n",
        "\n",
        "- The __call__ method in Python allows an object of a class to be called like a function. When this method is defined inside a class, it is automatically executed whenever the object is followed by parentheses. This makes the object behave like a function while still being an instance of a class. The main purpose of __call__ is to add function-like behavior to objects, which can be useful in cases like creating function wrappers, decorators, or when designing classes that need to be invoked multiple times with different arguments."
      ],
      "metadata": {
        "id": "wXke8IDZg5Ni"
      }
    },
    {
      "cell_type": "markdown",
      "source": [
        "PRACTICAL QUESTIONS"
      ],
      "metadata": {
        "id": "-ikCEv9shLvR"
      }
    },
    {
      "cell_type": "markdown",
      "source": [
        "1. Create a parent class Animal with a method speak() that prints a generic message. Create a child class Dog\n",
        "that overrides the speak() method to print \"Bark!\"."
      ],
      "metadata": {
        "id": "s1QA0KJRhTm7"
      }
    },
    {
      "cell_type": "code",
      "source": [
        "# Parent class\n",
        "class Animal:\n",
        "    def speak(self):\n",
        "        print(\"This is a generic animal sound.\")\n",
        "\n",
        "# Child class\n",
        "class Dog(Animal):\n",
        "    def speak(self):\n",
        "        print(\"Bark!\")\n",
        "\n",
        "# Testing\n",
        "a = Animal()\n",
        "a.speak()\n",
        "\n",
        "d = Dog()\n",
        "d.speak()\n"
      ],
      "metadata": {
        "colab": {
          "base_uri": "https://localhost:8080/"
        },
        "id": "t9QulSsThgXi",
        "outputId": "866bdf99-e42c-4d97-cd89-ead09356bef1"
      },
      "execution_count": 1,
      "outputs": [
        {
          "output_type": "stream",
          "name": "stdout",
          "text": [
            "This is a generic animal sound.\n",
            "Bark!\n"
          ]
        }
      ]
    },
    {
      "cell_type": "markdown",
      "source": [
        "2. Write a program to create an abstract class Shape with a method area(). Derive classes Circle and Rectangle\n",
        "from it and implement the area() method in both."
      ],
      "metadata": {
        "id": "ESB9OQIlhuV_"
      }
    },
    {
      "cell_type": "code",
      "source": [
        "from abc import ABC, abstractmethod\n",
        "import math\n",
        "\n",
        "# Abstract class\n",
        "class Shape(ABC):\n",
        "    @abstractmethod\n",
        "    def area(self):\n",
        "        pass\n",
        "\n",
        "# Derived class Circle\n",
        "class Circle(Shape):\n",
        "    def __init__(self, radius):\n",
        "        self.radius = radius\n",
        "\n",
        "    def area(self):\n",
        "        return math.pi * self.radius * self.radius\n",
        "\n",
        "# Derived class Rectangle\n",
        "class Rectangle(Shape):\n",
        "    def __init__(self, length, width):\n",
        "        self.length = length\n",
        "        self.width = width\n",
        "\n",
        "    def area(self):\n",
        "        return self.length * self.width\n",
        "\n",
        "# Testing\n",
        "c = Circle(5)\n",
        "print(\"Area of Circle:\", c.area())\n",
        "\n",
        "r = Rectangle(4, 6)\n",
        "print(\"Area of Rectangle:\", r.area())\n"
      ],
      "metadata": {
        "colab": {
          "base_uri": "https://localhost:8080/"
        },
        "id": "1AfEukethjyl",
        "outputId": "0a2d7baa-f3cd-4ac4-f44f-b8ee464e2454"
      },
      "execution_count": 2,
      "outputs": [
        {
          "output_type": "stream",
          "name": "stdout",
          "text": [
            "Area of Circle: 78.53981633974483\n",
            "Area of Rectangle: 24\n"
          ]
        }
      ]
    },
    {
      "cell_type": "markdown",
      "source": [
        "3. Implement a multi-level inheritance scenario where a class Vehicle has an attribute type. Derive a class Car\n",
        "and further derive a class ElectricCar that adds a battery attribute."
      ],
      "metadata": {
        "id": "WoMIEPdzh5ZT"
      }
    },
    {
      "cell_type": "code",
      "source": [
        "# Base class\n",
        "class Vehicle:\n",
        "    def __init__(self, vehicle_type):\n",
        "        self.type = vehicle_type\n",
        "\n",
        "# First derived class\n",
        "class Car(Vehicle):\n",
        "    def __init__(self, vehicle_type, brand):\n",
        "        super().__init__(vehicle_type)\n",
        "        self.brand = brand\n",
        "\n",
        "# Second derived class\n",
        "class ElectricCar(Car):\n",
        "    def __init__(self, vehicle_type, brand, battery):\n",
        "        super().__init__(vehicle_type, brand)\n",
        "        self.battery = battery\n",
        "\n",
        "# Testing the multi-level inheritance\n",
        "e_car = ElectricCar(\"Four Wheeler\", \"Tesla\", \"85 kWh\")\n",
        "print(\"Type:\", e_car.type)\n",
        "print(\"Brand:\", e_car.brand)\n",
        "print(\"Battery:\", e_car.battery)"
      ],
      "metadata": {
        "colab": {
          "base_uri": "https://localhost:8080/"
        },
        "id": "wRvMMjJdh03r",
        "outputId": "c731bd2a-8924-490b-858f-6f21608b4ebe"
      },
      "execution_count": 3,
      "outputs": [
        {
          "output_type": "stream",
          "name": "stdout",
          "text": [
            "Type: Four Wheeler\n",
            "Brand: Tesla\n",
            "Battery: 85 kWh\n"
          ]
        }
      ]
    },
    {
      "cell_type": "markdown",
      "source": [
        "4. Demonstrate polymorphism by creating a base class Bird with a method fly(). Create two derived classes\n",
        "Sparrow and Penguin that override the fly() method."
      ],
      "metadata": {
        "id": "XZ8Vh2LJiP_a"
      }
    },
    {
      "cell_type": "code",
      "source": [
        "# Base class\n",
        "class Bird:\n",
        "    def fly(self):\n",
        "        print(\"Some birds can fly, some cannot.\")\n",
        "\n",
        "# Derived class Sparrow\n",
        "class Sparrow(Bird):\n",
        "    def fly(self):\n",
        "        print(\"Sparrow can fly high in the sky.\")\n",
        "\n",
        "# Derived class Penguin\n",
        "class Penguin(Bird):\n",
        "    def fly(self):\n",
        "        print(\"Penguin cannot fly, but it swims very well.\")\n",
        "\n",
        "# Testing polymorphism\n",
        "birds = [Sparrow(), Penguin()]\n",
        "\n",
        "for bird in birds:\n",
        "    bird.fly()"
      ],
      "metadata": {
        "colab": {
          "base_uri": "https://localhost:8080/"
        },
        "id": "whU-fk6piJg6",
        "outputId": "f9ba3b95-8cff-4f78-9191-18144226702b"
      },
      "execution_count": 4,
      "outputs": [
        {
          "output_type": "stream",
          "name": "stdout",
          "text": [
            "Sparrow can fly high in the sky.\n",
            "Penguin cannot fly, but it swims very well.\n"
          ]
        }
      ]
    },
    {
      "cell_type": "markdown",
      "source": [
        "5. Write a program to demonstrate encapsulation by creating a class BankAccount with private attributes\n",
        "balance and methods to deposit, withdraw, and check balance."
      ],
      "metadata": {
        "id": "q2nCaW4KiZWo"
      }
    },
    {
      "cell_type": "code",
      "source": [
        "# Encapsulation Example\n",
        "class BankAccount:\n",
        "    def __init__(self, initial_balance=0):\n",
        "        self.__balance = initial_balance   # private attribute\n",
        "\n",
        "    def deposit(self, amount):\n",
        "        if amount > 0:\n",
        "            self.__balance += amount\n",
        "            print(f\"Deposited: {amount}\")\n",
        "        else:\n",
        "            print(\"Invalid deposit amount.\")\n",
        "\n",
        "    def withdraw(self, amount):\n",
        "        if 0 < amount <= self.__balance:\n",
        "            self.__balance -= amount\n",
        "            print(f\"Withdrawn: {amount}\")\n",
        "        else:\n",
        "            print(\"Insufficient balance or invalid withdrawal amount.\")\n",
        "\n",
        "    def check_balance(self):\n",
        "        print(f\"Current Balance: {self.__balance}\")\n",
        "\n",
        "# Testing encapsulation\n",
        "account = BankAccount(1000)\n",
        "account.deposit(500)\n",
        "account.withdraw(300)\n",
        "account.check_balance()"
      ],
      "metadata": {
        "colab": {
          "base_uri": "https://localhost:8080/"
        },
        "id": "IX9Gd0kjiT2i",
        "outputId": "a0d07db5-0e05-4e0b-d607-36c2c1877735"
      },
      "execution_count": 5,
      "outputs": [
        {
          "output_type": "stream",
          "name": "stdout",
          "text": [
            "Deposited: 500\n",
            "Withdrawn: 300\n",
            "Current Balance: 1200\n"
          ]
        }
      ]
    },
    {
      "cell_type": "markdown",
      "source": [
        "6. Demonstrate runtime polymorphism using a method play() in a base class Instrument. Derive classes Guitar\n",
        "and Piano that implement their own version of play()."
      ],
      "metadata": {
        "id": "TJSf5r-pijAz"
      }
    },
    {
      "cell_type": "code",
      "source": [
        "# Base class\n",
        "class Instrument:\n",
        "    def play(self):\n",
        "        print(\"An instrument is playing sound.\")\n",
        "\n",
        "# Derived class Guitar\n",
        "class Guitar(Instrument):\n",
        "    def play(self):\n",
        "        print(\"Playing the guitar: Strum strum...\")\n",
        "\n",
        "# Derived class Piano\n",
        "class Piano(Instrument):\n",
        "    def play(self):\n",
        "        print(\"Playing the piano: Plink plonk...\")\n",
        "\n",
        "# Testing runtime polymorphism\n",
        "instruments = [Guitar(), Piano()]\n",
        "\n",
        "for instrument in instruments:\n",
        "    instrument.play()"
      ],
      "metadata": {
        "colab": {
          "base_uri": "https://localhost:8080/"
        },
        "id": "gql7LkNzidGO",
        "outputId": "bd26cc89-a3b7-4f88-b8b1-44b23b8b8973"
      },
      "execution_count": 6,
      "outputs": [
        {
          "output_type": "stream",
          "name": "stdout",
          "text": [
            "Playing the guitar: Strum strum...\n",
            "Playing the piano: Plink plonk...\n"
          ]
        }
      ]
    },
    {
      "cell_type": "markdown",
      "source": [
        "7. Create a class MathOperations with a class method add_numbers() to add two numbers and a static\n",
        "method subtract_numbers() to subtract two numbers."
      ],
      "metadata": {
        "id": "5PzgW_yRi1J3"
      }
    },
    {
      "cell_type": "code",
      "source": [
        "class MathOperations:\n",
        "    # Class method\n",
        "    @classmethod\n",
        "    def add_numbers(cls, a, b):\n",
        "        return a + b\n",
        "\n",
        "    # Static method\n",
        "    @staticmethod\n",
        "    def subtract_numbers(a, b):\n",
        "        return a - b\n",
        "\n",
        "# Testing methods\n",
        "print(\"Addition:\", MathOperations.add_numbers(10, 5))\n",
        "print(\"Subtraction:\", MathOperations.subtract_numbers(10, 5))"
      ],
      "metadata": {
        "colab": {
          "base_uri": "https://localhost:8080/"
        },
        "id": "c3bwVkdnim2v",
        "outputId": "ba9c6161-a98e-4f86-b52d-c74b8e99b4f0"
      },
      "execution_count": 7,
      "outputs": [
        {
          "output_type": "stream",
          "name": "stdout",
          "text": [
            "Addition: 15\n",
            "Subtraction: 5\n"
          ]
        }
      ]
    },
    {
      "cell_type": "markdown",
      "source": [
        "8. Implement a class Person with a class method to count the total number of persons created."
      ],
      "metadata": {
        "id": "6WfxFQ5ei_qi"
      }
    },
    {
      "cell_type": "code",
      "source": [
        "class Person:\n",
        "    count = 0   # Class variable to track number of persons\n",
        "\n",
        "    def __init__(self, name):\n",
        "        self.name = name\n",
        "        Person.count += 1   # Increment count when a new object is created\n",
        "\n",
        "    @classmethod\n",
        "    def total_persons(cls):\n",
        "        return cls.count\n",
        "\n",
        "# Creating Person objects\n",
        "p1 = Person(\"Alice\")\n",
        "p2 = Person(\"Bob\")\n",
        "p3 = Person(\"Charlie\")\n",
        "\n",
        "# Display total persons\n",
        "print(\"Total persons created:\", Person.total_persons())"
      ],
      "metadata": {
        "colab": {
          "base_uri": "https://localhost:8080/"
        },
        "id": "vJyuK2oDi5L2",
        "outputId": "533a7135-9299-4d32-d724-02eed09ada9d"
      },
      "execution_count": 8,
      "outputs": [
        {
          "output_type": "stream",
          "name": "stdout",
          "text": [
            "Total persons created: 3\n"
          ]
        }
      ]
    },
    {
      "cell_type": "markdown",
      "source": [
        "9. Write a class Fraction with attributes numerator and denominator. Override the str method to display the\n",
        "fraction as \"numerator/denominator\"."
      ],
      "metadata": {
        "id": "Pa0CL0MGjIia"
      }
    },
    {
      "cell_type": "code",
      "source": [
        "class Fraction:\n",
        "    def __init__(self, numerator, denominator):\n",
        "        self.numerator = numerator\n",
        "        self.denominator = denominator\n",
        "\n",
        "    def __str__(self):\n",
        "        return f\"{self.numerator}/{self.denominator}\"\n",
        "\n",
        "# Creating Fraction objects\n",
        "f1 = Fraction(3, 4)\n",
        "f2 = Fraction(7, 9)\n",
        "\n",
        "# Display fractions\n",
        "print(f1)\n",
        "print(f2)"
      ],
      "metadata": {
        "colab": {
          "base_uri": "https://localhost:8080/"
        },
        "id": "YTNN5rEajC8s",
        "outputId": "d6f2604d-6aae-4810-c4d3-9a0f1b086c76"
      },
      "execution_count": 9,
      "outputs": [
        {
          "output_type": "stream",
          "name": "stdout",
          "text": [
            "3/4\n",
            "7/9\n"
          ]
        }
      ]
    },
    {
      "cell_type": "markdown",
      "source": [
        "10. Demonstrate operator overloading by creating a class Vector and overriding the add method to add two\n",
        "vectors."
      ],
      "metadata": {
        "id": "bae8MbQIjUQN"
      }
    },
    {
      "cell_type": "code",
      "source": [
        "class Vector:\n",
        "    def __init__(self, x, y):\n",
        "        self.x = x\n",
        "        self.y = y\n",
        "\n",
        "    # Overloading the + operator\n",
        "    def __add__(self, other):\n",
        "        return Vector(self.x + other.x, self.y + other.y)\n",
        "\n",
        "    def __str__(self):\n",
        "        return f\"Vector({self.x}, {self.y})\"\n",
        "\n",
        "# Creating vector objects\n",
        "v1 = Vector(2, 4)\n",
        "v2 = Vector(5, 6)\n",
        "\n",
        "# Adding vectors using overloaded +\n",
        "v3 = v1 + v2\n",
        "\n",
        "# Display result\n",
        "print(v1)\n",
        "print(v2)\n",
        "print(\"After addition:\", v3)\n"
      ],
      "metadata": {
        "colab": {
          "base_uri": "https://localhost:8080/"
        },
        "id": "uis261gHjLyf",
        "outputId": "ef0f74b1-6a7e-45f9-b135-032da5f599b1"
      },
      "execution_count": 10,
      "outputs": [
        {
          "output_type": "stream",
          "name": "stdout",
          "text": [
            "Vector(2, 4)\n",
            "Vector(5, 6)\n",
            "After addition: Vector(7, 10)\n"
          ]
        }
      ]
    },
    {
      "cell_type": "markdown",
      "source": [
        "11. Create a class Person with attributes name and age. Add a method greet() that prints \"Hello, my name is\n",
        "{name} and I am {age} years old.\""
      ],
      "metadata": {
        "id": "2dk_nMPZjhni"
      }
    },
    {
      "cell_type": "code",
      "source": [
        "class Person:\n",
        "    def __init__(self, name, age):\n",
        "        self.name = name\n",
        "        self.age = age\n",
        "\n",
        "    def greet(self):\n",
        "        print(f\"Hello, my name is {self.name} and I am {self.age} years old.\")\n",
        "\n",
        "# Creating Person objects\n",
        "p1 = Person(\"Alice\", 25)\n",
        "p2 = Person(\"Bob\", 30)\n",
        "\n",
        "# Calling greet method\n",
        "p1.greet()\n",
        "p2.greet()\n"
      ],
      "metadata": {
        "colab": {
          "base_uri": "https://localhost:8080/"
        },
        "id": "nCEw4hRMja10",
        "outputId": "090e363a-f492-4493-c9d3-274921153c04"
      },
      "execution_count": 11,
      "outputs": [
        {
          "output_type": "stream",
          "name": "stdout",
          "text": [
            "Hello, my name is Alice and I am 25 years old.\n",
            "Hello, my name is Bob and I am 30 years old.\n"
          ]
        }
      ]
    },
    {
      "cell_type": "markdown",
      "source": [
        "12. Implement a class Student with attributes name and grades. Create a method average_grade() to compute\n",
        "the average of the grades."
      ],
      "metadata": {
        "id": "WEBxQSaajp0E"
      }
    },
    {
      "cell_type": "code",
      "source": [
        "class Student:\n",
        "    def __init__(self, name, grades):\n",
        "        self.name = name\n",
        "        self.grades = grades  # grades is a list of numbers\n",
        "\n",
        "    def average_grade(self):\n",
        "        if len(self.grades) == 0:\n",
        "            return 0\n",
        "        return sum(self.grades) / len(self.grades)\n",
        "\n",
        "# Creating Student objects\n",
        "s1 = Student(\"Alice\", [85, 90, 78])\n",
        "s2 = Student(\"Bob\", [70, 88, 92, 80])\n",
        "\n",
        "# Calculating average grades\n",
        "print(f\"{s1.name}'s average grade:\", s1.average_grade())\n",
        "print(f\"{s2.name}'s average grade:\", s2.average_grade())\n"
      ],
      "metadata": {
        "colab": {
          "base_uri": "https://localhost:8080/"
        },
        "id": "qYZcg35KjkmL",
        "outputId": "d287cc1a-7348-4ec4-b93f-75f22723b81a"
      },
      "execution_count": 12,
      "outputs": [
        {
          "output_type": "stream",
          "name": "stdout",
          "text": [
            "Alice's average grade: 84.33333333333333\n",
            "Bob's average grade: 82.5\n"
          ]
        }
      ]
    },
    {
      "cell_type": "markdown",
      "source": [
        "13. Create a class Rectangle with methods set_dimensions() to set the dimensions and area() to calculate the\n",
        "area."
      ],
      "metadata": {
        "id": "fsf6azaKjxRP"
      }
    },
    {
      "cell_type": "code",
      "source": [
        "class Rectangle:\n",
        "    def __init__(self):\n",
        "        self.length = 0\n",
        "        self.width = 0\n",
        "\n",
        "    def set_dimensions(self, length, width):\n",
        "        self.length = length\n",
        "        self.width = width\n",
        "\n",
        "    def area(self):\n",
        "        return self.length * self.width\n",
        "\n",
        "# Creating a Rectangle object\n",
        "rect = Rectangle()\n",
        "rect.set_dimensions(5, 8)\n",
        "\n",
        "# Calculating area\n",
        "print(\"Area of rectangle:\", rect.area())\n"
      ],
      "metadata": {
        "colab": {
          "base_uri": "https://localhost:8080/"
        },
        "id": "Ka2WVsNkjuBl",
        "outputId": "287115f3-f2ac-421b-9b49-54075e9e6190"
      },
      "execution_count": 13,
      "outputs": [
        {
          "output_type": "stream",
          "name": "stdout",
          "text": [
            "Area of rectangle: 40\n"
          ]
        }
      ]
    },
    {
      "cell_type": "markdown",
      "source": [
        "14. Create a class Employee with a method calculate_salary() that computes the salary based on hours worked\n",
        "and hourly rate. Create a derived class Manager that adds a bonus to the salary"
      ],
      "metadata": {
        "id": "TyYJ0B5-j74O"
      }
    },
    {
      "cell_type": "code",
      "source": [
        "# Base class\n",
        "class Employee:\n",
        "    def __init__(self, name, hours_worked, hourly_rate):\n",
        "        self.name = name\n",
        "        self.hours_worked = hours_worked\n",
        "        self.hourly_rate = hourly_rate\n",
        "\n",
        "    def calculate_salary(self):\n",
        "        return self.hours_worked * self.hourly_rate\n",
        "\n",
        "# Derived class\n",
        "class Manager(Employee):\n",
        "    def __init__(self, name, hours_worked, hourly_rate, bonus):\n",
        "        super().__init__(name, hours_worked, hourly_rate)\n",
        "        self.bonus = bonus\n",
        "\n",
        "    def calculate_salary(self):\n",
        "        base_salary = super().calculate_salary()\n",
        "        return base_salary + self.bonus\n",
        "\n",
        "# Testing\n",
        "emp = Employee(\"Alice\", 40, 500)\n",
        "mgr = Manager(\"Bob\", 40, 500, 2000)\n",
        "\n",
        "print(emp.name, \"Salary:\", emp.calculate_salary())\n",
        "print(mgr.name, \"Salary:\", mgr.calculate_salary())\n"
      ],
      "metadata": {
        "colab": {
          "base_uri": "https://localhost:8080/"
        },
        "id": "RacIWHpkj2i_",
        "outputId": "2ae3f8eb-a3a1-40d8-efa2-2ae655e9e895"
      },
      "execution_count": 14,
      "outputs": [
        {
          "output_type": "stream",
          "name": "stdout",
          "text": [
            "Alice Salary: 20000\n",
            "Bob Salary: 22000\n"
          ]
        }
      ]
    },
    {
      "cell_type": "markdown",
      "source": [
        "15. Create a class Product with attributes name, price, and quantity. Implement a method total_price() that\n",
        "calculates the total price of the product."
      ],
      "metadata": {
        "id": "Vf1SuUP5kDy5"
      }
    },
    {
      "cell_type": "code",
      "source": [
        "class Product:\n",
        "    def __init__(self, name, price, quantity):\n",
        "        self.name = name\n",
        "        self.price = price\n",
        "        self.quantity = quantity\n",
        "\n",
        "    def total_price(self):\n",
        "        return self.price * self.quantity\n",
        "\n",
        "# Creating Product objects\n",
        "p1 = Product(\"Laptop\", 50000, 2)\n",
        "p2 = Product(\"Phone\", 20000, 3)\n",
        "\n",
        "# Calculating total price\n",
        "print(f\"Total price of {p1.name}:\", p1.total_price())\n",
        "print(f\"Total price of {p2.name}:\", p2.total_price())\n"
      ],
      "metadata": {
        "colab": {
          "base_uri": "https://localhost:8080/"
        },
        "id": "8hfeH4Pzj_yd",
        "outputId": "6c3e17d8-c7bb-4317-f444-e46114ca5cc9"
      },
      "execution_count": 15,
      "outputs": [
        {
          "output_type": "stream",
          "name": "stdout",
          "text": [
            "Total price of Laptop: 100000\n",
            "Total price of Phone: 60000\n"
          ]
        }
      ]
    },
    {
      "cell_type": "markdown",
      "source": [
        "16. Create a class Animal with an abstract method sound(). Create two derived classes Cow and Sheep that\n",
        "implement the sound() method."
      ],
      "metadata": {
        "id": "ub3J9wWmkLUR"
      }
    },
    {
      "cell_type": "code",
      "source": [
        "from abc import ABC, abstractmethod\n",
        "\n",
        "# Abstract class\n",
        "class Animal(ABC):\n",
        "    @abstractmethod\n",
        "    def sound(self):\n",
        "        pass\n",
        "\n",
        "# Derived class Cow\n",
        "class Cow(Animal):\n",
        "    def sound(self):\n",
        "        print(\"Cow says: Moo!\")\n",
        "\n",
        "# Derived class Sheep\n",
        "class Sheep(Animal):\n",
        "    def sound(self):\n",
        "        print(\"Sheep says: Baa!\")\n",
        "\n",
        "# Testing\n",
        "animals = [Cow(), Sheep()]\n",
        "\n",
        "for animal in animals:\n",
        "    animal.sound()\n"
      ],
      "metadata": {
        "colab": {
          "base_uri": "https://localhost:8080/"
        },
        "id": "wcp2ENrlkHfZ",
        "outputId": "c5dbd7bd-29a6-4109-e510-a679a3714528"
      },
      "execution_count": 16,
      "outputs": [
        {
          "output_type": "stream",
          "name": "stdout",
          "text": [
            "Cow says: Moo!\n",
            "Sheep says: Baa!\n"
          ]
        }
      ]
    },
    {
      "cell_type": "markdown",
      "source": [
        "17. Create a class Book with attributes title, author, and year_published. Add a method get_book_info() that\n",
        "returns a formatted string with the book's details."
      ],
      "metadata": {
        "id": "AG0q-FP6kT80"
      }
    },
    {
      "cell_type": "code",
      "source": [
        "class Book:\n",
        "    def __init__(self, title, author, year_published):\n",
        "        self.title = title\n",
        "        self.author = author\n",
        "        self.year_published = year_published\n",
        "\n",
        "    def get_book_info(self):\n",
        "        return f\"Title: {self.title}, Author: {self.author}, Year Published: {self.year_published}\"\n",
        "\n",
        "# Creating Book objects\n",
        "book1 = Book(\"1984\", \"George Orwell\", 1949)\n",
        "book2 = Book(\"To Kill a Mockingbird\", \"Harper Lee\", 1960)\n",
        "\n",
        "# Displaying book information\n",
        "print(book1.get_book_info())\n",
        "print(book2.get_book_info())\n"
      ],
      "metadata": {
        "colab": {
          "base_uri": "https://localhost:8080/"
        },
        "id": "Nekyp1arkPyq",
        "outputId": "95fa609a-580b-4b2a-d702-4f18564a5ba8"
      },
      "execution_count": 17,
      "outputs": [
        {
          "output_type": "stream",
          "name": "stdout",
          "text": [
            "Title: 1984, Author: George Orwell, Year Published: 1949\n",
            "Title: To Kill a Mockingbird, Author: Harper Lee, Year Published: 1960\n"
          ]
        }
      ]
    },
    {
      "cell_type": "markdown",
      "source": [
        "18. Create a class House with attributes address and price. Create a derived class Mansion that adds an\n",
        "attribute number_of_rooms."
      ],
      "metadata": {
        "id": "Csj2_FZNkblb"
      }
    },
    {
      "cell_type": "code",
      "source": [
        "# Base class\n",
        "class House:\n",
        "    def __init__(self, address, price):\n",
        "        self.address = address\n",
        "        self.price = price\n",
        "\n",
        "# Derived class\n",
        "class Mansion(House):\n",
        "    def __init__(self, address, price, number_of_rooms):\n",
        "        super().__init__(address, price)\n",
        "        self.number_of_rooms = number_of_rooms\n",
        "\n",
        "# Testing\n",
        "h1 = House(\"123 Main St\", 500000)\n",
        "m1 = Mansion(\"456 Luxury Ave\", 2000000, 10)\n",
        "\n",
        "print(\"House Address:\", h1.address, \"Price:\", h1.price)\n",
        "print(\"Mansion Address:\", m1.address, \"Price:\", m1.price, \"Rooms:\", m1.number_of_rooms)\n"
      ],
      "metadata": {
        "colab": {
          "base_uri": "https://localhost:8080/"
        },
        "id": "oG9dXW1kkXC4",
        "outputId": "d70ed8ea-1b9e-4e2b-902c-88c3f6b18daa"
      },
      "execution_count": 18,
      "outputs": [
        {
          "output_type": "stream",
          "name": "stdout",
          "text": [
            "House Address: 123 Main St Price: 500000\n",
            "Mansion Address: 456 Luxury Ave Price: 2000000 Rooms: 10\n"
          ]
        }
      ]
    },
    {
      "cell_type": "code",
      "source": [],
      "metadata": {
        "id": "E3tlhLzkkfED"
      },
      "execution_count": null,
      "outputs": []
    }
  ]
}