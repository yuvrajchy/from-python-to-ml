{
  "cells": [
    {
      "cell_type": "code",
      "execution_count": null,
      "id": "e74d43ff-bc14-4f58-88eb-88713b037dd8",
      "metadata": {
        "id": "e74d43ff-bc14-4f58-88eb-88713b037dd8"
      },
      "outputs": [],
      "source": [
        "import pandas as pd"
      ]
    },
    {
      "cell_type": "code",
      "execution_count": null,
      "id": "61511630-fe97-4071-90d8-8921a703b0ee",
      "metadata": {
        "id": "61511630-fe97-4071-90d8-8921a703b0ee"
      },
      "outputs": [],
      "source": [
        "df1 = pd.DataFrame({\"description\":[\"PW Skills is your one-stop-shop for upscaling. Get maximum value for timeand resources you invest, with job-ready courses & high-technology,available at the lowest cost.\"]})"
      ]
    },
    {
      "cell_type": "code",
      "execution_count": null,
      "id": "aa34ce27-4a4d-46b5-8d6b-b9163c895705",
      "metadata": {
        "id": "aa34ce27-4a4d-46b5-8d6b-b9163c895705",
        "outputId": "6fb7d8bf-429f-4cdc-af4d-19642bab7ab2"
      },
      "outputs": [
        {
          "data": {
            "text/html": [
              "<div>\n",
              "<style scoped>\n",
              "    .dataframe tbody tr th:only-of-type {\n",
              "        vertical-align: middle;\n",
              "    }\n",
              "\n",
              "    .dataframe tbody tr th {\n",
              "        vertical-align: top;\n",
              "    }\n",
              "\n",
              "    .dataframe thead th {\n",
              "        text-align: right;\n",
              "    }\n",
              "</style>\n",
              "<table border=\"1\" class=\"dataframe\">\n",
              "  <thead>\n",
              "    <tr style=\"text-align: right;\">\n",
              "      <th></th>\n",
              "      <th>description</th>\n",
              "    </tr>\n",
              "  </thead>\n",
              "  <tbody>\n",
              "    <tr>\n",
              "      <th>0</th>\n",
              "      <td>PW Skills is your one-stop-shop for upscaling....</td>\n",
              "    </tr>\n",
              "  </tbody>\n",
              "</table>\n",
              "</div>"
            ],
            "text/plain": [
              "                                         description\n",
              "0  PW Skills is your one-stop-shop for upscaling...."
            ]
          },
          "execution_count": 4,
          "metadata": {},
          "output_type": "execute_result"
        }
      ],
      "source": [
        "df1"
      ]
    },
    {
      "cell_type": "code",
      "execution_count": null,
      "id": "5bc81c55-743e-4689-a8f2-7b3d7c212489",
      "metadata": {
        "id": "5bc81c55-743e-4689-a8f2-7b3d7c212489"
      },
      "outputs": [],
      "source": [
        "pd.set_option('display.max_colwidth', 1000)"
      ]
    },
    {
      "cell_type": "code",
      "execution_count": null,
      "id": "515c2b37-64de-451a-94d6-9e010eacefe7",
      "metadata": {
        "id": "515c2b37-64de-451a-94d6-9e010eacefe7",
        "outputId": "5c349405-7844-4712-f7ee-b80a8959072e"
      },
      "outputs": [
        {
          "data": {
            "text/html": [
              "<div>\n",
              "<style scoped>\n",
              "    .dataframe tbody tr th:only-of-type {\n",
              "        vertical-align: middle;\n",
              "    }\n",
              "\n",
              "    .dataframe tbody tr th {\n",
              "        vertical-align: top;\n",
              "    }\n",
              "\n",
              "    .dataframe thead th {\n",
              "        text-align: right;\n",
              "    }\n",
              "</style>\n",
              "<table border=\"1\" class=\"dataframe\">\n",
              "  <thead>\n",
              "    <tr style=\"text-align: right;\">\n",
              "      <th></th>\n",
              "      <th>description</th>\n",
              "    </tr>\n",
              "  </thead>\n",
              "  <tbody>\n",
              "    <tr>\n",
              "      <th>0</th>\n",
              "      <td>PW Skills is your one-stop-shop for upscaling. Get maximum value for timeand resources you invest, with job-ready courses &amp; high-technology,available at the lowest cost.</td>\n",
              "    </tr>\n",
              "  </tbody>\n",
              "</table>\n",
              "</div>"
            ],
            "text/plain": [
              "                                                                                                                                                                 description\n",
              "0  PW Skills is your one-stop-shop for upscaling. Get maximum value for timeand resources you invest, with job-ready courses & high-technology,available at the lowest cost."
            ]
          },
          "execution_count": 6,
          "metadata": {},
          "output_type": "execute_result"
        }
      ],
      "source": [
        "df1"
      ]
    },
    {
      "cell_type": "code",
      "execution_count": null,
      "id": "5bf57e0f-b4ef-4f52-b0c3-639aaaa0801a",
      "metadata": {
        "id": "5bf57e0f-b4ef-4f52-b0c3-639aaaa0801a"
      },
      "outputs": [],
      "source": [
        "pd.set_option('display.max_rows', 100)\n",
        "pd.set_option('display.max_columns', 100)"
      ]
    },
    {
      "cell_type": "code",
      "execution_count": null,
      "id": "1d97c76e-2468-4e0c-be27-98de64bc5846",
      "metadata": {
        "id": "1d97c76e-2468-4e0c-be27-98de64bc5846",
        "outputId": "86b8c35d-b659-405e-f175-00c618b60d22"
      },
      "outputs": [
        {
          "data": {
            "text/html": [
              "<div>\n",
              "<style scoped>\n",
              "    .dataframe tbody tr th:only-of-type {\n",
              "        vertical-align: middle;\n",
              "    }\n",
              "\n",
              "    .dataframe tbody tr th {\n",
              "        vertical-align: top;\n",
              "    }\n",
              "\n",
              "    .dataframe thead th {\n",
              "        text-align: right;\n",
              "    }\n",
              "</style>\n",
              "<table border=\"1\" class=\"dataframe\">\n",
              "  <thead>\n",
              "    <tr style=\"text-align: right;\">\n",
              "      <th></th>\n",
              "      <th>description</th>\n",
              "    </tr>\n",
              "  </thead>\n",
              "  <tbody>\n",
              "    <tr>\n",
              "      <th>0</th>\n",
              "      <td>PW Skills is your one-stop-shop for upscaling. Get maximum value for timeand resources you invest, with job-ready courses &amp; high-technology,available at the lowest cost.</td>\n",
              "    </tr>\n",
              "  </tbody>\n",
              "</table>\n",
              "</div>"
            ],
            "text/plain": [
              "                                                                                                                                                                 description\n",
              "0  PW Skills is your one-stop-shop for upscaling. Get maximum value for timeand resources you invest, with job-ready courses & high-technology,available at the lowest cost."
            ]
          },
          "execution_count": 8,
          "metadata": {},
          "output_type": "execute_result"
        }
      ],
      "source": [
        "df1"
      ]
    },
    {
      "cell_type": "code",
      "execution_count": null,
      "id": "95e2e44f-1659-447c-8b6b-85dc73e18cc5",
      "metadata": {
        "id": "95e2e44f-1659-447c-8b6b-85dc73e18cc5",
        "outputId": "c220f0a7-499a-41c5-8cd2-fd39d0c0b616"
      },
      "outputs": [
        {
          "data": {
            "text/plain": [
              "9"
            ]
          },
          "execution_count": 9,
          "metadata": {},
          "output_type": "execute_result"
        }
      ],
      "source": [
        "len(\"pw skills\")"
      ]
    },
    {
      "cell_type": "code",
      "execution_count": null,
      "id": "a86516d5-5b3d-4411-a20d-13400f88561e",
      "metadata": {
        "id": "a86516d5-5b3d-4411-a20d-13400f88561e"
      },
      "outputs": [],
      "source": [
        "df1[\"char_len\"] = df1['description'].apply(len)"
      ]
    },
    {
      "cell_type": "code",
      "execution_count": null,
      "id": "029e6ee9-c428-4c01-92c4-8fd32a9096e4",
      "metadata": {
        "id": "029e6ee9-c428-4c01-92c4-8fd32a9096e4",
        "outputId": "d24cfb8d-b35a-462b-f69c-845587fc4393"
      },
      "outputs": [
        {
          "data": {
            "text/html": [
              "<div>\n",
              "<style scoped>\n",
              "    .dataframe tbody tr th:only-of-type {\n",
              "        vertical-align: middle;\n",
              "    }\n",
              "\n",
              "    .dataframe tbody tr th {\n",
              "        vertical-align: top;\n",
              "    }\n",
              "\n",
              "    .dataframe thead th {\n",
              "        text-align: right;\n",
              "    }\n",
              "</style>\n",
              "<table border=\"1\" class=\"dataframe\">\n",
              "  <thead>\n",
              "    <tr style=\"text-align: right;\">\n",
              "      <th></th>\n",
              "      <th>description</th>\n",
              "      <th>char_len</th>\n",
              "    </tr>\n",
              "  </thead>\n",
              "  <tbody>\n",
              "    <tr>\n",
              "      <th>0</th>\n",
              "      <td>PW Skills is your one-stop-shop for upscaling. Get maximum value for timeand resources you invest, with job-ready courses &amp; high-technology,available at the lowest cost.</td>\n",
              "      <td>169</td>\n",
              "    </tr>\n",
              "  </tbody>\n",
              "</table>\n",
              "</div>"
            ],
            "text/plain": [
              "                                                                                                                                                                 description  \\\n",
              "0  PW Skills is your one-stop-shop for upscaling. Get maximum value for timeand resources you invest, with job-ready courses & high-technology,available at the lowest cost.   \n",
              "\n",
              "   char_len  \n",
              "0       169  "
            ]
          },
          "execution_count": 12,
          "metadata": {},
          "output_type": "execute_result"
        }
      ],
      "source": [
        "df1"
      ]
    },
    {
      "cell_type": "code",
      "execution_count": null,
      "id": "c5493201-3a43-4e7c-a94b-5e8503c10793",
      "metadata": {
        "id": "c5493201-3a43-4e7c-a94b-5e8503c10793",
        "outputId": "d248704e-72a2-40bc-ed24-3c5d59f221b4"
      },
      "outputs": [
        {
          "data": {
            "text/plain": [
              "9"
            ]
          },
          "execution_count": 13,
          "metadata": {},
          "output_type": "execute_result"
        }
      ],
      "source": [
        "a = \"I am Ajay\"\n",
        "len(a)"
      ]
    },
    {
      "cell_type": "code",
      "execution_count": null,
      "id": "a13adc5f-7987-4fee-bfe5-33bc6777c572",
      "metadata": {
        "id": "a13adc5f-7987-4fee-bfe5-33bc6777c572",
        "outputId": "c5e0c5ce-bcf6-4326-ab05-acaa1c7b117a"
      },
      "outputs": [
        {
          "data": {
            "text/plain": [
              "3"
            ]
          },
          "execution_count": 15,
          "metadata": {},
          "output_type": "execute_result"
        }
      ],
      "source": [
        "len(a.split())"
      ]
    },
    {
      "cell_type": "code",
      "execution_count": null,
      "id": "344c8dc8-0691-4dd2-bd4a-56ceee8b9aa3",
      "metadata": {
        "id": "344c8dc8-0691-4dd2-bd4a-56ceee8b9aa3"
      },
      "outputs": [],
      "source": [
        "df1[\"word_count\"] = df1[\"description\"].apply(lambda x: len(x.split()))"
      ]
    },
    {
      "cell_type": "code",
      "execution_count": null,
      "id": "38a2dcc6-a053-458e-a958-5d0b2d4d3312",
      "metadata": {
        "id": "38a2dcc6-a053-458e-a958-5d0b2d4d3312",
        "outputId": "3177a872-8711-4f2e-c1c5-91f5651dc63f"
      },
      "outputs": [
        {
          "data": {
            "text/html": [
              "<div>\n",
              "<style scoped>\n",
              "    .dataframe tbody tr th:only-of-type {\n",
              "        vertical-align: middle;\n",
              "    }\n",
              "\n",
              "    .dataframe tbody tr th {\n",
              "        vertical-align: top;\n",
              "    }\n",
              "\n",
              "    .dataframe thead th {\n",
              "        text-align: right;\n",
              "    }\n",
              "</style>\n",
              "<table border=\"1\" class=\"dataframe\">\n",
              "  <thead>\n",
              "    <tr style=\"text-align: right;\">\n",
              "      <th></th>\n",
              "      <th>description</th>\n",
              "      <th>char_len</th>\n",
              "      <th>word_count</th>\n",
              "    </tr>\n",
              "  </thead>\n",
              "  <tbody>\n",
              "    <tr>\n",
              "      <th>0</th>\n",
              "      <td>PW Skills is your one-stop-shop for upscaling. Get maximum value for timeand resources you invest, with job-ready courses &amp; high-technology,available at the lowest cost.</td>\n",
              "      <td>169</td>\n",
              "      <td>24</td>\n",
              "    </tr>\n",
              "  </tbody>\n",
              "</table>\n",
              "</div>"
            ],
            "text/plain": [
              "                                                                                                                                                                 description  \\\n",
              "0  PW Skills is your one-stop-shop for upscaling. Get maximum value for timeand resources you invest, with job-ready courses & high-technology,available at the lowest cost.   \n",
              "\n",
              "   char_len  word_count  \n",
              "0       169          24  "
            ]
          },
          "execution_count": 20,
          "metadata": {},
          "output_type": "execute_result"
        }
      ],
      "source": [
        "df1"
      ]
    },
    {
      "cell_type": "code",
      "execution_count": null,
      "id": "6a28c0e6-8765-40d2-a3c8-74c17238bd29",
      "metadata": {
        "id": "6a28c0e6-8765-40d2-a3c8-74c17238bd29"
      },
      "outputs": [],
      "source": [
        "data = {'text':['Hello data science', 'I love ML', 'I read ml books']}\n",
        "a = pd.DataFrame(data)"
      ]
    },
    {
      "cell_type": "code",
      "execution_count": null,
      "id": "585747ec-156d-425a-b911-2b0c7ca1e746",
      "metadata": {
        "id": "585747ec-156d-425a-b911-2b0c7ca1e746",
        "outputId": "2d2167d6-dfc9-4682-93d4-7082e2bdff77"
      },
      "outputs": [
        {
          "data": {
            "text/html": [
              "<div>\n",
              "<style scoped>\n",
              "    .dataframe tbody tr th:only-of-type {\n",
              "        vertical-align: middle;\n",
              "    }\n",
              "\n",
              "    .dataframe tbody tr th {\n",
              "        vertical-align: top;\n",
              "    }\n",
              "\n",
              "    .dataframe thead th {\n",
              "        text-align: right;\n",
              "    }\n",
              "</style>\n",
              "<table border=\"1\" class=\"dataframe\">\n",
              "  <thead>\n",
              "    <tr style=\"text-align: right;\">\n",
              "      <th></th>\n",
              "      <th>text</th>\n",
              "    </tr>\n",
              "  </thead>\n",
              "  <tbody>\n",
              "    <tr>\n",
              "      <th>0</th>\n",
              "      <td>Hello data science</td>\n",
              "    </tr>\n",
              "    <tr>\n",
              "      <th>1</th>\n",
              "      <td>I love ML</td>\n",
              "    </tr>\n",
              "    <tr>\n",
              "      <th>2</th>\n",
              "      <td>I read ml books</td>\n",
              "    </tr>\n",
              "  </tbody>\n",
              "</table>\n",
              "</div>"
            ],
            "text/plain": [
              "                 text\n",
              "0  Hello data science\n",
              "1           I love ML\n",
              "2     I read ml books"
            ]
          },
          "execution_count": 22,
          "metadata": {},
          "output_type": "execute_result"
        }
      ],
      "source": [
        "a"
      ]
    },
    {
      "cell_type": "code",
      "execution_count": null,
      "id": "183ea6a4-64aa-4c78-8cb3-67e8ce17ca85",
      "metadata": {
        "id": "183ea6a4-64aa-4c78-8cb3-67e8ce17ca85"
      },
      "outputs": [],
      "source": [
        "a['text_lower'] = a['text'].str.lower()"
      ]
    },
    {
      "cell_type": "code",
      "execution_count": null,
      "id": "eadde78c-543b-4523-b3d8-c24eb19c409b",
      "metadata": {
        "id": "eadde78c-543b-4523-b3d8-c24eb19c409b",
        "outputId": "66c5d8e2-b76f-4f38-98d0-29dfb04b7cb9"
      },
      "outputs": [
        {
          "data": {
            "text/html": [
              "<div>\n",
              "<style scoped>\n",
              "    .dataframe tbody tr th:only-of-type {\n",
              "        vertical-align: middle;\n",
              "    }\n",
              "\n",
              "    .dataframe tbody tr th {\n",
              "        vertical-align: top;\n",
              "    }\n",
              "\n",
              "    .dataframe thead th {\n",
              "        text-align: right;\n",
              "    }\n",
              "</style>\n",
              "<table border=\"1\" class=\"dataframe\">\n",
              "  <thead>\n",
              "    <tr style=\"text-align: right;\">\n",
              "      <th></th>\n",
              "      <th>text</th>\n",
              "      <th>text_lower</th>\n",
              "    </tr>\n",
              "  </thead>\n",
              "  <tbody>\n",
              "    <tr>\n",
              "      <th>0</th>\n",
              "      <td>Hello data science</td>\n",
              "      <td>hello data science</td>\n",
              "    </tr>\n",
              "    <tr>\n",
              "      <th>1</th>\n",
              "      <td>I love ML</td>\n",
              "      <td>i love ml</td>\n",
              "    </tr>\n",
              "    <tr>\n",
              "      <th>2</th>\n",
              "      <td>I read ml books</td>\n",
              "      <td>i read ml books</td>\n",
              "    </tr>\n",
              "  </tbody>\n",
              "</table>\n",
              "</div>"
            ],
            "text/plain": [
              "                 text          text_lower\n",
              "0  Hello data science  hello data science\n",
              "1           I love ML           i love ml\n",
              "2     I read ml books     i read ml books"
            ]
          },
          "execution_count": 25,
          "metadata": {},
          "output_type": "execute_result"
        }
      ],
      "source": [
        "a"
      ]
    },
    {
      "cell_type": "code",
      "execution_count": null,
      "id": "a55bd04a-edc7-4764-989b-5b0551a6a080",
      "metadata": {
        "id": "a55bd04a-edc7-4764-989b-5b0551a6a080"
      },
      "outputs": [],
      "source": [
        "a['text_upper'] = a['text'].str.upper()"
      ]
    },
    {
      "cell_type": "code",
      "execution_count": null,
      "id": "f9ca0258-a755-4492-b5e6-331080a19eaa",
      "metadata": {
        "id": "f9ca0258-a755-4492-b5e6-331080a19eaa",
        "outputId": "1a8a90ce-9a67-4340-f57f-23bd2c36527d"
      },
      "outputs": [
        {
          "data": {
            "text/html": [
              "<div>\n",
              "<style scoped>\n",
              "    .dataframe tbody tr th:only-of-type {\n",
              "        vertical-align: middle;\n",
              "    }\n",
              "\n",
              "    .dataframe tbody tr th {\n",
              "        vertical-align: top;\n",
              "    }\n",
              "\n",
              "    .dataframe thead th {\n",
              "        text-align: right;\n",
              "    }\n",
              "</style>\n",
              "<table border=\"1\" class=\"dataframe\">\n",
              "  <thead>\n",
              "    <tr style=\"text-align: right;\">\n",
              "      <th></th>\n",
              "      <th>text</th>\n",
              "      <th>text_lower</th>\n",
              "      <th>text_upper</th>\n",
              "    </tr>\n",
              "  </thead>\n",
              "  <tbody>\n",
              "    <tr>\n",
              "      <th>0</th>\n",
              "      <td>Hello data science</td>\n",
              "      <td>hello data science</td>\n",
              "      <td>HELLO DATA SCIENCE</td>\n",
              "    </tr>\n",
              "    <tr>\n",
              "      <th>1</th>\n",
              "      <td>I love ML</td>\n",
              "      <td>i love ml</td>\n",
              "      <td>I LOVE ML</td>\n",
              "    </tr>\n",
              "    <tr>\n",
              "      <th>2</th>\n",
              "      <td>I read ml books</td>\n",
              "      <td>i read ml books</td>\n",
              "      <td>I READ ML BOOKS</td>\n",
              "    </tr>\n",
              "  </tbody>\n",
              "</table>\n",
              "</div>"
            ],
            "text/plain": [
              "                 text          text_lower          text_upper\n",
              "0  Hello data science  hello data science  HELLO DATA SCIENCE\n",
              "1           I love ML           i love ml           I LOVE ML\n",
              "2     I read ml books     i read ml books     I READ ML BOOKS"
            ]
          },
          "execution_count": 27,
          "metadata": {},
          "output_type": "execute_result"
        }
      ],
      "source": [
        "a"
      ]
    },
    {
      "cell_type": "code",
      "execution_count": null,
      "id": "5ff5b0b5-a054-44f4-a8ba-b90d69f0ad0f",
      "metadata": {
        "id": "5ff5b0b5-a054-44f4-a8ba-b90d69f0ad0f",
        "outputId": "0b4d6ad9-5bbb-4af4-979e-bba1ffc0a327"
      },
      "outputs": [
        {
          "data": {
            "text/plain": [
              "True"
            ]
          },
          "execution_count": 30,
          "metadata": {},
          "output_type": "execute_result"
        }
      ],
      "source": [
        "a['text'][0].startswith('H')"
      ]
    },
    {
      "cell_type": "code",
      "execution_count": null,
      "id": "8236a0e7-251e-4a2a-9cfb-0a0531f64614",
      "metadata": {
        "id": "8236a0e7-251e-4a2a-9cfb-0a0531f64614",
        "outputId": "5eaa4de8-48f8-48f7-d75f-e6f182eb3894"
      },
      "outputs": [
        {
          "data": {
            "text/plain": [
              "False"
            ]
          },
          "execution_count": 31,
          "metadata": {},
          "output_type": "execute_result"
        }
      ],
      "source": [
        "a['text'][1].startswith('H')"
      ]
    },
    {
      "cell_type": "code",
      "execution_count": null,
      "id": "2cdd2cc9-c1cb-49c0-83f3-169736b403f7",
      "metadata": {
        "id": "2cdd2cc9-c1cb-49c0-83f3-169736b403f7",
        "outputId": "919c0a34-e4ee-417e-b9ae-4e17031537cf"
      },
      "outputs": [
        {
          "data": {
            "text/plain": [
              "True"
            ]
          },
          "execution_count": 32,
          "metadata": {},
          "output_type": "execute_result"
        }
      ],
      "source": [
        "a['text'][1].startswith('I')"
      ]
    },
    {
      "cell_type": "code",
      "execution_count": null,
      "id": "f37975b0-6f6a-4909-ae8c-b0156844f77d",
      "metadata": {
        "id": "f37975b0-6f6a-4909-ae8c-b0156844f77d",
        "outputId": "e0a82ee9-0061-46d6-bc21-dd982cd148eb"
      },
      "outputs": [
        {
          "data": {
            "text/html": [
              "<div>\n",
              "<style scoped>\n",
              "    .dataframe tbody tr th:only-of-type {\n",
              "        vertical-align: middle;\n",
              "    }\n",
              "\n",
              "    .dataframe tbody tr th {\n",
              "        vertical-align: top;\n",
              "    }\n",
              "\n",
              "    .dataframe thead th {\n",
              "        text-align: right;\n",
              "    }\n",
              "</style>\n",
              "<table border=\"1\" class=\"dataframe\">\n",
              "  <thead>\n",
              "    <tr style=\"text-align: right;\">\n",
              "      <th></th>\n",
              "      <th>a</th>\n",
              "      <th>b</th>\n",
              "    </tr>\n",
              "  </thead>\n",
              "  <tbody>\n",
              "    <tr>\n",
              "      <th>0</th>\n",
              "      <td>1</td>\n",
              "      <td>4</td>\n",
              "    </tr>\n",
              "    <tr>\n",
              "      <th>1</th>\n",
              "      <td>2</td>\n",
              "      <td>5</td>\n",
              "    </tr>\n",
              "    <tr>\n",
              "      <th>2</th>\n",
              "      <td>4</td>\n",
              "      <td>6</td>\n",
              "    </tr>\n",
              "    <tr>\n",
              "      <th>3</th>\n",
              "      <td>5</td>\n",
              "      <td>7</td>\n",
              "    </tr>\n",
              "    <tr>\n",
              "      <th>4</th>\n",
              "      <td>6</td>\n",
              "      <td>8</td>\n",
              "    </tr>\n",
              "  </tbody>\n",
              "</table>\n",
              "</div>"
            ],
            "text/plain": [
              "   a  b\n",
              "0  1  4\n",
              "1  2  5\n",
              "2  4  6\n",
              "3  5  7\n",
              "4  6  8"
            ]
          },
          "execution_count": 33,
          "metadata": {},
          "output_type": "execute_result"
        }
      ],
      "source": [
        "df1 = pd.DataFrame({'a':[1,2,4,5,6],\n",
        "                      'b':[4,5,6,7,8],\n",
        "})\n",
        "df1"
      ]
    },
    {
      "cell_type": "code",
      "execution_count": null,
      "id": "eafcc88e-7075-4e58-9397-505ce33f4098",
      "metadata": {
        "id": "eafcc88e-7075-4e58-9397-505ce33f4098"
      },
      "outputs": [],
      "source": [
        "df1['mul_a'] = df1['a'] * 5"
      ]
    },
    {
      "cell_type": "code",
      "execution_count": null,
      "id": "85c9194e-ef8f-4cc8-8c13-b5b0ccbcbcdd",
      "metadata": {
        "id": "85c9194e-ef8f-4cc8-8c13-b5b0ccbcbcdd",
        "outputId": "8b47e64c-7615-4d69-dce6-087701f2aa63"
      },
      "outputs": [
        {
          "data": {
            "text/html": [
              "<div>\n",
              "<style scoped>\n",
              "    .dataframe tbody tr th:only-of-type {\n",
              "        vertical-align: middle;\n",
              "    }\n",
              "\n",
              "    .dataframe tbody tr th {\n",
              "        vertical-align: top;\n",
              "    }\n",
              "\n",
              "    .dataframe thead th {\n",
              "        text-align: right;\n",
              "    }\n",
              "</style>\n",
              "<table border=\"1\" class=\"dataframe\">\n",
              "  <thead>\n",
              "    <tr style=\"text-align: right;\">\n",
              "      <th></th>\n",
              "      <th>a</th>\n",
              "      <th>b</th>\n",
              "      <th>mul_a</th>\n",
              "    </tr>\n",
              "  </thead>\n",
              "  <tbody>\n",
              "    <tr>\n",
              "      <th>0</th>\n",
              "      <td>1</td>\n",
              "      <td>4</td>\n",
              "      <td>5</td>\n",
              "    </tr>\n",
              "    <tr>\n",
              "      <th>1</th>\n",
              "      <td>2</td>\n",
              "      <td>5</td>\n",
              "      <td>10</td>\n",
              "    </tr>\n",
              "    <tr>\n",
              "      <th>2</th>\n",
              "      <td>4</td>\n",
              "      <td>6</td>\n",
              "      <td>20</td>\n",
              "    </tr>\n",
              "    <tr>\n",
              "      <th>3</th>\n",
              "      <td>5</td>\n",
              "      <td>7</td>\n",
              "      <td>25</td>\n",
              "    </tr>\n",
              "    <tr>\n",
              "      <th>4</th>\n",
              "      <td>6</td>\n",
              "      <td>8</td>\n",
              "      <td>30</td>\n",
              "    </tr>\n",
              "  </tbody>\n",
              "</table>\n",
              "</div>"
            ],
            "text/plain": [
              "   a  b  mul_a\n",
              "0  1  4      5\n",
              "1  2  5     10\n",
              "2  4  6     20\n",
              "3  5  7     25\n",
              "4  6  8     30"
            ]
          },
          "execution_count": 37,
          "metadata": {},
          "output_type": "execute_result"
        }
      ],
      "source": [
        "df1"
      ]
    },
    {
      "cell_type": "code",
      "execution_count": null,
      "id": "6fbc6a9b-c2bc-4d10-a344-1d0648b43c1c",
      "metadata": {
        "id": "6fbc6a9b-c2bc-4d10-a344-1d0648b43c1c",
        "outputId": "e444420d-aa6e-4a6e-ca72-e68d09852fc8"
      },
      "outputs": [
        {
          "data": {
            "text/plain": [
              "3.6"
            ]
          },
          "execution_count": 38,
          "metadata": {},
          "output_type": "execute_result"
        }
      ],
      "source": [
        "df1.a.mean()"
      ]
    },
    {
      "cell_type": "code",
      "execution_count": null,
      "id": "73ea2966-be59-4e47-bfe3-b89a368c4548",
      "metadata": {
        "id": "73ea2966-be59-4e47-bfe3-b89a368c4548",
        "outputId": "d3620ec8-483c-4bca-b425-8ba99e021bc2"
      },
      "outputs": [
        {
          "data": {
            "text/plain": [
              "4.0"
            ]
          },
          "execution_count": 39,
          "metadata": {},
          "output_type": "execute_result"
        }
      ],
      "source": [
        "df1.a.median()"
      ]
    },
    {
      "cell_type": "code",
      "execution_count": null,
      "id": "4c9f18cc-cd44-4ef7-98f2-e413d3cd39a4",
      "metadata": {
        "id": "4c9f18cc-cd44-4ef7-98f2-e413d3cd39a4",
        "outputId": "14e2a690-1210-44f6-ae7c-22fd1ff09823"
      },
      "outputs": [
        {
          "data": {
            "text/plain": [
              "0    1\n",
              "1    2\n",
              "2    4\n",
              "3    5\n",
              "4    6\n",
              "Name: a, dtype: int64"
            ]
          },
          "execution_count": 41,
          "metadata": {},
          "output_type": "execute_result"
        }
      ],
      "source": [
        "df1.a.mode()"
      ]
    },
    {
      "cell_type": "code",
      "execution_count": null,
      "id": "1df29b89-b290-4910-9b1e-b65ddfa73df2",
      "metadata": {
        "id": "1df29b89-b290-4910-9b1e-b65ddfa73df2",
        "outputId": "0b22699f-074b-4711-b39a-830f79b39ab2"
      },
      "outputs": [
        {
          "data": {
            "text/plain": [
              "1"
            ]
          },
          "execution_count": 42,
          "metadata": {},
          "output_type": "execute_result"
        }
      ],
      "source": [
        "df1.a.min()"
      ]
    },
    {
      "cell_type": "code",
      "execution_count": null,
      "id": "dcd9a9f6-a9b6-4f96-87f2-045c37f61faa",
      "metadata": {
        "id": "dcd9a9f6-a9b6-4f96-87f2-045c37f61faa",
        "outputId": "37b48ef8-bdde-4935-ed98-21316cca306f"
      },
      "outputs": [
        {
          "data": {
            "text/plain": [
              "6"
            ]
          },
          "execution_count": 44,
          "metadata": {},
          "output_type": "execute_result"
        }
      ],
      "source": [
        "df1.a.max()"
      ]
    },
    {
      "cell_type": "code",
      "execution_count": null,
      "id": "2451a15d-93cd-4075-8b55-fd9ff9acfc09",
      "metadata": {
        "id": "2451a15d-93cd-4075-8b55-fd9ff9acfc09",
        "outputId": "5509c891-3d14-429f-923b-5cada6896caf"
      },
      "outputs": [
        {
          "data": {
            "text/plain": [
              "18"
            ]
          },
          "execution_count": 46,
          "metadata": {},
          "output_type": "execute_result"
        }
      ],
      "source": [
        "df1.a.sum()"
      ]
    },
    {
      "cell_type": "code",
      "execution_count": null,
      "id": "48ced2c0-e6a8-4d7a-ad56-40cc729a76ad",
      "metadata": {
        "id": "48ced2c0-e6a8-4d7a-ad56-40cc729a76ad",
        "outputId": "3359e552-85ed-42dd-c5cd-1299070bd8e1"
      },
      "outputs": [
        {
          "data": {
            "text/plain": [
              "4.3"
            ]
          },
          "execution_count": 47,
          "metadata": {},
          "output_type": "execute_result"
        }
      ],
      "source": [
        "df1.a.var()"
      ]
    },
    {
      "cell_type": "code",
      "execution_count": null,
      "id": "e64b16fc-44df-450a-93f7-46b6834a9bd1",
      "metadata": {
        "id": "e64b16fc-44df-450a-93f7-46b6834a9bd1",
        "outputId": "07b620e7-d614-46ab-d335-e31f97a9758e"
      },
      "outputs": [
        {
          "data": {
            "text/plain": [
              "count    5.000000\n",
              "mean     3.600000\n",
              "std      2.073644\n",
              "min      1.000000\n",
              "25%      2.000000\n",
              "50%      4.000000\n",
              "75%      5.000000\n",
              "max      6.000000\n",
              "Name: a, dtype: float64"
            ]
          },
          "execution_count": 48,
          "metadata": {},
          "output_type": "execute_result"
        }
      ],
      "source": [
        "df1.a.describe()"
      ]
    },
    {
      "cell_type": "code",
      "execution_count": null,
      "id": "9ea2067a-38a0-4b1e-b809-51507b47f169",
      "metadata": {
        "id": "9ea2067a-38a0-4b1e-b809-51507b47f169",
        "outputId": "618cc8b6-7cec-43a7-8d01-d473760635d1"
      },
      "outputs": [
        {
          "data": {
            "text/html": [
              "<div>\n",
              "<style scoped>\n",
              "    .dataframe tbody tr th:only-of-type {\n",
              "        vertical-align: middle;\n",
              "    }\n",
              "\n",
              "    .dataframe tbody tr th {\n",
              "        vertical-align: top;\n",
              "    }\n",
              "\n",
              "    .dataframe thead th {\n",
              "        text-align: right;\n",
              "    }\n",
              "</style>\n",
              "<table border=\"1\" class=\"dataframe\">\n",
              "  <thead>\n",
              "    <tr style=\"text-align: right;\">\n",
              "      <th></th>\n",
              "      <th>a</th>\n",
              "    </tr>\n",
              "  </thead>\n",
              "  <tbody>\n",
              "    <tr>\n",
              "      <th>0</th>\n",
              "      <td>1</td>\n",
              "    </tr>\n",
              "    <tr>\n",
              "      <th>1</th>\n",
              "      <td>2</td>\n",
              "    </tr>\n",
              "    <tr>\n",
              "      <th>2</th>\n",
              "      <td>3</td>\n",
              "    </tr>\n",
              "    <tr>\n",
              "      <th>3</th>\n",
              "      <td>4</td>\n",
              "    </tr>\n",
              "    <tr>\n",
              "      <th>4</th>\n",
              "      <td>5</td>\n",
              "    </tr>\n",
              "    <tr>\n",
              "      <th>5</th>\n",
              "      <td>6</td>\n",
              "    </tr>\n",
              "    <tr>\n",
              "      <th>6</th>\n",
              "      <td>7</td>\n",
              "    </tr>\n",
              "    <tr>\n",
              "      <th>7</th>\n",
              "      <td>8</td>\n",
              "    </tr>\n",
              "    <tr>\n",
              "      <th>8</th>\n",
              "      <td>9</td>\n",
              "    </tr>\n",
              "  </tbody>\n",
              "</table>\n",
              "</div>"
            ],
            "text/plain": [
              "   a\n",
              "0  1\n",
              "1  2\n",
              "2  3\n",
              "3  4\n",
              "4  5\n",
              "5  6\n",
              "6  7\n",
              "7  8\n",
              "8  9"
            ]
          },
          "execution_count": 49,
          "metadata": {},
          "output_type": "execute_result"
        }
      ],
      "source": [
        "df2 = pd.DataFrame({\"a\": [1, 2, 3, 4, 5, 6, 7, 8, 9]})\n",
        "df2"
      ]
    },
    {
      "cell_type": "code",
      "execution_count": null,
      "id": "abe4d504-5d65-418b-9a7f-6bc4cfade518",
      "metadata": {
        "id": "abe4d504-5d65-418b-9a7f-6bc4cfade518",
        "outputId": "fb97ddb5-acfb-4095-99f2-ef3b43131504"
      },
      "outputs": [
        {
          "data": {
            "text/plain": [
              "5.0"
            ]
          },
          "execution_count": 50,
          "metadata": {},
          "output_type": "execute_result"
        }
      ],
      "source": [
        "df2.a.mean()"
      ]
    },
    {
      "cell_type": "code",
      "execution_count": null,
      "id": "0abcd14e-cd83-495f-bdc8-9cb7597e7cfb",
      "metadata": {
        "id": "0abcd14e-cd83-495f-bdc8-9cb7597e7cfb",
        "outputId": "858001e9-09fb-4116-f6a8-9af029c6c2a2"
      },
      "outputs": [
        {
          "data": {
            "text/html": [
              "<div>\n",
              "<style scoped>\n",
              "    .dataframe tbody tr th:only-of-type {\n",
              "        vertical-align: middle;\n",
              "    }\n",
              "\n",
              "    .dataframe tbody tr th {\n",
              "        vertical-align: top;\n",
              "    }\n",
              "\n",
              "    .dataframe thead th {\n",
              "        text-align: right;\n",
              "    }\n",
              "</style>\n",
              "<table border=\"1\" class=\"dataframe\">\n",
              "  <thead>\n",
              "    <tr style=\"text-align: right;\">\n",
              "      <th></th>\n",
              "      <th>a</th>\n",
              "    </tr>\n",
              "  </thead>\n",
              "  <tbody>\n",
              "    <tr>\n",
              "      <th>0</th>\n",
              "      <td>1</td>\n",
              "    </tr>\n",
              "    <tr>\n",
              "      <th>1</th>\n",
              "      <td>2</td>\n",
              "    </tr>\n",
              "    <tr>\n",
              "      <th>2</th>\n",
              "      <td>3</td>\n",
              "    </tr>\n",
              "    <tr>\n",
              "      <th>3</th>\n",
              "      <td>4</td>\n",
              "    </tr>\n",
              "    <tr>\n",
              "      <th>4</th>\n",
              "      <td>5</td>\n",
              "    </tr>\n",
              "    <tr>\n",
              "      <th>5</th>\n",
              "      <td>6</td>\n",
              "    </tr>\n",
              "    <tr>\n",
              "      <th>6</th>\n",
              "      <td>7</td>\n",
              "    </tr>\n",
              "    <tr>\n",
              "      <th>7</th>\n",
              "      <td>8</td>\n",
              "    </tr>\n",
              "    <tr>\n",
              "      <th>8</th>\n",
              "      <td>9</td>\n",
              "    </tr>\n",
              "  </tbody>\n",
              "</table>\n",
              "</div>"
            ],
            "text/plain": [
              "   a\n",
              "0  1\n",
              "1  2\n",
              "2  3\n",
              "3  4\n",
              "4  5\n",
              "5  6\n",
              "6  7\n",
              "7  8\n",
              "8  9"
            ]
          },
          "execution_count": 53,
          "metadata": {},
          "output_type": "execute_result"
        }
      ],
      "source": [
        "df2"
      ]
    },
    {
      "cell_type": "code",
      "execution_count": null,
      "id": "857d2b53-5039-4929-a07e-a9fa99020cf1",
      "metadata": {
        "id": "857d2b53-5039-4929-a07e-a9fa99020cf1",
        "outputId": "cf0d1887-8866-427c-e7c6-17afc4b66254"
      },
      "outputs": [
        {
          "data": {
            "text/html": [
              "<div>\n",
              "<style scoped>\n",
              "    .dataframe tbody tr th:only-of-type {\n",
              "        vertical-align: middle;\n",
              "    }\n",
              "\n",
              "    .dataframe tbody tr th {\n",
              "        vertical-align: top;\n",
              "    }\n",
              "\n",
              "    .dataframe thead th {\n",
              "        text-align: right;\n",
              "    }\n",
              "</style>\n",
              "<table border=\"1\" class=\"dataframe\">\n",
              "  <thead>\n",
              "    <tr style=\"text-align: right;\">\n",
              "      <th></th>\n",
              "      <th>a</th>\n",
              "    </tr>\n",
              "  </thead>\n",
              "  <tbody>\n",
              "    <tr>\n",
              "      <th>0</th>\n",
              "      <td>1.0</td>\n",
              "    </tr>\n",
              "    <tr>\n",
              "      <th>1</th>\n",
              "      <td>2.0</td>\n",
              "    </tr>\n",
              "    <tr>\n",
              "      <th>2</th>\n",
              "      <td>3.0</td>\n",
              "    </tr>\n",
              "    <tr>\n",
              "      <th>3</th>\n",
              "      <td>4.0</td>\n",
              "    </tr>\n",
              "    <tr>\n",
              "      <th>4</th>\n",
              "      <td>5.0</td>\n",
              "    </tr>\n",
              "    <tr>\n",
              "      <th>5</th>\n",
              "      <td>6.0</td>\n",
              "    </tr>\n",
              "    <tr>\n",
              "      <th>6</th>\n",
              "      <td>7.0</td>\n",
              "    </tr>\n",
              "    <tr>\n",
              "      <th>7</th>\n",
              "      <td>8.0</td>\n",
              "    </tr>\n",
              "    <tr>\n",
              "      <th>8</th>\n",
              "      <td>9.0</td>\n",
              "    </tr>\n",
              "  </tbody>\n",
              "</table>\n",
              "</div>"
            ],
            "text/plain": [
              "     a\n",
              "0  1.0\n",
              "1  2.0\n",
              "2  3.0\n",
              "3  4.0\n",
              "4  5.0\n",
              "5  6.0\n",
              "6  7.0\n",
              "7  8.0\n",
              "8  9.0"
            ]
          },
          "execution_count": 54,
          "metadata": {},
          "output_type": "execute_result"
        }
      ],
      "source": [
        "df2.rolling(window = 1).mean()"
      ]
    },
    {
      "cell_type": "code",
      "execution_count": null,
      "id": "22a23500-e3de-4b57-8a4a-fef24c7e243a",
      "metadata": {
        "id": "22a23500-e3de-4b57-8a4a-fef24c7e243a",
        "outputId": "13453ac5-59f7-40b9-f5f8-9e782cf7c97f"
      },
      "outputs": [
        {
          "data": {
            "text/html": [
              "<div>\n",
              "<style scoped>\n",
              "    .dataframe tbody tr th:only-of-type {\n",
              "        vertical-align: middle;\n",
              "    }\n",
              "\n",
              "    .dataframe tbody tr th {\n",
              "        vertical-align: top;\n",
              "    }\n",
              "\n",
              "    .dataframe thead th {\n",
              "        text-align: right;\n",
              "    }\n",
              "</style>\n",
              "<table border=\"1\" class=\"dataframe\">\n",
              "  <thead>\n",
              "    <tr style=\"text-align: right;\">\n",
              "      <th></th>\n",
              "      <th>a</th>\n",
              "    </tr>\n",
              "  </thead>\n",
              "  <tbody>\n",
              "    <tr>\n",
              "      <th>0</th>\n",
              "      <td>NaN</td>\n",
              "    </tr>\n",
              "    <tr>\n",
              "      <th>1</th>\n",
              "      <td>1.5</td>\n",
              "    </tr>\n",
              "    <tr>\n",
              "      <th>2</th>\n",
              "      <td>2.5</td>\n",
              "    </tr>\n",
              "    <tr>\n",
              "      <th>3</th>\n",
              "      <td>3.5</td>\n",
              "    </tr>\n",
              "    <tr>\n",
              "      <th>4</th>\n",
              "      <td>4.5</td>\n",
              "    </tr>\n",
              "    <tr>\n",
              "      <th>5</th>\n",
              "      <td>5.5</td>\n",
              "    </tr>\n",
              "    <tr>\n",
              "      <th>6</th>\n",
              "      <td>6.5</td>\n",
              "    </tr>\n",
              "    <tr>\n",
              "      <th>7</th>\n",
              "      <td>7.5</td>\n",
              "    </tr>\n",
              "    <tr>\n",
              "      <th>8</th>\n",
              "      <td>8.5</td>\n",
              "    </tr>\n",
              "  </tbody>\n",
              "</table>\n",
              "</div>"
            ],
            "text/plain": [
              "     a\n",
              "0  NaN\n",
              "1  1.5\n",
              "2  2.5\n",
              "3  3.5\n",
              "4  4.5\n",
              "5  5.5\n",
              "6  6.5\n",
              "7  7.5\n",
              "8  8.5"
            ]
          },
          "execution_count": 55,
          "metadata": {},
          "output_type": "execute_result"
        }
      ],
      "source": [
        "df2.rolling(window = 2).mean()"
      ]
    },
    {
      "cell_type": "code",
      "execution_count": null,
      "id": "03af66ed-3fb9-42dd-8f0b-c668e6e8c2dc",
      "metadata": {
        "id": "03af66ed-3fb9-42dd-8f0b-c668e6e8c2dc"
      },
      "outputs": [],
      "source": [
        "df3 = df2.rolling(window = 3).mean()"
      ]
    },
    {
      "cell_type": "code",
      "execution_count": null,
      "id": "20b83266-59f7-4f0a-b647-337120ed3d11",
      "metadata": {
        "id": "20b83266-59f7-4f0a-b647-337120ed3d11",
        "outputId": "43262793-36fe-42b0-dfaf-693ca0a96728"
      },
      "outputs": [
        {
          "data": {
            "text/html": [
              "<div>\n",
              "<style scoped>\n",
              "    .dataframe tbody tr th:only-of-type {\n",
              "        vertical-align: middle;\n",
              "    }\n",
              "\n",
              "    .dataframe tbody tr th {\n",
              "        vertical-align: top;\n",
              "    }\n",
              "\n",
              "    .dataframe thead th {\n",
              "        text-align: right;\n",
              "    }\n",
              "</style>\n",
              "<table border=\"1\" class=\"dataframe\">\n",
              "  <thead>\n",
              "    <tr style=\"text-align: right;\">\n",
              "      <th></th>\n",
              "      <th>a</th>\n",
              "    </tr>\n",
              "  </thead>\n",
              "  <tbody>\n",
              "    <tr>\n",
              "      <th>0</th>\n",
              "      <td>NaN</td>\n",
              "    </tr>\n",
              "    <tr>\n",
              "      <th>1</th>\n",
              "      <td>NaN</td>\n",
              "    </tr>\n",
              "    <tr>\n",
              "      <th>2</th>\n",
              "      <td>2.0</td>\n",
              "    </tr>\n",
              "    <tr>\n",
              "      <th>3</th>\n",
              "      <td>3.0</td>\n",
              "    </tr>\n",
              "    <tr>\n",
              "      <th>4</th>\n",
              "      <td>4.0</td>\n",
              "    </tr>\n",
              "    <tr>\n",
              "      <th>5</th>\n",
              "      <td>5.0</td>\n",
              "    </tr>\n",
              "    <tr>\n",
              "      <th>6</th>\n",
              "      <td>6.0</td>\n",
              "    </tr>\n",
              "    <tr>\n",
              "      <th>7</th>\n",
              "      <td>7.0</td>\n",
              "    </tr>\n",
              "    <tr>\n",
              "      <th>8</th>\n",
              "      <td>8.0</td>\n",
              "    </tr>\n",
              "  </tbody>\n",
              "</table>\n",
              "</div>"
            ],
            "text/plain": [
              "     a\n",
              "0  NaN\n",
              "1  NaN\n",
              "2  2.0\n",
              "3  3.0\n",
              "4  4.0\n",
              "5  5.0\n",
              "6  6.0\n",
              "7  7.0\n",
              "8  8.0"
            ]
          },
          "execution_count": 58,
          "metadata": {},
          "output_type": "execute_result"
        }
      ],
      "source": [
        "df3"
      ]
    },
    {
      "cell_type": "code",
      "execution_count": null,
      "id": "cd2206a5-1a07-4c4f-8fa5-fbbac47c443c",
      "metadata": {
        "id": "cd2206a5-1a07-4c4f-8fa5-fbbac47c443c"
      },
      "outputs": [],
      "source": [
        "df3.dropna(inplace=True)"
      ]
    },
    {
      "cell_type": "code",
      "execution_count": null,
      "id": "843ad762-74b7-46e0-86f2-bbffa5e85029",
      "metadata": {
        "id": "843ad762-74b7-46e0-86f2-bbffa5e85029",
        "outputId": "af2ca916-3b5b-43df-c88d-5a3c26c5025c"
      },
      "outputs": [
        {
          "data": {
            "text/html": [
              "<div>\n",
              "<style scoped>\n",
              "    .dataframe tbody tr th:only-of-type {\n",
              "        vertical-align: middle;\n",
              "    }\n",
              "\n",
              "    .dataframe tbody tr th {\n",
              "        vertical-align: top;\n",
              "    }\n",
              "\n",
              "    .dataframe thead th {\n",
              "        text-align: right;\n",
              "    }\n",
              "</style>\n",
              "<table border=\"1\" class=\"dataframe\">\n",
              "  <thead>\n",
              "    <tr style=\"text-align: right;\">\n",
              "      <th></th>\n",
              "      <th>a</th>\n",
              "    </tr>\n",
              "  </thead>\n",
              "  <tbody>\n",
              "    <tr>\n",
              "      <th>2</th>\n",
              "      <td>2.0</td>\n",
              "    </tr>\n",
              "    <tr>\n",
              "      <th>3</th>\n",
              "      <td>3.0</td>\n",
              "    </tr>\n",
              "    <tr>\n",
              "      <th>4</th>\n",
              "      <td>4.0</td>\n",
              "    </tr>\n",
              "    <tr>\n",
              "      <th>5</th>\n",
              "      <td>5.0</td>\n",
              "    </tr>\n",
              "    <tr>\n",
              "      <th>6</th>\n",
              "      <td>6.0</td>\n",
              "    </tr>\n",
              "    <tr>\n",
              "      <th>7</th>\n",
              "      <td>7.0</td>\n",
              "    </tr>\n",
              "    <tr>\n",
              "      <th>8</th>\n",
              "      <td>8.0</td>\n",
              "    </tr>\n",
              "  </tbody>\n",
              "</table>\n",
              "</div>"
            ],
            "text/plain": [
              "     a\n",
              "2  2.0\n",
              "3  3.0\n",
              "4  4.0\n",
              "5  5.0\n",
              "6  6.0\n",
              "7  7.0\n",
              "8  8.0"
            ]
          },
          "execution_count": 60,
          "metadata": {},
          "output_type": "execute_result"
        }
      ],
      "source": [
        "df3"
      ]
    },
    {
      "cell_type": "code",
      "execution_count": null,
      "id": "7a419d10-f9f2-4b24-b2b8-6864d23a9026",
      "metadata": {
        "id": "7a419d10-f9f2-4b24-b2b8-6864d23a9026"
      },
      "outputs": [],
      "source": [
        "#Typecasting\n",
        "df3['a_int'] = df3['a'].astype(int)"
      ]
    },
    {
      "cell_type": "code",
      "execution_count": null,
      "id": "950b6e7d-8081-4120-b567-df9415e6313f",
      "metadata": {
        "id": "950b6e7d-8081-4120-b567-df9415e6313f",
        "outputId": "dd756ec0-0fea-445e-cb52-4bf84ee3d7eb"
      },
      "outputs": [
        {
          "data": {
            "text/html": [
              "<div>\n",
              "<style scoped>\n",
              "    .dataframe tbody tr th:only-of-type {\n",
              "        vertical-align: middle;\n",
              "    }\n",
              "\n",
              "    .dataframe tbody tr th {\n",
              "        vertical-align: top;\n",
              "    }\n",
              "\n",
              "    .dataframe thead th {\n",
              "        text-align: right;\n",
              "    }\n",
              "</style>\n",
              "<table border=\"1\" class=\"dataframe\">\n",
              "  <thead>\n",
              "    <tr style=\"text-align: right;\">\n",
              "      <th></th>\n",
              "      <th>a</th>\n",
              "      <th>a_int</th>\n",
              "    </tr>\n",
              "  </thead>\n",
              "  <tbody>\n",
              "    <tr>\n",
              "      <th>2</th>\n",
              "      <td>2.0</td>\n",
              "      <td>2</td>\n",
              "    </tr>\n",
              "    <tr>\n",
              "      <th>3</th>\n",
              "      <td>3.0</td>\n",
              "      <td>3</td>\n",
              "    </tr>\n",
              "    <tr>\n",
              "      <th>4</th>\n",
              "      <td>4.0</td>\n",
              "      <td>4</td>\n",
              "    </tr>\n",
              "    <tr>\n",
              "      <th>5</th>\n",
              "      <td>5.0</td>\n",
              "      <td>5</td>\n",
              "    </tr>\n",
              "    <tr>\n",
              "      <th>6</th>\n",
              "      <td>6.0</td>\n",
              "      <td>6</td>\n",
              "    </tr>\n",
              "    <tr>\n",
              "      <th>7</th>\n",
              "      <td>7.0</td>\n",
              "      <td>7</td>\n",
              "    </tr>\n",
              "    <tr>\n",
              "      <th>8</th>\n",
              "      <td>8.0</td>\n",
              "      <td>8</td>\n",
              "    </tr>\n",
              "  </tbody>\n",
              "</table>\n",
              "</div>"
            ],
            "text/plain": [
              "     a  a_int\n",
              "2  2.0      2\n",
              "3  3.0      3\n",
              "4  4.0      4\n",
              "5  5.0      5\n",
              "6  6.0      6\n",
              "7  7.0      7\n",
              "8  8.0      8"
            ]
          },
          "execution_count": 65,
          "metadata": {},
          "output_type": "execute_result"
        }
      ],
      "source": [
        "df3"
      ]
    },
    {
      "cell_type": "code",
      "execution_count": null,
      "id": "6114d138-9e3e-4d31-8f80-ecf238f25961",
      "metadata": {
        "id": "6114d138-9e3e-4d31-8f80-ecf238f25961",
        "outputId": "1bfe7310-baf9-49bc-9daf-c3981c88cfcd"
      },
      "outputs": [
        {
          "data": {
            "text/html": [
              "<div>\n",
              "<style scoped>\n",
              "    .dataframe tbody tr th:only-of-type {\n",
              "        vertical-align: middle;\n",
              "    }\n",
              "\n",
              "    .dataframe tbody tr th {\n",
              "        vertical-align: top;\n",
              "    }\n",
              "\n",
              "    .dataframe thead th {\n",
              "        text-align: right;\n",
              "    }\n",
              "</style>\n",
              "<table border=\"1\" class=\"dataframe\">\n",
              "  <thead>\n",
              "    <tr style=\"text-align: right;\">\n",
              "      <th></th>\n",
              "      <th>a</th>\n",
              "    </tr>\n",
              "  </thead>\n",
              "  <tbody>\n",
              "    <tr>\n",
              "      <th>0</th>\n",
              "      <td>NaN</td>\n",
              "    </tr>\n",
              "    <tr>\n",
              "      <th>1</th>\n",
              "      <td>3.0</td>\n",
              "    </tr>\n",
              "    <tr>\n",
              "      <th>2</th>\n",
              "      <td>5.0</td>\n",
              "    </tr>\n",
              "    <tr>\n",
              "      <th>3</th>\n",
              "      <td>7.0</td>\n",
              "    </tr>\n",
              "    <tr>\n",
              "      <th>4</th>\n",
              "      <td>9.0</td>\n",
              "    </tr>\n",
              "    <tr>\n",
              "      <th>5</th>\n",
              "      <td>11.0</td>\n",
              "    </tr>\n",
              "    <tr>\n",
              "      <th>6</th>\n",
              "      <td>13.0</td>\n",
              "    </tr>\n",
              "    <tr>\n",
              "      <th>7</th>\n",
              "      <td>15.0</td>\n",
              "    </tr>\n",
              "    <tr>\n",
              "      <th>8</th>\n",
              "      <td>17.0</td>\n",
              "    </tr>\n",
              "  </tbody>\n",
              "</table>\n",
              "</div>"
            ],
            "text/plain": [
              "      a\n",
              "0   NaN\n",
              "1   3.0\n",
              "2   5.0\n",
              "3   7.0\n",
              "4   9.0\n",
              "5  11.0\n",
              "6  13.0\n",
              "7  15.0\n",
              "8  17.0"
            ]
          },
          "execution_count": 67,
          "metadata": {},
          "output_type": "execute_result"
        }
      ],
      "source": [
        "df2.rolling(window = 2).sum()"
      ]
    },
    {
      "cell_type": "code",
      "execution_count": null,
      "id": "ffc0dd77-8e94-490d-9479-ca9b6ddc377c",
      "metadata": {
        "id": "ffc0dd77-8e94-490d-9479-ca9b6ddc377c",
        "outputId": "67882919-4d96-4f16-9d0f-bf98c553832b"
      },
      "outputs": [
        {
          "data": {
            "text/html": [
              "<div>\n",
              "<style scoped>\n",
              "    .dataframe tbody tr th:only-of-type {\n",
              "        vertical-align: middle;\n",
              "    }\n",
              "\n",
              "    .dataframe tbody tr th {\n",
              "        vertical-align: top;\n",
              "    }\n",
              "\n",
              "    .dataframe thead th {\n",
              "        text-align: right;\n",
              "    }\n",
              "</style>\n",
              "<table border=\"1\" class=\"dataframe\">\n",
              "  <thead>\n",
              "    <tr style=\"text-align: right;\">\n",
              "      <th></th>\n",
              "      <th>a</th>\n",
              "    </tr>\n",
              "  </thead>\n",
              "  <tbody>\n",
              "    <tr>\n",
              "      <th>0</th>\n",
              "      <td>NaN</td>\n",
              "    </tr>\n",
              "    <tr>\n",
              "      <th>1</th>\n",
              "      <td>1.0</td>\n",
              "    </tr>\n",
              "    <tr>\n",
              "      <th>2</th>\n",
              "      <td>2.0</td>\n",
              "    </tr>\n",
              "    <tr>\n",
              "      <th>3</th>\n",
              "      <td>3.0</td>\n",
              "    </tr>\n",
              "    <tr>\n",
              "      <th>4</th>\n",
              "      <td>4.0</td>\n",
              "    </tr>\n",
              "    <tr>\n",
              "      <th>5</th>\n",
              "      <td>5.0</td>\n",
              "    </tr>\n",
              "    <tr>\n",
              "      <th>6</th>\n",
              "      <td>6.0</td>\n",
              "    </tr>\n",
              "    <tr>\n",
              "      <th>7</th>\n",
              "      <td>7.0</td>\n",
              "    </tr>\n",
              "    <tr>\n",
              "      <th>8</th>\n",
              "      <td>8.0</td>\n",
              "    </tr>\n",
              "  </tbody>\n",
              "</table>\n",
              "</div>"
            ],
            "text/plain": [
              "     a\n",
              "0  NaN\n",
              "1  1.0\n",
              "2  2.0\n",
              "3  3.0\n",
              "4  4.0\n",
              "5  5.0\n",
              "6  6.0\n",
              "7  7.0\n",
              "8  8.0"
            ]
          },
          "execution_count": 68,
          "metadata": {},
          "output_type": "execute_result"
        }
      ],
      "source": [
        "df2.rolling(window = 2).min()"
      ]
    },
    {
      "cell_type": "code",
      "execution_count": null,
      "id": "d8cb7392-ed2d-48a5-a456-ff0679bcc5a1",
      "metadata": {
        "id": "d8cb7392-ed2d-48a5-a456-ff0679bcc5a1",
        "outputId": "51444514-0780-440a-91ea-c9a49e5d82c5"
      },
      "outputs": [
        {
          "data": {
            "text/html": [
              "<div>\n",
              "<style scoped>\n",
              "    .dataframe tbody tr th:only-of-type {\n",
              "        vertical-align: middle;\n",
              "    }\n",
              "\n",
              "    .dataframe tbody tr th {\n",
              "        vertical-align: top;\n",
              "    }\n",
              "\n",
              "    .dataframe thead th {\n",
              "        text-align: right;\n",
              "    }\n",
              "</style>\n",
              "<table border=\"1\" class=\"dataframe\">\n",
              "  <thead>\n",
              "    <tr style=\"text-align: right;\">\n",
              "      <th></th>\n",
              "      <th>a</th>\n",
              "    </tr>\n",
              "  </thead>\n",
              "  <tbody>\n",
              "    <tr>\n",
              "      <th>0</th>\n",
              "      <td>NaN</td>\n",
              "    </tr>\n",
              "    <tr>\n",
              "      <th>1</th>\n",
              "      <td>2.0</td>\n",
              "    </tr>\n",
              "    <tr>\n",
              "      <th>2</th>\n",
              "      <td>3.0</td>\n",
              "    </tr>\n",
              "    <tr>\n",
              "      <th>3</th>\n",
              "      <td>4.0</td>\n",
              "    </tr>\n",
              "    <tr>\n",
              "      <th>4</th>\n",
              "      <td>5.0</td>\n",
              "    </tr>\n",
              "    <tr>\n",
              "      <th>5</th>\n",
              "      <td>6.0</td>\n",
              "    </tr>\n",
              "    <tr>\n",
              "      <th>6</th>\n",
              "      <td>7.0</td>\n",
              "    </tr>\n",
              "    <tr>\n",
              "      <th>7</th>\n",
              "      <td>8.0</td>\n",
              "    </tr>\n",
              "    <tr>\n",
              "      <th>8</th>\n",
              "      <td>9.0</td>\n",
              "    </tr>\n",
              "  </tbody>\n",
              "</table>\n",
              "</div>"
            ],
            "text/plain": [
              "     a\n",
              "0  NaN\n",
              "1  2.0\n",
              "2  3.0\n",
              "3  4.0\n",
              "4  5.0\n",
              "5  6.0\n",
              "6  7.0\n",
              "7  8.0\n",
              "8  9.0"
            ]
          },
          "execution_count": 69,
          "metadata": {},
          "output_type": "execute_result"
        }
      ],
      "source": [
        "df2.rolling(window = 2).max()"
      ]
    },
    {
      "cell_type": "code",
      "execution_count": null,
      "id": "f7236267-9e33-4b4a-9788-5e2fabc947a4",
      "metadata": {
        "id": "f7236267-9e33-4b4a-9788-5e2fabc947a4",
        "outputId": "fe8a3feb-d6c0-48ea-f276-4b0625a19919"
      },
      "outputs": [
        {
          "data": {
            "text/plain": [
              "'B'"
            ]
          },
          "execution_count": 73,
          "metadata": {},
          "output_type": "execute_result"
        }
      ],
      "source": [
        "import numpy as np\n",
        "np.random.choice(['A', 'B'])"
      ]
    },
    {
      "cell_type": "code",
      "execution_count": null,
      "id": "bf7864c2-98be-413f-b02a-e4142142bbff",
      "metadata": {
        "id": "bf7864c2-98be-413f-b02a-e4142142bbff"
      },
      "outputs": [],
      "source": [
        "df2['Group'] = np.random.choice(['A', 'B'], size = 9)"
      ]
    },
    {
      "cell_type": "code",
      "execution_count": null,
      "id": "f33ce675-4576-4611-92d9-fe7f94c1359e",
      "metadata": {
        "id": "f33ce675-4576-4611-92d9-fe7f94c1359e",
        "outputId": "fbbcd5f9-1978-4068-cba1-8ad26012aa27"
      },
      "outputs": [
        {
          "data": {
            "text/html": [
              "<div>\n",
              "<style scoped>\n",
              "    .dataframe tbody tr th:only-of-type {\n",
              "        vertical-align: middle;\n",
              "    }\n",
              "\n",
              "    .dataframe tbody tr th {\n",
              "        vertical-align: top;\n",
              "    }\n",
              "\n",
              "    .dataframe thead th {\n",
              "        text-align: right;\n",
              "    }\n",
              "</style>\n",
              "<table border=\"1\" class=\"dataframe\">\n",
              "  <thead>\n",
              "    <tr style=\"text-align: right;\">\n",
              "      <th></th>\n",
              "      <th>a</th>\n",
              "      <th>Group</th>\n",
              "    </tr>\n",
              "  </thead>\n",
              "  <tbody>\n",
              "    <tr>\n",
              "      <th>0</th>\n",
              "      <td>1</td>\n",
              "      <td>B</td>\n",
              "    </tr>\n",
              "    <tr>\n",
              "      <th>1</th>\n",
              "      <td>2</td>\n",
              "      <td>A</td>\n",
              "    </tr>\n",
              "    <tr>\n",
              "      <th>2</th>\n",
              "      <td>3</td>\n",
              "      <td>A</td>\n",
              "    </tr>\n",
              "    <tr>\n",
              "      <th>3</th>\n",
              "      <td>4</td>\n",
              "      <td>A</td>\n",
              "    </tr>\n",
              "    <tr>\n",
              "      <th>4</th>\n",
              "      <td>5</td>\n",
              "      <td>B</td>\n",
              "    </tr>\n",
              "    <tr>\n",
              "      <th>5</th>\n",
              "      <td>6</td>\n",
              "      <td>A</td>\n",
              "    </tr>\n",
              "    <tr>\n",
              "      <th>6</th>\n",
              "      <td>7</td>\n",
              "      <td>A</td>\n",
              "    </tr>\n",
              "    <tr>\n",
              "      <th>7</th>\n",
              "      <td>8</td>\n",
              "      <td>A</td>\n",
              "    </tr>\n",
              "    <tr>\n",
              "      <th>8</th>\n",
              "      <td>9</td>\n",
              "      <td>B</td>\n",
              "    </tr>\n",
              "  </tbody>\n",
              "</table>\n",
              "</div>"
            ],
            "text/plain": [
              "   a Group\n",
              "0  1     B\n",
              "1  2     A\n",
              "2  3     A\n",
              "3  4     A\n",
              "4  5     B\n",
              "5  6     A\n",
              "6  7     A\n",
              "7  8     A\n",
              "8  9     B"
            ]
          },
          "execution_count": 76,
          "metadata": {},
          "output_type": "execute_result"
        }
      ],
      "source": [
        "df2"
      ]
    },
    {
      "cell_type": "code",
      "execution_count": null,
      "id": "9aff4ec7-42fc-4b9f-9d40-8256581a2855",
      "metadata": {
        "id": "9aff4ec7-42fc-4b9f-9d40-8256581a2855",
        "outputId": "4cc57b04-944e-42fa-e514-a65a277fce94"
      },
      "outputs": [
        {
          "data": {
            "text/plain": [
              "Group   \n",
              "A      1     NaN\n",
              "       2     5.0\n",
              "       3     7.0\n",
              "       5    10.0\n",
              "       6    13.0\n",
              "       7    15.0\n",
              "B      0     NaN\n",
              "       4     6.0\n",
              "       8    14.0\n",
              "Name: a, dtype: float64"
            ]
          },
          "execution_count": 80,
          "metadata": {},
          "output_type": "execute_result"
        }
      ],
      "source": [
        "#groupby with rolling sum\n",
        "df2.groupby('Group')['a'].rolling(window = 2).sum()"
      ]
    },
    {
      "cell_type": "code",
      "execution_count": null,
      "id": "a6cc5293-1c7d-4a8a-bbe5-08610603fc61",
      "metadata": {
        "id": "a6cc5293-1c7d-4a8a-bbe5-08610603fc61",
        "outputId": "a42d7327-9cb0-46af-b190-12d676c08f17"
      },
      "outputs": [
        {
          "data": {
            "text/plain": [
              "0     1\n",
              "1     3\n",
              "2     6\n",
              "3    10\n",
              "4    15\n",
              "5    21\n",
              "6    28\n",
              "7    36\n",
              "8    45\n",
              "Name: a, dtype: int64"
            ]
          },
          "execution_count": 83,
          "metadata": {},
          "output_type": "execute_result"
        }
      ],
      "source": [
        "df2.a.cumsum()"
      ]
    },
    {
      "cell_type": "code",
      "execution_count": null,
      "id": "cd8cce9e-1a24-4c1c-ba4e-5e3cbdace4d3",
      "metadata": {
        "id": "cd8cce9e-1a24-4c1c-ba4e-5e3cbdace4d3"
      },
      "outputs": [],
      "source": [
        "df = pd.DataFrame({\"date\": ['2024-03-08', '2024-03-09', '2024-03-10']})"
      ]
    },
    {
      "cell_type": "code",
      "execution_count": null,
      "id": "d078577c-1718-4e7a-88b2-2feff3ffca14",
      "metadata": {
        "id": "d078577c-1718-4e7a-88b2-2feff3ffca14",
        "outputId": "148a6437-25f5-415e-b31c-5a8a2df807e0"
      },
      "outputs": [
        {
          "data": {
            "text/html": [
              "<div>\n",
              "<style scoped>\n",
              "    .dataframe tbody tr th:only-of-type {\n",
              "        vertical-align: middle;\n",
              "    }\n",
              "\n",
              "    .dataframe tbody tr th {\n",
              "        vertical-align: top;\n",
              "    }\n",
              "\n",
              "    .dataframe thead th {\n",
              "        text-align: right;\n",
              "    }\n",
              "</style>\n",
              "<table border=\"1\" class=\"dataframe\">\n",
              "  <thead>\n",
              "    <tr style=\"text-align: right;\">\n",
              "      <th></th>\n",
              "      <th>date</th>\n",
              "    </tr>\n",
              "  </thead>\n",
              "  <tbody>\n",
              "    <tr>\n",
              "      <th>0</th>\n",
              "      <td>2024-03-08</td>\n",
              "    </tr>\n",
              "    <tr>\n",
              "      <th>1</th>\n",
              "      <td>2024-03-09</td>\n",
              "    </tr>\n",
              "    <tr>\n",
              "      <th>2</th>\n",
              "      <td>2024-03-10</td>\n",
              "    </tr>\n",
              "  </tbody>\n",
              "</table>\n",
              "</div>"
            ],
            "text/plain": [
              "         date\n",
              "0  2024-03-08\n",
              "1  2024-03-09\n",
              "2  2024-03-10"
            ]
          },
          "execution_count": 85,
          "metadata": {},
          "output_type": "execute_result"
        }
      ],
      "source": [
        "df"
      ]
    },
    {
      "cell_type": "code",
      "execution_count": null,
      "id": "4113e8b9-37f0-4c21-8379-1bc790f5a3e4",
      "metadata": {
        "id": "4113e8b9-37f0-4c21-8379-1bc790f5a3e4",
        "outputId": "83906e61-3384-4685-9081-fd7f9e4ae5ea"
      },
      "outputs": [
        {
          "name": "stdout",
          "output_type": "stream",
          "text": [
            "<class 'pandas.core.frame.DataFrame'>\n",
            "RangeIndex: 3 entries, 0 to 2\n",
            "Data columns (total 1 columns):\n",
            " #   Column  Non-Null Count  Dtype \n",
            "---  ------  --------------  ----- \n",
            " 0   date    3 non-null      object\n",
            "dtypes: object(1)\n",
            "memory usage: 152.0+ bytes\n"
          ]
        }
      ],
      "source": [
        "df.info()"
      ]
    },
    {
      "cell_type": "code",
      "execution_count": null,
      "id": "7e67354b-deb7-4424-bd61-ff1ab7369356",
      "metadata": {
        "id": "7e67354b-deb7-4424-bd61-ff1ab7369356",
        "outputId": "374c75d0-baa6-47e4-bcb7-bc1e23f1e209"
      },
      "outputs": [
        {
          "data": {
            "text/plain": [
              "date    object\n",
              "dtype: object"
            ]
          },
          "execution_count": 88,
          "metadata": {},
          "output_type": "execute_result"
        }
      ],
      "source": [
        "df.dtypes"
      ]
    },
    {
      "cell_type": "code",
      "execution_count": null,
      "id": "3ca52063-acd5-4053-96ed-90ad6a109ffb",
      "metadata": {
        "id": "3ca52063-acd5-4053-96ed-90ad6a109ffb"
      },
      "outputs": [],
      "source": [
        "df['updated_date'] = pd.to_datetime(df[\"date\"])"
      ]
    },
    {
      "cell_type": "code",
      "execution_count": null,
      "id": "5e43cedb-3e00-4017-96a0-2c72fe9c1b6f",
      "metadata": {
        "id": "5e43cedb-3e00-4017-96a0-2c72fe9c1b6f",
        "outputId": "7d0012c2-6723-4f94-d8c3-645f49043a63"
      },
      "outputs": [
        {
          "data": {
            "text/html": [
              "<div>\n",
              "<style scoped>\n",
              "    .dataframe tbody tr th:only-of-type {\n",
              "        vertical-align: middle;\n",
              "    }\n",
              "\n",
              "    .dataframe tbody tr th {\n",
              "        vertical-align: top;\n",
              "    }\n",
              "\n",
              "    .dataframe thead th {\n",
              "        text-align: right;\n",
              "    }\n",
              "</style>\n",
              "<table border=\"1\" class=\"dataframe\">\n",
              "  <thead>\n",
              "    <tr style=\"text-align: right;\">\n",
              "      <th></th>\n",
              "      <th>date</th>\n",
              "      <th>updated_date</th>\n",
              "    </tr>\n",
              "  </thead>\n",
              "  <tbody>\n",
              "    <tr>\n",
              "      <th>0</th>\n",
              "      <td>2024-03-08</td>\n",
              "      <td>2024-03-08</td>\n",
              "    </tr>\n",
              "    <tr>\n",
              "      <th>1</th>\n",
              "      <td>2024-03-09</td>\n",
              "      <td>2024-03-09</td>\n",
              "    </tr>\n",
              "    <tr>\n",
              "      <th>2</th>\n",
              "      <td>2024-03-10</td>\n",
              "      <td>2024-03-10</td>\n",
              "    </tr>\n",
              "  </tbody>\n",
              "</table>\n",
              "</div>"
            ],
            "text/plain": [
              "         date updated_date\n",
              "0  2024-03-08   2024-03-08\n",
              "1  2024-03-09   2024-03-09\n",
              "2  2024-03-10   2024-03-10"
            ]
          },
          "execution_count": 91,
          "metadata": {},
          "output_type": "execute_result"
        }
      ],
      "source": [
        "df"
      ]
    },
    {
      "cell_type": "code",
      "execution_count": null,
      "id": "e2abdc17-7710-44a1-8623-7edcdafc4177",
      "metadata": {
        "id": "e2abdc17-7710-44a1-8623-7edcdafc4177",
        "outputId": "20c2b20d-51af-4489-9c94-c5c28f36a4cc"
      },
      "outputs": [
        {
          "data": {
            "text/plain": [
              "date                    object\n",
              "updated_date    datetime64[ns]\n",
              "dtype: object"
            ]
          },
          "execution_count": 92,
          "metadata": {},
          "output_type": "execute_result"
        }
      ],
      "source": [
        "df.dtypes"
      ]
    },
    {
      "cell_type": "code",
      "execution_count": null,
      "id": "206610f5-c7a4-4d02-b6a6-36e869b3e221",
      "metadata": {
        "id": "206610f5-c7a4-4d02-b6a6-36e869b3e221"
      },
      "outputs": [],
      "source": [
        "df['year'] = df['updated_date'].dt.year"
      ]
    },
    {
      "cell_type": "code",
      "execution_count": null,
      "id": "bdce029b-e807-4022-8fb9-2bc498ee13aa",
      "metadata": {
        "id": "bdce029b-e807-4022-8fb9-2bc498ee13aa",
        "outputId": "8a34ffeb-d923-4ea5-ab7e-f4fff0ba812d"
      },
      "outputs": [
        {
          "data": {
            "text/html": [
              "<div>\n",
              "<style scoped>\n",
              "    .dataframe tbody tr th:only-of-type {\n",
              "        vertical-align: middle;\n",
              "    }\n",
              "\n",
              "    .dataframe tbody tr th {\n",
              "        vertical-align: top;\n",
              "    }\n",
              "\n",
              "    .dataframe thead th {\n",
              "        text-align: right;\n",
              "    }\n",
              "</style>\n",
              "<table border=\"1\" class=\"dataframe\">\n",
              "  <thead>\n",
              "    <tr style=\"text-align: right;\">\n",
              "      <th></th>\n",
              "      <th>date</th>\n",
              "      <th>updated_date</th>\n",
              "      <th>year</th>\n",
              "    </tr>\n",
              "  </thead>\n",
              "  <tbody>\n",
              "    <tr>\n",
              "      <th>0</th>\n",
              "      <td>2024-03-08</td>\n",
              "      <td>2024-03-08</td>\n",
              "      <td>2024</td>\n",
              "    </tr>\n",
              "    <tr>\n",
              "      <th>1</th>\n",
              "      <td>2024-03-09</td>\n",
              "      <td>2024-03-09</td>\n",
              "      <td>2024</td>\n",
              "    </tr>\n",
              "    <tr>\n",
              "      <th>2</th>\n",
              "      <td>2024-03-10</td>\n",
              "      <td>2024-03-10</td>\n",
              "      <td>2024</td>\n",
              "    </tr>\n",
              "  </tbody>\n",
              "</table>\n",
              "</div>"
            ],
            "text/plain": [
              "         date updated_date  year\n",
              "0  2024-03-08   2024-03-08  2024\n",
              "1  2024-03-09   2024-03-09  2024\n",
              "2  2024-03-10   2024-03-10  2024"
            ]
          },
          "execution_count": 96,
          "metadata": {},
          "output_type": "execute_result"
        }
      ],
      "source": [
        "df"
      ]
    },
    {
      "cell_type": "code",
      "execution_count": null,
      "id": "944670a6-5c2d-42e9-8f14-8a66473cdb01",
      "metadata": {
        "id": "944670a6-5c2d-42e9-8f14-8a66473cdb01"
      },
      "outputs": [],
      "source": [
        "df['month'] = df['updated_date'].dt.month"
      ]
    },
    {
      "cell_type": "code",
      "execution_count": null,
      "id": "976a6184-45f5-427f-a3c7-6714b75ed4eb",
      "metadata": {
        "id": "976a6184-45f5-427f-a3c7-6714b75ed4eb",
        "outputId": "d0e8b349-818e-4811-d00e-ecfb71c464ce"
      },
      "outputs": [
        {
          "data": {
            "text/html": [
              "<div>\n",
              "<style scoped>\n",
              "    .dataframe tbody tr th:only-of-type {\n",
              "        vertical-align: middle;\n",
              "    }\n",
              "\n",
              "    .dataframe tbody tr th {\n",
              "        vertical-align: top;\n",
              "    }\n",
              "\n",
              "    .dataframe thead th {\n",
              "        text-align: right;\n",
              "    }\n",
              "</style>\n",
              "<table border=\"1\" class=\"dataframe\">\n",
              "  <thead>\n",
              "    <tr style=\"text-align: right;\">\n",
              "      <th></th>\n",
              "      <th>date</th>\n",
              "      <th>updated_date</th>\n",
              "      <th>year</th>\n",
              "      <th>month</th>\n",
              "    </tr>\n",
              "  </thead>\n",
              "  <tbody>\n",
              "    <tr>\n",
              "      <th>0</th>\n",
              "      <td>2024-03-08</td>\n",
              "      <td>2024-03-08</td>\n",
              "      <td>2024</td>\n",
              "      <td>3</td>\n",
              "    </tr>\n",
              "    <tr>\n",
              "      <th>1</th>\n",
              "      <td>2024-03-09</td>\n",
              "      <td>2024-03-09</td>\n",
              "      <td>2024</td>\n",
              "      <td>3</td>\n",
              "    </tr>\n",
              "    <tr>\n",
              "      <th>2</th>\n",
              "      <td>2024-03-10</td>\n",
              "      <td>2024-03-10</td>\n",
              "      <td>2024</td>\n",
              "      <td>3</td>\n",
              "    </tr>\n",
              "  </tbody>\n",
              "</table>\n",
              "</div>"
            ],
            "text/plain": [
              "         date updated_date  year  month\n",
              "0  2024-03-08   2024-03-08  2024      3\n",
              "1  2024-03-09   2024-03-09  2024      3\n",
              "2  2024-03-10   2024-03-10  2024      3"
            ]
          },
          "execution_count": 98,
          "metadata": {},
          "output_type": "execute_result"
        }
      ],
      "source": [
        "df"
      ]
    },
    {
      "cell_type": "code",
      "execution_count": null,
      "id": "ef931304-795b-455d-b1a0-dd2f8ee70b74",
      "metadata": {
        "id": "ef931304-795b-455d-b1a0-dd2f8ee70b74"
      },
      "outputs": [],
      "source": [
        "df['day'] = df['updated_date'].dt.day"
      ]
    },
    {
      "cell_type": "code",
      "execution_count": null,
      "id": "1122cdb6-4914-47c5-b8c5-00497df536a7",
      "metadata": {
        "id": "1122cdb6-4914-47c5-b8c5-00497df536a7",
        "outputId": "c61f135d-1786-47da-d893-98556bd29007"
      },
      "outputs": [
        {
          "data": {
            "text/html": [
              "<div>\n",
              "<style scoped>\n",
              "    .dataframe tbody tr th:only-of-type {\n",
              "        vertical-align: middle;\n",
              "    }\n",
              "\n",
              "    .dataframe tbody tr th {\n",
              "        vertical-align: top;\n",
              "    }\n",
              "\n",
              "    .dataframe thead th {\n",
              "        text-align: right;\n",
              "    }\n",
              "</style>\n",
              "<table border=\"1\" class=\"dataframe\">\n",
              "  <thead>\n",
              "    <tr style=\"text-align: right;\">\n",
              "      <th></th>\n",
              "      <th>date</th>\n",
              "      <th>updated_date</th>\n",
              "      <th>year</th>\n",
              "      <th>month</th>\n",
              "      <th>day</th>\n",
              "    </tr>\n",
              "  </thead>\n",
              "  <tbody>\n",
              "    <tr>\n",
              "      <th>0</th>\n",
              "      <td>2024-03-08</td>\n",
              "      <td>2024-03-08</td>\n",
              "      <td>2024</td>\n",
              "      <td>3</td>\n",
              "      <td>8</td>\n",
              "    </tr>\n",
              "    <tr>\n",
              "      <th>1</th>\n",
              "      <td>2024-03-09</td>\n",
              "      <td>2024-03-09</td>\n",
              "      <td>2024</td>\n",
              "      <td>3</td>\n",
              "      <td>9</td>\n",
              "    </tr>\n",
              "    <tr>\n",
              "      <th>2</th>\n",
              "      <td>2024-03-10</td>\n",
              "      <td>2024-03-10</td>\n",
              "      <td>2024</td>\n",
              "      <td>3</td>\n",
              "      <td>10</td>\n",
              "    </tr>\n",
              "  </tbody>\n",
              "</table>\n",
              "</div>"
            ],
            "text/plain": [
              "         date updated_date  year  month  day\n",
              "0  2024-03-08   2024-03-08  2024      3    8\n",
              "1  2024-03-09   2024-03-09  2024      3    9\n",
              "2  2024-03-10   2024-03-10  2024      3   10"
            ]
          },
          "execution_count": 100,
          "metadata": {},
          "output_type": "execute_result"
        }
      ],
      "source": [
        "df"
      ]
    },
    {
      "cell_type": "code",
      "execution_count": null,
      "id": "725564c5-3b3e-4f68-9bd3-0391f88441f6",
      "metadata": {
        "id": "725564c5-3b3e-4f68-9bd3-0391f88441f6",
        "outputId": "75309dfa-6e67-49ad-c958-4b04a99f2082"
      },
      "outputs": [
        {
          "data": {
            "text/plain": [
              "DatetimeIndex(['2024-07-10', '2024-07-11', '2024-07-12', '2024-07-13',\n",
              "               '2024-07-14', '2024-07-15', '2024-07-16', '2024-07-17',\n",
              "               '2024-07-18', '2024-07-19',\n",
              "               ...\n",
              "               '2025-07-01', '2025-07-02', '2025-07-03', '2025-07-04',\n",
              "               '2025-07-05', '2025-07-06', '2025-07-07', '2025-07-08',\n",
              "               '2025-07-09', '2025-07-10'],\n",
              "              dtype='datetime64[ns]', length=366, freq='D')"
            ]
          },
          "execution_count": 102,
          "metadata": {},
          "output_type": "execute_result"
        }
      ],
      "source": [
        "pd.date_range(start = '2024-07-10', end = '2025-07-10', freq = 'D') #generate daily data"
      ]
    },
    {
      "cell_type": "code",
      "execution_count": null,
      "id": "cb34f5e5-d226-4148-a861-1ffb4f9e4eba",
      "metadata": {
        "id": "cb34f5e5-d226-4148-a861-1ffb4f9e4eba",
        "outputId": "39ba5985-98cd-46d6-8326-f55eccf75f59"
      },
      "outputs": [
        {
          "data": {
            "text/plain": [
              "DatetimeIndex(['2024-07-10 00:00:00', '2024-07-10 01:00:00',\n",
              "               '2024-07-10 02:00:00', '2024-07-10 03:00:00',\n",
              "               '2024-07-10 04:00:00', '2024-07-10 05:00:00',\n",
              "               '2024-07-10 06:00:00', '2024-07-10 07:00:00',\n",
              "               '2024-07-10 08:00:00', '2024-07-10 09:00:00',\n",
              "               ...\n",
              "               '2025-07-09 15:00:00', '2025-07-09 16:00:00',\n",
              "               '2025-07-09 17:00:00', '2025-07-09 18:00:00',\n",
              "               '2025-07-09 19:00:00', '2025-07-09 20:00:00',\n",
              "               '2025-07-09 21:00:00', '2025-07-09 22:00:00',\n",
              "               '2025-07-09 23:00:00', '2025-07-10 00:00:00'],\n",
              "              dtype='datetime64[ns]', length=8761, freq='H')"
            ]
          },
          "execution_count": 103,
          "metadata": {},
          "output_type": "execute_result"
        }
      ],
      "source": [
        "pd.date_range(start = '2024-07-10', end = '2025-07-10', freq = 'H')"
      ]
    },
    {
      "cell_type": "code",
      "execution_count": null,
      "id": "35749abe-c2ab-482d-a5aa-c671fc386d81",
      "metadata": {
        "id": "35749abe-c2ab-482d-a5aa-c671fc386d81",
        "outputId": "9626071b-d2e3-45bd-e5bd-5308ae85f2ba"
      },
      "outputs": [
        {
          "data": {
            "text/plain": [
              "Timestamp('2024-07-10 05:23:04.449745')"
            ]
          },
          "execution_count": 104,
          "metadata": {},
          "output_type": "execute_result"
        }
      ],
      "source": [
        "#the time now\n",
        "pd.Timestamp.now()"
      ]
    },
    {
      "cell_type": "code",
      "execution_count": null,
      "id": "d052884f-6527-4567-b754-7860fa837c7a",
      "metadata": {
        "id": "d052884f-6527-4567-b754-7860fa837c7a",
        "outputId": "1bc70de6-be44-4db6-ae88-7782892ad6f1"
      },
      "outputs": [
        {
          "name": "stdout",
          "output_type": "stream",
          "text": [
            "Time taken for the execution of code 0 days 00:00:00.000142\n"
          ]
        }
      ],
      "source": [
        "#to check the execution/run time of a code\n",
        "start = pd.Timestamp.now()\n",
        "for i in range(1000):\n",
        "    pass\n",
        "end = pd.Timestamp.now()\n",
        "print(\"Time taken for the execution of code\", end-start)"
      ]
    },
    {
      "cell_type": "code",
      "execution_count": null,
      "id": "cadbfe15-f18a-44ae-bab2-72c503a96821",
      "metadata": {
        "id": "cadbfe15-f18a-44ae-bab2-72c503a96821",
        "outputId": "8fd656a8-8e7c-4de2-8b58-110552f5eecf"
      },
      "outputs": [
        {
          "name": "stdout",
          "output_type": "stream",
          "text": [
            "Time taken for the execution of code in seconds 0.00011086463928222656\n"
          ]
        }
      ],
      "source": [
        "#another way\n",
        "import time\n",
        "start = time.time()\n",
        "for i in range(1000):\n",
        "    pass\n",
        "end = time.time()\n",
        "print(\"Time taken for the execution of code in seconds\", end-start)"
      ]
    },
    {
      "cell_type": "code",
      "execution_count": null,
      "id": "e6f097f5-c8f3-4eb3-a0e6-4ee2b2dc0a0b",
      "metadata": {
        "id": "e6f097f5-c8f3-4eb3-a0e6-4ee2b2dc0a0b",
        "outputId": "f10d6cde-90f0-4e9f-849c-6dc97263cd3e"
      },
      "outputs": [
        {
          "name": "stdout",
          "output_type": "stream",
          "text": [
            "Time taken for the execution of code in seconds 0.00011257827281951904\n"
          ]
        }
      ],
      "source": [
        "#one more way to check the execution time\n",
        "import time\n",
        "start = time.perf_counter()\n",
        "for i in range(1000):\n",
        "    pass\n",
        "end = time.perf_counter()\n",
        "print(\"Time taken for the execution of code in seconds\", end-start)"
      ]
    },
    {
      "cell_type": "code",
      "execution_count": null,
      "id": "1ef68844-9ad8-478b-b536-b065677b7f9e",
      "metadata": {
        "id": "1ef68844-9ad8-478b-b536-b065677b7f9e",
        "outputId": "1d470f41-3231-4c82-e2a2-da64c9706b61"
      },
      "outputs": [
        {
          "data": {
            "text/plain": [
              "Timestamp('2024-07-03 05:31:13.661668')"
            ]
          },
          "execution_count": 113,
          "metadata": {},
          "output_type": "execute_result"
        }
      ],
      "source": [
        "#to know date and time before a week exactly\n",
        "start = pd.Timestamp.now() - pd.DateOffset(weeks=1)\n",
        "start"
      ]
    },
    {
      "cell_type": "code",
      "execution_count": null,
      "id": "c341d63c-4784-44bb-92e6-66cf10ee8ed5",
      "metadata": {
        "id": "c341d63c-4784-44bb-92e6-66cf10ee8ed5",
        "outputId": "bec1c537-cd5d-4d42-9d73-e55712f89797"
      },
      "outputs": [
        {
          "data": {
            "text/plain": [
              "Timestamp('2024-07-10 05:31:35.811631')"
            ]
          },
          "execution_count": 114,
          "metadata": {},
          "output_type": "execute_result"
        }
      ],
      "source": [
        "end = pd.Timestamp.now()\n",
        "end"
      ]
    },
    {
      "cell_type": "code",
      "execution_count": null,
      "id": "655f5290-f579-49ee-8543-675cc35aa81e",
      "metadata": {
        "id": "655f5290-f579-49ee-8543-675cc35aa81e",
        "outputId": "23dab8aa-db34-47da-cffa-6afe8e65af1e"
      },
      "outputs": [
        {
          "data": {
            "text/plain": [
              "Timedelta('7 days 00:00:22.149963')"
            ]
          },
          "execution_count": 115,
          "metadata": {},
          "output_type": "execute_result"
        }
      ],
      "source": [
        "end-start"
      ]
    },
    {
      "cell_type": "code",
      "execution_count": null,
      "id": "a8681820-e667-4dfd-a1af-77edc7df4cf5",
      "metadata": {
        "id": "a8681820-e667-4dfd-a1af-77edc7df4cf5",
        "outputId": "f5374f59-7c21-45dc-d717-7b03f7445736"
      },
      "outputs": [
        {
          "data": {
            "text/plain": [
              "'2024-07-10'"
            ]
          },
          "execution_count": 116,
          "metadata": {},
          "output_type": "execute_result"
        }
      ],
      "source": [
        "from datetime import datetime\n",
        "date = \"2024-07-10\"\n",
        "date"
      ]
    },
    {
      "cell_type": "code",
      "execution_count": null,
      "id": "80618350-5bca-433d-bfaf-d98349f3a4aa",
      "metadata": {
        "id": "80618350-5bca-433d-bfaf-d98349f3a4aa"
      },
      "outputs": [],
      "source": [
        "date = datetime.strptime(date, \"%Y-%m-%d\")"
      ]
    },
    {
      "cell_type": "code",
      "execution_count": null,
      "id": "77ef5748-e7fc-406b-a4ab-0fa7ba806522",
      "metadata": {
        "id": "77ef5748-e7fc-406b-a4ab-0fa7ba806522",
        "outputId": "9a6b692f-6356-4675-a1bf-7807b46c5f8e"
      },
      "outputs": [
        {
          "data": {
            "text/plain": [
              "datetime.datetime(2024, 7, 10, 0, 0)"
            ]
          },
          "execution_count": 119,
          "metadata": {},
          "output_type": "execute_result"
        }
      ],
      "source": [
        "date"
      ]
    },
    {
      "cell_type": "code",
      "execution_count": null,
      "id": "f7cdd746-e67b-4e01-875f-ae228316f535",
      "metadata": {
        "id": "f7cdd746-e67b-4e01-875f-ae228316f535",
        "outputId": "14e1dafb-4eca-4c87-f255-5ff92b3422ce"
      },
      "outputs": [
        {
          "name": "stdout",
          "output_type": "stream",
          "text": [
            "2024-07-10 00:00:00\n"
          ]
        }
      ],
      "source": [
        "print(date)"
      ]
    },
    {
      "cell_type": "code",
      "execution_count": null,
      "id": "d2013476-2ad9-430a-9b7f-e449c3651a07",
      "metadata": {
        "id": "d2013476-2ad9-430a-9b7f-e449c3651a07",
        "outputId": "38b77d1b-d6f4-40c0-b0bb-708b6d5612bf"
      },
      "outputs": [
        {
          "data": {
            "text/plain": [
              "Timedelta('1 days 05:40:00')"
            ]
          },
          "execution_count": 121,
          "metadata": {},
          "output_type": "execute_result"
        }
      ],
      "source": [
        "time = pd.Timedelta(days = 1, hours =5, minutes=40)\n",
        "time"
      ]
    },
    {
      "cell_type": "code",
      "execution_count": null,
      "id": "8bee85c7-2388-4797-884e-fa99fdec77d7",
      "metadata": {
        "id": "8bee85c7-2388-4797-884e-fa99fdec77d7",
        "outputId": "a2611dab-cb90-443d-9c35-4ae5e49e9c5e"
      },
      "outputs": [
        {
          "data": {
            "text/plain": [
              "Timestamp('2024-07-10 00:00:00')"
            ]
          },
          "execution_count": 122,
          "metadata": {},
          "output_type": "execute_result"
        }
      ],
      "source": [
        "dt = pd.to_datetime(\"2024-07-10\")\n",
        "dt"
      ]
    },
    {
      "cell_type": "code",
      "execution_count": null,
      "id": "23dab692-533b-46c5-b149-3918c090deeb",
      "metadata": {
        "id": "23dab692-533b-46c5-b149-3918c090deeb",
        "outputId": "94cd806f-758a-4849-9c7e-bc07d5bfb58c"
      },
      "outputs": [
        {
          "data": {
            "text/plain": [
              "Timestamp('2024-07-11 05:40:00')"
            ]
          },
          "execution_count": 123,
          "metadata": {},
          "output_type": "execute_result"
        }
      ],
      "source": [
        "dt+time"
      ]
    },
    {
      "cell_type": "code",
      "execution_count": null,
      "id": "34f38023-9f18-4f37-93d0-ca128224dc16",
      "metadata": {
        "id": "34f38023-9f18-4f37-93d0-ca128224dc16",
        "outputId": "9eb16e61-af69-4604-fff4-592b396a6c5b"
      },
      "outputs": [
        {
          "name": "stdout",
          "output_type": "stream",
          "text": [
            "Collecting yfinance\n",
            "  Downloading yfinance-0.2.40-py2.py3-none-any.whl (73 kB)\n",
            "\u001b[2K     \u001b[90m━━━━━━━━━━━━━━━━━━━━━━━━━━━━━━━━━━━━━━━━\u001b[0m \u001b[32m73.5/73.5 kB\u001b[0m \u001b[31m2.8 MB/s\u001b[0m eta \u001b[36m0:00:00\u001b[0m\n",
            "\u001b[?25hCollecting requests>=2.31\n",
            "  Downloading requests-2.32.3-py3-none-any.whl (64 kB)\n",
            "\u001b[2K     \u001b[90m━━━━━━━━━━━━━━━━━━━━━━━━━━━━━━━━━━━━━━━━\u001b[0m \u001b[32m64.9/64.9 kB\u001b[0m \u001b[31m8.7 MB/s\u001b[0m eta \u001b[36m0:00:00\u001b[0m\n",
            "\u001b[?25hRequirement already satisfied: numpy>=1.16.5 in /opt/conda/lib/python3.10/site-packages (from yfinance) (1.23.5)\n",
            "Requirement already satisfied: pandas>=1.3.0 in /opt/conda/lib/python3.10/site-packages (from yfinance) (1.5.2)\n",
            "Collecting lxml>=4.9.1\n",
            "  Downloading lxml-5.2.2-cp310-cp310-manylinux_2_28_x86_64.whl (5.0 MB)\n",
            "\u001b[2K     \u001b[90m━━━━━━━━━━━━━━━━━━━━━━━━━━━━━━━━━━━━━━━━\u001b[0m \u001b[32m5.0/5.0 MB\u001b[0m \u001b[31m59.5 MB/s\u001b[0m eta \u001b[36m0:00:00\u001b[0m00:01\u001b[0m:00:01\u001b[0m\n",
            "\u001b[?25hCollecting peewee>=3.16.2\n",
            "  Downloading peewee-3.17.6.tar.gz (3.0 MB)\n",
            "\u001b[2K     \u001b[90m━━━━━━━━━━━━━━━━━━━━━━━━━━━━━━━━━━━━━━━━\u001b[0m \u001b[32m3.0/3.0 MB\u001b[0m \u001b[31m58.8 MB/s\u001b[0m eta \u001b[36m0:00:00\u001b[0m:00:01\u001b[0m\n",
            "\u001b[?25h  Installing build dependencies ... \u001b[?25ldone\n",
            "\u001b[?25h  Getting requirements to build wheel ... \u001b[?25ldone\n",
            "\u001b[?25h  Preparing metadata (pyproject.toml) ... \u001b[?25ldone\n",
            "\u001b[?25hRequirement already satisfied: beautifulsoup4>=4.11.1 in /opt/conda/lib/python3.10/site-packages (from yfinance) (4.11.1)\n",
            "Collecting multitasking>=0.0.7\n",
            "  Downloading multitasking-0.0.11-py3-none-any.whl (8.5 kB)\n",
            "Collecting html5lib>=1.1\n",
            "  Downloading html5lib-1.1-py2.py3-none-any.whl (112 kB)\n",
            "\u001b[2K     \u001b[90m━━━━━━━━━━━━━━━━━━━━━━━━━━━━━━━━━━━━━━\u001b[0m \u001b[32m112.2/112.2 kB\u001b[0m \u001b[31m17.8 MB/s\u001b[0m eta \u001b[36m0:00:00\u001b[0m\n",
            "\u001b[?25hCollecting frozendict>=2.3.4\n",
            "  Downloading frozendict-2.4.4-cp310-cp310-manylinux_2_17_x86_64.manylinux2014_x86_64.whl (117 kB)\n",
            "\u001b[2K     \u001b[90m━━━━━━━━━━━━━━━━━━━━━━━━━━━━━━━━━━━━━━\u001b[0m \u001b[32m117.3/117.3 kB\u001b[0m \u001b[31m20.6 MB/s\u001b[0m eta \u001b[36m0:00:00\u001b[0m\n",
            "\u001b[?25hRequirement already satisfied: pytz>=2022.5 in /opt/conda/lib/python3.10/site-packages (from yfinance) (2022.6)\n",
            "Requirement already satisfied: platformdirs>=2.0.0 in /opt/conda/lib/python3.10/site-packages (from yfinance) (2.6.0)\n",
            "Requirement already satisfied: soupsieve>1.2 in /opt/conda/lib/python3.10/site-packages (from beautifulsoup4>=4.11.1->yfinance) (2.3.2.post1)\n",
            "Requirement already satisfied: six>=1.9 in /opt/conda/lib/python3.10/site-packages (from html5lib>=1.1->yfinance) (1.16.0)\n",
            "Requirement already satisfied: webencodings in /opt/conda/lib/python3.10/site-packages (from html5lib>=1.1->yfinance) (0.5.1)\n",
            "Requirement already satisfied: python-dateutil>=2.8.1 in /opt/conda/lib/python3.10/site-packages (from pandas>=1.3.0->yfinance) (2.8.2)\n",
            "Requirement already satisfied: certifi>=2017.4.17 in /opt/conda/lib/python3.10/site-packages (from requests>=2.31->yfinance) (2022.12.7)\n",
            "Requirement already satisfied: urllib3<3,>=1.21.1 in /opt/conda/lib/python3.10/site-packages (from requests>=2.31->yfinance) (1.26.13)\n",
            "Requirement already satisfied: idna<4,>=2.5 in /opt/conda/lib/python3.10/site-packages (from requests>=2.31->yfinance) (3.4)\n",
            "Requirement already satisfied: charset-normalizer<4,>=2 in /opt/conda/lib/python3.10/site-packages (from requests>=2.31->yfinance) (2.1.1)\n",
            "Building wheels for collected packages: peewee\n",
            "  Building wheel for peewee (pyproject.toml) ... \u001b[?25ldone\n",
            "\u001b[?25h  Created wheel for peewee: filename=peewee-3.17.6-cp310-cp310-linux_x86_64.whl size=275692 sha256=0822ebd5a53fcabd3622473c57ed5784db81293b27500fafe945ba08eaef4aeb\n",
            "  Stored in directory: /home/jovyan/.cache/pip/wheels/ee/67/14/8bcb7972056076fb11e959bbda198722e3d0ca73b5fde53f3b\n",
            "Successfully built peewee\n",
            "Installing collected packages: peewee, multitasking, requests, lxml, html5lib, frozendict, yfinance\n",
            "  Attempting uninstall: requests\n",
            "    Found existing installation: requests 2.28.1\n",
            "    Uninstalling requests-2.28.1:\n",
            "      Successfully uninstalled requests-2.28.1\n",
            "Successfully installed frozendict-2.4.4 html5lib-1.1 lxml-5.2.2 multitasking-0.0.11 peewee-3.17.6 requests-2.32.3 yfinance-0.2.40\n",
            "Note: you may need to restart the kernel to use updated packages.\n"
          ]
        }
      ],
      "source": [
        "#pip install yfinance"
      ]
    },
    {
      "cell_type": "code",
      "execution_count": null,
      "id": "fde80cb4-55a6-49c6-815e-9490eb15c3b8",
      "metadata": {
        "id": "fde80cb4-55a6-49c6-815e-9490eb15c3b8"
      },
      "outputs": [],
      "source": [
        "import yfinance as yf"
      ]
    },
    {
      "cell_type": "code",
      "execution_count": null,
      "id": "bc069ce6-b3a6-4a47-9cba-6fd551b7d2f1",
      "metadata": {
        "id": "bc069ce6-b3a6-4a47-9cba-6fd551b7d2f1",
        "outputId": "7afcdb40-15c4-4ed9-8087-29db07350f30"
      },
      "outputs": [
        {
          "name": "stderr",
          "output_type": "stream",
          "text": [
            "[*********************100%%**********************]  1 of 1 completed\n"
          ]
        }
      ],
      "source": [
        "data = yf.download('GOOG', start = '2023-03-01', end = '2024-07-01')"
      ]
    },
    {
      "cell_type": "code",
      "execution_count": null,
      "id": "85d1242e-c480-443a-a8b2-48ca49765d8d",
      "metadata": {
        "id": "85d1242e-c480-443a-a8b2-48ca49765d8d",
        "outputId": "58eb2f73-dc66-4247-fd19-c094b0e9c87d"
      },
      "outputs": [
        {
          "data": {
            "text/html": [
              "<div>\n",
              "<style scoped>\n",
              "    .dataframe tbody tr th:only-of-type {\n",
              "        vertical-align: middle;\n",
              "    }\n",
              "\n",
              "    .dataframe tbody tr th {\n",
              "        vertical-align: top;\n",
              "    }\n",
              "\n",
              "    .dataframe thead th {\n",
              "        text-align: right;\n",
              "    }\n",
              "</style>\n",
              "<table border=\"1\" class=\"dataframe\">\n",
              "  <thead>\n",
              "    <tr style=\"text-align: right;\">\n",
              "      <th></th>\n",
              "      <th>Open</th>\n",
              "      <th>High</th>\n",
              "      <th>Low</th>\n",
              "      <th>Close</th>\n",
              "      <th>Adj Close</th>\n",
              "      <th>Volume</th>\n",
              "    </tr>\n",
              "    <tr>\n",
              "      <th>Date</th>\n",
              "      <th></th>\n",
              "      <th></th>\n",
              "      <th></th>\n",
              "      <th></th>\n",
              "      <th></th>\n",
              "      <th></th>\n",
              "    </tr>\n",
              "  </thead>\n",
              "  <tbody>\n",
              "    <tr>\n",
              "      <th>2023-03-01</th>\n",
              "      <td>90.160004</td>\n",
              "      <td>91.199997</td>\n",
              "      <td>89.849998</td>\n",
              "      <td>90.510002</td>\n",
              "      <td>90.407120</td>\n",
              "      <td>26323900</td>\n",
              "    </tr>\n",
              "    <tr>\n",
              "      <th>2023-03-02</th>\n",
              "      <td>89.860001</td>\n",
              "      <td>92.480003</td>\n",
              "      <td>89.769997</td>\n",
              "      <td>92.309998</td>\n",
              "      <td>92.205070</td>\n",
              "      <td>23328600</td>\n",
              "    </tr>\n",
              "    <tr>\n",
              "      <th>2023-03-03</th>\n",
              "      <td>92.739998</td>\n",
              "      <td>94.110001</td>\n",
              "      <td>92.660004</td>\n",
              "      <td>94.019997</td>\n",
              "      <td>93.913124</td>\n",
              "      <td>30242500</td>\n",
              "    </tr>\n",
              "    <tr>\n",
              "      <th>2023-03-06</th>\n",
              "      <td>94.360001</td>\n",
              "      <td>96.300003</td>\n",
              "      <td>94.300003</td>\n",
              "      <td>95.580002</td>\n",
              "      <td>95.471359</td>\n",
              "      <td>28288200</td>\n",
              "    </tr>\n",
              "    <tr>\n",
              "      <th>2023-03-07</th>\n",
              "      <td>95.419998</td>\n",
              "      <td>96.089996</td>\n",
              "      <td>93.844002</td>\n",
              "      <td>94.169998</td>\n",
              "      <td>94.062958</td>\n",
              "      <td>24101500</td>\n",
              "    </tr>\n",
              "    <tr>\n",
              "      <th>...</th>\n",
              "      <td>...</td>\n",
              "      <td>...</td>\n",
              "      <td>...</td>\n",
              "      <td>...</td>\n",
              "      <td>...</td>\n",
              "      <td>...</td>\n",
              "    </tr>\n",
              "    <tr>\n",
              "      <th>2024-06-24</th>\n",
              "      <td>181.279999</td>\n",
              "      <td>182.080002</td>\n",
              "      <td>180.229996</td>\n",
              "      <td>180.789993</td>\n",
              "      <td>180.789993</td>\n",
              "      <td>18198300</td>\n",
              "    </tr>\n",
              "    <tr>\n",
              "      <th>2024-06-25</th>\n",
              "      <td>181.145004</td>\n",
              "      <td>185.750000</td>\n",
              "      <td>181.104996</td>\n",
              "      <td>185.580002</td>\n",
              "      <td>185.580002</td>\n",
              "      <td>18917700</td>\n",
              "    </tr>\n",
              "    <tr>\n",
              "      <th>2024-06-26</th>\n",
              "      <td>184.199997</td>\n",
              "      <td>185.929993</td>\n",
              "      <td>183.990005</td>\n",
              "      <td>185.369995</td>\n",
              "      <td>185.369995</td>\n",
              "      <td>13375700</td>\n",
              "    </tr>\n",
              "    <tr>\n",
              "      <th>2024-06-27</th>\n",
              "      <td>185.645004</td>\n",
              "      <td>187.500000</td>\n",
              "      <td>185.449997</td>\n",
              "      <td>186.860001</td>\n",
              "      <td>186.860001</td>\n",
              "      <td>13025700</td>\n",
              "    </tr>\n",
              "    <tr>\n",
              "      <th>2024-06-28</th>\n",
              "      <td>185.720001</td>\n",
              "      <td>186.580002</td>\n",
              "      <td>183.324997</td>\n",
              "      <td>183.419998</td>\n",
              "      <td>183.419998</td>\n",
              "      <td>23032400</td>\n",
              "    </tr>\n",
              "  </tbody>\n",
              "</table>\n",
              "<p>335 rows × 6 columns</p>\n",
              "</div>"
            ],
            "text/plain": [
              "                  Open        High         Low       Close   Adj Close  \\\n",
              "Date                                                                     \n",
              "2023-03-01   90.160004   91.199997   89.849998   90.510002   90.407120   \n",
              "2023-03-02   89.860001   92.480003   89.769997   92.309998   92.205070   \n",
              "2023-03-03   92.739998   94.110001   92.660004   94.019997   93.913124   \n",
              "2023-03-06   94.360001   96.300003   94.300003   95.580002   95.471359   \n",
              "2023-03-07   95.419998   96.089996   93.844002   94.169998   94.062958   \n",
              "...                ...         ...         ...         ...         ...   \n",
              "2024-06-24  181.279999  182.080002  180.229996  180.789993  180.789993   \n",
              "2024-06-25  181.145004  185.750000  181.104996  185.580002  185.580002   \n",
              "2024-06-26  184.199997  185.929993  183.990005  185.369995  185.369995   \n",
              "2024-06-27  185.645004  187.500000  185.449997  186.860001  186.860001   \n",
              "2024-06-28  185.720001  186.580002  183.324997  183.419998  183.419998   \n",
              "\n",
              "              Volume  \n",
              "Date                  \n",
              "2023-03-01  26323900  \n",
              "2023-03-02  23328600  \n",
              "2023-03-03  30242500  \n",
              "2023-03-06  28288200  \n",
              "2023-03-07  24101500  \n",
              "...              ...  \n",
              "2024-06-24  18198300  \n",
              "2024-06-25  18917700  \n",
              "2024-06-26  13375700  \n",
              "2024-06-27  13025700  \n",
              "2024-06-28  23032400  \n",
              "\n",
              "[335 rows x 6 columns]"
            ]
          },
          "execution_count": 128,
          "metadata": {},
          "output_type": "execute_result"
        }
      ],
      "source": [
        "data"
      ]
    },
    {
      "cell_type": "code",
      "execution_count": null,
      "id": "6ba46072-21e0-4762-a1f8-aeb3c487ae97",
      "metadata": {
        "id": "6ba46072-21e0-4762-a1f8-aeb3c487ae97",
        "outputId": "1e9f057f-c3a0-4089-a1a4-aaf170ccd2ec"
      },
      "outputs": [
        {
          "data": {
            "text/plain": [
              "Date\n",
              "2023-03-31     98.558696\n",
              "2023-04-30    106.348422\n",
              "2023-05-31    116.745682\n",
              "2023-06-30    123.228096\n",
              "2023-07-31    123.553499\n",
              "2023-08-31    131.149131\n",
              "2023-09-30    135.196502\n",
              "2023-10-31    135.354091\n",
              "2023-11-30    134.868570\n",
              "2023-12-31    136.907500\n",
              "2024-01-31    145.425714\n",
              "2024-02-29    144.067999\n",
              "2024-03-31    143.481499\n",
              "2024-04-30    158.730909\n",
              "2024-05-31    173.573636\n",
              "2024-06-30    179.243684\n",
              "Freq: M, Name: Close, dtype: float64"
            ]
          },
          "execution_count": 130,
          "metadata": {},
          "output_type": "execute_result"
        }
      ],
      "source": [
        "data['Close'].resample('M').mean()"
      ]
    },
    {
      "cell_type": "code",
      "execution_count": null,
      "id": "78655b80-2253-4004-a223-663f5a10d6dc",
      "metadata": {
        "id": "78655b80-2253-4004-a223-663f5a10d6dc",
        "outputId": "7951bafa-ec58-42ac-b55e-da019a3f06b6"
      },
      "outputs": [
        {
          "data": {
            "text/plain": [
              "Date\n",
              "2023-03-01     90.510002\n",
              "2023-03-02     92.309998\n",
              "2023-03-03     94.019997\n",
              "2023-03-04           NaN\n",
              "2023-03-05           NaN\n",
              "                 ...    \n",
              "2024-06-24    180.789993\n",
              "2024-06-25    185.580002\n",
              "2024-06-26    185.369995\n",
              "2024-06-27    186.860001\n",
              "2024-06-28    183.419998\n",
              "Freq: D, Name: Close, Length: 486, dtype: float64"
            ]
          },
          "execution_count": 131,
          "metadata": {},
          "output_type": "execute_result"
        }
      ],
      "source": [
        "data['Close'].resample('D').mean()"
      ]
    },
    {
      "cell_type": "code",
      "execution_count": null,
      "id": "5ad3f265-42eb-43e8-acb1-c935020fb36f",
      "metadata": {
        "id": "5ad3f265-42eb-43e8-acb1-c935020fb36f",
        "outputId": "553416ff-eb46-4c9d-d778-a3bb0ebe45c5"
      },
      "outputs": [
        {
          "data": {
            "text/plain": [
              "0    1\n",
              "1    2\n",
              "2    3\n",
              "3    7\n",
              "4    8\n",
              "5    9\n",
              "6    6\n",
              "dtype: int64"
            ]
          },
          "execution_count": 132,
          "metadata": {},
          "output_type": "execute_result"
        }
      ],
      "source": [
        "#plotting functions in pandas\n",
        "d = pd.Series([1, 2, 3, 7, 8, 9, 6])\n",
        "d"
      ]
    },
    {
      "cell_type": "code",
      "execution_count": null,
      "id": "dc248b9d-bc23-43c2-bdde-8b72d98b8521",
      "metadata": {
        "id": "dc248b9d-bc23-43c2-bdde-8b72d98b8521",
        "outputId": "7b7ed3ad-e749-4f39-d812-413653a5ca43"
      },
      "outputs": [
        {
          "data": {
            "text/plain": [
              "<AxesSubplot: >"
            ]
          },
          "execution_count": 133,
          "metadata": {},
          "output_type": "execute_result"
        },
        {
          "data": {
            "image/png": "[encoded data removed]",
            "text/plain": [
              "<Figure size 640x480 with 1 Axes>"
            ]
          },
          "metadata": {},
          "output_type": "display_data"
        }
      ],
      "source": [
        "d.plot()"
      ]
    },
    {
      "cell_type": "code",
      "execution_count": null,
      "id": "fccbd807-85ad-4884-93be-fa20edc4de45",
      "metadata": {
        "id": "fccbd807-85ad-4884-93be-fa20edc4de45",
        "outputId": "453d621a-080c-4ba0-c577-dbb4ec6e3ae8"
      },
      "outputs": [
        {
          "data": {
            "text/html": [
              "<div>\n",
              "<style scoped>\n",
              "    .dataframe tbody tr th:only-of-type {\n",
              "        vertical-align: middle;\n",
              "    }\n",
              "\n",
              "    .dataframe tbody tr th {\n",
              "        vertical-align: top;\n",
              "    }\n",
              "\n",
              "    .dataframe thead th {\n",
              "        text-align: right;\n",
              "    }\n",
              "</style>\n",
              "<table border=\"1\" class=\"dataframe\">\n",
              "  <thead>\n",
              "    <tr style=\"text-align: right;\">\n",
              "      <th></th>\n",
              "      <th>A</th>\n",
              "      <th>B</th>\n",
              "    </tr>\n",
              "  </thead>\n",
              "  <tbody>\n",
              "    <tr>\n",
              "      <th>0</th>\n",
              "      <td>1</td>\n",
              "      <td>4</td>\n",
              "    </tr>\n",
              "    <tr>\n",
              "      <th>1</th>\n",
              "      <td>2</td>\n",
              "      <td>5</td>\n",
              "    </tr>\n",
              "    <tr>\n",
              "      <th>2</th>\n",
              "      <td>3</td>\n",
              "      <td>6</td>\n",
              "    </tr>\n",
              "  </tbody>\n",
              "</table>\n",
              "</div>"
            ],
            "text/plain": [
              "   A  B\n",
              "0  1  4\n",
              "1  2  5\n",
              "2  3  6"
            ]
          },
          "execution_count": 134,
          "metadata": {},
          "output_type": "execute_result"
        }
      ],
      "source": [
        "data = {\"A\": [1, 2, 3], \"B\": [4, 5, 6]}\n",
        "df = pd.DataFrame(data)\n",
        "df"
      ]
    },
    {
      "cell_type": "code",
      "execution_count": null,
      "id": "c0ed6a3c-3e62-40dd-a82d-b56278edf8de",
      "metadata": {
        "id": "c0ed6a3c-3e62-40dd-a82d-b56278edf8de",
        "outputId": "35662eb7-8586-4df6-c0a2-1f87c1b4e24a"
      },
      "outputs": [
        {
          "data": {
            "text/plain": [
              "<AxesSubplot: >"
            ]
          },
          "execution_count": 135,
          "metadata": {},
          "output_type": "execute_result"
        },
        {
          "data": {
            "image/png": "[encoded data removed]",
            "text/plain": [
              "<Figure size 640x480 with 1 Axes>"
            ]
          },
          "metadata": {},
          "output_type": "display_data"
        }
      ],
      "source": [
        "df.plot()"
      ]
    },
    {
      "cell_type": "code",
      "execution_count": null,
      "id": "f3745344-884e-438f-bea3-f58203e9e8a3",
      "metadata": {
        "id": "f3745344-884e-438f-bea3-f58203e9e8a3",
        "outputId": "fab3b741-8e2a-463e-e67d-7ae270040482"
      },
      "outputs": [
        {
          "data": {
            "text/plain": [
              "<AxesSubplot: >"
            ]
          },
          "execution_count": 136,
          "metadata": {},
          "output_type": "execute_result"
        },
        {
          "data": {
            "image/png": "[encoded data removed]",
            "text/plain": [
              "<Figure size 640x480 with 1 Axes>"
            ]
          },
          "metadata": {},
          "output_type": "display_data"
        }
      ],
      "source": [
        "df['A'].plot(kind = 'line') #with time series data/or to know the trend"
      ]
    },
    {
      "cell_type": "code",
      "execution_count": null,
      "id": "3043fee0-e8f8-4302-a9e4-a01497fba5b1",
      "metadata": {
        "id": "3043fee0-e8f8-4302-a9e4-a01497fba5b1",
        "outputId": "d427ab0c-7da3-4b35-9d7e-1220fe1317fb"
      },
      "outputs": [
        {
          "data": {
            "text/plain": [
              "<AxesSubplot: >"
            ]
          },
          "execution_count": 137,
          "metadata": {},
          "output_type": "execute_result"
        },
        {
          "data": {
            "image/png": "[encoded data removed]",
            "text/plain": [
              "<Figure size 640x480 with 1 Axes>"
            ]
          },
          "metadata": {},
          "output_type": "display_data"
        }
      ],
      "source": [
        "df['A'].plot(kind = 'bar') #categorical data >>frequency"
      ]
    },
    {
      "cell_type": "code",
      "execution_count": null,
      "id": "be518939-525b-4fff-9b4b-5b263a735c84",
      "metadata": {
        "id": "be518939-525b-4fff-9b4b-5b263a735c84",
        "outputId": "b82ad644-c3fd-46bb-8284-2e61a17dcd8d"
      },
      "outputs": [
        {
          "data": {
            "text/plain": [
              "<AxesSubplot: ylabel='Frequency'>"
            ]
          },
          "execution_count": 138,
          "metadata": {},
          "output_type": "execute_result"
        },
        {
          "data": {
            "image/png": "[encoded data removed]",
            "text/plain": [
              "<Figure size 640x480 with 1 Axes>"
            ]
          },
          "metadata": {},
          "output_type": "display_data"
        }
      ],
      "source": [
        "df['A'].plot(kind = 'hist') #continuous data"
      ]
    },
    {
      "cell_type": "code",
      "execution_count": null,
      "id": "cb0fc921-d44d-431c-ab16-35c909578188",
      "metadata": {
        "id": "cb0fc921-d44d-431c-ab16-35c909578188",
        "outputId": "e60cd43c-6338-40b0-80ac-306ddcb68b42"
      },
      "outputs": [
        {
          "data": {
            "text/plain": [
              "<AxesSubplot: xlabel='A', ylabel='B'>"
            ]
          },
          "execution_count": 139,
          "metadata": {},
          "output_type": "execute_result"
        },
        {
          "data": {
            "image/png": "[encoded data removed]",
            "text/plain": [
              "<Figure size 640x480 with 1 Axes>"
            ]
          },
          "metadata": {},
          "output_type": "display_data"
        }
      ],
      "source": [
        "df.plot(x = 'A', y = 'B', kind = 'scatter') #understand the relationship between two variables"
      ]
    },
    {
      "cell_type": "code",
      "execution_count": null,
      "id": "dd076530-ff37-4eff-a57f-8a56f8cc0ac3",
      "metadata": {
        "id": "dd076530-ff37-4eff-a57f-8a56f8cc0ac3"
      },
      "outputs": [],
      "source": []
    }
  ],
  "metadata": {
    "kernelspec": {
      "display_name": "Python 3 (ipykernel)",
      "language": "python",
      "name": "python3"
    },
    "language_info": {
      "codemirror_mode": {
        "name": "ipython",
        "version": 3
      },
      "file_extension": ".py",
      "mimetype": "text/x-python",
      "name": "python",
      "nbconvert_exporter": "python",
      "pygments_lexer": "ipython3",
      "version": "3.10.8"
    },
    "colab": {
      "provenance": []
    }
  },
  "nbformat": 4,
  "nbformat_minor": 5
}