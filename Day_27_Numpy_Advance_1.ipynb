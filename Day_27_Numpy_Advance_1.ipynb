{
  "cells": [
    {
      "cell_type": "code",
      "execution_count": null,
      "id": "f116f7dc-7189-4929-9137-4ad823c69f9e",
      "metadata": {
        "id": "f116f7dc-7189-4929-9137-4ad823c69f9e"
      },
      "outputs": [],
      "source": [
        "import numpy as np"
      ]
    },
    {
      "cell_type": "code",
      "execution_count": null,
      "id": "1e234661-26f3-4496-b1f3-f8c7b10f3c7b",
      "metadata": {
        "id": "1e234661-26f3-4496-b1f3-f8c7b10f3c7b"
      },
      "outputs": [],
      "source": [
        "a = np.zeros(5) #Return a new array of given shape and type, filled with zeros."
      ]
    },
    {
      "cell_type": "code",
      "execution_count": null,
      "id": "2210719e-089c-4890-bb2e-890468b83b29",
      "metadata": {
        "id": "2210719e-089c-4890-bb2e-890468b83b29",
        "outputId": "4072e140-23c9-4af2-e392-53854db9547f"
      },
      "outputs": [
        {
          "data": {
            "text/plain": [
              "1"
            ]
          },
          "execution_count": 4,
          "metadata": {},
          "output_type": "execute_result"
        }
      ],
      "source": [
        "a.ndim"
      ]
    },
    {
      "cell_type": "code",
      "execution_count": null,
      "id": "b1b57cfb-b5bb-4db7-b1be-cbded0df197b",
      "metadata": {
        "id": "b1b57cfb-b5bb-4db7-b1be-cbded0df197b",
        "outputId": "a704ef95-b6a0-4c6d-d2a1-ea5134cdaad4"
      },
      "outputs": [
        {
          "data": {
            "text/plain": [
              "array([0., 0., 0., 0., 0.])"
            ]
          },
          "execution_count": 5,
          "metadata": {},
          "output_type": "execute_result"
        }
      ],
      "source": [
        "a"
      ]
    },
    {
      "cell_type": "code",
      "execution_count": null,
      "id": "9bed1e26-db6b-4bb7-8677-d4f74c326f82",
      "metadata": {
        "id": "9bed1e26-db6b-4bb7-8677-d4f74c326f82",
        "outputId": "e978ffde-9c62-46e6-fd9a-a266f558992a"
      },
      "outputs": [
        {
          "data": {
            "text/plain": [
              "array([0, 0, 0, 0, 0, 0, 0, 0, 0, 0])"
            ]
          },
          "execution_count": 6,
          "metadata": {},
          "output_type": "execute_result"
        }
      ],
      "source": [
        "np.zeros(10, dtype=int)"
      ]
    },
    {
      "cell_type": "code",
      "execution_count": null,
      "id": "cb7cdc7b-bd21-4369-89a5-a25030d4321b",
      "metadata": {
        "id": "cb7cdc7b-bd21-4369-89a5-a25030d4321b"
      },
      "outputs": [],
      "source": [
        "b = np.zeros((3, 4))"
      ]
    },
    {
      "cell_type": "code",
      "execution_count": null,
      "id": "4a80885d-14a5-4ff5-9515-e028b1e8b97b",
      "metadata": {
        "id": "4a80885d-14a5-4ff5-9515-e028b1e8b97b",
        "outputId": "71e33ada-9260-44fa-8dd5-a07c797a9584"
      },
      "outputs": [
        {
          "data": {
            "text/plain": [
              "array([[0., 0., 0., 0.],\n",
              "       [0., 0., 0., 0.],\n",
              "       [0., 0., 0., 0.]])"
            ]
          },
          "execution_count": 9,
          "metadata": {},
          "output_type": "execute_result"
        }
      ],
      "source": [
        "b"
      ]
    },
    {
      "cell_type": "code",
      "execution_count": null,
      "id": "dfa61fb0-bb84-4e43-9567-2f54b95a200a",
      "metadata": {
        "id": "dfa61fb0-bb84-4e43-9567-2f54b95a200a",
        "outputId": "f252527f-88f7-4a4d-bfd6-2271c51df892"
      },
      "outputs": [
        {
          "data": {
            "text/plain": [
              "2"
            ]
          },
          "execution_count": 10,
          "metadata": {},
          "output_type": "execute_result"
        }
      ],
      "source": [
        "b.ndim"
      ]
    },
    {
      "cell_type": "code",
      "execution_count": null,
      "id": "c3a9a9ec-b606-4518-b788-88790b3dfb4f",
      "metadata": {
        "id": "c3a9a9ec-b606-4518-b788-88790b3dfb4f",
        "outputId": "e005ff55-f77a-4b07-e2d5-c59cea379dfd"
      },
      "outputs": [
        {
          "data": {
            "text/plain": [
              "array([1., 1., 1., 1., 1.])"
            ]
          },
          "execution_count": 11,
          "metadata": {},
          "output_type": "execute_result"
        }
      ],
      "source": [
        "np.ones(5)"
      ]
    },
    {
      "cell_type": "code",
      "execution_count": null,
      "id": "a306e553-a0a6-4344-a91a-32e140624f36",
      "metadata": {
        "id": "a306e553-a0a6-4344-a91a-32e140624f36",
        "outputId": "8749cafe-96bb-4f6b-b6a1-d89e37736af1"
      },
      "outputs": [
        {
          "data": {
            "text/plain": [
              "array([1, 1, 1, 1, 1])"
            ]
          },
          "execution_count": 12,
          "metadata": {},
          "output_type": "execute_result"
        }
      ],
      "source": [
        "np.ones(5, dtype=int) #Return a new array of given shape and type, filled with ones"
      ]
    },
    {
      "cell_type": "code",
      "execution_count": null,
      "id": "352767ae-09a0-475b-be2d-0deca66ad6d2",
      "metadata": {
        "id": "352767ae-09a0-475b-be2d-0deca66ad6d2",
        "outputId": "eb98b222-e410-4d27-9e26-79b192d5be0f"
      },
      "outputs": [
        {
          "data": {
            "text/plain": [
              "array([[1., 1., 1., 1.],\n",
              "       [1., 1., 1., 1.],\n",
              "       [1., 1., 1., 1.]])"
            ]
          },
          "execution_count": 13,
          "metadata": {},
          "output_type": "execute_result"
        }
      ],
      "source": [
        "np.ones((3, 4))"
      ]
    },
    {
      "cell_type": "code",
      "execution_count": null,
      "id": "ba524394-9fcc-4e03-84bf-82d24c99cb9d",
      "metadata": {
        "id": "ba524394-9fcc-4e03-84bf-82d24c99cb9d",
        "outputId": "bac89524-455f-4117-b478-285ce67571be"
      },
      "outputs": [
        {
          "ename": "AttributeError",
          "evalue": "module 'numpy' has no attribute 'twos'",
          "output_type": "error",
          "traceback": [
            "\u001b[0;31m---------------------------------------------------------------------------\u001b[0m",
            "\u001b[0;31mAttributeError\u001b[0m                            Traceback (most recent call last)",
            "Cell \u001b[0;32mIn[14], line 1\u001b[0m\n\u001b[0;32m----> 1\u001b[0m \u001b[43mnp\u001b[49m\u001b[38;5;241;43m.\u001b[39;49m\u001b[43mtwos\u001b[49m(\u001b[38;5;241m5\u001b[39m)\n",
            "File \u001b[0;32m/opt/conda/lib/python3.10/site-packages/numpy/__init__.py:311\u001b[0m, in \u001b[0;36m__getattr__\u001b[0;34m(attr)\u001b[0m\n\u001b[1;32m    308\u001b[0m     \u001b[38;5;28;01mfrom\u001b[39;00m \u001b[38;5;21;01m.\u001b[39;00m\u001b[38;5;21;01mtesting\u001b[39;00m \u001b[38;5;28;01mimport\u001b[39;00m Tester\n\u001b[1;32m    309\u001b[0m     \u001b[38;5;28;01mreturn\u001b[39;00m Tester\n\u001b[0;32m--> 311\u001b[0m \u001b[38;5;28;01mraise\u001b[39;00m \u001b[38;5;167;01mAttributeError\u001b[39;00m(\u001b[38;5;124m\"\u001b[39m\u001b[38;5;124mmodule \u001b[39m\u001b[38;5;132;01m{!r}\u001b[39;00m\u001b[38;5;124m has no attribute \u001b[39m\u001b[38;5;124m\"\u001b[39m\n\u001b[1;32m    312\u001b[0m                      \u001b[38;5;124m\"\u001b[39m\u001b[38;5;132;01m{!r}\u001b[39;00m\u001b[38;5;124m\"\u001b[39m\u001b[38;5;241m.\u001b[39mformat(\u001b[38;5;18m__name__\u001b[39m, attr))\n",
            "\u001b[0;31mAttributeError\u001b[0m: module 'numpy' has no attribute 'twos'"
          ]
        }
      ],
      "source": [
        "np.twos(5) #doesn't exist in numpy"
      ]
    },
    {
      "cell_type": "code",
      "execution_count": null,
      "id": "7e1ae9c0-5241-4dc1-a0f8-2b20e283c961",
      "metadata": {
        "id": "7e1ae9c0-5241-4dc1-a0f8-2b20e283c961",
        "outputId": "bc5eaadf-2a3b-41e0-82b2-a2825e1b496f"
      },
      "outputs": [
        {
          "data": {
            "text/plain": [
              "array([[2, 2, 2],\n",
              "       [2, 2, 2]])"
            ]
          },
          "execution_count": 15,
          "metadata": {},
          "output_type": "execute_result"
        }
      ],
      "source": [
        "np.array([[2, 2, 2,], [2, 2, 2]])"
      ]
    },
    {
      "cell_type": "code",
      "execution_count": null,
      "id": "09385907-4dda-4591-9d8c-725c5247d0ed",
      "metadata": {
        "id": "09385907-4dda-4591-9d8c-725c5247d0ed"
      },
      "outputs": [],
      "source": [
        "arr = np.zeros((3, 4))"
      ]
    },
    {
      "cell_type": "code",
      "execution_count": null,
      "id": "cb86d3fe-2640-44dc-ac9c-c148bc524a1a",
      "metadata": {
        "id": "cb86d3fe-2640-44dc-ac9c-c148bc524a1a",
        "outputId": "dd994961-5754-4f69-ce23-fe4545e351b3"
      },
      "outputs": [
        {
          "data": {
            "text/plain": [
              "array([[0., 0., 0., 0.],\n",
              "       [0., 0., 0., 0.],\n",
              "       [0., 0., 0., 0.]])"
            ]
          },
          "execution_count": 18,
          "metadata": {},
          "output_type": "execute_result"
        }
      ],
      "source": [
        "arr"
      ]
    },
    {
      "cell_type": "code",
      "execution_count": null,
      "id": "e801bc5d-b586-4070-8110-04f8bb76d278",
      "metadata": {
        "id": "e801bc5d-b586-4070-8110-04f8bb76d278",
        "outputId": "3172d5a2-12a2-4edd-aad5-a487d4a29a55"
      },
      "outputs": [
        {
          "data": {
            "text/plain": [
              "2"
            ]
          },
          "execution_count": 19,
          "metadata": {},
          "output_type": "execute_result"
        }
      ],
      "source": [
        "arr.ndim"
      ]
    },
    {
      "cell_type": "code",
      "execution_count": null,
      "id": "c31828e3-56b7-44c3-b34e-cd137296c83f",
      "metadata": {
        "id": "c31828e3-56b7-44c3-b34e-cd137296c83f",
        "outputId": "2500a4ee-6e7f-4f6c-ff39-a82fd26e41d9"
      },
      "outputs": [
        {
          "data": {
            "text/plain": [
              "array([0., 0., 0.])"
            ]
          },
          "execution_count": 21,
          "metadata": {},
          "output_type": "execute_result"
        }
      ],
      "source": [
        "#3 dimensionaly array\n",
        "np.zeros(3)"
      ]
    },
    {
      "cell_type": "code",
      "execution_count": null,
      "id": "81ed30ee-85df-470c-8820-440c670d30ec",
      "metadata": {
        "id": "81ed30ee-85df-470c-8820-440c670d30ec",
        "outputId": "d96c47b1-e6e7-4495-b386-0a67b5d19de9"
      },
      "outputs": [
        {
          "data": {
            "text/plain": [
              "array([[0., 0., 0., 0.],\n",
              "       [0., 0., 0., 0.],\n",
              "       [0., 0., 0., 0.]])"
            ]
          },
          "execution_count": 22,
          "metadata": {},
          "output_type": "execute_result"
        }
      ],
      "source": [
        "np.zeros((3, 4))"
      ]
    },
    {
      "cell_type": "code",
      "execution_count": null,
      "id": "0f459c40-8801-4a30-a821-f71478b1694c",
      "metadata": {
        "id": "0f459c40-8801-4a30-a821-f71478b1694c"
      },
      "outputs": [],
      "source": [
        "arr = np.zeros((3, 3, 4))"
      ]
    },
    {
      "cell_type": "code",
      "execution_count": null,
      "id": "2856efba-953e-4735-8118-da81159cd894",
      "metadata": {
        "id": "2856efba-953e-4735-8118-da81159cd894",
        "outputId": "0821c03a-dff1-4d49-f50f-546db6a8f825"
      },
      "outputs": [
        {
          "data": {
            "text/plain": [
              "array([[[0., 0., 0., 0.],\n",
              "        [0., 0., 0., 0.],\n",
              "        [0., 0., 0., 0.]],\n",
              "\n",
              "       [[0., 0., 0., 0.],\n",
              "        [0., 0., 0., 0.],\n",
              "        [0., 0., 0., 0.]],\n",
              "\n",
              "       [[0., 0., 0., 0.],\n",
              "        [0., 0., 0., 0.],\n",
              "        [0., 0., 0., 0.]]])"
            ]
          },
          "execution_count": 28,
          "metadata": {},
          "output_type": "execute_result"
        }
      ],
      "source": [
        "arr"
      ]
    },
    {
      "cell_type": "code",
      "execution_count": null,
      "id": "5becd527-304f-4a0d-94f2-152f4968ce9f",
      "metadata": {
        "id": "5becd527-304f-4a0d-94f2-152f4968ce9f",
        "outputId": "e48c294b-f30d-4015-89a9-1336dc33ca8b"
      },
      "outputs": [
        {
          "data": {
            "text/plain": [
              "3"
            ]
          },
          "execution_count": 26,
          "metadata": {},
          "output_type": "execute_result"
        }
      ],
      "source": [
        "arr.ndim"
      ]
    },
    {
      "cell_type": "code",
      "execution_count": null,
      "id": "ab0f496f-82a4-4b10-bd69-4f3343750134",
      "metadata": {
        "id": "ab0f496f-82a4-4b10-bd69-4f3343750134",
        "outputId": "4c007c8c-e9da-40db-adc7-65328fc0a5c3"
      },
      "outputs": [
        {
          "data": {
            "text/plain": [
              "array([[[0., 0., 0.],\n",
              "        [0., 0., 0.],\n",
              "        [0., 0., 0.]]])"
            ]
          },
          "execution_count": 30,
          "metadata": {},
          "output_type": "execute_result"
        }
      ],
      "source": [
        "np.zeros((1, 3, 3))"
      ]
    },
    {
      "cell_type": "code",
      "execution_count": null,
      "id": "61e0ea7c-c193-41ae-aab6-beaca1dba515",
      "metadata": {
        "id": "61e0ea7c-c193-41ae-aab6-beaca1dba515"
      },
      "outputs": [],
      "source": [
        "b = np.zeros((1, 1, 3, 3))"
      ]
    },
    {
      "cell_type": "code",
      "execution_count": null,
      "id": "3eebdb48-ea36-4a15-8131-68ca77ea4428",
      "metadata": {
        "id": "3eebdb48-ea36-4a15-8131-68ca77ea4428",
        "outputId": "89c98f9e-04cb-4e18-d964-09158008006b"
      },
      "outputs": [
        {
          "data": {
            "text/plain": [
              "array([[[[0., 0., 0.],\n",
              "         [0., 0., 0.],\n",
              "         [0., 0., 0.]]]])"
            ]
          },
          "execution_count": 34,
          "metadata": {},
          "output_type": "execute_result"
        }
      ],
      "source": [
        "b"
      ]
    },
    {
      "cell_type": "code",
      "execution_count": null,
      "id": "72c70e8d-e99b-4fd3-b5b8-146eff910aa8",
      "metadata": {
        "id": "72c70e8d-e99b-4fd3-b5b8-146eff910aa8",
        "outputId": "92f15c54-c453-41e9-ecba-dc2fe0dfd373"
      },
      "outputs": [
        {
          "data": {
            "text/plain": [
              "4"
            ]
          },
          "execution_count": 36,
          "metadata": {},
          "output_type": "execute_result"
        }
      ],
      "source": [
        "b.ndim"
      ]
    },
    {
      "cell_type": "code",
      "execution_count": null,
      "id": "856694e9-2628-4bc0-8bf1-d99c9b262260",
      "metadata": {
        "id": "856694e9-2628-4bc0-8bf1-d99c9b262260"
      },
      "outputs": [],
      "source": [
        "c = np.zeros((1, 1, 1, 3, 3))"
      ]
    },
    {
      "cell_type": "code",
      "execution_count": null,
      "id": "11c7f6ca-a4eb-4833-b0cc-2af43d4df1f6",
      "metadata": {
        "id": "11c7f6ca-a4eb-4833-b0cc-2af43d4df1f6",
        "outputId": "7ce18999-ac3c-405c-d8b9-574fab816a92"
      },
      "outputs": [
        {
          "data": {
            "text/plain": [
              "array([[[[[0., 0., 0.],\n",
              "          [0., 0., 0.],\n",
              "          [0., 0., 0.]]]]])"
            ]
          },
          "execution_count": 38,
          "metadata": {},
          "output_type": "execute_result"
        }
      ],
      "source": [
        "c"
      ]
    },
    {
      "cell_type": "code",
      "execution_count": null,
      "id": "e83f5ab1-2238-4be9-8ce4-2cf2c011036a",
      "metadata": {
        "id": "e83f5ab1-2238-4be9-8ce4-2cf2c011036a",
        "outputId": "18e41963-4ba0-4fe8-cf6b-bf879692ead6"
      },
      "outputs": [
        {
          "data": {
            "text/plain": [
              "5"
            ]
          },
          "execution_count": 39,
          "metadata": {},
          "output_type": "execute_result"
        }
      ],
      "source": [
        "c.ndim"
      ]
    },
    {
      "cell_type": "code",
      "execution_count": null,
      "id": "3f3afe8b-9e22-4ef7-bc63-57b7dc7cd323",
      "metadata": {
        "id": "3f3afe8b-9e22-4ef7-bc63-57b7dc7cd323"
      },
      "outputs": [],
      "source": [
        "arr = np.zeros((3, 4))"
      ]
    },
    {
      "cell_type": "code",
      "execution_count": null,
      "id": "3eb11fc8-192d-42a0-a36c-b3fa44212ba9",
      "metadata": {
        "id": "3eb11fc8-192d-42a0-a36c-b3fa44212ba9",
        "outputId": "cf29921e-7dd2-4898-f3a1-6c48cef155c0"
      },
      "outputs": [
        {
          "data": {
            "text/plain": [
              "array([[0., 0., 0., 0.],\n",
              "       [0., 0., 0., 0.],\n",
              "       [0., 0., 0., 0.]])"
            ]
          },
          "execution_count": 42,
          "metadata": {},
          "output_type": "execute_result"
        }
      ],
      "source": [
        "arr"
      ]
    },
    {
      "cell_type": "code",
      "execution_count": null,
      "id": "9b24c051-52d4-44e5-bd94-380ebe1f04da",
      "metadata": {
        "id": "9b24c051-52d4-44e5-bd94-380ebe1f04da",
        "outputId": "ea939f83-f61a-4de1-82e7-731a4382e339"
      },
      "outputs": [
        {
          "data": {
            "text/plain": [
              "array([[5., 5., 5., 5.],\n",
              "       [5., 5., 5., 5.],\n",
              "       [5., 5., 5., 5.]])"
            ]
          },
          "execution_count": 43,
          "metadata": {},
          "output_type": "execute_result"
        }
      ],
      "source": [
        "arr+5"
      ]
    },
    {
      "cell_type": "code",
      "execution_count": null,
      "id": "5459b174-a6cd-46b1-bfd0-133f6bdf11af",
      "metadata": {
        "id": "5459b174-a6cd-46b1-bfd0-133f6bdf11af"
      },
      "outputs": [],
      "source": [
        "a = arr+5"
      ]
    },
    {
      "cell_type": "code",
      "execution_count": null,
      "id": "f2834977-b9d9-4910-ab8d-0d7304bd7fee",
      "metadata": {
        "id": "f2834977-b9d9-4910-ab8d-0d7304bd7fee",
        "outputId": "da5fdfcd-0765-490e-cad2-e6257b606365"
      },
      "outputs": [
        {
          "data": {
            "text/plain": [
              "array([[10., 10., 10., 10.],\n",
              "       [10., 10., 10., 10.],\n",
              "       [10., 10., 10., 10.]])"
            ]
          },
          "execution_count": 46,
          "metadata": {},
          "output_type": "execute_result"
        }
      ],
      "source": [
        "a * 2"
      ]
    },
    {
      "cell_type": "code",
      "execution_count": null,
      "id": "831afa1d-6414-4b03-a6c9-7450a15c4bc6",
      "metadata": {
        "id": "831afa1d-6414-4b03-a6c9-7450a15c4bc6",
        "outputId": "d3cd97a6-39b6-47ad-ea07-e6b5414fdb87"
      },
      "outputs": [
        {
          "data": {
            "text/plain": [
              "array([[5., 5., 5., 5.],\n",
              "       [5., 5., 5., 5.],\n",
              "       [5., 5., 5., 5.]])"
            ]
          },
          "execution_count": 47,
          "metadata": {},
          "output_type": "execute_result"
        }
      ],
      "source": [
        "a"
      ]
    },
    {
      "cell_type": "code",
      "execution_count": null,
      "id": "5c0a04e2-6563-4a98-976e-cbe7c174245c",
      "metadata": {
        "id": "5c0a04e2-6563-4a98-976e-cbe7c174245c",
        "outputId": "2163eb57-6f40-4010-9107-aa87b296f992"
      },
      "outputs": [
        {
          "data": {
            "text/plain": [
              "array([[4., 4., 4., 4.],\n",
              "       [4., 4., 4., 4.],\n",
              "       [4., 4., 4., 4.]])"
            ]
          },
          "execution_count": 48,
          "metadata": {},
          "output_type": "execute_result"
        }
      ],
      "source": [
        "a - 1"
      ]
    },
    {
      "cell_type": "code",
      "execution_count": null,
      "id": "9d91965a-14c3-45d2-bda9-00c94a1a0eb0",
      "metadata": {
        "id": "9d91965a-14c3-45d2-bda9-00c94a1a0eb0",
        "outputId": "b20f7da1-a8ba-4b0f-f8ba-5efc3f25e0ae"
      },
      "outputs": [
        {
          "data": {
            "text/plain": [
              "array([[1., 0., 0.],\n",
              "       [0., 1., 0.],\n",
              "       [0., 0., 1.]])"
            ]
          },
          "execution_count": 49,
          "metadata": {},
          "output_type": "execute_result"
        }
      ],
      "source": [
        "np.eye(3) #Return a 2-D array with ones on the diagonal and zeros elsewhere."
      ]
    },
    {
      "cell_type": "code",
      "execution_count": null,
      "id": "3decd01c-5875-46b2-b946-28565f9be21c",
      "metadata": {
        "id": "3decd01c-5875-46b2-b946-28565f9be21c",
        "outputId": "b37be33d-89d2-4ebf-b71a-15b1ba893e4a"
      },
      "outputs": [
        {
          "data": {
            "text/plain": [
              "array([[1, 0, 0],\n",
              "       [0, 1, 0],\n",
              "       [0, 0, 1]])"
            ]
          },
          "execution_count": 50,
          "metadata": {},
          "output_type": "execute_result"
        }
      ],
      "source": [
        "np.eye(3, dtype = int)"
      ]
    },
    {
      "cell_type": "code",
      "execution_count": null,
      "id": "23c3d819-66d9-4260-bf8e-26fe43a33c27",
      "metadata": {
        "id": "23c3d819-66d9-4260-bf8e-26fe43a33c27",
        "outputId": "89dc5927-ad22-4ceb-ebad-9cb545c91ed9"
      },
      "outputs": [
        {
          "data": {
            "text/plain": [
              "array([[1., 0., 0., 0.],\n",
              "       [0., 1., 0., 0.],\n",
              "       [0., 0., 1., 0.],\n",
              "       [0., 0., 0., 1.]])"
            ]
          },
          "execution_count": 51,
          "metadata": {},
          "output_type": "execute_result"
        }
      ],
      "source": [
        "np.eye(4)"
      ]
    },
    {
      "cell_type": "code",
      "execution_count": null,
      "id": "7225413e-e807-4e09-938a-ca2051a6369d",
      "metadata": {
        "id": "7225413e-e807-4e09-938a-ca2051a6369d",
        "outputId": "b6ced2a0-c739-4591-d7a5-f9988ee95d5e"
      },
      "outputs": [
        {
          "data": {
            "text/plain": [
              "array([[4., 4., 4., 4.],\n",
              "       [4., 4., 4., 4.],\n",
              "       [4., 4., 4., 4.]])"
            ]
          },
          "execution_count": 53,
          "metadata": {},
          "output_type": "execute_result"
        }
      ],
      "source": [
        "np.empty((3, 4)) #Return a new array of given shape and type, without initializing entries.It means entries in the array can be anything random values"
      ]
    },
    {
      "cell_type": "code",
      "execution_count": null,
      "id": "749e271d-d456-41cd-b250-e28013f80ef3",
      "metadata": {
        "id": "749e271d-d456-41cd-b250-e28013f80ef3",
        "outputId": "6150488a-1bf7-4bb6-d9da-3284addc876d"
      },
      "outputs": [
        {
          "data": {
            "text/plain": [
              "2"
            ]
          },
          "execution_count": 54,
          "metadata": {},
          "output_type": "execute_result"
        }
      ],
      "source": [
        "#optional>> random module\n",
        "import random\n",
        "random.choice((1, 2, 3, 4, 5))"
      ]
    },
    {
      "cell_type": "code",
      "execution_count": null,
      "id": "222220ee-064d-47b0-91e0-0c385859810e",
      "metadata": {
        "id": "222220ee-064d-47b0-91e0-0c385859810e",
        "outputId": "bf1c6cae-34fa-4c0e-864b-c6f94d3352c9"
      },
      "outputs": [
        {
          "data": {
            "text/plain": [
              "'j'"
            ]
          },
          "execution_count": 55,
          "metadata": {},
          "output_type": "execute_result"
        }
      ],
      "source": [
        "random.choice(\"Ajay\")"
      ]
    },
    {
      "cell_type": "code",
      "execution_count": null,
      "id": "31de3bc5-6ec9-46bd-8d75-46765cf38355",
      "metadata": {
        "id": "31de3bc5-6ec9-46bd-8d75-46765cf38355",
        "outputId": "b2204d33-1bd6-4e96-c3ee-f5d6ae09df33"
      },
      "outputs": [
        {
          "data": {
            "text/plain": [
              "8"
            ]
          },
          "execution_count": 58,
          "metadata": {},
          "output_type": "execute_result"
        }
      ],
      "source": [
        "random.randrange(1, 10)"
      ]
    },
    {
      "cell_type": "code",
      "execution_count": null,
      "id": "55c29219-ae64-4ee3-9404-c1b405dc3aab",
      "metadata": {
        "id": "55c29219-ae64-4ee3-9404-c1b405dc3aab",
        "outputId": "b7e4269e-4c1a-4ab2-8357-64588b3608e3"
      },
      "outputs": [
        {
          "data": {
            "text/plain": [
              "0.9728985682750961"
            ]
          },
          "execution_count": 59,
          "metadata": {},
          "output_type": "execute_result"
        }
      ],
      "source": [
        "random.random() #a random no generated between 0(included) and 1(excluded)"
      ]
    },
    {
      "cell_type": "code",
      "execution_count": null,
      "id": "71f866d7-4b97-4d6b-9a90-aceaacdbaf04",
      "metadata": {
        "id": "71f866d7-4b97-4d6b-9a90-aceaacdbaf04",
        "outputId": "6a340e56-df0c-48f1-f0cd-34a18aad82fd"
      },
      "outputs": [
        {
          "data": {
            "text/plain": [
              "[1, 2, 3, 4, 5]"
            ]
          },
          "execution_count": 60,
          "metadata": {},
          "output_type": "execute_result"
        }
      ],
      "source": [
        "lis = [1, 2, 3, 4, 5]\n",
        "lis"
      ]
    },
    {
      "cell_type": "code",
      "execution_count": null,
      "id": "b2c16d95-c07b-4865-b67a-71b5cef66563",
      "metadata": {
        "id": "b2c16d95-c07b-4865-b67a-71b5cef66563"
      },
      "outputs": [],
      "source": [
        "random.shuffle(lis)"
      ]
    },
    {
      "cell_type": "code",
      "execution_count": null,
      "id": "d04adf4f-09cc-42d2-ad4c-4b3df2ce9644",
      "metadata": {
        "id": "d04adf4f-09cc-42d2-ad4c-4b3df2ce9644",
        "outputId": "9b11afb9-c550-456e-e5c4-c0a1d4ae3e44"
      },
      "outputs": [
        {
          "data": {
            "text/plain": [
              "[5, 4, 2, 3, 1]"
            ]
          },
          "execution_count": 62,
          "metadata": {},
          "output_type": "execute_result"
        }
      ],
      "source": [
        "lis"
      ]
    },
    {
      "cell_type": "code",
      "execution_count": null,
      "id": "cc2cf199-b390-4f6d-819c-466f673bfd64",
      "metadata": {
        "id": "cc2cf199-b390-4f6d-819c-466f673bfd64",
        "outputId": "a022ef33-e3d0-44e2-8f3b-7df5a57e08b4"
      },
      "outputs": [
        {
          "data": {
            "text/plain": [
              "12.576954563249108"
            ]
          },
          "execution_count": 63,
          "metadata": {},
          "output_type": "execute_result"
        }
      ],
      "source": [
        "random.uniform(7, 14)"
      ]
    },
    {
      "cell_type": "code",
      "execution_count": null,
      "id": "2559263f-0cf9-4467-b72d-9410d9405443",
      "metadata": {
        "id": "2559263f-0cf9-4467-b72d-9410d9405443",
        "outputId": "1894e9e5-b05d-458e-e29d-fb16d14a04f9"
      },
      "outputs": [
        {
          "data": {
            "text/plain": [
              "array([], dtype=float64)"
            ]
          },
          "execution_count": 64,
          "metadata": {},
          "output_type": "execute_result"
        }
      ],
      "source": [
        "#random numbers related concept in numpy\n",
        "\n",
        "np.array([])"
      ]
    },
    {
      "cell_type": "code",
      "execution_count": null,
      "id": "13610a22-c23a-4e24-ae2d-c0212bc86840",
      "metadata": {
        "id": "13610a22-c23a-4e24-ae2d-c0212bc86840",
        "outputId": "e4d87e20-f713-4c8d-ebf5-ae27ba494f5a"
      },
      "outputs": [
        {
          "data": {
            "text/plain": [
              "0.7168659820559915"
            ]
          },
          "execution_count": 65,
          "metadata": {},
          "output_type": "execute_result"
        }
      ],
      "source": [
        "np.random.random_sample()"
      ]
    },
    {
      "cell_type": "code",
      "execution_count": null,
      "id": "83c5d9be-e30b-4669-a806-df2037c3d893",
      "metadata": {
        "id": "83c5d9be-e30b-4669-a806-df2037c3d893",
        "outputId": "9a4b6b1d-0c20-41ed-a6e7-b599ca1e5b7d"
      },
      "outputs": [
        {
          "data": {
            "text/plain": [
              "array([0.85743581, 0.28005044, 0.48774049, 0.10342411, 0.41707208])"
            ]
          },
          "execution_count": 67,
          "metadata": {},
          "output_type": "execute_result"
        }
      ],
      "source": [
        "np.random.random_sample((5, )) #1 dim array of 5 random nos"
      ]
    },
    {
      "cell_type": "code",
      "execution_count": null,
      "id": "97fa0535-f686-435f-98af-e600ac71dcab",
      "metadata": {
        "id": "97fa0535-f686-435f-98af-e600ac71dcab",
        "outputId": "7b0082e1-fbf4-4a3d-bdc9-61720471969f"
      },
      "outputs": [
        {
          "data": {
            "text/plain": [
              "array([0.39270155])"
            ]
          },
          "execution_count": 68,
          "metadata": {},
          "output_type": "execute_result"
        }
      ],
      "source": [
        "np.random.rand(1)"
      ]
    },
    {
      "cell_type": "code",
      "execution_count": null,
      "id": "3e93a914-5a59-48a9-9e69-96262c82e409",
      "metadata": {
        "id": "3e93a914-5a59-48a9-9e69-96262c82e409",
        "outputId": "a6096b8a-8df5-420b-aec8-e3a267514c2f"
      },
      "outputs": [
        {
          "data": {
            "text/plain": [
              "array([[0.29561722, 0.23591216, 0.76403335],\n",
              "       [0.53960614, 0.22486023, 0.26366914]])"
            ]
          },
          "execution_count": 69,
          "metadata": {},
          "output_type": "execute_result"
        }
      ],
      "source": [
        "np.random.rand(2, 3)"
      ]
    },
    {
      "cell_type": "code",
      "execution_count": null,
      "id": "737428f1-19dc-4e08-8023-0da8c944a3a5",
      "metadata": {
        "id": "737428f1-19dc-4e08-8023-0da8c944a3a5",
        "outputId": "e3972057-71fb-4431-ed36-682cce439ab4"
      },
      "outputs": [
        {
          "data": {
            "text/plain": [
              "array([[ 0.52726285,  0.45931722,  0.24064425],\n",
              "       [-0.83145839,  0.13407456,  0.11095632]])"
            ]
          },
          "execution_count": 70,
          "metadata": {},
          "output_type": "execute_result"
        }
      ],
      "source": [
        "np.random.randn(2, 3) #return a sample (or samples) from the \"standard normal\" distribution."
      ]
    },
    {
      "cell_type": "code",
      "execution_count": null,
      "id": "ebf74c05-07cd-446d-a0bb-9edd72ea2d46",
      "metadata": {
        "id": "ebf74c05-07cd-446d-a0bb-9edd72ea2d46",
        "outputId": "4a2cf783-4b80-4273-d8e0-439f67ae7d25"
      },
      "outputs": [
        {
          "data": {
            "text/plain": [
              "array([[2, 4, 3, 1],\n",
              "       [4, 2, 1, 1],\n",
              "       [4, 1, 4, 1]])"
            ]
          },
          "execution_count": 72,
          "metadata": {},
          "output_type": "execute_result"
        }
      ],
      "source": [
        "np.random.randint(1, 5, size = (3, 4)) #start from 1 and end at 5-1 and give array of shape 3, 4"
      ]
    },
    {
      "cell_type": "code",
      "execution_count": null,
      "id": "c88fe0c9-ec3a-43a4-ba75-c3f5ac35e7fd",
      "metadata": {
        "id": "c88fe0c9-ec3a-43a4-ba75-c3f5ac35e7fd"
      },
      "outputs": [],
      "source": [
        "arr = np.random.randint(1, 5, size = (3, 4))"
      ]
    },
    {
      "cell_type": "code",
      "execution_count": null,
      "id": "8ca4518e-b813-42c1-bd90-53174b7d3c9a",
      "metadata": {
        "id": "8ca4518e-b813-42c1-bd90-53174b7d3c9a",
        "outputId": "becadf8e-2de9-43c9-cb6e-057025ae6dfb"
      },
      "outputs": [
        {
          "data": {
            "text/plain": [
              "2"
            ]
          },
          "execution_count": 74,
          "metadata": {},
          "output_type": "execute_result"
        }
      ],
      "source": [
        "arr.ndim"
      ]
    },
    {
      "cell_type": "code",
      "execution_count": null,
      "id": "314a2761-6a46-4e33-b76d-9aebdba00ba5",
      "metadata": {
        "id": "314a2761-6a46-4e33-b76d-9aebdba00ba5",
        "outputId": "dda7b1a3-2652-4146-8c3e-96048773c77c"
      },
      "outputs": [
        {
          "data": {
            "text/plain": [
              "(3, 4)"
            ]
          },
          "execution_count": 76,
          "metadata": {},
          "output_type": "execute_result"
        }
      ],
      "source": [
        "arr.shape"
      ]
    },
    {
      "cell_type": "code",
      "execution_count": null,
      "id": "85a3340d-c293-4c8a-a36b-0b2122943289",
      "metadata": {
        "id": "85a3340d-c293-4c8a-a36b-0b2122943289",
        "outputId": "00cfeeac-5208-4fee-c9bb-d7cdc61287fa"
      },
      "outputs": [
        {
          "data": {
            "text/plain": [
              "12"
            ]
          },
          "execution_count": 77,
          "metadata": {},
          "output_type": "execute_result"
        }
      ],
      "source": [
        "arr.size"
      ]
    },
    {
      "cell_type": "code",
      "execution_count": null,
      "id": "3fee8209-6d4a-4327-9f58-760325d8f0dd",
      "metadata": {
        "id": "3fee8209-6d4a-4327-9f58-760325d8f0dd",
        "outputId": "90aebc64-6a5a-4563-ddd1-28a6b0afc008"
      },
      "outputs": [
        {
          "data": {
            "text/plain": [
              "array([[2, 1, 1, 4],\n",
              "       [2, 3, 2, 3],\n",
              "       [4, 3, 3, 1]])"
            ]
          },
          "execution_count": 78,
          "metadata": {},
          "output_type": "execute_result"
        }
      ],
      "source": [
        "arr"
      ]
    },
    {
      "cell_type": "code",
      "execution_count": null,
      "id": "16dce6d0-c8b0-4b47-a01f-199657897898",
      "metadata": {
        "id": "16dce6d0-c8b0-4b47-a01f-199657897898"
      },
      "outputs": [],
      "source": [
        "#reshaping of array\n",
        "arr1 = arr.reshape(2, 6) #Returns an array containing the same data with a new shape."
      ]
    },
    {
      "cell_type": "code",
      "execution_count": null,
      "id": "47bb5af8-a18e-412a-8634-3e207647282c",
      "metadata": {
        "id": "47bb5af8-a18e-412a-8634-3e207647282c",
        "outputId": "b98d9d19-e886-4792-a617-227a0f848715"
      },
      "outputs": [
        {
          "data": {
            "text/plain": [
              "array([[2, 1, 1, 4, 2, 3],\n",
              "       [2, 3, 4, 3, 3, 1]])"
            ]
          },
          "execution_count": 81,
          "metadata": {},
          "output_type": "execute_result"
        }
      ],
      "source": [
        "arr1"
      ]
    },
    {
      "cell_type": "code",
      "execution_count": null,
      "id": "2062a4ed-5914-4f4d-8a5d-ab842c4c0529",
      "metadata": {
        "id": "2062a4ed-5914-4f4d-8a5d-ab842c4c0529",
        "outputId": "a233cf7d-0f11-412b-8390-b591bfab730a"
      },
      "outputs": [
        {
          "data": {
            "text/plain": [
              "12"
            ]
          },
          "execution_count": 82,
          "metadata": {},
          "output_type": "execute_result"
        }
      ],
      "source": [
        "arr1.size"
      ]
    },
    {
      "cell_type": "code",
      "execution_count": null,
      "id": "341aeac7-de54-40e3-8f42-089ad070ec27",
      "metadata": {
        "id": "341aeac7-de54-40e3-8f42-089ad070ec27",
        "outputId": "08fe00af-f00e-4c41-af05-6ac1fc443cf1"
      },
      "outputs": [
        {
          "data": {
            "text/plain": [
              "(2, 6)"
            ]
          },
          "execution_count": 83,
          "metadata": {},
          "output_type": "execute_result"
        }
      ],
      "source": [
        "arr1.shape"
      ]
    },
    {
      "cell_type": "code",
      "execution_count": null,
      "id": "82823ea2-ad4b-4dd0-add8-8d6c4d9eeb66",
      "metadata": {
        "id": "82823ea2-ad4b-4dd0-add8-8d6c4d9eeb66",
        "outputId": "c625e752-1914-4b2d-a0ff-5e7ef033af25"
      },
      "outputs": [
        {
          "data": {
            "text/plain": [
              "2"
            ]
          },
          "execution_count": 84,
          "metadata": {},
          "output_type": "execute_result"
        }
      ],
      "source": [
        "arr1.ndim"
      ]
    },
    {
      "cell_type": "code",
      "execution_count": null,
      "id": "eb46e294-7ffc-43c0-a9de-cd8de11ff048",
      "metadata": {
        "id": "eb46e294-7ffc-43c0-a9de-cd8de11ff048"
      },
      "outputs": [],
      "source": [
        "#array size will never change, always reshape parameter should be multiplication of original array size"
      ]
    },
    {
      "cell_type": "code",
      "execution_count": null,
      "id": "bb4fa389-340b-465d-b695-e8bd45acbbbb",
      "metadata": {
        "id": "bb4fa389-340b-465d-b695-e8bd45acbbbb",
        "outputId": "fe219900-c38f-4f09-c66c-8f7ef6869b56"
      },
      "outputs": [
        {
          "data": {
            "text/plain": [
              "array([[2, 1, 1, 4],\n",
              "       [2, 3, 2, 3],\n",
              "       [4, 3, 3, 1]])"
            ]
          },
          "execution_count": 86,
          "metadata": {},
          "output_type": "execute_result"
        }
      ],
      "source": [
        "arr"
      ]
    },
    {
      "cell_type": "code",
      "execution_count": null,
      "id": "87afeecd-6a59-45b4-833e-240f5fd3a893",
      "metadata": {
        "id": "87afeecd-6a59-45b4-833e-240f5fd3a893",
        "outputId": "f014576b-0f57-4d0c-e8ba-cb12ec74ccd5"
      },
      "outputs": [
        {
          "ename": "ValueError",
          "evalue": "cannot reshape array of size 12 into shape (3,2)",
          "output_type": "error",
          "traceback": [
            "\u001b[0;31m---------------------------------------------------------------------------\u001b[0m",
            "\u001b[0;31mValueError\u001b[0m                                Traceback (most recent call last)",
            "Cell \u001b[0;32mIn[87], line 1\u001b[0m\n\u001b[0;32m----> 1\u001b[0m \u001b[43marr\u001b[49m\u001b[38;5;241;43m.\u001b[39;49m\u001b[43mreshape\u001b[49m\u001b[43m(\u001b[49m\u001b[38;5;241;43m3\u001b[39;49m\u001b[43m,\u001b[49m\u001b[38;5;241;43m2\u001b[39;49m\u001b[43m)\u001b[49m\n",
            "\u001b[0;31mValueError\u001b[0m: cannot reshape array of size 12 into shape (3,2)"
          ]
        }
      ],
      "source": [
        "arr.reshape(3,2)"
      ]
    },
    {
      "cell_type": "code",
      "execution_count": null,
      "id": "acb288f9-5543-4ae6-86b7-cfc982f84f2c",
      "metadata": {
        "id": "acb288f9-5543-4ae6-86b7-cfc982f84f2c",
        "outputId": "c72f23a7-c1c0-4e90-ee5b-83cdad9b6051"
      },
      "outputs": [
        {
          "ename": "ValueError",
          "evalue": "cannot reshape array of size 12 into shape (3,3)",
          "output_type": "error",
          "traceback": [
            "\u001b[0;31m---------------------------------------------------------------------------\u001b[0m",
            "\u001b[0;31mValueError\u001b[0m                                Traceback (most recent call last)",
            "Cell \u001b[0;32mIn[88], line 1\u001b[0m\n\u001b[0;32m----> 1\u001b[0m \u001b[43marr\u001b[49m\u001b[38;5;241;43m.\u001b[39;49m\u001b[43mreshape\u001b[49m\u001b[43m(\u001b[49m\u001b[38;5;241;43m3\u001b[39;49m\u001b[43m,\u001b[49m\u001b[38;5;241;43m3\u001b[39;49m\u001b[43m)\u001b[49m\n",
            "\u001b[0;31mValueError\u001b[0m: cannot reshape array of size 12 into shape (3,3)"
          ]
        }
      ],
      "source": [
        "arr.reshape(3,3)"
      ]
    },
    {
      "cell_type": "code",
      "execution_count": null,
      "id": "e2abdd50-2d7f-45c0-9767-35ca70ff3ef7",
      "metadata": {
        "id": "e2abdd50-2d7f-45c0-9767-35ca70ff3ef7",
        "outputId": "85bbc330-8554-475d-baeb-f3a48dd66384"
      },
      "outputs": [
        {
          "data": {
            "text/plain": [
              "array([[2, 1, 1, 4],\n",
              "       [2, 3, 2, 3],\n",
              "       [4, 3, 3, 1]])"
            ]
          },
          "execution_count": 89,
          "metadata": {},
          "output_type": "execute_result"
        }
      ],
      "source": [
        "arr.reshape(3,4)"
      ]
    },
    {
      "cell_type": "code",
      "execution_count": null,
      "id": "89a71f26-543b-4259-b786-3a8bb2fde847",
      "metadata": {
        "id": "89a71f26-543b-4259-b786-3a8bb2fde847",
        "outputId": "8fce2b7f-072b-4443-a762-704b2b5bfd88"
      },
      "outputs": [
        {
          "data": {
            "text/plain": [
              "array([[2, 1, 1],\n",
              "       [4, 2, 3],\n",
              "       [2, 3, 4],\n",
              "       [3, 3, 1]])"
            ]
          },
          "execution_count": 90,
          "metadata": {},
          "output_type": "execute_result"
        }
      ],
      "source": [
        "arr.reshape(4,3)"
      ]
    },
    {
      "cell_type": "code",
      "execution_count": null,
      "id": "ddace779-8ebc-4634-8335-c7ddb4aae68a",
      "metadata": {
        "id": "ddace779-8ebc-4634-8335-c7ddb4aae68a",
        "outputId": "f11a5691-c458-4a48-855d-8a2dfc06af02"
      },
      "outputs": [
        {
          "data": {
            "text/plain": [
              "array([[2, 1, 1, 4, 2, 3, 2, 3, 4, 3, 3, 1]])"
            ]
          },
          "execution_count": 91,
          "metadata": {},
          "output_type": "execute_result"
        }
      ],
      "source": [
        "arr.reshape(1, 12)"
      ]
    },
    {
      "cell_type": "code",
      "execution_count": null,
      "id": "42e9bf96-6cea-45f8-9dc6-31b9fab3d818",
      "metadata": {
        "id": "42e9bf96-6cea-45f8-9dc6-31b9fab3d818",
        "outputId": "11aea05a-87a9-4885-c854-895b119e9a6e"
      },
      "outputs": [
        {
          "data": {
            "text/plain": [
              "array([[2],\n",
              "       [1],\n",
              "       [1],\n",
              "       [4],\n",
              "       [2],\n",
              "       [3],\n",
              "       [2],\n",
              "       [3],\n",
              "       [4],\n",
              "       [3],\n",
              "       [3],\n",
              "       [1]])"
            ]
          },
          "execution_count": 92,
          "metadata": {},
          "output_type": "execute_result"
        }
      ],
      "source": [
        "arr.reshape(12, 1)"
      ]
    },
    {
      "cell_type": "code",
      "execution_count": null,
      "id": "2c10cf8d-f6dd-4612-9342-9af6588e6c6c",
      "metadata": {
        "id": "2c10cf8d-f6dd-4612-9342-9af6588e6c6c",
        "outputId": "86059f41-91d6-4c60-fb47-002d29224b7c"
      },
      "outputs": [
        {
          "data": {
            "text/plain": [
              "array([[2, 1, 1],\n",
              "       [4, 2, 3],\n",
              "       [2, 3, 4],\n",
              "       [3, 3, 1]])"
            ]
          },
          "execution_count": 93,
          "metadata": {},
          "output_type": "execute_result"
        }
      ],
      "source": [
        "#case when you dont know in reshape what should be the row or column count\n",
        "#use any negative value for rows or columns\n",
        "arr.reshape(4,-1)"
      ]
    },
    {
      "cell_type": "code",
      "execution_count": null,
      "id": "3114a95c-1ec6-41e1-8d9f-7a20f88d0a26",
      "metadata": {
        "id": "3114a95c-1ec6-41e1-8d9f-7a20f88d0a26",
        "outputId": "664dd18b-207c-400e-a1af-3484bb6f30f3"
      },
      "outputs": [
        {
          "data": {
            "text/plain": [
              "array([[2, 1, 1],\n",
              "       [4, 2, 3],\n",
              "       [2, 3, 4],\n",
              "       [3, 3, 1]])"
            ]
          },
          "execution_count": 94,
          "metadata": {},
          "output_type": "execute_result"
        }
      ],
      "source": [
        "arr.reshape(4,-100)"
      ]
    },
    {
      "cell_type": "code",
      "execution_count": null,
      "id": "54b053b5-c263-4e4d-b3cd-340628972eab",
      "metadata": {
        "id": "54b053b5-c263-4e4d-b3cd-340628972eab",
        "outputId": "ae17b931-a94d-43c2-a7a8-1458ca744c35"
      },
      "outputs": [
        {
          "data": {
            "text/plain": [
              "array([[2, 1, 1, 4],\n",
              "       [2, 3, 2, 3],\n",
              "       [4, 3, 3, 1]])"
            ]
          },
          "execution_count": 95,
          "metadata": {},
          "output_type": "execute_result"
        }
      ],
      "source": [
        "arr.reshape(-1,4)"
      ]
    },
    {
      "cell_type": "code",
      "execution_count": null,
      "id": "f01c67a7-0716-443a-b76b-926410f0e4d7",
      "metadata": {
        "id": "f01c67a7-0716-443a-b76b-926410f0e4d7",
        "outputId": "24aec5d3-47a9-4f8e-e1b1-032e80d01e5a"
      },
      "outputs": [
        {
          "data": {
            "text/plain": [
              "array([[2, 1, 1, 4],\n",
              "       [2, 3, 2, 3],\n",
              "       [4, 3, 3, 1]])"
            ]
          },
          "execution_count": 96,
          "metadata": {},
          "output_type": "execute_result"
        }
      ],
      "source": [
        "arr"
      ]
    },
    {
      "cell_type": "code",
      "execution_count": null,
      "id": "d692d6d0-ea8d-4ec6-bbc1-e2d8ebc4a71b",
      "metadata": {
        "id": "d692d6d0-ea8d-4ec6-bbc1-e2d8ebc4a71b",
        "outputId": "52db2bb4-c8da-4aac-88d1-84bb242aab28"
      },
      "outputs": [
        {
          "data": {
            "text/plain": [
              "array([[2, 1, 1, 4],\n",
              "       [2, 3, 2, 3],\n",
              "       [4, 3, 3, 1]])"
            ]
          },
          "execution_count": 98,
          "metadata": {},
          "output_type": "execute_result"
        }
      ],
      "source": [
        "arr.reshape(12, 1).base #to see the original array"
      ]
    },
    {
      "cell_type": "code",
      "execution_count": null,
      "id": "86235e04-ef4d-4dc9-bd4f-f3f14375d60a",
      "metadata": {
        "id": "86235e04-ef4d-4dc9-bd4f-f3f14375d60a",
        "outputId": "92f270a5-15fc-4f03-8e8c-33bc4f42c8c2"
      },
      "outputs": [
        {
          "data": {
            "text/plain": [
              "array([[[2, 1, 1],\n",
              "        [4, 2, 3]],\n",
              "\n",
              "       [[2, 3, 4],\n",
              "        [3, 3, 1]]])"
            ]
          },
          "execution_count": 100,
          "metadata": {},
          "output_type": "execute_result"
        }
      ],
      "source": [
        "arr.reshape(2, 2, 3) #multiplication should be equals to arr size"
      ]
    },
    {
      "cell_type": "code",
      "execution_count": null,
      "id": "102ea452-19f5-4b7e-a520-3c88e9a8a2d1",
      "metadata": {
        "id": "102ea452-19f5-4b7e-a520-3c88e9a8a2d1",
        "outputId": "ee1ebab5-dfc5-4165-b923-c9f10193b590"
      },
      "outputs": [
        {
          "data": {
            "text/plain": [
              "array([[[[2, 1, 1],\n",
              "         [4, 2, 3]],\n",
              "\n",
              "        [[2, 3, 4],\n",
              "         [3, 3, 1]]]])"
            ]
          },
          "execution_count": 101,
          "metadata": {},
          "output_type": "execute_result"
        }
      ],
      "source": [
        "arr.reshape(1, 2, 2, 3)"
      ]
    },
    {
      "cell_type": "code",
      "execution_count": null,
      "id": "ac7e0019-a2dc-4175-bfb9-cd3e5a052095",
      "metadata": {
        "id": "ac7e0019-a2dc-4175-bfb9-cd3e5a052095",
        "outputId": "f6bd5647-2581-4262-b0c6-313f8a61ca1c"
      },
      "outputs": [
        {
          "data": {
            "text/plain": [
              "4"
            ]
          },
          "execution_count": 102,
          "metadata": {},
          "output_type": "execute_result"
        }
      ],
      "source": [
        "arr.reshape(1, 2, 2, 3).ndim"
      ]
    },
    {
      "cell_type": "code",
      "execution_count": null,
      "id": "4f1af5a4-87cb-49db-b0eb-934119267c20",
      "metadata": {
        "id": "4f1af5a4-87cb-49db-b0eb-934119267c20",
        "outputId": "79f27d5a-7aac-49e6-ba32-99a1de33ebbb"
      },
      "outputs": [
        {
          "data": {
            "text/plain": [
              "array([[[2],\n",
              "        [1],\n",
              "        [1]],\n",
              "\n",
              "       [[4],\n",
              "        [2],\n",
              "        [3]],\n",
              "\n",
              "       [[2],\n",
              "        [3],\n",
              "        [4]],\n",
              "\n",
              "       [[3],\n",
              "        [3],\n",
              "        [1]]])"
            ]
          },
          "execution_count": 104,
          "metadata": {},
          "output_type": "execute_result"
        }
      ],
      "source": [
        "arr.reshape(4, 3, 1) #3 rows 1 column repeated 4 times in the third dimension"
      ]
    },
    {
      "cell_type": "code",
      "execution_count": null,
      "id": "62cdeb4d-4b38-44ee-94a9-7c770f985c8b",
      "metadata": {
        "id": "62cdeb4d-4b38-44ee-94a9-7c770f985c8b"
      },
      "outputs": [],
      "source": [
        "#conditions on array\n",
        "arr1=np.random.randint(1, 10, (5, 6))"
      ]
    },
    {
      "cell_type": "code",
      "execution_count": null,
      "id": "14010265-5406-447b-aae2-d668c718d0ab",
      "metadata": {
        "id": "14010265-5406-447b-aae2-d668c718d0ab",
        "outputId": "22147df7-5598-47a5-d225-1b5ebd2ebd0b"
      },
      "outputs": [
        {
          "data": {
            "text/plain": [
              "array([[4, 9, 2, 5, 2, 2],\n",
              "       [4, 7, 3, 7, 8, 6],\n",
              "       [4, 4, 5, 8, 8, 3],\n",
              "       [7, 8, 3, 7, 9, 8],\n",
              "       [3, 6, 1, 7, 5, 4]])"
            ]
          },
          "execution_count": 106,
          "metadata": {},
          "output_type": "execute_result"
        }
      ],
      "source": [
        "arr1"
      ]
    },
    {
      "cell_type": "code",
      "execution_count": null,
      "id": "ff479d73-0911-4824-b0a4-f922612bad78",
      "metadata": {
        "id": "ff479d73-0911-4824-b0a4-f922612bad78",
        "outputId": "0ec47ac8-967a-4561-a02d-4594ebf430d6"
      },
      "outputs": [
        {
          "data": {
            "text/plain": [
              "(5, 6)"
            ]
          },
          "execution_count": 107,
          "metadata": {},
          "output_type": "execute_result"
        }
      ],
      "source": [
        "arr1.shape"
      ]
    },
    {
      "cell_type": "code",
      "execution_count": null,
      "id": "ab833dea-125d-42ed-b0f9-306d8155809d",
      "metadata": {
        "id": "ab833dea-125d-42ed-b0f9-306d8155809d",
        "outputId": "9dc3d747-0446-48eb-ee15-a8cfd5dff8d3"
      },
      "outputs": [
        {
          "data": {
            "text/plain": [
              "30"
            ]
          },
          "execution_count": 108,
          "metadata": {},
          "output_type": "execute_result"
        }
      ],
      "source": [
        "arr1.size"
      ]
    },
    {
      "cell_type": "code",
      "execution_count": null,
      "id": "4d5287a3-84df-4909-8a73-2e7fa6e44329",
      "metadata": {
        "id": "4d5287a3-84df-4909-8a73-2e7fa6e44329",
        "outputId": "8894d605-f27e-4d98-95f3-04035857d0da"
      },
      "outputs": [
        {
          "data": {
            "text/plain": [
              "2"
            ]
          },
          "execution_count": 109,
          "metadata": {},
          "output_type": "execute_result"
        }
      ],
      "source": [
        "arr1.ndim"
      ]
    },
    {
      "cell_type": "code",
      "execution_count": null,
      "id": "dd0f0995-ce40-41dd-96e7-a38640c55d41",
      "metadata": {
        "id": "dd0f0995-ce40-41dd-96e7-a38640c55d41",
        "outputId": "c873a086-aeef-49fa-9b30-f909a9a99468"
      },
      "outputs": [
        {
          "data": {
            "text/plain": [
              "array([[4, 9, 2, 5, 2, 2],\n",
              "       [4, 7, 3, 7, 8, 6],\n",
              "       [4, 4, 5, 8, 8, 3],\n",
              "       [7, 8, 3, 7, 9, 8],\n",
              "       [3, 6, 1, 7, 5, 4]])"
            ]
          },
          "execution_count": 110,
          "metadata": {},
          "output_type": "execute_result"
        }
      ],
      "source": [
        "arr1"
      ]
    },
    {
      "cell_type": "code",
      "execution_count": null,
      "id": "b710e640-2331-4c4e-808c-25cf1c116f0f",
      "metadata": {
        "id": "b710e640-2331-4c4e-808c-25cf1c116f0f",
        "outputId": "0fedd396-b503-4368-8022-b59b1cfb06d0"
      },
      "outputs": [
        {
          "data": {
            "text/plain": [
              "array([[ True,  True, False,  True, False, False],\n",
              "       [ True,  True, False,  True,  True,  True],\n",
              "       [ True,  True,  True,  True,  True, False],\n",
              "       [ True,  True, False,  True,  True,  True],\n",
              "       [False,  True, False,  True,  True,  True]])"
            ]
          },
          "execution_count": 111,
          "metadata": {},
          "output_type": "execute_result"
        }
      ],
      "source": [
        "arr1 > 3"
      ]
    },
    {
      "cell_type": "code",
      "execution_count": null,
      "id": "ce586a1b-cf90-47ba-8a46-e137c1ecc17a",
      "metadata": {
        "id": "ce586a1b-cf90-47ba-8a46-e137c1ecc17a",
        "outputId": "4ba5e7b9-67d5-4337-e809-050fbe356bfd"
      },
      "outputs": [
        {
          "data": {
            "text/plain": [
              "array([4, 9, 5, 4, 7, 7, 8, 6, 4, 4, 5, 8, 8, 7, 8, 7, 9, 8, 6, 7, 5, 4])"
            ]
          },
          "execution_count": 112,
          "metadata": {},
          "output_type": "execute_result"
        }
      ],
      "source": [
        "arr1[arr1 > 3] #select all the elements of arr1 where the condition is true"
      ]
    },
    {
      "cell_type": "code",
      "execution_count": null,
      "id": "a46ee76c-0cc5-418d-90d0-1e12e0acfda6",
      "metadata": {
        "id": "a46ee76c-0cc5-418d-90d0-1e12e0acfda6",
        "outputId": "a408ac97-9be3-4b88-f378-ed5429e803b0"
      },
      "outputs": [
        {
          "data": {
            "text/plain": [
              "array([2, 2, 2, 1])"
            ]
          },
          "execution_count": 113,
          "metadata": {},
          "output_type": "execute_result"
        }
      ],
      "source": [
        "arr1[arr1 < 3]"
      ]
    },
    {
      "cell_type": "code",
      "execution_count": null,
      "id": "c59b3075-fe21-4ab2-ba7e-1cde07ccd278",
      "metadata": {
        "id": "c59b3075-fe21-4ab2-ba7e-1cde07ccd278",
        "outputId": "a9398da4-4e78-46ba-bbde-db1a9a26c358"
      },
      "outputs": [
        {
          "data": {
            "text/plain": [
              "array([[4, 9, 2, 5, 2, 2],\n",
              "       [4, 7, 3, 7, 8, 6],\n",
              "       [4, 4, 5, 8, 8, 3],\n",
              "       [7, 8, 3, 7, 9, 8],\n",
              "       [3, 6, 1, 7, 5, 4]])"
            ]
          },
          "execution_count": 114,
          "metadata": {},
          "output_type": "execute_result"
        }
      ],
      "source": [
        "arr1"
      ]
    },
    {
      "cell_type": "code",
      "execution_count": null,
      "id": "9f5b74f6-afd2-474d-9d7c-b7514416308d",
      "metadata": {
        "id": "9f5b74f6-afd2-474d-9d7c-b7514416308d"
      },
      "outputs": [],
      "source": [
        "#to access elements in an arry"
      ]
    },
    {
      "cell_type": "code",
      "execution_count": null,
      "id": "cfcf6a40-8f21-452d-9166-cd7bd98e2de0",
      "metadata": {
        "id": "cfcf6a40-8f21-452d-9166-cd7bd98e2de0",
        "outputId": "6eb43ff3-efd9-4d17-b938-bd7c806eea8e"
      },
      "outputs": [
        {
          "data": {
            "text/plain": [
              "array([4, 9, 2, 5, 2, 2])"
            ]
          },
          "execution_count": 116,
          "metadata": {},
          "output_type": "execute_result"
        }
      ],
      "source": [
        "arr1[0]"
      ]
    },
    {
      "cell_type": "code",
      "execution_count": null,
      "id": "1233db8c-0e2a-494f-8b38-cd755a48d629",
      "metadata": {
        "id": "1233db8c-0e2a-494f-8b38-cd755a48d629",
        "outputId": "bae168b4-2a51-48f8-d8cb-e3881da1f1a7"
      },
      "outputs": [
        {
          "data": {
            "text/plain": [
              "3"
            ]
          },
          "execution_count": 118,
          "metadata": {},
          "output_type": "execute_result"
        }
      ],
      "source": [
        "arr1[1][2]"
      ]
    },
    {
      "cell_type": "code",
      "execution_count": null,
      "id": "b32624a0-c3e7-46c1-a74f-2d5014557e98",
      "metadata": {
        "id": "b32624a0-c3e7-46c1-a74f-2d5014557e98",
        "outputId": "c2401940-01bb-46b6-e7f6-60a8ec7a22a6"
      },
      "outputs": [
        {
          "data": {
            "text/plain": [
              "array([[4, 9, 2, 5, 2, 2],\n",
              "       [4, 7, 3, 7, 8, 6],\n",
              "       [4, 4, 5, 8, 8, 3],\n",
              "       [7, 8, 3, 7, 9, 8],\n",
              "       [3, 6, 1, 7, 5, 4]])"
            ]
          },
          "execution_count": 119,
          "metadata": {},
          "output_type": "execute_result"
        }
      ],
      "source": [
        "arr1"
      ]
    },
    {
      "cell_type": "code",
      "execution_count": null,
      "id": "cf23e1cc-997f-4662-be8e-aa09d6e29946",
      "metadata": {
        "id": "cf23e1cc-997f-4662-be8e-aa09d6e29946",
        "outputId": "0f336e06-1828-4b36-eb31-85ed2910fe51"
      },
      "outputs": [
        {
          "data": {
            "text/plain": [
              "8"
            ]
          },
          "execution_count": 120,
          "metadata": {},
          "output_type": "execute_result"
        }
      ],
      "source": [
        "arr1[3][1]"
      ]
    },
    {
      "cell_type": "code",
      "execution_count": null,
      "id": "a32a0d18-a4bb-485d-9ba0-51fc894cb65c",
      "metadata": {
        "id": "a32a0d18-a4bb-485d-9ba0-51fc894cb65c",
        "outputId": "a27b9596-2297-44c8-99e4-3d2b681b39b4"
      },
      "outputs": [
        {
          "data": {
            "text/plain": [
              "array([[4, 9, 2, 5, 2, 2],\n",
              "       [4, 7, 3, 7, 8, 6],\n",
              "       [4, 4, 5, 8, 8, 3],\n",
              "       [7, 8, 3, 7, 9, 8],\n",
              "       [3, 6, 1, 7, 5, 4]])"
            ]
          },
          "execution_count": 121,
          "metadata": {},
          "output_type": "execute_result"
        }
      ],
      "source": [
        "arr1"
      ]
    },
    {
      "cell_type": "code",
      "execution_count": null,
      "id": "b2916a61-0b7e-4381-875d-4c2c6e355cd4",
      "metadata": {
        "id": "b2916a61-0b7e-4381-875d-4c2c6e355cd4",
        "outputId": "26bd8f23-c300-4fb2-bcc1-6f50c521e9c2"
      },
      "outputs": [
        {
          "data": {
            "text/plain": [
              "array([[4, 9, 2, 5, 2, 2],\n",
              "       [4, 7, 3, 7, 8, 6],\n",
              "       [4, 4, 5, 8, 8, 3]])"
            ]
          },
          "execution_count": 122,
          "metadata": {},
          "output_type": "execute_result"
        }
      ],
      "source": [
        "#from oth row to 2nd row\n",
        "arr1[0:3]"
      ]
    },
    {
      "cell_type": "code",
      "execution_count": null,
      "id": "4cda054e-7ae2-40f4-a315-0b5cefcb9709",
      "metadata": {
        "id": "4cda054e-7ae2-40f4-a315-0b5cefcb9709",
        "outputId": "7b6a2856-e820-43a7-fe6f-4ce8193e039b"
      },
      "outputs": [
        {
          "data": {
            "text/plain": [
              "array([[4, 2],\n",
              "       [4, 3],\n",
              "       [4, 5]])"
            ]
          },
          "execution_count": 123,
          "metadata": {},
          "output_type": "execute_result"
        }
      ],
      "source": [
        "#0 to 2nd row and 0th and 2nd column\n",
        "arr1[0:3,[0, 2] ]"
      ]
    },
    {
      "cell_type": "code",
      "execution_count": null,
      "id": "06101ed7-3b58-4251-9fe3-0e5eeefa633f",
      "metadata": {
        "id": "06101ed7-3b58-4251-9fe3-0e5eeefa633f",
        "outputId": "99a53780-e35b-456d-83c3-10161c0b2822"
      },
      "outputs": [
        {
          "data": {
            "text/plain": [
              "array([[4, 9, 2, 5, 2, 2],\n",
              "       [4, 7, 3, 7, 8, 6],\n",
              "       [4, 4, 5, 8, 8, 3],\n",
              "       [7, 8, 3, 7, 9, 8],\n",
              "       [3, 6, 1, 7, 5, 4]])"
            ]
          },
          "execution_count": 124,
          "metadata": {},
          "output_type": "execute_result"
        }
      ],
      "source": [
        "#slicing on both rows and columns together\n",
        "arr1"
      ]
    },
    {
      "cell_type": "code",
      "execution_count": null,
      "id": "0bfc8c8e-a963-4b69-897e-c81870467d9d",
      "metadata": {
        "id": "0bfc8c8e-a963-4b69-897e-c81870467d9d",
        "outputId": "811cddaa-641f-4c4c-ff82-52760f231908"
      },
      "outputs": [
        {
          "data": {
            "text/plain": [
              "array([[9, 2],\n",
              "       [7, 3],\n",
              "       [4, 5]])"
            ]
          },
          "execution_count": 127,
          "metadata": {},
          "output_type": "execute_result"
        }
      ],
      "source": [
        "arr1[0:3, 1:3]"
      ]
    },
    {
      "cell_type": "code",
      "execution_count": null,
      "id": "bd1d8233-8228-4002-8f61-02a42de64773",
      "metadata": {
        "id": "bd1d8233-8228-4002-8f61-02a42de64773",
        "outputId": "4ce773ca-cf9d-4a3b-cef4-282fc9b35fcc"
      },
      "outputs": [
        {
          "data": {
            "text/plain": [
              "array([[4, 9],\n",
              "       [4, 7],\n",
              "       [4, 4]])"
            ]
          },
          "execution_count": 128,
          "metadata": {},
          "output_type": "execute_result"
        }
      ],
      "source": [
        "arr1[0:3, [0, 1]]"
      ]
    },
    {
      "cell_type": "code",
      "execution_count": null,
      "id": "5ef9493a-046d-4c5f-b5e1-1c93aaf5d9d1",
      "metadata": {
        "id": "5ef9493a-046d-4c5f-b5e1-1c93aaf5d9d1",
        "outputId": "ecad61ba-b0ce-4f4b-e41b-4e23f5a73c8f"
      },
      "outputs": [
        {
          "data": {
            "text/plain": [
              "array([9, 5])"
            ]
          },
          "execution_count": 130,
          "metadata": {},
          "output_type": "execute_result"
        }
      ],
      "source": [
        "arr1[0, [1, 3]]"
      ]
    },
    {
      "cell_type": "code",
      "execution_count": null,
      "id": "b039027a-a126-47e9-b23b-3289ceb9978f",
      "metadata": {
        "id": "b039027a-a126-47e9-b23b-3289ceb9978f",
        "outputId": "f28463ac-081a-453f-c689-8856c6897771"
      },
      "outputs": [
        {
          "data": {
            "text/plain": [
              "array([[4, 8],\n",
              "       [7, 7]])"
            ]
          },
          "execution_count": 131,
          "metadata": {},
          "output_type": "execute_result"
        }
      ],
      "source": [
        "arr1[2:4, [0, 3]]"
      ]
    },
    {
      "cell_type": "code",
      "execution_count": null,
      "id": "1cdcb18d-7e80-4018-89e5-d95e91de5253",
      "metadata": {
        "id": "1cdcb18d-7e80-4018-89e5-d95e91de5253",
        "outputId": "283b4464-1f3b-4059-b3e2-24c681e773a9"
      },
      "outputs": [
        {
          "data": {
            "text/plain": [
              "array([[4, 4, 5, 8, 8, 3],\n",
              "       [7, 8, 3, 7, 9, 8],\n",
              "       [3, 6, 1, 7, 5, 4]])"
            ]
          },
          "execution_count": 132,
          "metadata": {},
          "output_type": "execute_result"
        }
      ],
      "source": [
        "arr1[2:5]"
      ]
    },
    {
      "cell_type": "code",
      "execution_count": null,
      "id": "968c3dc8-467a-40cc-9f65-2a197b2032eb",
      "metadata": {
        "id": "968c3dc8-467a-40cc-9f65-2a197b2032eb",
        "outputId": "8957747a-f829-4e25-e1c1-5647fb71f5c4"
      },
      "outputs": [
        {
          "data": {
            "text/plain": [
              "array([[4, 4],\n",
              "       [7, 8],\n",
              "       [3, 6]])"
            ]
          },
          "execution_count": 133,
          "metadata": {},
          "output_type": "execute_result"
        }
      ],
      "source": [
        "arr1[2:5, 0:2]"
      ]
    },
    {
      "cell_type": "code",
      "execution_count": null,
      "id": "522e189a-2eb6-4f63-9c70-00626f5b78a6",
      "metadata": {
        "id": "522e189a-2eb6-4f63-9c70-00626f5b78a6"
      },
      "outputs": [],
      "source": [
        "#mathematical operations on two arrays\n",
        "arr1 = np.random.randint(1, 3, (3,3))\n",
        "arr2 = np.random.randint(1, 3, (3,3))"
      ]
    },
    {
      "cell_type": "code",
      "execution_count": null,
      "id": "fd96ce73-8a27-4954-9b1a-3deeec887f31",
      "metadata": {
        "id": "fd96ce73-8a27-4954-9b1a-3deeec887f31",
        "outputId": "91f341c6-656c-4052-c9ab-ff8ca63069aa"
      },
      "outputs": [
        {
          "data": {
            "text/plain": [
              "array([[2, 1, 2],\n",
              "       [1, 1, 1],\n",
              "       [1, 2, 2]])"
            ]
          },
          "execution_count": 136,
          "metadata": {},
          "output_type": "execute_result"
        }
      ],
      "source": [
        "arr1"
      ]
    },
    {
      "cell_type": "code",
      "execution_count": null,
      "id": "51812d10-e178-435d-93ee-5b557bce04dd",
      "metadata": {
        "id": "51812d10-e178-435d-93ee-5b557bce04dd",
        "outputId": "863bf133-8b55-4925-a89f-248a6931d06b"
      },
      "outputs": [
        {
          "data": {
            "text/plain": [
              "array([[1, 1, 2],\n",
              "       [1, 1, 2],\n",
              "       [2, 2, 2]])"
            ]
          },
          "execution_count": 137,
          "metadata": {},
          "output_type": "execute_result"
        }
      ],
      "source": [
        "arr2"
      ]
    },
    {
      "cell_type": "code",
      "execution_count": null,
      "id": "639a8863-05ae-4e46-9699-c43d00537a52",
      "metadata": {
        "id": "639a8863-05ae-4e46-9699-c43d00537a52",
        "outputId": "bb524e74-253a-4c8f-c423-f8e7064462f8"
      },
      "outputs": [
        {
          "data": {
            "text/plain": [
              "array([[3, 2, 4],\n",
              "       [2, 2, 3],\n",
              "       [3, 4, 4]])"
            ]
          },
          "execution_count": 138,
          "metadata": {},
          "output_type": "execute_result"
        }
      ],
      "source": [
        "arr1+arr2 #indexwise element addition"
      ]
    },
    {
      "cell_type": "code",
      "execution_count": null,
      "id": "dda8d641-c0c0-4998-aaa5-6787d5eac1bb",
      "metadata": {
        "id": "dda8d641-c0c0-4998-aaa5-6787d5eac1bb",
        "outputId": "534b0b08-c1ad-4b18-9669-75c86a5793fe"
      },
      "outputs": [
        {
          "data": {
            "text/plain": [
              "array([[ 1,  0,  0],\n",
              "       [ 0,  0, -1],\n",
              "       [-1,  0,  0]])"
            ]
          },
          "execution_count": 139,
          "metadata": {},
          "output_type": "execute_result"
        }
      ],
      "source": [
        "arr1-arr2"
      ]
    },
    {
      "cell_type": "code",
      "execution_count": null,
      "id": "f378faed-7133-4251-b4aa-540dccc2e76b",
      "metadata": {
        "id": "f378faed-7133-4251-b4aa-540dccc2e76b",
        "outputId": "9eeccc19-b5de-490c-a8eb-3d47b4c93515"
      },
      "outputs": [
        {
          "data": {
            "text/plain": [
              "array([[2, 1, 4],\n",
              "       [1, 1, 2],\n",
              "       [2, 4, 4]])"
            ]
          },
          "execution_count": 140,
          "metadata": {},
          "output_type": "execute_result"
        }
      ],
      "source": [
        "arr1 * arr2 #index wise multiplication"
      ]
    },
    {
      "cell_type": "code",
      "execution_count": null,
      "id": "d33b6384-e59d-41a5-9172-34fa4f299008",
      "metadata": {
        "id": "d33b6384-e59d-41a5-9172-34fa4f299008",
        "outputId": "e55c13de-3e2f-4174-b6da-eec7391466cd"
      },
      "outputs": [
        {
          "data": {
            "text/plain": [
              "(array([[2, 1, 2],\n",
              "        [1, 1, 1],\n",
              "        [1, 2, 2]]),\n",
              " array([[1, 1, 2],\n",
              "        [1, 1, 2],\n",
              "        [2, 2, 2]]))"
            ]
          },
          "execution_count": 141,
          "metadata": {},
          "output_type": "execute_result"
        }
      ],
      "source": [
        "arr1, arr2"
      ]
    },
    {
      "cell_type": "code",
      "execution_count": null,
      "id": "e8a583f3-0331-4eae-8b47-66be269bbddc",
      "metadata": {
        "id": "e8a583f3-0331-4eae-8b47-66be269bbddc",
        "outputId": "0a3e39d7-0e3b-4ecd-c3d7-f3d761b6dad7"
      },
      "outputs": [
        {
          "data": {
            "text/plain": [
              "array([[2. , 1. , 1. ],\n",
              "       [1. , 1. , 0.5],\n",
              "       [0.5, 1. , 1. ]])"
            ]
          },
          "execution_count": 142,
          "metadata": {},
          "output_type": "execute_result"
        }
      ],
      "source": [
        "arr1/arr2 #index wise divison"
      ]
    },
    {
      "cell_type": "code",
      "execution_count": null,
      "id": "c556da28-b16a-439a-9a14-ad704e2eb4b3",
      "metadata": {
        "id": "c556da28-b16a-439a-9a14-ad704e2eb4b3",
        "outputId": "20b9c17c-5953-47b7-a723-9aa31e7296cb"
      },
      "outputs": [
        {
          "ename": "ZeroDivisionError",
          "evalue": "division by zero",
          "output_type": "error",
          "traceback": [
            "\u001b[0;31m---------------------------------------------------------------------------\u001b[0m",
            "\u001b[0;31mZeroDivisionError\u001b[0m                         Traceback (most recent call last)",
            "Cell \u001b[0;32mIn[143], line 1\u001b[0m\n\u001b[0;32m----> 1\u001b[0m \u001b[38;5;241;43m4\u001b[39;49m\u001b[38;5;241;43m/\u001b[39;49m\u001b[38;5;241;43m0\u001b[39;49m\n",
            "\u001b[0;31mZeroDivisionError\u001b[0m: division by zero"
          ]
        }
      ],
      "source": [
        "4/0"
      ]
    },
    {
      "cell_type": "code",
      "execution_count": null,
      "id": "3642b72e-d4b5-47f8-a74e-6cb0be4100df",
      "metadata": {
        "id": "3642b72e-d4b5-47f8-a74e-6cb0be4100df",
        "outputId": "37d382c6-a4c9-4851-89d3-87521983def0"
      },
      "outputs": [
        {
          "name": "stderr",
          "output_type": "stream",
          "text": [
            "/tmp/ipykernel_525/1510032488.py:1: RuntimeWarning: divide by zero encountered in divide\n",
            "  arr1/0\n"
          ]
        },
        {
          "data": {
            "text/plain": [
              "array([[inf, inf, inf],\n",
              "       [inf, inf, inf],\n",
              "       [inf, inf, inf]])"
            ]
          },
          "execution_count": 144,
          "metadata": {},
          "output_type": "execute_result"
        }
      ],
      "source": [
        "arr1/0"
      ]
    },
    {
      "cell_type": "code",
      "execution_count": null,
      "id": "6084f53b-2293-4b9f-9c76-c703456ed3c5",
      "metadata": {
        "id": "6084f53b-2293-4b9f-9c76-c703456ed3c5",
        "outputId": "7451b8c5-f413-4888-d24d-f2ac4108cd38"
      },
      "outputs": [
        {
          "data": {
            "text/plain": [
              "array([[2, 1, 2],\n",
              "       [1, 1, 1],\n",
              "       [1, 2, 2]])"
            ]
          },
          "execution_count": 145,
          "metadata": {},
          "output_type": "execute_result"
        }
      ],
      "source": [
        "arr1"
      ]
    },
    {
      "cell_type": "code",
      "execution_count": null,
      "id": "3a4605e1-7252-4000-b4a4-779c46c4598f",
      "metadata": {
        "id": "3a4605e1-7252-4000-b4a4-779c46c4598f"
      },
      "outputs": [],
      "source": [
        "#matrix multiplication >>matrix is a specialised 2-d array\n",
        "#matrix multiplication is different from index wise multiplication"
      ]
    },
    {
      "cell_type": "code",
      "execution_count": null,
      "id": "66198e30-b70e-4e4f-a04f-e0446a8068a1",
      "metadata": {
        "id": "66198e30-b70e-4e4f-a04f-e0446a8068a1",
        "outputId": "b5aa9384-cf26-4dac-dcce-911b1b05bafe"
      },
      "outputs": [
        {
          "data": {
            "text/plain": [
              "array([[ 7,  7, 10],\n",
              "       [ 4,  4,  6],\n",
              "       [ 7,  7, 10]])"
            ]
          },
          "execution_count": 147,
          "metadata": {},
          "output_type": "execute_result"
        }
      ],
      "source": [
        "arr1 @ arr2"
      ]
    },
    {
      "cell_type": "code",
      "execution_count": null,
      "id": "83a8724b-3ac5-4927-b557-993ef95b3c5a",
      "metadata": {
        "id": "83a8724b-3ac5-4927-b557-993ef95b3c5a",
        "outputId": "0926d89e-4428-4036-e069-435fc82eb5ab"
      },
      "outputs": [
        {
          "data": {
            "text/plain": [
              "array([[ 7,  7, 10],\n",
              "       [ 4,  4,  6],\n",
              "       [ 7,  7, 10]])"
            ]
          },
          "execution_count": 149,
          "metadata": {},
          "output_type": "execute_result"
        }
      ],
      "source": [
        "np.dot(arr1, arr2) #another way of matrix multiplication"
      ]
    },
    {
      "cell_type": "code",
      "execution_count": null,
      "id": "2d4e1615-074b-4cf7-84f0-3c7312bbebee",
      "metadata": {
        "id": "2d4e1615-074b-4cf7-84f0-3c7312bbebee",
        "outputId": "832a982b-1616-4250-e242-4b0658793555"
      },
      "outputs": [
        {
          "data": {
            "text/plain": [
              "array([[2, 1, 4],\n",
              "       [1, 1, 2],\n",
              "       [2, 4, 4]])"
            ]
          },
          "execution_count": 148,
          "metadata": {},
          "output_type": "execute_result"
        }
      ],
      "source": [
        "arr1 * arr2"
      ]
    },
    {
      "cell_type": "code",
      "execution_count": null,
      "id": "50c38267-69f5-4ea5-980a-0d07d4a3f62c",
      "metadata": {
        "id": "50c38267-69f5-4ea5-980a-0d07d4a3f62c"
      },
      "outputs": [],
      "source": [
        "#broadcasting"
      ]
    },
    {
      "cell_type": "code",
      "execution_count": null,
      "id": "947b0c8f-75ab-4b10-be65-6b584c14db29",
      "metadata": {
        "id": "947b0c8f-75ab-4b10-be65-6b584c14db29"
      },
      "outputs": [],
      "source": [
        "arr = np.zeros((3, 4))"
      ]
    },
    {
      "cell_type": "code",
      "execution_count": null,
      "id": "b70a119a-00b3-4ce7-a642-823a6735351d",
      "metadata": {
        "id": "b70a119a-00b3-4ce7-a642-823a6735351d",
        "outputId": "759465bc-2313-4385-c1f9-d18b7db953a9"
      },
      "outputs": [
        {
          "data": {
            "text/plain": [
              "array([[0., 0., 0., 0.],\n",
              "       [0., 0., 0., 0.],\n",
              "       [0., 0., 0., 0.]])"
            ]
          },
          "execution_count": 151,
          "metadata": {},
          "output_type": "execute_result"
        }
      ],
      "source": [
        "arr"
      ]
    },
    {
      "cell_type": "code",
      "execution_count": null,
      "id": "e7f5bcaa-78e3-42b2-a93a-015c8841c4c0",
      "metadata": {
        "id": "e7f5bcaa-78e3-42b2-a93a-015c8841c4c0",
        "outputId": "337156f9-2086-4d70-9371-ff2c35b39892"
      },
      "outputs": [
        {
          "data": {
            "text/plain": [
              "array([[5., 5., 5., 5.],\n",
              "       [5., 5., 5., 5.],\n",
              "       [5., 5., 5., 5.]])"
            ]
          },
          "execution_count": 152,
          "metadata": {},
          "output_type": "execute_result"
        }
      ],
      "source": [
        "arr+5"
      ]
    },
    {
      "cell_type": "code",
      "execution_count": null,
      "id": "63b06b1f-5155-4367-9a91-0f9d2454c0bc",
      "metadata": {
        "id": "63b06b1f-5155-4367-9a91-0f9d2454c0bc",
        "outputId": "0c6549ed-ad51-42b1-8d8b-c7a46bbc7d64"
      },
      "outputs": [
        {
          "data": {
            "text/plain": [
              "array([[-5., -5., -5., -5.],\n",
              "       [-5., -5., -5., -5.],\n",
              "       [-5., -5., -5., -5.]])"
            ]
          },
          "execution_count": 153,
          "metadata": {},
          "output_type": "execute_result"
        }
      ],
      "source": [
        "arr-5"
      ]
    },
    {
      "cell_type": "code",
      "execution_count": null,
      "id": "9f7584bb-ce2f-4e82-8254-9a5608e38153",
      "metadata": {
        "id": "9f7584bb-ce2f-4e82-8254-9a5608e38153"
      },
      "outputs": [],
      "source": [
        "a = np.array([1, 2, 3, 4])"
      ]
    },
    {
      "cell_type": "code",
      "execution_count": null,
      "id": "820e1edf-0998-46ad-9538-078bbe55ba91",
      "metadata": {
        "id": "820e1edf-0998-46ad-9538-078bbe55ba91",
        "outputId": "000d7b9e-4b00-4b77-bd08-e9474c86c1f2"
      },
      "outputs": [
        {
          "data": {
            "text/plain": [
              "array([1, 2, 3, 4])"
            ]
          },
          "execution_count": 155,
          "metadata": {},
          "output_type": "execute_result"
        }
      ],
      "source": [
        "a"
      ]
    },
    {
      "cell_type": "code",
      "execution_count": null,
      "id": "4526dbc6-1405-4607-8ad4-ccb50564451e",
      "metadata": {
        "id": "4526dbc6-1405-4607-8ad4-ccb50564451e",
        "outputId": "c296e0f4-ae74-40f4-92f4-007423e80fb5"
      },
      "outputs": [
        {
          "data": {
            "text/plain": [
              "array([[0., 0., 0., 0.],\n",
              "       [0., 0., 0., 0.],\n",
              "       [0., 0., 0., 0.]])"
            ]
          },
          "execution_count": 156,
          "metadata": {},
          "output_type": "execute_result"
        }
      ],
      "source": [
        "arr"
      ]
    },
    {
      "cell_type": "code",
      "execution_count": null,
      "id": "85c67b74-e7ce-47ce-8ba7-e056ac50406c",
      "metadata": {
        "id": "85c67b74-e7ce-47ce-8ba7-e056ac50406c",
        "outputId": "05f5ade6-112f-47a6-efa2-a172a58281d5"
      },
      "outputs": [
        {
          "data": {
            "text/plain": [
              "array([[1., 2., 3., 4.],\n",
              "       [1., 2., 3., 4.],\n",
              "       [1., 2., 3., 4.]])"
            ]
          },
          "execution_count": 157,
          "metadata": {},
          "output_type": "execute_result"
        }
      ],
      "source": [
        "arr+a"
      ]
    },
    {
      "cell_type": "code",
      "execution_count": null,
      "id": "d0d193b0-89a5-4c7b-a8cc-064a5ae38d9e",
      "metadata": {
        "id": "d0d193b0-89a5-4c7b-a8cc-064a5ae38d9e"
      },
      "outputs": [],
      "source": [
        "a = np.array([[1, 2, 3, 4]])"
      ]
    },
    {
      "cell_type": "code",
      "execution_count": null,
      "id": "9c3638f3-fe14-41a3-8afc-69b7072c5d98",
      "metadata": {
        "id": "9c3638f3-fe14-41a3-8afc-69b7072c5d98"
      },
      "outputs": [],
      "source": [
        "#Transpose>> converting rows to columns and columns to rows"
      ]
    },
    {
      "cell_type": "code",
      "execution_count": null,
      "id": "67837ec7-e3a7-4a1d-8ee3-14a593e26d85",
      "metadata": {
        "id": "67837ec7-e3a7-4a1d-8ee3-14a593e26d85",
        "outputId": "d896554d-b80f-406a-a272-a129d1556c74"
      },
      "outputs": [
        {
          "data": {
            "text/plain": [
              "array([[1, 2, 3, 4]])"
            ]
          },
          "execution_count": 164,
          "metadata": {},
          "output_type": "execute_result"
        }
      ],
      "source": [
        "a"
      ]
    },
    {
      "cell_type": "code",
      "execution_count": null,
      "id": "7c058fba-a61e-4020-993c-34c065708969",
      "metadata": {
        "id": "7c058fba-a61e-4020-993c-34c065708969",
        "outputId": "aa08ccdf-1bce-45d2-b2f9-d819661f2606"
      },
      "outputs": [
        {
          "data": {
            "text/plain": [
              "array([1, 2, 3, 4])"
            ]
          },
          "execution_count": 162,
          "metadata": {},
          "output_type": "execute_result"
        }
      ],
      "source": [
        "a.T"
      ]
    },
    {
      "cell_type": "code",
      "execution_count": null,
      "id": "11759103-97ee-427c-8b5d-588181dd8237",
      "metadata": {
        "id": "11759103-97ee-427c-8b5d-588181dd8237"
      },
      "outputs": [],
      "source": []
    }
  ],
  "metadata": {
    "kernelspec": {
      "display_name": "Python 3 (ipykernel)",
      "language": "python",
      "name": "python3"
    },
    "language_info": {
      "codemirror_mode": {
        "name": "ipython",
        "version": 3
      },
      "file_extension": ".py",
      "mimetype": "text/x-python",
      "name": "python",
      "nbconvert_exporter": "python",
      "pygments_lexer": "ipython3",
      "version": "3.10.8"
    },
    "colab": {
      "provenance": []
    }
  },
  "nbformat": 4,
  "nbformat_minor": 5
}