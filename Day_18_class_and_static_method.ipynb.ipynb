{
  "cells": [
    {
      "cell_type": "code",
      "execution_count": null,
      "id": "74e61e34-63c7-4789-97cc-c36fc03abab8",
      "metadata": {
        "id": "74e61e34-63c7-4789-97cc-c36fc03abab8"
      },
      "outputs": [],
      "source": [
        "#class methods >> bound to the class (and not to a particular instance of the class), access/modify methods\n",
        "#and attributes associated to class accross all the instances\n",
        "#@classmethod decorator\n",
        "#instead of self, cls as first parameter\n",
        "#alternative of init method to pass the data"
      ]
    },
    {
      "cell_type": "code",
      "execution_count": null,
      "id": "bb2266b7-8cda-42fe-9efa-08e6cc73b89c",
      "metadata": {
        "id": "bb2266b7-8cda-42fe-9efa-08e6cc73b89c"
      },
      "outputs": [],
      "source": [
        "class Student:\n",
        "    #constructor >> constructing class with initialisation of variables/data\n",
        "    def __init__(self, name):\n",
        "        self.name = name"
      ]
    },
    {
      "cell_type": "code",
      "execution_count": null,
      "id": "3b62057b-36b9-42a7-9c93-ba6cd07bc4c6",
      "metadata": {
        "id": "3b62057b-36b9-42a7-9c93-ba6cd07bc4c6"
      },
      "outputs": [],
      "source": [
        "obj = Student(\"Ajay\")"
      ]
    },
    {
      "cell_type": "code",
      "execution_count": null,
      "id": "8b10f077-0d02-4b40-938f-888bcf286a1e",
      "metadata": {
        "id": "8b10f077-0d02-4b40-938f-888bcf286a1e",
        "outputId": "4dc8c0da-c22a-4c09-ce5d-66d6a32240ff"
      },
      "outputs": [
        {
          "data": {
            "text/plain": [
              "'Ajay'"
            ]
          },
          "execution_count": 4,
          "metadata": {},
          "output_type": "execute_result"
        }
      ],
      "source": [
        "obj.name"
      ]
    },
    {
      "cell_type": "code",
      "execution_count": null,
      "id": "eeeeb1c2-1e08-4a31-bb9f-3348ad491fea",
      "metadata": {
        "id": "eeeeb1c2-1e08-4a31-bb9f-3348ad491fea"
      },
      "outputs": [],
      "source": [
        "class Student:\n",
        "    def __init__(self, name):\n",
        "        self.name = name #self means this variable/method is refererring to current instance of the class\n",
        "\n",
        "    @classmethod #bound/binds to the class\n",
        "    def student_details(cls, name): #instead of self as first param, you are using cls>>meaning this method is associated/referring to the class itself\n",
        "        return cls(name)"
      ]
    },
    {
      "cell_type": "code",
      "execution_count": null,
      "id": "07cf9cd7-098a-44ed-a0f4-ddc4e1506513",
      "metadata": {
        "id": "07cf9cd7-098a-44ed-a0f4-ddc4e1506513"
      },
      "outputs": [],
      "source": [
        "#what is the meaning that it is referring the class?\n",
        "#earlier to access any method/attribute>>first make instance/object of class\n",
        "#then obj.attribute\n",
        "#but if it is class method you can directly access it"
      ]
    },
    {
      "cell_type": "code",
      "execution_count": null,
      "id": "f1570315-a0b7-416c-8c71-d6acc270e930",
      "metadata": {
        "id": "f1570315-a0b7-416c-8c71-d6acc270e930"
      },
      "outputs": [],
      "source": [
        "obj1 = Student.student_details(\"Ajay\") #since student_details directly binds to the class you can directly call it without making any object"
      ]
    },
    {
      "cell_type": "code",
      "execution_count": null,
      "id": "f0711348-4bf1-447a-89d5-70a84231d640",
      "metadata": {
        "id": "f0711348-4bf1-447a-89d5-70a84231d640",
        "outputId": "61bedde5-ccf6-4fca-e1d8-768bf20a1b1e"
      },
      "outputs": [
        {
          "data": {
            "text/plain": [
              "'Ajay'"
            ]
          },
          "execution_count": 11,
          "metadata": {},
          "output_type": "execute_result"
        }
      ],
      "source": [
        "obj1.name"
      ]
    },
    {
      "cell_type": "code",
      "execution_count": null,
      "id": "3dbe8679-0717-4a17-b4fa-0f6a74faac18",
      "metadata": {
        "id": "3dbe8679-0717-4a17-b4fa-0f6a74faac18"
      },
      "outputs": [],
      "source": [
        "#seeing class method as alternative of init method >> actually class method is overloading the init method\n"
      ]
    },
    {
      "cell_type": "code",
      "execution_count": null,
      "id": "629a3bfc-af98-46bc-af8c-ab481d020dd0",
      "metadata": {
        "id": "629a3bfc-af98-46bc-af8c-ab481d020dd0"
      },
      "outputs": [],
      "source": [
        "#how class method is overloading the init method?\n",
        "#modifying the instance method\n",
        "class Student:\n",
        "    def __init__(self, name): #init method is an instance method\n",
        "        self.name = name\n",
        "\n",
        "    @classmethod\n",
        "    def student_details(cls, name1):\n",
        "        return cls(name1)"
      ]
    },
    {
      "cell_type": "code",
      "execution_count": null,
      "id": "ed8cd786-3899-439b-b7ae-828c1d55980d",
      "metadata": {
        "id": "ed8cd786-3899-439b-b7ae-828c1d55980d"
      },
      "outputs": [],
      "source": [
        "stud = Student.student_details(\"Ajay\")"
      ]
    },
    {
      "cell_type": "code",
      "execution_count": null,
      "id": "06ab17f2-e796-4f31-9354-bdd8cc8526d8",
      "metadata": {
        "id": "06ab17f2-e796-4f31-9354-bdd8cc8526d8",
        "outputId": "4985159f-a85e-4a6e-d9b0-4ef0979782cc"
      },
      "outputs": [
        {
          "data": {
            "text/plain": [
              "'Ajay'"
            ]
          },
          "execution_count": 16,
          "metadata": {},
          "output_type": "execute_result"
        }
      ],
      "source": [
        "stud.name\n",
        "#you will get Ajay inspite the variable name1\n",
        "#because it is overloading the init method>> alternative of init method"
      ]
    },
    {
      "cell_type": "code",
      "execution_count": null,
      "id": "5b70ffb5-7fb0-49c5-ad51-9e122f610753",
      "metadata": {
        "id": "5b70ffb5-7fb0-49c5-ad51-9e122f610753"
      },
      "outputs": [],
      "source": [
        "#class method can modify class state applicable to all the instances of the class\n",
        "class Student:\n",
        "\n",
        "    total_students = 0 #class variable\n",
        "    def __init__(self, name):#instance method\n",
        "        self.name = name #instance variable\n",
        "        Student.total_students = Student.total_students+1 #total_student is the class variable associated with all the instances\n",
        "\n",
        "    @classmethod\n",
        "    def get_total_students(cls):\n",
        "        return cls.total_students"
      ]
    },
    {
      "cell_type": "code",
      "execution_count": null,
      "id": "989256bb-7bd1-49b0-81df-1bb0b78cf9b0",
      "metadata": {
        "id": "989256bb-7bd1-49b0-81df-1bb0b78cf9b0",
        "outputId": "d0560926-1ae0-40f5-cbc3-6253f9cf0ca6"
      },
      "outputs": [
        {
          "data": {
            "text/plain": [
              "0"
            ]
          },
          "execution_count": 18,
          "metadata": {},
          "output_type": "execute_result"
        }
      ],
      "source": [
        "Student.total_students"
      ]
    },
    {
      "cell_type": "code",
      "execution_count": null,
      "id": "8bdd1188-e361-4cfb-89e9-97410bdcb724",
      "metadata": {
        "id": "8bdd1188-e361-4cfb-89e9-97410bdcb724"
      },
      "outputs": [],
      "source": [
        "std1 = Student(\"Ajay\")\n",
        "std2 = Student(\"Bijay\")"
      ]
    },
    {
      "cell_type": "code",
      "execution_count": null,
      "id": "ceea382b-9416-4d3d-94d0-15e1086436ae",
      "metadata": {
        "id": "ceea382b-9416-4d3d-94d0-15e1086436ae",
        "outputId": "e794670d-7769-4c93-a408-e6ca006a6e37"
      },
      "outputs": [
        {
          "data": {
            "text/plain": [
              "'Ajay'"
            ]
          },
          "execution_count": 21,
          "metadata": {},
          "output_type": "execute_result"
        }
      ],
      "source": [
        "std1.name"
      ]
    },
    {
      "cell_type": "code",
      "execution_count": null,
      "id": "00ec5060-086d-4712-a667-1e6a2485ab5f",
      "metadata": {
        "id": "00ec5060-086d-4712-a667-1e6a2485ab5f",
        "outputId": "e610728f-e3a8-44b8-be41-ffc7fe5ecd26"
      },
      "outputs": [
        {
          "data": {
            "text/plain": [
              "'Bijay'"
            ]
          },
          "execution_count": 22,
          "metadata": {},
          "output_type": "execute_result"
        }
      ],
      "source": [
        "std2.name"
      ]
    },
    {
      "cell_type": "code",
      "execution_count": null,
      "id": "a2985dce-08a7-40e0-89d7-73f37a4e65d9",
      "metadata": {
        "id": "a2985dce-08a7-40e0-89d7-73f37a4e65d9",
        "outputId": "91fbea2b-4239-4f3f-c0bb-f5a3344b2b8c"
      },
      "outputs": [
        {
          "data": {
            "text/plain": [
              "2"
            ]
          },
          "execution_count": 23,
          "metadata": {},
          "output_type": "execute_result"
        }
      ],
      "source": [
        "Student.total_students"
      ]
    },
    {
      "cell_type": "code",
      "execution_count": null,
      "id": "af87854d-06db-429b-804b-fd0a14b670fd",
      "metadata": {
        "id": "af87854d-06db-429b-804b-fd0a14b670fd",
        "outputId": "0201ea53-4402-410e-ade7-c64d40a7ec92"
      },
      "outputs": [
        {
          "data": {
            "text/plain": [
              "2"
            ]
          },
          "execution_count": 25,
          "metadata": {},
          "output_type": "execute_result"
        }
      ],
      "source": [
        "Student.get_total_students() #class method can modify class state applicable to all the instances of the class\n",
        "#thats why you see increase in the count"
      ]
    },
    {
      "cell_type": "code",
      "execution_count": null,
      "id": "9411bdca-c26f-4332-8c21-26062a5fe68f",
      "metadata": {
        "id": "9411bdca-c26f-4332-8c21-26062a5fe68f"
      },
      "outputs": [],
      "source": [
        "#To make external function as class method\n",
        "\n",
        "class Student:\n",
        "\n",
        "    total_students = 0 #class variable\n",
        "    def __init__(self, name):#instance method\n",
        "        self.name = name #instance variable\n",
        "        Student.total_students = Student.total_students+1 #total_student is the class variable associated with all the instances\n",
        "\n",
        "    @classmethod\n",
        "    def get_total_students(cls):\n",
        "        return cls.total_students"
      ]
    },
    {
      "cell_type": "code",
      "execution_count": null,
      "id": "47ef1e82-6836-497f-a6bc-fc8b131c37bd",
      "metadata": {
        "id": "47ef1e82-6836-497f-a6bc-fc8b131c37bd"
      },
      "outputs": [],
      "source": [
        "def course_details(cls, course_name):\n",
        "    print(\"The details of the course are :\", course_name)"
      ]
    },
    {
      "cell_type": "code",
      "execution_count": null,
      "id": "790963e9-4019-4900-a71f-d1b1a40c5c8d",
      "metadata": {
        "id": "790963e9-4019-4900-a71f-d1b1a40c5c8d"
      },
      "outputs": [],
      "source": [
        "Student.course_details = classmethod(course_details) #adding external function as class method"
      ]
    },
    {
      "cell_type": "code",
      "execution_count": null,
      "id": "9e2ae204-151a-4c96-a701-95403607b18c",
      "metadata": {
        "id": "9e2ae204-151a-4c96-a701-95403607b18c",
        "outputId": "29eaaa9a-7c17-4259-fc4d-58786c717dc3"
      },
      "outputs": [
        {
          "name": "stdout",
          "output_type": "stream",
          "text": [
            "The details of the course are : Data Science\n"
          ]
        }
      ],
      "source": [
        "Student.course_details(\"Data Science\")"
      ]
    },
    {
      "cell_type": "code",
      "execution_count": null,
      "id": "23877bfa-95d7-4e64-8c80-ae6bc4dd209e",
      "metadata": {
        "id": "23877bfa-95d7-4e64-8c80-ae6bc4dd209e"
      },
      "outputs": [],
      "source": [
        "#delete any class method\n",
        "del Student.course_details"
      ]
    },
    {
      "cell_type": "code",
      "execution_count": null,
      "id": "c58f8229-c9d1-44d5-8c65-d0035eca0d13",
      "metadata": {
        "id": "c58f8229-c9d1-44d5-8c65-d0035eca0d13",
        "outputId": "82e149c7-81d5-4f45-f893-ca7e8b7374d0"
      },
      "outputs": [
        {
          "ename": "AttributeError",
          "evalue": "type object 'Student' has no attribute 'course_details'",
          "output_type": "error",
          "traceback": [
            "\u001b[0;31m---------------------------------------------------------------------------\u001b[0m",
            "\u001b[0;31mAttributeError\u001b[0m                            Traceback (most recent call last)",
            "Cell \u001b[0;32mIn[31], line 1\u001b[0m\n\u001b[0;32m----> 1\u001b[0m \u001b[43mStudent\u001b[49m\u001b[38;5;241;43m.\u001b[39;49m\u001b[43mcourse_details\u001b[49m(\u001b[38;5;124m\"\u001b[39m\u001b[38;5;124mData Science\u001b[39m\u001b[38;5;124m\"\u001b[39m) \u001b[38;5;66;03m#this will throw an error as you have deleted this methid\u001b[39;00m\n",
            "\u001b[0;31mAttributeError\u001b[0m: type object 'Student' has no attribute 'course_details'"
          ]
        }
      ],
      "source": [
        "Student.course_details(\"Data Science\") #this will throw an error as you have deleted this methid"
      ]
    },
    {
      "cell_type": "code",
      "execution_count": null,
      "id": "ab6f394e-ef1d-40c4-8e51-0ae5e246f1f3",
      "metadata": {
        "id": "ab6f394e-ef1d-40c4-8e51-0ae5e246f1f3",
        "outputId": "42ef8d5d-33f5-4492-ce3d-c6dc510ccdd7"
      },
      "outputs": [
        {
          "data": {
            "text/plain": [
              "0"
            ]
          },
          "execution_count": 32,
          "metadata": {},
          "output_type": "execute_result"
        }
      ],
      "source": [
        "Student.get_total_students()"
      ]
    },
    {
      "cell_type": "code",
      "execution_count": null,
      "id": "633c76f8-2546-4566-8ea0-1f1dd3dc7485",
      "metadata": {
        "id": "633c76f8-2546-4566-8ea0-1f1dd3dc7485"
      },
      "outputs": [],
      "source": [
        "#another way to delete\n",
        "delattr(Student, \"get_total_students\")"
      ]
    },
    {
      "cell_type": "code",
      "execution_count": null,
      "id": "ef69962b-945e-4b75-83b3-a5c0de63cff3",
      "metadata": {
        "id": "ef69962b-945e-4b75-83b3-a5c0de63cff3",
        "outputId": "5e7b40a3-a0f2-4a47-cca7-e81f87f09941"
      },
      "outputs": [
        {
          "ename": "AttributeError",
          "evalue": "type object 'Student' has no attribute 'get_total_students'",
          "output_type": "error",
          "traceback": [
            "\u001b[0;31m---------------------------------------------------------------------------\u001b[0m",
            "\u001b[0;31mAttributeError\u001b[0m                            Traceback (most recent call last)",
            "Cell \u001b[0;32mIn[34], line 1\u001b[0m\n\u001b[0;32m----> 1\u001b[0m \u001b[43mStudent\u001b[49m\u001b[38;5;241;43m.\u001b[39;49m\u001b[43mget_total_students\u001b[49m() \u001b[38;5;66;03m#error\u001b[39;00m\n",
            "\u001b[0;31mAttributeError\u001b[0m: type object 'Student' has no attribute 'get_total_students'"
          ]
        }
      ],
      "source": [
        "Student.get_total_students() #error"
      ]
    },
    {
      "cell_type": "code",
      "execution_count": null,
      "id": "8ab628aa-81be-4b21-80c5-20af221240e3",
      "metadata": {
        "id": "8ab628aa-81be-4b21-80c5-20af221240e3"
      },
      "outputs": [],
      "source": [
        "#Static method\n",
        "#doesnot modify class or instance state, doesnt access instance or class state\n",
        "#doesnt depend on class/instance\n",
        "#it behaves like a plain function that belongs to class\n",
        "#it doesn't take either self or cls\n",
        "#@static method is used\n",
        "#works with parameter passed"
      ]
    },
    {
      "cell_type": "code",
      "execution_count": null,
      "id": "04ff277d-43ad-47e7-ab1d-9249ea640701",
      "metadata": {
        "id": "04ff277d-43ad-47e7-ab1d-9249ea640701"
      },
      "outputs": [],
      "source": [
        "class Calculator:\n",
        "\n",
        "    @staticmethod\n",
        "    def add(x, y):\n",
        "        return x+y\n",
        "\n",
        "    @staticmethod\n",
        "    def subtract(x,y):\n",
        "        return x-y"
      ]
    },
    {
      "cell_type": "code",
      "execution_count": null,
      "id": "e605a502-5608-4352-a695-3f012c43f53c",
      "metadata": {
        "id": "e605a502-5608-4352-a695-3f012c43f53c",
        "outputId": "29fecdb7-62bd-4c4e-e9bf-7d1092fc4336"
      },
      "outputs": [
        {
          "data": {
            "text/plain": [
              "11"
            ]
          },
          "execution_count": 37,
          "metadata": {},
          "output_type": "execute_result"
        }
      ],
      "source": [
        "Calculator.add(5, 6)"
      ]
    },
    {
      "cell_type": "code",
      "execution_count": null,
      "id": "9d6a6c9e-aa42-451e-b62c-4d92c9b4b847",
      "metadata": {
        "id": "9d6a6c9e-aa42-451e-b62c-4d92c9b4b847",
        "outputId": "1f3a1f33-0a51-4489-815d-40bf307963b9"
      },
      "outputs": [
        {
          "data": {
            "text/plain": [
              "5"
            ]
          },
          "execution_count": 39,
          "metadata": {},
          "output_type": "execute_result"
        }
      ],
      "source": [
        "Calculator.subtract(10, 5)"
      ]
    },
    {
      "cell_type": "code",
      "execution_count": null,
      "id": "8b61997d-81e2-47b6-8f1b-8d32c4f1d970",
      "metadata": {
        "id": "8b61997d-81e2-47b6-8f1b-8d32c4f1d970"
      },
      "outputs": [],
      "source": []
    }
  ],
  "metadata": {
    "kernelspec": {
      "display_name": "Python 3 (ipykernel)",
      "language": "python",
      "name": "python3"
    },
    "language_info": {
      "codemirror_mode": {
        "name": "ipython",
        "version": 3
      },
      "file_extension": ".py",
      "mimetype": "text/x-python",
      "name": "python",
      "nbconvert_exporter": "python",
      "pygments_lexer": "ipython3",
      "version": "3.10.8"
    },
    "colab": {
      "provenance": []
    }
  },
  "nbformat": 4,
  "nbformat_minor": 5
}