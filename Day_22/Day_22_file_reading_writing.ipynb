{
  "cells": [
    {
      "cell_type": "code",
      "execution_count": null,
      "id": "a64b6d4c-97d0-4ea0-bb08-7f45886090c2",
      "metadata": {
        "id": "a64b6d4c-97d0-4ea0-bb08-7f45886090c2"
      },
      "outputs": [],
      "source": [
        "text_content = \"\"\"\n",
        "example1\n",
        "example2\n",
        "example3\n",
        "\"\"\""
      ]
    },
    {
      "cell_type": "code",
      "execution_count": null,
      "id": "87e15359-587e-4ce2-9780-1789362f1040",
      "metadata": {
        "id": "87e15359-587e-4ce2-9780-1789362f1040"
      },
      "outputs": [],
      "source": [
        "with open(\"example.txt\", \"w\") as file:\n",
        "    file.write(text_content)"
      ]
    },
    {
      "cell_type": "code",
      "execution_count": null,
      "id": "2ff301d3-6ed6-452f-95b2-b09365bfd621",
      "metadata": {
        "id": "2ff301d3-6ed6-452f-95b2-b09365bfd621",
        "outputId": "092fbb3f-8b6b-4598-d2be-f6aaaeaf3417"
      },
      "outputs": [
        {
          "name": "stdout",
          "output_type": "stream",
          "text": [
            " \n",
            "example1\n",
            "example2\n",
            "example3\n",
            "\n"
          ]
        }
      ],
      "source": [
        "with open(\"example.txt\", \"r\") as file:\n",
        "    data = file.read()\n",
        "print(data)"
      ]
    },
    {
      "cell_type": "code",
      "execution_count": null,
      "id": "981cf3bb-a149-486b-a7f2-c8d03124f76c",
      "metadata": {
        "id": "981cf3bb-a149-486b-a7f2-c8d03124f76c"
      },
      "outputs": [],
      "source": [
        "#csv>>comma separated values file\n",
        "data = [[\"Name\", \"Course\", \"Fee\"],\n",
        "       [\"Ajay\", \"DS\", \"20000\"],\n",
        "       [\"Rahul\", \"DA\", \"30000\"]]"
      ]
    },
    {
      "cell_type": "code",
      "execution_count": null,
      "id": "aaabf30f-5597-48f3-9041-0fe1c5dd8a61",
      "metadata": {
        "id": "aaabf30f-5597-48f3-9041-0fe1c5dd8a61",
        "outputId": "96f6a2b3-498a-4e27-92d9-cc1be3b75f46"
      },
      "outputs": [
        {
          "name": "stdout",
          "output_type": "stream",
          "text": [
            "['Name', 'Course', 'Fee']\n",
            "['Ajay', 'DS', '20000']\n",
            "['Rahul', 'DA', '30000']\n"
          ]
        }
      ],
      "source": [
        "for i in data:\n",
        "    print(i)"
      ]
    },
    {
      "cell_type": "code",
      "execution_count": null,
      "id": "ffeddbd9-a321-4fa7-993e-8bc33aaaee0c",
      "metadata": {
        "id": "ffeddbd9-a321-4fa7-993e-8bc33aaaee0c"
      },
      "outputs": [],
      "source": [
        "import csv\n",
        "with open(\"example_csv.csv\", \"w\") as f:\n",
        "    w = csv.writer(f)\n",
        "    for i in data:\n",
        "        w.writerow(i)"
      ]
    },
    {
      "cell_type": "code",
      "execution_count": null,
      "id": "dc5f528c-639f-4fa0-b34a-37a143aa0679",
      "metadata": {
        "id": "dc5f528c-639f-4fa0-b34a-37a143aa0679",
        "outputId": "989cc4a0-63b7-4310-c87d-a26a024bba3e"
      },
      "outputs": [
        {
          "name": "stdout",
          "output_type": "stream",
          "text": [
            "['Name', 'Course', 'Fee']\n",
            "['Ajay', 'DS', '20000']\n",
            "['Rahul', 'DA', '30000']\n"
          ]
        }
      ],
      "source": [
        "with open(\"example_csv.csv\", 'r') as f:\n",
        "    r = csv.reader(f)\n",
        "    for i in r:\n",
        "        print(i)"
      ]
    },
    {
      "cell_type": "code",
      "execution_count": null,
      "id": "094d45ba-7d4d-4c5b-810a-b1fa2fe3a0be",
      "metadata": {
        "id": "094d45ba-7d4d-4c5b-810a-b1fa2fe3a0be",
        "outputId": "1829bcf0-c1a2-47c5-89b1-52d035da89d8"
      },
      "outputs": [
        {
          "data": {
            "text/plain": [
              "{'name': 'Ajay', 'course': 'DS', 'fee': 2000}"
            ]
          },
          "execution_count": 11,
          "metadata": {},
          "output_type": "execute_result"
        }
      ],
      "source": [
        "#JSON>> Javascript object notation\n",
        "data = {\"name\": \"Ajay\",\n",
        "       \"course\":\"DS\",\n",
        "       \"fee\": 2000}\n",
        "data"
      ]
    },
    {
      "cell_type": "code",
      "execution_count": null,
      "id": "d598b9a0-e084-4b2f-8f57-6996391d1b4c",
      "metadata": {
        "id": "d598b9a0-e084-4b2f-8f57-6996391d1b4c",
        "outputId": "bbbb737f-4806-493a-a4ff-53e9acc8919a"
      },
      "outputs": [
        {
          "data": {
            "text/plain": [
              "dict"
            ]
          },
          "execution_count": 12,
          "metadata": {},
          "output_type": "execute_result"
        }
      ],
      "source": [
        "type(data)"
      ]
    },
    {
      "cell_type": "code",
      "execution_count": null,
      "id": "cabad267-3a6f-40da-a59c-7e397ddd38ca",
      "metadata": {
        "id": "cabad267-3a6f-40da-a59c-7e397ddd38ca"
      },
      "outputs": [],
      "source": [
        "import json\n",
        "with open(\"file_json.json\", \"w\") as f:\n",
        "    json.dump(data, f)"
      ]
    },
    {
      "cell_type": "code",
      "execution_count": null,
      "id": "b37a5b51-5797-4b01-bc2d-954966cc3239",
      "metadata": {
        "id": "b37a5b51-5797-4b01-bc2d-954966cc3239",
        "outputId": "0dd9d5c2-3f71-47d4-9da8-3ffe9efb5848"
      },
      "outputs": [
        {
          "name": "stdout",
          "output_type": "stream",
          "text": [
            "{'name': 'Ajay', 'course': 'DS', 'fee': 2000}\n"
          ]
        }
      ],
      "source": [
        "with open(\"file_json.json\", \"r\") as f:\n",
        "    data = json.load(f)\n",
        "print(data)"
      ]
    },
    {
      "cell_type": "code",
      "execution_count": null,
      "id": "7b514928-9a45-4539-abeb-d57d6fde7839",
      "metadata": {
        "id": "7b514928-9a45-4539-abeb-d57d6fde7839"
      },
      "outputs": [],
      "source": [
        "#write a binary data in a file\n",
        "#wb>>write byte mode\n",
        "with open(\"test_bin.bin\", \"wb\") as f:\n",
        "    f.write(b\"\\x48\\x65\\x6c\\x6c\\x6f\\x2c\\x20\\x57\\x6f\\x72\\x6c\\x64\\x21\")"
      ]
    },
    {
      "cell_type": "code",
      "execution_count": null,
      "id": "05135f38-9509-4068-9194-034e5d8292af",
      "metadata": {
        "id": "05135f38-9509-4068-9194-034e5d8292af",
        "outputId": "4b134ec9-2d43-481c-a50a-4283edfd1fa1"
      },
      "outputs": [
        {
          "name": "stdout",
          "output_type": "stream",
          "text": [
            "b'Hello, World!'\n"
          ]
        }
      ],
      "source": [
        "with open(\"test_bin.bin\", \"rb\") as f:\n",
        "    print(f.read())"
      ]
    },
    {
      "cell_type": "code",
      "execution_count": null,
      "id": "5bac9778-2f75-44e1-b480-d460ccc3a67f",
      "metadata": {
        "id": "5bac9778-2f75-44e1-b480-d460ccc3a67f"
      },
      "outputs": [],
      "source": [
        "#Buffered reading and writing\n",
        "#it alllows the program to read and write data in chunks\n",
        "#it increases teh performance and efficiency"
      ]
    },
    {
      "cell_type": "code",
      "execution_count": null,
      "id": "6fd690e6-84a6-4db1-8362-c3cc4cd71bd5",
      "metadata": {
        "id": "6fd690e6-84a6-4db1-8362-c3cc4cd71bd5"
      },
      "outputs": [],
      "source": [
        "import io\n",
        "with open('test_buf.txt', \"wb\") as f:\n",
        "    file = io.BufferedWriter(f)\n",
        "    file.write(b\"A computer is a machine that can be programmed to automatically carry out sequences of arithmetic or logical operations (computation). Modern digital electronic computers can perform generic sets of operations known as programs. These programs enable computers to perform a wide range of tasks. The term computer system may refer to a nominally complete computer that includes the hardware, operating system, software, and peripheral equipment needed and used for full operation; or to a group of computers that are linked and function together, such as a computer network or computer cluster.\")\n",
        "    file.write(b\"Hello world, how are you?\")\n",
        "    file.write(b\"I am studying ds\")\n",
        "    file.flush()"
      ]
    },
    {
      "cell_type": "code",
      "execution_count": null,
      "id": "d19a5516-203b-4ccd-929a-afbcae352307",
      "metadata": {
        "id": "d19a5516-203b-4ccd-929a-afbcae352307",
        "outputId": "41fe1dc5-ffc3-42de-d779-b22596d183af"
      },
      "outputs": [
        {
          "name": "stdout",
          "output_type": "stream",
          "text": [
            "b'A computer is a machine that can be programmed to automatically carry out sequences of arithmetic or logical operations (computation). Modern digital '\n"
          ]
        }
      ],
      "source": [
        "with open('test_buf.txt', \"rb\") as f:\n",
        "    file = io.BufferedReader(f)\n",
        "    data = file.read(150) #read the first chunk of 100 bytes\n",
        "    print(data)"
      ]
    },
    {
      "cell_type": "code",
      "execution_count": null,
      "id": "8c4bc833-c470-43af-b57f-7a59bc450f51",
      "metadata": {
        "id": "8c4bc833-c470-43af-b57f-7a59bc450f51"
      },
      "outputs": [],
      "source": []
    }
  ],
  "metadata": {
    "kernelspec": {
      "display_name": "Python 3 (ipykernel)",
      "language": "python",
      "name": "python3"
    },
    "language_info": {
      "codemirror_mode": {
        "name": "ipython",
        "version": 3
      },
      "file_extension": ".py",
      "mimetype": "text/x-python",
      "name": "python",
      "nbconvert_exporter": "python",
      "pygments_lexer": "ipython3",
      "version": "3.10.8"
    },
    "colab": {
      "provenance": []
    }
  },
  "nbformat": 4,
  "nbformat_minor": 5
}
