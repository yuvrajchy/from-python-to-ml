{
  "nbformat": 4,
  "nbformat_minor": 0,
  "metadata": {
    "colab": {
      "provenance": []
    },
    "kernelspec": {
      "name": "python3",
      "display_name": "Python 3"
    },
    "language_info": {
      "name": "python"
    }
  },
  "cells": [
    {
      "cell_type": "markdown",
      "source": [
        "LOOPS"
      ],
      "metadata": {
        "id": "J9JHkSQBlnOo"
      }
    },
    {
      "cell_type": "code",
      "execution_count": null,
      "metadata": {
        "id": "_yobVkTblkuM"
      },
      "outputs": [],
      "source": [
        "# Loops statement >> It allows you to execute a block of code repeatedly\n",
        "# Loops >> while loop and for loops\n",
        "# while >> repeatedly executed a block of code until a condition is met\n",
        "# syntax\n",
        "# while condition >> is a keyword used for a while loop"
      ]
    },
    {
      "cell_type": "code",
      "source": [
        "n = 7\n",
        "i = 1\n",
        "while i < n:\n",
        "  print(i)\n",
        "  i = i + 1"
      ],
      "metadata": {
        "id": "uzsaQ--2mSJH",
        "colab": {
          "base_uri": "https://localhost:8080/"
        },
        "outputId": "0315efb8-6135-4e92-cb74-07dfe58a3987"
      },
      "execution_count": null,
      "outputs": [
        {
          "output_type": "stream",
          "name": "stdout",
          "text": [
            "1\n",
            "2\n",
            "3\n",
            "4\n",
            "5\n",
            "6\n"
          ]
        }
      ]
    },
    {
      "cell_type": "code",
      "source": [
        "count = 5\n",
        "while count > 0:\n",
        "  print(count)\n",
        "  count = count - 1"
      ],
      "metadata": {
        "id": "0EMy9aJombBh",
        "colab": {
          "base_uri": "https://localhost:8080/"
        },
        "outputId": "ee688238-3d57-4eda-e099-23eed8a44ee1"
      },
      "execution_count": null,
      "outputs": [
        {
          "output_type": "stream",
          "name": "stdout",
          "text": [
            "5\n",
            "4\n",
            "3\n",
            "2\n",
            "1\n"
          ]
        }
      ]
    },
    {
      "cell_type": "code",
      "source": [
        "n = 7\n",
        "i = 1\n",
        "while i <= n:\n",
        "  print(i)\n",
        "  i = i + 1\n",
        "else:\n",
        "  print(\"This will be executed when the while is run successfully without any break\")\n"
      ],
      "metadata": {
        "id": "7XFjGkWNmpoN",
        "colab": {
          "base_uri": "https://localhost:8080/"
        },
        "outputId": "0c4f5957-5184-4db2-bf5f-493edff75955"
      },
      "execution_count": null,
      "outputs": [
        {
          "output_type": "stream",
          "name": "stdout",
          "text": [
            "1\n",
            "2\n",
            "3\n",
            "4\n",
            "5\n",
            "6\n",
            "7\n",
            "This will be executed when the while is run successfully without any break\n"
          ]
        }
      ]
    },
    {
      "cell_type": "code",
      "source": [
        "# break terminates / exists the loop\n",
        "n = 7\n",
        "i = 1\n",
        "while i <= n:\n",
        "  print(i)\n",
        "  i = i + 1\n",
        "  if i == 3:\n",
        "    break\n",
        "else:\n",
        "    print(\"This will be executed when the while is run successfully without any break\")"
      ],
      "metadata": {
        "id": "YSnh6EEtnKX2",
        "colab": {
          "base_uri": "https://localhost:8080/"
        },
        "outputId": "6342bae5-0e8e-4f41-ed70-7543707ac8ce"
      },
      "execution_count": null,
      "outputs": [
        {
          "output_type": "stream",
          "name": "stdout",
          "text": [
            "1\n",
            "2\n"
          ]
        }
      ]
    },
    {
      "cell_type": "code",
      "source": [
        "# continue >> skips the iteration\n",
        "n = 7\n",
        "i = 1\n",
        "while i <= n:\n",
        "  i = i + 1\n",
        "  if i == 3:\n",
        "    continue\n",
        "  print(i)\n",
        "else:\n",
        "    print(\"This will be executed when the while is run successfully without any break\")"
      ],
      "metadata": {
        "id": "VFt7_Bd8nqdG",
        "colab": {
          "base_uri": "https://localhost:8080/"
        },
        "outputId": "86350dc4-8ba7-4d0f-eef9-b0432f44c555"
      },
      "execution_count": null,
      "outputs": [
        {
          "output_type": "stream",
          "name": "stdout",
          "text": [
            "2\n",
            "4\n",
            "5\n",
            "6\n",
            "7\n",
            "8\n",
            "This will be executed when the while is run successfully without any break\n"
          ]
        }
      ]
    },
    {
      "cell_type": "code",
      "source": [
        "# for loops >> iterate over a sequence of elements >> strings, list\n",
        "for i in \"yuvraj\":\n",
        "  print(i)"
      ],
      "metadata": {
        "id": "kho46TZXobhd",
        "colab": {
          "base_uri": "https://localhost:8080/"
        },
        "outputId": "06b8f49d-6f9b-4487-9f90-c3807b190c43"
      },
      "execution_count": null,
      "outputs": [
        {
          "output_type": "stream",
          "name": "stdout",
          "text": [
            "y\n",
            "u\n",
            "v\n",
            "r\n",
            "a\n",
            "j\n"
          ]
        }
      ]
    },
    {
      "cell_type": "code",
      "source": [
        "a = \"yuvraj\"\n",
        "for i in a:\n",
        "  print(i)"
      ],
      "metadata": {
        "id": "hP_LTdgvQAE5",
        "colab": {
          "base_uri": "https://localhost:8080/"
        },
        "outputId": "99381664-d6a7-477e-c2fd-0e1e40fa9900"
      },
      "execution_count": null,
      "outputs": [
        {
          "output_type": "stream",
          "name": "stdout",
          "text": [
            "y\n",
            "u\n",
            "v\n",
            "r\n",
            "a\n",
            "j\n"
          ]
        }
      ]
    },
    {
      "cell_type": "code",
      "source": [
        "l = [1,2,\"yuvraj\",\"chaudhary\"]\n",
        "for i in l:\n",
        "  print(i)"
      ],
      "metadata": {
        "id": "uApBVcWxQK6v",
        "colab": {
          "base_uri": "https://localhost:8080/"
        },
        "outputId": "98b50a9d-014e-4e23-da75-3c62d3fb8a96"
      },
      "execution_count": null,
      "outputs": [
        {
          "output_type": "stream",
          "name": "stdout",
          "text": [
            "1\n",
            "2\n",
            "yuvraj\n",
            "chaudhary\n"
          ]
        }
      ]
    },
    {
      "cell_type": "code",
      "source": [
        "for i in l:\n",
        "  print(i)\n",
        "else:\n",
        "  print(\"This will be executed when for loop ends without a break statement\")"
      ],
      "metadata": {
        "id": "uBTszx3iQX_M",
        "colab": {
          "base_uri": "https://localhost:8080/"
        },
        "outputId": "704695df-afa9-4044-ce21-296753e83507"
      },
      "execution_count": null,
      "outputs": [
        {
          "output_type": "stream",
          "name": "stdout",
          "text": [
            "1\n",
            "2\n",
            "yuvraj\n",
            "chaudhary\n",
            "This will be executed when for loop ends without a break statement\n"
          ]
        }
      ]
    },
    {
      "cell_type": "code",
      "source": [
        "# break statement i for loop\n",
        "for i in l:\n",
        "  if i == \"yuvraj\":\n",
        "    break\n",
        "  print(i)\n",
        "else:\n",
        "  print(\"This will be executed when for loops ends without a break statement\")"
      ],
      "metadata": {
        "id": "ygyzZ8k_Qpfq",
        "colab": {
          "base_uri": "https://localhost:8080/"
        },
        "outputId": "0e44ed2a-8bd1-48b2-ecb3-85930e410a7f"
      },
      "execution_count": null,
      "outputs": [
        {
          "output_type": "stream",
          "name": "stdout",
          "text": [
            "1\n",
            "2\n"
          ]
        }
      ]
    },
    {
      "cell_type": "code",
      "source": [
        "for i in l:\n",
        "  if i == \"yuvraj\":\n",
        "    continue\n",
        "  print(i)\n",
        "else:\n",
        "  print(\"This will be executed when for loop ends without a break statement\")"
      ],
      "metadata": {
        "id": "LEPt1IiVRBMi",
        "colab": {
          "base_uri": "https://localhost:8080/"
        },
        "outputId": "6ca67990-26c8-41f2-a46b-201cd6ac1dc3"
      },
      "execution_count": null,
      "outputs": [
        {
          "output_type": "stream",
          "name": "stdout",
          "text": [
            "1\n",
            "2\n",
            "chaudhary\n",
            "This will be executed when for loop ends without a break statement\n"
          ]
        }
      ]
    },
    {
      "cell_type": "code",
      "source": [
        "list(range(0,10)) #It will give value from 0 to 9"
      ],
      "metadata": {
        "id": "DeDdU9SERvgm",
        "colab": {
          "base_uri": "https://localhost:8080/"
        },
        "outputId": "15f445a2-1d74-45c2-b8ad-ec8aa6f40936"
      },
      "execution_count": null,
      "outputs": [
        {
          "output_type": "execute_result",
          "data": {
            "text/plain": [
              "[0, 1, 2, 3, 4, 5, 6, 7, 8, 9]"
            ]
          },
          "metadata": {},
          "execution_count": 12
        }
      ]
    },
    {
      "cell_type": "code",
      "source": [
        "for i in range (10):\n",
        "  print(i)"
      ],
      "metadata": {
        "id": "6XX3YnuvSSb2",
        "colab": {
          "base_uri": "https://localhost:8080/"
        },
        "outputId": "c68ff98e-bad3-4f1c-f959-2042752e76c2"
      },
      "execution_count": 2,
      "outputs": [
        {
          "output_type": "stream",
          "name": "stdout",
          "text": [
            "0\n",
            "1\n",
            "2\n",
            "3\n",
            "4\n",
            "5\n",
            "6\n",
            "7\n",
            "8\n",
            "9\n"
          ]
        }
      ]
    },
    {
      "cell_type": "code",
      "source": [
        "for i in range (10):\n",
        "  print(i,end = \" \")"
      ],
      "metadata": {
        "id": "vUR55-QVSakP",
        "colab": {
          "base_uri": "https://localhost:8080/"
        },
        "outputId": "99a55419-bfa3-4a3f-8641-a9e9f4524e5c"
      },
      "execution_count": 3,
      "outputs": [
        {
          "output_type": "stream",
          "name": "stdout",
          "text": [
            "0 1 2 3 4 5 6 7 8 9 "
          ]
        }
      ]
    },
    {
      "cell_type": "code",
      "source": [
        "# syntax of range (start ,stop, step)\n",
        "list(range (0,10))"
      ],
      "metadata": {
        "id": "xCoSMLhYS3K3",
        "colab": {
          "base_uri": "https://localhost:8080/"
        },
        "outputId": "ca5ffb11-dcc2-42e4-a3c0-5dc9c48dc2bb"
      },
      "execution_count": 4,
      "outputs": [
        {
          "output_type": "execute_result",
          "data": {
            "text/plain": [
              "[0, 1, 2, 3, 4, 5, 6, 7, 8, 9]"
            ]
          },
          "metadata": {},
          "execution_count": 4
        }
      ]
    },
    {
      "cell_type": "code",
      "source": [
        "for i in range (10):\n",
        "  print(i, end = \" \")"
      ],
      "metadata": {
        "id": "rdc3Y2vfnl7d",
        "colab": {
          "base_uri": "https://localhost:8080/"
        },
        "outputId": "3e642977-b798-44f8-f62f-f405821bb8a4"
      },
      "execution_count": 31,
      "outputs": [
        {
          "output_type": "stream",
          "name": "stdout",
          "text": [
            "0 1 2 3 4 5 6 7 8 9 "
          ]
        }
      ]
    },
    {
      "cell_type": "code",
      "source": [
        "# print a right triangle with * using for loop\n",
        "for i in range (4):\n",
        "  for j in range (i + 1):\n",
        "   print((\"*\"), end = \"\")\n",
        "  print()"
      ],
      "metadata": {
        "id": "VAru1sQtTpOg",
        "colab": {
          "base_uri": "https://localhost:8080/"
        },
        "outputId": "2e94fc59-2c00-495a-eeaf-be41c3016824"
      },
      "execution_count": 35,
      "outputs": [
        {
          "output_type": "stream",
          "name": "stdout",
          "text": [
            "*\n",
            "**\n",
            "***\n",
            "****\n"
          ]
        }
      ]
    },
    {
      "cell_type": "code",
      "source": [
        "number = [1,2,3,4,5,6,7,8,9]\n",
        "for num in number:\n",
        "  if (num == 3) or (num == 7):\n",
        "    continue\n",
        "  print(num)"
      ],
      "metadata": {
        "id": "oZ4t71EmpJ0y",
        "colab": {
          "base_uri": "https://localhost:8080/"
        },
        "outputId": "3065d062-db8c-45ef-c0c3-7eb3c143da9b"
      },
      "execution_count": 23,
      "outputs": [
        {
          "output_type": "stream",
          "name": "stdout",
          "text": [
            "1\n",
            "2\n",
            "4\n",
            "5\n",
            "6\n",
            "8\n",
            "9\n"
          ]
        }
      ]
    },
    {
      "cell_type": "code",
      "source": [
        "number = [1,2,3,4,5,6,7,8,9]\n",
        "for num in number:\n",
        "  if(num == 3) or (num == 7):\n",
        "    break\n",
        "  print(num)"
      ],
      "metadata": {
        "colab": {
          "base_uri": "https://localhost:8080/"
        },
        "id": "v-ZO2UHUzJXi",
        "outputId": "98e02b7c-ed47-4716-c255-426d5f4d9cdd"
      },
      "execution_count": 11,
      "outputs": [
        {
          "output_type": "stream",
          "name": "stdout",
          "text": [
            "1\n",
            "2\n"
          ]
        }
      ]
    },
    {
      "cell_type": "code",
      "source": [
        "# print the even number\n",
        "for i in range (10):\n",
        "  if i % 2 != 0:\n",
        "    continue\n",
        "  print(i)"
      ],
      "metadata": {
        "colab": {
          "base_uri": "https://localhost:8080/"
        },
        "id": "JWRJxr84zgOL",
        "outputId": "38ce20ef-b02e-457a-b82c-437798935012"
      },
      "execution_count": 21,
      "outputs": [
        {
          "output_type": "stream",
          "name": "stdout",
          "text": [
            "0\n",
            "2\n",
            "4\n",
            "6\n",
            "8\n"
          ]
        }
      ]
    },
    {
      "cell_type": "code",
      "source": [
        "# print odd number\n",
        "for i in range (10):\n",
        "  if i % 2 == 0:\n",
        "    continue\n",
        "  print(i)"
      ],
      "metadata": {
        "colab": {
          "base_uri": "https://localhost:8080/"
        },
        "id": "K9Zai3ubzxPX",
        "outputId": "fe2d8e89-674a-4b10-c74b-3223182a69a1"
      },
      "execution_count": 20,
      "outputs": [
        {
          "output_type": "stream",
          "name": "stdout",
          "text": [
            "1\n",
            "3\n",
            "5\n",
            "7\n",
            "9\n"
          ]
        }
      ]
    },
    {
      "cell_type": "code",
      "source": [
        "# multiplication case\n",
        "for i in range(1,6):\n",
        "  for j in range(1,11):\n",
        "    product = i * j\n",
        "    print(f\"{i}*{j}={product}\")\n",
        "print()"
      ],
      "metadata": {
        "colab": {
          "base_uri": "https://localhost:8080/"
        },
        "id": "ckr1zYkgz9ki",
        "outputId": "2c3cb15d-d8fe-4917-bd19-acad4bb23e81"
      },
      "execution_count": 29,
      "outputs": [
        {
          "output_type": "stream",
          "name": "stdout",
          "text": [
            "1*1=1\n",
            "1*2=2\n",
            "1*3=3\n",
            "1*4=4\n",
            "1*5=5\n",
            "1*6=6\n",
            "1*7=7\n",
            "1*8=8\n",
            "1*9=9\n",
            "1*10=10\n",
            "2*1=2\n",
            "2*2=4\n",
            "2*3=6\n",
            "2*4=8\n",
            "2*5=10\n",
            "2*6=12\n",
            "2*7=14\n",
            "2*8=16\n",
            "2*9=18\n",
            "2*10=20\n",
            "3*1=3\n",
            "3*2=6\n",
            "3*3=9\n",
            "3*4=12\n",
            "3*5=15\n",
            "3*6=18\n",
            "3*7=21\n",
            "3*8=24\n",
            "3*9=27\n",
            "3*10=30\n",
            "4*1=4\n",
            "4*2=8\n",
            "4*3=12\n",
            "4*4=16\n",
            "4*5=20\n",
            "4*6=24\n",
            "4*7=28\n",
            "4*8=32\n",
            "4*9=36\n",
            "4*10=40\n",
            "5*1=5\n",
            "5*2=10\n",
            "5*3=15\n",
            "5*4=20\n",
            "5*5=25\n",
            "5*6=30\n",
            "5*7=35\n",
            "5*8=40\n",
            "5*9=45\n",
            "5*10=50\n",
            "\n"
          ]
        }
      ]
    },
    {
      "cell_type": "code",
      "source": [],
      "metadata": {
        "id": "0IMIBiRz014h"
      },
      "execution_count": null,
      "outputs": []
    }
  ]
}
