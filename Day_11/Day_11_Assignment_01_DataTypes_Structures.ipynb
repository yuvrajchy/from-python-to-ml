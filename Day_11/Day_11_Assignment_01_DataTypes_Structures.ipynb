{
  "nbformat": 4,
  "nbformat_minor": 0,
  "metadata": {
    "colab": {
      "provenance": []
    },
    "kernelspec": {
      "name": "python3",
      "display_name": "Python 3"
    },
    "language_info": {
      "name": "python"
    }
  },
  "cells": [
    {
      "cell_type": "markdown",
      "source": [
        "Data Types and Structures Questions"
      ],
      "metadata": {
        "id": "0rxX5MGxi5mR"
      }
    },
    {
      "cell_type": "markdown",
      "source": [
        "1. What are data structures, and why are they important?\n",
        "- A data structure is a systematic way of organizing, managing, and storing data in a computer so it can be used efficiently.\n",
        "\n",
        "Importance of data structures:\n",
        "\n",
        "1. Efficiency: They allow faster access, retrieval, and modification of data.\n",
        "\n",
        "2. Problem-solving: Different problems need different structures (e.g., graph for social networks, queue for task scheduling).\n",
        "\n",
        "3. Memory management: They help in utilizing memory space effectively.\n",
        "\n",
        "4. Algorithm foundation: Most algorithms are built on top of specific data structures.\n",
        "\n",
        "5. Real-world applications: Used in databases, operating systems, compilers, and almost every software system.\n",
        "\n",
        "- Simple analogy: Think of data structures as tools in a toolbox. Choosing the right tool makes solving a problem easier and faster."
      ],
      "metadata": {
        "id": "-IjHCNFXjOGB"
      }
    },
    {
      "cell_type": "markdown",
      "source": [
        "2. Explain the difference between mutable and immutable data types with examples ?\n",
        "\n",
        "- In Python, data types are classified into mutable and immutable depending on whether their values can be changed after creation.\n",
        "\n",
        "1. Mutable Data Types\n",
        "\n",
        "Definition: Values can be changed or modified after the object is created.\n",
        "\n",
        "Examples:\n",
        "\n",
        "List → numbers = [1, 2, 3] → numbers[0] = 10 → Now numbers = [10, 2, 3].\n",
        "\n",
        "Dictionary → student = {\"name\": \"Raj\", \"age\": 20} → student[\"age\"] = 21 → Updated dictionary.\n",
        "\n",
        "Key idea: Memory address remains the same, but content changes.\n",
        "\n",
        "2. Immutable Data Types\n",
        "\n",
        "Definition: Values cannot be changed once the object is created. Any modification creates a new object.\n",
        "\n",
        "Examples:\n",
        "\n",
        "String → name = \"Hello\" → name[0] = \"J\" ❌ (not allowed).\n",
        "\n",
        "Tuple → t = (1, 2, 3) → cannot update t[0].\n",
        "\n",
        "Numbers (int, float) → x = 5 → x = x + 1 creates a new object (6), not modifies the old one."
      ],
      "metadata": {
        "id": "KXgiu1YDjOq-"
      }
    },
    {
      "cell_type": "markdown",
      "source": [
        "3. What are the main differences between lists and tuples in Python ?\n",
        "- A list in Python is a collection of items that can be changed, while a tuple is a similar collection but cannot be modified once created.\n",
        "\n",
        "Mutability: Lists are mutable; tuples are immutable.\n",
        "\n",
        "Syntax: Lists use square brackets [], tuples use parentheses ().\n",
        "\n",
        "Performance: Tuples are faster and consume less memory compared to lists.\n",
        "\n",
        "Use case: Lists are preferred for data that changes frequently, while tuples are used for fixed data.\n",
        "\n",
        "Example:"
      ],
      "metadata": {
        "id": "rXDYpKPulRVZ"
      }
    },
    {
      "cell_type": "code",
      "execution_count": 5,
      "metadata": {
        "colab": {
          "base_uri": "https://localhost:8080/"
        },
        "id": "GwyCj2u6ipYR",
        "outputId": "3f4ffe41-408c-4cad-b0a3-9afffe57ec7e"
      },
      "outputs": [
        {
          "output_type": "execute_result",
          "data": {
            "text/plain": [
              "[10, 2, 3]"
            ]
          },
          "metadata": {},
          "execution_count": 5
        }
      ],
      "source": [
        "my_list = [1, 2, 3]\n",
        "my_list[0] = 10   # Works\n",
        "my_list"
      ]
    },
    {
      "cell_type": "code",
      "source": [
        "my_tuple = (1, 2, 3)\n",
        "my_tuple[0] = 10   # Error (cannot modify)\n",
        "# my_tuple[0] = 10"
      ],
      "metadata": {
        "colab": {
          "base_uri": "https://localhost:8080/",
          "height": 176
        },
        "id": "IoXHlEsel9yf",
        "outputId": "4031663a-1d61-4155-b521-7a2ab7d386fe"
      },
      "execution_count": 7,
      "outputs": [
        {
          "output_type": "error",
          "ename": "TypeError",
          "evalue": "'tuple' object does not support item assignment",
          "traceback": [
            "\u001b[0;31m---------------------------------------------------------------------------\u001b[0m",
            "\u001b[0;31mTypeError\u001b[0m                                 Traceback (most recent call last)",
            "\u001b[0;32m/tmp/ipython-input-1932608479.py\u001b[0m in \u001b[0;36m<cell line: 0>\u001b[0;34m()\u001b[0m\n\u001b[1;32m      1\u001b[0m \u001b[0mmy_tuple\u001b[0m \u001b[0;34m=\u001b[0m \u001b[0;34m(\u001b[0m\u001b[0;36m1\u001b[0m\u001b[0;34m,\u001b[0m \u001b[0;36m2\u001b[0m\u001b[0;34m,\u001b[0m \u001b[0;36m3\u001b[0m\u001b[0;34m)\u001b[0m\u001b[0;34m\u001b[0m\u001b[0;34m\u001b[0m\u001b[0m\n\u001b[0;32m----> 2\u001b[0;31m \u001b[0mmy_tuple\u001b[0m\u001b[0;34m[\u001b[0m\u001b[0;36m0\u001b[0m\u001b[0;34m]\u001b[0m \u001b[0;34m=\u001b[0m \u001b[0;36m10\u001b[0m   \u001b[0;31m# Error (cannot modify)\u001b[0m\u001b[0;34m\u001b[0m\u001b[0;34m\u001b[0m\u001b[0m\n\u001b[0m\u001b[1;32m      3\u001b[0m \u001b[0;31m# my_tuple[0] = 10\u001b[0m\u001b[0;34m\u001b[0m\u001b[0;34m\u001b[0m\u001b[0m\n",
            "\u001b[0;31mTypeError\u001b[0m: 'tuple' object does not support item assignment"
          ]
        }
      ]
    },
    {
      "cell_type": "markdown",
      "source": [
        "4. Describe how dictionaries store data ?\n",
        "- A dictionary in Python stores data as key–value pairs. Each key is unique, and it acts like an index to access its corresponding value.\n",
        "\n",
        "Internally, dictionaries use a hashing mechanism.\n",
        "\n",
        "When you give a key, Python calculates its hash value and finds where to store/retrieve the value in memory.\n",
        "\n",
        "This makes lookups, insertions, and deletions very fast (on average O(1) time complexity).\n",
        "\n",
        "Example:"
      ],
      "metadata": {
        "id": "xE3gx1TMmwBT"
      }
    },
    {
      "cell_type": "code",
      "source": [
        "student = {\"name\": \"Anita\", \"age\": 21, \"grade\": \"A\"}\n",
        "\n",
        "print(student[\"name\"])\n",
        "print(student[\"grade\"])"
      ],
      "metadata": {
        "colab": {
          "base_uri": "https://localhost:8080/"
        },
        "id": "UVclxmpKmRnn",
        "outputId": "c1150eb5-9654-45af-99b0-7d70b31fd81b"
      },
      "execution_count": 8,
      "outputs": [
        {
          "output_type": "stream",
          "name": "stdout",
          "text": [
            "Anita\n",
            "A\n"
          ]
        }
      ]
    },
    {
      "cell_type": "markdown",
      "source": [
        "So, dictionaries behave like a real-life address book:\n",
        "\n",
        "You don’t look for a person by position, but directly by their name (key) to get the phone number (value)."
      ],
      "metadata": {
        "id": "ABdfIvQbnOJC"
      }
    },
    {
      "cell_type": "markdown",
      "source": [
        "5. Why might you use a set instead of a list in Python ?\n",
        "- You would use a set when:\n",
        "\n",
        "You need to store unique values only (no duplicates).\n",
        "\n",
        "You don’t care about the order of elements.\n",
        "\n",
        "You want fast membership checking (testing if an item exists).\n",
        "\n",
        "Example:"
      ],
      "metadata": {
        "id": "WuKX2hTknRZ0"
      }
    },
    {
      "cell_type": "code",
      "source": [
        "nums_list = [1, 2, 2, 3, 4]\n",
        "nums_set = {1, 2, 2, 3, 4}\n",
        "\n",
        "print(nums_list)  # [1, 2, 2, 3, 4]\n",
        "print(nums_set)   # {1, 2, 3, 4}  (duplicates removed)\n"
      ],
      "metadata": {
        "colab": {
          "base_uri": "https://localhost:8080/"
        },
        "id": "5rqnXEUtnpik",
        "outputId": "1f34e082-0cb7-4126-e45f-83327057240f"
      },
      "execution_count": 9,
      "outputs": [
        {
          "output_type": "stream",
          "name": "stdout",
          "text": [
            "[1, 2, 2, 3, 4]\n",
            "{1, 2, 3, 4}\n"
          ]
        }
      ]
    },
    {
      "cell_type": "markdown",
      "source": [
        "6. What is a string in Python, and how is it different from a list ?\n",
        "- A string in Python is a sequence of characters enclosed in single quotes ('), double quotes (\") or triple quotes (''' \"\"\").\n",
        "Example:"
      ],
      "metadata": {
        "id": "rvyhVVE6nv6A"
      }
    },
    {
      "cell_type": "code",
      "source": [
        "text = \"Hello World\"\n",
        "text"
      ],
      "metadata": {
        "colab": {
          "base_uri": "https://localhost:8080/",
          "height": 36
        },
        "id": "pehuykz0n7h5",
        "outputId": "0a5ccf4e-2a90-4a50-f694-f5044abf9ef8"
      },
      "execution_count": 12,
      "outputs": [
        {
          "output_type": "execute_result",
          "data": {
            "text/plain": [
              "'Hello World'"
            ],
            "application/vnd.google.colaboratory.intrinsic+json": {
              "type": "string"
            }
          },
          "metadata": {},
          "execution_count": 12
        }
      ]
    },
    {
      "cell_type": "markdown",
      "source": [
        "How it differs from a list:\n",
        "\n",
        "A string is specifically for textual data, while a list can hold any type of objects (numbers, strings, other lists, etc.).\n",
        "\n",
        "Strings are immutable → once created, their contents cannot be changed.\n",
        "\n",
        "Lists are mutable → you can add, remove, or update elements.\n",
        "\n",
        "Example:"
      ],
      "metadata": {
        "id": "05Ixv6CVnvtx"
      }
    },
    {
      "cell_type": "code",
      "source": [
        "word = \"cat\"\n",
        "word[0] = \"b\"   # ❌ Error (string is immutable)"
      ],
      "metadata": {
        "colab": {
          "base_uri": "https://localhost:8080/",
          "height": 211
        },
        "id": "vhfIylQloKLn",
        "outputId": "c691ff5d-bd55-4b58-81fb-54b59e05a99f"
      },
      "execution_count": 13,
      "outputs": [
        {
          "output_type": "error",
          "ename": "TypeError",
          "evalue": "'str' object does not support item assignment",
          "traceback": [
            "\u001b[0;31m---------------------------------------------------------------------------\u001b[0m",
            "\u001b[0;31mTypeError\u001b[0m                                 Traceback (most recent call last)",
            "\u001b[0;32m/tmp/ipython-input-3390923977.py\u001b[0m in \u001b[0;36m<cell line: 0>\u001b[0;34m()\u001b[0m\n\u001b[1;32m      1\u001b[0m \u001b[0mword\u001b[0m \u001b[0;34m=\u001b[0m \u001b[0;34m\"cat\"\u001b[0m\u001b[0;34m\u001b[0m\u001b[0;34m\u001b[0m\u001b[0m\n\u001b[0;32m----> 2\u001b[0;31m \u001b[0mword\u001b[0m\u001b[0;34m[\u001b[0m\u001b[0;36m0\u001b[0m\u001b[0;34m]\u001b[0m \u001b[0;34m=\u001b[0m \u001b[0;34m\"b\"\u001b[0m   \u001b[0;31m# ❌ Error (string is immutable)\u001b[0m\u001b[0;34m\u001b[0m\u001b[0;34m\u001b[0m\u001b[0m\n\u001b[0m\u001b[1;32m      3\u001b[0m \u001b[0;34m\u001b[0m\u001b[0m\n\u001b[1;32m      4\u001b[0m \u001b[0mmy_list\u001b[0m \u001b[0;34m=\u001b[0m \u001b[0;34m[\u001b[0m\u001b[0;34m\"c\"\u001b[0m\u001b[0;34m,\u001b[0m \u001b[0;34m\"a\"\u001b[0m\u001b[0;34m,\u001b[0m \u001b[0;34m\"t\"\u001b[0m\u001b[0;34m]\u001b[0m\u001b[0;34m\u001b[0m\u001b[0;34m\u001b[0m\u001b[0m\n\u001b[1;32m      5\u001b[0m \u001b[0mmy_list\u001b[0m\u001b[0;34m[\u001b[0m\u001b[0;36m0\u001b[0m\u001b[0;34m]\u001b[0m \u001b[0;34m=\u001b[0m \u001b[0;34m\"b\"\u001b[0m  \u001b[0;31m# Works\u001b[0m\u001b[0;34m\u001b[0m\u001b[0;34m\u001b[0m\u001b[0m\n",
            "\u001b[0;31mTypeError\u001b[0m: 'str' object does not support item assignment"
          ]
        }
      ]
    },
    {
      "cell_type": "code",
      "source": [
        "my_list = [\"c\", \"a\", \"t\"]\n",
        "my_list[0] = \"b\"\n",
        "print(my_list)"
      ],
      "metadata": {
        "colab": {
          "base_uri": "https://localhost:8080/"
        },
        "id": "RbjJ8sRCoW9p",
        "outputId": "261d230f-a2a4-40aa-862b-cbd68c0b70c4"
      },
      "execution_count": 14,
      "outputs": [
        {
          "output_type": "stream",
          "name": "stdout",
          "text": [
            "['b', 'a', 't']\n"
          ]
        }
      ]
    },
    {
      "cell_type": "markdown",
      "source": [
        "In short: String = fixed sequence of characters; List = flexible container of many objects."
      ],
      "metadata": {
        "id": "1CcSOn5LolrZ"
      }
    },
    {
      "cell_type": "markdown",
      "source": [
        "7. How do tuples ensure data integrity in Python ?\n",
        "- Tuples in Python are immutable, meaning once a tuple is created, its values cannot be changed, added, or removed.\n",
        "\n",
        "Because of this immutability:\n",
        "\n",
        "- Data stored in a tuple remains fixed and safe from accidental modification.\n",
        "\n",
        "- Tuples can be used as keys in dictionaries (lists cannot), since their contents are guaranteed not to change.\n",
        "\n",
        "- They are reliable for storing constant data like geographic coordinates, configuration values, or days of the week.\n",
        "\n",
        "In short: Tuples ensure data integrity by locking the data, so it stays exactly the same throughout the program."
      ],
      "metadata": {
        "id": "rlcvnpN4oq_A"
      }
    },
    {
      "cell_type": "markdown",
      "source": [
        "8. What is a hash table, and how does it relate to dictionaries in Python?\n",
        "- A hash table is a data structure that stores data in key–value pairs using a hashing function. The hash function converts a key into an index that decides where the value is stored in memory.\n",
        "\n",
        "In Python:\n",
        "\n",
        "- A dictionary is implemented internally using a hash table.\n",
        "\n",
        "- When you write my_dict[\"name\"], Python calculates the hash of \"name\" and uses it to quickly find the value.\n",
        "\n",
        "- This makes dictionary operations like lookup, insertion, and deletion very fast (average O(1) time).\n",
        "\n",
        "Example:"
      ],
      "metadata": {
        "id": "aImAvnTe2MjR"
      }
    },
    {
      "cell_type": "code",
      "source": [
        "person = {\"name\": \"Amit\", \"age\": 25}\n",
        "\n",
        "print(person[\"name\"])  # Python hashes \"name\" -> finds value \"Amit\""
      ],
      "metadata": {
        "colab": {
          "base_uri": "https://localhost:8080/"
        },
        "id": "YQbbKPBJ2kNS",
        "outputId": "0d3cd220-aea1-4783-ff6c-03f47eb77a63"
      },
      "execution_count": 15,
      "outputs": [
        {
          "output_type": "stream",
          "name": "stdout",
          "text": [
            "Amit\n"
          ]
        }
      ]
    },
    {
      "cell_type": "markdown",
      "source": [
        "In short:\n",
        "\n",
        "Hash table = concept / data structure\n",
        "\n",
        "Dictionary = Python’s built-in implementation of a hash table"
      ],
      "metadata": {
        "id": "xvvlkBag_gQZ"
      }
    },
    {
      "cell_type": "markdown",
      "source": [
        "9. Can lists contain different data types in Python?\n",
        "- Yes\n",
        "Python lists are heterogeneous, which means they can hold elements of different data types in the same list.\n",
        "\n",
        "Example:"
      ],
      "metadata": {
        "id": "WcMYfxoN_n7_"
      }
    },
    {
      "cell_type": "code",
      "source": [
        "my_list = [10, \"hello\", 3.14, True]\n",
        "\n",
        "print(my_list)"
      ],
      "metadata": {
        "colab": {
          "base_uri": "https://localhost:8080/"
        },
        "id": "jJ1WtlLv2luj",
        "outputId": "ea05d00a-04c0-46ae-e282-94c700a0fe15"
      },
      "execution_count": 16,
      "outputs": [
        {
          "output_type": "stream",
          "name": "stdout",
          "text": [
            "[10, 'hello', 3.14, True]\n"
          ]
        }
      ]
    },
    {
      "cell_type": "markdown",
      "source": [
        "10. Explain why strings are immutable in Python?\n",
        "- Strings are immutable in Python, which means once a string is created it cannot be changed. The main reason for this is memory efficiency and security. If two variables refer to the same string and one of them modifies it, the other would also change — immutability prevents this problem.\n",
        "\n",
        "Another reason is that strings are often used as keys in dictionaries or stored in sets. For this to work, the string must always stay the same (hashable). By making them immutable, Python ensures that strings are safe, reliable, and consistent throughout the program.\n"
      ],
      "metadata": {
        "id": "OUpJlS19ABvO"
      }
    },
    {
      "cell_type": "markdown",
      "source": [
        "11. What advantages do dictionaries offer over lists for certain tasks?\n",
        "\n",
        "- Dictionaries are more useful than lists when we need to store and access data using a key instead of an index. In a list, to find an item you may have to search through the whole list, but in a dictionary you can directly access the value using its key.\n",
        "\n",
        "They also allow data to be stored in key–value pairs, which makes the code more readable and meaningful. For example, storing a student’s details in a dictionary with keys like \"name\" or \"age\" is clearer than remembering their positions in a list.\n",
        "\n",
        "Another big advantage is speed. Dictionaries are built on hash tables, so lookups and updates are much faster compared to searching in a list."
      ],
      "metadata": {
        "id": "sgO-aC4mAmQV"
      }
    },
    {
      "cell_type": "markdown",
      "source": [
        "12. Describe a scenario where using a tuple would be preferable over a list ?\n",
        "- A tuple is preferable when the data should not change during the program. For example, storing the coordinates of a location (28.61, 77.20) makes sense as a tuple because these values are fixed. If the same data was stored in a list, it could accidentally be modified, which would be incorrect.\n",
        "\n",
        "Tuples are also faster and can be used as keys in dictionaries, while lists cannot. So whenever the data is constant and needs protection from changes, tuples are a better choice than lists.\n"
      ],
      "metadata": {
        "id": "TZm1WECBA4sk"
      }
    },
    {
      "cell_type": "markdown",
      "source": [
        "13. How do sets handle duplicate values in Python ?\n",
        "- In Python, sets automatically remove duplicate values. When a set is created, if the same element appears more than once, only one copy of it is stored. This is because sets are designed to contain only unique elements.\n",
        "\n",
        "For example:"
      ],
      "metadata": {
        "id": "MDBVjgtoBDWj"
      }
    },
    {
      "cell_type": "code",
      "source": [
        "nums = {1, 2, 2, 3, 4}\n",
        "print(nums)"
      ],
      "metadata": {
        "colab": {
          "base_uri": "https://localhost:8080/"
        },
        "id": "O6oGVeYb_5Sl",
        "outputId": "43e0b6a4-95df-4be0-86c0-78fad86e6b09"
      },
      "execution_count": 17,
      "outputs": [
        {
          "output_type": "stream",
          "name": "stdout",
          "text": [
            "{1, 2, 3, 4}\n"
          ]
        }
      ]
    },
    {
      "cell_type": "markdown",
      "source": [
        "The output will be {1, 2, 3, 4} because the duplicate 2 is removed.\n",
        "\n",
        "So, sets ensure that all values inside them are unique without the need for extra code."
      ],
      "metadata": {
        "id": "pOi10k67Baiy"
      }
    },
    {
      "cell_type": "markdown",
      "source": [
        "14. How does the “in” keyword work differently for lists and dictionaries ?\n",
        "- In Python, the in keyword is used to check membership, but it behaves differently for lists and dictionaries.\n",
        "\n",
        "For lists, in checks whether a value exists as an element of the list."
      ],
      "metadata": {
        "id": "MgORZ06tBnPi"
      }
    },
    {
      "cell_type": "code",
      "source": [
        "nums = [1, 2, 3]\n",
        "print(2 in nums)\n",
        "print(5 in nums)"
      ],
      "metadata": {
        "colab": {
          "base_uri": "https://localhost:8080/"
        },
        "id": "7C7af3UoBV7i",
        "outputId": "55672d9f-4a96-44ed-c80e-4ba9e5211b0d"
      },
      "execution_count": 18,
      "outputs": [
        {
          "output_type": "stream",
          "name": "stdout",
          "text": [
            "True\n",
            "False\n"
          ]
        }
      ]
    },
    {
      "cell_type": "markdown",
      "source": [
        "For dictionaries, in checks only the keys, not the values."
      ],
      "metadata": {
        "id": "zRk0qLPOB42t"
      }
    },
    {
      "cell_type": "code",
      "source": [
        "student = {\"name\": \"Asha\", \"age\": 20}\n",
        "print(\"name\" in student)\n",
        "print(\"Asha\" in student)"
      ],
      "metadata": {
        "colab": {
          "base_uri": "https://localhost:8080/"
        },
        "id": "nv20_5QcB117",
        "outputId": "85b6d12d-050c-4da6-af6c-d7042c340a85"
      },
      "execution_count": 19,
      "outputs": [
        {
          "output_type": "stream",
          "name": "stdout",
          "text": [
            "True\n",
            "False\n"
          ]
        }
      ]
    },
    {
      "cell_type": "markdown",
      "source": [
        "15. Can you modify the elements of a tuple? Explain why or why not ?\n",
        "- No, you cannot modify the elements of a tuple in Python. Tuples are immutable, which means once they are created, their contents cannot be changed. You cannot add, remove, or update items inside a tuple.\n",
        "\n",
        "The reason behind this immutability is to ensure that the data stored in a tuple remains fixed and secure. This property also allows tuples to be used as dictionary keys or stored in sets, something lists cannot do.\n",
        "\n",
        "If you try to change a tuple element directly, Python will raise an error.\n",
        "\n",
        "Example:"
      ],
      "metadata": {
        "id": "QUnSp_GxCLA2"
      }
    },
    {
      "cell_type": "code",
      "source": [
        "t = (1, 2, 3)\n",
        "t[0] = 10   # Error: 'tuple' object does not support item assignment"
      ],
      "metadata": {
        "colab": {
          "base_uri": "https://localhost:8080/",
          "height": 158
        },
        "id": "7yUOWJ7jB_Vm",
        "outputId": "ccb8b495-ed85-4217-82d0-e6506f19e013"
      },
      "execution_count": 20,
      "outputs": [
        {
          "output_type": "error",
          "ename": "TypeError",
          "evalue": "'tuple' object does not support item assignment",
          "traceback": [
            "\u001b[0;31m---------------------------------------------------------------------------\u001b[0m",
            "\u001b[0;31mTypeError\u001b[0m                                 Traceback (most recent call last)",
            "\u001b[0;32m/tmp/ipython-input-4071208274.py\u001b[0m in \u001b[0;36m<cell line: 0>\u001b[0;34m()\u001b[0m\n\u001b[1;32m      1\u001b[0m \u001b[0mt\u001b[0m \u001b[0;34m=\u001b[0m \u001b[0;34m(\u001b[0m\u001b[0;36m1\u001b[0m\u001b[0;34m,\u001b[0m \u001b[0;36m2\u001b[0m\u001b[0;34m,\u001b[0m \u001b[0;36m3\u001b[0m\u001b[0;34m)\u001b[0m\u001b[0;34m\u001b[0m\u001b[0;34m\u001b[0m\u001b[0m\n\u001b[0;32m----> 2\u001b[0;31m \u001b[0mt\u001b[0m\u001b[0;34m[\u001b[0m\u001b[0;36m0\u001b[0m\u001b[0;34m]\u001b[0m \u001b[0;34m=\u001b[0m \u001b[0;36m10\u001b[0m   \u001b[0;31m# Error: 'tuple' object does not support item assignment\u001b[0m\u001b[0;34m\u001b[0m\u001b[0;34m\u001b[0m\u001b[0m\n\u001b[0m",
            "\u001b[0;31mTypeError\u001b[0m: 'tuple' object does not support item assignment"
          ]
        }
      ]
    },
    {
      "cell_type": "markdown",
      "source": [
        "16. What is a nested dictionary, and give an example of its use case ?\n",
        "- A nested dictionary is a dictionary inside another dictionary. It allows us to store data in multiple levels, where each key can hold another dictionary as its value.\n",
        "\n",
        "This is useful when we want to represent structured data. For example, storing student details where each student has their own dictionary of information:"
      ],
      "metadata": {
        "id": "lDTDoTKHCgMW"
      }
    },
    {
      "cell_type": "code",
      "source": [
        "students = {\n",
        "    \"101\": {\"name\": \"Ravi\", \"age\": 20, \"grade\": \"A\"},\n",
        "    \"102\": {\"name\": \"Meena\", \"age\": 21, \"grade\": \"B\"}\n",
        "}\n",
        "\n",
        "print(students[\"101\"][\"name\"])"
      ],
      "metadata": {
        "colab": {
          "base_uri": "https://localhost:8080/"
        },
        "id": "aGkmkkjwCX8z",
        "outputId": "c44b639b-c4c2-4ad8-9692-75607d0ae8c5"
      },
      "execution_count": 21,
      "outputs": [
        {
          "output_type": "stream",
          "name": "stdout",
          "text": [
            "Ravi\n"
          ]
        }
      ]
    },
    {
      "cell_type": "markdown",
      "source": [
        "In this case, the outer dictionary holds student IDs, and each ID maps to another dictionary containing details of that student."
      ],
      "metadata": {
        "id": "zvoLop9XC0o8"
      }
    },
    {
      "cell_type": "markdown",
      "source": [
        "17. Describe the time complexity of accessing elements in a dictionary ?\n",
        "- In Python, accessing elements in a dictionary is very fast because it uses a hash table internally. On average, the time complexity of accessing a value using its key is O(1), which means constant time regardless of the size of the dictionary.\n",
        "\n",
        "However, in the worst case (when many keys end up with the same hash due to collisions), the time complexity can go up to O(n), but this is very rare because Python handles collisions efficiently.\n",
        "\n",
        "So, practically speaking, dictionary lookups are considered constant-time operations."
      ],
      "metadata": {
        "id": "_fGbpaOiC6Zc"
      }
    },
    {
      "cell_type": "markdown",
      "source": [
        "18. In what situations are lists preferred over dictionaries ?\n",
        "- Lists are preferred when the data does not need key–value mapping and can simply be stored in an ordered sequence. They are useful when:\n",
        "\n",
        "The order of elements matters.\n",
        "\n",
        "- The same value can appear more than once (duplicates are allowed in lists).\n",
        "\n",
        "- You only need to access items by their position (index).\n",
        "\n",
        "- The dataset is small and does not require fast lookups with keys.\n",
        "\n",
        "Example:\n",
        "A list is better for storing a group of numbers like exam scores:"
      ],
      "metadata": {
        "id": "p7WEmctiDGJV"
      }
    },
    {
      "cell_type": "code",
      "source": [
        "scores = [78, 85, 92, 85, 69]"
      ],
      "metadata": {
        "id": "zow6i6yNCugU"
      },
      "execution_count": 24,
      "outputs": []
    },
    {
      "cell_type": "markdown",
      "source": [
        "19. Why are dictionaries considered unordered, and how does that affect data retrieval ?\n",
        "\n",
        "- Dictionaries are considered unordered because the elements are stored based on their hash values, not by the order in which you insert them. In older versions of Python (before 3.7), the insertion order was not even preserved.\n",
        "\n",
        "This means you cannot rely on the position of items in a dictionary like you can with a list. Instead, you always access values by their keys.\n",
        "\n",
        "For example:"
      ],
      "metadata": {
        "id": "R43h_XyEDsyu"
      }
    },
    {
      "cell_type": "code",
      "source": [
        "student = {\"name\": \"Kiran\", \"age\": 21, \"grade\": \"A\"}\n",
        "print(student[\"age\"])"
      ],
      "metadata": {
        "colab": {
          "base_uri": "https://localhost:8080/"
        },
        "id": "kNPaWR_ADVYq",
        "outputId": "2ecce1ff-a404-4ed5-99a8-423c36fe74ea"
      },
      "execution_count": 25,
      "outputs": [
        {
          "output_type": "stream",
          "name": "stdout",
          "text": [
            "21\n"
          ]
        }
      ]
    },
    {
      "cell_type": "markdown",
      "source": [
        "20. Explain the difference between a list and a dictionary in terms of data retrieval.\n",
        "- In a list, data is retrieved using the index position of an element. This means you must know where the item is stored.\n",
        " For example:"
      ],
      "metadata": {
        "id": "dMntrEr-D_w6"
      }
    },
    {
      "cell_type": "code",
      "source": [
        "colors = [\"red\", \"blue\", \"green\"]\n",
        "print(colors[1])"
      ],
      "metadata": {
        "colab": {
          "base_uri": "https://localhost:8080/"
        },
        "id": "whPp_M1SD5wm",
        "outputId": "434a30bb-e59a-4447-c144-b236c2f89086"
      },
      "execution_count": 26,
      "outputs": [
        {
          "output_type": "stream",
          "name": "stdout",
          "text": [
            "blue\n"
          ]
        }
      ]
    },
    {
      "cell_type": "markdown",
      "source": [
        "In a dictionary, data is retrieved using a key instead of a position. This makes it faster and more meaningful because you don’t have to remember the order."
      ],
      "metadata": {
        "id": "pM7fyyjuERcw"
      }
    },
    {
      "cell_type": "code",
      "source": [
        "student = {\"name\": \"Arjun\", \"age\": 20}\n",
        "print(student[\"name\"])"
      ],
      "metadata": {
        "colab": {
          "base_uri": "https://localhost:8080/"
        },
        "id": "fV7YVqfmEMI8",
        "outputId": "220e171b-b1b8-4fac-c0d9-20070761c103"
      },
      "execution_count": 27,
      "outputs": [
        {
          "output_type": "stream",
          "name": "stdout",
          "text": [
            "Arjun\n"
          ]
        }
      ]
    },
    {
      "cell_type": "markdown",
      "source": [
        "So, lists are best when order and position matter, while dictionaries are best when you want quick access using descriptive keys."
      ],
      "metadata": {
        "id": "4PfdHY0CEaCo"
      }
    },
    {
      "cell_type": "markdown",
      "source": [
        "PRACTICAL QUESTIONS"
      ],
      "metadata": {
        "id": "1MydzVL6EbkT"
      }
    },
    {
      "cell_type": "markdown",
      "source": [
        "1. Write a code to create a string with your name and print it."
      ],
      "metadata": {
        "id": "mROavHrqEjJM"
      }
    },
    {
      "cell_type": "code",
      "source": [
        "# creating a string with my name\n",
        "name = \"Yuvraj\"\n",
        "print(name)"
      ],
      "metadata": {
        "colab": {
          "base_uri": "https://localhost:8080/"
        },
        "id": "ifybpVtUEUgs",
        "outputId": "aa3cc3de-1b0c-41f1-bcfc-aa147091132b"
      },
      "execution_count": 28,
      "outputs": [
        {
          "output_type": "stream",
          "name": "stdout",
          "text": [
            "Yuvraj\n"
          ]
        }
      ]
    },
    {
      "cell_type": "markdown",
      "source": [
        "2. Write a code to find the length of the string \"Hello World\"."
      ],
      "metadata": {
        "id": "j8VboVQYE0lb"
      }
    },
    {
      "cell_type": "code",
      "source": [
        "text = \"Hello World\"\n",
        "length = len(text)\n",
        "print(\"Length of the string:\", length)"
      ],
      "metadata": {
        "colab": {
          "base_uri": "https://localhost:8080/"
        },
        "id": "yGZtoHQYEyBg",
        "outputId": "4cbf3231-3397-49b1-fa9d-cbc2d9461ac2"
      },
      "execution_count": 30,
      "outputs": [
        {
          "output_type": "stream",
          "name": "stdout",
          "text": [
            "Length of the string: 11\n"
          ]
        }
      ]
    },
    {
      "cell_type": "markdown",
      "source": [
        "3. Write a code to slice the first 3 characters from the string \"Python Programming\"."
      ],
      "metadata": {
        "id": "0piGEofnFJ6i"
      }
    },
    {
      "cell_type": "code",
      "source": [
        "text = \"Python Programming\"\n",
        "\n",
        "# slicing first 3 characters\n",
        "first_three = text[:3]\n",
        "\n",
        "print( first_three)"
      ],
      "metadata": {
        "colab": {
          "base_uri": "https://localhost:8080/"
        },
        "id": "3_UxGLiFFBiY",
        "outputId": "379b21e0-4c0d-492b-9347-38dc7a53d0ca"
      },
      "execution_count": 32,
      "outputs": [
        {
          "output_type": "stream",
          "name": "stdout",
          "text": [
            "Pyt\n"
          ]
        }
      ]
    },
    {
      "cell_type": "markdown",
      "source": [
        "4. Write a code to convert the string \"hello\" to uppercase.\n"
      ],
      "metadata": {
        "id": "M4ACgQoKFman"
      }
    },
    {
      "cell_type": "code",
      "source": [
        "text = \"hello\"\n",
        "\n",
        "# converting to uppercase\n",
        "upper_text = text.upper()\n",
        "\n",
        "print( upper_text)"
      ],
      "metadata": {
        "colab": {
          "base_uri": "https://localhost:8080/"
        },
        "id": "ZPs5HGHzFUwP",
        "outputId": "3d38dca1-233d-4156-942d-ffcd55f47b0c"
      },
      "execution_count": 34,
      "outputs": [
        {
          "output_type": "stream",
          "name": "stdout",
          "text": [
            "HELLO\n"
          ]
        }
      ]
    },
    {
      "cell_type": "markdown",
      "source": [
        "5. Write a code to replace the word \"apple\" with \"orange\" in the string \"I like apple\"."
      ],
      "metadata": {
        "id": "CDfR2QQHKK0o"
      }
    },
    {
      "cell_type": "code",
      "source": [
        "text = \"I like apple\"\n",
        "\n",
        "# replacing 'apple' with 'orange'\n",
        "new_text = text.replace(\"apple\", \"orange\")\n",
        "\n",
        "print(new_text)"
      ],
      "metadata": {
        "colab": {
          "base_uri": "https://localhost:8080/"
        },
        "id": "cv2dI7r3KHHu",
        "outputId": "31468486-5a35-4bca-f879-c9e9fa5cd7be"
      },
      "execution_count": 35,
      "outputs": [
        {
          "output_type": "stream",
          "name": "stdout",
          "text": [
            "I like orange\n"
          ]
        }
      ]
    },
    {
      "cell_type": "markdown",
      "source": [
        "6. Write a code to create a list with numbers 1 to 5 and print it."
      ],
      "metadata": {
        "id": "Y5IDyNASKaTW"
      }
    },
    {
      "cell_type": "code",
      "source": [
        "numbers = [1, 2, 3, 4, 5]\n",
        "print(numbers)"
      ],
      "metadata": {
        "colab": {
          "base_uri": "https://localhost:8080/"
        },
        "id": "ghycV5VuKXgs",
        "outputId": "6f3a5cf8-b49a-4b60-e317-6bbc3b44e1e1"
      },
      "execution_count": 36,
      "outputs": [
        {
          "output_type": "stream",
          "name": "stdout",
          "text": [
            "[1, 2, 3, 4, 5]\n"
          ]
        }
      ]
    },
    {
      "cell_type": "markdown",
      "source": [
        "7. Write a code to append the number 10 to the list [1, 2, 3, 4]."
      ],
      "metadata": {
        "id": "quVu-_FGKqn6"
      }
    },
    {
      "cell_type": "code",
      "source": [
        "numbers = [1, 2, 3, 4]\n",
        "numbers.append(10)\n",
        "print(numbers)"
      ],
      "metadata": {
        "colab": {
          "base_uri": "https://localhost:8080/"
        },
        "id": "hY0WQWV5KmER",
        "outputId": "014cd37c-0cdd-411a-c914-3ed362e43667"
      },
      "execution_count": 37,
      "outputs": [
        {
          "output_type": "stream",
          "name": "stdout",
          "text": [
            "[1, 2, 3, 4, 10]\n"
          ]
        }
      ]
    },
    {
      "cell_type": "markdown",
      "source": [
        "8. Write a code to remove the number 3 from the list [1, 2, 3, 4, 5]."
      ],
      "metadata": {
        "id": "mInG12FDK5vj"
      }
    },
    {
      "cell_type": "code",
      "source": [
        "numbers = [1, 2, 3, 4, 5]\n",
        "numbers.remove(3)\n",
        "print(numbers)"
      ],
      "metadata": {
        "colab": {
          "base_uri": "https://localhost:8080/"
        },
        "id": "-DMHgkdlK2ov",
        "outputId": "29120db3-1f2f-41af-c8ba-0f9a58d42866"
      },
      "execution_count": 38,
      "outputs": [
        {
          "output_type": "stream",
          "name": "stdout",
          "text": [
            "[1, 2, 4, 5]\n"
          ]
        }
      ]
    },
    {
      "cell_type": "markdown",
      "source": [
        "9. Write a code to access the second element in the list ['a', 'b', 'c', 'd']."
      ],
      "metadata": {
        "id": "2PkHI0d3LJlS"
      }
    },
    {
      "cell_type": "code",
      "source": [
        "letters = ['a', 'b', 'c', 'd']\n",
        "second_element = letters[1]\n",
        "print(second_element)"
      ],
      "metadata": {
        "colab": {
          "base_uri": "https://localhost:8080/"
        },
        "id": "O8yZ7UrGLEyJ",
        "outputId": "a517595d-e217-4b00-841a-81c44806ccf2"
      },
      "execution_count": 39,
      "outputs": [
        {
          "output_type": "stream",
          "name": "stdout",
          "text": [
            "b\n"
          ]
        }
      ]
    },
    {
      "cell_type": "markdown",
      "source": [
        "10. Write a code to reverse the list [10, 20, 30, 40, 50]."
      ],
      "metadata": {
        "id": "mw2h1wKQMNX3"
      }
    },
    {
      "cell_type": "code",
      "source": [
        "numbers = [10, 20, 30, 40, 50]\n",
        "numbers.reverse()\n",
        "print(numbers)"
      ],
      "metadata": {
        "colab": {
          "base_uri": "https://localhost:8080/"
        },
        "id": "gXCOG5DDLV1x",
        "outputId": "37fa0a8a-d54b-49cb-c7d4-228a047046a9"
      },
      "execution_count": 40,
      "outputs": [
        {
          "output_type": "stream",
          "name": "stdout",
          "text": [
            "[50, 40, 30, 20, 10]\n"
          ]
        }
      ]
    },
    {
      "cell_type": "markdown",
      "source": [
        "11. Write a code to create a tuple with the elements 100, 200, 300 and print it."
      ],
      "metadata": {
        "id": "nBLT_Rq1MeJP"
      }
    },
    {
      "cell_type": "code",
      "source": [
        "numbers = (100, 200, 300)\n",
        "print(numbers)"
      ],
      "metadata": {
        "colab": {
          "base_uri": "https://localhost:8080/"
        },
        "id": "5Et9GtxbMaI_",
        "outputId": "d351c3cf-02b1-49e9-dbdd-3e905b81ad91"
      },
      "execution_count": 41,
      "outputs": [
        {
          "output_type": "stream",
          "name": "stdout",
          "text": [
            "(100, 200, 300)\n"
          ]
        }
      ]
    },
    {
      "cell_type": "markdown",
      "source": [
        "12. Write a code to access the second-to-last element of the tuple ('red', 'green', 'blue', 'yellow')."
      ],
      "metadata": {
        "id": "J_x-St-UMr9-"
      }
    },
    {
      "cell_type": "code",
      "source": [
        "colors = ('red', 'green', 'blue', 'yellow')\n",
        "second_last = colors[-2]\n",
        "print(second_last)"
      ],
      "metadata": {
        "colab": {
          "base_uri": "https://localhost:8080/"
        },
        "id": "TsLDdBboMo0g",
        "outputId": "c5851f0b-bb1c-439f-e0cb-1b57cdabfd95"
      },
      "execution_count": 42,
      "outputs": [
        {
          "output_type": "stream",
          "name": "stdout",
          "text": [
            "blue\n"
          ]
        }
      ]
    },
    {
      "cell_type": "markdown",
      "source": [
        "13. Write a code to find the minimum number in the tuple (10, 20, 5, 15)."
      ],
      "metadata": {
        "id": "WY-ajtBKM7WZ"
      }
    },
    {
      "cell_type": "code",
      "source": [
        "numbers = (10, 20, 5, 15)\n",
        "minimum = min(numbers)\n",
        "print(minimum)"
      ],
      "metadata": {
        "colab": {
          "base_uri": "https://localhost:8080/"
        },
        "id": "MkcjUYeBM21o",
        "outputId": "0f3ee6d8-b301-4202-e236-365428eae87c"
      },
      "execution_count": 44,
      "outputs": [
        {
          "output_type": "stream",
          "name": "stdout",
          "text": [
            "5\n"
          ]
        }
      ]
    },
    {
      "cell_type": "markdown",
      "source": [
        "14. Write a code to find the index of the element \"cat\" in the tuple ('dog', 'cat', 'rabbit')."
      ],
      "metadata": {
        "id": "zfrsMaJFNIeQ"
      }
    },
    {
      "cell_type": "code",
      "source": [
        "animals = ('dog', 'cat', 'rabbit')\n",
        "index_cat = animals.index('cat')\n",
        "print(index_cat)"
      ],
      "metadata": {
        "colab": {
          "base_uri": "https://localhost:8080/"
        },
        "id": "uVr3HnKfNDpp",
        "outputId": "8b4af4b6-11fb-4a2e-8ffb-1a90ac68e57f"
      },
      "execution_count": 46,
      "outputs": [
        {
          "output_type": "stream",
          "name": "stdout",
          "text": [
            "1\n"
          ]
        }
      ]
    },
    {
      "cell_type": "markdown",
      "source": [
        "15. Write a code to create a tuple containing three different fruits and check if \"kiwi\" is in it."
      ],
      "metadata": {
        "id": "-OKsOY56NZAF"
      }
    },
    {
      "cell_type": "code",
      "source": [
        "fruits = (\"apple\", \"banana\", \"mango\")\n",
        "is_kiwi_present = \"kiwi\" in fruits\n",
        "print(is_kiwi_present)"
      ],
      "metadata": {
        "colab": {
          "base_uri": "https://localhost:8080/"
        },
        "id": "jyTDnGMANP2Y",
        "outputId": "61eaf035-b0f4-40e5-dfa4-2a20178f7772"
      },
      "execution_count": 48,
      "outputs": [
        {
          "output_type": "stream",
          "name": "stdout",
          "text": [
            "False\n"
          ]
        }
      ]
    },
    {
      "cell_type": "markdown",
      "source": [
        "16. Write a code to create a set with the elements 'a', 'b', 'c' and print it."
      ],
      "metadata": {
        "id": "aL38DTrQNpB_"
      }
    },
    {
      "cell_type": "code",
      "source": [
        "letters = {'a', 'b', 'c'}\n",
        "print(letters)"
      ],
      "metadata": {
        "colab": {
          "base_uri": "https://localhost:8080/"
        },
        "id": "OLVlN6rMNhMo",
        "outputId": "9d10883f-04eb-422e-9d8b-55e8a66c0d97"
      },
      "execution_count": 49,
      "outputs": [
        {
          "output_type": "stream",
          "name": "stdout",
          "text": [
            "{'a', 'b', 'c'}\n"
          ]
        }
      ]
    },
    {
      "cell_type": "markdown",
      "source": [
        "17. Write a code to clear all elements from the set {1, 2, 3, 4, 5}."
      ],
      "metadata": {
        "id": "LaEanPi5NzkN"
      }
    },
    {
      "cell_type": "code",
      "source": [
        "numbers = {1, 2, 3, 4, 5}\n",
        "numbers.clear()\n",
        "print(numbers)"
      ],
      "metadata": {
        "colab": {
          "base_uri": "https://localhost:8080/"
        },
        "id": "1kUcN2_XNvUt",
        "outputId": "2229eae0-b02a-4218-c857-5cadf12d02b6"
      },
      "execution_count": 50,
      "outputs": [
        {
          "output_type": "stream",
          "name": "stdout",
          "text": [
            "set()\n"
          ]
        }
      ]
    },
    {
      "cell_type": "markdown",
      "source": [
        "18. Write a code to remove the element 4 from the set {1, 2, 3, 4}."
      ],
      "metadata": {
        "id": "4xvYXfKAOYkw"
      }
    },
    {
      "cell_type": "code",
      "source": [
        "numbers = {1, 2, 3, 4}\n",
        "numbers.remove(4)\n",
        "print(numbers)"
      ],
      "metadata": {
        "colab": {
          "base_uri": "https://localhost:8080/"
        },
        "id": "w7HPIgDuOAl7",
        "outputId": "ff58e236-a082-4bf3-d6d3-b4796404ef46"
      },
      "execution_count": 51,
      "outputs": [
        {
          "output_type": "stream",
          "name": "stdout",
          "text": [
            "{1, 2, 3}\n"
          ]
        }
      ]
    },
    {
      "cell_type": "markdown",
      "source": [
        "19. Write a code to find the union of two sets {1, 2, 3} and {3, 4, 5}."
      ],
      "metadata": {
        "id": "Mo-wRlKUOsOH"
      }
    },
    {
      "cell_type": "code",
      "source": [
        "set1 = {1, 2, 3}\n",
        "set2 = {3, 4, 5}\n",
        "union_set = set1.union(set2)\n",
        "print(union_set)"
      ],
      "metadata": {
        "colab": {
          "base_uri": "https://localhost:8080/"
        },
        "id": "JazSow0LOjtH",
        "outputId": "f8b63b63-a330-4ea1-a81e-697b24cfc84b"
      },
      "execution_count": 52,
      "outputs": [
        {
          "output_type": "stream",
          "name": "stdout",
          "text": [
            "{1, 2, 3, 4, 5}\n"
          ]
        }
      ]
    },
    {
      "cell_type": "markdown",
      "source": [
        "20. Write a code to find the intersection of two sets {1, 2, 3} and {2, 3, 4}."
      ],
      "metadata": {
        "id": "w5J0hxLIO8yz"
      }
    },
    {
      "cell_type": "code",
      "source": [
        "set1 = {1, 2, 3}\n",
        "set2 = {2, 3, 4}\n",
        "intersection_set = set1.intersection(set2)\n",
        "print(intersection_set)"
      ],
      "metadata": {
        "colab": {
          "base_uri": "https://localhost:8080/"
        },
        "id": "8Cbx8PFjOy9a",
        "outputId": "e62c113d-2598-424c-e1f1-70018172f53e"
      },
      "execution_count": 53,
      "outputs": [
        {
          "output_type": "stream",
          "name": "stdout",
          "text": [
            "{2, 3}\n"
          ]
        }
      ]
    },
    {
      "cell_type": "markdown",
      "source": [
        "21. Write a code to create a dictionary with the keys \"name\", \"age\", and \"city\", and print it."
      ],
      "metadata": {
        "id": "NtMd2fnoPKfx"
      }
    },
    {
      "cell_type": "code",
      "source": [
        "person = {\n",
        "    \"name\": \"Yuvraj\",\n",
        "    \"age\": 20,\n",
        "    \"city\": \"Delhi\"\n",
        "}\n",
        "print(person)"
      ],
      "metadata": {
        "colab": {
          "base_uri": "https://localhost:8080/"
        },
        "id": "0iH_zS28PEsa",
        "outputId": "becbda0d-6a1b-436c-dd8e-365de7033c41"
      },
      "execution_count": 54,
      "outputs": [
        {
          "output_type": "stream",
          "name": "stdout",
          "text": [
            "{'name': 'Yuvraj', 'age': 20, 'city': 'Delhi'}\n"
          ]
        }
      ]
    },
    {
      "cell_type": "markdown",
      "source": [
        "22. Write a code to add a new key-value pair \"country\": \"USA\" to the dictionary {'name': 'John', 'age': 25}."
      ],
      "metadata": {
        "id": "9YkenzXFPYpj"
      }
    },
    {
      "cell_type": "code",
      "source": [
        "person = {'name': 'John', 'age': 25}\n",
        "person['country'] = 'USA'\n",
        "print(person)"
      ],
      "metadata": {
        "colab": {
          "base_uri": "https://localhost:8080/"
        },
        "id": "mBDlsIRGPQcJ",
        "outputId": "dbd36040-39d6-4055-baeb-670e4a6265fe"
      },
      "execution_count": 55,
      "outputs": [
        {
          "output_type": "stream",
          "name": "stdout",
          "text": [
            "{'name': 'John', 'age': 25, 'country': 'USA'}\n"
          ]
        }
      ]
    },
    {
      "cell_type": "markdown",
      "source": [
        "23. Write a code to access the value associated with the key \"name\" in the dictionary {'name': 'Alice', 'age': 30}."
      ],
      "metadata": {
        "id": "P2smXeWNPqv3"
      }
    },
    {
      "cell_type": "code",
      "source": [
        "person = {'name': 'Alice', 'age': 30}\n",
        "name_value = person['name']\n",
        "print(name_value)"
      ],
      "metadata": {
        "colab": {
          "base_uri": "https://localhost:8080/"
        },
        "id": "VL_ELt2ePgxc",
        "outputId": "a941ea8a-7401-4072-b598-f6c5d0104a2b"
      },
      "execution_count": 57,
      "outputs": [
        {
          "output_type": "stream",
          "name": "stdout",
          "text": [
            "Alice\n"
          ]
        }
      ]
    },
    {
      "cell_type": "markdown",
      "source": [
        "24. Write a code to remove the key \"age\" from the dictionary {'name': 'Bob', 'age': 22, 'city': 'New York'}."
      ],
      "metadata": {
        "id": "jYoSKFY8P-AA"
      }
    },
    {
      "cell_type": "code",
      "source": [
        "person = {'name': 'Bob', 'age': 22, 'city': 'New York'}\n",
        "person.pop('age')\n",
        "print(person)"
      ],
      "metadata": {
        "colab": {
          "base_uri": "https://localhost:8080/"
        },
        "id": "nc7bHdYLPzy6",
        "outputId": "7fc291d5-77ab-4c8a-96d4-f3cdac70be1f"
      },
      "execution_count": 58,
      "outputs": [
        {
          "output_type": "stream",
          "name": "stdout",
          "text": [
            "{'name': 'Bob', 'city': 'New York'}\n"
          ]
        }
      ]
    },
    {
      "cell_type": "markdown",
      "source": [
        "25. Write a code to check if the key \"city\" exists in the dictionary {'name': 'Alice', 'city': 'Paris'}."
      ],
      "metadata": {
        "id": "OJHEiZRjQIzs"
      }
    },
    {
      "cell_type": "code",
      "source": [
        "person = {'name': 'Alice', 'city': 'Paris'}\n",
        "has_city = 'city' in person\n",
        "print(has_city)"
      ],
      "metadata": {
        "colab": {
          "base_uri": "https://localhost:8080/"
        },
        "id": "whZt9QtFQFgn",
        "outputId": "d8ae86c0-eaff-4ec1-83be-e15d2fa22827"
      },
      "execution_count": 59,
      "outputs": [
        {
          "output_type": "stream",
          "name": "stdout",
          "text": [
            "True\n"
          ]
        }
      ]
    },
    {
      "cell_type": "markdown",
      "source": [
        "26. Write a code to create a list, a tuple, and a dictionary, and print them all."
      ],
      "metadata": {
        "id": "4lWQr1EjQTvy"
      }
    },
    {
      "cell_type": "code",
      "source": [
        "my_list = [1, 2, 3]\n",
        "my_tuple = (4, 5, 6)\n",
        "my_dict = {\"name\": \"Alice\", \"age\": 25}\n",
        "print(\"List:\", my_list)\n",
        "print(\"Tuple:\", my_tuple)\n",
        "print(\"Dictionary:\", my_dict)"
      ],
      "metadata": {
        "colab": {
          "base_uri": "https://localhost:8080/"
        },
        "id": "OEDGy8jIQQj8",
        "outputId": "f6c11ce1-90a8-48c6-acb0-2436d0d609a1"
      },
      "execution_count": 60,
      "outputs": [
        {
          "output_type": "stream",
          "name": "stdout",
          "text": [
            "List: [1, 2, 3]\n",
            "Tuple: (4, 5, 6)\n",
            "Dictionary: {'name': 'Alice', 'age': 25}\n"
          ]
        }
      ]
    },
    {
      "cell_type": "markdown",
      "source": [
        "27. Write a code to create a list of 5 random numbers between 1 and 100, sort it in ascending order, and print the\n",
        "result.(replaced)"
      ],
      "metadata": {
        "id": "q4svVb85Qi5n"
      }
    },
    {
      "cell_type": "code",
      "source": [
        "import random\n",
        "numbers = [random.randint(1, 100) for _ in range(5)]\n",
        "numbers.sort()\n",
        "print(numbers)"
      ],
      "metadata": {
        "colab": {
          "base_uri": "https://localhost:8080/"
        },
        "id": "NFukCD_6QbfD",
        "outputId": "611854f6-4726-49b5-cbfd-6c85beb12a63"
      },
      "execution_count": 63,
      "outputs": [
        {
          "output_type": "stream",
          "name": "stdout",
          "text": [
            "[2, 25, 25, 37, 74]\n"
          ]
        }
      ]
    },
    {
      "cell_type": "markdown",
      "source": [
        "28. Write a code to create a list with strings and print the element at the third index."
      ],
      "metadata": {
        "id": "SjSiUWnaQu9C"
      }
    },
    {
      "cell_type": "code",
      "source": [
        "fruits = [\"apple\", \"banana\", \"cherry\", \"mango\", \"kiwi\"]\n",
        "third_index_element = fruits[3]\n",
        "print(third_index_element)"
      ],
      "metadata": {
        "colab": {
          "base_uri": "https://localhost:8080/"
        },
        "id": "OXUo-z_AQqyA",
        "outputId": "1d912f29-7a28-4210-bf5a-ef13d28fad9c"
      },
      "execution_count": 64,
      "outputs": [
        {
          "output_type": "stream",
          "name": "stdout",
          "text": [
            "mango\n"
          ]
        }
      ]
    },
    {
      "cell_type": "markdown",
      "source": [
        "29. Write a code to combine two dictionaries into one and print the result."
      ],
      "metadata": {
        "id": "uSAw0iRLQ_WU"
      }
    },
    {
      "cell_type": "code",
      "source": [
        "dict1 = {\"name\": \"Alice\", \"age\": 25}\n",
        "dict2 = {\"city\": \"Paris\", \"country\": \"France\"}\n",
        "combined_dict = {**dict1, **dict2}\n",
        "print(combined_dict)"
      ],
      "metadata": {
        "colab": {
          "base_uri": "https://localhost:8080/"
        },
        "id": "X4KmbGJfQ3f4",
        "outputId": "56bddf63-0f66-438a-9b07-d189b86d6cde"
      },
      "execution_count": 66,
      "outputs": [
        {
          "output_type": "stream",
          "name": "stdout",
          "text": [
            "{'name': 'Alice', 'age': 25, 'city': 'Paris', 'country': 'France'}\n"
          ]
        }
      ]
    },
    {
      "cell_type": "markdown",
      "source": [
        "30. Write a code to convert a list of strings into a set."
      ],
      "metadata": {
        "id": "92HAZ--bRMWB"
      }
    },
    {
      "cell_type": "code",
      "source": [
        "fruits_list = [\"apple\", \"banana\", \"cherry\", \"apple\", \"banana\"]\n",
        "fruits_set = set(fruits_list)\n",
        "print(fruits_set)"
      ],
      "metadata": {
        "colab": {
          "base_uri": "https://localhost:8080/"
        },
        "id": "gRuvVQvkRG5h",
        "outputId": "d20716a9-3760-47eb-fe40-051a886bd683"
      },
      "execution_count": 68,
      "outputs": [
        {
          "output_type": "stream",
          "name": "stdout",
          "text": [
            "{'apple', 'banana', 'cherry'}\n"
          ]
        }
      ]
    },
    {
      "cell_type": "code",
      "source": [],
      "metadata": {
        "id": "uPUtF5qgRUhQ"
      },
      "execution_count": null,
      "outputs": []
    }
  ]
}
