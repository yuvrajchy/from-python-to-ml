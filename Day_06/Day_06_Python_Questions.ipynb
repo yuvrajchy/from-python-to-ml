{
  "nbformat": 4,
  "nbformat_minor": 0,
  "metadata": {
    "colab": {
      "provenance": []
    },
    "kernelspec": {
      "name": "python3",
      "display_name": "Python 3"
    },
    "language_info": {
      "name": "python"
    }
  },
  "cells": [
    {
      "cell_type": "markdown",
      "source": [
        "Introduction to python"
      ],
      "metadata": {
        "id": "6dBWy_TOlzyw"
      }
    },
    {
      "cell_type": "markdown",
      "source": [
        "1. What are Python’s built-in data types?\n",
        "\n",
        " Python has several built-in data types,grouped into categories:\n",
        "\n",
        "🔹 Basic (primitive) Types\n",
        "- int → integers(2,-22)\n",
        "- float → decimal numbers(3.14,1.29)\n",
        "- complex → complex numbers(2+3j)\n",
        "- bool → boolean(True,False)\n",
        "- None type → None(represents no value)\n",
        "\n",
        "🔹 Sequence Types\n",
        "\n",
        "- str → string of characters(\"Hello\")\n",
        "- list → ordered, mutable collection([1,2,3])\n",
        "- tuple → ordered, immutable collection([1,2,3])\n",
        "- range → sequence of numbers(range(5))→0,1,2,3,4\n",
        "\n",
        "🔹 Set Types\n",
        "\n",
        "- set → unordered, unique items ({1, 2, 3})\n",
        "- frozenset → immutable set (frozenset([1, 2, 3]))\n",
        "\n",
        "🔹 Mapping Type\n",
        "\n",
        "- dict → key-value pairs ({\"name\": \"Yuvraj\", \"age\": 19})"
      ],
      "metadata": {
        "id": "H9AXckv9lwrT"
      }
    },
    {
      "cell_type": "markdown",
      "source": [
        "2. Why Python is used extensively in Data Science?\n",
        "\n",
        "🔹Python is used extensively in Data Science because\n",
        "\n",
        "- Easy to Learn & Readable\n",
        "\n",
        "- Python syntax is simple (like English), so beginners can quickly start coding.\n",
        "\n",
        "- Less time fighting with language, more time focusing on solving problems.\n",
        "\n",
        "- Rich Ecosystem of Libraries\n",
        "\n",
        "- NumPy → numerical computing, arrays, linear algebra.\n",
        "\n",
        "- Pandas → data cleaning, manipulation, analysis.\n",
        "\n",
        "- Matplotlib/Seaborn/Plotly → data visualization.\n",
        "\n",
        "- Scikit-learn → machine learning algorithms.\n",
        "\n",
        "- TensorFlow/PyTorch → deep learning.\n",
        "\n",
        "👉 These libraries save time — We don’t reinvent the wheel.\n",
        "\n",
        "- Integration with Data & Tools\n",
        "\n",
        "- Strong Community Support.\n",
        "\n",
        "- Huge open-source community → solutions available on StackOverflow, GitHub, Kaggle.\n",
        "\n",
        "- Faster troubleshooting + lots of free learning resources.\n",
        "\n",
        "- Versatility\n",
        "\n",
        "- Not just for Data Science → also used in Web Dev, Automation, AI, Finance, Robotics.\n",
        "\n",
        "- This makes Us flexible in career options.\n",
        "\n",
        "- Free & Open Source\n",
        "\n",
        "- No license fee, works on Windows, Mac, Linux.\n",
        "\n",
        "- Easy adoption by companies & individuals."
      ],
      "metadata": {
        "id": "2ARnbrz3vJ62"
      }
    },
    {
      "cell_type": "markdown",
      "source": [
        "3. Explain the difference between lists and tuples in Python.\n",
        "\n",
        "🔹Difference between List and Tuple in Python\n",
        "\n",
        "- List is mutable – we can change, add, or remove elements after creation.\n",
        "- Tuple is immutable – once created, elements cannot be changed.\n",
        "\n",
        "- List uses square brackets → [1, 2, 3].\n",
        "- Tuple uses parentheses → (1, 2, 3).\n",
        "\n",
        "- List is slower because it is mutable.\n",
        "- Tuple is faster because it is immutable.\n",
        "\n",
        "- List has many methods like append(), remove(), sort().\n",
        "- Tuple has very few methods like count() and index().\n",
        "\n",
        "- List is used when data can change (marks, shopping cart).\n",
        "- Tuple is used when data must stay fixed (coordinates, constants)."
      ],
      "metadata": {
        "id": "gOc8ioRbDJdL"
      }
    },
    {
      "cell_type": "markdown",
      "source": [
        "4. What are Python’s predefined keywords and their uses?\n",
        "\n",
        "🔹 Python’s Predefined Keywords\n",
        "\n",
        "- Keywords are reserved words in Python.\n",
        "- They have special meaning and cannot be used as variable names.\n",
        "- Python has 35+ keywords (number may increase in new versions).\n",
        "\n",
        "🔹 Common Keywords and Their Uses\n",
        "\n",
        "- False / True → Boolean values.\n",
        "\n",
        "- None → Represents nothing or null value.\n",
        "\n",
        "- and, or, not → Logical operators.\n",
        "\n",
        "- if, elif, else → Conditional statements.\n",
        "\n",
        "- for, while → Loops.\n",
        "\n",
        "- break, continue, pass → Control flow inside loops.\n",
        "\n",
        "- def → To define a function.\n",
        "\n",
        "- return → To return a value from function.\n",
        "\n",
        "- lambda → To create anonymous (inline) functions.\n",
        "\n",
        "- class → To define a class.\n",
        "\n",
        "- object → Base for all classes.\n",
        "\n",
        "- try, except, finally, raise, assert → Exception handling.\n",
        "\n",
        "- import, from, as → Import modules and rename them."
      ],
      "metadata": {
        "id": "N6Bm9YvSEA7m"
      }
    },
    {
      "cell_type": "markdown",
      "source": [
        "5. How does Python handle mutability and immutability?\n",
        "\n",
        "🔹 Mutability vs Immutability in Python\n",
        "\n",
        "Mutable objects → Can be changed after creation.\n",
        "Examples → list, dict, set, bytearray.\n",
        "\n",
        "Immutable objects → Cannot be changed after creation.\n",
        "Examples → int, float, str, tuple, frozenset.\n",
        "\n",
        "🔹 How Python Handles Them\n",
        "\n",
        "For mutable objects, Python keeps the same memory location when values change.\n",
        "Example:"
      ],
      "metadata": {
        "id": "1ZjtGsP1EwV2"
      }
    },
    {
      "cell_type": "code",
      "source": [
        "x = [1, 2, 3]\n",
        "print(x)"
      ],
      "metadata": {
        "colab": {
          "base_uri": "https://localhost:8080/"
        },
        "id": "C4gvEk5QFOu2",
        "outputId": "1f71eff2-d9dc-422b-e3de-80acf1f0ccb9"
      },
      "execution_count": 1,
      "outputs": [
        {
          "output_type": "stream",
          "name": "stdout",
          "text": [
            "[1, 2, 3]\n"
          ]
        }
      ]
    },
    {
      "cell_type": "code",
      "source": [
        "x.append(4)\n",
        "print(x)"
      ],
      "metadata": {
        "colab": {
          "base_uri": "https://localhost:8080/"
        },
        "id": "9fAAAXa2MdIA",
        "outputId": "ac54c531-2dec-49f8-aedc-5b1eba3fb969"
      },
      "execution_count": 2,
      "outputs": [
        {
          "output_type": "stream",
          "name": "stdout",
          "text": [
            "[1, 2, 3, 4]\n"
          ]
        }
      ]
    },
    {
      "cell_type": "markdown",
      "source": [
        "For immutable objects, Python creates a new object whenever you try to change value.\n",
        "Example:"
      ],
      "metadata": {
        "id": "pucdbuVkLFzu"
      }
    },
    {
      "cell_type": "code",
      "source": [
        "y = \"hello\"\n",
        "print(y)"
      ],
      "metadata": {
        "colab": {
          "base_uri": "https://localhost:8080/"
        },
        "id": "4Jn3RATBK5sz",
        "outputId": "ad8b7ffb-36e9-4ad0-e106-489b17bdf760"
      },
      "execution_count": 3,
      "outputs": [
        {
          "output_type": "stream",
          "name": "stdout",
          "text": [
            "hello\n"
          ]
        }
      ]
    },
    {
      "cell_type": "code",
      "source": [
        "y = y + \" world\" # new string created\n",
        "print(y)"
      ],
      "metadata": {
        "colab": {
          "base_uri": "https://localhost:8080/"
        },
        "id": "HLLnDwEgMvg3",
        "outputId": "ecd04bb2-c3ab-42a0-ff7d-2ea82f1d0454"
      },
      "execution_count": 4,
      "outputs": [
        {
          "output_type": "stream",
          "name": "stdout",
          "text": [
            "hello world\n"
          ]
        }
      ]
    },
    {
      "cell_type": "markdown",
      "source": [
        "- Mutables are useful for collections where data updates frequently.\n",
        "\n",
        "- Immutables ensure safety, consistency, and hashability (e.g., keys in dictionaries must be immutable)."
      ],
      "metadata": {
        "id": "sC97abKALURS"
      }
    },
    {
      "cell_type": "markdown",
      "source": [
        "6. What is the significance of mutability in Python data structures?\n",
        "\n",
        "🔹Significance of Mutability in Python Data Structures\n",
        "\n",
        "- Mutable objects (like lists, dictionaries, sets) can be changed in place.\n",
        "\n",
        "- Immutable objects (like strings, tuples, integers) cannot be changed, any modification creates a new object.\n",
        "\n",
        "- Efficiency – mutable types are more efficient when frequent updates are needed.\n",
        "\n",
        "- Safety – immutable types are safer, prevent accidental changes, and can be used as dictionary keys.\n",
        "\n",
        "- Design choice – use mutable when data must be updated often, use immutable for fixed or secure data."
      ],
      "metadata": {
        "id": "QaIA8rn0NoHj"
      }
    },
    {
      "cell_type": "markdown",
      "source": [
        "7. Explain different types of operators in Python (Arithmetic, Logical, etc.).\n",
        "\n",
        "🔹Types of Operators in Python\n",
        "\n",
        "- Arithmetic Operators – perform basic math like addition, subtraction, multiplication, division, remainder, power, and floor division.\n",
        "\n",
        "- Relational (Comparison) Operators – compare two values and return True or False (equal, not equal, greater, smaller, etc.).\n",
        "\n",
        "- Logical Operators – combine multiple conditions; used to check if all, any, or none of the conditions are true.\n",
        "\n",
        "- Assignment Operators – assign values to variables; can also update a variable in place (like adding and reassigning in one step).\n",
        "\n",
        "- Bitwise Operators – work on the binary representation of numbers (AND, OR, XOR, complement, shift left, shift right).\n",
        "\n",
        "- Identity Operators – check whether two variables point to the same object in memory.\n",
        "\n",
        "- Membership Operators – check whether a value or element exists inside a sequence like a list, string, or set."
      ],
      "metadata": {
        "id": "AfChupLnU--1"
      }
    },
    {
      "cell_type": "markdown",
      "source": [
        "8. How do you perform type casting in Python? 1\n",
        "\n",
        "1 Definition – Type casting is the process of converting one data type into another.\n",
        "\n",
        "2 Types of Casting:\n",
        "\n",
        "Implicit Type Casting – Python automatically converts smaller data types into larger ones to avoid data loss (e.g., int → float).\n",
        "\n",
        "Explicit Type Casting – The programmer manually converts data using functions like int(), float(), str(), list(), tuple(), etc.\n",
        "\n",
        "3 Use Case – It helps in data compatibility, calculations, and working with user inputs."
      ],
      "metadata": {
        "id": "2AD8QZ4yVA5x"
      }
    },
    {
      "cell_type": "markdown",
      "source": [
        "9. Explain the difference between implicit and explicit type casting in Python.\n",
        "\n",
        "🔹 Difference Between Implicit and Explicit Type Casting in Python\n",
        "\n",
        "1. Implicit Type Casting (Type Conversion)\n",
        "\n",
        "- Done automatically by Python.\n",
        "\n",
        "- Converts smaller data types to larger ones to prevent data loss.\n",
        "\n",
        "Example: int automatically becomes float in operations.\n",
        "\n",
        "2. Explicit Type Casting (Type Casting)\n",
        "\n",
        "- Done manually by the programmer.\n",
        "\n",
        "- Uses built-in functions like int(), float(), str(), list(), tuple().\n",
        "\n",
        "- Gives full control over how data is converted.\n",
        "\n",
        "3. Key Difference\n",
        "\n",
        "- Implicit → automatic, no programmer involvement.\n",
        "\n",
        "- Explicit → manual, requires casting functions."
      ],
      "metadata": {
        "id": "9BG1v1IMU7w6"
      }
    },
    {
      "cell_type": "markdown",
      "source": [
        "10. What is the significance of conditionals in Python?\n",
        "\n",
        "🔹Significance of Conditionals in Python\n",
        "\n",
        "- Definition – Conditionals allow decision-making in programs using if, elif, and else.\n",
        "\n",
        "- Control Flow – They help control the execution flow based on conditions.\n",
        "\n",
        "- Dynamic Behavior – Programs can respond differently depending on input or situation.\n",
        "\n",
        "- Efficiency – Avoids unnecessary execution of code by running only the required block.\n",
        "\n",
        "- Use Case – Essential for logic building, validations, automation, and handling multiple scenarios."
      ],
      "metadata": {
        "id": "gv7j_QJ9dN2A"
      }
    },
    {
      "cell_type": "markdown",
      "source": [
        "11. How would you implement a switch-case statement in Python?\n",
        "\n",
        "Python doesn’t have a direct switch-case like C, C++, or Java.\n",
        "\n",
        "To achieve the same behavior, we use different approaches:\n",
        "\n",
        "a) Using if-elif-else\n",
        "\n",
        "- Write multiple conditions using if, elif, and else.\n",
        "\n",
        "- Each condition works like a case.\n",
        "\n",
        "b) Using Dictionary Mapping\n",
        "\n",
        "- Store possible cases as keys in a dictionary.\n",
        "\n",
        "- Their corresponding values (or functions) act as case results.\n",
        "\n",
        "- Faster and cleaner than multiple if-elif.\n",
        "\n",
        "c) Using match-case (Python 3.10+)\n",
        "\n",
        "- A new feature in Python.\n",
        "\n",
        "- Works almost the same as switch-case.\n",
        "\n",
        "- Allows direct pattern matching.\n",
        "\n",
        "Significance – These methods make the code more organized, easier to read, and avoid writing too many repetitive if-elif statements."
      ],
      "metadata": {
        "id": "pOERpCIhdgt4"
      }
    },
    {
      "cell_type": "markdown",
      "source": [
        "12. What are loops in Python? How do you differentiate between for and while loops?\n",
        "\n",
        "Loops in Python\n",
        "\n",
        "🔹Definition – Loops are used to execute a block of code repeatedly until a condition is met.\n",
        "\n",
        "🔹Purpose – Automates repetitive tasks, avoids writing the same code multiple times.\n",
        "\n",
        "Types of Loops in Python\n",
        "\n",
        "1. for loop\n",
        "\n",
        "- Iterates over a sequence (like list, tuple, string, or range).\n",
        "\n",
        "- Number of iterations is usually known in advance.\n",
        "\n",
        "- Example use: going through elements of a list.\n",
        "\n",
        "2. while loop\n",
        "\n",
        "- Runs until a condition becomes False.\n",
        "\n",
        "- Number of iterations is not fixed; depends on the condition.\n",
        "\n",
        "- Example use: repeat until user input matches something."
      ],
      "metadata": {
        "id": "1IXB0923d-d_"
      }
    },
    {
      "cell_type": "markdown",
      "source": [
        "13. How do you use break, continue, and pass in Python loops?\n",
        "ontrol Statements in Python Loops\n",
        "\n",
        "🔹break\n",
        "\n",
        "- Immediately exits the loop, no further iterations.\n",
        "\n",
        "- Used when you want to stop the loop based on a condition.\n",
        "\n",
        "🔹continue\n",
        "\n",
        "- Skips the current iteration and moves to the next one.\n",
        "\n",
        "- Used when you want to ignore certain cases but continue looping.\n",
        "\n",
        "🔹pass\n",
        "\n",
        "- Does nothing (just a placeholder).\n",
        "\n",
        "- Used when a statement is syntactically required but you don’t want any action.\n",
        "\n",
        "🔹Difference in One Line\n",
        "\n",
        "break → Ends the loop.\n",
        "\n",
        "continue → Skips to next iteration.\n",
        "\n",
        "pass → Does nothing, just holds space.\n",
        "\n",
        "1. break\n",
        "\n",
        "📌 Example: You are searching for your lost book in a stack.\n",
        "\n",
        "Once you find it, you stop searching immediately (exit the loop).\n",
        "\n",
        "2. continue\n",
        "\n",
        "📌 Example: You are checking fruits in a basket.\n",
        "\n",
        "If you find a rotten fruit, you skip it but continue checking the rest.\n",
        "\n",
        "3. pass\n",
        "\n",
        "📌 Example: You are making a to-do list.\n",
        "\n",
        "One item is “decide gift for friend,” but you haven’t thought of it yet.\n",
        "\n",
        "You leave it empty for now (placeholder, no action)."
      ],
      "metadata": {
        "id": "p8VUkPdkeXm7"
      }
    }
  ]
}
