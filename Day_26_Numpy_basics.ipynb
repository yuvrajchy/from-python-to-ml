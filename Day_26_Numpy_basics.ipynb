{
  "cells": [
    {
      "cell_type": "code",
      "execution_count": null,
      "id": "0c11627c-28be-4891-aa4e-a13d83f0a4e0",
      "metadata": {
        "id": "0c11627c-28be-4891-aa4e-a13d83f0a4e0"
      },
      "outputs": [],
      "source": [
        "#numpy>> numerical python\n",
        "#2005 by Travis Oliphant\n",
        "#before 2005 there were special mathematical tools (similar to Tora, Linga)"
      ]
    },
    {
      "cell_type": "code",
      "execution_count": null,
      "id": "92cc0cd6-d200-4cc5-86b7-fc0ca5bcfd7d",
      "metadata": {
        "id": "92cc0cd6-d200-4cc5-86b7-fc0ca5bcfd7d"
      },
      "outputs": [],
      "source": [
        "import numpy as np #as is alias"
      ]
    },
    {
      "cell_type": "code",
      "execution_count": null,
      "id": "715f59f2-67b8-4282-b292-4a1c8a12d227",
      "metadata": {
        "id": "715f59f2-67b8-4282-b292-4a1c8a12d227",
        "outputId": "9625f4cd-f68f-43d7-a8c1-972bfecc762d"
      },
      "outputs": [
        {
          "data": {
            "text/plain": [
              "'1.23.5'"
            ]
          },
          "execution_count": 3,
          "metadata": {},
          "output_type": "execute_result"
        }
      ],
      "source": [
        "np.__version__"
      ]
    },
    {
      "cell_type": "code",
      "execution_count": null,
      "id": "6d8987e1-1b58-46a7-b4fe-967c575d9b2f",
      "metadata": {
        "id": "6d8987e1-1b58-46a7-b4fe-967c575d9b2f",
        "outputId": "e388cb4a-099d-4419-d123-e0381ed2ab60"
      },
      "outputs": [
        {
          "name": "stdout",
          "output_type": "stream",
          "text": [
            "\n",
            "NumPy\n",
            "=====\n",
            "\n",
            "Provides\n",
            "  1. An array object of arbitrary homogeneous items\n",
            "  2. Fast mathematical operations over arrays\n",
            "  3. Linear Algebra, Fourier Transforms, Random Number Generation\n",
            "\n",
            "How to use the documentation\n",
            "----------------------------\n",
            "Documentation is available in two forms: docstrings provided\n",
            "with the code, and a loose standing reference guide, available from\n",
            "`the NumPy homepage <https://numpy.org>`_.\n",
            "\n",
            "We recommend exploring the docstrings using\n",
            "`IPython <https://ipython.org>`_, an advanced Python shell with\n",
            "TAB-completion and introspection capabilities.  See below for further\n",
            "instructions.\n",
            "\n",
            "The docstring examples assume that `numpy` has been imported as `np`::\n",
            "\n",
            "  >>> import numpy as np\n",
            "\n",
            "Code snippets are indicated by three greater-than signs::\n",
            "\n",
            "  >>> x = 42\n",
            "  >>> x = x + 1\n",
            "\n",
            "Use the built-in ``help`` function to view a function's docstring::\n",
            "\n",
            "  >>> help(np.sort)\n",
            "  ... # doctest: +SKIP\n",
            "\n",
            "For some objects, ``np.info(obj)`` may provide additional help.  This is\n",
            "particularly true if you see the line \"Help on ufunc object:\" at the top\n",
            "of the help() page.  Ufuncs are implemented in C, not Python, for speed.\n",
            "The native Python help() does not know how to view their help, but our\n",
            "np.info() function does.\n",
            "\n",
            "To search for documents containing a keyword, do::\n",
            "\n",
            "  >>> np.lookfor('keyword')\n",
            "  ... # doctest: +SKIP\n",
            "\n",
            "General-purpose documents like a glossary and help on the basic concepts\n",
            "of numpy are available under the ``doc`` sub-module::\n",
            "\n",
            "  >>> from numpy import doc\n",
            "  >>> help(doc)\n",
            "  ... # doctest: +SKIP\n",
            "\n",
            "Available subpackages\n",
            "---------------------\n",
            "lib\n",
            "    Basic functions used by several sub-packages.\n",
            "random\n",
            "    Core Random Tools\n",
            "linalg\n",
            "    Core Linear Algebra Tools\n",
            "fft\n",
            "    Core FFT routines\n",
            "polynomial\n",
            "    Polynomial tools\n",
            "testing\n",
            "    NumPy testing tools\n",
            "distutils\n",
            "    Enhancements to distutils with support for\n",
            "    Fortran compilers support and more.\n",
            "\n",
            "Utilities\n",
            "---------\n",
            "test\n",
            "    Run numpy unittests\n",
            "show_config\n",
            "    Show numpy build configuration\n",
            "dual\n",
            "    Overwrite certain functions with high-performance SciPy tools.\n",
            "    Note: `numpy.dual` is deprecated.  Use the functions from NumPy or Scipy\n",
            "    directly instead of importing them from `numpy.dual`.\n",
            "matlib\n",
            "    Make everything matrices.\n",
            "__version__\n",
            "    NumPy version string\n",
            "\n",
            "Viewing documentation using IPython\n",
            "-----------------------------------\n",
            "Start IPython with the NumPy profile (``ipython -p numpy``), which will\n",
            "import `numpy` under the alias `np`.  Then, use the ``cpaste`` command to\n",
            "paste examples into the shell.  To see which functions are available in\n",
            "`numpy`, type ``np.<TAB>`` (where ``<TAB>`` refers to the TAB key), or use\n",
            "``np.*cos*?<ENTER>`` (where ``<ENTER>`` refers to the ENTER key) to narrow\n",
            "down the list.  To view the docstring for a function, use\n",
            "``np.cos?<ENTER>`` (to view the docstring) and ``np.cos??<ENTER>`` (to view\n",
            "the source code).\n",
            "\n",
            "Copies vs. in-place operation\n",
            "-----------------------------\n",
            "Most of the functions in `numpy` return a copy of the array argument\n",
            "(e.g., `np.sort`).  In-place versions of these functions are often\n",
            "available as array methods, i.e. ``x = np.array([1,2,3]); x.sort()``.\n",
            "Exceptions to this rule are documented.\n",
            "\n",
            "\n"
          ]
        }
      ],
      "source": [
        "print(np.__doc__)"
      ]
    },
    {
      "cell_type": "code",
      "execution_count": null,
      "id": "8b525f66-0bac-47ff-9c1d-856b3e904ea7",
      "metadata": {
        "id": "8b525f66-0bac-47ff-9c1d-856b3e904ea7",
        "outputId": "4a2b26e0-645d-4a58-de7a-158d513bcc07"
      },
      "outputs": [
        {
          "data": {
            "text/plain": [
              "list"
            ]
          },
          "execution_count": 5,
          "metadata": {},
          "output_type": "execute_result"
        }
      ],
      "source": [
        "lis = [1, 2, 3, \"pwskills\", 3+5j, True, 1.2] #list stores heterogenous data\n",
        "type(lis)"
      ]
    },
    {
      "cell_type": "code",
      "execution_count": null,
      "id": "5304f690-0e53-4730-bbfd-5c29a52bb22d",
      "metadata": {
        "id": "5304f690-0e53-4730-bbfd-5c29a52bb22d"
      },
      "outputs": [],
      "source": [
        "#Numpy stored the data in a numpy array\n",
        "#An array is a container/data structure used to store data of same data type>> homogenous"
      ]
    },
    {
      "cell_type": "code",
      "execution_count": null,
      "id": "ed243b2a-61d1-4859-9ee1-5f0ae599c152",
      "metadata": {
        "id": "ed243b2a-61d1-4859-9ee1-5f0ae599c152"
      },
      "outputs": [],
      "source": [
        "#why numpy? already we have list, C is one of the fastest programming language after c++\n",
        "#numpy is built using C>> Numpy computation is fast\n",
        "#due to array>>since it stores only homogenous data, numpy array is faster\n",
        "#since it stores homogenous data>> contiguous/continuous memory location\n",
        "#Mathematical computation is fast"
      ]
    },
    {
      "cell_type": "code",
      "execution_count": null,
      "id": "71e5a1d5-fb8d-4603-9153-86c4347b4e6d",
      "metadata": {
        "id": "71e5a1d5-fb8d-4603-9153-86c4347b4e6d"
      },
      "outputs": [],
      "source": [
        "l = [1, 2, 3, 4, 5] #numpy array is homogenous>>all elements can be interger, float, string"
      ]
    },
    {
      "cell_type": "code",
      "execution_count": null,
      "id": "6e47d24d-a888-4eee-a667-e1703ee429d3",
      "metadata": {
        "id": "6e47d24d-a888-4eee-a667-e1703ee429d3"
      },
      "outputs": [],
      "source": [
        "arr = np.array(l) #numpy.ndarray>>n dimensional array"
      ]
    },
    {
      "cell_type": "code",
      "execution_count": null,
      "id": "41b76bbd-1d1d-463e-95a2-f25804c92b92",
      "metadata": {
        "id": "41b76bbd-1d1d-463e-95a2-f25804c92b92",
        "outputId": "0578f09b-723d-4992-f5fd-5c2878c1628e"
      },
      "outputs": [
        {
          "data": {
            "text/plain": [
              "numpy.ndarray"
            ]
          },
          "execution_count": 11,
          "metadata": {},
          "output_type": "execute_result"
        }
      ],
      "source": [
        "type(arr)"
      ]
    },
    {
      "cell_type": "code",
      "execution_count": null,
      "id": "f5f74c84-892a-46e5-9333-74589de23110",
      "metadata": {
        "id": "f5f74c84-892a-46e5-9333-74589de23110",
        "outputId": "4f4af3ef-1a19-4fe1-ccb4-5a7f6ccbe287"
      },
      "outputs": [
        {
          "data": {
            "text/plain": [
              "array([1, 2, 3, 4, 5])"
            ]
          },
          "execution_count": 13,
          "metadata": {},
          "output_type": "execute_result"
        }
      ],
      "source": [
        "arr"
      ]
    },
    {
      "cell_type": "code",
      "execution_count": null,
      "id": "dec833ce-4d9b-40fc-9012-1193c08116d7",
      "metadata": {
        "id": "dec833ce-4d9b-40fc-9012-1193c08116d7",
        "outputId": "26d87609-a7e5-45c1-ba55-6629300536d5"
      },
      "outputs": [
        {
          "data": {
            "text/plain": [
              "array(['1', '2', '3', '4', '5', 'Ajay'], dtype='<U21')"
            ]
          },
          "execution_count": 12,
          "metadata": {},
          "output_type": "execute_result"
        }
      ],
      "source": [
        "l = [1, 2, 3, 4, 5, \"Ajay\"]\n",
        "np.array(l)"
      ]
    },
    {
      "cell_type": "code",
      "execution_count": null,
      "id": "e60b4290-1c5d-4781-8b9f-afe63fd7fef1",
      "metadata": {
        "id": "e60b4290-1c5d-4781-8b9f-afe63fd7fef1"
      },
      "outputs": [],
      "source": [
        "#array stores homogenous data"
      ]
    },
    {
      "cell_type": "code",
      "execution_count": null,
      "id": "d75db728-8203-474d-af7a-6609bbb0259e",
      "metadata": {
        "id": "d75db728-8203-474d-af7a-6609bbb0259e",
        "outputId": "8ad257ad-fb28-4e75-d262-a619a8440900"
      },
      "outputs": [
        {
          "data": {
            "text/plain": [
              "array([1. , 2. , 3. , 4. , 5. , 2.5])"
            ]
          },
          "execution_count": 14,
          "metadata": {},
          "output_type": "execute_result"
        }
      ],
      "source": [
        "l = [1, 2, 3, 4, 5, 2.5]\n",
        "np.array(l)"
      ]
    },
    {
      "cell_type": "code",
      "execution_count": null,
      "id": "2c43feb2-119f-45ce-8d61-b3146a6bc42d",
      "metadata": {
        "id": "2c43feb2-119f-45ce-8d61-b3146a6bc42d",
        "outputId": "46274d44-6f8f-43a9-d193-9b926b23488d"
      },
      "outputs": [
        {
          "data": {
            "text/plain": [
              "array(['1', '2', '3', '4', '5', '2.5', 'pwskills'], dtype='<U32')"
            ]
          },
          "execution_count": 15,
          "metadata": {},
          "output_type": "execute_result"
        }
      ],
      "source": [
        "l = [1, 2, 3, 4, 5, 2.5, \"pwskills\"]\n",
        "np.array(l)"
      ]
    },
    {
      "cell_type": "code",
      "execution_count": null,
      "id": "63df7c3e-a659-4150-8ab3-3f2c955e18c3",
      "metadata": {
        "id": "63df7c3e-a659-4150-8ab3-3f2c955e18c3",
        "outputId": "67b75a87-030a-458c-a65e-49d75276c8a0"
      },
      "outputs": [
        {
          "data": {
            "text/plain": [
              "numpy.ndarray"
            ]
          },
          "execution_count": 16,
          "metadata": {},
          "output_type": "execute_result"
        }
      ],
      "source": [
        "type(arr)"
      ]
    },
    {
      "cell_type": "code",
      "execution_count": null,
      "id": "a759a228-12ed-4e56-ba44-8e293848fa2b",
      "metadata": {
        "id": "a759a228-12ed-4e56-ba44-8e293848fa2b",
        "outputId": "a10f2f40-a760-47a7-e199-00130bcdd0bf"
      },
      "outputs": [
        {
          "data": {
            "text/plain": [
              "array([1, 2, 3, 4, 5])"
            ]
          },
          "execution_count": 17,
          "metadata": {},
          "output_type": "execute_result"
        }
      ],
      "source": [
        "arr"
      ]
    },
    {
      "cell_type": "code",
      "execution_count": null,
      "id": "5a111f78-520c-4c04-b264-e1a866f1a34e",
      "metadata": {
        "id": "5a111f78-520c-4c04-b264-e1a866f1a34e",
        "outputId": "b65920eb-57cb-4498-abb4-1f9c41db0e41"
      },
      "outputs": [
        {
          "data": {
            "text/plain": [
              "1"
            ]
          },
          "execution_count": 18,
          "metadata": {},
          "output_type": "execute_result"
        }
      ],
      "source": [
        "arr.ndim #arr has only rows"
      ]
    },
    {
      "cell_type": "code",
      "execution_count": null,
      "id": "3f0de339-cb9e-45d8-b3d3-21ca151d1dbf",
      "metadata": {
        "id": "3f0de339-cb9e-45d8-b3d3-21ca151d1dbf"
      },
      "outputs": [],
      "source": [
        "arr1 = np.array([[1, 2, 3], [4, 5, 6]])"
      ]
    },
    {
      "cell_type": "code",
      "execution_count": null,
      "id": "2a0eb8d8-097f-4860-85c4-5d21965733e6",
      "metadata": {
        "id": "2a0eb8d8-097f-4860-85c4-5d21965733e6",
        "outputId": "cc399f75-0ccc-4458-8dd9-bcd26e8d696f"
      },
      "outputs": [
        {
          "data": {
            "text/plain": [
              "array([[1, 2, 3],\n",
              "       [4, 5, 6]])"
            ]
          },
          "execution_count": 21,
          "metadata": {},
          "output_type": "execute_result"
        }
      ],
      "source": [
        "arr1"
      ]
    },
    {
      "cell_type": "code",
      "execution_count": null,
      "id": "afe7ecb7-bbc5-4009-8577-414a180ac521",
      "metadata": {
        "id": "afe7ecb7-bbc5-4009-8577-414a180ac521",
        "outputId": "56876d40-a358-464d-d3ce-f489c10eb1ea"
      },
      "outputs": [
        {
          "data": {
            "text/plain": [
              "2"
            ]
          },
          "execution_count": 22,
          "metadata": {},
          "output_type": "execute_result"
        }
      ],
      "source": [
        "arr1.ndim"
      ]
    },
    {
      "cell_type": "code",
      "execution_count": null,
      "id": "bd4b9850-0d4b-4ae7-b2dc-e73d41e265f9",
      "metadata": {
        "id": "bd4b9850-0d4b-4ae7-b2dc-e73d41e265f9"
      },
      "outputs": [],
      "source": [
        "mat = np.matrix([1, 2, 3, 4]) #matrix is a specialised array of 2 dimension"
      ]
    },
    {
      "cell_type": "code",
      "execution_count": null,
      "id": "93c3a4d2-468b-4833-9d36-33f5014a687e",
      "metadata": {
        "id": "93c3a4d2-468b-4833-9d36-33f5014a687e",
        "outputId": "8ebf8312-40d4-4e45-ca90-5efbfa03c012"
      },
      "outputs": [
        {
          "data": {
            "text/plain": [
              "numpy.matrix"
            ]
          },
          "execution_count": 25,
          "metadata": {},
          "output_type": "execute_result"
        }
      ],
      "source": [
        "type(mat)"
      ]
    },
    {
      "cell_type": "code",
      "execution_count": null,
      "id": "b864d965-5568-4e73-b3e7-ecc406a8c95e",
      "metadata": {
        "id": "b864d965-5568-4e73-b3e7-ecc406a8c95e",
        "outputId": "79617941-3591-4a38-ab56-40fac0dcde1e"
      },
      "outputs": [
        {
          "data": {
            "text/plain": [
              "2"
            ]
          },
          "execution_count": 26,
          "metadata": {},
          "output_type": "execute_result"
        }
      ],
      "source": [
        "mat.ndim"
      ]
    },
    {
      "cell_type": "code",
      "execution_count": null,
      "id": "9eeb54b3-1bd3-42ec-b0b4-b02eb886fa19",
      "metadata": {
        "id": "9eeb54b3-1bd3-42ec-b0b4-b02eb886fa19",
        "outputId": "68456bd3-ebf1-487a-d4bf-b1cd84fdd6c0"
      },
      "outputs": [
        {
          "data": {
            "text/plain": [
              "matrix([[1, 2, 3, 4]])"
            ]
          },
          "execution_count": 27,
          "metadata": {},
          "output_type": "execute_result"
        }
      ],
      "source": [
        "mat"
      ]
    },
    {
      "cell_type": "code",
      "execution_count": null,
      "id": "a8b53d7d-9c36-498f-b454-61c706c5bd81",
      "metadata": {
        "id": "a8b53d7d-9c36-498f-b454-61c706c5bd81"
      },
      "outputs": [],
      "source": [
        "#To understand the dimension, see the no of opening/closing square bracket"
      ]
    },
    {
      "cell_type": "code",
      "execution_count": null,
      "id": "ab0a3dc4-d13c-4e3e-b454-3bee823fc0e4",
      "metadata": {
        "id": "ab0a3dc4-d13c-4e3e-b454-3bee823fc0e4",
        "outputId": "46b28462-df6a-4126-bed6-330f88baca0d"
      },
      "outputs": [
        {
          "ename": "ValueError",
          "evalue": "matrix must be 2-dimensional",
          "output_type": "error",
          "traceback": [
            "\u001b[0;31m---------------------------------------------------------------------------\u001b[0m",
            "\u001b[0;31mValueError\u001b[0m                                Traceback (most recent call last)",
            "Cell \u001b[0;32mIn[28], line 1\u001b[0m\n\u001b[0;32m----> 1\u001b[0m \u001b[43mnp\u001b[49m\u001b[38;5;241;43m.\u001b[39;49m\u001b[43mmatrix\u001b[49m\u001b[43m(\u001b[49m\u001b[43m[\u001b[49m\u001b[43m[\u001b[49m\u001b[43m[\u001b[49m\u001b[38;5;241;43m1\u001b[39;49m\u001b[43m,\u001b[49m\u001b[43m \u001b[49m\u001b[38;5;241;43m2\u001b[39;49m\u001b[43m]\u001b[49m\u001b[43m,\u001b[49m\u001b[43m \u001b[49m\u001b[43m[\u001b[49m\u001b[38;5;241;43m1\u001b[39;49m\u001b[43m,\u001b[49m\u001b[43m \u001b[49m\u001b[38;5;241;43m5\u001b[39;49m\u001b[43m]\u001b[49m\u001b[43m,\u001b[49m\u001b[43m \u001b[49m\u001b[43m[\u001b[49m\u001b[38;5;241;43m3\u001b[39;49m\u001b[43m,\u001b[49m\u001b[43m \u001b[49m\u001b[38;5;241;43m6\u001b[39;49m\u001b[43m]\u001b[49m\u001b[43m]\u001b[49m\u001b[43m]\u001b[49m\u001b[43m)\u001b[49m\n",
            "File \u001b[0;32m/opt/conda/lib/python3.10/site-packages/numpy/matrixlib/defmatrix.py:149\u001b[0m, in \u001b[0;36mmatrix.__new__\u001b[0;34m(subtype, data, dtype, copy)\u001b[0m\n\u001b[1;32m    147\u001b[0m shape \u001b[38;5;241m=\u001b[39m arr\u001b[38;5;241m.\u001b[39mshape\n\u001b[1;32m    148\u001b[0m \u001b[38;5;28;01mif\u001b[39;00m (ndim \u001b[38;5;241m>\u001b[39m \u001b[38;5;241m2\u001b[39m):\n\u001b[0;32m--> 149\u001b[0m     \u001b[38;5;28;01mraise\u001b[39;00m \u001b[38;5;167;01mValueError\u001b[39;00m(\u001b[38;5;124m\"\u001b[39m\u001b[38;5;124mmatrix must be 2-dimensional\u001b[39m\u001b[38;5;124m\"\u001b[39m)\n\u001b[1;32m    150\u001b[0m \u001b[38;5;28;01melif\u001b[39;00m ndim \u001b[38;5;241m==\u001b[39m \u001b[38;5;241m0\u001b[39m:\n\u001b[1;32m    151\u001b[0m     shape \u001b[38;5;241m=\u001b[39m (\u001b[38;5;241m1\u001b[39m, \u001b[38;5;241m1\u001b[39m)\n",
            "\u001b[0;31mValueError\u001b[0m: matrix must be 2-dimensional"
          ]
        }
      ],
      "source": [
        "np.matrix([[[1, 2], [1, 5], [3, 6]]]) #will throw error-matrix must be 2-dimensional"
      ]
    },
    {
      "cell_type": "code",
      "execution_count": null,
      "id": "e5fd0146-e441-4cc6-bf33-828fd0f4c220",
      "metadata": {
        "id": "e5fd0146-e441-4cc6-bf33-828fd0f4c220"
      },
      "outputs": [],
      "source": [
        "arr3 = np.array([[[1, 2], [1, 5], [3, 6]]])"
      ]
    },
    {
      "cell_type": "code",
      "execution_count": null,
      "id": "fdb3a490-e44e-4a41-83ae-71c20ab14f4f",
      "metadata": {
        "id": "fdb3a490-e44e-4a41-83ae-71c20ab14f4f",
        "outputId": "2d5f9bde-e105-4603-94c7-46db22892291"
      },
      "outputs": [
        {
          "data": {
            "text/plain": [
              "array([[[1, 2],\n",
              "        [1, 5],\n",
              "        [3, 6]]])"
            ]
          },
          "execution_count": 30,
          "metadata": {},
          "output_type": "execute_result"
        }
      ],
      "source": [
        "arr3"
      ]
    },
    {
      "cell_type": "code",
      "execution_count": null,
      "id": "dd2e2ebd-d308-40ad-9542-05244da4c959",
      "metadata": {
        "id": "dd2e2ebd-d308-40ad-9542-05244da4c959",
        "outputId": "570827c8-3af0-45f3-c077-95b38a0e26e9"
      },
      "outputs": [
        {
          "data": {
            "text/plain": [
              "3"
            ]
          },
          "execution_count": 31,
          "metadata": {},
          "output_type": "execute_result"
        }
      ],
      "source": [
        "arr3.ndim"
      ]
    },
    {
      "cell_type": "code",
      "execution_count": null,
      "id": "4cbe0c35-44f7-4c5e-a6b4-fdd8177c62a7",
      "metadata": {
        "id": "4cbe0c35-44f7-4c5e-a6b4-fdd8177c62a7",
        "outputId": "294dcf4b-bdaf-4f35-8c65-74214ecf8db4"
      },
      "outputs": [
        {
          "data": {
            "text/plain": [
              "array([1, 2, 3])"
            ]
          },
          "execution_count": 32,
          "metadata": {},
          "output_type": "execute_result"
        }
      ],
      "source": [
        "#more ways to array\n",
        "l = [1, 2, 3]\n",
        "np.asarray(l) #initial function asarray to convert to an array, np.array came after this"
      ]
    },
    {
      "cell_type": "code",
      "execution_count": null,
      "id": "3e6e7343-439b-4276-86bc-4665ce4ce2d5",
      "metadata": {
        "id": "3e6e7343-439b-4276-86bc-4665ce4ce2d5",
        "outputId": "b44db144-3fcb-4874-fef3-27d2b2e01ade"
      },
      "outputs": [
        {
          "data": {
            "text/plain": [
              "array([1, 2, 3])"
            ]
          },
          "execution_count": 34,
          "metadata": {},
          "output_type": "execute_result"
        }
      ],
      "source": [
        "np.asanyarray([1, 2, 3])"
      ]
    },
    {
      "cell_type": "code",
      "execution_count": null,
      "id": "f765619b-f848-4f6a-a5c5-f70f4f6efea7",
      "metadata": {
        "id": "f765619b-f848-4f6a-a5c5-f70f4f6efea7"
      },
      "outputs": [],
      "source": [
        "#asanyarray will contert the input to an ndarray, but pass ndarray subclasses through\n",
        "#if something is already an array or part of array, it will simply allow to pass through it"
      ]
    },
    {
      "cell_type": "code",
      "execution_count": null,
      "id": "20911fa7-6004-443b-a51b-96f09752c33e",
      "metadata": {
        "id": "20911fa7-6004-443b-a51b-96f09752c33e",
        "outputId": "34dd6d79-951d-468d-ef0b-0cf0519f3c4c"
      },
      "outputs": [
        {
          "data": {
            "text/plain": [
              "array([1, 2, 3])"
            ]
          },
          "execution_count": 36,
          "metadata": {},
          "output_type": "execute_result"
        }
      ],
      "source": [
        "np.asanyarray([1, 2, 3])"
      ]
    },
    {
      "cell_type": "code",
      "execution_count": null,
      "id": "a056ad6d-8f55-4937-9f1e-da4d94f36ab0",
      "metadata": {
        "id": "a056ad6d-8f55-4937-9f1e-da4d94f36ab0",
        "outputId": "6dbdcef3-145b-4046-fc38-bc5d5bfed83e"
      },
      "outputs": [
        {
          "data": {
            "text/plain": [
              "matrix([[1, 2, 3, 4]])"
            ]
          },
          "execution_count": 37,
          "metadata": {},
          "output_type": "execute_result"
        }
      ],
      "source": [
        "mat"
      ]
    },
    {
      "cell_type": "code",
      "execution_count": null,
      "id": "4edccf37-3690-4a52-97d2-fd081c4d7b8a",
      "metadata": {
        "id": "4edccf37-3690-4a52-97d2-fd081c4d7b8a",
        "outputId": "6055ee4a-4680-41a1-b3c5-08d4a58c8c14"
      },
      "outputs": [
        {
          "data": {
            "text/plain": [
              "matrix([[1, 2, 3, 4]])"
            ]
          },
          "execution_count": 38,
          "metadata": {},
          "output_type": "execute_result"
        }
      ],
      "source": [
        "np.asanyarray(mat)"
      ]
    },
    {
      "cell_type": "code",
      "execution_count": null,
      "id": "8f563aa7-26cc-4719-8329-1b44c6903ae3",
      "metadata": {
        "id": "8f563aa7-26cc-4719-8329-1b44c6903ae3",
        "outputId": "68f5f2e8-73b9-4f44-835c-f45299313c75"
      },
      "outputs": [
        {
          "data": {
            "text/plain": [
              "tuple"
            ]
          },
          "execution_count": 39,
          "metadata": {},
          "output_type": "execute_result"
        }
      ],
      "source": [
        "t = ([1, 2, 3], [4, 5, 6])\n",
        "type(t)"
      ]
    },
    {
      "cell_type": "code",
      "execution_count": null,
      "id": "38386803-89aa-4663-98a3-977807a9179e",
      "metadata": {
        "id": "38386803-89aa-4663-98a3-977807a9179e",
        "outputId": "4538145e-0476-4db6-eb1a-01a325ad59b7"
      },
      "outputs": [
        {
          "data": {
            "text/plain": [
              "array([[1, 2, 3],\n",
              "       [4, 5, 6]])"
            ]
          },
          "execution_count": 40,
          "metadata": {},
          "output_type": "execute_result"
        }
      ],
      "source": [
        "np.array(t)"
      ]
    },
    {
      "cell_type": "code",
      "execution_count": null,
      "id": "e45f392a-01cb-4539-ad88-4368dada3015",
      "metadata": {
        "id": "e45f392a-01cb-4539-ad88-4368dada3015",
        "outputId": "6989ddb9-9bad-414e-eb84-91ed9fd9244f"
      },
      "outputs": [
        {
          "data": {
            "text/plain": [
              "array([1, 2, 3, 4, 5])"
            ]
          },
          "execution_count": 41,
          "metadata": {},
          "output_type": "execute_result"
        }
      ],
      "source": [
        "arr"
      ]
    },
    {
      "cell_type": "code",
      "execution_count": null,
      "id": "c2f04929-a8b0-4c86-aa2d-e1324e770d31",
      "metadata": {
        "id": "c2f04929-a8b0-4c86-aa2d-e1324e770d31",
        "outputId": "6a15bfb0-7192-4a88-abd9-d7e89738caa5"
      },
      "outputs": [
        {
          "data": {
            "text/plain": [
              "1"
            ]
          },
          "execution_count": 43,
          "metadata": {},
          "output_type": "execute_result"
        }
      ],
      "source": [
        "#accessing elements of the array\n",
        "arr[0]"
      ]
    },
    {
      "cell_type": "code",
      "execution_count": null,
      "id": "ca7086f3-932e-4a2f-93c1-671838132099",
      "metadata": {
        "id": "ca7086f3-932e-4a2f-93c1-671838132099"
      },
      "outputs": [],
      "source": [
        "#array is mutable\n",
        "arr[0] = 1000"
      ]
    },
    {
      "cell_type": "code",
      "execution_count": null,
      "id": "cf8cb290-a39c-42b2-96e7-84658c328864",
      "metadata": {
        "id": "cf8cb290-a39c-42b2-96e7-84658c328864",
        "outputId": "3ecc4d17-5101-427f-e3f4-f781b5ac533e"
      },
      "outputs": [
        {
          "data": {
            "text/plain": [
              "array([1000,    2,    3,    4,    5])"
            ]
          },
          "execution_count": 45,
          "metadata": {},
          "output_type": "execute_result"
        }
      ],
      "source": [
        "arr"
      ]
    },
    {
      "cell_type": "code",
      "execution_count": null,
      "id": "2a76e927-0858-49c9-a909-79d0055bdc7d",
      "metadata": {
        "id": "2a76e927-0858-49c9-a909-79d0055bdc7d",
        "outputId": "0a00347b-4254-4bbf-d933-cdf340f18a02"
      },
      "outputs": [
        {
          "data": {
            "text/plain": [
              "array([1000,    2,    3,    4,    5])"
            ]
          },
          "execution_count": 46,
          "metadata": {},
          "output_type": "execute_result"
        }
      ],
      "source": [
        "arr"
      ]
    },
    {
      "cell_type": "code",
      "execution_count": null,
      "id": "0808f384-c518-497f-9898-c27f3e9c3bcc",
      "metadata": {
        "id": "0808f384-c518-497f-9898-c27f3e9c3bcc"
      },
      "outputs": [],
      "source": [
        "#a and arr will point to same memory location, so if there is change is a or arr\n",
        "#it will reflect on both\n",
        "\n",
        "a = arr"
      ]
    },
    {
      "cell_type": "code",
      "execution_count": null,
      "id": "a8ff514c-8e00-4135-a251-095f3b1cc203",
      "metadata": {
        "id": "a8ff514c-8e00-4135-a251-095f3b1cc203",
        "outputId": "552db25b-5db2-4df5-d8b5-9ead9cfdeb46"
      },
      "outputs": [
        {
          "data": {
            "text/plain": [
              "array([1000,    2,    3,    4,    5])"
            ]
          },
          "execution_count": 49,
          "metadata": {},
          "output_type": "execute_result"
        }
      ],
      "source": [
        "a"
      ]
    },
    {
      "cell_type": "code",
      "execution_count": null,
      "id": "84fad9d3-138a-490c-8e61-0f277ff6b0c5",
      "metadata": {
        "id": "84fad9d3-138a-490c-8e61-0f277ff6b0c5",
        "outputId": "041745db-af14-4166-f5b2-27dd39f80344"
      },
      "outputs": [
        {
          "data": {
            "text/plain": [
              "array([1000,    2,    3,    4,    5])"
            ]
          },
          "execution_count": 50,
          "metadata": {},
          "output_type": "execute_result"
        }
      ],
      "source": [
        "arr"
      ]
    },
    {
      "cell_type": "code",
      "execution_count": null,
      "id": "4c103cd3-695e-47d6-9ff9-d4ed8b77eaa8",
      "metadata": {
        "id": "4c103cd3-695e-47d6-9ff9-d4ed8b77eaa8"
      },
      "outputs": [],
      "source": [
        "#shallow copy>> change in one array will lead to change in another"
      ]
    },
    {
      "cell_type": "code",
      "execution_count": null,
      "id": "cd0ebd2d-d7b5-48e1-a5c1-5eeecc4daf3b",
      "metadata": {
        "id": "cd0ebd2d-d7b5-48e1-a5c1-5eeecc4daf3b"
      },
      "outputs": [],
      "source": [
        "a[0] = 5000"
      ]
    },
    {
      "cell_type": "code",
      "execution_count": null,
      "id": "715ddc5c-279c-4157-b73e-aa0fe348faf6",
      "metadata": {
        "id": "715ddc5c-279c-4157-b73e-aa0fe348faf6",
        "outputId": "7890af5a-a3fb-4d09-c97e-502f77e5fae0"
      },
      "outputs": [
        {
          "data": {
            "text/plain": [
              "array([5000,    2,    3,    4,    5])"
            ]
          },
          "execution_count": 55,
          "metadata": {},
          "output_type": "execute_result"
        }
      ],
      "source": [
        "a"
      ]
    },
    {
      "cell_type": "code",
      "execution_count": null,
      "id": "6e25eff7-6bc1-4388-b00e-3aa5855855b5",
      "metadata": {
        "id": "6e25eff7-6bc1-4388-b00e-3aa5855855b5",
        "outputId": "55f11fa2-5438-4288-d5b6-6ed7632fc002"
      },
      "outputs": [
        {
          "data": {
            "text/plain": [
              "array([5000,    2,    3,    4,    5])"
            ]
          },
          "execution_count": 56,
          "metadata": {},
          "output_type": "execute_result"
        }
      ],
      "source": [
        "arr"
      ]
    },
    {
      "cell_type": "code",
      "execution_count": null,
      "id": "3cf19183-f630-4618-b07c-496d30380748",
      "metadata": {
        "id": "3cf19183-f630-4618-b07c-496d30380748",
        "outputId": "a503e328-1bb6-489d-9581-55dc39dbd50b"
      },
      "outputs": [
        {
          "data": {
            "text/plain": [
              "array([5000,    2,    3,    4,    5])"
            ]
          },
          "execution_count": 57,
          "metadata": {},
          "output_type": "execute_result"
        }
      ],
      "source": [
        "arr"
      ]
    },
    {
      "cell_type": "code",
      "execution_count": null,
      "id": "6db68fa3-e34c-4012-ae2f-bb9364da6e20",
      "metadata": {
        "id": "6db68fa3-e34c-4012-ae2f-bb9364da6e20"
      },
      "outputs": [],
      "source": [
        "b = arr.copy() #deep copy>> change in one array will not reflect in another"
      ]
    },
    {
      "cell_type": "code",
      "execution_count": null,
      "id": "04c42086-126d-416c-819c-397b4b5a87d9",
      "metadata": {
        "id": "04c42086-126d-416c-819c-397b4b5a87d9",
        "outputId": "f9ee6193-4427-4a07-f91e-ab79f3e7e846"
      },
      "outputs": [
        {
          "data": {
            "text/plain": [
              "array([5000,    2,    3,    4,    5])"
            ]
          },
          "execution_count": 59,
          "metadata": {},
          "output_type": "execute_result"
        }
      ],
      "source": [
        "b"
      ]
    },
    {
      "cell_type": "code",
      "execution_count": null,
      "id": "da4a67b0-9d15-4474-b244-47e16e3f8544",
      "metadata": {
        "id": "da4a67b0-9d15-4474-b244-47e16e3f8544"
      },
      "outputs": [],
      "source": [
        "b[0] = 11000"
      ]
    },
    {
      "cell_type": "code",
      "execution_count": null,
      "id": "92659063-a36b-4638-824a-65cbfdcaee2a",
      "metadata": {
        "id": "92659063-a36b-4638-824a-65cbfdcaee2a",
        "outputId": "d05da871-b859-4498-8bea-cd11abe40e5b"
      },
      "outputs": [
        {
          "data": {
            "text/plain": [
              "array([11000,     2,     3,     4,     5])"
            ]
          },
          "execution_count": 63,
          "metadata": {},
          "output_type": "execute_result"
        }
      ],
      "source": [
        "b"
      ]
    },
    {
      "cell_type": "code",
      "execution_count": null,
      "id": "085e7d66-2d44-4245-a472-3006ab4db428",
      "metadata": {
        "id": "085e7d66-2d44-4245-a472-3006ab4db428",
        "outputId": "fda72f12-843b-45dd-9a83-5fd4282a3141"
      },
      "outputs": [
        {
          "data": {
            "text/plain": [
              "array([5000,    2,    3,    4,    5])"
            ]
          },
          "execution_count": 64,
          "metadata": {},
          "output_type": "execute_result"
        }
      ],
      "source": [
        "arr"
      ]
    },
    {
      "cell_type": "code",
      "execution_count": null,
      "id": "3713b891-3822-441d-a627-8e28bfab9664",
      "metadata": {
        "id": "3713b891-3822-441d-a627-8e28bfab9664"
      },
      "outputs": [],
      "source": [
        "#To create an array>> np.array, np.asarray, np.asany array"
      ]
    },
    {
      "cell_type": "code",
      "execution_count": null,
      "id": "574bd2ce-ef5d-40ee-9cad-896b67d9f926",
      "metadata": {
        "id": "574bd2ce-ef5d-40ee-9cad-896b67d9f926"
      },
      "outputs": [],
      "source": [
        "#multiple approaches to generate any array"
      ]
    },
    {
      "cell_type": "code",
      "execution_count": null,
      "id": "5f765530-df5d-4d4f-99d2-8e95e284e44a",
      "metadata": {
        "id": "5f765530-df5d-4d4f-99d2-8e95e284e44a"
      },
      "outputs": [],
      "source": [
        "arr1 = np.fromfunction(lambda i, j: i==j, (3,3)) #Construct an array by executing a function over each coordinate"
      ]
    },
    {
      "cell_type": "code",
      "execution_count": null,
      "id": "324b9125-b3e0-4c94-94e7-00f974c79803",
      "metadata": {
        "id": "324b9125-b3e0-4c94-94e7-00f974c79803",
        "outputId": "23d455eb-c165-4952-eedf-77f4b7ab7a21"
      },
      "outputs": [
        {
          "data": {
            "text/plain": [
              "array([[ True, False, False],\n",
              "       [False,  True, False],\n",
              "       [False, False,  True]])"
            ]
          },
          "execution_count": 70,
          "metadata": {},
          "output_type": "execute_result"
        }
      ],
      "source": [
        "arr1"
      ]
    },
    {
      "cell_type": "code",
      "execution_count": null,
      "id": "dbf7b7bb-ad34-4d84-a72b-6e924a4fb85f",
      "metadata": {
        "id": "dbf7b7bb-ad34-4d84-a72b-6e924a4fb85f",
        "outputId": "ddb0e5f5-6aac-4196-f86b-e976fe64d91c"
      },
      "outputs": [
        {
          "data": {
            "text/plain": [
              "2"
            ]
          },
          "execution_count": 71,
          "metadata": {},
          "output_type": "execute_result"
        }
      ],
      "source": [
        "arr1.ndim"
      ]
    },
    {
      "cell_type": "code",
      "execution_count": null,
      "id": "c3d83b2a-3062-43f0-9daf-e6961564bc50",
      "metadata": {
        "id": "c3d83b2a-3062-43f0-9daf-e6961564bc50",
        "outputId": "6e4e1a04-9f84-4f5c-ea7e-82104031cf45"
      },
      "outputs": [
        {
          "data": {
            "text/plain": [
              "(3, 3)"
            ]
          },
          "execution_count": 72,
          "metadata": {},
          "output_type": "execute_result"
        }
      ],
      "source": [
        "arr1.shape #shape of array"
      ]
    },
    {
      "cell_type": "code",
      "execution_count": null,
      "id": "791b2e10-042c-43e1-9789-f0003e2cd575",
      "metadata": {
        "id": "791b2e10-042c-43e1-9789-f0003e2cd575",
        "outputId": "c81d7829-b7f1-4597-ecae-096204612833"
      },
      "outputs": [
        {
          "data": {
            "text/plain": [
              "9"
            ]
          },
          "execution_count": 73,
          "metadata": {},
          "output_type": "execute_result"
        }
      ],
      "source": [
        "arr1.size #no of elements in array"
      ]
    },
    {
      "cell_type": "code",
      "execution_count": null,
      "id": "4347c541-0be1-4615-94f5-9d02d15a83ba",
      "metadata": {
        "id": "4347c541-0be1-4615-94f5-9d02d15a83ba",
        "outputId": "c87e8cc2-1f85-4754-c6ed-2cb165b976fb"
      },
      "outputs": [
        {
          "data": {
            "text/plain": [
              "1"
            ]
          },
          "execution_count": 74,
          "metadata": {},
          "output_type": "execute_result"
        }
      ],
      "source": [
        "#True is stored as 1 and False 0 in python\n",
        "True-False"
      ]
    },
    {
      "cell_type": "code",
      "execution_count": null,
      "id": "9d8d4299-dbee-4d65-8102-e53a96075300",
      "metadata": {
        "id": "9d8d4299-dbee-4d65-8102-e53a96075300"
      },
      "outputs": [],
      "source": [
        "arr2 = np.fromfunction(lambda i, j: i*j, (3,3))"
      ]
    },
    {
      "cell_type": "code",
      "execution_count": null,
      "id": "7edfbcc8-565e-4014-a853-17b21f211400",
      "metadata": {
        "id": "7edfbcc8-565e-4014-a853-17b21f211400",
        "outputId": "7c8b337a-1b34-4d11-c0ce-3a6281d3484b"
      },
      "outputs": [
        {
          "data": {
            "text/plain": [
              "array([[0., 0., 0.],\n",
              "       [0., 1., 2.],\n",
              "       [0., 2., 4.]])"
            ]
          },
          "execution_count": 77,
          "metadata": {},
          "output_type": "execute_result"
        }
      ],
      "source": [
        "arr2"
      ]
    },
    {
      "cell_type": "code",
      "execution_count": null,
      "id": "62539b09-106d-403b-bf31-8d30893534af",
      "metadata": {
        "id": "62539b09-106d-403b-bf31-8d30893534af",
        "outputId": "5feb0df3-a7cb-4b33-915c-d06691bd3418"
      },
      "outputs": [
        {
          "data": {
            "text/plain": [
              "2"
            ]
          },
          "execution_count": 78,
          "metadata": {},
          "output_type": "execute_result"
        }
      ],
      "source": [
        "arr2.ndim"
      ]
    },
    {
      "cell_type": "code",
      "execution_count": null,
      "id": "fd764eb4-6057-47b9-8185-28246667291b",
      "metadata": {
        "id": "fd764eb4-6057-47b9-8185-28246667291b",
        "outputId": "ce3e21ac-203d-4112-d409-f8ada8c3ab62"
      },
      "outputs": [
        {
          "data": {
            "text/plain": [
              "(3, 3)"
            ]
          },
          "execution_count": 79,
          "metadata": {},
          "output_type": "execute_result"
        }
      ],
      "source": [
        "arr2.shape"
      ]
    },
    {
      "cell_type": "code",
      "execution_count": null,
      "id": "87b1aac4-f0df-45c0-b8d1-5893f62df6e7",
      "metadata": {
        "id": "87b1aac4-f0df-45c0-b8d1-5893f62df6e7",
        "outputId": "6c4ba64e-ddc9-4f55-cde7-d663f6f15c48"
      },
      "outputs": [
        {
          "data": {
            "text/plain": [
              "9"
            ]
          },
          "execution_count": 80,
          "metadata": {},
          "output_type": "execute_result"
        }
      ],
      "source": [
        "arr2.size"
      ]
    },
    {
      "cell_type": "code",
      "execution_count": null,
      "id": "32583e12-29fe-4f1e-88ab-0d5b8f15ce81",
      "metadata": {
        "id": "32583e12-29fe-4f1e-88ab-0d5b8f15ce81",
        "outputId": "835bc78e-c5dd-4c8b-85a0-62a2161f8700"
      },
      "outputs": [
        {
          "name": "stdout",
          "output_type": "stream",
          "text": [
            "0\n",
            "1\n",
            "2\n",
            "3\n",
            "4\n"
          ]
        }
      ],
      "source": [
        "for i in range(5):\n",
        "    print(i)"
      ]
    },
    {
      "cell_type": "code",
      "execution_count": null,
      "id": "e44f9ca6-a883-4223-959b-a45bbe300aa1",
      "metadata": {
        "id": "e44f9ca6-a883-4223-959b-a45bbe300aa1",
        "outputId": "b267afe1-4390-4f38-a9f5-47ef330d6d6e"
      },
      "outputs": [
        {
          "data": {
            "text/plain": [
              "[0, 1, 2, 3, 4]"
            ]
          },
          "execution_count": 82,
          "metadata": {},
          "output_type": "execute_result"
        }
      ],
      "source": [
        "[i for i in range(5)]"
      ]
    },
    {
      "cell_type": "code",
      "execution_count": null,
      "id": "226363a7-5805-4211-b070-0b638b8327fa",
      "metadata": {
        "id": "226363a7-5805-4211-b070-0b638b8327fa",
        "outputId": "b8897cde-ee37-4385-ad7e-4fd3f3dffa42"
      },
      "outputs": [
        {
          "data": {
            "text/plain": [
              "<generator object <genexpr> at 0x7faf30183c30>"
            ]
          },
          "execution_count": 85,
          "metadata": {},
          "output_type": "execute_result"
        }
      ],
      "source": [
        "(i for i in range(5))"
      ]
    },
    {
      "cell_type": "code",
      "execution_count": null,
      "id": "b1c337c2-ba54-463b-bdb2-d6e76c424d9f",
      "metadata": {
        "id": "b1c337c2-ba54-463b-bdb2-d6e76c424d9f",
        "outputId": "d5c1aaeb-ba92-42e0-e602-61d038504005"
      },
      "outputs": [
        {
          "data": {
            "text/plain": [
              "[0, 1, 2, 3, 4]"
            ]
          },
          "execution_count": 86,
          "metadata": {},
          "output_type": "execute_result"
        }
      ],
      "source": [
        "list((i for i in range(5)))"
      ]
    },
    {
      "cell_type": "code",
      "execution_count": null,
      "id": "96d772d7-ee29-483d-b31a-9eb890fa12b5",
      "metadata": {
        "id": "96d772d7-ee29-483d-b31a-9eb890fa12b5"
      },
      "outputs": [],
      "source": [
        "iterator = (i for i in range(5))"
      ]
    },
    {
      "cell_type": "code",
      "execution_count": null,
      "id": "ac3e98c1-9fcf-4faa-81dd-29f9b4e2ab1f",
      "metadata": {
        "id": "ac3e98c1-9fcf-4faa-81dd-29f9b4e2ab1f",
        "outputId": "2ab5e651-0611-450d-8183-0ababa9d209e"
      },
      "outputs": [
        {
          "data": {
            "text/plain": [
              "<generator object <genexpr> at 0x7faf300645f0>"
            ]
          },
          "execution_count": 99,
          "metadata": {},
          "output_type": "execute_result"
        }
      ],
      "source": [
        "iterator"
      ]
    },
    {
      "cell_type": "code",
      "execution_count": null,
      "id": "5bb0e056-efe9-4a2d-b288-974338ea47af",
      "metadata": {
        "id": "5bb0e056-efe9-4a2d-b288-974338ea47af",
        "outputId": "08e1d9ee-fece-41ef-e7ef-7e4868ba6afe"
      },
      "outputs": [
        {
          "data": {
            "text/plain": [
              "array([0., 1., 2., 3., 4.])"
            ]
          },
          "execution_count": 100,
          "metadata": {},
          "output_type": "execute_result"
        }
      ],
      "source": [
        "np.fromiter(iterator, float) #Create a new 1-dimensional array from an iterable object."
      ]
    },
    {
      "cell_type": "code",
      "execution_count": null,
      "id": "7166e3fc-8eae-4bff-bebd-8b0260506d44",
      "metadata": {
        "id": "7166e3fc-8eae-4bff-bebd-8b0260506d44",
        "outputId": "6ecf3b49-0cff-4b94-b26e-201a25ad7594"
      },
      "outputs": [
        {
          "data": {
            "text/plain": [
              "array([22., 23., 24.])"
            ]
          },
          "execution_count": 90,
          "metadata": {},
          "output_type": "execute_result"
        }
      ],
      "source": [
        "np.fromstring('22 23 24', sep = \" \")"
      ]
    },
    {
      "cell_type": "code",
      "execution_count": null,
      "id": "0498212e-8e67-44d8-bbd4-17019bd2d57b",
      "metadata": {
        "id": "0498212e-8e67-44d8-bbd4-17019bd2d57b",
        "outputId": "2ee93511-0cdc-4956-c138-aafbb1832a15"
      },
      "outputs": [
        {
          "data": {
            "text/plain": [
              "array([22, 23, 24])"
            ]
          },
          "execution_count": 102,
          "metadata": {},
          "output_type": "execute_result"
        }
      ],
      "source": [
        "np.fromstring('22 23 24', sep = \" \", dtype = int) #by default is float, values inside string should be nuerical"
      ]
    },
    {
      "cell_type": "code",
      "execution_count": null,
      "id": "0d8d98f1-60c9-4a18-b08c-3d11ec97375d",
      "metadata": {
        "id": "0d8d98f1-60c9-4a18-b08c-3d11ec97375d",
        "outputId": "1b00ea91-893b-4c55-cf4f-50f098cccf59"
      },
      "outputs": [
        {
          "data": {
            "text/plain": [
              "['Ajay', ' Bijay', ' Sanjay']"
            ]
          },
          "execution_count": 103,
          "metadata": {},
          "output_type": "execute_result"
        }
      ],
      "source": [
        "#for string character you have to use split\n",
        "string = \"Ajay, Bijay, Sanjay\"\n",
        "string.split(\",\")"
      ]
    },
    {
      "cell_type": "code",
      "execution_count": null,
      "id": "77748eef-803b-4144-972c-4d9acfd23c04",
      "metadata": {
        "id": "77748eef-803b-4144-972c-4d9acfd23c04",
        "outputId": "305ba6a6-3bad-4c59-a29a-24762044a2f6"
      },
      "outputs": [
        {
          "data": {
            "text/plain": [
              "array(['Ajay', ' Bijay', ' Sanjay'], dtype='<U7')"
            ]
          },
          "execution_count": 104,
          "metadata": {},
          "output_type": "execute_result"
        }
      ],
      "source": [
        "np.array(string.split(\",\"))"
      ]
    },
    {
      "cell_type": "code",
      "execution_count": null,
      "id": "163d9b1b-8f90-41ef-97df-85685f918fe6",
      "metadata": {
        "id": "163d9b1b-8f90-41ef-97df-85685f918fe6",
        "outputId": "e2a0c364-79ee-4502-af34-0861144e272b"
      },
      "outputs": [
        {
          "data": {
            "text/plain": [
              "[0, 1, 2, 3, 4, 5, 6, 7, 8, 9]"
            ]
          },
          "execution_count": 106,
          "metadata": {},
          "output_type": "execute_result"
        }
      ],
      "source": [
        "list(range(10))"
      ]
    },
    {
      "cell_type": "code",
      "execution_count": null,
      "id": "843a5e1c-63d6-4c96-83ac-f765d86616f2",
      "metadata": {
        "id": "843a5e1c-63d6-4c96-83ac-f765d86616f2",
        "outputId": "ce9f6fbb-bc29-406e-9b98-9b3c5cdc4259"
      },
      "outputs": [
        {
          "data": {
            "text/plain": [
              "range(0, 10)"
            ]
          },
          "execution_count": 108,
          "metadata": {},
          "output_type": "execute_result"
        }
      ],
      "source": [
        "range(10)"
      ]
    },
    {
      "cell_type": "code",
      "execution_count": null,
      "id": "b01fcff2-73e5-49a2-a30e-8fc2dd214e11",
      "metadata": {
        "id": "b01fcff2-73e5-49a2-a30e-8fc2dd214e11",
        "outputId": "c624f3d0-067c-4bef-bca0-62b3be3e0088"
      },
      "outputs": [
        {
          "data": {
            "text/plain": [
              "array([1, 2, 3, 4, 5, 6, 7, 8, 9])"
            ]
          },
          "execution_count": 107,
          "metadata": {},
          "output_type": "execute_result"
        }
      ],
      "source": [
        "#other method of numpy >> To generate a sequence of number\n",
        "np.arange(1, 10) #arange returns evenly spacified values within a given interval, by default step is 1"
      ]
    },
    {
      "cell_type": "code",
      "execution_count": null,
      "id": "b1b10fa9-c1c8-4d2e-a152-110dda7178ee",
      "metadata": {
        "id": "b1b10fa9-c1c8-4d2e-a152-110dda7178ee",
        "outputId": "093b5862-ba89-4489-a486-f79951221f78"
      },
      "outputs": [
        {
          "data": {
            "text/plain": [
              "array([1. , 1.1, 1.2, 1.3, 1.4, 1.5, 1.6, 1.7, 1.8, 1.9, 2. , 2.1, 2.2,\n",
              "       2.3, 2.4, 2.5, 2.6, 2.7, 2.8, 2.9, 3. , 3.1, 3.2, 3.3, 3.4, 3.5,\n",
              "       3.6, 3.7, 3.8, 3.9, 4. , 4.1, 4.2, 4.3, 4.4, 4.5, 4.6, 4.7, 4.8,\n",
              "       4.9, 5. , 5.1, 5.2, 5.3, 5.4, 5.5, 5.6, 5.7, 5.8, 5.9, 6. , 6.1,\n",
              "       6.2, 6.3, 6.4, 6.5, 6.6, 6.7, 6.8, 6.9, 7. , 7.1, 7.2, 7.3, 7.4,\n",
              "       7.5, 7.6, 7.7, 7.8, 7.9, 8. , 8.1, 8.2, 8.3, 8.4, 8.5, 8.6, 8.7,\n",
              "       8.8, 8.9, 9. , 9.1, 9.2, 9.3, 9.4, 9.5, 9.6, 9.7, 9.8, 9.9])"
            ]
          },
          "execution_count": 109,
          "metadata": {},
          "output_type": "execute_result"
        }
      ],
      "source": [
        "np.arange(1, 10, 0.1)"
      ]
    },
    {
      "cell_type": "code",
      "execution_count": null,
      "id": "a814c139-8c74-4285-b59a-6e73f06ae2d6",
      "metadata": {
        "id": "a814c139-8c74-4285-b59a-6e73f06ae2d6",
        "outputId": "a7e4ee30-d06a-4ecc-ff84-012fec5f6c07"
      },
      "outputs": [
        {
          "data": {
            "text/plain": [
              "array([1.        , 1.44444444, 1.88888889, 2.33333333, 2.77777778,\n",
              "       3.22222222, 3.66666667, 4.11111111, 4.55555556, 5.        ])"
            ]
          },
          "execution_count": 110,
          "metadata": {},
          "output_type": "execute_result"
        }
      ],
      "source": [
        "np.linspace(1,5, 10) #give me 10 numbers between 1 and 5"
      ]
    },
    {
      "cell_type": "code",
      "execution_count": null,
      "id": "cf2c7f30-4b22-4a9e-95a9-bf243e17e25f",
      "metadata": {
        "id": "cf2c7f30-4b22-4a9e-95a9-bf243e17e25f"
      },
      "outputs": [],
      "source": []
    }
  ],
  "metadata": {
    "kernelspec": {
      "display_name": "Python 3 (ipykernel)",
      "language": "python",
      "name": "python3"
    },
    "language_info": {
      "codemirror_mode": {
        "name": "ipython",
        "version": 3
      },
      "file_extension": ".py",
      "mimetype": "text/x-python",
      "name": "python",
      "nbconvert_exporter": "python",
      "pygments_lexer": "ipython3",
      "version": "3.10.8"
    },
    "colab": {
      "provenance": []
    }
  },
  "nbformat": 4,
  "nbformat_minor": 5
}