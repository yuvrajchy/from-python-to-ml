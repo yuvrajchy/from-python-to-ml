{
  "cells": [
    {
      "cell_type": "code",
      "execution_count": null,
      "id": "a772852e-683d-4876-84b5-8f479f140744",
      "metadata": {
        "id": "a772852e-683d-4876-84b5-8f479f140744"
      },
      "outputs": [],
      "source": [
        "#mode\n",
        "#r >> read mode\n",
        "#w>> write mode\n",
        "#a >> append mode\n",
        "#r+>> both reading and writing"
      ]
    },
    {
      "cell_type": "code",
      "execution_count": null,
      "id": "9e1538c7-55a0-457b-86a6-f26573002639",
      "metadata": {
        "id": "9e1538c7-55a0-457b-86a6-f26573002639",
        "outputId": "eb9421ba-759c-4422-8e0d-15c40f599e1b"
      },
      "outputs": [
        {
          "ename": "FileNotFoundError",
          "evalue": "[Errno 2] No such file or directory: 'files.txt'",
          "output_type": "error",
          "traceback": [
            "\u001b[0;31m---------------------------------------------------------------------------\u001b[0m",
            "\u001b[0;31mFileNotFoundError\u001b[0m                         Traceback (most recent call last)",
            "Cell \u001b[0;32mIn[1], line 1\u001b[0m\n\u001b[0;32m----> 1\u001b[0m \u001b[38;5;28;43mopen\u001b[39;49m\u001b[43m(\u001b[49m\u001b[38;5;124;43m\"\u001b[39;49m\u001b[38;5;124;43mfiles.txt\u001b[39;49m\u001b[38;5;124;43m\"\u001b[39;49m\u001b[43m,\u001b[49m\u001b[43m \u001b[49m\u001b[38;5;124;43m'\u001b[39;49m\u001b[38;5;124;43mr\u001b[39;49m\u001b[38;5;124;43m'\u001b[39;49m\u001b[43m)\u001b[49m \u001b[38;5;66;03m#if there is no any file, and you open it in read mode it will throw an error\u001b[39;00m\n",
            "File \u001b[0;32m/opt/conda/lib/python3.10/site-packages/IPython/core/interactiveshell.py:282\u001b[0m, in \u001b[0;36m_modified_open\u001b[0;34m(file, *args, **kwargs)\u001b[0m\n\u001b[1;32m    275\u001b[0m \u001b[38;5;28;01mif\u001b[39;00m file \u001b[38;5;129;01min\u001b[39;00m {\u001b[38;5;241m0\u001b[39m, \u001b[38;5;241m1\u001b[39m, \u001b[38;5;241m2\u001b[39m}:\n\u001b[1;32m    276\u001b[0m     \u001b[38;5;28;01mraise\u001b[39;00m \u001b[38;5;167;01mValueError\u001b[39;00m(\n\u001b[1;32m    277\u001b[0m         \u001b[38;5;124mf\u001b[39m\u001b[38;5;124m\"\u001b[39m\u001b[38;5;124mIPython won\u001b[39m\u001b[38;5;124m'\u001b[39m\u001b[38;5;124mt let you open fd=\u001b[39m\u001b[38;5;132;01m{\u001b[39;00mfile\u001b[38;5;132;01m}\u001b[39;00m\u001b[38;5;124m by default \u001b[39m\u001b[38;5;124m\"\u001b[39m\n\u001b[1;32m    278\u001b[0m         \u001b[38;5;124m\"\u001b[39m\u001b[38;5;124mas it is likely to crash IPython. If you know what you are doing, \u001b[39m\u001b[38;5;124m\"\u001b[39m\n\u001b[1;32m    279\u001b[0m         \u001b[38;5;124m\"\u001b[39m\u001b[38;5;124myou can use builtins\u001b[39m\u001b[38;5;124m'\u001b[39m\u001b[38;5;124m open.\u001b[39m\u001b[38;5;124m\"\u001b[39m\n\u001b[1;32m    280\u001b[0m     )\n\u001b[0;32m--> 282\u001b[0m \u001b[38;5;28;01mreturn\u001b[39;00m \u001b[43mio_open\u001b[49m\u001b[43m(\u001b[49m\u001b[43mfile\u001b[49m\u001b[43m,\u001b[49m\u001b[43m \u001b[49m\u001b[38;5;241;43m*\u001b[39;49m\u001b[43margs\u001b[49m\u001b[43m,\u001b[49m\u001b[43m \u001b[49m\u001b[38;5;241;43m*\u001b[39;49m\u001b[38;5;241;43m*\u001b[39;49m\u001b[43mkwargs\u001b[49m\u001b[43m)\u001b[49m\n",
            "\u001b[0;31mFileNotFoundError\u001b[0m: [Errno 2] No such file or directory: 'files.txt'"
          ]
        }
      ],
      "source": [
        "open(\"files.txt\", 'r') #if there is no any file, and you open it in read mode it will throw an error"
      ]
    },
    {
      "cell_type": "code",
      "execution_count": null,
      "id": "fa9ff9e6-799a-4c83-89e8-58ac0b1807d4",
      "metadata": {
        "id": "fa9ff9e6-799a-4c83-89e8-58ac0b1807d4"
      },
      "outputs": [],
      "source": [
        "file = open(\"file.txt\", \"w\") #w>>write mode, if a file is not there it will create the file.txt and then read it"
      ]
    },
    {
      "cell_type": "code",
      "execution_count": null,
      "id": "b5415086-09a2-453f-9a8f-26e83f3a8bef",
      "metadata": {
        "id": "b5415086-09a2-453f-9a8f-26e83f3a8bef",
        "outputId": "00052d2d-742d-4f78-e2e8-b34c31a6d0f1"
      },
      "outputs": [
        {
          "data": {
            "text/plain": [
              "44"
            ]
          },
          "execution_count": 3,
          "metadata": {},
          "output_type": "execute_result"
        }
      ],
      "source": [
        "file.write(\"Hello this is my first line in the text file\") #number below is no of bytes you have written"
      ]
    },
    {
      "cell_type": "code",
      "execution_count": null,
      "id": "8ec4cc71-a6eb-4936-bde4-12455314aba2",
      "metadata": {
        "id": "8ec4cc71-a6eb-4936-bde4-12455314aba2"
      },
      "outputs": [],
      "source": [
        "#as of now if you open the written file you will not be able to see any text in file\n",
        "#to see you have to close the file"
      ]
    },
    {
      "cell_type": "code",
      "execution_count": null,
      "id": "cc8575b0-6c85-41a7-a262-967e8df80737",
      "metadata": {
        "id": "cc8575b0-6c85-41a7-a262-967e8df80737"
      },
      "outputs": [],
      "source": [
        "file.close()"
      ]
    },
    {
      "cell_type": "code",
      "execution_count": null,
      "id": "3ad1a5fb-8a47-4fa4-9e90-3b3d182aa150",
      "metadata": {
        "id": "3ad1a5fb-8a47-4fa4-9e90-3b3d182aa150",
        "outputId": "696aef0c-07af-4281-a520-8be37ebe87d7"
      },
      "outputs": [
        {
          "data": {
            "text/plain": [
              "<_io.TextIOWrapper name='file.txt' mode='w' encoding='UTF-8'>"
            ]
          },
          "execution_count": 6,
          "metadata": {},
          "output_type": "execute_result"
        }
      ],
      "source": [
        "file #file attributes"
      ]
    },
    {
      "cell_type": "code",
      "execution_count": null,
      "id": "a56a04a1-946b-4bd9-8f8c-b64517930a01",
      "metadata": {
        "id": "a56a04a1-946b-4bd9-8f8c-b64517930a01",
        "outputId": "4a901959-41a6-4ea2-fb59-f75f291d81a8"
      },
      "outputs": [
        {
          "data": {
            "text/plain": [
              "True"
            ]
          },
          "execution_count": 7,
          "metadata": {},
          "output_type": "execute_result"
        }
      ],
      "source": [
        "file.closed #if file is closed it will return true else false"
      ]
    },
    {
      "cell_type": "code",
      "execution_count": null,
      "id": "0ebbd1f6-f19e-466c-bbf3-da939d62d9fc",
      "metadata": {
        "id": "0ebbd1f6-f19e-466c-bbf3-da939d62d9fc"
      },
      "outputs": [],
      "source": [
        "file = open(\"file.txt\", \"r\")"
      ]
    },
    {
      "cell_type": "code",
      "execution_count": null,
      "id": "dd3844e7-82df-4536-a95b-3c4109f6bcf6",
      "metadata": {
        "id": "dd3844e7-82df-4536-a95b-3c4109f6bcf6",
        "outputId": "d6370211-2b63-4be1-e70f-60358105aec7"
      },
      "outputs": [
        {
          "data": {
            "text/plain": [
              "False"
            ]
          },
          "execution_count": 9,
          "metadata": {},
          "output_type": "execute_result"
        }
      ],
      "source": [
        "file.closed"
      ]
    },
    {
      "cell_type": "code",
      "execution_count": null,
      "id": "70f3763c-75aa-409e-be25-847dcd060d10",
      "metadata": {
        "id": "70f3763c-75aa-409e-be25-847dcd060d10"
      },
      "outputs": [],
      "source": [
        "file.close()"
      ]
    },
    {
      "cell_type": "code",
      "execution_count": null,
      "id": "1cc1157a-cec2-408d-91c7-6dc7a4a6aa08",
      "metadata": {
        "id": "1cc1157a-cec2-408d-91c7-6dc7a4a6aa08",
        "outputId": "8b5b30cb-136a-4eab-a122-3e55e34efa04"
      },
      "outputs": [
        {
          "data": {
            "text/plain": [
              "True"
            ]
          },
          "execution_count": 11,
          "metadata": {},
          "output_type": "execute_result"
        }
      ],
      "source": [
        "file.closed"
      ]
    },
    {
      "cell_type": "code",
      "execution_count": null,
      "id": "1304c4fc-bf8f-402e-9aca-0d844a45177d",
      "metadata": {
        "id": "1304c4fc-bf8f-402e-9aca-0d844a45177d",
        "outputId": "db29bc3d-9de6-4e00-ea8d-df213aa0915d"
      },
      "outputs": [
        {
          "data": {
            "text/plain": [
              "'file.txt'"
            ]
          },
          "execution_count": 12,
          "metadata": {},
          "output_type": "execute_result"
        }
      ],
      "source": [
        "file.name"
      ]
    },
    {
      "cell_type": "code",
      "execution_count": null,
      "id": "b63ca6d4-689a-49ce-a3cf-262370ee8dd4",
      "metadata": {
        "id": "b63ca6d4-689a-49ce-a3cf-262370ee8dd4",
        "outputId": "847fbe09-9861-426f-adfb-ec673b8dcb06"
      },
      "outputs": [
        {
          "data": {
            "text/plain": [
              "'r'"
            ]
          },
          "execution_count": 13,
          "metadata": {},
          "output_type": "execute_result"
        }
      ],
      "source": [
        "file.mode"
      ]
    },
    {
      "cell_type": "code",
      "execution_count": null,
      "id": "2d2d947f-ab05-4d7f-890d-a5a71f210de4",
      "metadata": {
        "id": "2d2d947f-ab05-4d7f-890d-a5a71f210de4",
        "outputId": "10ff001e-8037-46f0-95e1-7fbfe79b7666"
      },
      "outputs": [
        {
          "data": {
            "text/plain": [
              "True"
            ]
          },
          "execution_count": 14,
          "metadata": {},
          "output_type": "execute_result"
        }
      ],
      "source": [
        "file.closed"
      ]
    },
    {
      "cell_type": "code",
      "execution_count": null,
      "id": "ab668d55-2eb8-44d6-8c6e-6b1184bf35b1",
      "metadata": {
        "id": "ab668d55-2eb8-44d6-8c6e-6b1184bf35b1",
        "outputId": "75fd8f18-a465-430f-87fb-55bf758a9780"
      },
      "outputs": [
        {
          "ename": "ValueError",
          "evalue": "I/O operation on closed file.",
          "output_type": "error",
          "traceback": [
            "\u001b[0;31m---------------------------------------------------------------------------\u001b[0m",
            "\u001b[0;31mValueError\u001b[0m                                Traceback (most recent call last)",
            "Cell \u001b[0;32mIn[15], line 1\u001b[0m\n\u001b[0;32m----> 1\u001b[0m \u001b[43mfile\u001b[49m\u001b[38;5;241;43m.\u001b[39;49m\u001b[43mwrite\u001b[49m\u001b[43m(\u001b[49m\u001b[38;5;124;43m\"\u001b[39;49m\u001b[38;5;124;43mThis is my second line\u001b[39;49m\u001b[38;5;124;43m\"\u001b[39;49m\u001b[43m)\u001b[49m \u001b[38;5;66;03m#this will not be executed, throw an error>> file is closed>>you can not write anything in closed file\u001b[39;00m\n",
            "\u001b[0;31mValueError\u001b[0m: I/O operation on closed file."
          ]
        }
      ],
      "source": [
        "file.write(\"This is my second line\") #this will not be executed, throw an error>> file is closed>>you can not write anything in closed file"
      ]
    },
    {
      "cell_type": "code",
      "execution_count": null,
      "id": "2e892337-1d01-436c-a637-e92536d90d26",
      "metadata": {
        "id": "2e892337-1d01-436c-a637-e92536d90d26"
      },
      "outputs": [],
      "source": [
        "file = open(\"file.txt\", \"w\") #it will truncate(delete) all earlier contetnt and make a fresh file.txt"
      ]
    },
    {
      "cell_type": "code",
      "execution_count": null,
      "id": "a094a7ff-192e-4d8e-9d30-e6d661ff9967",
      "metadata": {
        "id": "a094a7ff-192e-4d8e-9d30-e6d661ff9967"
      },
      "outputs": [],
      "source": [
        "file.close()"
      ]
    },
    {
      "cell_type": "code",
      "execution_count": null,
      "id": "cb3b4c60-1ca7-4ae2-a687-54fc53bfce14",
      "metadata": {
        "id": "cb3b4c60-1ca7-4ae2-a687-54fc53bfce14"
      },
      "outputs": [],
      "source": [
        "file = open(\"file.txt\", \"w\")\n",
        "file.write(\"This is my first line\\n\")\n",
        "file.write(\"This is my second line\\n\")\n",
        "file.write(\"This is my third line\\n\")\n",
        "file.write(\"This is my fourth line\\n\")\n",
        "file.close()"
      ]
    },
    {
      "cell_type": "code",
      "execution_count": null,
      "id": "4729fe9c-7ecb-404a-a201-878b7e0ce9f6",
      "metadata": {
        "id": "4729fe9c-7ecb-404a-a201-878b7e0ce9f6"
      },
      "outputs": [],
      "source": [
        "file = open(\"file.txt\", \"w\")\n",
        "file.write(\"This is fifth line\") #all earlier content will deleted\n",
        "file.close()"
      ]
    },
    {
      "cell_type": "code",
      "execution_count": null,
      "id": "c9c8b6bc-12f4-433c-bb11-6cf047d77e57",
      "metadata": {
        "id": "c9c8b6bc-12f4-433c-bb11-6cf047d77e57"
      },
      "outputs": [],
      "source": [
        "file = open(\"file.txt\", \"w\")\n",
        "file.write(\"This is my first line\\n\")\n",
        "file.write(\"This is my second line\\n\")\n",
        "file.write(\"This is my third line\\n\")\n",
        "file.write(\"This is my fourth line\\n\")\n",
        "file.close()"
      ]
    },
    {
      "cell_type": "code",
      "execution_count": null,
      "id": "9e33907b-5ee5-414e-84dd-601e4fb2468e",
      "metadata": {
        "id": "9e33907b-5ee5-414e-84dd-601e4fb2468e"
      },
      "outputs": [],
      "source": [
        "file = open(\"file.txt\", \"a\") #append the new line\n",
        "file.write(\"This is fifth line\")\n",
        "file.close()"
      ]
    },
    {
      "cell_type": "code",
      "execution_count": null,
      "id": "3fa381e5-b5ad-4afe-a090-9849a7203db6",
      "metadata": {
        "id": "3fa381e5-b5ad-4afe-a090-9849a7203db6"
      },
      "outputs": [],
      "source": [
        "file = open(\"file.txt\", 'r')"
      ]
    },
    {
      "cell_type": "code",
      "execution_count": null,
      "id": "8ad77b1b-7d42-4de9-ac38-eb334171b857",
      "metadata": {
        "id": "8ad77b1b-7d42-4de9-ac38-eb334171b857",
        "outputId": "36628d20-ec38-46f4-e0dd-b16a46b39ad4"
      },
      "outputs": [
        {
          "ename": "UnsupportedOperation",
          "evalue": "not writable",
          "output_type": "error",
          "traceback": [
            "\u001b[0;31m---------------------------------------------------------------------------\u001b[0m",
            "\u001b[0;31mUnsupportedOperation\u001b[0m                      Traceback (most recent call last)",
            "Cell \u001b[0;32mIn[25], line 1\u001b[0m\n\u001b[0;32m----> 1\u001b[0m \u001b[43mfile\u001b[49m\u001b[38;5;241;43m.\u001b[39;49m\u001b[43mwrite\u001b[49m\u001b[43m(\u001b[49m\u001b[38;5;124;43m\"\u001b[39;49m\u001b[38;5;124;43mthis is another line\u001b[39;49m\u001b[38;5;124;43m\"\u001b[39;49m\u001b[43m)\u001b[49m\n",
            "\u001b[0;31mUnsupportedOperation\u001b[0m: not writable"
          ]
        }
      ],
      "source": [
        "file.write(\"this is another line\")"
      ]
    },
    {
      "cell_type": "code",
      "execution_count": null,
      "id": "6f8ba3f5-404f-45d6-ba97-a241224007c2",
      "metadata": {
        "id": "6f8ba3f5-404f-45d6-ba97-a241224007c2",
        "outputId": "16a9bc2a-8659-4620-881e-44e3fc1d3d8a"
      },
      "outputs": [
        {
          "data": {
            "text/plain": [
              "<_io.TextIOWrapper name='file.txt' mode='r' encoding='UTF-8'>"
            ]
          },
          "execution_count": 26,
          "metadata": {},
          "output_type": "execute_result"
        }
      ],
      "source": [
        "file"
      ]
    },
    {
      "cell_type": "code",
      "execution_count": null,
      "id": "16f97f5b-cc8c-4b8c-ab96-5d425d4a6972",
      "metadata": {
        "id": "16f97f5b-cc8c-4b8c-ab96-5d425d4a6972",
        "outputId": "f0263296-ec0f-400b-96e3-3f118e57862c"
      },
      "outputs": [
        {
          "name": "stdout",
          "output_type": "stream",
          "text": [
            "This is my first line\n",
            "\n",
            "This is my second line\n",
            "\n",
            "This is my third line\n",
            "\n",
            "This is my fourth line\n",
            "\n",
            "This is fifth line\n"
          ]
        }
      ],
      "source": [
        "#various way of printing lines\n",
        "for i in file:\n",
        "    print(i)"
      ]
    },
    {
      "cell_type": "code",
      "execution_count": null,
      "id": "c96bbf23-4105-47be-8d1d-fddea0b5a148",
      "metadata": {
        "id": "c96bbf23-4105-47be-8d1d-fddea0b5a148",
        "outputId": "6a268c21-6538-40ff-d91b-71ce1eead260"
      },
      "outputs": [
        {
          "name": "stdout",
          "output_type": "stream",
          "text": [
            "\n"
          ]
        }
      ],
      "source": [
        "print(file.read()) #here the cursor/pointer is at last position"
      ]
    },
    {
      "cell_type": "code",
      "execution_count": null,
      "id": "0e848834-dd66-4eac-a835-fb4c01ac8bc4",
      "metadata": {
        "id": "0e848834-dd66-4eac-a835-fb4c01ac8bc4",
        "outputId": "3083ee6d-a4ff-4a13-eafd-3c6408f80087"
      },
      "outputs": [
        {
          "data": {
            "text/plain": [
              "''"
            ]
          },
          "execution_count": 30,
          "metadata": {},
          "output_type": "execute_result"
        }
      ],
      "source": [
        "file.read()"
      ]
    },
    {
      "cell_type": "code",
      "execution_count": null,
      "id": "d56eee49-7d0c-4fbf-b28c-62c24986d8f2",
      "metadata": {
        "id": "d56eee49-7d0c-4fbf-b28c-62c24986d8f2",
        "outputId": "cc56a1c6-1434-44cf-aadd-7ee7b5bc9812"
      },
      "outputs": [
        {
          "data": {
            "text/plain": [
              "108"
            ]
          },
          "execution_count": 31,
          "metadata": {},
          "output_type": "execute_result"
        }
      ],
      "source": [
        "file.tell() #it tells the current position of the cursor"
      ]
    },
    {
      "cell_type": "code",
      "execution_count": null,
      "id": "a09e51c7-771c-4cac-a9ed-cd6225e4f2bb",
      "metadata": {
        "id": "a09e51c7-771c-4cac-a9ed-cd6225e4f2bb",
        "outputId": "5b59dbce-bfdf-4e53-9c89-52b1ec7da8dd"
      },
      "outputs": [
        {
          "data": {
            "text/plain": [
              "0"
            ]
          },
          "execution_count": 32,
          "metadata": {},
          "output_type": "execute_result"
        }
      ],
      "source": [
        "file.seek(0)"
      ]
    },
    {
      "cell_type": "code",
      "execution_count": null,
      "id": "77c5ecad-c1af-462a-a77b-5f6f9b8653c6",
      "metadata": {
        "id": "77c5ecad-c1af-462a-a77b-5f6f9b8653c6",
        "outputId": "0f66770c-8537-46b7-bc56-95665a8ed28f"
      },
      "outputs": [
        {
          "name": "stdout",
          "output_type": "stream",
          "text": [
            "This is my first line\n",
            "This is my second line\n",
            "This is my third line\n",
            "This is my fourth line\n",
            "This is fifth line\n"
          ]
        }
      ],
      "source": [
        "f = open(\"file.txt\", 'r')\n",
        "f.seek(0) #it will bring cursor to start of the the file\n",
        "print(f.read()) #it will read everything from starting\n",
        "f.close()"
      ]
    },
    {
      "cell_type": "code",
      "execution_count": null,
      "id": "47a8c6a2-f99d-4c7f-9c74-81afb21f91ab",
      "metadata": {
        "id": "47a8c6a2-f99d-4c7f-9c74-81afb21f91ab",
        "outputId": "48ee25ca-4e4e-43dc-b83d-24cf4696e002"
      },
      "outputs": [
        {
          "name": "stdout",
          "output_type": "stream",
          "text": [
            "This is my first line\n",
            "\n"
          ]
        }
      ],
      "source": [
        "f = open(\"file.txt\", 'r')\n",
        "print(f.readline()) #it will only read the first line\n",
        "f.close()"
      ]
    },
    {
      "cell_type": "code",
      "execution_count": null,
      "id": "64166378-5e22-4537-ac13-2e4fa7a65ad5",
      "metadata": {
        "id": "64166378-5e22-4537-ac13-2e4fa7a65ad5",
        "outputId": "ec67ed87-8e57-4395-deee-ff4ea070b254"
      },
      "outputs": [
        {
          "name": "stdout",
          "output_type": "stream",
          "text": [
            "['This is my first line\\n', 'This is my second line\\n', 'This is my third line\\n', 'This is my fourth line\\n', 'This is fifth line']\n"
          ]
        }
      ],
      "source": [
        "f = open(\"file.txt\", 'r')\n",
        "print(f.readlines())  #all the lines will be the element of a list\n",
        "f.close()"
      ]
    },
    {
      "cell_type": "code",
      "execution_count": null,
      "id": "ba0020cc-f848-4b7d-9720-14b6415036c7",
      "metadata": {
        "id": "ba0020cc-f848-4b7d-9720-14b6415036c7",
        "outputId": "f790fe29-3f3c-46ff-c3b7-a7eb89d08d4d"
      },
      "outputs": [
        {
          "name": "stdout",
          "output_type": "stream",
          "text": [
            "/home/jovyan/work\n"
          ]
        }
      ],
      "source": [
        "#present working directory\n",
        "!pwd"
      ]
    },
    {
      "cell_type": "code",
      "execution_count": null,
      "id": "404f79d4-16f7-4fa5-b0cd-fc7215aacfc4",
      "metadata": {
        "id": "404f79d4-16f7-4fa5-b0cd-fc7215aacfc4"
      },
      "outputs": [],
      "source": [
        "import os"
      ]
    },
    {
      "cell_type": "code",
      "execution_count": null,
      "id": "924f6b8f-f008-41c3-9f65-d5e943551c34",
      "metadata": {
        "id": "924f6b8f-f008-41c3-9f65-d5e943551c34",
        "outputId": "58326c06-5d90-4472-a152-afcf407d244e"
      },
      "outputs": [
        {
          "data": {
            "text/plain": [
              "'/home/jovyan/work'"
            ]
          },
          "execution_count": 40,
          "metadata": {},
          "output_type": "execute_result"
        }
      ],
      "source": [
        "os.getcwd()"
      ]
    },
    {
      "cell_type": "code",
      "execution_count": null,
      "id": "fd74a667-fd7f-43eb-a451-ab344920d079",
      "metadata": {
        "id": "fd74a667-fd7f-43eb-a451-ab344920d079",
        "outputId": "51c8431c-0da1-4ba3-f412-35173dc2922b"
      },
      "outputs": [
        {
          "name": "stdout",
          "output_type": "stream",
          "text": [
            "files_handling_basics.ipynb  file.txt  README.md  sample-code.ipynb\n"
          ]
        }
      ],
      "source": [
        "ls"
      ]
    },
    {
      "cell_type": "code",
      "execution_count": null,
      "id": "5d1cc594-e40c-4510-8159-6a6a00be54c2",
      "metadata": {
        "id": "5d1cc594-e40c-4510-8159-6a6a00be54c2",
        "outputId": "2f77e188-6ad7-4d92-9f2c-5068fb89162b"
      },
      "outputs": [
        {
          "data": {
            "text/plain": [
              "108"
            ]
          },
          "execution_count": 42,
          "metadata": {},
          "output_type": "execute_result"
        }
      ],
      "source": [
        "os.path.getsize(\"file.txt\")"
      ]
    },
    {
      "cell_type": "code",
      "execution_count": null,
      "id": "b25ed52e-3a87-4160-ab26-6b369cc1783d",
      "metadata": {
        "id": "b25ed52e-3a87-4160-ab26-6b369cc1783d"
      },
      "outputs": [],
      "source": [
        "os.mkdir(\"test\")"
      ]
    },
    {
      "cell_type": "code",
      "execution_count": null,
      "id": "451c6dd0-aa2e-482a-9b61-7c57aa86eaea",
      "metadata": {
        "id": "451c6dd0-aa2e-482a-9b61-7c57aa86eaea"
      },
      "outputs": [],
      "source": [
        "os.mkdir(\"test/test1\")"
      ]
    },
    {
      "cell_type": "code",
      "execution_count": null,
      "id": "4d0e85dd-4bac-48e6-8f10-1d418e9ad2bf",
      "metadata": {
        "id": "4d0e85dd-4bac-48e6-8f10-1d418e9ad2bf",
        "outputId": "7a6bf2ba-d8ce-4c9b-e6d3-2084e4c0f33d"
      },
      "outputs": [
        {
          "ename": "FileNotFoundError",
          "evalue": "[Errno 2] No such file or directory: '1/2'",
          "output_type": "error",
          "traceback": [
            "\u001b[0;31m---------------------------------------------------------------------------\u001b[0m",
            "\u001b[0;31mFileNotFoundError\u001b[0m                         Traceback (most recent call last)",
            "Cell \u001b[0;32mIn[45], line 1\u001b[0m\n\u001b[0;32m----> 1\u001b[0m \u001b[43mos\u001b[49m\u001b[38;5;241;43m.\u001b[39;49m\u001b[43mmkdir\u001b[49m\u001b[43m(\u001b[49m\u001b[38;5;124;43m\"\u001b[39;49m\u001b[38;5;124;43m1/2\u001b[39;49m\u001b[38;5;124;43m\"\u001b[39;49m\u001b[43m)\u001b[49m\n",
            "\u001b[0;31mFileNotFoundError\u001b[0m: [Errno 2] No such file or directory: '1/2'"
          ]
        }
      ],
      "source": [
        "os.mkdir(\"1/2\") #it will throw an error>>because 1 is not made first"
      ]
    },
    {
      "cell_type": "code",
      "execution_count": null,
      "id": "56cf48bf-f432-4e7f-a25d-66dc378f1b07",
      "metadata": {
        "id": "56cf48bf-f432-4e7f-a25d-66dc378f1b07"
      },
      "outputs": [],
      "source": [
        "os.makedirs(\"1/2/3/4\")"
      ]
    },
    {
      "cell_type": "code",
      "execution_count": null,
      "id": "85fab089-7afd-4ce9-96c9-3baa2ddbb8a2",
      "metadata": {
        "id": "85fab089-7afd-4ce9-96c9-3baa2ddbb8a2",
        "outputId": "ca0bc841-7501-457b-e422-613612865923"
      },
      "outputs": [
        {
          "name": "stdout",
          "output_type": "stream",
          "text": [
            "\u001b[0m\u001b[01;34m1\u001b[0m/  files_handling_basics.ipynb  file.txt  README.md  sample-code.ipynb  \u001b[01;34mtest\u001b[0m/\n"
          ]
        }
      ],
      "source": [
        "ls"
      ]
    },
    {
      "cell_type": "code",
      "execution_count": null,
      "id": "dc71e78b-650a-4a2e-8182-d98fc639ae7f",
      "metadata": {
        "id": "dc71e78b-650a-4a2e-8182-d98fc639ae7f",
        "outputId": "5322986b-9125-4aed-bcc9-f774972396c5"
      },
      "outputs": [
        {
          "data": {
            "text/plain": [
              "['test',\n",
              " 'file.txt',\n",
              " '.ipynb_checkpoints',\n",
              " 'files_handling_basics.ipynb',\n",
              " '1',\n",
              " 'sample-code.ipynb',\n",
              " '.git',\n",
              " 'README.md']"
            ]
          },
          "execution_count": 48,
          "metadata": {},
          "output_type": "execute_result"
        }
      ],
      "source": [
        "os.listdir()"
      ]
    },
    {
      "cell_type": "code",
      "execution_count": null,
      "id": "6d669852-bffa-4a96-ac48-87109d7e8f9b",
      "metadata": {
        "id": "6d669852-bffa-4a96-ac48-87109d7e8f9b"
      },
      "outputs": [],
      "source": [
        "os.mkdir(\"feat\")"
      ]
    },
    {
      "cell_type": "code",
      "execution_count": null,
      "id": "d2f37159-873b-4d58-8a84-d31ba38af533",
      "metadata": {
        "id": "d2f37159-873b-4d58-8a84-d31ba38af533"
      },
      "outputs": [],
      "source": [
        "os.rmdir(\"feat\") #to delete one directory without any content inside the directory"
      ]
    },
    {
      "cell_type": "code",
      "execution_count": null,
      "id": "8c5a53cd-7dc9-4f53-add1-a2a5179639fd",
      "metadata": {
        "id": "8c5a53cd-7dc9-4f53-add1-a2a5179639fd",
        "outputId": "0204074f-3b42-477f-ab33-36a64f78342d"
      },
      "outputs": [
        {
          "ename": "OSError",
          "evalue": "[Errno 39] Directory not empty: 'test'",
          "output_type": "error",
          "traceback": [
            "\u001b[0;31m---------------------------------------------------------------------------\u001b[0m",
            "\u001b[0;31mOSError\u001b[0m                                   Traceback (most recent call last)",
            "Cell \u001b[0;32mIn[51], line 1\u001b[0m\n\u001b[0;32m----> 1\u001b[0m \u001b[43mos\u001b[49m\u001b[38;5;241;43m.\u001b[39;49m\u001b[43mrmdir\u001b[49m\u001b[43m(\u001b[49m\u001b[38;5;124;43m\"\u001b[39;49m\u001b[38;5;124;43mtest\u001b[39;49m\u001b[38;5;124;43m\"\u001b[39;49m\u001b[43m)\u001b[49m \u001b[38;5;66;03m#throw an error as test is not empty\u001b[39;00m\n",
            "\u001b[0;31mOSError\u001b[0m: [Errno 39] Directory not empty: 'test'"
          ]
        }
      ],
      "source": [
        "os.rmdir(\"test\") #throw an error as test is not empty"
      ]
    },
    {
      "cell_type": "code",
      "execution_count": null,
      "id": "7e62cb38-d6af-4c54-b5d9-52e4cbf01ec7",
      "metadata": {
        "id": "7e62cb38-d6af-4c54-b5d9-52e4cbf01ec7"
      },
      "outputs": [],
      "source": [
        "import shutil\n",
        "shutil.rmtree(\"test\") #it will remove the folder hierarchy"
      ]
    },
    {
      "cell_type": "code",
      "execution_count": null,
      "id": "ec0d5613-1f8d-4dbe-b427-07a3505220f9",
      "metadata": {
        "id": "ec0d5613-1f8d-4dbe-b427-07a3505220f9",
        "outputId": "2e13e9e4-c81a-4287-e176-dff882ec08c5"
      },
      "outputs": [
        {
          "data": {
            "text/plain": [
              "'/home/jovyan/work'"
            ]
          },
          "execution_count": 53,
          "metadata": {},
          "output_type": "execute_result"
        }
      ],
      "source": [
        "os.getcwd()"
      ]
    },
    {
      "cell_type": "code",
      "execution_count": null,
      "id": "769daa71-2456-4dc9-9213-b1203d8404e1",
      "metadata": {
        "id": "769daa71-2456-4dc9-9213-b1203d8404e1"
      },
      "outputs": [],
      "source": [
        "os.makedirs(\"test/test1\")"
      ]
    },
    {
      "cell_type": "code",
      "execution_count": null,
      "id": "250087b8-3b2d-42d3-a6ec-95eb19f8e925",
      "metadata": {
        "id": "250087b8-3b2d-42d3-a6ec-95eb19f8e925"
      },
      "outputs": [],
      "source": [
        "f = open(\"/home/jovyan/work/test/test1/file.txt\", \"w\")"
      ]
    },
    {
      "cell_type": "code",
      "execution_count": null,
      "id": "9ce49f35-bf2f-4db9-9f1b-3954904ca4d1",
      "metadata": {
        "id": "9ce49f35-bf2f-4db9-9f1b-3954904ca4d1"
      },
      "outputs": [],
      "source": [
        "#copying the above file in the current location >> /home/jovyan/work\n",
        "#shutil.copy(src, dest)"
      ]
    },
    {
      "cell_type": "code",
      "execution_count": null,
      "id": "e6372f89-c2c2-4afa-96af-680d7d7dff98",
      "metadata": {
        "id": "e6372f89-c2c2-4afa-96af-680d7d7dff98",
        "outputId": "e39fc7f1-dd2f-4c0f-ccf0-455353f3c414"
      },
      "outputs": [
        {
          "data": {
            "text/plain": [
              "'/home/jovyan/work/file.txt'"
            ]
          },
          "execution_count": 57,
          "metadata": {},
          "output_type": "execute_result"
        }
      ],
      "source": [
        "shutil.copy(\"/home/jovyan/work/test/test1/file.txt\", '/home/jovyan/work') #keep a copy at original source as well"
      ]
    },
    {
      "cell_type": "code",
      "execution_count": null,
      "id": "80f1fd30-4bc2-4a5a-ae04-2ba3bb795392",
      "metadata": {
        "id": "80f1fd30-4bc2-4a5a-ae04-2ba3bb795392"
      },
      "outputs": [],
      "source": [
        "#move a file"
      ]
    },
    {
      "cell_type": "code",
      "execution_count": null,
      "id": "55f8e05c-9b5f-4d0f-bfd2-643d60527f15",
      "metadata": {
        "id": "55f8e05c-9b5f-4d0f-bfd2-643d60527f15"
      },
      "outputs": [],
      "source": [
        "os.mkdir(\"file_test\")"
      ]
    },
    {
      "cell_type": "code",
      "execution_count": null,
      "id": "56faed29-02e8-4dab-9a43-d7f38717f178",
      "metadata": {
        "id": "56faed29-02e8-4dab-9a43-d7f38717f178",
        "outputId": "b383b371-4e9e-45cc-ac9c-65d469c266a8"
      },
      "outputs": [
        {
          "data": {
            "text/plain": [
              "'/home/jovyan/work/file_test/file.txt'"
            ]
          },
          "execution_count": 59,
          "metadata": {},
          "output_type": "execute_result"
        }
      ],
      "source": [
        "shutil.move(\"/home/jovyan/work/test/test1/file.txt\", '/home/jovyan/work/file_test')"
      ]
    },
    {
      "cell_type": "code",
      "execution_count": null,
      "id": "14a387ca-3c38-4f34-868e-7aad68c2861c",
      "metadata": {
        "id": "14a387ca-3c38-4f34-868e-7aad68c2861c"
      },
      "outputs": [],
      "source": [
        "#move will remove the file from original source to destination source"
      ]
    },
    {
      "cell_type": "code",
      "execution_count": null,
      "id": "56cf287b-4d75-45bd-836c-655212b9bd1f",
      "metadata": {
        "id": "56cf287b-4d75-45bd-836c-655212b9bd1f"
      },
      "outputs": [],
      "source": [
        "with open('file.txt', 'w') as f:\n",
        "    f.write(\"This is my first line\")"
      ]
    },
    {
      "cell_type": "code",
      "execution_count": null,
      "id": "d17d26c0-77a3-44bd-86a3-789fc9559862",
      "metadata": {
        "id": "d17d26c0-77a3-44bd-86a3-789fc9559862"
      },
      "outputs": [],
      "source": [
        "#with statment ensures that the file is closed properly after the block of code is executed\n",
        "#important>> free up system resources and avoid issues like data corruption or file lock"
      ]
    },
    {
      "cell_type": "code",
      "execution_count": null,
      "id": "3d80d590-65a4-4c61-a5ab-2577d3adbc72",
      "metadata": {
        "id": "3d80d590-65a4-4c61-a5ab-2577d3adbc72",
        "outputId": "97afd482-2530-45d6-b17a-a71821f51482"
      },
      "outputs": [
        {
          "name": "stdout",
          "output_type": "stream",
          "text": [
            "This is my first line\n"
          ]
        }
      ],
      "source": [
        "with open(\"file.txt\", 'r') as f:\n",
        "    line = f.readline()\n",
        "    print(line)"
      ]
    },
    {
      "cell_type": "code",
      "execution_count": null,
      "id": "53439c85-78e3-471d-be44-dca6dcefb8d8",
      "metadata": {
        "id": "53439c85-78e3-471d-be44-dca6dcefb8d8"
      },
      "outputs": [],
      "source": []
    }
  ],
  "metadata": {
    "kernelspec": {
      "display_name": "Python 3 (ipykernel)",
      "language": "python",
      "name": "python3"
    },
    "language_info": {
      "codemirror_mode": {
        "name": "ipython",
        "version": 3
      },
      "file_extension": ".py",
      "mimetype": "text/x-python",
      "name": "python",
      "nbconvert_exporter": "python",
      "pygments_lexer": "ipython3",
      "version": "3.10.8"
    },
    "colab": {
      "provenance": []
    }
  },
  "nbformat": 4,
  "nbformat_minor": 5
}