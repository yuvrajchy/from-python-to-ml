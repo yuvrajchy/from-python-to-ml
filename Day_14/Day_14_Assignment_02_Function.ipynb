{
  "nbformat": 4,
  "nbformat_minor": 0,
  "metadata": {
    "colab": {
      "provenance": []
    },
    "kernelspec": {
      "name": "python3",
      "display_name": "Python 3"
    },
    "language_info": {
      "name": "python"
    }
  },
  "cells": [
    {
      "cell_type": "markdown",
      "source": [
        "THEORY QUESTIONS\n",
        "\n",
        "Note: For each theory Question, give at least one example."
      ],
      "metadata": {
        "id": "lwMtaCAC09SB"
      }
    },
    {
      "cell_type": "markdown",
      "source": [
        "1. What is the difference between a function and a method in Python?\n",
        "\n",
        "- A function in Python is just a block of reusable code that does something specific. You define it once and can call it anywhere in your program.\n",
        "\n",
        "A method, on the other hand, is basically a function but it belongs to an object or a class. That’s the only big difference — methods always have some connection with an object, while functions stand alone.\n",
        "\n",
        "✅ Example of a Function"
      ],
      "metadata": {
        "id": "_gcXdvu41OqV"
      }
    },
    {
      "cell_type": "code",
      "execution_count": 1,
      "metadata": {
        "colab": {
          "base_uri": "https://localhost:8080/"
        },
        "id": "6N-DEXni02e3",
        "outputId": "93187052-3097-440e-d6cd-57fd6521b45d"
      },
      "outputs": [
        {
          "output_type": "stream",
          "name": "stdout",
          "text": [
            "Hello, Yuvraj!\n"
          ]
        }
      ],
      "source": [
        "def greet(name):\n",
        "    return f\"Hello, {name}!\"\n",
        "\n",
        "print(greet(\"Yuvraj\"))"
      ]
    },
    {
      "cell_type": "markdown",
      "source": [
        "- A function is like a free tool in your toolbox.\n",
        "\n",
        "- A method is that same tool but attached to a specific machine (object)."
      ],
      "metadata": {
        "id": "u8eVOk_R3Iy9"
      }
    },
    {
      "cell_type": "markdown",
      "source": [
        "2. Explain the concept of function arguments and parameters in Python.\n",
        "\n",
        "When we create a function, we often want to pass in some data for it to work with.\n",
        "\n",
        "- The names we put inside the function definition are called parameters.\n",
        "\n",
        "- The actual values we pass when calling the function are called arguments."
      ],
      "metadata": {
        "id": "25T4Ml7Z3Ipw"
      }
    },
    {
      "cell_type": "code",
      "source": [
        "def add(a, b):   # a and b are PARAMETERS\n",
        "    return a + b\n",
        "\n",
        "result = add(5, 3)  # 5 and 3 are ARGUMENTS\n",
        "print(result)"
      ],
      "metadata": {
        "id": "OYyfJ6U52KOC"
      },
      "execution_count": null,
      "outputs": []
    },
    {
      "cell_type": "markdown",
      "source": [
        "Here:\n",
        "\n",
        "a and b → parameters (placeholders inside the function).\n",
        "\n",
        "5 and 3 → arguments (real values we gave when calling the function).\n",
        "\n",
        "👉 In simple words:\n",
        "\n",
        "Parameters = empty containers waiting for values.\n",
        "\n",
        "Arguments = the actual values you put into those containers when you use the function."
      ],
      "metadata": {
        "id": "vikD-tW83tFF"
      }
    },
    {
      "cell_type": "markdown",
      "source": [
        "3. What are the different ways to define and call a function in Python?\n",
        "\n",
        "- In Python, you can define and call functions in a few different styles depending on how flexible you want them to be.\n",
        "\n",
        "1. Simple Function (Positional Arguments)\n",
        "\n",
        "You define a function with parameters and call it by passing values in order."
      ],
      "metadata": {
        "id": "nvIb1JJ23zjP"
      }
    },
    {
      "cell_type": "code",
      "source": [
        "def greet(name):\n",
        "    return f\"Hello, {name}!\"\n",
        "\n",
        "print(greet(\"Yuvraj\"))   # calling with a positional argument"
      ],
      "metadata": {
        "colab": {
          "base_uri": "https://localhost:8080/"
        },
        "id": "NZPL08r44DGf",
        "outputId": "ba290e00-a391-43c6-dc23-a576c5abe8ef"
      },
      "execution_count": 2,
      "outputs": [
        {
          "output_type": "stream",
          "name": "stdout",
          "text": [
            "Hello, Yuvraj!\n"
          ]
        }
      ]
    },
    {
      "cell_type": "markdown",
      "source": [
        "2. Function with Default Arguments\n",
        "\n",
        "You can give parameters a default value. If no argument is passed, the default is used."
      ],
      "metadata": {
        "id": "GBMkAKpU4JYs"
      }
    },
    {
      "cell_type": "code",
      "source": [
        "def greet(name=\"Friend\"):\n",
        "    return f\"Hello, {name}!\"\n",
        "\n",
        "print(greet())           # uses default → Hello, Friend!\n",
        "print(greet(\"Yuvraj\"))   # overrides default → Hello, Yuvraj!"
      ],
      "metadata": {
        "colab": {
          "base_uri": "https://localhost:8080/"
        },
        "id": "aewOVpnV4Ec7",
        "outputId": "a0d6ec1b-6033-46ab-9cd9-2000752f3283"
      },
      "execution_count": 3,
      "outputs": [
        {
          "output_type": "stream",
          "name": "stdout",
          "text": [
            "Hello, Friend!\n",
            "Hello, Yuvraj!\n"
          ]
        }
      ]
    },
    {
      "cell_type": "markdown",
      "source": [
        "3. Function with Keyword Arguments\n",
        "\n",
        "You can call a function by explicitly naming the arguments."
      ],
      "metadata": {
        "id": "rxdXLZQ04SRh"
      }
    },
    {
      "cell_type": "code",
      "source": [
        "def introduce(name, age):\n",
        "    return f\"My name is {name}, and I am {age} years old.\"\n",
        "\n",
        "print(introduce(age=21, name=\"Yuvraj\"))\n",
        "# Order doesn’t matter when using keywords"
      ],
      "metadata": {
        "id": "vyICG0gG4M4_"
      },
      "execution_count": null,
      "outputs": []
    },
    {
      "cell_type": "markdown",
      "source": [
        "4. Function with Variable-Length Arguments\n",
        "\n",
        "*args → lets you pass multiple positional arguments.\n",
        "\n",
        "**kwargs → lets you pass multiple keyword arguments"
      ],
      "metadata": {
        "id": "sYsqGPhu4doY"
      }
    },
    {
      "cell_type": "code",
      "source": [
        "def add_numbers(*args):\n",
        "    return sum(args)\n",
        "\n",
        "print(add_numbers(2, 4, 6, 8))\n",
        "\n",
        "def show_details(**kwargs):\n",
        "    return kwargs\n",
        "\n",
        "print(show_details(name=\"Yuvraj\", age=21))"
      ],
      "metadata": {
        "colab": {
          "base_uri": "https://localhost:8080/"
        },
        "id": "rEUJfVMN4ftH",
        "outputId": "27afca28-321a-49ad-be35-3cf91c899da4"
      },
      "execution_count": 4,
      "outputs": [
        {
          "output_type": "stream",
          "name": "stdout",
          "text": [
            "20\n",
            "{'name': 'Yuvraj', 'age': 21}\n"
          ]
        }
      ]
    },
    {
      "cell_type": "markdown",
      "source": [
        "5. Lambda Function (Anonymous Function)\n",
        "\n",
        "A one-liner function, often used for short tasks."
      ],
      "metadata": {
        "id": "LOvkgs0H4luW"
      }
    },
    {
      "cell_type": "code",
      "source": [
        "square = lambda x: x**2\n",
        "print(square(5))"
      ],
      "metadata": {
        "colab": {
          "base_uri": "https://localhost:8080/"
        },
        "id": "IOSfiB504ih_",
        "outputId": "54f074d0-4530-4e33-af8f-86fd2fe586c3"
      },
      "execution_count": 5,
      "outputs": [
        {
          "output_type": "stream",
          "name": "stdout",
          "text": [
            "25\n"
          ]
        }
      ]
    },
    {
      "cell_type": "markdown",
      "source": [
        "In short:\n",
        "\n",
        "- Define using def or lambda.\n",
        "\n",
        "- Call with positional, keyword, default, or variable arguments depending on how you structured the function."
      ],
      "metadata": {
        "id": "hw1qKBN94s6g"
      }
    },
    {
      "cell_type": "markdown",
      "source": [
        "4. What is the purpose of the `return` statement in a Python function?\n",
        "\n",
        "- In Python, the return statement is used inside a function to hand back a result to the place where the function was called. If you don’t use return, the function still runs, but it won’t actually give you anything back—by default, it just gives None.\n",
        "\n",
        "For example, if you write:"
      ],
      "metadata": {
        "id": "vLS-k-8b40wI"
      }
    },
    {
      "cell_type": "code",
      "source": [
        "def add(a, b):\n",
        "  return a + b"
      ],
      "metadata": {
        "id": "3VdoQe6b4o_1"
      },
      "execution_count": 8,
      "outputs": []
    },
    {
      "cell_type": "markdown",
      "source": [
        "and call it with add(5, 3), the function gives you 8 back, which you can store in a variable or use in another calculation.\n",
        "\n",
        "But if you write it like this:"
      ],
      "metadata": {
        "id": "o__IFkJt5b-X"
      }
    },
    {
      "cell_type": "code",
      "source": [
        "def add(a, b):\n",
        "    print(a + b)"
      ],
      "metadata": {
        "id": "fpRCC6Um5KiN"
      },
      "execution_count": 9,
      "outputs": []
    },
    {
      "cell_type": "markdown",
      "source": [
        "then calling add(5, 3) will only display 8 on the screen, but it won’t actually return a usable value. If you try to save it in a variable, that variable will just contain None.\n",
        "\n",
        "So the purpose of return is simple: it lets your function provide a result that you can work with later, instead of just printing something out and losing it."
      ],
      "metadata": {
        "id": "RKWpQPnN5i0r"
      }
    },
    {
      "cell_type": "markdown",
      "source": [
        "5. What are iterators in Python and how do they differ from iterables?\n",
        "\n",
        "- In Python, an iterable is any object you can loop over, like a list, tuple, string, or set. Basically, if you can use it inside a for loop, it’s iterable.\n",
        "\n",
        "An iterator is a special object that remembers where it is during iteration. You can get the next value from it one at a time using the built-in next() function.\n",
        "\n",
        "The difference is simple:\n",
        "\n",
        "An iterable gives you an iterator when you call iter() on it.\n",
        "\n",
        "An iterator is the actual object that produces values one by one."
      ],
      "metadata": {
        "id": "MG7f06AY5qz3"
      }
    },
    {
      "cell_type": "code",
      "source": [
        "numbers = [1, 2, 3]   # this is an iterable\n",
        "\n",
        "it = iter(numbers)    # create an iterator from the iterable\n",
        "\n",
        "print(next(it))\n",
        "print(next(it))\n",
        "print(next(it))"
      ],
      "metadata": {
        "colab": {
          "base_uri": "https://localhost:8080/"
        },
        "id": "2hAli0kp5gDE",
        "outputId": "b24867f7-113e-453d-e715-98f6e74541e1"
      },
      "execution_count": 10,
      "outputs": [
        {
          "output_type": "stream",
          "name": "stdout",
          "text": [
            "1\n",
            "2\n",
            "3\n"
          ]
        }
      ]
    },
    {
      "cell_type": "markdown",
      "source": [
        "Here, numbers is the iterable, while it is the iterator that fetches the values step by step.\n",
        "\n",
        "If you try next(it) again after the third value, you’ll get a StopIteration error because the iterator has no more items left.\n",
        "\n",
        "So in short:\n",
        "\n",
        "Iterable = a collection you can loop over.\n",
        "\n",
        "Iterator = the mechanism that actually gives you the items one by one."
      ],
      "metadata": {
        "id": "H0dVy4cv56aH"
      }
    },
    {
      "cell_type": "markdown",
      "source": [
        "6. Explain the concept of generators in Python and how they are defined.\n",
        "\n",
        "- A generator in Python is like a special kind of iterator. Instead of holding all the values in memory at once (like a list), a generator produces values one at a time as you need them. This makes it very memory-efficient, especially when you’re dealing with large amounts of data.\n",
        "\n",
        "You define a generator using a normal function, but instead of return, you use the keyword yield. Every time the function hits yield, it pauses, gives back a value, and then continues from the same spot the next time it’s called.\n",
        "\n",
        "Here’s a simple example:"
      ],
      "metadata": {
        "id": "2ClGfm8J5_Kj"
      }
    },
    {
      "cell_type": "code",
      "source": [
        "def count_up_to(n):\n",
        "    i = 1\n",
        "    while i <= n:\n",
        "        yield i\n",
        "        i += 1\n",
        "\n",
        "gen = count_up_to(5)\n",
        "\n",
        "for num in gen:\n",
        "    print(num)"
      ],
      "metadata": {
        "colab": {
          "base_uri": "https://localhost:8080/"
        },
        "id": "TkFLY96j53AO",
        "outputId": "bb175f2f-57e6-4532-f405-80a089caf742"
      },
      "execution_count": 11,
      "outputs": [
        {
          "output_type": "stream",
          "name": "stdout",
          "text": [
            "1\n",
            "2\n",
            "3\n",
            "4\n",
            "5\n"
          ]
        }
      ]
    },
    {
      "cell_type": "markdown",
      "source": [
        "This will print numbers 1 through 5, but notice the function never stored a list [1,2,3,4,5]. It just produced each number when asked.\n",
        "\n",
        "So, in short:\n",
        "\n",
        "- Generators are defined like functions but use yield instead of return.\n",
        "\n",
        "- They give you values one by one, saving memory.\n",
        "\n",
        "- They’re basically iterators, but easier to write."
      ],
      "metadata": {
        "id": "SJMIIbj36Oqe"
      }
    },
    {
      "cell_type": "markdown",
      "source": [
        "7. What are the advantages of using generators over regular functions?\n",
        "\n",
        "- The big advantage of generators is that they don’t create all values at once. Instead, they generate them one by one when needed. This saves both memory and sometimes processing time.\n",
        "\n",
        "Here’s why they’re better in certain situations:\n",
        "\n",
        "1. Memory efficiency – A list with a million numbers takes up a lot of space. A generator that produces those numbers one at a time barely uses memory."
      ],
      "metadata": {
        "id": "gGGWhrs86TZ-"
      }
    },
    {
      "cell_type": "code",
      "source": [
        "# List (stores everything)\n",
        "numbers = [i for i in range(1_000_000)]\n",
        "\n",
        "# Generator (creates on the fly)\n",
        "numbers_gen = (i for i in range(1_000_000))"
      ],
      "metadata": {
        "id": "GCv1AsjR6LuC"
      },
      "execution_count": 12,
      "outputs": []
    },
    {
      "cell_type": "markdown",
      "source": [
        "2. Faster startup – With a generator, you don’t need to wait for the whole list to be created. You can start using values immediately.\n",
        "\n",
        "Works well with large/unknown data – For example, when reading a huge file, you don’t want to load it entirely into memory. A generator can yield one line at a time."
      ],
      "metadata": {
        "id": "b5laxXHo6tPm"
      }
    },
    {
      "cell_type": "code",
      "source": [
        "def read_file(filename):\n",
        "    with open(filename) as f:\n",
        "        for line in f:\n",
        "            yield line.strip()"
      ],
      "metadata": {
        "id": "9C5eBa6E6pEk"
      },
      "execution_count": 13,
      "outputs": []
    },
    {
      "cell_type": "markdown",
      "source": [
        "3. Cleaner code than writing custom iterators – Instead of writing a class with __iter__ and __next__, you just use yield in a function and you instantly get an iterator.\n",
        "\n",
        "summary:\n",
        "\n",
        "- Use regular functions when you want one final result.\n",
        "\n",
        "- Use generators when you need a sequence of results, especially if it’s big or infinite, without eating up memory."
      ],
      "metadata": {
        "id": "pnXQgo1W6633"
      }
    },
    {
      "cell_type": "markdown",
      "source": [
        "8. What is a lambda function in Python and when is it typically used?\n",
        "\n",
        "- A lambda function in Python is just a quick one-line function without a name. You make it with the word lambda. Think of it as a shortcut when you don’t feel like writing a full def function.\n",
        "\n",
        "Example:"
      ],
      "metadata": {
        "id": "SrT0hz6U7Io2"
      }
    },
    {
      "cell_type": "code",
      "source": [
        "square = lambda x: x**2\n",
        "print(square(5))"
      ],
      "metadata": {
        "colab": {
          "base_uri": "https://localhost:8080/"
        },
        "id": "eYoxYHou63Ph",
        "outputId": "d5a59d52-1825-4965-e5ef-e22db860b595"
      },
      "execution_count": 14,
      "outputs": [
        {
          "output_type": "stream",
          "name": "stdout",
          "text": [
            "25\n"
          ]
        }
      ]
    },
    {
      "cell_type": "markdown",
      "source": [
        "This does the same thing as writing a normal function with def, but it’s shorter.\n",
        "\n",
        "So when do people use it? Usually in places where you just need a tiny function for a short time. For example, if you want to sort a list of students by their age, you can do:"
      ],
      "metadata": {
        "id": "xOUCsH9E7bg-"
      }
    },
    {
      "cell_type": "code",
      "source": [
        "students = [(\"Yuvraj\", 21), (\"Aman\", 19), (\"Neha\", 22)]\n",
        "sorted_students = sorted(students, key=lambda x: x[1])\n",
        "print(sorted_students)"
      ],
      "metadata": {
        "colab": {
          "base_uri": "https://localhost:8080/"
        },
        "id": "Hs4hHgKo7Ysm",
        "outputId": "16035cdd-faab-4d81-d2b3-28d3f6f3ba84"
      },
      "execution_count": 15,
      "outputs": [
        {
          "output_type": "stream",
          "name": "stdout",
          "text": [
            "[('Aman', 19), ('Yuvraj', 21), ('Neha', 22)]\n"
          ]
        }
      ]
    },
    {
      "cell_type": "markdown",
      "source": [
        "Here, instead of writing a whole function to grab the age, we just used a lambda.\n",
        "\n",
        "In short:\n",
        "\n",
        "- Use def when the function is bigger or you’ll reuse it often.\n",
        "\n",
        "- Use lambda when it’s just a small, one-time thing."
      ],
      "metadata": {
        "id": "0a2Nqpkc7iWP"
      }
    },
    {
      "cell_type": "markdown",
      "source": [
        "9. Explain the purpose and usage of the `map()` function in Python.\n",
        "\n",
        "- The map() function in Python is used when you want to apply the same operation to every item in a sequence (like a list or tuple) without writing a loop. It saves time and keeps your code cleaner.\n",
        "\n",
        "The way it works:\n",
        "\n",
        "You give map() a function and an iterable.\n",
        "\n",
        "It applies that function to each element of the iterable, one by one.\n",
        "\n",
        "It returns a special object called a map object, which you can convert into a list, set, or tuple.\n",
        "\n",
        "Example 1: Squaring numbers"
      ],
      "metadata": {
        "id": "vRXPLsuR7qwR"
      }
    },
    {
      "cell_type": "code",
      "source": [
        "numbers = [1, 2, 3, 4, 5]\n",
        "squared = map(lambda x: x**2, numbers)\n",
        "print(list(squared))"
      ],
      "metadata": {
        "colab": {
          "base_uri": "https://localhost:8080/"
        },
        "id": "0ydcxGNB7e9Q",
        "outputId": "839a5421-2d72-4023-b00c-6653c639e554"
      },
      "execution_count": 16,
      "outputs": [
        {
          "output_type": "stream",
          "name": "stdout",
          "text": [
            "[1, 4, 9, 16, 25]\n"
          ]
        }
      ]
    },
    {
      "cell_type": "markdown",
      "source": [
        "Here, lambda x: x**2 is applied to each number.\n",
        "\n",
        "Example 2: Converting strings to uppercase"
      ],
      "metadata": {
        "id": "uES1Qr9L75lH"
      }
    },
    {
      "cell_type": "code",
      "source": [
        "names = [\"yuvraj\", \"aman\", \"neha\"]\n",
        "upper_names = map(str.upper, names)\n",
        "print(list(upper_names))"
      ],
      "metadata": {
        "colab": {
          "base_uri": "https://localhost:8080/"
        },
        "id": "nzjHMUDN72aM",
        "outputId": "b00dc927-2d29-4102-c309-6248f69be95b"
      },
      "execution_count": 17,
      "outputs": [
        {
          "output_type": "stream",
          "name": "stdout",
          "text": [
            "['YUVRAJ', 'AMAN', 'NEHA']\n"
          ]
        }
      ]
    },
    {
      "cell_type": "markdown",
      "source": [
        "Here, the built-in function str.upper was applied directly.\n",
        "\n",
        "So the purpose of map() is simple:\n",
        "It’s a shortcut to apply a function to all items in a collection, instead of writing a manual for loop."
      ],
      "metadata": {
        "id": "NqwWQJ1q8AtI"
      }
    },
    {
      "cell_type": "markdown",
      "source": [
        "10. What is the difference between `map()`, `reduce()`, and `filter()` functions in Python?\n",
        "\n",
        "map(), filter(), and reduce() all do different jobs when working with a list (or any sequence).\n",
        "\n",
        "- map() is for transforming. It takes each item, does something to it, and gives you back the changed version."
      ],
      "metadata": {
        "id": "7xV4v9lR8DHT"
      }
    },
    {
      "cell_type": "code",
      "source": [
        "numbers = [1, 2, 3, 4]\n",
        "squared = list(map(lambda x: x**2, numbers))\n",
        "print(squared)"
      ],
      "metadata": {
        "colab": {
          "base_uri": "https://localhost:8080/"
        },
        "id": "OdNkamL379iS",
        "outputId": "e158e224-aad0-418a-dfe8-7957cd53a641"
      },
      "execution_count": 18,
      "outputs": [
        {
          "output_type": "stream",
          "name": "stdout",
          "text": [
            "[1, 4, 9, 16]\n"
          ]
        }
      ]
    },
    {
      "cell_type": "markdown",
      "source": [
        "Here every number got squared.\n",
        "\n",
        "- filter() is for picking. It checks each item with a condition and only keeps the ones that match."
      ],
      "metadata": {
        "id": "A_6PTH6Y8f_S"
      }
    },
    {
      "cell_type": "code",
      "source": [
        "numbers = [1, 2, 3, 4, 5]\n",
        "evens = list(filter(lambda x: x % 2 == 0, numbers))\n",
        "print(evens)"
      ],
      "metadata": {
        "colab": {
          "base_uri": "https://localhost:8080/"
        },
        "id": "5R4WmEtW8bmr",
        "outputId": "930fe6e3-6ee1-4843-ee8f-216d5d97766d"
      },
      "execution_count": 19,
      "outputs": [
        {
          "output_type": "stream",
          "name": "stdout",
          "text": [
            "[2, 4]\n"
          ]
        }
      ]
    },
    {
      "cell_type": "markdown",
      "source": [
        "Here only even numbers stayed.\n",
        "\n",
        "- reduce() is for combining. It keeps applying a function so that the whole list shrinks down into one single result."
      ],
      "metadata": {
        "id": "Sv86tZ5k8pSo"
      }
    },
    {
      "cell_type": "code",
      "source": [
        "from functools import reduce\n",
        "numbers = [1, 2, 3, 4]\n",
        "product = reduce(lambda x, y: x * y, numbers)\n",
        "print(product)"
      ],
      "metadata": {
        "colab": {
          "base_uri": "https://localhost:8080/"
        },
        "id": "kSODNaJe8kNa",
        "outputId": "e4b0dd19-1fb0-4380-fe72-2bdb3013ee0f"
      },
      "execution_count": 20,
      "outputs": [
        {
          "output_type": "stream",
          "name": "stdout",
          "text": [
            "24\n"
          ]
        }
      ]
    },
    {
      "cell_type": "markdown",
      "source": [
        "Here all numbers were multiplied together into one answer.\n",
        "\n",
        "\n",
        "- map → “change everything.”\n",
        "\n",
        "- filter → “choose some.”\n",
        "\n",
        "- reduce → “squash into one.”"
      ],
      "metadata": {
        "id": "CKeXBNH48ws3"
      }
    },
    {
      "cell_type": "markdown",
      "source": [
        "11. Using pen & Paper write the internal mechanism for sum operation using  reduce function on this given\n",
        "list:[47,11,42,13];\n",
        "\n",
        "- Step 1: Write the code"
      ],
      "metadata": {
        "id": "0yKQ-eWY88sp"
      }
    },
    {
      "cell_type": "code",
      "source": [
        "from functools import reduce\n",
        "\n",
        "numbers = [47, 11, 42, 13]\n",
        "result = reduce(lambda x, y: x + y, numbers)\n",
        "print(result)"
      ],
      "metadata": {
        "colab": {
          "base_uri": "https://localhost:8080/"
        },
        "id": "6VxYzkFn8tdV",
        "outputId": "cd2b8ac2-cd13-41ea-827e-e33ad9e49f76"
      },
      "execution_count": 21,
      "outputs": [
        {
          "output_type": "stream",
          "name": "stdout",
          "text": [
            "113\n"
          ]
        }
      ]
    },
    {
      "cell_type": "markdown",
      "source": [
        "Step 2: How reduce works internally\n",
        "\n",
        "Reduce takes the first two elements and applies the function (x + y), then takes that result and combines it with the next element, and so on.\n",
        "\n",
        "So on paper, it goes like this:\n",
        "\n",
        "First step: x = 47, y = 11 → 47 + 11 = 58\n",
        "\n",
        "Second step: x = 58, y = 42 → 58 + 42 = 100\n",
        "\n",
        "Third step: x = 100, y = 13 → 100 + 13 = 113\n",
        "\n",
        "Final result = 113"
      ],
      "metadata": {
        "id": "cL1_NB869Uqi"
      }
    },
    {
      "cell_type": "markdown",
      "source": [
        "PRACTICAL QUESTIONS"
      ],
      "metadata": {
        "id": "3kiB8qAM9jHW"
      }
    },
    {
      "cell_type": "markdown",
      "source": [
        "1. Write a Python function that takes a list of numbers as input and returns the sum of all even numbers in\n",
        "the list."
      ],
      "metadata": {
        "id": "4VmzCCmp9sdS"
      }
    },
    {
      "cell_type": "code",
      "source": [
        "def sum_of_evens(numbers):\n",
        "    total = 0\n",
        "    for num in numbers:\n",
        "        if num % 2 == 0:   # check if even\n",
        "            total += num\n",
        "    return total\n",
        "\n",
        "nums = [1, 2, 3, 4, 5, 6]\n",
        "print(sum_of_evens(nums))"
      ],
      "metadata": {
        "colab": {
          "base_uri": "https://localhost:8080/"
        },
        "id": "3UJwx3_F9YyE",
        "outputId": "e091dc34-ee77-4343-8e4d-1929fc5549d0"
      },
      "execution_count": 24,
      "outputs": [
        {
          "output_type": "stream",
          "name": "stdout",
          "text": [
            "12\n"
          ]
        }
      ]
    },
    {
      "cell_type": "markdown",
      "source": [
        "We loop through the list.\n",
        "\n",
        "- Check if each number is even (num % 2 == 0).\n",
        "\n",
        "- Add it to total if it is.\n",
        "\n",
        "- Return the final sum."
      ],
      "metadata": {
        "id": "0MBdQetW95Pv"
      }
    },
    {
      "cell_type": "markdown",
      "source": [
        "2. Create a Python function that accepts a string and returns the reverse of that string."
      ],
      "metadata": {
        "id": "dEAaEP4j-Bik"
      }
    },
    {
      "cell_type": "code",
      "source": [
        "def reverse_string(s):\n",
        "    return s[::-1]\n",
        "\n",
        "text = \"Yuvraj\"\n",
        "print(reverse_string(text))"
      ],
      "metadata": {
        "colab": {
          "base_uri": "https://localhost:8080/"
        },
        "id": "ygSJg6ij91dJ",
        "outputId": "eadf7584-95e8-49bc-f653-ae957eaee16b"
      },
      "execution_count": 25,
      "outputs": [
        {
          "output_type": "stream",
          "name": "stdout",
          "text": [
            "jarvuY\n"
          ]
        }
      ]
    },
    {
      "cell_type": "markdown",
      "source": [
        "Explanation:\n",
        "\n",
        "- s[::-1] is Python’s slicing trick that reads the string from the end to the start, giving you the reversed string."
      ],
      "metadata": {
        "id": "-YoAO9X4-Npq"
      }
    },
    {
      "cell_type": "markdown",
      "source": [
        "3. Implement a Python function that takes a list of integers and returns a new list containing the squares of\n",
        "each number."
      ],
      "metadata": {
        "id": "MOv0NBZd-XiJ"
      }
    },
    {
      "cell_type": "code",
      "source": [
        "def squares_list(numbers):\n",
        "    result = []\n",
        "    for num in numbers:\n",
        "        result.append(num ** 2)\n",
        "    return result\n",
        "\n",
        "print(squares_list([1, 2, 3, 4]))"
      ],
      "metadata": {
        "colab": {
          "base_uri": "https://localhost:8080/"
        },
        "id": "zNAONAZI-Kxf",
        "outputId": "5b53870b-ba87-484b-d527-14131d74b1ab"
      },
      "execution_count": 26,
      "outputs": [
        {
          "output_type": "stream",
          "name": "stdout",
          "text": [
            "[1, 4, 9, 16]\n"
          ]
        }
      ]
    },
    {
      "cell_type": "markdown",
      "source": [
        "num ** 2 means square of the number.\n",
        "\n",
        "We either build the list using a loop or directly use a list comprehension (shorter way)."
      ],
      "metadata": {
        "id": "ujkSwfi_-i4j"
      }
    },
    {
      "cell_type": "markdown",
      "source": [
        "4. Write a Python function that checks if a given number is prime or not from 1 to 200."
      ],
      "metadata": {
        "id": "aPEfE1Da-oRP"
      }
    },
    {
      "cell_type": "code",
      "source": [
        "def is_prime(n):\n",
        "    if n < 2:\n",
        "        return False\n",
        "    for i in range(2, int(n**0.5) + 1):\n",
        "        if n % i == 0:\n",
        "            return False\n",
        "    return True"
      ],
      "metadata": {
        "id": "YIlgj-5v-fuM"
      },
      "execution_count": 27,
      "outputs": []
    },
    {
      "cell_type": "code",
      "source": [
        "for num in range(1, 201):\n",
        "    if is_prime(num):\n",
        "        print(num, \"is prime\")"
      ],
      "metadata": {
        "colab": {
          "base_uri": "https://localhost:8080/"
        },
        "id": "_xiMiEqx-3W1",
        "outputId": "b6f8f709-97c6-4a88-9d4f-c596c657b979"
      },
      "execution_count": 28,
      "outputs": [
        {
          "output_type": "stream",
          "name": "stdout",
          "text": [
            "2 is prime\n",
            "3 is prime\n",
            "5 is prime\n",
            "7 is prime\n",
            "11 is prime\n",
            "13 is prime\n",
            "17 is prime\n",
            "19 is prime\n",
            "23 is prime\n",
            "29 is prime\n",
            "31 is prime\n",
            "37 is prime\n",
            "41 is prime\n",
            "43 is prime\n",
            "47 is prime\n",
            "53 is prime\n",
            "59 is prime\n",
            "61 is prime\n",
            "67 is prime\n",
            "71 is prime\n",
            "73 is prime\n",
            "79 is prime\n",
            "83 is prime\n",
            "89 is prime\n",
            "97 is prime\n",
            "101 is prime\n",
            "103 is prime\n",
            "107 is prime\n",
            "109 is prime\n",
            "113 is prime\n",
            "127 is prime\n",
            "131 is prime\n",
            "137 is prime\n",
            "139 is prime\n",
            "149 is prime\n",
            "151 is prime\n",
            "157 is prime\n",
            "163 is prime\n",
            "167 is prime\n",
            "173 is prime\n",
            "179 is prime\n",
            "181 is prime\n",
            "191 is prime\n",
            "193 is prime\n",
            "197 is prime\n",
            "199 is prime\n"
          ]
        }
      ]
    },
    {
      "cell_type": "markdown",
      "source": [
        "5. Create an iterator class in Python that generates the Fibonacci sequence up to a specified number of\n",
        "terms."
      ],
      "metadata": {
        "id": "ok8n36k2_PqE"
      }
    },
    {
      "cell_type": "code",
      "source": [
        "class FibonacciIterator:\n",
        "    def __init__(self, n_terms):\n",
        "        self.n_terms = n_terms   # total number of terms to generate\n",
        "        self.count = 0           # to track how many terms are generated\n",
        "        self.a, self.b = 0, 1    # starting values of Fibonacci sequence\n",
        "\n",
        "    def __iter__(self):\n",
        "        return self   # an iterator must return itself\n",
        "\n",
        "    def __next__(self):\n",
        "        if self.count >= self.n_terms:\n",
        "            raise StopIteration   # stop when done\n",
        "        if self.count == 0:\n",
        "            self.count += 1\n",
        "            return self.a\n",
        "        elif self.count == 1:\n",
        "            self.count += 1\n",
        "            return self.b\n",
        "        else:\n",
        "            self.a, self.b = self.b, self.a + self.b\n",
        "            self.count += 1\n",
        "            return self.b\n"
      ],
      "metadata": {
        "id": "yrI9nPoz-7aM"
      },
      "execution_count": 29,
      "outputs": []
    },
    {
      "cell_type": "markdown",
      "source": [
        "6. Write a generator function in Python that yields the powers of 2 up to a given exponent"
      ],
      "metadata": {
        "id": "1ctjMc18_pHj"
      }
    },
    {
      "cell_type": "code",
      "source": [
        "def powers_of_two(limit):\n",
        "    exponent = 0\n",
        "    while exponent <= limit:\n",
        "        yield 2 ** exponent\n",
        "        exponent += 1\n",
        "\n",
        "# Example usage\n",
        "for value in powers_of_two(5):\n",
        "    print(value)"
      ],
      "metadata": {
        "colab": {
          "base_uri": "https://localhost:8080/"
        },
        "id": "o7tPqpJv_apc",
        "outputId": "7b2bb5e1-706d-4539-f80b-fb94a151aef6"
      },
      "execution_count": 30,
      "outputs": [
        {
          "output_type": "stream",
          "name": "stdout",
          "text": [
            "1\n",
            "2\n",
            "4\n",
            "8\n",
            "16\n",
            "32\n"
          ]
        }
      ]
    },
    {
      "cell_type": "markdown",
      "source": [
        "What’s happening:\n",
        "\n",
        "- We start at exponent 0.\n",
        "\n",
        "- Each time, yield gives back 2**exponent.\n",
        "\n",
        "- The function pauses and resumes until we hit the given limit."
      ],
      "metadata": {
        "id": "PUWbOhbJ_zME"
      }
    },
    {
      "cell_type": "markdown",
      "source": [
        "7. Implement a generator function that reads a file line by line and yields each line as a string."
      ],
      "metadata": {
        "id": "ZNwVwehh_6jg"
      }
    },
    {
      "cell_type": "code",
      "source": [
        "def fake_file_reader():\n",
        "    data = [\"first line\", \"second line\", \"third line\"]\n",
        "    for line in data:\n",
        "        yield line\n",
        "\n",
        "for line in fake_file_reader():\n",
        "    print(line)\n"
      ],
      "metadata": {
        "colab": {
          "base_uri": "https://localhost:8080/"
        },
        "id": "MhXtBqsiAJjU",
        "outputId": "d270ac02-aa0e-4ca2-fb89-675897ad5650"
      },
      "execution_count": 35,
      "outputs": [
        {
          "output_type": "stream",
          "name": "stdout",
          "text": [
            "first line\n",
            "second line\n",
            "third line\n"
          ]
        }
      ]
    },
    {
      "cell_type": "markdown",
      "source": [
        "8. Use a lambda function in Python to sort a list of tuples based on the second element of each tuple."
      ],
      "metadata": {
        "id": "7ZOJZXqKA5qd"
      }
    },
    {
      "cell_type": "code",
      "source": [
        "data = [(1, 4), (3, 1), (5, 9), (2, 6)]\n",
        "\n",
        "sorted_data = sorted(data, key=lambda x: x[1])\n",
        "\n",
        "print(\"Original:\", data)\n",
        "print(\"Sorted by 2nd element:\", sorted_data)"
      ],
      "metadata": {
        "colab": {
          "base_uri": "https://localhost:8080/"
        },
        "id": "8pCA0US_A0yU",
        "outputId": "96a18f11-a322-4760-ed14-eb0e6437ad50"
      },
      "execution_count": 36,
      "outputs": [
        {
          "output_type": "stream",
          "name": "stdout",
          "text": [
            "Original: [(1, 4), (3, 1), (5, 9), (2, 6)]\n",
            "Sorted by 2nd element: [(3, 1), (1, 4), (2, 6), (5, 9)]\n"
          ]
        }
      ]
    },
    {
      "cell_type": "markdown",
      "source": [
        "- lambda x: x[1] → tells Python to sort using the second element of each tuple.\n",
        "\n",
        "- Works for any tuple length."
      ],
      "metadata": {
        "id": "ct82sIUSBGCb"
      }
    },
    {
      "cell_type": "markdown",
      "source": [
        "9. Write a Python program that uses `map()` to convert a list of temperatures from Celsius to Fahrenheit."
      ],
      "metadata": {
        "id": "qLt5IFG2BMhg"
      }
    },
    {
      "cell_type": "code",
      "source": [
        "celsius = [0, 20, 30, 40, 100]\n",
        "\n",
        "# Convert to Fahrenheit using map and lambda\n",
        "fahrenheit = list(map(lambda c: (c * 9/5) + 32, celsius))\n",
        "\n",
        "print(\"Celsius:   \", celsius)\n",
        "print(\"Fahrenheit:\", fahrenheit)"
      ],
      "metadata": {
        "colab": {
          "base_uri": "https://localhost:8080/"
        },
        "id": "hZ0GP2ObBB5C",
        "outputId": "c0c47d89-bb4a-4bca-9464-c2858e99bcf1"
      },
      "execution_count": 37,
      "outputs": [
        {
          "output_type": "stream",
          "name": "stdout",
          "text": [
            "Celsius:    [0, 20, 30, 40, 100]\n",
            "Fahrenheit: [32.0, 68.0, 86.0, 104.0, 212.0]\n"
          ]
        }
      ]
    },
    {
      "cell_type": "markdown",
      "source": [
        "10. Create a Python program that uses `filter()` to remove all the vowels from a given string."
      ],
      "metadata": {
        "id": "OXZgygM9BXP0"
      }
    },
    {
      "cell_type": "code",
      "source": [
        "def remove_vowels(text):\n",
        "    vowels = \"aeiouAEIOU\"\n",
        "    # filter keeps only non-vowels\n",
        "    result = ''.join(filter(lambda ch: ch not in vowels, text))\n",
        "    return result\n",
        "\n",
        "\n",
        "# Example\n",
        "input_str = \"Data Science is Powerful\"\n",
        "output_str = remove_vowels(input_str)\n",
        "\n",
        "print(\"Original String :\", input_str)\n",
        "print(\"Without Vowels  :\", output_str)"
      ],
      "metadata": {
        "colab": {
          "base_uri": "https://localhost:8080/"
        },
        "id": "RG_InfykBSPg",
        "outputId": "98094fad-7fb1-468b-dc95-77cfffa096a2"
      },
      "execution_count": 38,
      "outputs": [
        {
          "output_type": "stream",
          "name": "stdout",
          "text": [
            "Original String : Data Science is Powerful\n",
            "Without Vowels  : Dt Scnc s Pwrfl\n"
          ]
        }
      ]
    },
    {
      "cell_type": "markdown",
      "source": [
        "![image.png](data:image/png;base64,iVBORw0KGgoAAAANSUhEUgAAA9MAAAGJCAYAAACJh2D9AAAAAXNSR0IArs4c6QAAAARnQU1BAACxjwv8YQUAAAAJcEhZcwAADsMAAA7DAcdvqGQAAP+lSURBVHhe7J1nmBzFtbDf6u6ZnQ3aXeWcc84ogAAJASIHkww4ccE2YF9wwmAwxv5MMBhf22BjgkkCITKSJYFQQFko57DSKmxW2pxmpkN9P3q6NTO7CiswCKj3eVra6arurq6udOqcOiWklBLFl47jOEgp0XU9OahRotEoVtQBKZKDFE1FgGZAKJSSHHJcopEolinhy6pBAoQmCaWmIMTRcmBZFtF6242iSQJBAyNgxF3YONGoiWXa4Jy4TAkNAkH9pO6rUCgUCoVCoVB8HdGSTyi+OGzbxoyaRCJR9wibRMJRTmZ+IxAIoAc00E4cV3ECJDiWK0yeTN77xAmwXwoSpC2IRhLTbdsOQnMnCIKhwEkJvLZtY1vOSQnSCImmc1L3VSgUCoVCoVAovq4oYfpLxIxamKaNbUqkJcAR2JYkEo5i265m8VgIIQgGAwQCOsTknyaIgYpkJNimg2laySHHRHB6ZLptS8yo6f8WQqDpEAgaJ2XpYFkW0bCFPH6R8xGaEqQVCoVCoVAoFAolTH+JCDRXExgvkElwbDAjFo7jxAU0RAhBIBhADwgQ0pOpFaeIlGCZ9gknMjxs2/EnMr5UHLAsB8tyJwICAdes+2QEadO0MKMW8vhFzUWA0CElFDypeysUCoVCoVAoFF9nlDD9JaLpx8j+mECdbL57LIJBz+Q7OUTRJCTgCKInMZHhc+LP88XgCNdMOzbJcjLCruM4WKaNPBnT7phVezDFQNNUQVMoFAqFQqFQKNSo+EvEMI6f/Y5Nk0y+g0EdcfxbKk4C6bjrp48nUEspv/w10/FoEqGdfHps2yYSNpH2STpQ0yR6QDspIV2hUCgUCoVCofgmoESvLxGhCTT9OAKQZ/IdtU6ooRZCYAQMjKCG0OTpYX78VUWCY0nM6LHXTwshkM7xv8kXhetZ2yAYDCQHNYppmq7Vg4238vv4CNANjYBaJ61QKBQKhUKhUPgoYfpL5oQmszGB+kTaaQ/DMFwBXZwegt5XFilwbHmCSYzjhX1BeJ61jZPXGDu2c3JrpGMIzV2HHb/9lkKhUCgUCoVC8U3nBJKc4r+NfgJTb3BlNjNiY5onXkMthCCYEiQQ1BEnL18pGkE6EIk0bmbvnvtyhUuhgRHUSQkl7jN9LGzbJlwfwbbcyYKTwd2nWj/xpI9CoVAoFAqFQvENQ42Qv2R0QzspmUw6YEXtk9q6SQhBIBAgEDRcgfok7q9oHMdyzeyTORnh9b9GzKt2IEU/adNuKSWmaeHYJ69Qd59hYBjKvFuhUCgUCoVCoUhGCdOnAfqxvHonIR2BbTpYJyFQg2v6G0wx0HT1pU8Zf9360X2c+TLXTAtvn2f9pIVc19lYFMc6SUHaE9aDJ/8MhUKhUCgUCoXim4YSsU4D9MDJfwbpgBk9OZNvAF3XSQkFMQyhPH2fKhIs08E0jwrUtmV/sRp/4XnUFoRSgyftDMwyLaJh8+QFadx12EZAU4K0QqFQKBQKhUJxHJR4dRpgGHqTBDNPoI4maUuPhb+OOiW2jroJz1K4SAcs006wChBfYEYKITECrln3yZqYW6aFadrIE66Plr6kLXQIpgQIBE7OfFyhUCgUCoVCofimooTp04RAUAPtZFWHgCOwTXnSAjUxT98poQC60lKfEtIRWFbMGZmAkzAM+OxoEj0oSEkNnrQg7TgOkXAUM2q721+dMJ0ChPCdjTXFM7hCoVAoFAqFQvFNRciTsRVWfCFEI1FsSzZp2yKEdPcADhon7XFZSolt2ViW3SSHVApX7tQNV6C1LflfzTuhx75t4OSEaGKCdDTaRLNuXK/dRlBXGmmFQqFQKBQKheIkUcL0aYYZNTGjTpMEIYREaK55rq6fvFZRSlezbVuOu1VSU575TSbmgF0etY7+/Ig5GNN1DSPQtC2pfLNupwnpij1PORtTKBQKhUKhUCiahhKmT0Mikagr4Donp42EzyYUmaaFbblC2H9FQFScHCKmIQ4YJ+1gjPhJETM2KXKyCNB0CASNJk3CKBQKhUKhUCgUCiVMn5Z4ewLbpo1sikAdM9fVAzqBgHHSpsF4pt+27a6zlUBTTM0Vp467XLnJ2115OI6DGbWwbdnkb6a2v1IoFAqFQqFQKE4dJUyfxlimRTRqxztbPjmERNPFKWkcpZSYURPbjlu73ZRnK04eAZoGmi7QDb1J38px3P3GraZaMOCaqeu6IJhy8muxFQqFQqFQKBQKRSJKmD7NOaV1sDGEDoGAjtEEk2EPx3GwbRvLtEGKpjlFUxyf2Br3QMA45W9jmhZOU53V4T5bD2gn7RlcoVAoFAqFQqFQNI4Spr8CWJaFZZ6a522hgWYIAoGT9/adTDRq4tiO+3yangaFZ84tEZpANzR0vWnOxYgTopu8NjqG0PAFaYVCoVAoFAqFQvHZUML0VwQpJZFItMlbHsFRTagROPWtjzxNtW05rqOypmpEv4nE5F2hueuiT1WIBmLr2S0cWzZdkFaOxhQKhUKhUCgUis8dJUx/hZBSuntR27Lp62Rx18pqOgSDgVMS6IilwbJspOO463URTXZ89Y0g5lRM08VnMql2rRKsmFXCKdxDuPtVBwKGcjSmUCgUCoVCoVB8jihh+iuGK8xaWNGme/oGz9wYdKPpTq+S8ZyVOY7EcWIa029yaYqZcX9WARrPwZhlx7YsO8V81SSBYNO22VIoFAqFQqFQKBQnhxKmv6JYluVuY3UKjsngqOZUNz77Gloppb+dl3QkjpemU0nXVw1vHbQu0HQdTROnrPX3iEZN15zeW6PeRCSg6RLD0Al8xm+rUCgUCoVCoVAoGkcJ019hHMdxnYOdyjpqj9g2WrqhYRhN25u6MTzB2rJsHNtByrj11aeaxtMNTSKEm2eaEK42WtM+U96569Ftd0syeYr7fHsTJLog8Bk14wqFQqFQKBQKheL4KGH6K45v9m2euiYTPn+hmljaHMcVqG3LwnHcc/7a39O95IlYGmOm8Zou0HTN/TsmPH8e+WSaFpZlud/vVNZF434/BASCp+5kTqFQKBQKhUKhUJw8Spj+mpDg7ZlTXGMrAD5/odrD01o7jsS2LNcS3BZIkrZ6krF3+KIRMcHZ+62BrmsJa44/r/w4ule0c2pr3z08Qd8QGJ9xDbxCoVAoFAqFQqE4eT7b4s7/Mq+++iqZmZlkZmZyyy234DinYvv6zUDXdVJCQYyAhtBOURaVrmbUscCMOITrozHv4barUf6MCOGaQxuGTkoohZSUIKnpQYIpBkZQwwhqaDqI2IHmHsIrpTFh158pONl39K9zNbjCu6dwTbY1A/SAQA8IjIBGMGSQmp5CamqK70js89BCewJ0JBwlEjZxLPkZBWmJ0CSBoE5KSlAJ0gqFQqFQKBQKxRfIaa+Z/uEPf8jzzz8PwFNPPcVPfvKT5ChfeRzHoaamhmbNmn1mgY2YltoybWxLnpqGOh4BQkiELjB0HeML8gztOA6aprnbcEkHgfBNxkEiEUhH4mWXlO46Zu9vAE1zpWgZywRd12LXu2GGYfhxP498Pxa2bSMdiW3bOLZEJnk9r6+vR9M0UlJS4i87NnEe2Y2A8Zkdnp1O1NTUkJqaqiYGToLPu91QKBSnD3V1dQQCgdNy2U5tbS3BYPC0TNt/m2g0imVZpKWlJQd9I1D9zsljmibRaJT09PTkoNMey7IIh8NkZGQkByka4bQfhT/xxBN07NgRgHvvvZe8vLzkKF9pqqurOeOMM8jKyuLSSy/Ftj/LwmcXXdcJpgQIhnSE7q6lPWUkSEfgmBCN2tTXRXxt9X8TT0A0DHcNsBEwCKYESQkFSQmlEAoFSU1Lif0OkpoWSvg7NS3kxw+FUgiFUggEAgSD7uHtufx5aJyPheM4RMIRImGTSMTCNt28jBekX536Cm3at6RT1/YsXrIo/vLGERJNh0CKTjAl+LUSpO+++26aNWtGjx49vnb1vKmEw2EqKiqoqKggGo0mB1NaWsrgwYPJysrihhtu+FwsR06VE6X1i6CyspKKigoqKyuTgz4z1dXV/vsp66j/Dt73q6ioSA762tNY/fnrX/9KRkYGbdu2Zc2aNcmXfKk8+eSTZGRk0K5dO9avX58c3IDT6dvW19f7aTFNMzk4Acuy/Lh1dXUALF26lFatWtGsWTOee+655Eu+kjT2nseiqqqKUaNGkZWVxRVXXNHkcaD3nKqqquSg4xKfxtra2uTgzw0p5Sml0bbtBulbt24dbdu2JSMjg//7v/+D2ESMF6++vj7pLv9d4tuZSCSSHJzAzp076dSpE82aNePBBx9MDlY0whc6Ep80aRIdO3b0j4svvhiAhx56KOF8x44dqYg1vFlZWTzxxBMQmw19/PHHE+4Zz4EDB/j73//O3//+d+bOnZscfFqydetW1q1bB8CcOXM4ePBgcpRTQghX85oSCqIHBEL7HAbbDkgbLFMSCZuE6yOYptnkBvXzJF4YThaM/1tC8vGQUhKJRKmvCxOui2JbgCNYtnQpcz6cw5wP5yQMyKe/+QaO41BXV8d777+XcC+fOHP0YChAKDXFnwz4qmHbNrNmzWLWrFksXrw4Iezll18GID8/n/nz5yeEfdP405/+RPPmzWnevDlvv/12cjBr1qxh+/btALz11lv/1QHGiXjiiSf8tL755pvJwV8IPXv2pHnz5nTr1i056DMzZcoU//1KS0uTg08Ldu3a5fd9K1eu9M/PmTOHWbNmnfb1qX///jRv3tyfOP8m0Vj9efXVV5FSUl5ezgcffJB8yXGZP38+s2bN4sMPP0wO+lx49dVXASgrK/PTVl5e7rfrGzZsSIg/ePBgmjdvTrt27RLOfxncd999fl7PmzcvOTiBlStX+nF/+tOfAvD+++9TXV2N4zi88soryZcclw0bNvh55I1vTwcae89jsXnzZv/7/uc//+HIkSPJUY5LmzZtaN68OUOGDEkOOi6bNm3y03jrrbcmB39uhMNh/zkTJkxIDj4mW7Zs8a/7wQ9+AMDMmTMpLy8H4KWXXgLg3Xff9eM99thjCff4vFi+fLlfzuKF5meeecZ/9osvvphwTTJz5871ZZETxVW4fKHC9KFDhyguLvaPw4cPQ2y2K/58cXFxgqblmmuu8Rvi1157jXA47IfFk5+fz1133cVdd93F1KlTk4NPS4YOHcp5552HYRjceOONn3uH45oPBwmGAujBmHetzypjSldAdGx3bXU0YlFfH8Gy7M9tffVXCdu2CYcj1NXWU1cbwTYdpC1cp2qxrPjZz+/i2uuv5trrr8ayLP/a/7nlVjIyMmjTug03ffumozf1iJnZ64ZGMCWAYXy1zZ9N0+Syyy7jsssua7Bk46677iIQCDBo0CB/ok3ROOPGjWPcuHEYhsEPf/jDr6QZmeLzY8OGDX7fN3v2bP/81VdfzWWXXcYtt9ySEF9xenPnnXeSmppKly5duOGGG5KDj8v3vvc9LrvsMq655prkoM8FL21du3bl+uuvB2D37t1+u/7kk08mX/K14cYbb6RDhw6kp6dz5513Jgcflz//+c9+Hu3evTs5+CvBiBEjmDhxIoZh8J3vfIfWrVsnR1HEuPbaa+natSupqaknnKT4PLnnnnv8cnaqllqXX345vXv3JhgMcvfddycHKxrhCxWmR40axYgRI5JP06NHD84+++xjrr8JBAJ+h1JVVdVAo3U8bNsmEokQiUR8IaaiooLCwsIGJomRSISCgoLjmndEo1H27dtHfn6+v/WTd/9ksyEpJcXFxeTm5voTAF5cb8YoLS2N2bNnU11dzYsvvoimaTHtphvHS2M4HKagoIDq6uqEZ8TjOA5FRUXs3r27wcynrrtOqoIpuuvkK85JWWVlJbm5uf4smmma/vM9LWryOSklBw4c4MCBA0jb1VhHwxbRiOtgKxpx1xXFa62rq6vJzc31ZzMty/Lv2Zh2+/Dhw+zateuE2qCysjJ27959Qq1+bW0te/fuJT8/v8G3J/Zt47+NR3wZMk0TKSX19WEqKiopL62gtiaMbUoOHy6luLAo5lH9KPH56P32nnHF5VeSt7eQndt3M3LkKPDy2owQtSPoAUhND1FVVUlJSckxJyq8srZnzx7/3t5zkt/Ho7H8r6qqamB+VFdXx969e8nLy2v0XvH5Fp++5Lrn1RUP77dXbx544AGqqqpYu3Ytbdu2bfTejuMkTMQdi9LSUnbv3n3cPPNIfoZHcvrjMU2Tffv2sXv37gb1Pp66ujr27dvH/v37G807j5qaGnJzc09Y1j0yMzP55JNPqK6u5qmnnkII0Wi7UV9fT35+/klrrk+lHDXGgQMH2LNnT4OyFE80GiUvL4+9e/eeMH1eG1VYWNhoW9EY8W1zJKkOJnPo0KGTamuI5VFJSckJ25sTpTk5X6PRKLm5uRQVFZ2wzJ4Iryx49/F+J7d7jZUZGmnzPOLbjOT89Nrh5MlwjvEcy7KOm9/H+36RSIS9e/eyZ8+eRvP2WBw+fPiYfUVjafyy6s/3vvc9ysrK2LVrFwMHDkwIq6+vZ8+ePezduzchT072mxOXpviw+Pw+VlmwbZsf/OAHlJWVkZOTQ//+/bFtu9H4yW2mh23bFBUVHffbJ3PgwAFycnIoKytLDjpm/jbWvzVGYWEhe/fubXB9YwwfPpy9e/dy5MgRrrvuuoQw27bZv38/u3btaqDwiUYTl8Z5fU58PZFSkp+fT05OzkmXN4/k8ZlHfN4kl4tII2NWj9raWvLz8xu032lpaXz44YdUV1fzwgsvNFhmFg6H2b9/P7m5ucf8/vGYpklhYWGD8WpTqa+v9/vZ5LxPpiljA4/4OpCcx8diwIABfpn9/ve/nxycQPz3S66v8f3kiczwk9Pm3fNYVFRUUFBQ0OBbde3alS1btlBZWcldd92VECalpKCggF27dlFTU5MQBrBgwQKefPJJ9u7dmxz09UZ+wWzevFkS8xs9atSohLB27dr5YWVlZQlhb7/9th/22GOPJYR5rFq1yo9z0003SSmlnDVrln/u+9//vrzuuuukpmkSkC1atJB/+ctfpG3b8vHHH5dZWVkSkIZhyGuuuUYeOnQo4f5vvfWW7NChg3+/ESNGyGeffdb//d3vftePu2vXLjlhwgQ/rGXLlvKll17y3zEjI8OPq+u6BGT37t2llFKWlZX5140aNUr+8Y9/lJmZmRKQKSkp8n/+539kbW2tf72UUr755puyV69e/nVCCHnVVVfJffv2JcSTUkrHcaQZNWVpabm89dYf+s/XdV3e8oNb5U033uzf58PZc2VtVVheesll/rmnn/qnHDhgoP97+PARcumi5bK2Kuwe1UePutqwrKqslr/+9a9lSkqKn7brr79e3n333f49Xn/9dT99a9askWeddVbCu5x55ply1apVCe+xc+dOOWXKFD8esW/y8ccfJ8Q7cuSI/OEPf+g/H5CtWrWSjzzyiIxGo368vn37+s+TsXyyLEv+9a9/9a974ok/y9rqevmrX97jn/v9Q/9Pnj3hHP93jx495VtvvOPnRygUSkgjINu1ay9rq8LyN/fe75978YWXZW11vfzhbT/0z/3f//2fHD9+vP97wIABDd5v+/btcty4cX6c1q1by9dee01mZ2dLYmWvMf74xz/61zzzzDPyjjvukLquy1mzZkkppSwvL5c/+clPZGpqqh+vRYsW8ve//70Mh8P+fYYPH+6H19fX++f//e9/++cfffRRuW3bNv93/HH55ZdLKaW85JJL/HM5OTlSSinPOOMM/9zrr78ue/bs6f8+55xz5M6dO/3nyVj7ct555yXcf9iwYXLevHkJ8eIZNmyYHzf+vV544QX/vNfmOI4jH3/8cdmqVSs/LDs7W/7qV7+Spmn611ZXV8uf//znMj093Y/XvHlz+Yc//EFGIhE/XjQalffff79fRjRNk9dff7382c9+5l/32muv+fE9ampqEt5PSin37dvnn5s0aZL8zW9+4z8/NTVV3nnnnQnPTmbbtm1y7Nix/j3atGkjp02b5rc9rVu3Tr5ESinlH/7wB/+aRx55RE6ePNn/nZ2dLf/2t79Jx3H8+JFIRD788MMJeRgKheSPf/xjWVpamnDvPXv2yKuvvtpvs4m1ky+++GLCPVu2bOk/T8a+07e//W3/mpEjRzZoM6WUcv369Ql1Rwghzz777IRyFV//3njjDb+dAOSZZ54pt27dmnDPffv2yWuuuSYhzd26dZMvvPBCQprbtm0rAdmsWTM5ffp02aZNGz/+mDFjGtz3eEyfPt2/9v7775dFRUX+7/jj7LPPTrjOsizZokULCchOnTr55//0pz/513jlS0op77nnaLuXl5cnpZRy06ZNCd8ckAMHDpQffPCBf119fb0fNnjwYPnRRx/Jbt26yUmTJkkppWzfvr0EZFpamn/N97//ff+aoUOHyurqamlZlrzvvvv8MkmsnD766KMJeZvM8uXLE74jIEePHi0XLlzoxzkd6s+rr74qpZTyf//3f/1zc+bMkTJWb+66666ENqVDhw7y73//u5RSynA4nPB+3jFw4MCE50kp/XY0IyND2rYtZVJ716lTJz8/48vChg0b5B133OH/njt3rnzjjTcaPBOQDzzwgJRSys6dO0tiY5e33npLdurUyY8zZcoUWVBQkJC2eFatWpXQB2iaJidNmiRzc3P9ON794sdUUkr52GOP+de98MILUkop77rrLv/c3/72t4Qy0bp1a/nSSy/51y9ZssQPu+WWW6SUUr777rv+uXvuuceP+9xzzyWMDTMyMuSPf/xjvz8cM2aMHxZ/HDlyRMpY/e3WrZt/PhQKye985zuysrLSf8bx+M1vfuNfO3PmTCmllBUVFVII4Z9fvny5lFLK/fv3++fuvffehPe86aab5B133OGPlTIzM+X999/vlxHpSp8SkL169fLPRSIR+bvf/c4fcxAbY/36179OqDOBQEACsmvXrvLZZ5+VrVu3lsTGntdcc02D9t9j7dq1/n1vuOEG/3x1dbX81a9+JZs1a+aHZ2Zmyl//+tcN2vuNGzc2aKcGDRokZ8yY4cepq6vzw4YMGSKllNI0TXnOOUfHdxdffLG0LCvuzlJu2LDBD7/22mullFLOmzfPP3f77bdLKaWcNm2af+7BBx+UUkqZm5ub0J4988wzUsae+9hjjyX0k6mpqfKnP/3pMctFvAzlHenp6VJKKf/yl78kPPvyyy/3y0fHjh3lyy+/7N/nWPn9/vvvJ8gZKSkp8vrrr/fltXgZrGPHjsdtk79ufGWE6dzcXD/s5ptvTgjzOJEwHd+wxB+TJk1qcA6QZ511ln/vGTNmNAgnVpi8vz1hurS0NGFg5B1CCGkYhqQJwrQXlnzceuut/vXPPPNMg3DvaN26dYNJAY+rrrqqQXxABoNB/+/GhOn4QaJ3tGjRQhbmlRwVqOOOH9724wbxk58zdepUKaWU69at8/Mo+QiFQnLLli1SxgY+8Q1o/KFpmvzkk0+kjDW2vXv3bhDHO6699lq/o4gfJIfDEVlfF5Z1tfXyyT8fbYSe+NOTsrYqLH/1i6ODysbywzAMuWrl2iYJ0y+9+JKMRCLy9ttv98819v1TU1Pl3r17pZRSHjp0yB8Mxx+apvnXnoww7Q1mATlr1ixZX18vBw0a1OC+3nHJJZf4DeUXJUw3lhfdu3f3J0S2b9/eaF57x4cffuinLZ6mCNOvvvqqf07TtIRv//vf/17KmIASP5GWfMS3Xz/96U8bhAP+oINTFKYbyytA/uIXv0i+lZRSygMHDsjmzZs3iK/ruv+OJyMMxNfp+OOvf/2rlDEh91vf+laDcO/o27evrKmpkTI26PMmOBs7vMGIbESYfv755/147du3l4WFhX5cj6qqqoQ+Jz7Pu3Tp4peF+AF3Y21Tp06d/LgFBQWN5qN3/OY3v/Gf7wnT8XU1/sjOzpYHDx704x+PUxWmpZTyuuuu88O951166aX+OSGELC8vl1JKf6Kqb9++UsYmI471zQH53HPPSZkkTDdv3ty/5ljC9CuvvOLHb9Omjdy/f7+USQKSrusJfbr3rGTmzZt3zL4f8AfTp0P9OZ4wfe+99/rnksvhW2+91SRhOr6P2bFjh5RSyu9973sJ13kT8V75aN26tbRt+5SFaY7RV44cObLRQXdZWZlfr0mqn7169fLb/VMVpo9Vbr2xyMkK0x9++KF/TgiRUHbuvPNOKU8gTK9atSohX+Kvv+666/z3OR6LFi3yr3nooYekTEoXcX1Y/DssWLAg4T2Ty5V3/OUvf/Gf5Z3zhGnHceS1117b4Brv8MbiMk6YPlb9uuSSS/y48TQm3JmmmTARmnycddZZvtC7bt26Y35vQD7//PNSHkOY/u1vf+ufGzBgQKOC7KkK0+FwWI4cOdI/95Of/MS/5w9+8IMG6fSOcePGNRDoZROE6WN950WLFkl5jPzetGlTwneLv8ell14qpZRy/vz5/rmMjIxG0/h15Qs18/4s9OjRw3coVVhYmBx8Ukgp+dWvfsXLL7/M+eef759fuHAhY8eO5aWXXuKhhx7yt+VZtmwZW7ZsQUrJ/fff78c/++yzmTp1Kr///e8bNff429/+xqFDhwBo3bo1Tz/9NC+88ALdunVrYE5xIjyzqjlz5vCb3/zGPz9t2jRqa2upqanh3nvvBSA7O5uZM2eyc+dObr/9doiZtf2///f//Os81q5dy/vvv+///uUvf8mLL77ElAunNDAzSaZbt+5Me206L7/4Km3buOa4ZWVl/GfWzOSoFBYW8PwLz/q//+eW2/j3Cy9x/XU3JDzHMi3q68P87O6f+Xl04403MnPmTC699FKImRD98pe/9L+HZ/J+ySWXMGPGDL773e9CzFztrrvuQkrJn//8Z399Uu/evXnllVf461//6q8xffvtt5kzew71deGEb2mbEscitvbZP90omZmZPPevF3jrjXcYOMA1ybMsi9enuev2X3juRTp0OOpY59/Pv8Tf/+8pt82JW78eCAYIBoMJjtNatWrFtGnTeO+99+jduzfETJpef/11iHlW9Uzf2rVrxzPPPMPzzz9Px44dj2valkxJSQmBQID27dsTCoX4+9//ztatWwHo3r07L7/8Mv/4xz/Izs4GYPbs2cyYMSPpLsenY8eOvvMagE6dOjF9+nR++ctfJsQ7FkOGDGHmzJm8+OKLZGVlAbBv3z4WLFgAsbVCnonXI488Qk5ODi+++KLvrO3uu+9utL42hVmzZvl/FxQU+F61Af7+978jpeSdd95h6dKlAEycOJGNGzeyYsUKBgwYADG/D6tXr6awsJB//OMf/v1+9KMf8dprr3HzzTcf0/zuZLFtmzvvvJMPP/wwYc3TSy+91Oi9n3zySX+Zh1eOnnvuOTp06NCkPItGo/ziF7/gtdde46qrrvLP/+EPfyAcDjN37lzeffddiNWbp556ildffZWePXsCkJOT46+5vOeee/w1XxMmTOCNN95IaJ8ffvhh9u3b5z/DY8uWLf4atVAoxAcffNCoY6t169Zx4MABiC0xiEQivlOY/Pz8Rsv3oEGDmDFjBi+99JJfFwoLC/n4448B+PWvf+3n4/jx43njjTf4wx/+4Kf5scceIzc3N+6ObnvVqVMnnn/+eZ555hnfb0ZFRcUprz9t3rw506dP98t+ixYtmD59Or/73e+So3LBBRf4f69fvx7HcVi+fLl/TkrJihUrkFL63pvPP/98pJTceeedfjt+xRVXMH36dH72s5/51/7iF79osG6vvLycaDRKixYtGl1zuWPHDr//CgaDvP/++3Tt2hXi6l+zZs0oLS2luLiYTp06Qaz+JWPbNrfffrtvzvmd73yH6dOnJ6whv+OOOxr0eV9W/Tke3ru3b9+eiooK9u/fT4sWLSD27oZhMH36dL9cBoNBpk+f7jtwjSf5mxMb78TjtWFe+OTJkxuY9RIr53/84x/932eeeSbTp09vYAYNcO655zJ79myeeuopgsEgxOrhpk2bkqPy6aef+qbgDz/8MJFIxC+/ubm5n9nBmm3bPPDAA0ydOjUhP37729826ZvF+yjYsGEDVVVVnH322QA899xz1NfX88c//pEzzzzTj/fwww8zffp0MjIy+PDDD/3nzZs3j7q6Oi6//HKIOZcsKSnxrzsW48aN88c0nkNb7/t5LFmyBOK+Z2pqakKaiI1bfve73zFnzhxuvvlm//wLL7yQEC+eZcuW+U4ymzdvziuvvMKzzz5LZmYmAK+//nqCU0RieX/11VczZ84cHnvsMX/MM2fOHIqLixPiHosXX3zRv2+HDh3497//zXPPPUebNm0glq6pU6ces52Kr9eNtVPEnPl5ZbtFixbMnDnTf6/Pg3vuucf/XpMnT/a9fq9fv953WjZgwABWrFjBxo0bmTRpEsScxr3xxhtxd3L517/+5Y8TAZ599tlGHeUFg0GeffZZZs2axfjx4/3zx3M2NnfuXH9MOWPGDOrq6nyfCbNmzWLv3r1MmjSJZ555hh/96Ed89NFH36wtTpOl6/82p6qZllL6M0tnnnlmcpCUJ6GZvuqqq/y4tbW1CeZS8RqA+JnXqVOnJpjFdOzY0decyKTZT08zHT/TFG9GlpOT458/Wc10p06dEmZ34s1NNm3alKAxv+qqq+RHH30kP/roo4T37tKli3+9x+9+9zs//Gc/+5l/vr6+Xg4YMMAPa0wz/cF7M32t87PPHNUA3XnHTxpopZ/629N++DXfutY/X1NZL885+1w/7MUXXpYF+4v93+3atZflZVWytjosDx8qla++8qp89eVX5bRp02VtbZ1vERAKheSBkoMyXB+RtTV18tVXp8pXX3lVTn31NVldVSN79Ojh33Pjhk2ytrpe1lWH5T+e+qd//sZv3yRrq8IJGuz4d3jyieNrph975HE/7pJPlvnnz5s02T/fv19//3xFWZWsqw3LcH1EPvDAA/55z9Q9vvy9+OKL/reJn+n0Zj8HDjxqbr9ixQo/7pYtW/zzJ6OZHjt2bIKJ1ZAhQ/yw9evX++dff/11//w111wjZRM00zJJQzVo0CA/rjwJzfTmzZv9uI8++qh//k9/+pOsr6/3tU+dO3f268FHH32UoHnevn173BNdmqKZ/slPfuKfmzJlinzhhRfk/v37peM4/hE/S//UU0/56fjFL37hn//Nb36ToD2N10A4jpNgjnYqmukBAwb42h7HcRLe0dPyxdO//9Hy+emnn/rnN23a5J8/Gc2ap4mRMQ396NGj/bAFCxbIm28+uoQk3qwsvrz26dNHhsNhX1uTnZ0tKyoq/Ljx+eiVK0+DlZ6eLvv16+eHT5s2zb8umXhLiY4dO8qHHnpILl26VEajUf9byiTNdHxdePzxx/3zjzzyiDRN02/LMzMzfW2uTDKP/n//7/9JGaeZJqlcrly50j/fr18///zxSNZMe3jtZOfOnRPix5OXl+df+8c//lFu3bpVEtMieqan9957b0L5mjlzpty7d6//u2fPngnmnPHa7tdeey2h3mualmACLuM008FgMMEiJr6MSCnl1Vdf7Yddc8018tVXX5XFxcUJ3yue+Lw844wzfCskx3Hkuece7X/mzZt3WtSf42mmPQs6IYS86aab5LRp0+TBgwcbvLtnbhxvMp9MRUWFX1Z//vOfy+Lio32vZwJ+2223yYqKCv+8ZwKdrJmWxxh7ecRrpg8fPuyfj7fK8bTB8cRrx7p06SL/8Ic/yOXLlzeon6eqmY63bAmHw7JPnz5+2MaNG09aMx3//SZMmCCfeeYZuWvXLj+NXjpvvPFGP97q1av9Z//zn0fHIqNGjZJ/+9vf5NatW6Vt2w2+7fHwrEk6dOggpZTy7LPPlsR9z6ysLGlZlrzooosksf5LJmngL7jgAv9+0Wg0wcLSqzveb08zHb9c76mnnvKvX7VqlZw+fbqcPn26b/3gaabT09MTxgrxfWZjS7Ia05R670fSOHvOnDn++cmTJ8s9e/YkpDl+aV/8c19//fUEzXSnTp38NtowDN/asTFORTM9atQo/+/evXsnyDz333/UYvHee+/1xxDx2mVv/JVMfH8VL9fEXxtvIRXfjo8YMULKY+T3yy+/7J8bNmyY/L//+z+5adOmJpfTrysNpxlPUxzH8WeWjuWo7ER07tzZ/zstLc2fFQ8Gg/5sFkCXLl38v63Y/nYe/fv3T/Cce8YZZ/h/e8THHzlypP93nz59/Fnjk6Vdu3YJszvxGhbLshIccrz//vtMmTKFKVOm+NpcktLT2Ln4NIZCoYTfmu5uyxSvQY3Xsnbo0MH/27IaakIr4mb7hg876nxOCMHIEUefA1BR4c7sE3OAEDSCICEtlM63rrqOb119HVdceiX1NUedKrRp05ZmGVnYlgRH41tXXsu3rr6Oq6+8Bg3Dzx/DMOjVow9IgZQwZPBQ/1mlpU3b3iGZ+DxIzI/GrRA0TWAYOkbAOOHMXfz9kr89x/mOgwYNIjU11f99Ir7zne/4Wg5iTjo8PM0rMe/zHk3dFuOzcry8qKio8LVPBQUFfj2YMmUKGzdu9OM2Vheawm9/+1uGDx8OwEcffcStt95Kt27dmDhxInv27EEIkVAnf/rTn/rpiNcyViTtuxr/7YQQjB492v99KrRv3z5hy7jk/ErmWGkZPHgwKSkp/u8TMWqU60SPmNPDeIeT5eXlxyxXAwcO9OvCkSNHqIjb07lLly6+JQInKIO1tbXs3LkTgO9+97t8+9vfTgiPZ8CAAb6mu6ioiIceeogJEybQuXNn/v3vfze6tV58PibnaWVlpT9z36lTp4S2ftiwYf7fyWlOS0ujf//+/u/4b+9pO/+bdOnShb59+0JMI+JptIYPH84ll1wCMa2Wp9EyDINzzz034Vv269fP1zRygm/UrVs3rrjiioRzHtFo1LeIueGGG/je976XEP7444/Tq1cvAN555x2++93v0rFjRy677LJGnYrFp3HQoEG+ZlUIkbA9T3Iav6z6czz+9re/0alTJ6SUvP7669x44420b9+ea6+9tsntWlZWFmPGjIGYJtPTSnfr1o2bbnJ3lViyZElC2xlvzXcqBINBWrVq5f8+UZ6OHDmS++67D03TyM/P58EHH+TMM8+kW7duTJ06tdH62RTi26qUlJSE8tCUenfXXXf5muilS5dy++2306dPH8aMGcPmzZtPmM4f/OAHXHbZZRCzGLzrrrsYNGgQw4YNY8WKFSe83sPTrhcXF5Ofn8/q1ashZnVDzCFi/FasjX3P+G8SCAR8R6DEtMmNEd/fxWtFzzjjDK6//nquv/56+vXr558HaNmyJaFQyP99orLQGMfqS5LbnuR2Kl5+SI4bT2Fhod+m3HvvvZx77rkJ4Z+VtWvX+n9PmzaN5s2b+7/j8/Sxxx7zxxA///nP/fNNrfPxHK8fOxY33nijv0PAxo0b+dnPfsbQoUMZNGgQixYtOuly+nXlKyNM79mzx/87XthtCskfO76zbOy8R1pamv93UVFRgglQYybn8fHjwysrK4/rjbsxktOS/DsjI8P/+/rrr2fGjBkNjsb2fo2fEEh+h/jfgWCAYIqBph19bnwaktOTTFqcQFdUnPicouKihN9pcWkqKyv1hSPHcThw8IB/pKSk+M+trKzAtmx3vgzcOAfceI7jkJbm3jN5UsQz7wTIyGgGgCaOVod4b5rVjXgsjCchDxrLDxE7YqSkBgkEDXT9xNXvRHl9rLJWWlrawBPn8UjeWin+t7dkgaR8a9Yslm9xpn/x5bupZf1EHC8v4utB7969G9QB74gXWjyakv42bdqwdu1alixZwgMPPOAPnBcvXswVV1yBlDIhLc8880yDNMyYMYPbb7/9mN+usd9NJTl/kn8nc6y0lJaWHtcbaDJFRYl1uqCgwP87PT39mOXqyJEj/mCtWbNmCfHiw4gtSfDwyqBHKBSiffv2ALz33nts3rw5ITyZ3/3ud+zfv59nnnmGa665htTUVA4ePMhtt93W6K4RxyuD8XnYlDTX1dUlDN6T8+yLwBuIxwtW5557ri8krFmzxjf9Hjt2bINvlCzIHu99j/dOgUDAn/SeOXOmL8B79OzZkx07dvDxxx9zzz33MGDAAKSUzJ49O8Es1eNU05j8bZN/J/N51Z/jMWjQIPbs2cPs2bP52c9+Ru/evXEch3fffZcf/vCHydFPiPfN169f75sAx3/znJwcPvroI4gpERpbKtEUkvMw+XdjPPLII+zbt49//OMfXH311YRCIYqLi/ne977Hp59+CnHtd11dXYIw0Fj7HU98WyVjHoo9jldGk8nMzGTRokWsWrWKP/zhD77Z7Jo1a7jkkktO6F06FAoxc+ZMNm7cyKOPPsrEiRMRQrBlyxYuvfTSRj2YN0a8qfrzzz9POBymWbNm3HTTTf4kxptvvum3u40J08nfJPl3Y8TnVbzgWlVV5e/4kuz1Ofm+yb9PhmPV7eR6fax4JMWN77eJ9fXeuRdeeCGhfHweeEubiC2Diu8v4tPywAMPNBg/zJgxI2FpRVM5Xj92LAKBAG+//TZbtmzh8ccf95d97Nixg8svv7xB3n7TOPFo/jQhfoZ00KBBCWH/bbp37+4P0Hbs2MGvfvUr8vLyWLRoEffcc09y9IR1KN///vfZsmULubm53HDDDcec3TtVxo8f76+L27hxI2eccQYXX3wxa9as4cEHH+TBBx9kzZo1yZclrJN49NFHmT17NgUFBTzyyCN88sknfpgQAsMwEgQOPSAQunRLzwnq4dixR5/z/AvP8fY7b1FYWMCLL73Am29NT4jbpnUbX+uwe/duXvj3c1RWVvKnJx6jZ+9u9OzdjSuvugxN0zhz/FkQm6B47PFHqaio4MWX/+3HG3+mO+t+ztnn+Pe//c4fUVhYwIaNG/j1b45+t/MmTYaYltvjwYd+S3V1NTt27uCFfz/vn28SAgIpOqHUQIJ2YvHixZ/btgHxZe3mm29m+/bt7Nq1q9H1ak1h4sSJ/t+33XYbeXl5bN68OWG/RK/zjp+9vv/++6mqqmLXrl08/fTT/nkPr6wS69g2bdrUQAA7FdLT033Bdv/+/WRlZXH55Zej67pfD5555pkEDadHU9I/ZcoUzjzzTP7f//t/3Hfffaxdu9bXKmzfvp2ampqEGezt27dzySWXcMYZZ/DPf/7TT0s0Gk34dv/617+YNm0aBQUFPP/887z22mt+2BdBfFpuuummUy5Hf/rTn5g5cyYFBQU8+eSTzJkzB2Kan9GjRyeUq1/+8pds3bqVffv28Z3vfMc/f8EFF5Cenu5rjoqLi/n1r39NcXEx8+fP59FHH02IG08oFOK1115DCEFNTQ2XXXZZwgRQPM899xzjxo3j2muvpX379rz99tu89957fviqVasS4p+I1NRUxo4dC7GJgl/+8pcUFxezcOFCHn74YT9ecpqJTYTu2rWLbdu2ceONN/rnPcFmxYoVXHfdddx///3H1R4k42lhysrKWLdu3TEHhF6a8vLyfAFq4sSJ/vNN0+Tll19OiNurVy9/vfLatWt58sknKSkp4d133+W5556DmHVC/Dc/EYFAgNdffx1N06irq+Oyyy7z24doNMr48eOZMGECzz77LH/84x/ZunWrr8lv7HuNGDHCX+M4e/ZsXnrpJUpKSnjxxRd55513IDZwHTduXNKVTePzqj/Hory8nHHjxnHOOecwffp0/vznP7Nz505fE+gJlsR983A4zIoVK9i/f78fFo/3Haurq5k+3e2LJ06c6O9fT6yOxMc9FvHavt27d7Nz584Gmr6m8vTTTzNu3Diuv/56evTowbvvvsu0adP8cG9c47XfjuPw29+6/famTZuOu/6TmJXR/Pnzfa23V36ys7ObNMa88cYbGT9+PD//+c/5yU9+wvLly/mf//kfiAnsXvmNz6NPP/2UXbt2YVkWt99+O+PGjePHP/4xN954IwsXLuTXv/41xLSPns+XRYsWMXXqVF5//XVf0RBPnz59fEXTv/71L4j5mggEAn49fvZZ139Nu3btmvSOx8O7N7GxZF5eHjt37mTUqFG0b9+e9u3bM2/evIRrPg/i25U77riDvXv3snPnTn70ox/55y+44AJ69+7tt1Nr1qxJaKeef94d2+m67q9H9mjXrh3//Oc/IaZEuOyyyxpMCnwWbrzxRq6++moA/vOf//i+j4hNanls2rSJ888/n4kTJ/LWW2/5Y4hjrS2PtxBatmxZAx8dp8rPfvYzxo0bx2233caVV17JvHnzeOihhyC2tef27duRUvLoo49y7bXXMnfu3ORbfL1Jtvv+b3Oqa6bj19ckbw3k0di6nfi1w3fddVdC/O7du0tiHrnjid8KwlsnFL/e4FiHt2Y6JyfnuJ4DacKa6dGjR/vxpJTypptu8sPWrVsnZdKaFV3XZUZGhv87NTW10S1WLMtKWAd2rMNbJ3LllVf657Zu3Sqd2PZac+Yc9Rj54x/d3mDNdG1VWE4+7/wG900+XnzhZVlbFZavvDS1QVj88d47M2RtVVjO/fDoepTGjn88/YysrQrLLRu3ybS0tAbh3jF0yFBZfqRK1laF5TP/OLrN2bGOxtZMT33ldfddq8Ny356j6w89T7WyEa/Nbdq0kTJp7Xpja6a9NWlSSrljxw7/vLf+f+vWrcf0zOgdJ7NmOnltYn5+/nE9KQ8YMEDW1dVJmbRe81iHt7ZVStnAA+fFF18s5UmsmY5f0z116tFy8vDDD0sppfzoo48S7pucfm/LiWSO5Y02/vDWTMd/m27dusnJkyf79bdLly7Stm1ZXV2dsM1JWlpagifaCRMm+H4QvPVrxztOZc305MmTE+LHe2eO31bGY/Pmzcf0sOodJ7Pm81jHT3/6Uylj3lLj15cmH9nZ2TI/P19KKeWCBQsahMcf8WvGkr15x28VM2bMGL+sxrN+/Xr/nYPBoDz//PMTtu35z3/+I2XSGrT4nRHi17/94Q9/kFJKuXjx4uN6jr7yyiv96+PXTDd26Lru714Qv+70lVde8e/hcaw108nla/z48QnXeVRXVyeUUU3T/HXq8WtJAbly5Ur/uvh62Nhx9913S9nI1ljJJHvzfuihh/z48duaxfdDffv2TVj3fMYZZyTd1eWJJ55okK74w6vbp0P9Odaa6eQ13oMGDUrYPjJ+rWu8XwLiPK8nY5pmgzbSWw+e3EZ72yXKY/RPkUikgTfze++9V8qkrbHiaWycFc/KlSv9upSSkiIvuOCChO2n5s+fL6WU8qmnnkp4bmNHY2umj3V43rBPds10fB/eoUMHecEFF/i+Cpo3b+772In3weEdJSUl8umnj/qVad26tbzwwgt9fz6hUMhf9+r5Erjwwgvlsbj11lsT7v/4449LKWXC9p6A/M53vuNf09h7esT7TvHWGnu/vTXT0WhUDh06NOH+8Ue8r4L4rbHiid8KsrFdNxpbw3vo0KHjtqFdu3b127D4XTgaOzy/QY15846vT5dffnmjHqpPZc30gw8+KEtLSxPadq+c2radUL9TUlISdirp0aNHo17FZZL3ce9amSTD/POf//TjR6NR/7z3zo3l94svvuifa9Gihbzwwgv9HXUCgYDMz89PGIOlpqY2mldfV74SmuloNOqbKmdnZ3POOUe1jV8UP/3pT/nf//3fBJOI9PR0fvGLXyTEIzZDOH369AZasB//+McJWrDPi0cffZT//d//Rdd1bNv2Z886derEzJkzGTjQ9TAdj67rvP322wlrRoh5TD7WerZ4hBAYAYNg8Ohsq9BcrTWajK2zduvVv555jvHjEr1Gdu/eg+uvuyHhHMC3rr6GJ5/4SwMzq9TUVJ7629NceMGFAJx15gRe+vcrCet8iWk+H/ztQ3zvO98HoEePnnzw3kxf4x3PRVMu4u033/Vn8m668WZuujHRVLBdu/bcfNNRrRkChCaIN+fWdEFKaoDU9CApqY2v57/nnnsa5PXnwcCBA3nttdcamCneddddDcpfU+jcuTNz585ttOxceOGFzJ4921+Tfd111yXMBhPTFniz88k8+eSTvqXH58mFF17Iyy+/7JcJzztnKBTi0UcfbZBGj+uvv76BmeSx0v/kk0/6awr379/P/PnzsW2b9u3bM23aNDRN8z20emsS6+rqfA/AF154Ie+//76/PvjFF19s0J51797df8YXxeDBgxstR3fffXeDc8fjtttua1Anr7nmGh555BGI1ePZs2dz3nnnJcQhtn7t448/9s18J02axJtvvtmgzdQ0jdtuu41///vfCefjeeihh3wt8apVq7jlllsaaHOGDx/OtGnTaNWqFdFolHnz5lFYWIimafz85z/31ws3hbPPPpu3337b98jtoWkat9xyi6/djScjI4P//d//bXBu6tSpvvYovr7E+w44EY8++qjvCft4JGtnR4wY4bcf8Zqn7OzshLWmN910E//4xz8aeLgNBoPcc889vnf0pnL//fczYcIEiJmef/e738VxHF566SX/u+Tk5LBo0SKI7fZxLE3kz3/+cx5++OEGPiTS0tJ4+OGHT3o3gePxedWfYyGE4M033/S1cVu3bvXN8fv37+9rIoktXejTp4//+1gYhpGgjevevbtfVuK/eSAQaNBGJRMMBnn66acb9NufhbFjx/Lqq6/SokULIpEIH3/8McXFxei6zn333een/Uc/+lEDC4CuXbuesA298847G5j23nLLLQkawpPhgQce4M4770TTNIqLi/n444+JRCK0bNmSqVOn+nny7W9/u9E25Y477uC+++4jGAxy+PBh5s6dS21tLc2aNePFF1+kTZs21NbWsn37doBG+yWPZNNtT8MZ/z05CUuDphAIBJgxY0ajFihnnXUW77//fqNe4D8rrVu35uOPP07wUeBx9tlnM3fuXL8Nu/nmm3n66acbbad+/etfJ1g7JfOPf/zDN8meOXMm9913X3KUU6ZFixa+JQ4xGWHRokVomsZbb73lW71FIhF/ucDIkSOZO3dug3fx+OlPf+qPPT5Pvv/97/P73/+elJQUysrKmDt3LtXV1aSnp/Pss8/SuXNn2rRp479Lu3bt/ivf/XRFyOQRxn+Z6upq3519ZmamP+AhZsbiORmbOHGibxbz8ssv84Mf/ACAn/zkJzz11FP+NfFUVlb6pjrt27dn8ODBHD58mA0bNkBsrXW8I4SlS5dSX1+PpmlMnuya+hLbbsczrRk4cGDCWqHt27ezZs0adF3nwgsvJBAI+I4evGd6VFRU+A3jsGHDGDFiBC1atKC8vJzmzZv7a2HmzZuHlJLU1FQmTJiAaZq+qXVyHm3ZssVf5zF27NiEClVQUMCyZcuoq6ujU6dOTJo06YTO2mzbZt68eRQVFdGhQwfOP/98cnJyfNOkUaNG0aJFCzZu3OivtRk/frzfCZWWlvoOLTp37kz//v2RUmJZNlJKHMdBOhLpwOIli9m3bx+tWrbi/MkXUFhYwL797tY2AwcOon27owPGyspKPlm0kPKKctq0asO5505stKOuq6tj4ScLOHzkMNlZ2UyaeF6jQqRt2yxdtoT8/HwCgQBDhw5jQH93q6Jktmzdwo4d28nIaMbEcydypOwQu3btQghB79596Na1G3v27iEvfz+6rjFkyBB/8ByJRPy1li1atEgYeEop2b59O8XFxQQCAc4991z27Nnj+wMYPHgw7du3Z8eOHb455ogRI/z1TrW1tf66xTZt2iQ4NSotLfW31Rg5ciRDhw4lLS2N+vp62rVr1+j2Gnv37vVNgAYNGtToIN1xHJYuXcrevXsxDIOhQ4cmOGqJZ/v27WzatIn09HQmT55MeXk527Ztg9g65u7du/txbdtm/fr1lJeX06pVK0aMGMH69et908AzzzyT9PR0Vq1a5QvF8W1CcXGx76ioV69e9OjRw793bW0t8+bN48iRI2RmZjJ58uQGAl5jbNu2jc2bN/vpLysr8wcwyenPy8tj2bJl1NfX07FjRyZNmtTA0ZCUkpUrV/ptyYgRIxLah/h4nul/ixYtmDJlCkVFRQ3KRTyWZbFw4UKIrQsbN24c9fX1vvOo5LK3YcMGDh8+DLEBTvwaz3hKS0v5+OOPqa+vZ/To0QwePJiFCxdiWRbBYLBRJyzxZXjQoEGkpaUxd+5c6urqGDRo0DGdqW3YsIGtW7di2zY9e/bkrLPOanT9ViQSYf78+Rw4cIC0tDTGjx/fQED85JNPME0zQUA4cOBAwprp5PbSIxwOs2DBAkpKSkhNTeXss89OcFa5evVq39/Cueee60++lZSUsGXLFoitf4tfA5ec5nHjxtGtWzc/nNhg4+DBgzRr1oyqqiq2bNnCmjVrSE1N5fzzz09w1lReXs6MGTPo2bOnL2TGE/+u3bt3T3AE5DgOGzdu5MiRI2RnZzfqNJPYEiav3Ynvy/bv38+uXbsgyXFVPDU1NcybN4/S0lKaNWvGxIkTE5x62rbtb2GXkZGRsMyI2NKXSCSCruv+RMuhQ4cSlneNGTPGb9tzcnJYvXo10WiUbt26cc455yQsIWmM8vJyFixYQGVlJVlZWUyePDnBSdzpUn86dOjAzp07yc/Ph6Q+gNgYYMOGDZimSa9evTjrrLMaOLKUUrJ582YOHjxIWloaZ53lLotKJjc3119y5LXDxMyTvbY7+fpj9U/E6tLatWupq6vzy+GSJUsIh8NNGmfFU1dXx4IFC/x3OffccxvtqzZs2MCOHTvIzs7mvPPOo7i42L//gAED6NSpU0K+Dh8+HCEEH3/8MdFolOHDhydMeJeXl/um5B07dmTgwIH+0iRiztriJy1KSkpYtGgRtbW1tGnThvPOO6/RMUteXh67d+/GcRzOOeccv984cuQICxcupKqqihYtWjB58mS/vVq+fDlnnXUWLVu2pKioqEFf41FTU8OKFSv835MmTcIwjIT6R1Jb2Nh7eqxYscJXznhrZL1tAJPLBbHlHtu3b8eyLMaOHetvB+nhjXVDoVCCgJ+Tk0NeXh40UqaIrb/2ljK0a9cuYQwiY1v35ebmIoRgwIABCXU3nlNtp+LbQJL6AZLS17ZtW4YOHZowNu7UqRMDBgxI6DN69OjhK3nWrFnj+81IbqM3b97Mpk2bME2T/v37M3bs2Eb7yWRycnLIz89HCMHkyZPJy8sjJycHYhNwXh/nOA7z58+HuHc+Xn6XlZX57Wh2dnaDdnTt2rVs2bKFKVOmNBi3fJ35woXpplJWVkb//v05dOgQmZmZ7Nixo9GG9HRi2rRpPPPMMwDceuutvkfSdevW+ZV88ODBJ3SO83VBSumvFbdtV7gGcP24SUTMwzYiZiDyZSBwHy4ESInQXK/bQnP3mRZCIDQNXdPcc6cJL7/8sq+hu+OOO3zvxStXrvQ7glGjRjW6bl6hUHx5JAvTCoVC0Rh/+9vfuPvuu7n77rv9vYgVCsXpw2ktTEsp+f73v8+rr74KMXOLO+64IznaaUdOTg4DBw7Etm2EEEyZMoWsrCxmz57te5h88sknE9zcf9NwHAdN07BMC8fz2m07R2Vp6X5/929PynYFW0gSvD3Z1hPIvZ8x2TgmH8eEZe8SAUIiNIEmhHupcM3fdV33tepCiNPaVGXLli0MGzbMz8+LLrqIjIwMZs2a5Xsk/6rUG4Xim4QSphUKxcmwePFitmzZwmWXXdbAKkehUHz5nNbC9OLFi3nwwQchZpby2GOPnZR5w+nAE0880ainb2ImrAsWLDimqc43HU8wdBwH23bQNIF0JLbj/o104yAEQghX6I2tK/NKs9CEK0Q7rkTtbUPl3dszi5NSfmXK1LH44x//yG9/+9vk0xAzR/r4449PaO6vUCi+WJQwrVAoFArFV5/TWpj+qrNy5Upef/11li1bRjQapWXLlnz729/mtttuU8KN4nNl6dKlTJs2jRUrVmCaJq1ateLmm2/mlltuOeFaQoVC8cVz8803U1FRQWpqKm+//XZysEKhUCgUiq8ASphWKBQKhUKhUCgUCoWiiZy+i0EVCoVCoVAoFAqFQqE4TVHCtEKhUCgUCoVCoVAoFE1ECdMKhUKhUCgUCoVCoVA0ESVMKxQKhUKhUCgUCoVC0USUMK1QKBQKhUKhUCgUCkUTUcK0QqFQKBQKhUKhUCgUTUQJ0wqFQqFQKBQKhUKhUDQRJUwrFAqFQqFQKBQKhULRRJQwrVAoFAqFQqFQKBQKRRNRwrRCoVAoFAqFQqFQKBRNRAnTCoVCoVAoFAqFQqFQNBElTCsUCoVCoVAoFAqFQtFElDCtUCgUCoVCoVAoFApFE1HCtEKhUCgUCoVCoVAoFE1ECdMKhUKhUCgUCoVCoVA0ESVMKxQKhUKhUCgUCoVC0USUMK1QKBQKhUKhUCgUCkUTUcK0QqFQKBQKhUKhUCgUTUQJ0wqFQqFQKBQKhUKhUDQRJUwrFAqFQqFQKBQKhULRRJQwrVAoFAqFQqFQKBQKRRNRwrRCoVAoFAqFQqFQKBRNREgpZfJJhUKhOG04Vgsl3P+8YCcpqCkzhTLuIHa9dyTEkMmx9PhICoVCoVB85XFih9+XShDxfbHX7wmw404l9psKxTeDpow3FQqFQqFQKBQKxdecBoLxMaTkY5xWKL4xKGFaoVAoFAqFQqFQHJ8GErZCoVDCtEKh+FoQb2LW1L4+zmLtJK6NxRLiZCIrFAqFQvGV4uT6woacyjUKxVcdJUwrFIqvBacqSHuclDAuPCH6mDEUCoVCofhacbweT8SEiePFUSi+zigHZAqFQqFQKBQKhQKS/H76QnJj0oI4RlyF4huE0kx/yUgpkVJiWRa2bWOaJgCO4/BNneeQUmLbnn/Io7/jzylODxzH8cuslNL/+4vGcRxs20ZKieMc9evt1S+PE6Uvvqw5juPXQ8uyEq79upVH7zt672uapv/7dMT7TvHp+7p9E4Xi60Zy++y1sYrTEClxbBsrrh9wpIMjHVd4jjPhOqFFl0LxNUdppr9kvOy3LAtd1xFC4DgOQgj/+Kbh5Yk3sNc0LSEfvol5crrifSvTNP3yqus6fI7f6VgNlIjVG8dxMHQdoWlIKf06FP+3V7c4Trosy/TTDu6DZSPxv2710xvgapqGbdt+ffPy73R8R2+SRAjhT3IYhnHaplehUBztL+Lrb3x9VXX39EE6cW2s5fbvumHgSAch3D7CF6CValrxDUdppk8DvMG597earXU7WyEEhmFgWZavuVdzP6cftm2j6zqGYaBpmi/gfhEYhoEmNJDg2A5W1MSxbDRcoV7TNAKBAMQN5I6Frms4jo1tmdiWiWWb2LZ99H2EwJEgNM392zn+/b5KePUt/vfpXN+cmCbdK3uapp3Q6kChUHz5eOMdXdeRcVZ5p2tb801FIrFMExE3UQkghUDGyc8NPlvyb4XiG4DSTJ8mOI7ja6e9ToZv8EytjDMH8zSLmqbmfk43vO8kYppMwP9On1fZ9Tpur6HyZsNFTJCXUmLohh/f00oj3PR52mZPYDxWuqRj4Tg2IFztrKYhpfteMqalRsSEaSlxLIdAIE6T/RVFxsy6vckQ930Tv+XpRnwavXbTcZyEQZ9CoTj9kHETdZ4VzOnaznyjkSBjy6ccKTECBlIILMdG11xLLy0Wr0GL2+CEQvH1RgnTXzJexxI/yBdC+BqXb+LA0BvcBwIBf8BMnFD9TcyT0xXv+3hlOL4sf17f6njCtDfhIm1XoPeEQc/btsStX5qmNVgukIiDdBwE7rWWFRPSAyngPV+6D3U4at6mH+t2XyE8wVTEJkSi0SgpKSn+t0wwfT9NsCzLT7f3bYm1ncf+xgqF4svE6y/i667X3xuGcVq2Nd9UpO1gWxaariPdHjJm5u1+QyVMKxRH0R966KGHkk9+I4gbmSfPJgg8NZR/IoY7pHf/dU1dvNNeFCkkQnoXxbRj8S2L9H7FwpFoQmDbFmtWr+bwkTLS09NJTQ0dvSZ+TZGfdPc+sWYN4WvO4l4sLl7iuRNx9P29+0sRl3ZxNA/iEcij5zwh2E977E5+psXt0RvTIsbjODaF+fls3LSRzMxMQqmpsR2JvOu853h/xf6Qse8iYufiENKPmRQuEF4n701oxEJOO+JeSYpYbkv3e8TndXyueyXFf0cv770si8X1/xbHjuv94V0jpUNtTTWLFi0GBGlp6YRCKUe/VUzw9K5omL/x3yh2Vsb+afARjtY5985HhXikRAjYvTOHJUuWUFNbS2paGqmpITTt6Ppm27bQNPcF/HcD93kydsQ0sgdKDrBq1WrWrVvLls2bOVJWQXpGM9JSQzgSkNK919Ec9u8VXw3dP9066hP3bvGn8YNiZ90PArF2J2FLLr8+Hr1HwzLuxY3lnpfF0nt3CTjsyslh1+5c0jMyyMjIcMuUpznyLoo9J/49ZNwPt8y4vz1TQP8f/xZe+pIyo0H6jiZfxu6XjKZpWNEohYWFrFj5Ka3btiUUcttNP83IWNvl5aKbh26yY2E+sRhxZd0NP3qvxFTEpzCRU2l1FQqIFX6kW0cEIONLM0llNlZvPNwCHvczsR2N73/9qF6UhOIcXzdif8Tq6NE64d7Mq/cScIRAJI1NkqmrrWXjhg1s2boV25E0z25OIBBw2+i4K726ehSvVh1Nj/eHn6aENCakMqn3+CpztPX0+mn/nWIfWCaWCv9X8jdJHvcQ13c5juRQSRErV67i4JHDtGzZCs3Q3KdrAhFXLv1rvb+875GQRvec+13dxPjfJ+5GJ/46cWZi8ddLmdTux54rY98+6caNt+ZH888lri9PyKejeer9cn8m1Ru/X/PS4v+TNP6InY/reyBuPC2SbpHQ78YieKHx94x1fm7so88TsWdBbGzvx49FScorxYn5RgnTXvGLb1RlrLxJCQ4ghATHBkyEtACb/IIiNm/eQM6Ojezfk0NpRTUiIxsRDOIAgbjy6+CA4yAcDYSDIy1AxxJgSQfDsRG2BDQsO4oQJlj1VB7az9/+/je27jlE7379aNUyDSGjOAhMdBwBmsTVZEswHQdDC8fG/xrCcSu6jQ3SBqFjSRDYaESPdkPi6Jql+DYuvmGRUmKHa9i7M4dNG3dTZdmEWmRh2KDLCDW1B9hTdISCIzVkN89EINEECOlgC4EDaFYYLAvTCOD617WBKJrj4CZMcxummCmREDaONJFSQzqSSG0Zs955ixnvfUCLTl3p0qMbAguEhfTfym2oNcsBITEtEw0dCzCR6Dg4MoIjHKStuY2/7X5nUxMIGcF2bIRmgG25ecNRc2VPUxf/+8tExrfJAqSwwIlAXSVb1q1nY04eO3ftJnfXdgrz8jh84ADBlDRITcfBISDDSEtgoxOJlScnYiN09z01Kfxvpdk1IDWwNRwtVnYcByQ4mDiYSCFx7DB7dm7hkUee5OChWvr1709mVhDLrsUSBkLoCAnCsdz4aLil3+0FvGkZwO0IJYTr69m9eydbNq9n964t7N29k/25e9mVu5/dewvYtXsnxYWF6LpBMDXFNU+W4ERqeXvaq/z2wYc5WFlDj/4DaNe6JTqAdEA4SOqorztEbm4eh8vCpDXPBg003MGB7TiguWbdW7dsY/aMD1jxyRzmfPQBa3MP0KFLD7p17EAgoCE0t/0Q0kFIG4k7g+++n4mUFgCWjNW1OOHX++Po27v/u3UTpLSR0nFzSoKUFkJYmBiYsXKgOSCEhRQmDhLLdtDQEY57s4gmsWJ316SbToRrxo506ylEwanixeefYf6yVbTq3of27dogbJOALkC4u4e6XbJb7kQssRKwkdjCAWysqkPs37mFjZu3cbDSJJSVRbqh4+DgYIKQaLHv7+B6hXWkjXTcMoJjI4gisXDQEaZJyd4ccvILiRgppKemIG137XrYtNCwqSgp5IO33uOl196h74gxtG7bHIGDsHWkI0FYhNEQjoMmo1i2BZoeGwg6SBnBERLbcQfyFhIhLTRpAhGkhKgwsB2vjY+67brttqVu2+C2P0e/5NESHc+X23oovgq4vhlMhFNPXX0VG7fvYPvmnezZsZu8ffupNKOEWrTAExs0JEJIJDbgYNsaWmxyEQcc4RCVURyhYVkOhnQbB8d2cITAjmkX42Uy4ThIaeNgYtk2QmiYQiCR6I6NFIKwY+NoEk1GEVaYytw9bMwtoiwlkxapBroMI2Nth2PHBBspEQ4cKdzPP//5NC9PexNSWzFg4BBSg+7D3bbFATtMTWUpG7bvotqUpGZkEBAgHXds42aWW9EEFo6MYsuA27RK2+3zhYlwbKTUMG2BrsUsj442wF9J3JbGAhml8mAha5Z9Sm7uAXbt3s3efbvYl5tLdThCMKMZiACGALe1jyCxiBLAlqBLEGYUKcCUElsIpHDHTdg2ZqSWD997nd/c81u2bctnzLgJtGididAiaNJBSAMtprywhcQREiEsdyyHjh1bIiWkdPseR2JLDcuJjV/so5MujsTVeMu4cRe4E5/xL47rURwkwtaQDjhCEpW2Ow51NDd37DocLYotHDQCsclZG8eOArY/teLEng3uOFQTEokTSw8gbTRMsE2k0Ig6AkeAIwUajisjuAn1Z7mksLBjgrBmCwQ21XWH2blzO5vWrSYvZzu5ewrI2VfIztzdFBUXY1kWzbLS0ISGkBJpVlGcn8fuvSWIUDp6KIARmwS2HPdxtjRd5YDQkXZMcBcOEgspbWwbBBrCjrj5jub2Y0K6dSxWH6VwR+c2jitjOK6Dua9wFflS+EYJ07EyeHRWRrgNqxMrTI4ETTgIJwpEsepqyM3JYcHSZSxZsYhtG1aya9MGcvYUkl8jSG3Vhoz0ECkCsBxs0yZshzE0Hc3UQbcxnQi2pRMFHA2M+mo0dBAGNiYaETQngh45zJy58zAzejJ89Giy0yQBrR6HAFERwEFim2EMoWELgY1DUFRj2RIpg2i2IGpFieJgCIkUOiYCaYXRhQki4A4uOeq516stbht2dNZKOg7R0gNMf+55Hv/L6xwyHXoO60/LlBCGWUVB8Xbe+mgFq3cd5IxRQ0jRJNIMowkDU7iVMmDWgmkRDaZiCnCIojl1CMtGWAEcoRG1bHRdA1u6EwciCuhu7bYq2LpyJYX5JfQ640y6du+KcCJowsIROqbUMWPpDZgOOBaOtBFaAEuALSBcXU4wCJYmcGwdw9EQtsQRENUFOvVuA64F0WwLhMQRrkCkxZmLnjbCtFdkpStjOcJCs+uIFu7lqUce561PNpObt5+C/dvZvW0ry5csp/hQNaJlX5q3CJIma8DSsGSAiC4RNuimhIDbQQk7NsmAiR49BLYBMuTmnwTdtsFycDQbS7OISolu11NRvJe58z+lRYf+jBo1gswsHV2LYmNg2xp2xHEFWsCWoGkx8zBXgoqFCHcMZTlUVVSwasUSlnwyl22bV7Fl7SrefeNdPl2Tw/4DVeTuzaGkqIiWWa1p2b4VuiEIoKFpEcpK8qmshT4jxjBg5EhaZaS6A0ghkMJB12rIz9vEG9Nms3VXOYPGjURoDjJqgqOhaSA1B4RG65ZtOGPUcM47axDRaA35ZnNGjBhN3y4dQdg4wvV4qtlRNCSWNKg3Y+2IXYPQbUAjgo5AIGwHIdzB71GNy1GB2onVPV3D6+YR6EgbkCaCCFEtBdMRODYELAehRbDseiKOBSLgDiYsiWOb1OoOltBwbInhgOZEIVbHJBqWDch6NMpY9NEsimok/cacRaf2bUjBcacGhA5xwrQTE8y9gaylOZjCHdgdydnEO//+F9Pfn8WqnAo69xlBt1bpoNnYwsS2TXCEO80lHRxh4yDdQRkgHBuhRZDCJGoJZGU5H017malzFuC06Ejf7p0JAJYjY5NBJlQeZvva7WzYXcLYiy6jdZsMdGx0M+BOjukWdULHkDaGHcURFmhBkBpCWkiiRACBAUIQxUF3ouhmPVKGsaWgXg9h2xAQIEQUISSm6bUJANKd+Ihp5Rx/FHK0vXD7HYXieEiktBEiTO2hfcxbvJCX353BrnU5FOfsZ/OGTazauRW9ZSvSm2WTHjDQbcs1xTUkDg7SNty21rZxohIMqBdhIgiEoxGUNkiJlIKIrmE6goAEy7LdPsWx0aUDjokp60HohE2Iau6kXtBxsIVGPTZSswgQhrpKNkx9k7++8wml7foysntLQqLenVi3NRxHIHV3slbYFnZdJYcPFkNGc/qNPJ9evbuSbpgIRwI6Qtpg17B/xxb+9K9XqRPp9OzXh2Y6ONEINoZvgePYIGUEiY1FCsJ20KWFo1tYMoywbGwRwJYahmYBEhFr077SSJNIfTlbF8/lyd8/zoYdlWzfncPePZvYuXUry1avI6KFaNe2C4amI7ARdjlSOIRFGrbjKoG0SB0YMUFLE0jpoFsRd0I2Uk1taT5V5Tb9+p/N0DPGktlCR4o6dCnR7BScqAANTA0iIqb6sW2i0sARGhqg2Q7CiiJN253UERpSc8fMmuZaM9juUNxvKaUr/casFWKdT+x/KR0cywRbRzoCUwNLuE5qg3YgNokUxdLrsaRA2CkIDTRhIaUJlhnTTGjYQsOd8pbupI/tCs62FNRbkqAOWqTGnUDFwETD0gQSgYGDcEwQAke6gr0QILUoJuCgY1gC6YQ5cCSXpcuXsXzeXDYtWch7Mz5h/srtlJQeoqi4iFBaiG49OmOgQSQKVUXMeX8Gb//nU1p060+bDs1JQWLF8tC0TVfhh0QXAbDdfLJlBNsOu8snHA1hCZBhHGEQEZo7NkGCsN0JdkfDEYKIcLCkTZCYUK4pYbqpfDO9Pkjc0WBcBRXgalcd6Wp27Si1R8r54J2ZrN68hbMuuIDf/P6P/Pre39C3SycWvf8OH82ZT3FdmDohQbPRNDAMndraerdCS3fds25omNKd7RK6DkJgmha65mrupBZABEM4mkG9rWEhMAwd7CjCDONYrgY2qNloTgTbdjBtB8sCTTPQNQGY6AENTQsQiZpEwlFsO+Z8yes8hA5oaJrhmnkmZEhsdBz7WzgWFYcPUnC4mM2bt7Nm+RqiThSpScyI4FD5QQ5XHUBawh28Gg5SCmxcwUsKCbqrDZMSTBsMYrOOrioQI6BhW7brFVl3BRnTFjhSIKwoKcEAutCxNZ2wA7oeRBMBNOmKZhrSbRyFCU41gYBJxLQRmkAXgtSUZggRQkoDw3BnLAnXIgXURx0sdIRmuA23tLHDESxbuts+cNSRlWci7AnVpxcS4ViEa6vp07c/t9x6Gw888BvuuOMOuvUZyOvvf8h/PlpBxAQpdVeAtWwMQNPcIiFwy6UTEERiwoAMBkFEkXaYuqgrwNgIcKJYUYc6M4DlBDAIEnAc0C0iepSI0MAxEE4AJ1qFrttoQQ00d5Ik1h3F9Y6JaLpGdvMWXHjxxfziFz/n/t/ez89/dhdtW7VmxLCR/OhHt/DAA/dxxx23M2rUcNJTU91ZVNsGx+HsiefwxP89yQ9uuZGOHVphxNbgOY6kPhwmYtVTX1/BoUOHKCoqcUt9zGu8rgvQRGzmW5ASCJCdmUmnrp1p264VuhGIzey64qW0bRzHcoXx2Ay8EQBdB01365wUwhXkEThOrKwfAw3QNeFaS+BOOkgcHE8Scyw020Zz5+KQugAkuhCkaEEiYZO6cBihO2gBB+lpZRwNiUBqmitMiwj10QjooGk6QmpkZmQgdB0rZp4tPIdAjZZ56VrfxMJsO4Jt1pKfX8LOnP2MHDmQ6vJSigvqMTWJJUFKE0NYaAIcARYQsaM4joVmWwhL4giN2voopmUS0MAwBE4kwpEjZQgjEJvgctdHG5qOgYMuHYIBAzMaBV2j3omAZqNrYNuCelMjgIxZJYAhdOrq6qi3baQmEDKI5oQwo25+CSx30GcHgDTQU7CRoDto2NimhW2BEQgSiVqxr6ZhO4kitH94TapCcUIkmmYhI9XsWL+OOfOW0LJjL+68/Vbu/uXPuOaGbxOtKGH6C/9i07bdmLiGI7oexHF0wqaFo0ssy+0ThSFAauhaChqGu/bViiIj9e7SFwlB4Vq4aLo7Se9Iie1IkBqRehPLBiNgEBTg3s7AdgRBTSMoXbsXqaVg1luUHzniTipJcGzpDtw10A2wbNvVlkXCZLZswfU3fZv7fnMfkycPJzUVhCbc4Ym0cBwTohFqq6ooK6+ioqqemlp3fKEHAghd4CrOJJomsaWOI1LQiVmR6RqaE0WXAow0TNvA0MG2JI43zPkKI2LjVUNKrJoajFAKZ156ET//za/57YO/5fs/+D4yYvLKUy+w5tPNmLjCpjtJLLEdqKt3sG0JhoawLUzbJmx55jbumE1PTWPEuZP5/ROP85OffZf2XTNwhI4gFTNquNZRQroKKCuKWV+HLnUQKUgpqKuTRCKx7NZcodtxHIQhQUj0oINj18WE0Jhm15Xl3Lb+GNKcpsXGYpZE6DZCDyO1qKuYEbjlREujpl6giZA7zpEO0UgER2oIIwS6gXQcsCx04Qr0jq4jhUBoEk2XGAEd27KQugG6TtSyiFru+MhxYk5JNS1m2Rqf1qOKKmJ9aYd2Hbnqyqu4775fceMNV9K+fVv69RvI/fffy09/+hMmTJhAQDfcYbqhIw2N2upKDh46THlVLVEpkUKgBTSEgKCuEdQEAV2nrKwSobuGhJquowvhWnDpuuvUxazHcWwiJgjN7ZAE0h0zma5ArqEhhIFteSp5RVP55mqm3SFjTLhzhVUB6MJGCIv6ilI+/ugTlq/dwUXf/jaTz7+QlulZZGW3oHfHNuRuXs2y9dtp12ckPTpmIaqOUFVSRK1jYwQzKNifT2FJIYXFhUgZQAumEEgxSHFsREQSsSX5JYXk5eVzuOQQRQX7mLtkNXrzPoweOYROLUPohLEJcfBwLUWFuyg/sI8jhw9TF46QmpZOejCEY7trGmsqDlBUfAhhpGFFI+Tl7af44CEqy0vRgUBKOppuxGYMYi0WRzUrgpjQKB3XNKqmnA2rP6U81JL07OZUHSpi0Og+tGzWjMpDVWzO20OdLjl/1NmEZBXlB/aRmxcmNasZmmYTjNbiYFFaVkZRaQ1poTQCZjVHCkuJmoLS6jIKDxQSjUTRAwEOHy4hf/9OwrZGanozgiLMjk1b2LQ9j75jJ5CdlUHJvr0cKT5IVVktofR0HA1wwqQYNo5eR224ko2b93KkvIKDhSXUlleTYoQgFEIg0KSJZdayJ/8wNaZDUNcpKCxgf/5+Sg8VYTlghNIJGAYxy+ZYHrk/PMH6y8Itp7EfGkhhozlRIocO8OGsj2k9YBxjzzyDbh1b0Lx5S4xQC5at204gLZ3zJowmQ7PBiSA0k0OHStm5O5fyqjJKSvKoqqlBpjYDw0BqFkEritAdwpbJnuJDFBYUUXboIBUH9rtmR6nNCAYCBC2L8JE8Znw0j0CHbpx19kQyAwLdNCkrr2BP/gEO1ZpomkF6qo6QEde8SAvE+hvvhWKaadNB1zVS04JkNEslPSMEls3C+cto16UvEyafRYcOrcnOaIah6UScKEjJocIDFBXkUlZdQV29IKoZpKSlkaaDtE0kGhUV5eTn57Bvz042bcinNppKtz4dqThUwqGiYmoqa0nLSEULaOhCR5MCHQsRLePTNavYesBhxLChDOjW3q0rmkSXDpq0scP1lFeF2Z9fSHFJMYcPFFJfU4mR2gzbSMGyIEXXY+u33bbHNaGO5UBMMNUQONJyhWrLpLS8grzig5Tk51F2sIiqqjpMoaMFUwnpoFn1VJce4fDhKoKhDGpr68jL3UppWRGVtWGCKRmkGEFSAKwwQq8hakXIKzpIcUkpB4pLKD1QwoKPP6Q0ajBgzFl0b9eaVAGadDX0xCaXvFbTtSqIFUINHLuW2ooDrF+dw8GDVVz6rcls2LCHsnLJmZOHgeaQopmIaD17dhdQHtFJTwuRahhoCIjWc2BvHlW2QzAjg2i4ioNFReRt2cy6ZctZm3+ItHadaZse4FDJASoqKwg7Ds1TDeyqcrZs2cnGPYWcedEUQrrDofxcqg9VUBOxCWakEwpEXFM9aQCC2rBJ3sGDFBcWUH7gEOWllaToAdLTUgmLKIYuMOvrKT9cSq1lUWOblB0s4VDBPiqOHKS6JkJKWjMCwVAsT9x+xF0/7w4ChRTu0gG/z0kYXykUjWAj7WrKi/fy7D9fIpLRiW9991bOGNCbzMxUuvfpTrcWBrNmzqLUasWwAb1Jl7UU5VdRURchNTOErmkYWpRwfQXFxYcprzJJz26GpmkEJZj1VRwpO0JRSTEFhUVUHyqlrrIGPT2VMA6GJhG19RzYk49jBDDRyS8o4kDBPipKK5C2hh4MEdQd6qsPUlh0kOLcQtbNW8z64kPQpi0tQxrhqkoOHS7FtiVpqWnYWETq6ikpLuJQ8X6q62qplzpGehahgEGKYyJwqA+HOXCgiOL8veTt2c/81TtJy25Py+bNiVYc4FBRETURk9S0FGoqDlNSVEB1XRgjPYuAJgkENFcgj9RQcqCc/PIwqWkhUjQNQ3Pb9Zgk/pVGSBuntop9GzeyfMMWel90NSNGDqRdZpD2HTvSqXkHNi1bz/Z9+QwZO5Ls7CB1ZUUcLC5BBrOJhus5UJDPocL9lFVVoQdCBEJppGgCDUnpgcPk5eZSWl5OVVgjKgxSslPB0NEJECQIVhTHKkM3HMLhCIX5RRwsPMyBksNU1tQRSkshIzWAjkRgIh2TiGOxt8Adc5WXFlFbU4YUIYLBEI5rXY6uHxWjfc10HBLpWpBRx+GDu6gKl2FKh+KSQxzJP0xpSTl1UYv0rDYI4S7h06WJ0HXKK+vJLz5EUWER5aWHqKupwjCCEAxha4KgDmbdEfL27KPaSQXpUJS/l+KiYiqq6ojYtjs+1QTCNnHdr7gKK883i0THjvXthhPbJUTYpKVnkZmZQk3lAZat2EnbLoO46JJJtM5OJy0liINFVVkZRbtyObh7M2s3bSOnqJYOvXqDDFNxsIjS8jKMQID0gObmv2mhp4TYlZdHYXExhw8coLqiDE0YGKkZOIaGlHUUFh+kJiqxrSgF+3ZRW1OJrqVQVl5JQeF+SmtqCWRkEELD0N0lbA0yXnFcvuHCNO7gx9M6ShtNc9f2Hs7by/v/WUCdkcX4CybRoWUrgpYrZElZTUXBZtZtL6FNj9EMH9Cag7mbeGfqyyxYs5bqOnjvtfdZsnIxCxYvYOf2vWS3bUvrNq0ImlEqK2tZvHwN785+nw8//pC1n65h/dqVLF+7jY79xnPm2BG0zzaQ0Sr27Snm7Q/m8u47U1m38hPWLl3KmvWbCITSad2iHcFgKrpms3r+LJ56+nmO1Ghs27iRd956jRWfLmfRvPkUFpTQvnM30ptl+ANj9809LZvjCtF4f1vYVYdZsXQxBwNt6d69O9HKYlp1aUfXLt2pKS1j5fZNlEeiXHHO+ZhH9jDznak8/eoKBp4xgbatQ6RoNlWlJcx45w3e+WglPXsPQTuyj+lT32Hd1n3s2L+FD+fOYvPG7RQdKGPp4nm8/uq/2FtYRceu/WiR5rBpzTp27ztIasdebN+5iznvvs3ahYtYvnglwbQWtGrXmmbpAQwnTGlpEbM//pDXp/2HpUvWsObTVSz/cC7BYCoZ7dqTEgqi27UcKczlib8/z5J1uVSVlzL/k7nMnfchc2e+Te7u/QTT29KmTRuCgdjas1iD7nE6CtNUVbBg3iICHfoxYEg/WmUGscIRNm7bw6ebc+jTrw9jRgwmM6QRrj5C7ta1TP9gDm998AFr1n7K0oUfsWL1KoLNW5Ldth1pwSApSCrKS1i0eCEvvTWPJUuWs2nFIpZ+/B+KD1RjB9rStk0WqdKi8sBOZn68jNYDxjJk6BBaZwQoydnBv55+hVfemkWVadO2Q0vatkzH1dcaCC2mEk+oh5rbISEQwgFMcKLU19Qyd85Cstt0ZdgZI8loFkJDogsNqUuqa6uY+8EsPnx/Ogs/nM07H8ynqDJMrwGDaZmeguY4VFZWs3jZJ7w69Z+sX72Edev2s7+ohvyDRaxcuYRNa9eyf18xvfr0Jis7DduWGJqOtCIIu4qNW7ewq0xnxJCh9Onczh2PCQfHiiDMevL25zNj5lxenvYOq9euZ82y+WzatImIo5HVsh0Z6WlotkTX3JllODqg83IAQAiJrgks0+TQgRLWb97CW+//h0/nfcT6Txbw8ccLyS0qp0237mSlp5Bi1vPp3Hk8//xrFB6uZu3GTcya+SZLFs3h09UbcbQs2rTtTFaKga7b1FQVsWnrFj74cAGzP1zEiiXLWLN8KTu3b4RmbRgz8Tw6tW5FmpAxc7BEM29fmMZtUIUGhhYhb+8OPl2xh/adejH2zL7k7z/A9p3FnHXJhaSl2gSpxzxczBNPPsfG3Br69u1O82Yp2GaYSNF+nnvyL6zZX0vHHj04VLKbOR+8w4q5H7FpzXr2VFrsOlBK8Z4cVi9bxrat2wllZdCnZ2fs6krWr9vChj0FZHXuxPYd65nz1lQ2LlnC+i0FpLXsRJeOQXQhkVoKxfsKmTNvEa/N/A8LP57LhpUrWbzwEyqO1NC6VXvSs1tg6Ba5W1cw7fVXWb19J/sOH2Hx3E9YOOM9Fsx9n607dpHduiudOrf3exRPk+9atXgDwKOTlrFoCsVxsLCqCti/awvPvzSLwWdfyqgzz6BlUEeYYbDraZ8pWLRwBXmVIUYM6UGkvIR//es9Cg8foUf/bqQGQZc17MnZxLNPT2V/cQUDRwwmqOvIcD17tq7jkyWLeP/DOSxbtIzlHy7k00+WYWek0aFPdwxdIg+W8pcH/8j6nH3syitgzkdzWLJgDp8uXcG+fYdp0aY1WZmp5O/ZwrszZ/PR7AXsXrmenWUV5NdHyN2yiU1rV7Nx80akpdOnd1+0gGD/7lzee/01Fs14l/f/M5MP5i+lTedRdOvchvSAg8ChuKiI2R+8z0fvvMXaNetZvmk/hytN9uTuZcuni1m/bhUWGh3at6aqtJDnnvozy9Zsp2ufEbTOSkHXbcDicO4u/vnsVOat3UW/vn1okZGGLmNbcLmDnq820kaL1HNk725Wbs6h/ZkX0LdHZzJkBE3XKC84zOaVGzkSDjPpsskYWpgV82fy7vR32Huwjm3b9vHx7Nks+3AGcz6cQ2lNPV269yQ9NRW7vo5lS5fx9vvvMv+T+bzx5kK27ypj5FmDyUhLBVugW2DoNlDOweJiFs1fzhtvvM3iBYtZvmQlm3fkEwg2o32b1qQFwJFhSg8dYOGSJUx9800WLfqYdWsWs2LJIuojAbKzW9OqVZb7XaTbD7rjgFhbGtd+SolrIVdXyHv/eY33P5pNwcHDLJ6/jGVzlrL4k09ZuWoHWW27k9U8g4w00M069u3ZzxsffMQHsz9m4fz5bFyxiB3bNlETjpDdoSuh1BA6NsVbV/Hyy1NZu+sgBXl5zH73TZYuWsTCJStYsXYLXXv0p2V2BiEj5m9AaNho6MJdky/RsGNL2IyY9l43AggRQIbLOFKUw6Llu2nWuhfnTBqNobnjbtsOs3P7dma9+z6L5s5gy7ZdrN91kOLKWjZt28r6TxeTs2sPrVq3oVOLTAJCUlNZxZJP1/KPl6ay4JPFrFu+lNWLl3D4cDktO3UjkJGJWZbH3596ntmfbONAUT5vv/FvtmxcT21lmDUr1/LO9Kl8unkrHbv3oXPLlmhSImJafsXJ8w0WpvHEE1eYdhyEcE35kCZFuTt5f8FKsroPYtz4cbRPTcUIg5WiI40K6os3sWVXNcHMvpw7pivlRTuZ+Z93mb96E2EzyCXnXcLZ551J1x6dmfOfuZgCBg7sT6C+lk/mLebDBUsYNmYkV15xBeeMH8eIIX3YX1xCqEVPRo4YSMfmAY7s28ab02ewbU8J511wNtd/60qGDBlG0aFDrN+0hZCeRffuXdGIsmvjUt5490NWbc6jRWYa373xSs466wyCRioz//MxXbr3oGPnjhiBFHQtNuMXa6hcI9SY7RAOSAu7+jCrV66gOrMPY8eNorx4C4drIowcPpq68mLW795FhAAXn3sudmkua5YtYN7aOs6/7AratTEIOBEi9UdYt2IhG/dVMX7ChWSFD/L227OZvXg1/YZ2pXfPLmzasI3N2/cwevRgOrZJI6ewkuzWHenftQW523awZn0OB02dTp06cfl5ZzNm0AAK9u9h246dtOjSgY4d2xEuL2Hu/Hl88NECLpx8Cd+66luMP3M8zQM68+cvJJqSTZ/e3QjpdZQdKuT9mZ8wb9kmbDPKxIkTuOTSC+nXsxPr1m5m557DDOjfnxbZ6ehx2+14nI7CtHnkEPM+WshhsmjRJhs7Us7ubdv5ZNEyHDQuuOBC+nZvS6rmsGHlcmbN+ZAqW+d7t/wP50wYy6jBvcnL28f6TVsJZLamb/du6LX1LF48n1feeosBI87iuquuZPI542jbPpuVq7aweWsxvXr1p03LEOWHd/PB3MW06DmEoYP7UXuoiA+mvcXKFTmcfeEVXHzFBXTvmkV6UCKcIEJ6wnTipBYIV0DDFVRxoghMIrV1zJ3zCa069GTIqOE0a5bqGtdKgUmUYCBI5w6dGT5yEB3btWFrThFmIJURY86gXVYqunQIBFJo174NQ4b0pnuXNpSXa3TsOoQf/vRWzp90NmePHcPw4SNp37ENgYBAoKMLDWFHEXYV6zduYNshmyEDhtCnc3s0HZCuyXq49DDvvfEmG7ftYsyEc7nu+m9xxvBBlFWUs3zNBkjJYvCA3gSEiBmGuO1OQmcVMxhxLWRs6mtrOHCghKraeoaPHcPEs85k3IjhHDlwiAUr1xANZdKvTzeyg4KtK1Yyc+Z8lq7fTve+vbjppm8xetggSg+VsXrDbjp2GUyX9pnIukpWL5/POzPn0Ln3YC644CKmnH8eY0YMofRQAZFgNgPGjHc10wC26erKG9NMS8B2HQdKu5oNa1azck0e488+j359W1JbVs3GLbvpPe4c2rUJkUYYu+og09+aS22wI2NGDaZ5hu5OXpYXsWDWLCqb9aLf4MH07tyc3j07MbRvH6zKOg7YQS667tvcduPVTBg7njPGjKZ7rx5kBnWsyiNs3baHuSvX0rxLFwb168nVF55D965tWbN2Nzt2H+Dss/uhBy0qqqp46bnp7NiTz9AzR3LtFVcyYdwY7PpKli5cRkW5SY+BA2nWzKY4fxOz5sxl9sKVBJq15LzxE7n0/MlkpkpWrdtKZS2MPXM8hu5OADmOa7Wie+aKeP8f/b5qcKI4LtLCqS1kx4Y1fLiigDGTL6dX396kpRmkGCDMUnBqWPjxpxRUBRgzog8hGebD2eswMpsxdMwgslM1DFFNSf5eli7dSnUkwFkTzyIjRaf8QAnF+btp07kjo886h8kTJtGzdVtyt21n8bYtDD/3LNpmpCEPHmbG1Lf48NONVEUtLrvyIq6+7HyygqmsWbmeWlPQb2A/WrdMo2v3XowZPZ6UynpyK2oZ/61r+NGNV3PuuHGMGz+WAf36kZaejoNFdmYzevXsydBhA9EMnfU5+xgyehJ9e3UgTXedQ2U0S6dr1y4MHzKYTu06s72wmpHjJnLLD65nyrljGHfGSAYNG0aLFpmYdaXs3LKOzTsL6dprKP37dULIKJoTZeOKNbw5Yz49ho9n/NihZKeHCHjTgF8HrZu0waynOGc7yzdsp9PYC+jfvRMtUtx3qzhcycrFqzBDKUy86BzSgxY565bz9pvvsPdgLZ06d+OaKy9m7BnDKCouZvX6zbTr1IW+vXsS0ARZzZszdPggOnVqyb695dSFDSZfMpaMtBAagqAj0TCpqMhj1ntzeX/GQkaPHce3rr2ayedPpnvv/tRHomQ1SyM7K0Tt4WKWLf2Et2f8hyGjRnPNNVdz7oQzCQUCfDxvBbbU6dGjB6FQACmFqx31lBkN3l0ihE2kroD5C+fy7sxPOFIa5rxzLuBbl11Bjx7d2bojh005xfTt14N2LXSiFYd44bkX2bSnhDETJnLNVZcwfuQgyg4WsWzVavSsDnTv1YNUYVO2ZxNvv/s+sz/dSUooxFWXXsgFF5xPVotWrFy7kbr6ML16dqd5esidGBc6DhqacJ2gucK0ACyMmJLKlu4yS2keobwkl+Wr80lr3pNzJ40ixXC/p9AcsjOz6N2zDyMH9qA+LKmR2Vx+w81ce/2lXHDWOM4YM5oOHdqRnZaCWVbKulVr+NdrrzF0/HiuuOIKppx7Nm0zM1m0ZBmH6i3a9+hKIFzCggVLmLNgNR3aZXPuuKHs37OLnF0F9O83iB6d2rB5bz7p7XowqHs3QimuuXnDjFccD1/J8I1GusKkJtx1idgW0UiYOmy0rGx0I4WgdB3vWI7A1iVtOzYjRVpUFR0h1ZZY0Roidj1tu3bhf378YyZeMJ6RI4czetRoRowYRjhcT124joL8fD6eN4/W7dox6bzzGDxoIIMG9mVg/15kpQYRdoQUIRHCIWfbNg4dOcLwM8Yy5dKr6NZ3EMPGnMWUiy9CR7Bj5x6qqsNIK0pQtzAMnWEjx3HrbT9i9JgzGDKwNxPOHE8oJZ0jZWWuk5GEChKvE0v8LXEwbRvHMejZuzut2mSwcdV69u7Jw9IdpC0xHB1TmlhWLWm6hk0IqaUgkchACKFJDBn2GxvdcUhJSUFPTWfw8CF0796ZmspKOnbrwYDBg+nbsysVVVUcrKjFcWxs26IuHKFrj55ceeUUzhg1nOFnjuLaq6Zg1hxh95791EYlBwoOsPCT1fQfMZErLrqEIYP60X9wfy6/+WpSQ4JdObkcOHzIXVcio0hh06ZNW7519fVcfNGF9OvXj7MmTKBjp05UV9VgWRZObN/irwJCCMKRMHPnzuW+++7jBz+4hQfuv58NyxYyaVgfRvTrQqphY1WXs379Vkoq4MobvsPQocMY0n8wo0YM5+ZrLyeTCEsWLce0HPJz81m7bhudeg/khuu/xejh/enXtwcTL7qYs88/h9KSvWzctJVwxEKTOmnNUonUHeRg0T6ef+4llq3cwo23/Ihb/uca+vRoS7OQjnRsorYEw3Xy1hiO48Qc5eEuuIuds53YmvxYEXY7MTA0A9OK0rZ9W3r27Uefvv1o06ad649A03Ecga4HCKak0Lp1GwYOHESXrj3Jzs6mdauWjBjWl359ejNwwAB69+lKamqK68cg5jEUQwck0rFAOmi6ROhgS9frpy4k2zdvoOzIQcaOGcO3b7iaAQP6MHT4CM6dNJn0jEy2bc+h3oytRYwjfhpBQyAtC9uOApLU1CC9unflrDPHMmTwIPr07UvvYcO48bqr6dS2Nfvz92M5EisSQSCoqwlz3vkX8YNb/4cRI0czcthoRvbvTWlJHnkF+6iN2JSXl7J22RrCdToXXHg1I0aMoGevbgwYPpi2bdu6eW3bMV8ETswJyXHqgABJhJryMgr2H6I6atO5b1/Sm7Wla+c2ZGdE2bZ9N1V1WkydEEXaJqbtmlsHdFdjrBMlWleOaRtILURmZjZdunWjb9/etGnblpRgCn1696F3r14MGNCXnj170rxlS4SuIwwD0zJBQO8+fZgw/iyGDR7CwEG96NezK5vWbOBAWTURq56CvB0sXbGGEWdM4NKLLmLgoIEMGjKY6268mr59OrNx/Qq2bd+AJixsJ0ptrcOgQWP43ne/z8SJ5zB4wDDOOfcy+vYezJHSMmzb3VnBkWCZMQ+o3igkYQ2dQnEySKRZS+7uHEQom2bNWpIWdJ2XRuwoQgsjUgOEAkE008I23d0odC1AMJhOxCHmJT9MwLBxHHBEgFBKCjqCNm3bMOrMcYwcO5b+AwbSu09vzp50HhdfeD75hUUcrqwkYoUJSBvdkWRmd+Bb19/MeZPOo1+/fkwYM4oMGWbn5u3klVSQkdWO3j160L9XZ5q3bkF68+Z06NSFgQN6M2hAX3r36k3btm0IBlwfMGlpaXTr0ZU+ffvSvVs3BALbdnCc2DpXQycYNGjXvj19+valffv2ZGe1oHOnzvTv25MB/fvRf9Ag2rVrSyCo07ZjO8aPG03LrHR25ezAdCS2tCk7coD9JUeoiwgmn3MmWZnNYprCRoY8X1U0gSUkdZYJNqTbGoZ017ybZpS8A4VUEmb82eNpndkM3TEJIghoOmedNYFrrruCQUMGMXDgAM6fPJlQSgrVlZXU1dYjdI12HTvQrUdHBvbrSKe2LQkSRJqu13hNSNdnh3DIydnF0pVb6N5nJFffcAPDRgylX7+ejD6jPxMnjaBjp5YIJ0JVRSlLliyhT+8+XH/ttxnQfzj9+wzm4ouvoF27DuTs3EVh4QFsO+aUzO8rvSnc+N+ANDF0B2kLMlM7M+X8G7j04ivo178rEyYO4ppvn8/e/XvZmbOHqO1QkreP/Xt2M2bsWC66ZAqDhgxk8LChTLn4YtJTU1m1dgNVtaZ7f6sOy4rQuXsvrrvxu5x1znkMHj6CkaNGM6BfPw4cKMGORt3xYczruANHNR1+GXN9dQBYluv0TwsYCC22m44jsC3XukuL+flp1qwZ3Xv1pM/gwWRmZpKelk6P7t3o27sL/fr1oVv3brRs0QIsk7LychZ+9CFdu3XjwounMHr0cPr07s25F15Ml45d2JGzi4OlpZhWBEfahNJDDB0ymN49umJFw6DpDB02in59e1NZUcX+4sOY9telgnzxKGE6hvQd7LoL8x3bdTZj6DqBgHHU26Bw64wTMV3NrgbhcB26Di1aZDFg0GB69O1JIBRA6BotW7bgnl/+kp/c8WM6tmlLcVEhdXV19O3fn7RmzVx5QUTQ7VqCMkxIs90tncL17Ny5kwNHykhJz2b3/mK25ZawfVc+h0vLCUcirFq/kSNlFUjbIoCkRfPmjBw9lvYd2xIMBkhJMejVtzcvvvIK1117HekZma7pcmyd+PGwJGgpqQhL0qplc84YN4oO2dnMnzOHqmg9ti1JEQHMmPdh3XU5HJs1lICGY8Vc8GvuNl16zPnB6DHj6dChA2mpISwrQmpGc9q174QTrQOhUW85aK6Pftq0acPQIYNp3jwNI+iuB2vdNp02rVIpKjlMdW2Uwu37OXLYJJDWmeK8YnbtymHT9q3s3b8V3Yiyb/8+Dh8udR0MCQfbidK3Tx8GDBxAKCWFoBEkMzObX/zi5/z5yUfo1aszKaEUwN3L1tPiux7QTz+8PTqvuvpqnnrqad6c/iavvPIyl04az+yXn+aNF97kUHGYwwf3sjMnH71Zb1r26IMWCBCQBkYgSPcu7RjQtjkl+4uprpIcyitm955iBo46h+zM5gSEA5qFk5LCgEF9yU61KS8rospyMPUMItF6Sos2888nHyFnez7Xf+cuzrv8PLJahQhqNgF0NC2EEwxiHcfMTtd118QI3PKkuc6zdN1ACM11EuYJoJp7pKWkus5EJAgE9XVhhBbAwfUSKtHc3e7QcBzQDR1N0zFNE8fW0IXAtlyHfgjXgZ6h625ZdhyQDroQvqsB4fopc7eXiYTJzdlJXl4eGRlp5O7JZ2fOHnbn7qW8spJINMqWLVuorIxgW+62V40jMQzX+6mImbCnpKVQXn6E3Xt2sX37Dnbn7KKwYD/VVeWUl5dTWV1NIGggpEmXbj3pO3AIHdo1R5NBAoFMUrERVg11VjlG0KTyyEEOFhyhT89RZGVlYegauq4hrXocaRMIGBhazKxbaIhY2W8Mx3Hc7XjsGg4cPMSe3EP0GtCftp2yECKDzh3bMHpYF5bMW0B5acTdJkUDx44S0HRcJ6gCR1johuu5PGCkoGkBJHpsoOJgCNCkxDaj7t6mMeeMOjEfBgiCKSlkN29Jn959aJmZ6TogDBmu/4twhPqoQW1tLblbV5OWkU33XgNp0SwVQwPQycrMZOzYwaRnRSkr34dt16GJEKmBzvToOozePbuTkRFEBAJ06jCYX/78QR787QPomu46m9MgmGIkZ5FC0WRsWxJKTXXXQuqx7SPBnajRNTBNt91xHAKG7m5R5FhETQvdSHWXcUlwLBspAkgMHEdiWTa6ASAoKChk15595OzKYc/e3ZSWlmLakgNHyrAsE03aGLpOv2Fn0L13L5o1S0czgoQMiyxRjzQtnGAWERFACgchIugBjbAjiOLWTQOBJlwP4J5ZtT++0t1BlG64ziHB3cXAke7WiUI3fKslIS2kY/kTrNK2saVE6AECwVT6DRxE1/at2bdtI/vyD2LbNgX797Niwy7GTphE365tYx67XOdSx2mAvzoIkEgsDeyAjlUfoXJPEXu372Z7Tg5Lly3lvbmzaD2wJ1MunUx2SpA0BAHbISOUzuCBg2nbth1G0CAlLYMzzzmHZ/75T66+7HIyM9IwYia+hm4SoBwjWk1IBhBhjaA0kNJB4lAXriN33yFKazQuuPx60lu1gIDAlvUYhkYwGEDTwZEWu3btpKiomJRQBgX5B9mzaz+7cgo4UFKJZcG27TvIz893naJJd8cZl3hBOvb6wkbobjydTNq0HEz/vuPIyMhAD9igl9GzbzMQdRwpO0y4vp7Vn64kGAhgaDbFxXls257Djh27OFJeSW1dmIL8fMpKy7Esi9SQQVZmJgOHDadjty6E0lNBSrp27cIvf/kLHrjvXjq0bxcbCLgTxccdGgpXWCbmqMydpneF8NjSatdpb5zjMuk4bv5pEsex0HEnGAw9prVHUllYwO7c3bRs1ZKDBw+yc+cucnL3sm/fPjTdoLi4hN27dyOlibSj9O7ZnX4D+hA0BMKOEgyl07Z9BwJWGEdKak0IBBOTrjh5jlcEvjkIgaZrscKsgxEklJ5BdmoqVcVFVFZXYurudkuGcAjaBmWlFqYUZLfPwjRsAoEgQUfD0APohuvBUggIpYRo3jyTti1boAmb+tpq6mprMIyA633QccCOogvbHfw5UYRtIR2bQwcPsnNHDh/850Me+8tT/Okvf+eRJ/7G66+/RUFBIW06tPe1RxquR04tJeh68QQQOqHUENmtsmjWLJXUFB3dUxK5EeIywfstAA1bT8HSUtDsCEERoG/fIfTp2oE9WzZQmH+IaMTGdhx0LYiDge3YpBjuPrFCgkBHEwEQrlDjAJZjITQI/n/2/jLAkuO6/4c/Vd19YZh3YHd2Z5lRzJJBtsx2lNhh+CVmDDt2DMnjxHYSQwxxYoqMsi1ZYNFKWmZmHt7ZmR3mC91V9byo7pm7syND/pEj2fOVr3du34bqglOHjxfDER5SG1whcdw4juOScGz2cS1cQOE44DqS/LwkMYEVzF2DFqHnQCrD6LghSGu6O/u4//s/5t8/9wW++Pl/57Nf/AJf+MwnuXS5nbxkHNdxraZeKxCaWEIiRVQUwUXKOCUlRVRWFZBIvLgY40wmQ35ePvn5+cyuq2PRokUsXLyY17/mFSyZW83Zk6cZ6h9gtLuD1LhP4BQiY66tM5nROF4cnc1i0imyIxn6enzGhgYYH00R9wrRgUZI0EGWmJtEoVBmlP6hy6R9KyjFvDhnjh3lckc7Y2NDKEfg5NlxtznkrWU5Y2wZul8UKlC2dEWu1hcw2AylNnu2ndvGCJQ2yDDr6+Q1dn2qQONnsyQTSdJpWybDJg/B1oaUDkppmxEzzAKvTeSpYK3jYC3eRmtGR0Y5d+4c3/7O9/jMZz/PZz/3JT75yU9z333fprW1lapZVZZJDRUBlrOM2mRhtLZlaRwBRpHNZmg8c5Zv/fc3+edPfIJ//dxn+dpXvsI3vvZfXDhzEk9IhLHkW7hA3IOYZ2tGaoEJBHEdkPA0uIq0SjE6PEB6NE08VkrKtxoBpX1kTNrx1YbAGKtl/1kwtoyP0uOcP3OGtvYBhJScbWzmzLk2OrouMTbcQfupY7S1tDDmg4l5+EEagiyeE2a/Noqs1taTxYD2A9Au4KIdB6WyIaOiJ3InhnoTEFY5kklnicfjJBIJW+JPawhj2KTWaBIoX9Hf1YbjOCTzCnCNxEHYuvVOgIzB6OgIqfEUvk7juYaYk4fnFCCkrTONFDgJj9KKYqoqC0kmBI41TuR2TBhM/nP14gxmkAOJlyyhoqIWR43R19dDNgjwIAw5KgAtcDyI5yWJx+JIHRBzfRwXFBKNhyvzQHtk0go3nmez0aMZ7uvl2Y3P8q+f+wKf+OQn+eznv8CXPvtvPPzQA4ylMwSBxtEaRwRIz0El8sGL4QpbKV7oLAmTRgoHnzhZhKW/KkWgs+AIHFfiEu7V0bowYZZtYasAGGNpXRD4xLw4vm8zHgvh2XJ9AJ5HLOER+BlC0m7JZuSthAAnTuWcBSxdPJ/R3lb27d5FNqM4f6GNy6M+N995F6V5cQqs1swqVqeyPC9ChBQG4bq4iTg93T1sevRJ/uMLX+Gf/+VfePDBB1m6djW/8Ye/zez6SqTRSO3jGqzHluNYxaYEPJf84mJmVVVRVJCwZdWMCuuWB0g9hotPTLgQuGDAlQohffwgw8BQGl85lFZWMjyuUEbjeJJsECo/pS1oPTw8RF9fP4//5Cm+/vX7+MQnPsu//esX+fxnvszp02cpKy0jmczDGMvHujmKlivfWoNQYAIbU62TuJSQjMXtKdLg5WmGxy+SCYYZHR/BDxQ9ff0cP36Ux3/yGJ//3H/yqU9/ns//+5f42tfvo+ViJxVlZcSEAZUFpXDcGK6XRHoORtgs2YlEnNLiPMpL8knGHaQIvdcmMDUeX4JxbJ852HrwgY8OwBhtjUO2khfYivETPLjJZm2VHm1IxBx7dKJihOVHhsfH6Bsc4KEHfszX//Nr/Nu/fo5/+/Sn+a8vfpETp0+Rn59PIh5HYpCOxPFcq0AXGk8KkA62eGeA4zgoJxbyZjN71/8Ev8bCtJmcuNjyOMbYD1JSWFxGVVERDPVjjM8YBhUDJ+sjVYKuLkP38DgldQUQF6AUcbywhvTkE7TK4kiQQpNJjxF3HRujPOEeYglEoHzGU+Moo3AdiesIigryWTB/Aa++51W86x1v5d3vfBvvftfb+Is//3M+9vGP8K73/jG19RU4rotWEmMMSiq0MPbhvi3H5cQErmOtaRO8HpNKWjNBEsLFLBx85eHrGHlxm2q/oqyO5Q2zGexsY9+OA/ha4MYTaCVQ2kULF5UdoCAuQCurWBYJssolozQBhsDYUvZSmLAerrBF43GtxclY4TYwlqB7rsCRVguqlLbWR2VI+4a2zh4SMY/CPAfX86goLeF37n0jf/bWt/MHf/KnvP3t7+CP3/oO/v6f/4kPfOCdLF4wH9eN4TkejmNwvQDPseQLJTDGBW1sjcsXGYyxdcNlWNok62eQrsPshnnMbZhHOpOmq6uT0uJCYp5EBRmkhECBlg5BVhMEhvG0TyIWo6xUkiyIE3ddTDog5gmy2QDhxBBGMDI8wuD4EEUlBQjjI0SA8hVrVt7IvW+6l5KyJM9se4jjp5pIZ0EYiZ+xblGuM7k+fhFI6eA4zhUaYIO2dVnBpnwKSyeJqJ6itIIl2GmtsW6AUoLruvi+jxAyrO0skY4Vwk2Y2R5UlF4UrTTZdNoKdRJ8DSoUsB3XYcmSJbzpN97Ee9/7dv7f//sj3v2e9/D+972ff/iHf+DP3/c2qsry8BwZCl5TO8DmKzDaliRR2Szdly7yrW98g3279vCyu17K2979Pn7nz97Km//gt5nXMBcTWEERFEoEpF3wHRvbLMFadX0fR1uXG2U0Osii0lkC3yoaNAYjBeAwPp4CDK4UyCiWXdmatNPBWot8UmODnDnbyI49R/jRjx7gve/9AG97+/v4uw//I08+8Th9bae41NTMaMaqVNyYQ8JVOMKEtTIDso7DqJaodIq4sAldfCUgSkgnFNooa5XSyhoEQuu5dD2ktMldlA4tYdK1niQhXyOFhys9ivLzkFIjlEHocL2oNIgM/UPDZDIuBXmziLt5ZDOjoAKkFWUIIiWQlfMnwy4niKch7NHJ4Z06zDOYwU+DEDiJUorK60jIcQb6LzKeTRMDPOGiTD5BVtM9Mkjd3NlUllfgYjBqGCGyGKGRxkNlHYzyUMpBSVtj2cHn4O7tfOW/vkHMy+PNb/k9/uRtb+OP3/ZnvPyeVxBP5mGUsJU8jE8gFCk3jpIuAo3E4EqDJwxSOhjpTk5vqRGOwKg0qHEcQyg059IOy+8greLOkZZfEUh8n1AQ8SKbNiiFCrIYkyEvGdJ9pRDGWG8xXIyJ48aLWbZ8MeUFcOrQXjov9XK+rQ+3sIy1G1aQHxfE0EhASVs+6FdBoI5ouq8UFRWV3HXXXfzxH/0B737Pu/mjP/oT3vj6N7B4ySI8zyXmSQI/i1ZWtR0gQlHZwgQKAoWjI4FA25hsbOhK5CYc8/IQQFZlMfgIx+6546kRlMqQTIb0F4nWxpa3CvnNgoICiouKedWrX8Xv/M7v8f73v5N3vvOtvPXtb+OfPvFxPvKRv2LD+hV4nkMQGPwgQFmt9ZUQdm9D+fZP5aACB9cRKA3aCNLjI/hqHJyAwsICpOtRVFrGgoUNvPael/Hed/whH3jv23jru97DO973l3zyX/6Nd7/jj5k7q4SEIzDKYITlaU3oxWm0RiiFKyDuYmuxKxsSOrEQjMwRqbRtbFjG1QgfbbIIGUN6BWgN2SBDJgj3FWm9UCYFaojHYzZ5WaiwtbXCNTpQtvxbXpKCshLe+PrX86e///u8/11v493vfTd/9q538Dcf/hB/9Vd/wW3XXRsmTVZgBALr/WYtAjbcTqg0GkVWWOOHbfv0+/4Mnhu/xsI0oeBoJ5C2UxUjPRAxisurWLF4AaPd7TSfO8V4dgzp2RqvvU3d7D87SFn9QtasXUC+42G0QeMhxOQmYxk5664sUSQ8SXFhPgnPYaCvl2w6A8JlYGiUfYeP0Xq5mwCHwBiM6zJvXj0FiRgJCasWLea61au4bs1a1q1ex6o1a5ndMAcZ82yVOOmBlCgZ2PggIUHE7OIM6z6iDMJoHBlm6g03O4PACAcjJAYHjYN28vHJw5USTwsSbh5rVi5n5fy5HN26i47OQdIkkUrgufngxfEYhmw/njDobMCZE00cPt3KaCpjaxzGJcIxSKVwdYyYieEaYa3XyuAqW/PPCIkjDcYfR6ssmICYI3AkZJXD8dMdeEU1LF+ygOKES2ldNcUFGjPawoKVy1m1YQMb1qzlmpteztJV17JwQT3FhflIXPyMTzY1jCtSCNJIWw4boT2EdG3NxBcZMXFdl3Q6hZCSeCxGzIthDPQPjdOV0sRK8okXJSmsmkVpkYM/1ER3U5MNZ3DBOB4X+8bo9V1Wr1lKRakgUZZHZUmCk3u2MTSSwbgJhJNEj6Toar+MKKhk3vzF1JQV44k0RrnUzN7Aa974u7z1nb9LkG3mgfu/waHDJxnXAuMmUMbgaCyz9QtBhF4Fk7JdyJohEBiUjWnW2grcjpxwE/NynAyU0kgj8VyHRCJBX18f+Qlb29mEtTVtDKzV5ArXDT1HFK4rScTjuNKxMU7CCvgyFqe+YT55BYVoI1m4aDHr1q9kzZq1rF27hnVrV7OwYS5SODg/ZV4JQVhRwBBozeDAADt37mbZksXccv2NrF63jnkrltOwdAHFleV2vSABgxI+aVfjuxLHgOMYhOvjKh+hJcYUkHALKa+soKQwTkvLOTI6S6ACMlnF8YOnOHH8NN09PfhBxGLZDX5aCIOMOUgPOjs66BkY4p7XvZF//dd/5Stf+hKf+sy/8qnPfoZ/+ZdPcfc1SzlzdD/NlwcZ9aGoOInIDKGDLFJKhkaH2H/qLBcu9xMXGkdl7TOcBFpat34pDTrIQFgSRUiDwtg6375GOjEwluGW0ipvhFYopVHa4AWawrwCFixcSld7I42nTzI2nMExIGVA31AfJ8+0MXv2ehY2XIMJHGKuQuoAYR0fLBPuGIwbIByFFJHHBWEWV+uOalU2dnYaLONuwvCAGczgp0MikhXMblhObXkejWcP0tHdhaMUOmvImjg/2XKA7nSGxUvmUVFaQllRMVIMI+S4tUAbSWZIcWbfKZqaLpFVGiM042ODtLU2cfHSZW688Q5uuu4GVq5by4I1K6maU4N04zhK4gmBJiDjBKRiLoF0EDpAmjSGAB9B1jhgBK7REx5HyoGYzOBl+tHKnyz7Z6UAq+zECkLaaAIV2HrxniQ/H5SynkdSehhjNf95+XHicYfRkV787Li1pgphQ3aMwIgYxiRYungBN29YzFD7eZ56YjOXx5Pc/JKXUVjsIaXNeu0ZRSAF/q+Cmzc2f4+jgawiv6iQ+pWLWblhFWtWr2b9ug3UVVZSbByEb92snZh1nzdhabAJYVoIGz4Qut4LY8OaQFnlhlsMsSTCEyhjraeujFvFqNA01FdTVSHZv/tJZBAgiYGJ40qP8bEsgZJIHKqra8kvKARjqK2p4pprVrNy1XLWrl/HunWrWLBgAYlEIY4UVtntOGFYXSiNT3yw/zoGjUKbDIYU2gR4rkCYPNIZj2NHT1M/Zx719fUUFhRSXTcbKSAuA1YsqGf9utUsXb2eZeuvY+W69cyvr6fAEwgCkC4KD5UrHlndLg4GqYzNrWSUzTpuI5KsIc4QeiUZuztE2hvhWwWElyDw7fqRDgTavlVWWyOSQVpjl3TAaIJsmvHRETwMMSlwtCYmretr0axKCkrL6Ovppb6qjtVLV7Fu/TpWXrOG1desZu3KhVSXFhET9nkRXxNzHIRRSDdMNKaz9lkIjDB27Gd2rF8Yz8Et/WpiQueTI+1GTI9dqtL6Z+MQLyrixhuupbTI4/EHfsCBHVtpaz5D29mTPPnsDgacSl7+ujeycl41MR2AcUlrQRDFRBibmdeR4UrTAXFXMm9hA0uXLObUqZPs23eQ880t7Nh/lIMnzzOuHUQij4yxxeDXrV1HWUE+WzY+wY5Nz3CpuYmulmYuNrdyqbOLofFRu14NCOPiuC5KKLKGUNMbtwKysPXbXYfQ8oRlwic0f1E+b4EREi0ccJMEwrNusErhGEPt7Hpuve5azEgfx46doXtU4wCFRaXMW7ySwqThyIFtNF04z4HdB/jJw09x7HgzGd8HGRBIBULZ+GolEUrihto7rWz2ZgRoKRBa4zqCRMzhUsdFmlvaab/QxP5tB3ni6QPUNKxh9fLFFCU11Ysb2LBuASf2PcIjG5/i1IV2WlvbaWnppaW1j/HUuNW0KodEPJ9EIoZSYwgnQEa0T0vQCmNSGONHU+ZFASEEgVL09PTQ3NpCS0sLzc3N7Dp8mgE3n1tefhfLVi4gUVTGXXdegzvWwk++fx+nTx/nQmsjew8e4aGndzISL+G6m6/B8yS1C+ewavk8Gg/t4uGHH+Po6SYaL7RzZv9BDu87QsOqG1i4eAVxwMNqOX2Rh0yUccvNN/Obr38Jly8e5v77v83m3SfoT8VQxLGp6CJ3pZ8fQoSeFypas1aHa4Qm62fp7e2lo6WF9rZ2hoeHGRkepa29i6bWi/T1DYSu2dZqXVRcRm1tHWOjY2zfsZ+z587R0tzCxfbuCWldKcVQfx9d7e10trYw0NfL2OgoFy920djUTndPD6m0TdayfOUqysor2bJ1Gw8+9BRNzR1c6rxES1srFy9eZGhohLgXhu5dZem1Kw9ty2qA1eh7jqSwoIDBgUEaLzRzrrmNo+fP8l///Q2OHztm3bx9A4GPEgFZFwIprVJAp8GM4RqNozxUkEAjqayu5Zr1q7jc28r2Xcc439zEgQPH+P53H6aoqIT8vDwcx1YFnSSS00MYhQnSXLhwgbONzSxbu4b1a5aybFEDq9YtZ8WGa7n22pu4c8NiBjvbudQzRKKogvmL5zHce5FzJxs539TI9j1beXjjs5xovkRcaqTvYwwEOLjJPJasXU1xcSFHjh7l+MmTXGxvp6mphb6hYRAOQag0UQaCQFsWwNj+RLgQSxDTNmZ/3sJlLJtfxxMPPcAzz+6mubGVC6fPsHnLAS609NCwYAXzG2rBSBzjIXUCHUgCo1DCR8kAXwRoVMg9WcWbZTGjnSQUpCMhOvz8jO6cwQysRY8EdfOW8vKX3sZgTxMPP/BDjh07TXPTJQ7sPcR3H9tMw7rruOXGNRQVFZCXl8/iBTVcbDvHiWPnOHemlS2PbeHJR5/m8uV+jCNxYwalsxSXFuEmCmhqbOf8hTbONDfz48d/wg8feYjB4REcHEQQYAgIHE3ac1FSgAoQJmPjdJ0k2olbGhUy3SKRz8Lly5hbW0rTsd0c2HeA9o5O2i9epK9vKHRwMYyNjNDR2srl9nY6L13C932amlpobu6kp7ufdCqwNN1YI0dZWTFzZldy5swx9uzZTWtLI+3t7fT2DZLxNcZIjHRIlpSybMlc/P5LfPMb36N9AK6/6Vo8F1vy0wSgFYGwAuRUCvxig91HwFGGmBFoKegTirGQzGS1wvE1BdpaUbWjUUKhBBgjCWvWWItoVNFFG0SgbT/5GQb7e2luvUhT6xA9w+N0j/ZwrrmLc02X6eoaRitJMplg1YoFrFhazrZnH2DT49u4cLqNtqYujh1tZd++0/T2jICMUzu7nmuu2cDefbvYvOUZzpy9QMeldlpaLtDa2sbg4BCuq8O9x+YOmJ5m5tBZ7eN6PkaM0NJ+iqbmC1w43cb+XafZ+OQurr/+FhYsaMDxJGuuuYbS8lL27tjElo2P03ihkbZLnZxr7aDtUjepkRFcNFIFaC3QwgtLXlnKbsPtrfeRVdqGiVNCYxnkyPoiG/auJf7GKPzsKIMDvbQ3t9LZ0olSmr7+HtouddB6sYv+oREwdu81AkRRITU11RQXFnLwwH7OnD1PW0sjF5taGR8dQxlN+exa7nj5y7hw9hx7t+2g+dwFWlqbaWprpbmthYG+QVTKt+0T1mqulEIFPo7AKlUMoH0b5iUEgY6koRn8ovi1Ko1FSGwEYfBMGAMZLU8Nth6pUjiuQ0lJCXMb5tPY0sbWjU+xe/PTbHvmGdIyyY33vJ4bblxPRb5HQo/T193DsfNNiJJZ3HbzLSQ0uNKACBBGYrCJBPKS+eTFCth96Bhbd+9gz749SCm55pr19A6lyStv4Nq1K6kqkOTnxaitX8TFzn727tnC1o2Ps3PTZp559lmOnT+DV1zInJpaYoHicssFDp1vpWHdNaxcNI9C12qjjLTCtGusac+Y0Mc7pFRRHKgVNML+MILUeIaDh44h3AJuu3EDBXkgHZd8V9J9qZ3jvWkWrb2R11y3nHxXU1hSwmhK88zmp9m5YwvH9x9lzeq1lNZUk4kVcsftN1Ns+jmw7wQFxTVcs2E9Opti//4DlM9fxfXrFjLeeZzDbSnqF63hlpVV9HX3cPpcOxv3HWXfrh3sfeYJjh07y9rr7+SOV97NskWziMkMsUQec2rzKUoY7ntoG5u37WH75md49unt7Nl/hFjCY05NDUlHMtR7ie0HDpIoKeWOG2+kuLAUo0PrtAjQUiGFixTW9fyFBBNupBAqPYVC6AB/aJht2/ey98IlTpw8yvZNj7N3126GMprrXvIKrr3peqrLkngYKiuLSDgB+w4c4ZlNW3h2yyaOHD1KoriCl73mDVyzbgXCpCkqSjC7opS4jHP/U1t4dss2DuzYwfHt21h/0x3ceM89LJlfQ75WjPS28fSuI1QvXse69eupKpTU15YyMtLLjv2HaWobprxsDgvnlOPgI4xGiqvrTNvNJ/oWasfRjI2Ms3PbQarqGli1YRVFhQmrWUVgMDS1NvHAd3/AA9/9Drt27uRMUxcd/YOcPHeWgzu2ozNpFi1aTCzhovUYyaRHfn4dA0M+9z/wXfbv2c62TZs5fqqRhYuWUFFegJ/O8OwTT/D9//4GW599jF0HjtLYr2lpusi+bVvp6umiprqC6tJS8gvymFUzh0s9Q2zeuZut23ay9dnH2bTpWY4eP4Fw81i2aAGuUdGuDKGb8MQMM8bud8bGp8dcl7y8OHv2HmLP/iNs3bOHtkstNNRWEYgkZVVzuXHDKirLEpy9cJqjbf0sW3MN1y2ZizRZhEnR19jC/nO9zF59M2uW1lISkxQXJmgfHOPBZ59m967NjPWOcuP66ynMl/ixAlasu4bZ5eUkRRjyIKRNapTDxtj604rxsSF27txBY1s3L73nXubPrSHuCQKtcaXBVT6kxthzopH82nmsWFRJdWkF7c09bNu1iy07nqKnp4XlK9aRTnssnLOE1auXUlJeQNYo4kJRVFyEyith3/GTbH3ycXZs28aBg4eJ5xewcO5s/JFRLpxv41xHD7e9/CXMriomiU9mfIDTZ7o419zLva+7i7LyBIn8JAsalnP+bCu7Dh5jyzOPsGfXFroHfG695WW8/KV3UFVTYK3Vlzo5cWSEwlm1XHPbYmJuFg+FMAKMRCLsmGEtE/YTjeaV7nq54zw53tEfIXJITe6KmMGvE2yGX4Da2ZUEaJ7esoWtG7ey69nN7Nmzk+qlS3jT7/wByxvmUuRJPM8hETPsP32ejVv2cHDrXpzUKGtWrETlVVFYPYubblpBUVzjGOjuz7Bl204OHjrEgWOHyYtJaior6RoNuOvOO1hUXYzrj/Pk9r1kZ6/k5nXLaCgSCJEmPTzGnj2nSCerueHWG6gr1RgCtHEoK63EizucvHCKLRs3s33bTvYdPIgOBAsWLCRQafbu3sXXv/KfbH3qMfYdPUZL1wCtl4Y5tPcAjaePUFE5i5raKgQgTYZYIo5XWM6x02fZs2sH+7c9y6ZNm0gHDnV19RTmxTFG4ro+CVKcO3GWHSe6WP+SN/KSO5ZR4klkkLG0SwX4XgIJeL8Sa0sjslkuNzex/0wT9be8hIXzaij1DK7r4mgBSqKFQLmawB+ho6mV46daWHfny5k7vx5XQh5hSJ6OvDQV3ZfaePTJx/nq17/B1m37OH2uk0u9w5y+0MiOHTsZHuxm5ZLF5CU9kvmS+tmVYCSPPryZLc9sZce23Rw/c4HFixayYF4tibhDzBNUz55NsrCIrTt28tRTT7J100a2PPs0O3YdxGiPhnlzbc4hxxLBidKkV7y3wbom+GTHu9ix8wA79p7mbPMJ9uzZxs5n9nLq9BluvfOl3HrXq5ldV0ZMagrz41TNqmZseITtO3aweesOnnh2B08+vZnjJ05TWhBnwexqpM4y2N3FvlOtJKsXcd26ZVQkXdzIqyyy8KKsgcYYmxVGWj8xIcCIAI1A4OAqAUJx8XIzD/74Eb7ztf/m4O79NHUM0NTVx9ETxzh69BieFDQsqCcubHy0JENxaQVZncfW3bvYvXsrOzc+zplTZyguqaC6rpJYIkFVdS1VlbU89sjjPPvMs2zdvoXHn36cPfv2oQKX+XPqcYJBdh8+zZjJ586bNuCpUU4ePwH5Ndx6681k+5vZeaaN8kVrefmaBeS5xiqif0W8OH5ZEObKwJZfaUwyKWFMcY4gHf0uIiYy1M74gaCl7SIdbS2ozBiegbJZc6hbuIy8/BieDJA6zfDgABcvd0NBObNnzyMPm6wMAoSJLL8KoQyp4TTnWzro6u0mMAENDbOZU1fBpc5eUiaf+tpZlCQNgixKubRd7KOjs42xwUHrJoUiv6yEOQsXUltRQ0wrhjov0dIzQEHNXGrKSijwrGBipHVbdbDlbixnJycYPhG9d0Sywg5Jp9O0X+xEmRhzZ88imTQIA8H4CB1tzZwZVBTX1LNubiUxfAI/TeflQS40NZHKjFGULGHxgoVkdZbL4wFz6mdTqAdoabqEcIuoq6vFZMdpbW1BltTZOriDTVzoNyRL61heG2eor4e2th6a+kYR2idhfIryS5mzcBnFFWUkYwHoLAaJCEYYG+5n/5keRkZTCOUjcEkk82hoqGd2bTUJTzA+1Etjewc6FmNJw0Li8TyMtgKCEAottVUs4LzwhOnQ5RTCcRUKYXyyg4OcP99E20AGP0gjdYr8WILyWXXMWbKUZDyOJzSe8cFkGR8Z5uS5VnoHRgh0QF4yj9o59dTMqSfhOGAyNuNjJsNg7xCHmjoYGRsngabEEcxbvopkZSWJmCQWBKRHujjV2IFTVM28+jkUxhVCjdN5uZPGtl4Ck0/9nAbm1hVjU15ghWkAYWwSG5tOxO5NJup5mywum85y5sRZ8osqqJ5TSzLpWmYCUAQMDAzR3tjKQE8XxmgCkU9GOPjGkO8K6utqaGhoIJ6IAWkc6ZMad7nUOcT5lnPoIIUJFEXFFSxesojy8mLQmrbmZi42N6L8YQJjGHUrMMYhjqa8soR5c2dTXV4MaIKMpv1SN80XuxgaGUHqNK7rkF9USs3sucydXUd8Ilw80rpPzq+JUlzYfAqB7zM6NMiF5jZ6+kYwMUVRSR71VfWMjAcERrCwvpqEK+i+fJn24SHKq2qZW16FIwJQacY7LtHckyZWPY/Z1YXkiSwqNUpzVz+n2zsgyFBbWcuieQ0MDXYwqiRFVbMpyU+SJy3FskJhjjAtrP0Mo8hmUlzqaGNoLEvNnKUUF+ThOAaNwRUK6WcY7++n8fIQTtks5lYnwM/S3txHV3cf2WCE4pIYdXVzGR30SYhCqqorSBTE0I7CNRnw0/SPBZxu62KgpwehDbFYjPp59cyrrUJmM1zu7KVzME3dkoWUFSWJCx8/PUzHxSG6etKsXD6XgiIHCFAZSXPLZS529zE2chkpNRWz51NfO4fKkiKbMMekSA/30XQ+jVNUQs3CEuKuJoa2ViEc6wI5sXNGCsoIVwvTka5f2ik/SWgnYDPomtxzr5omuRaD0Kks9xaEJqurMNmWGbyAEQ6dTo+Bq+np72P/sRM89ehT7Nu5m9/8rd/krte9lvkLFuFoQSzkMdJj/Zxt76StaxAv0CyorqC2uoq2nhQ6EWfe/Cry3IBgfJyW9h5a2y7hK0UsL07drDKK4gk6BjNU19YwuyQGY0OcbmpjsLCehpoKapIGKTP4o+O0NncxKoqpnTuHikJlE/gZkBqGhgdp7Gynu6MPP6NJFhQxZ/Y86ufVoXRAZ0cH7U2NmMwoWkjSIo4WBUgTUBCHZcuWUVlViSNBaGsJH89ozrdcpLOzE+mn0EpTPbuBhQsXkJeM2xhqkWK09xKf+8yXeWTbCd7+N//APS/fQHHMwTUBUtl9RLmxMGbU0rMXLYy1hho/y2hPJ63d/cTqFlNRUkiRF+WksUyCFmAchVEpetou0nV5gMoFyygpL8WVEDfKZko3NgeFMQGjw/20XrpIR2cXQWBAxzDGQ0oXxzVUlBexbMkikkkXKRVKZentGeTs2Q5GR8aR0qGwtJwFCxqoKC/EkRphfAwwNDLO2fON9PX1Y5SPFIZEvIi6ujnMmTObWDyGlGGiUSnCyjCEtC/cHwMFJkVq9ASf/tdv8PTmy7z23texeHkdMoCiwlksXrKYwrJCm/0ag0NA4GfoudRF68UOhsfSpLXNrVJQWMDS+XOpqy5HmoDxwT6aOgfRBbOoq6mkJC7CEC2bdRtEaNu37bEhku6E55mWQRilL3GUwJgsQ6O9tLZdpPviJZwgwBf5ZJ0EvvEpKixgTl0tc+prSbiezdBv0mgNPd3jnG9rZ3h0AJEepaiwlLkNC5hVW47rSbQypMYynDp5lr7+fpQJUMYnmZdHbe1c6uvqiMsxzjdfYjRIsGheLUmR4mJbKypWTn39XMxQO6cuDyLK6llRU0LC0TZs9MW9Sn7p+LUSpq9A9NaTxrAJWCYydP2OeJ4wZb8TWiImXDwEYPWztmYi2JIpwrEJGLCEypbusSWWoklqlC0BIFybjdhohdI2Bta2I3y0UlbwFZa4aOPbZCPCsYwdNnuvMfa+rmMzE0cwYebDyfZaLaTNXm4hyKFXlkRghG1fVB6KsGSBkNZdREp5Vbko3/dRSuF5nnUZDTN5RucppTDGak+j72Ki7JRBhfWdhRC2/E7O9VLaWFjbHns+mImahFJezTRG0zuyGkX3nHimsBPAqlVCl8yJu7yAiEk0D6OvArQIXUqNPcHBbrIT76KFVZxIGRlD0dr2pwnHUmvb367rXjWWhP0XhQNEv09Y4ISYSKQXhLG2juOG4wBgS7Jora+6/6SiwuTEGEWHIlfjiclI4PtIx2bVnByXcG3lzCvC9kVja3Lnb3hPIWw/RHHV0XyLIIS4on8cx5Zqyr2//a4Rxs5fg+1r62Ec1pG0Z4dmS/vOVnsdCUWT8zVqv5S2pIx9J4PRVgnmOmmQBq0LbdJCk8Z1HDQxtBJIMY4jlc34G76LCoKJNriu1XgT9mr0vOhdrh57y9AIYZUcYJtqsGvFmCvnhu2j0M0cbAm+K95rssSc1mGm9ChLsVXnhzePaJcB4wOW9injooSNVxcCpLZMozBh0i+badGK/8I2NgiCifFzJrK9h2sj/FcbQRaB44BltW12d5BkAzBh0jsHbLI9FIhQmL6iR69E5K4YIVeYJqI3uVuv+EWF6XDuXPHoGWH6RQ2DFZKyPsKz9MUPfDY+8zT3fetbrFi5mnt/6y0kEvkcO36G6prZLF+2kIK4C0xDzwyICVo8Oedz16QME4FF13qui55Y1wLHCdctVikfrXch7G/KKIyxCRztrNbhHiOstS6HrlqaMZmKIaI4llIaG5khhN0/Qvqiw7YFQWAtro4zwQPoIAvGJpHcs/cAX/3mtykoKed9H3gfdbWzkELYGFcT5jQInyqErXP/4kUobIb9E41rtOdNrvZwDwppQuBHe7Sl1QhCvtRMZEmPoJTlRaUXWkqNysklI23sNcIatCMhUmXDPcNBhnsm4byzSVLt2EVzze4JoH0/zIXhhXRwYqOxEETcuG2rEmB8hkcP87nP38fRI4b3/9UHWHNtA9LxkTqBNBLpGCQB6JhVkk6zH0Xtm1gz4feIT4z2/mgaax2eGzYNIjIc9rgxEzzkJH22z47GKffllFJX8Rd2z7LrKWoHYX9F313Xtd1kruapp8JM2aejY4TrWAgIAsvPR/0Q9cUMfn78+grTPwMmFKR1OO0nWPhoRxBYgTNkYOwCsnVtRegyLbHWXDMdjxN+N8IuEsMkUcydyNEiu3IhBhihLVHTWCuqsJbUadeALbJ7hTBt61c+tzCNACPsc6PFFRGZaNHltitqcy5Biv7NPWZyBOvnQu4zo+9Tr82dtjIU7k0O8cttW3RNRIjEtMLDCxzmyrEB65llAKWtu5HrRBupFcJsKEO4wU7pS6bMs6nI7d+pYzrddbnzg7DPc8cx935AqNyJvoUb5QSilKu5zzFXnBOO7ITgOnVeTG3/dG3O7Yupx5nY7K/ut+i7ELav7fuF7RVXPhu4ov+Z8lYRnmtuGhP+n8jYdU8BBo3At8I8MRAOgowVPHUyfN7kurP3ufo9I0TPnYrc8ZuKqxj38PxoPKYb96n3s4qCSeHXImJUwiQvwsZ7GeHaEnshk+1JG+dnvRcIFRnCMjvySoYgakNue6J/NTbmUACOMQjt2/YIyzCq0FtCGo00QciUybAe2dX9Mh1yZ+6kMD0NcoVpE1qxw+MW/xNh+kVG536dYcK92gBSo1WAcCSdXV08+pNH2b5jF8oISkoqycsv5PWvfwOrVq6kKN+bfj7lYOoaz12LZpr99blw5ZoKr8MwyXiYiQlrVYe5R0JSFv49ZfLCNPRk6nqNzgFIjY+SSY9x6eJFfvTjh+nsHuAN9/4mGzZsoKgoHyGsqUESxk1jLCcXCoIvZkR9M11/5R6bes1URMciQS2CCJXBRliJTaIROgpTkja3jrH1C4SxiXZlaNiYNPzYTy5PMPW5kzTNhKHH0pZJmzgaDVWYGNYYm5ZdZxkZP8G/ffZrHDqQ4a8++Nesu2EhjsyCiiO0g+MqJAHCxO3NwsfnzqsI0TqI/s79NxdTz/l5EO3tP42fmIqo76ael3t8KqKxjzCVp4jGwgrrVrER/RZdnzsfZvCLYUaYfg4Y7Lo14VqemFomV5i2VhgTWQgFtjRW6LI6eX4OUxRaUaM7m4iQhUkMchfD9ENjbBF2YXBElE92UvgQIX8VXSnsIFuilbP+f5YwrY2eEKZljgZ74vychZ5LIKZbmLm/536PMPW+uf9Gv0fnTO2TiBhMZe6ja6I2TW3v1Da8KBDtO2HTI2Fa21SS1j0u/NloO78s43/lGEzX31Mx3TnTjd9z9Xv0d27fR8i1dIZ3mUZQmKxhMqFoiu4Rvo8Qk8L01DHnp7zbT0PuNbntntoHE+8jybGqhhdOvOuV72xy+um5MHV8QNixlFmE0AiTF67lIHQN9xDGAZmxtUF1Muwgc8XzJ+42dSzCtkxlpH7WZpo77le2d1KRQs77GGOQItR8yyvHKmS/wslraacAm1k2nBcGW23AegqFc91YTwx7sn2m4coxy50X0/W7NoJACqQBF4UwNgkSwkHhoMJrpNE4RiFEZJn+xYTp6PPzCtMiFKaj4xZT18h0wnTud37uNs7gBQBDjuJbo4JQAJSSru5uDh46zKXOyxSXVFBaVsHq1SsoKSqeqEObO++nInedTqzHaWjzc2H6c0J+w1j+JyKC9pj9LoTNbGHnqkGjrygfGl0VwZIA+2Nue3P/FUKQSqU4uH8v93/321zq7KSscha/9Zbf5/qbbsSLx3EcgSNCTyCsB9HEE37FhOncY4T9M90cMDnKbnLOy+3vq+bQxGCGmb4FQFjGyQirSAmFaYGZcIPOvUfu3MmlyRahpVpY5b8Q1mp+desJ6Z+BQGBUlr6RY3zpy/dx9HCGd73v3Vx/ywocJ4PQoTDtKAQBQntoY0K38SvblCtQTv3tub7/oph+7Tz38Vxc2Vc/G1PbOHVOTLdvT+XZc+fEDH5+zAjTPwVXdI1hUgjIIf9GWIFao22sIN4VEzH3Fta1j/B6bYmOEGAE2lj36Z89hY21xhhjrzciFJhCZtTYbIATbRTWFTdyOsWeEiJS1YXkL/d1TXjwORoULboIOrRYT0W0aHMX7nRTburvV/ZhTtunYYqj33OfQ3iv6PlTr4nwXMdfkMgVpsUVug87H0yA0WGUq7Aa3kiYzsXU/v9p/fOzkHuviAjnjsNz3/dqy/SVZ1o2iOjVosPR88SVrlZT25GLn/bbcyG3T6bTLE+cJ6JBiI7nOvia3BEKcfU9yGmj/ddM3C8SwrWweRxcHbMx5tLWbBfGsW7x0sdgkCZmbxgqwiJM98wIP2v8p/st997TPWfae4YkZZL+RD1kmXE7opPvH3n2gBUajQgt/wBa2NQPhEqWsOZ35GofsfdXtWEKtMG6eQOeUDlMt61qYKuYhypLEyB01jLjTixnzH86ct/RNvnKuTsBMXkeJrLr5T4m6pucH6L+mYppDs3gBQ6DdfMOfCt0utZ924RKIqVMWJ3D1vF1HAcR1oZ/ruHOXZv8HOvhZ+HKtT7JhE8ioljkbFh23orQUTgi6AabHNVC2izJ07TvStpo3yGTyXDi2BHOnDyOrzT18xq45ba7wHGsUSOsMy+xSjcxUVX5V0eY/mmYbpx/1jURRK4AZ9SEgDy5s1mFSUiOfyam2x8mEYbphNQxUn+Y6djP0OvGKPt/Gd3KkaPn6LlcwPprV1E5qxBBGkwcaVykjDK5g8aWW7v6+T8//qfXmhy38agvIgNV7jlTMd3zctfAdMei50QQoaIgevZ0PLqZsldP99wZ/GzMCNM/BcaEsXghbExgzgoPmR+wVlwAaSKCMGmwiu5gvawt46dNYO8tBEZ49lppiYiZiJkAMJPa3xy3DctqmlC2sNYeuwiupHCRXWc6MX3iyDQzYGJaXH3ZVYv1uRZqLlHO1QDmxq1E5+X+HgS2BmW0qKc+Lxe5hGQ6AjN1ek9t79T7vaCR+yo5RqmJPsjpn9x+mYro/aeem/t37nXR+ETX5H6mXpeLqK9zYYyd81e2K9SWTvkeHTFGoIzdve075vZFjsU6xHTtzf07F1FfRPMhOhZhumsiGEIWMWyPMVhL6eTI2NQKE9eb0M3w6vtFbYArLe2ErvqB0GhjiPsORmi0EyCEQBoJ2iFwNArwTLjSp3Hznm5sCdfm1LWbi6nnk9NHUTun3jvXY2DyXeyIGuzQGuzraWPjM+2lxsbXIUIRV4ZGdlukxKoFbXG1kJe3Fmptaz9HHjdRrGjuWDKlvcZYh3kcGcYnR5Zpe49phekow7n8+S3TQJhkL7oiUoJOgZg8zwrc4TnTnDq5Rpg84TnuOYMXCYyd+xjr4i0dF+E4BEFgrXVCkvUDQCA9zypOo3rnU5ZvtP7sbSfXwNR1PnV9kLNGpvt78p7hyeG/IjxmHexCxZETWoSjk6P47YmFGxWVm5yk4jmmbJSTI3q+ECJUoBnroWQM2ggy2QA35tlY7wnllV3btrGWnk7/lBcPcsdtunH+aTSbKb/nCmC59FpErtU5IS8TUAaBCi3StkAgQtgSp0zuPbkGjQjR38YY690ZJhoTxlJ9iZzcQnMRPl4F2PAf2W1zs5tyNKDwQaZwdALH2DhpQQAimmOTcz/XQitzYpGjY1fMsxzknvPzYro1ZnL2oNy+moqo73L5mSgX0VTk3uvnGd/oGhOGR049Zwa/GGaE6efEBHcc/s+x7pYCjBHIcL1rbOF2bfWsSCMAx2rWHEmgNNKxCYUiYVpgUCobCsw2HtCEtMLGuppQsDZorRChptUSKQnaJuswQk4I3UrbBAIAucy6NgZlNE60gUGYMMTBRAzvNBuL1pNu4VMXlplGcH4u5G7q0b8RIYuQu7gjYTs6PnVhR4s/F9O1JTovIhTRsanv8mKHwSpfIoFoKrGc7n3tvLpS2JmK3H6eOn7PhanXPFc7wlU1gXBW5MxCHZ5gzzIIfC1RRuBIwJiJeS9yPha582OyDdO1Y+r7qCuS4U2+T3Te5H1DCIEJE4C47mTCFT1xn5z3n3jrKVaR8M/JdWLPE5ECzVgm2hd2LScCrA+MY5kcR1u3t6wnCYQgrqPlb2lIhOhdonfLZSai3yP8POM9tT+f634T80BrOx5E7tzWJqHQaG3jni2N0uggwJE2yZcyEhds8i+trNQgPZSxtiYpLV11MRgdoI1ByMlkd1PHbOo7aWMLsEmwgrT27TnCRQuHILSSSKwbuNE+UrogfzHrlrHmlFCukBNJ5rC6pZxbRcoYYVP2c+VjJscxV2FhT9IqmnM5508jaFlMrpEZvFBgMJGbdzhXpHQsRTDRdyuA6vCYFOBMWYO5azxafxNPmELTIogcOpl7TXQsOmfyuP2ESQyQkfI/nFbWwyIUrGRI/4wtOyrcUBGVI0yHM34KLZ+EVShYQSLiD6SUGKOQQqC0RjoeKjR+RMo0SbjGImH6V8AqTTguEabS3Nxjucil0dP9njvWYPtM6CzgoJ0YQViXWAKO0bgiNAwpBY5rE9oaUMomixOhUns6Why1waDxjeVx0TZ00ZYftHw30grYYYMmEgIbrVCiFyE8jCkFhC0VyjieTGCUF9aFDkKvzyhWfvL5/xPkroWfF7nvHX2PjkW86XS/Pdc4MYWHjs75WTzddPh5aMYMfj7MCNPPCWNdXALfWgnc2ITm31o/7OK2W4a2RB2DY4xlxDREGjEtBFpby7MTJWpQviX4BnBiKAMqULhS4Eg5IURHu9OE65S2G4IJmbwg8JGODBNv2YVowqzhQkowBmUs0yqFJUzaaFxhny1CgWNaPMfhGfzfIFqoE8MSTQmtbdZqxwmZGKt0EWI6Ncn/LUwoLuQi4vUnBU5rnYle0CDIKBchreueCeNvIUyqf8VUje7BFZro5wM63PADFeCGTF6uQiOCCbNpypAZvGJhhX9OMjqTwpLSCrTE9yGIeSAMBUpbiuNIlDHEAALIeA6+EMR9G08snZ/TB++XhdxhCQfMOqqbUNAEpQOEtvH/EkFgXJR0SXoOUkXCtCAIDNqLo4xAODZPWRyNlKGF+xcQdCNh2hEgdQBBFiOtK6gWHn5YV9SV4AmDCbJI5xcVpsNkUlKEiepssjSR4547OV10+BGh4uVKmFAR5jgipP05ChvjhVaW3POxdVuvamp00vO7RmbwiyCH/k1Y565UqERLKBdXDe3zgOfaeyLlfyQMGW1sDg8pMa51Q5fCoH3L7whBGH4UrgNh7Z/RvaPPz4dcosIV1UmugCG0sPILP+HXGjoLKgPCJXDipLREhJUNPKNxdRYIQw+QGOmCAa3VRI1oHVpFPc96X06FwZANDUtaKbwoF4U29l9hk04qpZGOpe0CUIGP444ihIs2BQghrOFKpkC76CCG5wkECqMDcByEnD7b9Qxm8L+B56A+M7Cwm4RwBIQlIKLFrY3BV9btUJvQiURY1yNMgBQKFQrMJioHIUBp+5GOiwkUSGfCk9x1JcgwQ2LIlKsgQAe+3QLCfUAbCLSw7XLsNYSJHISYTAYhdJhpEasFtlGXNp6WK4ToaAPP/Uy3bc/g/wqWbYgi8+0nYoivFN4sw27M1RrRFw6i9kffctmiUCNtbC1jY2x5Iz8IyGQD0lm7eQc6zBx6xSv+MudtZFNReI51dMMoa2UNoZS2iixtNewqykZ95W1gYgxtL9jyd3YtCylxPVsSygrvCmE0OqwLijGobIp0OkM60Ah30ovyBYspHSAsz0RMSDwpiDkOjhR4not0JdnAoAIFOsAEvi3Jo2wCPmUmvTb/x2yyDq0rwlipGlBa4/u+FfQF+AHo0OU+R/L9BWDnpgiNLhEd10wmEoxChiZXw/Rz2QrMkeeBAazi1SpXmRCmo3415N4qesYMXlS4akpcdeCXgskn2r+EMGFtdmMrjDjaRkA4Dr4WKCFRSHBs2aMozvp/D9Gqf+41afmmn37ODKaDAWWT3RLS2QDIBkz2pQ7CfUvgK2M9BMJkkFHZJ7jSknolhPW+0AZXOpbeqsDmBVIBOgisctWTGEcy7msCY3llg+VxbII58GTI2wqD49lZGgSg/8c0ewYz+Pnxv03ZfuWgdWCZf6UwWqO0BmkwOQKMddkTtnaq0ahsChO6fwdKoYzBSOuapbS1FIOD1oKoHHygNEpZASEItBWGQq0vxrp/GWWZJo3BOJDRVkoXQuIrS9TsJ4wjVAoC227r7m3wdZgwbUpmRwsT+qJbd/YZvNCQy0BNMlGRMO1nA7tnGCuqBleN7wsHV79Fzi8mnIMSlJ+hr/cy3/3u9/nq1+/jYkcHgbJKhSCcy/9XEBiM9kH7CKPxXAfXsV4lxtja8YGy5nMVeahMvUkIEcV5h28kIrqiA3SgySpDytdWUjLWlmOAIJvh3KkTPPbERs6cb7GJuaaLnX0BImJvjbbvJdCYQKEzGfT4OGgb06yMRroOOIS1TBVa+WggE0UEhPP+F0XUhqgd1sNQ09LcxGOPP8Hho8fBGBw3dJ+2Go5fmDEX2LrfOhTSCRUrkSLV4jnan7NYBMLW8g4TrgmhcSSY0FUyR5cT1u0N19MMXnyIJuY0h+wnjGl9rnnzfEJg+SITWBpIFq3SKH8cdBZtAgKh8QVkjMA4TugiMXHxVe/2i+PK3rjy29Tuu/rIDH4GjHWOUYGPUnpCfe9E6SIEdp82VhFpSZTA97OIMFzK9/3njPEluoU2ZFKp0Bsz9MpEIFyJdC1vm8kG+FpgHGGrzAgIfLvPBr5NvGoMBL6PFNY6bjBoCVoIzP+6EmcGM7gSM27ezwVjGBsZ4PDeXTS2tJLKarRxkF6cpcuXsWbtWgoL8+w2pjXa+HgSVGYUIwznTp/n4NHjeIlirrn+Jmpqq3FdDz+dpbW5iRPHjzE6MEjWaLTjYoyguKiQDevXsnBBA8IYXMchNT7CiaNHuXD+PJl0Cg0UV9Wx4YYbmVVVhRSGzksX2b51C6nREWukNtjYbSOte4zncfPdL2f27DrisRiOMaggwBECVzqh0s5YUjmx18gZXcsLCGEwAUw4s0VCk0QFAZcvX+bw4aPMnTePeQ3z8BIJBBrPdV9Q7IOdZTZZlpx4k2hfDi2v6LC+sCIzNkJTawevufePCbTgC1/4Ijdefx2F+WHSvtAiGeq/r3jW8zt/ozCQDL3d3Rw5fMQK+hqMdMhkFLPnzmPlmrXMnl1NoAWe6+AZ60xyxZiEX4LAx3GYKHUmBFzq6OLkySby6+bQMH8eda61lGalZ19+eIgHv/0tvr5xG/f81u/yjt98PbHIrfeFNvC5O42088BgMMp63kgBIggIUmmOHTzEua4BZi1eyfpVSyhyNcIfpbWpiX2HTuCV1rL+xpvJK8onKQ2u0sRllBxsWr/maRHqKpFCEWRSODEHlcmy8eln+c4PHuL62+7gD37/90kmXKQxtt70hJvqzwuNn02hAp+BwRH27T/CvIYFzJs/n7y8hA0DD8+zsZ06nNHhe0zZoXXoJeU4EKgMUhiGhkfZse0gBfmlrFixnLKyEhACKe3FMloo0w3EDF4giMZGh+MSLuKpHJqIzononfO8j+PVTbDz1Ghlaba0PEXXpQ6OHTvG5aGAhpXXsXz5fBKeR0yCVFbxI6N2h0aI/7mb9wyeV6gM+MNcutzPvmPnuTSSYfGyFaxcuoASBzydwpGaoaERDh45ybn2y2TGx3CE4aUveQnz588nCALi8fjEv9PB9zOAwQ2r2WitGR0Y5MSpU5w5f4FAOLjJJHPnL+Ca667BNZAQmsAfpLenl717jzLQN07WzyK8rFVku4Vcu/5mFi1dQCwhcIWcyC0wgxk8H3A++tGPfnTqwRlYpMdHOHX8KOfPXaCnr5++vkFOnjrD2XON5BcUMWtWDVI6SGEwRuM6AqEy9PV08b3vfI9//9J/sXPPHjZsuJ7Zc+bgeg5+JsPOHXv5xte+zmD/IEMjI/T1D9Lf3082m6F+Tj011dUgDNoP2Ld3D5uefZazZ8/S39dHb18vpy400dXTT2FxIaVlpfT1dXP48GHa21oZ6OtjoLePof5BLra0sW/3Hrbv3Mny9euorq3BdT3cMJbWuaqebK5FemZbe2EhsllGoxImcwqtkKdOnuTf//0LxOJxli9fTjwRt9rhF2TctH2XqGUTMy1K0CcMmADC/AK+0oxmYMGiZdxww3WUl5fhujLMlG2vtbP4KpZvyvf/RRjCGh2K86dO8pX/+A927dyFAXr7B2i/2MnZ8xfo7u0jkSygvKJyos1XiWLhFxMK0DbvgWWsjx09zn33fZe0k2DBoiWUO8q+peOClMQwnD55nN3Hz7Jk7XpuWL3U9sULffmG+SZEJOiF7y60wR8Z5b7/+Apf/tq3oKCcNStXUpR0yA728cyTT/KJf/40Fy5eZuX666msLCPmgFAGJ8zc+ovETEcQwuaxkI6DFIKz585z7kIz9fPmsn7DOjtXdagI+YVdRg2gCIKAc+fO8x//8V+4bpyly5aRSMYn5jBh6MDkPJ7+PUzYXiE0vspapculS3zqk59jcDDF8uXLKC8vRkjr7WDLKE3V4ESY9uAM/o9gR95SR6JM9lMREcuJeXIVRXneEc3TiFYLCSOD/Tzz5GN88fOf58EnNyMLqli1Zjn5eXEk1tNOijAqjZB4h8Ey4ZGJz8+D3K6ZvCbql+gTrazpzp3BT4dPeqSfTU8/y2e+9FUefmIb8fwS1q1cRnFeHEdn6L/cyZNPPMnmbTu53DdMd3c3nR3tXGxvx3VdKioqSCaTwGSSq6nQWuG5HsIYtFJcamll25Yt7N27l5a2NnoHB+no6qb1UifJwhKqy8tJuAJMhqamC3z9q9+g8UIbo2PjDA730XW5k8HBMWrrllFdV008ZtX205Vdm8EM/rcwI0z/FMSSLvMXLOCmW2/jjptv5aV338W8+tkcP36S4ycbWbxiFcWlhbgiQJosEkUmneaBBx7i8SeeItApMkpz212vpaZuNom4i86Mc+rIKU4eu8Db3/N2/uRP/oC7X/ISbrvrJm68+UZqa2cjpMGTGRqP7eO7374ft6iSt73vnbz2ta/hJbfehcqM8ejjj9M3nmDlqlXMqa3gxmvWcuftd/DS21/GXXe+jNvvupUF82q43DfOcFbyxnvfQG3NLNA2+ZgQNguxnBJva3fvHK34DF4wMJBTMseyB0JDdmyQnkutbNm+n7lLV7Nk9SocIYlJx1p7wVq9TBiuECZdCqLMp0F0O1uj3Ob+MmHwZYAxthwLSmN0FiUgKyTagDQaoX0IT7c5BGxCPhEGhRohCLDli4TxMaENDmOtsNIIjG9bGYRF3IRv3XmN45LML+X6m27mzjtvpbyyAjdme8DVwgpQOmNdv0wQZsN1bXCXAR+BHwluxkeQxpAJzxMYGwyLMZAx4IuoTnvYByEm1ogdBGuVMQaD5uK5U+zZsZMV17+ED/79x7jnlXdz8y3XM9p/kc0bH6W1d5xbb7udpL0MZQRGGoLQMuuEiRS0FvhSooRGkkYauHCmhR3b9lJeW8c1160lH20FaSFt5HlmhPMnj3HsdDtLV6zj2pULMGHIh33FkO0VxibwCsNWfGO9A6yLukIJ135HIfCt954W9j0JUMYQRrLZeO0c7tTeP+wuY8I5F7qfGjsnIkR/aRRagMQm0NLaILVEZDPokWGe3byPU82dFFWWMnvBbOoqKxi91M2uPTvZf/wYFZULeMlLX0ZFWRExo3G0QQrrAhhojUKgojmNLasFAmPS9p0RaAVKhBnFw1wDQtg50dLaxP7jZ6icM4dr16/GE8bmwQiyYW4cSyOjbrBxg1MR/R7mr1BpBi538vDjzzJn4TJWrF5JMh6z7tki7Ds0wvigNcbYRGVY524gQBPgaxA4toiMyoDw6bzcwaOPPEFpcSVr16+nqLiMdMrgxQSOI0AoIAPGt+7sSJS2d9V6Urk14agWzveJkct9vZlt4XlGtPc+hyJUEK268MDzLEyH6zp3PhsTeVHYklXpsTQH9u3jiccepau9mURRBQ2rb2TDhtUkPA/XGGIOSGPD3yz5t1bp/6kwnYvnvubqX64+8uuBq9XxOWNrCDd+62mAsbzsvt27eeihR7nY0UmQiFPTMJ/rrl1HWdJBZwbZv2c39/3wMVauvZl3v/3/8eq772TF4vn86Lv/TUfnEPMWriCZn0c8YZPR2f8sjbNjL+0ekEljtI9Sozzwo0d44OEdzF+6nA/85Qd4+UtexpKl9TQ3HmfjU5tYv3I1JYV5CDXOpfaLHNh/nJe86nW87d3v4FUvfxl3vezl3HbXS2iYV0si5BWs4v3XdeRn8MvAjDD9HDCh0U96HgSSmOvgyCzlBXHOnL5A08VhVq69nsrqEjyZIq7H0JkUR06c5b7vPEjDvAXcfPs69h05zste9UfU1tWRFwdH9dJ+/iIHD7Rx2ytup6Z6FknjobwxTEwgRAIlMjhigLPbHmf//tNUL7mRlbespyAeI0mceLaXU6fPcupyHrfedQcl+RCXaWI4OCIPGYuR9Yc5cOAZfvzMQe6590+5+ZqV5Mcd4q6HUQrXcXGizMPRFjZBbJ7nzXkGvzDsKIX/GWGlaKzuw2WEjqaTbNl7gerFa1m8ZhklSRfPgPIDjDSARqosJpshm05x/HwTm3fu4cKZ85w7cpqx4TGKykqQnmuZdQVC+wwOdLBt1w5OHDvG6QOHaW8+Q1o6qIJipHRJoMgM9XLm6El6Lg9BPM6h40c5uG83zSdOMdg3SKywGOIx/PQw3RdO09rSRtb1aG9rYdeunZw5eZ7uphEKysrQeTHigcFk0lxqb2PPwcMcPHme1gtt9A+PkigqwEkKYkISMxKhRrl86RxnLzSS8sfp7+9mz7aDnD1ygksdnYzHCoiV5iONxjMpMMP0drVx6MABTp04y8n9e2k618iJU40cau5iWEFefpKY5yK1maiTajPQRjBgNCYsszLScor9ew8hZq/multuIy8uSOZBfYmi7eQeDranuXbD7XhDfZw83Up7v09ZVQJfZqwrvp9lpHeYg0dP0Tg0SFqP03pqL0d27+P4gXMcPXqOjJ8mUClOXGikubmV8dERiorzKfB8mg7v5/jpSyxeuo7yUo99u7dx5vQp2loHKCguxU3G0SrAJYBsmpHREbbt38u+I4doOXmUxuPHSceKcZNJPMcg9Ci93T0cO3QW3x+nb7CLvYePsu/YYVouXsJziinIy5souaQsn43Rkdt9mI3dhFlrQoF+wgJrQAuNEQaJi4/GSBdHO4ggy3jfZR7ddIqiWfWUFGtkWYJ5DYu5uP8cbR3NFNSUI4JSbrnuemrK8/CUYrCzi0N7D3D05DEOnjzM+bY2RsYVxSUlIAKMUvjZLOfP7KOv5yJBVnL2zAV2H9jPiXOnae/qxknkU1hcjKN9Lpw9zr5zLcxduogNy+cg1Cijo/0cPXGMA4ePMzCcory8HM91LZOaE8c8iehvAUikP0Jf63me2XmKuSs2sGbtUgpjMSSQEVg3cpUF0lxuaeP0yUbGMh7FxYU4+OhgiO6eNvYePo0rk3jaoe3UEY4c3s7Bo3vYs3MvKnBBJGnv7ObshVa6e/rJL3DISxpGhjs5fuQg+/cd5OyZZk6dbuTU2XMcP3mKnp4+HMchFovbjLmhwnXaXWDagzP4/44rqLzt5nBrvuJzxRf5vLt4A2G+FokK4/KlscpJjE0IeaGpgwcffhTjZ3jZTesY9QXJ2qWsWbeCsqRHAo2jM7bUkhMqosKqJBGueMWfA9Off1VnXXX01xfTC9NGW/5ACA0qC8YH49PU0sK3Hn6SzNg4r37pbfRkxyipncP1N91IRdxnpPMcT2/dxuV0EX/6znczpzyPOFkqihK0nTnEzv1tVC+4hYbFtcQ9bb0TEFZZyzgaD42DDEASIFSKseEW7v/xFlJqIX/8rrdRXJqkMO5SVqQIxtrZvHE3i+YvZU7dLFzPp7vjMgcOnGXe2g0sWL6EYinRRmDcOI6QxCWgsqEw/fyvkxn8+mJGmP4pUFqBAdeJI4wGMvR1d7Jt5wEShXXc/tI7yC+Mke/6SJOmu+MSDz66kY7OPv7gd38HxSjbdh/kpa/8bepqq0jGQKe7aTzTwfFjF7nuzmuYO6ca1wiMawiExMNDCvDVGC1njvP0xu0kC6tYcu21FOXnEVdZ2s4eZ+OmHRQ1rOa2O6+nJCmJKx+R1SBjCMfQ03uRHz34AN3DDq//jd9mXm0JSc+WFTDGhOW3cmrKTewyv97bzQsbetJWMSFMC1DDdLY1sWXvBWYvXc3ytUso9iSesbHHgXasN4JKE/hDHNy7hx88spm9+47SdekSTacPc/TIEUSsgOLKcpLJBMJohvq6OLhvB9v2HqDx7AUaT5/i5PEjHG9th5JZzKmuJGkUQ11t/MfnvsCuXYc539nFvoMHaDx3hjOHj3Lq9HmGs5qauhrynICdP3mIb3zvARo7+2lqPMPRgwc5ffwM546exXeTlDfUUhT3EJkUrRfOsXH7DvYfPsKmJ57i9IUmFq9eRW1VJZ4BqQxSjHP4wG6++vXvcPLcOZpa29izbQ9NTWfYdWAHw6aAhQsXURR38PwU3a0tPPrEM/z4iWc5c/Y8LedOsHvbVh588FGOt3cza/Z8GmZXU5SMQZC1br1STqTItr1vrUIaawkdbT3B7j0HoG4VN950LfmeRpLFpPs5fnA/J7sUt910O8PNZ/jaf32fc22drLl+LXl5ceIEMNbPqWOn+NSXv0FXNqB+dhnnD23n5KFjHDt6gQvNnei4Q0dvF319AzSePUtBXoyGBXNJyoCzRw5x9EwXJllKW8tpTp44wIkjRzhy8DSZwGHW3DnkJVw8k6Wns5Mnn9nEo88+y4kzJ+lpaeLU4eMcONOME0swu6aSuONz/NAxvvC5r3Lq7ClaOts5fOwkp04f5+C+fYwMetTV1lFcHEc4NgWSENbCKdFXWmlzhekc6mKETfYlcaxVVkgcIxAqS3aol20HWimurqG8QjJOhrqaepoPnmQ8O0zNvDpa20ZYv34NVVX5jPb3sf3pzRw5eoLDp49x+sIpTpw8wZkzbSTyipnfMBt0wPjwIE88/iN+8pOfcOF8F6fOnOPYieOcOnuabdt3MDKaYfGCBRQlBC2NJ9l/roWa+jncvGYpqbEhtm3bwbe+fT979x8hkVfEimUr8FwntNIJa2O7QumSQ0uNQWRH6L3UwsYdJ5m7bC1rVi+kwLWW6UCG5blMgPJH2bzxae775v04yUqWr1mCKxUmO8LBA/v59Ge/QkVZHXOrazl3fB/bd27k1NlTnD3dwdiYIKug5WIXF7s60TpDbU0FFWUljA4Ns23TFnbu3E1zSyvnGxvZtWcvDz/8CB0XO1i0eAmzZ9eFNWJzlB9TMe3BGfxy8csVDwU26aoRtpa5FKEHBZrRkVEefeJpTp89y8vuuJmFNeXsPnqWvNnLuPbaVeTHHEQQIFFIN8qsLG2W5Zz2/3Lf6NcRzyVM2/h77dsyq2if9PgYjz35NIdONfHaV9xJXVUxhxvbSZbVcN0166iM+1w8e5zHn91JxbxV3HnHdeQBwdgox3ftpLHpJKdbh6hq2MCSZbMpSBoc44bCNAiyGDwUrq1XrTUCn96eRrbvOU1g5nDHS6+ltNglhkEwzED/RQ4caqVq1jwWLZ5Pfr7hUvsl9u47R+2iBSxftoB8k0U6HoFwcZwwbCawdaavpM0zmMH/LmZm109BpJ1vPHOWnc8+y65nnuXb932bVDbLrbfeQFVVHgkPlFGMj6fYsnkLe/ft5fWvfy3zGubiOA6uJ/Cz1odVCHAcj5jrMJ4aY9u2rTz57GNs2v40Rw+eQqeseUdpgxTF1Cxbx8IlC7h87gR7tx+idyRDW9s5nt20DddLcsety0jkQyoAdAKcOLhg1Agd7W20d42zZv0GFi8sJRG3KZqMMc8ZuzKDFw9CJ9rJ/XECNqOSCK1l0glrgALG+Jw/eZDHn3iIbMbwgQ/8JX/1V3/O+//8bZRVFvHww49x9mwjUhp85ZMaH8H1Ytz7m7/DB/7iL/nQxz/MG970RlpaLrFp816GhsfA+ASZcYYGB9i0+Rn27N3HdTfdxF9/8O/44z99KyNj42ze9Azd3ZeIORo/NcLhw6d45PFNzKmfw1984L38+Xveztz6Yr5z/39z/FwbGaOReUmWrr+Od73jPXz8w3/L9RtW4rkOCGziMqORrgYn4FJXJ03n2nno0Y30j6X4y7/5C/7u43/BzS9fz4GDu9m3/TB6TMNIil2b9nDf9zayZN3tvP9DH+GDH/8wr33tKygrzOfm667h9luuo7Q4z+rQc+Nvw362YrRlBhHCWmGDFEZlMdLBdQSecHClRyotSOk4+YkYlWUF1NRVMmdWjJOHd9Dc0U8qI5BGkVEjnG4+Q38my7rV17B20TLufd1v8v6/+Qve8nu/xaKly7jpjjv5+4/9PX/7F3/Jxz78IV77uldTXFxo3a+NpGdwiP2nTiHcBO9+17v5+w99kA3LF/D0U09y5Ng5hIGxgT62P/M0P3zoUW649S4+/pGP8Zd/+UHe/+d/TWZ4iJ889DCHjp6wbtK+z0D/AI8+uZmBMcWb3/x7fPKjH+Xu225iyzMb2b59F+PZgACbWdV2T64QLa7Iej09gzx5dKJUmg7IpMZROqCgpJB58+tx/IDms+dIy4Aly5dQGI8zmh6nd2QQ4wj8VIrAwGvvvZe//bsP8fGPfIw3vepu+ro6eOCBR7k8OIIR4KEZGujjiY2b2LrnIHPmLeCv//LPedfb3sbc2jp279jK0SOHkUJhApvYSwjD5Z5u9u45wP3f/zGeU8if/dk7edMbX0dBQcKGOojQkvtT6aq1/th/o1wHYXZjI0KXeuuPaFQGP5MmO54iq3y0C74xSOmQHR1ntH+Y8bE0MhnnplfezXv++m9497vez+L5q7j+htt469v+lI989AP81d+8g9988+tYsGA+khjl5fX8xm/9EX//sY/x4Y/8DX/11+/jlfe8gkULF7Fu3TrWrl0dlrK5iqjM4NcaOszaHKbOF1HNIYUxisMH9rNv/17mzavn+uuvJ5GXtLXQXQ8DKAHSdWx9dgNghfJcTE8fZvDLgK3/HVWjsZ4G586c5fDhYyxoWMj1128gWRQnm9Zo38Y1az/FQP8wYyM+NVUVZLKC9HiKA1sP8PQTW1m8eAkNDTW0tJ4mG4yEcyeke8YBY+eGETawCMcK2iUl5Uij6Gg7R/P5s4yPDGOUIfA1g8PjDKeydPUP4mvr1aC0IhsEnD1+nK1PP87WLRvZtXU7I33DZMOQKuHEEDOizgyeZ8zMsJ8CKSCVSrF3z16+8O9f4t/+7XNs2bYNKSWzZpXhZ1MYbQj8LCdPnmLfgUMsWLiYe3/jXkrLinEcF9dxUX4Gx7H7iAoUefn51NZUsHP7Vj712U/x0X/+KB96/1/xw//8Fo3trWjj4JBk3pI1vPl3f5+k6/Djb/2A+79zP9/50bd4dsderr3+Ru6+fS0FXlhxIhXyQDLLYN9FHnvkKaRXwx133ElZQfwKa1HkijgjVL8YMTmOIV9imZPwP6v1jbTONkbWcW0pNBVk2L9vN/1D/fz2776JNWsbmF1fQ31DPa9+zStROsvJk2cItML1Amrn1XLzzbezYsVaqmfXUjWniutvvYl162+gr3eci5f6kI7BizkkXMmSJUt4z/vey92vvJvqutmsufY6brvtdhY2NKAz4+ixARJCMat2Hne/7vf4jXt/k/n1c1g2v55Vy2u43NNM58AwYxoMPp6ToKq8lOqKQkoLHBABGWUQWYjhYESAFmmKCotIOkW87O438vtvfTcLFi9g1uxC5i4qJZUeoL2xERkYhi93cbGtCzdZz7pbX0HV3AZKZ5exYu1S5s+vp6erC7RCYmOCPdeWprJucKEgLaygaEttGDBZjBrHEQpNDD8L+IrMWEBzxwCDGY8lDfVUlCepX1TPHTctYaznPBfOX8RkJDKdoqe3m6ON51m64TquX7+cfDdJUWkN5ZVlVM0qoaCwmGRpKcmqKubVVlJXXUlRYSHSkXjCkKdtrPe8lSv53T/8I2ZV11I9q4zFdWX4qWHaLnUxNj5C7+VLNF44z3W3vITbX/4qZtfUUjd3HkvWXctvveaVjPT3cfZCG+lMYJ1HtWH99bfy5j96O2vXrmZWWSHXL2sghuZ84wVGsmkCTGhZNmEotwDhTH4mLBFXI7wsnMhh8kNhGB8fZWhsCDfhsnrdGsb6+nnkgR8xpNMsXrqI4kQSGfcYNwE+hso5s3nNm17PkjXLqKiuZU5tHbdfv5Zr1yxneCxFKpAY4eIS4GjFouWreMPv/TGv/43fYP68uaxdtoJ7XvoyNqxaRcKVIBWuZ5AEjA4NsmfXPr593w+ombWAP3//B7nt1rsoLS3HkRLPlbbOrjahhec5IBTIIIxdBoyDMKGfSdgHhlBH40qrZBkbI+On8QFfgpESxze4ykY/ZgQkCwqoKK+iNK+EuFdIXn4ps2orqamroK6mnIryEjzPA+0hdYKSgjKqK6soLYrR3d3G1i2bmTVrFq973WvxPM/Wb51IGjCDGUSL15YEnYwEMyAUna3NbN2yicLCAl772tdSM28eQkpiiTyyga0JjBBoIVE4GCbpQi5tiNRuMzPvlwyBFXS1wUnEUUFAW1sbDz70CALJm97wBqpn11BUWoQr84g5cRKOg9YaZRxGh7O4QuHoFDu37WH37kO85J43sO7GW0gHo/QPtTOe6sMJa0FPbKLGBaSNug+9mpAu8fwCbrvxegqTiicfeZBD+3ayb+dOHn/4MTZv3UdHzwCjQcC4VujAw3UTlFQVcvrIAf7zM5/jE//4j/zjxz7I1770RU6caWIkExAoq/CdwQyeT8xIU8+BiNFLxuP8xr338oX//C8+/5X/5FOf+Rz5BQV89jP/ztZNB8mkfHp7ennqqafJKsG9974F13MRErKZLIGvbbWWMJlqfmExd9x1K5//wif57/u+xre+8x2+9JUv88q7buYnP7qf7z38GL1Dw0iliSlBcUU1t9/zWpY21LPzmcc5euoEa66/hlVr1uBnsmGSKMAVIHyy/ijnLzRz8Mg5Fi5ax8L59biOCK0ik4L0TEW0FytyBLvc5Rsm2SJHoEYIkDamM6uyjI6M0dR0kb7eQZpazrPx2Wd5+pln2L37ACdOnmFkdICmpguk0ilcVyEI6OnrZ9uOvTy1cSNbtzzDjh3bOHO2kf7eETACpbJks+Nksmnmzp2L6zrE4x6ZIMARDm/+nTfznve8g7WrlxOL25jYwsIK6uevsolHwiQ2OhjASxjS2jBmFCYWQ3ixMEu+RmeGcaS1FselwDGgTRZtfLLZLJ5JUjWrgVhhKYFWGHxicUFeMkHgZzEmixP3iSdd0mlJT0+aVKCRToyUHzCayjJr1izyEnFcKZAYdJikLOpQ6wwXjUCUOMtH6CwqyNDc1MLWrbvYvGkLTz/xND984AkSRbW85TffRGHSgYTHsuXzWdowi4O7tjHQ1QHAieNnaekeZPGKFZQXJMAHg2utBEGarO+jXI9ACFRWY3yFCZOXISSBH5BXVMzClSuJ5cWQMQ8hDYWexvhp60ItBD1dHbQ0N1NcUU0izwNj0EZiDCyYXU1Rfj6Dw2MMDY3gCUkylmROwxKSJWUobTAqS4Is+GnGUmNkjEJB2JYoyVdEV0L2OGRipuVlwlPDlHP2izAExicwAXiSquoqakrLOXviJEPZcUpnVRGXDll8Ak+gHVv+b2A8xbNbd/DYxqfZumULe3dsofXCOU6dOkPv0CiB7xNkUkgBZVW1VM+tJ78oD3RAzPW46/Y7+MB73s0tN16L8VMInWF0ZIAtmzbzja99A4HL77zlD1iyuIFYqMAMDTkTypbnhrGJfYTtLQBhVTYTDKYUTCYCEgZHCOLSwQgrNJswwZtnBK4RKGNQLigh0YEhGcsDY8j6WbSJasLagnp+EIDUVugXgJQM9PezY8cOpJS8+tWvpr5+Np7nEgQKIfSk0DSDGcBEUkODna9GQHpkmB3btnKpq4vrb7iBRYsX47iCrPIJ0OA4BGEiSK1tkkFrkc5Z75NPyKEdM/hlwkxwhzA4MMTuXXvpvNzNrbfdyrIlC5DGkM5k8YMsgZ/BKAXCRUgPRzqMDQ+zY8cODh46wLU33sCyteuReUUk8/JJ5sVIxDxb7vEKTBaz9A1kjINwYkjjcvc9L+OP/vBNjI/08P3v3McXPvcZDh05zoJFq5jTsJC80hKM4yAoYs366/nYP/45X/uvL/Gtr3+L//ra1/mD37uXIwe38tWv/4DTjZ0Iz3qYzmAGzydmhOmfCuveFEskKK+upqquniUrVnLt9deRzWY4uH8v42PjnDt/lpOnzuJ4Cbq7+9m7ey97du2ktaWV8ZEMZ86c48iR01zu6rasoyspKYtTUVZCVXk18xoW8Ntvfi1FpXGOnO+gsb0bKQw9F87zgx8+wpP7j7F2zRI++6mP8o53vhM8eOChB9iyZS+pUd+m2HU1yDSDfZfYd/AEgyNw3Q0bKCstQJKdyMMZCdO2ZMpUAjeDFy4iUW4KL3IFXxJti2FaFy1BO/gqgxQ+46OjpMY1zY3tPPDg9/j+/d/iRw/8kG998/ts3bINL26oqCwNwxCGOXfuFA8//Chf/o9v8u3v3s93vv1NfvDDH3Dq5BlGRlJWGBC27I7rungxj6KSUpQOQyQ8SV5BHoWF+biOxKAwOsCN5aFFDCEFjhQIP0N+UpBKZ/G1RkXZv6PAzWwKTyqktG/oGNAqrE4qbSbuRCwfRBwhPVzHxTUSPa7ASHAkgciQV+mRKJJ0d/Ww6anN7Nyxm63bd7B9zyEKyqu54aabyMuL2bxZE91rs0TnrpQrWD4BXszDD3wOHz7CD3/wMN//9vd5+MePUl27kN/6vT9j3eqVuCJAAyXl5dx91610XjjCxcbjDA4Ncaixh5KahaxZsZAEAs8RGBkDIfEEtu8kZJRvWZAwC7oStua0lA4yFiOQAuFIW2oqm8HBMj+2pwzjw0OMjoyQV1iKjwyVAfZ+jjH4qRTDo2lUEOYOA5xYHpnA3teVAldlSbgOruthZJRAKEDY/Nmhj4ScmImTyoefDq2VTSaLQaMQDngJj3gyyXXrruFVd7+CFWtXkUjEcEPr7Uh6jFSQoaWtjR/+4Id85avf4Dvfu5/7v/9dHvredzh59CjDQyMIx8OJxYl5Lq7jIJ0Y2vGsRT10AMzPy6O4qBDPEyBUqAxN0dbaQlfXZUaHU4yOZK0RZ1ImRmuDEBIR5qCYHsZqZqMPOszaHW4xVr6dONdo60rpELlBhis/CGyWbwVePIGSkkAIkB6ZjI/jguPaCg22JdIK7RKbY0H6ILKMjwxx5vQ5Oi52c889r+KGG28I3bvtutV6Rtk6g1xYQddgUMZWh9fKp6PjIvv27mNkdBSkw5Fjx9i+bTsnT5+iu7ub5qZmDhw5R1tHP9pIHNdBG0L6MCndREq4GXnn+Yacqrq0Rx2bSyfwAwaGhtmxczeDQ6OkMxn27N7J7j0H2HfgOCMjg/R2dXD06BEaL7SCjJHJpjh57Ci7d+zm2uuuZcNt15MsSqDTPoFyqK6ZQ8xL4ITCs00EpsNRd+w+IbAJIwAZzydZmM9tt67jgx98Hx/58Af5x0/+E3/yp2+nrLyG3sFhKqorcWMOaBdHxCktS1JdWcqsqjpm18/ltjtuYMniOo4da6SlrZdUGGY5gxk8n5gRprGMQ/RRSqGUmqjzKgFta6wghAPSoaKqksLCfFLjI2g/Q1dnF5d7+jhw6Dif/vRn+Nu/+Rv++Z/+kR/e/yP6evr41n9/ky996cscP3YsJGZhrJwAF4c8PCprS/ETAZmMtPFzJsOJbds4dewMS66/mVtfcTsLF9Zz03U38ro3vILx7CgP/3gnfR0+IgvGTaEyvVy+cI7HHtvF6mvvon5uHflxBx1krxpoKeWMm/eLEnYu2tlpobNZpOPgOBJHCkwY4kYofCIEQgoSefkUl5Szas1a3v+B9/NP/79/4qMf/Qif+PSn+fS//guf+9xn+ZM//gMSsRhDg/08+ujDfPe73+P1r389f//3H+EfP/HPfPhjH+OOO26nsqISP5tBGo1rTChICJRSONIKgI7roLQh69vSWWQzOI5jLWVYQdky7wFSarQOcD2JIxwrUInQncN1cCUEgb1PNhsK60IgcXEclyDQBOE6tS1JEFcFOMaDuISEZlxdZiTdyfhQL/u3bOEzn/hn/vEf/pmTZ9p44+/8EdfdsJq4Z5PNBpFEGdKH6SCFwBESLeMIL87dd9/Cxz/+l/zjpz7BJz71Sf7s7X/KkmULSCY8YjEXN54kUTyLa9avo5g+LjUdpqmtjc2H22hYtIGGqkrynQAcRVY4KCORGhxhcKTBGIXjCAKt7LtqiR8o8OJhSSgf1w05FqzbsRMW4zZaU1JaQkFBAWOpVBhTL2xvSRgdGmJocJCigiISiSRoY5O2OB6uZ5PUKBXgYHAxCClQ2hAYhWMMjlaYwOdSx0UaG5vp6h4kqzQKgzKhRSuasyEnJyYOgCPCWF0TMDjURywvRllFKXEvzto163j3+97LjTfdhIh7FJUUkUjG6O3voX+wj4cf/THf+u63efkr7+YjH/kQH//4P/DXf/dhXn3PPRQVFlprq1G4UhIEAbguriNRisi0bBlMYe3FRoNSmoqKCt7ylt/mPe95HyPDY3z7vu/R2jRk9wMBUhocx+p7MGZCIL0aVs2AdHA9j0AFGB2ESZ1sE4KMQVuu0iZykw5+NkMs7oUKCjtcqVRqQuC1QoiLcONoAel0H8k8UMpgQougMeBKgVJjGIbwzSgd7W088sgz1NU0cOedd1BcnB9OdYOUAt+35Y5mMIMJOA5GG5uUFQiUprenj1Q2Q3NrC5//whf42w/9HR/76Mf5xje/y4lDJ9nx9Ea+/MUvsvGpZxgbT2GMVfzZjB6Rej/32/R0dgbPFwyR/wqOVbpd6uoi6we0trXz9a9/jY995O/40Ic/zje/+UMO79vBnh2b+Ny/fY6NG7cTy8snnR2m6ex5XnL7S7ntjlvJK45BTNHY2EZf/zhlpbXkxYvDPCc+gRomnemnvamZpsbLjKQCDOCEGd7BQ0qXktICGuprmDt/HvXz5lFUUMbFjh4CbaiurSGRTIQshLTvoCzNko5DfjJBXjKJUgYVaBw35CNmMIPnETPSVIhImHYcZ4IpMlpjtEZ60orVboyR8TTnzp8n8DOsWbWCkqICfuPe3+CBBx/i4Uee4Mc//jGPPf4o9933Dd721rfRMH8BH/q7D/LP//QP3HbrzaEVWYLNpYSrBOnBMbYdOsCwa7h27Rrmzq7FGM3Q5W4Guy8znh1H5OcRKA2+wug0gyODSF1MAo+4gECkGBi8zPaNmxgeFdx+9z1UVZcghSbmxq31JLRKR4JI9JnBiw8R62EQyEQChJxww3KFQRiN1j7aGBvHS4xYLEbd7CoQikuXeikoLGXWrGqqqksoLS2ktLSMksICBIbBoWH6+wapq6vjmmvWUV9fR1FxKdmxcVLjo4wO95GMWeWSli7G8WySGWEFhEBp0BrHEcTiMcuMSQ8nkYcXc3GlzZRv8zBJlJHEY4D2kcbH0WCMAm0IMgEZXyMFeA7E4+G7K4nABVyMBDd05wq0hiCO6+fhp7OMBimGgzE6By/SP3yR19x9J//95c/w8He/w4Pfe5TPf/Er3P6ym0jmxwnsEsNzY3ZtCImQV6YviVaMRCCNQ8rEEIlCSouSVFVUUDlrFrOqqykssnHNwoRSjXAwheXU1M3mjg0LObhnE1v2HCRIzKJ+3hLK85I4OoMxPoF0McRIJJMInaG/6yJ5GsZSAV48YfsTF6kdlJ9BCki6jq0lHtha3lllEI5rbQCuS2FZOclkHru2buFyVy8gMdohGFecPHOOyspZrF6xnIrycrKBJhtodJDFBAZXSKTrIR0PYzRaKWKehycda2XVAe2NF/jUJ/6J173u9Xz5P79GZ3c/yoAKbF1a65Yezd5JaK1R2lq80AF+kMbENNK1tZS9RJzCwkKSXsxmEo47OK5E+Rm6uzvp6umkvLSEdWtXMmd2HUVFJWSVoOtyLwJBMp5AawccD+G4KD9LEPhIB4wTWZWVjXmWHtJLIKSHDqCmuo43vuFNvPs97+ZyVycf+vDHOHO6hdR4GgA/sO6rCKtImh4CYSTaNzYkwZOh8kihsvaMeFxYhlIIlHLIyy8iLz+PkaEBjAY/m6HlwlmOnzhJT98A46kM2FBtlNZ4eQlKK/LpvtxKJjVsrffaSuD2XTVGZujpvsj3f3A/eckyXvLSV1FeXjkRI53J+KRSGWIx98rmz+DXHAL8ACkknushgFg8wboN1/CPn/gkjzzyOD9++FF++MBDfPf+H/C3H/wbbr3zZu59y718+d8/zR///r0U5yfIZrJhSMQkzzH514wg/XxDXNHf2D4Pc+kYozFCctOtt/Gvn/0cDz/6GPf/4If84Aff40c/epiPfvxfuOm263nda+7my5/9d/7k/72DhsVLuP2Om8hPxqmpmAWOQcsso+kBtu7YTUlpNStXLCIvkSBQGmOyuM44P/jRN/nd3/193vq297Ft20myoRMa0u7lYDCOj3EMmVSKkcFB9u7ez+FDJ3npy17CquVLyYvFEEJjhEKaJMKNgzBkgywtrZ0cO36etWsXM79hFjFpQ5lmMIPnEzPCdChckiNQG2PwfZ+R4WHOnT7D4UNHOHr0JAcPHeGJpzZy8vQpVq5cwa0330B+MoYrHYqKSykuLaGsvIiCgnzKK8uora0jm1EUFRVSXJRHMhFHK01X20WOHTnM4cOHObx/Pzs3beWBx5+msr6BO65ZTWlRHC0MdfPqqSjK5/DOLTyy6Rn2nzjH3p27efyxx/AV3HjdTZQWxUnENGmd4tzZRo4fPsu6tdez/rplxPOtxdDoyEQ5g18d5MSkak0Q+Bil6Whv58TRYxw/eoijB/Zw+PB+2tu6yWZdkkXFrFq7lMqqUp7euIMtW/dy6NBhDh3ewamzxzhz+gJDg6MIIyhMlpIfL+By5yV2bNvGwf1H2LNtHw8/8DAnjh8hNT6EJ0EHBl94ZAJFKp2BcDuMCVu30miNFA5aOGSEx2A6wM+Ok3QDRGjRduIJApNAa1t12MWHIENnWwvHj5/g2KkLdHYPMdA7wMkT5zl47CRNzW2Mj/pg4igFaZUBnSWGwZEemARGxRHSkEh6xLwEsZiNn+7r6aat6RwXW5voaO3izOlTnDh1ipb2LhyrH0AZq/U22rqRR3LgJEMSSjK4+LKQNA5CZ4l5VtsfDY2MtB6h4gMRI7+8glVL5tHW2sY3v/cga667gZXL60l6EqGsXV0AODGq6upYsWw+7RdOsenZJzhx6gT79h+krf0SqUAhvBjC8yDwiQuDNNaV3ngxAidBYAwOCsd1qaiq5qabbyE1MsDDDzzKjt27OLB/P7t2bGPf4WMsWbGChnnVCAlOPIECHKFwtXU9NhoyxirltArw/QBpQku1UahMitTwKM1NLezdd4D2SwMgQHoSrQMrLJPL0dntx4QxlVbYNggHHE+Gc1qELtmCmJFIrfAJQPk4WlGQl6CwMJ/hkQH27trNyaPH2LV9J7t37uX0+WbS42nIpnGELRmlkLgCkqFF2RiBkUBYnxQc0BKdBddNohUkk0luvOF67rnnpbQ2n+WrX/0q+/YfRimDIyc9F57L08dOAZt8SYXv2dxygRMnDnHi5CEOHTjAnr37OHX6LKMjGeLJYuoXLKR+wTxaGps4uO8Qhw8cYPOWLew8uA/lOnhujJiQeEIgpEthSQkvu/suMqlhdm7fyd5dhzly5AwtzW2kxscRwjA6YmMbj586Q4DD2GiaI0eOcODAAQ4fPkRfXw+e56HUc7mrz+DXFcJ17FoxBm0Mxghi+QWUVs6irLKKgvxC8pL5VFTOorSsgpjrUJwfpzjhILS1PCdCL4tcZmSGLfkl4squzzkYKvbCWuIFhSVUzaqlsrKSqsoySkpKSBYUk5+fT0EyTnFhHvn5SfLzCrn1tltZsnABjz/8MNu3bePQgf08/dSTdHRe5rbbb2fJkjqCQOO5LsYojMnQ03OJjo5Ozp5tpP1iB64IhXmtMcZlfGSU8xdOs//gAfYeOMxPHn2URx99grLSCn7nLfdSkIhb3043xdDgZY4ebeLAkZMcPHaAPdu38cST2xgaFdzzyltZ2DDLZin/mXktZjCD/2+YqTOdA2NsgiOAbDbDxbYWHvzh/Xz3Ow/y2JNPs3vfLjp7utiw/hpe/7rXMaduFjFPIByFEC7GxJBhuRytx2i60ExTaw833HoXc+fVkXQhMzTAEw89wve+932e3PIMGx9/kqYzF1hxwzW84bfezMp5C0jEHYTMUlFVQklhCacutLFxzx4O7NvLgaefYtzPcvOdr+Le17+astIYTizL0Egnp/afpL8j4JZXvp65K+pxPE1cO7jGmXSZncGLFHbTE4BBooXN3S0BoUbp7uxg+96znLjQxL4D+9jx1CPs2PQMu/cepKs3S23tbKrKE5TPKqFu9lzOtQ3zwEOP8uTjD7F72+Ps3rmXlrY+Fi1cSGF+HiWFZSQ9j+PHj7Pr4FF2bN1Cx4VGrlm3jtKaOcRLyli/bCF1VSWMDg1x9nwrReXVLF2zhpKSfDzC+F5lUI5DVghUkKW/o5OLAykWrlzJ8oXVOKGI1Xy+nTNtXay/+RZWza4m23uZjY8/wXd/8AMeePhhutov0nZ5gJMXWtm1Yyup4VEWNCygOD/OpfZOOruHqF8817pVGwcP6Ors5GxnB9U1NaxZvJCKIkV3+wBPPNnE8bNn2bLjaXZv3cazTz/Otp2baLw0SF39AiqKC63ziBBhn4dlsKJ8WobQ2gxoycVLXRw710hFbS3XrF9NMuYihY0bdgS2Rr0AIzy0MDgiwIwOcqa1jyOtw/zhO9/Lkvoyil2F1AIhY2BASk1eXpLyolLONJ7m6c1Pc2D3QZ5+ehO+1sxumEuJB91NjTT1pFmwYiWrFtYQd7JIrWluusyFrgHmL13GyqVzScYdampmI7wkP3nqSbZufppDO3dxcOduXvqa13LXK+6mfm4NmdQQw/3DnL/QScOiBlasXERR0sPVGXovd3PqdCeVc+ex7sYN5McEcZWxNbmVprd3gGe37qGobBa33fVS6udUIBA4AlujdqJSugkTcAk0hgCNh4RMPz3dLTT2K2rrF7Jifj3GddFI4gEIM8bAaD9HTrZRWVHKjdeupqqohHNnzrH/4CG2bt5MW3MjixYvpaRiHr7xuOWW9cyeVU52PM25xtNkAs3yFddQXTULjLK1VaWDEdKupyBL/+XLNHaPUT6rjvXLF1NSVERpaQnpTJbN2zaR8tOsWL6c0pJCpBAYpTBGI69w9Z5QuxAocFWKkd7L7DhwgcMnT3H44DZ2PvssWzdvZvvBfQz0D1FTWcOsqkpKikoQrsveo6d58umNnDy8h6qiJDfcdDNDGZf1195CQ0MdBZ6DIzSuJ5lTP5e+7l527d7PU89sYevWnfT0dDF3bg3lpcX09/XzwIOPceTYGRqbLnLk2Ak2bd7C1i1b2b17D67rsXjxEpIJ6wEw+QZTMO3BGfzqwnrWaA1KODhS2qhn41vXIulhpIt0HDwMvR0tnG/pIL98NhvWLKeiIEFMmjB3s80xQChW2/rsk99mJtcvARNdbKVrra3XkOfFAUnWD9AGHEcgUQjHpbt/gAuNjVSUV3Ld+muIuS6JRJyKykqqyqp47LHH2b57O5s2P0tTUwuvf9293HjH7ZRVlSCNwtNZHCTazdLW2kZPV5bS6rncdc/LmD+3kpgIcAwYIzl+/Cj33f89fvTIw2zfsoPxoXHuuuvlvORld1M/fw6uI3CVwh+7xJ6du/j2tx/nocef4pktj3N83x5m1cznLX/4p2y4bi2F8RhxIXGiDMAzmMHzBGGeKyDw1wiRNRomrdRaK5Q/xlB/H6MjDsSSBGQQrk91ZTWek4cEAn8UL6EwxFFBAk8adDaFGxtmPKXoGZDIwjJKS+IkjI/MZhjrH2RgcIRMwsVzkySUQ6I0j0RRAdJItFTAEPFsHzooZGAgTovy8USW8swoOu4SL5pFZbKIjPYhliJmRsn0KLIDSZKzixktFGgRkByT5EsPGRMTZU1n8GKEzZhs/aJdsmESD88YZNBL1h/lcn8hw8LDSEXReDeu1owrFyd/FrNm5ZMUGQQplJFcHo/T0T1IcZ6gxM0wMjyGmyynqrKcmJCIQGD8Ubp6L5LyChEKEkGW8uoyRgJBr3apyUtQ5PgYEdDdMYAXLyFZVYgjDR5pZEaBk8T3YowKQ1ynCXq6SCkPr7yKfE8g9TguHtlR6BoegfIiapMCNz3GaP8gw0aSAeTYCLGiCsbdBOnUKAVOguriMhJxn4yfovPyGE5BHmUVxcS0xDMB2ewIXZkM8VgR5VJy/uCDfP7zX6M7tY4/eu//Y/bcPKricbKj7ew+uJ2//swPeOOb/5Q/+e3Xs7CugoTQoAOEtGU8Qk2GrS2ttQ3ZCARplWU4GAcXkvn5CCNIyrhlDQ3YAFaNdhwyJktCp2g9dowv/teDNPt5vP/jf8fi6nxKjcINHOsSLAIybhoPg0wbekcHGfQz+EEcR7kUF+eTV5xPoUmhBrvp90tQhYVUFSgcxkFL0iMxhsYDZFGSkjwXzx+FQOPLGKcvdYPUlCpN3DckauuJF8aQGBzG8NOCnk6fWJFLUVkejgDHjKMDn9EuQSaZxCuLU+gYYsEIqCwq0Gx85Gne++FPsubGO3jPX/0l61fOwRPgGBUK0w7SpjKyjvJaEgiDEhrPgAi6UZnLNI6VUVpWQ5nnMoa1IJekNMQGGQ76SKWr+P+z99/hdl3XeS/8G3POtfbep6L3wgaisXeKFCmJoiSry5Jsq8Ryke2bOOXLTfsSJ/7s3Nxcx45THHfFtqxKNXawgiQaAaKDBAiCBAmA6P0AOGXvvdacc9w/5toHB6QUW99j2lR0XjyLPLutMuuo7yi1ZMoEiw3KyLk2I82QQsZ9m6kzZ1J4x+mzgWnTa2TGYkNgaHg/zcLTP+EiJMtSLWkiSgqvdkZxvsnQqcOcYAKNid1MySxOI9ELg8MFp84Ok/fU6e/tIXcG0UBmDYi+wTs9hogtRlwYJJanOXq6i0EsTk/T8ApqGRRo1PuZ1j+Bem6Q2KZsNjk14hgq29hwhkl9Qq2rlwMnIpOmTKMnS8oLpoWaAgmG5lDBwNlzRJfT9B4B5syYRu4MGgOnTp5i4OwweaOX0gdELJkzBO/p7e1hyuQJoIIxY4xHvMGjNS6U/pghQlkSrcWLBRUkFGRSAELAMUINBbqMJw4f4+zZFmHCLHq6amQq5FIi0Se9PMvRVCwJqWaJVOvBeLDkW4jOHB6dv4kiUkc5LVLJshQplPY5o028CIMFDA21EY1MntBP7iwOKJvDQODk8ZN4Mlyecfr0CS67dCFt6yhyR7e0aXiPBEdpzuKDZ2igm4EC6jN6mFRT6rHEtD0iGW0Kjg+dZODsEBO7J2KbkWnTZmJyRysVuaAuEaPHaQ6WnDhuOZcZ8rxkUtmiu38apq+fZlHQV6thR8PIxxeucbx1GFemK2X6jX8nUpkCVAlFhqk5SlJJGiOCUZe8UxQYUxI0Q2Oe6MWkIOoZxDTw0sNIEKwB65vkpce6HIxhRDzWNNCWx0nEOGgZRys06XJNcjOEKXvAT2Q4t6hVuqJSVDluWRGJtYg3beqxQNo9xHYO3ZGz7hxtyegv6tS9RWqj1QjG8SOJiihESdZjiYAhUzB6Bo1topnB2SAYA31hBBGLSo63gtGI9W2IHnUZg9Ei1pCJxbSaiZDJWjQU5LaBeAEK1JUEWwcv2KCIaVM6x7BkdCu4WIKWiEl5qW2TwoxzmtggqG1QWkfLGFwMNGJBlIyRKDRcyut2kmFbjjITmpnSVTRxsQ0o3nXTlowuImUUBkMkyy2ZCrVSMLFA80gwOa3YxhlDbFsy64mmSbQ5Ljawg571T3yN3/iPv8vSO/4Rf/9f/wITpzq6C48tDrF+/RN85p/+Hu/71C/xj7/4WS6bPY2GKKYyWiRKZK1SzCplOgp4Q2mFETy5bRFEMKZGTpY2cSXV+5ZINFDQpjhzmqe+tYzvLd/GzR//FB/+yTuY0hBqMZKFWmp74xnO2ohAVxFQE/DOMVjWaOQ5sYQokS6a2PYgWptEWxy5GUa0BTEj+l7UWQogs4oNLYwPYBwjNieI0BU9xkeKrEYAJLSoOY/GHA05Kh6bJYZuKBKRzEiNIofCQR5aZLHJuSOHOPza6zy9ZhOPPbuNz3zxV3nvB++gq5ZhValZj0oiX7RoGssdZRolGiWLEYpjSDbCKWaT2S66VBkEQJjYDER3Fp+XeD8ZZwNCExsjEh2YLgBCDAST4yM4K1UfRhwO5CwxeKCPQh3Ggaiv+LVdMk6VBdZ6RmyDdoAe2ogvsFkDJaNQ8KT8fVHFSlIBQihxzlXCakdNSCKrRsUUg5h4Bp/NoMgcGW2cL0EdpcsQslSKOkaMlGDBx8Qun7mSyBCIpS39SARpQ26V6Nqpn7xDguIl4E3EOEdQyE0NgqBesc7iNaBGaXtPLatjJN2fVtEWKXW74tToLD9jpAQdE6ExCnnTy9E3OjVe/0pRVrWaa2/8YBx/t4gQAgJSEccAAP/0SURBVCqWUgzRg6XEaQkGAhmly1CFnIANg8RoaLkeDEKNiKGEijdBTE4US6yYpceV6b8ldCrvvUGZTmH7aY0XMakCRlIOMJQEE2mrwUiGBsUZRWPARZd6UEZQAxoaRAzDw0P09jRoilI4Q5cO4wrFai9kLTAQiwZtCyMukGuLbgzG27RvZYGWaRHJyDXHlYqoIcRIO4vkRnB4kEEIDmEC50xS/rvbbWKWUTiHHynpyi1OfMrdknEBeBxvHX68wrzfaDb4fpJC9beIoJL8NEETOzEoVpJYacSSZA/FSCpBkjaFFCquaommRhCDEMltoGbAaG20XE8pASOWXCzWKkoLdYkh2EmOoYHQADGoaKpXjSFWYZPSYWEUwWoSxlQEMsWaxHRcw6Zw1WR0HMePLFKxWUFASiAgajBqEzu8plJKYpTMKM5YojiikZStqYAxaFUf0pGYoo0xqHWItTgEZ91o4B2SCuCK6ZTNqcrsmPR58tcmlmKRxNJqjOCMwRmbUh/SD6Ai8TIIxlicTSG1GtNcSvcBIh226EQYhXGIMVjAWCXLLEaSGGZVENdJZhZEI04MmUskgsZkSZL34MRw4MBeVj27HldvcNGlM6mZQDE0xKGDh3j2uU28evwMd939Pm68agldWYaJkkJ4EVQqBVDO89AikmoaucSWnhmDkWqixZjmqERibKMEhobOcubsMKtWrWflqueYMXc+P/HBu5k/oz8JoYCoS9ExVsGkdcWpIkYxxoGtY4DMgBDIrEVMRTBoUq+kckg5xuQgSTlKBN8xCUtVWDMdX4QRghisVZxJLOUp891UbNWpv9M/i5jz5ZZMbDE8dIYVy1fx8KMrONfyfPEf/DLXXHc1fb3dOITcSRKWJSKiY5Yhg2hqzZQeI2AFsQ5jG4nwqNLcMhEyIEoiVXO2DppCxY3JRuuepnMkUjFrkhFToArzqzxhNsNIamdTKcJC+r4AommMiqRxV7MGU41FTCKks7aqyVAx54uk2tOjb8CoUJoEWMEYg2Q52Bwk/d5QJemLwWBS6RgrqDUp7FzTPakRPAaVDIvBktoluirSVlPSh4ggWUbEgDiMcSkaQDppC5X33BiccViSB1oVXIeQUqsxMFaZrhArpXm0yhejS1MyGpD2REErY3NqnB+49Va/SEeVqy0XfmMcf9c4TxiR5klnPlHJJmm+pfU9ySliszQftXqvCu0Gk6qiSEr4qE7bSVga7/e3ECpp/l7Ywh0i2pSaJJwn60pl6VO/iKZ93UgK13eVDJDSB6XqU5e8xo1U9lJJVSicCM5kabdJC1w6r0n7Y10Ug0kGURXUCkZCJU+bVFZLwDjB2JBKvapJ8g05RhJhojNp7wjVOtYwgjExKfqdex3HON4i/Hh5pisn0yhG/z5PuNJpDCWR1Wi1qDgiKa4TQKqJnGCJKS9SfeWFyoiSUwJBFEsLh8dGB2U9XdhBYQrAkAcHUqJmGC8AXdiYJ++DKEhBlECQxPCbhO4kBCrVi/TH+bvvCD2xEojG96kfbXTkTQmotCovdQNRV72vYAqUslKu65QIUSJ5iBilCtOTNJ5ThB7RwYgBp1DvDOgx40Q7mkLnHghjpGiSwiCJ4G7s29Axg6dc2VAJ21QK3Hk1I0E6oWZyXnZL30i7fwrFvXCpuuA2xtyzIGi0o+2iMWJQzp48wtNPLecvv/INTpw+TZbVKDz4EJg2ezaf/9Vf4bobb2TmhAlkMXn9RSqdyHg0FThKeb8qKXe92ug7vluqZ4kaMCYRc0UtOXniKI8//gRf/cYDtEvDu9/5Tj7+8Y+zcNECciep/nZWaUaSzq2SHsxockOqCG0aCGAJGC0x6khWiBYqSpAujFb3kk4AEqqG7bR6RKtrpCZNZHHn2w8kPfT5N6DyHKbzRhQfC5xt4svAwf0DHDt6lv4J/VyyYBbWZljjkKpj1BTJACRJIYfKA9L5nNRXIgHokJVZDClfWpTzxXSkGlgVhA4t/NhzjRleFwiQWh3JSNIZa8lQIqjKeUVRYlrPq7ZTY6ra1AlJ2OxcJ1btXBWOxoIm4VJJ4yjdf1I1Ozd0wdLdUZxT9gAKZD4iKN5a2qJYVepVaa5gDE0RMiK12Lm2IYrBd4RgKrsMIVmuACqvoFaGhA7GPNr3hY7ZKc0b5ns0HT9XUp4silTl8tTY0d91eulN/dG5N6jG3XiO49sHOir7nF/leEMvpsGQ+jZU3+t4Asca0Do4b2B582fjeCswdv6en4Odvql6YcycJo55LaQJL/58h+no5viG753/uPNBWivkghOmtzxQIppVlkFQE8E0q7S2GqK18xK6jGA0IppTGAcIuQqEdCutatuvAcYXqFG8MRgs7oKxO45x/M3ix0uZfuOTjq7i5z/o/JUWnjThLZoE2hQIWRFApYLzVJ+Lhio30gM5kZxSkielo0ybMcq0OihNgWDIggPjiWaEgFbKdJaUaSLYAhVPrM7bUabPh+v8NR5tfMf60YZWh4SkWBFAG/AGZRoKBIdWyrSKkoWAUSXaDF95sVyZTqjOMFJ5yeqjS8F5YX+skprQmRXpu4oZVco6++2bUCkGoTqXVOLyhad+4w/Hfppm4w+DGGxFKJiEe1+2IJQEIvv37WPw3BDDzQIlw7gcyTMWXXsFNssQL9SB3KR2SDKDHxUY0/xLzx3HTMLRrVpTTWghEqLHmEDwBQcOHOTg0XN09Uxh3pxZTJrQhyHltSZFsnOuFBXTubgQgaRMF9QBcASMFkkIUZeED1ECXWkodPpCQjq0yvsGVMp0j+Qg6T6r3hs90p28ofPHdFFqi4AyQkQxsacSqhSxHaOjQ6Kkb5uyUvZsR8X7foOruukwRjg/b3p5S9DxnkJq92qwpjuLY5Q8i16Qc9e5v1EVv3q+8+KqVMp09fJNzTn68oKhn57cV97czEdEwFtDQZq7SZlWghFaIjjlvDJtU7h6qO7LAEZjpUx3Ng1LqJTVN8/DH4zqCdFKQZdO01Uer1gZzM4r0+lDNeZNQvz5a1YnGVem3+Y470i4YLi+AanLqkHxVs7bcfzQGDNdL8AFr8d2bucHHYim9W3UAnh+j7oA32et+8FIyjSaQ6yMLxITDwQhvd9RpgWQlNYDGYU4EENeieYq0Kqq+iVluiQa8AYMDvfXv6lxjOOHxo+XMj26MvzVk+pCwUGrnJ4kdCqWULH1Mqpsh2pGe6BGxOFHlek2Fo+JGfg8ncNBKSUWSR5rEwjSrtT1HKsuycGE5HGUkNiAqY0KQH/1U4zjfxuM7oRVsiQhlX/StHsIHWW6BDJUczyCCmSxTHWnTY0gIKopVxPAOpqSwrdq2lGqxghBbxpknVmRRv+oMk2116Y3L0R1jtEQ0R96/L5xV/+rEaMhhJjCVx2jJaOwkmqdRk2hwS4nRiUKtKpr1CR5pfHV3VrAREKlKJkqPBnkQk8lndtUQgg4J0CkLJq4zBCj4qnj1eJSRHMKBzeVd2D0XJ0+6AgqEZUCFcFrLV1LAvYNynQUIVJPvx4dLyGlBWgOVY4i0qqU6UblLQ5VWPfoU4zB92/3EBSIGNMkxAixCyMZMSouD4CiVdieSATjzytJ8H2uMxZvVKzeQowq06k/O08rdATGMc9fhbtfMP6rfaB6VR2Jdd9o5SbpjJMxY+WClxdswcknH0SICJlPYdjBQoFiFGoxjYlgoC1gVahFrfr6fNRUUmzHKNNjVN1QhTzaC2/rf4n0ZOn/rvOoen6YduY3nVWhkoDVJHNNevWGZ++cZKwy3UmVGMfbCGPnZEJn1P7gnnqL5+44fmhoZ4/+wZ12Hp2wmg6EMb3OmP4d+x4Xenn+SvwgZbpyGFADzc6PPmlhNYI6ipRPQB4rz7QkHg8FcsCEQBStlOmUxjaOcbxV+DFb7SoT1qio8b+GjDbQWDEiofNOerfzzZQP0pEWpBJWUnZQVdh0zGeVCgLSET86ReurbhmVOtIVzv9mHD92GB0LnRdp47ngbbhAPDZ0vJOVRbn60wBYD7asBN8kYo+GqdJxM19w4jHojMSxisSYm/kBv+386gd8/DcGJV3IZCbVjA4RHwMqELxP89AIhS9ptdujSkAmgokR430iGKOaskJ1x7ZjOrugjTtHB1LlnqMGjSkfLc1rS1mmNrf2/C8Uqcpgnm/X8y3V+Y4lqn3DtUx6Wu0oSWPvooJ2VqqxHZX6ORk/Omsi32d16ax5bz46fRgVnM1w7rwXdmx1hOqd6j47od2d63RW0LEH3+d7byXGXBeSb1p8pZiSUhhEqonUub8LhUytWjAghE7oP3I+KkA8VB7nsa0yCqGan1W/EBGqiIHRUI9k0B1V96vIBUNMBGujOann0XmVfnP+Gf/GJ9+bHmrsOL5wnvzAS0uVLjKe1/gjg84aMI4fEYxG3Hy/OTsW1XohAUx1jEbcdGZyZ55Wq5/4ZLSVzp7x14VJaUq8cTAlssrzrzqHGZWR047X2bvS70ejYi74FdU+N45xvHX4sdq5tMq71CqMMDHKjn445kjkKSnor1pYxkhCbxSKzr/uCBFjiTWo3qvCFcesQ6bjKRr9bVYd1bujYTWdzy/cuqpbfcO9nz86Mt/Yex3Hjy7O92VS6i58t5M3OiYsVisPJWnoCG/0WCZh3VRDDQIqMYU1/8CxlcZhZ3YkpHnVyWr+QeNNRufVWOXpB32b6rPOd8bOqL/6KEtPu0j5XdZZTEWyZmyl9BmHy3NcliFVGSAL5MZijSSlRgIxFERfXnDu0SZ8461Wj6KqlKUSAiAWY3NilWOduwxnBO89URVjE4OqmLRunD/GnpikcGNGc1VHv6EpFFlVKgozqvZNk7/TgmNbe7SXlGqRiFUse+cL1eIx+u3EJJ/WzHQvibTGVCzQ6evmPK9ZQvUoY099/hrpzGktTlUSOpce+523HJ3mHr1e5SmhPP+8IqjE9FnstFVnLJz/d340d+aGAin1Ij1teudNI3/02uc/TQp16mitzmg7CvaY6yTBMZ37fIOn0144Ws9fqHOVsZ/88OgYccbebzpr57x//XOPHfcXzKpxvE1w4XrP6LpzwVH1+Ju+O46/eyhjVp4L3z5/dFaGdKQ1uVqbO8vKhT8Y82YVmTlWuf1rQ84v/KNLgCQl+00GVYuOuqg6a07nmVLBtZRUotW6fV4WH8c43kq8caT+b43zQmG1Brzh0/MelYiqR4horHLNkCRHdYQo1aqkAEn57mwkWhEIaUjhdQpEi+CIHeeMRFRiYl9Vg8aIRq2cYYkEJ91jrMJ5kygVY7puKmOQhPZOOZN0/1XNwDceY7479hjHjxiEUZIkVVONYo9Gj2oV56RJKVNNIaGmGrNaGXjSeNRqc0xjw8aUA6mamDzHDg3VROB1ftxA7ChQ1RYlVIJ15c1Nv6uGZbWLpXGY5l+sxmmMcXTMoheO5xhj9Xl6b/Sa1RHjhe/FqKNh3SC4zOEyRxliNeOFGBSRpFAbkxTBzkLggxLK1GaiEfFtiG2MAxXl3LlzDJw5R6tdEpMbGa3ExhhSWHNaB0BEcC6tFzFACCAkdnExBiuQ2aS0p3lO8mKrqdo0NdrYeRoq0qhR0qvO9zQRH0aEqCmUPHVHaot0pAiCzuN2hN1ON6c+FrRa6lSTxj5WRVSqPlFQFbwPhKBYY2g325w7e5ayTHVkpYrAGb1mp5nH9F+6j47i1RkbnftJx9g2GDsWftDx/w86z6va0QlKYhiBqhBiiVJGrUIOfTXOkzKtYyXMMfNDlerzTjcFFI9qHPvwo8/4hptB1RPKFiNDZxluNlGTbs6Q+lor8VFQJPoxPflmQ27HRAPn5/EbRdB06Qvb8Qe2Ozo6fzVGNJRp7SGMPn9UJWhKnYijHZ6Ozn2dv1Zqpzce43i74fy6lNAZxNWY7qwPlQyT+vXNc7Qzvsbxd4Wq38a+U62BaU2K0EmJ0kissp3SOl7tuVUZvbQGVH2q5w2u6Zx/zf4enfOdKJzOvmWTY0kNMYbqc4hBkkItBlGP0WSU1upEoh4TPapVnM+bH3cc43hL8GNVGiuOWs3kgn8daEwihogSyyLlgYVIUZaURYGxhla7QGxG1Co0UyWV8lEPMRCiYaTZgsqX5EufBFUMhfeIgWZ7mOA90QPBg3iKMuLLRLoSE48MaLuysoH3SoiGdgjJCxXi6N2nUjZJmQm+xPtAuyxTXqNJQr2RtMClsl3p/+cJj8bxo4HzwudoiK56iCUxemKIhGjwQSl8ASERg6kRyjIkhU6EoBFsqATyjNhOnlkMBIUQkxBNVSInbZYKHQUXklIPRPWVt/m8kp1+ms7ZqWHZmQ+qgRgDYqAoylFx34iMOjjESNo8q43fB4+IIYQksBtjRpXtdCsy+pmqErwnVEqAcy7VSI0xlXSqxryIqUoEVXHcmupzE1Ld4I7n3oeSQweP8Bd/+Q0ef3IVEydOY/q0qRgD3hdJ8NCQSoPFdG8hKMZU86tTr1cq40dMHsc0b9P9pKdMYkh6nYSUpHSkee4lBfnmlWCgRgmhxEZPLEpaQWmLQ73iiJRFmxjT86kGEEcZJClCxHRtdSlfWgOQp0IEQjJ4RI9UhFvtdjv1a3XnUt23FaUoB9m4cSNPPrkSa3uYMWMKSqAMvjIgJhI8kYhoIh2r7I0gcZRqLMSIVso5KmhIY0l5sxLd6fOxil4HP/yalpjXk8FTUIYJcRjvS1plThRHiGBNgWhBaBtCqckFb1O/RQ2p6gKVx1qryHASIVkyIFX9rKlWuSHNTR88QNpzok9zJnpefe1lHnv8cQ4dPsPFl16GMQGhSEZXyau0AAXaWLGEaJMKI6Q1ono6g1b9m/aHqEKz9IRUpA5XRazQubdqvHbaNMY42qYKBI2UvkzkfDGgoWJoN4IPJT7GZKjRKq8+JhJAOmNbE59A529jzGgfjr3uD9+P4/jbQDKcUinQ1Z7gA+12mxA1rfJR8d4TvEeqknCdPo4xpnV3HH/L6KwI1TpFirgZ/bRyCJVFC2uFcmSIMpSUYmkWPpW5DBB9mruE8/u0GCXEEu893ienUGc/Hl07xvx9IQSiJpmAKlpOBaIhqtButfHBU5ZlOmc0RAVjhajDGFE0WMpS8GVAw1Bae01GEQQ1Se5IpRfHx9043jr8WBGQedoA1aRKoSKm8mqlyM40mcUkoV+jw0fDU8uf4NnVK2m12/go3HL7ndzx7nfTP6EfJ5ChSGxy6uhRVj63jVVr10JoQvDMnDGHX/ziP2DilEmMtNs8/+ImVj7zFCePncSGGrlVyjiE93VsPpFZ8y7ife9/F5ddMpOaS0qScw1e2P4yy59ZxSuv7cFlOUsWLeZDH3g/8+bMRENJe2SYF1/cwfInl3Po6DHyRjeXXbaIO97zbi69eD551hG2zgssHXz/RW4cby9EIiEpJLFiTTYlaJMTx47w6LIn2PXKflpFCm+qd2XMmDKbu971Xi674lK8Kg3nsKqoVQo8PgZyMqzPEAOlaFJ8KvXOVmW0Oh5LY03yNBmh9B6sxRrFalLkU03oFEYdY1KmxSQBTEQJvsAawQePc676jkWjJYSIczYptJKUSB/KlA+KoJpqR1Mp7Z1xnMauEGMYFdKSwpg0C+kYm1SxCCEmg1qqlSxESQqiatI3rICJJfhhyISiXbJr115+5R/+S/bsO8x//O3/xE998qPUa8mLKeoJIaZSUDbDSHoW7yMucxiTBIlkOQfUY0xSuJKxy2CdSwJIdW/GGoym6IFYlmQ2o2kMHugNikrEW4uENq5ssX39eu57dj37B0ZoeEWKYfp76lx08QI+/LGPMmHSREyWpbJJlZfVaCQ3NhljRIjBEcuIuET74H0bRdm8ZTO7X32NK668miVLryJzSUE2UbEm0Gwe58t/8VUeWbaKz33ul/jkpz6EzZPQLLZG0QZMJM8CVi1UkQJiLWogdOIGIsmAECPWuCo3TvDqUVWstaPrVEfB64yHjqCeuvyHMxImdT4gPks8bXKc02cP8OQzqzhxto9rb3wnV1+9kIYZpBw+xfa1u3nw0bXMuWwpn/3ZT9DVpUQtMIZEBkeqoatEWu0W1gVcBqGdDC7OJm+L95HM5clwolSRDCWKJ4aSVaue4mvf+CbzL7mJf/Ev/zmNrET9IGJqeHrRqta4lqcRU0elK9XMrh69s8Ing1uqS98eGWHz8zvY+errXHH9zVy5ZBF1k3bCsXvCWKVXK4NUWZZEjamYtgiZRsJIC1fPiTGwd+9rLF+xgosWXM5td96Vaser4AxYIt4XSBUxogoiBu+TkcyYdM7Uz+kB/vo9OI6/DVw4ntI6BpHW8AirnlnB8meeQcWhYgkqZM5xySUXcddd72H+/Pk4l+q6e+/JsuwNZx/HW4/K+EEc5fxINImgIVUMMCjBt9CyzbqVz7DquQ0cb0VahSezjhzDgosv5s53vpMFly8gr2W0izbGCsMjg2zYuIE1q5/l9KkzTJs2nZtuuokbb7yRiRMn/uB1WQFNsoFIgViLaMapk4OsWLGazVs34cMI3pdceukiPv2pz9A/uR+M4jiDxsjhg0Mse2Ql+/buRsqjTJgyjfe8/xMsve4GYlRqNuCsxYzJwR7HOP6m8WPlme744jqJyx3PbgwxeZKqPEkkEILn8JGj3PvAI6xcsYJJkyfR3d1Dd08fe/cf5MSpM8yYMZPe7gZGS04fP8zqp5ezesM2Zs+by9RJPfTUc/bs3svRIwNMnjKT7r4+httnOD1wglqWM6VvKpP6epgypQtraqxatZmhoYKbbrqG2bMnU/phWiNNli17jEcefZpWgFlz5tLfP5G5c2YzZ84scudwxvDCti0sf/JJsjxj+oyZjDRbPPvcel7ds4/LFy6kp9Egy9wFQlNHGfm+i9w43lZI/rvkpeyEcgseYpNzZ07w5b/4Cw4cOM6cuZcwZ85cTKbseH4rz65ag6n3MXvefLpqQvQjYCKl5IjkicqjYgFWMcmLXbQofYFRsMYmr2oISTm2Ns0hmzy7RdEmdwYjgqkEYxGTIiEkKYil90nRlUBRtLDOjjo2RCzWmKRgkjzoRVFirMFWbrNktXaVxyPgnK08eEnwT15gg/eBVquNsSYpfSFU9yWpTE9lnRaTDEtJoY2EUCaFrlKs0zpQgLaT4lDvYeKUmdxy+53ceuuNTJ7Un/KD8ViJ6V6NBU33F1XJXGLHDrFS1Kv7MCEgwQOSlGaTSniFGBGbFHxIXgMfU/16awylGAJKPaZwuGgMIRTYosVzzzzFNx95gtI1uG7JEqb09tAaPsPGTWsYGmrS0zuNiZP6abYLQufe1GCMJ4RA8KT7qIJ/xSTLfwgl655bx9NPP8OkKdO47LKFKfdckoEilk3KYpDtO3awd88hbr31Di659CJUAiZzhGBwFqyV1O82eagxUoUCCyJVKH4EawzOSqqMoAUiEeNcUrYqJZqqnzoK9VgluoMfZj2LGilCCys2UdrIIAdff5EvffnP+c69K5g4dT7X3XAVzjQ5fWQfX/vSPXz9208wFLt5/wfuoqtbsBJTsSkxmJiY3sUI4hxYSxFL6kbSs5k0b4yxeJ9SM3wZUo1xkqfWR8+rr+5i166XmDzjUm55x83k4jGmIHgl2AYKFSN8gRpHJDsf0j36+JVhTFMqSNt7nn56BQ8se5TJM+awaPFCssoz3dkHOm36RuOEMQZjbTV3hFiUZHkaC+pLXtm1i7/4ylfo6u1l4eKldHc1UAQrgjVUv++wySdlOhlIUgpCmsNjlLYfog/H8dbivMTQ4daoooZUiUWbRx95hA0bNjJ3/kVMnzGL7p4eGl1dTJs6mcWLF9PT00MIydg51ig2jr9dnE9xTPtcxcowup6LRmyMtIcHefyhB1n+1ApmXLyYWXMuZvLESXTVcmbNnM6SpUvo7e2mOTyIyxyHDx3hz//8L9m8+QUmT5rClClT6Ovr46KLLmL27Nnkec7IyAh5nr/xlqAyjkdfYLOIL1oMDbV4dNlyXnj+RSZN7KfWsGSZY++ePWx/4VVmzLmEeneDWtbm+NEjfPd7y9i45UUumjeb6RNzjh8/xrqNLyD12cycOZNMiiRjyLgyPY63Dj9myrSSlJCkECQhoiPUV8pJVUS+VYywes06Hn5kOUuWLOFX/o//g7vuuptrrruePfsPsnbdenp6elhw8Xy0NcT2jc/xzFPLufaWO/i5L/4iN91wFVcsuhzfjnz7Ww8wZfosLll4MbNmT+Oaa67kne+4nVtufAfXX3s111xzKTXXw5atr3DLLe/knbffRFeX0G6f4cGHHmb1mg3Mm7+I937gg3z4ox/gxhtvYNHCBUzo68GKIKIcO3qELMv46Mc+xjvvfBc33ngzZYg8/uRynHMsWXg5jUYdXyk2HWFpPOTqRwXJo9jJs0/iSIA4xNDZkzz4wDKWLr2JX/iFX+J9H3gv11x7Bb3dNZ5duZpde46yeOmVzJzWg7Ut2u0R2rGBGIdvNcmKIXwptKNLimgmOGfJnENCJPhIVKUsk/IlxnbULmrOYsp2UlZ9oCgDPkQKnxTEoIpYiBqwtgqlRokhYk1Gq1UgWNrtlHcsArVaVhm3FCWmkMGQxIDkvUpejg68L6uw7/Ph1TEku3sMgVB6rElh2LEsMAgaI6EKWbPWEoIyNALWGYyJKG2wSlAwtsGipVew9MormDJ5IrVcEA0Y8XjfrHLWO+HKARDa7SIJkFYQZ0gBkFUEjIL6gC8KvA94FYIqRUjthQjtkDzGVpKCVVS1eutVKLAaCybiYsmu559n+76DvOcjH+cf/sIXuPWmm1l46XxOndrLsmXLCaGbK69ZQq2rw7htEKN4HSZzGdbUQKsQP2cwVmkOnaMMnq3btvHyy7tZcPkSFixYRIzgfcSI4qTE2JKtW7ay88XdXH/drcy/6CIwnnbbp/z0KtTAZQajbTS28b4gRPARiqCURUjKfPBkDoQStI2PAXCUpafZbI6uVWOF8o6CbarQ/47y99eGVOH/ajHREHSAw4deZucrr/D6oTYz5y1mydKF9HV7Xt25haeWraEZJ5L1z+bjn3gXeaZoaEJoI6UnlilzpwiaaMdsho+euolE367yllMdKSExhUeNtIqCVllgM0cIgQP7X2Pblq3U+2fyzjtuJ5MSQ5vSK01fxwehZgTLCCoZQTLsmJBt6fytCgRCu0mMgZdefpVXXz/A4iuv5fIFl1EzKU6r02Y6Jk+6KAqyLBtNqVDAx0BZlnTlObFooT4QYuCll15k1bPPctnCRSxafAXGOLxP65QlIDEgmsZ3UfrR+RGj4kOg9CH1Q/UEKXVpHG8raEdqqvJxUNojIzy7eg31RoMv/vKv8P4PfIBbbruNd9x2C0uXLKFer2OtTek2gPd+NKJkHH97qHbPKqs5cXOkRKJqroWY+Bc0ENttXty0EVfv5Qt//5/yvg+8h5tvvIF33n4LS5cspqcrAw1Ya9izdy/f+fb3OH7iLO9+9918/OOf4M4738lNN93EnDlzRtfpH6RIQ/KMaywwLhCjZ+Uzq3no/idZePlSfu7nP89d77uTW265kZHhNt+650GmzpjDpZdfjClP8fjDD7L2uR289+4P8vc+/zPcdMMi5syayTNrNrHnyAgLLruYGVMauMpwN45xvFX4MVSmU64YlQFfoCpfo6iWyXOCZ3j4HMufXsXZIc/HPvZx5s2dk4TbLMMH2LJ1G0WrxTVXLiWXwIbVz7B162auuekOFiy+nMxGcmNoDrVYu3Yrl1y+iAVLFpA3QLXEqcGEDEPJmYH93PvdZRw4cI6f+OAHWXLFxWBKjh7bx333PsiUqXP4qZ/5AvMunQcWnIEYUtioQTGiTJ86JXmge3tRFOtyiqA8+9x6rDXcctMN9PX2vmkz+6EEz3H8HaKjTFskpnxLJIAO0hw+x6OPPcncOQu54opr6Z/YT1YzTJ7Yy2svv8LWnftZctW1LLxsOoNnDrLuubWcbtUYGmyzYc0qlj/8XTZsfJ6jp9rMmD2NWt0SY8CK4eTxkzx47308/eSTrFyxgq1bnwdjmDh5EjbPkFBiRWm2mmzZuIV777ufFStWs3b9Bp7bsIHlzzzF6wdex+aGKVMmcejIQbZt3cqZ02cYHh7h0Uce58knn2br1ucZGmoyadIU6vUca4R2u8mLL27ngQceTOdcu54tW7bSaHQxZfIUQBg8N8SqVas5efIUhw4d5uGHlnH8+Am6uhps2rSBZQ89THN4mNkzZ7L/tb1s2bSZPMt55qmn2bBxA1nmOHHiBN/93n1s3b6bCZP66e9tYKTg1d0v8eCDD7P8mdU8t2E7Bw+dZMKEfvp7e4jaJrcR54SjR4/y7LPPMjQ8wuDQEN/+9rdZuXIVu199FRCmTJ2Cs44YExv0oVdf46nHn+Dpp57h2XXPserZdaxas5Yt27ZxamCAiZMn0debQnk1lGQ21dRUoB6T0SFW3nVTNnn5+a2sf3kvl19zEzctXYQpA729Dfp6Slav2crwcMZ1t1zDsdOHWP7MSgbPGWbOnISxbYw4fNty7PBBVjz9BMdPHOP0wEnWPLuKRx57lA0bNvLijl2cPDXA3r0Hee65LWzeupPYbjJzWh9Bm+x86SX27T3EggVLKUrPt7/7dVauWs2B/SeYNnUW3T0NonoIQ4iJHDxwkEcefYJ7H1zGxo3beHHnyyDCnNkzEErEeI4f3c/69Rs4N9TmwIGDPProo6xatYqdO3eSZRmTJk3CuUQkN9aj+sMq01EDXj0mVsp0OM3+13ew5+AB+qcsprt/Fo0ex/Qpjlde2MyZI00mz74aX5vC3XdfT26Feq6cOLKfx+97gBVPrWLlyufY/PwuzjRbdE/qp6erCxeG0VCy/fkX2LljJ0Ycm7du48EHl7Fi5Wr2HthPo6tB/4QUwnjk0Ou8uH07U2cv4sabbsDFNiPnjrNm9XPcc98aBk4PM2Vig96elLIUyC/If4Zqc0uWm5TGUXheePFFXnjpZRYsuZJrr1o8Wjui02YxRkIIPP/886xcuZIsy+jr6yPLMnzw7N33Ot+773tM6OkFX/LsM8/w6LKHeG79era/tItTZ86yd/9BNm/Zztat2zl35hyzpk+iq1Hj1OnTLFu2jAcffIhNmzezdu1a1q5bx9q169j7+n56evvo6+vFmBTFMY63H9KQSqZUUDQEnlu3lpFmixtuuIn+iZMwNkUexZD4May1owaacc/03x2qZCPimDKKUsVpSofnIQa0NcKmNas5O1yy+MbbmTRtAhKT3CmExH8R2pQhsu7Z51jz7Ho+/dOf4/bbb6O7pwtrzQVkuB2j5w903ESDmAC0QCKPLnuSF7a9wjvveDeLFi8gyxOfxJkzgzzz9HP0T5nG0qsWoa3jPHT/vUybtYAPf+wjTJ44gSxrE0Nky7ZXWLdlNwsuv5jLL5lJ7rJxZXocbyl+rEaXjAZ2d15XsgYBrYiXUpKnJfjA6VOnaY8ME33ACPiywBhh4sRJOFvnxPEBBs+N4PIM1HP8yFG2b3uJshUpi4IiNnl5zy5avqTe6KWWOYyksGxItUxDLDl64DDPPreVBYuu5NKLL8aaiDMle17YjsMy5+KF9E/uwZhAWZQUFXGzVBbHED3YDOMyYkh2R6tNjBbkXT0MjJT4Ks90HD+qSNugklhyR9/SiMVjNYLUCCQSu2QNdtS7urDOMTg4iCVyaM9Olj34Xf79//Pf+c79j/Pizp0MnTvD7pde5Fvf/BZPr1hJGTy+1WLnizv49nfvZfX6zZwaHCZIYP+eV/jGl/+Cxx56hNNnh4lGGD53ijVPreJr33qIl1/bT9uXHDvyOvd/9y95ZNlD7Hr1ICOFQgwc3Lubb3z1a/zX3/t9vv29e9nx0osMN4fZuu15vvb1e1i3bj3NZpNWu8m+119n377XOXXiFK3hEc6eOskzy5/gG1/5Ctu2PU/hA8PDZ/j2d77Ff/2DL/HkU0+za+fzPLrsMb7znfvZtvV5Nq1by/333suOl19l+/Pb+YPf+wP+9MtfYdv2F9i2ZTN/+dVvct8DD/Dqay/z+KMP8dymFzgx1EZcAx8i7aKgefYka55+hHsfeIjde/ejAq4Kx47Bc2z/Kyx78Lv81n/5b3ztnns5ePgI7fYwG9c+w6MPfpeXXnkVb8CocnD3azz20BMse3IFrx89jA/DbFm/gm9+4ys8tvwZTgwMYrMcYkAQMlcjxZCMHQcdJBIop4Gghkiy/osBnMFh6eudzJmRZCQ8cWgfD33rHh5dtpLBoXSeGFNe74ZNG7nnu/fz4s7dWLGURUGzOcTg4ClqdQGxnBsaodVs0241aRZtgmoKcS4KhgaG2LrjRZ5eu4bTZ04zNHCCVcsf4b77HuPQkVNJORJl28aN3PPt+1i/ZSulLzk7MMCmdau59ztfZ91zmxgaTuHdr7y0ja//5Zf5b7//xzz6+FPs3bePs+fOsG3jeh6+97scOX2aYe+JIviKubUTKpyS/DsC/9jjwpZMEEQ6qQwKLhG7GeNYvOgyJk/sYtfOrezdtx+NOddefz2XXHwprWbBuTaYDA69fpDNazdw5PBxhkZalLFgx4ub+c43v8xTTz/DwEgLMY7W4GmeX7+aP/nTL/Fff/9PWLFyDUdPnGS4Oczyxx7iq1//Oq8eOIIVcOrBl5TNJs7A2XOnWb1yJV/5yjfYsfNlTpw+nbZvdaDVc/8gSBKUo5aoRKyzKa2AlGMdJBUDS+2TUkd2bdnIt772TbZs303bJwKzshhm147NfO0v/4KXXjvEYAFnhocYGhwgFE0kREbakXYQmu1hBgZOotETfEmIFbGQCr4sGBo6iw9tXti+ne/d+wArV65hZKSJteZ//SzjeBtARo9OZQNnLUaS/1MAUcHlOXmjUXEIGMCkckVvPN04/laQpN+x5VgTYkwlIiS9wLkMl+VohNzWUkWK0UgXi5Kj1jIycobjx15HrOGyyy+j0ciTjCmCGIMRg6uiyERSBYHE+39edkGV6FM0FxhazSb9vV20RwZ5aedOhpttRKDdbnH8xHFaZWDu/Dl01w2HXj/A1i0vMmvOxXT19AHKuSNn2bJ+M9YGQmuYU8dOMtQsifrGpx7HOP5m8WPlmU7TNfmlU/BhgjHJcuZclsJJJaPZjOzb8zqb1z/HRbPmMX/uLPI80GyN8ML2V3jisY3EUOeud72LyZNqOFrsfeV1Nq89RHfXZCbOcGzZtY6vfu/bzLroSt733o8wb/pkKAx1FxFGEFNw7swJnnlkDRv3tHn/p36Om6+eR147h4TTbP/ewxw8VmAvWsrhI4d49qmH2bFlEy+88jp59xQmdXdRy5Rg4XQU1OVYHMafoz18iE3rV3Pvqhe4/j0f47Zrl9DIzGjY3lgr4biS/fZHCsryRDEUYlPZKyJwlnDuKCseX4GbdD1XXHstk6Z0gTZpjnieWL6eE8MjvOc9t3H5vOmMHN7Ok48/zjMvC3MWLuHTH3s3n/zoh5k3dxbrN69h75HDvOvO2wnDp3nq8ad48PFn+ew/+md86FMf587bruUdiy/itU2b2bR5F415i5k1u48zL63ht/77t2j3XcUX/v7P8clPvI+br5nHidfWUUg/7/3kP+G6669ikmky+OoOli9fywt7TnDltVfxM5/9aT744Q8xd94lPPP0SlDliisX0NXlOHXqJBP6p/LB93+E99x5J7feei3TJnbx9EOPUuuZwMVLF5P5o9z/4AOsfvEUH3rfLdy6ZDpbth/k8MlhPnD33Vzc43juhe242QvIzgzy6P0PcHbCBD74oXfTnxv+7DuPs+TqK/ngB27jzLHX2X/iLHOWXsW0SZOYOWUy1197PXdeezFx4CA7h7tYeO21LJg/g1xiskQqnHl1LY8se4jnDjlueMf7+MJnfpoP3X0L/fEku7Y8y3E7i8XXLyWeO8WmZzbyh39+P3d+7gv87Bc/w/vfcxVz+gKv7D3E7MW385mf+zxzJnRTV48JlRBqUr3MVCykBBHUOEQjpjzHrhfW8+zuM1xyzR3csmQ21pbgC06+PsAjq3aSzb6Uj/7EjUxmhOM79vHCrrPc9O53MbFPqdlzxHCGr37vUYaKLj7+8U9z7dKruOKaJdz8jmsxnGFo+Cwf+MTf44u/+Iu8+123cMs7bmDupReTOchaJzi9bTdPPbWTcspsrrrrNn7lcx/nPVdeggye5Hf+7F6uv+1O5s6YTHn6IF/6w69wtNnLp3/+Z/nJn/wQ77/5NhbO7WL92kd4eX9g1kWXMHNazundm7n/gSfYcTjyjne+m1/5hS/wrjvvoD58lhfWr+XElElctPgK8orl3IeICR5DCXjEl0mpFqraZJI6KyV9VjOq2gSiSTnkFoIe4bVXX+XFHQdZuGAJJhvi5LGX8IM5504Zbn3Hzex99Sj79h3h6g9fTXd/DTPkObz/CB/99Oe47f3v5+Z338rlC/t5af1jvLpvgEXX3MisCRPIhvbz2qbVfOOJzTQbM/nwRz/CJz79ae649UbKk6+xYtvLyLSLuGXBBE68to3tW59n2vSLmX/xXFatvJfHli2nf9LlfO6Lv8pdd93MxAk9ZJoTxaPSxEriNdDR3MDKdCwlSJsytnjhxR3s2rOfRVfcwNWLFpBHzwjQxJDHiJERbHGSw+ueZf3m15l/6ydYtHguPXmJFsc5sGsDy59+livu/gUuXnI5N12/lHfcupRp3XV2vfg6N3/w7/GFX/2HfPC97+B9d9zGkssvpbsnx4ilq97HooWLuP32m7njzltYvHQRJwaGGRyCj//kz3DzzddQy1NevZGxO/Q4/i7xpl6QzrgyFEXBho0b2LxpE2fPDLBrxwts2biOoydOMWHqTGw9p/CK75QUGY0cOU90ef7g+11tHH8DkMqQZTSp04aOAU7Pl92TZAgpy8C2rdtYv3E7xwc8L7y6k+c2PUVx+iyTJszDa46tCUeOvsCWDU/TjHXmXrSIxx+5h42bNrB2wxaOHz7O5ImTaNTqgCEaoekjnqS4x9JjYkA0JB4Wa8BaXCbURDl84ABbtr9I1tvDlJmT2PHiNu69/yHshLl85qc/wrwJkT3bX+HR5c9z5e3v44rFsyhOH2HNwy+wZ9+r3HzbQo7s2sukSdO5dOli+vq6sONy7jjeQvxYeaY7irSMPSovXgpHsaP17Xp6J3Lrre/ghuuu4eknH+fPvvSn3PPNr3HPN/+STRvXc/z4AN2NiYSQmJAuXbSIz37+c8yeP50//OM/5A/+x5/z1S/fz9QpF/Gxj36URYtnY3JBHNCxD8aSYwcOsfn5XVx8xbVcfMWl1LoUMR60YOTkCXa/vJsdr+5j286d7HxxO1s2rmHZA9/hS3/yx7z44m6GS6XEkjmbiG+qfMxXXnqJJ55eTlavc+1119Lo6hoNsfphQyHH8fZAp8dGPdOSzMXqC6wYVGuUVfW3waFzbNi4haNHT3LzLTewcNElWGehKqd07a238cVf+XssWbqI3OZcsuBSPvnJD3HD9VeTZxkH9r7Ka6+8wl3vfR9XXLeUrCen0dfNlLnT+cD73kcxUrDn9cOcbTUZOHuIc0NnmT3vUi677GJqjZxpM6azZOEVFMOBZiuAWkRKkCa1ep0bbn0XP/P5n+XyhYvI84xLL7mYz37mM1x37dWJsEgCCxdezhVLr6Re6ybLMnq66rzrztuY0tdHc7jJUHsE0Ra1muPSq67j6muvYWJvjeZwkymTZ7B48VIm9tQ4N3iWo+dG0OCZPnki17/zDi69/DKCb4Gpc8V1NzBz5jQkDtNqDTESlSiCkQyX1cgzpcu0E+mX2NT+IqMrig0tunLDDbe9m7s/+GHmzZtNV3edObMnk8cRjp48TUBptc5x7PjrBKdcdNWVNCZOJs/rXHrJQqZOnI6PjqGmoAaEEhMUJ0mRlqr+QGfhEkgKh8YUdmccZTQpukYLzg2e5emV24ha487bbqarq5sZs+Zx2y03UwwcYs/O12gHR7vdYuDkAV7cuZPLFl3JzDmzscaSY2l01clzyHMhr9exWY6TnFotw2UWcS6RqY00mdyYyBXX38TNd7yDrq5uentrTO2vMzg0wJmhIc6dG2bP9p3s2b2Pd9z+Hi5bsJAsr9HT3cUN1y3l7ve+gxMnzrB7z37aRRPKJj3dvdz+3g/zwY98jKkzptLb38O82dPoNpHXjx9nRJQQk8/ZmsQcHcoiTQBnk7he5VSP4g1usdSOnbklaCgZGSkomkLNZVy9+CJ88wwrn15Nu2WYOn0q3XWLDcPYGgjK9Fkz+OBHPkmjbzLRZkhmuOzSudx41eXEMnBywNMsI5mFWmwyddY8Pvipz3Db7bcybVo/Eyf2cvPNN/KhD3+Y+ZdcipFILoZMlKGRPSx/8j4ee2gD06deyT/+J/8nN9x8EY2uqsybxMRXQPL8d4wFY9WT9JAV+VsitgcxnbKupMSmzlcjQkGt3cRFA1k3QSwhtjHapCZtNHp8Vsc7A5kjb1hyl2ra26yHrJFTy10ix7RpX6LiQ7DGkBlBJbJz5042b9vGdTfexA03XEdXI0+G3vG96e2JC4QmA2IwLuOKq65h6ZVLOX78KNtf2Mq6NSv52le/wne/9zC7dx9AjJDXUs709xmd4/hbQicyMynUF3Zn50WIEZNnXLzgcq6/7loGTxxi985trFq9nHv+4o/57le/xYGDZ2kHi5rIyRMH2H/0OM8+v5OdL+1g27YN7NyxnT/90z/lO9+5l4MHj6aa84CpuENAkyyCgE9GlYBQqiUEWLBwIT/5iY8xc9YMvv3d7/EHf/hHfP1rXydq5Gc+/zkuu2w+DqWWVVFJUuPUwACPP/ooBw8c5b1338UN119FHcPZU+do+TCaHz6OcbxV+LFSpv866JBz5XnOkiVL+MVf+HluufVWXn/9dbZs2czRY0eYN38u199wDSEWdHXZ5NHwgayrxqIbL2HWgmkMnGrSJ7OZXp9LOTTMwLkB2iYSauCNBRr4Yc+mZzdy8uwgN91+DXPm1YgWVDOwdVoSOH3uFFOnTuZTn/5p/tPv/C7/+Xd/i1/47Cc4+OpOvvqdhzg80KJQQ4OSrtjGtlscP3SSP/6Te3jh1SPc9a47uGnJLLrqKb+wk8Myjh9FdHa9DmISik2GLyO7Xt7FvQ88zFe+9jW+ec89rFq1ipmzpnPnHe9kxrTJqQRFhEajh0l9NXobDic5Jm8woX8CH/rwR/nsT/80dWc5fuwYBw4cYMb0qWQCuRFC8JiswYSpM8jyOqcHTtFst6j1dFGvlQyd3EvrdJMQ4OyI4eAxR6NrOlMnZPRlgDaJLpD39TJ5+kwmTZ2G14izhulT+/nYh+/mA+97D1MnTcBaYXDwLOs3bubb37uXr3/ta9zz9a9zzzfv4dCxIwycHaDdahOTZsv8ubOZNXMWNVdDQqSrq05PTxfgKX2BjxFnhUkT+pl30cVkWY5RRcTR3z8Jay2+LFFfJrIkOrW8U4hzxI5yoKaWN6imw7o6SMbUSX3MntmXSv8Yi7gMnCP6krJMSmn/JMNI+zAnjh5keNgTfT9njsHIkKWvt5+ebotGT4xtjFOqCLwxkTSdVyStKCRSuFOnTvHs6tV88+vf4it//md87etfZ/uBY7zrjtv5iVuuQWyGb0xk6iXzufLifjY99R0OHD9Ns6zz3OqtGHFcccXl9PX1dMjiU03PIJSFJ8SAs+Bsis6LkRS2m9XAORo9XUyc2E+3S15erKPeaKDBU5ZtWu0W+/YfovAlUyb3kuUp3FDFQL2LufMvYWhokHNnBlAVFEOt1s2kidPo7+9BgagF4FOJtsJTw0Ds5PwFlBbGSWK8jlJ5aC3R2GRkqMohdtovtWeH17aDjHYrIurIbZ0Z0+bgbI3Tp04xc8Y0avUMIy1iGEYKcKoQRjh18jTfvedBvvn1b/O1b3ydb37zO6xZs4m9ew7QbhcYZ6ra55EJk6Ywe+48enu6MBEyl3HVLbfzuZ/5FLddtQDBUpSOkZEWK9cu4y++/CVag5P5yPt/jlkzp5GKpEWsgIYCcRboAj1fcujCqMbOupGeO3Vvx1ufXp0XBCzgMLWcoAFiSC1W0TSoGMpS0Vh5wVFQi3U5LnPEUEKAjMSyny5d3YyWYAJiDQcPHGXjxueZMnk6H/zge5kxawLGCFbcKEHoON7+cFnOu++6i9/4v/4Dv/Wffpvf/t3/wr/5t/+OJUsWc//99/HII4/Tagc0JtlqXPR4+6DTFR3yzuoFLst4591388/+9b/gP/z7f8N/+o+/yX/5nd/m2oXzePA73+DhZWs4ea4J6mgNNfHSxUWLb+Bf/Ovf4L/+zn/mP/7mv2P+/Ll87/4H2fT8TlploAyKVSUjYjVQ+pJCheBqKfRfYzJ8KoRWi0aji+uuvY45s2ZzbuAMuXVMmzSZcrhJc7AAU0ezNkPtk5w6eYonn1zHK68d4M67b+biRXPBOsRMpNboHS23N45xvJUYV6bHYGz4s4ih0d3gogWX8tnPf4bf/A//F//213+df/KP/jGzZs+k1Rpi+swpuDwRC+3cvp0//8svs+fIYf75r/0av/nvf4PPfeoTnDywhy//yR/x3PqNDLUKmlEY9kJQy/CxE6xfu5Zps+aw5MqLyDJDiRDJUOr0TZvEpYsv4cqrFjFv3gzqjQaNroxbrl7A9UsuY/uu1zh8po0PQh5HsO1THN33Kl//5n08vPp5rr7lLj79sY8ws7eWSMsqVtZx/O8Eg8vqtIuS/Qf2s3nLFlatWskrr+xm7tw5fPGXfpFbbryaRi0jAkWpqHF01TMaGcSyqEKJMzKX06jlRF/gfUG71aSvuzvVXkZIe52h1SopVQi+RCz0TJxArRHY8OxjfPV/fpX7vvs43/jOMvYfLrjzzvez6LJZdGUFKm28KSkMeBy2KocFSjHcpKuWU8sSm3SrPcKaNav5+je+ycPLHmfl6jWs27CBlWvWcuL0aYZHRpCYOLJjVDJRxHtELc4aVANBPYLHWQPGEkOJDwVKhi893V0NRHJ8oWhMdbWdVBs+jMmztai40QjhZFs3KDYpnFJHxUEok31DgKj40iM2I88EDUq97pg8rc7pgYPc+71vc/+9j7LsgdU89vA6pk6az8033MzE3lricDAejFKVnh5Vh5BUx3iU+8FlmKxGWZbs2fMaa9etZc3atRw6doz3f+wjfP5nf5L5M/uJWELWzfSL53LLDRfzwrpl7H5lN0eONVnxzPNcsfRqLrloFtYYVJOKqSpkLoXphcKjITWAkU5ZpsSQ3vQBk1u66xkOQSJQKmoMYiLOJO/DwLmzVe5sJBNHJhW7eATBMTw4yPDQEMEHighiajTynEjFA4AnUKAORJN2ZwUcpJBRW6TyYq6GmNSLQSsFuhM2/CZpPpVD7GRyanQ0hzyEjK7GBCb0T+PWm+/gYx/9GLfeeiPWeGpZSX+XIIVSliO8/NJGvvnVb3Dfdx9k9YqnWbNmFWvXbWDvvqMMDY2kEWMrQ6a1mHqDdkiCa2aovOcZjVqdXmuwJiPLG5QBWq021uacOnmaQweO4cuIE5O88AFCKQg5Ih0FdMzzXfCyMiJUWnaV3grVSKreHTU4BGNTyezoR0d8VAM4rLOIRiRCosGzhCgUwUP0FVERRJ9IMlNOegCaiGkzNHSOZ1c+x4ljg3zkwx9h4cKLsNbgvWKNQzvWnHG8fTE6jxQjhnqjQa2nh67+fi5acDk33XQzeZbzyssvYyT5I5HEMfGGUTqOv210bFzVkSJB0vpnswyMo16r0XBCbwN6GzVmz5jOLVctojtTXt39Cq0yktkuZk2fyYLFV7L4itlMnjqVrq5uJk/s4VM/+Qlq3b3sPnCEk+dKjCgmemrW48RjrSFaS2lSlIMRS9DE57Bvz17+7I//lD27X+NnP/95fv3f/Fs+++mfZvD0AH/yP/6Qjet3MDRUEm2baAbZtHEje149zqd/+ue4/PrLcPWSwcFhhkYsfROmUq9bZDS9ZxzjeGswrkxXeGO5qBA8PiRloXtCP33d3UydNo2s5ti7ZxdDwwNcffVCXCYMjQzxxPLlDA0VfOZzv8RFl85j0tQebr5tIb/yyz/D4NkzbN64g8FzIyBCboXm2QEef/QRDh8+xrU33sz0WTMQQ2LatnViyOifMYXeid0Mnz1HaCq5dUngygz9NYMvPE2vBEC0xfH9u/nGn/4Rf/g/v8z7Pv5ZfvlX/wlXLl5A3RhMPF87dCzL4riX+kcFAvG8xyalQAngKArIat287yfex2/91m/ypf/5R/zuf/6v/PIv/wqXLZhPlttUsslExNURySmHhjAeatYhxqImw9qc3GU4gb7uHiZNmMDhQweIZfIKOmdRMtrBMtRsMWlCLz31OidPDNAcGaarZnh+62YeuP9Blj+9gve9/6N89jOfYsaMCRXhHkRjMbUGJq8TqpJ0VpTMVWGqoURCm8Ov7+XP/uzPOHT4MP/uN36dP/7zP+W//+Ef8Qd/8Idced111Hu6qnjVDGMzDD6lTmhGKD0xlkQ8gTZqIsZasBERJQSo1+vE4AllIM/qOJdhjCWTSI2IrYSLBIeXDKshEb0BgVSX22BotUFNjbqx2EqZDiJIvZsigpYturNIc2SQ4yeOUW/knD52mIfvu5+vff0eRtrKz//iz/G+u6/DZBasxUi6A1ut0AYqgSCVNUmDAPCKepg+dQo/9/mf4ff/8H/wx3/+FX7tN/9vPnD3O5kyoRsjQs052gp9Uydwzc0LqNthDr20nT0vH2bHK6e59vpbmDFjGvU6GEmly4zkxODQaKnljiyrCgGH6n4UVA2FFSQDa0JqN2PBZvio4CDGEussCxcvJSo0R4YIvkUZWogTinZg377DTJzYx0Vz59LV6CfL+yi8IXrFOmjHJmIiZDBUjFCTDKvpPlxQnLY5dXwfTyx/nAcfW87rR05QqND0gViFpcbROsYdTbIqECMheWqB2BbOnhqhNRzoynuZ1D+d9931YX7uCz/LnPlTseKZPCmDeJaBg8cph87x5JP38r377uXnf/6L/P5//13+7I++xP/473/Kp37q7zF1ykysEZql4Gr1RNxTBrJaRu4kGW7EIK6bhnF0E9BgaZbQ0zuJn/7kP+Q3fuO3mTbL8Jdf+z2eeHwV7dLho8E6xdUaKTVci/RMHZf0Bct6FS2AwarFqGI0RV+AwWIq41FSliM558oCm1kyGzCaPPc+Gk6cHsQ6Rz032FilHmiK3IgayXND3SmESKzq2oZQadeuZKQ5wJpVK1i/bjOLFl7JDTfchBjFiE/pVkHQ8x01jrczRHBZTr3RSEY+VQipkki93qA1MowGTwzJ42iqOupvypUe+3Icbw3eKOaNfd2RAxW8D0RV1GXQVYOaxRLpdjm93Q1yJxALJICzOfV6DwOnBxhpBoy4ZIprD9Lf24OrdxNcHV+xaDvjkWKIfbu2s2rVKp54Zj1HBwaJlWxqnePM6QEefvgRBgeH+ciHPsz111zJ9KlTuO22d/DLP/8LhGaLx5Y9wdlzLabNnc7UWX2cPX2K97zrbi5buBDTUEopeP75FymoMWv+PLp6HTqayDKOcbw1GFem3+CR7tQqNcaQZS7VhQVsnnHqxEk2bNjAli2bWbz4Um686Rq6++oMDZ3FZTn7Xz/Myy/uIzcKpkkzDLD7wG6GRjx1NwGHo44Si2EOHHyNhx95inmXXMkVV15FX72WFiLVigynwYy58xCUAy+/QjE0jHrQ0nPk0AGOHj7MLTdex/wZ/dSdcmTPHh699z5WP7uOO9/1Xr74S19k9qyZOCLqU0ieMeaC5xzHjxrGeGxGN8MMTB1TsT4n04qmMFzAWKFmk7cWBGxOiIZGzZEpiVlekwAbo6KhpFbLmDpzFl1d3Wx47jmOHT5MKAIhBM6eOsPazduYOGUaVy5ZSBeGYweOUcv6+OVf/Sf80Zd+nz/909/jy1/6Q37iJ97BpGk11EEpgmIx0o3GHB8N7Wp/0xhxuYNYJq8skVazCRqZN38+vf3dtINyZnCQ5zZu4dDxEyDJQ4o4VAWrBcZllB4gkmUWRAkd77JGtCJZcWKIqhRlkepPeyWWMYWMx4CNSYEYbWjJCJIj6jF0lJAkO0axxKwLxWG8IiFWSiYEyShx2BixGhkaHuTQwdNcf/XN/Mnv/x7f+c6X+fO//CP+2a//M668/nK680QUE7F4zZKHuBIw07uKSmLEre4Asgx1GZZIbtJbBQ6bddGQKgy8IkurG3B1y9yl83nnXTeyc80Klj/6DBctfQcLLl9CX09XOm0sUs6xZPT1T8F7OHb8BIODw5jqXCZUpDYuI+QZpZaEYqS6KwOmhldAIsEX1PKcyVNn4PIaG9atY+DYCTJxhLLg2LGTvPTyXhZccjEXz5ubGJ9xGFtHosMoWGeJRKJRsnodq4ask0deAlqy++Xt/If/+B/4V//m13nokSc4OzhCVkVkVPL8GHk9vUptHKsohOQhLtokJdPkoIJzXWS1DFEFC0VxllrN01frYej0GYYGT4MxzJ9/EV21jGZzhF2vvMauV/bhvUd9lc8dLWWEoJKuG2Ia88ET1FRjrwUYskYvRXA0h/u4+abb+ZVf/QSTp3u+9KU/4dkVL9IcKpEoKec5hFTWsUpBGH1CqdYJATSFb1Pxapgxoe2maseOcq1kTJgxExyMnDtJWTZptUbYuvV5Vj+7nrNnhiCWSAigiqild8Ikal01jh07xKljZ5Pu7CxBhVDlTEPJof2vsn7DeqZOncmtt95Ob0+tChdPFTNUq3k9jrclOsOpA42V15mUDoN1HDxwkBUrVtLb28173/MeehquKueZ9qYxvx7z95i9bRxvOcaug6m2fHrHZhnq/WjINWKIGjhy5BBPrd1EMyh33HYLU3pr9PVMZMas+TQHTnD0tYP4ZgkhoBLYvv15+vonMu/iS+ifmCWm91CClqxZ9TT/33/1L/mX//bfsWLdDiKRwheEkNLWzg0N8eqePRw4eJBY3cvI2XMc3r+f1tAgfX19uHqDCVOmcdddd3HR3Jl0NwxqFB/aHDt2gqeeWc38BZcwZ+5M6ll2fiMdxzjeIowr02MwSuFfhUOPjIywZdsWHnrwIVasWM29997HI488wuw5s/jEJz7CzFkTsTbS6G6wdOmV9Pb28/C93+Kh+x7i6ZVPc88Dy/jWg8u58rrbuOWmm5jU3U2dEdrDR3l27RqODpRcf+v7mDf/EupAHU3CuipQY97iK7hi8VJO7T/Iw99+mKceWc6jyx7n0SdWMG3GbH7iPbcztZFBe5jHHn+Cr9xzH8fPNpk+bTqH9u3m2RVP89hjy3nyqZXsP3CAoijGkK2l5+x4q8fxNodK5V16szId1BHVUvpilJFTqzJvqum1qbxEkRpRM6RsklfO4PR+RRIiKQZs1uw53P7OOxkZafLNr3+VR5c9zGNPPMZ9Dz/CnoNHuOW221l8+UU0TGRK7xRarYznNu9kzeZnWbHqMTasepwt6x5kzZqVHDk9yBCOSAMTe/DNSOYMznZyNZVYpuI86eah0Wgwe9YsXt+3j0cfe4rHn17O8qdXsHrNWvbsfx3ViFOpSnUIVmJSUCSrhLaAc4kszEdfKZVCoSmJwhpD2wcyk0LCFbAuJ/qADSUEz84XX2TF08/wxJMreOGl3Rzev5dNz63n8cefZvOWFzh16gwgqE2+bEsgE8VKypn2KsmjLRGnMVnyazM5eaxk1TOreXL5I6x89mE2bH6KNSufYueLr+FLn8LHTTfgEtdPugoQCZgU9gxEjSA2MVkbQWKZFBIcZVCIijiBmsGKkEeFEIgNy5U3XsnBXbt46vEVXHnj7cyePQ3nKoZXExExGKlz2WVXMG/+JWzfvp0HHryfR5c9ylPLV7Hnlf3EYCiCMhw9QQJOAjmk+8fh8joSSoxEnLPMvfgy7rrrLg4f3Me3v/UNHnviUR5/8kkefvQJBgfbXH3VUi6aNxdncloFGJshKgQFVSFopAyJrMZ4xUYIFd9Y9AVlWZDlNQ4eOcrWF17g1MAAPoAiyP9CQ4uqhBiIBDRaYki58GIyygKkUkIThb5BKSmaZ2mfG6QrrzNjxnSMMzy5/Akef3QZTzz6OOuf28y+1w8wPHiOTJLHOKrBU8NaR/TVjWt1TmMwppqnaim9w9gGta46GMsN19/AJz/1UZwt+C+/+3s8/shznDvbrBL7YzVxzm/nYzf26CMxmjRXojB8bpBtmzfxyLJHeOyxx3n8sSd44rEneHnXbooiIK7O3AULWHzVErZv3cgzTz/OI489wrPPbuDsUAFiaTfP4kxSyBXHpBmzuenWm9i/bzePP/wQyx97gmXLHmHbjpcYHm4RIgwODrJi5TNs2bqV4ZEmu156mScee4rHH3uMZ55ezuv79qJVWsM4fjQwcOYM255/gUcefYzHn3iS5U8u5/4HHmDPnr3cfMMN3HzTdVhjkJj2lsSonAxZ4/hbxhstIdVLawxiTJIHgVZZsOvlXTzy2BM89sQzPPLoY9z73XvZdWiAG+94N7fdsoS+WkZvTz9Lr7qB+VO7eOb+b/DAt+5j9VNPseze77F12zaWXnkFixddRO5M8n4ToT3CwOkTHDp8iFMDZzhxaoAYDbW8hrGWLM+55dZbmTp1Ko888hj33HMfTz35FA/dfz9PPPYo11x9JXfecRs9fb309M7gXXfezfTJfTzxxHKeePIpHn3yae6//zFGmp473nsTly+ehe2wz49jHG8hfqxKY/1VSAQZSdkMMXDs+BEeXvYw937vITZt3MzAmRO888538qlP/hQzZ82h3nBYE2nUHVMmTWPqhOm8/MorbN+xjdXr1rDr1f1MnDyfL/z8L3HNlYvo63JYOcepYwfZtGkH3X1z+cCHP8mMWVNwFjKjZHhMNIgasnpk+rS5tJuWjWvXsvqZx3j+hU1MmTaHu97/EW687hp66jBy9hgb1q9j34HTuPokBkda7NixiY0b1rBp41Ze3v0aCy+7lJ6ebur1+gXh3eOh3j8qkCSQC5XiElMUA1CcG+T1/UeYeunVXL7oEib2WggRa3PEJAZPHwpCCAwNnOH0wDBT5y3gmqVL6TIGXPIuWGsqb2+kVqtx8cWL6OmbzJo1a1j33DNs2riWs2eafOhDn+Ldd7+byVO6aJgWDLdY9dzrrN11iBd3reaVHRvYsX4FW1Y9yLoduzlQ9DH3knlMzh0jxwY5NahMv+hSllw+F0dBLmCjICZLZFAO6t0N8ryb3bsPsGbdBrbvfB7RwHve+S6mzZzF7DnzWHj5Ahq1nNf27adv2gyuXXAJeVSODQwy86K5LL3yckZOH+RcaZhz+TVMzlJNy8uvv4XJ/Y7m0FlK38eNN15FT49y8MABpk2bxbXXXkdX5li9aiXLli1j/bq1HD95hsLUOHzoCFs3b+Ls6TPMnDqNuTOmcnbgOMdOnWbu/CVcueQK6rngQ4tzZ88wMDDEhKmzuebqJdSNcvooPPjwWvYc3sNLO9fxwrYVbFm/ipWrn+X5l/Ywc95lTJ46hdw6rEIMEXEGUY8Q8akcQFKpQyD6Jsf27+cc3Vy68AqWXDwn9bkILkJJwXA5hA05FsHYgLhhuhrdrHtsK007mU984ae4ZO7ElH9sNJWXEkElZ2J/Pz09fby4Zy/PrnyabRs3su+1Y4QSFlwyj0avYWDgDMPNyGVXLObiiy8ijxCGBxkYOMGekwO88853cdGsmXQ36syePYcohs1bNrB65Qp2vLCdsiz5yEc+wXvueg/1WoY1gXZzmH37TzP/0qu4bNE8GvVUT3341EnODA7TN3sRVyxeTJcFWiW2FhBXcupsyab127l8yVJuvvl6Jk2aiKuiGDqy5IWrXYpE6oRB+5ERTpwcIK/1cPW1NzBx6gScs4lC30bQNiePHWbg7BAXL7yJSy6dybw5Ezl5BjZs3MK2TavZe+Agt7zjNpZcfglZ90SuueEmZk7rxbTPcuTwYc5mU1l85dVcOq23imKyBDEY9RgKYsw4N9jkzJmzTJs3jYWLL6evMZGpk2bQ1dPN2s0bqdfrTJ80lVlTezG5RSUfZetFzjP+J9I8QcQQysihQ4c5cPAQh48dYfu27bywdRvrN29m+47tmGiYOWMGvRP76JvcS70xkfWbd/DcusfZ89qLXLHkeq656np6Jk7hmnfczvwZk+kyEYOjq6+P6TOns+fAUTau38Dza1fx/I6dRJuxeNEi6nXhzJljbFq/nld3H+D0QPLer9+8iS3bNrB//z76eyZw0dxLyGv2+3XUOP4O8ebuSK8Gh4Z46MGH+MY3vs62559n7dpncS7npz/zWd7z3vcye+a0FPmkAWcT6aCpDL6j55HOMeb043gLMMaAMbo+VAY9UonYEAL79+/nqaee4v6HH2fdph08//xmBM8HP/55fuIjH2fm9Ak4ATGeSdOnMmNSP7s2b2T9s+vZ9NwqXt+/l5vuuJv3fvAnmDNnCtYIxpdIaGJygy8Cp4YK5l62lHe/+24WzJmMMalCYc0ZZk6bwdRJM9h36CSbX3ieTRvX8Nqu7fT19PLpz/0Ct91+LfWGxWSG6VPmMqFrEi+9+AIPLbuf7Tuep2x5PvGJn+H2u95BrdumkpImpWSNYxxvFUTHXZOjod0dpVJViRpQCoqyhdUeMmsoyxFsTfFRMFkfiqKhTSYtLDmxmfJPvY2MlO1ENFMGems5NiomKlIMI7nFR6HlhVq9hkMIAiIRSwtCBjEDToHU8UU3GgJZPRIpKHEYm+O8Ev0gptZGTUZR1DGxgQmRKMNEWxJcL2JSCZtGnlUhPSkc0NqUKTeOHwFoylX1NtISTw1wUZL3MbRonhmhnDgDXKAhLcRniDi0KkcTKYkSsTHQOjNMM++hv9HABYg20g4pTNRqwOUGiRG0hoqjRIm0aZfDiK/TlfcAUGiTePo17v39L/EH9+3gM7/2W/zUT13BRDNCo2gyeOAFfu2/fZtvbTvLP/03f59fev9tTA51hkvLSAZd9YDVggwII0qWNZJyY5pAgdo6oawRrcVLgNKTq6EgeeKcClluONscIda76BOwbU/hIyF3uFxx5VGGfY7vmkFPKLFloKjXUG2SAYOnMnonWrBtJEIoFMlqGPWEsiBEj9WUc92ULgKJvT9ziYfAAcaM4Is2XntxLk8KjG2DtkANPjSwrmDHlnX8we/cx6lzhv/ff/uXXLygBxNOIc02a9e9yK/933/EnMXX88//xf/JFZfMIi+UWp5S5U1sAZG26QYgJ2DKErQNoWA466cpOf2dWqE+4LBI1sJICwl9hEIpZIjcHWff7lf5f/7Vl5m6+DY+949+jktn9eOo8p7jEFFzgjSgSALQiMkwZZu6Cvg6IUBeg9KdJpQlUnYh3d20FWoeTGjh8hbHhgI9fVOoKdhqnS18SRla5LUaTlxajyR5TY01aGiCHyHEbkrq0AWRgroGMj8ExjFoJlAG6BYl9wGJZzg5cpB77l3B7/z2n/GP/9k/5xMf/xDTp0+tnuu8QmDGeMZijPjgyayjw/bWGikgOmzewNWqcOkIxngkDqc294aQTcaHEZwZpM0UjIdcPMFmBCI5LVraoK2OuvPUOYeEgpNmMsZm9GrA4UEsBQ4X21jaRLrwQQjFEL7WIrd9ZGUDUShjQbveIkZLt9SxISUetGKg4QzWKGpSlImiKXxbQYsSbEYInqIsIc8o256azYkCZQg0spw8sym/UM9S+i7aZY1Go4kPg+R2IqKGgcFBmDiJLvXUfRuklmLtxTMiXWgJjbJkRBVp5BTtQF+XYHQE3xpGNSdKN2JqtKKCSZEj9SynZl3VUePK1Y8C2u12yne1tuJiiYkbXsxoKU4UxKTImhjjG9iVz8/KcbzV+P6pfR2ZULXKaZekVA83A97UqbsW9SzQMt3YKNRKUjRM1gYpkPYQtEHtNJA2SIuYT8BbRxHAipITsOEc4IlBKUwvTdOFMdBfRcWVJuBiEweEpsOTURpDLiNkNBG1RDuxCtCLeFPiVDBFIi+LTiiKNrkxOFejaQ1liNQI5M5hq9ztcYzjrcD46Po+SIp1yk20WY0sd4gYsryBNRnWpRIkmr6c/q8Wk+UENVjr6Kl3UTdKTx6RWKAxpDyUrItIAzU5jUaGEpPCQ4oiTNS2Mb2IGZDhcnBdihpPFIcXl4iNAJtbxKbNS3KH5GAbQl531HIhs4oxYEXw/kIShnE7yo8mtBOULVWeWrTU+yZibAr9VWKVM20wtqppg1BGJXhodPfT28gJbQ8x1Zi1eUaWO1yWgRpC4HxWZQjEWJDnGXm9izKlSlJ3SnPwNIePHKbR5Zg1vY+GtSmP23XTCj1I1kd3fz/1PMOZOmBpZNBlAuILVFN4t8lyVBI7t2KIYlI+pqSg4aiQZzXQ8yVWkqfD0tXdTe5MCm23OXl3g1qeco7Ju2l096SQYLWoy8gihKgUGCb2Z2gMaTPGktfrKRxNhCzPyWsNXL0bW+ump5HRUzfUXarRq1HRGFFNRDyN3EFIpaNCVMpoiCQFJbbbnDx5gsPHDjBxUjcTe7sxaqi5fqybQLud5mhvbxdqUj1g6xILeEJiwT6vBlYyaIxgHEYsmUkf2qDkxlLkSluLVE87RKxYcldnYKDNI4+sQvp6uObmq5nY35XyoIUq7/Z8Pq3N6sQyEmIgyww2M1gHeZau5bGQZ2SNDLQ9StCGpnr3E/p6MVVeXufG89zQ1ahjRFCUUJUYC1Vis7U5pt6Nywz1rIpkVkFiBrabIBkoZDYCBa1zp3ltzz5Wr17Pnj37uPOu93D7bbcydfIELKk/Os31Rv1MRLA2T+zsMbG612o5eXeGqyUGgqBjdkqbgcnBOcoQyfI6Sm8iWa+l2t8p/1iJlGRZoFEDp4A6oummYSxV81XM1WnUp3cS8zyiZDVH5nJ8jPiQhkCWO3ITqbk2Iu1EBqdQq9lUimq0Jtb5kaIRkJRhbkxGrV6jnjm6u+vk9ZxG3dHblWOtJSqgVQpEJnTXk4JubY5Giy+V/r4JiVNAO/uJTXOWmJjejcHkObV6nSCGRldGVCGGDJv3kze6yWuGLE/33VWr0VXvxhlbCfzJFDCOtz/yPMc5l1JtrCXPa1iXomdiNWZFOuukpjE6jrcdpOIJSgaRZBxpdNfpaqR+1bEbT2IdJETwETR3aC1DrUWzOjHrJkbFRMgVMq0MeuJQycAlws+ahZzO1qYIqZIEKtg8RzJHVje4PAdnwKXIPB87aT8GHwKiIZXuU8VlOc7WidXSVM8S4aJ0Sn+NYxxvEcaV6WoheSOSQm1TCF6EqIYYhRAUoylcSap8E2tScRZIC42gSGjjihHyGHCahKx2FAaDp20gmqokiUpKh+0sVuKTpd4oMeuijClvDylQE1CbUWhSgMRJEryAoCVRlTJU9sfKsm8llfkxVegnlUdaxnOmf/Sgnf90BE5SyR9xYFKZIWPTzhVDIMZUPifBVGWVMhCLE8XaVMQ4aCBUtR9HWi1i1BRyLYainTa6mstG86ltnurOQkneXaN3Yh8hnGPn1tXseell9u5+nRe27WHtmr0cOdLk5uuv4fL5cwhaptsQqAnkEsgkzTW1ligGtaaqD2xSuLIqqSSuEMqAwWCdw0giTgs+KbNJGRHUp3bp0OJEdcSg5BpQa4iADSXWOlrSKa+UjBJlTCzdpnNPkiamVMzU7aFBxBdYUkkmqZi1RaqH0oiRJGSIGKxrJMUr8VbR39fLxEk5A2dfZ8vm53j5pb3s2HGAzZv2suOFfUydNJUbbriKiZP7E/foeVao0X4fq2Yk45gkQ5pUAosHKcCUkYI2AUWooWWT44f2snPHSzz5xFbWPPcKS2+6jmtvWkxey6rn0RT+UJHYpcum8HuDEEKZ6gh31ipNgk0J1cVLRCPBG5y1YAxCJMaSsixRSeco282qTnHKFxZjEAN5nggfQ4iJ0VlSXxhKgvfE0qExTwSNCjG0QUY4e+YkD917P08+uZJZM2bzT/8//4iFl11MPc+wJo3V76dIQ5o/Xg1lSGXGJF0wedIkccCGpF+muaYZIQjRWLBCjJagDbwopRZQ5Ya2ixZBWwgBLYF2C9EaSAMnglPF+0jUJASaioALSeaMNKQMUEeMw9ZS+gOBqsZ5Mrp2Kn6pvnEtr8Z/9Yzpi2kfMpIYlVUDUZPGkwxI6WcqqVSej+DLTtm4nKKURNIngkWxMdW7TlM0NbRQlcsKSb3ubK2KQWwdI3U0CGhBpCBWxjSp/qPSRjVxP4zj7Y+xhK1IivlABOcczlUDio48ReWDHAsZF0PfBpDKKRRipAyeEBMzh4SYco7F4WJAYkAFgphK2NUUvSaWaIQCQyE1jEvM3g6wIUAsiRgKNZQxeb9zIItAFdFAJU93oJL28RIlSqqDqDZxXKimdVaSEJ3kAuPAgA++Go/gQ8BaqeSVcYzjrcN4mPcPQPKY+CSiq8VGUy0cbVQsnoyoASOenICEHKKjcEqIBTVtI9EisQFeCLnQyhTPWUQCNekia6aC9aEmmABGItizgCFqDxFBosEqlHaARJM0MQlbQE0FSxsYrMTgXlRrWEmlRiAxw8bgEimQKiGEiqk8edepFtJxvM0RU3Up7wIt0yYnklGH6BDviWo4q4asVlCnjQmNVPvYJOblaJS2ieTeYL0SswKrFoKjyJQoHgcQI0YMIYKtKvgiEa9DqChR+oilIYuQ5WdRPcW5Q2d44JFV/Nl3Hmbg2BFM1oX6Gt1M4GOf/zzv+8IHmDYlZ5LNMYVAO1CrK5K1iQYijhgbafcUMBIgDkNULF2oOIaip2EcLkKTSM1ZrAcVZcRGgpQ0YoYLhmACPkZc5lAKiB5LnaZxiI90hRFGsoy2yZg4LMRaoHQeJa82/5IQk5JsrFDGtBmbWCSh32QVyVbyKEZpY9UjwaJSJ6hQaoHNM8pSaYgg2qT059jzyl5+/w//J+s2bWOkqYh0Yb3jootm8Uv/4Be44a5bMd0NiIGJCJmPaC3DxGHQyLDtR4AGAQkeNCm3pW1QiKURFdtO69eJrqNk1OiNPZx7dTcPPngff3HvoxRM5Fd+9Ve4+0M3Yus91PJuesVgiCBtTBxCtZtAF8VQQd6wtHPItJ28DEVXsuY5GM6HUQk0sKkttA7BYfEgg5QmJ0qG0ywJZ6S8Y9BUOsvWKIPDIuTSKdkHKpFWa4SuWo3CKJGcmjdJm7SRtrFE2uQMQ9syMtzG4wlSo69/Ukc9qwiPkrguyQk8qrgl0V4ogxA0ULegZUpqUECynIBDSaGKVhWjoHiUQKk5ZVvInKHlWjhKukIDEUchbZwZQOlBtBsJBWoM0VTMsomIG0ti9MYIlqRce2rJcOU9bWuwEsl0OHnZg6PMukCTt1t8QC0EAasOA0SbGPFTwL9ggkGioEUAUSQX1PjEDI9NpGc+EMmwpiLtk2GMGrJQBzucRnrsggDtWFDkkS7fIsOA7UUlUIZBcL3k0SFtT5kJzdxSI3EiGAUJmqw9to2KwdNA1BKKFGlg3FAypEnXuJL1I4AYFR88IklBKopErFev1St7SDJriiTjT1kU5LW8+nUyvXTm6jjeWiRDRifqKK0NcD5CMdlHFTCEyhKfWYOvIrdyG8HUUDKKAM56YjzDcPTkdgoOR6hqitsAuUasaFqLjKICpVb7ajW7TUwED0EU70DiMDUc6mu01FAYqLuSjGEEaPkJCJBbGNERrC9ohDrYHG8EdSU2WExwDBiouUBDPYIFkyImxjGOtwLjyvQY6+oFSqUmZRqUqA7U4AS8Se+5mBGNR6XARovEpLAWomBKcgrE18CnEKiQQWkVL+eAFg3q2HYPIpbokqUNUdQ0MWpQnydPHZLqq5phohpEu5MFn6QkWesRUt4S1FDJCEFBA86WyeKoFsEglRe7g7IssdaOlssax9sYMdUU9iZQ2MQYnSEYNeAjIQpDYpHMk+Gpq6uUBkGjoa1Q2Eg9GjJVxLSg9KA57VqNoJ66CfjCk2WJV74TgqqqYD2BQFHm1K1NgjxDoCPgLQNDLQbODWG9YWCkja310a+TMT2Gnjn1VE83BkQysqo0j9oCFZ+KTWkX0SfPlrOgeg5rFY11os/RDGwJgtAm4qzBxMpr6JSAh1JxarG5JWogSqz4ry2ijjZCJpG8bNO2SjA1ugpLtIHSJiKlZG9XQtTkMa28wQYgtFGfanWrcan0k1Hww2QGJBqgjldDzEltV5ZkYoixIOJBA8ePnWCkGfAxh5hj1dHVyJg6s58RU2JrOUSox0BmHNGA0Rai0JRuxECNgIZQeXgNahwhGGqiUAjq4Gx+FqOW7lhHymEGB05yciQyPNLFxZdNR+0wWd7AaE4eBTURlTYmtBDtQrWW/NRWKSVQo40LQOweFX+HbbMqpiRYK4RgEc0QPDEMo1lOUMhMLbWjKrYKuVNJYzK1vMX5FKkTYiBkEUNiQS8QxNTIguB9ickMwQghtnC2xJYWMbVU/UktqkIZi+TlVUNmLUYUg6+YuVyaFyQhUaMBiRgT8D7ibC0popX2rRIxeEQNRjNUI+2iSV6vE6tiaaW2yKNiQ4axllJHMK4NWsdqF2hJiEoQh7PgoxKMJZOACQViXfIWx0io6rWqKtE4lIjVJsaUqFqC9IImgjktT6PGIbYH0fQcwSayuuQbdkihyVvs0h4jMaSQ+szhYyAXg9FkNIs4SjUEU2JCpE6GakEQwVMjM6nUmWQ5JrQwKD7WMM6AlqhxmCiYWBKMxZu0Vmjl+bKqGCmJtCkxqDTIYprLSEDNCKoWY+op93Ycbw+8SUpMBqGO9BiqFAnrLKSKfLg0zSh9iarHOYuYZFJDK7I8zhu2zivV48r1W4FRI+Eb3pdqrVGtTHAiGBJpnGhM6wsG0RJVQ5SMoAoErGlSkuGpQSkp+M0mj7OrQrCxAawSyWgHQYzFVZVrTAyo1oiiBOshFmRYJGZ4HMEo1hRYbRO9EG0PMaaVIdo2uQbEZyiO6BQvbZw6jDpKSQZKq+0UkTeuTI/jLcS4Mg2j3trOgsLo+h4wgFpBySBCaSKokvtEWoS0ofJGRAOpIlFApIBYS8KdSRZBrWpyihQY0wLfVbELKcGk0BkBnBfEp7DRkEcKU5L8BjlZyFD1GEvyFmiscg9T/p0qo2VgjKk8PaTQvA46RoPRZx33TL/9oRF8wKtSVuGoTj1OyxTuHDNa1qImKSz12ILYxNgcpYumGDyRPEJWtLFZCSYSTYOCHIuS0U5qo2ZV3nIScVKkePJzUYVxGgXBo0ry0gpJ4QiksWwsWdMQUHwOLmjy8ppEiuwQ1ChBCiJtDHVMzJEyTT7JBkFaBO1GQwMryTMvpkqLSHaCpBuJJ6pHg+Akw4hBJYCEpOxoqq+uscrurEJk0yxP+dlRwGpVI7p6nQSPxG4tWgVYqwMcUYS2QkBphCZWQxX2VicYQ9uCI5BRJK+gZHixVWB4NSdJFxkb0RpIFnwhhbhHAiqKkYiWUMYMm5n0Wjp+BkkGik6SohqCMYyYSB4jteBRK5TGEtVAaXE24mkmg0zMEDK8CwRaZGXEhC5QS9tBmSlCMhA6tURtICkaOoXfVX9XPqikJZPy3Tvh9opSoNhoyHwSuNUqbZfWNoul5l2qnWygbRNhXqJnTOH4YwucpNTg1Cep/SrFK0g1rltVGbEagmBigaGFwaGxkeqqu4DGFKFhnCeIx2uGSINYgpNEyJYI8UpUc9BEACcKSElpUt54rUz3GDIwGjBSUIrBxAwXTRI+JcUWGSMUKgQx1CRi1IPJib6qY24UNCLWoOTJqKWgpqjIwRrpmRTgNGgtGTgUookUroWNAXAUpk4e0vho2qKKpDIQa4l4TAJ5MJgA2CG8rVGSDB819bjowedEYyiziCGR/kjMK+U3pFxpdcmgLIqaEqVEyBHvkCB4B20LGSWZegRDWzIihloE4yMqkZAlI0CKVRjfl942eJOUmKIckgihqKYophgqdnyq0FoBJaRDQTAY8/+y99/xcl3V3T/+XnufM3Or2lVvlqwuWc2ybMu94YIrxdiAAyQhJHkICUnIkzw1pEMqqZSEFpox3cY2xr2q2eqyuqze6y1Tzjl77+8fa8+9V7LhefL7YTBP7vJr5LlnZs7Zde1VPyuJ+zneWFQ+ir7KhvQ1QD9Bakxfr2G4l3y/fPZ49qJWkhAxOpAEXzTmVEOrffAYU0SMFouIlg/0kf0b1Z81lUcqYFwsy1mCoMqwSIFIjgtNePEIucoVQTSFKlh8EESqUfooqzKPdkKoYPDY0KKYG8bjqCmmii9hnMH4AqhDUgY7oEwP0OtHA6ZfNIc4RETDRv6PmFibVAQKcIWnLoA32GDwaVC1IpRi3prHaGYYBCHEPLy6CwpgI/SGQkkwhKKR5KigO16gwFOgwGdRzldPghispFgSjCfW4oxfCFZzJk2CGMHYBsPTnLz44DP621+JHlCkf54ors84Zz548OrtNEaI5ZR1Tg0QCkK9ojmoRHAkG0HJohL2Khmp34XGytD/qyeh4U/Qa7Y3TK8RQgZRPiKAUcCZxAjWapqEC75XwWq0QV99yjpO8zkLl5G7ApGAy50KXf2Wq+oYTsuuiCGJB30IQWvrEii86+2T6n0Nj2O8UV9nXpPOHKG4L/sNjBG1tKuXX3tWqfUH+jtTW9Ze9j1fGv80muNjInLhdTgbeWEYjLWUUiGJPwpaSCy2sN/4i4ZKC1b5EYA06lMbQlHE50qvZynEnwtGLfiNNhlV8J0U8ZqOQdCUdYz6LPq+TGOM9G/9tK+/r1pvvb979Sd9ZofIpxqP6X2rAHTqDml82PfrBulVH/OM9Zr3kBdFQ++nXs/IiqKRPdxrLNCpa4yrxcXwbFXm+92/MY6N66GxN/SIVb5somnKY43gioIs9/iguaZilZcTzmTZvbfsd1x7r/mAQTQvWRqp7lEYNgJWTN/8xyb27b3XGvGz5yj09b2X+o+zgdCY3/7DLw0c8TNmhN7nN+7R//PGs3WN9rvZAL2BSUSxGxTFWw1FEKFcGlPY2LtA4c5eTwP0s6aGHBhCwOUFRa4YFc5rqkiv3BpFSUGrI9CQKUQxLHTXOggFEgLBQSj69rtycz0B9RWiUUbPaAkpIqlGL0iBSKGpjyFBKMWzVtm9Kv7x3qKYG9o+jcnpZZUi+oMBGqDXmfpO5//k5L3vLQvQS9LYsIqUaiSQBC1xlUuB80A9IXc5BbkqqRJ9RSHFJoY0VYHbe8E7orcGQkgUPVYiQm+wauFrCGQSS4YEzX8Tkihcg00VPZUopKlQHCgKR61WxzmHiGhYlQjOnYniDX0K9QD9fJHWEFYxV2j8AyF4rNUQaecgzzMFqEsNIkG9nK4gz2oK2xwF3j7Rpk8A1oOvoXyqSpBEZtGnYOhvJEj8nnof9ODT8OjgCoq8oHBQL9Srlp4l4DfuA32KnZZSFqxJSGwJFwRbMmCJiN8aJlsU7sxDOThwBcEHBSkhKlkSd4uiPfVTFxrHeoMRRmkh/m3j4d83Cv0kRKG3xFLwDtKogOIpNzcOb+nHYvuMBY2n9h8F7x3eOyQaHoxR4cN4/aWPodEGKHJHnmtUQKP/6hFo3DVGuDTy40S9RpaAlUC5rHxGpKxocqJjqxMbFU6vwG/EZ+iwqaGwKEJEiD6zE/371Xe5f5usgmoZNbQgICQxvL6hwOuYCpaE5DXUsf8D/aj2iNH5Kgpd6QmkSYoxKaQpttxGYpsREnwewXcaNwoGSCgwOFHnt65Di/HRYGGCumIISBAICQbde+pCVvRrEwI+z7F4WhLNtw7Gagh4QAW/oAJi7+PjS+IfIajwaaNRTKNDgjYTzevW/e7JnCKSE40Dug/ifYUzDB1xgyFxpTfmTd82BGG9SyMHUvd65A6RYUiw2FBCQmP/abt0Lxm0oJyuwb6nn/nXAP38UGITfIyKaSg0rlD24SLLVQOPIU3UKz1AbzxyhUZo2iTBJJr+p1tXjeLBC0UBWe7p7qn2ypkhBAoXIy99iB7pqMNa5SZ6+sXDpJciX0SxSII3FHUTAQodkEUroVYY8UHI8ow8L6jXcvBBozK9x+cNhiYUriBzMcJH1Ms+wFYG6PWmvhP7PzklSdKrSHvv1ZvX8OAGQfAYyVRJCABO5Z0kwSYWa6zC+wetpRi8CsMBr0BixmKMxXlF3fY+ITiPcxnOOTwBJ0JOI3TVEaTAi8dI9P4VCuMtQXAOzY1Geku/lEoJLS1lRWn1Re//Vejqs0CCKtMDCvXPGRk1vzaEa0XX1gS14BrlIaJYKgZxOeLqqvygwncpUQROJNVSFWiZJ4L08wopCX16T//X2edSw3vX53VCc2ZDleMnT3H0RIUiBJzPCWop6v/r3lcIqsPpx3o/7wN57vF4gkSFw4BNNXJERI0E3uUYK3R3n2bf7t0cO3acaj3HiCJ/SwgKgtNrPmgI7v097aouNOT/Pkt6NFiJKGhTw+AWlRZJjLp285zgNMBVuyFRyegdpFcz3N6H6zME9U4H5/BFEfmQ4NCQeRFHKRFSm8YnaO4ZBEVh7qeQWAq1DUT+IWgouARFYc4RzVdH1LAHuKBpLEWRc/ToUU6e6sIHSCTtHan+9sb/WxIVp7X/xmscoDT8zg3vZojRBx4b9Nv/YWW6l876XYwa0E2iayCo+E/hFWQuczp+pSS2s3enCYGEQKr+f4EgPiqesRSWhBjGrejUhNh68RoK7XKKLKNWq3L48CH27tzKvh3b2L1nH521giJA7gIOUayM/tETNN72rSFrtE8SwzSdU1nShRix0vAmKUx7VHzj1tfbxFmJzxEhojDEVIRGzIPyHN0Hvk+ZFlWmlX/oPbx4ICBBr0nvQ0FEc+Abv28o073PEWIbGq8B+nmgoihi7WijcozT9I4YYEGIqShFUI6ua67/DA/M98+aGrJgkiSIMVrCNZZ91JTBaCSLR5kxQmtLCyKGPM5/kmiKoa6BolcmbZyZ+suACSplCJEZAT7Ec0oZiirexkYDeRH5qJ47aZqQ2kBT9BqEQg3GAQhOo0uNtVhrKYJQhIA3yskGaIBeT7If/ehHP3r2xf9s5LUob69y2Qj7zupV8nqdaiUjyyqErEItg0rd4bIq9Sxg0hSDp1bpochz8qJKvZaRZZDlPfTUuvBeUX3FgolJod5ZTnceJ4SCel5QKQRJFbFDgsdah4Q63gg9dUdPVw2pe8gc9dxjmizWah5oCMroXFHggyPPamR1VdI7O7solZt6rYj9Pe9n/z1Ab2RSE39Acy0R9ZWRVyFApZoRbDM+lhMqG4/k3RA8VVcmMyUSG0iDiznDCd4IPiosBlXMRRoKjK6LhrDb/3WG8BNPKW9yPB7rS3ofk7HlpRV86SsPsm1PjRmzxtPWYgghVaU8nqjq4VOPl8WqEiMOpEaW1ejqgTy3ZHkFFxzVekZPpUYQ0UNTPEY8xkBRy3js4Uf4p7/7R/YdOsyYyecwePAg8KoI2BgK1ivAReFdGoe6aD62XvW92eJElbWRyNEgFQC07IcJnlDPqeSGLE1IrI6p2uQ1/jagoHB9o9uPRFM+FFBMBQeX53R1d1HNC4oQqFR6CLUeEpvG+VMlxVL0GkJMVGx0LjOd3dDnNQePhIJKVxfdkpAYQ6kh9VrFWSDL2LpmM1/83L2crGWMPmccLWWL8UXML1aUeB2jxpoIcS2c2bPQ70/ttxoEGl7M0A/ZVdea8uLGOvwPl6WNyzOIFgUTLCaIAuGEOlm1TqXHUc+gVmRUsxpZ5iilpdhAo1naDaNRb1stDhuND6oYGq9tVKRiwZkCj9MxCrpHNfLIEbwnz+psWLeWf/30p/nO17/CU489wrptB+gYN40xY4aSGk3RKZxTwDSRGC4eB6HXGGTxTp8rUiU4S7U7UKnnOMmoVbsoqlXStIm6TXsjS4I4LD4quVZ5BdFAFr066kV30Xis+xJMnCCnSjKKvgvEsUUNX6JhoQbTG3LeuxxEo7BUiVaPl4iaiARp1B4jDtv/X2aUAfopkYB3gSLL6OnpxjtHvVqhXqsRxOLF9rMeeiQEjLxGLrxac/stmIGZf73orNM78m+VBRsfhBCo12t0d3eRZ3VqtYzurirWlkgSg2+c39HgbcTQ3VWhXsvIsxreFZRKzcoTAzg8YmKUVAMDA+UnCgIJlpJyDqt8J6+r8bzrdCfVWqCaZXhRgLsQlD8EX0cCZJWCaiXDiaOnfpp6ntFTyYASaSIY8Qom2i/aZ4AG6CdNAwBkqDWtEa7SUDAPHjjIIw8/yOOPPkpXtQpZnbIEaqUW6t6QFjnnX3oFb737Lgbj+O63vs7yFUupZz0E34SYNgrpJAs5Q4dM5rJLruJtd97G8KGWY0dO8uQPn+f+732ZPO9GkhZmLbqCW9/xLmZMG0cZT4kMX1TZunsP377/UZ57YhkthdBuEy6/6WbedMdtjBs3GF8ocIQhUBR1urpO873vfY+HHnqIeu4YOqyD2269gxuuv46mpiaSREEYer3uAwr1zwcFD16xqXOj4aOpq5F3HmHpc0t55oXVXHjt7Sy54hKsgVZTo+jZx+rnn+GRlYdZdN2tXHrhDNpChg1CsFob1wGpxocSTLQaRw1I0JDSV60OUUwApC+Or0gqeKBUtCHGgelm+Q8f4uOfuJ/Rc27kv//PuxnSWiEJ7ZRtgkRvmZMGUoDF+BTygNicenGUp595im9/Zym7dp/E2FMgjiyHkSPHcNONN3H9ddcwfFgbVnIN9co8n/uXf+Uv//ITXHzd9Xzwv/035s2aStmACVq+hcKBTaPlW3OLoeH9FXysAayKXUOZtrgY1B0HIHrvIHd1RAp8Tw/Pfft7PL/1MDOuvoGbr7uQFEgJCFUFNaOpV0kTNcJH8Qa1iKGueZ8X7Nm5k4e+/30ef+oZ6mkZX7K4WheLp0zg1lvvYu6Fl5K0lrHisFTJpQwhpdRATjMOpIcQyoRQjgphjgTHsW1b+NyX70WmnMdbb7qBc4cNxyAUtqCQGknuWfP0Kv7kT/6O+ddcyT3/5X2MG9FO2WVYtNRVEQKpjYpvQxiLUQf9j5ReZVpEw/LwvUBcKHxMr4Bn8NFrrLm4yJlC3v+RQtQ1JeBNLQa5l7BBwFfZuXUt3/z6d1ixcgt5aIKyJwt1Zkydw13veCfz5s/CJAkJaP1z70AKvZ+k5FhyVSVJ8JScInBjHIVYCnEE6pRcEzYCSxZGo46S4PFZxrGjR9m1YzsnD+zm2/d9nc2dTXzwf36Mm6+ei/Ux+MQ7rPEaIRm0GkQAkJwQMgxl8BbBc/LEJh5/5AUeeWgV+0+coHkQ1HqOMKp9CLff+S4WXP9mhrW10hogkGHJwRuCKVM0DBkuqjeiqUVBsihkJ+AVMEjhtvMIwGepG00KSbxBfMCJxxmn4fneIE4VY0zQOTEOJ15x33sBiHKEDEIKPsWL4EyItcVfpXIN0M+SXiUl6t4/evgw3/vud3ngge8hEW+mXCqz+NJrues9v8ygIWWtdBB3uon/9b9fA6CVaNb9v9/wA/R/S43hjty1HymXdM7hXE6aphw5fJhHHn6YB75/P1mRIyHB+YQ333QHd7z1NkaOHApGU5NqtR5WLFvOFz//ZQ4dPExzGaZMnsRb3vErzF+4gHJbonhCUte0I1+Kpj2Uz0iO8ymGVGUNqeMLy/HDNR7+wXd46JEHqNUNHSOHcPnVl3HXnfeQ2ghPaHrY+NIqvnHv91m7fjum2VCkPVSyGoMGj+HOO+7hxmuvpL1Na1CbATTvAXodacAzDRijIUqN90ThcFD7YKZOncrc+bO49KKLOH/u+Zx3/hxa2lpYt2o76aA2LrvmckYN6mDYoEHMmnku8xfM4fwFF3L+BRcydcZkMPD8C2u59PKrmTFrKt718OwzL3DiaBdLlpzPxRcvZHhHBw8+8iR7Dp5k/IRzGTGsDSsFu/fs5ImnnqPwCTdedwPzZk7H+ioPPfYUx3rqLDz/PKy1WBHqtQrLlz3Pl/79Cxw9dpzr3nQDF160hPMXLmb27NkMGzoUa+0ZHurXzBMfoDco9Xmmid5UKwW1ntOsXr6Cr9z7LRZdcgVTp09FDJSkIFSPs3rFMn7wwiY6Jk5n/nmTSPMqgpCTUPe65hOvyrmmF4h6ikVzjbJ6jUSleoJzvbmcLkQftfNQVMmTAi8W40rqMQt1Du3czJNLX6Zl1HlcfNls2ls9ZdPUp3xF/UuVKQXmc7lHpE5WdLN8xQqefGIVN9xwB9fdcBnnn7+AxRctYc6sOSyYv4CO4cMoJUZhvr0KCWPHjOeKK67m0uuuZ9y0qZQSS8mAKTJV1ExERhZLrZ4prgCOIs+pBwtGCIWidxs8OK9I3FpYicLHtkaFJ4SCIAHJKqx58mm++9Ryhk6dzeL507E+BrNKpqHh0Svfu9t632jsrTTyUp2j69RJPvPJT9I+eAiXX3Mdl151JRddvJhda5fxg4ef4lR3mQnnTKW1VbBSJZOU3FvSxoAaj+Qn8aZMvUihUXs+qxFOHOFv/+Gf6Gkfxbzz5jB6yGCMF3KT48mxAfbv2MfSZS8ybuoU5l04n7bmVMtahZQiGBSQNxB8TlEUmuYSwYWKXPEjAorumxUKkJd3V7BWPa0+KIgWIahBUITCB7zTcH+DwTuvYHn/EfbU0Mwl8vOoloWiTtfpI/zTP36S0aPO4cY338biJYuZNWcmr2zbyfe+8z1CSJk08VzSRNRrKkVEcU/IsgJJEnxQdIC8yGgiAV8gFNRIqAFCpnVOvdFUB4E6kKBhlG2DBjF+/DjGjhrK7g2reaXLMvvS65k1uYPUaIqhGIU10G73KRciXmuwh4TgBBMK6u40D9//MKtWbeXWt7+FS668iPPnzqbVpPzw8Sc5VA+MHzeeUkgolQKmXoci4G2JgoD1TqtAiOCCx7k6hkpUdFMCJbVtBAfkWrYRSy3iLtgAUhS4UJAZNAqkUI91EEX2D4UnSI5C2aVkhUYcCDlCHYIhiGb4+xD7HlMeBugNQq+aDJ3/NEloKpeZOWsGi89fxKKFC2hva+Op55ay59BJpk2bTntbU4yycHjnsP2UGjUSNd5JNKG86mED9BOiBns840pvyl/QnGlraWttZdKkiZy/YAGLLlhMc3MbK1a8xCu793HutBm0tbVQFDnLly3l+eee58ILLuLKKy5nyqSx7HplG888+yKDR4xn9LjRODxJg7eFftE2ElOTfElDy6WHwh1l3epNfO4zD3D48AluevObWHjBXAYNN2zcspb9e+tMnjCVlhaLcTX27t7N/d95iNmz5nHjm6/n/Iu0vXPmLODiiy6hqalEc5OmcA54pgfo9aQBZTpSf6+0iJCmKcOGD2fKlKlMnTyOqdOnM2XqDKZMGs269Rs4eKLgmhvexAULz6O9rYWxY0Zx7pQJTJsxjekzZjF92gyGjRjKspUv0tQylJtuejPnnDMagie1KVPOncL8BbOZMWMSE8eO4lRnnRdWrGPEyDHMnHou5UTzRdoHdTB9xnlcvHghc2ZMYfSIdjZu28XLO/czY+ZMJowficsLtmx5mW9+4+u0t7dx7bXX8qbrb2TmzFlMmDSJYcOGUkqSXkNBo6/WKkDZAP0ckDTAs9R7igQsOXm1i20bX2b12pe59JobmDJtCkFUmaboZMeWl1m98xST5izkvOnjSEOOBENPLnTX6+S1KqGnii8ckljEGgqvgCN5PSNNLdXuTlyeU6lVqVYqSJKAVWTjxEAoqoQg1CQh787J61Vc1sWuTWt4bsV22kbP45Ir5zKoCa3JjubUQaPMVSM4VLDGADWyopv1Gzbyyiun+IV7PsBlly9kxozpTJ82kylTpjGsYyhpYvHeYY1Q5BnVSp1SUmbs2IkMGj0O21yiyUISnJbtEk9erZPl6uE3SUJ3Zxe1SjdZnmGamikwlK1oCH3w5N7T2V0lK6CSF6qAW6GcGlxWw7mMqs+pnDjGjmUrWbvnOCPmzGfe9AkUlSq1Sp1g6qRpKdZfjsJMfNPwGPReDwFxBT2nO3n2qacYN34ib7v7XSxaspiJE8YxbpBl5bJ1bNp2lFlzFjB+bBtZ/RhVSShoooRiKIhxUDlGrbBUfTmC0NWpdZ+me99OvvfQD2H8bObOnsWIcoksK6gVNWwCkhfs3b6HpUtfYuQ5E5i9aC6lJFDt7II84KUJk6Ih2QLBaxhzUc+pVSrk9Yx6LadWr5OWmrClhCLLKScGX6lQFOBI6O7pxrsa1cppxFhqLmDTspY2cwVJEkOP/yM8Sh1cGpIMivYdILg6nScP89ijTzJv3oXcfOttXHDRImbOmEprmrD8heXs33eYOefNZfyEEYSQY0JBrVIhqzvyusMVOVlWJW1qxtqU1ANFFSTjWMXgE0MinsQnWC8U9dOcqlSRtJkkaSiQWj+x6DnOumefYPNJw+xLb2T2pCGkvV6jRmQE0Uuv7zQEvuhF0BZx1LKTrF6+hmNHKrzn1z/AhRcvZM60c5ky4Rzuf/ARDtQy5s2bx6SxIzEux/qCWk+NSlFQKwpcrYd67qjnUGpKSYzD+1MInp6Kx1Gm8FDp6cTnVYpqnUIS6kkCBDXa9ZzCp4a6WKqVKjbLqHedJiscuSSUmxKs8XR1ndKa1FbhzWyoITbTEmx5wsnOOqWS0UirAWX6DUb9OdWZl0eMGM606dOYOuVcps6YxvCOoazbuJWXt+9h3sKFjBgxVFNsgosI8w2Axv6MTwaC+38K9FrKdCPNUQ2d6lDqGN7BtGlTmT5jOtOmTmPs2ImsWr2eF196iYsuWcLIkR1Y1Y4Z0TGcSy+5jHnz5jJ50ljamxMeeuQZTGkQ02ZPo7W9GaHQCAXfqEATz34x4ITEeAJdZPlx7v3qA6x76Rh3vv3tXHntEuYumM7EyR0cOryPHzy8mvnzFjO8owWbFBw+sJ+1q1/mssuv5M23vZkZs6YwZdp0ZkyfRVO5heZm21s+dkCZHqDXkwaU6UgNpbJ/+HPDC2dQBFhE2LdzC9/5zv0UbaO4/Y7bmTBqGF5EA0GzarTiB3q6K6xas4Yvf+0+LrvsapZceiHtg1oopyWGDetgRMdQyk0pEiq0tCVkdcOzL6xn3PjJzJ09jbZmoampxMhR4xk6bAQWQ0KFtlbYsecQm3YdZMGCeUyYMBbvMl54/mmWLX2ed959Nxcsvog0bcYVnjRNqNU0pzSEPk/0Gf0coJ8D6vNMa+k0h6WgqHSx/eVNrF63kcWXXcukKVOwRkilIGSn2Ln5ZVa90s24aeexcM5ESuLoPn6Sb3z/CT7z+c/z8APfZvmjj3H00GEmTptC2tKqqq2AdwXbt23l3z7zKe77+r388JEf8vzSpXRVqgwbNZrmtlbE1TGhhrdlVm7Ywr9/9t/49tfv5YkfPMDSxx9j3ZYjTJp7NYsvO4/WkqPFpFruQgJgzvBMxxRcTJJT5D1s2bKdTZsOc8UV1zF23OC4bhu+Cz0cDZ7jR4/w4AP385UvfIkHv/d9nnt6KccqOaOnnEtrOSENhdbyLXLWr1rDdx94mKSlnS3btvGJv/0bHrr/27y0ciWmdRiDhnUwqDnBeEdRZOzevoN//ewX+dK93+Zb9z/MmrVraWsuM3H8KHytwt7dr/DZr36Jb33pS7z83FJe3HWMrSd7WL3scR57+FFeXLmOQroZO3YMTWnbmbJj3HoKjRWDeYMnFI7Tx47x1GOPMmLUWOZccDGl9nbKpYSOFs+uzXtZv/Uo48+ZSnM545GHv8Kq7bvoGD2Z4a2tiNew9u7Te/j+g0/x6AtbKSUFK154gi/966d58ZEHWL5xN9s6PeteWs1LTz/Bo488zu4DuxgzYQRD29s5fuAozz2/giFjR1NuL/O9736Dr33x39m4agMtg0YwYtRIbKJtDt7T3dnJ0088yT9+4h/4/gMP8sSTT7F9x04uvfwy5Y8C+YmD3PuFL3GisyArDP/6mU/xta98hhXLnyH3julzFpIHNQZYKbDWR+T5/4AQdJZnGqyGFYecrpNHefiBhxk3YRrzF55P+9BBGHJGDm5l8/pN7Ny5nynTZnHutHNJSnD48AHu+/p9fPHfvsj93/kezz39BHv37mD0+HNobW+nTKDeeYRlzz/JVx9cRse4yQxtL5N6wWcVVj7/Q777yJO0jDyH0R1DNGxbQLzH9Rxl/bOPsfFUmVmXvZm5k9opgUZDREVal0fMy0Y90wrKo9n4YgO1+nFeWvYSe/ed5OpbbmDwsFaagqPVlnjk8afpbm5h8eILGN/RQYLHVSo88/AP+NSXv8y37v8OTz78EBs3b6OpfRgTJozBSEYiXWzf+jIP/eA5OntKHDtxii987lN840tf5NmnnuSVfQcZM2UW7S0lkqKHF558iOdXrqRumtm6eSv//sm/56FvfIWnl61kyKiJjBw5nNMnDvKt+77Oypd20DFiNEOHtGFDHQkVOk/18ORza3jgoafoGNrOkMFtlNL0jGkdoJ819QeJ639ZFTETguJHiKeo19m8Yy/7jndz6WWXMmbUUBKjwIpGJAKqRjo7OmlAmX5d6bWU6YYDKYRYb9paRKAocgWvDWBMmU1btnHoyFGWXHopY8aOwFjDsCGDGT9+PC1NzfiioKkcGDaomW8/8BhJy1Dmnj+P4cMHkwgk4mIK2ZnKtHgo8gJjKxw4vJnHHllJWc7lrW+7heGjm/GSkZTq9NS6efjB1cyeNY+xY4bQXPYcPniQ1S+uY/r0OUybNZ20yeBCiHWvTfSGDyjTA/T608Dqog+ArMFUFM3bUTgtsSMYyOsEMlYsXcqpk50sWryQiZPGKfqhBEUtTDSfDIHu2gnWrl2HLwwXX3IxQ4a2YwRcIz815MrZrOCy09S6juPzjISERBItrWISnIN6PeZ2mjpZdpxK7TTeBGyS0FOt01XpYvv2bYwaNYKRI0cQQiDPMgrnqNUySiWJQNBn5TMOIHr/3NGZ/gEFbPJFgcvqdJ0+TaWnQpbVqNaqVHt6yPOCPAi5KOL8yUOHePC73+WFZS8yZuwErrrqSs4ZN4pVK5by5S/+O3sPHMAFx6muLg4dPcyGDeuYfO65XLTkYhZecD5e4IePP8rTzz3LqZ4exEC95zRf/crX+N4DP2DshJFcffUVXHLR5Zw3ZxojRg3BNFmSBBJTJric4PLenLuGRwJEnZDGa0ipOJwPFIWu/SJXYSsxQmKNlsQIWqKpqamZcyZNYeGixUyeMo1tO15hxYurOdFVxwf0EJUAWY2dO3bwhS98gb/484/x7e/cz4zp01ly0cV4V/BPn/wMW7bupF4vCHi2vPQi937py9SqNZZccilXX3c9E86ZzJ4DBzh69AhJIgwdPIh5C+az5JJLOHfcWNoHDWLMOZO4ZMkSLrxgMbNnn8fYsWNpaW7RyXvVdtMLjb0YQEPNvcNlOaHwWAzGCj54kpDRXEpxWSBJmkiMZd3qlXzne99i94GDKiwJFPWMYwf38eCDD7Jj1x4mjB/PtHOncOXll3LB/PNoTTztw0ex4MIlXLRkCZdccgnTp09nUPsggiuoVHvI8xqbNm1kzZrVDBkyhMsvu5xKpcZ3vn0/a9aup6vSifeePXv38MlPfpLHH3+CxRcs4vrrb2DS5MmsfPFF/viP/5T16zbi8gyf9fDck4/zZ3/8l/zt33ySoUOHc9ml59PaGvjKVz7HE8+soF4EvNVS1yHUX2vAfjxJn9yvpEYoH9HRJQL0AYgEEgmYeifNxiFZrsjvCRw8fowtO7fT0tbOkosv4YbrrmP8yA6WPvUI37z3PnbsPEYQKFw3W19eww8ffY6eWgv4EkmaEsSxbcs6nnj8aU6d6sGhiOwNLFsJnjQUgFDEHEJVoHVP94K6nUERDDAqND6rI8HF/QAnO0/RU61Q6e7hxaXLOXH8BOdMmsywYR0EgVp3hRVPPsWJw4eZP28+V1x+GefNncWWrRv5yr1fY8WLWykKD1JQ7TnJww8/zB/98cf50pe/xpAhw7jskssYNWIoD//gAX741FKOn67iih527ljNl7/8ef7pk//G88uWM3nyOK68/Hx2bN/KV+79Jpu2bqepqcyp48d47NEn2LJtn5aVNIB4jp88yiM/fJRVa9fT0tIyoEj/PFBcnsF5jGjN9mq1SrVW4+WNG3h508tMnzmbEaM7sI0NF2WQXup9q29ea8UP0OtP3msFGj1ho5wYz6TOk8epVHpYt3YtGzduZPrMmUwYPzpmvwveq9EdAWMNPq9Sr3bivJbmdNFUrF6mfpPsUdyV3kUgGFMirxe9pR+zPItGd4uVMoMGDWbY8GEcOLgfj8NLoFqvkRU5Pd3d1HuqdJ4+TbVS0QogTmWH4LXywgAN0OtJA57ps5RpY0yv91ZrOIMUHiHn+MFXeOA7D2FbhnH72+9g9LiRBNHyojavI75AnCerV1izZiWPP7GU2ect5tY7bqXUVAIEawQrAWsLtdK5Hg7vXc+D9z/OoaMFF118BfPnTcFKpoAMtqyltyQQ8qPs2bqS7/1wKXXaufmWGxkzcihHDu3j4QfvZ+jgQQTneeB7D/HID5/mhaWrefnlXUycOInmlpQkhvE4584I8R7wTv88UICYh6ieaY8hp6h0sm/HTh57eilHTtdYv2kbTz79NM88/hArn/kBzz77LFtPJMy79BpmT+ngxacf44Vnnmf6+Zfw3l96D5ddtJDFM2eQ1Wo8uWw55cGDmD5rNqXUaphzvcY1V1/F4osu5ILFixk/fjwr16zlwLHjTJ05m46WhM0rn+ZfPvdNOsZP5e533MjFixax8PwLGWyrrNy8Hxk2k0UXzWFYm1DGaz6vGMBGr4R6JAxCcAUSKhS+xuZN21i/7gCLL7iCYUNTvMup1wuqlYJSYhEjGNEIjonjJzJ/3kJGjRzL6jXrKZpaueCKyxnRXqaMR3wd6lU2bdrCQ489SfPgYdx086388vvuYd55M0is4ZsPPcGkKdM4d/xI2sqGxx96gMcef5L5F1zMHe+4mwuXLGDe/Dm0lpsY1FxiUHsrTa3NjJ8yjQvPOw+//xDrj1a54q738GvvvIVLFy/i/IXnMWrMUEWndiUgOnfiqyFqgALMCQEJ0HX6JE899hjDho9m2twFtI0eRi3rxnYf4vknVnKq1saFl1zBwnmjqFb2sXH/Udo7JrHw3FmKli45yx+5j1Wb9nHV7fdwwbwpTBw3ktlzZjBjeBtPPr+SUZfezgd+8V3ccuVFLJg/lylTJ9PcWsYGz76de1m2bDVZYrjyhmt48/XXceWSSwmF8OAPnsKWhEWL5lLP6zz8wPd5acWLXHHJZdz9znez8PwLOG/2HIaPGMG/fPrTjBk/julTzyVxp7nvi1/hwFG44OKreM9738YVl83m3HPH8Pgzz9NZ72Dy1PMY1J5Sljre9WBsy3/M5tsYThPDvKPbS3ydntPHeOSRJxg7biqzzltAy5BBWMnoPrKXZx99miBtXHrNtUyYPJp6kZG7jEULFrHk4suYN38+syaPYe/uTazZvJcpsy9i2oRhZN372Lp5PU+v7+bya9/ChOEprSVD0X2M9aueYeOuU8y/5AYmTxyBlZjM4B2+5zAbn3mMtZ2tTL/8Fhac00xTxIzvC/EWNc42BE5xQEGIYd5GAvX8JMueXsryFRvYdvgAGzat5amHvs8TD/6AMedM5bp3vYsJEyfSHKBJhFDtYcbMmSy57jrmnj+fRXPnUBjhpXVbKKXtLF50Lok5xe4d23jy6XUcOh646NKL+MX33M0lF57PhPEjeH7lao7Wmpl/3gxGtNZZtfQRnnj+JdIhk7nzrW/hrjuuYcasCfRUU5av3cmE8SOZOWMiRb3C88u3UmoeyXmzZ9JqK1CcYs2qdTz5wgYuv+ZGbrzuIqwZAMV841FjY505L0YMWbXC048/xjfuu5cnH32EVateJG0Zxh3v/EUmTRqFIDHM20NwWOkHBNXghb2nwIBv+vWk8KoZ1DxpEcG5vNeh1HnyBOtWr+LrX/0qTzz+JM8+v5yhw0dxx9vuZNK5kyiXFcDTAKU0IeQ5BiGrHuWZp37ID598kUVLrmbh4oW0tzcjOEqEvpxpiQCFAhIC1gSCy0nSjLWrX2Hb5pOMHNPKyHHtEFIOndjPk889yaoXdzJi5AjmzpvG0EFNHDt8mBeeWcHWLTvYsHEDzy59inUbNtDaNpSOYR1YEcRAYl8DRX6ABugnSP8BKeX/XWowk4aFrtdj6yO6rLHkec6yp55i18HDzJi7gCkTx2OALCi4TJpaTKo1fCu1CmvWrKa7Uuf6G2+mpa2Fcmop2QjYEjwELUjfdeoUj//wCb57/wNMOfdczpszjVKqOWOJTbUdAbzP2b9/P/c//Bhbtu9g9qyZTBw/itRCrdpDZ9dpXt68iQNHjjByzGiGjxiBzx1PPfY4n/rnz7B33yFqWR4VMaPMrIEgHEMLB+zCb2AK/XNHNadS30G9KDAmYVBbG8M7hjJ69CjGjhvP+AkTGTqsA5OkGCNUe7rZsXULhfNcctnltLc3YwWahg1l6swZNLW0sOOV3dSLgsQKg9vbuOiii2ltH0QIjhByzpk8iVFjx9FTy6nW62R5lV07t5GkKfMWXMS4MeNoamnVvMgAzhWY1NLcpDitIeieCrHqKP0Od++dfm401DcES2dXF5/+zBf5o4/+Gf/7f3+Uj/7hH/NP//DPrFv3Mr4o4v5oxAkK1iYYY0EMzuvl3nUukKYpwzuG86Y3Xc8NN1yLGENzSyvnL1rEb/32bzJ/7hyam5sQEcpNzVRrNV5c8SLHjx5SL3g5ZebMaYwYNaZXEhQMReG15mZw+JDhGzwkoHm7NDwzsbNx7np3nIj+1eA5XkOojQTSxGICpEnC8ueWsnXXLi64cBGLFk2jpa2Z6bNmM2zwMDas3UhnV5U0CRzat4vVG7cxYvQ45s6aSFpOtaSVdxhjtdRzSMkLr1WMjNYkFnSd2cTgg2fypGksWngRQ4cMJZiCMWOGk2I5dPAI1Tzj2NFDbN26lY6OMVx0yWU0tTYBjiHDhnDe7NlcsHAuO7Zt5cSJUyDQXG5i3sILuP0tNzJ+/AhsqURbU4mWxHDqdJXO7irGgPMFSSntHaXGWPV/6b99fOuM8TxDcIpREEF5PHiMBWuErF5nxfNLOXToMBdeeAGzZkzCBBjaPoTzZs5j8NAOxBjwnqGDWlk4ZxauCJw8XVXvqjhNWwhCU1M5RhAEJBGMUZR41RXU26Oj3Vg1JpaUUlhB7YBEbIRGmPrZ1NA+JCK4QZKkNDU10zF8OB0dwzlnwjlMOXcSnZ3HWb9mHSePHydJwIScybNmMGLiZLxYnA80tTYzeeI4BrU1s+/wUapZwAdDc6JGqguWXMpb3vFWhg4ZjEkMI8eO5v2/8svccv21DB/chisyElswYcIE7rjjbSy5+CJMKaXc3szNt97EL7z7HqZNm0FqLecvnMfUc8eye+cuDu7rwgdDZ2cX69ZvIi03M3/BQvJCo8EG6I1GvVrvGVS4AhcCrYPaGTduDOPHjWPs2LGICSxb+jwHDx5DIkI70VkxQD87evUMqjMphD6lGsCmKa1tgxg+cjRjx45j2rkT8fVOli17lj0HDlHLinheOfAayVXLMtas2ch93/we7YMHs3DRAoYMHYQPkPwI45hH2Z2IxSSttLeP5pZbbmPWrHP4ytf+jY9/7M/43//7j/ni57/OkUOnFMsiFZKkROYKxk4Yz1vedgeXXXEp48ePZtCgFrZu2cxf//Vf8cRjSzl9WvFcvB/gKQP0+tIAZ6PPM9ufmahsW0dCjUDGvoPHeGzpBlqHT2TWvEU0N7dhPZQ8JCEQvCrHoXaSg69sY+OmHUyYOpOp500l81pCyIaCxPWQFKeRkOGybp59YSVffXAlraNnc93NtzDxnBEgdcRmSOEpIaQ4Dh8+wAOPvsR9j2zn3FlLuO7ayxnWXqJkcsTXyV3G4DFjmLPkEu583y/xod/5TX7j197H1Qum8ch9X2Lj1l10FlAXIVjNK1GKwnvj1U9wHaA3EgmZ03q2WvFYlQJHQk6Jcksbt992G7/+gV/hNz/46/zaB3+L9/3Kr3LV1Zcwbtxw0qILf3wXR/ZsY83GLXzqi/fxZx/7W/7iT/+IP/+TP+fzX/kG2/bs58CBo5RDoIluSiZn7dqNfOyv/5mPf+zj/Mkf/h5/9zcf54lnlvPKgS7quaOonWb//l2UmtsYMmQcKc1AiWADlgwrHm/BOyEBjPWI0bAwH/VHCVp5x4SAUCBiwTdTFC1kztA2tJWRo0cyfPgwhgxpo6NjEKXUICFWbvaxri2G4B3eF/jgYxXMKEEEAUmQIDSVWxgxfDSlcgrWQFJixOgxvPP2N7Nw1hQGtTYhxrJg8YVcuOQiVr34Ah/7o4/yiY99nH/6xD+zZs3LZF7ITRmxKanRIlhVp+WnSqZGmiSIGHwOUlisJLioOIWYHt7fhOW8I4hCGfsixxit37t86TN8+p//hr/60z/hz//043z3+S3MvPw6bnzrNYwZo3WrJ0+cx5yx0zm27RU2rt9M3nOKg69s4sVDKTMuuJLJI5sJEuhxDi8J4g22ZkhDKxlN9ACZBUKC9WUtdeRzSFKGDp5Mc2mIhuDLaYRjDA1lfF2oiuPE8f30nKwwuGMWg0eMxyceSnW88bS0NHPuiGZOHtpHT81DYbAtrdiRg2kbniJWCL6VUk1or9VIyy04ERIB8aJlmEKgyNU4UXid5qxwKoH141u9emh8aVihaB4nDqwlC5YghieefJRP/P3f8LG/+Bh/9Bd/z2Pr9zL/TTdz5U1XMbKjTEpGmZwdW3fwqc98nj/8sz/n43/zl/zlX/8V3/n2/Rw62kmlKOEcBGOoh4wSjtRFAbNWAa8lsVzQcMiiBww5nh6wELIU58tgHN524QKIE3BaKsxTvEqhjmIuuEQXjgGcwdgmho0YzTvefQ8feP9v8Gsf+CC/+mvvYsQIw3OPPM3ebft0HUo3tVOHeeCb3+eP/vyv+ZO/+gR//Kcf4+uf/me2vrSUIzXHaVfGuXZa6hmD20qYEUNwrSVCajAWWocM58qrruPWi+cztr0ZlwvW5ZSTFloGjSRNEwrK1ErDGDf5XN7x5muYN206VhKGDDfMndNMz7GNbHjxRbK8YO+hk2zYcYwJ58xkwvjhFBSIbZxCA/SGod7NFf8WNfgYC81tzVx8xSX8wq/8Mu//zQ9yzy++jxkzp7Ly+cd4celz+LyIv7G4EHEyevcpQDQmDdDrRo3x/XHjbK3tlYHbBw1i5nnzee8v/wbv/9X/wgfffyfzJxmWLb2fx15cRleRY4IlNUZBGH0Pm7bv4NNfe5xlL1d4023vZPrsqTSVhERqJGRQFAQHwSnoWRDF93eJ4K1WCTBmKAsXLeIX338rb77xCsaOGsnwYe2MHzOZmVMWMah9EKNHjsGYFjBNjBwzhtvefjsf+NX38Wsf+iU+/OFf4r33vIUExze+/m02vbwH58+yYg/QAL0ONKBMR2qEt5zxMiBSUPiM5avWsWb7AUaOn8asObMxFkwBLYAxXqPxcNSzCs899TSdXTnnLbqIpvYyaZTZrcuR/BT4bopKF48/8iBf/sYDJEOn854P/i4LL17EoKEJxhQQcggBKeoc2beLJ556mi98/QcMm7SEO+/5FS5aPB/rHeQ12ptKTJo0mVHjJjB+8jRsczNihaFtzVy1eC5DmxN27z9MZ70gD31Hl4iPXpA+9XlAhHljUhBAtNZxowayIGDKFKaJXFJEhOaS5hNXM0FsSrmU4PIaSd5NW+jSMlYBKLVQbmomNUJTazujJk7m+ptv5frrbqJEoOfoPh77/nf5p3/6JDt3HSQvcoYObiJQYJNmyq3DqddyDTWtVujq7iFJm/C5Ic8DwTfQlMF5S63isSGALwDfmzFNlMsa3zXGgxfEtpKmQ+gYMYq7330nH/qtD/GRj/wuv/uRD/O+X3w3582ZSSlNGr8Ck4IXgvckFpLEqL4VAnmWo7WYDHhDS3M7pVITiCBWvydiaEmgNVFDhSscY8ZP5Jd/5Vf4yEc+zIXnz+HQ7p187xvf4K/+6m/54VMr6awBJsUEQXJIW9tJS+Czk9Sp4PEkCVij0FJiVJEODUNCJI8+H0m0TRgoPFk905wvclI8g1uGcMVNd3H7u+5h9rxzSFOPCAweMoELZi+kxeU8/9QjnNq7lZ1bt7K3PpRZiy5haKtGBIhtRkwKNsUaIdTqZEWdzHi6igLnBHEaViw24EQIvg1xBhcceTiFK47R4gytpTZMUsJlVSwlsqyZ7syQUVCngrM5Wb1G/fQRmhNLIMWHhLoYXEuJULJ0dXdS0EKrbcN0VajnOWJUmSaH4C3B5eR5nXqtRlelSuYA06j53Z93xSsNIb03H0+Ffi3bZRGb0tRaolQWEhMotw3hopvezs3v/AVmLJiJpDnUT7Hq2af47Kc+xdIVqyjEUMsz0uZmstwjSRPVwlHLhGBKeCO4rAdxVZyrIYnBB6hUcsrlNvAJTSmIy8FXtaSYaSYPZbKiRmIqmjXtIeRaogqiYh67JjQkYaOecgowgeANeQGF94ixpLaETVsYM2MCS5bMo3q8mz3bO6lV4MT+rXznvi/xw0ef5NipHoItUy6302oCSb2HniDkSRMhtFDOc1xewbWUqFuhK/c4X+BMCiQ05Z6kMCRJM01JCiHFS6pNTtqpmqEUwZCmQVF8TYJNy1ywYBIt9gQvPv8Dtm7fweotB+iuN3PhhZcwcliT7tuBU+jngHRRikWNgGLAGEySMmr8eBbMn8vwIS3s2vYyJnhwWm9cjMVH/ufjXm3w/sZrgF4fOnuce1+9AGRQFAWFK/AhkKRlbLlMKREGjWjj8gtmMGrkIHYfO0LmHUYckleQrqMc2rSef/7UZ3lu1U7edMf7efu738vY0R2UxFPCY+O5j3V4k1F3OT21DO91txeosTTPEkwIzDpvHL/4i+/kQ7/5YX7vd3+Lu+98F+0tIzl58jTDh48iSTQpxgWHLSXYlgSTeFqaLQvmzuS8GTPYt2s/p051UjhD6LPcDNAAvS40oEz/GBKE4DyH9h/gqaefoq2tncUXLqa9rQQBjKZ+4L1DfMAXBVu2bOeBHz7BsBGjmT9vjlr7gubuhTwjpCVqmWPVi6v59Of+nb0HjnLzzbfz5huvomNYOWahlBHTQjAFPbVTPPX0k/zT33+GoUNG8Du/80EuWTKfplKK857ElignZYYNGsrxQ8fI63kv6FLa3ER50CCcMZRSGxEV+/p2ZuiLfvBq8XSA3ihkEw0BDUHzahvHofOBNE1wzuGDx1ooN6UgFpuUKep1WpubaR80jI6OkcyeOZv33XMXv/ubv8zv/v4f8Nu//wf87kc+wod/6ze46cYrKJcMp7u7WLpsGYcPH+J9730vH/n93+e3fv8P+PUP/gaXX34ZoShobWmhyAM2bYHgEanhQ8CmllqtYOcr+9m//wDB1xjUpkBQWs69X87cqwQoo7Wdc0cRw6ZbWxNKJUtaSmltaaWlpQVrBe8cLs8bEoHWkDaG3GkZrFKqIbYhBLAJJAm5K+ju6SbLVFE9swG66n3hMUlCU1sb48+ZxC+87xf50Id/iz/4gz/grW99K+vXr+PZZ56h0lOJ0qQ+14mQZXVaS2XKEZs5NIQVYtTLa1jIe5lw0Lj0YCwmTUmbm7hgyVX86m/+Af/jf/0hv/Mbv8XbbrqWGeNH0pxof31SJqRNTJs1nennjmDPtpWs27iRfcdqLFq4iBnTziVN23BOa16L8zgpCC2Okj3BkKTAEGhOE7QEtGiIuWngRwRKKSTGUjJNWFvG4SnyDCkCwwaPoqmpme7u42T1bgiCYPHBk/s6ew8cZsLESQwe0oQtpdjEapkugda2lgjKCIkt0VROSYwlOEiayuAcRaWbtS++yGc/9wWefX4pXT3dFEFNSQ0wL9DUGa24EPtwtmguQpKk1LKMCy9ewq//+n/hv/7e7/F7v/thrr3qEiZOGKG80TtCUbBy5QpefPEl3vSmN/Hf//t/43/8r//Jhz/ye7z17e+gtbWMlYL2ZvC5YGwTTU0WY3NsGnBZgavAnj1HOXToMNY4TKL5pSmW4GM5mnKZUmIpe+2JFwgpJGKR/uA8/boiCBIaOcUCSQrGUC6XSazVcNqgymtTSxvl1GIlp1SCdevX8eBDDzF85Ah+58O/we//7m/xm7/9Yd7zi7/E/PnzMQIGnfek1KzJJEVOCrSmhsTqvIrEmnhGzxkXBOc8EkIEJHIYGqkXaiMytkTIBjF16iLmnDeFnmwX27Zv4ZWdRxk6dAzTpp6LtRZrBsoj/dyQaIhwkRcYA0mixk0Ro+CoPd00NTVRSjTNJUC/iDjlewMz/bOn3vRGAjaxWpowKC8NIppSlkMwwzlxtI71CSWBwtXw0s3xw/v4zKc+z+OPPce111zBB3/9XYzsaFaAMmcwoQkRiySO4LvZvGkV933zXu699zvs2n2EAHgfMNZQKpewpRKmlJK2NJGmKQE4duwY69auY8igwUybMonWloTEGhKTRgO0RUgQSuS5cODAQQYPaae5OaWkXxmgAXpdaUCZ/nEUAsYmrF67lgP7D3DBBYuYP28WIoY8h0SBu5WM5cSpLpatWk9nrWDxxZcwbNhgFU4EDcsNnizLWLNyNV//xnc5dKyTN9/6Nq664gqGtLeSJhrWF3xCURe6Th/hsUce4POf/ywtTUP4hXvew/kLplMq6eGk6X+GjiEjmDxuEscPHmHH5m24eh3vHfuPHOaZlSsZNLyDWTOmMqilrAdYlOnPTE0TgpjebNwBRfqNTiqseqflzpxTL6W16hVLTKCeF9QLT2tzM67IKbW0MmX6LCo9VZ5/5lkqFacCcJbrIWY0BYoQqNXqVKs1rDG0tTaT2ISezh6effZZ1q9fj8tqJMaQJGXOm7sIHxwbNrxEVq9Sr2WsXbOJFSs3AEI5LSiKqKr6BEhU2I7U56WOnjibghisNSSJ5qBqne3eLwKCTRKScknvpFI8zjuSJNF+FSrU2ySJkpzHWEuapqRpowUB70VLMMU9IcaQZxlbN23myKHDKtz7wKjRo1gwfz6jRo6gqVzqteZbYzDlEoOGd9BULnN4314qlQqIhh87Ta5FQtASMv2EyIbiYMRgMGosQdFx61lBTko9lFXhxJB4j3F1Ql4lL3JyMeRiGDF6BAvOO5fu47v46je+zY7DVW695XpamsCFEiWxiAdSi2srM2zSME4e3UD3yb2kTgGv1JOPGh5E63OGUGgwAQAJhRccDmM8FsewoaMYNXI069Yu45Ef/BCXgUjCqZPHWblqGXsOHGPBBRfS2t5GKHI1eASHd07D4EOgcB5bKoPLCT7XaRZDKAqyWoUf/uBB/vB//y/+5ZOfYfP23dSLgAOttw6RW3kkOEyI4F29A6whfj5G5ASEtFwmLZUQoyjYLalgvN5H62VndHb1MGjwEIYMGYIPnnqes27DJh585FFq9W6y7DQhCNa00Nw0hHLJcOTwLrJahUp3jce//xgrVm6IVRXUzww6x9Yk+HKJTq8I46W8wALOQhFP5F6F8gwhMKofot55NXyoVzp3ORINa4kRTh85ycrlLzFi5HCmTZtACFCtZXiEQYNbaW0p4ZzjwP79PPX0M2zf8QppjIoPRSDz2k4birgmRb3iIe6bENQoEADThLEJqfVYadSIllhPuiCEaqwvO5im1nEsunA+SfNpvv2d73JofzeLL1jM6NGDMEZ52pnn0gC9MUkXprUJaamE9wHnNO923779PPbYY1S6ezhvznkE38cnz1jOA/SGoD4AMqdGvt5oAY8RT0gMpw4dZ+kzGzlxtMbcWbMplcuEkLNn98vc+7Uv8/iTz3PD9bfwnnffzTnjhmAjtypZq3zeC/gMk2Q88/xjfPzjH+Ov//oTvPDCeryD1BqC9+S5RmQqHxACgT179nLf17/O9m3buPPtb+Wcc0aSpsSKB0aN2WIVY+VUleefW8HmzVu58qpLmTRpgsq7Z3d6gAboJ0wDaN4/hoIvOHbkEJ/93Beo1R233/5Wps+crmBjUehphJVmWY01L73Et77zfdqGjeLOd76XEaNHKuiYg1SUMZ04sJfPfvbzPPj40/i0jQmTpnP08HHWrlvJS2tWsmf3QYYPG0ZbUzNr1z7Pv/3r53nqqeXMmHk+Q4ePYvO2zaxau4YN69bSffI0o4YPp62phaa0mb179rNlyzYOHj7Mhg0v8/KGDezdu4er3vQmFl96CW1tTVp3z0ehPqiHSJGVBS99RVkaVuMBJvTGoeAbB0iI4Eaeeq3Otm07WLbiJS657HJmz5kVIxMgCTVefnkdq7ccZsbMWVwwfzLtLYPorhpe2rSL7Vs2sP+VzWzduJmVL61mz4FDDB0ygiFtJfKsi/0HjrB8xXpOnexk355tbNq0ho2bd7Bt50GMbWLJxfOZNmEEzUmJ7QeOsWHrVjoP72Ljhi1sXL+VUe1NHDhVoXn8JK689Hw6mmLZt96F1WeNMsQ0PBwYIcsDa9duYNPW7Vx55RVMHNeBtdG7G6JnLwRcUXDowEFWrFjOsheWsnLFCpYuX87Rrm46qxm7tm9FsiojO4aRGGHd+k2sWLWGeecvYsbMaTSVEkz0lHoXFeMITLV58yZeeOEFli5bzsubNrFu3Ua27dhJubmZ66+/nlkzztX6qSgiabm5iRPd3azauJETR4/y8vrtbNn8CnlRZ+Sojljr8kzvtL5rRBoEJO7LrpOnWL5sOWlbBzMXXcrQIa2U0PrLGuKL5iCKwQdHyXhKocL6Vct4asVmhk5eyC/80h00GyENQipaRQBxBNONaU3Z/Mor7HtlD/t37mXzli10njzN4JZWmpotu3a+wvMvrGLi5FnMXziPQe0BQ40Du/ez7JkttA9vZ/HlCxjWOpQh7cPZc3Af23ds4fDhg2zespFly19gw4Z1zJw6lxtuvYPBHUOheprv3v8QZshILrvkAoYPaVNwx64TPPn441Sax3PBBQsYP7JVUa0lR4qM1avX8NLal+nJAzPmzGfqtMmUUqs1a6OKrLnRXiMFpKGK9tPKfODYseM8+tgTdIwcyZy58xg0eAgmMfggmOBJbExDcAUnT3eyYtV69h88RLVSZcPatWxYu5rde/bQ6QJzFp7PhXOmUyqnlFLL9j3HWb95HSeO7WTTqpfZsm47x0+fpEqJa958E5MnjiDv6mL98qX84NEnWbd+DcuXP8+2Q504n3Bsz3aOnOyk1DaUoeXoYRYbozi0bFwvMxaJffVkeZ01q9bz0qqN5NayY+t2Nq54kZdWPE3dBxZf9mYWX3g+TanF9xxk57ZXeGXvcXYdPcrmHVvYtWkTJw7sYcuOvQyeNJ8brr6YwVLl5P7tPLFyA82jp7Nk8QI6mlJKwYFJ8E7PNBJDXlRYvfwJ1m45zOxF1zJn6jjSNJDjKWExOMTWkZAgIQWE1taMjdtW8s1vPs2UqRfz9nfcwciRLaSJ8jeJxqWBs+cNThLYt28fS194geeef0736UsvsWbNOk6e6mLJJVdwzdVX0dragjWqrPVHau8/v7q8+y/yAfrpkPLIEGVBgCNHjrBixQqeeOpJXnxxFWtfXMqWDRs4fjhn4eXXctE1lzOsvQVf7eSRh77CFz7zDQ4erzLvwqvp7DrGujXL2brlFbZs2ovQxPCOduWtoUpe7+HJZ55l2Yr1BDOICy++krlzp5BawYjWIT9+5CjPPP00K5ev4IXnX2DN2nUcOHiY6TNncdfdb6OpuYk0AXzOtm1beOqJ51jxwousW7eOlStW8vzzKxg2fDR33/0upk0fj8epQ6vfuTtAA/STpgFl+sdQCJ7Tp07SU8244ILFXHbZZTQ1NSMi2OjFSiwUWR1fFJzq7MQnzVx13U3MmjOb5nJJQZUKR0KBhIKTR49z+HQnpdYhDBszns7uKkcPHWT/wb0cP3YMIwnjx09i5Ihh7N+3kyLPmDJlBjZppqu7i737d7PvwF6OHj5Ma1pm2rnTaC030TFyLJMnT+Hw4cNsevllXtm9C4yw5LJLuemWWxg0uBXvgoJAhYD3hYIciYaLhiitNcTPAWX6jUUSPYcqbIZesDgxKa4IDBk8nLnzFzK0owMfAiYRLDlFkWFbRjBv7lzGjWijvWUw8xZcRNUJa1ev4ODe7RzYvZ+9Bw+T4Zk4fgIjhg5h0OBWRo+eQJbB8WPHOXhoLz2V09x40+1cctm1TJo0mQsWzmZQSzODB3cwd9EF9GTdvPjCk/R01bjy8uu5+tJLSYcMY+y0KcydeQ4t1uBzj00aHrZG7mtjrcV+icF7zaEaPGwEM2ZOZ9jg1qj0RpErGoGMMRw9epTly5ezeu0aTp4+xYhRoxg0fDjHT57k9LEjdAxqZdI4RRmvZQXtQ4cxf+FCxowdSZJExcUruBvRQJaWSnR0dLBn9142b97MgYOH2blrNyNGjuLOd7yDCy6YB8GSmBh2j6d92FDGT5xIc0sbG9dt5MC+A5w6dZqOkcOYMG6sgpI1wr3PIiEKM97jfaBaqSHGMnHKdKbPmc2g1pTUQMgLfFbDWAPWEoqc1IINBa3WsnvPfnaecLzpzvdw4fwplCVgg4bvElMbXeoYN2kCrc1NHD9wkt3b9rFjx05Sk3LOhHEMHtpOVq9hSs3MnjOfcRPH0dTkozDkaCuNYvK0icyeN52W8iCGDh3K9FmTEODl9RvZvesVTFJw5VWX8f4P/A7NgwcDBSavUanlTJm7kBnTJtPeUqYoHL7WRXCBCXMuZPLkCQwqJ1omxQZMzDnftO0Vas6y5PKrmDZtIqXURu9HQNRPrd5pMdCriPUp0yJClueIMcyYPpNp02fQ1NyivNxo5JAJhQaPpynjz5nM4CHDeGX3PrZs3UpPdzdLLr6Q2267naYhg5m/YD7ndIwkCTBk+FBGjJnAjl2b2b59PTaz3PWWe7j2xhsYPGo0s+adx9CONoqu02xZtYplq9ay78gB2ga30THyHMgDJw/thVKJ0RMmMLKtjBXRPCL6Gwd0l3hfEHCIgWqlRr3mIClx8MQxDh88wslDBxEpeOs77mLJZdfS0mppSqBjeCuDBw+hs+LYe/QQR48dYdqkiVx/zdVMmDydEZNmMGvKJNrLELJu8lIb42csYObkCTQnFpNnGlovFitqCAtSgK8xfPRUZi24iBGD20kST+E9JWMx3hOMI3iLFAki0NouvLJnGzu2V7n8ylu45voLEBu0ZGTQEnmNfT5Ab2ASVbxefHElG9ZvZN/efezZs5cJEyby1re9nSuuuIL2trYYRKF4FiaWMzxbtui/vgfop0nKI/VMCjjn2LNnDy+99BLr1m7k4MEjnD5xlCGtrdzw5ndwzc3X0Ta4iQQ4feIkPacO0JS2MHLMdCp54OiRfRw5sIdDB47Q3dXNqFEjGDN6VAy1DpikREvbUJpaO1hw/kVcfsWlTBwzuNeIRoAdO7azbNlyNm7cyN59+xg5egzvfNc9XHvNtbS2NeO9VyyjvM6Wzdt44bnlbNm6g/37D1IUnltufQvv/5UPMH78SArvSFOjJbJe49wdoAH6SZEErRszQK+i6O0IBQFDljuStBkXFEysMWrWQJHXsBbywpGFhKRcxntVSA2Q4jFEULGioEgSHCUKmyJAolGgmjPnVaAuGY8J9eiJswRJ8GIpBPKoENvck2rlUuWJArkv8FaBlXLvsUZiCKnmxlgRhID3aiVWrUQRZEMUSUOsbjqQ0/TGIh9oLBAgQyQQvAAJzhmsTfRoNAoKY3wXEjIyMwQfhGbTDXkgSDs1sTgCzTaHqkfKTWSi826DhmZak1LkScyFyyhCBZFm8pCSOVGgLzJKQejMM2wppYkM7xLEN2OdI08tPRYMGe3GYrzV8GeBIIpJDmhtZK/7DZGYD5vQnTmSklCyuoYlWtEBzft3DjEaIgZgjK7lDMiMIu0nwZP6mELhPN6miLWKtuyjEG8CwUNR5KpgG8VLECMRJccQxJLl2j6xlhDABIeRgMXHEiGCwyC2rCA7WumLRGIZEYlcISJ6627TklgCiPcKMBUCrlZHys0UYvEBrIA1AXBIcITgKGo1SmWtX31w+04+9a+f5eUTjl/+yH9n8YzRNOMpicXmgvNgmnNy6QJ6SL0BNxQJLZBq3poEMCaDUOBpxgeDt1q32tCtKNv1ITiXIc0eE8o4F0jKBS6PIX3B4aWLPNRJ7ChcEFKbk+Q1irrHtQ0GXbWIB+squEoPrm0UOVqL3BqH+CpkFVauWMVf/MNnKQ8dy4c+8ntMnTKeltRQAhI8JuTRMx1ASgRJoperUaGgAbQouMIhSYoxCbV6RpomvWkRQoEm9XuQhCIkeJOAif5h73Auw6UpDkspExLjwObklKi5GuUkJ81boZIgJahZKBLFvmt1BbZWJZSbKWyBDRmBFiQkeO+oSMAnCYOLHBFPsAJBDTB9FPC+rsYJa8Crwu2DpW4gyz2DjYDvJqSGgjbyAkoGLCfinmnFJQmFCZSCx/o6Xkp0mRLWQTM1rD9BTjPd6VBMQBH+JY9rNsUUgvMObIaRTnLXQt22k/hAmnpyAqVgCfUMrCN4SEwZvKerZzef/NdPsOrFKr/wSx/iupvmAR4bLOKkAX0wQG8kepWUGPmWQJFniq9gDaDGReeFICkueI0gMX3GkcbUNpQnvU8UYAYkjp8y6Y52zhFwJDbpBQAMwWrOs9Sh3oUkw8hx1K1gTUJKQRo6oW7wdhAFBiNO0zVE083Eht764gZHXmTYpIkspOQBbGJIQsBGY7KEQPAFRgzOFeoscIE0TSmcRzS0Eu8z9TQHC14wolgUzjlsklIUBWnJxlKEHmNsX4nKARqg14EGlOkfSSq09mqput37PqI/3/cInoCQaWBbryJtAypohyJ63QRvDA5LhsHgKREIwWiItYChwOIQn/SFvorHSwmnajkiUIolhc6ooGIhGI+PikrU02OwoFKjRnHjr+jrJPSy1j5DwMDR9gai3p3qQCI6JkZRiyLYFUSjDA4TV6MLzYBgpI4CuJc1PNjEteYMQQyFAevVS4fJAYP4BIIQpMCbXFdSUNReF9dqEqAQcOIoUUAog0sQp3mgtQQsBeWA3g9AAsGoT5G4Cm1oGLBE+2MMLiqdGiD6GvQjuFcB5A3jAAEbwb1AN0+fIq8rX/86Kzy4994q5CmmQN8eaZCN6MsBFLk2CEHK5KZ3hrAhYLWic/Tu9e+NtkGFy8azY464eIIEnR8SPGoMS/BYV4O8Dt5T68657777efTZ5Sy48WbedMeNnDukhA2OspSRakBKBmcdmdQxVCkHAdcGvkSIDEJl2lzDwUNJ+ZKAkQKhpsBYRQuIA6Ol2RCPlTq4kpazkkAwFZw4MtoRhYXBuhxPSmFTiCtWCNoP53G2tbc0VqXaxZ7tG9m3bRNr1r3M0aqw+MrrueLaa0hLhiaBkoDFYXyjjJSApASx/ZTpBmcLfSsoGjT6lk5AGsp471Ut1eJFeaPyQv28wOMQys7oeBmHE8GJ7jlbNOk610pX5LFyW5Nz2MIR0oTMeAw51pUw3hJMoGohQxjsvAqgCqyuY6rNjND3tdjfxt7XL2axf6UAUFfUeMr43m90IkEgNOsZFI1AxhV4SamZBAOUQ474LgpTpi6t8Z6BtLc2vGgOtKAlLUIPjjK5NJGGgIjmtJsgmBBDSKnjXY1at+Oxxx7mO9//PpMmX877PvB+Ro/T7iWhDIUQcawG6I1EfZulH8X9ooyr3zXlcRG9oJeUi541tSH+M6BM/4yo/2nW/33ABz37DRlQA5rw4nFicCHFekgpYs6yIRg9+yQYkIA3qqALYEIE6lRuixMhjz6gUjyjG+tJ+Sy6FqIsoL9rLI9Cyz2QRGNjvFH/NdqImpGGBGwGlOkBel1pwP77Y6m/SvmjmXxf0JK+Gu9UgOnHGMQSpM/na1Vcw5DHGrsoE0Nr5PY+XwDJEXJMVIxtP1Wgt2mx9iO4GPrYx136t7CP+v46swdnf2+A3hB0xoFx5kydcRkQQhRotHSTCeBJCFgkiIb+RlCms+8I4KKqA3pz9bgmBIx6kaMMFRCCRKUI4qEVczzj1mmI+2euKv01Wigo/qe/7/1hfEbfHvq/J5H+BqSoCEtMZxB6D+3Gvfsf4b0jIf1ejX3d6PsZTVKApjwCauGc6nEQa13HL/djBWdSY+QbgxaVbTHaslBDQgYENGM6CqsucHL/PlY/+zw/uP/7rFm/lYnT5rHkogsZ1daMDbEeuXgVdAAwGMpAG1rYTxW1xtNDr1yiApFIiCtBotgTc97RLzsBL9pTvabXJSifi/EAmgveWBuNn8d3ISQE0SgdG/S7zjt27NzNQw89Sq0I3HLbLVxz1eU0JUJJoicjflcbpFzxzMHtm7s+Pt74f6Qz7qEKtL6U7+pI9584bb/t/bPvmt5Zy5udMY3xM33XOBWMGiKQxqD13bf3nc4/uL61A3GsGxf0FwGdq8bdGr+XiK2nXdayVtqvfqMlFsGQBDX+asNLCIYUT9o7/0bTFNAf6lpRw5GIjb3p64eI2jKyOnT3dLJ67XM8+thDPP30i3R0TOFN17+JkaNTPJkapPvrZWf0d4DemBQXVhBVlEKjtnvvguv/rTNpYI5/PijQB/AlGUhOElRBBgGfxHM1IFJEL3TjxwUBTUlR0tKUhIaM7DUaqJ+serYs3btyGm/7r5mg5wk0DuR+Hwr9HA6vuQIHaIB+ojTgmf7/icJrbs4Q7WVEMUh92dHD1E90DxII+OjRdtFrVqaIYdyqynhSn8RfFCAZhJRAWa1+UmBICEF6+YjglYGII4hobdcobJ0pZvYJ1kp9SyCEyNBe3b0B+llTY9pEIxX6+T0J0eqr8xbwFPHrhsTFzFIbMD5gvR4uzoAzkLq4Jg2Y6BguTMAi2OgadjaQx2tpfHRhwYvXcN34cCEKVGj95v7rqFddbewHE3CEGNOB5ksG07ccBZzRvWKjIvZa9JoMLF5UL72S9jrEQ7zhZeuFsEJb/VrU7zDu1wX1/IH1Di+eiiQ0FRXSzBPSdrIkkIu2vRT0e71K8hme6T56VV98jpCBWHIpo5jNqhaFejcP3ncv3/r6Nzh2ssqVN9zBr/32b5O2aGkrfE4qgUQMvnDYpNTbexp9bfCO2EVVkBq8SUkaH4DOVFBkcgJUrYAUNIUa4svgo4JoMgoT6JYSZQJNvkCCIZgEL33BNBbAFWpMFIsPanzwRvBFjcQXYEsEW6bmtTWEQHMi0felwlJAjZUN6j+6gQi2GBXkMykOQOybrkQloaFoB10nold7f9bv20HQ8nCgkQ8NY5NoC31M5xEn+ASyuC7LTvckJpBZLfnV5FEPsgGkHpUUjQZBPJieKKCWIDTHCXT4qMHrGu6/6vX/6n2P14LovcSr4aChCGnzCeR9Xp1gAdvXVxTXoG+txhSFOCaNZ2qqBmS1OitXPs23v/NFXl6zmyuvupVfeO8vMXzccEJa4KiSUKbsS4hD8xnkrEkcoJ8tvYox/Xhq8Mazp/FMI2SDzmJCA/RTpIZQcfb7QIjeZOVpObnUkSAkISGTFIKh5FQ/9saRkCv/D5Zg0Wi2GDFkQ6IG1rgovIFCHOBJe02sZ8/9a1wLqPyDAx/j1YxXGTnYyKviQpOe6L0u6/fOvv0ADdBPkAaU6f8QNYaqT2Dov0NDLzuK3pzeoY2epChAqcjmEPJoyROQEgWWIgrZgqfUUJBxMVwx+vgkJ4jrU5aj4GbEqeCNi2JqSgiq0psfy0jiYdZ428t4fuyPBuinTY2z7gxlWj1pDUFYp8wTcBRR0U6d+kYzq4qw1eTrqEwbUo/6T02IyrSQG1FfX6FKU2EhM0JCoOQD+ICzQiEBS6E+qyh0Q1DlPOgh2StAiQr9eBX6VZnWKAwBTDDYM5TpRqhYwKDes9ei12Jgjb3n0RJK/XeixfVTpnVvBkx813uH117//bZJiMq69Q4nni5JaM0rlDJHKA0iSzx1cSQklP+DynRvnyK4mQA++kgbepYvcno6O8nrORiLDwntg7XEkE00qDwxAfG5hv1bq+HHXu/jjKaEmOBRv2JDCA5RQYqvIDHUWBVKFxVDAnRbXY+toYa4NIYdq6LmLJwWoTkEmr1TwcboyKvRsC8dJuSaUxcQCl9AWsLEsUUMeTDkDtLUxPZ6RBrcViN+XLyXOWvmzl4fZ468zmRDke7dYiguRV+Ej66cqGkiQYVFvVn0tjQMDtJIwxCIRiAPGK8ePG/6K9Nazgujxi2PkASj9xJAqlHRLcdmeDBdUZlu6qdM5/F5GjDZMAvFFRNDLPv1POgcB+Mj/9CIE21/HBHJtf/BxqiE+Dm+N+VB/9b0hkYcQmMGNDIm4PKMPOsmMYHOkzVs0sagIUMIpYJCMgIpCZbECcYFSGJEwWtvkQH6WdDZm+j/QL1fP2sOf6wy3eC5A/P+U6Qfo0yDKtPBAIGq5CReSENCZtXqXnIJhQ04o2lcegtDMJqyqHfUSDihDzjVi8XHebZnmncjvfZZr3S2Ml0oSkqwUXGOfFIq8TxqXDvjJgM0QD9R+nEr9j89NVj8mfy/wTHUqtb4tPEdgwoVfQizqgo0vDF9wprWRdUHWPVpS8OvrXdSgayugo9P4/ccEIWc+FwnmrOqQS0NJUtztBthqdGR9JqvXuoFt3K9TG+A3oDUO3E/bvs2VCLNWSQ4/VnjQIk5oq+eYQ3TOvP62SulAeykT1BPJlHoj5+T40Wf2bskQ4j5TjEULAr0Zz+tl3rDh3/E5z/yk8bvGh7zvib0/06fin1W3/r1uP+rP51xLscP+3y5/UPdfgSdffN+3+9/ySEUWLy3GAfWORKXY0JBMJby0GEkw4bTNKyDocMH4YtuysZjC0XuVwueat/qJXCKiuaUkxQUFFTjnm88t+Gh1RboSxvooV9kDTGygN4g/z46S63tW3hIr1lAyQOFV4A2Y4LWCRc1N2ISnFiCCKkVKBwmKA9UHArlgw3e2n+OX2veGtfPpoYi3btU49W+b/d73/vW963ns657Mjx577ia6Kr2/fLoDQ39QX9vAiRxDhqCZvyr8Ue/Vpzdi8b31DjV14f+51C/34eouPS/e79bFg0QwN4zoV8fz6K+1jXGIvTxJnHYtE5Lcyu+aGX4yLG0Dx4S635HIDXUyxWCj16mvtYP0M8nvYo/9i3cAfq5oUIVUooo2UZjaWGQUNXPjFOjYiDiZXiNpgHF2wiGEERTgSRXb7H0IJL1mvv65JhX86lXLZneD9SJFJlZDCdX3BL9zVk861U3GqAB+snSj5PG/x+kH72rQlAUyhB8FICcou86RfwtAlEwqUPICMFTBA3r9j5EPhDAgfhACAWBeoSrUQahiMUqLflg49UCCBGpuQHY0uARnhAMIaQati2O0EBCjrl+oo+kiIqKhJzgBe9SAmm8Vx+Dek3q/fCs5fAjfzBAP3UKur4CHi9e1ZHePLVc0baBIq4fogCv3ib1ECfxA43yVtAlExr5+Q1vbp9nIBAI4kGc+pkaHrmgbzSqQr1e4oXgGgq6iSFinhCcWqjjqyGcq+9cvXlJCOTBaC5wCOC03m8IdXwQfEjUntQwFcU2NF46OFHBD75vL4Z+BoXGIEYDVggW34A9CbEvvYqI+v08Pn5f93dvd3UUkRDrtUd3iwY4pwSaep9n0TxUwRMk1/H8cdToTnw18oKd6LwFbTzBQyYFXc4haUJiDcY4mlsS9Yy6qA5HBSUghOhdjjeGxv0oIKhpIRCQkGNCI2omibn2fX1Wr2wDLFEVQNHJ1TJIRjmO8YqkHgh4owZFj5Y1wTtC0JEOzpNYC1ZwzuOc1o8OLpB5DcPPaxk2OEyI3mCRmP9uILaJhv0laDSDcvIGQ+2duDj/uswK9L04sE6jNkRbpevRW3XhO71vn7oYZ1gXULyx/ut7jRGN5+mzA2qIIGIMCLEfUaCUIEiIv45nio/7Qr352i6CwYeUjASnN1XPuCfur6hCB/BB+hTi2M7Gf9oPg/H6XI120rOoMWTE7eQRXf+xTxJyPQMbYxHQ/EmsZvb7LvA5eCF3gcIlJKWmyF4KkjRGbzXCx11kO8b3GkoKHyiCI4QagTouuPi318lzaLWNkFOEEM9hhw8OFwIuQPCO4HNFmCfEfvX130chvP+6CJFvEXJCqOr/vY5noUE5/XhQRJL3KK8LTtlFIKYsxAELDV6iox5npPel3+xbR28o6t+02Ly+VdTvv8Ya7zfGjf/HZf/qe70Bu/ufmc44V4Ou28Y8pkEjiYJpRHAFnAm9yTZORL8r8XyPC8KEoJU6yKL8qmeFhAgM6n08x4WgYTF9525si2/wMzyBnEBGcLrmHIbgUwIJhQTFLfHgfB3f2NsDNECvMw0o05FC0HJRKn5FUarIkWqGD4GqR4/AUAEqeF9QD1BFcBkRdChHvDpMXCjw1IA6hfMULmCCR2oFFEI9t1p2Bt3wtVzIXYINygwCXiW9ehmXWwrfiaeLukc9VSjQUSg8IUAWgJAjPgeXUukWagg176NC1MckQxyDPt+E9LMQ9n+dYV8eoJ8pBcDjJKcmBV4auYweKU6CP0HmIQ8QUMHaeK0xHIOtSVyGKzTE1oeACQWmKOgJUEc0FSkqVao0e4IpwDokImNLI+NA1JcnIai7zQWonQaq6pfzCeBwPqcGVAWyeHASCnR3CK6AUM/oAboDeOehnkNewfkucl9QBPVj+uhbjWc8wanioOvaIzhCluOdqCHMF7igY6JqdR0JVcQFnLNkwVIQ8ChwiugZTBE8Lu5BCRniVQH3qgPG3aMpFYp8roppawBLiZA0af45UI750kLAmywaxPptvvhqCCw09Fy9JTZ4klDBiadihEBCCKla/KlRTjxJENJMMF4INlFhJdF2inWIqcUHxTQRq202AWwEJAvB4Dz44MF1Y3wPFA4XLD2SUhXIfQ+4Ci6Hwiv4mEUoN6Ka8dSMo2ILDdguoCk4kEDVCHWRaKCo4fIaITh8yJCQYfM6Ig6TWKxNMKFOYh0ZOtetqcUUPRgJ5CYlkzJeyhG5W/vSBwwXFfj4jpDp/PponEDHuYgYFyFqSZKDzXKEGhlVcgLOG8hsDPTxZCFQk0DdBx1LrwqbBK9GBEMszdWMCaWYC+hjzrFWbzAUaD2HgIjBeav81gt4DcsX7wkZFD4lD0Ie6uTGUw8FUjThfCt1SmTRSiWZ6bWkxZ2JQ6LBjd5qEg1Tke6lQIGNYU0Bb7wabaJSpG50i2K/ax54HF4kq+F9Tka8tw/gUnJv8VIFfxTJeqAuBDOYzCSQqvXFWIcRj6WJhCYskCRo2RsCFDWoVal7qLoCHzoJoQdHThZyVZrzhtEtx4VKnCsPhfaq5p0Oh3fgaxTk5EH75oPDeR/fZ/iQK08LEFxQ4d7VIdQI4SSEKt6h/BWoRV1eqR7HFkKoxzWtU1F4PWn134barAzURzN6jF2I1M9a90ajOD59pHJFQ3HKCx+NF1AU6DoLGSFkuCJTHu311Xuv/vfrzw8H6KdKfQq0rlUfjdDBCxLK+GBwviAJNfDdOJNBKFH4Fk46qEtCEYQCT90HimCohkA9qGwqziNFDULA0UKNNnJKhJAjoaLlBp3XgKk8rgvvCM7hCnBO75M7KAjk9ODDaVzu8PF5viuBSkpOQVE4yKFanKLwGbFq5gAN0OtK9qMf/ehHz774/y41uPeP4NhCr3UZAuIzEE9uhMIIwSmQAoUhtyXy6JFrsgBVkC7EeUKSkAWvGYEuIdiyCueuQmIdRRYISUJiQ7SYl8A24Z2WhdGQGEeSFSBlcgdJWqUgI5g2RNRzgxNc0BJCVgLG50ieITQjtkzdg7UGI0EF+IaVmFjAPuh4nAnsdNap9iOGaoB+yiQqhHhTkBMwJGgBIA/uFEhBkQxRsT2iOCtwlIbf9qYVWEvmBVvUOHF4P7t27uZYZmlrb6Mc0aOD6ProzZkVCBE506BI3SEUcf0oipnBQQIur3P0RJWduw5wYM929h84wOHj3eQBBrU2YYsaR44eZceBw+SmidbEUO08xdr9hyhCYFgpIckyMpOx58AOTnQJTc1tlFMheI/3fYjQAa1NGaSR3yuIGIyYKKIGHCmFCCKBhLoqMD6lCFZzhkXzb/U3ivpNvLci7YP3mpNubQMUinj/Rhi5RcRiI0ppEJBE95V4Twg+7nMQEqS3dFMfqRFeNWhjdIx1nOtUu46xdc9+Dh47TUuaUi41gTEUpqI58SFVo4k4vNUGSmgglzuC5IiUsVhVNkUV3EZ+rQAmJDpixkHRrXn1LsWZlFrQtVC2DvEFhW9Sr63RTFpTBDVkJCm5EUAVfOMNIoWCiUUPZBI8FD3YpAlvUzwe6yPwXOI1Yscbal2H2b17H515wqCWFhIKRBzBpuSiWXYiDTuGA7S/JuhgNjwZoG1Tr6+NRhevYeRGyPFazqmIqyop8DaPCk6q3phC5zukQl1iffH4LBvnSaVG9ZTrmJqIe92Q5DTfWqJ7ro/Dqn/W9N4jRIVL62plFEgKYtTIZYKQOENhDLkRxeeOxhp8rNEuEY1cJeK4NxpKWrTSiNFogQDWC+IDuXX4oHvfBbDOY4KQx/r1aUBbbVRdd1ZD8BNyrNPxLQwYqWKKTnZvPUhnj4HmZkploznwBAhOx0F0L8S7xtD/hkSdkCUlwJH4OiKogkwg8aliK1Cn8HVOnD7N9lf2cXjXLo7ueYVT9QzbPpSStViXx7aWkJBEtHJ1g+teV5R8CaW+KSQgFoKv41wPO7bu4vDBHgpTptxawogaK62AmJzgDQSLaUSAeF3rWm9XZ19nr0EGH4Hp+vre+E5cGWeyh589NZrfu3B1rRZF0VtHOngNXTAiGCtq8BVDYjSyKCj8gcoeDWrcr/faG63j/69TI7qLyJuUGrMQxOC9AUliRKQjMRYXQJIyzisfLJuAdXWMFHgM3pQ0daOAlFgfGkshJVyUXGxQmURsCWMSCpdjbcDlBUZSaKwj7ymcYn4EEYx4BdQ0zSoTkZOmCa5WIImQSoIvBNsU1FDpSxgbK4wM0AC9TjSgTEcZhl4lQYOulMfnQEHN1TneU+PkqQr+WIbrdtTKJUppimRgJGCSGqE4jqvXOXj8JKerdUINKp0Fze2tGBMIvpvE1hFJKHyJolbj9PHTVCoBKaVYa0mNEIynnvdQ1hMfk1rq2TGOnTxOkCF6WCEYkyBJQuFVSBFXcPzgEXp6eqjVCgonlJtSMCrI9CrPUVkKIUSl6cdwmR/z0QD9FCno/HmjoaaWRJU3cWAqVE+fZt/JlJ5KQa37FJ0nj9N5upvOrjp54WgpJ/i8DokliCHv6eT73/4mf/Hxv+aV4wWXXnIJbUnoxcYy4vuV2tHdIBgVhIQo8Gl9SUEwWR2KjNNdp3n4sRf43Be/wYMP3MvjTzzBy5t20za4jZnTJpJ1nuBb3/0ef/+vn8e0DGX6OWN55skf8of/8M/UsozzJk+kva2do0f388+f/kfWbzvGvHlzGdRSRkBVFOlbsSJgTGyrEEvPqfKHBLwkeKN/WzKMd4gvE4wCQYkoIJnx4IKWALEimBiKqxJvfGYDxU90QkQagqF6HUVi4XdRj6O2I4AUcUxLGtb6I/ac3q8h1KgX0RU1Xt6wlo//9T/wwA+eYvI5Ezj3nHMQAW8yCEISSqokhAJvfFTWdSK1JJZHSLWNgRi2r+1uRBiEXBBrwDTGQ6h0ZhztdHRnQlf3MWqdRzE+w6RthMRijPq6DUEdq8ZSiMFSYINVQDpxhKhMk0PJOELRw5Ejp8mkTIjCj5VExwlNKt606lk+/+9f5UStmdkzptKUKn92kuBEEautSAQiUwOQbyBZC70gb4Ko8hPLOiFxVkRrnQYgIRpgAmAD3uT01Ho4eaKbyokqrlKhWj3NiZ4uqsHS1FwmFQHvsaaPrzb2Q0Ml6lUOoVeZ1gnofw6p8cYQ72M0dDjvrtFzqpvueg89eYWTJ09x+uRprDe0NLeSi55OqRCrjxd6E2tVUSaWxUIwUYER3caIKA9wsQXWRwXa6pglouGcFjVOqYFEDSfOiyrgoS90v4zDRIVSEqDo5vjeHXzuM/exYethJsyYxqAhLTESIiBGz53+QHzatDheWUZezTjUDU1NiQIhWkshnu5alcqxnBaaMM05lXo3L61ex9/9/T/z1Pe/x0Pf+Dov7tjDuBnzGDuig1LQvZfbMjaIGh6sj+HlgphoEAtami02R73NOE6eOMif/tFfcv/3nmLY6AmMmTCO5pIapRTasxrnNuldh2B7y5GFuN60b415V2X67FXw86ZMS2xmd3cnJ48fp1apUK9WqXR1UavnlNpaFUHGgTWqcBMNhX33iYPee3GAfroU92K/94KQ5xknT57k1MlO8gxOdtc5mecMamklyRw+MQRjSRQ7kSLvoWyq+LyHYyc66am2I8aSJlDCadSblPCR75peUDKjxihj1DgtmUaeuDKnTp3m+Mlj1LOMrh51GJRLzRhJEEmgVmAo8GQcO3GMnkqN2skqlc6cUmuJzqygqakFa3Q/nmHEGaAB+gmTnuT/ycn7voNORDCigkig4PCBV/j7T3ySu+5+D3e9627uesdb+P3/+hG+/+ATnDhZJTUBYz2uqLJ54xb+/C/+hrvf+R7e9e73cPObb+HDH/5dli17ma6eOjax5D1d5LUKxw4fYfXypfz6L3+Ad975yzz62Iv01B1ZnhOCo5wkBF+js9LJ9h07+PS//CPveMvb+N3f+QN2bN6NK6CqOEIkxnPi0GG++u/f4Fd/4/e48+67eNvbrueDv/pu7r33W3T2VHGeXq9dI8x7gH6eqFfy6LsU9J9QqfCd+77OO+++h9tueytvv/MdvPued3P3u9/N+z/wAb761a+SZXVMSWtC5oUnz+pUKt10dp2mltWiEOliyGKGxJzZAAog4jUNIhBznkyirxDXU5pQIPzgkUf4/Be+wOQp5/I3f/d3fPJfPsn/+l//g6uuuoqSgISCwnm66jnVepVqkdNd66FeOY0rMgpRJTcPjp07d/PKrt10ZwW1PIDXXC0JmguqCmvEN4g5Wi4awzTJ0ROKhkIclRsRgtH9LVFl1byMDBMM3mtuqPGK+O2jUqrGJ41S997FsDajdbudQB5wRYHzVRwVitxrSLgYRUyWWHu5gdTcSxr6KeIJFBSuTl7UcD5X3IXgqOcZlZ4ale46lULzVLU/mo+teb6oQA8xh1PzqkMwOEoawXLGttc8xsYBYBKDCw4fAj73rHxuOf/lAx/ihutv5/Y73sFb7ngrd911Jx/5yG/x9LNPUK32kEUIKURVr9ypRzMEB4XXWFcSbDDYwtNkHFlPJ2uWv8CHPvQhvvv9h6nkgTxYCie4Qr0kxkLl9DE2bVjN3gP7NfEmL/BZwBeap+4FvHOEPIM8A18gaPhu4T2Fy9UrK2huvA8EV1cweQ+5Lwg+x3pPvch1iVgIIhR5nX37dvIv//C3vPeed3LHHTfz9ne8hQ/82q9x37fu59CRLnLnNZTag/fqkTyb/s9cNoZO9yoqAXC4WoXHHv4+99x1J7fdeDO3vPl23n7XO/i1X/xlPvJffpt1L79CtZpTFtTgEuqau6uHlq7f0FgTgnOC9xIxNRSd3Qch91DEcSAEXDSMaUV5TXvo65dmR4vVCmTepjGqQ0PokVgNID43eNixZz+Hjp+iq7sbQMOwz+Bgrx4zCPScPsG3vvpl/ud//yMOH64iPqFay9m9/wB/9vGP8zu/83s8/uiT5PWc5pZWzl+4iL/++F/wJ//z91gwYyKHT3ZRkXJclpZg0ojH4KCogvf4IDinxnOJimGjORqSrO+dc3R1dXHq1CmyIscTEPEkmqCuhioBvFB4DUc10WbinUaj9Jnnz6R+j3zj09mNjUahkyeO8a+f/hR3vuV23n7bLbz15ht5z9138rG/+Dgvb9lLVnhCzCTwRteblu/UEp4N8L0zbA0D9FMl51zkYYE8z8mLnC1btvCJT/wjd9/1Hm6942ZueeuN/M0/fJEtO49paogkBJ+RSp2yBMqF4cT+bXzqbz7K7Te/mXve+WHWrTuAF6jldTClWD5CDUu6lCyEEoSE4CTiH5zCFzVeXr+DL37uq7z3vfdw62238qEPvZ+vff3zHNh/nFo9UHiDSTK6u07w+COP89v/9b9y1z138wt3vpP/+tsf5OnnnqZCE9XC4F29n1FzgAbo9aEBzzR9EXqNI08EvCuonjzK1/79KxzuaeHWt76b2998FbfefBGdleM8/tRqgrQxeepEWpIedm/exA8ffIakNJK73vM+rrzuaq6+7EK6O0/yxLPLGTl6NKNHjUS8Zdnza7n33m9SVPfRdfIU+w4VXHTVdUybOZaWVAiSgzi6Th3nwfsf5gePPsrglpzDh4/T2V3m0osvYdy4keRJospNXmXDyhfZuGk7191wM29/x20sWjSTQ4f2smrjLoaNOpexo4ZRSgzGGHyIYa0DnumfLwoxrzEWkzHRM+1rR3nu2ac52N3E295+J++95y5uuO4arrnmWq685lrmz5/LiI6hCAVeLDaxtJYTJp0zjiuvvZ4Lr76WEcPbKRPUQCwF4hugVAlBShgD1qhy7WKYLY3cZALGZfQcO8z9jzxMT57wjrt/gfMXTmd4RweDhwyhXE5JKUiNY9w507joqutYsGABHe1NnDtxNBdfdjnnL1rE6I4RlAU6jx/hqaefpHXoRC676jKGtTeTEmLpW/UsKgBWAMlxweNJNV81eILPMQY8KV4EMZCEGuIDhW/uLd2BaH1MCQEXyog1JGjeKsETbFOvRTt49apZA3VUodfQafW2iBWC0bJ1qVVEasX29woUV9jXcMI0eJIqJBA0HDbW14aCjmHDWHj+ZVx3/ZuZOmMqLeUyCYEgOYkItjAqjCQGRBViidnQXgxFw0se1OPeKKum/kcN15Sgir8Ywficg7v28cgjzzBn0eW85/2/wjvvupkli2Zz8tghHn3qBbp9woRzpzM4sYiL6M+JjkNJfXOqmHl9tk0guAKTd3N4/y7+/b7vMXX+hUyZPYvmUomSibaZEDC+4Mgra1i5/mWGT7uACxctpK2sUTgiiuLqRbAhljmzqPc7gDEGaw1iNL1FMBRelSZLoaHeYvHWYEwEwLFaYsWgddOtdaQJTD93JpdeeBG33HITl19zGTXguWVrEUmYPvUcyqWSeieDV8POWZ5pNdg05tfGiw2hrrEIdCEY4mfiyKtdbFy9lo1rN3DZ1dfyGx/5HW689WbmTDiXvdv28NRLazjn3GmM7BiKtQrUZ0UQSRBJNXoj7tUiqMJuDUjICIUH1LvvEcpWPUSIUFitRW1dplgITvDW4qwawZIQ17MIWOU9ljqmEMRb5U8ETKjR03mShx9dTto6mvMvWsjokYPBB1IBnCrmmKRx8MaRUGNC5dRh1qxaxQvrDnPbbbcwdHDgxMnTPPT4k6xau44rFl/C1VdczuBhgxERmlubaWtrYzA11jz7BOs7ExZffzvTRrRRiqd63RjS4LEhJ5gI3miEEBR5WERLf2mkcsCmQnAZ5SbLvPMWcf31tzN1ziwGD2smidCFBg+SxRrgaTTSNYxlAbESUdHP9jyr0ab/3J/5+RvMM91oS1+TEfEIUCqlnDNhHFdefhk333wTN97wJsaNGsmyFzew61CF6bNm0d7ehItGBmO1pJ2G+Tf62zDp9XvWAP2UKGCMwTnFRRGEPXv3sGHDeprLLbzrrndx003XMXTYEJ549Hle2bWPabNnMXhIG4mAIcc4wdWrLH3su3z921/jlb1H6OqewFXXXcM5k9qxFKRGS/t5GyO1iGlRQVVrMQFrM3w4wfPPruJLn32ctBy47bbreNe772HCOR1s3LyW7VtPMnXmXNraAub0YR5/4GEeenYtC86/kHfdeSdvuuZKhgwOfOf7XycbMo1x4yYyyKq8K6bfOhugAfoJ08DqQr3RjaOs4bWtZ3V2vbKLpc+voH3wZC6++DIuv2ghcy+ayKXXz8c6x/PPL+VYVyeuepzNq9ezdeNRZsy4lAsvupJLL1nCpZct4uIlczhwcCfbd+ykqztw6mjOhvU7WLhgPle/6WJGDx9EOWkjy9X277xT9EOEbZs3k7k6b3rTlVywYC4jOzoQm4KkEJGbERX8p02fwVtuu51rr7+WefPncvU1l3LNVUv+P/bOO0Cq6mz4v3PLzGzfhaUsvTdBqhSRLoii2CnWxJbEmPKaHn01UZO8iSmaaIwlRiyR2LFHsYGIIFIEpC11gaVuLzNzy/n+OPdeZmZ3ETTm0+T+kis757ZzT3/O85zncOjwId54awm1dfXYjtJp+bOQmuaZ7YZ8SfCHXSnVVoJu6rjSJS8vjwED+jHipOGcNGoUo04ey8hRJ9G7Tw9cqdYt2Y5LdU0tBw/sxZUOHTuU0Lq42HcI7DndsnGTDSQa6qmri1NTH6eiooJ9u3exr7yMyupa4q70LFc1XEeti01YCXbs2Emb9u0pbtfOV/UhPE/X0k4gGxvIimbRs2tPSlrlEzMNCvPzGdStC/mGQcKycYUyRzYdDc0BJwmHD1axb08Zh/aUUV9br/wdoeJrJ+PU1NRQ3dBIfdKhqqqKfXv3cKC8nNqqWhzfw4+dJFFXz+HKRhqTaiynoYGdwKqt5PChWhrjSptLIkljdTVVtXHq6xNUV1SyZ/c+DuzdS211JbYrcTS1fhaSuHYDdXX17DtcRVn5Xvbu3sLe3TspLz/Agcp66uOqXfEtxdNRApZadqFMxW3HoqGxjqrqCurqayjIy6djmxJy8vNAV9px6boI18Gur6K+sobGRovaujr279/H/vJyaitriCcsbE+gVaVG1X0pZKBtBCVEC6F8KijvqgJDj9KhpAsnjRjMScOHMGHCRE4/4zQSyUbeem8J2/bsw40nqT9cxf6aOAkXhONgOCZokqTbSOPBRuoO1VHfUEt15UEqDu6nfO9u4vEEtfVx9uw7RFl5JXv2VVNdW4fjKm2V68SxrEZsXKpq66isrGT3nv0c3H+IRKPSECoZ0HPAmExQU1vFvn372b27nIP791NXU42TTCpTW00irXqSVdXUVdVS1VBHZUUF+/fu4cCB/VTUNJBUdg7YLrQqaEW/vr0ZNWYkJ44YxKiTT+LUKZOxEhbr1q6nujYOgsATNyhNZFO82ZNm890zeVV/erhoukTgEDV1enbvxdBhJzF08HBOHTeBIQMGsmLVR+w/VIWddBE4aELi2A6HKiop37uf8t17OVBeRm3NIbXLg6GpfcitRhK1VTTWNNLQ6FBVU8+evbvZv7eMqsOVxJPKMZ3Awq2uoL6mmsqGBDX19Rw8sI99e3ZTc7iWxkaXhItnt6H2jbcsh6qaKg4eKGdP2R4OHDhEIqE0/po/iPVU8MoJZktIpEwSi2m4roHrajTU1/Lhyo946smXGXDCEKafOZX2Xdp5DvVMhLfHtYFFVLho0RySRHFdr9QLb+9t6YCVpLayivJ9Byjfe4Dy8r1U11RjW17eeflQX99IVVU1hw4coHXr1rRv156CIrWnt1poozxzu4k49bX1VNc0Ulcfp6Kyhn17D3KwfC+11VWBZlptdXakEDTJdryq6I1CvtCkRFoAnTq0Z9jI4QwZciLDRgxj6pSJdOvWlY/WbWTX3hps1PIh5fZOpYjaLyEzAUL+f6HqqLLAalXUipNOGsmZZ57GyScPY9SI4Vx8znkM71XC6tXLWbFtN42WA7aasMWu4cCODby4cDltO3RmyqTR5GXnASA1Gy1yJJ/V4pJk2ruF54MlmWykvrGSpUuXcPhgNRPHT2b6Gadz4oknMnnKRPr378miRe9Sun07jVYDtfvLePO1Nyho24NTJ5/OuDGnMHr8SE6bPoJuXXN498N1bNtbrfrzsKCFfM6EwrRXmR3HRqC8CSuTVknZzl0c2H+IhkaLSFStzdSR5BXmEI3EqKtvoL6xEddNcGD/PvaVHyBpSUwDNKERjegUFeaRtJLUNzYidChq05pzzjmHM8+cTtfuHcmJmgjHRBo6tlDOO3Q0dHT6DhjAzHNnMmHCyXTq0Ea5qhE6mjDUbJ7XPkRMg/YdOtB3QF9isSiGYRCLxejarStmJMrhigoSyQR43hp1XWl3fMcTIV8uhH9Ib4AqladhKZU2xB+yoAm1v7n0hA7LYv++ch544D5mXXghF826mKuuupqnnnkR25HYnqfqRKKR2ppKnnvqKf5y7wOsWr2en//sZ1xy0YVccskc7rrnHrbv3qc0oJrSorqORTKZJOnYat2xqdbkO66LdFw0KYnXVLLotVe54/Y/8OGKtRjK6TRuIs7KRW/ysx/8gOXLVxKPx9E1k6hloCclB/bVc/NNP+fiWbP4ykWzeObJpzlUUY3lKM/35WU7uffee7nvwXms+Ohj7vzjn7jgggu4YNYsfvXLX7Bn5y6klFQd3s/8x/7OzbfezpbSfdiOxMWh5vBBXnr6H/zP//yQPXtrsBMWdn0Nd995J4/+42k++HAVN/30p8y68AIunj2LJx6bx74Dh1OGvPU0VO/kyX88zcUXX8NFF3+FObPPY+7ss5k1ay7f+p8beO+DNViW02Kd80MdVzl2SyaTLFnyLt/5zv8wa9YlXHzhHG766S/YULqDpK22MNLRcRpqef/tf/L7O/7Au++v4smnn+MrX/0qc+deyPe+/S0+WrOehO2QSMpgutA3UEWq9aJqnTlKmJauMo2VEl03sG2HaERgOw5GJELPnr0oLi5m5+697N1/gO0rPuA3P7uZ39x9H3sqDmMiwRJY0qa8dh93/fpufvfL37Pwnde56X9/xGUXz+WXv/gdO3eUcf+f7+Xqy69k1oUXMeeiy/nb3/5Gefle0CW204AQKq4ffPABP/zRD5h10UX84PvX88pLL+BIqUp5shGJy45dZfzmN7/l0ksvZ/YFs7nyiq8w728PUFVZSdwCKRwO7NnOL39yA++88Q6vvv02P77xp8y54Hy+dtVXeeGFF6iui2P5wpenOBOaUBpsXZCdHaVX564UFRRho5zhHFkc6609dDyv8K5UXmhdb08lmSkkqft8qygZLDVywdABB82zHxC6ypts06C4qBBHaDgSTEMgSILrsGfvXm657ZfMmXsxs8+/gMsvmsWrrzxPbV2D2h1CCqoO7OWRvz3II/P+zqpVG7n7z/dy0dw5zLnwfG679TY+3rANO5nETdSx5JWX+OWtt/HW0g958plnmX3+ecydfSE//N717Ny5l0ZXkrQ9p4aOzq5tu7jt/37B+eedz+VzL+a737qed997j8ZEg0oeQDc0XMdF6Lq3RKMlHBKJeqKRKIm4w57d+3nssafo1Lknp8+YSaeundXOGJpQ5UDiOeC00XHAcw7qOwd3HG/XAQkN1TU89NA8LrxwLrMumMXFF1/MH+64g4qqKmxHett42az8cBU3/PRGLr7ocubMuphvXfc9lq/YSMLXIrsu0nU4sGcPd/7hj/zjH8+x9P3l3Hrbr7jgggu56MLzefSheew/WEljUpKwQSLUcgOvDfDbcUgVpL+4436JP+FKEEldN3Bsz0O5beHaCXILssnPzyMSjRCLqYl/4f+n+eYv5P8jrqscMmpCWS3m5uXStUsX2rVrpfaETlqU5BYzvG8xiFoO1ydISEhaAmlBY8U2XnplPjurdKbOmMUJ/XsQjQo0Q+Bojpp8EirjXSeOIxtwsVRR8MqEEBqGYXDo4AEOHzxEQX4Bffr2xjR1dENQmJ9H7x49SMTj7NlbTnVNLYmGOvbs2U2fPv0obt3a88MgKSzO5sQTe7H/QA0VlUkkBlqoNAr5nAnNvD2kdNF0NXxRfjIEwmpgw9q1lO6poqBNCb17dCDZUMcrL7zF0g93csrkqZw0/ASKsiXVFQdZvGQJZfsrGDZ2FGZMo3Lvbp59cgFV9TD+1Kn07t2N3JhJfmEukZiGa1Xy4Tur2LLdZvCkk+nWpx25wt/OyCASMYhl5aDr0HhoK+8sXk51soAJE8bTrn0hri7QvZ09NZTjHk3TECSx4/XsLNvL64tWU9yuE5PHjyQvJ4aeoo0W+Fr5o/AJp0P+jUjl6d0REkPqaFKodWfJQ6xetZLNe5K079iFovxsGhvrqaltoLY+iSYgK2YghENWTh6t2xQzYdQw2rUpYMfuvTh57Rg3bjTZGqC5mIZD5b5ylrzzPvf89Ql2HTzE6GEDmX3uafTp34+3lq3mYI1Dn67dqNxXzl/u+RMP3fMn/vnSSyxe8SFbd1ey+L01vPjC4zz/7HPs2HGQkpJi2uSbrHn3Hd79cBPdThjJoD6dMXEgUUfphx/w3POvMmjUOPr16k7y4D6Wvv4upXsqWLWplGmnjmXGlDH0KGnLwnfeQ8YK6dKtK7lRh73bt/CPZ1/gudcWsXnrLkYOOoG5cy+gV89erPvoY9Zt3EK33j3JE3UsfnsJ763dz5iTx9GppACpuyQPlbFi8SJeWryZU884j5K2eZg0cscdv+fJ15dRtn0Hk08ewelnnkX/np14/dWXSEYL6dS9P7mGRsOBtfzj73/lnSWlTD/7QmacOZ3BfYrYs2sfh2sMzrzgEqadOp5c5aBUOTJLG0ULz/Eh6EJZGQhNUFhYSL9+PRg0sBe7Sw+xr7yeE8YNp0eXEqICrGScqOby4Ttv8MQLb/P8m+9R2Cqb8885k5NHDKd630FWrN9EUededG1XqLaP0iWWUCMYXbpIDFyheeby4OKgYbN3207ef381nXsPpNfAgRQV6Bgkaayt4d1la9ld0cDEiRPpEXVYs2oVy0t3039QT7q2b4tp6cRlDes3rOXR+19l4IgTGT1hMMMGDmTC2FG0Lc5lS9khpp13EXO/+hXOP/tspk4Yx7DBfWnXrpioKTiwfQ0fbtzJym11ZOuS0yaezKQp06irPMimDevIKulDx5Ii9Hg1b76zhDv+fD8lHTozc8ZZnH3WWbRvm88HSxaxeWMp3U8YR1RLIGv38o+/Ps1zry+mXMaZPHYMs848A1PXePPtJVgiRrdePciOmuhC4MRdqisqqGqo4MDhcv758quUbtjFjJnn0LNvF3RDR/e80iqNsidgo9pNXfj5qya2jjS1whfJ/AAluOsOiCTSTbB59TrWrymlqEsfSnp2ob76MJuWL+WZJ5+h0+CTmHzqZEra5GG4tXy0eiX33/8I1Q1JLrnoMmafcy69e5Xw0uuvsGNfko6du5Ofm0Wyegf/fOEVHn/8FT7eVU6rdkVcftE5DO7fj483b+f9dds4oV9PinMkW5ct4w/3P8aKXfspKozxjcvmMHzIYA6VH+Sfb75Ln6GjaFOkYTj1/PPJd3jx9bco6dWJi+fMYfrkifTv053y/bV07jGAwcMHU1ycrxz7uW7gEK15B2QOTsNh1q9Zw9J1+xk6bDivvvAMCUtw7fe+S9dunck3Y+iu2ntO7TygIaSDW7WfZYveYb3VihETpzG4bRTdkmiGhiaT7Ntayt/nPcbGnXu4cM7FnHv2WQwc2JvVa1azdOlHlJR0o31JEYZh0KqoiB7duzJ82CCEFaGsrIq+I0bSuVcHcoSL6ah9o2sPlfPc86/z9ydfZF/FAUaNGsH5M8+id7d2LFm2jMPJCH379SUn6jn/85dWeevTCUqCP9nVZB3IF4JgO78AL/beEpG6ysNU1VRT11jPotcX8vbSDxl+ylTGjR+sHLUChiZwnSSGrwVFpFl2QFAcQv5teFMjniCqazq65i9HctU2fQjchjpeW7iADWUVjJ54Fj26l5AfBafiECuXvcWjC15jzBlXMHJET6rLt7B8TTVjpoyjS7fWxDQNAw1cDd1IoGk2yIhXb71JGinR9CS1tftY/M5q6iujnDikN207FCKERsKpYfeeMtasLKOgdVsG9OuFXbWPZ194gQ49+zPghF7kxWLgOiTj+/l4+3beXNbIoL59GNQ7T229F+oOQz5HwtLloesG+OYuAnRDp2PnzkycNBY3Wc6rrz7N20vXsOytbax8dxcde/Vi3IRRtCvIRYsW0efEvowZ15MNm5dy95/vZc2qdbz9+lI+Xr2NIYNG0r9/P4yIjq01gmF7s9MRNBkFNLUTCqjGTWoI1wCRhRQmINFwEK5ysmShtrpSu5MKZU6L0pxrwkY6LjW1FkuXraeisprhw04kOyuGrimNUzg7/CWlyYhGAhLpORDZum0b8x5+hJt/fgu3/OIX/PLXv+avf/sbq1Z/pJzvuA6GodO7Vy9GjR3DsJOG06ZNMUIoZZgUaq9J13EQjqMsGaWgT5+BTD1tGmNOGcWUqZPo0LkDG0tL2V1+kNati5g6dQpzL72EM8+eSfcePejbrz/nnn8ul13+VS6+9FImTTqFNq2LIJlAl47yDeZNVgtASImRbMRwHGwECTuJiERJ1iVorG1g9JiRTDttMlOmTeb06ZOor69h85YtVFRVgeuSl5OttCNahMEjTmbK1KmMGz+BSVOm0LtnD6qqKrFsGwNwbAtHM0E31Ww8mtpaSSawpYblajiOBCuBnbQQZjYnDh7MjDNncOqkSUwadwpZpsaGDZvZv78aKaBs12ZWrXiXvNxCpp12BpMmTeO0qVOZMG4CHUo60bZDRyJZao1mizPk3tpW0NBFBF2P0qa4hJNGjGLc2JPp2akTOXoEdLXWW7g2ESOC69hopuDAoQradunJmWefw6lTpjB18niGnziAbZs3s23bLhJJR+3h7Wmm/U29VAny7VDVgMo3w5QkaWisJhpV7Y7rSA4fqqKhzqJnx250bF1Mq+7tGHhiXyJVtaxbs456CTLqImvq2bZyAwdNl34nj6Rzh04MHDiYIaNOZvDQYcSiMXr36M7ok4YwesQAThkzhH59e5OXlwPSxXJs4gmbWFYeo0aMZNLECYyfeAqjRg2htmYf6zesB+mwv3w3qz5ah6tnc9rpZzJ9+mmMGT2CGadP46Rhg1jy9lts2LQd20V5O086RLPyGTZ6LNNPP5MxY8Zw6rjR1FUeYv36dVTW1CrP4zJKTWUdL7/0Mrfe8nN+9ctbWP3B+4wdPIRuJR0wdH+PadWLCqG006C00q7r7dvqSC/dPwk/J1T660Lj8IFK5j/1PLf++o/c8vObufe+uzhYuZdTp0yipEMbhAaNDXWsWbaKeKPLuefPYubMsxg+fBjTTptMz55d2Lp9J7v2HFLrybGxEo3o6PTu1Y9Zs85l8qRJTD1tKicOGUZtg0VlVRVuvJYs6eAmbdp17s4pp0xk0sSJTJo4gZMGD2Tl8vfZuXcftfFGqg8d4OWX3yBJhBFjxzH6lPGMHDeBseMn0K64FVa8PmXd+LFhJW1MXSOZqGTxO4vYsf0w00+fSdeuXYhGoziut9WjZqEZUjkw8tZeqrwTaMr7ntoSBxfi1az84AM2bN3NqFMmcOZZZzBhwilMnTqFkSNHsnPXLrbv2EFDo4UjITcvnyHDhjNu4iT69uuHYaj9dtWXqGGTqjHS0+xpjBw1imnTpjJl8nimT52IxOb95Ss4VFmHLVFOQAOT99QvbjbgC48EbNvBciWLFr3L739zO7ffcgsvvfwS7doVM2rkicpXhq4sBxzHVV6YPQFaCdJBQn7R5g/+a1CTO0cSX0pVpiUGEMO1K9mxbSkrNuyiVUF7OhfmquvsRrZuXM4rr62guPMops6YTru2RapzlzWg2diOhoOp6qe/zAOBg+v5OfHKvQDHkeTlFNO9SzcOV+7hg+XvsXf3bg7s28euHXtZsXwNhw7vp66qFkEW2cUd6TOoLx+vW8x7y95g78EyDu05TOmO/byz5EMObi/HTcSxZD0SK/i+kJDPg1CY9mZDM8e4EsjJLeD0s87hqqsuouJQGT/5/k/49a/uJhYp4upvfJWePTsq0xhXp1W7Nlz2tYs5/8KzeOaZJ/npj3/Mk/P/wdRJU7j44ll0LClGagLbN7P0PJvqnjGf65k0KmlGSdZCM5Ga2t9Pky6a513Z0dRgwvDudzG8/ikBsh5pWSxb/jEvvvY+rYvbMnL4iWTFokfWrgVfGPLlw3MYF2Sf8uziOjatWrfilFNO4dxzz+OsmWdz+hmnM3HiKXTt3tlzwCEA6Ql0Lq5jBz4C1PpjEQx0dKHh2pLWxR04c+Z5tG3fHt2QGBGNaHaU+kQChCAvL4eTRp7EtDNnMHnKZDp16UyX7t2ZNHk8Z5w+nTNOn86I4YMpLMzz1jZK1ZnKlLIoXCLCxdCVw6OkkOA6xKLZ9OzVm+mnj6ewIAfHSVBQkEN+fg7VNTXELQvpOQs0TJOBQ0Zw6vQZdO3aCdBo3bYts+bM4uorv0JJ+7Zo0sWxHRxMXKmEH4nSMAnXJumo/d81A3AssqIxThgyjFOnTadVqyIMUyeqaxTEYjTWJ7AcGzSXhvpK7ESC9u07EInmICXk5hdTkFuM6+ok3aRK5eYaGi/NNU0517JsFyk1tf2HN0km3QSGdIkgsFwXG982WHgezi3alnRg3OTpDB48hFhWDE3YtC7IRgPq6hIk4mCaShhwvF3IUUbFSrD2FnP72kFXJnHcRjTdwYgoU8DDhyt56413aax3mD7hVLq1b0O0MJf+A3rSp7iQjWs3cSDRgCVqOLB9O6sXraLr6MG07duVqBlF6GovXymUI0Tp2EQ8B1iaBImD69qgKSdXlu3Sv98ghg4ZSiwrhpQu+XkRcrIFBw6XI1yLXTu3snnrdkaPnUyPnn0xdOVIqrh1ASePGkFeTjbbtu2moTGJ4ySQjsuYk8cz7KSRFBQWoQmN1jlRcmMadXV1uMLAQcOyNaLRfE4cPJQzz5zBBReex4hBJ7D09X/y6vMvcOBwvfIWraG2ddE0b59dVy3V8dtaTaAbnpf1T0QGwrRrOxTktWLwyDFMO/005lxwPqdOHU9B62xee/kFNmzcQtxyqD94mA2r19Ktay8GDxmCpoPQdXILchk6dBAHDh7m4407iVsOYGMKGDJoMNOmnU7f3t3QNY2cvFzOOHM63/jGZfTo0RHD1CDeSNfOnRk1djxDBg/22g3IiWjENKhtiNOYsNi7Zy+bS3fT64RhlHTriaa8wSEcGxMH09ua7XhQ+6y77NpRysMPzWP7tt3k5xXjrU7C8do+1XYpE3ZVcjVsTAQSQzronhd4XJtkzQE+XrcOEWvF8NHj0Q3lECk3N4/+/fuTm5tL6datJCxLlU3pTYZ4AqPjqBXiajrKmziRal9lwzAZcdJJjB07juLiYqSQZGXpZGeZJGyb2noLy1GCtBJa1Af4re2XQ448ko/qL+WMDnSEZtD/xMGccfY5nHH2OZwyYSLJZAMLnv07WzdvQpfqSg1/0k4PDs+N25HuLOT/KxK1DEECSB2kye7yMp54/UU2lCc4ccgY+ndqRXEUaip28d77b1J2IMlZ519Jh/bZmDhYjRaakSAa05Gaji1Vm6qZLgiBwEQTprdFn+d8TJPoIkJ+fgfOPPNsTh47mGeemc+1X/86X//617n3nr9iJwQFeVkYhupLCzp0Z+6VV5OTo/HAvXfxtauv5nvXX88//vEkrVq3IVcziGlSTUBnfmhIyL+YUJj25VdXVTdfc6tJcOIO7y18lzdee4vevfrwja9/nXMuOBs9KvnHPx7lwzUfUW9baMLg8OEaXn3xnxw4UMV137iOa79xDadNG8+y99/m8cceZ/O2MiwbBNm4GMocUFoIkUAIB6nZqHk63+5FaQV95wlKC60cB7maus6Q0huEqv0+JQmchgo+XLqUP/zhPg5XucyeexFdO7fDNNTA/MhHe98a8qXCH3gJjoxAhGEgNEGbtm0ZO3Y000+fxtSp0zh12lTGnDyaDh07YruOsjsV4Ejb82SrxGeEUMMkoRFPJpTg7brEzBhWErJy8tDVzA1IC8uxaLAS6nn+NlNWUvkd0DR0XceRQjnIQ201pfahUdpxqak9bW0ktpDYniMjiUtCE2BE1QSSESG/qBAZ0RHelklOskGtzZOgaYZaK+7Y6LpJVk4BQvO8bwudaDRGr149GHbSCCLRLKRrkxWNYjsp9R2BLlwiOuiRCEkplKCpQSSik5NXSFZujjLDFBqRSASZTBIxoySsJELYdO/amVYFrdi4cQsbNm/lYGUVWzfs4OO128jPbUX7jsVK3moiSBPkppSqlptGRGlvpOE5WBIYukDYFsJS+0MHEyCWWppiJRrIySsgK78VCUvlR8TUcOJ1uLaFaUYxTfVuJaoJb0Wu/9v7I2gOHNWWuHGeW/AU3/zm9Vz7zW/z85/dyvbtZVw05zJOnXgKrXKj6EKnW+cSThrWh4pDtazfuI1E4jDbSjdRXl7D1LPPIKd1PkIYajszw8RBkEgmkE6SmKFjCqW5QiqnamgCzTRBM8iOZZOXkwWWjWnqSDeO69SD5pJwbCorK9i77xCtijvg4u3/q4GuC7KiJqYu2FO+n5q6egQOWdEY+UXFSE1XAo4QCDeJ5lo4toUUOrarPLNn5WUzcMhQpk6fztRTpzDrvJkM69+XtStXsWHjNlwp1YSMUoKCQE11CVQuSYntOLj+PkvNkdYE+5kgQQpycgroe+JQJk4Zz7SpUzn7wrOYevpEVn+4nOUrllJZW4HTGGfbxq28+OLrXP/9n3Dp5dfw3a99k69ffgn3/uUudpaVkXQgaSmndaaukZOVSywrl6Srvj8SMejQoSPDh/endWEuwtTQXItYLIaZlY1hGMobui6ICAnJOLbjYDs2Bw4cIOkaYOZiGyZSVxM80rKIRTTcZINar3zMSGXq7STo2rUXl33lCnr06M5TTz/LwYN1uK5U+xULcF0N19XUpAYSFwNHRBC4mNJWjjx1DVybhvLt7N61i9eXfMBPb7qV6771P3ztmm/y3e98h9/97nds3ryZ/Qf3B3klNN/7r0ATql6qTbQ5Ivr62eVCfmER6BqRiHK+l4jXETF9bbm6Q+KSTFpH2t0vGWlNBKi00U1sF7p07cG48ROYPP0MzrlwNoOHDmJfeSlr13xAMhFHE2AIgamryRa8cY0ybk/9X8i/G9d1cV03WBCv1k8LpGtxcN8eHn9+IfPf+ZiBp5zGuReeT/vWEWJ2BftL17Nm41Z6Dh7GwEEdMO0GnPo4dtzGNF1qa2upqbe8vtbBdSxAQ8gsNKkfqUdIXNdGSh2dHHr1HcDcS8/l+h98i4svvoS5c2YzefJpnDBgOJru0q59PnpEQ4ocBg8fx9Vfv5bvfP3bXHTBHM696AJOPX0Swwb3p0/3EvJycrBdLX3yPiTkcyAsYUqWwHWV4aPr7RWZTNqsXr6aJx55BsNszaVzv8KVl57HxVecyUmT+lP60QqefuZxSsv30lhfy4dLVrFk0Qa6dDqRc885nzNnnMbci2cycGg3Xlv4PG+9vZiq2gbw9rJVgk0cVzSq7TVEU0+w/sy4Qnnb1TS1n6fERZfeljaeZjHRUM37b7/Gn++8i8qqRr56zTc547RJ5OdG0HxvLP6zg79Cvrx4wxvbQboSTXOxHYekZQfaMc1TYArhDVykQ0TTkckk0ts3WhOukpOV2hC8fZw1oRMxowjHVcKO65Cw6ollRzFMg8ZEoxpJCgmRCJph0lCfIN6YwDDU9lVCCLVFleN4wU/qAADYjUlEQVQgNIlpGmptqabhCLCQJKVD3E5iuRoWDknp4kZM6hNxEo6NoYPraassO46GS1Y0Ggy9YtnZao9pF7KyBY4rcGwby7ZBgKFpZEdNDN1UHrA10HVl4K1JcB1JImEh9AiOVPsdIzQ0TQdd7c0tTRMr3ohwbbJMUzkSQuJKG+loJOMaH65cxT33/plf3/4b7r/nEey4zpzZF9K1Wzuk8AbQaXX6CEdMg9We3tKLl2upbco010U3hDIvloDrEInEwJXohk7CttANnUjUNztFWQJIkNLFMDyhzxOeAxNLXx7wIuWL3BJASLp378zECeMYP248I0eNYfacS5kxYyKt2ubiSgcaIad1a3qM6EF+QStWLvqAw/t3sHnvbop7n8CEEYPIiwhswyAhAaEj0IiaJlFdRyYtcMBNpuz3KyWWK9Ue3lJTWzS5EsexlXZSxjFNpfVF14ll52K7AultPyXjcaTjEG9oIN5YT05WFrGsLOUwTzcAQSQWQ+hAMonu2OhCEo2anvdzZXLo2GpNrlpDqNG2cxeGDRtCY10tNTW1arJI89a7SwfXdaitrubQoQoa4klcoWNEIoFFSIvIdDFCAkIzSCRsJIIsQ22/ld+qkGGjhtO5Y1uqKw+TsOMIxyU/p4AOHToxfsJEpp92GpMmTuL0M2Ywe/ZsfvjD65k0aThZWbpXLpRn6+ysiNoOznFAN4hETGUHoWmIZFI593JsYrEIhq7jJpLoQHbMQJdJNBeQgqRtY7sOIqImPySA7eAYGsnGBpTcm/5tn4QZUfYruTltOOfscxh18mDWrv+Ihx99kh2792FLBykEmjBxHS3YK9rVdCzNRJMSQyYDrS+4RCLQunUhHbp0Z+iIkxg/7hQmThzPyFGjmDnzbH7wg+8ze9YF5GRn4XiVwbXVlnZCqInH5ucE1NdJVxKJRgGJayUwdYltWdi2gxS6aoMRaLoSIpp/1hcVGRyqnKbkpxSYZgTNNNEiMTTDJLeoiOEjhlGYn82uHVvUdIKjZpyEt7tD5rNDMfrfx5HczKyPUvnrEGBbSXZsW8/Dj93NE6+soU2/OVx53VWcMLgDUT2BPLSTXetLWbe9gQ83LOPW227gFz+9jd/d9gcWvvImW7Zs4MG/PsLddz3L5tJqkknNm9jSseI2FVU1VNU00mhJHOl4O8touI4BQqdLjxJOPX0q555/HrPmXsTECVOprU1wuOIgnbu0JjsmMHQDl1y69xnCaaeey5yLvsLU806j94DuLHnjJVoVR8kvyMHUChAimvalISH/akJhOg1Pi4ZGPGGxpWwXuysO0qNbD/p264aGJL8wjx59+lCY24r9O3eTqK3iwMHdbNy8leoal4GDTqBTp0JiWbmYeSWMGD8NqWvsL9uB2xBXxk2ui+Y6SJFNo4hi6w4RyyZXClxXxxFKCyiEg3ATICVJvYgkUUy3gRgaQmpYrqu2GbDrEE4DGz8uZd4jC9i8bT9fveIrzDr/VFoV5iClhSa9tXvH02d9GafP/0ORgOs73EEL9qQFF1fLxha5REmSY1hkR5VZqUBZIuoSdM1UD3DUcgHNyEKauUhpYCYbiaKWHsQiMbAljhGl3nYxhIbpgkTHNUwcTUM4FlHXQvM8h+PY4EocYZKVnU80GvGcdwosz2pCGBLHMKhxLNxkAzGnEcvbIMWKO+zaW4GLjSlq0bFxbIEezcY0Pe2sFCBM9Jxc0DVM18J0LIRuUp10sGxJtqZhJl1sCdJQGnJ0zdsP1yUpskm4GjH7ADlUYzg2puNSU+WwfnsN9UmhzFN15VHbcQQJ6dAgJVKYRLIcsGrBtmloaCQ3J4aOTVl5LbZezGlnnMb4U4YzdNAgRowezzkXnsXEyQNpnWOofaGbGchIL3N1TUPXNKTj4iQsCPItii5jOBGI67VoloWQ4BoRlXpCRxq5RKMuMn4QhIbAABFBZuWBZqMlqpS2Wddw0THUFSCUl1MTCcI33NSBbFw9H0fLYtjQIVx49gwunzuHr1x+JSPGjMZ2HG+9uwDNhEiMLt06MbBrEaUffsDqdeVs2FtHn5EjaJujkadJdGlh6A6Oo/I2JiGWsDDjFqYGMqZjiSiOpoO0MdCJSIOoq2HZICNRNM3CMSSuYWJaDWQZMXKLe5KTW8jGDatxXM/sX9NJOgYHqpI0uhoDe7clLytGXBRSpdvYspp8x1J7EGflkDTysNDR7AS5IkmWcHFsF82UWLaLKyM4ThZJy2BXxSGiBTGyYkoDbbsOUsbBrePw7lLm3f0nfnv7Hbz/0VYOxF0aAVu4ao0vwrcLP1KxfWFTuEhcpcmUOo5p4kQkOaKBqCuRro7IKqbeiRC3GohoNhGhYeS1pk23rvTq1YVzzpjOJRddwFkXXsDMOVcx96Kvc+7p4+nftRVRzcY1i4mb+dimRDhxomiYegRQ7UVMgikNMFpxyMjH1QW5iSoiroMWycYSOpWygWTEJkdqZGvZ6FnZJMQ2EnU7iMST6BKSWoLSPRvZWr4HFyMw6vWtDoLlDur/aJ7ndIWGJSPE3QhZpkGbwmymTZ/AWeeM5Zmn/sLihf+kpqpaiV+uassENlIkcQyThIwQkQ6mlVTm2JpyCOG0LUHLidI+X2fmlAlccvH5zLlkNhddejlfvfxKzj33LIYOOUFNugnlx0HTdFWP0HC1Rhy7QW3xJ9VSBSnARgfTwCFJMukt59B0YrE8XFtZo7iui+MvpRG6crzmieHq8J+nji9ex6syR00bqHYCz5pI0xy1Atb1lgxpYDk2hw7VUHWwkdZ5JWiuqfYTdlDWHCmtn//9X7Qv/k8ks99Rh7c3uvCWLtgWSIv6ygO8tfBN/vbY8+Tnt+HKuWczqEcbcAWukQ15JfQdMYErr/46M06fysihAxk6uD8DBnSla8c2FMXa0ad7H3r1bEVuvsSMOmBrYDus//Bt7rvv//j9Xx5i5aZKEq6Gq+ne7iDKCsZ11baNETOC60jKyvaydv1mevY6gY7tOxDTBbrmEotoRDQDISVCk7gubNx8gFUf7WbggI60bxNDE8qCKCTk8+S/TJjOGMg0wZNi0UEY2KagQUuwdctG9u7cBZpOdUMjH60vpXT7Pgqzi+jcuhXRbANHCPaUH+KdxW8ST1pIDOrdHN75YBMNjQlK2hTSKtvAEDaGlkRgg5NLPdkkRAIzYZHngtB0pC6Jy3qEiGOQQCCoc3NJECOLJFZNPcL1PkUkMEUta1cu5b6//I3NOyqZcc5cZs86j9Z5JoZQKySR3lpZz8TM7+RdtRln80fIFweh+iIXgY5ACAc0S4WTjS2z0Kw6iFcjvG3ecD2ZW43wECKCqZtogMTEsjQ0I0ZRREdLWmhCU+bYRhTbjGGZEQSQrattM2xMkgg01yEXB0MTWALPCxPEbYlt6+DYaNJBIHEkODhIaSEMjaLOnWmVk0XN7u3EpeTgoUpeeu4Vnn/5beKWRcytIyIcbAvQDSwniSldNBuko9MgDRqtJMKOYzguAo1GqYEw0JNxtHgCoTs40sVBIjWVVrq0EVlFFLXrRJ6soPHAVlwrzuFtu5g//yVeXfwxcUuQpbmYbgIcFylMHOFgGYIEAqwqdBHHNAykBMdqxIrXcrAiiTSKGTFqFF+59CK+csnFXHT5VxkzcSS5OZJsAcLRSDoSx1/q7A9R/T7eMxnWNA3TMNQyk0QS6RjYVoSEZuNmO+QZOhE0XKEhpYPlQI1tYmhJsqjxHqWDG6FBi2C7SbLcejQpSUpwhYaBwBQCRzPRhCAiHHTNVk7qHIBsHL0AS2ShCx3TSWL6wrOQGEaSiOZZ0kQiYEbp0K4Dg7q2YnfpOh58dCFVTg7DTjmJiJSYVhJDJtGFhWHqFOS1pm1uIXs3bKTxYDVSgqWBhaFcLSYbcBMOIiHRkza66Xkg15IkpEujo5NlJXDjkk7dh9C9ex+WLHqdRYtfp6q+CiIRNm/by9vL1xLJL+KkwV0pyMmikXzqogKh11OQbCTqujjCoN7Ix9Fj6FhkyQQxITA1l4QVRzc0pGuiaQW8v3Ijb3y0krZd29Oja4nS5AoHodsIu4bavdtY+OIL3HfvPJ566R3KqxtJAPVWoydEgEpFzTu8peqag1CqXsDAdg0akMS1RnKpI2Y7CD1C+cEE77z/EfWJOoYPHkCr3EKyijvSc9CJbNy0loUvvUJtdQMiywA9H03LJwuHmEwiHAtLa0Ut2TSIJNi1ZGsCpKkcYQrIAgzbwJGFVEZbE3ddCpLVRB0LV5okhYGVbZI0HKJJyBJ5dOjSlf7DCijbupTkvkNormTF2hW8sWQhe6urcEUEIZ0jDsE0DeU5QX1/4ITQSxuEgaVlY+k55ER0TM2lY+d2nHvhJAYPasd7b/6TJe8so7HRAk2i6y52ogGJTVIIHCObPMNATyZwpEbScWiUDnpRJwYOHUKWVcE7r77Arh27SLgWiCgOOkK4GBoI6eAkE7iWraw3ZBRXA8utJ2LYmBIcSyA1tcTFEgaWkGo/Xc37JiCZcBDCxNQgoqu5A0einKd59ShVpPGnspR4+UVDaZMFeN4WlCAtcHDsBAhHWcxJG4DSbVt57bW3EXY2gweMIqoZCE/Dr2uoiTuh7lfPUmuqw2HHv4/00uc7T1SObmv2l7PotVd49KG/U9SuL1d95TLGD+pMPoKo1HDJwslqT/dho7j44tlcecnlXPOVq7jkstnMvfQcxowZRtvCzpwx7QzOPe9U2nWI4JIAV8etqebDJS/z8IN3ct9fH2HJqn0k0LHR1JaMwkXXwDQMNaHtuqxc8SH33/9Xtm7bxbnnz6F3995kmyZCOGjCwcBFZAnibpyF/3ybF59fRsduo5k08SQ6tMv1/IqEhHy+/JdtjdUyrusGDrqEEOi6RnaWiWlqrP1oC2+9s5iPN6/njbcXsmbVOtoUd2bOnNkMGtCbnGxB1IxyYH8VH6z6kC1bt/LWW+/w4kuvsHz5cs6eOZNpU6fQqaQdNVWVLHrrDV589mlefflV3v9gDXsPVlNVXcmqVavYuWMbrVoX0KqwgN1lO3ntn6/yzFNP8eabi/hozXoOH6rg0KE6Ply9kT27t9GmTR64SV5Y8ALz//EsDQ0uBQXFbNxSysI3Xuftd19nybvvkJ+TT2FhEdFoFMuy0HU98OKY6skx5IuLGmSJYMglPBPrZDLJ6tUf8cGKD9m+cxerV3/EoiXv8eab7/D+0mXU1tRQ0q4dUdNgy8YNPP/cc7yw4HkWLVrMR2vXs2fvPj7euJm1a9eRaKijR4+u1NbWsG7dVnbt3s+MM88gr8BE05M0WklWfvgx9bU2w4YNpVP7YnRcEAaVVbUsfv8D8goKGDPmJPLzsjCERBcuunDRDEFuQQGVh+pZtPQDFq9dzvo1K5E1DbTKyaeyoZohp4yhT/e+xCvqWLF4OWZRAaMnjqZVdhZoLvUNtSx6ZxmFRe0YPmwoha1yqaiuYuXKtcSieZw8ejRtirMDJ2u6V7alhFgkRnZWNgf27+f9995j0/r1rPjgAxxXUNCqhPKqBBdecBadijREvIGX3lyM06otJ580lE5FeRh6nMaaKj5ctpZEThuGjRxM53bZiKRk5cqNvLNsBRu27ODdxUt4f+FrLH5nIavWrSZWVESrorbomkBP2SLJHzz6tc911JpoITTqaqp55803efaJv7P4rdd4Z8lSdh+sYM/+SlauXEP57j20LcqjsDCfbaVbWbthE4OHj6TfCf0xAc1Jsm3bDjZt2Uq/AQPoN6A/RsT0FYJo/tpeAQKlFVVx0pFSsH37bj744AN69+rF4MGDyMnN8kqgi5QOQtPRhI4mHIQVR9N1hAtr1m9k6QfrmDDtdE4ZN4KCWMRbE+2SdGxcFwrzW1Nc1IYPlq9g5UfreG3xu7yzdDnV9TW0aVVAQV6Mg2VlrFu/mzadT2DYiP5kx0DIJHv3lLFl8za6durDyJPGkpOTQ1ZONvsPlbNyxfusXrmSJYsWs3r1GrJzcjnjjBkMGzoEAVRX1/Lue0vo2LEDJw4aSFFhIa4r2bf/AEuXvk9hQQEnjRhBXm4ua9eu5dlnn2XhwoW89trrvPba62zavIXBg4cwecpUevbqQSRigHQwNQvNaaS+upaPPt7K5t0VNBJh0qkTaFOUTZYmMfD3Vs4c1kmkdNQaRU9LF08k2LltF8vfX8HWbVvZuHkTC996i+UrVmBLydTTpjHhlHEUFRRiGiYFBQVYSYs331rEunUbWLR4MS+/8gpLlrxLdXUlxa2KyM/Pp7a2gWXLP0Q3DEaOHEXbNkWq/Q+EJbXEQ7qSdes/pnRrKWPGjKJr1y5EYlm4uGwqXc/S5SuYPO5sunTuQPsOuWRlw/Kla1nz4W7eemsR1bW76NOvK/GGCIWFHRl20iCKWhUqXwx+XxtoZ1P7HgFIamoqWL9uPdu3VjBl6lTyi7LJLzDo0KEdy5auYePHpbRr0562xfnE62tZuPCfPPnM47zzxiKWLP6QHQcOc/BwFR+tWEN19WGK2xeRlZtLm4IiWmXls3rdRt5dvoxlHy7j3Xff5bV/vsbusjLy8/MoKizCsWw+XLGCfzw+n5eef5H333+fPeXllB2sYMWq9ZSuX02bvCwKWxVw6OAhlq/8iGheISNHjaZNUT4GLk5jLUuWraQqqTF27CkUF+YS08HUBNJxjpi/C5Xy3iKQJm3CFwOVL35u+eUFYM/e3bzyyqs88cSTLHxjIW+99Tabt5SSl9uKqVNOZ+zYocRiEVwpMAyB4yqTXv+56n9qm7AjKRDyeZNWztSaIlU3nSTbNmzgySee4N1lq8krLsEwTN55+23ef3cZr7/+BuX79tOpUxfMiImuCd93JeBgNRxm86bNbNxuM3bKRDp2KSKiJ4lI0GQEoVl8/PGHLFu3Ci3WhXGnnMGwQW0w1GYXgGRb6WZeeH4Bzzz1FIvfWcTateuJZuVy2ulncMr4ceTEdIRrYyeTrPhgOc889TQLnn+ed5csYcuWbbRt34HLv/JVunTtQnZ2VC1587a7DQn5vAiFaQ9/43p/fZRh6BQU5NG9Rw86duqOGYliRnVMU6dv3/7MnX0RJ48eorwQ6i5dOnejX7+BRLOyQEhi0Qjt27Zh9OhRXHD+eXTuWIKu6+i6xoH9B6ioqEA3DHr07k//gYPo0LEtuTlZtC4upFPHEgoKcqmprmLPnr1UV9fSulUbBp4wmBNOGETrdu0xDJ3OndvRu1cXHDdJY2OCHt37MmzEaAqLWqPpGtk5UYyIRl5uDv369Kd1q9aYpqkcoKQI0aEw/eVADWfwhGlvHIaLkALDjNCqVRty8wsR3l6RkUiE7KwsunTqQLeuXTANnZraWg4c2E8imaRd+w706t2HHr37kJefS15uLh07tKdjx3boukl2dgFdu/VkwAm9iWYL0JNEtCjRrHy6dupFv769yc/OQnNsQOBKjfy8fPr26UOnjh3IzYp6ukZvb1lNkJ2dR0F+W8ysHKyoRn52NuNGjGb82Al06tGDPkOGUFzUhhgmRfmt6HViPzr16EpMU06RXBxiWfn0638inbp0wYjoSNchOyefvr370qtXd7JzTDThe5D1tEVCIAydVq1a07FjR2zHIWHbtGnXjmmnT2fk2LF07NWLISf2JjeinC0ZWbl0GzyYnp26UBSNYOgJ3KSDESmg68DB9OjZkbyozaY161m2bDVGdj5tO7THNCDH0GmI1/Ph2jWsLS2la/c+tMorxDSVgzD8wYwn3LpSgut6g0pJvDFOeXk5VZWHyc2N0fuEgZw4bBT5rYuJxWK0b9Oazh3aUpiXg9ANilq3YcDgYRQVF6M7LtgJ0HTatGtPvwEn0Kq4LUIzCJxMpw2opLd0wA9V2vG2bdsxYMAAOnfugBkxjugxUsxRdVyEVB64cQWbt+1iX0UtF8yeTbeuXciO6EQ0qVye6VF0PUY0EqNT5y6YkQhmbg4iYmDmZNGhQ3u6lLQjNyuGcCEvvz29ThhMSYditUbaVd64Wxe1o2OHnnTp3A1N02jfsS29evcAbGKGiakZdO7cmYkTJ3LyySdjGMpxlOu65OfnM3DgQEpKSohEIgghlKMt06R///7079+faDTK7t272bNnD/F4nMLCQrKyshgzZgwzZsygU6eOZMeinlG2g4mNEC5mVi7VNQmWf7yVLn36M2XyBNrlR4kK0IN9hTPbWqn0kkKtvRZINKG8uRcWFNO+Q0dycnMQuk5xuzacPHYs06ZOIyc7G7y8a13Umn59+3vrwl2isQhFRQVEoyatioro2KkD2VnZSCmJxrLo1bMnPXv0IJaVja5nTKYKFSehaZR06siAgQPJK8hH9zRFAoeS9h05acTJFLXKJhqDtsXFGHoeuoiRlW0yavQQBg48gdatOtOzZ1+69ehKTk5WUNaVAy5vIrdJeoBuCAoKCunUsS8DB/clmgVCcyguakP79l0ozC2gfdtiOpS0Q9M1du7YQV1DNfk5BfTrN5iBw4fTrqQ9EV2jVVEObUuKycqPUZibz4DeJ2DGcqiurcGMGGiahqHrFBcX07lzZ4oKC7Eti8qKCqoqK9F1nZKSDvTt35/Ctm3JzYnRoXUBvbp3oqiwgKxYDlm5BfTs24cuXbqSFYmiSRvpJDGj2fToP4h+fXuRHTGJ6MqkXde8adGgEf+iC9M+TWNXUVHFzp07sSybgvxCNM2gZ49eTD9tBsOHDyWWpZbp6IZqPdTa2MznhXrpfwdHShnB5IVALWkQAqRt4Tg2DY1xDF1nwOAhdOvdn0jEpCA/B8PUyM6KUty6iF49upMdi3qe90XQN1h2HCOaQ/uOA+k/qB+5BTGimqN8LDgaekQjOz+Lrr36MGbMqZw8eihtCqPKKgTAdTh8+BD79x/AcV3QDU4YeCLnnHseQ4adSCxqYOoauq769IrDFVRUVGA7Drl5+YwdewpnzTyTzp07Y9kOsaiJ46hJ9VCYDvk8ETJ06QwpwjSAbSuTLV23QbpIN4rjgKs5ap2UC5owlf8b4aKLONJxwY0opzQCJAKhqW0fIoaOdCWJRIKIaShTJ1dtRqSMVAxsVw3gkcr8yTQ0GhvriUbUFh66tz+jKwUJW6AZAkN3kW49GgnAwE1qaHo2oBzBSENiY6EL0FH7b8IR4TlTqA754iK9NXekmNoJqdZMg8SxHc8Bkw66qbxpu56grQt01Owz0gbpoBumMlV2JZoRxRXKvFDHJR6vxTQMBDFcR8d2QI9auFo1OgLbjSKdLAxDA+liCBfHsjHMCCBwXOXIRNfVeSEkuubiSkvtAesYxG1JPCuCIR2yExJhg2sKGqICabvkyQjCEiQjkNAdsmwQWOimg2PpaFoUVwokSTRdYlkgpYZhGFh2nGhU7c+uBgxeeUf5DXAsi0g0hm3byoGf46CZUeLCUMKItDCxsGxJXVYepgsx10GTdWrNuRvBiWRhiyRW7W7+/Js7WbZsM1dc/0NOOXUSGpBl2VRWH+SBh//K/H/+k5/+9OecNm4iOVlH1rOnHsqfgaqPTtICIXBtGzOqI9wG0CO4ehZxqeFKtQNoBAs3XotumrgigmNEibuCLBwMO47UdBwXL3/VFliaN2gRwaSMA1IqQU7TkFKovQOkCLYEikYN1UYIVQolEkcKJDqGtBBOI67jsH71Wv7818eocyN890c/oEevrkQkZGk2mrSxpamESu9bsW0cwyAhJAkEpqGjSxvDiWMIF2lFsfQYNqBrNhHNQkoLXB3IwrUlmqHj6hIbG6G5CFsS0aNBe65pGslkEk1T23E5joNpmti2MklNbft0Xae+vp6cnBxs20ZKia4rx12apgVhhh7x1suCEEkiIo6066iurOVvDz/Dw08v5OKrvskF559FuzyNKA6a58SsqWbaxXUdNA0c11Lr+wDX0dCJKhsUqda7S00jaVsITWAIDc0rK4Zu4NhefRPePunCVU4ApVrfqrxgG+qcBF3TsV2JYSgnhWqZgYqRdJSDL8dV23wJXW0V5Uobw3RJJC00cgEbKeJowkLTstCkEthd6pGyEV3Lx7F1pIba79kTnn1v1s0L0y64CUCSiEfRTR1HJJF6XHVfbgydCMKV6MJBug5CSITeiNqkIB9L17EkCBtiEYi7jUjNwXQkhm2CHsWSLrZwMTS1ZWDgYduV3jIa3/RVNb6OBNvQkEJgSgfDiSOdJBhRkq6GNCK4aGiA4SbR3UYcKYiLLMyIieuAqUk0V5k2K6d0qhYilMEzGW3CFxslPIFyYqesKoTn0FLHtiWGFkHT1FWuq+bqhGcN0+RRPpnnQv5FqN0SFCmTF8LzZSAkwhuTIgAniatHSbg6aBqaJnAcF1NXWwBqUk2MaAKk4yKli6ZLoAGQ2Il8hKlhSRdNSyIdF4MYrpvAMC21k4ebhetGELrE1CU4No6VQPcsQ5XBm4l01VaaUiinphoSU3O8QuXVU80bGyfVjiISDd3Qgl07IrrXzoWEfE5k9uz/laQK0nidvJRSedP16qtuaOiaji50DF3HVL6NsG0b21Z7QgvPjNNxbExDQyAxdQ3XVp5eo9EICFXplSdYA03T0TSUwKOBqasBXzKZxDSi6Jpan2nbLkgdDQ1TFypujkQI3Xu3jmaoQa/QUZtsOcqcM56IU19fr4QH79uaG0yGfNnwOkQp0AzTm/X3VmQKMDSBJiSu42DZFkjUoF7TsS0HITQMw8SxHVzbRboob566gdBMbKkhDDUIMjRBhBg6ppKpXBvXVuaaLgaaoUz5Egk1yDR10HDAsdCE58wVExcDV4BpCm8tvzIrRTOQwkSTOobm7Zuuu2iao9am6hqabmDbGhKdeDLpbe+r4ToS0zAwdbVru+bJfUKqtHEcNcMlXZSXbsPElZ5/AgFaJEJDvBE7kcDUBELXkboJhk4WNlHhomsSocWAKFIYSAeEZSMtGythYdsJ6utqsB0LXRdohk5tdR2HDlUSjeWorXNS9nnPrHWpdVIzDTRDRzM9bbDuZQJqk13dt6BxXLRIDGFEaIgnQUo1wy8AoSstmGEqj80EO6NBMwN238TYn723bBvLsjEMDccRuN72gY4jcaXEsixcxx986Rzaf5C3317M3vJyzj//XNq1ba2yUOBFSK0TTtpKPyIBIhrCcBG6EtSU8KYfSWep9jbWUNvqCHR0EUMn5g3mVJ7qEkwBTrIR6TrYto1lqS2ILG/fYN+01HEcGhoa0sLw0l9KSSSi9qnWdbWVoC+Q+2GapoH0BC7bwU1alO87wMI3FzHv7/Mp3bOHmefN5KwZEynOj2AKZQ7fNMWPcGQ6Ww0CETq6bpBMJnHsJJon0DuOjS68PeBdCa6afLEtVeaEELguGIZyaCe9bW6E55leCdRqT3M1xlRm3SkxASEQmsCyLEzTwHXVZIsQyrt/MukSMWJqgkzXMPQIupaNrpnYThIpXLVnupat9t4WyoP/EdlLOQ47OjrS1TAjGrbtYugGhoigiwimrqvt8Dwtp+uvQcbAVV47wdsFUNfVhIfS9GvKuZ6yr8bQNQxdw3EdXMdV23d5kwdSoLRigRmHQNM1VZYdVSa9QYEqC0LHddUe7kIoT+xIHaFHwHFwkzZRTSorDlxvUjMt4b+EqPLsuhqOA7puqmlez3uqrhsI5e8Sy7KVsCZUG5LGlz0ZvnRIbwL+yCH8nSaEan9cR4IexXVcDF0gXRvbSmAISCYSuK7taaSPPFFN+mk4ZJNwYiTtJLiSiBBqiQtqBxtpRHBEFrgRTCmIALqrBGN/PKKsYJSzVa8RQ9eEMgX39o53bNWnqa8RSFe1c7Go8vNi6MqVSzB503zTGxLyLyPUTHsDLE1Ts+94AyiljQCQJBNJpclyVMXWdG8w4+1piudEAymwbBvDMJR2WzeQUpJIJInFspTgKgQgcVwHXWgkkhamt31KItFILGriOo5qrFCDIyEFQihtkZRKQ2lLSdSUuE4CsFTnhYlrqw5ON9WAVQo1cFFz5uk4jhOsnQ75YhOMRb0ht+pClFZaOg5o/pYryhpCeh46Xc/ESfUnShMpvQ7KtmwlOEoN3VBDPbCVN00pcGyBaSqhzJUOuu55D0egYYLUlFMdqQbWGlI5GsJGOhZoOo5tYUZiJB1l5gsCTTrE4/WI7Gx0qWE4GsJWXmBltreuN2ljagJXc4jjECGKdCWWlSQWjSKEmrTSNN0bEHgqEFRc8eqxus7BMIzACZQET2PndcZSYghNTappOgnLImIYaJrEdZVlh2u56JHsIwKIlEAjbqKat15ayMuvvE1jLJuSXj0xNZ18C6oOH2R31SF6jxrBrNmXkGdGyDaFZ36eQYoWzE4mMQxD1U9TIFxLnTZi2FKgFI+OmrBwLNB1kpZEmBEsKYgKiS4dL8eVKtoV4LhCFZPgjCpH/rsdxwWENzBWcZFShRumrsqadNSgGIHrOqz/aA0rli5h7+7dVFfXc8KQ4Zw9+yKycrLUejokmrTREThSp77BJS9bA2wcJ4EwdByh42AozZYr0V2JKVS81fZqSluK66DpBjjKM3CgajAk6Enl5A4z2J8bIB6PE4vFgjbeb+v8CQZfWPa1z9LbLspvF4OJCE+4BpUuKq42aA4VlQd5e9HbrFq/gcHDRzN69FgKC4qIIDBc1ISSqfaCT3uI969t2xiGwPUsBNTaYg3p7cXr4m13puskkgkMXU0c4ZlLg7Js0DQ1kyIE2I6aONU0Ah8ZmqarsWlq6ZNqnkZKldnCmyyQUr3Tf6Z6h+Ptv6zKjUobTzh3bXRdqAlbNIRmqEG6J8y7nuDvp69vet+071HxUNoyZYUhESSsOJGIiZQCw5sYMDR/iylHbS/pgutGcNHRDO+cUOdtJ0FUV+Ui2egQiUVxtSPaeD8WApUWaiJHLRHBdZVzMF1tIWcIB+F5G5ZSIHUTB11563YgYoCbaMSImCiHpqhtCB21fV2Ab6nwpdRMK/z2QdfTY+w4jpffAl1XeeG60vMZcZSvO8qpkM+Cr5kOKkVaYqu+z7NAcVx03cCVDo7wxqq6ESyZcrzlKLqmo6EH9QUJtqZGJREkwpU48QS6buKaOklUG4YLwrLUxLUAqQmk0HFdS1l+eZPk3kk14vG0zrqpeybhyjJPaqqNBGVJ5bfhmq5jSzWp5pe70Mw75PMkFKaPhpRe4+N4s3Z+R+iHoyqyFJ4zKDW4aLZHkKrCe5bW+HPzXqj3SwlHfrj/7GDo7V0mgxtV3FTzhbpO+loQ/zp1Lm0AFfKlJL2iHhGmFX6Z87RbmUivnB3ZgybllCqFAC5KO4raPAlSnuZNz3jlVID0dC3eq715ba/TVkKIeqyORMfx6oby9O1iCYFAw3A1hKN27rLVVsEYrvQ6SwdH4G3mpDTPfv1T8dG8OiJV/ZMyGMBmVkM/9qkpcORvVzlSQ8PBwAF06WCQ9J5tIIkcqWmuRDoNQALNgrffWMSL7y5hX00NpjDIjTvk5eRyytTJnDR1EtFYFqYEU2uxhTgSlpZFagIDvAHHkZYBIf0ygNIKCTWRokm8SQ0CjbabooRUue2nX0rbEXCkPDRFXe+4LvUN9Xy4fBkvv/QiruUyedIUJk2dTjQ3K+2pGq4yp/cmejRACAcp1FZCjjLcA28lny7VN0Dwh/oA/ImMlDTSUGVaS6L0kOnC9OeB32MKaXt9g8QWOkl0XG/AaSIxJGiOF48jzXILpTAt04NBJASrc4I0JSW3mqnOCkEzz01Jw8+EBGF5zzNUBIULWCl9kKZiHGw70Uyb1BL+hwoLhERieOnhf7CyaBFBf+x6JucgMRFeg+QZpqj91lHbk0mE8iyd0henkpZFzSH8yacjuSGF37YpjtRvr7YG44jMhwqvfgqlXTuSQ59j6f0cyPws/A8IMvLIFzV3bSpfqg//MpFq5t0MXjn0dNQAavu5YDyA1zpn/jpS7lUtVP+a2Oiu6y3J0ZCawNZUbyYAU4LmWoCF1CIgDO/OwG5JXZky/k1vybxdaFJC/ICWilhYtEI+T0Jh+mgEKZNU9VqqdcuqJz8idAi1mCtFmPYbGE+1k9JNSs/m5EjX6gkgqQ1I6n/9QYS6NLhEgjKdShtiEQjteGtgfcKG5MtPen76JSg11O90ms/t9BJxhCPXu4DrbQnjD17VGn6k7g1e/bIvQXpbGXm3a9Ivy74A6Bc8HYkRaF/8bbNcTzPj7zPrAo63pleXSphGuJ6wroFU6439OAgAaXgv8Qb4UgJq7XampJGZWulhrtItSQ2JgSWUQGrKJFJIlGGvEqalUPHDTSKdBMIBO+lQKySWZqAhiCUkru0QycnCzY4iNc+kLWgJjgFJyoTJkbbDJzM/A0FbZjy/WfnJv9pvP46IAEePnUox13WQ0sW2HeLxOEJqRCNRNCOCbnozIl4chdqBVs2WqECvDFlI8DbGMdXwTPpWFKS0qYDr53NKpgXRdUHzyqS/teFRv+HTo+LrpbGbVHkgBLYwSHiTGTouUWx0CThen9GsMH2k9HmJkpYHmXmWeiWZeeyTFpj5BNLTMIPmhEu8b00nRZj2659Q9V6Ct90WXv65iJSJgYCWo6FuAxCN3v7bMW9Q7uW1sAGBCN6jcsUVqizpnjDtesYqmpTKusaz0NC9MibJTK+MLGqCF7GMIZMUWpM2V/3yBIPgej+/U9NCaeBSn9hCNnxxaS6tvIl+9TXiyDc3e21mQMjng5f4wZg0JSxDmHa9XyoPfQuYzDKekq/ePb4wHcFSTscCYdrf2lORLkxHla+X4J0p+JXU78P8dq9po5RS65onLGYhnyehMH00gpSJq8oro0rIEFKZlYHSgrga4CI1xxvIqQZG4M9i+w/yGitvUKwaFiWAHGlEUjvalAYsLZf8BlCkd+xNGpimDWDIfxLpZeuz5rXaHslVZTylnCthOuINnCVonuZZGkjl2ixAlWpPIyX9KGlKoPZG6yJQ7QX/AU/gcr11vZo8ojmV/mVST4mX5Q1Ulbm5H1flETkr5flHaK4KBc/23iUkIDUsLx6m6+Boyv4j4mlWXU0pTIX0tPCevGebgjgSDY1IrY0ZjSF1qNckmgam661bPoq5WdManB6ivtn7K/M5XlsjUgZFeN+RclFGufH/PR4BVJl7+xmcSDjeOl9lwmeYIv35fj77JgxCTYZI1ISIlIayPPDLh/BKg/A178oKQpI5K+B9pZBHhO7jm644brzSDYDuJFQZwMDWDBKBiaONKRNoUoCMeo4Bg2Y/KGvpH+NNZnhpIEkXboM/WxKifY56MoOMwqY0t36uKvzopj1WqrxJS2dBUFfTLGOk75YrI2Lez8xSCJ68LAGt1svXHHA8wVlzPEFegvTqOSpOji8suxIh1TheItCkQHPBEWqyzpT+RJI3c3fM+D02Tb8n6If9Cif8XMxI5yOpGwgoGcX6uKL0b8EvFT6ZMczITGhemE5LB/+21Gf7z818fshnJT3p/RIs1cJi7xcIb5eGI8K06qv93sTLl7TsSRWmpd9be5PheJPyygrEFQTLDnW//0QqQdr3CdIiRyt/ISH///mkEvzfi9/GS5oZ+Pgdhd8QETRGnh4vrYs4ghIQmg6Q/f/62eH/ndJo+H2SwBtt+HFKPeHf7w/5msYg5D8JP8+bGax+CoKSJIWST6TrlWZfE+1dJfHMW/0YqPW3Ak9LI5QmWgpD/Yta76/MjzmigfTeI4XEES6uUOaYGmo0rYRF3dNWKm22iheekOULUH59U+U9qHsZxV99m39/SupJ9c0uutLAu64aDABIA0cayozTlcEAQAqUI0HbM2vVdSxp40gbDTBjUZBqMKKmG5RHc6FGGOkRS8E/6x+qPfGEY+kPfrw4eF985Ikppv/+Bzb79NTfPk0uPiqOo5wqSsCIRtBNA6ELDNMX5VVcjmjWFQJfEAuGXWjSy2Mvb1T8XaSv6fQGY0cKqJdpmkRqLlJIb6LFm1g5zm85XvwaEZj8uhqaqxbS6J4rLA1bmR5rzrFHKVWQzjh8jv6YzKuPRvq1/i8/t1ruQbwQf2IL1JXSD1PWK2pYLY95kibze9VbrPS2J4iMH7tUVMFwUHVE1Rp1jfBu8b8r42HHjUQL6uWRZRf+O+1AAFEtiKaWiAWHJzgI5Z3YT5rUov3Fw085f8zj/5uRhsf9AanPzRxPhfyr8VPZ70/Scy+95qkg4e0B7lv7+GON1OMIyqYrgUEjoJYlSU0E7Z8OGNLFkLaaTNUEUpjNL0trQmr8Pn3dDQn5vDiWUvxfS3rV9SpwEOB3Aqqjz6zqqltITd70p3nd7DFnwJG7U9/gxSnj6UdCmwsI+dKSkZct5nlwsunZlu/xfvmBwb9Nh9XqXk8LJT0zxhQLDDWs1HA80ThthJX6cm/spJ6lhKcjXb4fnxST87QIe3GSMs04Q5lkt0DquzMO4X+Gd92RYXLK0F2qPZUFtrpN0xCGoWbWpdp6SNeUIy11o3qgKQSGlEhHbbXXHH5UWuLIudSIN3ffkfAmwUFg5l3NjYBT39PkaRiGHniMdtwjrZLynI73K7Xc+Gb3qeEpZcMPkuqHEqRVWqU+UQo/j5Vm2xe4fXdqTWP6r8dv+T3Jn+DP4KcMhAOJ0oh+Mhk9QYqW+Njx7zjancdyTUvIlHrnh/mm+J60GnBkouvTovLfN99PjfKRuKcGpYVKf7Ip5d7mvvjITc3in/YvSf03/dbUkCAWweEX79Ri3vLVX0QyY5z5JUcj06LEr/aZzwz5vGmayiItD3wRO63XzsyezN8B0psAS4BUO0BYgJ1ioq06awu1mSFY/ktSnpdaIpq+RoW2fD6Voz8pJORfybHKcv+dBNPFzU25Ng3LrK6qCmfe1xypz8oQPpol800hIS3xWctK03LelPTOquUuTPpiaTP4taW5GtM0RJEaruLZ3N3Hgx/fpqsgafJVwRyCUDF3XV8A9zTDhoYjlddjDeXN+Gh81pz619N8LoLakkpK0ISOoWuBld7RPzH9eerSlspX6juPnFd3q31tjzJt8rnTXNx9/Y0qEMczVdrc9x/h6Geb45PS5ZPOH43mykPm75bCWsb/xuBbBYGevyktp0iLZ7wTLZ7/F+OXjNTUSv23+dRpPvSLi/8lGfEOEtmvA/+uVA85PjLz5V9b/iTpS0fS/2i25PyLaaF8hoR8DoRrpo9CkDLCUtomqcxVwV83iuosXE0N7TS3SeeRuu7kSKC6RgZXpmZBZgOnOHKFMqFU+J6MvfPC/ytlTZi/8K75x4Z8mQjKY/pPn7Qslt5/gsCmJe1IKClnXM8HgFfOhdoj9IgJJ55vAFcNdqVQ5dsTKJus4/VQJrwZH+Dhakc0mOLImwHN88wrQXO9Nbf++miv/klvCyGBtw4XhPS23Qn+45H68ZkJgfd4SeAQUAoNIYU3sy4xXaXCVn60jtQtIdV5KdQhpED37JIDkU/zdae+wN80nZqJUhrK7P5IGrqZDsmC80fWvqkrmysPbsq9zcUnMzbp59XWYlJNO6TkuTKhl2mTJiouXjlBpWFaSQjKmx+oTLfVlxC0qUdidETr6eVAmuCa+SX/StwUnZwhbYQrlT8AoXlrAlE2GZ7nXFcoETs9hf0vSU0F76yvYU1NjiN/pirDmyE1f2khJVIeIAmuyXxnKv6yCHWVV278Ooe3wFmqPFCP9E28fc/ZzXDkcwOC/PaLjkh4kzNGhgMyv+6bR1LQczAmhUS4yh5G1VMvDl7z4Wreek51l3d3C0mVET9Vm2kyzab6+NRJQt8BaKYpbTpp+Zrxpi8Wfr43h1/vmotzkDvpCekFNX2uSDlC/pWocpuOQPUZaWdSxqZkNieZNDnpBlZl0jXTljEQbMyQ6lRUmY4H7Yt3bXPxzAxNrYNNohHQ/JNCQj4PQmE6JCQkJCQkJCQkJCQkJOQ4OVY7tJCQkJCQkJCQkJCQkJCQEI9QmA4JCQkJCQkJCQkJCQkJOU5CYTokJCQkJCQkJCQkJCQk5DgJhemQkJCQkJCQkJCQkJCQkOMkFKZDQkJCQkJCQkJCQkJCQo6TUJgOCQkJCQkJCQkJCQkJCTlOQmE6JCQkJCQkJCQkJCQkJOQ4CYXpkJCQkJCQkJCQkJCQkJDjJBSmQ0JCQkJCQkJCQkJCQkKOk1CYDgkJCQkJCQkJCQkJCQk5TkJhOiQkJCQkJCQkJCQkJCTkOAmF6ZCQkJCQkJCQkJCQkJCQ4yQUpkNCQkJCQkJCQkJCQkJCjpNQmA4JCQkJCQkJCQkJCQkJOU5CYTokJCQkJCQkJCQkJCQk5DgJhemQkJCQkJCQkJCQkJCQkOMkFKZDQkJCQkJCQkJCQkJCQo6TUJgOCQkJCQkJCQkJCQkJCTlOQmE6JCQkJCQkJCQkJCQkJOQ4CYXpkJCQkJCQkJCQkJCQkJDjJBSmQ0JCQkJCQkJCQkJCQkKOk1CYDgkJCQkJCQkJCQkJCQk5TkJhOiQkJCQkJCQkJCQkJCTkOAmF6ZCQkJCQkJCQkJCQkJCQ4yQUpkNCQkJCQkJCQkJCQkJCjpNQmA4JCQkJCQkJCQkJCQkJOU5CYTokJCQkJCQkJCQkJCQk5DgJhemQkJCQkJCQkJCQkJCQkOMkFKZDQkJCQkJCQkJCQkJCQo6TUJgOCQkJCQkJCQkJCQkJCTlOQmE6JCQkJCQkJCQkJCQkJOQ4CYXpkJCQkJCQkJCQkJCQkJDjJBSmQ0JCQkJCQkJCQkJCQkKOk1CYDgkJCQkJCQkJCQkJCQk5TkJhOiQkJCQkJCQkJCQkJCTkOAmF6ZCQkJCQkJCQkJCQkJCQ4yQUpkNCQkJCQkJCQkJCQkJCjpNQmA4JCQkJCQkJCQkJCQkJOU5CYTokJCQkJCQkJCQkJCQk5DgJhemQkJCQkJCQkJCQkJCQkOPkP1KYbmhoIJlMZgaHhIR8RizLor6+PjM45EuK67rU1NQgpcw89f8dx3Gora39QsYtJCTk2KmtrcVxnMzgkJCQkP8I/uOE6T/+8Y/k5ubSrl07li9fnnn6v454PE5VVRVVVVUkEonM0yH/5TQ2Ngbl45MmoD744APatm1LXl4ed955Z+bpo2JZVvCehoaGzNMh/wb89K+urgbg8OHDDBw4kIKCAi666KIvlNB68OBBTjjhBPLz87n00kszTzchmUwG3xePxzNPHxNSSsrKyti8efOXasJIShl8e21tbebp/3hqamqC7/8ileGWqKurC+L73yBgXnfddeTn59OrVy/KysoyT39hWbx4MVdddRWjR4/m5Zdfzjx9VKqrq9Pa2i8j/23ltCX+G9Phs8gNtm0H9/43jfWE/Df2Po8//jgHDx4E4IILLqBDhw7gaZIfeOCB4LpLL72UoqIiAPbs2cPTTz8NQHFxMRdddFFwXXOMGDGCDz/8EIAf//jH/OpXv6K6uprFixcDUFJSwvDhwzPu+vdx8OBBHn/88bQwTdMoLCxk2rRptG3bNu3csfLuu+9SVVUFwLRp04hEIgD85je/4Uc/+hEA9913H1dffXXafSH/3dxwww388pe/BOCJJ57gwgsvzLwk4MYbb+QXv/gFAEOGDGHVqlWZl7TIm2++yZQpUwC45ppruPfeezMv+dxZs2ZNMJgbM2YMrVu3zrzkP5poNEoymaRz587s2rWLV155hTPOOCM4X19fT3Z2dto9LVFWVsaaNWsA6Nu3L71798685DPxwgsvMHPmzOB3IpEgEonwwQcfsH//fgAmTJhAXl4eAA8//DCXX345ALfccgv/+7//G9x7LDz11FP85Cc/obS0FICsrCzOP/987rrrLgoKCjIvPyr//Oc/sSwL0zQ57bTTMk//y2loaCAnJweAwYMHs3r16sxLPne2b9/OCy+8kBkMQG5uLldccUVm8L+Mfv36sWnTJvAGcrquZ17SIv8/2oTTTjuN1157DYBt27bRvXv3zEv+o8jJyQkG1fPmzeOyyy7LvKRZbNvm1VdfBSA/P5/x48dnXvK58fTTT3PhhRcGkzMPP/xwk0m9Q4cO8f777wPQtWtXBg0aFJwrKiqiqqqK4uLiYMz7ZeP0008P0n/Lli306tUr85L/Cs4880xeeuklADZu3Ejfvn0zL/mP4/bbb+eHP/whHEVuWL9+Pdu3bwfgpJNOol27dgC89957jB07FoDLL7+chx56KO2+/1jkv5HLLrtMAhKQf/vb34Lw119/PQgH5DPPPBOc++tf/xqEX3bZZUF4Szz44IMyOztbdu7cWa5Zs0ZKKeXKlSuDZ1x44YWZt/xbWbVqVdq3ph6macrbbrst85ZjYuTIkcFzKioqgvBf//rXQfh9992Xdk9IyE9/+tOgfDzxxBOZp9NYs2aN7NKli8zKypIPPPBA5umj8sYbbwTvueaaazJP/1u44oorgjgsWrQo8/R/PJFIRAKyc+fOUkopq6qq5OjRo6VpmvLrX/965uVH5cEHHwzS8he/+EXm6c9MRUWFHDlypDRNU1533XVB+FlnnRW89+OPPw7C582bF4TfcsstQfixkNn/pB7nn39+5uWfSFFRkQRk69atM099LtTX1wfxHTx4cObpfwsvvvhik7TzD7+8fV707ds3eJdt25mnj8pXv/rV4N5/V5swbdq04J3btm3LPP0fx09/+lNpmqY88cQT5b59+zJPt0htbW2QTkOHDs08/bly0kknBe8+5ZRT5OLFizMvkQsXLgyuyWw/CwsLJSCLi4vTwr9MTJ8+Pfi+LVu2ZJ7+r2HGjBlBOmzcuDHz9H8kv/nNb4Jvbklu+J//+Z/gmhdeeCEIX7JkSRB++eWXp93zn8y/1cx70qRJwd++9hjgnXfeCf7GM6/xWbFiRfC3r9myLItEIkEikcB1XfBmCR3H4dJLL+Xw4cNs2bKFE044Acdx0sxXHcchkUhg23YQ5ofv3r2b0tLS4zLNqaysZMuWLcE9zcWtJbKzs+nWrRslJSXg3XvjjTfyyiuvkEwmg+dkmpb435BIJILrUt/ln2uJyspKysrKmqRBKolEgh07drB9+3YaGxszTzf7nQcOHGDPnj2faGqX+m1SSmzbZtu2bZSVlTVJM9u2m6RDTU1NkzjV19ezbds2du7ceVRz5Xg8zrZt29i7dy9kpKWfHs2F1dXVNTH93LdvH6WlpYFZqX9PatpnhiUSCcrKyqipqQmuwVu7um/fvkDrdjxkvgPveX5Yc+U/0Uy58qmoqGg2LwYOHMjmzZupqKhoVrtQXV1NaWkpu3fvzjzVLPX19ezatesTzXKPtQzU1NRQWlpKWVlZk29LJpNpYX4ZlFI2m98+mWkrpWySrrZtc/jw4Wavt22b3bt3U1lZmfLUdBoaGigtLWXbtm1N0rwlGhoa2Lp1a1BejvYNLZGfn8/bb79NTU1Ns2b7+/btY9OmTU3ibts2lmWl/W6uPDWXb2TU/9Tv9cOTySSFhYUsWrSImpoafve73wXnm3tOS+1NTU0Nu3btOmp7AHDzzTcHf99xxx089dRT5OfnA/Dss8+yb9++lKtbxi8bfnz83/77m2szyairfro2l5+HDh2itLSUurq64N5jIR6PB2350epadXU1mzdvPub62xIFBQX06tUrOLp165Z5SdB2+nXY/9ZEM/2WZVns2rWLzZs3N3s+E9d12bNnD4cOHco8lcbRylNz6e+TGdfm2gS/Th84cCDt3k/Cj/uWLVsCS7NjIZlMsmvXLrZs2XLU8i6lZO/evWzZsoWKiorM082Wxbq6Onbt2nXUtD948CCbNm1qVgt78803U1NTw/Lly5tY3tXW1rJlyxbKysrS6rEfj8zfqe0OXh9SWlrKjh07WmwHMpFSUl5ezpYtW4J2O/VcIpFg7dq1ALRq1YrXXnuNMWPGpF3nHOO40udY+gEpJfv27WPLli2fWHZTOdr30EKexuPxJuNcf9x8LO2L67pBOWrum5pr+6urq5ttf1L7A7/u7d69u9lv+axtaEVFBbt3725SjhobGykrKzvmb9+xYwc7d+5sMb/JGA9l9o3NtRmWZTVbJ31c16WsrIxt27Zh23azz2guLB6Pf+K3+fWoufrbHJZlpX27ny8tjV/8sV7mmC0Vv53funXrUeP6hSVTuv482bFjRzBjcfLJJwfh48ePD8IBedJJJwXnUjWuu3fvljJDO7Fw4UJ5+umnS0AeOnRIfve73w3Ovfjii/Kpp55Ke7Z//OhHP5JSSum6rnz44Ydl9+7dg3OapslZs2bJsrKyIB6Z1NTUyCuvvFJqmibxtMrf+ta35OzZs4PnLFu2LPO2NM10qpb8D3/4QxA+a9YseeWVVwa/r7/++rRnXH/99cG5m266SbZu3Trt2wBZWFgoZYZm+mc/+1naLFvnzp3lI488kvbsxsZG+b//+7/BzCogc3Jy5He+8x1ZXV0dXHfNNdcE5++88045evTo4PcJJ5wg33jjjbTnpjJo0KDg2meeeUZ27tw5+D1o0KC0dPvZz34WnLvvvvvk17/+danrunz11Vel9DRY3/jGN2QsFguua926tbz11ltlIpEInuO6rrznnntkq1atgusmTpwob7/99uD3T3/6UymllHfffXcQ9pvf/EZ+//vfl5FIRD766KNSSim3bt0qJ02aFFxTVFQk7733XtmtWzcJSMMwgvdmZ2dLQJaUlMg//OEPQbpqmiYvuugieejQIblo0SJ5wgknBM8bOnToUdMvk+HDh0tA6rouGxoapJQyrdwXFBQEGpt77703CH/rrbfSNNO//vWv5amnnhr87tGjh3z66aeD97z66qvBuVRt4Z49e+ScOXOkruvB+b59+8rHHnssuCZVM33ZZZfJr33ta4GmtKCgQN50003ScZzg+lRuu+224N577rlHXnvttVLXdfniiy9KKaUsLy+Xl1xyiTQMI7iuc+fO8v7775eu60oppZw4cWJwLvUoKyuTDz30UPD7//7v/9LenZeXJwHZrl07KaWUdXV1wbVDhgyRL7/8suzataucOnWqlFLKtm3bSkDm5eXJefPmyfbt20tACiHkzJkz0zQz8XhcXnfddUEZAWTHjh3ln//85+CaTBzHkb/61a9kbm5ucM+ZZ54pb7rppuD3nXfemXmblM1opmtqaoJ7hg0bFlz33nvvBWUKr6xOnTpVbt++XUop5Y033hicSz0ef/zx4BlSSvn4448H51K11349AeRf/vIXKb3vys/Pl4CcMWOGrKysDK7x+4PUOpJ6xOPxNM309ddfL+fMmRO0zW3btpV//OMfg/en4rpukP6p2q8LL7wweN4HH3yQdk9LVFRUNIlbavzPPvvsIGzTpk3BfamacV/D9fDDDwdh3/ve9+SsWbOkEEICMhaLyRtvvFFaliXlUTTTjY2N8oYbbgjSFZD5+fnyJz/5SdBOSCnl/v375YUXXtik/r700kvBNZ9Eqmb6u9/9bubpgG3btskpU6YE1xYWFsp77rlH9uzZU+LVEx/HceRdd90lS0pKgutzc3PlVVddJauqqoLrUjXTzzzzTFr5mjJlSova3wkTJgTXpR67d+8+apvg17327dtL2YwG9fe//33QbuCV5z179gT3t6SZfvrpp2WfPn2Cc0IIefbZZ8vS0tLgmkxs25a/+93vgnYHrz299tprZW1tbdq1zz33XJM6NHXq1MCCT2aUxcsvv1xeeeWV0jRNidfP3XrrrUGbKqWU69ata5KOY8aMSXvmaaedFpzbunWrlFLKw4cPy4suuih4NiB79eoVWCWuXr067Zn+cd5550nptcNXX311Wr/ftWtX+dBDDwXvbY7nnntODhw4MO2Zp556qly9erWUXnpmvhNo0ian9qOpx69//WspMzTTDz30UJN+YP/+/WnPe/PNN+WwYcPSnjVp0iS5atWqtOsyWbBgQZPvmTJlStp9b775ZnDu6quvlnfccYfMz8+XN9xwg5ReXsyZMye4JisrS95www1p+ZaqmX7mmWfS6pz/Tanl9IYbbgjOP/jgg/Kqq66SmqbJN998M7jGJ/VZTz75pOzSpUvwe9q0aXLnzp3BtZ+2Df3mN7+ZJje0bdtW3n///TKZTMqbb75Z5uTkSEBGo1F56aWXprUvqWPmefPmyf79+we/u3fvLl955ZXgWiml3L17t5w9e3Zae9qtWzc5b968oO7s3bs3ODd+/Hj51FNPyQ4dOrRoCbV8+XJ54oknBvd06tRJPvvss8HvAQMGSOm92w8bN26c/N///d+gvYrFYvLrX/+6jMfjwXNt25a33HJL0AcKIeR5550nf/zjHwfPaU4znZoPqce6devSNNNz586V1113nYxGoxJvXPSTn/wkbaxn27b8wx/+INu1axfcF41G5TXXXCMPHz6c9t4vMv9WYVpKGQit2dnZ0rZt2djYGCS0n6G6rsu6ujqZTCaDc3379g2ekVopUjvaTyNM/+53v2tyzj86duyYZjLt47puWkOTevjx5TiF6RUrVgThp512Wpppert27YKBk2VZQaEzDEPu2bPnmIXpVGHDP4QQ8t1335XSG7ykdvSZx9ChQwMBNVWYTm00/CM7O1vu2LEj+L5UUoXp1PTyj1gsFjTMqcJ0al6/+uqrsr6+Pq1hyzzOPvvsoPG65557mpwn4/3NCdOp73z00UdldXW17NChQ5Pn4E2o0IIw3dIxevTotAGBf2RlZR2zadVPfvKT4L6lS5dKKaX8zne+k/Y8v3P18y07O1vG4/E0Ybq58mEYRjDQaE6YrqysTJsMyTwefvhhKTOE6ebeA8g//elPwTelkipMp+bHiy++KKurq2XXrl2bPMs/fvnLX0r5OQnTrVq1CvI8U5j2BZ/M45RTTgme/b3vfS8Iz0yTZ599NrgulZtvvrnJM8kox59FmD548GDaRFrqYLd///7Stu1jFqYPHjwYpIM/SCgrK0u75+KLL5ZSSrl58+Yg7I477vhMwnRmWvpH6vIhH9d1ZXV1tayurpZ1dXVB+Mknnxzcd7RJ1VQ+L2G6uTaSFKG1OWHadd20QWDmceaZZwZtY2pflprfuq6nmdIfjWMRpmtqamTHjh2bxAUIymaqMJ06oMs8Tj755GBAljoYby7vBwwY0OxEXaYQ6B+fRZhuKa/69OkTDGKbE6YfeOCBJvf4R+vWrWV5eXlaHHyuu+66Jtf7x6mnnhrkcUvCH17ar1y5UsqMsthcv443oSm9yZrUiYvUstO2bdtAmG9OmD733HObvU8IIVeuXPmJwvTVV18dhGXm+cKFC73USee+++5r8jz/ME1Tfvjhh/9yYdqf0Ms8Jk6cGDzrlVdeaXLeP6LRaIt18GhlxjRNuWLFCikzhOnU/vOGG26Qtm3LUaNGNbnff4b/tz8WSV3ek3m0atVK7t27V8oMYTr1nZ8kTDdX5gYNGhSU40/bhrbUH0+ePLlJGCBnzpwZPDu1HfXbqdRDCCGXLFkipTcx0dL4EJB/+MMfpMwQptu0aROUk+aE6dLS0mbHiKltTXPCdHNpCchvf/vbwbN/9KMfNTlPRt5/FmE6s276x+233x4869vf/naT8/4xePDgNKXYF5l/q5k3KabeDQ0NbNy4kWXLlpHwzHmuvfZa8Mwzli1bxscffxycmzx5cspTjlBeXk52djYdO3ZE05p+zsiRI/nVr34V/B41ahTz589n7ty5VFZWBo5qiouLefnll9mwYQNf/epXwXN+9utf/zq412fx4sX885//BEDXdW644QYeeeQRpk6dGsT3WKisrGTlypUsXbqUW2+9NQjv27cvQ4cODRbx79+/P3BY8vrrrwemnb4Tt/vvv5+ePXsG9z/wwAP89a9/DX77xGIx7r//fl544QVGjRoFKLOQv/3tb+A54fHf07p1a/7yl7/wt7/9jc6dOwOwatUq/vznP6c8UdG2bVsef/xxnn766cBJRUNDQxNHa81RUFDA3XffzQMPPBA4YonH49x2222Zl1JeXk4kEqGkpIRYLMYdd9zBhg0bAOjZsyfz5s3jrrvuCkw0FyxYwEsvvUQymUwz5Zw5cyaPPvoo3//+9z8xv8rLyzEMg/bt25Odnc3dd98dmIi3atWKP/7xjzz44IP06tWrielQJpMnT+ahhx4KHMIBvP/++8G33HfffYFJZGNjI/PmzUu5u2WmTZsW/L1y5UrwHNKl4i+d8M9PnDiRaDSadk1+fj7z5s1jwYIFnHjiieCZaz388MNp16Xy29/+NnDgM3LkSJ577rnAcQXA9773vSamXbZtc8stt/Dyyy8zd+7cIDzVCWFLlJeXY5pmUAZ+97vfsXPnTgAuu+wyNmzYwKuvvhqYE95yyy0cOHCAm266iYkTJwbPufnmm5k/fz6tWrUKwo6XiooKLMuidevWtGnTJu2clJJp06bx0ksvceedd2KaJnj5snHjRgBefPFFADp37kxNTQ3btm2jsLAQvF0JMqmqqkprjy655BIeffRRvva1r31iOT5WlixZEpiX3n777SQSCX7yk58AsGHDBhYuXMisWbP42te+Ftwze/Zs5s+fz8knnxyE4bWpw4YNg5RlPZnlctGiRZBSLskoz6ncfvvtwfPwyt78+fMxDCPtOiEEd955Jy+99FKaA7Dm2kQhBPn5+eTn5wdOvF555RXee+89AMaNG0enTp1Yu3Yt48aNa/HYv38/OTk5zJ8/P3Dilpuby/z58wOnfZ+WRCLBV7/6VR577DGuuuqqIPxPf/oT5eXladf6vPbaa4HTnFGjRrFixQo++OADRowYAV7Ze/3117EsK+jLpkyZQmNjY5AnjuNwzz33pDz12Jg/fz5jxowJDr+c33PPPezZswc8B0133nknDz74IH369Glimrxr1y5uv/12ACKRCHfddRePPfYYHTt2BM/Jzd///ve0e/C+9cUXX+Qvf/lLkA8ff/xx4CgqlZtuuokJEyYEv/02wXd++mlIJBIMHTqUefPm8dvf/jYoU5s3b26xHW1oaOAHP/gBeG3wc889x8aNG/nWt74Fnvntz3/+84y7YNOmTdx1113gOcy79957efjhhwNHQAsXLmTBggVUVVXx/e9/P7jve9/7HvPnz+fMM88Ez8z2uuuuC877OI7Dbbfdxssvv8ycOXOC8Pvvvx88B0Q7duwA4Dvf+Q7JZDKIz4EDB/jHP/4R3JOJXyZOPvlkGhoaWL58OUIIpJTcfffddO3aNc1xUbdu3Zg/fz7XX3992v39+vWjrq6ODRs2kJWVBS20ndXV1c2mwVlnnQWeiek3v/lNhBDMnz8/GEsWFxczf/58pk6dGtyLV1duuOGG4Pepp56a9jwf13WZMWMGL730Er///e8D53hvv/02paWluK7Ld77zHfDK+UMPPcSmTZuC8U8ikUjrT32qq6uDtAC4/vrrm/2eTNP38vJyNE2jbdu25Ofn88ILL7Bs2TLw3n/rrbfy8MMPM3bs2CbjmcbGxrRy+swzz7Bx40a+/e1vg9cf/uxnP0u7h4xxW+aYIxO/vUitv2vXrg3i+GnRNI2bbrqJhx56KK2fevPNN5sdlz3//PPNep6PRCLcfvvtzJs3j6FDh4LX1/tyxP/93/8F48Orr76aDRs28OKLLwbjjBtvvLGJWfzBgwdxXZfWrVs36wDxtttuC8ZQ3bt354EHHuDuu+8OnG+2hOM4fP3rX+fll19OK/vz5s0jkUhw8OBBfv/73wfhfh9zxRVXNMn7TL7//e+nOS/9wQ9+wPz58+nUqVPadbZtc9NNN/Hyyy+nLQ30x3qbNm0K6muvXr1YtGgRa9euDZ69Zs0aHnzwweC+LzSZ0vXnzSOPPBLMOsybN0/+/Oc/l3gzIfv27QtmaH7+85+nOR976qmngmekaqavuOKKtJmLTM20PIoDslQzxLlz58pXX31Vvvrqq/KZZ54Jwvv16xdc7/ODH/wgOO+bykjPbLNXr17BuU/STDd35OfnB2YtqfGbNWuWlFKmmeP4s2HyGB2Q3XzzzUF4qiZo5MiRUkopZ86cGYSlanHee++9IHzEiBFSZmimfe2jzJhlnTt3bhCeSqpm+u233w7Ct2zZEswgtmrVSsoMzfTYsWPTvm3AgAHBuY8++igIT9VSzZkzJ22mbPDgwYGWX2bM7DenmR44cGCaViBVY5Vq3rNt27ZgJrA5zXQ0Gk0zu0tdDnDXXXcF4W+99VYQftZZZwXhRyMejwfvueKKK2RNTU1Qj3zzyQsvvFAmk8lgZtWfIU3VTP/+978Pnrl8+fIgfNq0aVK2oJnu169fELZ58+bg/gULFsj58+fL+fPny6qqqjTN9IwZM4LrkslkYFmhaVqaCaFPqmZ69OjRaaY/qSZuzz33XFCHU810/aUMLTkgO5oW6miaaU3T0hxvyBTNNJBmKva1r30tCP/HP/4hpZRy3LhxEm9m+9JLL5Xz58+XBw4ckK7rNpsOTz/9dPCMKVOmpF2T+r2fRTOdWte7d+8ub7vtNrl06VJpWVZavI7VAVmq1cShQ4fkN7/5TUlKuQTkjh075A9/+EOJZw3kum6zmml5jA7Ivva1rwXhVVVVQXiXLl2C8JYoLS0N8lDTNPnOO+9ImeFUpblj165dwTNackD2abUqM2bMSMvr8847Lzj317/+tVnNdKrm7v/+7/+CepFq2XDttddK13WDpS9ZWVny29/+tnzhhRdkTU1Ni+WwOY7mgOzBBx+UMqW8k+GwZseOHYEGw9dM//GPfwyuTdV0r1+/PmhXfM1bqmYr1SQ0VbPtLyfIpCUHZEdrE46mmc7Ly5MHDx4Mrk0d75x55plSNqOZfvnll4PfM2fODPLq5ZdfDvrDkpKS4Jk+v/rVr4L7Uscha9asCdJo9erVaXFI7ZPj8Xja8rbt27enlcXU/ieRSATl2u/fduzYEcSvXbt28sYbb5RvvfWWjMfjaWWnOc20b6EQjUbltddeK5977jlZXV2ddl+m+XwqgwcPlnjatyuvvFI++eST8vDhwy2W2UcffTR41pw5c4LwRCIhe/ToEZzzLQV8zVzXrl1TnpLOsTggMwwjrd//yle+Etzz3HPPyY8++ij4PWbMmCDvX331VVlcXCzx6kTqmEVKKR977LHgvtmzZwfhiUQirW3dunVrmma6TZs2ae1m6nLC1P6/pqYmME3H00yn9v9nnnlmEM9XXnklGG/4/WSqZnr8+PGysrIyeHYmLdXfVK3pvffeK+VnaEOvuuqq4NqKioqg3GaOy1LH1/4yl1TNdOpY9+DBg7KgoCA4V1tbG6S9ruvyhRdeCNIodWz91FNPpWmmI5HIUZf1+eWADHP71PLXnGa6d+/eQV1wXTfNqd6WLVvSylCqpZLrumn9bHOaaXmMDsimTJkShFuWlVamLMtKa8O+853vBOmVakk6ffr04BlfZJqqcj9nUp2QrVy5MpgFHzVqFO3atQs0D++++27gfEwIkXZfKtdee22wDdTxkrrY//HHH2f69OlMnz6d8847LwhvzglIaljqNlvRaJTBgwcHv48HTdOYOXMmy5Yto0uXLgCcd955tG/fHjwt686dO3nuuecAGDZsWBOnGJ+EvxUZEMzw480e4c2A+6Ru85D6Tc05xvik5x4NX1OCNzPlawUqKyubzKpedtllaVqD1PiecMIJwd9DhgwJ/j506FBafg0ZMiRNkzVy5Mjg7+aYM2dOkAccJe+7d+/eRDuZSlFREbm5ucFvP4+BtNm81PBjST+8cudrXT/88EPef/99XNelqKiIb3zjG+BpANevXx9ogJrT/qXm3bHmY2odSt06Y+bMmcyePZvZs2c32VootbyYphlokVtyXpHKpZdemqZNTn3/OeecE9ThJ598Mghvrg7/K+jZs2eg3ckkNzc37bubS88//elPdOjQASkljzzyCHPmzKGkpIQ5c+Y0cVBHM2VPCBH8/qRyfKyMHj2a733vewgh2L59OzfeeCNjxoyhe/fuPP7442nvPBZSy9mqVasCzfT1119PLBYDz2rC10xPmzbtuN+RSWr5KigoCOrd0coxnqZtwoQJgdOoP//5z8F2PG3btuWqq65q8fA1kJ8HI0aMSEuTk046Kfg7U8vhk1ovfvzjHwf1IlXDWVVVhRCChx56iPz8fBobG/njH//IWWedRbt27bj++uubOM45FiZOnMif/vSn4Bg9ejQ0U359unbtGmhTfVLj36dPn+DvAQMGBO1Kc1tcfpa+6F9B9+7dKS4uDn4fb149//zzQV6dccYZQR/YXBvWUhqdeOKJQRoNHjy4xX49Go3Sv3//4Hdm356alpFIJOjf/LTs2rUrv/nNbzAMg/3793PbbbcxadIkOnXqxF133XXUevzggw9SWFhIIpHgz3/+M+eccw7t2rXjuuuu+0StGMBf/vIX2rZti+M4/PWvf+XCCy+kffv2XH755c3ubdtSGkQikaOmwWcltf2hmTKZmodLly4N8n769OlBXKSUTfqDT/s906ZNSzvfUp3My8tLu46M8vbiiy8G8Tz99NODvru5cvqVr3wlsLj6JD7NGORYSB1jFRUVBVrdo43Lmntn6ni1uLg4bVu7qqqqII0cx+Gss84K0uj5559Puy6VQYMGtWh5S8r1vmNHn0/q80tKSoI6KIRokp6ZeZ96bWq79VlIfadv4emTWf7vvPPOIL38cSvNpNcXlX+7MN2xY8dgT9L3338/MKfzhWV/8LJ06VKWL18OwNChQ1s0x/wsg5jUSnTZZZexYMGCJkdzplmp70z1fCqlPC5PqDNnzuTw4cNUVlaSTCZZsGAB/fr1C85HIpHAnDKRSDB37tzA3ONb3/rWUTur5ki9vrl7U78r1at0qilhc6Yln/Tco+Gb/eGZLvmdRk5OTpNnZeZ16u/UTiMzvql752bmT+bvTDLf2dKz6urqjlrpM7+lpTTLvO5Y8YWW9evXs3DhQvD24fWF7P379/PEE0+AN0jK7Cj5lPFITZ/UweLBgwfZt28f+/btazI4ynx25u+jkZkf/m9d13n22Web1N8FCxY0Mb3LJHV5SG1tbfC34zjNDsx8MuOSSuY3Zf7Gm6Tatm0bL774It/97nfp2bMnjuPwxBNPpHUmPi2VveZ+f1qEEPz2t79l27Zt/OlPf+Kcc84hGo2ye/duLrnkkrRdGI6FMWPGBOn05ptv8tFHH4G3164vZC1evDh4bqY55achM60zfzfHW2+9xbhx49izZw9CCG6//fY0U/ZevXpx//33t3i01D+l0lI5S/27OVLbSLw9vn1aKoOpfdtvf/vbJnViwYIFgenfWWedRVlZGY8//jhXX3017dq1o7GxkTvuuKPZZU6fxJAhQ7juuuuCw29rWuo36+vrmwiaqdemCg719fVBu5LpjZhP2YY1R0t5Zdv2UduEAwcOpLV3x5tX559/fpN8WrBgAU8//XTaPRwljerq6oI0qqmpabFf971A+2T27Znpl/kbz9xz165d3HfffcyZM4fc3FwOHTrEt7/97WCZQXNMmzaNsrIynnjiCb72ta9RUlJCPB7nz3/+M7fcckvm5U0YPXo0O3bs4LnnnuO6666ja9euWJbFI488kmb+7PNp0+Czkplmmb9T837ixIlN8t0//KVrPp/2ezLLYEt9iu+tO5XUe88777wmcVywYAHPPPNM2j00886j8Un1t6V6+UltaOaz/N8thbdEaltsWVbaTg85OTnBt8ZiMZ577rkm6bNgwYImioxPSh8/j2pra9PavE/q8zO/JfN3S3nf3O9PS+Y7M3+nlv/vf//7TdJqwYIF/Pa3v02754vKv12YJkVwXrZsWeAq3R/0+8J0XV1dMMDyt8T6tKRqrrdu3cqGDRs4ePAg48aNCyrnqlWrGDNmDKeffjpLlizhpptu4qabbmL16tUpT1Kkrrn42c9+xmuvvcauXbu4+eabj2ttRzQapVWrVhQWFgZraTK55pprAk3q0qVLwZsRS13DhKfh81m8eDGlpaVp54+FVO3/d77zHTZt2kRpaWmwhpwWNJqfhUsvvZT169ezZcsW5syZE8wG+uXgaKTG96qrrmLXrl2sXr06WIOEF9+hQ4cG66neeOMNfvOb31BWVsYLL7yQtp7+WPDXsQNcccUVfPTRR2zdupWLLrqoydrgfxVSSv7+97/zyCOP8Oabb2aehpR8sW07WGMyadIkBg8eHHSo9957L3gCS2aj9mlJzacf/vCHVFZW8tJLL9GhQwdKSkro2rXr57rNgd9uOI7Dnj17mDlzJr179+YXv/gFN910EzfffHPw/al1ZNmyZWzevBnLstJmSx988EE++ugjamtrufHGGz+VZu5YOHjwIGPGjGHixIk8/fTT/O53v2PTpk3BTHdzazzHjBkT5Nvjjz/O/fffHwhBzfky+DT8/ve/Z8yYMcydO5f+/fvz7LPPBmv3pZSBtVBqm7p27Vo2bdrURHtChtXE/fffj5SSTp060aNHj6DsPPXUU4Ew9Ultfep733vvPTZv3nxMFg1H47777mPatGlBHG644QbGjx/P8uXLWb58+XFvb+SXs9raWpYvX86uXbsA0rSvP/vZzzh8+HCLfjlS+dvf/sZDDz1EWVkZjzzyCPfdd19wbty4cWnX+qT6B1i7di2nn346Y8eO5cEHHwz6tpqaGpYtW8aYMWM47bTT2LJlC/fddx+bN28O7vX7sxUrVjB79mx++MMffuL6fNd1cRwn7SCj37zqqqtYvXo127Zt45JLLmkioKa2K3fffTfr1q1j9+7dTJs2jZKSEkpKSoK1u5+F1PK0fPnyoE1IzavMNuFo5W3fvn1cc8017Nixg+XLl6dNirXUp40ePTqIx+rVqxkxYgQzZsxg1apVQV411x6kPu+OO+5g48aN7Ny5k4kTJwZp9NhjjzFhwoSg3bj//vt56aWXKC8v55ZbbmHVqlUA9OjRI83vyrHw6KOPMmbMGM477zzy8vJ4/PHHeeWVV4LzzcUZ7xvHjBnD1KlTWb16NX/5y18oLS0N6o1/X2p7XV5ezkcffcTevXvZuXMnY8aMYfLkybz22mv88Y9/ZMuWLYHmvLkxWEtpcOuttwZWMd27d0/T/H0SqfHbuHEjGzduPOrWRs0xYMCAwJJh3bp19O3bl7POOovdu3cHef/yyy838QuR+j0PPPAAL774IuXl5dx2223BuLlbt26B4qolUsczP/jBD1i0aBE7d+7kf/7nf9i0aVPataNHjw7WPK9evZrhw4czY8YMVq9efdRy+q/k07ah/yquvfZali9fzo4dO7j66qsDYXrgwIEUFhYG7W48Hufw4cPMnDmTbt26ccstt3DTTTfx85///Ji19D5+Hrmuy9y5cyktLWXdunXNbk96PKS2xw899BDz5s2jrKyMefPmNetfJJPU8v/BBx8c89aFqaT2U6tXr2by5MlMmTKFBQsWBGXK98vwhSfT7vvfQepaYLw1A/5WHYcOHUo7R8baVJmxbm7Dhg1p55pbM51MJmWbNm3Snvm9731Pyoy1v4ZhpG05k5ub26xH5UQikbZWtKXjk9ZMp67fPhqp62sB+ZOf/CTzkiaeT3Nzc6XMWDOduvahoaEhCPfXS36SZ+R27doFWzqkplvqeo+1a9cG4S19X+qa6ZYOf61i6pppf2sqn+3bt6dtQZJ5DBo0KPCgmuo5uaWjuTXT/tpin23btjXrWTH1aG7NdOaaN3+NKCAXLFgQhG/bti0IP/3006XMWAeTGR8f13WbeMr1tyeZPn16WnjqllWpa6afeOKJIDx1Tc/kyZOlbGHN9ObNm4+aHjfeeKOUGd68r7nmmuA9MmPte3Pr3VLXTGdufbJt27ZgWwu8NYupHlRT10qlrpvzj+3bt8tkMnlUj+S0sGZ6yJAhKTFRpG6Nlcqtt94a3PfYY49J13XlKaecEoQNGjRIjh07Nviduq48lYsvvrhJ3DKPz7JmetGiRUFYLBaT06ZNS1vn5K8r3b59e5P3Zm6z53PHHXekXXfJJZdImVEm/l97dx0exdX2Afi38YQEQpCQ4BDc3TVAodhbKFa0wEtbHFqsSCjQQqFIC7QUKE5JizXFgjvBJUBIiGeRQIQQl919vj+6c76Z2d0IBSrvc1/XXMmcc2Z2fObMkYGqXaSlNtPqeQGg1NRURZvpBQsWiPQka/fu6empCJeY66FVPlhqb2tJ3759FdNLx0le7a5hob2fpUFq02quzXRmZqai93NHR0fFetavX58yMzNNethu2bKl4vosffVC/tWEtWvXinWV5NZmWjreoqKiyNHR0SRePsh785bf59VD2bJlRe/r8jaX0icAiYjWrFkjwuX9UsiZuyZERUVRVlYWlSlTxiROPphrM21pcHV1pefPnxOZaTNNqn5YrK2tFfc1e3t7xaemJAaDwWJvxDB+aiojI4NI1WeDuUHqk8Zc21OJfDsTEQUHB4tjytramjp16qTo3fvnn38mMtNmOj09XdFOuXnz5lS/fn0xPmHCBPGb8naeMLYpz8nJoQYNGoiwhg0bKnqkttRXyyeffKKYl3rYvXu3SJufNtMpKSkmx7PUf4T801hy8i8hSNtc3j+ARqNRfMpOo9HQsWPHFPOQjB071mQd5IN0P5e3mVbfe1NSUvI8ziFrqytvx2zuOJW+GiJvMy31EWKJ/LiS97q/evVqES5dc171GvrFF1+I+RKRaOusfi6Tr5/0XJbbVxGkQXo2DQkJUTwPFS5cWNGTuHRsqz+NlZuzZ8+a/J56MNdmul27dor5yHvQl/JN6nuVucFSm+kDBw6YpL19+7ZiHw0fPlwxjfy8zcjIIIPqy0h2dnaKc6p06dIUHx+vmMff1V9SMi1/GwHjGy+p5LBYsWKoXbu2iLOxsbH49j2/bG1tLfZ+t2LFCnz88cewsrKCTqcTpWgVKlTA4cOHzb6ptLOzw/79+02qyjZu3FjRw93rMm7cOPG/tbW12SqgU6ZMybMNRV4KFy6Mo0ePKt5WSpo0aYJjx46J9q2vy6xZsxSlpPb29li7dq3Ft/hyFSpUwNGjR032AwB069YNBw8eFG9SFyxYgA8++ECRxs3NTfSYml8VK1bE7t27Tap1Dh8+XNHe5nWSSgNtbW0xZMgQdTRgrD4jrzUgP4/U27JTp06K8T+jSpUqOHDggMm6azQajBs3DvPmzVOEv24VK1ZUnKcpKSkwGAzQaDQYOXIk1q5dK9K+//77iv4QJLa2ttixY4dJm/cJEyYoqiG9ThqNBr/++qvYN3fv3sXFixcB41tu+XLLrV692uQa4+npiVGjRinCXlWbNm1Ee8bMzEwcO3YMsbGxsLGxwbx588S1WHrbLn87bYm6NotUo6R58+aKEpf8VPEeOXLkaz1+34SFCxeaLeVr2bIlFixYoKiqWLhwYbM9Kct98MEHopd/Sbt27XItmbW3t8eBAwfEvTYjI0P0l9C2bVscPnwY9vb2cHFxwcGDB1GzZk3AWNp/9+5dwLg/5syZAxjb30nkbWkLonz58tizZ49Jj7VDhw5VtD2UbNmyBf3791cHo2bNmjhy5Eie1SPzw9I1wc7Ozuw1YeLEibn+bu3atdG7d29FmLu7O/bv328yL7mFCxdiypQpsLGxgV6vF9VWS5cuDT/Z1xXkNBoNdu3aZfJ7MDYhOXz4sOiXYOXKlZg4caJJCWexYsWwadMm9O3bVxGeH9WqVcOePXtQqlQp6PV6nDhxAlFRUdBoNPj4448xYMAA9SSAsefxAwcOiHW6fPmyqAHYtm1bRTXvlStXKmoOwfhMuH//ftFM5ObNm6I0umHDhooeiuWWL19ucRv89NNPeP/99xXheXF2dsZ3330nnl1f1bhx47Bo0SI4ODgo2ke7ublhx44dFq+L33zzDSZNmmR2fTZu3Ih+/fopws1xdnaGn5+fyfnXtm1bk+cGAPjiiy/w6aefmhynnp6e+O233xT91bwJr3oNfV2mTp2quOdZW1tjzpw54tmyatWqOHjwoLheJycng4hgZWWFjz/+2OKxmZu2bdvihx9+EOcyjOe+dG3+M9atW2dyfJUpUwbDhw9XhJnTtWtXDB06VB1cIBqNBjt27BDnXnZ2tqitXKdOHRw9etTkfvF3pSF1L09vyenTp0XbojJlyoibOYzdoUvtQJycnNC6dWsRB2OV7Li4OMBYBUJ+cwsODhbV6ho0aKC4gWVmZuL69etIT09H+fLlUa1aNREXFRWFgIAApKeno1y5cujQoYPJRUpNp9Ph6NGjiI2NRdmyZeHt7Y2goCDRZqVZs2YmnS8lJyeLqjDu7u756rDs0KFDoqOjvn37Ys+ePeokAP6ohhkSEgKtVgsrKyt4e3sjMjISoaGhgPEhROqIQa/X4+TJk4CxXY28MzMiwrVr1xAcHAwiQtWqVdG8eXNFpjcoKEi0q2jUqJE44FNSUkR1dEvrV7duXfHAlp6eDq1Wi4sXL4oqofKHtfDwcISHhwPGk0v+UCcxGAw4d+4cIiMjYWtri3r16ik65ZC7ceMGAgMD4eDgIDLc0gXBx8cH8+fPh1arFZ/cqlatGsqXL6+ayx/tu48ePYrU1FTUq1cPjRo1wvnz55GRkQGNRiMuUCdPnoRer4e9vb3iMywPHz4U1Vfq168vXlKkp6eLTpqkTwvNnTsXixYtQr9+/US7Z3Oio6NF1SxXV1fxcuXZs2e4c+cOYHxIlL/MCg0NRWRkJGDcL9KDS1ZWFs6ePQsYb+qNGzdGfHy8qBJXtmxZxUuMnJwcnDx5Ek+ePIGjoyO8vb0VL14SEhJE9TP1+X7x4kWkpaUBFqqgR0REiGYLtWvXNvswr9frcerUKWi1WtjZ2aFNmzZm9xuM7RhDQkJgMBjQpk0b8TCUmpqKkydPIj09HQ0bNkS1atXE/pO2m06nE1Xt1ecNjJ88yc7OhrW1taLKsnwd5McxEeHu3bu4ffs2cnJyULVqVbRq1crsZ/4kRIRLly4hJCQERYoUQbdu3RAfHy8+uWXpmD1+/DiICA4ODmjbtm2u65KWloaTJ0/i+fPnKFSokKg6qpaUlIRbt24hJyfH4r4hIpw4cQLSraZp06aiqpt0zkC1b3NycnD69GnA+LAkPThLIiIiEBERAYPBgI4dO+L58+e4d+8eYOwYTp6ZtXQOStRtktVcXV1zzUCZYzAYEBgYiOfPn5ts28jISFy9ehU2Njbw9vaGXq83OTe2b98uqvF98cUXmD59Ovz9/ZGYmIhKlSopqnnmdi2HsQregwcPYDAYULduXTRo0MDkHDMYDLh06RJCQ0Oh0WhQv3591KtXT6RLTk7G/v37xb1RLS4uTlQZVpOON0lycjL8/f2RkpKCevXqoXHjxorjQP3y5cGDB7h58yYyMjJEevnyX7hwQVQTl18/YmJixDlRvXp1kxd+cn/mmpCamipe1Ddo0AA3btxAQEAAHjx4AFdXV3Tt2lVx/Ny4cUO0cW7durWi7eLjx49x/vx5pKamonTp0vD29s5XB6t3797FnTt3kJmZiUaNGqF+/fom+xiy+aelpaFEiRLo3LmzIjOY23Vavp3l+ygrKwunT5/G48ePYWdnh9atWysyZ5bWl4hw+fJlBAcHQ6PRoE6dOmjYsKHJcut0Oty8eRNJSUkoUaKE4pNEN2/exL1796DX61GjRg2T5xRz8toGMHOtzE16ejquX7+OzMxMeHl5oVKlSjh16hR0Oh1sbW0V50tYWBgiIiIA4wsPebXlhIQEnDx5EsnJyWK55MeGJU+ePMG5c+csrk9iYqJ4Ia/ep5KsrCz4+/sjPj4eFStWRPv27XHr1i2z+w2y37R0nFp6rjAnP+dvjRo1xCdakc9r6JMnTyzeE6T9o74nmHsuu3nzpuiTp1WrVkhISMDp06eh0WjQsmVLswVuOp0OJ0+exOPHj8VvyDtBkz9fFS1aNF8dfj19+hSnT59GVlYWWrVqBS8vL9E/TqFChdCqVStkZmaKTp3V8719+7ZosiTPNxERLly4gNDQUBQpUgTvvvsunj17Jpr7yPMN5jx9+hT379+HwWBAixYtoNfrRX9Xnp6eisLRgIAA8QLG29tb0bw1KCgIN2/eRHZ2NqpWrYqWLVvm+hz0d/OXZaZZ/nXs2FE8WJ45c8bsA+E/iTozrb6RvQl9+vRBXFwc7OzssGfPHhQtWhREhJEjR4rvWW7YsEHxHde/i3fffRdHjhyBv7+/4ru5jLF/J3Vm+k3X8GCvTp2Zln8znTHG2L/fPyfb/z/q5s2bIiNdp06dPN+SMvPKlSuHCxcu4NSpU6hZsyaGDBmCdu3aiYy0i4uL2ep+fweDBg3C2rVr//bVWxljjDHGGPtfwpnpv7nly5eL/1/lc1jsD/PmzRNVzmNjY7Fz506cP38eMLZ7+fbbb03aQf9dDB06FGPHjrXY4ztjjDHGGGPs7bOeP3/+fHUg+3vIyMjA7t27UbVqVdSqVQs+Pj756vDn7+7+/fsoWbIkqlatioEDB+bZNv11cHR0xIgRI1CmTBkQEaytrVGmTBlROq3u1Ikxxv4qCQkJSEhIQNWqVdG+fXuLfUCwv55er8ft27dRtWpV1K9fH926dVMnYYwx9i/GbaYZY4wxxhhjjLEC4mrejDHGGGOMMcZYAXFmmjHGGGOMMcYYKyDOTDPGGGOMMcYYYwXEmWnGGGOMMcYYY6yAODPNGGOMMcYYY4wVEGemGWOMMcYYY4yxAuLMNGOMMcYYY4wxVkCcmWaMMcYYY4wxxgqIM9OMMcYYY4wxxlgBcWaaMcYYY4wxxhgrIM5Ms3+MlJQU6PV6dfC/WlpaGnJyctTBjP0lcnJykJaWpg5mjL0lGRkZyMrKUgcz9pdLTU2FTqdTBzP2r/c/nZlOSUlBUlISkpKSYDAY1NF/e3q9Hps3b0bv3r3RtGlTpKamqpNYpNPpxLqnp6ero/92xo8fj8KFC8PLywtarVYd/a+0ePFiODs7w9PTE4GBgero/3mZmZniGC7ow+U/7fj/O7h+/Trc3d3h7OyMVatWqaP/Fl6+fImkpCS8fPlSHfWvlJWVJY7jzMxMdfTfVkZGhlju7OxsdfRbUZBtZzAYRNqUlBR1NGB88SmleVMZim3btsHFxQXFihXDyZMn1dEsH+T3DXPHHhHlua/flpycHMTExCA6OrrA97i3bfr06XBxcUGFChUQHh4uwlNSUvDNN9+gc+fOeO+99xTT5EV+jv7d118tPT39jV8PXofw8HDMnDkTrVu3xsKFC9XRuZJf8/7XCrpM0P+wtm3bEgACQE+ePFFHvzY5OTl04MABOnDgAJ09e1Yd/co+/PBDsfwAKCkpSZ2E7t27J3772bNnIvzcuXNiug8//FAxzd+Rk5OTWN6tW7eqo/+VqlWrJtZ50aJFREQUHx8v9uft27fVk/xPWbJkidg+GzduVEcT5XL8nz9//h91/L9Nd+7cEdssLi5OhM+dO1dss7p164rwY8eO0YEDB+jw4cMi7HW6ffs2ffvtt7kO/v7+RETk6upKAKhYsWLq2fwrbdy4UeyTJUuWqKNfq2vXronj4uXLl+roApkzZ45Ybl9fX3X0W/HDDz+IZVi+fLk6WuH58+cibcuWLdXRREQ0bNgwkebSpUvq6Neic+fO4jfGjBmjjmb54OPjI7bhzp071dGUkpIi4hs0aKCOfi2uXLlCnp6eiuHnn38W8Tk5ObR06VLy9PQUy1KyZElatGgRZWVlKeb1JgQHB9Py5ctp6tSp9Pnnn9ORI0coMzNTnUyhRIkSYlm///57IuN6NGzYUIRXqlRJPRkREV28eFFcWzIyMkT4qlWrxLSrV69WTPN3N2rUKLHsr/O5/3UKCwsT90wANHLkSHUSMhgMYt+cPn1aEfef//xHTHvv3j1F3P+a/+mS6bclMzMTPXv2RM+ePTFp0iR19Ct5/Pgxtm7dCgCwsbFB3759YWtrq06GDRs2iN++fv26OvofY/LkybC1tUXdunXxzjvvqKP/lcaPHw8HBwdUqlQJ77//PgAgKChI7M/vvvtOPQlT+bcc/2/T2rVrxTa7e/euCO/fvz/KlSsHR0dHTJgwQYQPGzYMPXv2RL9+/UTY63T+/HlMmjQp12HHjh3qydhr9tVXX4njIjo6Wh3N3oKPPvoILi4ucHd3x/Dhw9XR7B8iOzsbT548UQzyGlJz5szB9OnT8eTJExH2/PlzzJkzB5999pkIe93i4+PRq1cvVK9eHZ9++ilWrFiBr776Ct26dUP58uVx+PBh9STCpEmTYGdnhxo1aqBHjx4AgGPHjuHmzZsAgCJFiqBXr16qqf4wc+ZMcW1JSkpSR7M35McffxTbu0qVKmjevLk6CQwGg9g3n3zyiTqaGb3VzLTBYEBWVhaysrJEO9CkpCSEhoaaPYGktFL1DoPBgLi4OHUyPHv2DKGhoXj+/Lk6SiE+Ph6hoaG5tvlT/6ZEp9OJcHPVGZ4/f46HDx8iISFBES6ts3o8r3aw2dnZiI6ORkREhEk1VL1ej8DAQFE1fcCAAdi5cyccHR0V6XJychTVS3JycpCVlWWxSntaWhpiYmKQkZGhjhKkakfh4eG5bkdY2N/JyckIDQ1FYmKiOjmys7MV256IxD718fFBcnIyrl69ipIlSyqmMxgMePz4MR4+fJhrVXciwtOnTxEaGor4+Hh1tAn1sZCdnY3w8HA8fvwYRKROLkjHWWxsrEk6c9skIyMDycnJinQwPji9ePECQUFBqFKlCvR6vaJaml6vR1ZWlkkVIp1Oh0ePHiEsLMxsNTXpOJCOBWm7PHv2zGR5X758Ca1Wm+fxKjEYDNBqtYiIiIBOpwMRid+Slt1cWGZmJrRaba7HVGpqKsLCwvK17/A3OP7l0tPTodVqxbksP9alba4+3iS5XXtycnIQGRmJ6OhoEJHZ40s6TrJkx0pKSgpiYmJMfis7O1vxG9JyEhFq1qyJhw8fIjExEcOHDxf7UVp+aTw7O1txjKmPT/kyqn/fnCJFisDLywteXl4oVaqUCHd1dRXh7u7uimkk0rnw4sULdZRARIiNjX0j1wVz+85clcXU1FSEh4cjJiYm13MtIyMD4eHhePbsmTpKkP+m/Fg3d97JpaWlITw8HFFRUSbrkdtxYYl0rddqtbmmkyQmJkKr1Vo8P2G8TkRFRSEqKsps1Wxz5xUsnAO50ev1iImJQWRkZK7LkxsiEvMwt70lKSkpCA8Ph1arzXPZevfujefPnyM6OhrNmjUDLOzvuLg4s8ejXHJyMsLCwszuH3PXkczMTJPmE9L+iIyMzPW6mZ6ejrCwMHHc5rY/pGtaaGhorudCeno6IiMjERUVZXI+yaWkpCAsLMzk2awgpOVXP2PKjzf1tVm+jur9X7hwYbRt2xYeHh6KcBifZ5cvXw4AsLa2xogRIzB69GhRWLJmzRpERkaqpvrzsrKy0LlzZxw4cEAdBRiXq0ePHjh79qw6CjBW83758iVu3bqF0qVLQ6fT4fbt2yJ+7ty5WLJkiWIaGH9Xfo5J28ySpKSkPM8V6djIq3q8/DhX76Pc7lPqY8rcdd6cV70+vXjxAqGhoXj8+HGBrkeJiYkIDQ3FkydPTM7x7Oxs3LlzR4z//PPPGDFihCKNtA3U45bOS+le+vTpU5Pfk5PyfQVdn781dVH1m3T27FmSqgQMGzaMPvnkE7KxsSEAZG1tTR9//DGlpaWJ9MWLFycA5OrqSleuXKHatWtTlSpVRPyZM2eoadOmYp4AqEWLFnT+/HmRhojo2bNn1KdPH5HG2dmZFixYQG3atBFhUjXvYsWKEQAqUaKEYh7yqkE7duwQ4VevXqWWLVuKOI1GQ61bt6Zr164RGatMypdPGvr06SOb+//LzMykBQsWiOUAQI6OjjR27FhKTEwkIqL9+/ebzA8AabVaxbx69OhhkgYAPXjwQFHNe/DgwTR27Fiyt7cnAFS4cGGaPXs26fV6MS+dTkcrVqygkiVLiuns7e3p448/FsulJl/39957jz777DOys7MjGLfT8OHDFVXTvby8RPo7d+5Qo0aNqHjx4kRE9M4774i48PBwMc3u3bupSpUqimXq06ePybY4efIkNWjQQKQDQB07dqQ7d+4o0smVLVtWzHPPnj1UqlQpMW2TJk1Mpr19+zZ16NBB8RsNGzakkydPijRHjhwRcePGjaNly5aRi4sLffHFF4p5kZlqQlu2bFHMWxoWLlxIZKyOs2HDBrHcAMjGxoaGDBlCT58+FfMdOnSoiF++fDnVrl1bjNerV48CAgLo2bNn1L9/f9JoNARjFbOvvvqKDAaDbAmVrly5QnXr1hXzKlu2LO3bt0+M165dm4iIYmJiRFi7du1ozpw5VKhQIYLsWJdXKcvJyaH58+eLqv4ajYb69u1L06dPF/MxV827Z8+eIl4+BAUFKap5Dx48mMaNGyeOfxcXl3wf/x999JHF45+IKC0tjSZNmiSOe3t7e/rkk0+ocePGYj7Pnz8nIqIiRYoQAPLw8FDMY/bs2SLtL7/8IsL37t1LZcqUEXH169enDRs2iPEPPviAiIgOHTokwkaPHk3Dhw8X191ixYrRkiVLxH719vYWaeVDVFQUHT16VIyPHTuW0tPTTdIBoDp16iiq0LZp00YsMxHRzz//LOK6deumiMvL3r17xbQzZsxQRyuqeW/dulWcsxqNhnr16qWo6k9EdOrUKUU1RADUoUMHunXrliKdXPny5QkA2dra0t69e8nDw0NM27hxY0Xzi6lTp4q4HTt20PDhw0mj0VBAQACRsfrwyJEjxfEBgNzd3WnZsmWUk5Mj5qPX62n58uVUuHBhxbZbuHChGJeqeU+ZMkWEHTlyRMwjPDxchHfp0kWEJyUl0SeffEIODg4ivly5crRy5UpxXNSrV0/EyYfU1FQxH0lcXBwNHDhQHGMAqGrVquTn5yfSyKt5L1myhDp16iTGK1asSHv27FHMMzU1laZPn04uLi4inYuLC02fPl2xDPLj9/HjxyL8t99+E+GfffYZUS7VvM+ePUvVq1cXcV5eXuTr6yvG81PN+8cff1QcV6VLl6Zff/1VkT4uLo4+/PBDsrW1Fek8PT1p7dq1imuP3BdffCHSbtu2jYiIJkyYIMJWrFhBrVq1EuM1atSgo0ePKuYRGxtLQ4YMUeyfKlWq0JYtW0Saixcvirjhw4fT2rVrydXVVWy7zMxM8vHxUVQRdXZ2pmnTpin2h16vp6VLlyr227vvvkvz588X49K2NxgMtHTpUsWzj6urK02fPl1xLqSkpNDUqVPFPQMAubm50cKFCxVVoLOzs+nzzz8Xx7WVlRUNHDhQcX7kp5r3N998o1j+7t27i2Nr8uTJInz06NGK+cjXcfLkyYo4ydixY0Ua6R4mP9Zmz54t0n799dcmaV8n+TNumTJlaO/evfT06VO6ceMGdenSRcRVrlxZsT8k8mfswMBARbMgaVA/VxORoiq7NDg6OhKpqnnPmTOHevfuLZ5JSpcuTZs3b1bMKyUlhaZMmaJoFujm5maxenxsbCxZW1sTACpSpAhlZ2eLuF9//VXM47333iMioqysLJo+fbriOXbw4ME0fvx4kXb37t1EZp7fiIhatGghwl68eCF+S35PnDdvnggPDw9XrDOM11L19VHt3r17imdmGK8F8ulat26tiAdA/fv3V8zn4cOHJmkgu2/Lq3lv2rSJ6tevL8YbNmxIly9fVszP0vpI2+yf7C/LTEsPrupBnsmUMtP29vZUtGhRgvGiT0R04MABk2mlQaPRiBtIdna24gFfPshvYq+Smb527ZrihiQfHBwcKCgoqECZaYPBQL169TJJKw01a9ak9PT0156ZtrQO8geMcePGmcRLQ4MGDRQXIYl83S3t7w4dOogHNnlmWnoIzi0zLW8vqB7Kly9PKSkpRKrMhHpwcHCgBw8eyJb6/0mZUo1GY3YbFS5cWBw3gYGBigdi9XD8+HEiVWZanjl/HZlp+YOWeqhUqZLYHvLMtPyiJg2urq4mLx6kwVK7pdDQULP7WB5mLjMt3cjUg/zhY9q0aSbxUJ2/5h4u8puZNrdvoTr+5TdL9WDp+DcYDBYzp/LhVTLThw8fNpkPVNvbXGba0vbetGkT0WvMTKekpCgyfvIXYF27dhXhBW1nnd/MtJWVlclyAaD27duLtPJzUT3Y29tTUFCQYt4SKTMN1TEoDS4uLuJhW56Zlme6AwICKCkpiSpUqGAyvTQMHTpU/Ka8fwD5IP/9V8lMZ2dnU6NGjUzmKw0LFiwgKmBmWn7eyZfPysqKAgMDiVSZaXPnn7W1tXihkZOTo3hhrR5atWolHu7/bGb6zp07ZpdHvh75yUxbuhccPHiQyPhyQP4SWD3MmTNHPXuifGSmzZ3fDg4OFBYWRkREycnJVLFiRZM00rBhwwYiVWZaftx+9tlnZDAYFBkn9dClSxdxT1+0aJFJPFTXKWnbb926VYRZWVkpzmHpONTpdGYzAdIgP2csPbPI92VemWlL+7Fq1aqUmZmpyGwULlyY0tPTiYzX/kqVKhGM99jQ0FD1zxBZyEzL9+eFCxdEWvnz1IgRI2Rz+XNiYmJo3Lhx4nkbxoKGcePG0bhx40in01F6ejrNnDmTpk2bRtOmTVOcW5I3nZk2d14CoFOnThEZjw35iyT1MHz4cNUv/0H+bCkv+BgyZIgIlzKh//3vf03mC9Xx/Loy048ePRL5HnOD/OWXXGBgoNlnMWlYs2YN0RvITJvbP25ubpSQkEBERI8fPyY3NzeTNNKgfjHyT/OXZaYBUK9evWjHjh00bdo0xUP99evXiWSZaWlwdXWlNm3aUHZ2tqL0bdSoUeTr66s4+CtVqkQ6nY527NghwhwdHWnx4sW0bds2RckQXjEzLS/ZHjZsGP3+++/UvXt3Eda9e3d68eKFIhNUvnx58vX1VVwkJb///rtI5+rqSmvXrqWtW7cqbn5fffUVabVamjVrlgjr0qUL+fr6Kkr1ydjJmPzBdcaMGeTr60svX75UZKYBkI+PDx0+fFiR0apRowYREQUFBYmwKlWq0Pnz5ykwMFAx7x9//FHx22SmVL5z5860fft2mjt3ruKmf+LECSJVZhrGm5PU0ZE6M52enq44MefPn0/79u1TlLL6+PiQXq8XDy12dna0detWCgkJUZTo9OzZU7Xkf5AfY2XKlKEff/yRfvzxR8XFX8r0yZdv6dKlFBISQhs2bBDrWatWLTIYDCYP8FZWVuTu7k4rV65U/7zJxTgiIkJxHLZv3558fX3p3r179OTJE/GQ4OnpScePH6egoCAaOHCgSC91Yibfx+7u7rR27Vr6/vvvyd3dXbFs48ePp61bt1Lv3r1FmHRMqMkfJCtVqkQ//fQTrVmzRlHKYC4zDWPG7PDhw/Tpp5+KMFdXV8rKyqJnz54pHn5GjhxJO3fuNOl8z1xmOrfjX56Zxisc/3fv3qVu3bqJcHPHv7xU3tHRkXx8fGjjxo0mGZOCZqYNBoPiDXCrVq1o27ZttHDhQsXDn7nMtEajocWLF9Phw4epb9++IrxFixZERHT69Gnq2LGjCJ87dy75+vpSamqqSWY6JyeHfH19xXLb2dmRr6+vyMBNmjRJpJ8/fz4RET158kQ8JFepUsViCZwl+c1Mw3j9PXToEK1YsUJxow8NDSW9Xk9Vq1YlGB+ut2zZQiEhIYqH/+7du6tnT6TKTJcuXVpcF0qXLi3CJ06cSKTKTMP40OXp6Uk3btxQ1KyoWbMm7dixg1auXKkoVTl79iylpKQoSsb69+9PO3bsMHnB8yqZaXlNhsqVK9OePXtoyZIlYnvZ29vTo0ePyN/fn5o0aSLSLl26lHx9fU1KqAwGg9i/bdq0IZ1ORwEBAWK6jz76iEiVmS5atCht2bKF/Pz8FOeGdG2VL6OHhwdt3LiRNmzYoLhe/fTTT0SvITP93nvvibAaNWrQ5s2badWqVYoXQ/nJTNvb29OiRYto27Ztigf8evXqkcFgULwcGTBgAAUFBdHx48fFvcXGxsbk5TjlIzPt7u5OO3fupH379ik6sJTOvwULFoiwhg0b0v79++nzzz8XYUWLFqXU1FRFZhrG60bJkiVp4cKFdPr0aRHeqFEjunbtGt24cYOaN28uwn///Xd6+fKlovR40KBBtGPHDkUGErJt369fPxH25MkTevHihbifFytWjAwGA+3atUukkWqWXbp0iWrWrCnCr169SjExMYrM+Mcff0w7duygwYMHK347r8w0jC9Lt27dSsuWLVOsz/r164lULwd37dpFREQXLlwQYe+++67qF/6fucz0Bx98IMLu378v0mq1WhFu6ZmFjNuxdevWZoft27erk9OdO3cU101ra2sqVqyYGNTnuCXqzHRgYKDi+eOjjz6i/fv3qycjPz8/xbG6bt06kSGVZ6adnJxo3bp1dPDgQcU5NWTIECIi2rlzpwjz9vYWx0aNGjVEuFRjVG7btm0iftKkSUTGF3hSRrZIkSKUkZGhuH7C+Hy0Y8cOGjBggCL8dWWmR48eLcI+/fRTCg4Opj179ohjsESJEuLljVy7du3EdN27dydfX1/67LPPRFihQoUoPj6eTpw4QXXq1BHh3333HV28eFExr+TkZMWyeXp6kq+vr1gfeWbay8uL9u7dS7t27VK8gJOOa/mLiIKszz/FX5aZrlevnuIklT8A+Pj4EKky0z/88IN423ny5EkR3q5dOxGu1+upWbNmIu7ixYuKk1n+wJuQkKDIjBU0Mx0XFyfGy5QpI0qmUlJSyNfXl3x9fWnfvn0iTEpbv359xXzl5Cel/CJ/69YtEV6rVi0iIvL39xdh48ePl81FSf5Ae+jQIREuz0zLq/zl5OQoHlJ0Oh19+eWXYnzKlCnk7+9P/v7+tHbtWhFu7oYhz0xXrlxZUXVX/lAgPXjKM9OLFy8W+5XMZKblmVL5Q290dLTY/qdPn1YsQ8uWLcWy+/v7i32t0WhIp9OJeUjkmWl51c0bN24o1ku+fytWrKj4DfnFKjQ01KRkOiQkRPGbcuYuxvL9Ju95cf369Ypw6fflN5gmTZoQqTLTvrKedHfv3i3C5SV4WVlZilJ0c6Ww0rmk0WhEKQgZe3qWpjOXma5WrZrYzwaDQVFKFh4eTtu3bxfjvXr1EvM1GAyKF1fmMtOUy/Evz0x37txZhBfk+P/+++9FuLnjX37tkd4Gk7F6p/yhrKCZ6UePHonxUqVKiRoHRETffPONiDOXme7bt69Im5GRQc7OzgTjDVYyZswYkV56609EJplpiXRsyOdBRBQSEiLSV6pUiQwGg2L5Vq1apUifH/nNTFtbWyu2i/zly/79++nu3btivEWLFopzVt4rrbkHSXlm+ubNmyJcfp2uWLEikSoz3blzZ0pOThbp5ZnvqKgoEb569WoR/tFHHylqIbRu3VrxAkKegXuVzLT8hZC8OvCJEyfEdVTKlMozmlIJsznS+ePg4EDjx48nPz8/evnyJRkMBnGuyzPT33zzjZj2+vXrIrxTp05ERNS+fXsRJr14JdU9sGPHjkR/MjNtMBjEyyg7Ozt69OiRmH7Pnj0ibX4y0/KXo8nJyYoXsDExMYoXE7/++qs49uQFAlJmTS6vzLRUskyq5yTpvJe/rLh7965Ie+DAAbG/ExISFJlpNzc3xf6Wv8RZuHChWHb5C+pRo0YpCgfat2+vuJ8PGjRIxEmZaXlJcteuXWnjxo0UFRUljhuDwUDvv/++SLN27Vrx2/LzbPbs2Yr74YABA8TvGgwGxcvCvDLTLi4uii8ayO9HUob24MGDiuUm1TVUfg6qmctMy7dNcHCwSPvkyRMR3qNHD9lclHKr7bJ48WJ1csrIyFCcS02aNKGHDx+KQb7fcqPOTBMRffXVVyJMqv1kjrxgSt4kTZ6ZnjlzpgiPjo4W4fXq1SMiUrwclh8b8uuhuRofycnJ5OjoSDBetw0GgyKvIj1nya/Lw4YNE9Pr9XrF8r+uzLSUmXd2dqYjR46I9ZE3JZTfn8lYmi3FlStXTvHMLb+2SPtC/nWAyMhI2Zz+n06nE2mqV6+uiJNnpv2NX9QgIkUBovRSVHpGLFSokGJ95Ndsec2Af5q32gGZXIMGDWBjYyPGmzRpIv5XdxZjZ2eHjz76CBqNBgAUHUnUqVNHhFtZWaFOnToiLj4+XtGxWcOGDcX/bm5u8PLyEuMFJe9Aq2LFiqJzCGdnZwwYMAADBgwo8Df11OslqVu3rvg/Px3kFJSnp6f438bGRtGZj16vV6zrypUr0bVrV3Tt2hXjxo0T4eY6kJOrU6cO7O3txXhu+xsAJk6cKParOfJlqlq1qvi/XLlyYvu3b99eke7SpUti2bt27Sq2NxGZ7QBMYmNjo9gHDRo0gJXVH6fOixcvFMsfGRmp+A15b8jqbfTuu+8qlv3PkK/npk2bxO8PHjxYhKt/HwDKli0r/i9XrpzZcDs7O0VHKeoOMsj4XU4AKFq0KCpXrizimjZtKktpysPDQ+xnjUaD0qVLizid8VvQkkaNGon/NRqN4hj6M+S/WZDjf+zYsSLc3LaVn6tt27YV/xcvXhw1atQQ4wUl/61q1arB2dlZjOe1veXr6uDggOLFiwNm9unrULVqVdHzfkREBC5cuIBt27YBAAoVKmTS2cnrVKRIEcV2kV/jdDqdYp8GBAQozll5J5fqDpfkrK2tUb9+fTFer149cU8zd00bOXIkXFxcxLh0/SlcuDDKly8vwuvVqyf+V9/D5Nce5GN/58XSddTb21tcR+XbLj82b96MIkWKIDMzE2vWrEHv3r3h7u6OiRMnmj3O5Mek+vxHLvdF9Xb6szIyMkQnRB4eHoplKeh2bty4sfjfxcVFcb6/ePFCsd379+8vjj15r/Tmril5yWtbyn+3SpUq4v8ePXqI/e3m5ibCAaBjx46K7S6fx9y5c8Wyz507V4QnGb89K2nYsKHifm5ue86dO1ecT/7+/hg9ejQqVKiAjh07IiIiAhqNRvHb48aNE7+9YsUKEa7+7T9z36hYsaK4RsLCc0vXrl1RqVIlwNh7dWRkJH755RfAuI27dOkipskP+faXr6/8f/U+khswYABGjx5tdpCfM5IHDx6ga9euYvzatWuoWrWqGHLrUOttkl+H8jq25cfGypUrRbi5c8rFxUX0Mh4ZGYmgoCD8/vvvIl56hrJ0TFlZWSnO99eBiMTxlZqaim7duon1OX36tEinXh/5tbJatWqKZ+7Xfb1Uy+3aI1+ftLQ0xfqcPHlSpFWvzz/JX5aZfvz4sWJcq9WK/wsVKqSIc3JyUlyI5fHqXk2fPn0q/ndxcYGTk5MYl/+mTqdDbGysGJdIDyqpqamK3ujUvSLLl0F+ABsMBsTGxoqhICytl3w+8oex10WdaVWPyx9Kp02bBj8/P5Nh6dKlimnU1D2L5ra/YdznubG0/bOyssS2T0hIUKTr0KGDyXJLQ27bVafTKR6wnz59KnogLFSokGL7VK9e3WTe0qDOOOe1jgUhX4YxY8aY/Lafnx9+/PFHxTRQ7WtL/5sbl9NoNGJdkpOTFS8mHj16JEtpSj1f9bh8G6nnpR5/VerfVI+/6vEvP/aioqLE/zk5OWaX/VWuPU+ePFH0hmluvnLqdVOPv27jx48X/8+YMQOBgYEAgOHDh6NIkSKylK+Xer3U4/Jt2K5dO5P9KQ25LaNer1dcp589eyYe7Mxd09Rh0nhqaqqiZ/j83sNgYX/LM9vyY0d9HCGX62hiYqK4jprrNTs33bp1g1arxS+//IIxY8agVKlSImP95ZdfqpPnet1BLvdF+XaSztGCrLuag4OD+P2EhATFVzTMbefcyPeTwfi1CYn6nrFnzx6T487Pzw99+/YVafKrINtSvr/j4+PF/lb3aqw+buXLvnjxYpPl9vPzw6xZswp87XZ3d8eNGzdw7tw5zJkzR2RYzpw5g969e4OIFL/9ww8/mPyun58fPv744wL/tiXPnz9X9Fxs7rnF2tpavFg1GAwYPHiweAk3fvx4xTGZHy1atBD/y3vOPnPmjPi/ZcuW4n+1JUuWYMOGDWaHbt26qZOjQoUK8PX1Vbxc+fDDD+Hr6wtfX19YWVnh+fPn6Nq1Kzp37ozOnTsrtsPbktexLT821q1bZ3JcSMeGOfJCByktjBn4du3aAa/pWSS/1yeNRiOOr+LFi5ushzSojwP1tVL+HKG+r7xuue0f+foUK1bMZD0src8/ScHO8tfo+PHjWLZsGbRaLQ4ePKi4ybZp00aRVq1Zs2biM1B79+7Fzz//jKdPn+KHH37AoUOHAONnUxo3boxWrVqJ6SZPnoyAgABER0dj7NixiImJEXESqVQqIyMDCxYsQGpqKm7evClKVCQeHh6iZDsoKAjr16/Hy5cvsWDBAnh4eMDDwwPdu3cHAMX3n58+fYrAwEDF9wMlHTp0EP9/+umnCAoKQkREBIYNGybCC/qWU/7b165dw8OHD026+c9L+/btxf+3b9+Gt7c3vL298dtvv2HevHmYN2+e2W0pd+3aNZHuxIkTmD17toiTl9rlV/PmzcW6/frrrzh79iwSEhIwZMgQsf0///xz1K5dG8WKFQMA3Lt3D9WrV0fPnj2h1WrFsh85ckRRS8KcgQMHIiQkBA8ePMDAgQNFeJs2beDq6ipKriMjI+Hm5oZevXqBiMRvbNiwAYULF5bN8dXI92dISAiCg4ORkJAgLvgw7qM2bdrgnXfewYkTJ8QyBAUFiTSvm3Se6XQ6DBo0CGFhYbh7967i2H0V8ovrpk2bsG3bNmi1WmzZsgWbN29WpDXnrzz+5dNNmTIFFy5cQGRkJD7++GOzL9qka09KSgq+/PJLpKam4vr16ybfUC5btizKlCkDAAgNDcWUKVMQHR2Nc+fOvZZvkMq32dWrV/Hw4UOTB2w5Ozs7wHjNlK6vkm7duqFixYqAsQRYIs9k6/V6+Pj4oF+/fjh37pwIf5Nq1aolSpzu37+PatWqoWfPnnj06JHYp4cPH87zujBo0CAEBwcjODgYAwYMEOF53cMgu94bDAaMHj0ajx49wrVr1zB9+nSRpkuXLmjWrBmsra0BAPv27cPatWuh1WqxZ88erFq1SqSVyGtWLF26FI8ePUJiYiJ8fHwU6aC69s6ePRtxcXG4dOkSvLy8xHU0PDwckO1nGPflw4cPTUqtbty4gRYtWqBLly64d+8efvzxR4SFhYnlv3z5siJ9fnTs2FH8P3bsWISHhyM4OBhjxowR4dJ9Uf7ptHnz5iEpKQnR0dH45ptvRLglVlZWIiOTmpqK4cOHIyIiArdu3cLo0aPVyXP12Wef4fz584iOjsaUKVMQHBwMAChTpgzKly+vuDZERkaiZ8+eqFmzJpYsWSKOv9f5slUi398zZ85EYmIijh49itKlS8PDwwNly5bNs3RIvuyBgYHo2rUr2rRpg23btollT0xMRPPmzUXmYffu3Vi3bp14ybJ69WrZHP/QtWtXtGrVCosWLcKsWbNw/fp18b3i+/fvIz09XfHbDx48QPfu3dGkSROsXbtW/HZOTo7iuW/dunXYtWsXtFot1q9fj59//lnE5SU2NhZjxoxBVFQUrl69qvjOrvwc//DDD8UzqXSdc3Z2fqXaN+3atROZkS+++AIzZ87EnDlzMGPGDJFGOieSkpKwfft2bN++XfEZqoIoWrQoBgwYgJkzZ4owX19fhISEwM3NDdu3b0erVq1w9OhRnDhxAhkZGeL+87rI7zkXLlxAaGioIj4/1MdGjx49zB4b5rzzzjuitP/7779HWFgYYLy+S9cu+TG1evVq7N69G1qtFt9//z12794t4nIjvzbPmTMHL1++REREhNnruLQ+8fHx0Ol06NWrF0qWLAkfHx/MmzcPS5YsMamhUKFCBXG/DQwMxJIlS/D06VP4+fnh+++/B4wZW29vb8V0ubGyshLn8fPnz3H79m2Tl7r5Ia1PQkICcnJyTNZn8eLF4ln9H0ld7/tNUndAZm5o0KCBaL8q/zSWmrwjDXPDt99+S0REL168UHzOxtIgtZleunSpSZx6kDogk7dHNTfI26CpP+Elb/8pSUtLy7WHTzc3N9EOTN7GJbc2035+fibzCQwMVLS9/fDDDxXTyNtVZWVlkcFgULStsLOzE21MYGwzLvXYJ6fugMzc4OXlJdp1yNtMq6nbTJOqbaB6cHJyoujoaCJVuxuNRqPoTEaj0Sja4cnJ20ybG6ysrESPs/J2UzB2WiEfl9qyydtM57bfyEKbm/T0dNHOVRqkPgbkHZfY2toq2uUWLVqUYmJiiFRtpi9duiR+7+rVqyJc3iaIiBSfeTHXSYS8UxpLg7k20x06dFDMR97ZmdSeXN5W09Jgqc20peNf3mb6TR3/KSkpVK5cOZPfVw9Sm2l5+zJLg9Sb93fffWcSpx7MtZmWOliRSJ0b2tvbizBf2adZpCE0NNRim2l1pz7qTuqWLVumiJfawkp++eUXESf13m9JfttMFytWTBEub6MrtWmTb0Nz14Vjx44p5iGRt5k2N2g0GtGWWt6W8/fff1fMJygoSPE5KvXQrFkz0WZb3hmNpUFqMx0VFWWxF2JpkNpMx8fH53p/HDx4sFjeNWvWmMTLP21Ixl6q5dunRYsWivNpypQpRKr9Ie+3ITY2VoRL/TbExcUp+mxQD+XKlRPtD+V9NFgaLLWZpjy+EiIN+WkzbWn47rvviIxtG+X3CBcXF0WnnNK5q5ZXm2l5+1x5nwW9e/cmIqKIiAjFfUE9SNtG/WksuezsbEUHiI6OjiZfbZDuESNGjDD5DfUgbfuPP/5YhFWoUIE6deoktkm5cuXIYDBQSkqK4vgqVKiQooPKtm3biudH9aeBzA15tZm2NLi6uiraUpOZc3TcuHGKeHPMtZlWh6sHeU/e8nbp0jPCqzIYDIp2x+aGwoULW+zn5c+0mZb3SQTj8wupnt3kXxLR6/UiXOpHKDk5Oddjo127dmb7xpHIjz9pkPeJYTAYTD59am7Irc20vO8GS4PUZvr69euKa4L8/iRPpya/n5ob5Pfu/LSZJiJq27atYh5SPzPyNtP37t0T6U+cOCHCpefcGzduKNZH/Yw8d+5cMf0/0V9WMt2jRw9FO1QY2wb/+uuv4k1QbmbNmgUfHx84ODgowp2dnbFs2TJMmDABMJZQ//bbbyZv0qQ3/moTJ07Ef/7zH0VYpUqVFKWRkkGDBuHbb79VVC+BsarFhg0bFKXIK1asULw1N8fJyQlHjhxRvGGTNGjQAMePHy9w+7V3331XUYXlVWg0GuzcuVNUO8vOzkZGRgZg3GdHjx41eUOm5u3tbbK9q1ativ379yvadRTEV199hQkTJpgcL56enjh06JBoAzxhwgQsXLgQDg4OivbRbm5u2LFjR55v6ezs7DB16lRFWKFChbB582bRxqt79+746aef4OrqCsjaWjo6OmLZsmUFLtmwxNHREWvWrDFbavHDDz9gxIgR0Gg0yMnJEVVHq1SpAn9/f0U76Netffv2WLt2rWJfWllZYc6cOYp0r+LHH3802Udly5bF8OHDFWHm/JXHv7OzMw4dOoTatWsrwtu1a2cSBmPpdc+ePRVhXl5eihJPydixYzFlyhRFdSonJ6fXUjL93nvvoV+/fupgi3x8fFCtWjV1sDBy5EjFdVq6Nkvk7fELen37M8aNG4cvv/zS7HVh+/bt6Ny5s3oSBRsbG5Pt7eTkhM2bN6NBgwaKcHNq1KiBw4cPK/oYkPTp0wf79+8XJePLly83uS+VLFlSUTorKV++PNatW6c4F+3s7EyWFcYqd/7+/oo2sZL3338fP/zwgxgfPnx4njWjChUqhAMHDojjOyAgAHfu3AGMJfHz589XTZG34sWL49ixY2bbJbZp0wZHjx4V193OnTtj5syZivOiaNGiihLF3PTo0QNLly5VlJRZW1tj1qxZinR5mThxouKY12g0mDhxoliO0qVL48iRI+K8SUlJEaX8Q4YMwcaNG8W0r1PFihVx6NAh0cZXotFoMGbMGLPV8NVsbW3h5+eHTp06AcYaKVJtn5YtW+Lw4cOilHblypUm1zQPDw+z98OVK1eKa3VUVBROnDgBvV4PT09P/Pzzz9BoNHB2dsaRI0fEs0RaWpoobezatSv2798vnge2bNliUuutYsWKBbof1KpVS5SOS0qVKoX9+/cr2lJDVdsGxuvLq1q+fDlmzJihqM1WqFAhTJ48GWvWrBFh169fB4z3ifzUhsmNRqOBr68vfHx8ULRoUZO4jh074urVqybN1V6HCRMm/Okqvi4uLjh8+LBoj68+Nvbt22fyrCinPi5q1Kih6BNDo9Fg+/btJstZpUoVs/kDc3r16oVJkyYpwooXL272Ot6oUSPs27dP3B+l+5ONjQ2mTZtmtqYRjH0wrF+/XlwTJba2tvj000+xfPlyRXh+LFu2TNEO+lU0bNgQ+/btE/d46RlZuo++yr3h70RD8kr1b9i5c+dEddRRo0Zh3bp1OH78OJ48eQJPT0906dJFcbCfPn0aOTk5sLGxUVT1kouPj8epU6eQkpKCokWLolOnTmar02ZmZuLIkSNITExElSpV0KZNG1y/fl00im/Xrp3i4eP69et4+PAh3Nzc0LFjR2i1WlHdrU6dOooHwKSkJJw4cQJJSUkoWbIkOnXqZDazo9PpcPPmTSQlJaFEiRK5PnDduHEDQUFB0Ov18PLyQqtWrRQPCPHx8bh58yZgzFjk1aHRkydPEBQUBIPBgBYtWkCn0+HatWuA8QFW/nAfEBAg2nB06tRJ0c7j/v37uHXrFrKzs1G1alW0bNnSYpugwMBA0elB37598euvv+LUqVOIjo6Gu7s73nnnHZPqPVI7NfVD240bN0Qbr9atWyu2b0xMDC5evIi0tDR4eXmhdevWZqtnSsdKcnJyrvtJUq5cOWi1Wtjb2yMzMxP379/H1atX4eDggE6dOqFEiRLqSZCamorjx48jISEBRYoUQadOnRQ3poLst/v374vqNE2aNFHMJz09HTdu3EBGRgYqV66seCAPCwvD1atXkZGRgYoVK6Jdu3aK8+ru3bui/UzTpk0VLwCuXLkCGB945A/Y8mPC29vb4k3pyZMnOH36NLKzs9G6dWtUrlwZJ06cAIyZy5YtWyIzM1NU53Vzc1M8JN+6dUu0T2/VqpVoZ0NEOH/+PMLCwuDq6opu3bohNjZWVAerWbOmyQszub/i+Jfo9XqcPHkSsbGxqFChAtq0aYNWrVqJ6oDPnz8XxxIR4fr16wgNDUWxYsXQsWNHREVFITIyEjBm3uUv5R48eICrV6/CysoKXbp0gYODg9iHpUqVQt26dREXF4dbt24BxmO6evXqYvrz588jIyMDVlZW4uFY8ujRIwQHB8NgMKB169ZIT0+3eOwSEe7evYvY2FgUKlRIUSXu0aNHqFixInQ6HSpUqKCo9iu5dOkSHj58iB49epg8pMo9e/ZMZM4qVKhg8mB36tQp6HQ62NraKprNhIWFISIiAjB2xCKvbpeQkICTJ08iOTkZJUqUQOfOnXO9LlSoUAHR0dGwtbVFdnZ2rteFkJAQUe29fv36KFmypGxOf9Dr9Th9+jRiYmJgb2+Phg0bWrwuXL58GUFBQXB2dsa7776LpKQk0XyjSpUqooofjNvq3LlzMBgMaNu2LYoUKYILFy4Axky0vBMdg8GAc+fOITIyEtbW1mjXrp2iUzS5yMhIhIeHw2AwoEOHDopruMRgMODy5csICQmBRqNB3bp10aBBA3EPk+8P+TGdlZUl2okWLVpU0eETESEgIAChoaHQaDSoWbMmGjVqpLgvSkJDQ3Hjxg3Y29vD29sbmZmZohps+fLlUa1aNWi1Wjx48AAwvtitUKGCmD4mJgbnz59HTk4O2rZtizJlyog2q66urmY70FJfVzMzM3H8+HEYDAY0bdrU7D7V6/U4c+aMOJ5atWplktGVCw8PF88htWvXhqenJ4KDg0Uzk4YNG4rzJy0tDRcvXgQAk+cNnU6HU6dO4dGjR2Ibya8rSUlJuHr1KmDm+ih348YN3L9/H3q9HnXq1DG7P4gIly9fxoMHD1C4cGF069YNiYmJFrd9VFQULl68iIyMDJQuXRodO3Y0eeEuPxZgzHiYW0YiwpkzZ0Tzq27duuHRo0cWn+Ug2zYwZtCaN2+OixcvIiQkBK6urujatatJO3IYr6VS5r1z5844duyYOomJBw8eiPbH5u5hKSkpCAsLAxGhcuXKJn04dO/eHYcPH8bixYsV1bT/LJ1Oh4CAADx+/BgODg5o2bKl2WuX3O3bt/H8+XPA2O7bxcUFERERosp0rVq18syQPXz4UFwvO3fujOjoaISEhADG/mikAhIiwvHjxwHZc4VEOjYePnwIjUZj8dhQMxgM4lkFxhdetWrVUqSBcf6nTp1CVFQUSpYsiXfeeQfR0dHiHi3dX3J7fgsODsbt27fh6OgIb29vpKSkiM5qK1WqpOgcOSsrCydOnEBsbCycnJzQoUOHPAvmYDz/pWdRZ2dntGvXzmQ6+XN1mzZtxEswc/R6PW7duoXExERx/5Dv85YtW4qCxYSEBNy4cQMw86wgXx9HR0d07NjRZLn+if7SzPSbevvK/h7Umek9e/aok/ytqTPTjL0uLVu2NJuZ/jeaPn06li1bBhjfcJsrIf0nUWemGWPsP//5j+i46vfffzcpkX/diAilSpVCQkICtFqtyUsBxtjbk3uRCmOMMfaKkpOTRS/yjo6OGDlypDoJY4z9o4WEhIjPKVWsWBHvvvuuOslrl5OTg7lz52LHjh2ckWbsL8aZacYYY2/ETz/9JNp6DRkyxGzbcsYY+ydbuXIlpEqe48aNM2nG8ibY2dlh/Pjx+W6vyxh7c95qZtrNzQ3du3dH9+7dTTofY/8+Li4uYn/L2+f9U3h7e6N79+5mv83I2J/RsmVLcW7IPzn0bxMVFYXevXujd+/eJh2v/FN17NgR3bt3fyulT4yxv7ecnBy8fPlSXOe49g1j/3veaptpxhhjjDHGGGPs3+CtlkwzxhhjjDHGGGP/BpyZZowxxhhjjDHGCogz04wxxhhjjDHGWAFxZpoxxhhjjDHGGCsgzkwzxhhjjDHGGGMFxJlpxhhjjDHGGGOsgDgzzRhjjDHGGGOMFRBnphljjDHGGGOMsQLizDRjjDHGGGOMMVZAnJlmjDHGGGOMMcYKiDPTr0in0yE1NVUdzBhjjDHGGGPsf8C/KjNtMBiQlJSEpKQkpKSkqKNfm6CgIJQuXRouLi744osv1NH/eHq9XmzHtLQ0wPjyQApLT09XT/JWpKeni2XIyclRR/+tPX/+HBEREXjx4oU6SoGI8PTpU0RGRr7SMZyVlYXo6GjExMQgOztbHa2QkZGBqKgoPHr0CHq9Xh3NGGOMMcYYy8W/KjOdmJiIokWLomjRonjnnXfU0a+Nv78/nj9/DgDYtGmTOvofLyQkRGzHwYMHAwAuXrwowiZNmqSe5LU6evQoDh48iKNHjyrCp0yZIpbh/Pnziri/Srt27VC6dGkx9OzZUxF//vx5eHt7w93dHZUrV0bx4sXRv39/BAcHK9IBwIEDB9C0aVN4enqiUqVKKF68OEaPHo1Hjx6pk5rIysrCl19+iXLlyqFChQooX748KlasiGXLlkGn0ynSvnz5EjNmzECpUqVQsWJFlC1bFtWrV8fGjRtBRIq0liQlJcHX1xfTp0/HZ599hg0bNiA2NladjDHGGGOMsX8v+heJi4sjAASAWrRooY5+bcLCwsjLy4vs7e1pxYoV6uh/vPv374vt2Lt3byIiOnPmjAgbPXq0epLXqlixYgSAihYtqggfM2aMWIaTJ08q4v4q1atXF8sEgJo1aybi7t69Sw4ODop4afD09KSEhASR9sSJE6TRaEzSAaDatWtTVlaWSGvOuHHjTKaThs8//1ykMxgM1LNnT5M00rBu3TrFfNUMBgOtWLHC7HppNBqaMmUKZWdnqydjjDHGGGPsX+cvK5nOzMxEVFQUIiMjkZGRoY5GTk4OsrKykJWVBYPBABhLnuXVe/V6PWJiYhAZGSnS5CYjIwORkZGIiopCVlaWOlr8nhRHRIiLi1MnQ8WKFXHv3j0kJSVh/PjxijgiglarxcOHD0UV6bzodDpERkYiNDTUpGquwWAQyySte2pqKrRarcl2y8nJwaNHj5CYmKgIl5NvM71eDyIS81f/dkGkpKQgLCwMWq3WpCTU3G/odDokJCSYTSeVjkrjuS1XXFwcHj16ZLFElYjw+PFjhIWFifmY28/q5cvKyoJWq0VycrJifmqNGzdGw4YN1cEAAB8fH2RmZgIAmjRpgs8++wxeXl4AgCdPnmDlypUi7cyZM8U6eHt7Y+rUqShVqhQA4N69e9i6datIqxYREYHvv/8eAGBra4vRo0djxIgRsLa2BgAsXboUz549AwBcuHABBw4cAAA4Oztj3Lhx6Nevn5jXrFmzcq1C//XXX2Pq1KliveSICCtXrjQ5JxhjjDHGGPtXUueu37S0tDT6/PPPqUiRIqJEy9nZmaZOnUrJycki3YgRI0T8b7/9Ru+//z4BoODgYCIiOnfunKJU0MvLi3x9fcW4vGQ6LS2Npk2bRs7OziLe1dWVfHx8KDMzU6QrW7YsASA7Ozu6efMm1a9fn0qXLi3iJVeuXBHz+eCDD0T43r17qXLlyiLO3t6eBg4cSC9evFBML/ftt99SyZIlxTSFCxemyZMni9K9kJAQEdelSxcaP3482dnZEQBydHSk6dOnU1ZWFm3fvp08PDwIxhLCTp060cOHDxW/dfbsWapWrZqYX6VKleiXX34R4y1btiQqYMn0s2fPaPjw4WRjYyPiy5QpQ+vWrSO9Xk9ERCkpKSKufv36dPjwYSpfvjx17txZzIeIKCkpSaSTD40aNSJSlUyvXr2aWrZsKcZr1KhBx44dU8zv3r171KxZM5HG3d2ddu3aJY6DUqVKERFRRkaGSFO7dm1atmwZubq6EgCytbWlYcOGUUpKimLecrdu3RLTSyXTOp1OHOOlS5cW+/P58+dkbW2tSJuQkCBKpZs0aUIGg4GIiG7fvi3m269fP9kvKm3YsEGkW7JkiQifO3euCP/ll19Mwn7++WeRdvjw4SI8ICBAhMsFBQWJ/azRaGj27NkUGRlJ0dHRtHDhQrFeAOjs2bPqyRljjDHGGPtXeauZaZ1OR+3btxcP3OqhSZMmItMhz0xLmUQYM9OBgYGKzJs02Nraiv+lzLRer6eOHTuapJWGAQMGiOWTMtNWVlZUokQJgjEjpGYuM33r1i1FZkK+fFKGVO3XX38VaaysrMjKykqMz5w5k0iVmbZUDdjS+pUrV44yMjKIiOjOnTtmt5m9vb34v6CZ6ZSUFKpUqZLJPKXhiy++EOmkMDc3N7Gf/kxm2ty6ODo6UmRkJBERPX36VGSI5YO1tbXYzuYy0/J9KB8GDx6sWFY5c5npwMBAETZ8+HBF+qZNm4rfSk9Pp4MHD4q0c+fOFekMBgOVKlWKYDwHLJGfK3fu3BHhFy5cEOETJkwgIlIcK/KXPD///LMIX7p0qQiXfPnll9S6dWuRxtPTk8aNG0fjxo2jS5cuERHRtm3baNq0aTRt2jQ6cOCAehaMMcYYY4z9q7zVat67du3CmTNnAAAlS5bE+vXr8dNPP8HT0xMAcO3aNWzYsEE1FfD06VM4ODjA09MTNjY28PHxEVWJa9Sogc2bN2PVqlVwcnJST4rffvsNp06dAgC0bdsWt27dwuXLl1G3bl0AwC+//IKLFy8qpjEYDIiLi0PhwoXh4eGhiLPk6NGjokfkgwcPIj09He+//z4AwM/PD9HR0aop/kgnCQ0NRVJSEho1agQAWLNmjUkPy0SEESNGYOvWrfjggw9E+KlTp+Dl5YUNGzZgxYoVcHFxAQDExMTgyJEjgLHKsbltZm9vL+ZTUKtWrUJERAQAYPDgwQgKCsKxY8dE9eQvv/zSpFMqqap+sWLFUKJECUWco6MjfH194ezsDABwcnKCr68vvvrqK0U6AChRogR27dqFvXv3iqrTGRkZ2LVrFwDgm2++QVJSEgDAw8MD69atw/r161GqVKlcmwTo9XoMHjwYhw8fxvz580X4r7/+KuaXH/Iq7G5uboo4aVyv1yM5OdliWo1GI8bVVeLl5HFFixYV/8vnJaWR/mo0GhQpUsRsWnPNBI4cOYKAgAAxnp6eDl9fX/j6+opjYOjQoVi6dCmWLl2KHj16yKZmjDHGGGPs3+etZqZ37twp/t+0aRP++9//YuTIkYpw+f+Svn37IjExEY8fP0alSpVw6NAhAICdnR2OHz+OESNGYNKkSWZ71t67d6/4v0+fPnj27BmSkpLQrVs3Ee7n5yf+lyxfvhxJSUm4du2aOsqskiVLiv/nzp2L77//HvPmzYNer4fBYEC5cuUU6aGa5qOPPoKvry92794Ng8GA5ORkWFkpd0/dunWxadMmDBs2DNu3b0e1atVE3NatWzF69GhMmTJF8bmuO3fugIhw+PBhIJ/bLL/U2zYmJgYGgwHt27cHAGRnZ8Pf3182BWBlZYUDBw4gPj7eZF/b2dlhwIABIoNvb2+PAQMGoEuXLop0MLbdHThwIPr06YPVq1eL8Lt37wKqFxV+fn746KOP8N///lcRbk6JEiWwZcsWdOvWDT4+PqJX+JycHDx8+FCd3CJ5G271fpTaMsOYLj9pLbUJhypOPm/178j/WllZQaPRmE1r7mXDjh07ULNmTTH+22+/ISAgAAEBAZxxZowxxhhj/5PeamZaXoJWp04d8X/9+vXF//Hx8eJ/yZgxY+Do6AgYOy6TOokqVaoUSpcuLdI1bdpU/C+Rl7JNnjwZXbt2RdeuXfH111+LcHMljhMmTFBkNvIyePBg9OnTBwBw69YtTJ48GXXr1kWdOnVw9uxZs/OaOXOmWOYTJ05gzJgxqFSpEtq0aYOQkBCTacqUKSPCrKysULZsWREn/1+ecdfpdMjIyBDbzMPDI89tll/ybyb37dtXbFtfX18Rrt62lStXfi2ZL6k2AwDF+kil7/LflXcQVq9ePdja2opxNXd3d9jY2Ihxc/POj9xKeqVxKysrFC5cOF9p1aXbcpaml/8vpVGXiueWVq5Hjx7iRQUAtG/fHlWrVkXVqlUVL1UYY4wxxhj7X/FWM9OFChUS/0u9C8NYjVsiVVGWk09nb28vSu8SExORnp4u4sx9j1eqMgwAq1evhp+fn8kwYcIExTR2dna5ZrjMsbOzw969exEYGIivv/4anTp1gkajQVBQEHr16iW+Sy1XrFgxBAQE4OLFi/Dx8REZ24sXL6JHjx4m1bzVmWv5uKX/AcDBwUGEJSQk5LnN8kvaLxqNBvv27TPZrn5+fujdu7fZaf6s3NYXxiriksePH4v/4+Licu2tWj0v9Xh+1apVSxx7Fy9eFBnxFy9e4Pbt2wCABg0awMnJCc2bNxfTnT17VpQeh4aGimVv2bKlSKPWokUL8f/Zs2fF/1KTCsimt5RW/n+rVq3E/5Jly5Zh1KhRYrxy5crYtWsXfH19RU2EGTNmoHPnzujcufOfqvHAGGOMMcbYP8FbzUx36NBB/D9x4kSEhobi4cOHiod0c1V65aysrESGIDU1FcOHD0dERARu3bqF0aNHq5OLB30ACAoKQvfu3dGsWTOsW7cO8+bNw7x58xSZy1c1adIktGjRAmPGjEHfvn1x/PhxzJs3DzB+Nio4OFg9CXr37o1WrVphzpw5+PTTT3HlyhX0798fABAeHm5SSvmqCrrN8kvatkSE6Oho9OzZE9WqVcNXX30ltq38ZUZ+SS8yUlNTceXKFbPtzfMizxAOHjwYDx48QEhIiNi+b5qNjQ3atWsHAHj48CHee+89LF68GF27dhWfNPP29gaMVculmhpnzpzB0KFD8dVXX6Fnz55iflJaGKvXb9++XbSHl59XM2fOxJw5czBz5kxR3d/KykosS8eOHUXa0aNHY8GCBZg4cSLWrVsHGF8+NWnSRKSRdO3aFYsWLRKl1uHh4di1axecnJwQHByM/v37Y+nSpThx4gTOnTsnjrcNGzbg/fffx44dO1RzZIwxxhhj7B9O3SPZm/TixQsqU6aM6BFYPXh6elJ8fDyRqofiCxcuKOZz4MABk2nVg9Sbd1paGnl5eYlwJycnk16/c3JyiFSfxsqNud685Z8nKlasGHXt2pVcXFzE/LRarXo2NHXqVDFNuXLlqHPnzqKXag8PD8rOzlb05t29e3fF9J07dxZx8vnv3btXhM+ePZuIiH7//XcRZmkoaG/e0dHRYh0BkIuLi6JHcqkXa/WnsfLSr18/xXLVrVuXSNWb98mTJ0X6u3fvinDpE1J37tyx2DO3NJjrzbtOnTpivkREo0aNEnEXL15UxEnM9eZNRHT16lWzvY7D2Kv506dPRVo/Pz+TNNJQuXJlSktLIzIez9I2lvYtEdHQoUNNppMGqSdvMvYQnluP+suWLRNpzdm7d69iH5sbvvnmGyIiCg4OVoTHxMSoZ8cYY4wxxtg/1lstmXZ1dcXRo0cV1VolzZs3x7Fjx1CsWDF1lIkePXpg2bJliqrY1tbWmDVrliIdjNV9Dx06JKq5pqeni2q+nTp1gp+fn6KN7KsaNWoU5s+fD3t7eyQkJMDf3x8pKSlwdnbG+vXrUaZMGfUkWLx4MT788ENoNBrExMTg+PHj0Ol0cHd3x86dOwtc1Tw3PXv2xNKlS0222eeff65IVxDlypXDkSNHUKVKFcBYAi91XjVs2DD8+OOPqinyZ8GCBaKH7ldVt25dbN++3aRkfMqUKa+tqnlemjRpgv379yv6BICxlPno0aOi13MA6NWrF7Zu3apYb41Gg/feew+HDx8W1dZv374ttvHIkSNF2h9++AFTpkxRrG/hwoUxY8YMLFu2TIRpNBr88ssvGD16NOzs7ER4yZIlsWTJEkydOlWEmdOnTx8cP35c0eeBpGzZsti+fTs+/fRTAECRIkXEtnZ1dTXZF4wxxhhjjP2TaSi3boLfECLClStXRCdb1apVQ9OmTRXtU+/du4cnT54AxkyJ/JM/kpiYGJw/fx45OTlo27YtypQpI9qJFilSBM2aNRNp5b8JY3tV6fNYknPnziEzMxMajQadO3dWxMm9fPkSV65cAYydoMnnk5CQgFOnTuHly5coWrQovL294erqKpvalFarxfnz55Geng4PDw94e3vDwcEBAJCWliY+3VW8eHFFZ1o3btwQnbq1bdtWTPPs2TPcuXMHAFCxYkWR2YVxm507dw46nQ7t27eHp6en2Gaurq5o2rQpUlNTcenSJcBYBblBgwZITEzE9evXAWOnXLVq1RLz1Ov1OH36NGJiYmBnZ4fWrVujQoUKIl6n04nPk7m4uCja7VpCRLhz5w6eP38OZ2dntGzZEkFBQaKNd6NGjcSLl5SUFPHZJnd3d9SrV0/MJz4+HsePH0dmZiaaNGmC2rVr4+TJk9Dr9bCzs0P79u2h1+tx8uRJwFjNWd4++f79+6LdctOmTc3uy+TkZFy+fBkwc9zBuC4hISFISUlB8eLFUbFiRUW8nF6vx4MHD5CRkQFPT09FB2gA8N1332HSpEno0KGD2KZyL1++RHh4ODQaDby8vMz2QSCJj49HdHQ0bGxsUK1aNXH85Fd4eDhu3boFg8GAqlWrol69eiZtzIODgxEQEIA2bdr86RckjDHGGGOM/Z38JZlpxtirkT6LtmPHDgwePFgdzRhjjDHGGHtLODPN2D/Inj17EBsbi1GjRonPxTHGGGOMMcbePs5MM8YYY4wxxhhjBfRWOyBjjDHGGGOMMcb+DTgzzRhjjDHGGGOMFRBnphljjDHGGGOMsQLizDRjjDHGGGOMMVZAnJlmjDHGGGOMMcYKiDPTjDHGGGOMMcZYAXFmmjHGGGOMMcYYKyDOTDPGGGOMMcYYYwXEmWnGGGOMMcYYY6yAODPNGGOMMcYYY4wVEGemGWOMMcYYY4yxAuLMNGOMMcYYY4wxVkCcmWaMMcYYY4wxxgqIM9OMMcYYY4wxxlgBcWaaMcYYY4wxxhgrIM5MM8YYY4wxxhhjBcSZacYYY4wxxhhjrIA4M80YY4wxxhhjjBUQZ6YZY4wxxhhjjLEC4sw0Y4wxxhhjjDFWQJyZZowxxhhjjDHGCogz04wxxhhjjDHGWAFxZpoxxhhjjDHGGCsgzkwzxhhjjDHGGGMFxJlpxhhjjDHGGGOsgDgzzRhjjDHGGGOMFRBnphljjDHGGGOMsQLizDRjjDHGGGOMMVZAnJlmjDHGGGOMMcYKiDPTjDHGGGOMMcZYAXFmmjHGGGOMMcYYKyDOTDPGGGOMMcYYYwX0r8xMp6enIzs7Wx3MGLNAp9MhNTVVHcwYY4wxxhiz4F+Xmf7uu+/g7OwMd3d3XL16VR39PyczMxNJSUlISkpCVlaWOpox3L9/H6VLl4aLiwsWLlyojn6jdDqdOD7T0tLU0W9NTk6OWI6MjAx1dL5lZGSI+eTk5Kij/xGSk5PFOhCROpoxxhhjjBlp6C0+Le3atQtxcXEAgPfffx+enp6AsSR548aNIt3QoUNRtGhRAMDjx4+xd+9eAEDx4sXxwQcfiHTmNG7cGDdu3AAAzJw5E4sXL8bLly9x/vx5AICHhwcaNWqkmurtiYuLw65duxRhVlZWcHV1RZcuXVCyZElFXH5duHABSUlJAIAuXbrAzs4OALB06VLMmDEDALB+/Xr897//VUzH2DfffINp06YBACpUqIDIyEh1kjfm5s2b4nwcMGAAfH191UneikOHDqFHjx4AgMmTJ2PlypXqJPkyefJkfPvtt4Bxnu+++646yd9evXr1EBgYCBivzY6OjuokjDHGGGPsbZdM+/v7Y9KkSZg0aRKOHTsmwi9duiTCJ02ahDNnzoi4o0ePivCjR4+KcEvGjRsHJycnlC1bFoMGDQIAREREoGfPnujZsye+/vpr9SRv1ePHjxXrOmnSJEyYMAFDhw5FmTJl8OWXX6onyZdPP/1UrONfWcLH/nn+85//wMvLC/b29pg0aZI6mjHGGGOMMWbGW81Md+jQQfwvlR4DwNmzZ8X/AEQpMgBcv35d/O/t7Q0Yq2RmZWUhKysLBoMBABAfHw+9Xo+hQ4ciISEBoaGhqFWrFvR6vaL9tF6vR1ZWFnQ6nQiTwh89eoSwsDC8fPlSEZebFy9eIDQ0VExjbtkscXJyQoUKFeDh4QEYp50zZw6OHDmC7OxsMR+9Xq+YTlqHrKwskU7+W1KcJS9evIBWqzXZBnJZWVmIiopCZGSk2Wqv5tbz+fPnePz4cZ5VQ+XrRkTQ6XSIiIiAVqs12WY6nc5kOyQnJ5ssU1paGiIiIhAdHZ1re/nMzExERETgyZMngGpbStvDXFhqaqrJS4rY2FiEhYUhMzMTkG13+bZXh2VlZUGr1SI5OVmkAQCDwYDY2Fg8e/ZMEW6OfPvJmVtuSXZ2NiIiIhAaGmpS/bhSpUq4d+8ekpKSMG7cOMDCvFJSUhATE2Pyu3J/5nww501s49jYWEW4JYmJiQgNDTWZj1xycjJCQ0Px4sULdZSJ7OxsREZGIiYmBkQEg8Egllu9T9QyMjIQHh4ult3c/jF3riQmJkKr1ZpcQ+SeP3+OsLAwk3PKEnO/nZiYiEePHpmsR0ZGBrRaba7t8bOyshAREYHHjx8DFuZvLiwuLg5hYWG5zpsxxhhj7I2itygqKooAEABq2bKlCG/btq0IB0BNmjQRcU2bNhXhWq2WiIh69uwpwk6cOEHdunUjABQfH0+TJ08WcQcPHqQ9e/Yo5i0NM2bMICIig8FA27Zto4oVK4o4Kysr6t+/v/g9c5KTk2nUqFFkZWVFAMjW1pYmTJhAAwYMEPO5cuWKejK6deuWiO/Xr58IX7lypQjv378/jRo1SoxPnTpVMY+pU6eKuLlz51KxYsUU6waAXF1diYjo66+/FmHz58+n7t27i/GyZcvS9u3bFfPOyMiguXPnkqurq0hXqFAhmjRpEr18+VKkGzNmjIj/9ttvqXnz5mK8Vq1adPLkScV85erUqSPS7tu3j8qWLSvG69Spo9hu8+fPF3Hr16+njz/+mKytrcnf35+IiBITE+mTTz4hBwcHka5YsWK0cOFCysrKEvMxGAz0ww8/kJubm0jXvn17WrZsmRj//PPPiYho7dq1Imzp0qX02WefkZ2dHe3YsYOIiMLDw6lDhw4iTdGiRenHH3+kChUqEACysbERv+vk5EQAyMPDg1auXCm2q5WVFX3wwQcUHx9P586do1q1aon5NWjQINftV61aNQJAGo1GEb569Woxj1WrVhEZ13vRokWK9XZzc6PZs2eTXq8nIqLLly+LuCFDhhAR0YEDB0TY6NGjadiwYWRjY0Mwbt8lS5aQwWAQv52cnEwjR44U54OdnR1NnDiR+vXrJ+Zz7do1kV5y48YNET9gwAARntc2tra2FmkLFSpEMG7jVatWKbbxoEGDKC4ujs6dO0e1a9cW81Nv44MHD4q4jz76iEaMGKE4tydPnkwZGRkifUZGBk2ePJlsbW3F8nz44YeK8+LQoUMi/a5du8jDw0PENW7cmH744QcxPnLkSJFWzmAw0IoVK6hIkSIibZcuXWjhwoVi/KuvviIioiVLlogwHx8f6tq1qxivUKEC7dq1SzFvrVYrrp0AqEiRIrRixQqqW7euCEtPT1dMQ0S0detWET9u3Djq0aOHGHd3d6cNGzZQdnY2zZs3T+wbe3t7GjZsGCUlJYn5GAwG2rhxIxUvXlxM36pVK1q1apUYnzJlChER/fTTTyJsxowZ9P7774txR0dH8vHxoZycHNlSMsYYY4y9eW81M01EItPq5OREOp2OMjIyyN7eXoTB+GCamppK2dnZIq5q1apiHvLMtPwB9VUy08uXLzeJk4bSpUtTYmKibOn/YDAY6J133jFJD+NDo/R/QTLT169fF+HvvPMO3bx5U4y7u7uLB8WcnBxyd3cnGDNtjx8/zndmWsoMyQeNRkMXLlwgIiK9Xk9dunQxSSMNDRo0EBlUeabB2traJK2TkxNFRUWJ9ZOTZ6bl20saHBwcKCwsjEiVmZbva39/f0pLS6MaNWqYTC8NvXv3Fhk+ecZFPsh/31xmWv6bO3bsoJcvX5Knp6fJfGDMdMFCZtrS0Lx5c8WLAGlwdHSk0NBQMR+5gmSmf/zxRxFmZWVFGo1GjH/99ddE+chMm9u/AGjz5s1ExvPB0nEj3775zUznZxuby0zL100+NG/enBwdHU3CHRwcxDaWZ6bt7OxM0gKgYcOGid8cPHiwSTxkywdZZnrv3r0m6aDaNpYy00uXLjWZTj2tucy0uX1mZWVFAQEBRESUnp5OlSpVMkkD1TrklZm2tM07duxoEgbjOSnZvHmzSTxU62YuM23umgGApk2bJltKxhhjjLE3761W84asqnd6ejqCg4Nx5coVUT1z7NixgLFK35UrVxAUFCTipCreak+fPoWTkxNKly4NKyvT1WnatCkWL14sxps1awZfX18MGjQIL168wNy5cwFj52aHDx/GgwcP8OGHHwLG9s3m2lifP39etN+2trbG7NmzsX37dnTu3Fksb368ePECN2/eREBAgKIX5WrVqqFBgwZo1aoVAODZs2eijfnx48dFVeC+ffvC09MTGzZsQOXKlcX0GzduxE8//STGJQ4ODtiwYQMOHDiAZs2aAQCICJs3bwYA7NmzR/xOsWLFsG7dOmzevBlly5YFANy6dQvff/+9bI5/KFmyJHbt2oW9e/fCy8sLMO5fdUdr5hQpUgRr167Fxo0bUbFiRcBYFXvRokXqpHj69Cns7Ozg4eEBBwcHrFq1Cg8ePAAAVK5cGVu3bsWaNWtQuHBhAICfnx8OHTqE7Oxs+Pj4iPn06tULO3bswGeffZbn/nr69ClsbGxQqlQpODk5Ye3ataKKuJubG7777jts2rQJXl5eJlVc1Tp27IgtW7aIDuEA4PLly2Jd1q9fjwoVKgDG6rFbt26VTf1qDh48CBg7uYuNjUV8fDyqVasGGHu+zw+DwYAlS5bg8OHD6Nu3rwjfsGEDAODcuXPiuLG2tsacOXOwfft2dOrUKc/ta873339vdhtXqVIl121MRGIbz5w5U4RfvnwZdnZ2WLlyJTZs2KA4zrZs2SKbwx+ys7PRv39/7NixQ9GGfNu2bQgJCcH9+/exc+dOET5lyhTs2LED7733nsnyERFmz54txtu3b4/t27dj/vz5uVa9hrHpgvw86NevH3bs2IGJEyfmuV2dnJywceNGHDhwAE2bNgWM+3HTpk0AgE2bNiEiIgIA4OLiguXLl2PLli2oXbu2yTrkxsrKCvPmzcOWLVvQsmVLEX7q1Cl4e3ubHO+///47Hj16BL1eL669ANCtWzds374ds2bNyvP3s7KyMHr0aOzcuVNcqwFg1apVeP78uSItY4wxxtgbpc5dv2nbt28XJQlbt26lL774gmAsDYmNjRVVK7/44gtFacSePXvEPOQl0yNHjlRU51WXTBORopRXXhq8a9cuET5o0CDy9/cnf39/2rdvnwivXr26SC+ZNm2aiJ89e7YIz8zMJC8vLxGXV8m0uaFw4cIUHR1NpFq+/v37ExHRwIEDRdjFixfFfOXV4eWl6fKSaR8fHxH+8OFDEd60aVMiIurVq5cI27dvn0h76dIlEd64cWMiVcn0tm3bRNojR46I8EGDBolwOXnJ9JkzZ0R4aGioKOlyc3MjUpVMt2rVSrFuNWvWFHGBgYEiXF5yNnDgQLp48aIYr1evnqI66Pjx40WcuZLp2rVr09OnT0X6li1birgjR46I8IiICFEaaK5k2t7enlJSUkS4vDnAmjVrRPjp06dFeM+ePUW4XEFKpuXNBXr06EGbNm2imJgYMhgMotQ+r5Jp+TmTkZEhSoKdnZ2JiOizzz4TaefOnatIW7lyZRGX35LpVq1aibDDhw+LtJGRkWIbmyuZVm9j+bmyevVqEX7mzBkRLm1jecl0y5YtRRV4IqLRo0eLuGXLlinOqY8++kik0+l01LhxYxF36NAhCgsLE+PlypWjtLQ0kX7RokUizlzJtL+/v8VlGjFihIgzVzI9f/58kTY4OFiEN2/enIhIUQXc19dXpH3y5ImiFD+vkunRo0eL8ISEBBGu3hfy4/3w4cOK/V6jRg3FNVx+fTVXMv2f//xHpDUYDIr7gfxaxBhjjDH2ppkW5b5h8k7Ibt68iXPnzgHGEmN3d3c0bNgQMH7qSep8TKPRoH379mI6ubFjx4rPQBVUYmKi+H/Xrl3o2rUrunbtij59+ohw6XNTcvIw+We27O3tUa9ePTFeEFZWVujVqxeuXLmCcuXKAQD69OmDUqVKAcZS1ujoaPz2228AgIYNG6JFixaKeeRF+hQZAJQuXVr8L3Xok5CQIMLq1Kkj/pevU3x8vPhfktd8c9O4cWPxv5eXl/gk2osXL0w6Mhs2bJiIh2p5a9WqJf6vX7+++D8+Pl6xv+rXrw8bGxsxLpXaWTJw4ECxD5DLvq9YsSJKlCghxtWKFi0KZ2dnMS7tYwAoU6aM2fD8bL+8LFiwALVr1waMpdQjR45EuXLl0LlzZ8TExKiTmyXfvw4ODihevDggWz5L28TBwQF169YV4/llaX4VKlTI9dNxuW1jqXaFOtzcNm7UqJGilkuTJk3E/y9evLC4fNbW1iaf3ZOnrVmzJpycnMR4XseefNqGDRsqlimvaeXnoblz0tI6eHh4KLZVXuRp3dzc4OLiIv63tC90xm+LS+rWrau4hue1bvJrhkajMdk/jDHGGGNvy1vPTJcuXRpVqlQBjNUvL126BBirPwJA27ZtAQABAQG4evUqYMwAFStWTMxDrlChQuqgfJM/7A0bNgx+fn4mw7Zt2xTTQPWbjx49Ev8TkWI8L7169UJCQgJevHiB7Oxs+Pn5oXr16iLezs4OH330EWCs2jho0CDRq/GECROg0WhE2vyQpzc3rXy95L1KP336VPwvPSzL5TXf3Eg9+ALAy5cvRc/JhQoVMpmXel/Lx+WZfPXyyjMw6v2jHldT/6aleaWmppp98SJRr4ulbaZOZ46UqSIiRQ/jKSkpslR/8PT0xO3bt3H69Gl8/vnn4kXDyZMnFVW2c6NeJvW4pW1CRIr9m1+W5peWlpZrZkm9XJa2qzqdmnqZtVqt+L9QoUIWz39z4/J1Ufd0r06rZmk7mBtXy2t9Lc07MzMTcXFxYjwv6nlL45bCJerfL8h2yWv/MMYYY4y9LW89Mw1Z6fSVK1fE51ikMCkznZqaKj6fZam9dH7JSz3Cw8Px4MEDxMXFoU2bNiJjcuvWLbRo0QLdunXDxYsXMW/ePMybNw+3b9+WzekP8raB8+fPx7FjxxATEwMfHx9cuXJFkTY39vb2cHNzg6urK6ytrdXRAIAxY8aIktSAgADA2L574MCBinS2trbi//PnzyMsLEwRnx/yWgOTJk1CSEgIwsLCFO0Su3TpIv5/HYYOHYr79+8jNDQUAwcOFCVn0nGQG/nyjh49GjExMbh9+7ainWuXLl3QoEEDODo6AsZM5NKlS6HVanHgwAFFe/r8kNqxA8DIkSMRGBiI8PBwfPDBB+JFx5vm7u4u/p81axZSUlIQFBSEdevWKdJJbYhbt26NpUuXYu7cubh58yY6deoEGD9PZ65ktqDk28THxwfHjx9HTEwM5s6dK16IFYR6G9+5c+etbuN9+/ZhzZo10Gq12Lt3L5YvXy7i2rZtqzj/ly9fjt9++w1arRYrVqzAoUOHRByMtS2k0vS7d+9ixowZiImJwenTpxXtus1p2rSpOPd/++03rF69WizTihUr1MkLRL6NP/nkE9y4cQORkZH48MMPc31h8brUqVNHvJi7ePEiFi1ahJiYGPj7++OLL75QJ1fYsGEDtm/fDq1Wiy1btoh24ADQpk0b6HQ6zJ49G/379xcvaxljjDHG3gh1ve+3Qd4WGMbec6W2efHx8Yo4qNqmkqrN9IMHDxRx5tpMZ2dnU4kSJRTz/PTTT4lUbX9tbGzI2dlZjDs7O5vtUTkrK4uqV69uspzqIa820/K2qLmRtzcEQLNmzVInoZkzZyrSSO1Z5e07169fL9Knp6eL8IYNGxIZe1EuX768yXpIg7u7Oz179oxItd3knxi6e/euCLe0fvI205aGs2fPEqnaTEufppJERkaSi4uLybTSUKdOHcrMzCQiok8//dQkXj2YazO9cuVKxW9GRESY7X1bPphrM+3h4aGYz/Tp00V6Pz8/ER4RESHCu3XrpphGsmnTJpPfVA9Sm+kPP/xQhFWuXJm8vb1FvwRVqlQhykeb6cmTJyt+X/o8lYODA5HxfJDacec25LfNdGRkpNnet+WDuTbT6m08Y8YMkV6+jSMjI0W4tI3lbaYtDa1atSKDwUB6vV7xKThLg9Sbt6UeueWDuTbTpDrPLA3m2kxv3LhRzCM1NVWES30ePH36lAoXLmwyL/WQV5vpBQsWKOKkeXp6eirC5cf777//TkREs2fPNvk99WCuzbSloU+fPkSqfjlKly6tWA7GGGOMsdfpLymZVrd/bt68uSg5LFasmGjjCQA2NjZo06aNLHXB2draYu3atWarKK9YsQIff/wxrKysoNPpkJqaChjbZx4+fFj0Ti1nZ2eH/fv3o0aNGorwxo0b491331WEvQ7jxo0T/1tbW+OTTz5RxMPYo3BebQ3zUrhwYRw9elRRaiVp0qQJjh07lmub1Vcxa9YsRRVQe3t7rF27Nl8l0xUqVMDRo0dN9gOMvQMfPHgQ9vb2gLHt8AcffKBI4+bmhgkTJijC8lKxYkXs3r0bbm5uivDhw4cr2oW+ScOGDcPw4cMVYZ6enhgxYoQiDADWrFmD/v37A8ZaGSdPnoTBYECZMmUUPVL/GZbOhyZNmqBbt26KsPyoUKHCX7qN+/btK5qiSJo0aYKff/4ZGo0GVlZW8PX1VbTdBYDq1avj/fffV4QBwOTJkxXnMIxNTKZOnaoIM2fZsmV47733FGHu7u6i+cerKlWqFPbv329yPvfp0wc1a9ZUhL0pc+bMMTlmXV1dMXHiREWY2tChQ02Og44dO4qaGR4eHiJc3t6fMcYYY+x105C6l6e35PTp0+ITKGXKlFE8wN25c0e02XVyckLr1q1FHIxVsqV2fa1atVK0kwsODhYdKzVo0EDRKVRmZiauX7+O9PR0lC9fXnwiCACioqIQEBCA9PR0lCtXDh06dFB0VGWOTqfD0aNHERsbi7Jly8Lb2xtBQUGizW6zZs1QpEgRxTTJycm4fPkyYHwozk+HZYcOHUKPHj0A44P+nj171EkA/FGtNyQkBFqtFlZWVvD29kZkZCRCQ0MBYwdIUmdXer0eJ0+eBIztiuWdmRERrl27huDgYBARqlatiubNmysyvUFBQaJtY6NGjUSb9pSUFFEd3dL61a1bF3fv3gWMn9DSarW4ePEi7O3t0b59e8UDcHh4OMLDwwFj1VD5g7LEYDDg3LlziIyMhK2tLerVq6foQE3uxo0bCAwMhIODg8hwDx06FDBWUZ4/fz60Wq345Fa1atVQvnx51Vz+aN999OhRpKamol69emjUqBHOnz+PjIwMaDQadO7cGTBWK9fr9bC3t0e7du3E9A8fPkRUVBRg7BNAytSkp6fjwoULgLE6v9QhnzmBgYG4f/8+XFxc4O3tjbi4OAQHBwNmljsiIgKXLl1CZmYmypYtiw4dOojmD0lJSaI6toeHB+rUqYO4uDjcunULMHYeJW/LL62nlZWVqDIO1flQpkwZdOrUCf3798e+ffsAALdv3zY5HuTnQ6lSpRQdlr2pbZyRkYHz588Dsm2sXt9KlSrh6NGjeP78OcqVKwdvb2+TT+8ZDAacOHECWq0W7u7ueOeddxAeHm7x+nP//n1cu3YNtra2eOedd2BtbY1r164Bxr4k5J3oqV2+fBlBQUFwdnbGu+++i5cvX+L+/fuAsSp5pUqVLJ7rOp0Op06dAowvzJo3by7mm5qaCn9/f7x8+RI1a9ZE8+bNERAQIF4qent7mzRBefLkCe7duwcYP0kn/yzfqVOnoNPp8r0vYDwubt++DXt7e3Tt2hU6nU7sC+k6vWnTJowaNQoAsHjxYkyaNAn+/v548eIFKleujLZt2yquTxcuXEBYWBh69epl8lKGMcYYY+x1+csy0yz/OnbsiNOnTwMAzpw5o3hI/SdSZ6alWglvUp8+fRAXFwc7Ozvs2bMHRYsWBRFh5MiR4lvDGzZswOjRo9WTsjwEBwfjv//9L2B8sbJy5UpoNBq8fPkSderUgVarhUajQWxsrElJKGP5oc5M59XenDHGGGPsbfhLqnmz/Lt586bISNepUydf1Z+ZqXLlyuHChQs4deoUatasiSFDhqBdu3YiI+3i4qL4JBrLv0qVKuHp06e4cOECvv32WzRt2hRDhgxBgwYNRE/L3bt354w0Y4wxxhj7V+HM9N+cvCfhV/kcFvvDvHnzRBXj2NhY7Ny5U1T1tba2xrfffsvVQV+RnZ0dNm7cKD41d/36dezcuRORkZGAseq4/DhmjDHGGGPs38B6/vz589WB7O8hIyMDu3fvRtWqVVGrVi34+PgoPoH1T3X//n2ULFkSVatWxcCBA/Nsm/46ODo6YsSIEShTpgyICNbW1ihTpowonX4THcf9L6lQoQI++OADFClSBNnZ2ShUqBAqVaqEoUOHYvv27Shbtqx6EsbyLT4+HomJiahatSo6dOiQa/tyxhhjjLG3hdtMM8YYY4wxxhhjBcTVvBljjDHGGGOMsQLizDRjjDHGGGOMMVZAnJlmjDHGGGOMMcYKiDPTjDHGGGOMMcZYAXFmmjHGGGOMMcYYKyDOTDPGGGOMMcYYYwXEmWnGGGOMMcYYY6yAODPNGGOMMcYYY4wVEGemGWOMMcYYY4yxAuLMNGOMMcYYY4wxVkCcmWaMMcYYY4wxxgqIM9OMMcYYY4wxxlgBcWaaMcYYY4wxxhgrIM5MM8YYY4wxxhhjBcSZacYYY4wxxhhjrIA4M80YY4wxxhhjjBUQZ6YZY4wxxhhjjLEC4sw0Y4wxxhhjjDFWQJyZZowxxhhjjDHGCogz04wxxhhjjDHGWAFxZpoxxhhjjDHGGCsgzkwzxhhjjDHGGGMFxJlpxhhjjDHGGGOsgDgzzRhjjDHGGGOMFdD/AZeEg7EeaseLAAAAAElFTkSuQmCC)"
      ],
      "metadata": {
        "id": "OtggP5X5Bive"
      }
    },
    {
      "cell_type": "markdown",
      "source": [
        "We’ll follow the instructions step by step:\n",
        "\n",
        "- Each record = [Order Number, Title, Quantity, Price]\n",
        "\n",
        "- Compute: total = Quantity * Price\n",
        "\n",
        "- If total < 100, add 10 penalty\n",
        "\n",
        "- Return (OrderNumber, total)"
      ],
      "metadata": {
        "id": "TTUzMsSeBx43"
      }
    },
    {
      "cell_type": "code",
      "source": [
        "# Book data: [Order Number, Title, Quantity, Price per Item]\n",
        "orders = [\n",
        "    [34587, \"Learning Python, Mark Lutz\", 4, 40.95],\n",
        "    [98762, \"Programming Python, Mark Lutz\", 5, 56.80],\n",
        "    [77226, \"Head First Python, Paul Barry\", 3, 32.95],\n",
        "    [88112, \"Einführung in Python3, Bernd Klein\", 3, 24.99]\n",
        "]\n",
        "\n",
        "# Using lambda and map\n",
        "result = list(map(lambda order: (\n",
        "    order[0],                                  # order number\n",
        "    order[2] * order[3] if order[2] * order[3] >= 100 else order[2] * order[3] + 10\n",
        "), orders))\n",
        "\n",
        "print(result)"
      ],
      "metadata": {
        "colab": {
          "base_uri": "https://localhost:8080/"
        },
        "id": "97b9sX8sBbCI",
        "outputId": "1380686a-08e6-4d0c-c927-04fad0bc74d0"
      },
      "execution_count": 39,
      "outputs": [
        {
          "output_type": "stream",
          "name": "stdout",
          "text": [
            "[(34587, 163.8), (98762, 284.0), (77226, 108.85000000000001), (88112, 84.97)]\n"
          ]
        }
      ]
    },
    {
      "cell_type": "code",
      "source": [],
      "metadata": {
        "id": "1-eccKhJBsn2"
      },
      "execution_count": null,
      "outputs": []
    }
  ]
}
