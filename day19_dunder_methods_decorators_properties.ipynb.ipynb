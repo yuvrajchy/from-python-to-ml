{
  "cells": [
    {
      "cell_type": "code",
      "execution_count": null,
      "id": "19f62fac-8a78-470a-8be1-401d0746e5b0",
      "metadata": {
        "id": "19f62fac-8a78-470a-8be1-401d0746e5b0"
      },
      "outputs": [],
      "source": [
        "#dunder/magic/special method\n"
      ]
    },
    {
      "cell_type": "code",
      "execution_count": null,
      "id": "7749c995-57b1-49bd-b245-74079fe10f3e",
      "metadata": {
        "id": "7749c995-57b1-49bd-b245-74079fe10f3e"
      },
      "outputs": [],
      "source": [
        "print(\"hello world!\") #print is a keyword/inbuiltfunction"
      ]
    },
    {
      "cell_type": "code",
      "execution_count": null,
      "id": "5bc19bd8-ad2e-4a50-9637-74189dac0363",
      "metadata": {
        "id": "5bc19bd8-ad2e-4a50-9637-74189dac0363"
      },
      "outputs": [],
      "source": [
        "#Dunder/magic/special methods are the methods defined by built-in classess in Python\n",
        "#classes define these type of methods for creating custom objects >> for init it means data for every object\n",
        "#implementing operator overloading in Python"
      ]
    },
    {
      "cell_type": "code",
      "execution_count": null,
      "id": "292eb3ca-0fdb-430c-87c1-323fd3ffee08",
      "metadata": {
        "id": "292eb3ca-0fdb-430c-87c1-323fd3ffee08"
      },
      "outputs": [],
      "source": [
        "#d+under\n",
        "#double underscore >> all the methods surrounding double underscore is a dunder method"
      ]
    },
    {
      "cell_type": "code",
      "execution_count": null,
      "id": "d2c53a79-3fa9-4428-8014-b78c8d50a0d0",
      "metadata": {
        "id": "d2c53a79-3fa9-4428-8014-b78c8d50a0d0",
        "outputId": "7eb81523-9538-4ce1-d321-457c637e3fae"
      },
      "outputs": [
        {
          "data": {
            "text/plain": [
              "'pwskills'"
            ]
          },
          "execution_count": 3,
          "metadata": {},
          "output_type": "execute_result"
        }
      ],
      "source": [
        "a = \"pw\"\n",
        "b = \"skills\"\n",
        "a+b"
      ]
    },
    {
      "cell_type": "code",
      "execution_count": null,
      "id": "ab0733c0-4666-421f-84a1-8e36a074f466",
      "metadata": {
        "id": "ab0733c0-4666-421f-84a1-8e36a074f466",
        "outputId": "333e115b-9a66-4ed4-cef8-843088c5e453"
      },
      "outputs": [
        {
          "data": {
            "text/plain": [
              "'pwskills'"
            ]
          },
          "execution_count": 4,
          "metadata": {},
          "output_type": "execute_result"
        }
      ],
      "source": [
        "a.__add__(b) #a dunder method/special/magic method associated with strings"
      ]
    },
    {
      "cell_type": "code",
      "execution_count": null,
      "id": "ab9d6de5-dc62-49df-9424-a2f9297a3cf5",
      "metadata": {
        "id": "ab9d6de5-dc62-49df-9424-a2f9297a3cf5",
        "outputId": "b5780abd-1528-44d5-f1dd-aed1ec5300ca"
      },
      "outputs": [
        {
          "data": {
            "text/plain": [
              "['__add__',\n",
              " '__class__',\n",
              " '__contains__',\n",
              " '__delattr__',\n",
              " '__dir__',\n",
              " '__doc__',\n",
              " '__eq__',\n",
              " '__format__',\n",
              " '__ge__',\n",
              " '__getattribute__',\n",
              " '__getitem__',\n",
              " '__getnewargs__',\n",
              " '__gt__',\n",
              " '__hash__',\n",
              " '__init__',\n",
              " '__init_subclass__',\n",
              " '__iter__',\n",
              " '__le__',\n",
              " '__len__',\n",
              " '__lt__',\n",
              " '__mod__',\n",
              " '__mul__',\n",
              " '__ne__',\n",
              " '__new__',\n",
              " '__reduce__',\n",
              " '__reduce_ex__',\n",
              " '__repr__',\n",
              " '__rmod__',\n",
              " '__rmul__',\n",
              " '__setattr__',\n",
              " '__sizeof__',\n",
              " '__str__',\n",
              " '__subclasshook__',\n",
              " 'capitalize',\n",
              " 'casefold',\n",
              " 'center',\n",
              " 'count',\n",
              " 'encode',\n",
              " 'endswith',\n",
              " 'expandtabs',\n",
              " 'find',\n",
              " 'format',\n",
              " 'format_map',\n",
              " 'index',\n",
              " 'isalnum',\n",
              " 'isalpha',\n",
              " 'isascii',\n",
              " 'isdecimal',\n",
              " 'isdigit',\n",
              " 'isidentifier',\n",
              " 'islower',\n",
              " 'isnumeric',\n",
              " 'isprintable',\n",
              " 'isspace',\n",
              " 'istitle',\n",
              " 'isupper',\n",
              " 'join',\n",
              " 'ljust',\n",
              " 'lower',\n",
              " 'lstrip',\n",
              " 'maketrans',\n",
              " 'partition',\n",
              " 'removeprefix',\n",
              " 'removesuffix',\n",
              " 'replace',\n",
              " 'rfind',\n",
              " 'rindex',\n",
              " 'rjust',\n",
              " 'rpartition',\n",
              " 'rsplit',\n",
              " 'rstrip',\n",
              " 'split',\n",
              " 'splitlines',\n",
              " 'startswith',\n",
              " 'strip',\n",
              " 'swapcase',\n",
              " 'title',\n",
              " 'translate',\n",
              " 'upper',\n",
              " 'zfill']"
            ]
          },
          "execution_count": 5,
          "metadata": {},
          "output_type": "execute_result"
        }
      ],
      "source": [
        "#all dunder methods associated with strings\n",
        "dir(str)"
      ]
    },
    {
      "cell_type": "code",
      "execution_count": null,
      "id": "51da7a00-9e2e-4e2f-91ca-4dacb872ab57",
      "metadata": {
        "id": "51da7a00-9e2e-4e2f-91ca-4dacb872ab57",
        "outputId": "7b090052-9b85-4ad6-a5f3-f527666c6428"
      },
      "outputs": [
        {
          "data": {
            "text/plain": [
              "8"
            ]
          },
          "execution_count": 6,
          "metadata": {},
          "output_type": "execute_result"
        }
      ],
      "source": [
        "3+5"
      ]
    },
    {
      "cell_type": "code",
      "execution_count": null,
      "id": "34d060f7-a739-4fc1-88a0-a039d91e1ebb",
      "metadata": {
        "id": "34d060f7-a739-4fc1-88a0-a039d91e1ebb",
        "outputId": "15a35e32-23a3-42ce-eb09-392265bdde85"
      },
      "outputs": [
        {
          "data": {
            "text/plain": [
              "8"
            ]
          },
          "execution_count": 7,
          "metadata": {},
          "output_type": "execute_result"
        }
      ],
      "source": [
        "a = 3\n",
        "b = 5\n",
        "a.__add__(b)"
      ]
    },
    {
      "cell_type": "code",
      "execution_count": null,
      "id": "1391c443-cbe7-433d-ab85-cc4366fc2de6",
      "metadata": {
        "id": "1391c443-cbe7-433d-ab85-cc4366fc2de6",
        "outputId": "4020c3c4-98f6-4b20-b702-03413557e198"
      },
      "outputs": [
        {
          "data": {
            "text/plain": [
              "['__abs__',\n",
              " '__add__',\n",
              " '__and__',\n",
              " '__bool__',\n",
              " '__ceil__',\n",
              " '__class__',\n",
              " '__delattr__',\n",
              " '__dir__',\n",
              " '__divmod__',\n",
              " '__doc__',\n",
              " '__eq__',\n",
              " '__float__',\n",
              " '__floor__',\n",
              " '__floordiv__',\n",
              " '__format__',\n",
              " '__ge__',\n",
              " '__getattribute__',\n",
              " '__getnewargs__',\n",
              " '__gt__',\n",
              " '__hash__',\n",
              " '__index__',\n",
              " '__init__',\n",
              " '__init_subclass__',\n",
              " '__int__',\n",
              " '__invert__',\n",
              " '__le__',\n",
              " '__lshift__',\n",
              " '__lt__',\n",
              " '__mod__',\n",
              " '__mul__',\n",
              " '__ne__',\n",
              " '__neg__',\n",
              " '__new__',\n",
              " '__or__',\n",
              " '__pos__',\n",
              " '__pow__',\n",
              " '__radd__',\n",
              " '__rand__',\n",
              " '__rdivmod__',\n",
              " '__reduce__',\n",
              " '__reduce_ex__',\n",
              " '__repr__',\n",
              " '__rfloordiv__',\n",
              " '__rlshift__',\n",
              " '__rmod__',\n",
              " '__rmul__',\n",
              " '__ror__',\n",
              " '__round__',\n",
              " '__rpow__',\n",
              " '__rrshift__',\n",
              " '__rshift__',\n",
              " '__rsub__',\n",
              " '__rtruediv__',\n",
              " '__rxor__',\n",
              " '__setattr__',\n",
              " '__sizeof__',\n",
              " '__str__',\n",
              " '__sub__',\n",
              " '__subclasshook__',\n",
              " '__truediv__',\n",
              " '__trunc__',\n",
              " '__xor__',\n",
              " 'as_integer_ratio',\n",
              " 'bit_count',\n",
              " 'bit_length',\n",
              " 'conjugate',\n",
              " 'denominator',\n",
              " 'from_bytes',\n",
              " 'imag',\n",
              " 'numerator',\n",
              " 'real',\n",
              " 'to_bytes']"
            ]
          },
          "execution_count": 8,
          "metadata": {},
          "output_type": "execute_result"
        }
      ],
      "source": [
        "dir(int)"
      ]
    },
    {
      "cell_type": "code",
      "execution_count": null,
      "id": "3cd337e0-56ac-4c7e-9900-fe580217da67",
      "metadata": {
        "id": "3cd337e0-56ac-4c7e-9900-fe580217da67"
      },
      "outputs": [],
      "source": [
        "#useful dunder methods\n",
        "#__init__ >>to take data with respect to object\n",
        "class Student:\\\n",
        "#to initialize the newly created instance/object>>it sets up any intial state/properties of the object\n",
        "#also known as constructor\n",
        "    def __init__(self, name):\n",
        "        print(name, \"This is the first thing that will be executed when you make instance/object of the class\")"
      ]
    },
    {
      "cell_type": "code",
      "execution_count": null,
      "id": "f2ad6dd7-a9f1-4ade-b457-d5f340f72dd8",
      "metadata": {
        "id": "f2ad6dd7-a9f1-4ade-b457-d5f340f72dd8",
        "outputId": "3adedd6e-40f8-4023-c2ed-5ad79ec7b06a"
      },
      "outputs": [
        {
          "name": "stdout",
          "output_type": "stream",
          "text": [
            "Ajay This is the first thing that will be executed when you make instance/object of the class\n"
          ]
        }
      ],
      "source": [
        "obj1 = Student(\"Ajay\")"
      ]
    },
    {
      "cell_type": "code",
      "execution_count": null,
      "id": "e3321a93-a4ba-4722-bf6e-9ef883b0d75f",
      "metadata": {
        "id": "e3321a93-a4ba-4722-bf6e-9ef883b0d75f",
        "outputId": "da4c160b-7bc3-4a19-8996-e0d8982fc1ae"
      },
      "outputs": [
        {
          "name": "stdout",
          "output_type": "stream",
          "text": [
            "Bijay This is the first thing that will be executed when you make instance/object of the class\n"
          ]
        }
      ],
      "source": [
        "obj2 = Student(\"Bijay\")"
      ]
    },
    {
      "cell_type": "code",
      "execution_count": null,
      "id": "1cf5abe9-54a9-4aed-8f5c-5c8ba63fb641",
      "metadata": {
        "id": "1cf5abe9-54a9-4aed-8f5c-5c8ba63fb641"
      },
      "outputs": [],
      "source": [
        "#another magic method >> __new__\n",
        "class Student:\n",
        "    #__new__ is responsible for creating a new instance of the class\n",
        "    def __new__(cls): #since cls>>so it will be referring to the class directly\n",
        "        print(\"This will be executed even before init.\")\n",
        "    #to initialize teh newly created instance/object>>it sets up any intial state/properties of the object\n",
        "    def __init__(self, name):\n",
        "        print(name, \"This is the first thing that will be executed when you make instance/object of the class\")"
      ]
    },
    {
      "cell_type": "code",
      "execution_count": null,
      "id": "f7ffde48-066a-442c-9cd5-a6807c5ace3c",
      "metadata": {
        "id": "f7ffde48-066a-442c-9cd5-a6807c5ace3c",
        "outputId": "dfb0d0aa-ac28-44fd-beb7-3db650f3f580"
      },
      "outputs": [
        {
          "name": "stdout",
          "output_type": "stream",
          "text": [
            "This will be executed even before init.\n"
          ]
        }
      ],
      "source": [
        "obj = Student()"
      ]
    },
    {
      "cell_type": "code",
      "execution_count": null,
      "id": "549dbdf3-0b1b-454a-bbac-ff43e207799e",
      "metadata": {
        "id": "549dbdf3-0b1b-454a-bbac-ff43e207799e"
      },
      "outputs": [],
      "source": [
        "#another dunder method>> __str__ >> which returns string representation of method\n",
        "class Student:\n",
        "    def __init__(self):\n",
        "        self.phone = 999999999"
      ]
    },
    {
      "cell_type": "code",
      "execution_count": null,
      "id": "9bdb38e6-2787-44d9-ad25-06a2e2d6c150",
      "metadata": {
        "id": "9bdb38e6-2787-44d9-ad25-06a2e2d6c150",
        "outputId": "1965a559-caf7-4755-f50c-c2831cca1fe5"
      },
      "outputs": [
        {
          "data": {
            "text/plain": [
              "<__main__.Student at 0x7fcc34701ff0>"
            ]
          },
          "execution_count": 21,
          "metadata": {},
          "output_type": "execute_result"
        }
      ],
      "source": [
        "Student()"
      ]
    },
    {
      "cell_type": "code",
      "execution_count": null,
      "id": "838ab419-bfa0-4c38-9592-2fa26214aa85",
      "metadata": {
        "id": "838ab419-bfa0-4c38-9592-2fa26214aa85",
        "outputId": "c30c5dda-754a-4979-dc03-5295888c876b"
      },
      "outputs": [
        {
          "name": "stdout",
          "output_type": "stream",
          "text": [
            "<__main__.Student object at 0x7fcc34719ea0>\n"
          ]
        }
      ],
      "source": [
        "print(Student()) #hexadecimal representation  of memory of Student object"
      ]
    },
    {
      "cell_type": "code",
      "execution_count": null,
      "id": "1f86bff2-2b71-4772-904d-a19e0afba432",
      "metadata": {
        "id": "1f86bff2-2b71-4772-904d-a19e0afba432"
      },
      "outputs": [],
      "source": [
        "class Student:\n",
        "    def __init__(self):\n",
        "        self.phone = 999999999\n",
        "    def __str__(self): #__str__  will return a string representation of object\n",
        "        return \"This method overloads the print statement of object\""
      ]
    },
    {
      "cell_type": "code",
      "execution_count": null,
      "id": "405a5023-4c7e-4ec1-a676-18f31ecfbb4e",
      "metadata": {
        "id": "405a5023-4c7e-4ec1-a676-18f31ecfbb4e",
        "outputId": "33d54da4-9e61-48af-b4d6-494b8f19d65f"
      },
      "outputs": [
        {
          "data": {
            "text/plain": [
              "<__main__.Student at 0x7fcc3c0e9810>"
            ]
          },
          "execution_count": 23,
          "metadata": {},
          "output_type": "execute_result"
        }
      ],
      "source": [
        "Student()"
      ]
    },
    {
      "cell_type": "code",
      "execution_count": null,
      "id": "00043dae-8471-4fd0-a40a-d089c84f02ad",
      "metadata": {
        "id": "00043dae-8471-4fd0-a40a-d089c84f02ad",
        "outputId": "150f4a8c-2785-4182-dfe3-1b25afc43307"
      },
      "outputs": [
        {
          "name": "stdout",
          "output_type": "stream",
          "text": [
            "This method overloads the print statement of object method\n"
          ]
        }
      ],
      "source": [
        "print(Student())"
      ]
    },
    {
      "cell_type": "code",
      "execution_count": null,
      "id": "da9d4256-b988-464d-8290-dc375c0f3a71",
      "metadata": {
        "id": "da9d4256-b988-464d-8290-dc375c0f3a71"
      },
      "outputs": [],
      "source": [
        "#another dunder method __repr__ >> meaning representation of class\n",
        "#it returns unambiguous string representation of teh object as it is that can be used recreate the object"
      ]
    },
    {
      "cell_type": "code",
      "execution_count": null,
      "id": "e529e95e-31ff-441f-92d9-3f6c5e875357",
      "metadata": {
        "id": "e529e95e-31ff-441f-92d9-3f6c5e875357"
      },
      "outputs": [],
      "source": [
        "class MyClass:\n",
        "    def __init__(self, x):\n",
        "        self.x = x\n",
        "    def __repr__(self):\n",
        "        return f\"MyClass({self.x})\""
      ]
    },
    {
      "cell_type": "code",
      "execution_count": null,
      "id": "699f54c3-4d7f-4913-ab8b-93e9d218bbd1",
      "metadata": {
        "id": "699f54c3-4d7f-4913-ab8b-93e9d218bbd1"
      },
      "outputs": [],
      "source": [
        "obj = MyClass(5)"
      ]
    },
    {
      "cell_type": "code",
      "execution_count": null,
      "id": "fb7464bb-2a77-4fa1-8d83-88665c1f68ac",
      "metadata": {
        "id": "fb7464bb-2a77-4fa1-8d83-88665c1f68ac",
        "outputId": "8d63c68d-03ed-44fe-c9be-8329d2ba32a1"
      },
      "outputs": [
        {
          "data": {
            "text/plain": [
              "MyClass(5)"
            ]
          },
          "execution_count": 31,
          "metadata": {},
          "output_type": "execute_result"
        }
      ],
      "source": [
        "obj"
      ]
    },
    {
      "cell_type": "code",
      "execution_count": null,
      "id": "0fdd3aac-f5ec-4e41-84df-f6bcdddb01a0",
      "metadata": {
        "id": "0fdd3aac-f5ec-4e41-84df-f6bcdddb01a0",
        "outputId": "3cb57c60-7fe7-4570-f08c-6cbef3d04032"
      },
      "outputs": [
        {
          "name": "stdout",
          "output_type": "stream",
          "text": [
            "MyClass(5)\n"
          ]
        }
      ],
      "source": [
        "print(repr(obj))"
      ]
    },
    {
      "cell_type": "code",
      "execution_count": null,
      "id": "5ef86802-8ffa-4391-9440-c17102667308",
      "metadata": {
        "id": "5ef86802-8ffa-4391-9440-c17102667308",
        "outputId": "47c6a197-1acb-4818-8355-25e85aa72ceb"
      },
      "outputs": [
        {
          "data": {
            "text/plain": [
              "True"
            ]
          },
          "execution_count": 33,
          "metadata": {},
          "output_type": "execute_result"
        }
      ],
      "source": [
        "#__eq__\n",
        "True == True"
      ]
    },
    {
      "cell_type": "code",
      "execution_count": null,
      "id": "0c37a5c6-f077-4d84-bf83-542629d43678",
      "metadata": {
        "id": "0c37a5c6-f077-4d84-bf83-542629d43678",
        "outputId": "ed9298ce-6879-4a60-8954-86b7a683f54f"
      },
      "outputs": [
        {
          "data": {
            "text/plain": [
              "True"
            ]
          },
          "execution_count": 34,
          "metadata": {},
          "output_type": "execute_result"
        }
      ],
      "source": [
        "3 == 3"
      ]
    },
    {
      "cell_type": "code",
      "execution_count": null,
      "id": "267d8893-1887-4b2c-a8a5-a2c6958f5bb6",
      "metadata": {
        "id": "267d8893-1887-4b2c-a8a5-a2c6958f5bb6",
        "outputId": "31950491-1630-494f-f867-0c7452f311fd"
      },
      "outputs": [
        {
          "data": {
            "text/plain": [
              "True"
            ]
          },
          "execution_count": 35,
          "metadata": {},
          "output_type": "execute_result"
        }
      ],
      "source": [
        "a = 3\n",
        "b = 3\n",
        "a.__eq__(b)"
      ]
    },
    {
      "cell_type": "code",
      "execution_count": null,
      "id": "c4aaecf4-d904-40d7-b03e-1f9b3d00517a",
      "metadata": {
        "id": "c4aaecf4-d904-40d7-b03e-1f9b3d00517a"
      },
      "outputs": [],
      "source": [
        "#use case of this\n",
        "class Point:\n",
        "    def __init__(self, x, y):\n",
        "        self.x = x\n",
        "        self.y = y\n",
        "    def __eq__(self, other):\n",
        "        return self.x == other.x and self.y == other.y"
      ]
    },
    {
      "cell_type": "code",
      "execution_count": null,
      "id": "1835b969-af86-48c7-baf1-b85598e94841",
      "metadata": {
        "id": "1835b969-af86-48c7-baf1-b85598e94841",
        "outputId": "f819c584-9cb5-4eaa-cb65-7ca5313ed048"
      },
      "outputs": [
        {
          "name": "stdout",
          "output_type": "stream",
          "text": [
            "True\n"
          ]
        }
      ],
      "source": [
        "p1 = Point(1, 2)\n",
        "p2 = Point(1, 2)\n",
        "print(p1 == p2) #comparing both of the object\n",
        "##when you are using == operator with point Objects, python internally calls __add__"
      ]
    },
    {
      "cell_type": "code",
      "execution_count": null,
      "id": "c4befdde-9383-4230-99a5-f2cf14b3de60",
      "metadata": {
        "id": "c4befdde-9383-4230-99a5-f2cf14b3de60",
        "outputId": "d8962998-3f93-4f50-f7b2-dd6ee8c0827c"
      },
      "outputs": [
        {
          "name": "stdout",
          "output_type": "stream",
          "text": [
            "False\n"
          ]
        }
      ],
      "source": [
        "p1 = Point(3, 2)\n",
        "p2 = Point(1, 2)\n",
        "print(p1 == p2)"
      ]
    },
    {
      "cell_type": "code",
      "execution_count": null,
      "id": "749cbc40-647b-47bc-b0ba-769c134d04b1",
      "metadata": {
        "id": "749cbc40-647b-47bc-b0ba-769c134d04b1",
        "outputId": "4fe78021-c82b-49f8-8604-693de00be02f"
      },
      "outputs": [
        {
          "data": {
            "text/plain": [
              "8"
            ]
          },
          "execution_count": 39,
          "metadata": {},
          "output_type": "execute_result"
        }
      ],
      "source": [
        "#__add__\n",
        "a = 3\n",
        "b = 5\n",
        "a+b"
      ]
    },
    {
      "cell_type": "code",
      "execution_count": null,
      "id": "f8506c81-b1fd-4b1e-bbfc-4815601500b5",
      "metadata": {
        "id": "f8506c81-b1fd-4b1e-bbfc-4815601500b5"
      },
      "outputs": [],
      "source": [
        "class Point:\n",
        "    def __init__(self, x, y):\n",
        "        self.x = x\n",
        "        self.y = y\n",
        "    def __add__(self, other):\n",
        "        return Point(self.x + other.x,  self.y + other.y)"
      ]
    },
    {
      "cell_type": "code",
      "execution_count": null,
      "id": "862afedb-b675-4dc8-84e3-31bace47b3f8",
      "metadata": {
        "id": "862afedb-b675-4dc8-84e3-31bace47b3f8",
        "outputId": "2638fb4a-2bbc-49e9-f966-9fa790166320"
      },
      "outputs": [
        {
          "name": "stdout",
          "output_type": "stream",
          "text": [
            "2 4\n"
          ]
        }
      ],
      "source": [
        "p1 = Point(1, 2)\n",
        "p2 = Point(1, 2)\n",
        "p3 = p1+p2 #when you are using + operator with point Objects, python internally calls __add__\n",
        "print(p3.x, p3.y)"
      ]
    },
    {
      "cell_type": "code",
      "execution_count": null,
      "id": "f8d7450b-c96d-47dc-9ec7-3abbd22ee52c",
      "metadata": {
        "id": "f8d7450b-c96d-47dc-9ec7-3abbd22ee52c",
        "outputId": "34d59f3b-1ad7-45b4-d5de-8e4ac4566f36"
      },
      "outputs": [
        {
          "name": "stdout",
          "output_type": "stream",
          "text": [
            "6 10\n"
          ]
        }
      ],
      "source": [
        "p1 = Point(5, 2)\n",
        "p2 = Point(1, 8)\n",
        "p3 = p1+p2\n",
        "print(p3.x, p3.y)"
      ]
    },
    {
      "cell_type": "markdown",
      "source": [
        "DECORATORS"
      ],
      "metadata": {
        "id": "Ep4EeQxUttTy"
      },
      "id": "Ep4EeQxUttTy"
    },
    {
      "cell_type": "code",
      "execution_count": null,
      "id": "ac15fe3c-b2c7-426c-a3ca-022056304a95",
      "metadata": {
        "id": "ac15fe3c-b2c7-426c-a3ca-022056304a95"
      },
      "outputs": [],
      "source": [
        "#decorators>> allows to modify or extend the behaviour or functions/class without directly modifying their  original code\n",
        "#similar to you decorating your room (putting different lights, sticker, posters)>>extends/decorates the basic behaviour of room"
      ]
    },
    {
      "cell_type": "code",
      "source": [
        "#function decorators and class decorators\n",
        "\n",
        "#function decorators"
      ],
      "metadata": {
        "id": "8SP9caXCtyxm"
      },
      "id": "8SP9caXCtyxm",
      "execution_count": null,
      "outputs": []
    },
    {
      "cell_type": "code",
      "source": [
        "def my_decorator_func():\n",
        "    print(\"The line before computation.\")\n",
        "    print(11*1200) #decorating the actual computation with line above and line below\n",
        "    print(\"The line after computation\")\n",
        "#In the above approach you have to write all the line as many times as you are creating the different functions\n",
        "#lets see the decorator approach"
      ],
      "metadata": {
        "id": "imyKquT-t1kt"
      },
      "id": "imyKquT-t1kt",
      "execution_count": 2,
      "outputs": []
    },
    {
      "cell_type": "code",
      "source": [
        "my_decorator_func()"
      ],
      "metadata": {
        "id": "IF_62LwFt40d",
        "outputId": "f1ae7534-4042-4828-8586-5c496703535d",
        "colab": {
          "base_uri": "https://localhost:8080/"
        }
      },
      "id": "IF_62LwFt40d",
      "execution_count": 3,
      "outputs": [
        {
          "output_type": "stream",
          "name": "stdout",
          "text": [
            "The line before computation.\n",
            "13200\n",
            "The line after computation\n"
          ]
        }
      ]
    },
    {
      "cell_type": "code",
      "source": [
        "#decorator approach for functions>>use case 1\n",
        "def my_decorator(func): #decorator function that takes another func as arguement\n",
        "    def wrapper(): #wrapper is a nested function that adds the functionality before and after calling original func func\n",
        "        print(\"The line before computation.\")\n",
        "        func() #say_hello which is the func here will be executed here\n",
        "        print(\"The line after computation\")\n",
        "    return wrapper"
      ],
      "metadata": {
        "id": "BPyVQejtt9X0"
      },
      "id": "BPyVQejtt9X0",
      "execution_count": 4,
      "outputs": []
    },
    {
      "cell_type": "code",
      "source": [
        "@my_decorator #syntax to decorate the say hello function\n",
        "def say_hello():\n",
        "    print(\"Hello\")"
      ],
      "metadata": {
        "id": "nBjt_HQquFZM"
      },
      "id": "nBjt_HQquFZM",
      "execution_count": 6,
      "outputs": []
    },
    {
      "cell_type": "code",
      "source": [
        "say_hello()\n",
        "#when say_hello is called, it is actually first calling the decorator function>>\n",
        "#which in return is calling wrapper function and then wrapped function is printing the line\n",
        "#and callig the say_hello function"
      ],
      "metadata": {
        "id": "Eh5wJ3GCuKTI",
        "outputId": "081c149b-2c58-4682-8142-a54a7a1affed",
        "colab": {
          "base_uri": "https://localhost:8080/"
        }
      },
      "id": "Eh5wJ3GCuKTI",
      "execution_count": 7,
      "outputs": [
        {
          "output_type": "stream",
          "name": "stdout",
          "text": [
            "The line before computation.\n",
            "Hello\n",
            "The line after computation\n"
          ]
        }
      ]
    },
    {
      "cell_type": "code",
      "source": [
        "#another use case of function decorator\n",
        "#run time of a code\n",
        "\n",
        "import time\n",
        "def timer_decorator(func):\n",
        "    def timer():\n",
        "        start = time.time()\n",
        "        func()\n",
        "        end = time.time()\n",
        "        print(\"The time for executing the code\", end-start)\n",
        "    return timer"
      ],
      "metadata": {
        "id": "hylvWvWMuK0Z"
      },
      "id": "hylvWvWMuK0Z",
      "execution_count": 8,
      "outputs": []
    },
    {
      "cell_type": "code",
      "source": [
        "@timer_decorator\n",
        "def func_test():\n",
        "    print(1100000*1000)"
      ],
      "metadata": {
        "id": "Oy2xHJFHuP_P"
      },
      "id": "Oy2xHJFHuP_P",
      "execution_count": 9,
      "outputs": []
    },
    {
      "cell_type": "code",
      "source": [
        "func_test()"
      ],
      "metadata": {
        "id": "tJicdSkTuSWk",
        "outputId": "bcd8398b-e9ee-40d5-97b6-0405f9ccc618",
        "colab": {
          "base_uri": "https://localhost:8080/"
        }
      },
      "id": "tJicdSkTuSWk",
      "execution_count": 10,
      "outputs": [
        {
          "output_type": "stream",
          "name": "stdout",
          "text": [
            "1100000000\n",
            "The time for executing the code 5.3882598876953125e-05\n"
          ]
        }
      ]
    },
    {
      "cell_type": "code",
      "source": [
        "@timer_decorator\n",
        "def func_test1():\n",
        "    print(1100000 + 1000* 231)\n",
        "\n",
        "func_test1()"
      ],
      "metadata": {
        "id": "gjNIIctBuU6W",
        "outputId": "e6e77b4c-8aec-48e5-ef46-312719c8ddfe",
        "colab": {
          "base_uri": "https://localhost:8080/"
        }
      },
      "id": "gjNIIctBuU6W",
      "execution_count": 11,
      "outputs": [
        {
          "output_type": "stream",
          "name": "stdout",
          "text": [
            "1331000\n",
            "The time for executing the code 6.151199340820312e-05\n"
          ]
        }
      ]
    },
    {
      "cell_type": "code",
      "source": [
        "#why do need decorators?\n",
        "#reusability of code >> reuse the common code\n",
        "#enhancing the function without modifying the original function\n",
        "#use cases>> execution time of code, logging, caching, validation"
      ],
      "metadata": {
        "id": "YUWc5CGpuXib"
      },
      "id": "YUWc5CGpuXib",
      "execution_count": null,
      "outputs": []
    },
    {
      "cell_type": "code",
      "source": [
        "#class decorators>>\n",
        "class MyDecorator:\n",
        "    def __init__(self, func): #similar to function decorator you are passing func in class decorator\n",
        "        self.func=func\n",
        "        print(\"Inside the init method\")\n",
        "    def __call__(self):\n",
        "        print(\"Something is happening before function.\")\n",
        "        self.func()\n",
        "        print(\"Something is happening after function.\")\n",
        ""
      ],
      "metadata": {
        "id": "lacZ4vHPud7X"
      },
      "id": "lacZ4vHPud7X",
      "execution_count": 12,
      "outputs": []
    },
    {
      "cell_type": "code",
      "source": [
        "@MyDecorator #class __call__ will be executed as the object if the class will be called as function>> so first __init__ and then __call__method will be executed\n",
        "def say_hello():\n",
        "    print(\"Hello\")\n",
        "say_hello()"
      ],
      "metadata": {
        "id": "eIQFsF6auhlH",
        "outputId": "5e83534c-2262-4344-f83b-69169c1f271e",
        "colab": {
          "base_uri": "https://localhost:8080/"
        }
      },
      "id": "eIQFsF6auhlH",
      "execution_count": 13,
      "outputs": [
        {
          "output_type": "stream",
          "name": "stdout",
          "text": [
            "Inside the init method\n",
            "Something is happening before function.\n",
            "Hello\n",
            "Something is happening after function.\n"
          ]
        }
      ]
    },
    {
      "cell_type": "code",
      "source": [
        "class MyDecorator:\n",
        "    def __init__(self): #similar to function decorator you are passing func in class decorator\n",
        "        # self.func=func\n",
        "        print(\"Inside the init method\")\n",
        "    def __call__(self):\n",
        "        print(\"Something is happening before function.\")\n",
        "        # self.func()\n",
        "        print(\"Something is happening after function.\")"
      ],
      "metadata": {
        "id": "C1znro5nui7Z"
      },
      "id": "C1znro5nui7Z",
      "execution_count": 16,
      "outputs": []
    },
    {
      "cell_type": "code",
      "source": [
        "obj1 = MyDecorator() #when you make an object of the class, init is executed first"
      ],
      "metadata": {
        "id": "_uIld7lZum3E",
        "outputId": "2fa4e264-dde7-4b5f-9d53-2c99b2d595ee",
        "colab": {
          "base_uri": "https://localhost:8080/"
        }
      },
      "id": "_uIld7lZum3E",
      "execution_count": 17,
      "outputs": [
        {
          "output_type": "stream",
          "name": "stdout",
          "text": [
            "Inside the init method\n"
          ]
        }
      ]
    },
    {
      "cell_type": "code",
      "source": [
        "obj1() #when you call an object of a class as function __call__ method will be invoked"
      ],
      "metadata": {
        "id": "rAaMheZ5uz9s",
        "outputId": "e2d71238-11ed-4883-e4fe-4a4bd2494f6b",
        "colab": {
          "base_uri": "https://localhost:8080/"
        }
      },
      "id": "rAaMheZ5uz9s",
      "execution_count": 18,
      "outputs": [
        {
          "output_type": "stream",
          "name": "stdout",
          "text": [
            "Something is happening before function.\n",
            "Something is happening after function.\n"
          ]
        }
      ]
    },
    {
      "cell_type": "code",
      "source": [
        "#some inbuilt decorators >> details in the next class\n",
        "#@classmethod >> The method that takes the class itself as the first argument"
      ],
      "metadata": {
        "id": "lvC0Ucymu2t6"
      },
      "id": "lvC0Ucymu2t6",
      "execution_count": null,
      "outputs": []
    },
    {
      "cell_type": "code",
      "source": [
        "class Math:\n",
        "    @classmethod #takes reference to the class itself to modify and access class level attributes\n",
        "    def add(cls, x, y):\n",
        "        return cls.__name__, x + y  #cls.__name__>> class Math"
      ],
      "metadata": {
        "id": "TcSW8UCZu-T3"
      },
      "id": "TcSW8UCZu-T3",
      "execution_count": 19,
      "outputs": []
    },
    {
      "cell_type": "code",
      "source": [
        "#you dontt need any init method to take data\n",
        "Math.add(3, 5)"
      ],
      "metadata": {
        "id": "ixUfIz0Zu-3U",
        "outputId": "d769686f-5c94-4251-b029-4e3f28123d7b",
        "colab": {
          "base_uri": "https://localhost:8080/"
        }
      },
      "id": "ixUfIz0Zu-3U",
      "execution_count": 20,
      "outputs": [
        {
          "output_type": "execute_result",
          "data": {
            "text/plain": [
              "('Math', 8)"
            ]
          },
          "metadata": {},
          "execution_count": 20
        }
      ]
    },
    {
      "cell_type": "code",
      "source": [
        "#class method is bound to class and not the instance of the class,\n",
        "#class itsef as the first argument>> conventionally cls"
      ],
      "metadata": {
        "id": "aZ47RxCDvBGI"
      },
      "id": "aZ47RxCDvBGI",
      "execution_count": null,
      "outputs": []
    },
    {
      "cell_type": "code",
      "source": [
        "#next inbuild decorator is static method\n",
        "#static method>> the method which can be called without creating any instance of class, adn without using self or self"
      ],
      "metadata": {
        "id": "77xBSr2KvFsd"
      },
      "id": "77xBSr2KvFsd",
      "execution_count": null,
      "outputs": []
    },
    {
      "cell_type": "code",
      "source": [
        "#earlier\n",
        "class Math:\n",
        "    def add(self, x, y):\n",
        "        return x+y"
      ],
      "metadata": {
        "id": "JaafU4j5vIg3"
      },
      "id": "JaafU4j5vIg3",
      "execution_count": 21,
      "outputs": []
    },
    {
      "cell_type": "code",
      "source": [
        "a = Math() #make object/instance"
      ],
      "metadata": {
        "id": "VFaqXYD3vJJC"
      },
      "id": "VFaqXYD3vJJC",
      "execution_count": 22,
      "outputs": []
    },
    {
      "cell_type": "code",
      "source": [
        "a.add(2, 3) #this is the way to call regular class method"
      ],
      "metadata": {
        "id": "tEq8TZVbvLKn",
        "outputId": "8fbe50dd-ec05-4a7c-e958-177ec04170dc",
        "colab": {
          "base_uri": "https://localhost:8080/"
        }
      },
      "id": "tEq8TZVbvLKn",
      "execution_count": 23,
      "outputs": [
        {
          "output_type": "execute_result",
          "data": {
            "text/plain": [
              "5"
            ]
          },
          "metadata": {},
          "execution_count": 23
        }
      ]
    },
    {
      "cell_type": "code",
      "source": [
        "#use of static method\n",
        "class Math:\n",
        "    @staticmethod\n",
        "    def add(x, y): #no need of self or cls\n",
        "        return x+y"
      ],
      "metadata": {
        "id": "dm32N3n5vNcw"
      },
      "id": "dm32N3n5vNcw",
      "execution_count": 24,
      "outputs": []
    },
    {
      "cell_type": "code",
      "source": [
        "Math.add(2, 3) #no need of making any object"
      ],
      "metadata": {
        "id": "Q2YedC0lvQFL",
        "outputId": "961a5c8b-03a2-4b16-b59e-ed4bf87c76e3",
        "colab": {
          "base_uri": "https://localhost:8080/"
        }
      },
      "id": "Q2YedC0lvQFL",
      "execution_count": 25,
      "outputs": [
        {
          "output_type": "execute_result",
          "data": {
            "text/plain": [
              "5"
            ]
          },
          "metadata": {},
          "execution_count": 25
        }
      ]
    },
    {
      "cell_type": "code",
      "source": [
        "#class method to be used when you want to modify class level data\n",
        "#static method>> when you dont want to interact with class level data"
      ],
      "metadata": {
        "id": "JiLCIN_XvSDa"
      },
      "id": "JiLCIN_XvSDa",
      "execution_count": null,
      "outputs": []
    },
    {
      "cell_type": "code",
      "source": [
        "#property decorator>>It allows method to be accessed as attribute"
      ],
      "metadata": {
        "id": "TvKRylMivWq9"
      },
      "id": "TvKRylMivWq9",
      "execution_count": null,
      "outputs": []
    },
    {
      "cell_type": "code",
      "source": [
        "class Circle:\n",
        "    def __init__(self, radius):\n",
        "        self.radius = radius"
      ],
      "metadata": {
        "id": "SldS-gMEvZBw"
      },
      "id": "SldS-gMEvZBw",
      "execution_count": 26,
      "outputs": []
    },
    {
      "cell_type": "code",
      "source": [
        "obj = Circle(5)"
      ],
      "metadata": {
        "id": "rnbD7DcZvaCd"
      },
      "id": "rnbD7DcZvaCd",
      "execution_count": 27,
      "outputs": []
    },
    {
      "cell_type": "code",
      "source": [
        "obj.radius #accessing data/attibute"
      ],
      "metadata": {
        "id": "p3UEhIVyvcBY",
        "outputId": "93b74e49-28bc-4786-ec7d-4f4cb4ac81fe",
        "colab": {
          "base_uri": "https://localhost:8080/"
        }
      },
      "id": "p3UEhIVyvcBY",
      "execution_count": 28,
      "outputs": [
        {
          "output_type": "execute_result",
          "data": {
            "text/plain": [
              "5"
            ]
          },
          "metadata": {},
          "execution_count": 28
        }
      ]
    },
    {
      "cell_type": "code",
      "source": [
        "class Circle:\n",
        "    def __init__(self, radius):\n",
        "        self.radius = radius\n",
        "    def area(self):\n",
        "        radius = self.radius\n",
        "        return 3.14*radius**2"
      ],
      "metadata": {
        "id": "URUDBiOhveG9"
      },
      "id": "URUDBiOhveG9",
      "execution_count": 29,
      "outputs": []
    },
    {
      "cell_type": "code",
      "source": [
        "obj = Circle(5)\n",
        "obj.radius"
      ],
      "metadata": {
        "id": "TN0x47a7vgXf",
        "outputId": "fbb86b6c-0c4c-47df-a755-80349d3c644a",
        "colab": {
          "base_uri": "https://localhost:8080/"
        }
      },
      "id": "TN0x47a7vgXf",
      "execution_count": 30,
      "outputs": [
        {
          "output_type": "execute_result",
          "data": {
            "text/plain": [
              "5"
            ]
          },
          "metadata": {},
          "execution_count": 30
        }
      ]
    },
    {
      "cell_type": "code",
      "source": [
        "obj.area() #earlier"
      ],
      "metadata": {
        "id": "txmBM2aPvii4",
        "outputId": "05845230-a6b7-43fd-ca8e-5d7c0548ffc2",
        "colab": {
          "base_uri": "https://localhost:8080/"
        }
      },
      "id": "txmBM2aPvii4",
      "execution_count": 31,
      "outputs": [
        {
          "output_type": "execute_result",
          "data": {
            "text/plain": [
              "78.5"
            ]
          },
          "metadata": {},
          "execution_count": 31
        }
      ]
    },
    {
      "cell_type": "code",
      "source": [
        "#using proertu decorator\n",
        "class Circle:\n",
        "    def __init__(self, radius):\n",
        "        self.radius = radius\n",
        "    @property\n",
        "    def area(self):\n",
        "        radius = self.radius\n",
        "        return 3.14*radius**2"
      ],
      "metadata": {
        "id": "8q7VV4UWvlUr"
      },
      "id": "8q7VV4UWvlUr",
      "execution_count": 32,
      "outputs": []
    },
    {
      "cell_type": "code",
      "source": [
        "obj1 = Circle(5)\n",
        "obj1.area #no need of parenthis"
      ],
      "metadata": {
        "id": "F8vQBztDvnaz",
        "outputId": "e1657756-8c10-4552-ed17-97e49829f021",
        "colab": {
          "base_uri": "https://localhost:8080/"
        }
      },
      "id": "F8vQBztDvnaz",
      "execution_count": 33,
      "outputs": [
        {
          "output_type": "execute_result",
          "data": {
            "text/plain": [
              "78.5"
            ]
          },
          "metadata": {},
          "execution_count": 33
        }
      ]
    },
    {
      "cell_type": "markdown",
      "source": [
        "PROPERTY DECORATORS"
      ],
      "metadata": {
        "id": "j27s1xCMvy56"
      },
      "id": "j27s1xCMvy56"
    },
    {
      "cell_type": "code",
      "source": [
        "#property decorators >> you are allowed to use class method as an attribute"
      ],
      "metadata": {
        "id": "0uHJBC3cvqXh"
      },
      "id": "0uHJBC3cvqXh",
      "execution_count": null,
      "outputs": []
    },
    {
      "cell_type": "code",
      "source": [
        "class Student:\n",
        "    def __init__(self, name, price):\n",
        "        self.__name = name\n",
        "        self.__price = price"
      ],
      "metadata": {
        "id": "tdeCGgNkv5C1"
      },
      "id": "tdeCGgNkv5C1",
      "execution_count": 34,
      "outputs": []
    },
    {
      "cell_type": "code",
      "source": [
        "#here name and price are private variables which you will not be able to acces from outside the class\n",
        "stud = Student(\"Ajay\", 3000)"
      ],
      "metadata": {
        "id": "K4GW7vDJv7F3"
      },
      "id": "K4GW7vDJv7F3",
      "execution_count": 35,
      "outputs": []
    },
    {
      "cell_type": "code",
      "source": [
        "stud.name #error as name and price private variables"
      ],
      "metadata": {
        "id": "fPqRCmkFv-0p",
        "outputId": "ad65d0f0-94d6-42d2-d764-a900851cfc28",
        "colab": {
          "base_uri": "https://localhost:8080/",
          "height": 141
        }
      },
      "id": "fPqRCmkFv-0p",
      "execution_count": 36,
      "outputs": [
        {
          "output_type": "error",
          "ename": "AttributeError",
          "evalue": "'Student' object has no attribute 'name'",
          "traceback": [
            "\u001b[0;31m---------------------------------------------------------------------------\u001b[0m",
            "\u001b[0;31mAttributeError\u001b[0m                            Traceback (most recent call last)",
            "\u001b[0;32m/tmp/ipython-input-1983505003.py\u001b[0m in \u001b[0;36m<cell line: 0>\u001b[0;34m()\u001b[0m\n\u001b[0;32m----> 1\u001b[0;31m \u001b[0mstud\u001b[0m\u001b[0;34m.\u001b[0m\u001b[0mname\u001b[0m \u001b[0;31m#error as name and price private variables\u001b[0m\u001b[0;34m\u001b[0m\u001b[0;34m\u001b[0m\u001b[0m\n\u001b[0m",
            "\u001b[0;31mAttributeError\u001b[0m: 'Student' object has no attribute 'name'"
          ]
        }
      ]
    },
    {
      "cell_type": "code",
      "source": [
        "#still you can access private variable if you know structure of the class\n",
        "stud._Student__name #using class name and exact variable name"
      ],
      "metadata": {
        "id": "yyOpGGX1wBQ1",
        "outputId": "01bd9e17-403c-4c88-fd90-a569f7842584",
        "colab": {
          "base_uri": "https://localhost:8080/",
          "height": 36
        }
      },
      "id": "yyOpGGX1wBQ1",
      "execution_count": 37,
      "outputs": [
        {
          "output_type": "execute_result",
          "data": {
            "text/plain": [
              "'Ajay'"
            ],
            "application/vnd.google.colaboratory.intrinsic+json": {
              "type": "string"
            }
          },
          "metadata": {},
          "execution_count": 37
        }
      ]
    },
    {
      "cell_type": "code",
      "source": [
        "#another way to expose private variables using property decorators\n",
        "\n",
        "class Student:\n",
        "    def __init__(self, name, price):\n",
        "        self.__name = name\n",
        "        self.__price = price\n",
        "    @property\n",
        "    def access_price(self):\n",
        "        return self.__price"
      ],
      "metadata": {
        "id": "iP8IjsfwwD55"
      },
      "id": "iP8IjsfwwD55",
      "execution_count": 38,
      "outputs": []
    },
    {
      "cell_type": "code",
      "source": [
        "stud = Student(\"Ajay\", 5000)"
      ],
      "metadata": {
        "id": "LIPf3swfwF8c"
      },
      "id": "LIPf3swfwF8c",
      "execution_count": 39,
      "outputs": []
    },
    {
      "cell_type": "code",
      "source": [
        "stud.access_price"
      ],
      "metadata": {
        "id": "xuFuLomdwIJ-",
        "outputId": "7834ede4-29ca-4fd3-9b5c-a917860d8029",
        "colab": {
          "base_uri": "https://localhost:8080/"
        }
      },
      "id": "xuFuLomdwIJ-",
      "execution_count": 40,
      "outputs": [
        {
          "output_type": "execute_result",
          "data": {
            "text/plain": [
              "5000"
            ]
          },
          "metadata": {},
          "execution_count": 40
        }
      ]
    },
    {
      "cell_type": "code",
      "source": [
        "#you want to modify the price\n",
        "class Student:\n",
        "    def __init__(self, name, price):\n",
        "        self.__name = name\n",
        "        self.__price = price\n",
        "\n",
        "    @property\n",
        "    def access_price(self):\n",
        "        return self.__price\n",
        "\n",
        "    @access_price.setter\n",
        "    def price_set(self, price_new):\n",
        "        self.__price = price_new"
      ],
      "metadata": {
        "id": "1N6UsybSwKf5"
      },
      "id": "1N6UsybSwKf5",
      "execution_count": 41,
      "outputs": []
    },
    {
      "cell_type": "code",
      "source": [
        "stud = Student(\"Ajay\", 5000)"
      ],
      "metadata": {
        "id": "7OEC5RTZwRtB"
      },
      "id": "7OEC5RTZwRtB",
      "execution_count": 42,
      "outputs": []
    },
    {
      "cell_type": "code",
      "source": [
        "stud.access_price"
      ],
      "metadata": {
        "id": "iJzhRcptwU62",
        "outputId": "2d97b008-0317-46f7-e282-a1db56eb7941",
        "colab": {
          "base_uri": "https://localhost:8080/"
        }
      },
      "id": "iJzhRcptwU62",
      "execution_count": 43,
      "outputs": [
        {
          "output_type": "execute_result",
          "data": {
            "text/plain": [
              "5000"
            ]
          },
          "metadata": {},
          "execution_count": 43
        }
      ]
    },
    {
      "cell_type": "code",
      "source": [
        "stud.price_set = 1500"
      ],
      "metadata": {
        "id": "SmvJ_azBwXXE"
      },
      "id": "SmvJ_azBwXXE",
      "execution_count": 44,
      "outputs": []
    },
    {
      "cell_type": "code",
      "source": [
        "stud.access_price"
      ],
      "metadata": {
        "id": "lrB9RUEKwZTm",
        "outputId": "25503d18-49a9-4d39-a096-ce362bece2a8",
        "colab": {
          "base_uri": "https://localhost:8080/"
        }
      },
      "id": "lrB9RUEKwZTm",
      "execution_count": 45,
      "outputs": [
        {
          "output_type": "execute_result",
          "data": {
            "text/plain": [
              "1500"
            ]
          },
          "metadata": {},
          "execution_count": 45
        }
      ]
    },
    {
      "cell_type": "code",
      "source": [
        "#delete a variable\n",
        "\n",
        "class Student:\n",
        "    def __init__(self, name, price):\n",
        "        self.__name = name\n",
        "        self.__price = price\n",
        "\n",
        "    @property\n",
        "    def access_price(self):\n",
        "        return self.__price\n",
        "\n",
        "    @access_price.setter\n",
        "    def access_price(self, price_new):\n",
        "        self.__price = price_new\n",
        "\n",
        "    @access_price.deleter\n",
        "    def access_price(self):\n",
        "        del self.__price"
      ],
      "metadata": {
        "id": "XJWT_RVxwbxe"
      },
      "id": "XJWT_RVxwbxe",
      "execution_count": 46,
      "outputs": []
    },
    {
      "cell_type": "code",
      "source": [
        "stud = Student(\"Ajay\", 15000)"
      ],
      "metadata": {
        "id": "RIsEnsSywghq"
      },
      "id": "RIsEnsSywghq",
      "execution_count": 47,
      "outputs": []
    },
    {
      "cell_type": "code",
      "source": [
        "stud.access_price"
      ],
      "metadata": {
        "id": "MRCuTMWHwjxS",
        "outputId": "d33dcebd-afca-440a-82f3-b8db9ec38bfe",
        "colab": {
          "base_uri": "https://localhost:8080/"
        }
      },
      "id": "MRCuTMWHwjxS",
      "execution_count": 48,
      "outputs": [
        {
          "output_type": "execute_result",
          "data": {
            "text/plain": [
              "15000"
            ]
          },
          "metadata": {},
          "execution_count": 48
        }
      ]
    },
    {
      "cell_type": "code",
      "source": [
        "stud.price_set = 20000"
      ],
      "metadata": {
        "id": "koYESVRVwmQD"
      },
      "id": "koYESVRVwmQD",
      "execution_count": 49,
      "outputs": []
    },
    {
      "cell_type": "code",
      "source": [
        "stud.access_price"
      ],
      "metadata": {
        "id": "UOhOsXz8wooE",
        "outputId": "46dbb712-4bd1-43a7-f239-d764444a6666",
        "colab": {
          "base_uri": "https://localhost:8080/"
        }
      },
      "id": "UOhOsXz8wooE",
      "execution_count": 50,
      "outputs": [
        {
          "output_type": "execute_result",
          "data": {
            "text/plain": [
              "15000"
            ]
          },
          "metadata": {},
          "execution_count": 50
        }
      ]
    },
    {
      "cell_type": "code",
      "source": [
        "del stud.access_price"
      ],
      "metadata": {
        "id": "rrEOSiCMwqzq"
      },
      "id": "rrEOSiCMwqzq",
      "execution_count": 51,
      "outputs": []
    },
    {
      "cell_type": "code",
      "source": [
        "stud.access_price"
      ],
      "metadata": {
        "id": "lCU9Enxgws4-",
        "outputId": "c787d5b9-db67-477c-f669-2910371be7be",
        "colab": {
          "base_uri": "https://localhost:8080/",
          "height": 263
        }
      },
      "id": "lCU9Enxgws4-",
      "execution_count": 52,
      "outputs": [
        {
          "output_type": "error",
          "ename": "AttributeError",
          "evalue": "'Student' object has no attribute '_Student__price'",
          "traceback": [
            "\u001b[0;31m---------------------------------------------------------------------------\u001b[0m",
            "\u001b[0;31mAttributeError\u001b[0m                            Traceback (most recent call last)",
            "\u001b[0;32m/tmp/ipython-input-592882502.py\u001b[0m in \u001b[0;36m<cell line: 0>\u001b[0;34m()\u001b[0m\n\u001b[0;32m----> 1\u001b[0;31m \u001b[0mstud\u001b[0m\u001b[0;34m.\u001b[0m\u001b[0maccess_price\u001b[0m\u001b[0;34m\u001b[0m\u001b[0;34m\u001b[0m\u001b[0m\n\u001b[0m",
            "\u001b[0;32m/tmp/ipython-input-605131909.py\u001b[0m in \u001b[0;36maccess_price\u001b[0;34m(self)\u001b[0m\n\u001b[1;32m      8\u001b[0m     \u001b[0;34m@\u001b[0m\u001b[0mproperty\u001b[0m\u001b[0;34m\u001b[0m\u001b[0;34m\u001b[0m\u001b[0m\n\u001b[1;32m      9\u001b[0m     \u001b[0;32mdef\u001b[0m \u001b[0maccess_price\u001b[0m\u001b[0;34m(\u001b[0m\u001b[0mself\u001b[0m\u001b[0;34m)\u001b[0m\u001b[0;34m:\u001b[0m\u001b[0;34m\u001b[0m\u001b[0;34m\u001b[0m\u001b[0m\n\u001b[0;32m---> 10\u001b[0;31m         \u001b[0;32mreturn\u001b[0m \u001b[0mself\u001b[0m\u001b[0;34m.\u001b[0m\u001b[0m__price\u001b[0m\u001b[0;34m\u001b[0m\u001b[0;34m\u001b[0m\u001b[0m\n\u001b[0m\u001b[1;32m     11\u001b[0m \u001b[0;34m\u001b[0m\u001b[0m\n\u001b[1;32m     12\u001b[0m     \u001b[0;34m@\u001b[0m\u001b[0maccess_price\u001b[0m\u001b[0;34m.\u001b[0m\u001b[0msetter\u001b[0m\u001b[0;34m\u001b[0m\u001b[0;34m\u001b[0m\u001b[0m\n",
            "\u001b[0;31mAttributeError\u001b[0m: 'Student' object has no attribute '_Student__price'"
          ]
        }
      ]
    },
    {
      "cell_type": "code",
      "source": [
        "#use case\n",
        "class Circle:\n",
        "    def __init__(self, radius):\n",
        "        self.__radius = radius\n",
        "\n",
        "    @property\n",
        "    def radius(self):\n",
        "        return self.__radius"
      ],
      "metadata": {
        "id": "4uh2GK8kwu0K"
      },
      "id": "4uh2GK8kwu0K",
      "execution_count": 53,
      "outputs": []
    },
    {
      "cell_type": "code",
      "source": [
        "c = Circle(5)"
      ],
      "metadata": {
        "id": "pBc3v8CGwxy6"
      },
      "id": "pBc3v8CGwxy6",
      "execution_count": 54,
      "outputs": []
    },
    {
      "cell_type": "code",
      "source": [
        "c.radius"
      ],
      "metadata": {
        "id": "-g7AcEYSwzx-",
        "outputId": "e5921f73-8e14-4be7-8fe3-83046cd063ca",
        "colab": {
          "base_uri": "https://localhost:8080/"
        }
      },
      "id": "-g7AcEYSwzx-",
      "execution_count": 55,
      "outputs": [
        {
          "output_type": "execute_result",
          "data": {
            "text/plain": [
              "5"
            ]
          },
          "metadata": {},
          "execution_count": 55
        }
      ]
    },
    {
      "cell_type": "code",
      "source": [
        "class Circle:\n",
        "    def __init__(self, radius):\n",
        "        self.__radius = radius\n",
        "\n",
        "    @property\n",
        "    def radius(self):\n",
        "        return self.__radius\n",
        "    @radius.setter\n",
        "    def radius(self, value):\n",
        "        if value <= 0:\n",
        "            raise ValueError(\"Radius is not positive\")\n",
        "        self.__radius = value\n",
        "    def area(self):\n",
        "        return 3.14*self.__radius*self.__radius"
      ],
      "metadata": {
        "id": "U7GuU_5kw1ih"
      },
      "id": "U7GuU_5kw1ih",
      "execution_count": 56,
      "outputs": []
    },
    {
      "cell_type": "code",
      "source": [
        "c = Circle(5)"
      ],
      "metadata": {
        "id": "1eHBX6V_w4Td"
      },
      "id": "1eHBX6V_w4Td",
      "execution_count": 57,
      "outputs": []
    },
    {
      "cell_type": "code",
      "source": [
        "c.radius"
      ],
      "metadata": {
        "id": "vemSUy-4w6w0",
        "outputId": "857bdd10-a4cd-4fd3-d237-242fc7f422e7",
        "colab": {
          "base_uri": "https://localhost:8080/"
        }
      },
      "id": "vemSUy-4w6w0",
      "execution_count": 58,
      "outputs": [
        {
          "output_type": "execute_result",
          "data": {
            "text/plain": [
              "5"
            ]
          },
          "metadata": {},
          "execution_count": 58
        }
      ]
    },
    {
      "cell_type": "code",
      "source": [
        "c.radius=10"
      ],
      "metadata": {
        "id": "8fkn-cPdw8pQ"
      },
      "id": "8fkn-cPdw8pQ",
      "execution_count": 59,
      "outputs": []
    },
    {
      "cell_type": "code",
      "source": [
        "c.radius"
      ],
      "metadata": {
        "id": "az6mb8U9w-YO",
        "outputId": "6c06b82a-fd9a-44e9-ff1b-0bedf6e25f33",
        "colab": {
          "base_uri": "https://localhost:8080/"
        }
      },
      "id": "az6mb8U9w-YO",
      "execution_count": 60,
      "outputs": [
        {
          "output_type": "execute_result",
          "data": {
            "text/plain": [
              "10"
            ]
          },
          "metadata": {},
          "execution_count": 60
        }
      ]
    },
    {
      "cell_type": "code",
      "source": [
        "c.area()"
      ],
      "metadata": {
        "id": "XMh4FAi_xAIl",
        "outputId": "eae1af50-a0bf-4c0b-ae46-bee5a4fcb0b2",
        "colab": {
          "base_uri": "https://localhost:8080/"
        }
      },
      "id": "XMh4FAi_xAIl",
      "execution_count": 61,
      "outputs": [
        {
          "output_type": "execute_result",
          "data": {
            "text/plain": [
              "314.0"
            ]
          },
          "metadata": {},
          "execution_count": 61
        }
      ]
    },
    {
      "cell_type": "code",
      "source": [
        "class Circle:\n",
        "    def __init__(self, radius):\n",
        "        self.__radius = radius\n",
        "\n",
        "    @property\n",
        "    def radius(self):\n",
        "        return self.__radius\n",
        "    @radius.setter\n",
        "    def radius(self, value):\n",
        "        if value <= 0:\n",
        "            raise ValueError(\"Radius is not positive\")\n",
        "        self.__radius = value\n",
        "    @radius.deleter\n",
        "    def radius(self):\n",
        "        del self.__radius\n",
        "    def area(self):\n",
        "        return 3.14*self.__radius*self.__radius"
      ],
      "metadata": {
        "id": "1yiQH8IIxChb"
      },
      "id": "1yiQH8IIxChb",
      "execution_count": 62,
      "outputs": []
    },
    {
      "cell_type": "code",
      "source": [
        "c = Circle(5)\n",
        "c.area()"
      ],
      "metadata": {
        "id": "NPkF7yEqxEvA",
        "outputId": "5c49df06-6dee-4aa2-e420-6ee87174f05f",
        "colab": {
          "base_uri": "https://localhost:8080/"
        }
      },
      "id": "NPkF7yEqxEvA",
      "execution_count": 63,
      "outputs": [
        {
          "output_type": "execute_result",
          "data": {
            "text/plain": [
              "78.5"
            ]
          },
          "metadata": {},
          "execution_count": 63
        }
      ]
    },
    {
      "cell_type": "code",
      "source": [
        "c.radius"
      ],
      "metadata": {
        "id": "VvPTqEX9xHe5",
        "outputId": "f6ce7ebc-41e7-4a47-db26-43b7b33b9a30",
        "colab": {
          "base_uri": "https://localhost:8080/"
        }
      },
      "id": "VvPTqEX9xHe5",
      "execution_count": 64,
      "outputs": [
        {
          "output_type": "execute_result",
          "data": {
            "text/plain": [
              "5"
            ]
          },
          "metadata": {},
          "execution_count": 64
        }
      ]
    },
    {
      "cell_type": "code",
      "source": [],
      "metadata": {
        "id": "rHd-Fo0qxJVZ"
      },
      "id": "rHd-Fo0qxJVZ",
      "execution_count": null,
      "outputs": []
    }
  ],
  "metadata": {
    "kernelspec": {
      "display_name": "Python 3 (ipykernel)",
      "language": "python",
      "name": "python3"
    },
    "language_info": {
      "codemirror_mode": {
        "name": "ipython",
        "version": 3
      },
      "file_extension": ".py",
      "mimetype": "text/x-python",
      "name": "python",
      "nbconvert_exporter": "python",
      "pygments_lexer": "ipython3",
      "version": "3.10.8"
    },
    "colab": {
      "provenance": []
    }
  },
  "nbformat": 4,
  "nbformat_minor": 5
}