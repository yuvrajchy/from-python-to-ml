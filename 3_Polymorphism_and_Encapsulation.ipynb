{
  "cells": [
    {
      "cell_type": "code",
      "execution_count": null,
      "id": "96f7aee6-c617-487b-95d2-31dadfcb5663",
      "metadata": {
        "id": "96f7aee6-c617-487b-95d2-31dadfcb5663"
      },
      "outputs": [],
      "source": [
        "#polymorphism >> poly means many and morphism means forms/states\n",
        "#refers to an object taking several forms depending on the methods/data"
      ]
    },
    {
      "cell_type": "code",
      "execution_count": null,
      "id": "62271df9-a875-40cb-9409-b1891bae44b0",
      "metadata": {
        "id": "62271df9-a875-40cb-9409-b1891bae44b0",
        "outputId": "acc630ee-384e-488a-e324-047acd4e375c"
      },
      "outputs": [
        {
          "data": {
            "text/plain": [
              "4"
            ]
          },
          "execution_count": 2,
          "metadata": {},
          "output_type": "execute_result"
        }
      ],
      "source": [
        "len(\"Ajay\")"
      ]
    },
    {
      "cell_type": "code",
      "execution_count": null,
      "id": "2c1589c8-f113-42ea-9fdd-c7f53420a680",
      "metadata": {
        "id": "2c1589c8-f113-42ea-9fdd-c7f53420a680",
        "outputId": "d707c10b-c4f5-41b9-b16c-eefd46e23b5b"
      },
      "outputs": [
        {
          "data": {
            "text/plain": [
              "5"
            ]
          },
          "execution_count": 3,
          "metadata": {},
          "output_type": "execute_result"
        }
      ],
      "source": [
        "len([1, 2, 3, 4, 5])"
      ]
    },
    {
      "cell_type": "code",
      "execution_count": null,
      "id": "8778f06c-c5c6-4c85-aa1c-683fad1cef44",
      "metadata": {
        "id": "8778f06c-c5c6-4c85-aa1c-683fad1cef44",
        "outputId": "f00103d1-5f83-468a-ea5e-7513106f17d6"
      },
      "outputs": [
        {
          "data": {
            "text/plain": [
              "2"
            ]
          },
          "execution_count": 4,
          "metadata": {},
          "output_type": "execute_result"
        }
      ],
      "source": [
        "len((1, 2))"
      ]
    },
    {
      "cell_type": "code",
      "execution_count": null,
      "id": "4c54021e-c26e-4d7a-916c-1ef4a529c7a1",
      "metadata": {
        "id": "4c54021e-c26e-4d7a-916c-1ef4a529c7a1"
      },
      "outputs": [],
      "source": [
        "def func(a, b):\n",
        "    return a+b"
      ]
    },
    {
      "cell_type": "code",
      "execution_count": null,
      "id": "d04942d2-043b-4c2c-85a4-6eafc51bd6c1",
      "metadata": {
        "id": "d04942d2-043b-4c2c-85a4-6eafc51bd6c1",
        "outputId": "92b78198-ee02-45d1-aab1-0149882d3be5"
      },
      "outputs": [
        {
          "data": {
            "text/plain": [
              "5"
            ]
          },
          "execution_count": 6,
          "metadata": {},
          "output_type": "execute_result"
        }
      ],
      "source": [
        "func(2, 3) #same + adding two numbers"
      ]
    },
    {
      "cell_type": "code",
      "execution_count": null,
      "id": "6582a777-05af-457b-812b-e146641eb129",
      "metadata": {
        "id": "6582a777-05af-457b-812b-e146641eb129",
        "outputId": "764df64c-2820-4952-a24d-0ff401db30de"
      },
      "outputs": [
        {
          "data": {
            "text/plain": [
              "'pwskills'"
            ]
          },
          "execution_count": 7,
          "metadata": {},
          "output_type": "execute_result"
        }
      ],
      "source": [
        "func(\"pw\", \"skills\") #same +, combining two strings"
      ]
    },
    {
      "cell_type": "code",
      "execution_count": null,
      "id": "fa08f7b3-d703-485d-97c0-8009e9893b3d",
      "metadata": {
        "id": "fa08f7b3-d703-485d-97c0-8009e9893b3d",
        "outputId": "0f2feb32-188f-4ee3-d666-6e06f575c5f4"
      },
      "outputs": [
        {
          "data": {
            "text/plain": [
              "[1, 2, 3, 4, 5, 6]"
            ]
          },
          "execution_count": 8,
          "metadata": {},
          "output_type": "execute_result"
        }
      ],
      "source": [
        "func([1, 2, 3], [4, 5, 6]) #the list concatenation"
      ]
    },
    {
      "cell_type": "code",
      "execution_count": null,
      "id": "934237cd-a060-411c-843b-553c0134e39a",
      "metadata": {
        "id": "934237cd-a060-411c-843b-553c0134e39a"
      },
      "outputs": [],
      "source": [
        "#observation>> func is taking different forms with respect to different data passed"
      ]
    },
    {
      "cell_type": "code",
      "execution_count": null,
      "id": "56a5ff45-462d-4e70-9e0f-b090f530e14e",
      "metadata": {
        "id": "56a5ff45-462d-4e70-9e0f-b090f530e14e"
      },
      "outputs": [],
      "source": [
        "class teacher_lecture:\n",
        "    def lec_info(self):\n",
        "        print(\"This is lec info with teacher perspective\")\n",
        "class student_lecture:\n",
        "    def lec_info(self):\n",
        "        print(\"This is lec info with student perspective\")"
      ]
    },
    {
      "cell_type": "code",
      "execution_count": null,
      "id": "f48ca9e0-bc5f-4699-8e6f-f5b2c66f0ada",
      "metadata": {
        "id": "f48ca9e0-bc5f-4699-8e6f-f5b2c66f0ada"
      },
      "outputs": [],
      "source": [
        "obj1 = teacher_lecture()\n",
        "obj2 = student_lecture()\n",
        "class_obj = [obj1, obj2]"
      ]
    },
    {
      "cell_type": "code",
      "execution_count": null,
      "id": "ea88ecca-04b3-4426-b51c-27e074c95d0b",
      "metadata": {
        "id": "ea88ecca-04b3-4426-b51c-27e074c95d0b"
      },
      "outputs": [],
      "source": [
        "def parcer(class_obj):\n",
        "    for i in class_obj:\n",
        "        i.lec_info() #at this point, lec_info is taking two forms wrt techer and students"
      ]
    },
    {
      "cell_type": "code",
      "execution_count": null,
      "id": "8a762dfd-3d6b-41d3-8c88-d61838b8c2a3",
      "metadata": {
        "id": "8a762dfd-3d6b-41d3-8c88-d61838b8c2a3",
        "outputId": "8336764e-89fb-41a2-8808-96dbd12e7e1a"
      },
      "outputs": [
        {
          "name": "stdout",
          "output_type": "stream",
          "text": [
            "This is lec info with teacher perspective\n",
            "This is lec info with student perspective\n"
          ]
        }
      ],
      "source": [
        "parcer(class_obj)"
      ]
    },
    {
      "cell_type": "code",
      "execution_count": null,
      "id": "b07db33b-42e5-4955-876a-57e0df194183",
      "metadata": {
        "id": "b07db33b-42e5-4955-876a-57e0df194183"
      },
      "outputs": [],
      "source": [
        "#Polymorphism in OOPS takes places in two ways:\n",
        "#Method overloading >> python doesnt support true method overloading\n",
        "#Method overriding"
      ]
    },
    {
      "cell_type": "code",
      "execution_count": null,
      "id": "3ab4720f-ee66-4abd-ab48-ccfd33d8a050",
      "metadata": {
        "id": "3ab4720f-ee66-4abd-ab48-ccfd33d8a050"
      },
      "outputs": [],
      "source": [
        "#method overloading"
      ]
    },
    {
      "cell_type": "code",
      "execution_count": null,
      "id": "704fc5b8-413a-443a-afe2-69830f8a3c4a",
      "metadata": {
        "id": "704fc5b8-413a-443a-afe2-69830f8a3c4a"
      },
      "outputs": [],
      "source": [
        "class Student:\n",
        "    def student(self):\n",
        "        print(\"Wecome to pwskills class\")\n",
        "    def student(self, name = \"\"):\n",
        "        print(\"Wecome to pwskills class\", name)\n",
        "    def student(self, name = \"\", course = \"\"):\n",
        "        print(\"Wecome to pwskills class\", name, course)"
      ]
    },
    {
      "cell_type": "code",
      "execution_count": null,
      "id": "6c83bcd6-11c9-4d30-8e14-ddffeaf192ed",
      "metadata": {
        "id": "6c83bcd6-11c9-4d30-8e14-ddffeaf192ed"
      },
      "outputs": [],
      "source": [
        "stud = Student()"
      ]
    },
    {
      "cell_type": "code",
      "execution_count": null,
      "id": "9734ba88-702f-4460-868d-31541ba923e4",
      "metadata": {
        "id": "9734ba88-702f-4460-868d-31541ba923e4",
        "outputId": "084ba657-596e-4ba8-b957-d86629646939"
      },
      "outputs": [
        {
          "name": "stdout",
          "output_type": "stream",
          "text": [
            "Wecome to pwskills class  \n"
          ]
        }
      ],
      "source": [
        "stud.student()"
      ]
    },
    {
      "cell_type": "code",
      "execution_count": null,
      "id": "086b03a5-7311-4d99-9128-9fe087cde5f9",
      "metadata": {
        "id": "086b03a5-7311-4d99-9128-9fe087cde5f9",
        "outputId": "fc9dbf37-ce70-4a88-cc8f-6f780a6678be"
      },
      "outputs": [
        {
          "name": "stdout",
          "output_type": "stream",
          "text": [
            "Wecome to pwskills class Ajay \n"
          ]
        }
      ],
      "source": [
        "stud.student(\"Ajay\")"
      ]
    },
    {
      "cell_type": "code",
      "execution_count": null,
      "id": "10b17029-2c8f-4eff-9d7b-3df965ac9d07",
      "metadata": {
        "id": "10b17029-2c8f-4eff-9d7b-3df965ac9d07",
        "outputId": "4ae8dd6f-de0f-498d-b44c-95895c2fe0cd"
      },
      "outputs": [
        {
          "name": "stdout",
          "output_type": "stream",
          "text": [
            "Wecome to pwskills class Ajay DS\n"
          ]
        }
      ],
      "source": [
        "stud.student(\"Ajay\", \"DS\")"
      ]
    },
    {
      "cell_type": "code",
      "execution_count": null,
      "id": "0a8f9622-b339-4117-9cfc-f371b972b795",
      "metadata": {
        "id": "0a8f9622-b339-4117-9cfc-f371b972b795"
      },
      "outputs": [],
      "source": [
        "#method overloading >> student method is taking different forms, the last methods overloads the previous ones in the same class\n",
        "class Student:\n",
        "    def student(self, name = \"\", course = \"\"):\n",
        "        print(\"Wecome to pwskills class\", name, course)"
      ]
    },
    {
      "cell_type": "code",
      "execution_count": null,
      "id": "bbdddd41-e33a-4034-8f3a-36ac2e2ed0cf",
      "metadata": {
        "id": "bbdddd41-e33a-4034-8f3a-36ac2e2ed0cf",
        "outputId": "4f9f1919-53de-431a-8aee-55f27cec9294"
      },
      "outputs": [
        {
          "name": "stdout",
          "output_type": "stream",
          "text": [
            "Wecome to pwskills class  \n"
          ]
        }
      ],
      "source": [
        "stud = Student()\n",
        "stud.student()"
      ]
    },
    {
      "cell_type": "code",
      "execution_count": null,
      "id": "c9b5df5b-6d0b-45c6-b93d-17970d1d37ab",
      "metadata": {
        "id": "c9b5df5b-6d0b-45c6-b93d-17970d1d37ab",
        "outputId": "dcdd5ad8-db93-4301-ebf0-dcf30baf43fe"
      },
      "outputs": [
        {
          "name": "stdout",
          "output_type": "stream",
          "text": [
            "Wecome to pwskills class Ajay \n"
          ]
        }
      ],
      "source": [
        "stud.student(\"Ajay\")"
      ]
    },
    {
      "cell_type": "code",
      "execution_count": null,
      "id": "70dc6d12-c61a-4b9d-ab93-fae1ef544207",
      "metadata": {
        "id": "70dc6d12-c61a-4b9d-ab93-fae1ef544207",
        "outputId": "952ee390-defa-40c2-9d86-ba6f0f173618"
      },
      "outputs": [
        {
          "name": "stdout",
          "output_type": "stream",
          "text": [
            "Wecome to pwskills class Ajay DS\n"
          ]
        }
      ],
      "source": [
        "stud.student(\"Ajay\", \"DS\")"
      ]
    },
    {
      "cell_type": "code",
      "execution_count": null,
      "id": "a9662715-9dbd-46da-af87-ce88f9faca14",
      "metadata": {
        "id": "a9662715-9dbd-46da-af87-ce88f9faca14"
      },
      "outputs": [],
      "source": [
        "#method overloading happens in the same class"
      ]
    },
    {
      "cell_type": "code",
      "execution_count": null,
      "id": "68766aed-5ce2-4f64-96ea-118c9a536dce",
      "metadata": {
        "id": "68766aed-5ce2-4f64-96ea-118c9a536dce"
      },
      "outputs": [],
      "source": [
        "#method overriding >> method in parent class and child class with same signature, the child class method will be executed"
      ]
    },
    {
      "cell_type": "code",
      "execution_count": null,
      "id": "c60b4626-669c-4852-8559-6fa276316a58",
      "metadata": {
        "id": "c60b4626-669c-4852-8559-6fa276316a58"
      },
      "outputs": [],
      "source": [
        "class Animal:\n",
        "    def sound(self):\n",
        "        print(\"Animal Sound\")\n",
        "class Cat(Animal):\n",
        "    def sound(self):\n",
        "        print(\"cat meows\")"
      ]
    },
    {
      "cell_type": "code",
      "execution_count": null,
      "id": "41c5468a-c28a-4e1e-ac4e-eb76a2d3d6bd",
      "metadata": {
        "id": "41c5468a-c28a-4e1e-ac4e-eb76a2d3d6bd"
      },
      "outputs": [],
      "source": [
        "anm = Animal()"
      ]
    },
    {
      "cell_type": "code",
      "execution_count": null,
      "id": "523ab5be-e19c-4158-bc17-684724e28f68",
      "metadata": {
        "id": "523ab5be-e19c-4158-bc17-684724e28f68",
        "outputId": "5f349c4d-6c75-4e63-8342-06ada8b2c5e5"
      },
      "outputs": [
        {
          "name": "stdout",
          "output_type": "stream",
          "text": [
            "Animal Sound\n"
          ]
        }
      ],
      "source": [
        "anm.sound() #Animal class"
      ]
    },
    {
      "cell_type": "code",
      "execution_count": null,
      "id": "59888453-7834-4d81-b5a2-a422b03449d4",
      "metadata": {
        "id": "59888453-7834-4d81-b5a2-a422b03449d4",
        "outputId": "033007f0-a8bf-429b-a2dd-8c49171b4c5e"
      },
      "outputs": [
        {
          "name": "stdout",
          "output_type": "stream",
          "text": [
            "cat meows\n"
          ]
        }
      ],
      "source": [
        "cat = Cat()\n",
        "cat.sound() #cat class"
      ]
    },
    {
      "cell_type": "code",
      "execution_count": null,
      "id": "dc61e872-281b-41fd-8346-3c37f32b1858",
      "metadata": {
        "id": "dc61e872-281b-41fd-8346-3c37f32b1858"
      },
      "outputs": [],
      "source": [
        "#Encapsulation>> means hiding something\n",
        "#bundling of data and methods of a class\n",
        "#access modifier>>public, protected, private"
      ]
    },
    {
      "cell_type": "code",
      "execution_count": null,
      "id": "4a9a58d6-1af7-451e-9327-d473c9012a54",
      "metadata": {
        "id": "4a9a58d6-1af7-451e-9327-d473c9012a54"
      },
      "outputs": [],
      "source": [
        "#public>>accessible from anywhere from outside/inside of class"
      ]
    },
    {
      "cell_type": "code",
      "execution_count": null,
      "id": "10eb053d-404d-4a77-96c2-cc2a327c0dd7",
      "metadata": {
        "id": "10eb053d-404d-4a77-96c2-cc2a327c0dd7"
      },
      "outputs": [],
      "source": [
        "class Student:\n",
        "    def __init__(self, name, degree):\n",
        "        self.name = name\n",
        "        self.degree = degree"
      ]
    },
    {
      "cell_type": "code",
      "execution_count": null,
      "id": "9a20f93d-96c3-4bbe-9fef-6d20cae66955",
      "metadata": {
        "id": "9a20f93d-96c3-4bbe-9fef-6d20cae66955"
      },
      "outputs": [],
      "source": [
        "stud1 = Student(\"Ram\", \"Masters\")"
      ]
    },
    {
      "cell_type": "code",
      "execution_count": null,
      "id": "1c750e78-9a3b-47a9-b5a9-1ff41c5a75db",
      "metadata": {
        "id": "1c750e78-9a3b-47a9-b5a9-1ff41c5a75db",
        "outputId": "5d51f3e7-946e-4fc8-d9d5-c6b5295d60bb"
      },
      "outputs": [
        {
          "data": {
            "text/plain": [
              "'Ram'"
            ]
          },
          "execution_count": 38,
          "metadata": {},
          "output_type": "execute_result"
        }
      ],
      "source": [
        "stud1.name"
      ]
    },
    {
      "cell_type": "code",
      "execution_count": null,
      "id": "612ffaf3-0a77-4152-a080-5b1c8df2d6b2",
      "metadata": {
        "id": "612ffaf3-0a77-4152-a080-5b1c8df2d6b2",
        "outputId": "6e0309f3-02cf-42fc-cb60-a1099ca0871a"
      },
      "outputs": [
        {
          "data": {
            "text/plain": [
              "'Masters'"
            ]
          },
          "execution_count": 39,
          "metadata": {},
          "output_type": "execute_result"
        }
      ],
      "source": [
        "stud1.degree"
      ]
    },
    {
      "cell_type": "code",
      "execution_count": null,
      "id": "e1e6642b-a512-4e96-9beb-5637c8eb09f8",
      "metadata": {
        "id": "e1e6642b-a512-4e96-9beb-5637c8eb09f8",
        "outputId": "813f9749-ebec-4404-cecd-0865a4aa72b0"
      },
      "outputs": [
        {
          "data": {
            "text/plain": [
              "'Bach'"
            ]
          },
          "execution_count": 41,
          "metadata": {},
          "output_type": "execute_result"
        }
      ],
      "source": [
        "stud2 = Student(\"Sam\", \"Bach\")\n",
        "stud2.degree"
      ]
    },
    {
      "cell_type": "code",
      "execution_count": null,
      "id": "9fa74349-7641-4eb0-9d8e-25e341fedf2b",
      "metadata": {
        "id": "9fa74349-7641-4eb0-9d8e-25e341fedf2b"
      },
      "outputs": [],
      "source": [
        "stud2.degree = \"Phd\""
      ]
    },
    {
      "cell_type": "code",
      "execution_count": null,
      "id": "7ee8957b-7197-454d-8d30-11c4ae203a49",
      "metadata": {
        "id": "7ee8957b-7197-454d-8d30-11c4ae203a49",
        "outputId": "3d83e674-25c7-453e-f9da-77741a45a494"
      },
      "outputs": [
        {
          "data": {
            "text/plain": [
              "'Phd'"
            ]
          },
          "execution_count": 43,
          "metadata": {},
          "output_type": "execute_result"
        }
      ],
      "source": [
        "stud2.degree"
      ]
    },
    {
      "cell_type": "code",
      "execution_count": null,
      "id": "ad9f8475-36be-47a4-9357-d1a692389a8e",
      "metadata": {
        "id": "ad9f8475-36be-47a4-9357-d1a692389a8e"
      },
      "outputs": [],
      "source": [
        "#accessing the public data member inside the other method of same class\n",
        "class Student:\n",
        "    def __init__(self, name, degree):\n",
        "        self.name = name\n",
        "        self.degree = degree\n",
        "\n",
        "    def show(self):\n",
        "        #accessing the  public data member\n",
        "        print(\"name\", self.name, 'degree', self.degree)\n"
      ]
    },
    {
      "cell_type": "code",
      "execution_count": null,
      "id": "1fa2ce52-3a81-41c7-bd39-146efae7c019",
      "metadata": {
        "id": "1fa2ce52-3a81-41c7-bd39-146efae7c019"
      },
      "outputs": [],
      "source": [
        "aj = Student(\"Ajay\", \"Masters\")"
      ]
    },
    {
      "cell_type": "code",
      "execution_count": null,
      "id": "d035b038-c05a-4927-9aa6-b299f2314dd2",
      "metadata": {
        "id": "d035b038-c05a-4927-9aa6-b299f2314dd2",
        "outputId": "642e5216-da9a-44e7-ffb0-d68851839d0d"
      },
      "outputs": [
        {
          "name": "stdout",
          "output_type": "stream",
          "text": [
            "name Ajay degree Masters\n"
          ]
        }
      ],
      "source": [
        "aj.show()"
      ]
    },
    {
      "cell_type": "code",
      "execution_count": null,
      "id": "71526c26-ec69-4748-9a73-d4173e13dd62",
      "metadata": {
        "id": "71526c26-ec69-4748-9a73-d4173e13dd62",
        "outputId": "95883410-865d-4c8b-bfe8-529aa3e4824c"
      },
      "outputs": [
        {
          "data": {
            "text/plain": [
              "'Ajay'"
            ]
          },
          "execution_count": 51,
          "metadata": {},
          "output_type": "execute_result"
        }
      ],
      "source": [
        "aj.name"
      ]
    },
    {
      "cell_type": "code",
      "execution_count": null,
      "id": "698b168f-7a33-41a9-9cc6-9cb45a2336f0",
      "metadata": {
        "id": "698b168f-7a33-41a9-9cc6-9cb45a2336f0",
        "outputId": "edb67a6d-0f6b-4635-ab65-1c05f7624ad5"
      },
      "outputs": [
        {
          "data": {
            "text/plain": [
              "'Masters'"
            ]
          },
          "execution_count": 52,
          "metadata": {},
          "output_type": "execute_result"
        }
      ],
      "source": [
        "aj.degree"
      ]
    },
    {
      "cell_type": "code",
      "execution_count": null,
      "id": "07194732-2c6e-40e0-9bf4-f6e461a856bb",
      "metadata": {
        "id": "07194732-2c6e-40e0-9bf4-f6e461a856bb"
      },
      "outputs": [],
      "source": [
        "#private >> the data and method is only accessible within its class, use __ to make private"
      ]
    },
    {
      "cell_type": "code",
      "execution_count": null,
      "id": "47551227-9045-4871-a553-0cfca2cd04b9",
      "metadata": {
        "id": "47551227-9045-4871-a553-0cfca2cd04b9"
      },
      "outputs": [],
      "source": [
        "class Student:\n",
        "    def __init__(self, name, degree):\n",
        "        self.name = name\n",
        "        self.__degree = degree #private data\n",
        "\n",
        "    def show(self):\n",
        "        #accessing the private data member\n",
        "        print(\"name\", self.name, 'degree', self.__degree)"
      ]
    },
    {
      "cell_type": "code",
      "execution_count": null,
      "id": "c78aa09b-31fa-406f-989a-724e7936b6fa",
      "metadata": {
        "id": "c78aa09b-31fa-406f-989a-724e7936b6fa"
      },
      "outputs": [],
      "source": [
        "aj = Student(\"Ajay\", \"Masters\")"
      ]
    },
    {
      "cell_type": "code",
      "execution_count": null,
      "id": "85c3db53-ab56-4a25-8fa4-594dfe576252",
      "metadata": {
        "id": "85c3db53-ab56-4a25-8fa4-594dfe576252",
        "outputId": "d1f74c29-da34-4d1b-8cf5-55a218a549c8"
      },
      "outputs": [
        {
          "data": {
            "text/plain": [
              "'Ajay'"
            ]
          },
          "execution_count": 65,
          "metadata": {},
          "output_type": "execute_result"
        }
      ],
      "source": [
        "aj.name"
      ]
    },
    {
      "cell_type": "code",
      "execution_count": null,
      "id": "0c4fc7f8-5682-4a26-b3a0-f59904de21c6",
      "metadata": {
        "id": "0c4fc7f8-5682-4a26-b3a0-f59904de21c6",
        "outputId": "d8da0c6d-d2f8-4cf2-88e7-721e4b10ef8d"
      },
      "outputs": [
        {
          "name": "stdout",
          "output_type": "stream",
          "text": [
            "name Ajay degree Masters\n"
          ]
        }
      ],
      "source": [
        "aj.show()"
      ]
    },
    {
      "cell_type": "code",
      "execution_count": null,
      "id": "d72d6c47-f8b3-4e49-bd89-0f8d36b3bc97",
      "metadata": {
        "id": "d72d6c47-f8b3-4e49-bd89-0f8d36b3bc97",
        "outputId": "29b1aa4e-78d8-42cf-d611-75b1d6f14ad9"
      },
      "outputs": [
        {
          "ename": "AttributeError",
          "evalue": "'Student' object has no attribute 'degree'",
          "output_type": "error",
          "traceback": [
            "\u001b[0;31m---------------------------------------------------------------------------\u001b[0m",
            "\u001b[0;31mAttributeError\u001b[0m                            Traceback (most recent call last)",
            "Cell \u001b[0;32mIn[67], line 1\u001b[0m\n\u001b[0;32m----> 1\u001b[0m \u001b[43maj\u001b[49m\u001b[38;5;241;43m.\u001b[39;49m\u001b[43mdegree\u001b[49m \u001b[38;5;66;03m#it will throw an error as degree is now private data\u001b[39;00m\n",
            "\u001b[0;31mAttributeError\u001b[0m: 'Student' object has no attribute 'degree'"
          ]
        }
      ],
      "source": [
        "aj.degree #it will throw an error as degree is now private data"
      ]
    },
    {
      "cell_type": "code",
      "execution_count": null,
      "id": "067205fe-ddb9-4e30-82f5-b96c7c07388b",
      "metadata": {
        "id": "067205fe-ddb9-4e30-82f5-b96c7c07388b",
        "outputId": "ef2e4bbe-4e9c-4657-f219-c207e15e5e89"
      },
      "outputs": [
        {
          "ename": "AttributeError",
          "evalue": "'Student' object has no attribute '__degree'",
          "output_type": "error",
          "traceback": [
            "\u001b[0;31m---------------------------------------------------------------------------\u001b[0m",
            "\u001b[0;31mAttributeError\u001b[0m                            Traceback (most recent call last)",
            "Cell \u001b[0;32mIn[68], line 1\u001b[0m\n\u001b[0;32m----> 1\u001b[0m \u001b[43maj\u001b[49m\u001b[38;5;241;43m.\u001b[39;49m\u001b[43m__degree\u001b[49m \u001b[38;5;66;03m#it will throw an error as degree is now private data\u001b[39;00m\n",
            "\u001b[0;31mAttributeError\u001b[0m: 'Student' object has no attribute '__degree'"
          ]
        }
      ],
      "source": [
        "aj.__degree #it will throw an error as degree is now private data"
      ]
    },
    {
      "cell_type": "code",
      "execution_count": null,
      "id": "a88c97c3-f65a-4646-bd9e-1808b70002c6",
      "metadata": {
        "id": "a88c97c3-f65a-4646-bd9e-1808b70002c6",
        "outputId": "ac364653-28f0-44ff-b6dc-5f0380e93ce5"
      },
      "outputs": [
        {
          "data": {
            "text/plain": [
              "'Masters'"
            ]
          },
          "execution_count": 69,
          "metadata": {},
          "output_type": "execute_result"
        }
      ],
      "source": [
        "aj._Student__degree #say you want to access the private variable using class name"
      ]
    },
    {
      "cell_type": "code",
      "execution_count": null,
      "id": "f1b15f6e-50cf-4b35-9750-e36a4bc97f24",
      "metadata": {
        "id": "f1b15f6e-50cf-4b35-9750-e36a4bc97f24"
      },
      "outputs": [],
      "source": [
        "#a method private\n",
        "\n",
        "class Student:\n",
        "    def __init__(self, name, degree):\n",
        "        self.name = name\n",
        "        self.__degree = degree #private data\n",
        "\n",
        "    def show(self):\n",
        "        #accessing the private data member\n",
        "        print(\"name\", self.name, 'degree', self.__degree)\n",
        "\n",
        "    def __private_method(self):\n",
        "        print(\"This is a private method\")"
      ]
    },
    {
      "cell_type": "code",
      "execution_count": null,
      "id": "21673811-3505-49f7-8d50-85b436c35608",
      "metadata": {
        "id": "21673811-3505-49f7-8d50-85b436c35608"
      },
      "outputs": [],
      "source": [
        "obj1 = Student(\"Ajay\", \"Masters\")"
      ]
    },
    {
      "cell_type": "code",
      "execution_count": null,
      "id": "fc535ec4-575d-442d-ae8e-227328e2daad",
      "metadata": {
        "id": "fc535ec4-575d-442d-ae8e-227328e2daad",
        "outputId": "918b1418-8472-42e1-b3b2-56cd78c843b1"
      },
      "outputs": [
        {
          "ename": "AttributeError",
          "evalue": "'Student' object has no attribute 'private_method'",
          "output_type": "error",
          "traceback": [
            "\u001b[0;31m---------------------------------------------------------------------------\u001b[0m",
            "\u001b[0;31mAttributeError\u001b[0m                            Traceback (most recent call last)",
            "Cell \u001b[0;32mIn[72], line 1\u001b[0m\n\u001b[0;32m----> 1\u001b[0m \u001b[43mobj1\u001b[49m\u001b[38;5;241;43m.\u001b[39;49m\u001b[43mprivate_method\u001b[49m()\n",
            "\u001b[0;31mAttributeError\u001b[0m: 'Student' object has no attribute 'private_method'"
          ]
        }
      ],
      "source": [
        "obj1.private_method() #throw an error"
      ]
    },
    {
      "cell_type": "code",
      "execution_count": null,
      "id": "cf81a5e4-2674-41aa-90d6-1531060febe6",
      "metadata": {
        "id": "cf81a5e4-2674-41aa-90d6-1531060febe6",
        "outputId": "ccd736b8-2cd3-4cbb-8593-1d5e06af5fdd"
      },
      "outputs": [
        {
          "ename": "AttributeError",
          "evalue": "'Student' object has no attribute '__private_method'",
          "output_type": "error",
          "traceback": [
            "\u001b[0;31m---------------------------------------------------------------------------\u001b[0m",
            "\u001b[0;31mAttributeError\u001b[0m                            Traceback (most recent call last)",
            "Cell \u001b[0;32mIn[73], line 1\u001b[0m\n\u001b[0;32m----> 1\u001b[0m \u001b[43mobj1\u001b[49m\u001b[38;5;241;43m.\u001b[39;49m\u001b[43m__private_method\u001b[49m() \u001b[38;5;66;03m#throw an error\u001b[39;00m\n",
            "\u001b[0;31mAttributeError\u001b[0m: 'Student' object has no attribute '__private_method'"
          ]
        }
      ],
      "source": [
        "obj1.__private_method() #throw an error"
      ]
    },
    {
      "cell_type": "code",
      "execution_count": null,
      "id": "cb4bcd5a-d478-4ed3-b8ae-cd070d745b4e",
      "metadata": {
        "id": "cb4bcd5a-d478-4ed3-b8ae-cd070d745b4e",
        "outputId": "2f2a2cf0-8095-4fe2-cb45-cb20284ddde4"
      },
      "outputs": [
        {
          "name": "stdout",
          "output_type": "stream",
          "text": [
            "This is a private method\n"
          ]
        }
      ],
      "source": [
        "obj1._Student__private_method() #accesing private method using class name"
      ]
    },
    {
      "cell_type": "code",
      "execution_count": null,
      "id": "07ba72cb-d002-4d2d-a6cb-f5b9b5d6d753",
      "metadata": {
        "id": "07ba72cb-d002-4d2d-a6cb-f5b9b5d6d753"
      },
      "outputs": [],
      "source": [
        "#way to provide an option to see the private method>> a wrapper\n",
        "\n",
        "class Student:\n",
        "    def __init__(self, name, degree):\n",
        "        self.name = name\n",
        "        self.__degree = degree #private data\n",
        "\n",
        "    def show(self):\n",
        "        #accessing the private data member\n",
        "        print(\"name\", self.name, 'degree', self.__degree)\n",
        "\n",
        "    def __private_method(self):\n",
        "        print(\"This is a private method\")\n",
        "\n",
        "    def access_private_method(self):\n",
        "        self.__private_method()"
      ]
    },
    {
      "cell_type": "code",
      "execution_count": null,
      "id": "5e8a3675-9f85-4f1f-81a0-e52ca176f837",
      "metadata": {
        "id": "5e8a3675-9f85-4f1f-81a0-e52ca176f837",
        "outputId": "39299d0a-c8d4-4382-94e1-3133cb7b6d7e"
      },
      "outputs": [
        {
          "name": "stdout",
          "output_type": "stream",
          "text": [
            "This is a private method\n"
          ]
        }
      ],
      "source": [
        "obj1 = Student(\"AJ\", \"Masters\")\n",
        "obj1.access_private_method()"
      ]
    },
    {
      "cell_type": "code",
      "execution_count": null,
      "id": "4bea4a32-ef57-48dd-898c-aecd1e71eb17",
      "metadata": {
        "id": "4bea4a32-ef57-48dd-898c-aecd1e71eb17"
      },
      "outputs": [],
      "source": [
        "#another use case of modifying the private variable and accessing it\n",
        "class Car:\n",
        "    def __init__(self, year, make, speed, model):\n",
        "        self.__year = year\n",
        "        self.__make = make\n",
        "        self.__speed = speed\n",
        "        self.__model = model"
      ]
    },
    {
      "cell_type": "code",
      "execution_count": null,
      "id": "e0871c6a-aed4-4059-aff7-91586efd61f8",
      "metadata": {
        "id": "e0871c6a-aed4-4059-aff7-91586efd61f8",
        "outputId": "f254be05-c818-48c0-bf4b-8e88a1421e1e"
      },
      "outputs": [
        {
          "ename": "AttributeError",
          "evalue": "'Car' object has no attribute 'year'",
          "output_type": "error",
          "traceback": [
            "\u001b[0;31m---------------------------------------------------------------------------\u001b[0m",
            "\u001b[0;31mAttributeError\u001b[0m                            Traceback (most recent call last)",
            "Cell \u001b[0;32mIn[79], line 2\u001b[0m\n\u001b[1;32m      1\u001b[0m c1 \u001b[38;5;241m=\u001b[39m Car(\u001b[38;5;124m\"\u001b[39m\u001b[38;5;124m1995\u001b[39m\u001b[38;5;124m\"\u001b[39m, \u001b[38;5;124m\"\u001b[39m\u001b[38;5;124mMaruti\u001b[39m\u001b[38;5;124m\"\u001b[39m, \u001b[38;5;124m\"\u001b[39m\u001b[38;5;124m80\u001b[39m\u001b[38;5;124m\"\u001b[39m, \u001b[38;5;124m\"\u001b[39m\u001b[38;5;124mBrezza\u001b[39m\u001b[38;5;124m\"\u001b[39m)\n\u001b[0;32m----> 2\u001b[0m \u001b[43mc1\u001b[49m\u001b[38;5;241;43m.\u001b[39;49m\u001b[43myear\u001b[49m\n",
            "\u001b[0;31mAttributeError\u001b[0m: 'Car' object has no attribute 'year'"
          ]
        }
      ],
      "source": [
        "c1 = Car(\"1995\", \"Maruti\", \"80\", \"Brezza\")\n",
        "c1.year #since all variables are private, it will throw an error"
      ]
    },
    {
      "cell_type": "code",
      "execution_count": null,
      "id": "d685bb45-143b-4f77-9f22-3d2e80639adb",
      "metadata": {
        "id": "d685bb45-143b-4f77-9f22-3d2e80639adb"
      },
      "outputs": [],
      "source": [
        "class Car:\n",
        "    def __init__(self, year, make, speed, model):\n",
        "        self.__year = year\n",
        "        self.__make = make\n",
        "        self.__speed = speed\n",
        "        self.__model = model\n",
        "    def set_speed(self, speed):\n",
        "        self.__speed = 0 if speed < 0 else speed\n",
        "    def get_speed(self):\n",
        "        return self.__speed"
      ]
    },
    {
      "cell_type": "code",
      "execution_count": null,
      "id": "aaa0f6d0-50ac-42f0-ac0a-4c809f79dbde",
      "metadata": {
        "id": "aaa0f6d0-50ac-42f0-ac0a-4c809f79dbde",
        "outputId": "1f37811f-abbf-48cc-d942-58ae9b775647"
      },
      "outputs": [
        {
          "data": {
            "text/plain": [
              "'80'"
            ]
          },
          "execution_count": 81,
          "metadata": {},
          "output_type": "execute_result"
        }
      ],
      "source": [
        "c1 = Car(\"1995\", \"Maruti\", \"80\", \"Brezza\")\n",
        "c1.get_speed()"
      ]
    },
    {
      "cell_type": "code",
      "execution_count": null,
      "id": "ce90a80c-c69c-4b0e-832e-a8ad2c68dd69",
      "metadata": {
        "id": "ce90a80c-c69c-4b0e-832e-a8ad2c68dd69"
      },
      "outputs": [],
      "source": [
        "c1.set_speed(-1000)"
      ]
    },
    {
      "cell_type": "code",
      "execution_count": null,
      "id": "0e6610be-4e24-4612-bd4e-20a7006e9b3f",
      "metadata": {
        "id": "0e6610be-4e24-4612-bd4e-20a7006e9b3f",
        "outputId": "72bf54e4-e485-48fd-e692-bd0b2e562a4a"
      },
      "outputs": [
        {
          "data": {
            "text/plain": [
              "0"
            ]
          },
          "execution_count": 83,
          "metadata": {},
          "output_type": "execute_result"
        }
      ],
      "source": [
        "c1.get_speed()"
      ]
    },
    {
      "cell_type": "code",
      "execution_count": null,
      "id": "33a7ae64-028c-41d0-8136-466794e406d7",
      "metadata": {
        "id": "33a7ae64-028c-41d0-8136-466794e406d7"
      },
      "outputs": [],
      "source": [
        "c1.set_speed(100)"
      ]
    },
    {
      "cell_type": "code",
      "execution_count": null,
      "id": "d9ac3203-cbe7-44a5-b1ec-aeb97efa9b33",
      "metadata": {
        "id": "d9ac3203-cbe7-44a5-b1ec-aeb97efa9b33",
        "outputId": "f1820fca-3450-40a1-fc9c-6261bcaff959"
      },
      "outputs": [
        {
          "data": {
            "text/plain": [
              "100"
            ]
          },
          "execution_count": 85,
          "metadata": {},
          "output_type": "execute_result"
        }
      ],
      "source": [
        "c1.get_speed()"
      ]
    },
    {
      "cell_type": "code",
      "execution_count": null,
      "id": "f77859aa-157e-4336-839a-221ede5a2333",
      "metadata": {
        "id": "f77859aa-157e-4336-839a-221ede5a2333"
      },
      "outputs": [],
      "source": [
        "#anaother use case\n"
      ]
    },
    {
      "cell_type": "code",
      "execution_count": null,
      "id": "38863d3a-f519-42fb-9bd7-f0b48df14f7e",
      "metadata": {
        "id": "38863d3a-f519-42fb-9bd7-f0b48df14f7e"
      },
      "outputs": [],
      "source": [
        "class Bank: #either you deposit or withdraw\n",
        "\n",
        "    def __init__(self, balance):\n",
        "        self.__balance = balance\n",
        "\n",
        "    def deposit(self, amount): #amount is new deposition\n",
        "        self.__balance = self.__balance + amount\n",
        "\n",
        "    def withdraw(self, amount):\n",
        "        if self.__balance >= amount:\n",
        "            self.__balance = self.__balance - amount\n",
        "            return True\n",
        "        else:\n",
        "            return False\n",
        "\n",
        "    def get_balance(self):\n",
        "        return self.__balance"
      ]
    },
    {
      "cell_type": "code",
      "execution_count": null,
      "id": "92f73255-4b22-4c42-b5c8-bbca275ce7d1",
      "metadata": {
        "id": "92f73255-4b22-4c42-b5c8-bbca275ce7d1"
      },
      "outputs": [],
      "source": [
        "acc1 = Bank(1000)"
      ]
    },
    {
      "cell_type": "code",
      "execution_count": null,
      "id": "a755ef3f-753a-4855-8ab4-41c1d07851ee",
      "metadata": {
        "id": "a755ef3f-753a-4855-8ab4-41c1d07851ee",
        "outputId": "c9901eee-325a-444f-c2e7-1c407fe1691a"
      },
      "outputs": [
        {
          "data": {
            "text/plain": [
              "1000"
            ]
          },
          "execution_count": 89,
          "metadata": {},
          "output_type": "execute_result"
        }
      ],
      "source": [
        "acc1.get_balance()"
      ]
    },
    {
      "cell_type": "code",
      "execution_count": null,
      "id": "1c8d59b8-159f-4e8a-95e3-ceca87778b9c",
      "metadata": {
        "id": "1c8d59b8-159f-4e8a-95e3-ceca87778b9c"
      },
      "outputs": [],
      "source": [
        "acc1.deposit(500)"
      ]
    },
    {
      "cell_type": "code",
      "execution_count": null,
      "id": "e7d9672b-e064-4854-be3e-faf5849efb09",
      "metadata": {
        "id": "e7d9672b-e064-4854-be3e-faf5849efb09",
        "outputId": "a61d8b21-d1bb-4147-9645-f84baa7d3472"
      },
      "outputs": [
        {
          "data": {
            "text/plain": [
              "1500"
            ]
          },
          "execution_count": 91,
          "metadata": {},
          "output_type": "execute_result"
        }
      ],
      "source": [
        "acc1.get_balance()"
      ]
    },
    {
      "cell_type": "code",
      "execution_count": null,
      "id": "ae3b54cb-ac33-4352-9439-a2b0022bd499",
      "metadata": {
        "id": "ae3b54cb-ac33-4352-9439-a2b0022bd499",
        "outputId": "110a1079-6207-4ec4-9554-4b8c9b4a8010"
      },
      "outputs": [
        {
          "data": {
            "text/plain": [
              "True"
            ]
          },
          "execution_count": 92,
          "metadata": {},
          "output_type": "execute_result"
        }
      ],
      "source": [
        "acc1.withdraw(100)"
      ]
    },
    {
      "cell_type": "code",
      "execution_count": null,
      "id": "e32ffaad-ec77-47c5-b650-cb2a53003039",
      "metadata": {
        "id": "e32ffaad-ec77-47c5-b650-cb2a53003039",
        "outputId": "cf071cb0-1e1a-4947-c21d-dbe89fa96d6d"
      },
      "outputs": [
        {
          "data": {
            "text/plain": [
              "1400"
            ]
          },
          "execution_count": 93,
          "metadata": {},
          "output_type": "execute_result"
        }
      ],
      "source": [
        "acc1.get_balance()"
      ]
    },
    {
      "cell_type": "code",
      "execution_count": null,
      "id": "69ffb5f1-1e15-4f18-b8df-5ddcfe59ea89",
      "metadata": {
        "id": "69ffb5f1-1e15-4f18-b8df-5ddcfe59ea89",
        "outputId": "785d7b9f-ddcf-47df-e3c1-728c89575b18"
      },
      "outputs": [
        {
          "data": {
            "text/plain": [
              "False"
            ]
          },
          "execution_count": 94,
          "metadata": {},
          "output_type": "execute_result"
        }
      ],
      "source": [
        "acc1.withdraw(1500)"
      ]
    },
    {
      "cell_type": "code",
      "execution_count": null,
      "id": "3c576653-4513-43ca-b493-6ba0dc438fb5",
      "metadata": {
        "id": "3c576653-4513-43ca-b493-6ba0dc438fb5"
      },
      "outputs": [],
      "source": [
        "#protected>> within the class and its subclass, protected member can be access, (_)"
      ]
    },
    {
      "cell_type": "code",
      "execution_count": null,
      "id": "632402cc-4c99-4da5-9254-73a7b1c91e68",
      "metadata": {
        "id": "632402cc-4c99-4da5-9254-73a7b1c91e68"
      },
      "outputs": [],
      "source": [
        "class College:\n",
        "    def __init__(self):\n",
        "        self._college_name = \"PWSkills\"\n",
        "class Student(College):\n",
        "    def __init__(self, name):\n",
        "        self.name = name\n",
        "        College.__init__(self) #accesing variable of base class>>classname__init__(self)\n",
        "\n",
        "    def show(self):\n",
        "        print(\"name\", self.name, \"college\", self._college_name) #directly call the base class variable using \"_\""
      ]
    },
    {
      "cell_type": "code",
      "execution_count": null,
      "id": "1cdc18d4-98bc-45ae-94ca-cfc627eb7d4e",
      "metadata": {
        "id": "1cdc18d4-98bc-45ae-94ca-cfc627eb7d4e"
      },
      "outputs": [],
      "source": [
        "stud = Student(\"Ajay\")"
      ]
    },
    {
      "cell_type": "code",
      "execution_count": null,
      "id": "87385616-8992-4983-be1d-c5b18321eb72",
      "metadata": {
        "id": "87385616-8992-4983-be1d-c5b18321eb72",
        "outputId": "ba5312ae-0365-4d9f-a2e5-9f7fd812e8c0"
      },
      "outputs": [
        {
          "data": {
            "text/plain": [
              "'Ajay'"
            ]
          },
          "execution_count": 103,
          "metadata": {},
          "output_type": "execute_result"
        }
      ],
      "source": [
        "stud.name"
      ]
    },
    {
      "cell_type": "code",
      "execution_count": null,
      "id": "7151747e-8272-4d51-864c-18ed54d748e5",
      "metadata": {
        "id": "7151747e-8272-4d51-864c-18ed54d748e5",
        "outputId": "b224a4ca-c4e0-46c3-d69f-02ee565ee72f"
      },
      "outputs": [
        {
          "name": "stdout",
          "output_type": "stream",
          "text": [
            "name Ajay college PWSkills\n"
          ]
        }
      ],
      "source": [
        "stud.show()"
      ]
    },
    {
      "cell_type": "code",
      "execution_count": null,
      "id": "32e241ff-c01f-4085-b1db-0b891d3d82b1",
      "metadata": {
        "id": "32e241ff-c01f-4085-b1db-0b891d3d82b1",
        "outputId": "f2c698b5-92f7-474f-e382-fd79cd86f135"
      },
      "outputs": [
        {
          "data": {
            "text/plain": [
              "'PWSkills'"
            ]
          },
          "execution_count": 105,
          "metadata": {},
          "output_type": "execute_result"
        }
      ],
      "source": [
        "coll = College()\n",
        "coll._college_name #accessing the protected variable"
      ]
    },
    {
      "cell_type": "code",
      "execution_count": null,
      "id": "6a698435-ef62-445f-9f05-5b641af57aad",
      "metadata": {
        "id": "6a698435-ef62-445f-9f05-5b641af57aad"
      },
      "outputs": [],
      "source": [
        "#anothe rway to access the data of base class using super()\n",
        "\n"
      ]
    }
  ],
  "metadata": {
    "kernelspec": {
      "display_name": "Python 3 (ipykernel)",
      "language": "python",
      "name": "python3"
    },
    "language_info": {
      "codemirror_mode": {
        "name": "ipython",
        "version": 3
      },
      "file_extension": ".py",
      "mimetype": "text/x-python",
      "name": "python",
      "nbconvert_exporter": "python",
      "pygments_lexer": "ipython3",
      "version": "3.10.8"
    },
    "colab": {
      "provenance": []
    }
  },
  "nbformat": 4,
  "nbformat_minor": 5
}