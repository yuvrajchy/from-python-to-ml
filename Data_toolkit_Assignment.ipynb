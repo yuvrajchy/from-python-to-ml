{
  "nbformat": 4,
  "nbformat_minor": 0,
  "metadata": {
    "colab": {
      "provenance": []
    },
    "kernelspec": {
      "name": "python3",
      "display_name": "Python 3"
    },
    "language_info": {
      "name": "python"
    }
  },
  "cells": [
    {
      "cell_type": "markdown",
      "source": [
        "DATA TOOLKIT"
      ],
      "metadata": {
        "id": "G547kAk-jZTQ"
      }
    },
    {
      "cell_type": "markdown",
      "source": [
        "1. What is NumPy, and why is it widely used in Python?"
      ],
      "metadata": {
        "id": "SYfzHdM8jfuK"
      }
    },
    {
      "cell_type": "markdown",
      "source": [
        "NumPy (Numerical Python) is a fundamental Python library used for scientific and numerical computing. It provides a powerful N-dimensional array object called ndarray, which allows users to store and process large amounts of numerical data efficiently. Unlike Python lists, NumPy arrays are stored in contiguous memory blocks, making operations faster and more memory-efficient.\n",
        "\n",
        "NumPy is widely used because of the following reasons:\n",
        "\n",
        "1. High Performance:\n",
        "- NumPy is implemented in C, which makes array operations much faster compared to traditional Python loops.\n",
        "\n",
        "2. Vectorization and Broadcasting:\n",
        "- It allows mathematical operations on entire arrays without writing explicit loops. This makes the code simpler and more readable.\n",
        "\n",
        "3. Rich Functionality:\n",
        "- It provides numerous built-in functions for mathematical operations, linear algebra, Fourier transforms, and random number generation.\n",
        "\n",
        "4. Foundation for Other Libraries:\n",
        "- Many popular Python libraries such as Pandas, SciPy, Scikit-learn, TensorFlow, and PyTorch are built on top of NumPy.\n",
        "\n",
        "5. Community Support and Ecosystem:\n",
        "- NumPy has strong community support and is a standard tool in the data science and machine learning ecosystem."
      ],
      "metadata": {
        "id": "esvC0jXSky0L"
      }
    },
    {
      "cell_type": "markdown",
      "source": [
        "2. How does broadcasting work in NumPy?\n"
      ],
      "metadata": {
        "id": "nfraHCWMbAsg"
      }
    },
    {
      "cell_type": "markdown",
      "source": [
        "Broadcasting in NumPy allows arrays of different shapes to be used together in arithmetic operations. NumPy automatically stretches the smaller array along dimensions with size 1 to match the larger array. This avoids explicit loops and improves efficiency.\n",
        "\n",
        "Rules for broadcasting:\n",
        "\n",
        "1. If arrays have different numbers of dimensions, prepend 1s to the smaller array’s shape.\n",
        "\n",
        "2. Arrays are compatible in a dimension if they are equal or if one of them is 1.\n",
        "\n",
        "3. If the shapes are incompatible, NumPy raises an error."
      ],
      "metadata": {
        "id": "SYExCXcqbJOu"
      }
    },
    {
      "cell_type": "markdown",
      "source": [
        "3. What is a Pandas DataFrame?\n"
      ],
      "metadata": {
        "id": "Uv5RdXifbdNw"
      }
    },
    {
      "cell_type": "markdown",
      "source": [
        "A DataFrame is a two-dimensional, size-mutable, and heterogeneous data structure in Pandas, similar to a spreadsheet or SQL table, where data is organized in rows and columns. Each column can store different types of data (integers, floats, strings).\n",
        "\n",
        "Key Features:\n",
        "\n",
        "1. Labeled Axes: Rows and columns have labels for easy access.\n",
        "\n",
        "2. Heterogeneous Data: Columns can have different data types.\n",
        "\n",
        "3. Size Mutability: Rows and columns can be added or removed dynamically.\n",
        "\n",
        "4. Powerful Operations: Supports filtering, grouping, merging, and aggregation.\n",
        "\n",
        "5. Integration: Works with NumPy arrays, CSV/Excel files, and SQL databases."
      ],
      "metadata": {
        "id": "p6b9517qbmw-"
      }
    },
    {
      "cell_type": "markdown",
      "source": [
        "4. Explain the use of the groupby() method in Pandas?"
      ],
      "metadata": {
        "id": "VuXr09qqb5ho"
      }
    },
    {
      "cell_type": "markdown",
      "source": [
        "The groupby() method in Pandas is used to group data based on one or more columns and then perform aggregate operations (like sum, mean, count, etc.) on each group. It is useful for summarizing, analyzing, and transforming datasets based on categories.\n",
        "\n",
        "Key Points:\n",
        "\n",
        "1. Splitting: The data is divided into groups based on the values of one or more columns.\n",
        "\n",
        "2. Applying: Functions like sum(), mean(), count(), min(), max() are applied to each group.\n",
        "\n",
        "3. Combining: The results of these operations are combined into a new DataFrame or Series."
      ],
      "metadata": {
        "id": "8VZygzxXcMHm"
      }
    },
    {
      "cell_type": "markdown",
      "source": [
        "5. Why is Seaborn preferred for statistical visualizations?"
      ],
      "metadata": {
        "id": "jsnPi7lXcPp_"
      }
    },
    {
      "cell_type": "markdown",
      "source": [
        "- NumPy, Pandas, and Seaborn are essential Python libraries for data science and statistical analysis. NumPy (Numerical Python) provides a powerful N-dimensional array object called ndarray that allows fast and memory-efficient numerical computations, supporting vectorized operations and broadcasting, which enables arithmetic operations on arrays of different shapes without explicit loops. Pandas introduces the DataFrame, a two-dimensional, size-mutable, and heterogeneous data structure similar to a spreadsheet, which allows easy manipulation, filtering, and analysis of data. The groupby() method in Pandas is particularly useful for splitting data into groups based on one or more columns and applying aggregation functions like sum, mean, or count to summarize data efficiently. Seaborn, built on top of Matplotlib, is preferred for statistical visualizations because it provides a high-level interface to create complex plots like boxplots, violin plots, pairplots, and heatmaps easily, integrates seamlessly with Pandas DataFrames, applies default aesthetically pleasing styles, and handles statistical aggregations automatically. Together, these libraries provide a powerful toolkit for data handling, analysis, and visualization, making them indispensable for data science, machine learning, and statistical research."
      ],
      "metadata": {
        "id": "cKNQHXkCcXG9"
      }
    },
    {
      "cell_type": "markdown",
      "source": [
        "6. What are the differences between NumPy arrays and Python lists?"
      ],
      "metadata": {
        "id": "AJ88Mm3ScpY1"
      }
    },
    {
      "cell_type": "markdown",
      "source": [
        "- NumPy arrays and Python lists are both used to store collections of data, but they have several key differences. NumPy arrays are homogeneous, meaning all elements must be of the same data type, whereas Python lists can hold elements of different types. NumPy arrays are stored in contiguous memory blocks, which makes them more memory-efficient and enables faster computation through vectorized operations, while Python lists are slower because they store references to objects and require looping for element-wise operations. NumPy arrays support broadcasting and advanced mathematical, statistical, and linear algebra functions, whereas Python lists require explicit loops or list comprehensions for similar operations. Additionally, NumPy provides multi-dimensional arrays, making it easy to perform operations on matrices and higher-dimensional data, whereas Python lists are inherently one-dimensional and require nested lists for multi-dimensional structures. These differences make NumPy arrays the preferred choice for scientific computing, data analysis, and machine learning, while Python lists are more suitable for general-purpose programming with heterogeneous data."
      ],
      "metadata": {
        "id": "rLccR1e7cv6c"
      }
    },
    {
      "cell_type": "markdown",
      "source": [
        "7. What is a heatmap, and when should it be used?"
      ],
      "metadata": {
        "id": "WrA1VvuMc3ZQ"
      }
    },
    {
      "cell_type": "markdown",
      "source": [
        "- A heatmap is a graphical representation of data where individual values are represented using colors, making it easy to visualize patterns, correlations, or intensity in a dataset. In Python, heatmaps are commonly created using the Seaborn library, often to display the correlation matrix of a DataFrame or the frequency of values in a table. Heatmaps are particularly useful when you want to identify relationships between variables, highlight areas of high or low activity, or visualize trends in large datasets at a glance. The color gradients provide immediate visual cues about the magnitude of values, making heatmaps an effective tool for statistical analysis, exploratory data analysis (EDA), and presenting complex data in a simplified, interpretable format."
      ],
      "metadata": {
        "id": "lsclntmldFIp"
      }
    },
    {
      "cell_type": "markdown",
      "source": [
        "8. What does the term “vectorized operation” mean in NumPy?"
      ],
      "metadata": {
        "id": "Ytokv0VGdHKC"
      }
    },
    {
      "cell_type": "markdown",
      "source": [
        "- In NumPy, a vectorized operation refers to performing element-wise operations on entire arrays without using explicit Python loops. Instead of iterating over each element with for loops, NumPy applies the operation to all elements simultaneously using optimized, low-level C code under the hood. This makes computations much faster and more efficient, especially for large datasets. For example, adding two arrays A and B element-wise can be done simply with C = A + B, instead of looping through each index. Vectorized operations also improve code readability and simplicity, reduce errors, and enable broadcasting, where arrays of different shapes can be automatically aligned for arithmetic operations. These features make NumPy highly suitable for scientific computing, data analysis, and machine learning applications."
      ],
      "metadata": {
        "id": "MRTi03cddQrP"
      }
    },
    {
      "cell_type": "markdown",
      "source": [
        "9. How does Matplotlib differ from Plotly?"
      ],
      "metadata": {
        "id": "7Jui8-yIgN6f"
      }
    },
    {
      "cell_type": "markdown",
      "source": [
        "- Matplotlib and Plotly are both Python libraries for data visualization, but they differ in functionality and interactivity. Matplotlib is a 2D plotting library that provides fine-grained control over plots and is widely used for static, publication-quality visualizations. It is highly customizable but requires more code for complex interactive features. Plotly, on the other hand, is designed for interactive and web-based visualizations, allowing users to zoom, hover, and interact with charts directly in notebooks or web applications. Plotly supports both 2D and 3D plotting and automatically produces visually appealing plots with less customization. While Matplotlib is excellent for traditional plotting and static reports, Plotly is preferred when interactive exploration, dashboards, or dynamic presentations are required. Both libraries integrate with Pandas and NumPy, but the choice depends on whether the focus is on static precision (Matplotlib) or interactive visualization (Plotly)."
      ],
      "metadata": {
        "id": "jES3jASAgUSr"
      }
    },
    {
      "cell_type": "markdown",
      "source": [
        "10. What is the significance of hierarchical indexing in Pandas?"
      ],
      "metadata": {
        "id": "BqtXytgQgdj8"
      }
    },
    {
      "cell_type": "markdown",
      "source": [
        "Hierarchical indexing (also called multi-level indexing) in Pandas allows a DataFrame or Series to have multiple levels of row or column labels, enabling the representation of higher-dimensional data in a two-dimensional structure. This feature is particularly useful for organizing and analyzing complex datasets where each observation has multiple categorical variables, such as sales data across regions and time periods. Hierarchical indexing allows easy grouping, slicing, and aggregation at different levels, making it possible to perform operations on subsets of data without flattening the dataset. For example, one can compute totals for each region, then for each month within that region, using multi-level indices. Overall, hierarchical indexing increases data organization, flexibility, and analytical power, allowing more sophisticated and intuitive data manipulation in Pandas."
      ],
      "metadata": {
        "id": "8k9cm79Ugjs-"
      }
    },
    {
      "cell_type": "markdown",
      "source": [
        "11. What is the role of Seaborn’s pairplot() function?"
      ],
      "metadata": {
        "id": "MSw9l4JegqiS"
      }
    },
    {
      "cell_type": "markdown",
      "source": [
        "- The pairplot() function in Seaborn is used to create a matrix of scatter plots that shows the pairwise relationships between multiple numerical variables in a dataset. It provides a quick and visual way to explore correlations, trends, and distributions among variables. By default, pairplot() plots scatter plots for variable pairs and histograms or density plots along the diagonal to show individual variable distributions. It also supports categorical differentiation by color-coding points according to a category, making it easier to identify patterns or clusters in different groups. The function is particularly useful during exploratory data analysis (EDA), as it allows analysts to detect relationships and potential insights across multiple features in a single visualization."
      ],
      "metadata": {
        "id": "6OkjuzAwgwm1"
      }
    },
    {
      "cell_type": "markdown",
      "source": [
        "12. What is the purpose of the describe() function in Pandas?"
      ],
      "metadata": {
        "id": "UPCMCgP6g1F6"
      }
    },
    {
      "cell_type": "markdown",
      "source": [
        "- The describe() function in Pandas is used to generate summary statistics of a DataFrame or Series, providing a quick overview of the dataset. For numerical columns, it returns measures such as count, mean, standard deviation, minimum, 25th percentile (Q1), median (50th percentile), 75th percentile (Q3), and maximum, helping to understand the distribution and spread of the data. For categorical columns, it provides count, unique values, most frequent value, and its frequency. This function is particularly useful during exploratory data analysis (EDA) because it allows analysts to quickly detect anomalies, outliers, and trends, and get insights into the data without writing multiple aggregation functions manually. By summarizing large datasets efficiently, describe() helps in making informed decisions about data cleaning, transformation, and analysis."
      ],
      "metadata": {
        "id": "M9DqPI9WhJzV"
      }
    },
    {
      "cell_type": "markdown",
      "source": [
        "13. Why is handling missing data important in Pandas?"
      ],
      "metadata": {
        "id": "68ZmNX08hTHF"
      }
    },
    {
      "cell_type": "markdown",
      "source": [
        "- Handling missing data in Pandas is crucial because incomplete or null values can lead to incorrect analyses, biased results, or errors in computations and machine learning models. Missing data may occur due to data entry errors, merging datasets, or data collection issues. Pandas provides functions like isnull(), dropna(), and fillna() to identify, remove, or impute missing values, ensuring that the dataset is clean and reliable. Proper handling of missing data allows analysts to maintain data integrity, improve model accuracy, and draw valid insights. Ignoring missing values can distort statistical measures such as mean, median, or correlations, leading to faulty conclusions. Therefore, managing missing data is a fundamental step in data preprocessing and exploratory data analysis (EDA)."
      ],
      "metadata": {
        "id": "LEEZhYXOhbK6"
      }
    },
    {
      "cell_type": "markdown",
      "source": [
        "14. What are the benefits of using Plotly for data visualization?"
      ],
      "metadata": {
        "id": "kiIgzpSfgmHO"
      }
    },
    {
      "cell_type": "markdown",
      "source": [
        "- The main benefits of using Plotly for data visualization lie in its ability to create highly interactive, dynamic, and visually appealing plots compared to traditional libraries like Matplotlib. Plotly supports a wide range of chart types, including line plots, bar charts, scatter plots, heatmaps, and advanced visualizations like 3D plots and geographical maps, making it suitable for both simple and complex data analysis tasks. Its interactivity allows users to zoom, pan, hover, and filter data points directly within the visualization, which enhances data exploration and understanding. Plotly also integrates well with Python, R, and JavaScript, and works seamlessly in Jupyter Notebooks, web applications, and dashboards, making it versatile for both research and industry use. Another advantage is its ability to handle large datasets efficiently and produce publication-quality visuals that can be easily shared online. Because of these strengths, Plotly is widely preferred in scenarios where interactive exploration and professional presentation of data are required."
      ],
      "metadata": {
        "id": "ypThxTEygtVW"
      }
    },
    {
      "cell_type": "markdown",
      "source": [
        "15. How does NumPy handle multidimensional arrays?"
      ],
      "metadata": {
        "id": "-y7Nhm_Kg0Vn"
      }
    },
    {
      "cell_type": "markdown",
      "source": [
        "- NumPy handles multidimensional arrays, also known as ndarrays, by storing elements in a continuous block of memory and allowing efficient operations through indexing, slicing, and broadcasting. Unlike Python lists, which are nested for multiple dimensions, NumPy arrays use a uniform data type and are represented as grids, where each axis has a specific length called a shape. For example, a 2D array looks like a matrix with rows and columns, while higher dimensions (3D, 4D, etc.) are also supported for more complex data. NumPy provides powerful functions to reshape, transpose, and manipulate these arrays without copying the data, which makes it memory efficient. It also supports vectorized operations and broadcasting, which allows element-wise computation across dimensions without writing explicit loops. This efficient handling of multidimensional arrays makes NumPy especially useful in fields like scientific computing, machine learning, image processing, and data analysis."
      ],
      "metadata": {
        "id": "Rqw5-Kyvg7eh"
      }
    },
    {
      "cell_type": "markdown",
      "source": [
        "16. What is the role of Bokeh in data visualization?"
      ],
      "metadata": {
        "id": "6rESl8_jhBwk"
      }
    },
    {
      "cell_type": "markdown",
      "source": [
        "- The role of Bokeh in data visualization is to create interactive and web-friendly plots that make data exploration easier and more engaging. Unlike static libraries such as Matplotlib, Bokeh is designed for dynamic visualizations where users can zoom, pan, hover, and filter data directly within the browser. It integrates well with Python notebooks, HTML, and dashboards, allowing visualizations to be shared easily across platforms. Bokeh also supports real-time streaming data and works efficiently with large datasets, especially when combined with tools like Dask or Datashader. Another important role of Bokeh is in building interactive dashboards with widgets such as sliders, dropdowns, and buttons, making it useful for applications that require user input or live data updates. In summary, Bokeh’s main role is to provide interactivity, scalability, and flexibility in data visualization, making it an excellent tool for modern data science and analytics."
      ],
      "metadata": {
        "id": "9CrWJ2QJhKlV"
      }
    },
    {
      "cell_type": "markdown",
      "source": [
        "17. Explain the difference between apply() and map() in Pandas?"
      ],
      "metadata": {
        "id": "fr0VbL1jhRoU"
      }
    },
    {
      "cell_type": "markdown",
      "source": [
        "- In Pandas, both apply() and map() are used to transform data, but they serve slightly different purposes. The map() function is mainly applied to a Pandas Series (a single column) and is used for element-wise operations such as applying a function, mapping values from a dictionary, or replacing values directly. On the other hand, the apply() function is more flexible because it can be used on both Series and DataFrames, allowing the application of a custom function along an axis (rows or columns). While map() works best for simple transformations on one-dimensional data, apply() is preferred when more complex row-wise or column-wise computations are required. In summary, map() is ideal for element-wise transformations on a Series, whereas apply() is suited for applying custom or complex functions across rows and columns of a DataFrame."
      ],
      "metadata": {
        "id": "Y3lRO6ZehX-2"
      }
    },
    {
      "cell_type": "markdown",
      "source": [
        "18. What are some advanced features of NumPy?"
      ],
      "metadata": {
        "id": "yYe45MNShfVn"
      }
    },
    {
      "cell_type": "markdown",
      "source": [
        "- NumPy offers several advanced features that make it a powerful library for scientific computing and data analysis. One key feature is its ability to handle multidimensional arrays (ndarrays) efficiently, supporting operations such as reshaping, transposing, and broadcasting without unnecessary data copying. NumPy also provides vectorized operations, which allow mathematical computations to be applied to entire arrays at once, significantly improving speed compared to Python loops. Another advanced feature is its support for linear algebra, Fourier transforms, and random number generation, making it useful in areas like machine learning, simulations, and signal processing. NumPy’s memory efficiency through homogeneous data storage and its ability to integrate with C, C++, and Fortran code also make it suitable for high-performance applications. Additionally, it underpins many data science and machine learning libraries, acting as the core numerical foundation in Python. These advanced capabilities make NumPy indispensable for solving complex computational problems efficiently."
      ],
      "metadata": {
        "id": "s18NI53fhk59"
      }
    },
    {
      "cell_type": "markdown",
      "source": [
        "19. How does Pandas simplify time series analysis?"
      ],
      "metadata": {
        "id": "jZVHYWEhiM4I"
      }
    },
    {
      "cell_type": "markdown",
      "source": [
        "- Pandas simplifies time series analysis by providing specialized tools and data structures that make handling dates, times, and time-indexed data intuitive and efficient. One of the key features is the DateTimeIndex, which allows easy indexing, slicing, and subsetting of data based on time ranges. Pandas also offers built-in functions for resampling (e.g., converting daily data to monthly or yearly averages), shifting and lagging values, and handling time zone conversions, which are crucial in time-dependent analysis. With methods like to_datetime(), raw strings or numbers can be quickly converted into proper datetime objects, ensuring consistency. Moreover, Pandas integrates seamlessly with rolling windows and moving averages, enabling trend detection and smoothing in time series data. These features reduce the need for manual coding and complex logic, allowing analysts to focus on insights rather than data manipulation. In summary, Pandas makes time series analysis more straightforward, accurate, and efficient by offering rich functionality and ease of use.\n"
      ],
      "metadata": {
        "id": "kQf5Gj3UiVuG"
      }
    },
    {
      "cell_type": "markdown",
      "source": [
        "20. What is the role of a pivot table in Pandas?"
      ],
      "metadata": {
        "id": "Tqx662OSigtO"
      }
    },
    {
      "cell_type": "markdown",
      "source": [
        "- The role of a pivot table in Pandas is to provide a powerful way to summarize, analyze, and reorganize data in a tabular format. Using the pivot_table() function, Pandas allows data to be grouped by one or more keys and aggregated using functions like sum, mean, count, or custom operations. Pivot tables make it easier to identify patterns, trends, and relationships in large datasets by transforming raw data into a more structured and readable format. They are especially useful in exploratory data analysis for tasks such as comparing categories, calculating totals or averages across groups, and restructuring datasets for reporting. With their flexibility to handle multiple dimensions and customizable aggregation, pivot tables in Pandas serve as an essential tool for data summarization and decision-making."
      ],
      "metadata": {
        "id": "jxU7C1nlioOJ"
      }
    },
    {
      "cell_type": "markdown",
      "source": [
        "21. Why is NumPy’s array slicing faster than Python’s list slicing?"
      ],
      "metadata": {
        "id": "_Tg6eGvyissu"
      }
    },
    {
      "cell_type": "markdown",
      "source": [
        "- NumPy’s array slicing is faster than Python’s list slicing because NumPy arrays are stored in contiguous memory blocks and use a homogeneous data type, allowing operations to be executed at a low-level in C. When slicing a NumPy array, it creates a view of the original data rather than copying the elements, which avoids unnecessary memory allocation and reduces computational overhead. In contrast, Python lists are collections of object references scattered in memory, and slicing a list creates a new list with copies of references, which is slower and less memory-efficient. Additionally, NumPy’s vectorized operations can be applied directly to slices without loops, further enhancing performance. These features make array slicing in NumPy particularly suitable for large datasets and high-performance numerical computations, providing both speed and efficiency over standard Python lists."
      ],
      "metadata": {
        "id": "CsP1f4VBi3xo"
      }
    },
    {
      "cell_type": "markdown",
      "source": [
        "22. What are some common use cases for Seaborn?"
      ],
      "metadata": {
        "id": "7APgcfCOi5vm"
      }
    },
    {
      "cell_type": "markdown",
      "source": [
        "- Seaborn is a Python library built on top of Matplotlib and is widely used for statistical data visualization. Its common use cases include creating distribution plots (like histograms, KDE plots, and rug plots) to understand the spread of data, categorical plots (like boxplots, violin plots, and bar plots) to compare groups, and relational plots (like scatterplots and line plots) to examine relationships between variables. Seaborn is also highly effective for correlation analysis, using heatmaps to visualize correlation matrices, and for exploratory data analysis (EDA), providing tools like pairplots and jointplots to investigate patterns, trends, and interactions between multiple variables. Its default aesthetic styles, color palettes, and integration with Pandas make it particularly useful for quickly generating informative, publication-ready plots while simplifying complex visualizations in large datasets."
      ],
      "metadata": {
        "id": "6Hddpo3VjAYE"
      }
    },
    {
      "cell_type": "markdown",
      "source": [
        "Practical Question"
      ],
      "metadata": {
        "id": "5p_isgtdjJjl"
      }
    },
    {
      "cell_type": "markdown",
      "source": [
        "1. How do you create a 2D NumPy array and calculate the sum of each row?"
      ],
      "metadata": {
        "id": "zwkXkn0YkGQ_"
      }
    },
    {
      "cell_type": "code",
      "source": [
        "import numpy as np\n",
        "\n",
        "# Creating a 2D NumPy array\n",
        "arr = np.array([[1, 2, 3],\n",
        "                [4, 5, 6],\n",
        "                [7, 8, 9]])\n",
        "\n",
        "# Calculating sum of each row\n",
        "row_sums = arr.sum(axis=1)\n",
        "print(row_sums)\n"
      ],
      "metadata": {
        "colab": {
          "base_uri": "https://localhost:8080/"
        },
        "id": "Vw6PKY6Zka8c",
        "outputId": "fccbecf7-4dc6-4c93-f619-2fe6e7be2d0a"
      },
      "execution_count": 1,
      "outputs": [
        {
          "output_type": "stream",
          "name": "stdout",
          "text": [
            "[ 6 15 24]\n"
          ]
        }
      ]
    },
    {
      "cell_type": "markdown",
      "source": [
        "2. Write a Pandas script to find the mean of a specific column in a DataFrame."
      ],
      "metadata": {
        "id": "mCODbGh4kkKr"
      }
    },
    {
      "cell_type": "code",
      "source": [
        "import pandas as pd\n",
        "\n",
        "# Creating a sample DataFrame\n",
        "data = {'Name': ['Alice', 'Bob', 'Charlie'],\n",
        "        'Age': [25, 30, 28],\n",
        "        'Salary': [50000, 60000, 55000]}\n",
        "\n",
        "df = pd.DataFrame(data)\n",
        "\n",
        "# Calculating the mean of the 'Salary' column\n",
        "mean_salary = df['Salary'].mean()\n",
        "print(\"Mean Salary:\", mean_salary)"
      ],
      "metadata": {
        "colab": {
          "base_uri": "https://localhost:8080/"
        },
        "id": "srnyIx4Vkg6z",
        "outputId": "ab1b7708-9b44-4204-804e-258b2b7228f7"
      },
      "execution_count": 2,
      "outputs": [
        {
          "output_type": "stream",
          "name": "stdout",
          "text": [
            "Mean Salary: 55000.0\n"
          ]
        }
      ]
    },
    {
      "cell_type": "markdown",
      "source": [
        "3. Create a scatter plot using Matplotlib."
      ],
      "metadata": {
        "id": "yo9hp8FslIuw"
      }
    },
    {
      "cell_type": "code",
      "source": [
        "import matplotlib.pyplot as plt\n",
        "\n",
        "# Sample data\n",
        "x = [1, 2, 3, 4, 5]\n",
        "y = [10, 12, 15, 20, 25]\n",
        "\n",
        "# Creating a scatter plot\n",
        "plt.scatter(x, y, color='blue', marker='o')\n",
        "plt.title('Sample Scatter Plot')\n",
        "plt.xlabel('X-axis')\n",
        "plt.ylabel('Y-axis')\n",
        "plt.show()"
      ],
      "metadata": {
        "colab": {
          "base_uri": "https://localhost:8080/",
          "height": 472
        },
        "id": "775NnJzPlEdr",
        "outputId": "d9a97117-f5d9-473f-f114-9378e546e432"
      },
      "execution_count": 3,
      "outputs": [
        {
          "output_type": "display_data",
          "data": {
            "text/plain": [
              "<Figure size 640x480 with 1 Axes>"
            ],
            "image/png": "[encoded data removed]"
          },
          "metadata": {}
        }
      ]
    },
    {
      "cell_type": "markdown",
      "source": [
        "4. How do you calculate the correlation matrix using Seaborn and visualize it with a heatmap"
      ],
      "metadata": {
        "id": "OqLJ3XGJlrCT"
      }
    },
    {
      "cell_type": "code",
      "source": [
        "import pandas as pd\n",
        "import seaborn as sns\n",
        "import matplotlib.pyplot as plt\n",
        "\n",
        "# Sample data\n",
        "data = {'A': [1, 2, 3, 4, 5],\n",
        "        'B': [5, 4, 3, 2, 1],\n",
        "        'C': [2, 3, 4, 5, 6]}\n",
        "\n",
        "df = pd.DataFrame(data)\n",
        "\n",
        "# Calculate correlation matrix\n",
        "corr_matrix = df.corr()\n",
        "\n",
        "# Visualize using a heatmap\n",
        "sns.heatmap(corr_matrix, annot=True, cmap='coolwarm')\n",
        "plt.title('Correlation Matrix Heatmap')\n",
        "plt.show()\n"
      ],
      "metadata": {
        "colab": {
          "base_uri": "https://localhost:8080/",
          "height": 452
        },
        "id": "bxoDsPpSlUMU",
        "outputId": "095657ba-76c3-40be-eab7-e6b785ec5fde"
      },
      "execution_count": 4,
      "outputs": [
        {
          "output_type": "display_data",
          "data": {
            "text/plain": [
              "<Figure size 640x480 with 2 Axes>"
            ],
            "image/png": "[encoded data removed]"
          },
          "metadata": {}
        }
      ]
    },
    {
      "cell_type": "markdown",
      "source": [
        "5. Generate a bar plot using Plotly"
      ],
      "metadata": {
        "id": "YSRaY_Bjo1i7"
      }
    },
    {
      "cell_type": "code",
      "source": [
        "import plotly.express as px\n",
        "import pandas as pd\n",
        "\n",
        "# Sample data\n",
        "data = {'Category': ['A', 'B', 'C', 'D'],\n",
        "        'Values': [10, 15, 7, 12]}\n",
        "df = pd.DataFrame(data)\n",
        "\n",
        "# Create a bar plot\n",
        "fig = px.bar(df, x='Category', y='Values', title='Sample Bar Plot', color='Values')\n",
        "fig.show()\n"
      ],
      "metadata": {
        "colab": {
          "base_uri": "https://localhost:8080/",
          "height": 542
        },
        "id": "DPoP7Fr3os_J",
        "outputId": "a15f621e-9bdd-4720-93c3-bac40844069c"
      },
      "execution_count": 5,
      "outputs": [
        {
          "output_type": "display_data",
          "data": {
            "text/html": [
              "<html>\n",
              "<head><meta charset=\"utf-8\" /></head>\n",
              "<body>\n",
              "    <div>            <script src=\"https://cdnjs.cloudflare.com/ajax/libs/mathjax/2.7.5/MathJax.js?config=TeX-AMS-MML_SVG\"></script><script type=\"text/javascript\">if (window.MathJax && window.MathJax.Hub && window.MathJax.Hub.Config) {window.MathJax.Hub.Config({SVG: {font: \"STIX-Web\"}});}</script>                <script type=\"text/javascript\">window.PlotlyConfig = {MathJaxConfig: 'local'};</script>\n",
              "        <script charset=\"utf-8\" src=\"https://cdn.plot.ly/plotly-2.35.2.min.js\"></script>                <div id=\"d9a87aad-719b-465c-8fa4-9aabe2062e9f\" class=\"plotly-graph-div\" style=\"height:525px; width:100%;\"></div>            <script type=\"text/javascript\">                                    window.PLOTLYENV=window.PLOTLYENV || {};                                    if (document.getElementById(\"d9a87aad-719b-465c-8fa4-9aabe2062e9f\")) {                    Plotly.newPlot(                        \"d9a87aad-719b-465c-8fa4-9aabe2062e9f\",                        [{\"alignmentgroup\":\"True\",\"hovertemplate\":\"Category=%{x}\\u003cbr\\u003eValues=%{marker.color}\\u003cextra\\u003e\\u003c\\u002fextra\\u003e\",\"legendgroup\":\"\",\"marker\":{\"color\":[10,15,7,12],\"coloraxis\":\"coloraxis\",\"pattern\":{\"shape\":\"\"}},\"name\":\"\",\"offsetgroup\":\"\",\"orientation\":\"v\",\"showlegend\":false,\"textposition\":\"auto\",\"x\":[\"A\",\"B\",\"C\",\"D\"],\"xaxis\":\"x\",\"y\":[10,15,7,12],\"yaxis\":\"y\",\"type\":\"bar\"}],                        {\"template\":{\"data\":{\"histogram2dcontour\":[{\"type\":\"histogram2dcontour\",\"colorbar\":{\"outlinewidth\":0,\"ticks\":\"\"},\"colorscale\":[[0.0,\"#0d0887\"],[0.1111111111111111,\"#46039f\"],[0.2222222222222222,\"#7201a8\"],[0.3333333333333333,\"#9c179e\"],[0.4444444444444444,\"#bd3786\"],[0.5555555555555556,\"#d8576b\"],[0.6666666666666666,\"#ed7953\"],[0.7777777777777778,\"#fb9f3a\"],[0.8888888888888888,\"#fdca26\"],[1.0,\"#f0f921\"]]}],\"choropleth\":[{\"type\":\"choropleth\",\"colorbar\":{\"outlinewidth\":0,\"ticks\":\"\"}}],\"histogram2d\":[{\"type\":\"histogram2d\",\"colorbar\":{\"outlinewidth\":0,\"ticks\":\"\"},\"colorscale\":[[0.0,\"#0d0887\"],[0.1111111111111111,\"#46039f\"],[0.2222222222222222,\"#7201a8\"],[0.3333333333333333,\"#9c179e\"],[0.4444444444444444,\"#bd3786\"],[0.5555555555555556,\"#d8576b\"],[0.6666666666666666,\"#ed7953\"],[0.7777777777777778,\"#fb9f3a\"],[0.8888888888888888,\"#fdca26\"],[1.0,\"#f0f921\"]]}],\"heatmap\":[{\"type\":\"heatmap\",\"colorbar\":{\"outlinewidth\":0,\"ticks\":\"\"},\"colorscale\":[[0.0,\"#0d0887\"],[0.1111111111111111,\"#46039f\"],[0.2222222222222222,\"#7201a8\"],[0.3333333333333333,\"#9c179e\"],[0.4444444444444444,\"#bd3786\"],[0.5555555555555556,\"#d8576b\"],[0.6666666666666666,\"#ed7953\"],[0.7777777777777778,\"#fb9f3a\"],[0.8888888888888888,\"#fdca26\"],[1.0,\"#f0f921\"]]}],\"heatmapgl\":[{\"type\":\"heatmapgl\",\"colorbar\":{\"outlinewidth\":0,\"ticks\":\"\"},\"colorscale\":[[0.0,\"#0d0887\"],[0.1111111111111111,\"#46039f\"],[0.2222222222222222,\"#7201a8\"],[0.3333333333333333,\"#9c179e\"],[0.4444444444444444,\"#bd3786\"],[0.5555555555555556,\"#d8576b\"],[0.6666666666666666,\"#ed7953\"],[0.7777777777777778,\"#fb9f3a\"],[0.8888888888888888,\"#fdca26\"],[1.0,\"#f0f921\"]]}],\"contourcarpet\":[{\"type\":\"contourcarpet\",\"colorbar\":{\"outlinewidth\":0,\"ticks\":\"\"}}],\"contour\":[{\"type\":\"contour\",\"colorbar\":{\"outlinewidth\":0,\"ticks\":\"\"},\"colorscale\":[[0.0,\"#0d0887\"],[0.1111111111111111,\"#46039f\"],[0.2222222222222222,\"#7201a8\"],[0.3333333333333333,\"#9c179e\"],[0.4444444444444444,\"#bd3786\"],[0.5555555555555556,\"#d8576b\"],[0.6666666666666666,\"#ed7953\"],[0.7777777777777778,\"#fb9f3a\"],[0.8888888888888888,\"#fdca26\"],[1.0,\"#f0f921\"]]}],\"surface\":[{\"type\":\"surface\",\"colorbar\":{\"outlinewidth\":0,\"ticks\":\"\"},\"colorscale\":[[0.0,\"#0d0887\"],[0.1111111111111111,\"#46039f\"],[0.2222222222222222,\"#7201a8\"],[0.3333333333333333,\"#9c179e\"],[0.4444444444444444,\"#bd3786\"],[0.5555555555555556,\"#d8576b\"],[0.6666666666666666,\"#ed7953\"],[0.7777777777777778,\"#fb9f3a\"],[0.8888888888888888,\"#fdca26\"],[1.0,\"#f0f921\"]]}],\"mesh3d\":[{\"type\":\"mesh3d\",\"colorbar\":{\"outlinewidth\":0,\"ticks\":\"\"}}],\"scatter\":[{\"fillpattern\":{\"fillmode\":\"overlay\",\"size\":10,\"solidity\":0.2},\"type\":\"scatter\"}],\"parcoords\":[{\"type\":\"parcoords\",\"line\":{\"colorbar\":{\"outlinewidth\":0,\"ticks\":\"\"}}}],\"scatterpolargl\":[{\"type\":\"scatterpolargl\",\"marker\":{\"colorbar\":{\"outlinewidth\":0,\"ticks\":\"\"}}}],\"bar\":[{\"error_x\":{\"color\":\"#2a3f5f\"},\"error_y\":{\"color\":\"#2a3f5f\"},\"marker\":{\"line\":{\"color\":\"#E5ECF6\",\"width\":0.5},\"pattern\":{\"fillmode\":\"overlay\",\"size\":10,\"solidity\":0.2}},\"type\":\"bar\"}],\"scattergeo\":[{\"type\":\"scattergeo\",\"marker\":{\"colorbar\":{\"outlinewidth\":0,\"ticks\":\"\"}}}],\"scatterpolar\":[{\"type\":\"scatterpolar\",\"marker\":{\"colorbar\":{\"outlinewidth\":0,\"ticks\":\"\"}}}],\"histogram\":[{\"marker\":{\"pattern\":{\"fillmode\":\"overlay\",\"size\":10,\"solidity\":0.2}},\"type\":\"histogram\"}],\"scattergl\":[{\"type\":\"scattergl\",\"marker\":{\"colorbar\":{\"outlinewidth\":0,\"ticks\":\"\"}}}],\"scatter3d\":[{\"type\":\"scatter3d\",\"line\":{\"colorbar\":{\"outlinewidth\":0,\"ticks\":\"\"}},\"marker\":{\"colorbar\":{\"outlinewidth\":0,\"ticks\":\"\"}}}],\"scattermapbox\":[{\"type\":\"scattermapbox\",\"marker\":{\"colorbar\":{\"outlinewidth\":0,\"ticks\":\"\"}}}],\"scatterternary\":[{\"type\":\"scatterternary\",\"marker\":{\"colorbar\":{\"outlinewidth\":0,\"ticks\":\"\"}}}],\"scattercarpet\":[{\"type\":\"scattercarpet\",\"marker\":{\"colorbar\":{\"outlinewidth\":0,\"ticks\":\"\"}}}],\"carpet\":[{\"aaxis\":{\"endlinecolor\":\"#2a3f5f\",\"gridcolor\":\"white\",\"linecolor\":\"white\",\"minorgridcolor\":\"white\",\"startlinecolor\":\"#2a3f5f\"},\"baxis\":{\"endlinecolor\":\"#2a3f5f\",\"gridcolor\":\"white\",\"linecolor\":\"white\",\"minorgridcolor\":\"white\",\"startlinecolor\":\"#2a3f5f\"},\"type\":\"carpet\"}],\"table\":[{\"cells\":{\"fill\":{\"color\":\"#EBF0F8\"},\"line\":{\"color\":\"white\"}},\"header\":{\"fill\":{\"color\":\"#C8D4E3\"},\"line\":{\"color\":\"white\"}},\"type\":\"table\"}],\"barpolar\":[{\"marker\":{\"line\":{\"color\":\"#E5ECF6\",\"width\":0.5},\"pattern\":{\"fillmode\":\"overlay\",\"size\":10,\"solidity\":0.2}},\"type\":\"barpolar\"}],\"pie\":[{\"automargin\":true,\"type\":\"pie\"}]},\"layout\":{\"autotypenumbers\":\"strict\",\"colorway\":[\"#636efa\",\"#EF553B\",\"#00cc96\",\"#ab63fa\",\"#FFA15A\",\"#19d3f3\",\"#FF6692\",\"#B6E880\",\"#FF97FF\",\"#FECB52\"],\"font\":{\"color\":\"#2a3f5f\"},\"hovermode\":\"closest\",\"hoverlabel\":{\"align\":\"left\"},\"paper_bgcolor\":\"white\",\"plot_bgcolor\":\"#E5ECF6\",\"polar\":{\"bgcolor\":\"#E5ECF6\",\"angularaxis\":{\"gridcolor\":\"white\",\"linecolor\":\"white\",\"ticks\":\"\"},\"radialaxis\":{\"gridcolor\":\"white\",\"linecolor\":\"white\",\"ticks\":\"\"}},\"ternary\":{\"bgcolor\":\"#E5ECF6\",\"aaxis\":{\"gridcolor\":\"white\",\"linecolor\":\"white\",\"ticks\":\"\"},\"baxis\":{\"gridcolor\":\"white\",\"linecolor\":\"white\",\"ticks\":\"\"},\"caxis\":{\"gridcolor\":\"white\",\"linecolor\":\"white\",\"ticks\":\"\"}},\"coloraxis\":{\"colorbar\":{\"outlinewidth\":0,\"ticks\":\"\"}},\"colorscale\":{\"sequential\":[[0.0,\"#0d0887\"],[0.1111111111111111,\"#46039f\"],[0.2222222222222222,\"#7201a8\"],[0.3333333333333333,\"#9c179e\"],[0.4444444444444444,\"#bd3786\"],[0.5555555555555556,\"#d8576b\"],[0.6666666666666666,\"#ed7953\"],[0.7777777777777778,\"#fb9f3a\"],[0.8888888888888888,\"#fdca26\"],[1.0,\"#f0f921\"]],\"sequentialminus\":[[0.0,\"#0d0887\"],[0.1111111111111111,\"#46039f\"],[0.2222222222222222,\"#7201a8\"],[0.3333333333333333,\"#9c179e\"],[0.4444444444444444,\"#bd3786\"],[0.5555555555555556,\"#d8576b\"],[0.6666666666666666,\"#ed7953\"],[0.7777777777777778,\"#fb9f3a\"],[0.8888888888888888,\"#fdca26\"],[1.0,\"#f0f921\"]],\"diverging\":[[0,\"#8e0152\"],[0.1,\"#c51b7d\"],[0.2,\"#de77ae\"],[0.3,\"#f1b6da\"],[0.4,\"#fde0ef\"],[0.5,\"#f7f7f7\"],[0.6,\"#e6f5d0\"],[0.7,\"#b8e186\"],[0.8,\"#7fbc41\"],[0.9,\"#4d9221\"],[1,\"#276419\"]]},\"xaxis\":{\"gridcolor\":\"white\",\"linecolor\":\"white\",\"ticks\":\"\",\"title\":{\"standoff\":15},\"zerolinecolor\":\"white\",\"automargin\":true,\"zerolinewidth\":2},\"yaxis\":{\"gridcolor\":\"white\",\"linecolor\":\"white\",\"ticks\":\"\",\"title\":{\"standoff\":15},\"zerolinecolor\":\"white\",\"automargin\":true,\"zerolinewidth\":2},\"scene\":{\"xaxis\":{\"backgroundcolor\":\"#E5ECF6\",\"gridcolor\":\"white\",\"linecolor\":\"white\",\"showbackground\":true,\"ticks\":\"\",\"zerolinecolor\":\"white\",\"gridwidth\":2},\"yaxis\":{\"backgroundcolor\":\"#E5ECF6\",\"gridcolor\":\"white\",\"linecolor\":\"white\",\"showbackground\":true,\"ticks\":\"\",\"zerolinecolor\":\"white\",\"gridwidth\":2},\"zaxis\":{\"backgroundcolor\":\"#E5ECF6\",\"gridcolor\":\"white\",\"linecolor\":\"white\",\"showbackground\":true,\"ticks\":\"\",\"zerolinecolor\":\"white\",\"gridwidth\":2}},\"shapedefaults\":{\"line\":{\"color\":\"#2a3f5f\"}},\"annotationdefaults\":{\"arrowcolor\":\"#2a3f5f\",\"arrowhead\":0,\"arrowwidth\":1},\"geo\":{\"bgcolor\":\"white\",\"landcolor\":\"#E5ECF6\",\"subunitcolor\":\"white\",\"showland\":true,\"showlakes\":true,\"lakecolor\":\"white\"},\"title\":{\"x\":0.05},\"mapbox\":{\"style\":\"light\"}}},\"xaxis\":{\"anchor\":\"y\",\"domain\":[0.0,1.0],\"title\":{\"text\":\"Category\"}},\"yaxis\":{\"anchor\":\"x\",\"domain\":[0.0,1.0],\"title\":{\"text\":\"Values\"}},\"coloraxis\":{\"colorbar\":{\"title\":{\"text\":\"Values\"}},\"colorscale\":[[0.0,\"#0d0887\"],[0.1111111111111111,\"#46039f\"],[0.2222222222222222,\"#7201a8\"],[0.3333333333333333,\"#9c179e\"],[0.4444444444444444,\"#bd3786\"],[0.5555555555555556,\"#d8576b\"],[0.6666666666666666,\"#ed7953\"],[0.7777777777777778,\"#fb9f3a\"],[0.8888888888888888,\"#fdca26\"],[1.0,\"#f0f921\"]]},\"legend\":{\"tracegroupgap\":0},\"title\":{\"text\":\"Sample Bar Plot\"},\"barmode\":\"relative\"},                        {\"responsive\": true}                    ).then(function(){\n",
              "                            \n",
              "var gd = document.getElementById('d9a87aad-719b-465c-8fa4-9aabe2062e9f');\n",
              "var x = new MutationObserver(function (mutations, observer) {{\n",
              "        var display = window.getComputedStyle(gd).display;\n",
              "        if (!display || display === 'none') {{\n",
              "            console.log([gd, 'removed!']);\n",
              "            Plotly.purge(gd);\n",
              "            observer.disconnect();\n",
              "        }}\n",
              "}});\n",
              "\n",
              "// Listen for the removal of the full notebook cells\n",
              "var notebookContainer = gd.closest('#notebook-container');\n",
              "if (notebookContainer) {{\n",
              "    x.observe(notebookContainer, {childList: true});\n",
              "}}\n",
              "\n",
              "// Listen for the clearing of the current output cell\n",
              "var outputEl = gd.closest('.output');\n",
              "if (outputEl) {{\n",
              "    x.observe(outputEl, {childList: true});\n",
              "}}\n",
              "\n",
              "                        })                };                            </script>        </div>\n",
              "</body>\n",
              "</html>"
            ]
          },
          "metadata": {}
        }
      ]
    },
    {
      "cell_type": "markdown",
      "source": [
        "6. Create a DataFrame and add a new column based on an existing column."
      ],
      "metadata": {
        "id": "7AWEonBkpKzj"
      }
    },
    {
      "cell_type": "code",
      "source": [
        "import pandas as pd\n",
        "\n",
        "# Create a sample DataFrame\n",
        "data = {'Name': ['Alice', 'Bob', 'Charlie'],\n",
        "        'Salary': [50000, 60000, 55000]}\n",
        "df = pd.DataFrame(data)\n",
        "\n",
        "# Add a new column 'Bonus' as 10% of 'Salary'\n",
        "df['Bonus'] = df['Salary'] * 0.1\n",
        "print(df)\n"
      ],
      "metadata": {
        "colab": {
          "base_uri": "https://localhost:8080/"
        },
        "id": "0DPMbzO4o-rP",
        "outputId": "ae20280a-a84f-4af8-95df-ff971a4f65d1"
      },
      "execution_count": 6,
      "outputs": [
        {
          "output_type": "stream",
          "name": "stdout",
          "text": [
            "      Name  Salary   Bonus\n",
            "0    Alice   50000  5000.0\n",
            "1      Bob   60000  6000.0\n",
            "2  Charlie   55000  5500.0\n"
          ]
        }
      ]
    },
    {
      "cell_type": "markdown",
      "source": [
        "7. Write a program to perform element-wise multiplication of two NumPy arrays."
      ],
      "metadata": {
        "id": "hWB9ibxZphES"
      }
    },
    {
      "cell_type": "code",
      "source": [
        "import numpy as np\n",
        "\n",
        "# Create two NumPy arrays\n",
        "arr1 = np.array([1, 2, 3, 4])\n",
        "arr2 = np.array([5, 6, 7, 8])\n",
        "\n",
        "# Element-wise multiplication\n",
        "result = arr1 * arr2\n",
        "# Alternatively: result = np.multiply(arr1, arr2)\n",
        "\n",
        "print(result)"
      ],
      "metadata": {
        "colab": {
          "base_uri": "https://localhost:8080/"
        },
        "id": "_I42ITkWpaGH",
        "outputId": "a85f868f-771f-44bd-bb23-1d7602af2b41"
      },
      "execution_count": 7,
      "outputs": [
        {
          "output_type": "stream",
          "name": "stdout",
          "text": [
            "[ 5 12 21 32]\n"
          ]
        }
      ]
    },
    {
      "cell_type": "markdown",
      "source": [
        "8. Create a line plot with multiple lines using Matplotlib."
      ],
      "metadata": {
        "id": "SI-GsJEeptwl"
      }
    },
    {
      "cell_type": "code",
      "source": [
        "import matplotlib.pyplot as plt\n",
        "\n",
        "# Sample data\n",
        "x = [1, 2, 3, 4, 5]\n",
        "y1 = [2, 4, 6, 8, 10]\n",
        "y2 = [1, 3, 5, 7, 9]\n",
        "\n",
        "# Creating a line plot with multiple lines\n",
        "plt.plot(x, y1, label='Line 1', color='blue', marker='o')\n",
        "plt.plot(x, y2, label='Line 2', color='red', marker='x')\n",
        "\n",
        "plt.title('Multiple Line Plot')\n",
        "plt.xlabel('X-axis')\n",
        "plt.ylabel('Y-axis')\n",
        "plt.legend()\n",
        "plt.show()\n"
      ],
      "metadata": {
        "colab": {
          "base_uri": "https://localhost:8080/",
          "height": 472
        },
        "id": "P7VxK_7lppnv",
        "outputId": "0408799c-cc53-414e-f943-7236a123e973"
      },
      "execution_count": 8,
      "outputs": [
        {
          "output_type": "display_data",
          "data": {
            "text/plain": [
              "<Figure size 640x480 with 1 Axes>"
            ],
            "image/png": "[encoded data removed]"
          },
          "metadata": {}
        }
      ]
    },
    {
      "cell_type": "markdown",
      "source": [
        "9. Generate a Pandas DataFrame and filter rows where a column value is greater than a threshold."
      ],
      "metadata": {
        "id": "Zf5IL8iWp5zs"
      }
    },
    {
      "cell_type": "code",
      "source": [
        "import pandas as pd\n",
        "\n",
        "# Create a sample DataFrame\n",
        "data = {'Name': ['Alice', 'Bob', 'Charlie', 'David'],\n",
        "        'Age': [25, 30, 28, 22],\n",
        "        'Salary': [50000, 60000, 55000, 45000]}\n",
        "df = pd.DataFrame(data)\n",
        "\n",
        "# Filter rows where Salary is greater than 50000\n",
        "filtered_df = df[df['Salary'] > 50000]\n",
        "print(filtered_df)\n"
      ],
      "metadata": {
        "colab": {
          "base_uri": "https://localhost:8080/"
        },
        "id": "v4XJ-4fmp1Fr",
        "outputId": "cd457a6d-f924-4690-801e-d6fd1bcf6491"
      },
      "execution_count": 9,
      "outputs": [
        {
          "output_type": "stream",
          "name": "stdout",
          "text": [
            "      Name  Age  Salary\n",
            "1      Bob   30   60000\n",
            "2  Charlie   28   55000\n"
          ]
        }
      ]
    },
    {
      "cell_type": "markdown",
      "source": [
        "10. Create a histogram using Seaborn to visualize a distribution."
      ],
      "metadata": {
        "id": "8uwAMmSbqIdo"
      }
    },
    {
      "cell_type": "code",
      "source": [
        "import seaborn as sns\n",
        "import matplotlib.pyplot as plt\n",
        "\n",
        "# Sample data\n",
        "data = [12, 15, 14, 10, 18, 20, 15, 16, 12, 19, 14, 15]\n",
        "\n",
        "# Create a histogram\n",
        "sns.histplot(data, bins=5, color='skyblue', kde=True)\n",
        "plt.title('Histogram of Sample Data')\n",
        "plt.xlabel('Value')\n",
        "plt.ylabel('Frequency')\n",
        "plt.show()"
      ],
      "metadata": {
        "colab": {
          "base_uri": "https://localhost:8080/",
          "height": 472
        },
        "id": "itzLrXq8qBUD",
        "outputId": "3b8cb74a-18bc-45e9-9b82-d487f8c74131"
      },
      "execution_count": 10,
      "outputs": [
        {
          "output_type": "display_data",
          "data": {
            "text/plain": [
              "<Figure size 640x480 with 1 Axes>"
            ],
            "image/png": "[encoded data removed]"
          },
          "metadata": {}
        }
      ]
    },
    {
      "cell_type": "markdown",
      "source": [
        "11. Perform matrix multiplication using NumPy."
      ],
      "metadata": {
        "id": "vfJqPpkIqRua"
      }
    },
    {
      "cell_type": "code",
      "source": [
        "import numpy as np\n",
        "\n",
        "# Create two 2D arrays\n",
        "A = np.array([[1, 2],\n",
        "              [3, 4]])\n",
        "B = np.array([[5, 6],\n",
        "              [7, 8]])\n",
        "\n",
        "# Perform matrix multiplication\n",
        "C = np.dot(A, B)\n",
        "# Alternatively: C = A @ B\n",
        "\n",
        "print(C)"
      ],
      "metadata": {
        "colab": {
          "base_uri": "https://localhost:8080/"
        },
        "id": "0d2NDCI-qNrr",
        "outputId": "ed776eee-9e5a-40ca-ab69-87c67c91e8dc"
      },
      "execution_count": 11,
      "outputs": [
        {
          "output_type": "stream",
          "name": "stdout",
          "text": [
            "[[19 22]\n",
            " [43 50]]\n"
          ]
        }
      ]
    },
    {
      "cell_type": "markdown",
      "source": [
        "12. Use Pandas to load a CSV file and display its first 5 rows."
      ],
      "metadata": {
        "id": "RXICDnjgqc67"
      }
    },
    {
      "cell_type": "code",
      "source": [
        "import pandas as pd\n",
        "\n",
        "# Option 1: Load an existing CSV file\n",
        "# Make sure the file path is correct\n",
        "# df = pd.read_csv('sample_data.csv')\n",
        "\n",
        "# Option 2: Create a sample CSV in code and load it\n",
        "data = {\n",
        "    'Name': ['Alice', 'Bob', 'Charlie', 'David', 'Eva'],\n",
        "    'Age': [25, 30, 28, 22, 35],\n",
        "    'Salary': [50000, 60000, 55000, 45000, 70000]\n",
        "}\n",
        "\n",
        "# Create DataFrame\n",
        "df = pd.DataFrame(data)\n",
        "\n",
        "# Display the first 5 rows\n",
        "print(df.head())\n"
      ],
      "metadata": {
        "colab": {
          "base_uri": "https://localhost:8080/"
        },
        "id": "URjkTyMrqZtI",
        "outputId": "e981a53f-1239-4a01-f5bc-71fc69c7b35a"
      },
      "execution_count": 19,
      "outputs": [
        {
          "output_type": "stream",
          "name": "stdout",
          "text": [
            "      Name  Age  Salary\n",
            "0    Alice   25   50000\n",
            "1      Bob   30   60000\n",
            "2  Charlie   28   55000\n",
            "3    David   22   45000\n",
            "4      Eva   35   70000\n"
          ]
        }
      ]
    },
    {
      "cell_type": "markdown",
      "source": [
        "13. Create a 3D scatter plot using Plotly."
      ],
      "metadata": {
        "id": "azp94TDzrLg7"
      }
    },
    {
      "cell_type": "code",
      "metadata": {
        "colab": {
          "base_uri": "https://localhost:8080/",
          "height": 542
        },
        "id": "965ea090",
        "outputId": "dea29169-2840-41d7-fd8f-2263626c95e4"
      },
      "source": [
        "import plotly.express as px\n",
        "import pandas as pd\n",
        "\n",
        "# Sample data\n",
        "data = {'X': [1, 2, 3, 4, 5],\n",
        "        'Y': [10, 11, 12, 13, 14],\n",
        "        'Z': [5, 6, 7, 8, 9]}\n",
        "\n",
        "df = pd.DataFrame(data)\n",
        "\n",
        "# Create 3D scatter plot\n",
        "fig = px.scatter_3d(df, x='X', y='Y', z='Z', color='Z', size='X', title='3D Scatter Plot')\n",
        "fig.show()\n"
      ],
      "execution_count": 20,
      "outputs": [
        {
          "output_type": "display_data",
          "data": {
            "text/html": [
              "<html>\n",
              "<head><meta charset=\"utf-8\" /></head>\n",
              "<body>\n",
              "    <div>            <script src=\"https://cdnjs.cloudflare.com/ajax/libs/mathjax/2.7.5/MathJax.js?config=TeX-AMS-MML_SVG\"></script><script type=\"text/javascript\">if (window.MathJax && window.MathJax.Hub && window.MathJax.Hub.Config) {window.MathJax.Hub.Config({SVG: {font: \"STIX-Web\"}});}</script>                <script type=\"text/javascript\">window.PlotlyConfig = {MathJaxConfig: 'local'};</script>\n",
              "        <script charset=\"utf-8\" src=\"https://cdn.plot.ly/plotly-2.35.2.min.js\"></script>                <div id=\"b1434263-ce59-4360-8686-2e00b91d7d64\" class=\"plotly-graph-div\" style=\"height:525px; width:100%;\"></div>            <script type=\"text/javascript\">                                    window.PLOTLYENV=window.PLOTLYENV || {};                                    if (document.getElementById(\"b1434263-ce59-4360-8686-2e00b91d7d64\")) {                    Plotly.newPlot(                        \"b1434263-ce59-4360-8686-2e00b91d7d64\",                        [{\"hovertemplate\":\"X=%{marker.size}\\u003cbr\\u003eY=%{y}\\u003cbr\\u003eZ=%{marker.color}\\u003cextra\\u003e\\u003c\\u002fextra\\u003e\",\"legendgroup\":\"\",\"marker\":{\"color\":[5,6,7,8,9],\"coloraxis\":\"coloraxis\",\"size\":[1,2,3,4,5],\"sizemode\":\"area\",\"sizeref\":0.0125,\"symbol\":\"circle\"},\"mode\":\"markers\",\"name\":\"\",\"scene\":\"scene\",\"showlegend\":false,\"x\":[1,2,3,4,5],\"y\":[10,11,12,13,14],\"z\":[5,6,7,8,9],\"type\":\"scatter3d\"}],                        {\"template\":{\"data\":{\"histogram2dcontour\":[{\"type\":\"histogram2dcontour\",\"colorbar\":{\"outlinewidth\":0,\"ticks\":\"\"},\"colorscale\":[[0.0,\"#0d0887\"],[0.1111111111111111,\"#46039f\"],[0.2222222222222222,\"#7201a8\"],[0.3333333333333333,\"#9c179e\"],[0.4444444444444444,\"#bd3786\"],[0.5555555555555556,\"#d8576b\"],[0.6666666666666666,\"#ed7953\"],[0.7777777777777778,\"#fb9f3a\"],[0.8888888888888888,\"#fdca26\"],[1.0,\"#f0f921\"]]}],\"choropleth\":[{\"type\":\"choropleth\",\"colorbar\":{\"outlinewidth\":0,\"ticks\":\"\"}}],\"histogram2d\":[{\"type\":\"histogram2d\",\"colorbar\":{\"outlinewidth\":0,\"ticks\":\"\"},\"colorscale\":[[0.0,\"#0d0887\"],[0.1111111111111111,\"#46039f\"],[0.2222222222222222,\"#7201a8\"],[0.3333333333333333,\"#9c179e\"],[0.4444444444444444,\"#bd3786\"],[0.5555555555555556,\"#d8576b\"],[0.6666666666666666,\"#ed7953\"],[0.7777777777777778,\"#fb9f3a\"],[0.8888888888888888,\"#fdca26\"],[1.0,\"#f0f921\"]]}],\"heatmap\":[{\"type\":\"heatmap\",\"colorbar\":{\"outlinewidth\":0,\"ticks\":\"\"},\"colorscale\":[[0.0,\"#0d0887\"],[0.1111111111111111,\"#46039f\"],[0.2222222222222222,\"#7201a8\"],[0.3333333333333333,\"#9c179e\"],[0.4444444444444444,\"#bd3786\"],[0.5555555555555556,\"#d8576b\"],[0.6666666666666666,\"#ed7953\"],[0.7777777777777778,\"#fb9f3a\"],[0.8888888888888888,\"#fdca26\"],[1.0,\"#f0f921\"]]}],\"heatmapgl\":[{\"type\":\"heatmapgl\",\"colorbar\":{\"outlinewidth\":0,\"ticks\":\"\"},\"colorscale\":[[0.0,\"#0d0887\"],[0.1111111111111111,\"#46039f\"],[0.2222222222222222,\"#7201a8\"],[0.3333333333333333,\"#9c179e\"],[0.4444444444444444,\"#bd3786\"],[0.5555555555555556,\"#d8576b\"],[0.6666666666666666,\"#ed7953\"],[0.7777777777777778,\"#fb9f3a\"],[0.8888888888888888,\"#fdca26\"],[1.0,\"#f0f921\"]]}],\"contourcarpet\":[{\"type\":\"contourcarpet\",\"colorbar\":{\"outlinewidth\":0,\"ticks\":\"\"}}],\"contour\":[{\"type\":\"contour\",\"colorbar\":{\"outlinewidth\":0,\"ticks\":\"\"},\"colorscale\":[[0.0,\"#0d0887\"],[0.1111111111111111,\"#46039f\"],[0.2222222222222222,\"#7201a8\"],[0.3333333333333333,\"#9c179e\"],[0.4444444444444444,\"#bd3786\"],[0.5555555555555556,\"#d8576b\"],[0.6666666666666666,\"#ed7953\"],[0.7777777777777778,\"#fb9f3a\"],[0.8888888888888888,\"#fdca26\"],[1.0,\"#f0f921\"]]}],\"surface\":[{\"type\":\"surface\",\"colorbar\":{\"outlinewidth\":0,\"ticks\":\"\"},\"colorscale\":[[0.0,\"#0d0887\"],[0.1111111111111111,\"#46039f\"],[0.2222222222222222,\"#7201a8\"],[0.3333333333333333,\"#9c179e\"],[0.4444444444444444,\"#bd3786\"],[0.5555555555555556,\"#d8576b\"],[0.6666666666666666,\"#ed7953\"],[0.7777777777777778,\"#fb9f3a\"],[0.8888888888888888,\"#fdca26\"],[1.0,\"#f0f921\"]]}],\"mesh3d\":[{\"type\":\"mesh3d\",\"colorbar\":{\"outlinewidth\":0,\"ticks\":\"\"}}],\"scatter\":[{\"fillpattern\":{\"fillmode\":\"overlay\",\"size\":10,\"solidity\":0.2},\"type\":\"scatter\"}],\"parcoords\":[{\"type\":\"parcoords\",\"line\":{\"colorbar\":{\"outlinewidth\":0,\"ticks\":\"\"}}}],\"scatterpolargl\":[{\"type\":\"scatterpolargl\",\"marker\":{\"colorbar\":{\"outlinewidth\":0,\"ticks\":\"\"}}}],\"bar\":[{\"error_x\":{\"color\":\"#2a3f5f\"},\"error_y\":{\"color\":\"#2a3f5f\"},\"marker\":{\"line\":{\"color\":\"#E5ECF6\",\"width\":0.5},\"pattern\":{\"fillmode\":\"overlay\",\"size\":10,\"solidity\":0.2}},\"type\":\"bar\"}],\"scattergeo\":[{\"type\":\"scattergeo\",\"marker\":{\"colorbar\":{\"outlinewidth\":0,\"ticks\":\"\"}}}],\"scatterpolar\":[{\"type\":\"scatterpolar\",\"marker\":{\"colorbar\":{\"outlinewidth\":0,\"ticks\":\"\"}}}],\"histogram\":[{\"marker\":{\"pattern\":{\"fillmode\":\"overlay\",\"size\":10,\"solidity\":0.2}},\"type\":\"histogram\"}],\"scattergl\":[{\"type\":\"scattergl\",\"marker\":{\"colorbar\":{\"outlinewidth\":0,\"ticks\":\"\"}}}],\"scatter3d\":[{\"type\":\"scatter3d\",\"line\":{\"colorbar\":{\"outlinewidth\":0,\"ticks\":\"\"}},\"marker\":{\"colorbar\":{\"outlinewidth\":0,\"ticks\":\"\"}}}],\"scattermapbox\":[{\"type\":\"scattermapbox\",\"marker\":{\"colorbar\":{\"outlinewidth\":0,\"ticks\":\"\"}}}],\"scatterternary\":[{\"type\":\"scatterternary\",\"marker\":{\"colorbar\":{\"outlinewidth\":0,\"ticks\":\"\"}}}],\"scattercarpet\":[{\"type\":\"scattercarpet\",\"marker\":{\"colorbar\":{\"outlinewidth\":0,\"ticks\":\"\"}}}],\"carpet\":[{\"aaxis\":{\"endlinecolor\":\"#2a3f5f\",\"gridcolor\":\"white\",\"linecolor\":\"white\",\"minorgridcolor\":\"white\",\"startlinecolor\":\"#2a3f5f\"},\"baxis\":{\"endlinecolor\":\"#2a3f5f\",\"gridcolor\":\"white\",\"linecolor\":\"white\",\"minorgridcolor\":\"white\",\"startlinecolor\":\"#2a3f5f\"},\"type\":\"carpet\"}],\"table\":[{\"cells\":{\"fill\":{\"color\":\"#EBF0F8\"},\"line\":{\"color\":\"white\"}},\"header\":{\"fill\":{\"color\":\"#C8D4E3\"},\"line\":{\"color\":\"white\"}},\"type\":\"table\"}],\"barpolar\":[{\"marker\":{\"line\":{\"color\":\"#E5ECF6\",\"width\":0.5},\"pattern\":{\"fillmode\":\"overlay\",\"size\":10,\"solidity\":0.2}},\"type\":\"barpolar\"}],\"pie\":[{\"automargin\":true,\"type\":\"pie\"}]},\"layout\":{\"autotypenumbers\":\"strict\",\"colorway\":[\"#636efa\",\"#EF553B\",\"#00cc96\",\"#ab63fa\",\"#FFA15A\",\"#19d3f3\",\"#FF6692\",\"#B6E880\",\"#FF97FF\",\"#FECB52\"],\"font\":{\"color\":\"#2a3f5f\"},\"hovermode\":\"closest\",\"hoverlabel\":{\"align\":\"left\"},\"paper_bgcolor\":\"white\",\"plot_bgcolor\":\"#E5ECF6\",\"polar\":{\"bgcolor\":\"#E5ECF6\",\"angularaxis\":{\"gridcolor\":\"white\",\"linecolor\":\"white\",\"ticks\":\"\"},\"radialaxis\":{\"gridcolor\":\"white\",\"linecolor\":\"white\",\"ticks\":\"\"}},\"ternary\":{\"bgcolor\":\"#E5ECF6\",\"aaxis\":{\"gridcolor\":\"white\",\"linecolor\":\"white\",\"ticks\":\"\"},\"baxis\":{\"gridcolor\":\"white\",\"linecolor\":\"white\",\"ticks\":\"\"},\"caxis\":{\"gridcolor\":\"white\",\"linecolor\":\"white\",\"ticks\":\"\"}},\"coloraxis\":{\"colorbar\":{\"outlinewidth\":0,\"ticks\":\"\"}},\"colorscale\":{\"sequential\":[[0.0,\"#0d0887\"],[0.1111111111111111,\"#46039f\"],[0.2222222222222222,\"#7201a8\"],[0.3333333333333333,\"#9c179e\"],[0.4444444444444444,\"#bd3786\"],[0.5555555555555556,\"#d8576b\"],[0.6666666666666666,\"#ed7953\"],[0.7777777777777778,\"#fb9f3a\"],[0.8888888888888888,\"#fdca26\"],[1.0,\"#f0f921\"]],\"sequentialminus\":[[0.0,\"#0d0887\"],[0.1111111111111111,\"#46039f\"],[0.2222222222222222,\"#7201a8\"],[0.3333333333333333,\"#9c179e\"],[0.4444444444444444,\"#bd3786\"],[0.5555555555555556,\"#d8576b\"],[0.6666666666666666,\"#ed7953\"],[0.7777777777777778,\"#fb9f3a\"],[0.8888888888888888,\"#fdca26\"],[1.0,\"#f0f921\"]],\"diverging\":[[0,\"#8e0152\"],[0.1,\"#c51b7d\"],[0.2,\"#de77ae\"],[0.3,\"#f1b6da\"],[0.4,\"#fde0ef\"],[0.5,\"#f7f7f7\"],[0.6,\"#e6f5d0\"],[0.7,\"#b8e186\"],[0.8,\"#7fbc41\"],[0.9,\"#4d9221\"],[1,\"#276419\"]]},\"xaxis\":{\"gridcolor\":\"white\",\"linecolor\":\"white\",\"ticks\":\"\",\"title\":{\"standoff\":15},\"zerolinecolor\":\"white\",\"automargin\":true,\"zerolinewidth\":2},\"yaxis\":{\"gridcolor\":\"white\",\"linecolor\":\"white\",\"ticks\":\"\",\"title\":{\"standoff\":15},\"zerolinecolor\":\"white\",\"automargin\":true,\"zerolinewidth\":2},\"scene\":{\"xaxis\":{\"backgroundcolor\":\"#E5ECF6\",\"gridcolor\":\"white\",\"linecolor\":\"white\",\"showbackground\":true,\"ticks\":\"\",\"zerolinecolor\":\"white\",\"gridwidth\":2},\"yaxis\":{\"backgroundcolor\":\"#E5ECF6\",\"gridcolor\":\"white\",\"linecolor\":\"white\",\"showbackground\":true,\"ticks\":\"\",\"zerolinecolor\":\"white\",\"gridwidth\":2},\"zaxis\":{\"backgroundcolor\":\"#E5ECF6\",\"gridcolor\":\"white\",\"linecolor\":\"white\",\"showbackground\":true,\"ticks\":\"\",\"zerolinecolor\":\"white\",\"gridwidth\":2}},\"shapedefaults\":{\"line\":{\"color\":\"#2a3f5f\"}},\"annotationdefaults\":{\"arrowcolor\":\"#2a3f5f\",\"arrowhead\":0,\"arrowwidth\":1},\"geo\":{\"bgcolor\":\"white\",\"landcolor\":\"#E5ECF6\",\"subunitcolor\":\"white\",\"showland\":true,\"showlakes\":true,\"lakecolor\":\"white\"},\"title\":{\"x\":0.05},\"mapbox\":{\"style\":\"light\"}}},\"scene\":{\"domain\":{\"x\":[0.0,1.0],\"y\":[0.0,1.0]},\"xaxis\":{\"title\":{\"text\":\"X\"}},\"yaxis\":{\"title\":{\"text\":\"Y\"}},\"zaxis\":{\"title\":{\"text\":\"Z\"}}},\"coloraxis\":{\"colorbar\":{\"title\":{\"text\":\"Z\"}},\"colorscale\":[[0.0,\"#0d0887\"],[0.1111111111111111,\"#46039f\"],[0.2222222222222222,\"#7201a8\"],[0.3333333333333333,\"#9c179e\"],[0.4444444444444444,\"#bd3786\"],[0.5555555555555556,\"#d8576b\"],[0.6666666666666666,\"#ed7953\"],[0.7777777777777778,\"#fb9f3a\"],[0.8888888888888888,\"#fdca26\"],[1.0,\"#f0f921\"]]},\"legend\":{\"tracegroupgap\":0,\"itemsizing\":\"constant\"},\"title\":{\"text\":\"3D Scatter Plot\"}},                        {\"responsive\": true}                    ).then(function(){\n",
              "                            \n",
              "var gd = document.getElementById('b1434263-ce59-4360-8686-2e00b91d7d64');\n",
              "var x = new MutationObserver(function (mutations, observer) {{\n",
              "        var display = window.getComputedStyle(gd).display;\n",
              "        if (!display || display === 'none') {{\n",
              "            console.log([gd, 'removed!']);\n",
              "            Plotly.purge(gd);\n",
              "            observer.disconnect();\n",
              "        }}\n",
              "}});\n",
              "\n",
              "// Listen for the removal of the full notebook cells\n",
              "var notebookContainer = gd.closest('#notebook-container');\n",
              "if (notebookContainer) {{\n",
              "    x.observe(notebookContainer, {childList: true});\n",
              "}}\n",
              "\n",
              "// Listen for the clearing of the current output cell\n",
              "var outputEl = gd.closest('.output');\n",
              "if (outputEl) {{\n",
              "    x.observe(outputEl, {childList: true});\n",
              "}}\n",
              "\n",
              "                        })                };                            </script>        </div>\n",
              "</body>\n",
              "</html>"
            ]
          },
          "metadata": {}
        }
      ]
    },
    {
      "cell_type": "code",
      "source": [],
      "metadata": {
        "id": "6XvMfrnLqkU4"
      },
      "execution_count": null,
      "outputs": []
    }
  ]
}