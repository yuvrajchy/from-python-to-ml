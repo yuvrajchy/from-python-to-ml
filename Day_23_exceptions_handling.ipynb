{
  "cells": [
    {
      "cell_type": "code",
      "execution_count": null,
      "id": "7123c4e1-34f5-48c0-a965-0994937731ac",
      "metadata": {
        "id": "7123c4e1-34f5-48c0-a965-0994937731ac"
      },
      "outputs": [],
      "source": [
        "#generally something that disrups the normal event is exception\n",
        "#In python an exception is an event that occurs during programme execution that disrupts the regular flow of code"
      ]
    },
    {
      "cell_type": "code",
      "execution_count": null,
      "id": "3c8f98e4-3840-4929-bb78-2ee58660194f",
      "metadata": {
        "id": "3c8f98e4-3840-4929-bb78-2ee58660194f",
        "outputId": "29162dc2-2960-4466-eb38-09ae7b6b509a"
      },
      "outputs": [
        {
          "data": {
            "text/plain": [
              "0.5555555555555556"
            ]
          },
          "execution_count": 2,
          "metadata": {},
          "output_type": "execute_result"
        }
      ],
      "source": [
        "5/9"
      ]
    },
    {
      "cell_type": "code",
      "execution_count": null,
      "id": "80ee6ea4-110a-47c3-adba-3a2758f3709d",
      "metadata": {
        "id": "80ee6ea4-110a-47c3-adba-3a2758f3709d",
        "outputId": "b43b6947-e50b-4fc6-d2f8-753bea5f5854"
      },
      "outputs": [
        {
          "data": {
            "text/plain": [
              "5.0"
            ]
          },
          "execution_count": 3,
          "metadata": {},
          "output_type": "execute_result"
        }
      ],
      "source": [
        "10/2"
      ]
    },
    {
      "cell_type": "code",
      "execution_count": null,
      "id": "a945e101-0d15-4594-b3df-68b6d8e76db6",
      "metadata": {
        "id": "a945e101-0d15-4594-b3df-68b6d8e76db6",
        "outputId": "1afeac65-aec2-4b52-d58e-5cb6ccf47b8d"
      },
      "outputs": [
        {
          "name": "stdout",
          "output_type": "stream",
          "text": [
            "2.0\n",
            "0.6\n",
            "The code is running fine till now\n"
          ]
        },
        {
          "ename": "ZeroDivisionError",
          "evalue": "division by zero",
          "output_type": "error",
          "traceback": [
            "\u001b[0;31m---------------------------------------------------------------------------\u001b[0m",
            "\u001b[0;31mZeroDivisionError\u001b[0m                         Traceback (most recent call last)",
            "Cell \u001b[0;32mIn[4], line 4\u001b[0m\n\u001b[1;32m      2\u001b[0m \u001b[38;5;28mprint\u001b[39m(\u001b[38;5;241m3\u001b[39m\u001b[38;5;241m/\u001b[39m\u001b[38;5;241m5\u001b[39m)\n\u001b[1;32m      3\u001b[0m \u001b[38;5;28mprint\u001b[39m(\u001b[38;5;124m\"\u001b[39m\u001b[38;5;124mThe code is running fine till now\u001b[39m\u001b[38;5;124m\"\u001b[39m)\n\u001b[0;32m----> 4\u001b[0m \u001b[38;5;28mprint\u001b[39m(\u001b[38;5;241;43m6\u001b[39;49m\u001b[38;5;241;43m/\u001b[39;49m\u001b[38;5;241;43m0\u001b[39;49m)\n\u001b[1;32m      5\u001b[0m \u001b[38;5;28mprint\u001b[39m(\u001b[38;5;124m\"\u001b[39m\u001b[38;5;124mYour name is Ajay \u001b[39m\u001b[38;5;124m\"\u001b[39m)\n\u001b[1;32m      6\u001b[0m \u001b[38;5;28mprint\u001b[39m(\u001b[38;5;241m2\u001b[39m\u001b[38;5;241m+\u001b[39m\u001b[38;5;241m3\u001b[39m)\n",
            "\u001b[0;31mZeroDivisionError\u001b[0m: division by zero"
          ]
        }
      ],
      "source": [
        "print(4/2)\n",
        "print(3/5)\n",
        "print(\"The code is running fine till now\")\n",
        "print(6/0) #suspicious code #it threw an error thats why code after this didnt got executed\n",
        "print(\"Your name is Ajay \")\n",
        "print(2+3)\n",
        "print(\"The code ends\")"
      ]
    },
    {
      "cell_type": "code",
      "execution_count": null,
      "id": "c0a21c0f-b275-4176-933e-c207ffea7e31",
      "metadata": {
        "id": "c0a21c0f-b275-4176-933e-c207ffea7e31",
        "outputId": "28e3e1c2-a110-409f-b733-6d547c1f782d"
      },
      "outputs": [
        {
          "name": "stdout",
          "output_type": "stream",
          "text": [
            "This is my first line of code\n",
            "90\n",
            "<class 'dict'>\n"
          ]
        },
        {
          "ename": "KeyError",
          "evalue": "'age'",
          "output_type": "error",
          "traceback": [
            "\u001b[0;31m---------------------------------------------------------------------------\u001b[0m",
            "\u001b[0;31mKeyError\u001b[0m                                  Traceback (most recent call last)",
            "Cell \u001b[0;32mIn[5], line 5\u001b[0m\n\u001b[1;32m      3\u001b[0m d \u001b[38;5;241m=\u001b[39m {\u001b[38;5;124m\"\u001b[39m\u001b[38;5;124mname\u001b[39m\u001b[38;5;124m\"\u001b[39m: \u001b[38;5;124m\"\u001b[39m\u001b[38;5;124mAjay\u001b[39m\u001b[38;5;124m\"\u001b[39m}\n\u001b[1;32m      4\u001b[0m \u001b[38;5;28mprint\u001b[39m(\u001b[38;5;28mtype\u001b[39m(d))\n\u001b[0;32m----> 5\u001b[0m \u001b[38;5;28mprint\u001b[39m(\u001b[43md\u001b[49m\u001b[43m[\u001b[49m\u001b[38;5;124;43m\"\u001b[39;49m\u001b[38;5;124;43mage\u001b[39;49m\u001b[38;5;124;43m\"\u001b[39;49m\u001b[43m]\u001b[49m)\n\u001b[1;32m      6\u001b[0m \u001b[38;5;28mprint\u001b[39m(\u001b[38;5;124m\"\u001b[39m\u001b[38;5;124mThis is last line of code\u001b[39m\u001b[38;5;124m\"\u001b[39m)\n",
            "\u001b[0;31mKeyError\u001b[0m: 'age'"
          ]
        }
      ],
      "source": [
        "print(\"This is my first line of code\")\n",
        "print(3*5*6)\n",
        "d = {\"name\": \"Ajay\"}\n",
        "print(type(d))\n",
        "print(d[\"age\"]) #it threw an error thats why code after this didnt got executed\n",
        "print(\"This is last line of code\")"
      ]
    },
    {
      "cell_type": "code",
      "execution_count": null,
      "id": "b55b55bc-662f-46ac-ac91-086eb61e2ee7",
      "metadata": {
        "id": "b55b55bc-662f-46ac-ac91-086eb61e2ee7",
        "outputId": "427f556f-0738-4cb7-dcef-624dd8e8b05a"
      },
      "outputs": [
        {
          "ename": "FileNotFoundError",
          "evalue": "[Errno 2] No such file or directory: 'example.txt'",
          "output_type": "error",
          "traceback": [
            "\u001b[0;31m---------------------------------------------------------------------------\u001b[0m",
            "\u001b[0;31mFileNotFoundError\u001b[0m                         Traceback (most recent call last)",
            "Cell \u001b[0;32mIn[6], line 1\u001b[0m\n\u001b[0;32m----> 1\u001b[0m f \u001b[38;5;241m=\u001b[39m \u001b[38;5;28;43mopen\u001b[39;49m\u001b[43m(\u001b[49m\u001b[38;5;124;43m\"\u001b[39;49m\u001b[38;5;124;43mexample.txt\u001b[39;49m\u001b[38;5;124;43m\"\u001b[39;49m\u001b[43m,\u001b[49m\u001b[43m \u001b[49m\u001b[38;5;124;43m\"\u001b[39;49m\u001b[38;5;124;43mr\u001b[39;49m\u001b[38;5;124;43m\"\u001b[39;49m\u001b[43m)\u001b[49m\n\u001b[1;32m      2\u001b[0m \u001b[38;5;28mprint\u001b[39m(\u001b[38;5;241m6\u001b[39m\u001b[38;5;241m+\u001b[39m\u001b[38;5;241m3\u001b[39m)\n\u001b[1;32m      3\u001b[0m \u001b[38;5;28mprint\u001b[39m(\u001b[38;5;124m\"\u001b[39m\u001b[38;5;124mThe file is opened and now I am performing some steps\u001b[39m\u001b[38;5;124m\"\u001b[39m)\n",
            "File \u001b[0;32m/opt/conda/lib/python3.10/site-packages/IPython/core/interactiveshell.py:282\u001b[0m, in \u001b[0;36m_modified_open\u001b[0;34m(file, *args, **kwargs)\u001b[0m\n\u001b[1;32m    275\u001b[0m \u001b[38;5;28;01mif\u001b[39;00m file \u001b[38;5;129;01min\u001b[39;00m {\u001b[38;5;241m0\u001b[39m, \u001b[38;5;241m1\u001b[39m, \u001b[38;5;241m2\u001b[39m}:\n\u001b[1;32m    276\u001b[0m     \u001b[38;5;28;01mraise\u001b[39;00m \u001b[38;5;167;01mValueError\u001b[39;00m(\n\u001b[1;32m    277\u001b[0m         \u001b[38;5;124mf\u001b[39m\u001b[38;5;124m\"\u001b[39m\u001b[38;5;124mIPython won\u001b[39m\u001b[38;5;124m'\u001b[39m\u001b[38;5;124mt let you open fd=\u001b[39m\u001b[38;5;132;01m{\u001b[39;00mfile\u001b[38;5;132;01m}\u001b[39;00m\u001b[38;5;124m by default \u001b[39m\u001b[38;5;124m\"\u001b[39m\n\u001b[1;32m    278\u001b[0m         \u001b[38;5;124m\"\u001b[39m\u001b[38;5;124mas it is likely to crash IPython. If you know what you are doing, \u001b[39m\u001b[38;5;124m\"\u001b[39m\n\u001b[1;32m    279\u001b[0m         \u001b[38;5;124m\"\u001b[39m\u001b[38;5;124myou can use builtins\u001b[39m\u001b[38;5;124m'\u001b[39m\u001b[38;5;124m open.\u001b[39m\u001b[38;5;124m\"\u001b[39m\n\u001b[1;32m    280\u001b[0m     )\n\u001b[0;32m--> 282\u001b[0m \u001b[38;5;28;01mreturn\u001b[39;00m \u001b[43mio_open\u001b[49m\u001b[43m(\u001b[49m\u001b[43mfile\u001b[49m\u001b[43m,\u001b[49m\u001b[43m \u001b[49m\u001b[38;5;241;43m*\u001b[39;49m\u001b[43margs\u001b[49m\u001b[43m,\u001b[49m\u001b[43m \u001b[49m\u001b[38;5;241;43m*\u001b[39;49m\u001b[38;5;241;43m*\u001b[39;49m\u001b[43mkwargs\u001b[49m\u001b[43m)\u001b[49m\n",
            "\u001b[0;31mFileNotFoundError\u001b[0m: [Errno 2] No such file or directory: 'example.txt'"
          ]
        }
      ],
      "source": [
        "f = open(\"example.txt\", \"r\")\n",
        "print(6+3)\n",
        "print(\"The file is opened and now I am performing some steps\")"
      ]
    },
    {
      "cell_type": "raw",
      "id": "191ffa72-97ab-4063-9fd4-89daf154b99b",
      "metadata": {
        "id": "191ffa72-97ab-4063-9fd4-89daf154b99b"
      },
      "source": [
        "#you were expecting something but it didnt happen, due to which the suspicious line threw error and\n",
        "the next lines of code didn't got executed.\n",
        "zerodivisionerror, typeerror, filenotfounderror>> these are exceptions rising due to suspicious code\n",
        "otherexceptions>>import error, runtime error\n",
        "\n",
        "list of exceptions>> https://docs.python.org/3/library/exceptions.html\n",
        "\n",
        "#why do we need to handle suspicious code/exceptions?\n",
        "-- Robust Application\n",
        "-- code cleaner >> fellow developer understands the corner cases\n",
        "\n",
        "#how to handle exceptions\n",
        ">>using try catch block to handle exceptions\n",
        ">>whenever exception occurs>>pyton stops teh program and generate exception\n",
        ">>handling this exception is advised\n",
        ">> every code that is risky/suspicious you should do exception handling"
      ]
    },
    {
      "cell_type": "code",
      "execution_count": null,
      "id": "513f5262-e994-4477-b19f-0717d2242e82",
      "metadata": {
        "id": "513f5262-e994-4477-b19f-0717d2242e82"
      },
      "outputs": [],
      "source": [
        "#syntax of try except\n",
        "# try:\n",
        "#     #suspicious code\n",
        "# except:\n",
        "#     #exceuted when exception occurs in try block\n"
      ]
    },
    {
      "cell_type": "code",
      "execution_count": null,
      "id": "9eb015e1-67d3-4c6d-9d6c-011e8e69d6de",
      "metadata": {
        "id": "9eb015e1-67d3-4c6d-9d6c-011e8e69d6de",
        "outputId": "a65332ca-e31c-4c03-be42-5de84e2f80ea"
      },
      "outputs": [
        {
          "name": "stdout",
          "output_type": "stream",
          "text": [
            "There is an issue with the code and the issue is: [Errno 2] No such file or directory: 'example.txt'\n",
            "9\n",
            "This is my next step\n"
          ]
        }
      ],
      "source": [
        "try:\n",
        "    f = open(\"example.txt\", \"r\")\n",
        "except Exception as e:#exception will always come inside except block\n",
        "    print(\"There is an issue with the code and the issue is:\", e)\n",
        "print(6+3)\n",
        "print(\"This is my next step\")"
      ]
    },
    {
      "cell_type": "code",
      "execution_count": null,
      "id": "cba4f25e-eb6f-4ba3-804e-20f45b62a3e0",
      "metadata": {
        "id": "cba4f25e-eb6f-4ba3-804e-20f45b62a3e0",
        "outputId": "09b99ea9-76ca-438f-aa76-28c5c04e6f2c"
      },
      "outputs": [
        {
          "name": "stdout",
          "output_type": "stream",
          "text": [
            "division by zero\n",
            "8\n",
            "Your name is Ajay \n",
            "5\n",
            "The code ends\n"
          ]
        }
      ],
      "source": [
        "try:\n",
        "    5/0\n",
        "except Exception as e:\n",
        "    print(e)\n",
        "print(5+3)\n",
        "print(\"Your name is Ajay \")\n",
        "print(2+3)\n",
        "print(\"The code ends\")"
      ]
    },
    {
      "cell_type": "code",
      "execution_count": null,
      "id": "bee82910-f987-4912-bba3-d3b8156b452a",
      "metadata": {
        "id": "bee82910-f987-4912-bba3-d3b8156b452a",
        "outputId": "8defa4d9-b80a-45a1-a177-6b18917faf30"
      },
      "outputs": [
        {
          "name": "stdout",
          "output_type": "stream",
          "text": [
            "There is an issue with the code and the issue is: [Errno 2] No such file or directory: 'example.txt'\n"
          ]
        }
      ],
      "source": [
        "try:\n",
        "    f = open(\"example.txt\", \"r\")\n",
        "except Exception as e:\n",
        "    print(\"There is an issue with the code and the issue is:\", e)\n",
        "else:\n",
        "    print(5+3)\n",
        "    print(\"This will be executed if try except block is executed without any exception\")\n"
      ]
    },
    {
      "cell_type": "raw",
      "id": "597f6741-fcf0-48c5-9c3f-ff49f8aab80e",
      "metadata": {
        "id": "597f6741-fcf0-48c5-9c3f-ff49f8aab80e"
      },
      "source": [
        "#use case of else>> you want to execute some code only if the try statement is successful and code doent enter into exception block"
      ]
    },
    {
      "cell_type": "code",
      "execution_count": null,
      "id": "a57135b1-868d-43df-8f81-4c48cb2b18de",
      "metadata": {
        "id": "a57135b1-868d-43df-8f81-4c48cb2b18de",
        "outputId": "a2578c65-05e4-42e1-ff44-9107aed76610"
      },
      "outputs": [
        {
          "name": "stdout",
          "output_type": "stream",
          "text": [
            "8\n",
            "This will be executed if try except block is executed without any exception\n"
          ]
        }
      ],
      "source": [
        "#use case -1\n",
        "try:\n",
        "    f = open(\"example.txt\", \"w\")\n",
        "except Exception as e:\n",
        "    print(\"There is an issue with the code and the issue is:\", e)\n",
        "else:\n",
        "    print(5+3)\n",
        "    print(\"This will be executed if try except block is executed without any exception\")\n"
      ]
    },
    {
      "cell_type": "code",
      "execution_count": null,
      "id": "5b142d0d-c0ce-48d3-8b7d-4ad12e9599cc",
      "metadata": {
        "id": "5b142d0d-c0ce-48d3-8b7d-4ad12e9599cc",
        "outputId": "5b793e9d-a8d0-4e39-e41f-4c0baea367f9"
      },
      "outputs": [
        {
          "name": "stdout",
          "output_type": "stream",
          "text": [
            "8\n",
            "This will be executed if try except block is executed without any exception\n"
          ]
        }
      ],
      "source": [
        "#use case 2\n",
        "try:\n",
        "    f = open(\"example.txt\", \"w\")\n",
        "    f.write(\"Hello to exception handling\")\n",
        "#you will not be able to see written content untill you close the file, close the file in else block\n",
        "except Exception as e:\n",
        "    print(\"There is an issue with the code and the issue is:\", e)\n",
        "else:\n",
        "    print(5+3)\n",
        "    print(\"This will be executed if try except block is executed without any exception\")\n"
      ]
    },
    {
      "cell_type": "code",
      "execution_count": null,
      "id": "22f5b348-b6d1-4485-b411-09ac7a452090",
      "metadata": {
        "id": "22f5b348-b6d1-4485-b411-09ac7a452090",
        "outputId": "9fe8292f-0c85-4021-d47f-89d490742d39"
      },
      "outputs": [
        {
          "name": "stdout",
          "output_type": "stream",
          "text": [
            "8\n",
            "This will be executed if try except block is executed without any exception\n"
          ]
        }
      ],
      "source": [
        "try:\n",
        "    f = open(\"example.txt\", \"w\")\n",
        "    f.write(\"Hello to exception handling\")\n",
        "#you will not be able to see written content untill you close the file, close the file in else block\n",
        "except Exception as e:\n",
        "    print(\"There is an issue with the code and the issue is:\", e)\n",
        "else:\n",
        "    f.close()\n",
        "    print(5+3)\n",
        "    print(\"This will be executed if try except block is executed without any exception\")\n"
      ]
    },
    {
      "cell_type": "code",
      "execution_count": null,
      "id": "f8244d26-be1a-4e7d-80e4-b2a668d653c9",
      "metadata": {
        "id": "f8244d26-be1a-4e7d-80e4-b2a668d653c9"
      },
      "outputs": [],
      "source": [
        "#else block is very helpful when your code didnt enter the xception block\n",
        "#for example you wanted to close the file after it was opened in try block"
      ]
    },
    {
      "cell_type": "code",
      "execution_count": null,
      "id": "993920b4-ec76-4050-a409-1f5a1decf017",
      "metadata": {
        "id": "993920b4-ec76-4050-a409-1f5a1decf017",
        "outputId": "c6487352-b2da-4523-81e6-5b0adf84a486"
      },
      "outputs": [
        {
          "name": "stdout",
          "output_type": "stream",
          "text": [
            "8\n",
            "This will be executed if try except block is executed without any exception\n",
            "This will be executed always\n"
          ]
        }
      ],
      "source": [
        "#finally block >> always executed\n",
        "try:\n",
        "    f = open(\"example.txt\", \"w\")\n",
        "    f.write(\"Hello to exception handling\")\n",
        "except Exception as e:\n",
        "    print(\"There is an issue with the code and the issue is:\", e)\n",
        "else:\n",
        "    f.close()\n",
        "    print(5+3)\n",
        "    print(\"This will be executed if try except block is executed without any exception\")\n",
        "finally:\n",
        "    print(\"This will be executed always\")"
      ]
    },
    {
      "cell_type": "code",
      "execution_count": null,
      "id": "4ab097cf-58d4-4a60-be1a-0d473ae195f5",
      "metadata": {
        "id": "4ab097cf-58d4-4a60-be1a-0d473ae195f5",
        "outputId": "b7ba071a-6b04-43ab-dec5-8aeac1248ad5"
      },
      "outputs": [
        {
          "name": "stdout",
          "output_type": "stream",
          "text": [
            "There is an issue with the code and the issue is: [Errno 2] No such file or directory: 'example2.txt'\n",
            "This will be executed always\n"
          ]
        }
      ],
      "source": [
        "#finally block >> always executed\n",
        "#even if you enter exception block or not, finally will be executed always\n",
        "#similar to running other line of code\n",
        "try:\n",
        "    f = open(\"example2.txt\", \"r\")\n",
        "    f.write(\"Hello to exception handling\")\n",
        "except Exception as e:\n",
        "    print(\"There is an issue with the code and the issue is:\", e)\n",
        "else:\n",
        "    f.close()\n",
        "    print(5+3)\n",
        "    print(\"This will be executed if try except block is executed without any exception\")\n",
        "finally:\n",
        "    print(\"This will be executed always\")"
      ]
    },
    {
      "cell_type": "code",
      "execution_count": null,
      "id": "5fc130d6-9274-4cc0-9d50-b4e82ce9fdf1",
      "metadata": {
        "id": "5fc130d6-9274-4cc0-9d50-b4e82ce9fdf1",
        "outputId": "bdc59695-58dd-46ff-fa7b-ba32a0607d08"
      },
      "outputs": [
        {
          "name": "stdout",
          "output_type": "stream",
          "text": [
            "There is an issue with the code and the issue is: [Errno 2] No such file or directory: 'example2.txt'\n",
            "This will be executed always\n"
          ]
        }
      ],
      "source": [
        "try:\n",
        "    f = open(\"example2.txt\", \"r\")\n",
        "    f.write(\"Hello to exception handling\")\n",
        "except Exception as e:\n",
        "    print(\"There is an issue with the code and the issue is:\", e)\n",
        "else:\n",
        "    f.close()\n",
        "    print(5+3)\n",
        "    print(\"This will be executed if try except block is executed without any exception\")\n",
        "\n",
        "print(\"This will be executed always\")"
      ]
    },
    {
      "cell_type": "code",
      "execution_count": null,
      "id": "c4b8e0da-bedf-4e3d-8371-d92e081674ed",
      "metadata": {
        "id": "c4b8e0da-bedf-4e3d-8371-d92e081674ed",
        "outputId": "ef250c37-971f-4745-d6cb-707593ab27fb"
      },
      "outputs": [
        {
          "name": "stdout",
          "output_type": "stream",
          "text": [
            "division by zero\n",
            "This will be printed always\n"
          ]
        }
      ],
      "source": [
        "#another example\n",
        "try:\n",
        "    5/0\n",
        "except Exception as e:\n",
        "    print(e)\n",
        "finally:\n",
        "    print(\"This will be printed always\")"
      ]
    },
    {
      "cell_type": "code",
      "execution_count": null,
      "id": "7cfcff8f-7268-402a-aa10-f8d66ca54ee1",
      "metadata": {
        "id": "7cfcff8f-7268-402a-aa10-f8d66ca54ee1",
        "outputId": "33fc97e0-5b63-45a2-8086-e2be02f71143"
      },
      "outputs": [
        {
          "name": "stdin",
          "output_type": "stream",
          "text": [
            "Enter your salary -3000\n"
          ]
        }
      ],
      "source": [
        "#custom exception\n",
        "income = int(input(\"Enter your salary\"))"
      ]
    },
    {
      "cell_type": "code",
      "execution_count": null,
      "id": "90a86c74-8ff6-40d1-9810-308bd452ec98",
      "metadata": {
        "id": "90a86c74-8ff6-40d1-9810-308bd452ec98"
      },
      "outputs": [],
      "source": [
        "def validate_salary(salary):\n",
        "    if salary <= 0:\n",
        "        print(\"negative salary is not possible\")\n",
        "    elif salary >= 30000000:\n",
        "        print(\"salary is unexpected\")\n",
        "    else:\n",
        "        print(\"salary is valid\")"
      ]
    },
    {
      "cell_type": "code",
      "execution_count": null,
      "id": "b6fee438-c574-4c9f-b6e9-71ee97ab8350",
      "metadata": {
        "id": "b6fee438-c574-4c9f-b6e9-71ee97ab8350",
        "outputId": "3dede371-510c-4e79-c24a-a6777cb9b1f7"
      },
      "outputs": [
        {
          "name": "stdout",
          "output_type": "stream",
          "text": [
            "salary is valid\n"
          ]
        }
      ],
      "source": [
        "validate_salary(500)"
      ]
    },
    {
      "cell_type": "code",
      "execution_count": null,
      "id": "685a687b-0e51-4b07-a8b8-b57545c966c3",
      "metadata": {
        "id": "685a687b-0e51-4b07-a8b8-b57545c966c3"
      },
      "outputs": [],
      "source": [
        "#custom exception class\n",
        "class ValidateSalary(Exception): #Exception is the parent class where all type of python exceptions are available\n",
        "    def __init__(self, msg):\n",
        "        self.msg = msg"
      ]
    },
    {
      "cell_type": "code",
      "execution_count": null,
      "id": "cbcd1108-6bb2-4072-93ca-142d013578fe",
      "metadata": {
        "id": "cbcd1108-6bb2-4072-93ca-142d013578fe"
      },
      "outputs": [],
      "source": [
        "def validate_salary(salary):\n",
        "    if salary <= 0:\n",
        "        raise ValidateSalary(\"negative salary is not possible\")\n",
        "    elif salary >= 30000000:\n",
        "        raise ValidateSalary(\"salary is unexpected\")\n",
        "    else:\n",
        "        print(\"salary is valid\")"
      ]
    },
    {
      "cell_type": "code",
      "execution_count": null,
      "id": "cca1c6d2-a96e-4abc-a8a8-f9f75ec3d292",
      "metadata": {
        "id": "cca1c6d2-a96e-4abc-a8a8-f9f75ec3d292",
        "outputId": "df41227b-9fa0-441f-e886-35baeb909f7e"
      },
      "outputs": [
        {
          "name": "stdin",
          "output_type": "stream",
          "text": [
            "Enter your salary 300000000000000\n"
          ]
        },
        {
          "name": "stdout",
          "output_type": "stream",
          "text": [
            "salary is unexpected\n"
          ]
        }
      ],
      "source": [
        "try:\n",
        "    salary = int(input(\"Enter your salary\"))\n",
        "    validate_salary(salary)\n",
        "except ValidateSalary as e:\n",
        "    print(e)"
      ]
    },
    {
      "cell_type": "code",
      "execution_count": null,
      "id": "8673c97e-3dc4-4d5d-a7bd-a6949a3a4603",
      "metadata": {
        "id": "8673c97e-3dc4-4d5d-a7bd-a6949a3a4603"
      },
      "outputs": [],
      "source": []
    }
  ],
  "metadata": {
    "kernelspec": {
      "display_name": "Python 3 (ipykernel)",
      "language": "python",
      "name": "python3"
    },
    "language_info": {
      "codemirror_mode": {
        "name": "ipython",
        "version": 3
      },
      "file_extension": ".py",
      "mimetype": "text/x-python",
      "name": "python",
      "nbconvert_exporter": "python",
      "pygments_lexer": "ipython3",
      "version": "3.10.8"
    },
    "colab": {
      "provenance": []
    }
  },
  "nbformat": 4,
  "nbformat_minor": 5
}