{
  "cells": [
    {
      "cell_type": "code",
      "execution_count": null,
      "id": "16470635-b612-4876-b1e6-b8ad20ea9129",
      "metadata": {
        "id": "16470635-b612-4876-b1e6-b8ad20ea9129",
        "outputId": "0e29a8b8-5c2d-4abf-a6e9-e08d0d68c6e2"
      },
      "outputs": [
        {
          "data": {
            "text/plain": [
              "50.0"
            ]
          },
          "execution_count": 1,
          "metadata": {},
          "output_type": "execute_result"
        }
      ],
      "source": [
        "100/2"
      ]
    },
    {
      "cell_type": "code",
      "execution_count": null,
      "id": "c63747ac-fecd-41b6-aa05-19bf72dd47fc",
      "metadata": {
        "id": "c63747ac-fecd-41b6-aa05-19bf72dd47fc",
        "outputId": "3776ddcb-fae7-4a6c-a762-21fa7c0621cb"
      },
      "outputs": [
        {
          "ename": "TypeError",
          "evalue": "unsupported operand type(s) for /: 'int' and 'str'",
          "output_type": "error",
          "traceback": [
            "\u001b[0;31m---------------------------------------------------------------------------\u001b[0m",
            "\u001b[0;31mTypeError\u001b[0m                                 Traceback (most recent call last)",
            "Cell \u001b[0;32mIn[2], line 1\u001b[0m\n\u001b[0;32m----> 1\u001b[0m \u001b[38;5;241;43m100\u001b[39;49m\u001b[38;5;241;43m/\u001b[39;49m\u001b[38;5;124;43m\"\u001b[39;49m\u001b[38;5;124;43msome string\u001b[39;49m\u001b[38;5;124;43m\"\u001b[39;49m\n",
            "\u001b[0;31mTypeError\u001b[0m: unsupported operand type(s) for /: 'int' and 'str'"
          ]
        }
      ],
      "source": [
        "100/\"some string\""
      ]
    },
    {
      "cell_type": "code",
      "execution_count": null,
      "id": "12c1abc8-7bef-46aa-b124-09ef776bd667",
      "metadata": {
        "id": "12c1abc8-7bef-46aa-b124-09ef776bd667",
        "outputId": "7aea65f3-c543-4ff6-af46-75481ef32775"
      },
      "outputs": [
        {
          "ename": "ZeroDivisionError",
          "evalue": "division by zero",
          "output_type": "error",
          "traceback": [
            "\u001b[0;31m---------------------------------------------------------------------------\u001b[0m",
            "\u001b[0;31mZeroDivisionError\u001b[0m                         Traceback (most recent call last)",
            "Cell \u001b[0;32mIn[3], line 1\u001b[0m\n\u001b[0;32m----> 1\u001b[0m \u001b[38;5;241;43m100\u001b[39;49m\u001b[38;5;241;43m/\u001b[39;49m\u001b[38;5;241;43m0\u001b[39;49m\n",
            "\u001b[0;31mZeroDivisionError\u001b[0m: division by zero"
          ]
        }
      ],
      "source": [
        "100/0"
      ]
    },
    {
      "cell_type": "code",
      "execution_count": null,
      "id": "14f18090-f92a-46b5-b853-6fd6009c12f5",
      "metadata": {
        "id": "14f18090-f92a-46b5-b853-6fd6009c12f5",
        "outputId": "f2138496-ae59-45ca-9bac-1107c3d3ae1b"
      },
      "outputs": [
        {
          "name": "stdout",
          "output_type": "stream",
          "text": [
            "There is some error\n"
          ]
        }
      ],
      "source": [
        "try:\n",
        "    10/0\n",
        "except: #generic exception to print your message\n",
        "    print(\"There is some error\")"
      ]
    },
    {
      "cell_type": "code",
      "execution_count": null,
      "id": "11f06f3c-5f77-4a7b-af54-8f511849876b",
      "metadata": {
        "id": "11f06f3c-5f77-4a7b-af54-8f511849876b",
        "outputId": "34e416e9-665a-485a-ba43-d7709fa4e00d"
      },
      "outputs": [
        {
          "name": "stdout",
          "output_type": "stream",
          "text": [
            "There is some error\n"
          ]
        }
      ],
      "source": [
        "try:\n",
        "    10/\"some string\"\n",
        "except:\n",
        "    print(\"There is some error\")"
      ]
    },
    {
      "cell_type": "code",
      "execution_count": null,
      "id": "9456377f-8c36-4782-8981-6241f7149387",
      "metadata": {
        "id": "9456377f-8c36-4782-8981-6241f7149387",
        "outputId": "66a9c55c-cb36-440c-cef5-78a7a939ace7"
      },
      "outputs": [
        {
          "name": "stdout",
          "output_type": "stream",
          "text": [
            "There is some error division by zero\n"
          ]
        }
      ],
      "source": [
        "try:\n",
        "    10/0\n",
        "except Exception as e:\n",
        "    print(\"There is some error\", e)"
      ]
    },
    {
      "cell_type": "code",
      "execution_count": null,
      "id": "7716e386-a99e-46dd-ac71-cc189f5785b1",
      "metadata": {
        "id": "7716e386-a99e-46dd-ac71-cc189f5785b1"
      },
      "outputs": [],
      "source": [
        "#The above example is of generic exception handling"
      ]
    },
    {
      "cell_type": "code",
      "execution_count": null,
      "id": "3bd16eee-0a0a-4aea-90e5-54ba7a225300",
      "metadata": {
        "id": "3bd16eee-0a0a-4aea-90e5-54ba7a225300",
        "outputId": "c9e6d382-c380-4c38-c346-ca4451f49acf"
      },
      "outputs": [
        {
          "ename": "ZeroDivisionError",
          "evalue": "division by zero",
          "output_type": "error",
          "traceback": [
            "\u001b[0;31m---------------------------------------------------------------------------\u001b[0m",
            "\u001b[0;31mZeroDivisionError\u001b[0m                         Traceback (most recent call last)",
            "Cell \u001b[0;32mIn[9], line 1\u001b[0m\n\u001b[0;32m----> 1\u001b[0m \u001b[38;5;241;43m10\u001b[39;49m\u001b[38;5;241;43m/\u001b[39;49m\u001b[38;5;241;43m0\u001b[39;49m\n",
            "\u001b[0;31mZeroDivisionError\u001b[0m: division by zero"
          ]
        }
      ],
      "source": [
        "10/0"
      ]
    },
    {
      "cell_type": "code",
      "execution_count": null,
      "id": "31aed45c-0c85-4aaf-939d-6082126afcf4",
      "metadata": {
        "id": "31aed45c-0c85-4aaf-939d-6082126afcf4",
        "outputId": "beab2da1-b701-4484-c001-750ca27b2a7f"
      },
      "outputs": [
        {
          "name": "stdout",
          "output_type": "stream",
          "text": [
            "Here I am handling the zero divison error division by zero\n"
          ]
        }
      ],
      "source": [
        "try:\n",
        "    10/0 #suspicion\n",
        "except ZeroDivisionError as e:\n",
        "    print(\"Here I am handling the zero divison error:\", e)"
      ]
    },
    {
      "cell_type": "code",
      "execution_count": null,
      "id": "a652b859-d666-4121-8e83-b32d032f1ac5",
      "metadata": {
        "id": "a652b859-d666-4121-8e83-b32d032f1ac5"
      },
      "outputs": [],
      "source": [
        "#best practice 1: always catch specific error\n",
        "#specificity in exception handling"
      ]
    },
    {
      "cell_type": "code",
      "execution_count": null,
      "id": "a34ab857-a3e8-414a-ae22-225a23a93f3e",
      "metadata": {
        "id": "a34ab857-a3e8-414a-ae22-225a23a93f3e",
        "outputId": "ed39e188-fee1-4eb6-a301-e84115eddae6"
      },
      "outputs": [
        {
          "ename": "TypeError",
          "evalue": "unsupported operand type(s) for /: 'int' and 'str'",
          "output_type": "error",
          "traceback": [
            "\u001b[0;31m---------------------------------------------------------------------------\u001b[0m",
            "\u001b[0;31mTypeError\u001b[0m                                 Traceback (most recent call last)",
            "Cell \u001b[0;32mIn[11], line 1\u001b[0m\n\u001b[0;32m----> 1\u001b[0m \u001b[38;5;241;43m10\u001b[39;49m\u001b[38;5;241;43m/\u001b[39;49m\u001b[38;5;124;43m\"\u001b[39;49m\u001b[38;5;124;43msome string\u001b[39;49m\u001b[38;5;124;43m\"\u001b[39;49m\n",
            "\u001b[0;31mTypeError\u001b[0m: unsupported operand type(s) for /: 'int' and 'str'"
          ]
        }
      ],
      "source": [
        "10/\"some string\""
      ]
    },
    {
      "cell_type": "code",
      "execution_count": null,
      "id": "047663e4-a31b-484d-82ca-be5f4ce1d558",
      "metadata": {
        "id": "047663e4-a31b-484d-82ca-be5f4ce1d558",
        "outputId": "6ca5bcb0-d3b0-46d2-9694-25bb1504f876"
      },
      "outputs": [
        {
          "name": "stdout",
          "output_type": "stream",
          "text": [
            "Some string is being used in divison unsupported operand type(s) for /: 'int' and 'str'\n"
          ]
        }
      ],
      "source": [
        "#another example\n",
        "try:\n",
        "    10/\"some string\"\n",
        "except TypeError as e:\n",
        "    print(\"Some string is being used in divison\", e)"
      ]
    },
    {
      "cell_type": "code",
      "execution_count": null,
      "id": "671ff344-b39c-414f-87a7-824c50f30833",
      "metadata": {
        "id": "671ff344-b39c-414f-87a7-824c50f30833"
      },
      "outputs": [],
      "source": [
        "#benefit of handling specific error>> you know what error is expected and if\n",
        "#other error comes which you were not able to think, you be able address that"
      ]
    },
    {
      "cell_type": "code",
      "execution_count": null,
      "id": "b310fb9e-6ee5-4002-9f5f-3f2739bafcfb",
      "metadata": {
        "id": "b310fb9e-6ee5-4002-9f5f-3f2739bafcfb",
        "outputId": "c412e200-9972-40de-bc8d-442f40521df3"
      },
      "outputs": [
        {
          "name": "stdout",
          "output_type": "stream",
          "text": [
            "Some string is being used in divison unsupported operand type(s) for /: 'int' and 'str'\n",
            "The calculation is 3.3333333333333335\n"
          ]
        }
      ],
      "source": [
        "#example to handle some specific exception\n",
        "try:\n",
        "    10/\"3\"\n",
        "except TypeError as e:\n",
        "    print(\"Some string is being used in divison\", e)\n",
        "    print(\"The calculation is\", 10/int(\"3\"))"
      ]
    },
    {
      "cell_type": "code",
      "execution_count": null,
      "id": "1be18ef0-d497-4c88-8b4a-d0bee020839b",
      "metadata": {
        "id": "1be18ef0-d497-4c88-8b4a-d0bee020839b",
        "outputId": "3a9926e7-3b35-4656-fae8-0d75b3cba124"
      },
      "outputs": [
        {
          "name": "stdout",
          "output_type": "stream",
          "text": [
            "Here I am handling the zero divison error: division by zero\n",
            "Since the den value is 0, using default value 1, the quotient is  10.0\n"
          ]
        }
      ],
      "source": [
        "#another example of handling specific exception\n",
        "\n",
        "try:\n",
        "    10/0\n",
        "except ZeroDivisionError as e:\n",
        "    print(\"Here I am handling the zero divison error:\", e)\n",
        "    print(\"Since the den value is 0, using default value 1, the quotient is \", 10/1)"
      ]
    },
    {
      "cell_type": "code",
      "execution_count": null,
      "id": "98c3dc00-3ef0-47b2-a54f-573e0ccc203e",
      "metadata": {
        "id": "98c3dc00-3ef0-47b2-a54f-573e0ccc203e",
        "outputId": "18c57739-54fe-4936-cd04-f75701a8c5c8"
      },
      "outputs": [
        {
          "ename": "ValueError",
          "evalue": "invalid literal for int() with base 10: 'pwskills'",
          "output_type": "error",
          "traceback": [
            "\u001b[0;31m---------------------------------------------------------------------------\u001b[0m",
            "\u001b[0;31mValueError\u001b[0m                                Traceback (most recent call last)",
            "Cell \u001b[0;32mIn[18], line 1\u001b[0m\n\u001b[0;32m----> 1\u001b[0m \u001b[38;5;28;43mint\u001b[39;49m\u001b[43m(\u001b[49m\u001b[38;5;124;43m\"\u001b[39;49m\u001b[38;5;124;43mpwskills\u001b[39;49m\u001b[38;5;124;43m\"\u001b[39;49m\u001b[43m)\u001b[49m\n",
            "\u001b[0;31mValueError\u001b[0m: invalid literal for int() with base 10: 'pwskills'"
          ]
        }
      ],
      "source": [
        "int(\"pwskills\")"
      ]
    },
    {
      "cell_type": "code",
      "execution_count": null,
      "id": "507afa04-394f-4e00-88c7-6c6d320bc3d2",
      "metadata": {
        "id": "507afa04-394f-4e00-88c7-6c6d320bc3d2",
        "outputId": "9f0b39cf-a3e0-4889-956e-69835c3c726e"
      },
      "outputs": [
        {
          "name": "stdout",
          "output_type": "stream",
          "text": [
            "The string can not be converted to integer invalid literal for int() with base 10: 'pwskills'\n"
          ]
        }
      ],
      "source": [
        "try:\n",
        "    int(\"pwskills\")\n",
        "except ValueError as e:\n",
        "    print(\"The string can not be converted to integer\", e)"
      ]
    },
    {
      "cell_type": "code",
      "execution_count": null,
      "id": "a9f6002d-2edc-4926-8db5-0aa6b81c4dce",
      "metadata": {
        "id": "a9f6002d-2edc-4926-8db5-0aa6b81c4dce",
        "outputId": "fad544e5-3385-440d-85c2-93f7467414f4"
      },
      "outputs": [
        {
          "name": "stdout",
          "output_type": "stream",
          "text": [
            "The divison is not possible due the error>> unsupported operand type(s) for /: 'int' and 'str'\n"
          ]
        }
      ],
      "source": [
        "#handling two specific exception/multiple exceptions\n",
        "try:\n",
        "    10/\"3\"\n",
        "except (ZeroDivisionError, TypeError) as e:\n",
        "    print(\"The divison is not possible due the error>>\", e)"
      ]
    },
    {
      "cell_type": "code",
      "execution_count": null,
      "id": "dce9b15a-3448-4dca-acea-02a4de0e9d4f",
      "metadata": {
        "id": "dce9b15a-3448-4dca-acea-02a4de0e9d4f",
        "outputId": "971e01a7-53cc-4a2d-8238-e1fa7a8b8deb"
      },
      "outputs": [
        {
          "name": "stdout",
          "output_type": "stream",
          "text": [
            "The divison is not possible due the error>> division by zero\n"
          ]
        }
      ],
      "source": [
        "try:\n",
        "    10/0\n",
        "except (ZeroDivisionError, TypeError) as e:\n",
        "    print(\"The divison is not possible due the error>>\", e)"
      ]
    },
    {
      "cell_type": "code",
      "execution_count": null,
      "id": "4cd741d0-b72b-49b8-b6a6-131ecaed6ace",
      "metadata": {
        "id": "4cd741d0-b72b-49b8-b6a6-131ecaed6ace",
        "outputId": "3eb4c87f-c0ab-4a13-a9e2-c1f070a994c8"
      },
      "outputs": [
        {
          "name": "stdout",
          "output_type": "stream",
          "text": [
            "The divison is not possible due the error>> division by zero\n"
          ]
        }
      ],
      "source": [
        "#handle multiple exceptions in separate blocks\n",
        "try:\n",
        "    10/0\n",
        "except ZeroDivisionError as e:\n",
        "    print(\"The divison is not possible due the error>>\", e)\n",
        "except TypeError as e:\n",
        "    print(\"This is value error>>\", e)"
      ]
    },
    {
      "cell_type": "code",
      "execution_count": null,
      "id": "a0e38464-b54e-4f4f-aedf-e89850bb1c99",
      "metadata": {
        "id": "a0e38464-b54e-4f4f-aedf-e89850bb1c99",
        "outputId": "bb11f4d0-659f-4231-d3e9-6280fbd267cc"
      },
      "outputs": [
        {
          "ename": "TypeError",
          "evalue": "unsupported operand type(s) for /: 'int' and 'str'",
          "output_type": "error",
          "traceback": [
            "\u001b[0;31m---------------------------------------------------------------------------\u001b[0m",
            "\u001b[0;31mTypeError\u001b[0m                                 Traceback (most recent call last)",
            "Cell \u001b[0;32mIn[27], line 1\u001b[0m\n\u001b[0;32m----> 1\u001b[0m \u001b[38;5;241;43m10\u001b[39;49m\u001b[38;5;241;43m/\u001b[39;49m\u001b[38;5;124;43m\"\u001b[39;49m\u001b[38;5;124;43msome string\u001b[39;49m\u001b[38;5;124;43m\"\u001b[39;49m\n",
            "\u001b[0;31mTypeError\u001b[0m: unsupported operand type(s) for /: 'int' and 'str'"
          ]
        }
      ],
      "source": [
        " 10/\"some string\""
      ]
    },
    {
      "cell_type": "code",
      "execution_count": null,
      "id": "10cef283-4a7c-4ff6-b139-2842355df4b9",
      "metadata": {
        "id": "10cef283-4a7c-4ff6-b139-2842355df4b9",
        "outputId": "bb235334-be26-455a-a4d3-21a50c5c3cf6"
      },
      "outputs": [
        {
          "name": "stdout",
          "output_type": "stream",
          "text": [
            "This is value error>> unsupported operand type(s) for /: 'int' and 'str'\n"
          ]
        }
      ],
      "source": [
        "try:\n",
        "    10/\"some string\"\n",
        "except ZeroDivisionError as e:\n",
        "    print(\"The divison is not possible due the error>>\", e)\n",
        "except TypeError as e:\n",
        "    print(\"This is value error>>\", e)"
      ]
    },
    {
      "cell_type": "code",
      "execution_count": null,
      "id": "0bcdc508-86d2-442f-b955-1bd0c04fde00",
      "metadata": {
        "id": "0bcdc508-86d2-442f-b955-1bd0c04fde00"
      },
      "outputs": [],
      "source": [
        "import csv"
      ]
    },
    {
      "cell_type": "code",
      "execution_count": null,
      "id": "12f2ba02-5540-4c46-ab81-48167cee1805",
      "metadata": {
        "id": "12f2ba02-5540-4c46-ab81-48167cee1805",
        "outputId": "b9e7253c-57a4-443d-a932-fc64e3e6e6ba"
      },
      "outputs": [
        {
          "ename": "ModuleNotFoundError",
          "evalue": "No module named 'pwskills'",
          "output_type": "error",
          "traceback": [
            "\u001b[0;31m---------------------------------------------------------------------------\u001b[0m",
            "\u001b[0;31mModuleNotFoundError\u001b[0m                       Traceback (most recent call last)",
            "Cell \u001b[0;32mIn[31], line 1\u001b[0m\n\u001b[0;32m----> 1\u001b[0m \u001b[38;5;28;01mimport\u001b[39;00m \u001b[38;5;21;01mpwskills\u001b[39;00m\n",
            "\u001b[0;31mModuleNotFoundError\u001b[0m: No module named 'pwskills'"
          ]
        }
      ],
      "source": [
        "import pwskills"
      ]
    },
    {
      "cell_type": "code",
      "execution_count": null,
      "id": "563da8a8-f4ef-4700-8c71-f0d65be20829",
      "metadata": {
        "id": "563da8a8-f4ef-4700-8c71-f0d65be20829",
        "outputId": "69ccd087-16f9-4d90-c628-714653056a6c"
      },
      "outputs": [
        {
          "name": "stdout",
          "output_type": "stream",
          "text": [
            "The module not found No module named 'pwskills'\n"
          ]
        }
      ],
      "source": [
        "try:\n",
        "    import pwskills\n",
        "except ModuleNotFoundError as e:\n",
        "    print(\"The module not found\", e)"
      ]
    },
    {
      "cell_type": "code",
      "execution_count": null,
      "id": "0651c68b-caf8-4c23-abba-fbb1bbb15628",
      "metadata": {
        "id": "0651c68b-caf8-4c23-abba-fbb1bbb15628",
        "outputId": "50efd99e-6452-482d-c5c6-5d716f770122"
      },
      "outputs": [
        {
          "ename": "NameError",
          "evalue": "name 'test' is not defined",
          "output_type": "error",
          "traceback": [
            "\u001b[0;31m---------------------------------------------------------------------------\u001b[0m",
            "\u001b[0;31mNameError\u001b[0m                                 Traceback (most recent call last)",
            "Cell \u001b[0;32mIn[33], line 1\u001b[0m\n\u001b[0;32m----> 1\u001b[0m \u001b[43mtest\u001b[49m()\n",
            "\u001b[0;31mNameError\u001b[0m: name 'test' is not defined"
          ]
        }
      ],
      "source": [
        "test()"
      ]
    },
    {
      "cell_type": "code",
      "execution_count": null,
      "id": "c4d49d2a-3363-479c-ae3f-8c725ba9e0d5",
      "metadata": {
        "id": "c4d49d2a-3363-479c-ae3f-8c725ba9e0d5",
        "outputId": "d09c5d9c-401d-4495-e3e6-5500c812c882"
      },
      "outputs": [
        {
          "name": "stdout",
          "output_type": "stream",
          "text": [
            "name 'test' is not defined\n"
          ]
        }
      ],
      "source": [
        "try:\n",
        "    test()\n",
        "except NameError as e:\n",
        "    print(e)"
      ]
    },
    {
      "cell_type": "code",
      "execution_count": null,
      "id": "6ccf1997-ad08-47d5-9bba-cd0f68da6f6d",
      "metadata": {
        "id": "6ccf1997-ad08-47d5-9bba-cd0f68da6f6d"
      },
      "outputs": [],
      "source": [
        "d = {\"name\": \"Ajay\", \"class\": \"ds\"}"
      ]
    },
    {
      "cell_type": "code",
      "execution_count": null,
      "id": "d7dc144a-9e19-4cc2-8c63-f08f6a5abc65",
      "metadata": {
        "id": "d7dc144a-9e19-4cc2-8c63-f08f6a5abc65",
        "outputId": "c15b103a-87c4-47bb-cdab-e5085e9b14cb"
      },
      "outputs": [
        {
          "ename": "KeyError",
          "evalue": "'age'",
          "output_type": "error",
          "traceback": [
            "\u001b[0;31m---------------------------------------------------------------------------\u001b[0m",
            "\u001b[0;31mKeyError\u001b[0m                                  Traceback (most recent call last)",
            "Cell \u001b[0;32mIn[36], line 1\u001b[0m\n\u001b[0;32m----> 1\u001b[0m \u001b[43md\u001b[49m\u001b[43m[\u001b[49m\u001b[38;5;124;43m\"\u001b[39;49m\u001b[38;5;124;43mage\u001b[39;49m\u001b[38;5;124;43m\"\u001b[39;49m\u001b[43m]\u001b[49m\n",
            "\u001b[0;31mKeyError\u001b[0m: 'age'"
          ]
        }
      ],
      "source": [
        "d[\"age\"]"
      ]
    },
    {
      "cell_type": "code",
      "execution_count": null,
      "id": "f607b001-ba48-4329-a5fb-75fa302e5907",
      "metadata": {
        "id": "f607b001-ba48-4329-a5fb-75fa302e5907",
        "outputId": "a5e5e98f-afb4-4550-90a0-0e08b4e3e0b1"
      },
      "outputs": [
        {
          "name": "stdout",
          "output_type": "stream",
          "text": [
            "The key is not found 'age'\n"
          ]
        }
      ],
      "source": [
        "try:\n",
        "    d = {\"name\": \"Ajay\", \"class\": \"ds\"}\n",
        "    d[\"age\"]\n",
        "except KeyError as e:\n",
        "    print(\"The key is not found\", e)"
      ]
    },
    {
      "cell_type": "code",
      "execution_count": null,
      "id": "d8b705af-42be-48a4-9a9d-7d14d4813bca",
      "metadata": {
        "id": "d8b705af-42be-48a4-9a9d-7d14d4813bca",
        "outputId": "9beab087-12f8-4f2d-b0de-73804ef14f18"
      },
      "outputs": [
        {
          "ename": "IndexError",
          "evalue": "list index out of range",
          "output_type": "error",
          "traceback": [
            "\u001b[0;31m---------------------------------------------------------------------------\u001b[0m",
            "\u001b[0;31mIndexError\u001b[0m                                Traceback (most recent call last)",
            "Cell \u001b[0;32mIn[39], line 2\u001b[0m\n\u001b[1;32m      1\u001b[0m l \u001b[38;5;241m=\u001b[39m [\u001b[38;5;241m1\u001b[39m, \u001b[38;5;241m2\u001b[39m, \u001b[38;5;241m3\u001b[39m, \u001b[38;5;241m4\u001b[39m]\n\u001b[0;32m----> 2\u001b[0m \u001b[43ml\u001b[49m\u001b[43m[\u001b[49m\u001b[38;5;241;43m4\u001b[39;49m\u001b[43m]\u001b[49m\n",
            "\u001b[0;31mIndexError\u001b[0m: list index out of range"
          ]
        }
      ],
      "source": [
        "l = [1, 2, 3, 4]\n",
        "l[4]"
      ]
    },
    {
      "cell_type": "code",
      "execution_count": null,
      "id": "c3d0748b-0045-4f38-9832-0237f1f1fb77",
      "metadata": {
        "id": "c3d0748b-0045-4f38-9832-0237f1f1fb77",
        "outputId": "4eafc710-2183-40e1-c8e0-a95fa603647f"
      },
      "outputs": [
        {
          "name": "stdout",
          "output_type": "stream",
          "text": [
            "The index not found list index out of range\n"
          ]
        }
      ],
      "source": [
        "try:\n",
        "    l = [1, 2, 3, 4]\n",
        "    l[4]\n",
        "except IndexError as e:\n",
        "    print(\"The index not found\", e)"
      ]
    },
    {
      "cell_type": "code",
      "execution_count": null,
      "id": "72a9cfd1-5601-4753-9b00-10ad49f3dce4",
      "metadata": {
        "id": "72a9cfd1-5601-4753-9b00-10ad49f3dce4",
        "outputId": "086e6670-b459-410d-8c13-bf9579555344"
      },
      "outputs": [
        {
          "ename": "FileNotFoundError",
          "evalue": "[Errno 2] No such file or directory: 'example.txt'",
          "output_type": "error",
          "traceback": [
            "\u001b[0;31m---------------------------------------------------------------------------\u001b[0m",
            "\u001b[0;31mFileNotFoundError\u001b[0m                         Traceback (most recent call last)",
            "Cell \u001b[0;32mIn[41], line 1\u001b[0m\n\u001b[0;32m----> 1\u001b[0m f \u001b[38;5;241m=\u001b[39m \u001b[38;5;28;43mopen\u001b[39;49m\u001b[43m(\u001b[49m\u001b[38;5;124;43m\"\u001b[39;49m\u001b[38;5;124;43mexample.txt\u001b[39;49m\u001b[38;5;124;43m\"\u001b[39;49m\u001b[43m,\u001b[49m\u001b[43m \u001b[49m\u001b[38;5;124;43m\"\u001b[39;49m\u001b[38;5;124;43mr\u001b[39;49m\u001b[38;5;124;43m\"\u001b[39;49m\u001b[43m)\u001b[49m\n",
            "File \u001b[0;32m/opt/conda/lib/python3.10/site-packages/IPython/core/interactiveshell.py:282\u001b[0m, in \u001b[0;36m_modified_open\u001b[0;34m(file, *args, **kwargs)\u001b[0m\n\u001b[1;32m    275\u001b[0m \u001b[38;5;28;01mif\u001b[39;00m file \u001b[38;5;129;01min\u001b[39;00m {\u001b[38;5;241m0\u001b[39m, \u001b[38;5;241m1\u001b[39m, \u001b[38;5;241m2\u001b[39m}:\n\u001b[1;32m    276\u001b[0m     \u001b[38;5;28;01mraise\u001b[39;00m \u001b[38;5;167;01mValueError\u001b[39;00m(\n\u001b[1;32m    277\u001b[0m         \u001b[38;5;124mf\u001b[39m\u001b[38;5;124m\"\u001b[39m\u001b[38;5;124mIPython won\u001b[39m\u001b[38;5;124m'\u001b[39m\u001b[38;5;124mt let you open fd=\u001b[39m\u001b[38;5;132;01m{\u001b[39;00mfile\u001b[38;5;132;01m}\u001b[39;00m\u001b[38;5;124m by default \u001b[39m\u001b[38;5;124m\"\u001b[39m\n\u001b[1;32m    278\u001b[0m         \u001b[38;5;124m\"\u001b[39m\u001b[38;5;124mas it is likely to crash IPython. If you know what you are doing, \u001b[39m\u001b[38;5;124m\"\u001b[39m\n\u001b[1;32m    279\u001b[0m         \u001b[38;5;124m\"\u001b[39m\u001b[38;5;124myou can use builtins\u001b[39m\u001b[38;5;124m'\u001b[39m\u001b[38;5;124m open.\u001b[39m\u001b[38;5;124m\"\u001b[39m\n\u001b[1;32m    280\u001b[0m     )\n\u001b[0;32m--> 282\u001b[0m \u001b[38;5;28;01mreturn\u001b[39;00m \u001b[43mio_open\u001b[49m\u001b[43m(\u001b[49m\u001b[43mfile\u001b[49m\u001b[43m,\u001b[49m\u001b[43m \u001b[49m\u001b[38;5;241;43m*\u001b[39;49m\u001b[43margs\u001b[49m\u001b[43m,\u001b[49m\u001b[43m \u001b[49m\u001b[38;5;241;43m*\u001b[39;49m\u001b[38;5;241;43m*\u001b[39;49m\u001b[43mkwargs\u001b[49m\u001b[43m)\u001b[49m\n",
            "\u001b[0;31mFileNotFoundError\u001b[0m: [Errno 2] No such file or directory: 'example.txt'"
          ]
        }
      ],
      "source": [
        "f = open(\"example.txt\", \"r\")"
      ]
    },
    {
      "cell_type": "code",
      "execution_count": null,
      "id": "9b577868-9eb1-4dde-a590-d33c45cbf46d",
      "metadata": {
        "id": "9b577868-9eb1-4dde-a590-d33c45cbf46d",
        "outputId": "768b7974-4dde-4a74-8746-e46739a74647"
      },
      "outputs": [
        {
          "name": "stdout",
          "output_type": "stream",
          "text": [
            "The following file was not created, please re run the code [Errno 2] No such file or directory: 'example.txt'\n"
          ]
        }
      ],
      "source": [
        "try:\n",
        "    f = open(\"example.txt\", \"r\")\n",
        "    f.read()\n",
        "except FileNotFoundError as e:\n",
        "    print(\"The following file was not created, please re run the code\", e)"
      ]
    },
    {
      "cell_type": "code",
      "execution_count": null,
      "id": "59005e39-3c54-4db6-8479-46c529191dee",
      "metadata": {
        "id": "59005e39-3c54-4db6-8479-46c529191dee",
        "outputId": "64425fd0-6345-4f12-b64f-9a6fd9efce69"
      },
      "outputs": [
        {
          "name": "stdout",
          "output_type": "stream",
          "text": [
            "first msg-----File is not opened due to [Errno 2] No such file or directory: 'example.txt'\n"
          ]
        }
      ],
      "source": [
        "#sometime you will not know what could be the possible exceptions\n",
        "try:\n",
        "    f = open(\"example.txt\", \"r\")\n",
        "    f.read()\n",
        "except Exception as e: #parent class\n",
        "    print(\"first msg-----File is not opened due to\", e)\n",
        "except FileNotFoundError as e:\n",
        "    print(\"The following file was not created, please re run the code\", e)"
      ]
    },
    {
      "cell_type": "code",
      "execution_count": null,
      "id": "3dd24f4f-cf33-479f-8792-d378634e3d13",
      "metadata": {
        "id": "3dd24f4f-cf33-479f-8792-d378634e3d13",
        "outputId": "b007d1a8-b0a0-4f51-caa0-433fb91f7fb2"
      },
      "outputs": [
        {
          "name": "stdout",
          "output_type": "stream",
          "text": [
            "The following file was not created, please re run the code [Errno 2] No such file or directory: 'example.txt'\n"
          ]
        }
      ],
      "source": [
        "#best practice\n",
        "#in case you know specific exception keep that block first\n",
        "#and the block of generic exception after that\n",
        "\n",
        "try:\n",
        "    f = open(\"example.txt\", \"r\")\n",
        "    f.read()\n",
        "except FileNotFoundError as e:\n",
        "    print(\"The following file was not created, please re run the code\", e)\n",
        "except Exception as e: #parent class\n",
        "    print(\"first msg-----File is not opened due to\", e)"
      ]
    },
    {
      "cell_type": "code",
      "execution_count": null,
      "id": "40d82b0a-3dff-47e7-bd50-7a3f7cc64839",
      "metadata": {
        "id": "40d82b0a-3dff-47e7-bd50-7a3f7cc64839",
        "outputId": "d38a6eb9-19eb-4bb7-fcc1-af69d1a3b0cb"
      },
      "outputs": [
        {
          "name": "stdout",
          "output_type": "stream",
          "text": [
            "The error is unsupported operand type(s) for /: 'int' and 'str'\n"
          ]
        }
      ],
      "source": [
        "#anothe rexample of above case\n",
        "try:\n",
        "    10/\"string\"\n",
        "except ZeroDivisionError as e:\n",
        "    print(\"The divison is not possible due the error>>\", e)\n",
        "except Exception as e:\n",
        "    print(\"The error is\", e)"
      ]
    },
    {
      "cell_type": "code",
      "execution_count": null,
      "id": "685ed759-8164-41da-b3cf-ce07ac9bf45b",
      "metadata": {
        "id": "685ed759-8164-41da-b3cf-ce07ac9bf45b"
      },
      "outputs": [],
      "source": [
        "#best practice>> always try to log\n",
        "import logging\n",
        "logging.basicConfig(filename = \"program.log\", level = logging.DEBUG)\n",
        "try:\n",
        "    f = open(\"example.txt\", \"r\")\n",
        "    f.read()\n",
        "except FileNotFoundError as e:\n",
        "    logging.error(f\"My file was not found {e}\")"
      ]
    },
    {
      "cell_type": "code",
      "execution_count": null,
      "id": "506a1ed8-f069-4136-b833-458260266c7b",
      "metadata": {
        "id": "506a1ed8-f069-4136-b833-458260266c7b"
      },
      "outputs": [],
      "source": [
        "import logging\n",
        "logging.basicConfig(filename = \"program1.log\", level = logging.DEBUG)\n",
        "try:\n",
        "    10/0\n",
        "except ZeroDivisionError as e:\n",
        "    logging.error(f\"My file was not found {e}\")"
      ]
    },
    {
      "cell_type": "code",
      "execution_count": null,
      "id": "ca585a8a-f7bd-4515-a25d-8f6bc41a77a3",
      "metadata": {
        "id": "ca585a8a-f7bd-4515-a25d-8f6bc41a77a3"
      },
      "outputs": [],
      "source": [
        "#putting exception handling in a function\n",
        "def test(file):\n",
        "    try:\n",
        "        f = open(file, \"r\")\n",
        "        f.read()\n",
        "    except FileNotFoundError as e:\n",
        "        print(f\"My file was not found {e}\")"
      ]
    },
    {
      "cell_type": "code",
      "execution_count": null,
      "id": "73012f19-26e4-4c33-b6a9-57d216115cc3",
      "metadata": {
        "id": "73012f19-26e4-4c33-b6a9-57d216115cc3",
        "outputId": "7afb3dd4-79c6-4d78-b1da-6601f36892a5"
      },
      "outputs": [
        {
          "name": "stdout",
          "output_type": "stream",
          "text": [
            "My file was not found [Errno 2] No such file or directory: 'example.txt'\n"
          ]
        }
      ],
      "source": [
        "test(\"example.txt\")"
      ]
    },
    {
      "cell_type": "code",
      "execution_count": null,
      "id": "1a0df4d1-8751-4e4d-8766-8efa1805a34c",
      "metadata": {
        "id": "1a0df4d1-8751-4e4d-8766-8efa1805a34c",
        "outputId": "ecb0696a-f3bc-4689-a06e-fcee531204c4"
      },
      "outputs": [
        {
          "name": "stdout",
          "output_type": "stream",
          "text": [
            "The divison is not possible due the error>> division by zero\n"
          ]
        }
      ],
      "source": [
        "#do not try to use unnecessary exception/multiple exception\n",
        "#exmple:: filenotfound exception is never possible in divison\n",
        "#so no point to handle filenotfound error here\n",
        "#instead you can handle typeError or use generic excepction class\n",
        "try:\n",
        "    10/0\n",
        "except ZeroDivisionError as e:\n",
        "    print(\"The divison is not possible due the error>>\", e)\n",
        "except FileNotFoundError as e:\n",
        "    print(\"The error is\", e)"
      ]
    },
    {
      "cell_type": "code",
      "execution_count": null,
      "id": "f82bd678-1182-4a54-9560-548fec044190",
      "metadata": {
        "id": "f82bd678-1182-4a54-9560-548fec044190"
      },
      "outputs": [],
      "source": [
        "#zero divion error doesnt make any sense here\n",
        "def test(file):\n",
        "    try:\n",
        "        f = open(file, \"r\")\n",
        "        f.read()\n",
        "    except FileNotFoundError as e:\n",
        "        print(f\"My file was not found {e}\")\n",
        "    except ZeroDivisionError as e:#unnecesary\n",
        "        print(\"The divison is not possible due the error>>\", e)"
      ]
    },
    {
      "cell_type": "code",
      "execution_count": null,
      "id": "85302085-7c22-4945-a026-2e48622de327",
      "metadata": {
        "id": "85302085-7c22-4945-a026-2e48622de327",
        "outputId": "108cb75b-8b04-4db4-8a86-c26fee52c64c"
      },
      "outputs": [
        {
          "name": "stdout",
          "output_type": "stream",
          "text": [
            "My file was not found [Errno 2] No such file or directory: 'example.txt'\n"
          ]
        }
      ],
      "source": [
        "test(\"example.txt\")"
      ]
    },
    {
      "cell_type": "code",
      "execution_count": null,
      "id": "0dd0d8c5-133c-4a51-885e-bfa92601ad38",
      "metadata": {
        "id": "0dd0d8c5-133c-4a51-885e-bfa92601ad38"
      },
      "outputs": [],
      "source": [
        "#best practice:: give proper documentation in docstring/proper comments in your code\n",
        "def test(file):\n",
        "    \"\"\"\n",
        "    This function is about is reading a file.\n",
        "\n",
        "    Args:\n",
        "        input: file(str)\n",
        "        output: text(str)\n",
        "    \"\"\"\n",
        "    try:\n",
        "        f = open(file, \"r\")\n",
        "        f.read()\n",
        "    except FileNotFoundError as e:\n",
        "        print(f\"My file was not found {e}\")\n",
        "    #unnecesary exception\n",
        "    except ZeroDivisionError as e:\n",
        "        print(\"The divison is not possible due the error>>\", e)"
      ]
    },
    {
      "cell_type": "code",
      "execution_count": null,
      "id": "bce5e379-845e-4fea-9da0-d620490e2cef",
      "metadata": {
        "id": "bce5e379-845e-4fea-9da0-d620490e2cef",
        "outputId": "0d6b415a-78aa-4550-caf1-5a4ba8fcac2f"
      },
      "outputs": [
        {
          "name": "stdout",
          "output_type": "stream",
          "text": [
            "My file was not found [Errno 2] No such file or directory: 'example.txt'\n"
          ]
        }
      ],
      "source": [
        "test(\"example.txt\")"
      ]
    },
    {
      "cell_type": "code",
      "execution_count": null,
      "id": "0459463a-d077-4a7c-97cd-1da6ccf01ea0",
      "metadata": {
        "id": "0459463a-d077-4a7c-97cd-1da6ccf01ea0"
      },
      "outputs": [],
      "source": [
        "#best practice>> always clean up the resources using finally\n",
        "\n",
        "\n",
        "def test(file):\n",
        "    \"\"\"\n",
        "    This function is about is reading a file.\n",
        "\n",
        "    Args:\n",
        "        input: file(str)\n",
        "        output: text(str)\n",
        "    \"\"\"\n",
        "    try:\n",
        "        f = open(file, \"w\")\n",
        "        f.write(\"Anything being written\")\n",
        "    except FileNotFoundError as e:\n",
        "        print(f\"My file was not found {e}\")\n",
        "    finally:\n",
        "        f.close()"
      ]
    },
    {
      "cell_type": "code",
      "execution_count": null,
      "id": "9c449ce1-7fce-45f9-8c5d-c89379a35565",
      "metadata": {
        "id": "9c449ce1-7fce-45f9-8c5d-c89379a35565"
      },
      "outputs": [],
      "source": [
        "test(\"example.txt\")"
      ]
    },
    {
      "cell_type": "markdown",
      "source": [
        "LOGGING AND DEBUGGING"
      ],
      "metadata": {
        "id": "WXEXut5pxhCv"
      },
      "id": "WXEXut5pxhCv"
    },
    {
      "cell_type": "code",
      "execution_count": null,
      "id": "2e3a2c6e-56ce-4191-aefa-81a385cc3513",
      "metadata": {
        "id": "2e3a2c6e-56ce-4191-aefa-81a385cc3513"
      },
      "outputs": [],
      "source": [
        "#debugging>>it is the process of identifying and fixing bugs/issues in your code\n",
        "#debugging involves >> breaking the code(checkpoint), executing the code, inspecting the variables using print statment"
      ]
    },
    {
      "cell_type": "code",
      "source": [
        "def divide(a, b):\n",
        "    return a/b"
      ],
      "metadata": {
        "id": "tCENw_tcxrMe"
      },
      "id": "tCENw_tcxrMe",
      "execution_count": 1,
      "outputs": []
    },
    {
      "cell_type": "code",
      "source": [
        "divide(10, 2)"
      ],
      "metadata": {
        "colab": {
          "base_uri": "https://localhost:8080/"
        },
        "id": "JNaA4ZOjxuYB",
        "outputId": "2faa8895-726b-4da2-9718-1801683c9918"
      },
      "id": "JNaA4ZOjxuYB",
      "execution_count": 2,
      "outputs": [
        {
          "output_type": "execute_result",
          "data": {
            "text/plain": [
              "5.0"
            ]
          },
          "metadata": {},
          "execution_count": 2
        }
      ]
    },
    {
      "cell_type": "code",
      "source": [
        "divide(12, 3)"
      ],
      "metadata": {
        "colab": {
          "base_uri": "https://localhost:8080/"
        },
        "id": "oVxHPPfWxzrR",
        "outputId": "0046a761-f554-4212-9c1d-e296785b6422"
      },
      "id": "oVxHPPfWxzrR",
      "execution_count": 3,
      "outputs": [
        {
          "output_type": "execute_result",
          "data": {
            "text/plain": [
              "4.0"
            ]
          },
          "metadata": {},
          "execution_count": 3
        }
      ]
    },
    {
      "cell_type": "code",
      "source": [
        "divide(10, 0)"
      ],
      "metadata": {
        "colab": {
          "base_uri": "https://localhost:8080/",
          "height": 211
        },
        "id": "2LXb7UmEx2VJ",
        "outputId": "59eaaff2-ae99-44f2-fa68-f3b51467ce47"
      },
      "id": "2LXb7UmEx2VJ",
      "execution_count": 4,
      "outputs": [
        {
          "output_type": "error",
          "ename": "ZeroDivisionError",
          "evalue": "division by zero",
          "traceback": [
            "\u001b[0;31m---------------------------------------------------------------------------\u001b[0m",
            "\u001b[0;31mZeroDivisionError\u001b[0m                         Traceback (most recent call last)",
            "\u001b[0;32m/tmp/ipython-input-3850253195.py\u001b[0m in \u001b[0;36m<cell line: 0>\u001b[0;34m()\u001b[0m\n\u001b[0;32m----> 1\u001b[0;31m \u001b[0mdivide\u001b[0m\u001b[0;34m(\u001b[0m\u001b[0;36m10\u001b[0m\u001b[0;34m,\u001b[0m \u001b[0;36m0\u001b[0m\u001b[0;34m)\u001b[0m\u001b[0;34m\u001b[0m\u001b[0;34m\u001b[0m\u001b[0m\n\u001b[0m",
            "\u001b[0;32m/tmp/ipython-input-560253271.py\u001b[0m in \u001b[0;36mdivide\u001b[0;34m(a, b)\u001b[0m\n\u001b[1;32m      1\u001b[0m \u001b[0;32mdef\u001b[0m \u001b[0mdivide\u001b[0m\u001b[0;34m(\u001b[0m\u001b[0ma\u001b[0m\u001b[0;34m,\u001b[0m \u001b[0mb\u001b[0m\u001b[0;34m)\u001b[0m\u001b[0;34m:\u001b[0m\u001b[0;34m\u001b[0m\u001b[0;34m\u001b[0m\u001b[0m\n\u001b[0;32m----> 2\u001b[0;31m     \u001b[0;32mreturn\u001b[0m \u001b[0ma\u001b[0m\u001b[0;34m/\u001b[0m\u001b[0mb\u001b[0m\u001b[0;34m\u001b[0m\u001b[0;34m\u001b[0m\u001b[0m\n\u001b[0m",
            "\u001b[0;31mZeroDivisionError\u001b[0m: division by zero"
          ]
        }
      ]
    },
    {
      "cell_type": "code",
      "source": [
        "for i in range(-10, 10):\n",
        "    divide(i, i+1)\n",
        "#you have called divide function many times\n",
        "#at somewhere its throwing error, but where?\n",
        "#You have to debug the code >> for what value of a and b parameter, its throwing error"
      ],
      "metadata": {
        "colab": {
          "base_uri": "https://localhost:8080/",
          "height": 280
        },
        "id": "Fzjms7Hwx5Em",
        "outputId": "aea781ac-ad33-48fe-ce9b-11c3c7505d56"
      },
      "id": "Fzjms7Hwx5Em",
      "execution_count": 5,
      "outputs": [
        {
          "output_type": "error",
          "ename": "ZeroDivisionError",
          "evalue": "division by zero",
          "traceback": [
            "\u001b[0;31m---------------------------------------------------------------------------\u001b[0m",
            "\u001b[0;31mZeroDivisionError\u001b[0m                         Traceback (most recent call last)",
            "\u001b[0;32m/tmp/ipython-input-3089458197.py\u001b[0m in \u001b[0;36m<cell line: 0>\u001b[0;34m()\u001b[0m\n\u001b[1;32m      1\u001b[0m \u001b[0;32mfor\u001b[0m \u001b[0mi\u001b[0m \u001b[0;32min\u001b[0m \u001b[0mrange\u001b[0m\u001b[0;34m(\u001b[0m\u001b[0;34m-\u001b[0m\u001b[0;36m10\u001b[0m\u001b[0;34m,\u001b[0m \u001b[0;36m10\u001b[0m\u001b[0;34m)\u001b[0m\u001b[0;34m:\u001b[0m\u001b[0;34m\u001b[0m\u001b[0;34m\u001b[0m\u001b[0m\n\u001b[0;32m----> 2\u001b[0;31m     \u001b[0mdivide\u001b[0m\u001b[0;34m(\u001b[0m\u001b[0mi\u001b[0m\u001b[0;34m,\u001b[0m \u001b[0mi\u001b[0m\u001b[0;34m+\u001b[0m\u001b[0;36m1\u001b[0m\u001b[0;34m)\u001b[0m\u001b[0;34m\u001b[0m\u001b[0;34m\u001b[0m\u001b[0m\n\u001b[0m\u001b[1;32m      3\u001b[0m \u001b[0;31m#you have called divide function many times\u001b[0m\u001b[0;34m\u001b[0m\u001b[0;34m\u001b[0m\u001b[0m\n\u001b[1;32m      4\u001b[0m \u001b[0;31m#at somewhere its throwing error, but where?\u001b[0m\u001b[0;34m\u001b[0m\u001b[0;34m\u001b[0m\u001b[0m\n\u001b[1;32m      5\u001b[0m \u001b[0;31m#You have to debug the code >> for what value of a and b parameter, its throwing error\u001b[0m\u001b[0;34m\u001b[0m\u001b[0;34m\u001b[0m\u001b[0m\n",
            "\u001b[0;32m/tmp/ipython-input-560253271.py\u001b[0m in \u001b[0;36mdivide\u001b[0;34m(a, b)\u001b[0m\n\u001b[1;32m      1\u001b[0m \u001b[0;32mdef\u001b[0m \u001b[0mdivide\u001b[0m\u001b[0;34m(\u001b[0m\u001b[0ma\u001b[0m\u001b[0;34m,\u001b[0m \u001b[0mb\u001b[0m\u001b[0;34m)\u001b[0m\u001b[0;34m:\u001b[0m\u001b[0;34m\u001b[0m\u001b[0;34m\u001b[0m\u001b[0m\n\u001b[0;32m----> 2\u001b[0;31m     \u001b[0;32mreturn\u001b[0m \u001b[0ma\u001b[0m\u001b[0;34m/\u001b[0m\u001b[0mb\u001b[0m\u001b[0;34m\u001b[0m\u001b[0;34m\u001b[0m\u001b[0m\n\u001b[0m",
            "\u001b[0;31mZeroDivisionError\u001b[0m: division by zero"
          ]
        }
      ]
    },
    {
      "cell_type": "code",
      "source": [
        "def divide(a, b):\n",
        "    return a/b\n",
        "\n",
        "for i in range(-10, 10):\n",
        "    divide(i, i+1)\n",
        "#breaking the code>> logcally> here we understand that there are two steps involved\n",
        "#break the code it terms of execution as well using return statments or print statment\n",
        "#first a loop and second calling divide function in loop"
      ],
      "metadata": {
        "colab": {
          "base_uri": "https://localhost:8080/",
          "height": 332
        },
        "id": "Pmtwlnm5yBl8",
        "outputId": "ff4cd516-7bf0-44bf-f400-3d3ef7a34fb4"
      },
      "id": "Pmtwlnm5yBl8",
      "execution_count": 6,
      "outputs": [
        {
          "output_type": "error",
          "ename": "ZeroDivisionError",
          "evalue": "division by zero",
          "traceback": [
            "\u001b[0;31m---------------------------------------------------------------------------\u001b[0m",
            "\u001b[0;31mZeroDivisionError\u001b[0m                         Traceback (most recent call last)",
            "\u001b[0;32m/tmp/ipython-input-2860355595.py\u001b[0m in \u001b[0;36m<cell line: 0>\u001b[0;34m()\u001b[0m\n\u001b[1;32m      3\u001b[0m \u001b[0;34m\u001b[0m\u001b[0m\n\u001b[1;32m      4\u001b[0m \u001b[0;32mfor\u001b[0m \u001b[0mi\u001b[0m \u001b[0;32min\u001b[0m \u001b[0mrange\u001b[0m\u001b[0;34m(\u001b[0m\u001b[0;34m-\u001b[0m\u001b[0;36m10\u001b[0m\u001b[0;34m,\u001b[0m \u001b[0;36m10\u001b[0m\u001b[0;34m)\u001b[0m\u001b[0;34m:\u001b[0m\u001b[0;34m\u001b[0m\u001b[0;34m\u001b[0m\u001b[0m\n\u001b[0;32m----> 5\u001b[0;31m     \u001b[0mdivide\u001b[0m\u001b[0;34m(\u001b[0m\u001b[0mi\u001b[0m\u001b[0;34m,\u001b[0m \u001b[0mi\u001b[0m\u001b[0;34m+\u001b[0m\u001b[0;36m1\u001b[0m\u001b[0;34m)\u001b[0m\u001b[0;34m\u001b[0m\u001b[0;34m\u001b[0m\u001b[0m\n\u001b[0m\u001b[1;32m      6\u001b[0m \u001b[0;31m#breaking the code>> logcally> here we understand that there are two steps involved\u001b[0m\u001b[0;34m\u001b[0m\u001b[0;34m\u001b[0m\u001b[0m\n\u001b[1;32m      7\u001b[0m \u001b[0;31m#break the code it terms of execution as well using return statments or print statment\u001b[0m\u001b[0;34m\u001b[0m\u001b[0;34m\u001b[0m\u001b[0m\n",
            "\u001b[0;32m/tmp/ipython-input-2860355595.py\u001b[0m in \u001b[0;36mdivide\u001b[0;34m(a, b)\u001b[0m\n\u001b[1;32m      1\u001b[0m \u001b[0;32mdef\u001b[0m \u001b[0mdivide\u001b[0m\u001b[0;34m(\u001b[0m\u001b[0ma\u001b[0m\u001b[0;34m,\u001b[0m \u001b[0mb\u001b[0m\u001b[0;34m)\u001b[0m\u001b[0;34m:\u001b[0m\u001b[0;34m\u001b[0m\u001b[0;34m\u001b[0m\u001b[0m\n\u001b[0;32m----> 2\u001b[0;31m     \u001b[0;32mreturn\u001b[0m \u001b[0ma\u001b[0m\u001b[0;34m/\u001b[0m\u001b[0mb\u001b[0m\u001b[0;34m\u001b[0m\u001b[0;34m\u001b[0m\u001b[0m\n\u001b[0m\u001b[1;32m      3\u001b[0m \u001b[0;34m\u001b[0m\u001b[0m\n\u001b[1;32m      4\u001b[0m \u001b[0;32mfor\u001b[0m \u001b[0mi\u001b[0m \u001b[0;32min\u001b[0m \u001b[0mrange\u001b[0m\u001b[0;34m(\u001b[0m\u001b[0;34m-\u001b[0m\u001b[0;36m10\u001b[0m\u001b[0;34m,\u001b[0m \u001b[0;36m10\u001b[0m\u001b[0;34m)\u001b[0m\u001b[0;34m:\u001b[0m\u001b[0;34m\u001b[0m\u001b[0;34m\u001b[0m\u001b[0m\n\u001b[1;32m      5\u001b[0m     \u001b[0mdivide\u001b[0m\u001b[0;34m(\u001b[0m\u001b[0mi\u001b[0m\u001b[0;34m,\u001b[0m \u001b[0mi\u001b[0m\u001b[0;34m+\u001b[0m\u001b[0;36m1\u001b[0m\u001b[0;34m)\u001b[0m\u001b[0;34m\u001b[0m\u001b[0;34m\u001b[0m\u001b[0m\n",
            "\u001b[0;31mZeroDivisionError\u001b[0m: division by zero"
          ]
        }
      ]
    },
    {
      "cell_type": "code",
      "source": [
        "#using print statement to debug\n",
        "def divide(a, b):\n",
        "    return a/b\n",
        "\n",
        "for i in range(-10, 10):\n",
        "    print(i, i+1)\n",
        "    divide(i, i+1)"
      ],
      "metadata": {
        "colab": {
          "base_uri": "https://localhost:8080/",
          "height": 471
        },
        "id": "NqHymXFPyFFh",
        "outputId": "bf8e7fb3-a1b8-4735-f7f6-16fda6efb3d6"
      },
      "id": "NqHymXFPyFFh",
      "execution_count": 7,
      "outputs": [
        {
          "output_type": "stream",
          "name": "stdout",
          "text": [
            "-10 -9\n",
            "-9 -8\n",
            "-8 -7\n",
            "-7 -6\n",
            "-6 -5\n",
            "-5 -4\n",
            "-4 -3\n",
            "-3 -2\n",
            "-2 -1\n",
            "-1 0\n"
          ]
        },
        {
          "output_type": "error",
          "ename": "ZeroDivisionError",
          "evalue": "division by zero",
          "traceback": [
            "\u001b[0;31m---------------------------------------------------------------------------\u001b[0m",
            "\u001b[0;31mZeroDivisionError\u001b[0m                         Traceback (most recent call last)",
            "\u001b[0;32m/tmp/ipython-input-2196697284.py\u001b[0m in \u001b[0;36m<cell line: 0>\u001b[0;34m()\u001b[0m\n\u001b[1;32m      5\u001b[0m \u001b[0;32mfor\u001b[0m \u001b[0mi\u001b[0m \u001b[0;32min\u001b[0m \u001b[0mrange\u001b[0m\u001b[0;34m(\u001b[0m\u001b[0;34m-\u001b[0m\u001b[0;36m10\u001b[0m\u001b[0;34m,\u001b[0m \u001b[0;36m10\u001b[0m\u001b[0;34m)\u001b[0m\u001b[0;34m:\u001b[0m\u001b[0;34m\u001b[0m\u001b[0;34m\u001b[0m\u001b[0m\n\u001b[1;32m      6\u001b[0m     \u001b[0mprint\u001b[0m\u001b[0;34m(\u001b[0m\u001b[0mi\u001b[0m\u001b[0;34m,\u001b[0m \u001b[0mi\u001b[0m\u001b[0;34m+\u001b[0m\u001b[0;36m1\u001b[0m\u001b[0;34m)\u001b[0m\u001b[0;34m\u001b[0m\u001b[0;34m\u001b[0m\u001b[0m\n\u001b[0;32m----> 7\u001b[0;31m     \u001b[0mdivide\u001b[0m\u001b[0;34m(\u001b[0m\u001b[0mi\u001b[0m\u001b[0;34m,\u001b[0m \u001b[0mi\u001b[0m\u001b[0;34m+\u001b[0m\u001b[0;36m1\u001b[0m\u001b[0;34m)\u001b[0m\u001b[0;34m\u001b[0m\u001b[0;34m\u001b[0m\u001b[0m\n\u001b[0m",
            "\u001b[0;32m/tmp/ipython-input-2196697284.py\u001b[0m in \u001b[0;36mdivide\u001b[0;34m(a, b)\u001b[0m\n\u001b[1;32m      1\u001b[0m \u001b[0;31m#using print statement to debug\u001b[0m\u001b[0;34m\u001b[0m\u001b[0;34m\u001b[0m\u001b[0m\n\u001b[1;32m      2\u001b[0m \u001b[0;32mdef\u001b[0m \u001b[0mdivide\u001b[0m\u001b[0;34m(\u001b[0m\u001b[0ma\u001b[0m\u001b[0;34m,\u001b[0m \u001b[0mb\u001b[0m\u001b[0;34m)\u001b[0m\u001b[0;34m:\u001b[0m\u001b[0;34m\u001b[0m\u001b[0;34m\u001b[0m\u001b[0m\n\u001b[0;32m----> 3\u001b[0;31m     \u001b[0;32mreturn\u001b[0m \u001b[0ma\u001b[0m\u001b[0;34m/\u001b[0m\u001b[0mb\u001b[0m\u001b[0;34m\u001b[0m\u001b[0;34m\u001b[0m\u001b[0m\n\u001b[0m\u001b[1;32m      4\u001b[0m \u001b[0;34m\u001b[0m\u001b[0m\n\u001b[1;32m      5\u001b[0m \u001b[0;32mfor\u001b[0m \u001b[0mi\u001b[0m \u001b[0;32min\u001b[0m \u001b[0mrange\u001b[0m\u001b[0;34m(\u001b[0m\u001b[0;34m-\u001b[0m\u001b[0;36m10\u001b[0m\u001b[0;34m,\u001b[0m \u001b[0;36m10\u001b[0m\u001b[0;34m)\u001b[0m\u001b[0;34m:\u001b[0m\u001b[0;34m\u001b[0m\u001b[0;34m\u001b[0m\u001b[0m\n",
            "\u001b[0;31mZeroDivisionError\u001b[0m: division by zero"
          ]
        }
      ]
    },
    {
      "cell_type": "code",
      "source": [
        "#using another print statment inside function\n",
        "def divide(a, b):\n",
        "    print(a, b)\n",
        "    return a/b\n",
        "\n",
        "for i in range(-10, 10):\n",
        "    # print(i, i+1)\n",
        "    divide(i, i+1)"
      ],
      "metadata": {
        "colab": {
          "base_uri": "https://localhost:8080/",
          "height": 471
        },
        "id": "abP3ha9byJGI",
        "outputId": "5535950c-1917-4f0d-c0ac-20091308d4f5"
      },
      "id": "abP3ha9byJGI",
      "execution_count": 8,
      "outputs": [
        {
          "output_type": "stream",
          "name": "stdout",
          "text": [
            "-10 -9\n",
            "-9 -8\n",
            "-8 -7\n",
            "-7 -6\n",
            "-6 -5\n",
            "-5 -4\n",
            "-4 -3\n",
            "-3 -2\n",
            "-2 -1\n",
            "-1 0\n"
          ]
        },
        {
          "output_type": "error",
          "ename": "ZeroDivisionError",
          "evalue": "division by zero",
          "traceback": [
            "\u001b[0;31m---------------------------------------------------------------------------\u001b[0m",
            "\u001b[0;31mZeroDivisionError\u001b[0m                         Traceback (most recent call last)",
            "\u001b[0;32m/tmp/ipython-input-1560939147.py\u001b[0m in \u001b[0;36m<cell line: 0>\u001b[0;34m()\u001b[0m\n\u001b[1;32m      6\u001b[0m \u001b[0;32mfor\u001b[0m \u001b[0mi\u001b[0m \u001b[0;32min\u001b[0m \u001b[0mrange\u001b[0m\u001b[0;34m(\u001b[0m\u001b[0;34m-\u001b[0m\u001b[0;36m10\u001b[0m\u001b[0;34m,\u001b[0m \u001b[0;36m10\u001b[0m\u001b[0;34m)\u001b[0m\u001b[0;34m:\u001b[0m\u001b[0;34m\u001b[0m\u001b[0;34m\u001b[0m\u001b[0m\n\u001b[1;32m      7\u001b[0m     \u001b[0;31m# print(i, i+1)\u001b[0m\u001b[0;34m\u001b[0m\u001b[0;34m\u001b[0m\u001b[0m\n\u001b[0;32m----> 8\u001b[0;31m     \u001b[0mdivide\u001b[0m\u001b[0;34m(\u001b[0m\u001b[0mi\u001b[0m\u001b[0;34m,\u001b[0m \u001b[0mi\u001b[0m\u001b[0;34m+\u001b[0m\u001b[0;36m1\u001b[0m\u001b[0;34m)\u001b[0m\u001b[0;34m\u001b[0m\u001b[0;34m\u001b[0m\u001b[0m\n\u001b[0m",
            "\u001b[0;32m/tmp/ipython-input-1560939147.py\u001b[0m in \u001b[0;36mdivide\u001b[0;34m(a, b)\u001b[0m\n\u001b[1;32m      2\u001b[0m \u001b[0;32mdef\u001b[0m \u001b[0mdivide\u001b[0m\u001b[0;34m(\u001b[0m\u001b[0ma\u001b[0m\u001b[0;34m,\u001b[0m \u001b[0mb\u001b[0m\u001b[0;34m)\u001b[0m\u001b[0;34m:\u001b[0m\u001b[0;34m\u001b[0m\u001b[0;34m\u001b[0m\u001b[0m\n\u001b[1;32m      3\u001b[0m     \u001b[0mprint\u001b[0m\u001b[0;34m(\u001b[0m\u001b[0ma\u001b[0m\u001b[0;34m,\u001b[0m \u001b[0mb\u001b[0m\u001b[0;34m)\u001b[0m\u001b[0;34m\u001b[0m\u001b[0;34m\u001b[0m\u001b[0m\n\u001b[0;32m----> 4\u001b[0;31m     \u001b[0;32mreturn\u001b[0m \u001b[0ma\u001b[0m\u001b[0;34m/\u001b[0m\u001b[0mb\u001b[0m\u001b[0;34m\u001b[0m\u001b[0;34m\u001b[0m\u001b[0m\n\u001b[0m\u001b[1;32m      5\u001b[0m \u001b[0;34m\u001b[0m\u001b[0m\n\u001b[1;32m      6\u001b[0m \u001b[0;32mfor\u001b[0m \u001b[0mi\u001b[0m \u001b[0;32min\u001b[0m \u001b[0mrange\u001b[0m\u001b[0;34m(\u001b[0m\u001b[0;34m-\u001b[0m\u001b[0;36m10\u001b[0m\u001b[0;34m,\u001b[0m \u001b[0;36m10\u001b[0m\u001b[0;34m)\u001b[0m\u001b[0;34m:\u001b[0m\u001b[0;34m\u001b[0m\u001b[0;34m\u001b[0m\u001b[0m\n",
            "\u001b[0;31mZeroDivisionError\u001b[0m: division by zero"
          ]
        }
      ]
    },
    {
      "cell_type": "code",
      "source": [
        "#from print statment you understand that when b is 0, it throws the error\n",
        "def divide(a, b):\n",
        "    print(a, b)\n",
        "    #breaking the code in terms of execution\n",
        "    if b == 0:\n",
        "        print(\"zero divion error\")\n",
        "        return\n",
        "    return a/b\n",
        "\n",
        "for i in range(-10, 10):\n",
        "    # print(i, i+1)\n",
        "    divide(i, i+1)"
      ],
      "metadata": {
        "colab": {
          "base_uri": "https://localhost:8080/"
        },
        "id": "bqTBTaSYyPJj",
        "outputId": "29877fce-4968-41dc-90f4-a5a32bd637fc"
      },
      "id": "bqTBTaSYyPJj",
      "execution_count": 9,
      "outputs": [
        {
          "output_type": "stream",
          "name": "stdout",
          "text": [
            "-10 -9\n",
            "-9 -8\n",
            "-8 -7\n",
            "-7 -6\n",
            "-6 -5\n",
            "-5 -4\n",
            "-4 -3\n",
            "-3 -2\n",
            "-2 -1\n",
            "-1 0\n",
            "zero divion error\n",
            "0 1\n",
            "1 2\n",
            "2 3\n",
            "3 4\n",
            "4 5\n",
            "5 6\n",
            "6 7\n",
            "7 8\n",
            "8 9\n",
            "9 10\n"
          ]
        }
      ]
    },
    {
      "cell_type": "code",
      "source": [
        "#print statment is not a pythonic way to debug>>print statments are not efficient\n",
        "#print statment is good for simple scripts but not complex\n",
        "#in console/terminal all the print statments will be lost\n",
        "#you use logging instead of print stament"
      ],
      "metadata": {
        "id": "2caobKY0ySIA"
      },
      "id": "2caobKY0ySIA",
      "execution_count": null,
      "outputs": []
    },
    {
      "cell_type": "code",
      "source": [
        "#logging>> it records the state and flow of your program/code/software\n",
        "#it is useful for understanding, monitoring and debugging of your code\n",
        "#it shows how program behaves over time\n",
        "\n",
        "\n",
        "#Analogy>> diary entry since childhood to now>>you will understand how you evolved\n",
        "#similrly in complex scripts to understand how your code is changing the result over time, you can log the specific steps"
      ],
      "metadata": {
        "id": "i2pB3fAEyc44"
      },
      "id": "i2pB3fAEyc44",
      "execution_count": null,
      "outputs": []
    },
    {
      "cell_type": "code",
      "source": [
        "#logging supports different levels of logging which helps to categorize messages based on their severity\n",
        "#analogy>> different level of severity if terror attack>>can go to emergency\n",
        "#similarly in logging we have different levels"
      ],
      "metadata": {
        "id": "qD7DJNcwyhSM"
      },
      "id": "qD7DJNcwyhSM",
      "execution_count": null,
      "outputs": []
    },
    {
      "cell_type": "code",
      "source": [
        "import logging"
      ],
      "metadata": {
        "id": "ozN4YnUSykOr"
      },
      "id": "ozN4YnUSykOr",
      "execution_count": null,
      "outputs": []
    },
    {
      "cell_type": "code",
      "source": [
        "logging.basicConfig(filename = 'test.log', level = logging.INFO)"
      ],
      "metadata": {
        "id": "kErKhh0uynd9"
      },
      "id": "kErKhh0uynd9",
      "execution_count": null,
      "outputs": []
    },
    {
      "cell_type": "code",
      "source": [
        "logging.info(\"This is my normal information about the software\")"
      ],
      "metadata": {
        "id": "MNKDJTsWyrJX"
      },
      "id": "MNKDJTsWyrJX",
      "execution_count": null,
      "outputs": []
    },
    {
      "cell_type": "code",
      "source": [
        "logging.warning(\"There can be empty list here\")"
      ],
      "metadata": {
        "id": "7W1nrqXOyt_f"
      },
      "id": "7W1nrqXOyt_f",
      "execution_count": null,
      "outputs": []
    },
    {
      "cell_type": "code",
      "source": [
        "logging.debug(\"The length of list is\")"
      ],
      "metadata": {
        "id": "wGRkVn5nyxHL"
      },
      "id": "wGRkVn5nyxHL",
      "execution_count": null,
      "outputs": []
    },
    {
      "cell_type": "code",
      "source": [
        "logging .error(\"Some error has happened\")"
      ],
      "metadata": {
        "id": "X8KLvb6Uy0DO"
      },
      "id": "X8KLvb6Uy0DO",
      "execution_count": null,
      "outputs": []
    },
    {
      "cell_type": "code",
      "source": [
        "logging.critical(\"The software has stopped running\")"
      ],
      "metadata": {
        "id": "MiYrQw9By2iW"
      },
      "id": "MiYrQw9By2iW",
      "execution_count": null,
      "outputs": []
    },
    {
      "cell_type": "code",
      "source": [
        "logging.shutdown()"
      ],
      "metadata": {
        "id": "DA3UsbgGy5yr"
      },
      "id": "DA3UsbgGy5yr",
      "execution_count": null,
      "outputs": []
    },
    {
      "cell_type": "code",
      "source": [
        "import logging\n",
        "logging.basicConfig(filename = \"test_new.log\", level = logging.DEBUG, format = '%(asctime)s %(message)s')"
      ],
      "metadata": {
        "id": "vVjyv3ADy9Iw"
      },
      "id": "vVjyv3ADy9Iw",
      "execution_count": null,
      "outputs": []
    },
    {
      "cell_type": "code",
      "source": [
        "logging.debug(\"This msg is for debugging\")\n",
        "logging.info(\"This is my info msg\")\n",
        "logging.warning(\"This is my warning msg\")\n",
        "logging.shutdown()"
      ],
      "metadata": {
        "colab": {
          "base_uri": "https://localhost:8080/",
          "height": 193
        },
        "id": "y8hKXIbTy_0s",
        "outputId": "c6425193-df71-49cd-e915-42e84d89d280"
      },
      "id": "y8hKXIbTy_0s",
      "execution_count": 10,
      "outputs": [
        {
          "output_type": "error",
          "ename": "NameError",
          "evalue": "name 'logging' is not defined",
          "traceback": [
            "\u001b[0;31m---------------------------------------------------------------------------\u001b[0m",
            "\u001b[0;31mNameError\u001b[0m                                 Traceback (most recent call last)",
            "\u001b[0;32m/tmp/ipython-input-2601183505.py\u001b[0m in \u001b[0;36m<cell line: 0>\u001b[0;34m()\u001b[0m\n\u001b[0;32m----> 1\u001b[0;31m \u001b[0mlogging\u001b[0m\u001b[0;34m.\u001b[0m\u001b[0mdebug\u001b[0m\u001b[0;34m(\u001b[0m\u001b[0;34m\"This msg is for debugging\"\u001b[0m\u001b[0;34m)\u001b[0m\u001b[0;34m\u001b[0m\u001b[0;34m\u001b[0m\u001b[0m\n\u001b[0m\u001b[1;32m      2\u001b[0m \u001b[0mlogging\u001b[0m\u001b[0;34m.\u001b[0m\u001b[0minfo\u001b[0m\u001b[0;34m(\u001b[0m\u001b[0;34m\"This is my info msg\"\u001b[0m\u001b[0;34m)\u001b[0m\u001b[0;34m\u001b[0m\u001b[0;34m\u001b[0m\u001b[0m\n\u001b[1;32m      3\u001b[0m \u001b[0mlogging\u001b[0m\u001b[0;34m.\u001b[0m\u001b[0mwarning\u001b[0m\u001b[0;34m(\u001b[0m\u001b[0;34m\"This is my warning msg\"\u001b[0m\u001b[0;34m)\u001b[0m\u001b[0;34m\u001b[0m\u001b[0;34m\u001b[0m\u001b[0m\n\u001b[1;32m      4\u001b[0m \u001b[0mlogging\u001b[0m\u001b[0;34m.\u001b[0m\u001b[0mshutdown\u001b[0m\u001b[0;34m(\u001b[0m\u001b[0;34m)\u001b[0m\u001b[0;34m\u001b[0m\u001b[0;34m\u001b[0m\u001b[0m\n",
            "\u001b[0;31mNameError\u001b[0m: name 'logging' is not defined"
          ]
        }
      ]
    },
    {
      "cell_type": "code",
      "source": [
        "#say you want level name in logs as well\n",
        "\n",
        "import logging\n",
        "logging.basicConfig(filename = \"test_new1.log\", level = logging.DEBUG, format = '%(asctime)s %(levelname)s %(message)s')\n",
        "\n",
        "logging.debug(\"This msg is for debugging\")\n",
        "logging.info(\"This is my info msg\")\n",
        "logging.warning(\"This is my warning msg\")\n",
        "logging.shutdown()"
      ],
      "metadata": {
        "id": "3vlqKnzyzDHC"
      },
      "id": "3vlqKnzyzDHC",
      "execution_count": null,
      "outputs": []
    },
    {
      "cell_type": "code",
      "source": [
        "#use case with example\n",
        "import logging\n",
        "logging.basicConfig(filename = \"program.log\", level = logging.DEBUG, format = '%(asctime)s %(levelname)s %(message)s')\n"
      ],
      "metadata": {
        "id": "O4flDyZuzK_S"
      },
      "id": "O4flDyZuzK_S",
      "execution_count": null,
      "outputs": []
    },
    {
      "cell_type": "code",
      "source": [
        "#write a program to separate the integer and string in two lists separately\n",
        "l = [1, \"hello\", [2, \"world\"],4, [3, \"Python\"]]"
      ],
      "metadata": {
        "id": "NYafLIw2zOc9"
      },
      "id": "NYafLIw2zOc9",
      "execution_count": null,
      "outputs": []
    },
    {
      "cell_type": "code",
      "source": [
        "l = [1, \"hello\", [2, \"world\"],4, [3, \"Python\"]]\n",
        "l"
      ],
      "metadata": {
        "colab": {
          "base_uri": "https://localhost:8080/"
        },
        "id": "802vxC2AzQ94",
        "outputId": "d0d4361a-83e8-43db-9055-13cf9c6edfd6"
      },
      "id": "802vxC2AzQ94",
      "execution_count": 12,
      "outputs": [
        {
          "output_type": "execute_result",
          "data": {
            "text/plain": [
              "[1, 'hello', [2, 'world'], 4, [3, 'Python']]"
            ]
          },
          "metadata": {},
          "execution_count": 12
        }
      ]
    },
    {
      "cell_type": "code",
      "source": [
        "l1_int = []\n",
        "l2_str = []\n",
        "\n",
        "for i in l:\n",
        "    logging.info(f\"processing each element {i}\")\n",
        "\n",
        "    if type(i) == list:\n",
        "        for j in i:\n",
        "            logging.info(f\"processing sublist element: {j}\")\n",
        "            if type(j) == int:\n",
        "                l1_int.append(j)\n",
        "    elif type(i) == int:\n",
        "        l1_int.append(i)\n",
        "    else:\n",
        "        l2_str.append(i)\n",
        "logging.info(f\"The result is : {l1_int}, {l2_str}\")\n",
        "logging.shutdown()"
      ],
      "metadata": {
        "id": "iINZVsP8zReA"
      },
      "id": "iINZVsP8zReA",
      "execution_count": null,
      "outputs": []
    },
    {
      "cell_type": "code",
      "source": [
        "#homework>> add else condition for sublist\n",
        "#Another program which finds a prime no from a given list of nos and use logging"
      ],
      "metadata": {
        "id": "hPkFk1vdzhK7"
      },
      "id": "hPkFk1vdzhK7",
      "execution_count": null,
      "outputs": []
    },
    {
      "cell_type": "markdown",
      "source": [
        "MULTITHREADING"
      ],
      "metadata": {
        "id": "d0vqn3tl0Eu4"
      },
      "id": "d0vqn3tl0Eu4"
    },
    {
      "cell_type": "code",
      "source": [
        "#A process is an instance of a computer program\n",
        "#process runs parallely on multiple processors>> multiprocessing\n",
        "#process runs concurrently on multiple threads in a processor>>multithreading"
      ],
      "metadata": {
        "id": "Dq9I-D-R0EVq"
      },
      "id": "Dq9I-D-R0EVq",
      "execution_count": null,
      "outputs": []
    },
    {
      "cell_type": "code",
      "source": [
        "import time\n",
        "start = time.perf_counter()\n",
        "\n",
        "def test_func():\n",
        "    print(\"do something\")\n",
        "    print(\"sleep for 1 sec\")\n",
        "    time.sleep(1)\n",
        "    print(\"done with sleeping\")\n",
        "test_func()\n",
        "end = time.perf_counter()\n",
        "\n",
        "print(f\"The program finished in {round(end-start, 2)} seconds\")"
      ],
      "metadata": {
        "id": "Z6FXRR0f0OyL",
        "outputId": "5331e208-d563-4cc1-ec57-dba0a8c078dc",
        "colab": {
          "base_uri": "https://localhost:8080/"
        }
      },
      "id": "Z6FXRR0f0OyL",
      "execution_count": 13,
      "outputs": [
        {
          "output_type": "stream",
          "name": "stdout",
          "text": [
            "do something\n",
            "sleep for 1 sec\n",
            "done with sleeping\n",
            "The program finished in 1.0 seconds\n"
          ]
        }
      ]
    },
    {
      "cell_type": "code",
      "source": [
        "import time\n",
        "start = time.perf_counter()\n",
        "\n",
        "def test_func():\n",
        "    print(\"do something\")\n",
        "    print(\"sleep for 1 sec\")\n",
        "    time.sleep(1)\n",
        "    print(\"done with sleeping\")\n",
        "test_func()\n",
        "test_func()\n",
        "test_func()\n",
        "test_func()\n",
        "test_func()\n",
        "end = time.perf_counter()\n",
        "\n",
        "print(f\"The program finished in {round(end-start, 2)} seconds\")"
      ],
      "metadata": {
        "id": "0Fg7klYx0OUa",
        "outputId": "576ffffa-aa34-4c79-ad50-ae2ba0400b99",
        "colab": {
          "base_uri": "https://localhost:8080/"
        }
      },
      "id": "0Fg7klYx0OUa",
      "execution_count": 14,
      "outputs": [
        {
          "output_type": "stream",
          "name": "stdout",
          "text": [
            "do something\n",
            "sleep for 1 sec\n",
            "done with sleeping\n",
            "do something\n",
            "sleep for 1 sec\n",
            "done with sleeping\n",
            "do something\n",
            "sleep for 1 sec\n",
            "done with sleeping\n",
            "do something\n",
            "sleep for 1 sec\n",
            "done with sleeping\n",
            "do something\n",
            "sleep for 1 sec\n",
            "done with sleeping\n",
            "The program finished in 5.0 seconds\n"
          ]
        }
      ]
    },
    {
      "cell_type": "code",
      "source": [
        "#since the program ran sequentially(single thread on a single core), so it took 5 secs"
      ],
      "metadata": {
        "id": "GiKKbGZ00VqL"
      },
      "id": "GiKKbGZ00VqL",
      "execution_count": null,
      "outputs": []
    },
    {
      "cell_type": "code",
      "source": [
        "import time\n",
        "import threading #python module\n",
        "start = time.perf_counter()\n",
        "\n",
        "def test_func():\n",
        "    print(\"do something\")\n",
        "    print(\"sleep for 1 sec\")\n",
        "    time.sleep(1)\n",
        "    print(\"done with sleeping\")\n",
        "\n",
        "#run the program on two threads\n",
        "t1 = threading.Thread(target = test_func)\n",
        "t2 = threading.Thread(target = test_func)\n",
        "\n",
        "t1.start() #to start the thread\n",
        "t2.start()\n",
        "\n",
        "t1.join() #join first executed these t1, t2 threads and then the main thread will be executed\n",
        "t2.join()\n",
        "\n",
        "end = time.perf_counter()\n",
        "\n",
        "print(f\"The program finished in {round(end-start, 2)} seconds\")"
      ],
      "metadata": {
        "id": "WgIFCXFV0bmg",
        "outputId": "8dffdf65-6e7d-4b1a-e683-4852e022a8ba",
        "colab": {
          "base_uri": "https://localhost:8080/"
        }
      },
      "id": "WgIFCXFV0bmg",
      "execution_count": 15,
      "outputs": [
        {
          "output_type": "stream",
          "name": "stdout",
          "text": [
            "do something\n",
            "sleep for 1 sec\n",
            "do something\n",
            "sleep for 1 sec\n",
            "done with sleeping\n",
            "done with sleeping\n",
            "The program finished in 1.0 seconds\n"
          ]
        }
      ]
    },
    {
      "cell_type": "code",
      "source": [
        "import time\n",
        "import threading #python module\n",
        "start = time.perf_counter()\n",
        "\n",
        "def test_func():\n",
        "    print(\"do something\")\n",
        "    print(\"sleep for 1 sec\")\n",
        "    time.sleep(1)\n",
        "    print(\"done with sleeping\")\n",
        "\n",
        "threads = []\n",
        "for i in range(10):\n",
        "    t = threading.Thread(target = test_func)\n",
        "    t.start()\n",
        "    threads.append(t)\n",
        "\n",
        "for thread in threads:\n",
        "    thread.join()\n",
        "\n",
        "\n",
        "end = time.perf_counter()\n",
        "\n",
        "print(f\"The program finished in {round(end-start, 2)} seconds\")"
      ],
      "metadata": {
        "id": "oLREzZo70gOU",
        "outputId": "ab21dc42-603b-483f-9404-04ff16f59f1d",
        "colab": {
          "base_uri": "https://localhost:8080/"
        }
      },
      "id": "oLREzZo70gOU",
      "execution_count": 16,
      "outputs": [
        {
          "output_type": "stream",
          "name": "stdout",
          "text": [
            "do something\n",
            "sleep for 1 sec\n",
            "do something\n",
            "sleep for 1 sec\n",
            "do something\n",
            "sleep for 1 sec\n",
            "do something\n",
            "sleep for 1 sec\n",
            "do something\n",
            "sleep for 1 sec\n",
            "do something\n",
            "sleep for 1 sec\n",
            "do something\n",
            "sleep for 1 sec\n",
            "do something\n",
            "sleep for 1 sec\n",
            "do something\n",
            "sleep for 1 sec\n",
            "do something\n",
            "sleep for 1 sec\n",
            "done with sleeping\n",
            "done with sleeping\n",
            "done with sleeping\n",
            "done with sleeping\n",
            "done with sleeping\n",
            "done with sleeping\n",
            "done with sleeping\n",
            "done with sleeping\n",
            "done with sleeping\n",
            "done with sleeping\n",
            "The program finished in 1.0 seconds\n"
          ]
        }
      ]
    },
    {
      "cell_type": "code",
      "source": [
        "#since test_func is called in 10 times, it should have taken 10 secs but due to multithreading got completed in 1 secs"
      ],
      "metadata": {
        "id": "1QZMOqLE0mgj"
      },
      "id": "1QZMOqLE0mgj",
      "execution_count": null,
      "outputs": []
    },
    {
      "cell_type": "code",
      "source": [
        "#using multithreading with function that takes an argument\n",
        "import time\n",
        "import threading #python module\n",
        "start = time.perf_counter()\n",
        "\n",
        "def test_func(args):\n",
        "    print(\"do something\")\n",
        "    print(f\"sleep for {args} sec\")\n",
        "    time.sleep(args)\n",
        "    print(\"done with sleeping\")\n",
        "\n",
        "threads = []\n",
        "for i in range(10):\n",
        "    t = threading.Thread(target = test_func, args = [2])\n",
        "    t.start()\n",
        "    threads.append(t)\n",
        "\n",
        "for thread in threads:\n",
        "    thread.join()\n",
        "\n",
        "\n",
        "end = time.perf_counter()\n",
        "\n",
        "print(f\"The program finished in {round(end-start, 2)} seconds\")"
      ],
      "metadata": {
        "id": "bX0loj6H0vhC",
        "outputId": "dc2e312e-d55c-42e7-99aa-48c13d1c0657",
        "colab": {
          "base_uri": "https://localhost:8080/"
        }
      },
      "id": "bX0loj6H0vhC",
      "execution_count": 17,
      "outputs": [
        {
          "output_type": "stream",
          "name": "stdout",
          "text": [
            "do something\n",
            "sleep for 2 sec\n",
            "do something\n",
            "sleep for 2 sec\n",
            "do something\n",
            "sleep for 2 sec\n",
            "do something\n",
            "sleep for 2 sec\n",
            "do something\n",
            "sleep for 2 sec\n",
            "do something\n",
            "sleep for 2 sec\n",
            "do something\n",
            "sleep for 2 sec\n",
            "do something\n",
            "sleep for 2 sec\n",
            "do something\n",
            "sleep for 2 sec\n",
            "do something\n",
            "sleep for 2 sec\n",
            "done with sleeping\n",
            "done with sleeping\n",
            "done with sleeping\n",
            "done with sleeping\n",
            "done with sleeping\n",
            "done with sleeping\n",
            "done with sleeping\n",
            "done with sleeping\n",
            "done with sleeping\n",
            "done with sleeping\n",
            "The program finished in 2.01 seconds\n"
          ]
        }
      ]
    },
    {
      "cell_type": "code",
      "source": [
        "#use case\n",
        "#Multithreading works well with I/O bound task means where some output has to wait for input\n",
        "#eg: reading-writing files, network communiication, data base queries"
      ],
      "metadata": {
        "id": "IRgd8Nd10wT7"
      },
      "id": "IRgd8Nd10wT7",
      "execution_count": null,
      "outputs": []
    },
    {
      "cell_type": "code",
      "source": [
        "#https://github.com/itsfoss/text-files\n",
        "import time\n",
        "import threading\n",
        "start = time.perf_counter()\n",
        "url_list = [\n",
        "    'https://raw.githubusercontent.com/dscape/spell/master/test/resources/big.txt',\n",
        "    'https://raw.githubusercontent.com/first20hours/google-10000-english/master/google-10000-english-no-swears.txt',\n",
        "    'https://raw.githubusercontent.com/itsfoss/text-files/master/sherlock.txt' ,\n",
        "    'https://raw.githubusercontent.com/itsfoss/text-files/master/sample_log_file.txt',\n",
        "]\n",
        "\n",
        "data_list = [\"data1.txt\", \"data2.txt\", \"data3.txt\", \"data4.txt\"]\n",
        "\n",
        "import urllib.request\n",
        "\n",
        "def file_download(url, filename):\n",
        "    urllib.request.urlretrieve(url, filename)\n",
        "\n",
        "\n",
        "threads = []\n",
        "for i in range(len(url_list)):\n",
        "    t = threading.Thread(target = file_download, args = (url_list[i], data_list[i]))\n",
        "    t.start()\n",
        "    threads.append(t)\n",
        "\n",
        "for thread in threads:\n",
        "    thread.join()\n",
        "\n",
        "\n",
        "end = time.perf_counter()\n",
        "\n",
        "print(f\"The program finished in {round(end-start, 2)} seconds\")\n"
      ],
      "metadata": {
        "id": "UtR45UR30_5f",
        "outputId": "65cb084f-a674-4ba2-9e6d-18873808c6bb",
        "colab": {
          "base_uri": "https://localhost:8080/"
        }
      },
      "id": "UtR45UR30_5f",
      "execution_count": 18,
      "outputs": [
        {
          "output_type": "stream",
          "name": "stdout",
          "text": [
            "The program finished in 0.26 seconds\n"
          ]
        }
      ]
    },
    {
      "cell_type": "code",
      "source": [
        "#multithreading using concurrent.futures >>keeps code concise\n",
        "\n",
        "\n",
        "import time\n",
        "import concurrent.futures\n",
        "start = time.perf_counter()\n",
        "\n",
        "url_list = [\n",
        "    'https://raw.githubusercontent.com/dscape/spell/master/test/resources/big.txt',\n",
        "    'https://raw.githubusercontent.com/first20hours/google-10000-english/master/google-10000-english-no-swears.txt',\n",
        "    'https://raw.githubusercontent.com/itsfoss/text-files/master/sherlock.txt' ,\n",
        "    'https://raw.githubusercontent.com/itsfoss/text-files/master/sample_log_file.txt',\n",
        "]\n",
        "\n",
        "\n",
        "data_list = ['data1.txt', 'data2.txt', 'data3.txt', 'data4.txt']\n",
        "\n",
        "import urllib.request\n",
        "def file_download(url, filename):\n",
        "    urllib.request.urlretrieve(url, filename)\n",
        "\n",
        "with concurrent.futures.ThreadPoolExecutor() as executor:\n",
        "    executor.map(file_download, url_list, data_list)\n",
        "\n",
        "\n",
        "\n",
        "end = time.perf_counter()\n",
        "\n",
        "\n",
        "print(f\"The program finished in {round(end-start, 2)} seconds.\")\n"
      ],
      "metadata": {
        "id": "9HWH7at21As9",
        "outputId": "a90c7d9b-3087-4de6-ae17-b40c49af1879",
        "colab": {
          "base_uri": "https://localhost:8080/"
        }
      },
      "id": "9HWH7at21As9",
      "execution_count": 19,
      "outputs": [
        {
          "output_type": "stream",
          "name": "stdout",
          "text": [
            "The program finished in 0.08 seconds.\n"
          ]
        }
      ]
    },
    {
      "cell_type": "code",
      "source": [
        "#shared variable across all the threads\n",
        "\n",
        "start = time.perf_counter()\n",
        "shared_counter = 0\n",
        "counter_lock = threading.Lock() #locking the counter for a specific thread\n",
        "\n",
        "def increment_shared_counter(x):\n",
        "    global shared_counter #that can be accessed by all the threads\n",
        "    with counter_lock:\n",
        "        shared_counter = shared_counter+1\n",
        "        print(f\"Thread {x}: incremented shared counter to {shared_counter}\")\n",
        "        time.sleep(1)\n",
        "\n",
        "threads = [threading.Thread(target = increment_shared_counter, args = (i,)) for i in [1, 2, 3, 4, 5, 6]]\n",
        "\n",
        "for thread in threads:\n",
        "    thread.start()\n",
        "for thread in threads:\n",
        "    thread.join()\n",
        "\n",
        "end = time.perf_counter()\n",
        "print(f\"The program finished in {round(end-start, 2)} seconds.\")\n"
      ],
      "metadata": {
        "id": "UvutTk9a1FyU",
        "outputId": "04b2bb1d-257f-41b2-8072-3a5c51e3d880",
        "colab": {
          "base_uri": "https://localhost:8080/"
        }
      },
      "id": "UvutTk9a1FyU",
      "execution_count": 20,
      "outputs": [
        {
          "output_type": "stream",
          "name": "stdout",
          "text": [
            "Thread 1: incremented shared counter to 1\n",
            "Thread 2: incremented shared counter to 2\n",
            "Thread 3: incremented shared counter to 3\n",
            "Thread 4: incremented shared counter to 4\n",
            "Thread 5: incremented shared counter to 5\n",
            "Thread 6: incremented shared counter to 6\n",
            "The program finished in 6.01 seconds.\n"
          ]
        }
      ]
    },
    {
      "cell_type": "code",
      "source": [
        "#same thing using concurrent futures\n",
        "\n",
        "start = time.perf_counter()\n",
        "shared_counter = 0\n",
        "counter_lock = threading.Lock() #locking the counter for a specific thread\n",
        "\n",
        "def increment_shared_counter(x):\n",
        "    global shared_counter #that can be accessed by all the threads\n",
        "    with counter_lock:\n",
        "        shared_counter = shared_counter+1\n",
        "        print(f\"Thread {x}: incremented shared counter to {shared_counter}\")\n",
        "        time.sleep(1)\n",
        "\n",
        "with concurrent.futures.ThreadPoolExecutor() as executor:\n",
        "    thread_args = [1, 2, 3, 4, 5, 6]\n",
        "    executor.map(increment_shared_counter, thread_args)\n",
        "\n",
        "end = time.perf_counter()\n",
        "print(f\"The program finished in {round(end-start, 2)} seconds.\")\n"
      ],
      "metadata": {
        "id": "UhbSVeci1LlH",
        "outputId": "fb00911b-c7cc-4235-c50c-1e3a41f4d47e",
        "colab": {
          "base_uri": "https://localhost:8080/"
        }
      },
      "id": "UhbSVeci1LlH",
      "execution_count": 21,
      "outputs": [
        {
          "output_type": "stream",
          "name": "stdout",
          "text": [
            "Thread 1: incremented shared counter to 1\n",
            "Thread 2: incremented shared counter to 2\n",
            "Thread 3: incremented shared counter to 3\n",
            "Thread 4: incremented shared counter to 4\n",
            "Thread 5: incremented shared counter to 5\n",
            "Thread 6: incremented shared counter to 6\n",
            "The program finished in 6.01 seconds.\n"
          ]
        }
      ]
    },
    {
      "cell_type": "code",
      "source": [
        "#summary>>shared variable can be incremented by individual threads of a process"
      ],
      "metadata": {
        "id": "zV3gTq2C1SHG"
      },
      "id": "zV3gTq2C1SHG",
      "execution_count": null,
      "outputs": []
    },
    {
      "cell_type": "markdown",
      "source": [
        "MULTIPROCESSING"
      ],
      "metadata": {
        "id": "p-NV653U1dum"
      },
      "id": "p-NV653U1dum"
    },
    {
      "cell_type": "code",
      "source": [
        "import time\n",
        "start = time.perf_counter()\n",
        "\n",
        "def test_func():\n",
        "    print(\"do something\")\n",
        "    print(\"sleep for 1 sec\")\n",
        "    time.sleep(1)\n",
        "    print(\"done with sleeping\")\n",
        "test_func()\n",
        "test_func()\n",
        "end = time.perf_counter()\n",
        "\n",
        "print(f\"The program finished in {round(end-start, 2)} seconds\")"
      ],
      "metadata": {
        "id": "eh-QPwKQ1gd-",
        "outputId": "6d0ad786-f742-4d59-8bcf-4881d1662bb3",
        "colab": {
          "base_uri": "https://localhost:8080/"
        }
      },
      "id": "eh-QPwKQ1gd-",
      "execution_count": 22,
      "outputs": [
        {
          "output_type": "stream",
          "name": "stdout",
          "text": [
            "do something\n",
            "sleep for 1 sec\n",
            "done with sleeping\n",
            "do something\n",
            "sleep for 1 sec\n",
            "done with sleeping\n",
            "The program finished in 2.0 seconds\n"
          ]
        }
      ]
    },
    {
      "cell_type": "code",
      "source": [
        "import multiprocessing\n",
        "\n",
        "import time\n",
        "start = time.perf_counter()\n",
        "\n",
        "def test_func():\n",
        "    print(\"do something\")\n",
        "    print(\"sleep for 1 sec\")\n",
        "    time.sleep(1)\n",
        "    print(\"done with sleeping\")\n",
        "\n",
        "p1 = multiprocessing.Process(target = test_func)\n",
        "p2 = multiprocessing.Process(target = test_func)\n",
        "\n",
        "p1.start()\n",
        "p2.start()\n",
        "\n",
        "p1.join()\n",
        "p2.join()\n",
        "\n",
        "\n",
        "end = time.perf_counter()\n",
        "\n",
        "print(f\"The program finished in {round(end-start, 2)} seconds\")"
      ],
      "metadata": {
        "id": "zD5Tu6uW1n5k",
        "outputId": "6bdb3470-500d-4b3b-96b8-f29f6758e8dd",
        "colab": {
          "base_uri": "https://localhost:8080/"
        }
      },
      "id": "zD5Tu6uW1n5k",
      "execution_count": 23,
      "outputs": [
        {
          "output_type": "stream",
          "name": "stdout",
          "text": [
            "do something\n",
            "do something\n",
            "sleep for 1 secsleep for 1 sec\n",
            "\n",
            "done with sleepingdone with sleeping\n",
            "\n",
            "The program finished in 1.04 seconds\n"
          ]
        }
      ]
    },
    {
      "cell_type": "code",
      "source": [
        "import multiprocessing\n",
        "\n",
        "import time\n",
        "start = time.perf_counter()\n",
        "\n",
        "def test_func():\n",
        "    print(\"do something\")\n",
        "    print(\"sleep for 1 sec\")\n",
        "    time.sleep(1)\n",
        "    print(\"done with sleeping\")\n",
        "\n",
        "processes = []\n",
        "for i in range(10):\n",
        "    p = multiprocessing.Process(target = test_func)\n",
        "    p.start()\n",
        "    processes.append(p)\n",
        "\n",
        "for process in processes:\n",
        "    process.join()\n",
        "\n",
        "\n",
        "\n",
        "end = time.perf_counter()\n",
        "\n",
        "print(f\"The program finished in {round(end-start, 2)} seconds\")"
      ],
      "metadata": {
        "id": "kfJrPEZp1pYO",
        "outputId": "9c5b5ba7-860d-4068-c877-a777a77ec77b",
        "colab": {
          "base_uri": "https://localhost:8080/"
        }
      },
      "id": "kfJrPEZp1pYO",
      "execution_count": 24,
      "outputs": [
        {
          "output_type": "stream",
          "name": "stdout",
          "text": [
            "do something\n",
            "sleep for 1 sec\n",
            "do something\n",
            "do somethingdo something\n",
            "\n",
            "sleep for 1 secsleep for 1 secsleep for 1 secdo something\n",
            "\n",
            "do somethingsleep for 1 sec\n",
            "\n",
            "do something\n",
            "\n",
            "sleep for 1 sec\n",
            "\n",
            "sleep for 1 sec\n",
            "do something\n",
            "do somethingsleep for 1 sec\n",
            "do something\n",
            "sleep for 1 sec\n",
            "sleep for 1 sec\n",
            "\n",
            "done with sleeping\n",
            "done with sleeping\n",
            "done with sleepingdone with sleeping\n",
            "\n",
            "done with sleeping\n",
            "done with sleepingdone with sleeping\n",
            "\n",
            "done with sleeping\n",
            "done with sleeping\n",
            "done with sleeping\n",
            "The program finished in 1.23 seconds\n"
          ]
        }
      ]
    },
    {
      "cell_type": "code",
      "source": [
        "#multiprocessing>> should be used in case of computation\n",
        "#use case 1:\n",
        "\n",
        "import multiprocessing\n",
        "\n",
        "import time\n",
        "start = time.perf_counter()\n",
        "\n",
        "def square(index, value):\n",
        "    value[index] = value[index] ** 2\n",
        "\n",
        "arr = multiprocessing.Array('i', [1, 2, 5, 3, 40000000000])\n",
        "\n",
        "\n",
        "processes = []\n",
        "for i in range(5): #in array 5 nos, therefore loop will be in range(5)\n",
        "    p = multiprocessing.Process(target = square, args = (i, arr))\n",
        "    p.start()\n",
        "    processes.append(p)\n",
        "\n",
        "for process in processes:\n",
        "    process.join()\n",
        "\n",
        "print(list(arr))\n",
        "\n",
        "\n",
        "\n",
        "end = time.perf_counter()\n",
        "\n",
        "print(f\"The program finished in {round(end-start, 2)} seconds\")"
      ],
      "metadata": {
        "id": "PV-EoAIL1tQ_",
        "outputId": "d3be6c25-cd42-43c3-e9d7-96c91f9adcc2",
        "colab": {
          "base_uri": "https://localhost:8080/"
        }
      },
      "id": "PV-EoAIL1tQ_",
      "execution_count": 25,
      "outputs": [
        {
          "output_type": "stream",
          "name": "stdout",
          "text": [
            "[1, 4, 25, 9, 822083584]\n",
            "The program finished in 0.04 seconds\n"
          ]
        }
      ]
    },
    {
      "cell_type": "code",
      "source": [
        "#using multiprocessing.pool\n",
        "\n",
        "start = time.perf_counter()\n",
        "def square(no):\n",
        "    result = no*no\n",
        "    print(f\"The square of {no} is {result}  .\")\n",
        "\n",
        "numbers = [1, 2, 3, 4, 6000]\n",
        "\n",
        "with multiprocessing.Pool() as pool:\n",
        "    pool.map(square, numbers)\n",
        "\n",
        "end = time.perf_counter()\n",
        "\n",
        "print(f\"The program finished in {round(end-start, 2)} seconds\")"
      ],
      "metadata": {
        "id": "N5AbF8Vh10Lb",
        "outputId": "f06685b0-f8b0-42cf-9712-8896aa54103d",
        "colab": {
          "base_uri": "https://localhost:8080/"
        }
      },
      "id": "N5AbF8Vh10Lb",
      "execution_count": 26,
      "outputs": [
        {
          "output_type": "stream",
          "name": "stdout",
          "text": [
            "The square of 2 is 4  .The square of 1 is 1  .\n",
            "The square of 3 is 9  .\n",
            "The square of 4 is 16  .\n",
            "\n",
            "The square of 6000 is 36000000  .\n",
            "The program finished in 0.06 seconds\n"
          ]
        }
      ]
    },
    {
      "cell_type": "code",
      "source": [
        "#no order in the results shows multiple core/processors being used and result returned not sequentially>>parallel execution of the code"
      ],
      "metadata": {
        "id": "ZGdouu-A2Clt"
      },
      "id": "ZGdouu-A2Clt",
      "execution_count": null,
      "outputs": []
    },
    {
      "cell_type": "code",
      "source": [
        "#use case 2:\n",
        "#say you want to get admission is a school\n",
        "#you will make a enrollment request in a queue\n",
        "#these requests will be processed from the queue and registration will be done\n",
        "\n",
        "#These enrollment and registration tasks can run in parallel\n",
        "#this means while one process is busy putting the requests into the queue, the other process\n",
        "#can be busy processing those request\n"
      ],
      "metadata": {
        "id": "3zc8THTp2JGP"
      },
      "id": "3zc8THTp2JGP",
      "execution_count": null,
      "outputs": []
    },
    {
      "cell_type": "code",
      "source": [
        "import multiprocessing\n",
        "\n",
        "def enroll_students(student_queue):\n",
        "    for student in [\"Rahul\", \"Rohit\", \"Aman\", \"Ajay\"]:\n",
        "        student_queue.put(f\"enroll request for {student}\")\n",
        "\n",
        "def register_students(students_queue):\n",
        "    while True:\n",
        "        enrollment_req = student_queue.get()\n",
        "        if enrollment_req is None:\n",
        "            break\n",
        "        print(f\"Register the enrollment request: {enrollment_req}\")\n",
        "\n",
        "if True:\n",
        "    student_queue = multiprocessing.Queue() #multiprocessing has data structure queue\n",
        "    enrollment_process = multiprocessing.Process(target = enroll_students, args = (student_queue,))\n",
        "    reg_process = multiprocessing.Process(target = register_students, args = (student_queue,))\n",
        "\n",
        "    enrollment_process.start()\n",
        "    reg_process.start()\n",
        "\n",
        "    enrollment_process.join()\n",
        "    reg_process.join()"
      ],
      "metadata": {
        "id": "JBWUKG5V2M6e",
        "outputId": "8757e2ac-9476-46a1-c420-d27b185beed7",
        "colab": {
          "base_uri": "https://localhost:8080/"
        }
      },
      "id": "JBWUKG5V2M6e",
      "execution_count": null,
      "outputs": [
        {
          "metadata": {
            "tags": null
          },
          "name": "stdout",
          "output_type": "stream",
          "text": [
            "Register the enrollment request: enroll request for Rahul\n",
            "Register the enrollment request: enroll request for Rohit\n",
            "Register the enrollment request: enroll request for Aman\n",
            "Register the enrollment request: enroll request for Ajay\n"
          ]
        }
      ]
    },
    {
      "cell_type": "code",
      "source": [
        "#using concurrent.futures process pool\n",
        "import concurrent.futures\n",
        "\n",
        "import time\n",
        "start = time.perf_counter()\n",
        "\n",
        "def test_func(i):\n",
        "    print(\"do something\")\n",
        "    print(\"sleep for 1 sec\")\n",
        "    time.sleep(1)\n",
        "    print(\"done with sleeping\")\n",
        "\n",
        "with concurrent.futures.ProcessPoolExecutor() as executor:\n",
        "    executor.map(test_func, range(10))\n",
        "\n",
        "\n",
        "\n",
        "end = time.perf_counter()\n",
        "\n",
        "print(f\"The program finished in {round(end-start, 2)} seconds\")"
      ],
      "metadata": {
        "id": "4p7cCTZe2UDr"
      },
      "id": "4p7cCTZe2UDr",
      "execution_count": null,
      "outputs": []
    },
    {
      "cell_type": "code",
      "source": [],
      "metadata": {
        "id": "d-s3OhP9_M6p"
      },
      "id": "d-s3OhP9_M6p",
      "execution_count": null,
      "outputs": []
    }
  ],
  "metadata": {
    "kernelspec": {
      "display_name": "Python 3 (ipykernel)",
      "language": "python",
      "name": "python3"
    },
    "language_info": {
      "codemirror_mode": {
        "name": "ipython",
        "version": 3
      },
      "file_extension": ".py",
      "mimetype": "text/x-python",
      "name": "python",
      "nbconvert_exporter": "python",
      "pygments_lexer": "ipython3",
      "version": "3.10.8"
    },
    "colab": {
      "provenance": []
    }
  },
  "nbformat": 4,
  "nbformat_minor": 5
}
