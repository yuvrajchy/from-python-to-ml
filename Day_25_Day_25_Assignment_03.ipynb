{
  "nbformat": 4,
  "nbformat_minor": 0,
  "metadata": {
    "colab": {
      "provenance": []
    },
    "kernelspec": {
      "name": "python3",
      "display_name": "Python 3"
    },
    "language_info": {
      "name": "python"
    }
  },
  "cells": [
    {
      "cell_type": "markdown",
      "source": [
        "Files, exceptional handling, logging and\n",
        "memory management Questions"
      ],
      "metadata": {
        "id": "E8qJQwpMFC3j"
      }
    },
    {
      "cell_type": "markdown",
      "source": [
        "1. What is the difference between interpreted and compiled languages?\n",
        "\n",
        " Compiled languages are those in which the source code is translated into machine code by a compiler before the program is executed. This means the entire program is compiled once, and the resulting binary file can be run directly by the computer. Examples of compiled languages include C, C++ and Rust. The main advantage of compiled languages is that they generally run faster because the code is already in machine-readable form. However, the process of compilation can take extra time, and errors are discovered only after compilation is attempted.\n",
        "\n",
        "On the other hand, interpreted languages are executed line by line by an interpreter at runtime. This means there is no separate compilation step, and the code is translated into machine instructions while the program is running. Examples of interpreted languages include Python, JavaScript and Ruby. Interpreted languages are slower in execution compared to compiled languages, but they are easier to debug and allow for faster development cycles because errors can be identified immediately as the code runs.\n",
        "\n",
        "Some modern languages adopt a hybrid approach. For example, Java is first compiled into bytecode and then executed on the Java Virtual Machine (JVM), and Python is converted into intermediate bytecode which is run by the Python interpreter. This hybrid method balances portability with performance.\n",
        "\n",
        "In conclusion, the key difference lies in when and how the code is translated into machine language: compiled languages are translated before execution, making them faster, while interpreted languages are translated during execution, making them more flexible and easier to debug.\n"
      ],
      "metadata": {
        "id": "LxmMNAZcFNmC"
      }
    },
    {
      "cell_type": "markdown",
      "source": [
        "2. What is exception handling in Python?\n",
        "\n",
        "Exception handling in Python is a mechanism that allows a programmer to handle errors or unexpected situations in a controlled manner without stopping the execution of the program abruptly. An exception is an event that occurs during the execution of a program and disrupts the normal flow of instructions, such as dividing a number by zero, trying to access an invalid index in a list, or opening a file that does not exist.\n",
        "\n",
        "In Python, exceptions are handled using the try, except, else, and finally blocks. The code that may raise an exception is placed inside the try block. If an error occurs, Python immediately transfers control to the except block, where the error can be handled appropriately. The else block is executed if no exceptions occur, and the finally block is executed in all cases, whether an exception is raised or not, making it useful for cleanup tasks like closing files or releasing resources.\n",
        "\n",
        "For example, if a program attempts to divide a number by zero, instead of terminating, it can catch the ZeroDivisionError exception and display a user-friendly message. This makes the program more reliable and robust.\n",
        "\n",
        "In conclusion, exception handling in Python provides a structured way to manage runtime errors, ensuring that the program continues to run smoothly and resources are managed properly, even when unexpected issues arise."
      ],
      "metadata": {
        "id": "Ifs2cu-XFMqK"
      }
    },
    {
      "cell_type": "markdown",
      "source": [
        "3. What is the purpose of the finally block in exception handling?\n",
        "\n",
        "The finally block in Python exception handling is used to define a section of code that will always execute, regardless of whether an exception occurs or not. Its main purpose is to ensure that certain cleanup tasks are performed after the execution of a try block.\n",
        "\n",
        "When a program enters a try block, it may either complete successfully or encounter an exception. In both cases, after executing the corresponding except block (if an error occurs) or the else block (if no error occurs), the control will move to the finally block. This makes the finally block particularly useful for actions that must be executed under all circumstances, such as closing a file, releasing system resources, or disconnecting from a database.\n",
        "\n",
        "For example, when working with files, even if an exception occurs while reading or writing, the finally block can ensure that the file is properly closed. Without this block, resources may remain locked or open, leading to memory leaks or inconsistent program behavior.\n",
        "\n",
        "In conclusion, the purpose of the finally block is to provide a guaranteed execution path for critical cleanup code, making programs more reliable and preventing resource mismanagement\n"
      ],
      "metadata": {
        "id": "DI0R2NpKHtYw"
      }
    },
    {
      "cell_type": "markdown",
      "source": [
        "4. What is logging in Python?\n",
        "\n",
        "Logging in Python is the process of recording events, messages, and information about the execution of a program. It is mainly used for tracking the flow of a program, debugging issues, and keeping a record of errors or important activities. Python provides a built-in module called logging that allows developers to create logs in a flexible and standardized way.\n",
        "\n",
        "The logging module supports different levels of importance for log messages, such as DEBUG, INFO, WARNING, ERROR, and CRITICAL. This helps in categorizing messages based on their severity. For example, DEBUG is used for detailed diagnostic information, while ERROR indicates a serious problem in the program.\n",
        "\n",
        "One of the advantages of logging is that it can record messages to various destinations, such as the console, files, or even remote servers, without changing the main code. Unlike simple print() statements, logs can be timestamped, filtered by severity level, and stored for future analysis.\n",
        "\n",
        "In conclusion, logging in Python is a powerful tool that helps developers monitor, debug, and maintain programs more effectively by providing structured and persistent information about the execution of code.\n"
      ],
      "metadata": {
        "id": "F0Vj83jeIICi"
      }
    },
    {
      "cell_type": "markdown",
      "source": [
        "5. What is the significance of the __del__ method in Python?\n",
        "\n",
        "The __del__ method in Python is a special method, also known as a destructor, which is automatically called when an object is about to be destroyed or removed from memory. Its main significance is to allow a programmer to define clean-up operations that should take place before the object is permanently deleted.\n",
        "\n",
        "When an object’s reference count drops to zero, meaning there are no more variables referring to it, Python’s garbage collector deallocates the memory occupied by the object. At this point, if a __del__ method is defined inside the class, it is executed. This makes the method useful for tasks such as closing files, releasing network connections, or freeing other external resources that the object was using.\n",
        "\n",
        "However, relying heavily on the __del__ method is generally discouraged, because the exact time when it is called is not guaranteed, especially when cyclic references or complex garbage collection scenarios are involved. Instead, context managers and the with statement are often preferred for resource management.\n",
        "\n",
        "In conclusion, the __del__ method provides a way to perform final clean-up actions before an object is destroyed, but it should be used carefully, and in most cases, other resource management techniques are more reliable."
      ],
      "metadata": {
        "id": "Azn4q9XUIdAB"
      }
    },
    {
      "cell_type": "markdown",
      "source": [
        "6. What is the difference between import and from ... import in Python?\n",
        "\n",
        "In Python, both import and from ... import are used to include external modules or specific components of modules into a program, but they differ in how they are used and what they provide access to.\n",
        "\n",
        "When the import statement is used, the entire module is imported, and its functions, classes, or variables must be accessed using the module name as a prefix. For example, after writing import math, the square root function must be called as math.sqrt(16). This method keeps the namespace clean and avoids confusion, but it requires longer notation.\n",
        "\n",
        "On the other hand, the from ... import statement allows specific functions, classes, or variables to be imported directly from a module. For example, writing from math import sqrt allows the function to be used directly as sqrt(16) without needing the math. prefix. This can make the code shorter and easier to read, but if too many names are imported directly, it may cause conflicts in the namespace.\n",
        "\n",
        "In conclusion, import brings in the whole module and requires qualified access using the module name, while from ... import brings in only selected parts of the module for direct use. The choice depends on the balance between readability, namespace clarity, and the specific needs of the program."
      ],
      "metadata": {
        "id": "s3kOBTbTIxRR"
      }
    },
    {
      "cell_type": "markdown",
      "source": [
        "7. How can you handle multiple exceptions in Python?\n",
        "\n",
        "In Python, multiple exceptions can be handled in a structured way using multiple except blocks or by grouping exceptions into a single block. This ensures that a program can respond appropriately to different types of errors without terminating abruptly.\n",
        "\n",
        "The first approach is to use separate except blocks for each exception type. For example, when performing division and file operations, one except block can catch a ZeroDivisionError, while another can handle a FileNotFoundError. This method allows customized handling for each type of error.\n",
        "\n",
        "The second approach is to handle multiple exceptions within a single except block by grouping them into a tuple. For instance, writing except (ValueError, TypeError): will catch either a ValueError or a TypeError and apply the same handling code to both. This is useful when the corrective action is the same for different exceptions.\n",
        "\n",
        "Additionally, Python allows capturing the exception object using the as keyword (e.g., except Exception as e:), which provides details about the error. This can be helpful for logging or debugging.\n",
        "\n",
        "In conclusion, multiple exceptions in Python can be handled either by writing multiple except blocks for different error types or by grouping exceptions in a single block, ensuring that programs remain robust and error-tolerant.\n"
      ],
      "metadata": {
        "id": "teR9eW-qI_Mc"
      }
    },
    {
      "cell_type": "markdown",
      "source": [
        "8. What is the purpose of the with statement when handling files in Python?\n",
        "\n",
        "The with statement in Python is used to simplify the management of resources such as files. Its main purpose when handling files is to ensure that the file is properly opened and closed, even if an error occurs during the file operations.\n",
        "\n",
        "Normally, when a file is opened using the open() function, it has to be explicitly closed using the close() method. If the programmer forgets to close the file or if an exception interrupts the program before close() is called, the file may remain open, which can lead to memory leaks or locked resources. The with statement eliminates this problem by automatically closing the file once the block of code under it is executed.\n",
        "\n",
        "For example, writing with open(\"data.txt\", \"r\") as f: ensures that after the indented block is finished, Python automatically closes the file f. This makes the code cleaner, safer, and easier to read.\n",
        "\n",
        "In conclusion, the purpose of the with statement when handling files is to provide a reliable and efficient way to manage file resources, guaranteeing that files are closed properly and resources are released without requiring explicit cleanup code."
      ],
      "metadata": {
        "id": "FiA9wim8JSGL"
      }
    },
    {
      "cell_type": "markdown",
      "source": [
        "9. What is the difference between multithreading and multiprocessing?\n",
        "\n",
        "Multithreading and multiprocessing are two approaches used in Python to achieve concurrent execution, but they differ in how they operate and how resources are utilized.\n",
        "\n",
        "Multithreading involves running multiple threads within the same process. Threads share the same memory space and resources of the parent process, which makes communication between them easier and more efficient. However, in Python, due to the Global Interpreter Lock (GIL), only one thread executes Python bytecode at a time. This means multithreading is more useful for tasks that are I/O-bound, such as reading files, handling network requests, or waiting for user input, where the program spends more time waiting than performing computations.\n",
        "\n",
        "Multiprocessing, on the other hand, involves running multiple processes, each with its own memory space and Python interpreter. This allows multiple CPU cores to be used simultaneously, making it ideal for CPU-bound tasks such as heavy mathematical calculations, data analysis, or image processing. Since processes do not share memory directly, they need special mechanisms like pipes or queues for communication, which can introduce some overhead.\n",
        "\n",
        "In conclusion, multithreading is best suited for I/O-bound tasks because it allows efficient waiting and resource sharing within a single process, while multiprocessing is better for CPU-bound tasks as it takes full advantage of multiple cores by running processes in parallel."
      ],
      "metadata": {
        "id": "eQjQNb4kJhyJ"
      }
    },
    {
      "cell_type": "markdown",
      "source": [
        "10. What are the advantages of using logging in a program?\n",
        "\n",
        "Logging in a program provides several advantages over simple debugging techniques like using print() statements. It offers a structured and reliable way to monitor program execution, record errors, and analyze system behavior.\n",
        "\n",
        "One major advantage of logging is that it allows messages to be categorized by severity levels such as DEBUG, INFO, WARNING, ERROR, and CRITICAL. This makes it easier to filter and focus on the most important information. Logging also enables messages to be recorded with timestamps and contextual details, which helps in identifying when and where issues occurred.\n",
        "\n",
        "Another advantage is flexibility. With logging, output can be directed to different destinations such as the console, files, or remote servers, without changing the main program logic. This makes it suitable for both development and production environments. Additionally, logs provide a permanent record of program activity, which is useful for debugging, performance monitoring, and auditing.\n",
        "\n",
        "Unlike print() statements, logging can be easily configured and turned on or off, or adjusted to display only specific severity levels. This ensures that unnecessary debugging information does not clutter the output when the program is deployed.\n",
        "\n",
        "In conclusion, the advantages of using logging in a program include better error tracking, structured severity levels, flexibility in output, permanent records for analysis, and greater control compared to using simple print statements."
      ],
      "metadata": {
        "id": "RPvC1GR5JxFn"
      }
    },
    {
      "cell_type": "markdown",
      "source": [
        "11. What is memory management in Python?\n",
        "\n",
        "Memory management in Python refers to the way Python handles the allocation and deallocation of memory for objects during program execution. It ensures that programs use memory efficiently and that unused memory is freed automatically, preventing memory leaks.\n",
        "\n",
        "Python manages memory through a private heap space, where all objects and data structures are stored. The Python memory manager takes care of allocating this memory to objects as needed. Developers do not need to manually allocate or free memory, unlike in some lower-level languages such as C or C++.\n",
        "\n",
        "A key feature of Python’s memory management is its use of reference counting. Every object keeps track of how many references point to it. When the reference count of an object drops to zero, it means the object is no longer needed, and its memory can be released.\n",
        "\n",
        "In addition to reference counting, Python uses a garbage collector to handle situations where objects reference each other in a cycle, which could prevent their reference count from reaching zero. The garbage collector automatically detects and removes such unused objects to free up memory.\n",
        "\n",
        "In conclusion, memory management in Python is handled automatically by the interpreter through a combination of reference counting and garbage collection, making it easier for developers to focus on programming without worrying about low-level memory allocation and deallocation."
      ],
      "metadata": {
        "id": "_0RZ9L7xKCaj"
      }
    },
    {
      "cell_type": "markdown",
      "source": [
        "12. What are the basic steps involved in exception handling in Python?\n",
        "\n",
        "Exception handling in Python is a mechanism that allows a program to respond gracefully when an error occurs, instead of crashing. It ensures that errors are detected, managed, and handled in a controlled way. The basic steps involved in exception handling are as follows:\n",
        "\n",
        "1. Detecting an Exception (try block):\n",
        "Code that may potentially raise an exception is placed inside a try block. Python continuously monitors the code, and if an error occurs, the flow of control is immediately transferred to the corresponding except block.\n",
        "\n",
        "2. Handling the Exception (except block):\n",
        "If an exception is raised in the try block, the except block is executed. This block contains code that specifies how to handle the particular type of error. Multiple except blocks can be used to handle different types of exceptions separately.\n",
        "\n",
        "3. Optional Cleanup (finally block):\n",
        "The finally block, if present, is always executed regardless of whether an exception occurred or not. It is generally used to release resources such as closing files, releasing network connections, or cleaning up memory.\n",
        "\n",
        "4. Optional Alternative Action (else block):\n",
        "The else block, if included, executes only if no exceptions were raised in the try block. It is often used for code that should run only when the program has executed successfully without errors.\n",
        "\n",
        "In conclusion, the basic steps in exception handling in Python involve placing risky code inside a try block, catching and managing errors with except, optionally performing cleanup with finally, and using else for actions that should only occur when no errors are encountered."
      ],
      "metadata": {
        "id": "kOrKCc6iKXD9"
      }
    },
    {
      "cell_type": "markdown",
      "source": [
        "13. Why is memory management important in Python?\n",
        "\n",
        "Memory management is important in Python because it directly affects the efficiency, reliability, and performance of programs. Since Python is widely used for data-intensive tasks like data science, artificial intelligence, and web development, efficient use of memory ensures that programs can run smoothly without unnecessary slowdowns or crashes.\n",
        "\n",
        "One key reason memory management is important is that it prevents memory leaks. If unused objects are not properly released, they occupy valuable memory space, which can eventually cause the program or even the entire system to run out of memory. Python’s automatic garbage collection system helps avoid this problem by freeing memory used by objects that are no longer needed.\n",
        "\n",
        "Another reason is performance optimization. Proper memory management ensures that only the necessary amount of memory is allocated, which improves execution speed. For example, large datasets or complex calculations can slow down a program if memory is wasted or fragmented.\n",
        "\n",
        "Additionally, memory management enhances stability and reliability. By automatically handling allocation and deallocation, Python reduces the risk of programmer errors such as forgetting to release memory (common in lower-level languages like C). This makes programs more robust and easier to maintain.\n",
        "\n",
        "In conclusion, memory management is important in Python because it prevents memory leaks, optimizes performance, ensures stability, and allows developers to focus on writing code rather than worrying about manual memory handling."
      ],
      "metadata": {
        "id": "zJ9zd9ecLVKK"
      }
    },
    {
      "cell_type": "markdown",
      "source": [
        "14. What is the role of try and except in exception handling?\n",
        "\n",
        "In Python, the try and except blocks form the core of exception handling. Their role is to allow a program to anticipate and respond to errors without crashing unexpectedly.\n",
        "\n",
        "The try block is used to enclose the section of code that may potentially raise an exception. Python executes the statements inside the try block, and if no error occurs, the program continues normally. However, if an error does occur, Python immediately stops executing the remaining code in the try block and looks for a matching except block.\n",
        "\n",
        "The except block defines how to handle the error when it occurs. If the type of exception matches the one specified in the except block, the code inside that block is executed. This prevents the program from terminating abruptly and provides a controlled way to respond to errors, such as printing a user-friendly message, retrying the operation, or performing an alternative action. Multiple except blocks can be used to handle different types of exceptions separately.\n",
        "\n",
        "In conclusion, the role of try is to test a block of code for potential errors, while the role of except is to catch and handle those errors, ensuring that the program can continue running smoothly instead of crashing."
      ],
      "metadata": {
        "id": "YTmHlWIGLlAi"
      }
    },
    {
      "cell_type": "markdown",
      "source": [
        "15. How does Python's garbage collection system work?\n",
        "\n",
        "Python’s garbage collection system is responsible for automatically managing memory by reclaiming space that is no longer being used by objects. This ensures efficient memory usage and prevents memory leaks, which could slow down or crash programs.\n",
        "\n",
        "The core mechanism of memory management in Python is reference counting. Every object in Python has an internal counter that tracks how many references point to it. When a new reference is created, the counter increases, and when a reference is deleted or goes out of scope, the counter decreases. If the reference count of an object drops to zero, it means no part of the program is using the object anymore, and Python immediately frees its memory.\n",
        "\n",
        "However, reference counting alone cannot handle situations where objects reference each other in a circular reference (for example, two objects pointing to each other but not used anywhere else). To solve this, Python includes a garbage collector module that periodically checks for such cyclic references. The garbage collector identifies groups of objects that are unreachable (even though their reference counts are not zero due to cycles) and safely deallocates them.\n",
        "\n",
        "The garbage collection system can also be manually controlled using the gc module, where developers can enable, disable, or force garbage collection when needed.\n",
        "\n",
        "In conclusion, Python’s garbage collection system works through a combination of reference counting and a cyclic garbage collector, ensuring that unused memory is automatically reclaimed and programs run efficiently without memory leaks.\n"
      ],
      "metadata": {
        "id": "YPL247CZL7mv"
      }
    },
    {
      "cell_type": "markdown",
      "source": [
        "16. What is the purpose of the else block in exception handling?\n",
        "\n",
        "In Python, the else block in exception handling provides a way to execute code only when no exceptions occur in the try block. Its purpose is to separate the “normal execution” logic from the “error-handling” logic, making the code more organized and readable.\n",
        "\n",
        "When a program runs the try block, two things can happen:\n",
        "\n",
        "1. If an exception occurs, the flow of execution is immediately transferred to the matching except block.\n",
        "\n",
        "2. If no exception occurs, then the else block (if present) is executed.\n",
        "\n",
        "The main advantage of using the else block is clarity. Code inside the else block is guaranteed to run only when everything in the try block executes successfully. This is especially useful when the code in the try block is only meant to detect potential errors, while the else block can handle the main logic that should proceed when no issues are encountered.\n",
        "\n",
        "For example, in file handling, you might use the try block to attempt opening a file, handle errors like FileNotFoundError in the except block, and then place the actual reading or writing of the file in the else block, which runs only if the file was successfully opened.\n",
        "\n",
        "In conclusion, the purpose of the else block in exception handling is to ensure that certain code runs only if no exceptions occur, keeping the program structure cleaner by separating successful execution logic from error-handling logic.\n"
      ],
      "metadata": {
        "id": "d8FUahBQMRkw"
      }
    },
    {
      "cell_type": "markdown",
      "source": [
        "17. What are the common logging levels in Python?\n",
        "\n",
        "In Python, the logging module provides different logging levels to categorize messages according to their importance or severity. These levels help developers control what kind of messages should be recorded or displayed, especially when debugging or monitoring programs. The common logging levels in Python are:\n",
        "\n",
        "1. DEBUG:\n",
        "\n",
        "- Lowest level used for detailed diagnostic information.\n",
        "\n",
        "- Typically used during development to trace program flow and understand internal states.\n",
        "\n",
        "2. INFO:\n",
        "\n",
        "- Used to record general information about program execution.\n",
        "\n",
        "- Indicates normal operations, such as confirming that a process has started or completed successfully.\n",
        "\n",
        "3. WARNING:\n",
        "\n",
        "- Signals that something unexpected happened or may cause a problem in the future.\n",
        "\n",
        "- The program still runs, but the warning highlights potential issues.\n",
        "\n",
        "4. ERROR:\n",
        "\n",
        "- Indicates a more serious problem that has caused a part of the program to fail.\n",
        "\n",
        "- Used when an operation cannot be completed as expected.\n",
        "\n",
        "5. CRITICAL:\n",
        "\n",
        "- Highest severity level, used when a serious error has occurred.\n",
        "\n",
        "- Signals that the program itself may not be able to continue running.\n",
        "\n",
        "These levels are hierarchical. For example, if the logging level is set to WARNING, then only WARNING, ERROR, and CRITICAL messages will be shown, while DEBUG and INFO will be ignored.\n",
        "\n",
        "In conclusion, the common logging levels in Python—DEBUG, INFO, WARNING, ERROR, and CRITICAL—allow developers to categorize messages by severity and control the flow of logging output for better debugging and monitoring.\n"
      ],
      "metadata": {
        "id": "aIxXZWYYMluO"
      }
    },
    {
      "cell_type": "markdown",
      "source": [
        "18. What is the difference between os.fork() and multiprocessing in Python?\n",
        "\n",
        "Both os.fork() and the multiprocessing module in Python are used to create new processes, but they differ significantly in their functionality, portability, and ease of use.\n",
        "\n",
        "1. os.fork():\n",
        "\n",
        "- os.fork() is a low-level system call available mainly on Unix/Linux systems.\n",
        "\n",
        "- It creates a child process by duplicating the current process. After a fork, both the parent and child processes run the same program, but with different process IDs.\n",
        "\n",
        "- The child process inherits the resources of the parent process (such as file descriptors and memory space), but they run independently after creation.\n",
        "\n",
        "- Since it is platform-dependent, os.fork() is not available on Windows.\n",
        "\n",
        "- It provides less abstraction, which makes it powerful for advanced use but more difficult to manage.\n",
        "\n",
        "2. multiprocessing module:\n",
        "\n",
        "- The multiprocessing module is a high-level, cross-platform way to create and manage processes in Python.\n",
        "\n",
        "- It abstracts away the low-level details of process creation and provides a Pythonic interface to work with multiple processes.\n",
        "\n",
        "- It works on both Unix/Linux and Windows, making it more portable.\n",
        "\n",
        "- It provides advanced features like Process class, process pools (Pool), inter-process communication (queues, pipes), and shared memory management.\n",
        "\n",
        "- It is designed to bypass Python’s Global Interpreter Lock (GIL), making it ideal for CPU-bound tasks.\n",
        "\n",
        "Key Difference:\n",
        "\n",
        "- os.fork() is a low-level, Unix-specific system call mainly for advanced control, while the multiprocessing module is a high-level, cross-platform library that simplifies process creation and management.\n",
        "\n",
        "In conclusion, use os.fork() only when working in Unix environments with specific low-level needs. For most modern Python programs, especially those needing portability and simplicity, the multiprocessing module is the recommended approach."
      ],
      "metadata": {
        "id": "vL3b1KmvNKhi"
      }
    },
    {
      "cell_type": "markdown",
      "source": [
        "19. What is the importance of closing a file in Python?\n",
        "\n",
        "Closing a file in Python is an important step when working with file handling because it ensures that system resources are properly released and data integrity is maintained.\n",
        "\n",
        "When a file is opened using the open() function, the operating system allocates resources (such as memory buffers and file descriptors) to manage the file. If the file is not explicitly closed using the close() method, these resources may remain locked, leading to potential issues such as memory leaks, running out of file descriptors, or being unable to open the same file again in another program.\n",
        "\n",
        "Another key reason for closing a file is to ensure that all data is properly written to disk. When writing to a file, Python often stores data temporarily in a buffer for efficiency. If the file is not closed, the buffered data may not be flushed to the file, resulting in incomplete or corrupted data being saved.\n",
        "\n",
        "While Python’s garbage collector may eventually close files automatically when objects are destroyed, relying on this is not a good practice because the timing is unpredictable. Explicitly closing files makes the program more reliable and portable.\n",
        "\n",
        "In conclusion, closing a file in Python is important to free system resources, prevent data corruption, and ensure proper program behavior. Best practice is to use the with statement, which automatically handles closing files once operations are complete.\n"
      ],
      "metadata": {
        "id": "zFPqarF5N0YF"
      }
    },
    {
      "cell_type": "markdown",
      "source": [
        "20. What is the difference between file.read() and file.readline() in Python?\n",
        "\n",
        "In Python, both file.read() and file.readline() are methods used to read data from a file, but they differ in how much content they return and how they are typically used.\n",
        "\n",
        "1. file.read():\n",
        "\n",
        "- The read() method reads the entire file content (or a specified number of characters if an argument is provided) into a single string.\n",
        "\n",
        "- For example, file.read() with no argument will return the whole file as one continuous string.\n",
        "\n",
        "- This method is useful when the file is small and you want to process all of its contents at once. However, it may not be efficient for very large files, since it loads everything into memory.\n",
        "\n",
        "2. file.readline():\n",
        "\n",
        "- The readline() method reads the next single line from the file and returns it as a string (including the newline character \\n if present).\n",
        "\n",
        "- Repeated calls to readline() will return subsequent lines, one at a time.\n",
        "\n",
        "- This method is more memory-efficient for large files, since it processes one line at a time instead of loading the entire file into memory.\n",
        "\n",
        "Key Difference:\n",
        "\n",
        "- file.read() → Reads the entire file (or specified characters) at once.\n",
        "\n",
        "- file.readline() → Reads only one line at a time.\n",
        "\n",
        "In conclusion, use file.read() when working with small files that can fit in memory, and file.readline() when dealing with large files or when you need to process data line by line."
      ],
      "metadata": {
        "id": "r_7feQhsOBjW"
      }
    },
    {
      "cell_type": "markdown",
      "source": [
        "21. What is the logging module in Python used for?\n",
        "\n",
        "The logging module in Python is used to record messages from a program for the purpose of tracking its execution, diagnosing problems, and monitoring its behavior. It provides a flexible and standardized way to report events, errors, and status information without relying on simple print() statements.\n",
        "\n",
        "The main use of the logging module is to help developers and system administrators understand what a program is doing while it runs. It allows messages to be categorized by severity levels such as DEBUG, INFO, WARNING, ERROR, and CRITICAL, making it easier to filter and analyze the most important events.\n",
        "\n",
        "Additionally, the logging module can direct output to multiple destinations, such as the console, log files, or even remote servers. This makes it useful not only during development but also in production environments, where logs are essential for debugging issues, monitoring performance, and auditing system activity.\n",
        "\n",
        "Unlike print() statements, logging can be easily configured to show or hide specific levels of detail and to format messages with timestamps, module names, and line numbers. This makes logs more structured and professional.\n",
        "\n",
        "In conclusion, the logging module in Python is used for generating structured log messages that help in debugging, monitoring, error reporting, and maintaining applications in both development and production.\n"
      ],
      "metadata": {
        "id": "aTDj_5mURBV0"
      }
    },
    {
      "cell_type": "markdown",
      "source": [
        "22. What is the os module in Python used for in file handling?\n",
        "\n",
        "The os module in Python provides functions that allow a program to interact with the operating system. In the context of file handling, the os module is particularly important because it offers a wide range of utilities to work with files, directories, and file paths beyond the basic file operations (open, read, write, close).\n",
        "\n",
        "Some key uses of the os module in file handling are:\n",
        "\n",
        "1. File and Directory Management:\n",
        "\n",
        "- Creating and removing directories (os.mkdir(), os.rmdir()).\n",
        "\n",
        "- Deleting files (os.remove()).\n",
        "\n",
        "- Listing the contents of a directory (os.listdir()).\n",
        "\n",
        "2. File Path Operations:\n",
        "\n",
        "- Joining, splitting, and normalizing file paths (os.path.join(), os.path.split(), os.path.abspath()).\n",
        "\n",
        "- Checking file existence and properties (os.path.exists(), os.path.isfile(), os.path.isdir()).\n",
        "\n",
        "3. Environment and System Interaction:\n",
        "\n",
        "- Getting the current working directory (os.getcwd()).\n",
        "\n",
        "- Changing the current working directory (os.chdir()).\n",
        "\n",
        "By using the os module, Python programs can perform system-level file and directory operations in a portable way, meaning the same code can run on different operating systems (like Windows, Linux, or macOS) without modification.\n",
        "\n",
        "In conclusion, the os module in Python is used in file handling to manage files and directories, perform path manipulations, and interact with the operating system in a reliable and portable manner.\n"
      ],
      "metadata": {
        "id": "n10jeKLySL0b"
      }
    },
    {
      "cell_type": "markdown",
      "source": [
        "23. What are the challenges associated with memory management in Python?\n",
        "\n",
        "While Python provides automatic memory management through reference counting and garbage collection, there are still several challenges developers may face when working with memory in Python:\n",
        "\n",
        "1. Reference Cycles (Circular References):\n",
        "\n",
        "- When two or more objects reference each other, their reference counts never drop to zero, even if they are no longer accessible by the program.\n",
        "\n",
        "- Although Python’s garbage collector can handle cycles, detecting and breaking them adds overhead and may not always be immediate.\n",
        "\n",
        "2. Memory Leaks:\n",
        "\n",
        "- Poor coding practices, such as keeping unnecessary references to objects, can prevent memory from being freed.\n",
        "\n",
        "- Long-running programs are especially at risk if memory leaks accumulate over time.\n",
        "\n",
        "3. Fragmentation:\n",
        "\n",
        "- Frequent allocation and deallocation of memory blocks can lead to fragmentation, where free memory exists but is not contiguous, making it harder to allocate large objects efficiently.\n",
        "\n",
        "4. Performance Overhead of Garbage Collection:\n",
        "\n",
        "- The garbage collector periodically pauses program execution to reclaim memory.\n",
        "\n",
        "- For performance-critical applications, these pauses can affect response times.\n",
        "\n",
        "5. Global Interpreter Lock (GIL) Limitations:\n",
        "\n",
        "- In CPython, the GIL restricts true parallel execution of threads. While not directly a memory management problem, it affects how efficiently memory is utilized in multithreaded programs.\n",
        "\n",
        "6. Large Object Handling:\n",
        "\n",
        "- When dealing with very large datasets (e.g., in data science), Python may use significant amounts of memory, and careful management (such as using generators or specialized libraries like NumPy) becomes necessary.\n",
        "\n",
        "In conclusion, the main challenges associated with memory management in Python include handling circular references, avoiding memory leaks, dealing with fragmentation, managing garbage collection overhead, and optimizing memory usage for large-scale applications. Developers need to be mindful of these challenges to write efficient and scalable Python programs.\n"
      ],
      "metadata": {
        "id": "KJ777aESTOAK"
      }
    },
    {
      "cell_type": "markdown",
      "source": [
        "24. How do you raise an exception manually in Python?\n",
        "\n",
        "In Python, an exception can be raised manually using the raise keyword. This allows the programmer to explicitly signal that an error or an unusual condition has occurred during program execution.\n",
        "\n",
        "To raise an exception, the programmer specifies the type of exception, such as ValueError, TypeError, or a custom-defined exception, along with an optional error message to describe the issue.\n",
        "\n",
        "The main purpose of raising an exception manually is to enforce rules, validate input, or handle specific conditions where the program logic determines that continuing execution would be incorrect or unsafe.\n",
        "\n",
        "In conclusion, raising an exception manually in Python is done using the raise keyword, which gives the programmer full control to trigger errors and manage unexpected conditions in a structured way.\n"
      ],
      "metadata": {
        "id": "hMh9gwHIUC1M"
      }
    },
    {
      "cell_type": "markdown",
      "source": [
        "25. Why is it important to use multithreading in certain applications?\n",
        "\n",
        "Multithreading is important in certain applications because it allows multiple tasks to run concurrently within the same process, improving responsiveness and resource utilization.\n",
        "\n",
        "One key reason is efficient handling of I/O-bound tasks. Applications that frequently wait for input or output operations, such as reading from files, handling network requests, or interacting with databases, benefit from multithreading since other threads can continue executing while one thread is waiting.\n",
        "\n",
        "Another reason is improved responsiveness. In applications such as graphical user interfaces (GUIs) or web servers, multithreading ensures that the program remains responsive to user actions or incoming requests even while performing background tasks.\n",
        "\n",
        "Multithreading also allows for better resource sharing, since all threads in a process share the same memory space, which makes communication between them easier and faster compared to processes.\n",
        "\n",
        "In conclusion, multithreading is important in applications where tasks involve waiting for external resources, maintaining responsiveness, or efficiently handling multiple simultaneous activities within the same program."
      ],
      "metadata": {
        "id": "4noQmXzXUWnE"
      }
    },
    {
      "cell_type": "markdown",
      "source": [
        "PRACTICAL QUESTIONS"
      ],
      "metadata": {
        "id": "hQgY2l3tUghQ"
      }
    },
    {
      "cell_type": "markdown",
      "source": [
        "1. How can you open a file for writing in Python and write a string to it?"
      ],
      "metadata": {
        "id": "1MQcY5lwWL_w"
      }
    },
    {
      "cell_type": "code",
      "source": [
        "file = open(\"example.txt\", \"w\")\n",
        "file.write(\"This is a sample string.\")\n",
        "file.close()"
      ],
      "metadata": {
        "id": "lb-iYANwWHw6"
      },
      "execution_count": 1,
      "outputs": []
    },
    {
      "cell_type": "markdown",
      "source": [
        "2. Write a Python program to read the contents of a file and print each line?"
      ],
      "metadata": {
        "id": "ElXgK_ukWms4"
      }
    },
    {
      "cell_type": "code",
      "source": [
        "file = open(\"example.txt\", \"r\")\n",
        "for line in file:\n",
        "    print(line, end=\"\")\n",
        "file.close()"
      ],
      "metadata": {
        "colab": {
          "base_uri": "https://localhost:8080/"
        },
        "id": "mr_xEMpPWbSM",
        "outputId": "515f447f-1606-44bf-9618-e8a9b1efb511"
      },
      "execution_count": 2,
      "outputs": [
        {
          "output_type": "stream",
          "name": "stdout",
          "text": [
            "This is a sample string."
          ]
        }
      ]
    },
    {
      "cell_type": "markdown",
      "source": [
        "3. How would you handle a case where the file doesn't exist while trying to open it for reading?"
      ],
      "metadata": {
        "id": "zB-iPlrMW0xl"
      }
    },
    {
      "cell_type": "code",
      "source": [
        "try:\n",
        "    file = open(\"example.txt\", \"r\")\n",
        "    print(file.read())\n",
        "    file.close()\n",
        "except FileNotFoundError:\n",
        "    print(\"The file does not exist.\")"
      ],
      "metadata": {
        "colab": {
          "base_uri": "https://localhost:8080/"
        },
        "id": "MLVdZcUnWunA",
        "outputId": "feff7235-d6a0-4aef-b3c5-24d5573fe66f"
      },
      "execution_count": 3,
      "outputs": [
        {
          "output_type": "stream",
          "name": "stdout",
          "text": [
            "This is a sample string.\n"
          ]
        }
      ]
    },
    {
      "cell_type": "markdown",
      "source": [
        "4. Write a Python script that reads from one file and writes its content to another file?\n"
      ],
      "metadata": {
        "id": "DyrXuhZCW-Vh"
      }
    },
    {
      "cell_type": "code",
      "source": [
        "# Python script to copy content from one file to another\n",
        "\n",
        "try:\n",
        "    # Open the source file in read mode\n",
        "    with open(\"source.txt\", \"r\") as src:\n",
        "        # Read all content\n",
        "        content = src.read()\n",
        "\n",
        "    # Open the destination file in write mode\n",
        "    with open(\"destination.txt\", \"w\") as dest:\n",
        "        dest.write(content)\n",
        "\n",
        "    print(\"File copied successfully!\")\n",
        "\n",
        "except FileNotFoundError:\n",
        "    print(\"Error: source.txt not found. Make sure the file exists in the same folder.\")\n",
        "except PermissionError:\n",
        "    print(\"Error: Permission denied. Try a different location or file name.\")\n",
        "except Exception as e:\n",
        "    print(f\"Unexpected error: {e}\")\n"
      ],
      "metadata": {
        "colab": {
          "base_uri": "https://localhost:8080/"
        },
        "id": "uvl6V2q5Xvxz",
        "outputId": "81baaf54-6d6a-434f-bf1e-3053d4484b3c"
      },
      "execution_count": 5,
      "outputs": [
        {
          "output_type": "stream",
          "name": "stdout",
          "text": [
            "Error: source.txt not found. Make sure the file exists in the same folder.\n"
          ]
        }
      ]
    },
    {
      "cell_type": "markdown",
      "source": [
        "5. How would you catch and handle division by zero error in Python?"
      ],
      "metadata": {
        "id": "NIiKKFyVYQEU"
      }
    },
    {
      "cell_type": "code",
      "source": [
        "try:\n",
        "    a = 10\n",
        "    b = 0\n",
        "    result = a / b\n",
        "    print(\"Result:\", result)\n",
        "except ZeroDivisionError:\n",
        "    print(\"Error: Division by zero is not allowed.\")"
      ],
      "metadata": {
        "colab": {
          "base_uri": "https://localhost:8080/"
        },
        "id": "0ov7gEiqYGfi",
        "outputId": "149b75e2-7c3a-48b8-c021-4d964bead43d"
      },
      "execution_count": 6,
      "outputs": [
        {
          "output_type": "stream",
          "name": "stdout",
          "text": [
            "Error: Division by zero is not allowed.\n"
          ]
        }
      ]
    },
    {
      "cell_type": "markdown",
      "source": [
        "6. Write a Python program that logs an error message to a log file when a division by zero exception occurs?"
      ],
      "metadata": {
        "id": "gSA4nMQpYnJO"
      }
    },
    {
      "cell_type": "code",
      "source": [
        "import logging\n",
        "\n",
        "# Configure logging\n",
        "logging.basicConfig(\n",
        "    filename=\"error.log\",        # log file name\n",
        "    level=logging.ERROR,         # log only errors and above\n",
        "    format=\"%(asctime)s - %(levelname)s - %(message)s\"\n",
        ")\n",
        "\n",
        "def divide(a, b):\n",
        "    try:\n",
        "        return a / b\n",
        "    except ZeroDivisionError as e:\n",
        "        logging.error(\"Division by zero error: tried to divide %s by %s\", a, b)\n",
        "        return None  # or raise again if you want\n",
        "\n",
        "# Example usage\n",
        "print(divide(10, 2))   # ✅ Works\n",
        "print(divide(10, 0))   # ❌ Logs error, returns None\n"
      ],
      "metadata": {
        "colab": {
          "base_uri": "https://localhost:8080/"
        },
        "id": "rGyDEu3DYheo",
        "outputId": "593d8136-158c-4443-88a0-a212252feac8"
      },
      "execution_count": 7,
      "outputs": [
        {
          "output_type": "stream",
          "name": "stderr",
          "text": [
            "ERROR:root:Division by zero error: tried to divide 10 by 0\n"
          ]
        },
        {
          "output_type": "stream",
          "name": "stdout",
          "text": [
            "5.0\n",
            "None\n"
          ]
        }
      ]
    },
    {
      "cell_type": "markdown",
      "source": [
        "7. How do you log information at different levels (INFO, ERROR, WARNING) in Python using the logging module?"
      ],
      "metadata": {
        "id": "7h7uuWXYYzCD"
      }
    },
    {
      "cell_type": "code",
      "source": [
        "import logging\n",
        "\n",
        "# Configure logging\n",
        "logging.basicConfig(\n",
        "    filename=\"app.log\",          # log file\n",
        "    level=logging.DEBUG,         # capture all levels from DEBUG upward\n",
        "    format=\"%(asctime)s - %(levelname)s - %(message)s\"\n",
        ")\n",
        "\n",
        "# Logging at different levels\n",
        "logging.debug(\"This is a DEBUG message (useful for developers).\")\n",
        "logging.info(\"This is an INFO message (general events).\")\n",
        "logging.warning(\"This is a WARNING message (something unusual happened).\")\n",
        "logging.error(\"This is an ERROR message (operation failed).\")\n",
        "logging.critical(\"This is a CRITICAL message (serious error, program may crash).\")\n"
      ],
      "metadata": {
        "colab": {
          "base_uri": "https://localhost:8080/"
        },
        "id": "O_adYSSIYu1u",
        "outputId": "cf40f057-9c8f-40f4-f510-8431fb42a473"
      },
      "execution_count": 8,
      "outputs": [
        {
          "output_type": "stream",
          "name": "stderr",
          "text": [
            "WARNING:root:This is a WARNING message (something unusual happened).\n",
            "ERROR:root:This is an ERROR message (operation failed).\n",
            "CRITICAL:root:This is a CRITICAL message (serious error, program may crash).\n"
          ]
        }
      ]
    },
    {
      "cell_type": "markdown",
      "source": [
        "8. Write a program to handle a file opening error using exception handling?"
      ],
      "metadata": {
        "id": "a88f1WKJY7_g"
      }
    },
    {
      "cell_type": "code",
      "source": [
        "try:\n",
        "    # Try opening the file in read mode\n",
        "    with open(\"data.txt\", \"r\") as f:\n",
        "        content = f.read()\n",
        "        print(\"File content:\")\n",
        "        print(content)\n",
        "\n",
        "except FileNotFoundError:\n",
        "    print(\"Error: File not found. Please check the file name or path.\")\n",
        "\n",
        "except PermissionError:\n",
        "    print(\"Error: You don’t have permission to read this file.\")\n",
        "\n",
        "except Exception as e:\n",
        "    print(f\"Unexpected error: {e}\")\n"
      ],
      "metadata": {
        "colab": {
          "base_uri": "https://localhost:8080/"
        },
        "id": "nOrgBYgoY3qr",
        "outputId": "37e10a44-2339-41c4-9fa2-387c95266f6b"
      },
      "execution_count": 9,
      "outputs": [
        {
          "output_type": "stream",
          "name": "stdout",
          "text": [
            "Error: File not found. Please check the file name or path.\n"
          ]
        }
      ]
    },
    {
      "cell_type": "markdown",
      "source": [
        "9. How can you read a file line by line and store its content in a list in Python?"
      ],
      "metadata": {
        "id": "-R7Y6lT2ZGJQ"
      }
    },
    {
      "cell_type": "code",
      "source": [
        "lines = []\n",
        "with open(\"data.txt\", \"r\") as f:\n",
        "    for line in f:\n",
        "        lines.append(line.strip())\n",
        "\n",
        "print(lines)\n"
      ],
      "metadata": {
        "colab": {
          "base_uri": "https://localhost:8080/",
          "height": 211
        },
        "id": "YYUce4F2ZMHh",
        "outputId": "b5e90ef8-4374-4ba7-8610-684c14fd0577"
      },
      "execution_count": 11,
      "outputs": [
        {
          "output_type": "error",
          "ename": "FileNotFoundError",
          "evalue": "[Errno 2] No such file or directory: 'data.txt'",
          "traceback": [
            "\u001b[0;31m---------------------------------------------------------------------------\u001b[0m",
            "\u001b[0;31mFileNotFoundError\u001b[0m                         Traceback (most recent call last)",
            "\u001b[0;32m/tmp/ipython-input-309489803.py\u001b[0m in \u001b[0;36m<cell line: 0>\u001b[0;34m()\u001b[0m\n\u001b[1;32m      1\u001b[0m \u001b[0mlines\u001b[0m \u001b[0;34m=\u001b[0m \u001b[0;34m[\u001b[0m\u001b[0;34m]\u001b[0m\u001b[0;34m\u001b[0m\u001b[0;34m\u001b[0m\u001b[0m\n\u001b[0;32m----> 2\u001b[0;31m \u001b[0;32mwith\u001b[0m \u001b[0mopen\u001b[0m\u001b[0;34m(\u001b[0m\u001b[0;34m\"data.txt\"\u001b[0m\u001b[0;34m,\u001b[0m \u001b[0;34m\"r\"\u001b[0m\u001b[0;34m)\u001b[0m \u001b[0;32mas\u001b[0m \u001b[0mf\u001b[0m\u001b[0;34m:\u001b[0m\u001b[0;34m\u001b[0m\u001b[0;34m\u001b[0m\u001b[0m\n\u001b[0m\u001b[1;32m      3\u001b[0m     \u001b[0;32mfor\u001b[0m \u001b[0mline\u001b[0m \u001b[0;32min\u001b[0m \u001b[0mf\u001b[0m\u001b[0;34m:\u001b[0m\u001b[0;34m\u001b[0m\u001b[0;34m\u001b[0m\u001b[0m\n\u001b[1;32m      4\u001b[0m         \u001b[0mlines\u001b[0m\u001b[0;34m.\u001b[0m\u001b[0mappend\u001b[0m\u001b[0;34m(\u001b[0m\u001b[0mline\u001b[0m\u001b[0;34m.\u001b[0m\u001b[0mstrip\u001b[0m\u001b[0;34m(\u001b[0m\u001b[0;34m)\u001b[0m\u001b[0;34m)\u001b[0m\u001b[0;34m\u001b[0m\u001b[0;34m\u001b[0m\u001b[0m\n\u001b[1;32m      5\u001b[0m \u001b[0;34m\u001b[0m\u001b[0m\n",
            "\u001b[0;31mFileNotFoundError\u001b[0m: [Errno 2] No such file or directory: 'data.txt'"
          ]
        }
      ]
    },
    {
      "cell_type": "markdown",
      "source": [
        "10. How can you append data to an existing file in Python?"
      ],
      "metadata": {
        "id": "xQeiLDUcZeyr"
      }
    },
    {
      "cell_type": "code",
      "source": [
        "# Open the file in append mode\n",
        "with open(\"data.txt\", \"a\", encoding=\"utf-8\") as f:\n",
        "    f.write(\"This line will be added to the end of the file.\\n\")\n",
        "    f.write(\"Another line appended.\\n\")\n",
        "\n",
        "print(\"Data appended successfully.\")\n"
      ],
      "metadata": {
        "colab": {
          "base_uri": "https://localhost:8080/"
        },
        "id": "rqtpoWUyZSTS",
        "outputId": "1115ef9c-e2df-4a16-80f0-f0fd9b8fdab2"
      },
      "execution_count": 12,
      "outputs": [
        {
          "output_type": "stream",
          "name": "stdout",
          "text": [
            "Data appended successfully.\n"
          ]
        }
      ]
    },
    {
      "cell_type": "markdown",
      "source": [
        "11. Write a Python program that uses a try-except block to handle an error when attempting to access a dictionary key that doesn't exist?"
      ],
      "metadata": {
        "id": "SXAeDgRhZwe0"
      }
    },
    {
      "cell_type": "code",
      "source": [
        "# Sample dictionary\n",
        "my_dict = {\n",
        "    \"name\": \"Yuvraj\",\n",
        "    \"age\": 20\n",
        "}\n",
        "\n",
        "try:\n",
        "    # Attempt to access a key that might not exist\n",
        "    print(\"City:\", my_dict[\"city\"])\n",
        "except KeyError:\n",
        "    print(\"Error: The key 'city' does not exist in the dictionary.\")\n"
      ],
      "metadata": {
        "colab": {
          "base_uri": "https://localhost:8080/"
        },
        "id": "hZGqJ9dFZrVz",
        "outputId": "2cb01a10-f5f6-42e0-ddea-8ac0989f26ef"
      },
      "execution_count": 13,
      "outputs": [
        {
          "output_type": "stream",
          "name": "stdout",
          "text": [
            "Error: The key 'city' does not exist in the dictionary.\n"
          ]
        }
      ]
    },
    {
      "cell_type": "markdown",
      "source": [
        "12. Write a program that demonstrates using multiple except blocks to handle different types of exceptions"
      ],
      "metadata": {
        "id": "sdoS2h-eZ8jF"
      }
    },
    {
      "cell_type": "code",
      "source": [
        "# Sample program demonstrating multiple exception handling\n",
        "\n",
        "try:\n",
        "    # Take input from user\n",
        "    num1 = int(input(\"Enter first number: \"))\n",
        "    num2 = int(input(\"Enter second number: \"))\n",
        "\n",
        "    # Attempt division\n",
        "    result = num1 / num2\n",
        "    print(\"Result:\", result)\n",
        "\n",
        "    # Access a dictionary key\n",
        "    my_dict = {\"name\": \"Yuvraj\"}\n",
        "    print(\"Age:\", my_dict[\"age\"])\n",
        "\n",
        "except ZeroDivisionError:\n",
        "    print(\"Error: Division by zero is not allowed.\")\n",
        "\n",
        "except ValueError:\n",
        "    print(\"Error: Invalid input. Please enter a number.\")\n",
        "\n",
        "except KeyError as e:\n",
        "    print(f\"Error: Missing key in dictionary: {e}\")\n",
        "\n",
        "except Exception as e:\n",
        "    print(f\"Unexpected error: {e}\")"
      ],
      "metadata": {
        "colab": {
          "base_uri": "https://localhost:8080/"
        },
        "id": "ueQLiHJXZ24a",
        "outputId": "7c3d93ef-95bb-449e-8517-e84f422af9be"
      },
      "execution_count": 15,
      "outputs": [
        {
          "output_type": "stream",
          "name": "stdout",
          "text": [
            "Enter first number: yuvraj chaudhary\n",
            "Error: Invalid input. Please enter a number.\n"
          ]
        }
      ]
    },
    {
      "cell_type": "markdown",
      "source": [
        "13. How would you check if a file exists before attempting to read it in Python?"
      ],
      "metadata": {
        "id": "-Po2qaqwaN-N"
      }
    },
    {
      "cell_type": "code",
      "source": [
        "import os\n",
        "\n",
        "file_path = \"data.txt\"\n",
        "\n",
        "if os.path.exists(file_path):\n",
        "    with open(file_path, \"r\", encoding=\"utf-8\") as f:\n",
        "        content = f.read()\n",
        "        print(\"File content:\")\n",
        "        print(content)\n",
        "else:\n",
        "    print(f\"Error: The file '{file_path}' does not exist.\")\n"
      ],
      "metadata": {
        "colab": {
          "base_uri": "https://localhost:8080/"
        },
        "id": "GdAv-tBXaCBS",
        "outputId": "ad1e3d4e-626f-40bc-8ab6-447a4a63264b"
      },
      "execution_count": 16,
      "outputs": [
        {
          "output_type": "stream",
          "name": "stdout",
          "text": [
            "File content:\n",
            "This line will be added to the end of the file.\n",
            "Another line appended.\n",
            "\n"
          ]
        }
      ]
    },
    {
      "cell_type": "markdown",
      "source": [
        "14. Write a program that uses the logging module to log both informational and error messages?"
      ],
      "metadata": {
        "id": "0Z8tzMzsaZu3"
      }
    },
    {
      "cell_type": "code",
      "source": [
        "import logging\n",
        "\n",
        "# Configure logging\n",
        "logging.basicConfig(\n",
        "    filename=\"app.log\",          # Log file\n",
        "    level=logging.INFO,           # Capture INFO and above\n",
        "    format=\"%(asctime)s - %(levelname)s - %(message)s\"\n",
        ")\n",
        "\n",
        "# Example informational message\n",
        "logging.info(\"Program started successfully.\")\n",
        "\n",
        "# Example operation with error handling\n",
        "try:\n",
        "    a = 10\n",
        "    b = 0\n",
        "    result = a / b\n",
        "    logging.info(f\"Division successful: {a} / {b} = {result}\")\n",
        "except ZeroDivisionError:\n",
        "    logging.error(f\"Division by zero error: tried to divide {a} by {b}\")\n",
        "\n",
        "# Another informational message\n",
        "logging.info(\"Program ended.\")\n"
      ],
      "metadata": {
        "colab": {
          "base_uri": "https://localhost:8080/"
        },
        "id": "rjgbys3XaV8T",
        "outputId": "18521dac-4376-4b95-802d-6a25364080ce"
      },
      "execution_count": 17,
      "outputs": [
        {
          "output_type": "stream",
          "name": "stderr",
          "text": [
            "ERROR:root:Division by zero error: tried to divide 10 by 0\n"
          ]
        }
      ]
    },
    {
      "cell_type": "markdown",
      "source": [
        "15. Write a Python program that prints the content of a file and handles the case when the file is empty?"
      ],
      "metadata": {
        "id": "Q2jsC4fdajFo"
      }
    },
    {
      "cell_type": "code",
      "source": [
        "file_path = \"data.txt\"\n",
        "\n",
        "try:\n",
        "    with open(file_path, \"r\", encoding=\"utf-8\") as f:\n",
        "        content = f.read().strip()  # Remove leading/trailing whitespace\n",
        "\n",
        "    if content:\n",
        "        print(\"File content:\")\n",
        "        print(content)\n",
        "    else:\n",
        "        print(\"The file is empty.\")\n",
        "\n",
        "except FileNotFoundError:\n",
        "    print(f\"Error: The file '{file_path}' does not exist.\")\n",
        "\n",
        "except PermissionError:\n",
        "    print(f\"Error: Permission denied to read '{file_path}'.\")\n",
        "\n",
        "except Exception as e:\n",
        "    print(f\"Unexpected error: {e}\")\n"
      ],
      "metadata": {
        "colab": {
          "base_uri": "https://localhost:8080/"
        },
        "id": "J8Ueg4rkafQb",
        "outputId": "5407d8ed-5989-4bee-b0bc-855f75340c00"
      },
      "execution_count": 18,
      "outputs": [
        {
          "output_type": "stream",
          "name": "stdout",
          "text": [
            "File content:\n",
            "This line will be added to the end of the file.\n",
            "Another line appended.\n"
          ]
        }
      ]
    },
    {
      "cell_type": "markdown",
      "source": [
        "16. Demonstrate how to use memory profiling to check the memory usage of a small program?"
      ],
      "metadata": {
        "id": "p1FH60mHapcr"
      }
    },
    {
      "cell_type": "code",
      "source": [
        "import tracemalloc\n",
        "\n",
        "tracemalloc.start()  # start tracking memory\n",
        "\n",
        "# Code to measure\n",
        "my_list = [i for i in range(100000)]\n",
        "\n",
        "current, peak = tracemalloc.get_traced_memory()\n",
        "print(f\"Current memory usage: {current / 1024:.2f} KB\")\n",
        "print(f\"Peak memory usage: {peak / 1024:.2f} KB\")\n",
        "\n",
        "tracemalloc.stop()\n"
      ],
      "metadata": {
        "colab": {
          "base_uri": "https://localhost:8080/"
        },
        "id": "WaORld25bbZJ",
        "outputId": "1856abff-aa8f-49f8-a1ec-467a87792787"
      },
      "execution_count": 25,
      "outputs": [
        {
          "output_type": "stream",
          "name": "stdout",
          "text": [
            "Current memory usage: 3901.50 KB\n",
            "Peak memory usage: 3919.68 KB\n"
          ]
        }
      ]
    },
    {
      "cell_type": "markdown",
      "source": [
        "17. Write a Python program to create and write a list of numbers to a file, one number per line?"
      ],
      "metadata": {
        "id": "K_qRk5D3brH1"
      }
    },
    {
      "cell_type": "code",
      "source": [
        "# List of numbers\n",
        "numbers = [1, 2, 3, 4, 5, 6, 7, 8, 9, 10]\n",
        "\n",
        "# Open file in write mode\n",
        "with open(\"numbers.txt\", \"w\", encoding=\"utf-8\") as f:\n",
        "    for num in numbers:\n",
        "        f.write(f\"{num}\\n\")  # write each number on a new line\n",
        "\n",
        "print(\"Numbers written to numbers.txt successfully.\")"
      ],
      "metadata": {
        "colab": {
          "base_uri": "https://localhost:8080/"
        },
        "id": "SgIxdUEVbnw2",
        "outputId": "73579819-0271-4d5f-c0bd-f4728435b080"
      },
      "execution_count": 26,
      "outputs": [
        {
          "output_type": "stream",
          "name": "stdout",
          "text": [
            "Numbers written to numbers.txt successfully.\n"
          ]
        }
      ]
    },
    {
      "cell_type": "markdown",
      "source": [
        "18. How would you implement a basic logging setup that logs to a file with rotation after 1MB?"
      ],
      "metadata": {
        "id": "7Girrebrb1Gd"
      }
    },
    {
      "cell_type": "code",
      "source": [
        "import logging\n",
        "from logging.handlers import RotatingFileHandler\n",
        "\n",
        "# Create a logger\n",
        "logger = logging.getLogger(\"my_logger\")\n",
        "logger.setLevel(logging.INFO)\n",
        "\n",
        "# Create a rotating file handler: max 1MB per file, keep 3 backups\n",
        "handler = RotatingFileHandler(\n",
        "    \"app.log\", maxBytes=1_000_000, backupCount=3\n",
        ")\n",
        "formatter = logging.Formatter(\"%(asctime)s - %(levelname)s - %(message)s\")\n",
        "handler.setFormatter(formatter)\n",
        "logger.addHandler(handler)\n",
        "\n",
        "# Example logs\n",
        "logger.info(\"Program started.\")\n",
        "logger.warning(\"This is a warning.\")\n",
        "logger.error(\"This is an error.\")\n",
        "logger.info(\"Program ended.\")\n"
      ],
      "metadata": {
        "colab": {
          "base_uri": "https://localhost:8080/"
        },
        "id": "M4PNF45pbwwy",
        "outputId": "ea4b04e8-cc83-451d-87ff-dacabffcb4ae"
      },
      "execution_count": 27,
      "outputs": [
        {
          "output_type": "stream",
          "name": "stderr",
          "text": [
            "INFO:my_logger:Program started.\n",
            "WARNING:my_logger:This is a warning.\n",
            "ERROR:my_logger:This is an error.\n",
            "INFO:my_logger:Program ended.\n"
          ]
        }
      ]
    },
    {
      "cell_type": "markdown",
      "source": [
        "19. Write a program that handles both IndexError and KeyError using a try-except block?"
      ],
      "metadata": {
        "id": "K3t7lbArb92w"
      }
    },
    {
      "cell_type": "code",
      "source": [
        "# Sample list and dictionary\n",
        "my_list = [10, 20, 30]\n",
        "my_dict = {\"name\": \"Yuvraj\"}\n",
        "\n",
        "try:\n",
        "    # Attempt to access a list index\n",
        "    print(\"Element at index 5:\", my_list[5])\n",
        "\n",
        "    # Attempt to access a dictionary key\n",
        "    print(\"Age:\", my_dict[\"age\"])\n",
        "\n",
        "except IndexError:\n",
        "    print(\"Error: List index out of range.\")\n",
        "\n",
        "except KeyError:\n",
        "    print(\"Error: Dictionary key does not exist.\")\n",
        "\n",
        "print(\"Program continues normally.\")\n"
      ],
      "metadata": {
        "colab": {
          "base_uri": "https://localhost:8080/"
        },
        "id": "cgXIavmdb6hj",
        "outputId": "0545d136-8972-41f3-8e27-217f4fc306f0"
      },
      "execution_count": 28,
      "outputs": [
        {
          "output_type": "stream",
          "name": "stdout",
          "text": [
            "Error: List index out of range.\n",
            "Program continues normally.\n"
          ]
        }
      ]
    },
    {
      "cell_type": "markdown",
      "source": [
        "20. How would you open a file and read its contents using a context manager in Python?"
      ],
      "metadata": {
        "id": "sXtafvd6cHAM"
      }
    },
    {
      "cell_type": "code",
      "source": [
        "file_path = \"data.txt\"\n",
        "\n",
        "# Using 'with' ensures the file is automatically closed\n",
        "with open(file_path, \"r\", encoding=\"utf-8\") as f:\n",
        "    content = f.read()  # read entire file\n",
        "\n",
        "print(\"File content:\")\n",
        "print(content)\n"
      ],
      "metadata": {
        "colab": {
          "base_uri": "https://localhost:8080/"
        },
        "id": "HqN51RvqcDEX",
        "outputId": "64ac6484-fc34-4e0e-a65c-60a14b91c6ab"
      },
      "execution_count": 29,
      "outputs": [
        {
          "output_type": "stream",
          "name": "stdout",
          "text": [
            "File content:\n",
            "This line will be added to the end of the file.\n",
            "Another line appended.\n",
            "\n"
          ]
        }
      ]
    },
    {
      "cell_type": "markdown",
      "source": [
        "21. Write a Python program that reads a file and prints the number of occurrences of a specific word?"
      ],
      "metadata": {
        "id": "7Muy_ctUcPdk"
      }
    },
    {
      "cell_type": "code",
      "source": [
        "file_path = \"data.txt\"\n",
        "word_to_count = \"python\"  # word to search for (case-insensitive)\n",
        "\n",
        "try:\n",
        "    with open(file_path, \"r\", encoding=\"utf-8\") as f:\n",
        "        content = f.read().lower()  # convert to lowercase for case-insensitive search\n",
        "\n",
        "    # Split content into words and count occurrences\n",
        "    words = content.split()\n",
        "    count = words.count(word_to_count.lower())\n",
        "\n",
        "    print(f\"The word '{word_to_count}' occurs {count} times in the file.\")\n",
        "\n",
        "except FileNotFoundError:\n",
        "    print(f\"Error: The file '{file_path}' does not exist.\")\n",
        "except Exception as e:\n",
        "    print(f\"Unexpected error: {e}\")\n"
      ],
      "metadata": {
        "colab": {
          "base_uri": "https://localhost:8080/"
        },
        "id": "A9ulNLj8cMFo",
        "outputId": "b4ea44ac-fabc-41bc-fcfc-9e7c5e25e3d3"
      },
      "execution_count": 30,
      "outputs": [
        {
          "output_type": "stream",
          "name": "stdout",
          "text": [
            "The word 'python' occurs 0 times in the file.\n"
          ]
        }
      ]
    },
    {
      "cell_type": "markdown",
      "source": [
        "22. How can you check if a file is empty before attempting to read its contents?"
      ],
      "metadata": {
        "id": "AkolyLvRcVZ5"
      }
    },
    {
      "cell_type": "code",
      "source": [
        "import os\n",
        "\n",
        "file_path = \"data.txt\"\n",
        "\n",
        "# Check if file exists and is not empty\n",
        "if os.path.exists(file_path) and os.path.getsize(file_path) > 0:\n",
        "    with open(file_path, \"r\", encoding=\"utf-8\") as f:\n",
        "        content = f.read()\n",
        "        print(\"File content:\")\n",
        "        print(content)\n",
        "else:\n",
        "    print(f\"The file '{file_path}' is empty or does not exist.\")\n"
      ],
      "metadata": {
        "colab": {
          "base_uri": "https://localhost:8080/"
        },
        "id": "JkLhClS_cUw0",
        "outputId": "b3bd790d-710a-4681-9646-cec49157ce9d"
      },
      "execution_count": 31,
      "outputs": [
        {
          "output_type": "stream",
          "name": "stdout",
          "text": [
            "File content:\n",
            "This line will be added to the end of the file.\n",
            "Another line appended.\n",
            "\n"
          ]
        }
      ]
    },
    {
      "cell_type": "markdown",
      "source": [
        "23. Write a Python program that writes to a log file when an error occurs during file handling."
      ],
      "metadata": {
        "id": "7_Olyk9dcf1-"
      }
    },
    {
      "cell_type": "code",
      "source": [
        "import logging\n",
        "\n",
        "# Configure logging\n",
        "logging.basicConfig(\n",
        "    filename=\"file_errors.log\",\n",
        "    level=logging.ERROR,\n",
        "    format=\"%(asctime)s - %(levelname)s - %(message)s\"\n",
        ")\n",
        "\n",
        "file_path = \"data.txt\"\n",
        "\n",
        "try:\n",
        "    # Attempt to open and read the file\n",
        "    with open(file_path, \"r\", encoding=\"utf-8\") as f:\n",
        "        content = f.read()\n",
        "        print(\"File content:\")\n",
        "        print(content)\n",
        "\n",
        "except FileNotFoundError:\n",
        "    logging.error(f\"FileNotFoundError: The file '{file_path}' does not exist.\")\n",
        "    print(f\"Error: The file '{file_path}' does not exist.\")\n",
        "\n",
        "except PermissionError:\n",
        "    logging.error(f\"PermissionError: No permission to access '{file_path}'.\")\n",
        "    print(f\"Error: Permission denied for '{file_path}'.\")\n",
        "\n",
        "except Exception as e:\n",
        "    logging.error(f\"Unexpected error while handling file '{file_path}': {e}\")\n",
        "    print(f\"Unexpected error: {e}\")\n"
      ],
      "metadata": {
        "colab": {
          "base_uri": "https://localhost:8080/"
        },
        "id": "KcPYLH4wccZ3",
        "outputId": "437f48c6-ed0f-4009-81e0-d1e26bc1ab90"
      },
      "execution_count": 32,
      "outputs": [
        {
          "output_type": "stream",
          "name": "stdout",
          "text": [
            "File content:\n",
            "This line will be added to the end of the file.\n",
            "Another line appended.\n",
            "\n"
          ]
        }
      ]
    },
    {
      "cell_type": "code",
      "source": [],
      "metadata": {
        "id": "g4tiNWv-clKI"
      },
      "execution_count": null,
      "outputs": []
    }
  ]
}