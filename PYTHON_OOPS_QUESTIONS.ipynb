{
  "nbformat": 4,
  "nbformat_minor": 0,
  "metadata": {
    "colab": {
      "provenance": []
    },
    "kernelspec": {
      "name": "python3",
      "display_name": "Python 3"
    },
    "language_info": {
      "name": "python"
    }
  },
  "cells": [
    {
      "cell_type": "markdown",
      "source": [
        "1. What is Object-Oriented Programming (OOP)?\n",
        "- Object-Oriented Programming (OOP) is a way of writing code where everything is treated as an \"object\" — like a real-world thing — with its own data (attributes) and behavior (methods)."
      ],
      "metadata": {
        "id": "t06WWK36n39G"
      }
    },
    {
      "cell_type": "markdown",
      "source": [
        "2. What is a class in OOP?\n",
        "- A class is like a blueprint or template for creating objects."
      ],
      "metadata": {
        "id": "i7_TGS0soYEI"
      }
    },
    {
      "cell_type": "markdown",
      "source": [
        "3. What is an object in OOP?\n",
        "- An object is a real-world instance of a class — it holds data and can perform actions defined by the class."
      ],
      "metadata": {
        "id": "qoz5S1_fpMEd"
      }
    },
    {
      "cell_type": "markdown",
      "source": [
        "4. What is the difference between abstraction and encapsulation?\n",
        "- Abstraction focuses on simplifying complex systems by exposing only the necessary functionality, while encapsulation bundles data and methods within a single unit, controlling access and ensuring data protection. In essence, abstraction deals with the \"what\" (the essential functionality), while encapsulation deals with the \"how\" (data and methods, and their access)."
      ],
      "metadata": {
        "id": "BNYEYr9BpltL"
      }
    },
    {
      "cell_type": "markdown",
      "source": [
        "5. What are dunder methods in Python?\n",
        "- Dunder methods (also called magic methods or special methods) are special functions in Python that start and end with double underscores, like __init__, __str__, __len__, etc."
      ],
      "metadata": {
        "id": "LVHfEvv7p7X8"
      }
    },
    {
      "cell_type": "markdown",
      "source": [
        "6. Explain the concept of inheritance in OOP.\n",
        "- Inheritance means one class (child) can inherit features (variables and methods) from another class (parent), so you don’t need to rewrite the same code."
      ],
      "metadata": {
        "id": "K6Vj1EayqHkW"
      }
    },
    {
      "cell_type": "markdown",
      "source": [
        "7. What is polymorphism in OOP.\n",
        "- Polymorphism means \"many forms\". In OOP, it allows objects of different classes to be treated as if they are objects of the same class — as long as they share common."
      ],
      "metadata": {
        "id": "_YNnNqQmqV5L"
      }
    },
    {
      "cell_type": "markdown",
      "source": [
        "8. How is encapsulation achieved in Python?\n",
        "- Encapsulation in Python is achieved by bundling data (attributes) and the methods that operate on that data within a single unit called a class. This helps to control the access to the internal data, ensuring that data is accessed and modified only through defined methods."
      ],
      "metadata": {
        "id": "RehXgy1jqhRO"
      }
    },
    {
      "cell_type": "markdown",
      "source": [
        "9. What is a constructor in Python?\n",
        "- A constructor in Python is a special method that automatically runs when you create an object of a class."
      ],
      "metadata": {
        "id": "RWFpVi41q2o1"
      }
    },
    {
      "cell_type": "markdown",
      "source": [
        "10. What are class and static methods in Python?\n",
        "\n",
        "- In Python, there are 3 types of methods inside a class:\n",
        "\n",
        "1. Instance Methods → work with individual object data.\n",
        "\n",
        "2. Class Methods → work with class-level data.\n",
        "\n",
        "3. Static Methods → general utility methods that don't access object or class data.\n",
        "\n",
        "- A static method is a method that does not depend on the object or class. It's just a utility function inside a class.\n",
        "\n",
        "Key points:\n",
        "1. Defined using the @staticmethod decorator.\n",
        "\n",
        "2. Takes no self or cls as the first argument.\n",
        "\n",
        "3. Cannot access or modify object/class data."
      ],
      "metadata": {
        "id": "OnoV8c6urCuA"
      }
    },
    {
      "cell_type": "markdown",
      "source": [
        "11. What is method overloading in Python?\n",
        "- Method overloading means having multiple methods with the same name but different parameters (different number or types of arguments) in the same class."
      ],
      "metadata": {
        "id": "25epzVDEruml"
      }
    },
    {
      "cell_type": "markdown",
      "source": [
        "12. What is method overriding in OOP?\n",
        "- When a subclass redefines a method from the superclass with the same name and parameters, this is called method overriding."
      ],
      "metadata": {
        "id": "Y_etFbMxsTZI"
      }
    },
    {
      "cell_type": "markdown",
      "source": [
        "13. What is a property decorator in Python?\n",
        "- The @property decorator is a way to define methods that act like attributes (variables) in a class."
      ],
      "metadata": {
        "id": "DTl_jmnVsgrd"
      }
    },
    {
      "cell_type": "markdown",
      "source": [
        "14. Why is polymorphism important in OOP?\n",
        "- Polymorphism means \"many forms.\" In Object-Oriented Programming, it allows different classes to be treated through the same interface, letting the same method name behave differently based on the object."
      ],
      "metadata": {
        "id": "1_zWuA0ps3KS"
      }
    },
    {
      "cell_type": "markdown",
      "source": [
        "15. What are the advantages of OOP?\n",
        "- OOP offers many benefits that make programming easier, more organized, and powerful. Here are the main advantages:\n",
        "\n",
        "| Advantage     | Description                                 |\n",
        "| ------------- | ------------------------------------------- |\n",
        "| Modularity    | Organizes code into independent blocks      |\n",
        "| Reusability   | Use existing code without rewriting         |\n",
        "| Scalability   | Easy to grow and maintain large systems     |\n",
        "| Encapsulation | Protects data and hides complexity          |\n",
        "| Abstraction   | Simplifies interaction with complex systems |\n",
        "| Polymorphism  | Same interface, multiple implementations    |\n",
        "| Productivity  | Faster development and easier debugging     |\n"
      ],
      "metadata": {
        "id": "cW8XbLMktD2N"
      }
    },
    {
      "cell_type": "markdown",
      "source": [
        "16. What is an abstract class in Python?\n",
        "- An abstract class is a class that cannot be instantiated directly and is meant to be inherited by other classes. It often contains one or more abstract methods that must be implemented by its subclasses."
      ],
      "metadata": {
        "id": "dCITECgltc7F"
      }
    },
    {
      "cell_type": "markdown",
      "source": [
        "17. What is the difference between a class variable and an instance variable?\n",
        "\n",
        " 🔹 Class Variable\n",
        "\n",
        "- Shared by all instances of the class.\n",
        "\n",
        "- Defined inside the class but outside any method.\n",
        "\n",
        "- If changed, the change reflects for all objects (unless overridden).\n",
        "\n",
        "- Used for properties common to all objects.\n",
        "\n",
        "🔹 Instance Variable\n",
        "\n",
        "- Defined inside methods (usually in __init__ with self).\n",
        "\n",
        "- Each object has its own copy.\n",
        "\n",
        "- Used for properties that vary from object to object."
      ],
      "metadata": {
        "id": "hHcCIruVt-hl"
      }
    },
    {
      "cell_type": "markdown",
      "source": [
        "18. What is multiple inheritance in Python?\n",
        "- Multiple inheritance means a class can inherit from more than one parent class at the same time."
      ],
      "metadata": {
        "id": "ozeQMxO2uoGB"
      }
    },
    {
      "cell_type": "markdown",
      "source": [
        "19.  Explain the purpose of ‘’__str__’ and ‘__repr__’ ‘ methods in Python.\n",
        "- Both __str__ and __repr__ are special (\"dunder\") methods used to define how objects are represented as strings, but they serve different purposes:\n",
        "\n",
        "📝 Purpose of __str__\n",
        "Provides a human-readable or informal string representation of an object.\n",
        "\n",
        "Used when you print the object or use str() on it.\n",
        "\n",
        "Should be easy to read and meaningful to end users.\n",
        "\n",
        "📝 Purpose of __repr__\n",
        "Provides an official string representation of an object.\n",
        "\n",
        "Used mainly for debugging and development.\n",
        "\n",
        "Should return a string that, if possible, can be used to recreate the object (like valid Python code).\n",
        "\n",
        "Used when you call repr() on the object or when you inspect it in the interpreter."
      ],
      "metadata": {
        "id": "Q6CPVoD7uxLr"
      }
    },
    {
      "cell_type": "markdown",
      "source": [
        "20. What is the significance of the ‘super()’ function in Python?\n",
        "- The super() function is used to call methods from a parent (or superclass) inside a child (or subclass). It allows you to reuse and extend the functionality of the parent class without explicitly naming it."
      ],
      "metadata": {
        "id": "eeBh59GLvFQi"
      }
    },
    {
      "cell_type": "markdown",
      "source": [
        "21. What is the significance of the __del__ method in Python?\n",
        "- The __del__ method is a destructor in Python — a special method that is called when an object is about to be destroyed (i.e., when it is garbage collected).\n",
        "\n"
      ],
      "metadata": {
        "id": "W_1Q3EpqvP5U"
      }
    },
    {
      "cell_type": "markdown",
      "source": [
        "22. What is the difference between @staticmethod and @classmethod in Python?\n",
        "- 🛠️ @staticmethod\n",
        "1. Defines a method that does not receive an implicit first argument (no self or cls).\n",
        "\n",
        "2. It behaves like a regular function inside a class.\n",
        "\n",
        "3. Cannot access or modify the class or instance state.\n",
        "\n",
        "4. Used when the method logically belongs to the class but doesn’t need to interact with class or instance data.\n",
        "\n",
        "🏛️ @classmethod\n",
        "1. Defines a method that receives the class itself as the first argument, conventionally named cls.\n",
        "\n",
        "2. Can access or modify the class state (class variables).\n",
        "\n",
        "3. Used when a method needs to work with the class, not the instance.\n",
        "\n",
        "4. Often used as alternative constructors."
      ],
      "metadata": {
        "id": "lHsbgLnivbw4"
      }
    },
    {
      "cell_type": "markdown",
      "source": [
        "23. How does polymorphism work in Python with inheritance?\n",
        "- Polymorphism + Inheritance\n",
        "\n",
        "1. When a child class overrides a method from its parent class, this is polymorphism.\n",
        "\n",
        "2. Python decides at runtime which method to call based on the actual object’s type — this is called dynamic method dispatch.\n",
        "\n",
        "3. This lets you write flexible code that works with objects of different classes through a common interface.\n",
        "\n"
      ],
      "metadata": {
        "id": "psOH1E81v6NA"
      }
    },
    {
      "cell_type": "markdown",
      "source": [
        "24. What is method chaining in Python OOP?\n",
        "- Method chaining is a technique where multiple methods are called one after another on the same object in a single line of code."
      ],
      "metadata": {
        "id": "wCvrlvQawWNR"
      }
    },
    {
      "cell_type": "markdown",
      "source": [
        "25. What is the purpose of the __call__ method in Python?\n",
        "- Purpose:\n",
        "1. It lets you make an object callable, meaning you can use parentheses () after the object name to invoke it.\n",
        "\n",
        "2. Useful when you want objects to behave like functions but still keep internal state or behavior.\n",
        "\n",
        "3. Can simplify syntax and improve code readability in some designs."
      ],
      "metadata": {
        "id": "CkpLY7mRwhdX"
      }
    },
    {
      "cell_type": "markdown",
      "source": [
        "# PRRACTICAL QUESTIONS\n",
        "1. Create a parent class Animal with a method speak() that prints a generic message. Create a child class Dog\n",
        "that overrides the speak() method to print \"Bark!\"."
      ],
      "metadata": {
        "id": "7gJpMhNkzGu0"
      }
    },
    {
      "cell_type": "code",
      "source": [
        " class Animal:\n",
        "    def speak(self):\n",
        "        print(\"This animal makes a sound.\")\n",
        "\n",
        "class Dog(Animal):\n",
        "    def speak(self):\n",
        "        print(\"Bark!\")\n",
        "\n",
        "# Example usage:\n",
        "a = Animal()\n",
        "a.speak()\n",
        "\n",
        "d = Dog()\n",
        "d.speak()\n"
      ],
      "metadata": {
        "colab": {
          "base_uri": "https://localhost:8080/"
        },
        "id": "_HQSECVDyi1b",
        "outputId": "2f545b0d-17e6-4285-a424-33925217fa3d"
      },
      "execution_count": 2,
      "outputs": [
        {
          "output_type": "stream",
          "name": "stdout",
          "text": [
            "This animal makes a sound.\n",
            "Bark!\n"
          ]
        }
      ]
    },
    {
      "cell_type": "markdown",
      "source": [
        "2. Write a program to create an abstract class Shape with a method area(). Derive classes Circle and Rectangle\n",
        "from it and implement the area() method in both."
      ],
      "metadata": {
        "id": "6_WQTcvozWlg"
      }
    },
    {
      "cell_type": "code",
      "source": [
        "from abc import ABC, abstractmethod\n",
        "import math\n",
        "\n",
        "class Shape(ABC):\n",
        "    @abstractmethod\n",
        "    def area(self):\n",
        "        pass\n",
        "\n",
        "class Circle(Shape):\n",
        "    def __init__(self, radius):\n",
        "        self.radius = radius\n",
        "\n",
        "    def area(self):\n",
        "        return math.pi * self.radius ** 2\n",
        "\n",
        "class Rectangle(Shape):\n",
        "    def __init__(self, width, height):\n",
        "        self.width = width\n",
        "        self.height = height\n",
        "\n",
        "    def area(self):\n",
        "        return self.width * self.height\n",
        "\n",
        "# Example usage:\n",
        "c = Circle(5)\n",
        "print(\"Circle area:\", c.area())\n",
        "\n",
        "r = Rectangle(4, 6)\n",
        "print(\"Rectangle area:\", r.area())\n"
      ],
      "metadata": {
        "colab": {
          "base_uri": "https://localhost:8080/"
        },
        "id": "Bpdkwmj1zXxy",
        "outputId": "c91a0011-ca8c-4ebb-ae82-14fe7a56af89"
      },
      "execution_count": 3,
      "outputs": [
        {
          "output_type": "stream",
          "name": "stdout",
          "text": [
            "Circle area: 78.53981633974483\n",
            "Rectangle area: 24\n"
          ]
        }
      ]
    },
    {
      "cell_type": "markdown",
      "source": [
        "3. Implement a multi-level inheritance scenario where a class Vehicle has an attribute type. Derive a class Car\n",
        "and further derive a class ElectricCar that adds a battery attribute."
      ],
      "metadata": {
        "id": "LYGZdb90zkp9"
      }
    },
    {
      "cell_type": "code",
      "source": [
        "class Vehicle:\n",
        "    def __init__(self, vehicle_type):\n",
        "        self.type = vehicle_type\n",
        "\n",
        "class Car(Vehicle):\n",
        "    def __init__(self, vehicle_type, brand):\n",
        "        super().__init__(vehicle_type)\n",
        "        self.brand = brand\n",
        "\n",
        "class ElectricCar(Car):\n",
        "    def __init__(self, vehicle_type, brand, battery_capacity):\n",
        "        super().__init__(vehicle_type, brand)\n",
        "        self.battery = battery_capacity\n",
        "\n",
        "    def display_info(self):\n",
        "        print(f\"Type: {self.type}, Brand: {self.brand}, Battery Capacity: {self.battery} kWh\")\n",
        "\n",
        "# Example usage:\n",
        "ecar = ElectricCar(\"Car\", \"Tesla\", 100)\n",
        "ecar.display_info()\n"
      ],
      "metadata": {
        "colab": {
          "base_uri": "https://localhost:8080/"
        },
        "id": "3AIijoDxzqXf",
        "outputId": "f5cc0c06-5c88-4661-c8bc-06b6cb3c27f7"
      },
      "execution_count": 4,
      "outputs": [
        {
          "output_type": "stream",
          "name": "stdout",
          "text": [
            "Type: Car, Brand: Tesla, Battery Capacity: 100 kWh\n"
          ]
        }
      ]
    },
    {
      "cell_type": "markdown",
      "source": [
        "4. Demonstrate polymorphism by creating a base class Bird with a method fly(). Create two derived classes\n",
        "Sparrow and Penguin that override the fly() method.\n"
      ],
      "metadata": {
        "id": "tJ0XIo5JzzSJ"
      }
    },
    {
      "cell_type": "code",
      "source": [
        "class Bird:\n",
        "    def fly(self):\n",
        "        print(\"Some birds can fly.\")\n",
        "\n",
        "class Sparrow(Bird):\n",
        "    def fly(self):\n",
        "        print(\"Sparrow can fly high.\")\n",
        "\n",
        "class Penguin(Bird):\n",
        "    def fly(self):\n",
        "        print(\"Penguins cannot fly, but they swim.\")\n",
        "\n",
        "# Example usage:\n",
        "birds = [Sparrow(), Penguin()]\n",
        "\n",
        "for bird in birds:\n",
        "    bird.fly()\n"
      ],
      "metadata": {
        "colab": {
          "base_uri": "https://localhost:8080/"
        },
        "id": "_U9obK1Jy6Ky",
        "outputId": "63505885-331a-4163-bf91-763382d7ba77"
      },
      "execution_count": 5,
      "outputs": [
        {
          "output_type": "stream",
          "name": "stdout",
          "text": [
            "Sparrow can fly high.\n",
            "Penguins cannot fly, but they swim.\n"
          ]
        }
      ]
    },
    {
      "cell_type": "markdown",
      "source": [
        "5. Write a program to demonstrate encapsulation by creating a class BankAccount with private attributes\n",
        "balance and methods to deposit, withdraw, and check balance."
      ],
      "metadata": {
        "id": "TR_DuvRiz-ms"
      }
    },
    {
      "cell_type": "code",
      "source": [
        "class BankAccount:\n",
        "    def __init__(self, initial_balance=0):\n",
        "        self.__balance = initial_balance  # Private attribute\n",
        "\n",
        "    def deposit(self, amount):\n",
        "        if amount > 0:\n",
        "            self.__balance += amount\n",
        "            print(f\"Deposited: {amount}\")\n",
        "        else:\n",
        "            print(\"Deposit amount must be positive.\")\n",
        "\n",
        "    def withdraw(self, amount):\n",
        "        if amount > self.__balance:\n",
        "            print(\"Insufficient balance!\")\n",
        "        elif amount <= 0:\n",
        "            print(\"Withdrawal amount must be positive.\")\n",
        "        else:\n",
        "            self.__balance -= amount\n",
        "            print(f\"Withdrew: {amount}\")\n",
        "\n",
        "    def check_balance(self):\n",
        "        print(f\"Current balance: {self.__balance}\")\n",
        "\n",
        "# Example usage:\n",
        "account = BankAccount(1000)\n",
        "account.deposit(500)\n",
        "account.withdraw(200)\n",
        "account.check_balance()\n",
        "\n"
      ],
      "metadata": {
        "colab": {
          "base_uri": "https://localhost:8080/"
        },
        "id": "DtvPDPUP0GrP",
        "outputId": "ee11f6ec-34ce-4f1d-f3c9-9b11f2c9fd3b"
      },
      "execution_count": 10,
      "outputs": [
        {
          "output_type": "stream",
          "name": "stdout",
          "text": [
            "Deposited: 500\n",
            "Withdrew: 200\n",
            "Current balance: 1300\n"
          ]
        }
      ]
    },
    {
      "cell_type": "markdown",
      "source": [
        "6. Demonstrate runtime polymorphism using a method play() in a base class Instrument. Derive classes Guitar\n",
        "and Piano that implement their own version of play()."
      ],
      "metadata": {
        "id": "tn_HP7Mi0dZw"
      }
    },
    {
      "cell_type": "code",
      "source": [
        "class Instrument:\n",
        "    def play(self):\n",
        "        print(\"Playing some instrument.\")\n",
        "\n",
        "class Guitar(Instrument):\n",
        "    def play(self):\n",
        "        print(\"Strumming the guitar.\")\n",
        "\n",
        "class Piano(Instrument):\n",
        "    def play(self):\n",
        "        print(\"Playing the piano keys.\")\n",
        "\n",
        "# Function to demonstrate runtime polymorphism\n",
        "def perform(instrument):\n",
        "    instrument.play()\n",
        "\n",
        "# Example usage:\n",
        "g = Guitar()\n",
        "p = Piano()\n",
        "\n",
        "perform(g)\n",
        "perform(p)\n"
      ],
      "metadata": {
        "colab": {
          "base_uri": "https://localhost:8080/"
        },
        "id": "JgDUeoxA0YGp",
        "outputId": "6a25fec2-b496-45db-a429-4daf2f0011cc"
      },
      "execution_count": 11,
      "outputs": [
        {
          "output_type": "stream",
          "name": "stdout",
          "text": [
            "Strumming the guitar.\n",
            "Playing the piano keys.\n"
          ]
        }
      ]
    },
    {
      "cell_type": "markdown",
      "source": [
        "7. Create a class MathOperations with a class method add_numbers() to add two numbers and a static\n",
        "method subtract_numbers() to subtract two numbers"
      ],
      "metadata": {
        "id": "E7FyCl790qUU"
      }
    },
    {
      "cell_type": "code",
      "source": [
        "class MathOperations:\n",
        "    @classmethod\n",
        "    def add_numbers(cls, a, b):\n",
        "        return a + b\n",
        "\n",
        "    @staticmethod\n",
        "    def subtract_numbers(a, b):\n",
        "        return a - b\n",
        "\n",
        "# Example usage:\n",
        "print(MathOperations.add_numbers(10, 5))\n",
        "print(MathOperations.subtract_numbers(10, 5))\n"
      ],
      "metadata": {
        "colab": {
          "base_uri": "https://localhost:8080/"
        },
        "id": "gwqn9IoU0mXL",
        "outputId": "3092de1a-f850-43a7-f572-7b768dad7ff2"
      },
      "execution_count": 12,
      "outputs": [
        {
          "output_type": "stream",
          "name": "stdout",
          "text": [
            "15\n",
            "5\n"
          ]
        }
      ]
    },
    {
      "cell_type": "markdown",
      "source": [
        "8. Implement a class Person with a class method to count the total number of persons created.\n",
        "\n",
        "\n"
      ],
      "metadata": {
        "id": "cvbDnWkr00cN"
      }
    },
    {
      "cell_type": "code",
      "source": [
        "class Person:\n",
        "    count = 0\n",
        "\n",
        "    def __init__(self, name):\n",
        "        self.name = name\n",
        "        Person.count += 1\n",
        "\n",
        "    @classmethod\n",
        "    def total_persons(cls):\n",
        "        return cls.count\n",
        "\n",
        "# Example usage:\n",
        "p1 = Person(\"Alice\")\n",
        "p2 = Person(\"Bob\")\n",
        "p3 = Person(\"Charlie\")\n",
        "\n",
        "print(\"Total persons created:\", Person.total_persons())\n"
      ],
      "metadata": {
        "colab": {
          "base_uri": "https://localhost:8080/"
        },
        "id": "-z6mbhK60xL0",
        "outputId": "9a42968c-e148-42ab-ed0b-0b97c134bdbc"
      },
      "execution_count": 13,
      "outputs": [
        {
          "output_type": "stream",
          "name": "stdout",
          "text": [
            "Total persons created: 3\n"
          ]
        }
      ]
    },
    {
      "cell_type": "markdown",
      "source": [
        "9. Write a class Fraction with attributes numerator and denominator. Override the str method to display the\n",
        "fraction as \"numerator/denominator\"."
      ],
      "metadata": {
        "id": "V4-Imi_z1A37"
      }
    },
    {
      "cell_type": "code",
      "source": [
        "class Fraction:\n",
        "    def __init__(self, numerator, denominator):\n",
        "        self.numerator = numerator\n",
        "        self.denominator = denominator\n",
        "\n",
        "    def __str__(self):\n",
        "        return f\"{self.numerator}/{self.denominator}\"\n",
        "\n",
        "# Example usage:\n",
        "f = Fraction(3, 4)\n",
        "print(f)\n"
      ],
      "metadata": {
        "colab": {
          "base_uri": "https://localhost:8080/"
        },
        "id": "aCyIsO0509Jp",
        "outputId": "f7dac438-a079-4fbf-bb37-208402f053d1"
      },
      "execution_count": 14,
      "outputs": [
        {
          "output_type": "stream",
          "name": "stdout",
          "text": [
            "3/4\n"
          ]
        }
      ]
    },
    {
      "cell_type": "markdown",
      "source": [
        "10. Demonstrate operator overloading by creating a class Vector and overriding the add method to add two\n",
        "vectors."
      ],
      "metadata": {
        "id": "lVnW8Mrh1KQi"
      }
    },
    {
      "cell_type": "code",
      "source": [
        "class Vector:\n",
        "    def __init__(self, x, y):\n",
        "        self.x = x\n",
        "        self.y = y\n",
        "\n",
        "    def __add__(self, other):\n",
        "        return Vector(self.x + other.x, self.y + other.y)\n",
        "\n",
        "    def __str__(self):\n",
        "        return f\"({self.x}, {self.y})\"\n",
        "\n",
        "# Example usage:\n",
        "v1 = Vector(2, 3)\n",
        "v2 = Vector(4, 1)\n",
        "v3 = v1 + v2\n",
        "\n",
        "print(v3)\n"
      ],
      "metadata": {
        "colab": {
          "base_uri": "https://localhost:8080/"
        },
        "id": "WgKtsTjP1Ll8",
        "outputId": "97a97bac-a738-4588-b705-d90a4c9d2ae1"
      },
      "execution_count": 15,
      "outputs": [
        {
          "output_type": "stream",
          "name": "stdout",
          "text": [
            "(6, 4)\n"
          ]
        }
      ]
    },
    {
      "cell_type": "markdown",
      "source": [
        "11. Create a class Person with attributes name and age. Add a method greet() that prints \"Hello, my name is\n",
        "{name} and I am {age} years old."
      ],
      "metadata": {
        "id": "DdcimxUq1V8Y"
      }
    },
    {
      "cell_type": "code",
      "source": [
        "class Vector:\n",
        "    def __init__(self, x, y):\n",
        "        self.x = x\n",
        "        self.y = y\n",
        "\n",
        "    def __add__(self, other):\n",
        "        return Vector(self.x + other.x, self.y + other.y)\n",
        "\n",
        "    def __str__(self):\n",
        "        return f\"({self.x}, {self.y})\"\n",
        "\n",
        "# Example usage:\n",
        "v1 = Vector(2, 3)\n",
        "v2 = Vector(4, 1)\n",
        "v3 = v1 + v2\n",
        "\n",
        "print(v3)\n"
      ],
      "metadata": {
        "colab": {
          "base_uri": "https://localhost:8080/"
        },
        "id": "JF0NHYZt1eJq",
        "outputId": "bc413ff9-53d3-4d1d-c760-5e709ae89fcd"
      },
      "execution_count": 16,
      "outputs": [
        {
          "output_type": "stream",
          "name": "stdout",
          "text": [
            "(6, 4)\n"
          ]
        }
      ]
    },
    {
      "cell_type": "markdown",
      "source": [
        "12. Implement a class Student with attributes name and grades. Create a method average_grade() to compute\n",
        "the average of the grades."
      ],
      "metadata": {
        "id": "z2yA-_QB1lvt"
      }
    },
    {
      "cell_type": "code",
      "source": [
        "class Student:\n",
        "    def __init__(self, name, grades):\n",
        "        self.name = name\n",
        "        self.grades = grades  # list of numbers\n",
        "\n",
        "    def average_grade(self):\n",
        "        if not self.grades:\n",
        "            return 0\n",
        "        return sum(self.grades) / len(self.grades)\n",
        "\n",
        "# Example usage:\n",
        "student = Student(\"Alice\", [85, 90, 78, 92])\n",
        "print(f\"{student.name}'s average grade: {student.average_grade():.2f}\")"
      ],
      "metadata": {
        "colab": {
          "base_uri": "https://localhost:8080/"
        },
        "id": "hZAqh49G1n5O",
        "outputId": "3656a1e6-8bfc-430e-8716-3bc899c084aa"
      },
      "execution_count": 17,
      "outputs": [
        {
          "output_type": "stream",
          "name": "stdout",
          "text": [
            "Alice's average grade: 86.25\n"
          ]
        }
      ]
    },
    {
      "cell_type": "markdown",
      "source": [
        "13. Create a class Rectangle with methods set_dimensions() to set the dimensions and area() to calculate the\n",
        "area."
      ],
      "metadata": {
        "id": "MBu6jAsN1y6A"
      }
    },
    {
      "cell_type": "code",
      "source": [
        "class Rectangle:\n",
        "    def __init__(self):\n",
        "        self.length = 0\n",
        "        self.width = 0\n",
        "\n",
        "    def set_dimensions(self, length, width):\n",
        "        self.length = length\n",
        "        self.width = width\n",
        "\n",
        "    def area(self):\n",
        "        return self.length * self.width\n",
        "\n",
        "# Example usage:\n",
        "rect = Rectangle()\n",
        "rect.set_dimensions(5, 3)\n",
        "print(\"Area of rectangle:\", rect.area())\n"
      ],
      "metadata": {
        "colab": {
          "base_uri": "https://localhost:8080/"
        },
        "id": "XR94IFPN10QL",
        "outputId": "578dd197-3588-4c3e-b145-afce1b51e74d"
      },
      "execution_count": 18,
      "outputs": [
        {
          "output_type": "stream",
          "name": "stdout",
          "text": [
            "Area of rectangle: 15\n"
          ]
        }
      ]
    },
    {
      "cell_type": "markdown",
      "source": [
        "14. Create a class Employee with a method calculate_salary() that computes the salary based on hours worked\n",
        "and hourly rate. Create a derived class Manager that adds a bonus to the salary."
      ],
      "metadata": {
        "id": "Q5SB1NY518kj"
      }
    },
    {
      "cell_type": "code",
      "source": [
        "class Employee:\n",
        "    def __init__(self, name, hours_worked, hourly_rate):\n",
        "        self.name = name\n",
        "        self.hours_worked = hours_worked\n",
        "        self.hourly_rate = hourly_rate\n",
        "\n",
        "    def calculate_salary(self):\n",
        "        return self.hours_worked * self.hourly_rate\n",
        "\n",
        "class Manager(Employee):\n",
        "    def __init__(self, name, hours_worked, hourly_rate, bonus):\n",
        "        super().__init__(name, hours_worked, hourly_rate)\n",
        "        self.bonus = bonus\n",
        "\n",
        "    def calculate_salary(self):\n",
        "        base_salary = super().calculate_salary()\n",
        "        return base_salary + self.bonus\n",
        "\n",
        "# Example usage:\n",
        "emp = Employee(\"Alice\", 40, 50)\n",
        "print(f\"{emp.name}'s Salary: ${emp.calculate_salary()}\")\n",
        "\n",
        "mgr = Manager(\"Bob\", 40, 60, 500)\n",
        "print(f\"{mgr.name}'s Salary with bonus: ${mgr.calculate_salary()}\")\n"
      ],
      "metadata": {
        "colab": {
          "base_uri": "https://localhost:8080/"
        },
        "id": "0C03eW8K199r",
        "outputId": "85447567-231d-4401-cb0b-513f15f1ed11"
      },
      "execution_count": 19,
      "outputs": [
        {
          "output_type": "stream",
          "name": "stdout",
          "text": [
            "Alice's Salary: $2000\n",
            "Bob's Salary with bonus: $2900\n"
          ]
        }
      ]
    },
    {
      "cell_type": "markdown",
      "source": [
        "15. Create a class Product with attributes name, price, and quantity. Implement a method total_price() that\n",
        "calculates the total price of the product."
      ],
      "metadata": {
        "id": "4YlP15P22IjI"
      }
    },
    {
      "cell_type": "code",
      "source": [
        "class Product:\n",
        "    def __init__(self, name, price, quantity):\n",
        "        self.name = name\n",
        "        self.price = price      # price per unit\n",
        "        self.quantity = quantity  # number of units\n",
        "\n",
        "    def total_price(self):\n",
        "        return self.price * self.quantity\n",
        "\n",
        "# Example usage:\n",
        "p = Product(\"Laptop\", 50000, 2)\n",
        "print(f\"Total price for {p.name}s: ₹{p.total_price()}\")\n"
      ],
      "metadata": {
        "colab": {
          "base_uri": "https://localhost:8080/"
        },
        "id": "m_EkniQm2Y3d",
        "outputId": "b02cf2a7-8110-4777-bace-017bb4044f0d"
      },
      "execution_count": 20,
      "outputs": [
        {
          "output_type": "stream",
          "name": "stdout",
          "text": [
            "Total price for Laptops: ₹100000\n"
          ]
        }
      ]
    },
    {
      "cell_type": "markdown",
      "source": [
        "16. Create a class Animal with an abstract method sound(). Create two derived classes Cow and Sheep that\n",
        "implement the sound() method."
      ],
      "metadata": {
        "id": "zE8v_2rQ2grl"
      }
    },
    {
      "cell_type": "code",
      "source": [
        "from abc import ABC, abstractmethod\n",
        "\n",
        "class Animal(ABC):\n",
        "    @abstractmethod\n",
        "    def sound(self):\n",
        "        pass\n",
        "\n",
        "class Cow(Animal):\n",
        "    def sound(self):\n",
        "        return \"Moo\"\n",
        "\n",
        "class Sheep(Animal):\n",
        "    def sound(self):\n",
        "        return \"Baa\"\n",
        "\n",
        "# Example usage:\n",
        "c = Cow()\n",
        "s = Sheep()\n",
        "\n",
        "print(\"Cow sound:\", c.sound())\n",
        "print(\"Sheep sound:\", s.sound())\n"
      ],
      "metadata": {
        "colab": {
          "base_uri": "https://localhost:8080/"
        },
        "id": "TBwZMydU2muR",
        "outputId": "7925255d-7dd1-4f02-f500-021d1d85132a"
      },
      "execution_count": 21,
      "outputs": [
        {
          "output_type": "stream",
          "name": "stdout",
          "text": [
            "Cow sound: Moo\n",
            "Sheep sound: Baa\n"
          ]
        }
      ]
    },
    {
      "cell_type": "markdown",
      "source": [
        "17. Create a class Book with attributes title, author, and year_published. Add a method get_book_info() that\n",
        "returns a formatted string with the book's details."
      ],
      "metadata": {
        "id": "Q8ygQ7ln2tGZ"
      }
    },
    {
      "cell_type": "code",
      "source": [
        "class Book:\n",
        "    def __init__(self, title, author, year_published):\n",
        "        self.title = title\n",
        "        self.author = author\n",
        "        self.year_published = year_published\n",
        "\n",
        "    def get_book_info(self):\n",
        "        return f\"'{self.title}' by {self.author}, published in {self.year_published}\"\n",
        "\n",
        "# Example usage:\n",
        "book = Book(\"To Kill a Mockingbird\", \"Harper Lee\", 1960)\n",
        "print(book.get_book_info())\n"
      ],
      "metadata": {
        "colab": {
          "base_uri": "https://localhost:8080/"
        },
        "id": "tdaL8igc2yLk",
        "outputId": "9213b234-221c-4089-d16c-b4399a04c781"
      },
      "execution_count": 22,
      "outputs": [
        {
          "output_type": "stream",
          "name": "stdout",
          "text": [
            "'To Kill a Mockingbird' by Harper Lee, published in 1960\n"
          ]
        }
      ]
    },
    {
      "cell_type": "markdown",
      "source": [
        "18. Create a class House with attributes address and price. Create a derived class Mansion that adds an\n",
        "attribute number_of_rooms."
      ],
      "metadata": {
        "id": "gWHeu0ar23j-"
      }
    },
    {
      "cell_type": "code",
      "source": [
        "class House:\n",
        "    def __init__(self, address, price):\n",
        "        self.address = address\n",
        "        self.price = price\n",
        "\n",
        "class Mansion(House):\n",
        "    def __init__(self, address, price, number_of_rooms):\n",
        "        super().__init__(address, price)\n",
        "        self.number_of_rooms = number_of_rooms\n",
        "\n",
        "    def get_details(self):\n",
        "        return f\"Mansion at {self.address} costs ₹{self.price} and has {self.number_of_rooms} rooms.\"\n",
        "\n",
        "# Example usage:\n",
        "m = Mansion(\"123 Elite Street, Mumbai\", 50000000, 10)\n",
        "print(m.get_details())\n"
      ],
      "metadata": {
        "colab": {
          "base_uri": "https://localhost:8080/"
        },
        "id": "-cEXlNMi26Bw",
        "outputId": "19af73e9-d7fd-4a56-e67b-33790a362d57"
      },
      "execution_count": 23,
      "outputs": [
        {
          "output_type": "stream",
          "name": "stdout",
          "text": [
            "Mansion at 123 Elite Street, Mumbai costs ₹50000000 and has 10 rooms.\n"
          ]
        }
      ]
    },
    {
      "cell_type": "markdown",
      "source": [],
      "metadata": {
        "id": "FmxOCDdH1Ahi"
      }
    }
  ]
}