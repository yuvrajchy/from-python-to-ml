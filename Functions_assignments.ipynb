{
  "nbformat": 4,
  "nbformat_minor": 0,
  "metadata": {
    "colab": {
      "provenance": []
    },
    "kernelspec": {
      "name": "python3",
      "display_name": "Python 3"
    },
    "language_info": {
      "name": "python"
    }
  },
  "cells": [
    {
      "cell_type": "markdown",
      "source": [
        "THEORY QUESTIONS:\n",
        "\n",
        "Note: For each theory Question, give at least one example.\n",
        "\n",
        "1. What is the difference between a function and a method in Python?\n",
        "\n",
        "- Difference between a functions and a method in python.\n",
        "\n",
        "\n",
        "| Basis              | Function                                  | Method                                                          |\n",
        "| ------------------ | ---------------------------------------------- | ---------------------------------------------------------------------- |\n",
        "| .Definition     | A block of code that performs a specific task. | A function that is associated with an object (usually a class object). |\n",
        "| Belongs to     | Independent (not tied to any object or class). | Belongs to a class or object.                                          |\n",
        "| Calling syntax | Called directly using the function name.       | Called using the object with a dot (`.`) operator.                     |\n",
        "| Type           | Standalone piece of code.                      | A type of function that works on class or object data.                 |\n",
        "\n",
        "\n"
      ],
      "metadata": {
        "id": "oDsD_eOjeENK"
      }
    },
    {
      "cell_type": "code",
      "execution_count": null,
      "metadata": {
        "colab": {
          "base_uri": "https://localhost:8080/"
        },
        "id": "7RzA2VUEdTT5",
        "outputId": "fffeb13d-20fc-48b6-f89a-93404bc987a8"
      },
      "outputs": [
        {
          "output_type": "stream",
          "name": "stdout",
          "text": [
            "Hello, yuvraj!\n"
          ]
        }
      ],
      "source": [
        "def greet(name):\n",
        "    return f\"Hello, {name}!\"\n",
        "\n",
        "print(greet(\"yuvraj\"))\n"
      ]
    },
    {
      "cell_type": "code",
      "source": [
        "class Person:\n",
        "    def greet(self, name):\n",
        "        return f\"Hello, {name}!\"\n",
        "\n",
        "p = Person()\n",
        "print(p.greet(\"yuvraj\"))\n"
      ],
      "metadata": {
        "colab": {
          "base_uri": "https://localhost:8080/"
        },
        "id": "zmq_J1-3ohAC",
        "outputId": "f0b29a05-ecc2-4226-bbdc-8ddf6d1ad5d4"
      },
      "execution_count": null,
      "outputs": [
        {
          "output_type": "stream",
          "name": "stdout",
          "text": [
            "Hello, yuvraj!\n"
          ]
        }
      ]
    },
    {
      "cell_type": "markdown",
      "source": [
        "2. Explain the concept of function arguments and parameters in Python.\n",
        "\n",
        "- Parametres are the variables listed in a function definition. Arguements are the actual values passed to the function when it is called\n",
        "- Parametre = Placeholders\n",
        "- Arguement = Actual data"
      ],
      "metadata": {
        "id": "QSn5NImJo3HZ"
      }
    },
    {
      "cell_type": "code",
      "source": [
        "# Parameters: name, age\n",
        "def introduce(name, age):\n",
        "    print(f\"My name is {name} and I am {age} years old.\")\n",
        "\n",
        "# Arguments: \"Yuvraj\", 17\n",
        "introduce(\"Yuvraj\", 17)\n"
      ],
      "metadata": {
        "colab": {
          "base_uri": "https://localhost:8080/"
        },
        "id": "uWUGDaTCotoR",
        "outputId": "c5082147-4ac2-4eab-c09d-32ff039f4c41"
      },
      "execution_count": null,
      "outputs": [
        {
          "output_type": "stream",
          "name": "stdout",
          "text": [
            "My name is Yuvraj and I am 17 years old.\n"
          ]
        }
      ]
    },
    {
      "cell_type": "markdown",
      "source": [
        "3. What are the different ways to define and call a function in Python?\n",
        "\n",
        "  Different ways to define and call a function in python\n",
        "\n",
        "- Python provides multiple ways to define and call functions, depending on how flexible or dynamic the code needs to be."
      ],
      "metadata": {
        "id": "YhcviahEqdWc"
      }
    },
    {
      "cell_type": "code",
      "source": [
        "# Definition\n",
        "def greet():\n",
        "    print(\"Hello!\")"
      ],
      "metadata": {
        "id": "ptuHHCQgqcW-"
      },
      "execution_count": null,
      "outputs": []
    },
    {
      "cell_type": "code",
      "source": [
        "# Call\n",
        "greet()"
      ],
      "metadata": {
        "colab": {
          "base_uri": "https://localhost:8080/"
        },
        "id": "3957eX8puJ_X",
        "outputId": "ff88ba62-ac06-4301-f5ca-b11089e8ef3b"
      },
      "execution_count": null,
      "outputs": [
        {
          "output_type": "stream",
          "name": "stdout",
          "text": [
            "Hello!\n"
          ]
        }
      ]
    },
    {
      "cell_type": "markdown",
      "source": [
        "4. 4. What is the purpose of the `return` statement in a Python function?\n",
        "\n",
        "- Purpose of the return statement in a python function\n",
        "\n",
        "- To send output/result from a function.\n",
        "\n",
        " To reuse values in other parts of the code.\n",
        "\n",
        " To make functions more dynamic and testable.\n",
        "\n",
        "-  Without return:\n",
        "The function performs an action but does not give back a result.\n",
        "\n",
        "-  With return:\n",
        "The function gives a value that can be stored, printed, or used in calculations."
      ],
      "metadata": {
        "id": "dek6gz-du-vg"
      }
    },
    {
      "cell_type": "code",
      "source": [
        "def add(a, b):\n",
        "    return a + b\n",
        "\n",
        "result = add(5, 3)\n",
        "print(result)\n"
      ],
      "metadata": {
        "colab": {
          "base_uri": "https://localhost:8080/"
        },
        "id": "qNz60GnfubzX",
        "outputId": "ffc14aa8-0db7-4db6-df44-629c776b14d0"
      },
      "execution_count": null,
      "outputs": [
        {
          "output_type": "stream",
          "name": "stdout",
          "text": [
            "8\n"
          ]
        }
      ]
    },
    {
      "cell_type": "markdown",
      "source": [
        "5. What are iterators in Python and how do they differ from iterables?\n",
        "\n",
        "-  Iterator: An iterator is an object that keeps state and produces the next value when you call next() on it.\n",
        "It implements two methods:\n",
        "\n",
        "__iter__() - returns the iterator object itself\n",
        "\n",
        "__next__() - returns the next item\n",
        "\n",
        "- Iterable: An iterable is any Python object that can return an iterator using the iter() function.\n",
        "It contains data that can be looped over (like a list, tuple, string, etc.).\n",
        "\n",
        "Examples: list, tuple, set, str, dict, etc."
      ],
      "metadata": {
        "id": "3MSU3Scnxafu"
      }
    },
    {
      "cell_type": "code",
      "source": [
        "# Iterable\n",
        "nums = [10, 20, 30]      # list is iterable\n",
        "\n",
        "# Convert to Iterator\n",
        "it = iter(nums)\n",
        "\n",
        "print(next(it))  # Output: 10\n",
        "print(next(it))  # Output: 20\n",
        "print(next(it))  # Output: 30\n"
      ],
      "metadata": {
        "colab": {
          "base_uri": "https://localhost:8080/"
        },
        "id": "0NIXXqyy8fo0",
        "outputId": "1ed82f75-86e2-4e4a-c301-38b597bbce90"
      },
      "execution_count": null,
      "outputs": [
        {
          "output_type": "stream",
          "name": "stdout",
          "text": [
            "10\n",
            "20\n",
            "30\n"
          ]
        }
      ]
    },
    {
      "cell_type": "code",
      "source": [
        "class Counter:\n",
        "    def __init__(self, limit):\n",
        "        self.limit = limit\n",
        "        self.current = 1\n",
        "\n",
        "    def __iter__(self):\n",
        "        return self\n",
        "\n",
        "    def __next__(self):\n",
        "        if self.current <= self.limit:\n",
        "            val = self.current\n",
        "            self.current += 1\n",
        "            return val\n",
        "        else:\n",
        "            raise StopIteration\n",
        "\n",
        "c = Counter(3)\n",
        "\n",
        "for num in c:\n",
        "    print(num)"
      ],
      "metadata": {
        "colab": {
          "base_uri": "https://localhost:8080/"
        },
        "id": "HLAjGyIp8iN1",
        "outputId": "a1284b22-4d1e-4660-fbb6-84ab277eaa58"
      },
      "execution_count": null,
      "outputs": [
        {
          "output_type": "stream",
          "name": "stdout",
          "text": [
            "1\n",
            "2\n",
            "3\n"
          ]
        }
      ]
    },
    {
      "cell_type": "markdown",
      "source": [
        "6. Explain the concept of generators in Python and how they are defined.\n",
        "\n",
        "- Generators are a simple and powerful tool in Python for creating iterators. They allow you to iterate over a potentially large set of data without loading everything into memory at once, making them memory-efficient and fast.\n",
        "\n",
        "-  Key Concepts of Generators\n",
        "Lazy Evaluation:\n",
        "Generators produce items one at a time only when requested, using yield instead of returning all items at once like lists.\n",
        "\n",
        "  State Saving:\n",
        "Generators automatically save their state between calls, so they can resume where they left off.\n",
        "\n"
      ],
      "metadata": {
        "id": "PQp211XQ64wH"
      }
    },
    {
      "cell_type": "code",
      "source": [
        "# Using a function with yield\n",
        "def count_up_to(n):\n",
        "    count = 1\n",
        "    while count <= n:\n",
        "        yield count\n",
        "        count += 1\n"
      ],
      "metadata": {
        "id": "G7jn8QOozjO9"
      },
      "execution_count": 1,
      "outputs": []
    },
    {
      "cell_type": "code",
      "source": [
        "# Usage\n",
        "for num in count_up_to(5):\n",
        "    print(num)\n"
      ],
      "metadata": {
        "colab": {
          "base_uri": "https://localhost:8080/"
        },
        "id": "AlaH51uwY1h3",
        "outputId": "18d9efa1-ded3-4a5a-cc43-14455c510860"
      },
      "execution_count": 2,
      "outputs": [
        {
          "output_type": "stream",
          "name": "stdout",
          "text": [
            "1\n",
            "2\n",
            "3\n",
            "4\n",
            "5\n"
          ]
        }
      ]
    },
    {
      "cell_type": "markdown",
      "source": [
        "7. What are the advantages of using generators over regular functions?\n",
        "\n",
        "- Advantages of Using Generators Over Regular Functions in Python\n",
        "Generators offer several key benefits, especially when dealing with large datasets, streams of data, or performance-sensitive tasks. Here are the main advantages:\n",
        "\n",
        "1. Memory Efficiency\n",
        "Generators yield one value at a time, rather than storing an entire sequence in memory.\n",
        "\n",
        "Ideal for working with large datasets or infinite sequences ."
      ],
      "metadata": {
        "id": "Nu1B7ZX_ZMHU"
      }
    },
    {
      "cell_type": "code",
      "source": [
        "def gen_numbers():\n",
        "    for i in range(10**6):\n",
        "        yield i\n"
      ],
      "metadata": {
        "id": "2h_liE6NY7DV"
      },
      "execution_count": 4,
      "outputs": []
    },
    {
      "cell_type": "code",
      "source": [
        "def regular_numbers():\n",
        "    return [i for i in range(10**6)]  # Loads all 1 million items in memory\n"
      ],
      "metadata": {
        "id": "DRRUIZHpZh2i"
      },
      "execution_count": 3,
      "outputs": []
    },
    {
      "cell_type": "markdown",
      "source": [
        "2. Lazy Evaluation (On-Demand Execution)\n",
        "Generators produce values only when needed, not all at once.\n",
        "\n",
        "Helps reduce processing time and system load.\n",
        "\n",
        "3. State Retention Without Manual Code\n",
        "Generators automatically save their state between yield calls, so you don't need to manage state manually using variables or classes.\n",
        "\n",
        "4. Improved Performance for Iteration\n",
        "For large loops or pipelines, generators are typically faster than creating entire lists, because they don’t require allocation of memory upfront.\n",
        "\n",
        "5. Infinite Sequences Support\n",
        "You can easily model infinite data streams (e.g., sensor data, server logs) without running out of memory.\n",
        "\n",
        "6. Pipeline Construction\n",
        "You can chain generators together to form data processing pipelines without ever loading full intermediate results into memory.\n",
        "\n",
        "7. Cleaner Code for Iterators\n",
        "Generators simplify code that would otherwise require defining a class with __iter__() and __next__() methods."
      ],
      "metadata": {
        "id": "jF1M74yEZsS9"
      }
    },
    {
      "cell_type": "markdown",
      "source": [
        "8. What is a lambda function in Python and when is it typically used?\n",
        "\n",
        "- A lambda function in Python is a small, anonymous function defined using the lambda keyword.\n",
        "It can have any number of arguments, but only one expression.\n",
        "\n"
      ],
      "metadata": {
        "id": "B2wtsNXjaKQe"
      }
    },
    {
      "cell_type": "code",
      "source": [
        "square = lambda x: x * x\n",
        "print(square(5))  # Output: 25\n"
      ],
      "metadata": {
        "colab": {
          "base_uri": "https://localhost:8080/"
        },
        "id": "bvZ2gKEgZiun",
        "outputId": "54456fd9-74fb-42f7-bfdb-5acaaaef1d7a"
      },
      "execution_count": 5,
      "outputs": [
        {
          "output_type": "stream",
          "name": "stdout",
          "text": [
            "25\n"
          ]
        }
      ]
    },
    {
      "cell_type": "markdown",
      "source": [
        "8. What is a lambda function in Python and when is it typically used?\n",
        "\n",
        "- A lambda function is a small anonymous function defined using the lambda keyword in Python.\n",
        "It can take any number of arguments but can only contain a single expression.\n",
        "\n"
      ],
      "metadata": {
        "id": "xFm1Zi12alVr"
      }
    },
    {
      "cell_type": "code",
      "source": [
        "add = lambda x, y: x + y\n",
        "print(add(3, 5))  # Output: 8\n"
      ],
      "metadata": {
        "colab": {
          "base_uri": "https://localhost:8080/"
        },
        "id": "D6njr1Yeaf7s",
        "outputId": "ac9fa834-07e5-4d60-e758-8670bebefed9"
      },
      "execution_count": 6,
      "outputs": [
        {
          "output_type": "stream",
          "name": "stdout",
          "text": [
            "8\n"
          ]
        }
      ]
    },
    {
      "cell_type": "markdown",
      "source": [
        "- Lambda functions are used when you need a small function temporarily, especially as an argument to higher-order functions like:\n",
        "\n",
        "1. With map() – apply a function to each item in a list"
      ],
      "metadata": {
        "id": "D2YLPV8OpJnE"
      }
    },
    {
      "cell_type": "code",
      "source": [
        "nums = [1, 2, 3]\n",
        "squares = list(map(lambda x: x**2, nums))"
      ],
      "metadata": {
        "id": "Nbye_K1Uo21v"
      },
      "execution_count": 7,
      "outputs": []
    },
    {
      "cell_type": "markdown",
      "source": [
        "2. With filter() – filter items based on a condition"
      ],
      "metadata": {
        "id": "jA3rhtqrpZPS"
      }
    },
    {
      "cell_type": "code",
      "source": [
        "nums = [1, 2, 3, 4]\n",
        "evens = list(filter(lambda x: x % 2 == 0, nums))"
      ],
      "metadata": {
        "id": "0gjgNeoppavx"
      },
      "execution_count": 9,
      "outputs": []
    },
    {
      "cell_type": "markdown",
      "source": [
        "3. With sorted() – custom sort keys"
      ],
      "metadata": {
        "id": "HL-7_sPxpk4E"
      }
    },
    {
      "cell_type": "code",
      "source": [
        "students = [('Alice', 90), ('Bob', 85), ('Dave', 92)]\n",
        "sorted_students = sorted(students, key=lambda x: x[1])"
      ],
      "metadata": {
        "id": "7vEdrxfvpVLa"
      },
      "execution_count": 10,
      "outputs": []
    },
    {
      "cell_type": "markdown",
      "source": [
        "4. Inline Short Functions – when defining a full def function is unnecessary"
      ],
      "metadata": {
        "id": "VshEKmEBp6GL"
      }
    },
    {
      "cell_type": "code",
      "source": [
        "def apply_func(f, value):\n",
        "    return f(value)\n",
        "\n",
        "print(apply_func(lambda x: x * 10, 5))\n"
      ],
      "metadata": {
        "colab": {
          "base_uri": "https://localhost:8080/"
        },
        "id": "sy5pXbRQp3BR",
        "outputId": "4aedd9b0-cf2f-41bc-8e7b-697e65218204"
      },
      "execution_count": 11,
      "outputs": [
        {
          "output_type": "stream",
          "name": "stdout",
          "text": [
            "50\n"
          ]
        }
      ]
    },
    {
      "cell_type": "markdown",
      "source": [
        "9. Explain the purpose and usage of the `map()` function in Python.\n",
        "\n",
        "- The map() function is a built-in Python function that allows you to apply a function to every item in an iterable (like a list, tuple, etc.) and return a new map object (which is an iterator).\n",
        "\n",
        "🔹 Purpose:\n",
        "To transform each element of a sequence using a given function without writing explicit loops.\n",
        "\n",
        "- function: A function to apply to each element.\n",
        "\n",
        "- iterable: An iterable like a list, tuple, or set.\n",
        "\n",
        "The result is a map object, which can be converted to a list, tuple, etc.\n",
        "\n"
      ],
      "metadata": {
        "id": "YAKvF0VAqHIt"
      }
    },
    {
      "cell_type": "code",
      "source": [
        "# Square numbers\n",
        "nums = [1, 2, 3, 4]\n",
        "squares = map(lambda x: x**2, nums)\n",
        "print(list(squares))\n"
      ],
      "metadata": {
        "colab": {
          "base_uri": "https://localhost:8080/"
        },
        "id": "I3EO8Z16p-98",
        "outputId": "83043758-94a2-4e00-f965-ca5a06d860b7"
      },
      "execution_count": 12,
      "outputs": [
        {
          "output_type": "stream",
          "name": "stdout",
          "text": [
            "[1, 4, 9, 16]\n"
          ]
        }
      ]
    },
    {
      "cell_type": "code",
      "source": [
        "# Convert strings to uppercase\n",
        "\n",
        "words = ['hello', 'world']\n",
        "upper_words = map(str.upper, words)\n",
        "print(list(upper_words))\n"
      ],
      "metadata": {
        "colab": {
          "base_uri": "https://localhost:8080/"
        },
        "id": "h3acuLZOrN6D",
        "outputId": "cbe45b12-fd84-4366-ace5-7145a7c5a7c7"
      },
      "execution_count": 13,
      "outputs": [
        {
          "output_type": "stream",
          "name": "stdout",
          "text": [
            "['HELLO', 'WORLD']\n"
          ]
        }
      ]
    },
    {
      "cell_type": "code",
      "source": [
        "# Using map() with multiple iterables:\n",
        "a = [1, 2, 3]\n",
        "b = [4, 5, 6]\n",
        "result = map(lambda x, y: x + y, a, b)\n",
        "print(list(result))  # Output: [5, 7, 9]\n"
      ],
      "metadata": {
        "colab": {
          "base_uri": "https://localhost:8080/"
        },
        "id": "3Q7XhVrHrbom",
        "outputId": "482e901f-3443-43ea-aa84-b46ed2b859ed"
      },
      "execution_count": 14,
      "outputs": [
        {
          "output_type": "stream",
          "name": "stdout",
          "text": [
            "[5, 7, 9]\n"
          ]
        }
      ]
    },
    {
      "cell_type": "markdown",
      "source": [
        "10. What is the difference between `map()`, `reduce()`, and `filter()` functions in Python?\n",
        "\n",
        "- Difference Between map(), filter(), and reduce() in Python\n",
        "These three built-in functions are used for functional-style programming in Python.\n",
        "They work on iterables and help in data processing using functions without explicit loops.\n",
        "\n",
        "🔹 1. map()\n",
        "Purpose: Transforms each item in an iterable using a function\n"
      ],
      "metadata": {
        "id": "sokwYV1xrpiD"
      }
    },
    {
      "cell_type": "code",
      "source": [
        "nums = [1, 2, 3]\n",
        "squares = list(map(lambda x: x**2, nums))\n"
      ],
      "metadata": {
        "id": "skNrsXDOskOq"
      },
      "execution_count": 16,
      "outputs": []
    },
    {
      "cell_type": "markdown",
      "source": [
        "2. filter()\n",
        " Purpose: Filters elements from an iterable using a Boolean function (returns only the values where the function returns True)."
      ],
      "metadata": {
        "id": "7bimN4Sksp2u"
      }
    },
    {
      "cell_type": "code",
      "source": [
        "nums = [1, 2, 3, 4]\n",
        "evens = list(filter(lambda x: x % 2 == 0, nums))\n"
      ],
      "metadata": {
        "id": "R4YWSVSyslL-"
      },
      "execution_count": 17,
      "outputs": []
    },
    {
      "cell_type": "markdown",
      "source": [
        "reduce() (from functools module)\n",
        " Purpose: Reduces the iterable to a single value by applying the function cumulatively (i.e., pairwise)."
      ],
      "metadata": {
        "id": "_8gBnriYs0oA"
      }
    },
    {
      "cell_type": "code",
      "source": [
        "from functools import reduce\n",
        "nums = [1, 2, 3, 4]\n",
        "total = reduce(lambda x, y: x + y, nums)"
      ],
      "metadata": {
        "id": "ULrcpIG9sv7a"
      },
      "execution_count": 20,
      "outputs": []
    },
    {
      "cell_type": "markdown",
      "source": [
        "- PRACTICAL QUESTIONS\n",
        "\n",
        "1. Write a Python function that takes a list of numbers as input and returns the sum of all even numbers in\n",
        "the list."
      ],
      "metadata": {
        "id": "JDAUHYo8tI6n"
      }
    },
    {
      "cell_type": "code",
      "source": [
        "def sum_of_even_numbers(numbers):\n",
        "    return sum(num for num in numbers if num % 2 == 0)"
      ],
      "metadata": {
        "id": "-NozMl4_s69x"
      },
      "execution_count": 21,
      "outputs": []
    },
    {
      "cell_type": "markdown",
      "source": [
        "2. Create a Python function that accepts a string and returns the reverse of that string."
      ],
      "metadata": {
        "id": "ykbbO9iEtnBv"
      }
    },
    {
      "cell_type": "code",
      "source": [
        "def reverse_string(s):\n",
        "    return s[::-1]\n"
      ],
      "metadata": {
        "id": "j6FM9_BLtgjB"
      },
      "execution_count": 22,
      "outputs": []
    },
    {
      "cell_type": "markdown",
      "source": [
        "3. Implement a Python function that takes a list of integers and returns a new list containing the squares of\n",
        "each number."
      ],
      "metadata": {
        "id": "vMBnrZ4zt1oM"
      }
    },
    {
      "cell_type": "code",
      "source": [
        "def square_numbers(numbers):\n",
        "    return [num ** 2 for num in numbers]\n"
      ],
      "metadata": {
        "id": "EGSgNHbutvhA"
      },
      "execution_count": 23,
      "outputs": []
    },
    {
      "cell_type": "markdown",
      "source": [
        "4. Write a Python function that checks if a given number is prime or not from 1 to 200."
      ],
      "metadata": {
        "id": "nETnF5Dwt_rl"
      }
    },
    {
      "cell_type": "code",
      "source": [
        "def is_prime(n):\n",
        "    if n < 2:\n",
        "        return False\n",
        "    for i in range(2, int(n**0.5) + 1):\n",
        "        if n % i == 0:\n",
        "            return False\n",
        "    return True\n"
      ],
      "metadata": {
        "id": "_OQW3v5xt7dc"
      },
      "execution_count": 24,
      "outputs": []
    },
    {
      "cell_type": "markdown",
      "source": [
        "5. Create an iterator class in Python that generates the Fibonacci sequence up to a specified number of\n",
        "terms."
      ],
      "metadata": {
        "id": "6G8gMGutuJlC"
      }
    },
    {
      "cell_type": "code",
      "source": [
        "class FibonacciIterator:\n",
        "    def __init__(self, max_terms):\n",
        "        self.max_terms = max_terms\n",
        "        self.count = 0\n",
        "        self.a, self.b = 0, 1\n",
        "\n",
        "    def __iter__(self):\n",
        "        return self\n",
        "\n",
        "    def __next__(self):\n",
        "        if self.count >= self.max_terms:\n",
        "            raise StopIteration\n",
        "        if self.count == 0:\n",
        "            self.count += 1\n",
        "            return 0\n",
        "        elif self.count == 1:\n",
        "            self.count += 1\n",
        "            return 1\n",
        "        else:\n",
        "            self.a, self.b = self.b, self.a + self.b\n",
        "            self.count += 1\n",
        "            return self.a\n"
      ],
      "metadata": {
        "id": "kdNF0v6muFjN"
      },
      "execution_count": 25,
      "outputs": []
    },
    {
      "cell_type": "markdown",
      "source": [
        "6. Write a generator function in Python that yields the powers of 2 up to a given exponent."
      ],
      "metadata": {
        "id": "jcYvusL_uWaU"
      }
    },
    {
      "cell_type": "code",
      "source": [
        "def powers_of_two(max_exponent):\n",
        "    for exp in range(max_exponent + 1):\n",
        "        yield 2 ** exp\n"
      ],
      "metadata": {
        "id": "g0K5glo3uRQo"
      },
      "execution_count": 26,
      "outputs": []
    },
    {
      "cell_type": "markdown",
      "source": [
        "7. Implement a generator function that reads a file line by line and yields each line as a string."
      ],
      "metadata": {
        "id": "DFFPxte9ugWm"
      }
    },
    {
      "cell_type": "code",
      "source": [
        "def read_file_line_by_line(file_path):\n",
        "    with open(file_path, 'r') as file:\n",
        "        for line in file:\n",
        "            yield line.rstrip('\\n')\n"
      ],
      "metadata": {
        "id": "d-CiTQn-uc8Y"
      },
      "execution_count": 27,
      "outputs": []
    },
    {
      "cell_type": "markdown",
      "source": [
        "8. Use a lambda function in Python to sort a list of tuples based on the second element of each tuple.# Sample list of tuples"
      ],
      "metadata": {
        "id": "xibPTrKRusfq"
      }
    },
    {
      "cell_type": "code",
      "source": [
        "data = [(1, 3), (4, 1), (2, 2), (5, 0)]\n",
        "\n",
        "# Sort using lambda function on second element\n",
        "sorted_data = sorted(data, key=lambda x: x[1])\n",
        "\n",
        "print(sorted_data)\n"
      ],
      "metadata": {
        "colab": {
          "base_uri": "https://localhost:8080/"
        },
        "id": "d-9B1i1jupXi",
        "outputId": "bcb85564-57e0-43a1-a8ae-c1e1cc2ada46"
      },
      "execution_count": 28,
      "outputs": [
        {
          "output_type": "stream",
          "name": "stdout",
          "text": [
            "[(5, 0), (4, 1), (2, 2), (1, 3)]\n"
          ]
        }
      ]
    },
    {
      "cell_type": "markdown",
      "source": [
        "9. Write a Python program that uses `map()` to convert a list of temperatures from Celsius to Fahrenheit."
      ],
      "metadata": {
        "id": "gfpqzUhhu-yQ"
      }
    },
    {
      "cell_type": "code",
      "source": [
        "def celsius_to_fahrenheit(c):\n",
        "    return (c * 9/5) + 32\n",
        "\n",
        "celsius_temps = [0, 20, 37, 100]\n",
        "\n",
        "fahrenheit_temps = list(map(celsius_to_fahrenheit, celsius_temps))\n",
        "\n",
        "print(fahrenheit_temps)\n"
      ],
      "metadata": {
        "colab": {
          "base_uri": "https://localhost:8080/"
        },
        "id": "tgWk4eEpu6kh",
        "outputId": "dbbafe05-1d7d-4ecd-9e40-7fea0ea109f8"
      },
      "execution_count": 29,
      "outputs": [
        {
          "output_type": "stream",
          "name": "stdout",
          "text": [
            "[32.0, 68.0, 98.6, 212.0]\n"
          ]
        }
      ]
    },
    {
      "cell_type": "markdown",
      "source": [
        "10. Create a Python program that uses `filter()` to remove all the vowels from a given string."
      ],
      "metadata": {
        "id": "A6VTSyOOvN5u"
      }
    },
    {
      "cell_type": "code",
      "source": [
        "def remove_vowels(s):\n",
        "    vowels = \"aeiouAEIOU\"\n",
        "    return ''.join(filter(lambda char: char not in vowels, s))\n",
        "\n",
        "input_str = \"Hello, World!\"\n",
        "result = remove_vowels(input_str)\n",
        "print(result)\n"
      ],
      "metadata": {
        "colab": {
          "base_uri": "https://localhost:8080/"
        },
        "id": "jXcl0dFNvJ7F",
        "outputId": "ff5bfa3c-d6b5-49a9-ea30-1ed23c13603f"
      },
      "execution_count": 30,
      "outputs": [
        {
          "output_type": "stream",
          "name": "stdout",
          "text": [
            "Hll, Wrld!\n"
          ]
        }
      ]
    },
    {
      "cell_type": "markdown",
      "source": [
        "11) Imagine an accounting routine used in a book shop. It works on a list with sublists, which look like this:\n",
        "\n",
        "\n",
        "order number       book title and author                    Quantity     Price\n",
        "34587              Learning python, Mark Lutz                  4          40.95\n",
        "98762              Programming python, Mark Lutz                5         56.80\n",
        "77226              Head First Python, Paul Barry                3         32.95\n",
        "88112              Einfuhrung in python3, Bernd Klein            3         24.99\n",
        "\n",
        "\n",
        "Write a Python program, which returns a list with 2-tuples. Each tuple consists of the order number and the\n",
        "product of the price per item and the quantity. The product should be increased by 10,- € if the value of the\n",
        "order is smaller than 100,00 €.\n",
        "\n",
        "Write a Python program using lambda and map."
      ],
      "metadata": {
        "id": "nr3OCG6Sveaz"
      }
    },
    {
      "cell_type": "code",
      "source": [
        "orders = [\n",
        "    [34587, \"Learning python, Mark Lutz\", 4, 40.95],\n",
        "    [98762, \"Programming python, Mark Lutz\", 5, 56.80],\n",
        "    [77226, \"Head First Python, Paul Barry\", 3, 32.95],\n",
        "    [88112, \"Einfuhrung in python3, Bernd Klein\", 3, 24.99]\n",
        "]\n",
        "\n",
        "result = list(map(lambda order: (order[0], order[2] * order[3] + (10 if order[2] * order[3] < 100 else 0)), orders))\n",
        "\n",
        "print(result)\n"
      ],
      "metadata": {
        "colab": {
          "base_uri": "https://localhost:8080/"
        },
        "id": "C_ydAteHvTCK",
        "outputId": "3ee28224-ae8b-437c-abca-cf8a4cf2412f"
      },
      "execution_count": 31,
      "outputs": [
        {
          "output_type": "stream",
          "name": "stdout",
          "text": [
            "[(34587, 163.8), (98762, 284.0), (77226, 108.85000000000001), (88112, 84.97)]\n"
          ]
        }
      ]
    },
    {
      "cell_type": "code",
      "source": [],
      "metadata": {
        "id": "Yps5koWaxQY7"
      },
      "execution_count": null,
      "outputs": []
    }
  ]
}