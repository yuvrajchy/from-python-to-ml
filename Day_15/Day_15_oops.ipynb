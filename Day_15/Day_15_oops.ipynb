{
  "nbformat": 4,
  "nbformat_minor": 0,
  "metadata": {
    "colab": {
      "provenance": []
    },
    "kernelspec": {
      "name": "python3",
      "display_name": "Python 3"
    },
    "language_info": {
      "name": "python"
    }
  },
  "cells": [
    {
      "cell_type": "markdown",
      "source": [
        "OOPS"
      ],
      "metadata": {
        "id": "JU26VnaRzU-H"
      }
    },
    {
      "cell_type": "code",
      "execution_count": 1,
      "metadata": {
        "colab": {
          "base_uri": "https://localhost:8080/"
        },
        "id": "QQTGrBVXzMhd",
        "outputId": "6830bbf9-10f9-4ba3-d02f-b63b6924ef03"
      },
      "outputs": [
        {
          "output_type": "execute_result",
          "data": {
            "text/plain": [
              "5"
            ]
          },
          "metadata": {},
          "execution_count": 1
        }
      ],
      "source": [
        "# oops >> object oriented programming system\n",
        "a = 5\n",
        "a"
      ]
    },
    {
      "cell_type": "code",
      "source": [
        "print(type(a))"
      ],
      "metadata": {
        "colab": {
          "base_uri": "https://localhost:8080/"
        },
        "id": "zHZmvWeuzerZ",
        "outputId": "f930d902-e785-480d-e028-479997077b9b"
      },
      "execution_count": 2,
      "outputs": [
        {
          "output_type": "stream",
          "name": "stdout",
          "text": [
            "<class 'int'>\n"
          ]
        }
      ]
    },
    {
      "cell_type": "code",
      "source": [
        "b = 4\n",
        "print(type(b))"
      ],
      "metadata": {
        "colab": {
          "base_uri": "https://localhost:8080/"
        },
        "id": "T5PmpBPzzmPr",
        "outputId": "ac22cd85-c5ee-4859-cd0f-ad297b086a3a"
      },
      "execution_count": 3,
      "outputs": [
        {
          "output_type": "stream",
          "name": "stdout",
          "text": [
            "<class 'int'>\n"
          ]
        }
      ]
    },
    {
      "cell_type": "code",
      "source": [
        "s = \"pwskills\"\n",
        "print(type(s))"
      ],
      "metadata": {
        "colab": {
          "base_uri": "https://localhost:8080/"
        },
        "id": "8P--9Z-Kzs2z",
        "outputId": "2765766b-1eee-410e-d588-e96314604982"
      },
      "execution_count": 4,
      "outputs": [
        {
          "output_type": "stream",
          "name": "stdout",
          "text": [
            "<class 'str'>\n"
          ]
        }
      ]
    },
    {
      "cell_type": "code",
      "source": [
        "# classes are blueprint/template for creating on object\n",
        "# we are different objects of class human being\n",
        "# gujiya maker, thekua maker\n",
        "# class car is nothing but a template\n",
        "class car:   # naming convention >> upper camel case\n",
        "  pass\n",
        "\n",
        "c1 = car()  # instance/object\n",
        "print(type(c1))"
      ],
      "metadata": {
        "colab": {
          "base_uri": "https://localhost:8080/"
        },
        "id": "tvEJtTOjzyj3",
        "outputId": "f8ed7820-3451-4156-94db-1f622a266c1a"
      },
      "execution_count": 5,
      "outputs": [
        {
          "output_type": "stream",
          "name": "stdout",
          "text": [
            "<class '__main__.car'>\n"
          ]
        }
      ]
    },
    {
      "cell_type": "code",
      "source": [
        "# why oops ? we already had function\n",
        "# a project can have many components ; say backend (f1,f2), frontened (f3,f4), data pipeline (f5, f6)\n",
        "# def f1():\n",
        "# pass\n",
        "\n",
        "# def f6():\n",
        "# pass\n",
        "\n",
        "# def f4():\n",
        "# pass\n",
        "\n",
        "# def f2():\n",
        "# pass\n",
        "\n",
        "# def f5():\n",
        "# pass\n",
        "\n",
        "# def f3():\n",
        "# pass"
      ],
      "metadata": {
        "id": "bZQ05TTp1u-y"
      },
      "execution_count": null,
      "outputs": []
    },
    {
      "cell_type": "code",
      "source": [
        "# If a backend developer wants to work/change some backend function >> all the function are at one place\n",
        "\n",
        "# oops helped you to arrange the required functions in respective classes"
      ],
      "metadata": {
        "id": "0vQgnqeb2rfe"
      },
      "execution_count": null,
      "outputs": []
    },
    {
      "cell_type": "code",
      "source": [
        "class car:  # function/method of a car\n",
        "  pass\n",
        "  c1 = car()\n",
        "  print(type(c1))\n",
        "  class car:\n",
        "    def accelerate():\n",
        "      print(\"car is accelerating\")"
      ],
      "metadata": {
        "colab": {
          "base_uri": "https://localhost:8080/"
        },
        "id": "pY_qJWIp3Kjb",
        "outputId": "4ceb3842-62c7-4b35-eb34-bbd58daa427a"
      },
      "execution_count": 6,
      "outputs": [
        {
          "output_type": "stream",
          "name": "stdout",
          "text": [
            "<class '__main__.car'>\n"
          ]
        }
      ]
    },
    {
      "cell_type": "code",
      "source": [
        "# self >> a variable that represent instance of the class using which you can access method/function of class, also attribute/property/data of the class\n",
        "# self makes sure that each object knows that the method is associated with it"
      ],
      "metadata": {
        "id": "_C_SXzpP4rdO"
      },
      "execution_count": null,
      "outputs": []
    },
    {
      "cell_type": "code",
      "source": [
        "c1 = car()"
      ],
      "metadata": {
        "id": "311hNjXP3xYr"
      },
      "execution_count": 11,
      "outputs": []
    },
    {
      "cell_type": "code",
      "source": [
        "c1.accelerate # It will throw an error"
      ],
      "metadata": {
        "colab": {
          "base_uri": "https://localhost:8080/",
          "height": 141
        },
        "id": "uMFLgcz231u5",
        "outputId": "39b4d770-f877-445a-f463-33db602b9267"
      },
      "execution_count": 8,
      "outputs": [
        {
          "output_type": "error",
          "ename": "AttributeError",
          "evalue": "'car' object has no attribute 'accelerate'",
          "traceback": [
            "\u001b[0;31m---------------------------------------------------------------------------\u001b[0m",
            "\u001b[0;31mAttributeError\u001b[0m                            Traceback (most recent call last)",
            "\u001b[0;32m/tmp/ipython-input-482530145.py\u001b[0m in \u001b[0;36m<cell line: 0>\u001b[0;34m()\u001b[0m\n\u001b[0;32m----> 1\u001b[0;31m \u001b[0mc1\u001b[0m\u001b[0;34m.\u001b[0m\u001b[0maccelerate\u001b[0m\u001b[0;34m\u001b[0m\u001b[0;34m\u001b[0m\u001b[0m\n\u001b[0m",
            "\u001b[0;31mAttributeError\u001b[0m: 'car' object has no attribute 'accelerate'"
          ]
        }
      ]
    },
    {
      "cell_type": "code",
      "source": [
        "class car: # function/method of a car\n",
        "  def accelerate(self):\n",
        "    print(\"car is accelerating\")"
      ],
      "metadata": {
        "id": "CNjo5OLV35NR"
      },
      "execution_count": 10,
      "outputs": []
    },
    {
      "cell_type": "code",
      "source": [
        "c1 = car()\n",
        "c1.accelerate()"
      ],
      "metadata": {
        "colab": {
          "base_uri": "https://localhost:8080/"
        },
        "id": "okqCYyYD4iJf",
        "outputId": "de2f3ddc-54e9-4cb1-a9a0-93a4e88cc763"
      },
      "execution_count": 12,
      "outputs": [
        {
          "output_type": "stream",
          "name": "stdout",
          "text": [
            "car is accelerating\n"
          ]
        }
      ]
    },
    {
      "cell_type": "code",
      "source": [
        "c2 = car()\n",
        "c2.accelerate()"
      ],
      "metadata": {
        "colab": {
          "base_uri": "https://localhost:8080/"
        },
        "id": "XggRs7BY5ni9",
        "outputId": "8531e270-d9df-4965-fd9f-510994434030"
      },
      "execution_count": 13,
      "outputs": [
        {
          "output_type": "stream",
          "name": "stdout",
          "text": [
            "car is accelerating\n"
          ]
        }
      ]
    },
    {
      "cell_type": "code",
      "source": [
        "# in other words the method is referenced to that particular object\n",
        "class car:\n",
        "  def accelerate(self):\n",
        "    print(\"car is accelerating\")\n",
        "  def brake(self):\n",
        "    print(\"car is stopping\")"
      ],
      "metadata": {
        "id": "l3ZqX0Bl5sbS"
      },
      "execution_count": 18,
      "outputs": []
    },
    {
      "cell_type": "code",
      "source": [
        "c1 = car()\n",
        "c1.brake()"
      ],
      "metadata": {
        "colab": {
          "base_uri": "https://localhost:8080/"
        },
        "id": "hgDPuu-S6FhC",
        "outputId": "10c23025-ed70-4067-c8ac-a7cd47b860a9"
      },
      "execution_count": 19,
      "outputs": [
        {
          "output_type": "stream",
          "name": "stdout",
          "text": [
            "car is stopping\n"
          ]
        }
      ]
    },
    {
      "cell_type": "code",
      "source": [
        "c1.accelerate()"
      ],
      "metadata": {
        "colab": {
          "base_uri": "https://localhost:8080/"
        },
        "id": "LRE3yCCw6H09",
        "outputId": "3602af27-2efa-4606-b1be-f7b3b28c9646"
      },
      "execution_count": 20,
      "outputs": [
        {
          "output_type": "stream",
          "name": "stdout",
          "text": [
            "car is accelerating\n"
          ]
        }
      ]
    },
    {
      "cell_type": "code",
      "source": [
        "class bank:\n",
        "  def deposit(yuvraj):\n",
        "    print(\"I am depositing the money\")"
      ],
      "metadata": {
        "id": "jwvjZhGq6dOA"
      },
      "execution_count": 21,
      "outputs": []
    },
    {
      "cell_type": "code",
      "source": [
        "c1 = bank()\n",
        "c1.deposit()"
      ],
      "metadata": {
        "colab": {
          "base_uri": "https://localhost:8080/"
        },
        "id": "Cbm1yO8Z6tej",
        "outputId": "ab4c3bb5-682a-49f1-9235-103961081c26"
      },
      "execution_count": 23,
      "outputs": [
        {
          "output_type": "stream",
          "name": "stdout",
          "text": [
            "I am depositing the money\n"
          ]
        }
      ]
    },
    {
      "cell_type": "code",
      "source": [
        "# self is not python keyword, you can pass any variable name\n",
        "# best practice is to pass self"
      ],
      "metadata": {
        "id": "7qwydO6_6y0B"
      },
      "execution_count": null,
      "outputs": []
    },
    {
      "cell_type": "code",
      "source": [
        "class bank:\n",
        "  def deposit(self):\n",
        "    print(\"I am depositing the money\")\n",
        "  def withdraw(self):\n",
        "    print(\"I am trying to withdraw money\")"
      ],
      "metadata": {
        "id": "5xhrwc_n7IiU"
      },
      "execution_count": 29,
      "outputs": []
    },
    {
      "cell_type": "code",
      "source": [
        "c1 = bank()\n",
        "c1.deposit()\n",
        "c1.withdraw()"
      ],
      "metadata": {
        "colab": {
          "base_uri": "https://localhost:8080/"
        },
        "id": "xXEDI0f17aHf",
        "outputId": "86a3ce9f-28b5-471d-d155-c3d13ab76cb9"
      },
      "execution_count": 30,
      "outputs": [
        {
          "output_type": "stream",
          "name": "stdout",
          "text": [
            "I am depositing the money\n",
            "I am trying to withdraw money\n"
          ]
        }
      ]
    },
    {
      "cell_type": "code",
      "source": [
        "c2 = bank()\n",
        "c2.deposit()"
      ],
      "metadata": {
        "colab": {
          "base_uri": "https://localhost:8080/"
        },
        "id": "iMpSQ5977mBR",
        "outputId": "e6a78ffe-8d77-48e5-e898-c977297266e9"
      },
      "execution_count": 31,
      "outputs": [
        {
          "output_type": "stream",
          "name": "stdout",
          "text": [
            "I am depositing the money\n"
          ]
        }
      ]
    },
    {
      "cell_type": "code",
      "source": [
        "# passing data in the class >> can also be called as property/attribute.\n",
        "class bank:\n",
        "  def deposit(self, amount):\n",
        "    print(\"I am depositing the money\")\n",
        "  def withdraw(self, amount_withdraw):\n",
        "    print(\"I am trying to withdraw money\")"
      ],
      "metadata": {
        "id": "PdUOZ_Ux76Xz"
      },
      "execution_count": 37,
      "outputs": []
    },
    {
      "cell_type": "code",
      "source": [
        "yuvraj = bank()\n",
        "yuvraj.deposit(1000) # Added an argument for the amount"
      ],
      "metadata": {
        "colab": {
          "base_uri": "https://localhost:8080/"
        },
        "id": "3aInmjPM-AEY",
        "outputId": "89057875-a961-470b-df9f-f146064b5d52"
      },
      "execution_count": 39,
      "outputs": [
        {
          "output_type": "stream",
          "name": "stdout",
          "text": [
            "I am depositing the money\n"
          ]
        }
      ]
    },
    {
      "cell_type": "code",
      "source": [
        "yuvraj.withdraw(500)"
      ],
      "metadata": {
        "colab": {
          "base_uri": "https://localhost:8080/"
        },
        "id": "NZRDkIlz-HsC",
        "outputId": "d8b1f082-8382-4e94-ae51-865fab673040"
      },
      "execution_count": 41,
      "outputs": [
        {
          "output_type": "stream",
          "name": "stdout",
          "text": [
            "I am trying to withdraw money\n"
          ]
        }
      ]
    },
    {
      "cell_type": "code",
      "source": [
        "# bank will ask for a default amount, amount is attribute/property/data of class bank\n",
        "class bank:\n",
        "  amount =  1000\n",
        "  def deposit(self, amount):\n",
        "    print(\"I am depositing the money\")\n",
        "  def withdraw(self, amount_withdraw):\n",
        "    print(\"I am trying to withdraw money\")"
      ],
      "metadata": {
        "id": "x1Q-WMpd-5nq"
      },
      "execution_count": 42,
      "outputs": []
    },
    {
      "cell_type": "code",
      "source": [
        "yuvraj = bank()\n",
        "yuvraj.deposit(500)"
      ],
      "metadata": {
        "colab": {
          "base_uri": "https://localhost:8080/"
        },
        "id": "RJ9mngYy_eOs",
        "outputId": "f119d6b0-c709-46be-9a10-b6bd56b70c3c"
      },
      "execution_count": 43,
      "outputs": [
        {
          "output_type": "stream",
          "name": "stdout",
          "text": [
            "I am depositing the money\n"
          ]
        }
      ]
    },
    {
      "cell_type": "code",
      "source": [
        "# attributes/property can be also accessed the same way as methods/functions are accessed"
      ],
      "metadata": {
        "id": "yq9zqEDC_t2Q"
      },
      "execution_count": null,
      "outputs": []
    },
    {
      "cell_type": "code",
      "source": [
        "yuvraj.amount"
      ],
      "metadata": {
        "colab": {
          "base_uri": "https://localhost:8080/"
        },
        "id": "AB24i0vw_6Gq",
        "outputId": "22b21339-d174-4718-b998-8577e67a4841"
      },
      "execution_count": 44,
      "outputs": [
        {
          "output_type": "execute_result",
          "data": {
            "text/plain": [
              "1000"
            ]
          },
          "metadata": {},
          "execution_count": 44
        }
      ]
    },
    {
      "cell_type": "code",
      "source": [
        "# extract odd and even number from a list\n",
        "class Listops:\n",
        "  l = [1,2,3,4,5]\n",
        "  def extract_even(self,l):\n",
        "    l1 = []\n",
        "    for i in l:\n",
        "      if i%2 == 0:\n",
        "        l1.append(i)\n",
        "    return l1\n",
        "\n",
        "  def extract_odd(self, l):\n",
        "    l1 = []\n",
        "    for i in l:\n",
        "      if i%2 != 0:\n",
        "        l1.append(i)\n",
        "    return l1"
      ],
      "metadata": {
        "id": "50W8ACx3_8Fe"
      },
      "execution_count": 55,
      "outputs": []
    },
    {
      "cell_type": "code",
      "source": [
        "ops1 = Listops()\n",
        "ops1.l"
      ],
      "metadata": {
        "colab": {
          "base_uri": "https://localhost:8080/"
        },
        "id": "PIYXekt-BIvq",
        "outputId": "543bd9fc-a4aa-460d-ccb2-20a99ded45b9"
      },
      "execution_count": 56,
      "outputs": [
        {
          "output_type": "execute_result",
          "data": {
            "text/plain": [
              "[1, 2, 3, 4, 5]"
            ]
          },
          "metadata": {},
          "execution_count": 56
        }
      ]
    },
    {
      "cell_type": "code",
      "source": [
        "ops1.extract_even(ops1.l)"
      ],
      "metadata": {
        "colab": {
          "base_uri": "https://localhost:8080/"
        },
        "id": "oWjP4YKwBsfx",
        "outputId": "a2d3f09d-aa6c-4eae-be79-48cfe1302463"
      },
      "execution_count": 57,
      "outputs": [
        {
          "output_type": "execute_result",
          "data": {
            "text/plain": [
              "[2, 4]"
            ]
          },
          "metadata": {},
          "execution_count": 57
        }
      ]
    },
    {
      "cell_type": "code",
      "source": [
        "ops1.extract_odd([8,11,12,14])"
      ],
      "metadata": {
        "colab": {
          "base_uri": "https://localhost:8080/"
        },
        "id": "6bqfa2nXB2YE",
        "outputId": "d66e824c-a395-4893-c95d-16347c102178"
      },
      "execution_count": 58,
      "outputs": [
        {
          "output_type": "execute_result",
          "data": {
            "text/plain": [
              "[11]"
            ]
          },
          "metadata": {},
          "execution_count": 58
        }
      ]
    },
    {
      "cell_type": "code",
      "source": [
        "# if you make any object the attribute l is fixed\n",
        "ops1.l"
      ],
      "metadata": {
        "colab": {
          "base_uri": "https://localhost:8080/"
        },
        "id": "7Xwr6ZhsCiVK",
        "outputId": "62c43d47-61c1-4757-c824-28ddc3b691f9"
      },
      "execution_count": 59,
      "outputs": [
        {
          "output_type": "execute_result",
          "data": {
            "text/plain": [
              "[1, 2, 3, 4, 5]"
            ]
          },
          "metadata": {},
          "execution_count": 59
        }
      ]
    },
    {
      "cell_type": "code",
      "source": [
        "# despite of passing a different list above you are still getting the fixed l ([1,2,3,4,5])\n",
        "ops1.l"
      ],
      "metadata": {
        "colab": {
          "base_uri": "https://localhost:8080/"
        },
        "id": "IhWg72FEDEMG",
        "outputId": "8aa766fb-d821-417b-df79-6ab0b242b561"
      },
      "execution_count": 60,
      "outputs": [
        {
          "output_type": "execute_result",
          "data": {
            "text/plain": [
              "[1, 2, 3, 4, 5]"
            ]
          },
          "metadata": {},
          "execution_count": 60
        }
      ]
    },
    {
      "cell_type": "code",
      "source": [
        "# you want to take the attribute value of the class for each object differently"
      ],
      "metadata": {
        "id": "hZA6XMxSDT7w"
      },
      "execution_count": null,
      "outputs": []
    },
    {
      "cell_type": "code",
      "source": [
        "class Listops:\n",
        "  def __init__(self, l): # magic method/dunder method init means initialisation >> of value.\n",
        "    self.l=l\n",
        "\n",
        "  def extract_even(self): # be careful as init has been used only pass self in the method and not the variable again.\n",
        "    l1 = []\n",
        "    for i in self.l:\n",
        "      if i%2 == 0:\n",
        "        l1.append(i)\n",
        "    return l1\n",
        "\n",
        "\n",
        "  def extract_odd(self):\n",
        "    l1 = []\n",
        "    for i in self.l:\n",
        "      if i % 2 != 0:\n",
        "        l1.append(i)\n",
        "    return l1"
      ],
      "metadata": {
        "id": "sFO8r8PqDdf8"
      },
      "execution_count": 72,
      "outputs": []
    },
    {
      "cell_type": "code",
      "source": [
        "ops1 = Listops()  # throw an error, while making object/instance of the class, the first method that is executed is __init__"
      ],
      "metadata": {
        "colab": {
          "base_uri": "https://localhost:8080/",
          "height": 141
        },
        "id": "oyO2Lab8Drj3",
        "outputId": "834e3e20-f2af-48c8-922a-5d89fec6dba7"
      },
      "execution_count": 64,
      "outputs": [
        {
          "output_type": "error",
          "ename": "TypeError",
          "evalue": "Listops.__init__() missing 1 required positional argument: 'l'",
          "traceback": [
            "\u001b[0;31m---------------------------------------------------------------------------\u001b[0m",
            "\u001b[0;31mTypeError\u001b[0m                                 Traceback (most recent call last)",
            "\u001b[0;32m/tmp/ipython-input-1357439843.py\u001b[0m in \u001b[0;36m<cell line: 0>\u001b[0;34m()\u001b[0m\n\u001b[0;32m----> 1\u001b[0;31m \u001b[0mops1\u001b[0m \u001b[0;34m=\u001b[0m \u001b[0mListops\u001b[0m\u001b[0;34m(\u001b[0m\u001b[0;34m)\u001b[0m  \u001b[0;31m#\u001b[0m\u001b[0;34m\u001b[0m\u001b[0;34m\u001b[0m\u001b[0m\n\u001b[0m",
            "\u001b[0;31mTypeError\u001b[0m: Listops.__init__() missing 1 required positional argument: 'l'"
          ]
        }
      ]
    },
    {
      "cell_type": "code",
      "source": [
        "# and init needs arguement(l)\n",
        "opsl = Listops([1,10,30,31,4,5])\n",
        "ops1.l"
      ],
      "metadata": {
        "colab": {
          "base_uri": "https://localhost:8080/"
        },
        "id": "UUO39IPYFtmS",
        "outputId": "71ff3d15-8eac-4fb3-ff14-31b60e3a4271"
      },
      "execution_count": 65,
      "outputs": [
        {
          "output_type": "execute_result",
          "data": {
            "text/plain": [
              "[1, 2, 3, 4, 5]"
            ]
          },
          "metadata": {},
          "execution_count": 65
        }
      ]
    },
    {
      "cell_type": "code",
      "source": [
        "ops2 = Listops([1,1,1,30,31,4,5])\n",
        "ops2.l"
      ],
      "metadata": {
        "colab": {
          "base_uri": "https://localhost:8080/"
        },
        "id": "MEmYa_rwGQsL",
        "outputId": "6fcd1e2a-8a0b-4c67-f872-e7cb7a37de33"
      },
      "execution_count": 68,
      "outputs": [
        {
          "output_type": "execute_result",
          "data": {
            "text/plain": [
              "[1, 1, 1, 30, 31, 4, 5]"
            ]
          },
          "metadata": {},
          "execution_count": 68
        }
      ]
    },
    {
      "cell_type": "code",
      "source": [
        "ops1:extract_even() # throw an error see the explanation below"
      ],
      "metadata": {
        "colab": {
          "base_uri": "https://localhost:8080/",
          "height": 141
        },
        "id": "WY8eOQUAGc-D",
        "outputId": "fc6dd31c-f1c7-49a3-86f0-d531dabeaca6"
      },
      "execution_count": 69,
      "outputs": [
        {
          "output_type": "error",
          "ename": "NameError",
          "evalue": "name 'extract_even' is not defined",
          "traceback": [
            "\u001b[0;31m---------------------------------------------------------------------------\u001b[0m",
            "\u001b[0;31mNameError\u001b[0m                                 Traceback (most recent call last)",
            "\u001b[0;32m/tmp/ipython-input-422001676.py\u001b[0m in \u001b[0;36m<cell line: 0>\u001b[0;34m()\u001b[0m\n\u001b[0;32m----> 1\u001b[0;31m \u001b[0mops1\u001b[0m\u001b[0;34m:\u001b[0m\u001b[0mextract_even\u001b[0m\u001b[0;34m(\u001b[0m\u001b[0;34m)\u001b[0m \u001b[0;31m# throw an error see the explanation below\u001b[0m\u001b[0;34m\u001b[0m\u001b[0;34m\u001b[0m\u001b[0m\n\u001b[0m",
            "\u001b[0;31mNameError\u001b[0m: name 'extract_even' is not defined"
          ]
        }
      ]
    },
    {
      "cell_type": "code",
      "source": [
        "ops1 = Listops([1,8,9,11,12])\n",
        "ops1.extract_odd()"
      ],
      "metadata": {
        "colab": {
          "base_uri": "https://localhost:8080/"
        },
        "id": "3TbRHfvvGtTs",
        "outputId": "ed53f7c0-73d2-4161-ed77-b2cad3e9cae2"
      },
      "execution_count": 73,
      "outputs": [
        {
          "output_type": "execute_result",
          "data": {
            "text/plain": [
              "[1, 9, 11]"
            ]
          },
          "metadata": {},
          "execution_count": 73
        }
      ]
    },
    {
      "cell_type": "code",
      "source": [
        "ops1.extract_even()"
      ],
      "metadata": {
        "colab": {
          "base_uri": "https://localhost:8080/"
        },
        "id": "xMvOe8oHG6NT",
        "outputId": "5f68a1bc-da00-4693-e35a-9bb2e8ba3799"
      },
      "execution_count": 74,
      "outputs": [
        {
          "output_type": "execute_result",
          "data": {
            "text/plain": [
              "[8, 12]"
            ]
          },
          "metadata": {},
          "execution_count": 74
        }
      ]
    },
    {
      "cell_type": "code",
      "source": [
        "# multiple atributes\n",
        "# In a library a book is associated with author, title, name"
      ],
      "metadata": {
        "id": "lxFe4ooHHUn6"
      },
      "execution_count": null,
      "outputs": []
    },
    {
      "cell_type": "code",
      "source": [
        "class book:\n",
        "  def __init__(self,name,author,title):\n",
        "    self.name_of_book = name\n",
        "    self.book_author = author\n",
        "    self.title_name = title\n",
        "\n",
        "  def extract_details_name_title(self):\n",
        "    print(self.name_of_book, self.title_name)\n",
        "\n",
        "  def extract_details_name_author(self):\n",
        "    print(self.name_of_book, self.book_author)"
      ],
      "metadata": {
        "id": "kICpFZGbHkQu"
      },
      "execution_count": 78,
      "outputs": []
    },
    {
      "cell_type": "code",
      "source": [
        "student1 = book(\"ML\",\"murphy\",\"Linear regression\")\n",
        "student1.extract_details_name_author()"
      ],
      "metadata": {
        "colab": {
          "base_uri": "https://localhost:8080/"
        },
        "id": "DAM2lcWNIkM5",
        "outputId": "1a26be06-ab3a-4e0f-8be3-32e7b528a4eb"
      },
      "execution_count": 79,
      "outputs": [
        {
          "output_type": "stream",
          "name": "stdout",
          "text": [
            "ML murphy\n"
          ]
        }
      ]
    },
    {
      "cell_type": "code",
      "source": [
        "student1.extract_details_name_title()"
      ],
      "metadata": {
        "colab": {
          "base_uri": "https://localhost:8080/"
        },
        "id": "IyrIoBe0I2_8",
        "outputId": "bdee53a1-cc4e-4a21-b50b-42ef632dabb2"
      },
      "execution_count": 80,
      "outputs": [
        {
          "output_type": "stream",
          "name": "stdout",
          "text": [
            "ML Linear regression\n"
          ]
        }
      ]
    },
    {
      "cell_type": "code",
      "source": [
        "student2 = book(\"stats\",\"joss\",\"descriptive stats\")\n",
        "student2.extract_details_name_author()"
      ],
      "metadata": {
        "colab": {
          "base_uri": "https://localhost:8080/"
        },
        "id": "T1tw9PxKJHrN",
        "outputId": "a06d9f67-7e8a-4f75-dcc3-f61bf3c65809"
      },
      "execution_count": 81,
      "outputs": [
        {
          "output_type": "stream",
          "name": "stdout",
          "text": [
            "stats joss\n"
          ]
        }
      ]
    },
    {
      "cell_type": "code",
      "source": [
        "# multiple attributes\n",
        "# in a library a book is associated with author, title, name\n",
        "# every variable is fixed\n",
        "class book:\n",
        "  def __init__(self):\n",
        "    self.name_of_book = \"DSA\"\n",
        "    self.book_author = \"cormen\"\n",
        "    self.title_name = \"stacks\"\n",
        "\n",
        "  def extract_details_name_title(self):\n",
        "    print(self.name_of_book, self.title_name)\n",
        "\n",
        "  def extract_details_name_author(self):\n",
        "    print(self.name_of_book, self.book_author)"
      ],
      "metadata": {
        "id": "a3YTBOrFJZXo"
      },
      "execution_count": 84,
      "outputs": []
    },
    {
      "cell_type": "code",
      "source": [
        "student1 = book()\n",
        "student1.extract_details_name_author()"
      ],
      "metadata": {
        "colab": {
          "base_uri": "https://localhost:8080/"
        },
        "id": "mcKN7tQTK57G",
        "outputId": "acc3c782-67be-4b7d-9f40-95cadbbfaed9"
      },
      "execution_count": 85,
      "outputs": [
        {
          "output_type": "stream",
          "name": "stdout",
          "text": [
            "DSA cormen\n"
          ]
        }
      ]
    },
    {
      "cell_type": "code",
      "source": [
        "student2 = book()\n",
        "student1.extract_details_name_title()"
      ],
      "metadata": {
        "colab": {
          "base_uri": "https://localhost:8080/"
        },
        "id": "jYIeY8ZKLAwy",
        "outputId": "0fd8ea80-05fe-4348-9644-1e83a9229772"
      },
      "execution_count": 87,
      "outputs": [
        {
          "output_type": "stream",
          "name": "stdout",
          "text": [
            "DSA stacks\n"
          ]
        }
      ]
    },
    {
      "cell_type": "code",
      "source": [],
      "metadata": {
        "id": "cxwcz_vxLhGi"
      },
      "execution_count": null,
      "outputs": []
    }
  ]
}
